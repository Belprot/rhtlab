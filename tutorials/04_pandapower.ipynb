{
 "cells": [
  {
   "cell_type": "markdown",
   "metadata": {},
   "source": [
    "**pandapower – A Short Introduction**\n",
    "\n",
    "This tutorial explains **panda**power library basis used in RHT laboratories. **panda**power is an easy to use tool for loadflow and short-circuit calculations in power systems. To go further, we recommend you take a look at these two\n",
    "- [**panda**power's documentation](https://pandapower.readthedocs.io/en/v2.13.1/elements/trafo.html).\n",
    "- [**panda**power's tutorials](https://www.pandapower.org/start/#interactive-tutorials-).\n",
    "- [**panda**power_heig_ui's documentation](https://heig-vd-iese.github.io/pandapower-heig-ui/)."
   ]
  },
  {
   "cell_type": "markdown",
   "metadata": {
    "tags": []
   },
   "source": [
    "# Create a small power network\n",
    "\n",
    "We consider the following simple 3-bus example network from [**panda**power's tutorial](https://github.com/e2nIEE/pandapower/blob/master/tutorials/minimal_example.ipynb).\n",
    "\n",
    "<img alt=\"pandapower with 2-bus minimal example\" width =\"600\" caption=\"Figure 1 – A minimal example with a 2-bus power system including PQ-load\" src=\"https://github.com/e2nIEE/pandapower/raw/develop/tutorials/pics/3bus-system.png\" id=\"pandapower_simple\"/>\n",
    "\n",
    "The above network can be created in pandapower as follows:"
   ]
  },
  {
   "cell_type": "code",
   "execution_count": 1,
   "metadata": {
    "ExecuteTime": {
     "end_time": "2023-08-28T13:58:51.440978800Z",
     "start_time": "2023-08-28T13:58:50.498163700Z"
    }
   },
   "outputs": [],
   "source": [
    "import pandapower as pp"
   ]
  },
  {
   "cell_type": "markdown",
   "metadata": {},
   "source": [
    "## Create a **panda**power empty power network object"
   ]
  },
  {
   "cell_type": "markdown",
   "metadata": {},
   "source": [
    "In order to create an empty network object, we can run the following **panda**power command:"
   ]
  },
  {
   "cell_type": "code",
   "execution_count": 2,
   "metadata": {
    "ExecuteTime": {
     "end_time": "2023-08-28T13:58:51.475706300Z",
     "start_time": "2023-08-28T13:58:51.454856100Z"
    }
   },
   "outputs": [
    {
     "data": {
      "text/plain": [
       "This pandapower network is empty"
      ]
     },
     "execution_count": 2,
     "metadata": {},
     "output_type": "execute_result"
    }
   ],
   "source": [
    "# Create an empty network\n",
    "net = pp.create_empty_network()\n",
    "net"
   ]
  },
  {
   "cell_type": "markdown",
   "metadata": {},
   "source": [
    "The empty network object is composed by a dictionary of pandas DataFrame."
   ]
  },
  {
   "cell_type": "markdown",
   "metadata": {},
   "source": [
    "## Create three buses with different voltage levels"
   ]
  },
  {
   "cell_type": "markdown",
   "metadata": {},
   "source": [
    "We need three buses with different voltage levels and names, buses are the elements which connect equipments together:"
   ]
  },
  {
   "cell_type": "code",
   "execution_count": 3,
   "metadata": {
    "ExecuteTime": {
     "end_time": "2023-08-28T13:58:51.480801500Z",
     "start_time": "2023-08-28T13:58:51.470656800Z"
    }
   },
   "outputs": [],
   "source": [
    "# Create buses\n",
    "bus1 = pp.create_bus(net, vn_kv=20., name=\"Bus 1\")\n",
    "bus2 = pp.create_bus(net, vn_kv=0.4, name=\"Bus 2\")\n",
    "bus3 = pp.create_bus(net, vn_kv=0.4, name=\"Bus 3\")"
   ]
  },
  {
   "cell_type": "markdown",
   "metadata": {},
   "source": [
    "**Remark**: We need to pay attention that voltage levels are express in kV and correspond to line voltages."
   ]
  },
  {
   "cell_type": "markdown",
   "metadata": {},
   "source": [
    "## Creating a transformer and connecting it to the network"
   ]
  },
  {
   "cell_type": "markdown",
   "metadata": {},
   "source": [
    "For a full understanding of the parameters to be applied, please read the [documentation](https://pandapower.readthedocs.io/en/v2.13.1/elements/trafo.html) carefully. \n",
    "\n",
    "In order to create the transformer object that will be connection to the network previously created, we can proceed as follows:"
   ]
  },
  {
   "cell_type": "code",
   "execution_count": 4,
   "metadata": {
    "ExecuteTime": {
     "end_time": "2023-08-28T13:58:51.500906200Z",
     "start_time": "2023-08-28T13:58:51.480801500Z"
    }
   },
   "outputs": [],
   "source": [
    "# Create transformer\n",
    "trafo = pp.create_transformer_from_parameters(\n",
    "    net, hv_bus=bus1, lv_bus=bus2, sn_mva=0.4, vn_hv_kv=20.0, vn_lv_kv=0.4, vk_percent=6.0, vkr_percent=1.425, pfe_kw=1.35, i0_percent=0.3375, name=\"Trafo\")\n",
    "\n",
    "# trafo = pp.create_transformer(net, hv_bus=bus1, lv_bus=bus2, std_type=\"0.4 MVA 20/0.4 kV\", name=\"Trafo\")"
   ]
  },
  {
   "cell_type": "markdown",
   "metadata": {},
   "source": [
    "**Remark**: pay attention in parameters units and in voltage levels matchs."
   ]
  },
  {
   "cell_type": "markdown",
   "metadata": {},
   "source": [
    "### Create a transmission line and connect it to the network"
   ]
  },
  {
   "cell_type": "code",
   "execution_count": 5,
   "metadata": {
    "ExecuteTime": {
     "end_time": "2023-08-28T13:58:51.500906200Z",
     "start_time": "2023-08-28T13:58:51.495817Z"
    }
   },
   "outputs": [],
   "source": [
    "line = pp.create_line_from_parameters(net, from_bus=bus2, to_bus=bus3, length_km=0.1, r_ohm_per_km=0.642, x_ohm_per_km=0.083, c_nf_per_km=210, max_i_ka=0.142, name=\"Line\")"
   ]
  },
  {
   "cell_type": "markdown",
   "metadata": {},
   "source": [
    "### Create a load connect it to the network"
   ]
  },
  {
   "cell_type": "code",
   "execution_count": 6,
   "metadata": {
    "ExecuteTime": {
     "end_time": "2023-08-28T13:58:51.540874Z",
     "start_time": "2023-08-28T13:58:51.510945100Z"
    }
   },
   "outputs": [],
   "source": [
    "# Create bus elements\n",
    "load = pp.create_load(net, bus=bus3, p_mw=0.100, q_mvar=0.05, name=\"Load\")"
   ]
  },
  {
   "cell_type": "markdown",
   "metadata": {},
   "source": [
    "### Create an external grid connection"
   ]
  },
  {
   "cell_type": "markdown",
   "metadata": {},
   "source": [
    "This element is mandatory to be able to perform powerflow simulations. It insures to keep powers balanced within the power network:"
   ]
  },
  {
   "cell_type": "code",
   "execution_count": 7,
   "metadata": {
    "ExecuteTime": {
     "end_time": "2023-08-28T13:58:51.540874Z",
     "start_time": "2023-08-28T13:58:51.510945100Z"
    }
   },
   "outputs": [],
   "source": [
    "ext_grid = pp.create_ext_grid(net, bus=bus1, vm_pu=1.20, name=\"Grid Connection\")"
   ]
  },
  {
   "cell_type": "markdown",
   "metadata": {},
   "source": [
    "# Data structure and data access\n",
    "\n",
    "A **panda**power network object is structured as a dictionary:\n",
    "\n",
    "- Keys are the type names of power network equipments names such as line, load transformer, etc. (string).\n",
    "- Values are tables which contains all the information needed about their corresponding equipments (pandas DataFrame).\n",
    " \n",
    "By calling the network have a quick overview of it and the number of element for each equipment."
   ]
  },
  {
   "cell_type": "code",
   "execution_count": 8,
   "metadata": {
    "ExecuteTime": {
     "end_time": "2023-08-28T13:58:51.540874Z",
     "start_time": "2023-08-28T13:58:51.516020600Z"
    }
   },
   "outputs": [
    {
     "data": {
      "text/plain": [
       "This pandapower network includes the following parameter tables:\n",
       "   - bus (3 elements)\n",
       "   - load (1 element)\n",
       "   - ext_grid (1 element)\n",
       "   - line (1 element)\n",
       "   - trafo (1 element)"
      ]
     },
     "execution_count": 8,
     "metadata": {},
     "output_type": "execute_result"
    }
   ],
   "source": [
    "net"
   ]
  },
  {
   "cell_type": "markdown",
   "metadata": {},
   "source": [
    "There are two ways to get the one equipment type table:\n",
    "\n",
    "- By using the dictionary way to call values.\n",
    "- By using the pandapower object."
   ]
  },
  {
   "cell_type": "code",
   "execution_count": 9,
   "metadata": {
    "ExecuteTime": {
     "end_time": "2023-08-28T13:58:51.540874Z",
     "start_time": "2023-08-28T13:58:51.520596400Z"
    }
   },
   "outputs": [
    {
     "data": {
      "text/html": [
       "<div>\n",
       "<style scoped>\n",
       "    .dataframe tbody tr th:only-of-type {\n",
       "        vertical-align: middle;\n",
       "    }\n",
       "\n",
       "    .dataframe tbody tr th {\n",
       "        vertical-align: top;\n",
       "    }\n",
       "\n",
       "    .dataframe thead th {\n",
       "        text-align: right;\n",
       "    }\n",
       "</style>\n",
       "<table border=\"1\" class=\"dataframe\">\n",
       "  <thead>\n",
       "    <tr style=\"text-align: right;\">\n",
       "      <th></th>\n",
       "      <th>name</th>\n",
       "      <th>vn_kv</th>\n",
       "      <th>type</th>\n",
       "      <th>zone</th>\n",
       "      <th>in_service</th>\n",
       "    </tr>\n",
       "  </thead>\n",
       "  <tbody>\n",
       "    <tr>\n",
       "      <th>0</th>\n",
       "      <td>Bus 1</td>\n",
       "      <td>20.0</td>\n",
       "      <td>b</td>\n",
       "      <td>None</td>\n",
       "      <td>True</td>\n",
       "    </tr>\n",
       "    <tr>\n",
       "      <th>1</th>\n",
       "      <td>Bus 2</td>\n",
       "      <td>0.4</td>\n",
       "      <td>b</td>\n",
       "      <td>None</td>\n",
       "      <td>True</td>\n",
       "    </tr>\n",
       "    <tr>\n",
       "      <th>2</th>\n",
       "      <td>Bus 3</td>\n",
       "      <td>0.4</td>\n",
       "      <td>b</td>\n",
       "      <td>None</td>\n",
       "      <td>True</td>\n",
       "    </tr>\n",
       "  </tbody>\n",
       "</table>\n",
       "</div>"
      ],
      "text/plain": [
       "    name  vn_kv type  zone  in_service\n",
       "0  Bus 1   20.0    b  None        True\n",
       "1  Bus 2    0.4    b  None        True\n",
       "2  Bus 3    0.4    b  None        True"
      ]
     },
     "execution_count": 9,
     "metadata": {},
     "output_type": "execute_result"
    }
   ],
   "source": [
    "net[\"bus\"]"
   ]
  },
  {
   "cell_type": "code",
   "execution_count": 10,
   "metadata": {
    "ExecuteTime": {
     "end_time": "2023-08-28T13:58:51.540874Z",
     "start_time": "2023-08-28T13:58:51.530810600Z"
    }
   },
   "outputs": [
    {
     "data": {
      "text/plain": [
       "pandas.core.frame.DataFrame"
      ]
     },
     "execution_count": 10,
     "metadata": {},
     "output_type": "execute_result"
    }
   ],
   "source": [
    "type(net[\"bus\"])"
   ]
  },
  {
   "cell_type": "code",
   "execution_count": 11,
   "metadata": {
    "ExecuteTime": {
     "end_time": "2023-08-28T13:58:51.563291500Z",
     "start_time": "2023-08-28T13:58:51.540874Z"
    }
   },
   "outputs": [
    {
     "data": {
      "text/html": [
       "<div>\n",
       "<style scoped>\n",
       "    .dataframe tbody tr th:only-of-type {\n",
       "        vertical-align: middle;\n",
       "    }\n",
       "\n",
       "    .dataframe tbody tr th {\n",
       "        vertical-align: top;\n",
       "    }\n",
       "\n",
       "    .dataframe thead th {\n",
       "        text-align: right;\n",
       "    }\n",
       "</style>\n",
       "<table border=\"1\" class=\"dataframe\">\n",
       "  <thead>\n",
       "    <tr style=\"text-align: right;\">\n",
       "      <th></th>\n",
       "      <th>name</th>\n",
       "      <th>vn_kv</th>\n",
       "      <th>type</th>\n",
       "      <th>zone</th>\n",
       "      <th>in_service</th>\n",
       "    </tr>\n",
       "  </thead>\n",
       "  <tbody>\n",
       "    <tr>\n",
       "      <th>0</th>\n",
       "      <td>Bus 1</td>\n",
       "      <td>20.0</td>\n",
       "      <td>b</td>\n",
       "      <td>None</td>\n",
       "      <td>True</td>\n",
       "    </tr>\n",
       "    <tr>\n",
       "      <th>1</th>\n",
       "      <td>Bus 2</td>\n",
       "      <td>0.4</td>\n",
       "      <td>b</td>\n",
       "      <td>None</td>\n",
       "      <td>True</td>\n",
       "    </tr>\n",
       "    <tr>\n",
       "      <th>2</th>\n",
       "      <td>Bus 3</td>\n",
       "      <td>0.4</td>\n",
       "      <td>b</td>\n",
       "      <td>None</td>\n",
       "      <td>True</td>\n",
       "    </tr>\n",
       "  </tbody>\n",
       "</table>\n",
       "</div>"
      ],
      "text/plain": [
       "    name  vn_kv type  zone  in_service\n",
       "0  Bus 1   20.0    b  None        True\n",
       "1  Bus 2    0.4    b  None        True\n",
       "2  Bus 3    0.4    b  None        True"
      ]
     },
     "execution_count": 11,
     "metadata": {},
     "output_type": "execute_result"
    }
   ],
   "source": [
    "net.bus"
   ]
  },
  {
   "cell_type": "code",
   "execution_count": 12,
   "metadata": {
    "ExecuteTime": {
     "end_time": "2023-08-28T13:58:51.563291500Z",
     "start_time": "2023-08-28T13:58:51.552126700Z"
    }
   },
   "outputs": [
    {
     "data": {
      "text/html": [
       "<div>\n",
       "<style scoped>\n",
       "    .dataframe tbody tr th:only-of-type {\n",
       "        vertical-align: middle;\n",
       "    }\n",
       "\n",
       "    .dataframe tbody tr th {\n",
       "        vertical-align: top;\n",
       "    }\n",
       "\n",
       "    .dataframe thead th {\n",
       "        text-align: right;\n",
       "    }\n",
       "</style>\n",
       "<table border=\"1\" class=\"dataframe\">\n",
       "  <thead>\n",
       "    <tr style=\"text-align: right;\">\n",
       "      <th></th>\n",
       "      <th>name</th>\n",
       "      <th>std_type</th>\n",
       "      <th>hv_bus</th>\n",
       "      <th>lv_bus</th>\n",
       "      <th>sn_mva</th>\n",
       "      <th>vn_hv_kv</th>\n",
       "      <th>vn_lv_kv</th>\n",
       "      <th>vk_percent</th>\n",
       "      <th>vkr_percent</th>\n",
       "      <th>pfe_kw</th>\n",
       "      <th>i0_percent</th>\n",
       "      <th>shift_degree</th>\n",
       "      <th>tap_side</th>\n",
       "      <th>tap_neutral</th>\n",
       "      <th>tap_min</th>\n",
       "      <th>tap_max</th>\n",
       "      <th>tap_step_percent</th>\n",
       "      <th>tap_step_degree</th>\n",
       "      <th>tap_pos</th>\n",
       "      <th>tap_phase_shifter</th>\n",
       "      <th>parallel</th>\n",
       "      <th>df</th>\n",
       "      <th>in_service</th>\n",
       "    </tr>\n",
       "  </thead>\n",
       "  <tbody>\n",
       "    <tr>\n",
       "      <th>0</th>\n",
       "      <td>Trafo</td>\n",
       "      <td>None</td>\n",
       "      <td>0</td>\n",
       "      <td>1</td>\n",
       "      <td>0.4</td>\n",
       "      <td>20.0</td>\n",
       "      <td>0.4</td>\n",
       "      <td>6.0</td>\n",
       "      <td>1.425</td>\n",
       "      <td>1.35</td>\n",
       "      <td>0.3375</td>\n",
       "      <td>0.0</td>\n",
       "      <td>None</td>\n",
       "      <td>NaN</td>\n",
       "      <td>NaN</td>\n",
       "      <td>NaN</td>\n",
       "      <td>NaN</td>\n",
       "      <td>NaN</td>\n",
       "      <td>NaN</td>\n",
       "      <td>False</td>\n",
       "      <td>1</td>\n",
       "      <td>1.0</td>\n",
       "      <td>True</td>\n",
       "    </tr>\n",
       "  </tbody>\n",
       "</table>\n",
       "</div>"
      ],
      "text/plain": [
       "    name std_type  hv_bus  lv_bus  sn_mva  vn_hv_kv  vn_lv_kv  vk_percent  \\\n",
       "0  Trafo     None       0       1     0.4      20.0       0.4         6.0   \n",
       "\n",
       "   vkr_percent  pfe_kw  i0_percent  shift_degree tap_side  tap_neutral  \\\n",
       "0        1.425    1.35      0.3375           0.0     None          NaN   \n",
       "\n",
       "   tap_min  tap_max  tap_step_percent  tap_step_degree  tap_pos  \\\n",
       "0      NaN      NaN               NaN              NaN      NaN   \n",
       "\n",
       "   tap_phase_shifter  parallel   df  in_service  \n",
       "0              False         1  1.0        True  "
      ]
     },
     "execution_count": 12,
     "metadata": {},
     "output_type": "execute_result"
    }
   ],
   "source": [
    "net.trafo"
   ]
  },
  {
   "cell_type": "code",
   "execution_count": 13,
   "metadata": {
    "ExecuteTime": {
     "end_time": "2023-08-28T13:58:51.640814800Z",
     "start_time": "2023-08-28T13:58:51.563291500Z"
    }
   },
   "outputs": [
    {
     "data": {
      "text/html": [
       "<div>\n",
       "<style scoped>\n",
       "    .dataframe tbody tr th:only-of-type {\n",
       "        vertical-align: middle;\n",
       "    }\n",
       "\n",
       "    .dataframe tbody tr th {\n",
       "        vertical-align: top;\n",
       "    }\n",
       "\n",
       "    .dataframe thead th {\n",
       "        text-align: right;\n",
       "    }\n",
       "</style>\n",
       "<table border=\"1\" class=\"dataframe\">\n",
       "  <thead>\n",
       "    <tr style=\"text-align: right;\">\n",
       "      <th></th>\n",
       "      <th>name</th>\n",
       "      <th>std_type</th>\n",
       "      <th>from_bus</th>\n",
       "      <th>to_bus</th>\n",
       "      <th>length_km</th>\n",
       "      <th>r_ohm_per_km</th>\n",
       "      <th>x_ohm_per_km</th>\n",
       "      <th>c_nf_per_km</th>\n",
       "      <th>g_us_per_km</th>\n",
       "      <th>max_i_ka</th>\n",
       "      <th>df</th>\n",
       "      <th>parallel</th>\n",
       "      <th>type</th>\n",
       "      <th>in_service</th>\n",
       "    </tr>\n",
       "  </thead>\n",
       "  <tbody>\n",
       "    <tr>\n",
       "      <th>0</th>\n",
       "      <td>Line</td>\n",
       "      <td>None</td>\n",
       "      <td>1</td>\n",
       "      <td>2</td>\n",
       "      <td>0.1</td>\n",
       "      <td>0.642</td>\n",
       "      <td>0.083</td>\n",
       "      <td>210.0</td>\n",
       "      <td>0.0</td>\n",
       "      <td>0.142</td>\n",
       "      <td>1.0</td>\n",
       "      <td>1</td>\n",
       "      <td>None</td>\n",
       "      <td>True</td>\n",
       "    </tr>\n",
       "  </tbody>\n",
       "</table>\n",
       "</div>"
      ],
      "text/plain": [
       "   name std_type  from_bus  to_bus  length_km  r_ohm_per_km  x_ohm_per_km  \\\n",
       "0  Line     None         1       2        0.1         0.642         0.083   \n",
       "\n",
       "   c_nf_per_km  g_us_per_km  max_i_ka   df  parallel  type  in_service  \n",
       "0        210.0          0.0     0.142  1.0         1  None        True  "
      ]
     },
     "execution_count": 13,
     "metadata": {},
     "output_type": "execute_result"
    }
   ],
   "source": [
    "net.line"
   ]
  },
  {
   "cell_type": "code",
   "execution_count": 14,
   "metadata": {
    "ExecuteTime": {
     "end_time": "2023-08-28T13:58:51.640814800Z",
     "start_time": "2023-08-28T13:58:51.570955400Z"
    }
   },
   "outputs": [
    {
     "data": {
      "text/html": [
       "<div>\n",
       "<style scoped>\n",
       "    .dataframe tbody tr th:only-of-type {\n",
       "        vertical-align: middle;\n",
       "    }\n",
       "\n",
       "    .dataframe tbody tr th {\n",
       "        vertical-align: top;\n",
       "    }\n",
       "\n",
       "    .dataframe thead th {\n",
       "        text-align: right;\n",
       "    }\n",
       "</style>\n",
       "<table border=\"1\" class=\"dataframe\">\n",
       "  <thead>\n",
       "    <tr style=\"text-align: right;\">\n",
       "      <th></th>\n",
       "      <th>name</th>\n",
       "      <th>bus</th>\n",
       "      <th>p_mw</th>\n",
       "      <th>q_mvar</th>\n",
       "      <th>const_z_percent</th>\n",
       "      <th>const_i_percent</th>\n",
       "      <th>sn_mva</th>\n",
       "      <th>scaling</th>\n",
       "      <th>in_service</th>\n",
       "      <th>type</th>\n",
       "    </tr>\n",
       "  </thead>\n",
       "  <tbody>\n",
       "    <tr>\n",
       "      <th>0</th>\n",
       "      <td>Load</td>\n",
       "      <td>2</td>\n",
       "      <td>0.1</td>\n",
       "      <td>0.05</td>\n",
       "      <td>0.0</td>\n",
       "      <td>0.0</td>\n",
       "      <td>NaN</td>\n",
       "      <td>1.0</td>\n",
       "      <td>True</td>\n",
       "      <td>wye</td>\n",
       "    </tr>\n",
       "  </tbody>\n",
       "</table>\n",
       "</div>"
      ],
      "text/plain": [
       "   name  bus  p_mw  q_mvar  const_z_percent  const_i_percent  sn_mva  scaling  \\\n",
       "0  Load    2   0.1    0.05              0.0              0.0     NaN      1.0   \n",
       "\n",
       "   in_service type  \n",
       "0        True  wye  "
      ]
     },
     "execution_count": 14,
     "metadata": {},
     "output_type": "execute_result"
    }
   ],
   "source": [
    "net.load"
   ]
  },
  {
   "cell_type": "markdown",
   "metadata": {},
   "source": [
    "To have access to one specific element or value of a table, use Pandas functions:"
   ]
  },
  {
   "cell_type": "code",
   "execution_count": 15,
   "metadata": {
    "ExecuteTime": {
     "end_time": "2023-08-28T13:58:51.640814800Z",
     "start_time": "2023-08-28T13:58:51.581156600Z"
    }
   },
   "outputs": [
    {
     "data": {
      "text/plain": [
       "name          Bus 1\n",
       "vn_kv          20.0\n",
       "type              b\n",
       "zone           None\n",
       "in_service     True\n",
       "Name: 0, dtype: object"
      ]
     },
     "execution_count": 15,
     "metadata": {},
     "output_type": "execute_result"
    }
   ],
   "source": [
    "net.bus.loc[0, :]"
   ]
  },
  {
   "cell_type": "code",
   "execution_count": 16,
   "metadata": {
    "ExecuteTime": {
     "end_time": "2023-08-28T13:58:51.640814800Z",
     "start_time": "2023-08-28T13:58:51.590838900Z"
    }
   },
   "outputs": [
    {
     "data": {
      "text/plain": [
       "pandas.core.series.Series"
      ]
     },
     "execution_count": 16,
     "metadata": {},
     "output_type": "execute_result"
    }
   ],
   "source": [
    "type(net.bus.loc[0, :])"
   ]
  },
  {
   "cell_type": "code",
   "execution_count": 17,
   "metadata": {
    "ExecuteTime": {
     "end_time": "2023-08-28T13:58:51.640814800Z",
     "start_time": "2023-08-28T13:58:51.590838900Z"
    }
   },
   "outputs": [
    {
     "data": {
      "text/plain": [
       "'Bus 1'"
      ]
     },
     "execution_count": 17,
     "metadata": {},
     "output_type": "execute_result"
    }
   ],
   "source": [
    "net.bus.at[0, \"name\"]"
   ]
  },
  {
   "cell_type": "markdown",
   "metadata": {},
   "source": [
    "We can also modify the data using Pandas function:"
   ]
  },
  {
   "cell_type": "code",
   "execution_count": 18,
   "metadata": {
    "ExecuteTime": {
     "end_time": "2023-08-28T13:58:51.680549600Z",
     "start_time": "2023-08-28T13:58:51.606151200Z"
    }
   },
   "outputs": [
    {
     "data": {
      "text/html": [
       "<div>\n",
       "<style scoped>\n",
       "    .dataframe tbody tr th:only-of-type {\n",
       "        vertical-align: middle;\n",
       "    }\n",
       "\n",
       "    .dataframe tbody tr th {\n",
       "        vertical-align: top;\n",
       "    }\n",
       "\n",
       "    .dataframe thead th {\n",
       "        text-align: right;\n",
       "    }\n",
       "</style>\n",
       "<table border=\"1\" class=\"dataframe\">\n",
       "  <thead>\n",
       "    <tr style=\"text-align: right;\">\n",
       "      <th></th>\n",
       "      <th>name</th>\n",
       "      <th>vn_kv</th>\n",
       "      <th>type</th>\n",
       "      <th>zone</th>\n",
       "      <th>in_service</th>\n",
       "    </tr>\n",
       "  </thead>\n",
       "  <tbody>\n",
       "    <tr>\n",
       "      <th>0</th>\n",
       "      <td>hv_bus</td>\n",
       "      <td>20.0</td>\n",
       "      <td>b</td>\n",
       "      <td>None</td>\n",
       "      <td>True</td>\n",
       "    </tr>\n",
       "    <tr>\n",
       "      <th>1</th>\n",
       "      <td>Bus 2</td>\n",
       "      <td>0.4</td>\n",
       "      <td>b</td>\n",
       "      <td>None</td>\n",
       "      <td>True</td>\n",
       "    </tr>\n",
       "    <tr>\n",
       "      <th>2</th>\n",
       "      <td>Bus 3</td>\n",
       "      <td>0.4</td>\n",
       "      <td>b</td>\n",
       "      <td>None</td>\n",
       "      <td>True</td>\n",
       "    </tr>\n",
       "  </tbody>\n",
       "</table>\n",
       "</div>"
      ],
      "text/plain": [
       "     name  vn_kv type  zone  in_service\n",
       "0  hv_bus   20.0    b  None        True\n",
       "1   Bus 2    0.4    b  None        True\n",
       "2   Bus 3    0.4    b  None        True"
      ]
     },
     "execution_count": 18,
     "metadata": {},
     "output_type": "execute_result"
    }
   ],
   "source": [
    "net.bus.loc[0, \"name\"] = \"hv_bus\"\n",
    "net.bus"
   ]
  },
  {
   "cell_type": "markdown",
   "metadata": {},
   "source": [
    "# Run power flow\n",
    "\n",
    "Now we can run a balanced power flow calculation using the following command:"
   ]
  },
  {
   "cell_type": "code",
   "execution_count": 19,
   "metadata": {
    "ExecuteTime": {
     "end_time": "2023-08-28T13:58:53.298352200Z",
     "start_time": "2023-08-28T13:58:51.610673400Z"
    }
   },
   "outputs": [
    {
     "data": {
      "text/plain": [
       "This pandapower network includes the following parameter tables:\n",
       "   - bus (3 elements)\n",
       "   - load (1 element)\n",
       "   - ext_grid (1 element)\n",
       "   - line (1 element)\n",
       "   - trafo (1 element)\n",
       " and the following results tables:\n",
       "   - res_bus (3 elements)\n",
       "   - res_line (1 element)\n",
       "   - res_trafo (1 element)\n",
       "   - res_ext_grid (1 element)\n",
       "   - res_load (1 element)"
      ]
     },
     "execution_count": 19,
     "metadata": {},
     "output_type": "execute_result"
    }
   ],
   "source": [
    "pp.runpp(net)\n",
    "net"
   ]
  },
  {
   "cell_type": "markdown",
   "metadata": {},
   "source": [
    "Then if you check you **panda**power object you will see that powerflow results tables have been added.\n",
    "\n",
    "It may also be interesting to consult the results for buses, lines and transformers:"
   ]
  },
  {
   "cell_type": "code",
   "execution_count": 20,
   "metadata": {
    "ExecuteTime": {
     "end_time": "2023-08-28T13:58:53.307171Z",
     "start_time": "2023-08-28T13:58:53.298352200Z"
    }
   },
   "outputs": [
    {
     "data": {
      "text/html": [
       "<div>\n",
       "<style scoped>\n",
       "    .dataframe tbody tr th:only-of-type {\n",
       "        vertical-align: middle;\n",
       "    }\n",
       "\n",
       "    .dataframe tbody tr th {\n",
       "        vertical-align: top;\n",
       "    }\n",
       "\n",
       "    .dataframe thead th {\n",
       "        text-align: right;\n",
       "    }\n",
       "</style>\n",
       "<table border=\"1\" class=\"dataframe\">\n",
       "  <thead>\n",
       "    <tr style=\"text-align: right;\">\n",
       "      <th></th>\n",
       "      <th>vm_pu</th>\n",
       "      <th>va_degree</th>\n",
       "      <th>p_mw</th>\n",
       "      <th>q_mvar</th>\n",
       "    </tr>\n",
       "  </thead>\n",
       "  <tbody>\n",
       "    <tr>\n",
       "      <th>0</th>\n",
       "      <td>1.200000</td>\n",
       "      <td>0.000000</td>\n",
       "      <td>-0.106038</td>\n",
       "      <td>-0.051875</td>\n",
       "    </tr>\n",
       "    <tr>\n",
       "      <th>1</th>\n",
       "      <td>1.190635</td>\n",
       "      <td>-0.539841</td>\n",
       "      <td>0.000000</td>\n",
       "      <td>0.000000</td>\n",
       "    </tr>\n",
       "    <tr>\n",
       "      <th>2</th>\n",
       "      <td>1.153532</td>\n",
       "      <td>0.080701</td>\n",
       "      <td>0.100000</td>\n",
       "      <td>0.050000</td>\n",
       "    </tr>\n",
       "  </tbody>\n",
       "</table>\n",
       "</div>"
      ],
      "text/plain": [
       "      vm_pu  va_degree      p_mw    q_mvar\n",
       "0  1.200000   0.000000 -0.106038 -0.051875\n",
       "1  1.190635  -0.539841  0.000000  0.000000\n",
       "2  1.153532   0.080701  0.100000  0.050000"
      ]
     },
     "execution_count": 20,
     "metadata": {},
     "output_type": "execute_result"
    }
   ],
   "source": [
    "net.res_bus"
   ]
  },
  {
   "cell_type": "code",
   "execution_count": 21,
   "metadata": {
    "ExecuteTime": {
     "end_time": "2023-08-28T13:58:53.365534300Z",
     "start_time": "2023-08-28T13:58:53.305076100Z"
    }
   },
   "outputs": [
    {
     "data": {
      "text/html": [
       "<div>\n",
       "<style scoped>\n",
       "    .dataframe tbody tr th:only-of-type {\n",
       "        vertical-align: middle;\n",
       "    }\n",
       "\n",
       "    .dataframe tbody tr th {\n",
       "        vertical-align: top;\n",
       "    }\n",
       "\n",
       "    .dataframe thead th {\n",
       "        text-align: right;\n",
       "    }\n",
       "</style>\n",
       "<table border=\"1\" class=\"dataframe\">\n",
       "  <thead>\n",
       "    <tr style=\"text-align: right;\">\n",
       "      <th></th>\n",
       "      <th>p_from_mw</th>\n",
       "      <th>q_from_mvar</th>\n",
       "      <th>p_to_mw</th>\n",
       "      <th>q_to_mvar</th>\n",
       "      <th>pl_mw</th>\n",
       "      <th>ql_mvar</th>\n",
       "      <th>i_from_ka</th>\n",
       "      <th>i_to_ka</th>\n",
       "      <th>i_ka</th>\n",
       "      <th>vm_from_pu</th>\n",
       "      <th>va_from_degree</th>\n",
       "      <th>vm_to_pu</th>\n",
       "      <th>va_to_degree</th>\n",
       "      <th>loading_percent</th>\n",
       "    </tr>\n",
       "  </thead>\n",
       "  <tbody>\n",
       "    <tr>\n",
       "      <th>0</th>\n",
       "      <td>0.103769</td>\n",
       "      <td>0.050486</td>\n",
       "      <td>-0.1</td>\n",
       "      <td>-0.05</td>\n",
       "      <td>0.003769</td>\n",
       "      <td>0.000486</td>\n",
       "      <td>0.139895</td>\n",
       "      <td>0.139896</td>\n",
       "      <td>0.139896</td>\n",
       "      <td>1.190635</td>\n",
       "      <td>-0.539841</td>\n",
       "      <td>1.153532</td>\n",
       "      <td>0.080701</td>\n",
       "      <td>98.518141</td>\n",
       "    </tr>\n",
       "  </tbody>\n",
       "</table>\n",
       "</div>"
      ],
      "text/plain": [
       "   p_from_mw  q_from_mvar  p_to_mw  q_to_mvar     pl_mw   ql_mvar  i_from_ka  \\\n",
       "0   0.103769     0.050486     -0.1      -0.05  0.003769  0.000486   0.139895   \n",
       "\n",
       "    i_to_ka      i_ka  vm_from_pu  va_from_degree  vm_to_pu  va_to_degree  \\\n",
       "0  0.139896  0.139896    1.190635       -0.539841  1.153532      0.080701   \n",
       "\n",
       "   loading_percent  \n",
       "0        98.518141  "
      ]
     },
     "execution_count": 21,
     "metadata": {},
     "output_type": "execute_result"
    }
   ],
   "source": [
    "net.res_line"
   ]
  },
  {
   "cell_type": "code",
   "execution_count": 22,
   "metadata": {
    "ExecuteTime": {
     "end_time": "2023-08-28T13:58:53.397323300Z",
     "start_time": "2023-08-28T13:58:53.332264600Z"
    }
   },
   "outputs": [
    {
     "data": {
      "text/html": [
       "<div>\n",
       "<style scoped>\n",
       "    .dataframe tbody tr th:only-of-type {\n",
       "        vertical-align: middle;\n",
       "    }\n",
       "\n",
       "    .dataframe tbody tr th {\n",
       "        vertical-align: top;\n",
       "    }\n",
       "\n",
       "    .dataframe thead th {\n",
       "        text-align: right;\n",
       "    }\n",
       "</style>\n",
       "<table border=\"1\" class=\"dataframe\">\n",
       "  <thead>\n",
       "    <tr style=\"text-align: right;\">\n",
       "      <th></th>\n",
       "      <th>p_hv_mw</th>\n",
       "      <th>q_hv_mvar</th>\n",
       "      <th>p_lv_mw</th>\n",
       "      <th>q_lv_mvar</th>\n",
       "      <th>pl_mw</th>\n",
       "      <th>ql_mvar</th>\n",
       "      <th>i_hv_ka</th>\n",
       "      <th>i_lv_ka</th>\n",
       "      <th>vm_hv_pu</th>\n",
       "      <th>va_hv_degree</th>\n",
       "      <th>vm_lv_pu</th>\n",
       "      <th>va_lv_degree</th>\n",
       "      <th>loading_percent</th>\n",
       "    </tr>\n",
       "  </thead>\n",
       "  <tbody>\n",
       "    <tr>\n",
       "      <th>0</th>\n",
       "      <td>0.106038</td>\n",
       "      <td>0.051875</td>\n",
       "      <td>-0.103769</td>\n",
       "      <td>-0.050486</td>\n",
       "      <td>0.002268</td>\n",
       "      <td>0.001389</td>\n",
       "      <td>0.00284</td>\n",
       "      <td>0.139895</td>\n",
       "      <td>1.2</td>\n",
       "      <td>0.0</td>\n",
       "      <td>1.190635</td>\n",
       "      <td>-0.539841</td>\n",
       "      <td>24.593091</td>\n",
       "    </tr>\n",
       "  </tbody>\n",
       "</table>\n",
       "</div>"
      ],
      "text/plain": [
       "    p_hv_mw  q_hv_mvar   p_lv_mw  q_lv_mvar     pl_mw   ql_mvar  i_hv_ka  \\\n",
       "0  0.106038   0.051875 -0.103769  -0.050486  0.002268  0.001389  0.00284   \n",
       "\n",
       "    i_lv_ka  vm_hv_pu  va_hv_degree  vm_lv_pu  va_lv_degree  loading_percent  \n",
       "0  0.139895       1.2           0.0  1.190635     -0.539841        24.593091  "
      ]
     },
     "execution_count": 22,
     "metadata": {},
     "output_type": "execute_result"
    }
   ],
   "source": [
    "net.res_trafo"
   ]
  },
  {
   "cell_type": "markdown",
   "metadata": {},
   "source": [
    "All other pandapower elements and power grid analysis functionality (e.g. optimal power flow, state estimation or short-circuit calculation) are also fully integrated into pandapower's tabular data structure. This concludes a short walkthrough of some pandapower features. More in-depth tutorials can be found under this [link](https://www.pandapower.org/start/#interactive-tutorials-.)"
   ]
  },
  {
   "cell_type": "markdown",
   "metadata": {
    "tags": []
   },
   "source": [
    "# Create small power network using pandapower_heig_ui package\n",
    "\n",
    "A package has been created in order to simplify network generation, timeseries simulation and data visualisation. We can generate **panda**power object from data stored in excels files through the following function. We advice you to take a look at its [documentation](https://heig-vd-iese.github.io/pandapower-heig-ui/)."
   ]
  },
  {
   "cell_type": "code",
   "execution_count": 1,
   "metadata": {
    "ExecuteTime": {
     "end_time": "2023-08-28T13:58:53.405728500Z",
     "start_time": "2023-08-28T13:58:53.339336400Z"
    }
   },
   "outputs": [],
   "source": [
    "import pp_heig_plot as pp_plot\n",
    "import pp_heig_simulation as pp_sim\n",
    "from datetime import time"
   ]
  },
  {
   "cell_type": "code",
   "execution_count": null,
   "metadata": {
    "ExecuteTime": {
     "end_time": "2023-08-28T13:58:53.580626700Z",
     "start_time": "2023-08-28T13:58:53.398103400Z"
    }
   },
   "outputs": [],
   "source": [
    "net_file_path = \"data/3_bus_example.xlsx\"\n",
    "net = pp_sim.load_net_from_xlsx(file_path=net_file_path)\n",
    "net"
   ]
  },
  {
   "cell_type": "markdown",
   "metadata": {},
   "source": [
    "We can plot a simplified diagram of our network using the following function:\n",
    "\n",
    "- By adding a filename, the plot will be saved in a png format in the default folder _plot_.\n",
    "- We can change the folder name using the folder parameter.\n",
    "- We can view the equipment parameters in the plot by moving the mouse over them.\n",
    "- The network is well traced when it is tree-like. In the case of a mesh grid, a coordinate parameter must be added to the buses."
   ]
  },
  {
   "cell_type": "code",
   "execution_count": null,
   "metadata": {
    "ExecuteTime": {
     "end_time": "2023-08-28T13:58:54.491644100Z",
     "start_time": "2023-08-28T13:58:53.487754100Z"
    }
   },
   "outputs": [],
   "source": [
    "pp_plot.plot_power_network(net=net, plot_title=\"3-bus example\", filename=\"3_bus_example\")"
   ]
  },
  {
   "cell_type": "markdown",
   "metadata": {},
   "source": [
    "We can run a simple power flow and visualise result using the following functions:"
   ]
  },
  {
   "cell_type": "code",
   "execution_count": null,
   "metadata": {
    "ExecuteTime": {
     "end_time": "2023-08-28T13:58:54.645731900Z",
     "start_time": "2023-08-28T13:58:54.310904Z"
    }
   },
   "outputs": [],
   "source": [
    "pp.runpp(net)\n",
    "pp_plot.plot_powerflow_result(net=net, plot_title=\"3-bus powerflow results\", filename=\"3_bus_pp_result\")\n",
    "net.res_bus"
   ]
  },
  {
   "cell_type": "markdown",
   "metadata": {},
   "source": [
    "## Timeseries powerflow simulation"
   ]
  },
  {
   "cell_type": "markdown",
   "metadata": {},
   "source": [
    "\n",
    "We can create power profiles from excel files to perform timeseries powerflow simulations. After having been loaded, the resulting object is a dictionary of dataframe:\n",
    "\n",
    "- Keys is the equipment name where profile are related to.\n",
    "- Values can be active and reactive power profile table."
   ]
  },
  {
   "cell_type": "code",
   "execution_count": null,
   "metadata": {
    "ExecuteTime": {
     "end_time": "2023-08-28T13:58:54.645731900Z",
     "start_time": "2023-08-28T13:58:54.419549Z"
    }
   },
   "outputs": [],
   "source": [
    "profile_file_path = \"data/3_bus_power_profile.xlsx\"\n",
    "time_series = pp_sim.load_power_profile_form_xlsx(file_path=profile_file_path)\n",
    "print(time_series.keys())\n",
    "print(time_series[\"load\"].keys())\n",
    "time_series[\"load\"][\"p_mw\"]"
   ]
  },
  {
   "cell_type": "markdown",
   "metadata": {},
   "source": [
    "In this example, the file loaded contains two different profiles for loads. If we take a look in the load **panda**power table we can see that the `profile_mapping` parameter of the load is set to 0. It means that power profiles applied to this load will be the 0."
   ]
  },
  {
   "cell_type": "code",
   "execution_count": null,
   "metadata": {
    "ExecuteTime": {
     "end_time": "2023-08-28T13:58:54.645731900Z",
     "start_time": "2023-08-28T13:58:54.430861700Z"
    }
   },
   "outputs": [],
   "source": [
    "net.load"
   ]
  },
  {
   "cell_type": "code",
   "execution_count": null,
   "metadata": {
    "ExecuteTime": {
     "end_time": "2023-08-28T13:58:54.645731900Z",
     "start_time": "2023-08-28T13:58:54.431975800Z"
    }
   },
   "outputs": [],
   "source": [
    "pp_sim.apply_power_profile(net=net, equipment=\"load\", power_profiles=time_series[\"load\"])"
   ]
  },
  {
   "cell_type": "markdown",
   "metadata": {},
   "source": [
    "Then we need to create an output writer which will store simulation results:\n",
    "\n",
    "- Default results stored are `res_bus.vm_pu`, `res_line.loading_percent`, `res_trafo.loading_percent`.\n",
    "- We can add other results using `add_results` parameters."
   ]
  },
  {
   "cell_type": "code",
   "execution_count": null,
   "metadata": {
    "ExecuteTime": {
     "end_time": "2023-08-28T13:58:54.645731900Z",
     "start_time": "2023-08-28T13:58:54.453012300Z"
    }
   },
   "outputs": [],
   "source": [
    "pp_sim.create_output_writer(net=net, add_results= [\"res_line.p_from_mw\"])"
   ]
  },
  {
   "cell_type": "markdown",
   "metadata": {},
   "source": [
    "Finally, we can run times series simulation and plot results – as follows:"
   ]
  },
  {
   "cell_type": "code",
   "execution_count": null,
   "metadata": {
    "ExecuteTime": {
     "end_time": "2023-08-28T13:58:55.540741600Z",
     "start_time": "2023-08-28T13:58:54.453012300Z"
    }
   },
   "outputs": [],
   "source": [
    "result_df = pp_sim.run_time_simulation(net=net)\n",
    "print()\n",
    "pp_plot.plot_timeseries_result(data_df=result_df[\"res_bus.vm_pu\"], ylabel=\"V [pu]\",\n",
    "                       plot_title=\"Bus voltage\", filename= \"voltage_result\")\n",
    "print()\n",
    "pp_plot.plot_timeseries_result(data_df=result_df[\"res_line.p_from_mw\"], ylabel=\"P [MW]\",\n",
    "                       plot_title=\"line power\", filename= \"line_result\")\n",
    "print()\n",
    "pp_plot.plot_timestamps_powerflow_result(net=net, filename=\"net_result_12h\", plot_time=time(hour=12))"
   ]
  },
  {
   "cell_type": "markdown",
   "metadata": {},
   "source": [
    "We can use the second power profile loaded for the excel file. To do this, we just need to modify the `profile_mapping` parameter before applying once again the power profile:"
   ]
  },
  {
   "cell_type": "code",
   "execution_count": null,
   "metadata": {
    "ExecuteTime": {
     "end_time": "2023-08-28T13:58:55.550745900Z",
     "start_time": "2023-08-28T13:58:54.880716500Z"
    }
   },
   "outputs": [],
   "source": [
    "net.load.loc[0, \"profile_mapping\"] = 1\n",
    "pp_sim.apply_power_profile(net=net, equipment=\"load\", power_profiles=time_series[\"load\"])\n",
    "result_df = pp_sim.run_time_simulation(net=net)\n",
    "print()\n",
    "pp_plot.plot_timeseries_result(data_df=result_df[\"res_bus.vm_pu\"], ylabel=\"V [pu]\",\n",
    "                       plot_title=\"Bus voltage\", filename= \"voltage_result\")\n",
    "print()\n",
    "pp_plot.plot_timeseries_result(data_df=result_df[\"res_line.p_from_mw\"], ylabel=\"P [MW]\",\n",
    "                       plot_title=\"line power\", filename= \"line_result\")"
   ]
  },
  {
   "cell_type": "markdown",
   "metadata": {},
   "source": [
    "We can also scale our power profiles modifying `scaling` parameters:"
   ]
  },
  {
   "cell_type": "code",
   "execution_count": null,
   "metadata": {
    "ExecuteTime": {
     "end_time": "2023-08-28T13:58:55.550745900Z",
     "start_time": "2023-08-28T13:58:55.120959500Z"
    },
    "tags": []
   },
   "outputs": [],
   "source": [
    "net.load.loc[0, \"scaling\"] = 5\n",
    "result_df = pp_sim.run_time_simulation(net=net)\n",
    "pp_plot.plot_timeseries_result(data_df=result_df[\"res_bus.vm_pu\"], ylabel=\"V [pu]\",\n",
    "                       plot_title=\"Bus voltage\", filename= \"voltage_result\")\n",
    "print()\n",
    "pp_plot.plot_timeseries_result(data_df=result_df[\"res_line.p_from_mw\"], ylabel=\"P [MW]\",\n",
    "                       plot_title=\"line power\", filename= \"line_result\")"
   ]
  },
  {
   "cell_type": "code",
   "execution_count": null,
   "metadata": {},
   "outputs": [],
   "source": [
    "sc.calc_sc(net, fault=fault, ip=True)"
   ]
  },
  {
   "cell_type": "markdown",
   "metadata": {},
   "source": [
    "# References\n",
    "\n",
    "- [Pandapower 'Getting started'](http://www.pandapower.org/start/)\n",
    "- [Pandapower's documentation](https://pandapower.readthedocs.io/en/v2.13.1/index.html)\n",
    "- [Pandapower's tutorials on GitHub](https://github.com/e2nIEE/pandapower/tree/v2.13.1/tutorials)"
   ]
  },
  {
   "cell_type": "markdown",
   "metadata": {},
   "source": [
    "## Citing pandapower"
   ]
  },
  {
   "cell_type": "markdown",
   "metadata": {},
   "source": [
    " &copy; Copyright 2016-2023 by Fraunhofer IEE and University of Kassel. Revision 2feba868."
   ]
  },
  {
   "cell_type": "markdown",
   "metadata": {},
   "source": [
    "```latex\n",
    "@article{pandapower.2018,\n",
    "author={L. Thurner and A. Scheidler and F. Schafer and J. H. Menke and J. Dollichon and F. Meier and S. Meinecke and M. Braun},\n",
    "journal={IEEE Transactions on Power Systems},\n",
    "title={pandapower - an Open Source Python Tool for Convenient Modeling, Analysis and Optimization of Electric Power Systems},\n",
    "year={2018},\n",
    "doi={10.1109/TPWRS.2018.2829021},\n",
    "url={https://arxiv.org/abs/1709.06743},\n",
    "ISSN={0885-8950}\n",
    "}\n",
    "```"
   ]
  }
 ],
 "metadata": {
  "kernelspec": {
   "display_name": "Python 3 (ipykernel)",
   "language": "python",
   "name": "python3"
  },
  "language_info": {
   "codemirror_mode": {
    "name": "ipython",
    "version": 3
   },
   "file_extension": ".py",
   "mimetype": "text/x-python",
   "name": "python",
   "nbconvert_exporter": "python",
   "pygments_lexer": "ipython3",
   "version": "3.12.4"
  },
  "toc-autonumbering": true,
  "toc-showcode": false,
  "toc-showmarkdowntxt": false
 },
 "nbformat": 4,
 "nbformat_minor": 4
}
