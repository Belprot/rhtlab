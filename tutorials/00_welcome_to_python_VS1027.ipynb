{
 "cells": [
  {
   "cell_type": "markdown",
   "metadata": {},
   "source": [
    "**My First Python Demo Notebook – A Simple Tutorial**\n",
    "\n",
    "_Description is coming soon..._\n",
    "\n",
    "<details>\n",
    "\n",
    "<summary>Table of content</summary>\n",
    "\n",
    "# Notebook content\n",
    "\n",
    "- [I: Some basic commands to get ready](#some-basic-commands-to-get-ready)\n",
    "- [II: Feeding my dataframe with new data](#title)\n",
    "- [III: Energy consumption and power profile](#title)\n",
    "- [IV: Some references to go further](#title)\n",
    "- I : Visual Studio code\n",
    "- II : JupyterNotebook\n",
    "- III : Python\n",
    "- IV : Variable type\n",
    "- V : NumPy and Pandas\n",
    "- VI : Data from csv\n",
    "- VII : Manipulation of dataframe\n",
    "- VIII : Plot of dataframe\n",
    "- IX : Pandapower\n",
    "\n",
    "</details>\n",
    "\n",
    "---\n",
    "\n",
    "<details>\n",
    "\n",
    "<summary>TODO</summary>\n",
    "\n",
    "## Ideas for this tutorial\n",
    "\n",
    "- [ ] Trying to get more data on energy consumption.\n",
    "- [ ] Obtain primary or secondary energy consumption per capita.\n",
    "- [ ] Do the same exercise with electricity consumption per capita.\n",
    "- [ ] Compare growth with energy efficiency.\n",
    "- [ ] Add a comparison between pandas and numpy [pd/np](https://www.geeksforgeeks.org/difference-between-pandas-vs-numpy/)\n",
    "- [ ] Understand Dictionnary of dataframe exemple [Dictionnary of dataframe](#Dictionnary-of-dataframe) at this link [dict_of_df](https://www.educative.io/answers/how-to-create-a-dictionary-of-data-frames-in-python)\n",
    "- [ ] Modifying the Dictionnary of dataframe to correspond pandapower exercise\n",
    "- [ ] Details on variable type need to be completed\n",
    "\n",
    "</details>\n",
    "\n",
    "---"
   ]
  },
  {
   "cell_type": "markdown",
   "metadata": {},
   "source": [
    "# VS code\n"
   ]
  },
  {
   "cell_type": "markdown",
   "metadata": {},
   "source": [
    "\n",
    "File -> Activate Autosave\n",
    "\n",
    "Launch via terminal, nice to open project.\n",
    "\n",
    "Some features : \n",
    "- Dark mode or other\n",
    "- Friendly git command\n",
    "  - Git [nomenclature](https://www.conventionalcommits.org/en/v1.0.0/)\n",
    "- Github Copilot\n",
    "- Extension"
   ]
  },
  {
   "cell_type": "markdown",
   "metadata": {},
   "source": [
    "# JupyterNotebook"
   ]
  },
  {
   "cell_type": "markdown",
   "metadata": {},
   "source": [
    "All the [basics](00_welcome_to_jupyter.ipynb) about JupyterNotebook.\n",
    "- What is it ?\n",
    "- Step by step execution\n",
    "- How memory work\n",
    "- Variable explorer\n",
    "- Export"
   ]
  },
  {
   "cell_type": "markdown",
   "metadata": {},
   "source": [
    "\n",
    "Here you have the [Basic writing and formatting syntax](https://docs.github.com/en/get-started/writing-on-github/getting-started-with-writing-and-formatting-on-github/basic-writing-and-formatting-syntax) for markdown.\n",
    "\n",
    "Few usefull shortcut :\n",
    "- `y` and `m` to toggle between markdown and python cells.\n",
    "- `Ctrl+Enter` to run cells\n",
    "- `Shift+Enter` to run and advance in next cells\n",
    "\n",
    "And text higligh : \n",
    " - ``---`` - Line througth the page\n",
    " - `>` - Text box\n",
    " - \\`Text\\` - Quoting code like ``this``\n",
    " - And triple for multiple line \\`\\`\\` ``code`` \\`\\`\\`"
   ]
  },
  {
   "cell_type": "markdown",
   "metadata": {},
   "source": [
    "# Some basics to get ready\n"
   ]
  },
  {
   "cell_type": "markdown",
   "metadata": {},
   "source": [
    "At the first, we are not informatician, the hygiene is important for your code : commenting, good variable name,...\n",
    "\n",
    "But if that works... ;)\n",
    "\n",
    "Here a complete guide about hygiene coding tips : [hygiene_tips](https://testdriven.io/blog/clean-code-python/), I recommend you to read the _PEP 8_ part.\n",
    "\n",
    "For solving a problem, you have many solution and that the same with Python, so we will give you one solution (sometimes more) and that can be the best solution, or not. \n",
    "\n",
    "So be free as a bird and make your own experience. :bird:"
   ]
  },
  {
   "cell_type": "markdown",
   "metadata": {},
   "source": [
    "### Python\n"
   ]
  },
  {
   "cell_type": "markdown",
   "metadata": {},
   "source": [
    "\n",
    "Python is an object oriented programming language and this mean that almost everything is an object with own properties and methods.\n",
    "\n",
    "And we create object with the constructure (like blueprint) called Class.\n",
    "\n",
    "And each object can have function inside, thats called method."
   ]
  },
  {
   "cell_type": "markdown",
   "metadata": {},
   "source": [
    "## Help once the package has been imported\n"
   ]
  },
  {
   "cell_type": "markdown",
   "metadata": {},
   "source": [
    "Python works with package, this is all the code already developped that we can use, we don't want (and can't) recode anything every times.\n",
    "\n",
    "Package exit to do lots of thinks : statistical analysis, data visualization, etc.\n",
    "\n",
    "In this tuto we'll import the following packages :\n",
    "- *numpy* and *pandas* for data analysis and manipulation\n",
    "- *plotly* for data visualization\n",
    "- (*os* is used to change working directories, but you don't need it)"
   ]
  },
  {
   "cell_type": "code",
   "execution_count": 592,
   "metadata": {},
   "outputs": [],
   "source": [
    "import os\n",
    "import numpy as np\n",
    "import pandas as pd\n",
    "import plotly.express as px\n",
    "from plotly.subplots import make_subplots"
   ]
  },
  {
   "cell_type": "markdown",
   "metadata": {},
   "source": [
    "For needed information on a function tape : _?function_name_"
   ]
  },
  {
   "cell_type": "code",
   "execution_count": 593,
   "metadata": {},
   "outputs": [
    {
     "name": "stdout",
     "output_type": "stream",
     "text": [
      "\u001b[0;31mDocstring:\u001b[0m\n",
      "print(value, ..., sep=' ', end='\\n', file=sys.stdout, flush=False)\n",
      "\n",
      "Prints the values to a stream, or to sys.stdout by default.\n",
      "Optional keyword arguments:\n",
      "file:  a file-like object (stream); defaults to the current sys.stdout.\n",
      "sep:   string inserted between values, default a space.\n",
      "end:   string appended after the last value, default a newline.\n",
      "flush: whether to forcibly flush the stream.\n",
      "\u001b[0;31mType:\u001b[0m      builtin_function_or_method"
     ]
    }
   ],
   "source": [
    "?print"
   ]
  },
  {
   "cell_type": "markdown",
   "metadata": {},
   "source": [
    "## Basics Data Structures and Sequences : Variable type"
   ]
  },
  {
   "cell_type": "markdown",
   "metadata": {},
   "source": [
    "The information is stocked in variable, the information can take multiple forms, numeric, string, etc., the next table resume the data type and how to construct it.\n",
    "|                  | Data Type  | Example                                              |\n",
    "|------------------|------------|------------------------------------------------------|\n",
    "| _Text Type_      | str        | `\"Hello World\"`                                      |\n",
    "| _Numeric Types_  | int        | 50                                                   |\n",
    "|                  | float      | 50.5                                                 |\n",
    "|                  | complex    | 10j                                                  |\n",
    "| _Sequence Types_ | list       | `[\"resistance\", \"admittance\", \"impedance\"]`          |\n",
    "|                  | tuple      | `(\"resistance\", \"admittance\",\"impedance\")`           |\n",
    "|                  | range      | `range(8)`                                           |\n",
    "| _Mapping Type_   | dict       | `{\"Element\": \"Generator\", \"Power\" : 100}`            |\n",
    "| _Boolean Type_   | bool       | True, False                                          |\n",
    "\n",
    "On this [link](https://wesmckinney.com/book/python-builtin#tut_data_structures), you have more information about the datastructure."
   ]
  },
  {
   "cell_type": "markdown",
   "metadata": {},
   "source": [
    "<details>\n",
    "<summary>Details on variable type</summary>\n",
    "\n",
    "- **Integers** are whole numbers, negative and positive.\n",
    "- **Floats** are real numbers or numbers with a decimal point.\n",
    "- **Strings** are sequences of characters.\n",
    "- **Booleans** are True or False  (1 or 0).\n",
    "- **Tuples** are ordered, immutable collections of values.\n",
    "- **dictionaries** is unordered collection of data in a key: value pair form\n",
    "- **Lists** are ordered, mutable collections of values.\n",
    "\n",
    "\n",
    "</details>"
   ]
  },
  {
   "cell_type": "markdown",
   "metadata": {},
   "source": [
    "\n",
    "The program auto define the variable type when we create it.  It's possible to manually specify it (for changing size p.ex.)."
   ]
  },
  {
   "cell_type": "code",
   "execution_count": 594,
   "metadata": {},
   "outputs": [
    {
     "name": "stdout",
     "output_type": "stream",
     "text": [
      "Classe of list_Test:\n",
      " <class 'list'>\n",
      "list_Test contains:\n",
      " [9, 1, 2, 3, 4, 'z', 'x', 'y', 'x']\n"
     ]
    }
   ],
   "source": [
    "# List exemple\n",
    "list_test = [9, 1, 2, 3, 4, \"z\", \"x\", \"y\", \"x\"]\n",
    "print(\"Classe of list_Test:\\n\", type(list_test))\n",
    "print(\"list_Test contains:\\n\", list_test)"
   ]
  },
  {
   "cell_type": "markdown",
   "metadata": {},
   "source": [
    "In a sequence, the elements can be accessed with `[]`.\n",
    "\n",
    "Like C or most of the common programming language, Python index begin at 0, unlike Matlab, who start at 1."
   ]
  },
  {
   "cell_type": "code",
   "execution_count": 595,
   "metadata": {},
   "outputs": [
    {
     "name": "stdout",
     "output_type": "stream",
     "text": [
      "Element 3 in list_Test = 2\n"
     ]
    }
   ],
   "source": [
    "print(\"Element 3 in list_Test =\", list_test[2])"
   ]
  },
  {
   "cell_type": "markdown",
   "metadata": {},
   "source": [
    "List and Tuple are similar, but Tuple is immutable."
   ]
  },
  {
   "cell_type": "code",
   "execution_count": 596,
   "metadata": {},
   "outputs": [
    {
     "name": "stdout",
     "output_type": "stream",
     "text": [
      "Type of tup : <class 'tuple'>\n",
      "Type of list : <class 'list'>\n"
     ]
    }
   ],
   "source": [
    "list_exemple = [\"foo\", [1, 2], True]\n",
    "tup_exemple = (\"foo\", [1, 2], True)\n",
    "print(\"Type of tup :\", type(tup_exemple))\n",
    "print(\"Type of list :\", type(list_exemple))"
   ]
  },
  {
   "cell_type": "code",
   "execution_count": 597,
   "metadata": {},
   "outputs": [],
   "source": [
    "# tup[2] = False"
   ]
  },
  {
   "cell_type": "markdown",
   "metadata": {},
   "source": [
    "To access value inside, the procedure is the same :"
   ]
  },
  {
   "cell_type": "code",
   "execution_count": 598,
   "metadata": {},
   "outputs": [
    {
     "data": {
      "text/plain": [
       "[1, 2]"
      ]
     },
     "execution_count": 598,
     "metadata": {},
     "output_type": "execute_result"
    }
   ],
   "source": [
    "list_exemple[1]"
   ]
  },
  {
   "cell_type": "markdown",
   "metadata": {},
   "source": [
    "To access sub-element :"
   ]
  },
  {
   "cell_type": "code",
   "execution_count": 599,
   "metadata": {},
   "outputs": [
    {
     "data": {
      "text/plain": [
       "2"
      ]
     },
     "execution_count": 599,
     "metadata": {},
     "output_type": "execute_result"
    }
   ],
   "source": [
    "list_exemple[1][1]"
   ]
  },
  {
   "cell_type": "markdown",
   "metadata": {},
   "source": [
    "### Complex number\n",
    "A complex value can be expressed in polar coordinates or rectangular coordinates :\n",
    "\n",
    "![Impedance](plot/impedance.png)"
   ]
  },
  {
   "cell_type": "code",
   "execution_count": 600,
   "metadata": {},
   "outputs": [],
   "source": [
    "# Rectangular\n",
    "R_real = 10\n",
    "X_imag = 5\n",
    "Z = R_real + 1j * X_imag\n",
    "# Polar\n",
    "Tension_Module = 10\n",
    "Phase_Angle = 45\n",
    "U = Tension_Module * np.exp(1j * Phase_Angle)"
   ]
  },
  {
   "cell_type": "markdown",
   "metadata": {},
   "source": [
    "But Python express complex number in rectangular coordinates :"
   ]
  },
  {
   "cell_type": "code",
   "execution_count": 601,
   "metadata": {},
   "outputs": [
    {
     "name": "stdout",
     "output_type": "stream",
     "text": [
      "Impedance =  (10+5j)\n",
      "Tension =  (5.253219888177298+8.509035245341185j)\n"
     ]
    }
   ],
   "source": [
    "print(\"Impedance = \", Z)\n",
    "print(\"Tension = \", U)"
   ]
  },
  {
   "cell_type": "markdown",
   "metadata": {},
   "source": [
    "## Manipulating NumPy array and Pandas dataframe"
   ]
  },
  {
   "cell_type": "markdown",
   "metadata": {},
   "source": [
    "For manipulating data, we can use two packages, they are similar but not exactly the same, here a small explanation of the differences [pd/np](https://www.geeksforgeeks.org/difference-between-pandas-vs-numpy/#:~:text=Difference%20between%20Pandas%20and%20Numpy)\n",
    "\n",
    "Pandas is based on NumPy and is usefull to manipulate data-structures (Tabular data) : numeric data (or not) and time series\n",
    "\n",
    "Numpy is the fundamental library of Python, it provides high-performance multidimensional arrays and tools to work with them, usefull to matrix and vector calculation."
   ]
  },
  {
   "cell_type": "markdown",
   "metadata": {},
   "source": [
    "### Numpy\n",
    "_array_ is like _list_ but faster, from NumPy library (continuous place in memory unlike _list_)\n",
    "\n",
    "Use _list_, _tuple_ or any _array-like_ to construct NumPy array"
   ]
  },
  {
   "cell_type": "code",
   "execution_count": 602,
   "metadata": {},
   "outputs": [
    {
     "name": "stdout",
     "output_type": "stream",
     "text": [
      "3\n",
      "[[[ 1  2  3]\n",
      "  [ 4  5  6]]\n",
      "\n",
      " [[ 7  8  9]\n",
      "  [10 11 12]]\n",
      "\n",
      " [[13 14 15]\n",
      "  [16 17 18]]]\n"
     ]
    }
   ],
   "source": [
    "# Create narray with list and multiple dimension\n",
    "array_list = np.array(\n",
    "    [\n",
    "        [[1, 2, 3], [4, 5, 6]],\n",
    "        [[7, 8, 9], [10, 11, 12]],\n",
    "        [[13, 14, 15], [16, 17, 18]],\n",
    "    ]\n",
    ")\n",
    "print(array_list.ndim)\n",
    "print(array_list)"
   ]
  },
  {
   "cell_type": "code",
   "execution_count": 603,
   "metadata": {},
   "outputs": [
    {
     "data": {
      "text/plain": [
       "array([13, 14, 15])"
      ]
     },
     "execution_count": 603,
     "metadata": {},
     "output_type": "execute_result"
    }
   ],
   "source": [
    "array_list[2][0]"
   ]
  },
  {
   "cell_type": "code",
   "execution_count": 604,
   "metadata": {},
   "outputs": [
    {
     "name": "stdout",
     "output_type": "stream",
     "text": [
      "[1900 1910 1920 1930 1940 1950 1960 1970 1980 1990 2000 2010 2020]\n",
      "3,297,641\n",
      "3,708,897\n",
      "3,870,407\n",
      "4,042,131\n",
      "4,233,223\n",
      "4,692,642\n",
      "5,327,776\n",
      "6,180,925\n",
      "6,319,848\n",
      "6,713,167\n",
      "7,184,003\n",
      "7,825,751\n",
      "8,640,582\n"
     ]
    }
   ],
   "source": [
    "# Time interval\n",
    "years = np.arange(1900, 2021, 10)\n",
    "print(years)\n",
    "\n",
    "# Population data for Switzerland\n",
    "pop = np.array(\n",
    "    [\n",
    "        3297641,\n",
    "        3708897,\n",
    "        3870407,\n",
    "        4042131,\n",
    "        4233223,\n",
    "        4692642,\n",
    "        5327776,\n",
    "        6180925,\n",
    "        6319848,\n",
    "        6713167,\n",
    "        7184003,\n",
    "        7825751,\n",
    "        8640582,\n",
    "    ]\n",
    ")\n",
    "\n",
    "\n",
    "## (just for information)\n",
    "# Convert each number to a string with thousand separators\n",
    "formatted_pop = np.array(list(map(lambda x: f\"{x:,}\", pop)))\n",
    "\n",
    "# Print the formatted population array verticaly\n",
    "print(\"\\n\".join(formatted_pop))"
   ]
  },
  {
   "cell_type": "markdown",
   "metadata": {},
   "source": [
    "Now I would like to visualize the population evolution that will change over time:"
   ]
  },
  {
   "cell_type": "code",
   "execution_count": 605,
   "metadata": {},
   "outputs": [
    {
     "data": {
      "application/vnd.plotly.v1+json": {
       "config": {
        "plotlyServerURL": "https://plot.ly"
       },
       "data": [
        {
         "hovertemplate": "Year=%{x}<br>Population=%{y}<extra></extra>",
         "legendgroup": "",
         "line": {
          "color": "#636efa",
          "dash": "solid"
         },
         "marker": {
          "symbol": "circle"
         },
         "mode": "lines",
         "name": "",
         "orientation": "v",
         "showlegend": false,
         "type": "scatter",
         "x": [
          1900,
          1910,
          1920,
          1930,
          1940,
          1950,
          1960,
          1970,
          1980,
          1990,
          2000,
          2010,
          2020
         ],
         "xaxis": "x",
         "y": [
          3297641,
          3708897,
          3870407,
          4042131,
          4233223,
          4692642,
          5327776,
          6180925,
          6319848,
          6713167,
          7184003,
          7825751,
          8640582
         ],
         "yaxis": "y"
        }
       ],
       "layout": {
        "coloraxis": {
         "showscale": false
        },
        "height": 500,
        "legend": {
         "tracegroupgap": 0
        },
        "margin": {
         "b": 60,
         "l": 60,
         "r": 60,
         "t": 60
        },
        "template": {
         "data": {
          "bar": [
           {
            "error_x": {
             "color": "#2a3f5f"
            },
            "error_y": {
             "color": "#2a3f5f"
            },
            "marker": {
             "line": {
              "color": "#E5ECF6",
              "width": 0.5
             },
             "pattern": {
              "fillmode": "overlay",
              "size": 10,
              "solidity": 0.2
             }
            },
            "type": "bar"
           }
          ],
          "barpolar": [
           {
            "marker": {
             "line": {
              "color": "#E5ECF6",
              "width": 0.5
             },
             "pattern": {
              "fillmode": "overlay",
              "size": 10,
              "solidity": 0.2
             }
            },
            "type": "barpolar"
           }
          ],
          "carpet": [
           {
            "aaxis": {
             "endlinecolor": "#2a3f5f",
             "gridcolor": "white",
             "linecolor": "white",
             "minorgridcolor": "white",
             "startlinecolor": "#2a3f5f"
            },
            "baxis": {
             "endlinecolor": "#2a3f5f",
             "gridcolor": "white",
             "linecolor": "white",
             "minorgridcolor": "white",
             "startlinecolor": "#2a3f5f"
            },
            "type": "carpet"
           }
          ],
          "choropleth": [
           {
            "colorbar": {
             "outlinewidth": 0,
             "ticks": ""
            },
            "type": "choropleth"
           }
          ],
          "contour": [
           {
            "colorbar": {
             "outlinewidth": 0,
             "ticks": ""
            },
            "colorscale": [
             [
              0,
              "#0d0887"
             ],
             [
              0.1111111111111111,
              "#46039f"
             ],
             [
              0.2222222222222222,
              "#7201a8"
             ],
             [
              0.3333333333333333,
              "#9c179e"
             ],
             [
              0.4444444444444444,
              "#bd3786"
             ],
             [
              0.5555555555555556,
              "#d8576b"
             ],
             [
              0.6666666666666666,
              "#ed7953"
             ],
             [
              0.7777777777777778,
              "#fb9f3a"
             ],
             [
              0.8888888888888888,
              "#fdca26"
             ],
             [
              1,
              "#f0f921"
             ]
            ],
            "type": "contour"
           }
          ],
          "contourcarpet": [
           {
            "colorbar": {
             "outlinewidth": 0,
             "ticks": ""
            },
            "type": "contourcarpet"
           }
          ],
          "heatmap": [
           {
            "colorbar": {
             "outlinewidth": 0,
             "ticks": ""
            },
            "colorscale": [
             [
              0,
              "#0d0887"
             ],
             [
              0.1111111111111111,
              "#46039f"
             ],
             [
              0.2222222222222222,
              "#7201a8"
             ],
             [
              0.3333333333333333,
              "#9c179e"
             ],
             [
              0.4444444444444444,
              "#bd3786"
             ],
             [
              0.5555555555555556,
              "#d8576b"
             ],
             [
              0.6666666666666666,
              "#ed7953"
             ],
             [
              0.7777777777777778,
              "#fb9f3a"
             ],
             [
              0.8888888888888888,
              "#fdca26"
             ],
             [
              1,
              "#f0f921"
             ]
            ],
            "type": "heatmap"
           }
          ],
          "heatmapgl": [
           {
            "colorbar": {
             "outlinewidth": 0,
             "ticks": ""
            },
            "colorscale": [
             [
              0,
              "#0d0887"
             ],
             [
              0.1111111111111111,
              "#46039f"
             ],
             [
              0.2222222222222222,
              "#7201a8"
             ],
             [
              0.3333333333333333,
              "#9c179e"
             ],
             [
              0.4444444444444444,
              "#bd3786"
             ],
             [
              0.5555555555555556,
              "#d8576b"
             ],
             [
              0.6666666666666666,
              "#ed7953"
             ],
             [
              0.7777777777777778,
              "#fb9f3a"
             ],
             [
              0.8888888888888888,
              "#fdca26"
             ],
             [
              1,
              "#f0f921"
             ]
            ],
            "type": "heatmapgl"
           }
          ],
          "histogram": [
           {
            "marker": {
             "pattern": {
              "fillmode": "overlay",
              "size": 10,
              "solidity": 0.2
             }
            },
            "type": "histogram"
           }
          ],
          "histogram2d": [
           {
            "colorbar": {
             "outlinewidth": 0,
             "ticks": ""
            },
            "colorscale": [
             [
              0,
              "#0d0887"
             ],
             [
              0.1111111111111111,
              "#46039f"
             ],
             [
              0.2222222222222222,
              "#7201a8"
             ],
             [
              0.3333333333333333,
              "#9c179e"
             ],
             [
              0.4444444444444444,
              "#bd3786"
             ],
             [
              0.5555555555555556,
              "#d8576b"
             ],
             [
              0.6666666666666666,
              "#ed7953"
             ],
             [
              0.7777777777777778,
              "#fb9f3a"
             ],
             [
              0.8888888888888888,
              "#fdca26"
             ],
             [
              1,
              "#f0f921"
             ]
            ],
            "type": "histogram2d"
           }
          ],
          "histogram2dcontour": [
           {
            "colorbar": {
             "outlinewidth": 0,
             "ticks": ""
            },
            "colorscale": [
             [
              0,
              "#0d0887"
             ],
             [
              0.1111111111111111,
              "#46039f"
             ],
             [
              0.2222222222222222,
              "#7201a8"
             ],
             [
              0.3333333333333333,
              "#9c179e"
             ],
             [
              0.4444444444444444,
              "#bd3786"
             ],
             [
              0.5555555555555556,
              "#d8576b"
             ],
             [
              0.6666666666666666,
              "#ed7953"
             ],
             [
              0.7777777777777778,
              "#fb9f3a"
             ],
             [
              0.8888888888888888,
              "#fdca26"
             ],
             [
              1,
              "#f0f921"
             ]
            ],
            "type": "histogram2dcontour"
           }
          ],
          "mesh3d": [
           {
            "colorbar": {
             "outlinewidth": 0,
             "ticks": ""
            },
            "type": "mesh3d"
           }
          ],
          "parcoords": [
           {
            "line": {
             "colorbar": {
              "outlinewidth": 0,
              "ticks": ""
             }
            },
            "type": "parcoords"
           }
          ],
          "pie": [
           {
            "automargin": true,
            "type": "pie"
           }
          ],
          "scatter": [
           {
            "fillpattern": {
             "fillmode": "overlay",
             "size": 10,
             "solidity": 0.2
            },
            "type": "scatter"
           }
          ],
          "scatter3d": [
           {
            "line": {
             "colorbar": {
              "outlinewidth": 0,
              "ticks": ""
             }
            },
            "marker": {
             "colorbar": {
              "outlinewidth": 0,
              "ticks": ""
             }
            },
            "type": "scatter3d"
           }
          ],
          "scattercarpet": [
           {
            "marker": {
             "colorbar": {
              "outlinewidth": 0,
              "ticks": ""
             }
            },
            "type": "scattercarpet"
           }
          ],
          "scattergeo": [
           {
            "marker": {
             "colorbar": {
              "outlinewidth": 0,
              "ticks": ""
             }
            },
            "type": "scattergeo"
           }
          ],
          "scattergl": [
           {
            "marker": {
             "colorbar": {
              "outlinewidth": 0,
              "ticks": ""
             }
            },
            "type": "scattergl"
           }
          ],
          "scattermapbox": [
           {
            "marker": {
             "colorbar": {
              "outlinewidth": 0,
              "ticks": ""
             }
            },
            "type": "scattermapbox"
           }
          ],
          "scatterpolar": [
           {
            "marker": {
             "colorbar": {
              "outlinewidth": 0,
              "ticks": ""
             }
            },
            "type": "scatterpolar"
           }
          ],
          "scatterpolargl": [
           {
            "marker": {
             "colorbar": {
              "outlinewidth": 0,
              "ticks": ""
             }
            },
            "type": "scatterpolargl"
           }
          ],
          "scatterternary": [
           {
            "marker": {
             "colorbar": {
              "outlinewidth": 0,
              "ticks": ""
             }
            },
            "type": "scatterternary"
           }
          ],
          "surface": [
           {
            "colorbar": {
             "outlinewidth": 0,
             "ticks": ""
            },
            "colorscale": [
             [
              0,
              "#0d0887"
             ],
             [
              0.1111111111111111,
              "#46039f"
             ],
             [
              0.2222222222222222,
              "#7201a8"
             ],
             [
              0.3333333333333333,
              "#9c179e"
             ],
             [
              0.4444444444444444,
              "#bd3786"
             ],
             [
              0.5555555555555556,
              "#d8576b"
             ],
             [
              0.6666666666666666,
              "#ed7953"
             ],
             [
              0.7777777777777778,
              "#fb9f3a"
             ],
             [
              0.8888888888888888,
              "#fdca26"
             ],
             [
              1,
              "#f0f921"
             ]
            ],
            "type": "surface"
           }
          ],
          "table": [
           {
            "cells": {
             "fill": {
              "color": "#EBF0F8"
             },
             "line": {
              "color": "white"
             }
            },
            "header": {
             "fill": {
              "color": "#C8D4E3"
             },
             "line": {
              "color": "white"
             }
            },
            "type": "table"
           }
          ]
         },
         "layout": {
          "annotationdefaults": {
           "arrowcolor": "#2a3f5f",
           "arrowhead": 0,
           "arrowwidth": 1
          },
          "autotypenumbers": "strict",
          "coloraxis": {
           "colorbar": {
            "outlinewidth": 0,
            "ticks": ""
           }
          },
          "colorscale": {
           "diverging": [
            [
             0,
             "#8e0152"
            ],
            [
             0.1,
             "#c51b7d"
            ],
            [
             0.2,
             "#de77ae"
            ],
            [
             0.3,
             "#f1b6da"
            ],
            [
             0.4,
             "#fde0ef"
            ],
            [
             0.5,
             "#f7f7f7"
            ],
            [
             0.6,
             "#e6f5d0"
            ],
            [
             0.7,
             "#b8e186"
            ],
            [
             0.8,
             "#7fbc41"
            ],
            [
             0.9,
             "#4d9221"
            ],
            [
             1,
             "#276419"
            ]
           ],
           "sequential": [
            [
             0,
             "#0d0887"
            ],
            [
             0.1111111111111111,
             "#46039f"
            ],
            [
             0.2222222222222222,
             "#7201a8"
            ],
            [
             0.3333333333333333,
             "#9c179e"
            ],
            [
             0.4444444444444444,
             "#bd3786"
            ],
            [
             0.5555555555555556,
             "#d8576b"
            ],
            [
             0.6666666666666666,
             "#ed7953"
            ],
            [
             0.7777777777777778,
             "#fb9f3a"
            ],
            [
             0.8888888888888888,
             "#fdca26"
            ],
            [
             1,
             "#f0f921"
            ]
           ],
           "sequentialminus": [
            [
             0,
             "#0d0887"
            ],
            [
             0.1111111111111111,
             "#46039f"
            ],
            [
             0.2222222222222222,
             "#7201a8"
            ],
            [
             0.3333333333333333,
             "#9c179e"
            ],
            [
             0.4444444444444444,
             "#bd3786"
            ],
            [
             0.5555555555555556,
             "#d8576b"
            ],
            [
             0.6666666666666666,
             "#ed7953"
            ],
            [
             0.7777777777777778,
             "#fb9f3a"
            ],
            [
             0.8888888888888888,
             "#fdca26"
            ],
            [
             1,
             "#f0f921"
            ]
           ]
          },
          "colorway": [
           "#636efa",
           "#EF553B",
           "#00cc96",
           "#ab63fa",
           "#FFA15A",
           "#19d3f3",
           "#FF6692",
           "#B6E880",
           "#FF97FF",
           "#FECB52"
          ],
          "font": {
           "color": "#2a3f5f"
          },
          "geo": {
           "bgcolor": "white",
           "lakecolor": "white",
           "landcolor": "#E5ECF6",
           "showlakes": true,
           "showland": true,
           "subunitcolor": "white"
          },
          "hoverlabel": {
           "align": "left"
          },
          "hovermode": "closest",
          "mapbox": {
           "style": "light"
          },
          "paper_bgcolor": "white",
          "plot_bgcolor": "#E5ECF6",
          "polar": {
           "angularaxis": {
            "gridcolor": "white",
            "linecolor": "white",
            "ticks": ""
           },
           "bgcolor": "#E5ECF6",
           "radialaxis": {
            "gridcolor": "white",
            "linecolor": "white",
            "ticks": ""
           }
          },
          "scene": {
           "xaxis": {
            "backgroundcolor": "#E5ECF6",
            "gridcolor": "white",
            "gridwidth": 2,
            "linecolor": "white",
            "showbackground": true,
            "ticks": "",
            "zerolinecolor": "white"
           },
           "yaxis": {
            "backgroundcolor": "#E5ECF6",
            "gridcolor": "white",
            "gridwidth": 2,
            "linecolor": "white",
            "showbackground": true,
            "ticks": "",
            "zerolinecolor": "white"
           },
           "zaxis": {
            "backgroundcolor": "#E5ECF6",
            "gridcolor": "white",
            "gridwidth": 2,
            "linecolor": "white",
            "showbackground": true,
            "ticks": "",
            "zerolinecolor": "white"
           }
          },
          "shapedefaults": {
           "line": {
            "color": "#2a3f5f"
           }
          },
          "ternary": {
           "aaxis": {
            "gridcolor": "white",
            "linecolor": "white",
            "ticks": ""
           },
           "baxis": {
            "gridcolor": "white",
            "linecolor": "white",
            "ticks": ""
           },
           "bgcolor": "#E5ECF6",
           "caxis": {
            "gridcolor": "white",
            "linecolor": "white",
            "ticks": ""
           }
          },
          "title": {
           "x": 0.05
          },
          "xaxis": {
           "automargin": true,
           "gridcolor": "white",
           "linecolor": "white",
           "ticks": "",
           "title": {
            "standoff": 15
           },
           "zerolinecolor": "white",
           "zerolinewidth": 2
          },
          "yaxis": {
           "automargin": true,
           "gridcolor": "white",
           "linecolor": "white",
           "ticks": "",
           "title": {
            "standoff": 15
           },
           "zerolinecolor": "white",
           "zerolinewidth": 2
          }
         }
        },
        "title": {
         "text": "Population Evolution of Switzerland"
        },
        "width": 800,
        "xaxis": {
         "anchor": "y",
         "domain": [
          0,
          1
         ],
         "title": {
          "text": "Year"
         }
        },
        "yaxis": {
         "anchor": "x",
         "domain": [
          0,
          1
         ],
         "title": {
          "text": "Population"
         }
        }
       }
      },
      "text/html": [
       "<div>                            <div id=\"3d900531-1682-4e35-82fd-44bdafddf3a7\" class=\"plotly-graph-div\" style=\"height:500px; width:800px;\"></div>            <script type=\"text/javascript\">                require([\"plotly\"], function(Plotly) {                    window.PLOTLYENV=window.PLOTLYENV || {};                                    if (document.getElementById(\"3d900531-1682-4e35-82fd-44bdafddf3a7\")) {                    Plotly.newPlot(                        \"3d900531-1682-4e35-82fd-44bdafddf3a7\",                        [{\"hovertemplate\":\"Year=%{x}\\u003cbr\\u003ePopulation=%{y}\\u003cextra\\u003e\\u003c\\u002fextra\\u003e\",\"legendgroup\":\"\",\"line\":{\"color\":\"#636efa\",\"dash\":\"solid\"},\"marker\":{\"symbol\":\"circle\"},\"mode\":\"lines\",\"name\":\"\",\"orientation\":\"v\",\"showlegend\":false,\"x\":[1900,1910,1920,1930,1940,1950,1960,1970,1980,1990,2000,2010,2020],\"xaxis\":\"x\",\"y\":[3297641,3708897,3870407,4042131,4233223,4692642,5327776,6180925,6319848,6713167,7184003,7825751,8640582],\"yaxis\":\"y\",\"type\":\"scatter\"}],                        {\"template\":{\"data\":{\"histogram2dcontour\":[{\"type\":\"histogram2dcontour\",\"colorbar\":{\"outlinewidth\":0,\"ticks\":\"\"},\"colorscale\":[[0.0,\"#0d0887\"],[0.1111111111111111,\"#46039f\"],[0.2222222222222222,\"#7201a8\"],[0.3333333333333333,\"#9c179e\"],[0.4444444444444444,\"#bd3786\"],[0.5555555555555556,\"#d8576b\"],[0.6666666666666666,\"#ed7953\"],[0.7777777777777778,\"#fb9f3a\"],[0.8888888888888888,\"#fdca26\"],[1.0,\"#f0f921\"]]}],\"choropleth\":[{\"type\":\"choropleth\",\"colorbar\":{\"outlinewidth\":0,\"ticks\":\"\"}}],\"histogram2d\":[{\"type\":\"histogram2d\",\"colorbar\":{\"outlinewidth\":0,\"ticks\":\"\"},\"colorscale\":[[0.0,\"#0d0887\"],[0.1111111111111111,\"#46039f\"],[0.2222222222222222,\"#7201a8\"],[0.3333333333333333,\"#9c179e\"],[0.4444444444444444,\"#bd3786\"],[0.5555555555555556,\"#d8576b\"],[0.6666666666666666,\"#ed7953\"],[0.7777777777777778,\"#fb9f3a\"],[0.8888888888888888,\"#fdca26\"],[1.0,\"#f0f921\"]]}],\"heatmap\":[{\"type\":\"heatmap\",\"colorbar\":{\"outlinewidth\":0,\"ticks\":\"\"},\"colorscale\":[[0.0,\"#0d0887\"],[0.1111111111111111,\"#46039f\"],[0.2222222222222222,\"#7201a8\"],[0.3333333333333333,\"#9c179e\"],[0.4444444444444444,\"#bd3786\"],[0.5555555555555556,\"#d8576b\"],[0.6666666666666666,\"#ed7953\"],[0.7777777777777778,\"#fb9f3a\"],[0.8888888888888888,\"#fdca26\"],[1.0,\"#f0f921\"]]}],\"heatmapgl\":[{\"type\":\"heatmapgl\",\"colorbar\":{\"outlinewidth\":0,\"ticks\":\"\"},\"colorscale\":[[0.0,\"#0d0887\"],[0.1111111111111111,\"#46039f\"],[0.2222222222222222,\"#7201a8\"],[0.3333333333333333,\"#9c179e\"],[0.4444444444444444,\"#bd3786\"],[0.5555555555555556,\"#d8576b\"],[0.6666666666666666,\"#ed7953\"],[0.7777777777777778,\"#fb9f3a\"],[0.8888888888888888,\"#fdca26\"],[1.0,\"#f0f921\"]]}],\"contourcarpet\":[{\"type\":\"contourcarpet\",\"colorbar\":{\"outlinewidth\":0,\"ticks\":\"\"}}],\"contour\":[{\"type\":\"contour\",\"colorbar\":{\"outlinewidth\":0,\"ticks\":\"\"},\"colorscale\":[[0.0,\"#0d0887\"],[0.1111111111111111,\"#46039f\"],[0.2222222222222222,\"#7201a8\"],[0.3333333333333333,\"#9c179e\"],[0.4444444444444444,\"#bd3786\"],[0.5555555555555556,\"#d8576b\"],[0.6666666666666666,\"#ed7953\"],[0.7777777777777778,\"#fb9f3a\"],[0.8888888888888888,\"#fdca26\"],[1.0,\"#f0f921\"]]}],\"surface\":[{\"type\":\"surface\",\"colorbar\":{\"outlinewidth\":0,\"ticks\":\"\"},\"colorscale\":[[0.0,\"#0d0887\"],[0.1111111111111111,\"#46039f\"],[0.2222222222222222,\"#7201a8\"],[0.3333333333333333,\"#9c179e\"],[0.4444444444444444,\"#bd3786\"],[0.5555555555555556,\"#d8576b\"],[0.6666666666666666,\"#ed7953\"],[0.7777777777777778,\"#fb9f3a\"],[0.8888888888888888,\"#fdca26\"],[1.0,\"#f0f921\"]]}],\"mesh3d\":[{\"type\":\"mesh3d\",\"colorbar\":{\"outlinewidth\":0,\"ticks\":\"\"}}],\"scatter\":[{\"fillpattern\":{\"fillmode\":\"overlay\",\"size\":10,\"solidity\":0.2},\"type\":\"scatter\"}],\"parcoords\":[{\"type\":\"parcoords\",\"line\":{\"colorbar\":{\"outlinewidth\":0,\"ticks\":\"\"}}}],\"scatterpolargl\":[{\"type\":\"scatterpolargl\",\"marker\":{\"colorbar\":{\"outlinewidth\":0,\"ticks\":\"\"}}}],\"bar\":[{\"error_x\":{\"color\":\"#2a3f5f\"},\"error_y\":{\"color\":\"#2a3f5f\"},\"marker\":{\"line\":{\"color\":\"#E5ECF6\",\"width\":0.5},\"pattern\":{\"fillmode\":\"overlay\",\"size\":10,\"solidity\":0.2}},\"type\":\"bar\"}],\"scattergeo\":[{\"type\":\"scattergeo\",\"marker\":{\"colorbar\":{\"outlinewidth\":0,\"ticks\":\"\"}}}],\"scatterpolar\":[{\"type\":\"scatterpolar\",\"marker\":{\"colorbar\":{\"outlinewidth\":0,\"ticks\":\"\"}}}],\"histogram\":[{\"marker\":{\"pattern\":{\"fillmode\":\"overlay\",\"size\":10,\"solidity\":0.2}},\"type\":\"histogram\"}],\"scattergl\":[{\"type\":\"scattergl\",\"marker\":{\"colorbar\":{\"outlinewidth\":0,\"ticks\":\"\"}}}],\"scatter3d\":[{\"type\":\"scatter3d\",\"line\":{\"colorbar\":{\"outlinewidth\":0,\"ticks\":\"\"}},\"marker\":{\"colorbar\":{\"outlinewidth\":0,\"ticks\":\"\"}}}],\"scattermapbox\":[{\"type\":\"scattermapbox\",\"marker\":{\"colorbar\":{\"outlinewidth\":0,\"ticks\":\"\"}}}],\"scatterternary\":[{\"type\":\"scatterternary\",\"marker\":{\"colorbar\":{\"outlinewidth\":0,\"ticks\":\"\"}}}],\"scattercarpet\":[{\"type\":\"scattercarpet\",\"marker\":{\"colorbar\":{\"outlinewidth\":0,\"ticks\":\"\"}}}],\"carpet\":[{\"aaxis\":{\"endlinecolor\":\"#2a3f5f\",\"gridcolor\":\"white\",\"linecolor\":\"white\",\"minorgridcolor\":\"white\",\"startlinecolor\":\"#2a3f5f\"},\"baxis\":{\"endlinecolor\":\"#2a3f5f\",\"gridcolor\":\"white\",\"linecolor\":\"white\",\"minorgridcolor\":\"white\",\"startlinecolor\":\"#2a3f5f\"},\"type\":\"carpet\"}],\"table\":[{\"cells\":{\"fill\":{\"color\":\"#EBF0F8\"},\"line\":{\"color\":\"white\"}},\"header\":{\"fill\":{\"color\":\"#C8D4E3\"},\"line\":{\"color\":\"white\"}},\"type\":\"table\"}],\"barpolar\":[{\"marker\":{\"line\":{\"color\":\"#E5ECF6\",\"width\":0.5},\"pattern\":{\"fillmode\":\"overlay\",\"size\":10,\"solidity\":0.2}},\"type\":\"barpolar\"}],\"pie\":[{\"automargin\":true,\"type\":\"pie\"}]},\"layout\":{\"autotypenumbers\":\"strict\",\"colorway\":[\"#636efa\",\"#EF553B\",\"#00cc96\",\"#ab63fa\",\"#FFA15A\",\"#19d3f3\",\"#FF6692\",\"#B6E880\",\"#FF97FF\",\"#FECB52\"],\"font\":{\"color\":\"#2a3f5f\"},\"hovermode\":\"closest\",\"hoverlabel\":{\"align\":\"left\"},\"paper_bgcolor\":\"white\",\"plot_bgcolor\":\"#E5ECF6\",\"polar\":{\"bgcolor\":\"#E5ECF6\",\"angularaxis\":{\"gridcolor\":\"white\",\"linecolor\":\"white\",\"ticks\":\"\"},\"radialaxis\":{\"gridcolor\":\"white\",\"linecolor\":\"white\",\"ticks\":\"\"}},\"ternary\":{\"bgcolor\":\"#E5ECF6\",\"aaxis\":{\"gridcolor\":\"white\",\"linecolor\":\"white\",\"ticks\":\"\"},\"baxis\":{\"gridcolor\":\"white\",\"linecolor\":\"white\",\"ticks\":\"\"},\"caxis\":{\"gridcolor\":\"white\",\"linecolor\":\"white\",\"ticks\":\"\"}},\"coloraxis\":{\"colorbar\":{\"outlinewidth\":0,\"ticks\":\"\"}},\"colorscale\":{\"sequential\":[[0.0,\"#0d0887\"],[0.1111111111111111,\"#46039f\"],[0.2222222222222222,\"#7201a8\"],[0.3333333333333333,\"#9c179e\"],[0.4444444444444444,\"#bd3786\"],[0.5555555555555556,\"#d8576b\"],[0.6666666666666666,\"#ed7953\"],[0.7777777777777778,\"#fb9f3a\"],[0.8888888888888888,\"#fdca26\"],[1.0,\"#f0f921\"]],\"sequentialminus\":[[0.0,\"#0d0887\"],[0.1111111111111111,\"#46039f\"],[0.2222222222222222,\"#7201a8\"],[0.3333333333333333,\"#9c179e\"],[0.4444444444444444,\"#bd3786\"],[0.5555555555555556,\"#d8576b\"],[0.6666666666666666,\"#ed7953\"],[0.7777777777777778,\"#fb9f3a\"],[0.8888888888888888,\"#fdca26\"],[1.0,\"#f0f921\"]],\"diverging\":[[0,\"#8e0152\"],[0.1,\"#c51b7d\"],[0.2,\"#de77ae\"],[0.3,\"#f1b6da\"],[0.4,\"#fde0ef\"],[0.5,\"#f7f7f7\"],[0.6,\"#e6f5d0\"],[0.7,\"#b8e186\"],[0.8,\"#7fbc41\"],[0.9,\"#4d9221\"],[1,\"#276419\"]]},\"xaxis\":{\"gridcolor\":\"white\",\"linecolor\":\"white\",\"ticks\":\"\",\"title\":{\"standoff\":15},\"zerolinecolor\":\"white\",\"automargin\":true,\"zerolinewidth\":2},\"yaxis\":{\"gridcolor\":\"white\",\"linecolor\":\"white\",\"ticks\":\"\",\"title\":{\"standoff\":15},\"zerolinecolor\":\"white\",\"automargin\":true,\"zerolinewidth\":2},\"scene\":{\"xaxis\":{\"backgroundcolor\":\"#E5ECF6\",\"gridcolor\":\"white\",\"linecolor\":\"white\",\"showbackground\":true,\"ticks\":\"\",\"zerolinecolor\":\"white\",\"gridwidth\":2},\"yaxis\":{\"backgroundcolor\":\"#E5ECF6\",\"gridcolor\":\"white\",\"linecolor\":\"white\",\"showbackground\":true,\"ticks\":\"\",\"zerolinecolor\":\"white\",\"gridwidth\":2},\"zaxis\":{\"backgroundcolor\":\"#E5ECF6\",\"gridcolor\":\"white\",\"linecolor\":\"white\",\"showbackground\":true,\"ticks\":\"\",\"zerolinecolor\":\"white\",\"gridwidth\":2}},\"shapedefaults\":{\"line\":{\"color\":\"#2a3f5f\"}},\"annotationdefaults\":{\"arrowcolor\":\"#2a3f5f\",\"arrowhead\":0,\"arrowwidth\":1},\"geo\":{\"bgcolor\":\"white\",\"landcolor\":\"#E5ECF6\",\"subunitcolor\":\"white\",\"showland\":true,\"showlakes\":true,\"lakecolor\":\"white\"},\"title\":{\"x\":0.05},\"mapbox\":{\"style\":\"light\"}}},\"xaxis\":{\"anchor\":\"y\",\"domain\":[0.0,1.0],\"title\":{\"text\":\"Year\"}},\"yaxis\":{\"anchor\":\"x\",\"domain\":[0.0,1.0],\"title\":{\"text\":\"Population\"}},\"legend\":{\"tracegroupgap\":0},\"title\":{\"text\":\"Population Evolution of Switzerland\"},\"margin\":{\"l\":60,\"r\":60,\"t\":60,\"b\":60},\"coloraxis\":{\"showscale\":false},\"width\":800,\"height\":500},                        {\"responsive\": true}                    ).then(function(){\n",
       "                            \n",
       "var gd = document.getElementById('3d900531-1682-4e35-82fd-44bdafddf3a7');\n",
       "var x = new MutationObserver(function (mutations, observer) {{\n",
       "        var display = window.getComputedStyle(gd).display;\n",
       "        if (!display || display === 'none') {{\n",
       "            console.log([gd, 'removed!']);\n",
       "            Plotly.purge(gd);\n",
       "            observer.disconnect();\n",
       "        }}\n",
       "}});\n",
       "\n",
       "// Listen for the removal of the full notebook cells\n",
       "var notebookContainer = gd.closest('#notebook-container');\n",
       "if (notebookContainer) {{\n",
       "    x.observe(notebookContainer, {childList: true});\n",
       "}}\n",
       "\n",
       "// Listen for the clearing of the current output cell\n",
       "var outputEl = gd.closest('.output');\n",
       "if (outputEl) {{\n",
       "    x.observe(outputEl, {childList: true});\n",
       "}}\n",
       "\n",
       "                        })                };                });            </script>        </div>"
      ]
     },
     "metadata": {},
     "output_type": "display_data"
    }
   ],
   "source": [
    "# Create a DataFrame\n",
    "df = pd.DataFrame({\"Year\": years, \"Population\": pop})\n",
    "\n",
    "# Create a line plot\n",
    "fig = px.line(\n",
    "    df,\n",
    "    x=\"Year\",\n",
    "    y=\"Population\",\n",
    "    title=\"Population Evolution of Switzerland\",\n",
    "    labels={\"Population\": \"Population\", \"Year\": \"Year\"},\n",
    ")\n",
    "\n",
    "# To format and save figures\n",
    "fig.update_layout(\n",
    "    margin=dict(l=60, r=60, t=60, b=60),\n",
    "    coloraxis_showscale=False,  # Remove the color bar\n",
    "    width=800,  # Width of the figure in pixels\n",
    "    height=500,  # Height of the figure in pixels\n",
    ")\n",
    "\n",
    "# Show the plot\n",
    "fig.show()"
   ]
  },
  {
   "cell_type": "markdown",
   "metadata": {},
   "source": [
    "### Dataframe\n",
    "A dataframe (df) contain a dictionary, it's a list of values linked to keys. The size of the df is define by the number of values (row) and keys (columns).\n",
    "\n",
    "When a df is created, an index is autocreate if we don't specify one, it contain a list from 0 to n-1 (n = number of values)."
   ]
  },
  {
   "cell_type": "code",
   "execution_count": 606,
   "metadata": {},
   "outputs": [],
   "source": [
    "exemple_of_dictionnary = {\n",
    "    \"key 1\": [1, 2, 3, 4, 5],\n",
    "    \"key 2\": [1, 2, 3, 4, 5],\n",
    "    \"key 3\": 3,\n",
    "    \"key 4\": [\"a\", \"b\", \"c\", \"D\", \"E\"],\n",
    "}\n",
    "pd_exemple = pd.DataFrame(exemple_of_dictionnary)\n",
    "##Add a column\n",
    "pd_exemple[\"year\"] = [\n",
    "    2010,\n",
    "    2011,\n",
    "    2012,\n",
    "    2013,\n",
    "    2014,\n",
    "]\n",
    "\n",
    "##Change a column to index\n",
    "pd_exemple_2 = pd_exemple.set_index(\"year\")"
   ]
  },
  {
   "cell_type": "code",
   "execution_count": 607,
   "metadata": {},
   "outputs": [
    {
     "name": "stdout",
     "output_type": "stream",
     "text": [
      "Base index :\n",
      "    key 1  key 2  key 3 key 4  year\n",
      "0      1      1      3     a  2010\n",
      "1      2      2      3     b  2011\n",
      "2      3      3      3     c  2012\n",
      "3      4      4      3     D  2013\n",
      "4      5      5      3     E  2014\n",
      "Custom index :\n",
      "       key 1  key 2  key 3 key 4\n",
      "year                           \n",
      "2010      1      1      3     a\n",
      "2011      2      2      3     b\n",
      "2012      3      3      3     c\n",
      "2013      4      4      3     D\n",
      "2014      5      5      3     E\n"
     ]
    }
   ],
   "source": [
    "print(\"Base index :\\n\", pd_exemple)\n",
    "print(\"Custom index :\\n\", pd_exemple_2)"
   ]
  },
  {
   "cell_type": "markdown",
   "metadata": {},
   "source": [
    "> **Note** In a df, each column is a series. A series is a one-dimensional array containing data of any type."
   ]
  },
  {
   "cell_type": "code",
   "execution_count": 608,
   "metadata": {},
   "outputs": [
    {
     "data": {
      "text/plain": [
       "pandas.core.series.Series"
      ]
     },
     "execution_count": 608,
     "metadata": {},
     "output_type": "execute_result"
    }
   ],
   "source": [
    "type(pd_exemple[\"year\"])"
   ]
  },
  {
   "cell_type": "markdown",
   "metadata": {},
   "source": [
    "#### Access to dataframe values "
   ]
  },
  {
   "cell_type": "markdown",
   "metadata": {},
   "source": [
    "##### Access to the column value(s) :\n"
   ]
  },
  {
   "cell_type": "markdown",
   "metadata": {},
   "source": [
    "\n",
    "The two methodes :\n",
    "\n",
    "Dot Notation (`.column_name`)\n",
    "- **Syntax**: `dataframe.column_name`\n",
    "- **Usage**: This is a shorthand for accessing columns.\n",
    "- **Limitations**:\n",
    "  - The column name must be a valid Python identifier (e.g., no spaces, special characters, or starting with a number).\n",
    "  - It can lead to ambiguity if the column name conflicts with DataFrame methods or attributes.\n",
    "Bracket Notation (`[\"column_name\"]`)\n",
    "- **Syntax**: `dataframe[\"column_name\"]`\n",
    "- **Usage**: This is the more flexible and recommended way to access columns.\n",
    "- **Advantages**:\n",
    "  - Can handle column names with spaces, special characters, or names that are not valid Python identifiers.\n",
    "  - Avoids conflicts with DataFrame methods or attributes."
   ]
  },
  {
   "cell_type": "markdown",
   "metadata": {},
   "source": [
    "<details>\n",
    "<summary>Name column problem</summary>\n",
    "\n",
    "The method to access a column use the name of the column, and sometimes the name contain space. \n",
    "\n",
    "In this case, the first method can't work, this [link](https://saturncloud.io/blog/how-to-access-pandas-columns-with-spaces-in-column-names/) explain the problem.\n",
    "\n",
    "</details>"
   ]
  },
  {
   "cell_type": "code",
   "execution_count": 609,
   "metadata": {},
   "outputs": [
    {
     "name": "stdout",
     "output_type": "stream",
     "text": [
      "Access to column:\n",
      " 0    1\n",
      "1    2\n",
      "2    3\n",
      "3    4\n",
      "4    5\n",
      "Name: key 1, dtype: int64\n",
      "Access to column:\n",
      " year\n",
      "2010    1\n",
      "2011    2\n",
      "2012    3\n",
      "2013    4\n",
      "2014    5\n",
      "Name: key 1, dtype: int64\n",
      "Access to column other methode:\n",
      " 0    2010\n",
      "1    2011\n",
      "2    2012\n",
      "3    2013\n",
      "4    2014\n",
      "Name: year, dtype: int64\n",
      "Access to multiple columns:\n",
      "    key 1  key 3\n",
      "0      1      3\n",
      "1      2      3\n",
      "2      3      3\n",
      "3      4      3\n",
      "4      5      3\n"
     ]
    }
   ],
   "source": [
    "print(\"Access to column:\\n\", pd_exemple[\"key 1\"])\n",
    "print(\"Access to column:\\n\", pd_exemple_2[\"key 1\"])\n",
    "print(\"Access to column other methode:\\n\", pd_exemple.year)\n",
    "print(\"Access to multiple columns:\\n\", pd_exemple[[\"key 1\", \"key 3\"]])"
   ]
  },
  {
   "cell_type": "markdown",
   "metadata": {},
   "source": [
    "##### Access the row value(s) :"
   ]
  },
  {
   "cell_type": "markdown",
   "metadata": {},
   "source": [
    "The `.loc` and `.iloc` methods in Pandas are used for accessing and manipulating data in DataFrames, but they differ in how they select data.\n",
    "\n",
    "- ``.loc``: Use when you want to select data by labels.\n",
    "- `.iloc`: Use when you want to select data by integer positions.\n",
    "\n",
    "To use `loc`, we create a series of boolean value that we passe to the function, this series is construct by the equality operator `==`, we check, p.ex. a column with a value.\n",
    "\n",
    "And for `iloc`, we just pass an integer who correspond to the index position. \n",
    "\n",
    "More selection possibility for [loc](https://pandas.pydata.org/docs/reference/api/pandas.DataFrame.loc.html) and [iloc](https://pandas.pydata.org/docs/reference/api/pandas.DataFrame.iloc.html)."
   ]
  },
  {
   "cell_type": "code",
   "execution_count": 610,
   "metadata": {},
   "outputs": [
    {
     "name": "stdout",
     "output_type": "stream",
     "text": [
      "Index access to row:\n",
      " key 1       1\n",
      "key 2       1\n",
      "key 3       3\n",
      "key 4       a\n",
      "year     2010\n",
      "Name: 0, dtype: object\n",
      "Index access to row:\n",
      " key 1    1\n",
      "key 2    1\n",
      "key 3    3\n",
      "key 4    a\n",
      "Name: 2010, dtype: object\n",
      "Access to specific element\n",
      "       key 1  key 2  key 3 key 4\n",
      "year                           \n",
      "2013      4      4      3     D\n",
      "Index access to multiple row:\n",
      "       key 1  key 2  key 3 key 4\n",
      "year                           \n",
      "2010      1      1      3     a\n",
      "2011      2      2      3     b\n",
      "2012      3      3      3     c\n"
     ]
    }
   ],
   "source": [
    "print(\"Index access to row:\\n\", pd_exemple.loc[0])\n",
    "print(\"Index access to row:\\n\", pd_exemple_2.loc[2010])\n",
    "print(\"Access to specific element\\n\", pd_exemple_2.loc[pd_exemple_2[\"key 4\"] == \"D\"])\n",
    "print(\"Index access to multiple row:\\n\", pd_exemple_2.loc[2010:2012])"
   ]
  },
  {
   "cell_type": "markdown",
   "metadata": {},
   "source": [
    "## Use external data files like csv"
   ]
  },
  {
   "cell_type": "markdown",
   "metadata": {},
   "source": [
    "Now I would like to use the same value but from a csv file, and only save the value from Switzerland, not for all the countries. Also charging the electricity values."
   ]
  },
  {
   "cell_type": "code",
   "execution_count": 611,
   "metadata": {},
   "outputs": [
    {
     "name": "stdout",
     "output_type": "stream",
     "text": [
      "We are here /home/thierryfra/github/pro/rht\n",
      "We are here /home/thierryfra/github/pro/rht/tutorials\n"
     ]
    }
   ],
   "source": [
    "# Go to the good workplace folder\n",
    "# os.chdir(\"..\")\n",
    "os.chdir(os.getcwd().replace(\"/tutorials\", \"\"))\n",
    "print(\"We are here\", os.getcwd())\n",
    "os.chdir(\"tutorials\")\n",
    "print(\"We are here\", os.getcwd())"
   ]
  },
  {
   "cell_type": "code",
   "execution_count": 612,
   "metadata": {},
   "outputs": [],
   "source": [
    "# Load data from our world in data\n",
    "\n",
    "df_population = pd.read_csv(\"data/population-and-demography.csv\", sep=\",\")\n",
    "df_electricity_generation = pd.read_csv(\"data/electricity-generation.csv\", sep=\",\")\n",
    "# Take only swiss data = row selection\n",
    "df_swiss_population = df_population.loc[df_population[\"Entity\"] == \"Switzerland\"]\n",
    "df_swiss_electricity_generation = df_electricity_generation.loc[\n",
    "    df_electricity_generation[\"Entity\"] == \"Switzerland\"\n",
    "]"
   ]
  },
  {
   "cell_type": "markdown",
   "metadata": {},
   "source": [
    "The first thing when we create a dataframe from csv file or other sources, is to check the data :"
   ]
  },
  {
   "cell_type": "code",
   "execution_count": 613,
   "metadata": {},
   "outputs": [
    {
     "name": "stdout",
     "output_type": "stream",
     "text": [
      "<class 'pandas.core.frame.DataFrame'>\n",
      "Index: 74 entries, 16428 to 16501\n",
      "Data columns (total 4 columns):\n",
      " #   Column                                                 Non-Null Count  Dtype \n",
      "---  ------                                                 --------------  ----- \n",
      " 0   Entity                                                 74 non-null     object\n",
      " 1   Code                                                   74 non-null     object\n",
      " 2   Year                                                   74 non-null     int64 \n",
      " 3   Population - Sex: all - Age: all - Variant: estimates  74 non-null     int64 \n",
      "dtypes: int64(2), object(2)\n",
      "memory usage: 2.9+ KB\n"
     ]
    }
   ],
   "source": [
    "df_swiss_population.info()"
   ]
  },
  {
   "cell_type": "code",
   "execution_count": 614,
   "metadata": {},
   "outputs": [
    {
     "data": {
      "text/html": [
       "<div>\n",
       "<style scoped>\n",
       "    .dataframe tbody tr th:only-of-type {\n",
       "        vertical-align: middle;\n",
       "    }\n",
       "\n",
       "    .dataframe tbody tr th {\n",
       "        vertical-align: top;\n",
       "    }\n",
       "\n",
       "    .dataframe thead th {\n",
       "        text-align: right;\n",
       "    }\n",
       "</style>\n",
       "<table border=\"1\" class=\"dataframe\">\n",
       "  <thead>\n",
       "    <tr style=\"text-align: right;\">\n",
       "      <th></th>\n",
       "      <th>Entity</th>\n",
       "      <th>Code</th>\n",
       "      <th>Year</th>\n",
       "      <th>Population - Sex: all - Age: all - Variant: estimates</th>\n",
       "    </tr>\n",
       "  </thead>\n",
       "  <tbody>\n",
       "    <tr>\n",
       "      <th>16428</th>\n",
       "      <td>Switzerland</td>\n",
       "      <td>CHE</td>\n",
       "      <td>1950</td>\n",
       "      <td>4692642</td>\n",
       "    </tr>\n",
       "    <tr>\n",
       "      <th>16429</th>\n",
       "      <td>Switzerland</td>\n",
       "      <td>CHE</td>\n",
       "      <td>1951</td>\n",
       "      <td>4748088</td>\n",
       "    </tr>\n",
       "    <tr>\n",
       "      <th>16430</th>\n",
       "      <td>Switzerland</td>\n",
       "      <td>CHE</td>\n",
       "      <td>1952</td>\n",
       "      <td>4811614</td>\n",
       "    </tr>\n",
       "    <tr>\n",
       "      <th>16431</th>\n",
       "      <td>Switzerland</td>\n",
       "      <td>CHE</td>\n",
       "      <td>1953</td>\n",
       "      <td>4875655</td>\n",
       "    </tr>\n",
       "    <tr>\n",
       "      <th>16432</th>\n",
       "      <td>Switzerland</td>\n",
       "      <td>CHE</td>\n",
       "      <td>1954</td>\n",
       "      <td>4938751</td>\n",
       "    </tr>\n",
       "    <tr>\n",
       "      <th>16433</th>\n",
       "      <td>Switzerland</td>\n",
       "      <td>CHE</td>\n",
       "      <td>1955</td>\n",
       "      <td>5002116</td>\n",
       "    </tr>\n",
       "    <tr>\n",
       "      <th>16434</th>\n",
       "      <td>Switzerland</td>\n",
       "      <td>CHE</td>\n",
       "      <td>1956</td>\n",
       "      <td>5065626</td>\n",
       "    </tr>\n",
       "    <tr>\n",
       "      <th>16435</th>\n",
       "      <td>Switzerland</td>\n",
       "      <td>CHE</td>\n",
       "      <td>1957</td>\n",
       "      <td>5130170</td>\n",
       "    </tr>\n",
       "    <tr>\n",
       "      <th>16436</th>\n",
       "      <td>Switzerland</td>\n",
       "      <td>CHE</td>\n",
       "      <td>1958</td>\n",
       "      <td>5196449</td>\n",
       "    </tr>\n",
       "    <tr>\n",
       "      <th>16437</th>\n",
       "      <td>Switzerland</td>\n",
       "      <td>CHE</td>\n",
       "      <td>1959</td>\n",
       "      <td>5262809</td>\n",
       "    </tr>\n",
       "    <tr>\n",
       "      <th>16438</th>\n",
       "      <td>Switzerland</td>\n",
       "      <td>CHE</td>\n",
       "      <td>1960</td>\n",
       "      <td>5327776</td>\n",
       "    </tr>\n",
       "    <tr>\n",
       "      <th>16439</th>\n",
       "      <td>Switzerland</td>\n",
       "      <td>CHE</td>\n",
       "      <td>1961</td>\n",
       "      <td>5434125</td>\n",
       "    </tr>\n",
       "    <tr>\n",
       "      <th>16440</th>\n",
       "      <td>Switzerland</td>\n",
       "      <td>CHE</td>\n",
       "      <td>1962</td>\n",
       "      <td>5573701</td>\n",
       "    </tr>\n",
       "    <tr>\n",
       "      <th>16441</th>\n",
       "      <td>Switzerland</td>\n",
       "      <td>CHE</td>\n",
       "      <td>1963</td>\n",
       "      <td>5694162</td>\n",
       "    </tr>\n",
       "    <tr>\n",
       "      <th>16442</th>\n",
       "      <td>Switzerland</td>\n",
       "      <td>CHE</td>\n",
       "      <td>1964</td>\n",
       "      <td>5789156</td>\n",
       "    </tr>\n",
       "    <tr>\n",
       "      <th>16443</th>\n",
       "      <td>Switzerland</td>\n",
       "      <td>CHE</td>\n",
       "      <td>1965</td>\n",
       "      <td>5856417</td>\n",
       "    </tr>\n",
       "    <tr>\n",
       "      <th>16444</th>\n",
       "      <td>Switzerland</td>\n",
       "      <td>CHE</td>\n",
       "      <td>1966</td>\n",
       "      <td>5917969</td>\n",
       "    </tr>\n",
       "    <tr>\n",
       "      <th>16445</th>\n",
       "      <td>Switzerland</td>\n",
       "      <td>CHE</td>\n",
       "      <td>1967</td>\n",
       "      <td>5991734</td>\n",
       "    </tr>\n",
       "    <tr>\n",
       "      <th>16446</th>\n",
       "      <td>Switzerland</td>\n",
       "      <td>CHE</td>\n",
       "      <td>1968</td>\n",
       "      <td>6067659</td>\n",
       "    </tr>\n",
       "    <tr>\n",
       "      <th>16447</th>\n",
       "      <td>Switzerland</td>\n",
       "      <td>CHE</td>\n",
       "      <td>1969</td>\n",
       "      <td>6136354</td>\n",
       "    </tr>\n",
       "    <tr>\n",
       "      <th>16448</th>\n",
       "      <td>Switzerland</td>\n",
       "      <td>CHE</td>\n",
       "      <td>1970</td>\n",
       "      <td>6180925</td>\n",
       "    </tr>\n",
       "    <tr>\n",
       "      <th>16449</th>\n",
       "      <td>Switzerland</td>\n",
       "      <td>CHE</td>\n",
       "      <td>1971</td>\n",
       "      <td>6213535</td>\n",
       "    </tr>\n",
       "    <tr>\n",
       "      <th>16450</th>\n",
       "      <td>Switzerland</td>\n",
       "      <td>CHE</td>\n",
       "      <td>1972</td>\n",
       "      <td>6261087</td>\n",
       "    </tr>\n",
       "    <tr>\n",
       "      <th>16451</th>\n",
       "      <td>Switzerland</td>\n",
       "      <td>CHE</td>\n",
       "      <td>1973</td>\n",
       "      <td>6307408</td>\n",
       "    </tr>\n",
       "    <tr>\n",
       "      <th>16452</th>\n",
       "      <td>Switzerland</td>\n",
       "      <td>CHE</td>\n",
       "      <td>1974</td>\n",
       "      <td>6341381</td>\n",
       "    </tr>\n",
       "    <tr>\n",
       "      <th>16453</th>\n",
       "      <td>Switzerland</td>\n",
       "      <td>CHE</td>\n",
       "      <td>1975</td>\n",
       "      <td>6338600</td>\n",
       "    </tr>\n",
       "    <tr>\n",
       "      <th>16454</th>\n",
       "      <td>Switzerland</td>\n",
       "      <td>CHE</td>\n",
       "      <td>1976</td>\n",
       "      <td>6302555</td>\n",
       "    </tr>\n",
       "    <tr>\n",
       "      <th>16455</th>\n",
       "      <td>Switzerland</td>\n",
       "      <td>CHE</td>\n",
       "      <td>1977</td>\n",
       "      <td>6281365</td>\n",
       "    </tr>\n",
       "    <tr>\n",
       "      <th>16456</th>\n",
       "      <td>Switzerland</td>\n",
       "      <td>CHE</td>\n",
       "      <td>1978</td>\n",
       "      <td>6282044</td>\n",
       "    </tr>\n",
       "    <tr>\n",
       "      <th>16457</th>\n",
       "      <td>Switzerland</td>\n",
       "      <td>CHE</td>\n",
       "      <td>1979</td>\n",
       "      <td>6294719</td>\n",
       "    </tr>\n",
       "    <tr>\n",
       "      <th>16458</th>\n",
       "      <td>Switzerland</td>\n",
       "      <td>CHE</td>\n",
       "      <td>1980</td>\n",
       "      <td>6319848</td>\n",
       "    </tr>\n",
       "    <tr>\n",
       "      <th>16459</th>\n",
       "      <td>Switzerland</td>\n",
       "      <td>CHE</td>\n",
       "      <td>1981</td>\n",
       "      <td>6354561</td>\n",
       "    </tr>\n",
       "    <tr>\n",
       "      <th>16460</th>\n",
       "      <td>Switzerland</td>\n",
       "      <td>CHE</td>\n",
       "      <td>1982</td>\n",
       "      <td>6391805</td>\n",
       "    </tr>\n",
       "    <tr>\n",
       "      <th>16461</th>\n",
       "      <td>Switzerland</td>\n",
       "      <td>CHE</td>\n",
       "      <td>1983</td>\n",
       "      <td>6419309</td>\n",
       "    </tr>\n",
       "    <tr>\n",
       "      <th>16462</th>\n",
       "      <td>Switzerland</td>\n",
       "      <td>CHE</td>\n",
       "      <td>1984</td>\n",
       "      <td>6442418</td>\n",
       "    </tr>\n",
       "    <tr>\n",
       "      <th>16463</th>\n",
       "      <td>Switzerland</td>\n",
       "      <td>CHE</td>\n",
       "      <td>1985</td>\n",
       "      <td>6470959</td>\n",
       "    </tr>\n",
       "    <tr>\n",
       "      <th>16464</th>\n",
       "      <td>Switzerland</td>\n",
       "      <td>CHE</td>\n",
       "      <td>1986</td>\n",
       "      <td>6504748</td>\n",
       "    </tr>\n",
       "    <tr>\n",
       "      <th>16465</th>\n",
       "      <td>Switzerland</td>\n",
       "      <td>CHE</td>\n",
       "      <td>1987</td>\n",
       "      <td>6545771</td>\n",
       "    </tr>\n",
       "    <tr>\n",
       "      <th>16466</th>\n",
       "      <td>Switzerland</td>\n",
       "      <td>CHE</td>\n",
       "      <td>1988</td>\n",
       "      <td>6594145</td>\n",
       "    </tr>\n",
       "    <tr>\n",
       "      <th>16467</th>\n",
       "      <td>Switzerland</td>\n",
       "      <td>CHE</td>\n",
       "      <td>1989</td>\n",
       "      <td>6647786</td>\n",
       "    </tr>\n",
       "    <tr>\n",
       "      <th>16468</th>\n",
       "      <td>Switzerland</td>\n",
       "      <td>CHE</td>\n",
       "      <td>1990</td>\n",
       "      <td>6713167</td>\n",
       "    </tr>\n",
       "    <tr>\n",
       "      <th>16469</th>\n",
       "      <td>Switzerland</td>\n",
       "      <td>CHE</td>\n",
       "      <td>1991</td>\n",
       "      <td>6796942</td>\n",
       "    </tr>\n",
       "    <tr>\n",
       "      <th>16470</th>\n",
       "      <td>Switzerland</td>\n",
       "      <td>CHE</td>\n",
       "      <td>1992</td>\n",
       "      <td>6875049</td>\n",
       "    </tr>\n",
       "    <tr>\n",
       "      <th>16471</th>\n",
       "      <td>Switzerland</td>\n",
       "      <td>CHE</td>\n",
       "      <td>1993</td>\n",
       "      <td>6938107</td>\n",
       "    </tr>\n",
       "    <tr>\n",
       "      <th>16472</th>\n",
       "      <td>Switzerland</td>\n",
       "      <td>CHE</td>\n",
       "      <td>1994</td>\n",
       "      <td>6993594</td>\n",
       "    </tr>\n",
       "    <tr>\n",
       "      <th>16473</th>\n",
       "      <td>Switzerland</td>\n",
       "      <td>CHE</td>\n",
       "      <td>1995</td>\n",
       "      <td>7040481</td>\n",
       "    </tr>\n",
       "    <tr>\n",
       "      <th>16474</th>\n",
       "      <td>Switzerland</td>\n",
       "      <td>CHE</td>\n",
       "      <td>1996</td>\n",
       "      <td>7071884</td>\n",
       "    </tr>\n",
       "    <tr>\n",
       "      <th>16475</th>\n",
       "      <td>Switzerland</td>\n",
       "      <td>CHE</td>\n",
       "      <td>1997</td>\n",
       "      <td>7089163</td>\n",
       "    </tr>\n",
       "    <tr>\n",
       "      <th>16476</th>\n",
       "      <td>Switzerland</td>\n",
       "      <td>CHE</td>\n",
       "      <td>1998</td>\n",
       "      <td>7110294</td>\n",
       "    </tr>\n",
       "    <tr>\n",
       "      <th>16477</th>\n",
       "      <td>Switzerland</td>\n",
       "      <td>CHE</td>\n",
       "      <td>1999</td>\n",
       "      <td>7144118</td>\n",
       "    </tr>\n",
       "    <tr>\n",
       "      <th>16478</th>\n",
       "      <td>Switzerland</td>\n",
       "      <td>CHE</td>\n",
       "      <td>2000</td>\n",
       "      <td>7184003</td>\n",
       "    </tr>\n",
       "    <tr>\n",
       "      <th>16479</th>\n",
       "      <td>Switzerland</td>\n",
       "      <td>CHE</td>\n",
       "      <td>2001</td>\n",
       "      <td>7226391</td>\n",
       "    </tr>\n",
       "    <tr>\n",
       "      <th>16480</th>\n",
       "      <td>Switzerland</td>\n",
       "      <td>CHE</td>\n",
       "      <td>2002</td>\n",
       "      <td>7278744</td>\n",
       "    </tr>\n",
       "    <tr>\n",
       "      <th>16481</th>\n",
       "      <td>Switzerland</td>\n",
       "      <td>CHE</td>\n",
       "      <td>2003</td>\n",
       "      <td>7333450</td>\n",
       "    </tr>\n",
       "    <tr>\n",
       "      <th>16482</th>\n",
       "      <td>Switzerland</td>\n",
       "      <td>CHE</td>\n",
       "      <td>2004</td>\n",
       "      <td>7384196</td>\n",
       "    </tr>\n",
       "    <tr>\n",
       "      <th>16483</th>\n",
       "      <td>Switzerland</td>\n",
       "      <td>CHE</td>\n",
       "      <td>2005</td>\n",
       "      <td>7431824</td>\n",
       "    </tr>\n",
       "    <tr>\n",
       "      <th>16484</th>\n",
       "      <td>Switzerland</td>\n",
       "      <td>CHE</td>\n",
       "      <td>2006</td>\n",
       "      <td>7478514</td>\n",
       "    </tr>\n",
       "    <tr>\n",
       "      <th>16485</th>\n",
       "      <td>Switzerland</td>\n",
       "      <td>CHE</td>\n",
       "      <td>2007</td>\n",
       "      <td>7545386</td>\n",
       "    </tr>\n",
       "    <tr>\n",
       "      <th>16486</th>\n",
       "      <td>Switzerland</td>\n",
       "      <td>CHE</td>\n",
       "      <td>2008</td>\n",
       "      <td>7641729</td>\n",
       "    </tr>\n",
       "    <tr>\n",
       "      <th>16487</th>\n",
       "      <td>Switzerland</td>\n",
       "      <td>CHE</td>\n",
       "      <td>2009</td>\n",
       "      <td>7737642</td>\n",
       "    </tr>\n",
       "    <tr>\n",
       "      <th>16488</th>\n",
       "      <td>Switzerland</td>\n",
       "      <td>CHE</td>\n",
       "      <td>2010</td>\n",
       "      <td>7825751</td>\n",
       "    </tr>\n",
       "    <tr>\n",
       "      <th>16489</th>\n",
       "      <td>Switzerland</td>\n",
       "      <td>CHE</td>\n",
       "      <td>2011</td>\n",
       "      <td>7914378</td>\n",
       "    </tr>\n",
       "    <tr>\n",
       "      <th>16490</th>\n",
       "      <td>Switzerland</td>\n",
       "      <td>CHE</td>\n",
       "      <td>2012</td>\n",
       "      <td>7998927</td>\n",
       "    </tr>\n",
       "    <tr>\n",
       "      <th>16491</th>\n",
       "      <td>Switzerland</td>\n",
       "      <td>CHE</td>\n",
       "      <td>2013</td>\n",
       "      <td>8091197</td>\n",
       "    </tr>\n",
       "    <tr>\n",
       "      <th>16492</th>\n",
       "      <td>Switzerland</td>\n",
       "      <td>CHE</td>\n",
       "      <td>2014</td>\n",
       "      <td>8190238</td>\n",
       "    </tr>\n",
       "    <tr>\n",
       "      <th>16493</th>\n",
       "      <td>Switzerland</td>\n",
       "      <td>CHE</td>\n",
       "      <td>2015</td>\n",
       "      <td>8283940</td>\n",
       "    </tr>\n",
       "    <tr>\n",
       "      <th>16494</th>\n",
       "      <td>Switzerland</td>\n",
       "      <td>CHE</td>\n",
       "      <td>2016</td>\n",
       "      <td>8374902</td>\n",
       "    </tr>\n",
       "    <tr>\n",
       "      <th>16495</th>\n",
       "      <td>Switzerland</td>\n",
       "      <td>CHE</td>\n",
       "      <td>2017</td>\n",
       "      <td>8453628</td>\n",
       "    </tr>\n",
       "    <tr>\n",
       "      <th>16496</th>\n",
       "      <td>Switzerland</td>\n",
       "      <td>CHE</td>\n",
       "      <td>2018</td>\n",
       "      <td>8516339</td>\n",
       "    </tr>\n",
       "    <tr>\n",
       "      <th>16497</th>\n",
       "      <td>Switzerland</td>\n",
       "      <td>CHE</td>\n",
       "      <td>2019</td>\n",
       "      <td>8577526</td>\n",
       "    </tr>\n",
       "    <tr>\n",
       "      <th>16498</th>\n",
       "      <td>Switzerland</td>\n",
       "      <td>CHE</td>\n",
       "      <td>2020</td>\n",
       "      <td>8640582</td>\n",
       "    </tr>\n",
       "    <tr>\n",
       "      <th>16499</th>\n",
       "      <td>Switzerland</td>\n",
       "      <td>CHE</td>\n",
       "      <td>2021</td>\n",
       "      <td>8707018</td>\n",
       "    </tr>\n",
       "    <tr>\n",
       "      <th>16500</th>\n",
       "      <td>Switzerland</td>\n",
       "      <td>CHE</td>\n",
       "      <td>2022</td>\n",
       "      <td>8792180</td>\n",
       "    </tr>\n",
       "    <tr>\n",
       "      <th>16501</th>\n",
       "      <td>Switzerland</td>\n",
       "      <td>CHE</td>\n",
       "      <td>2023</td>\n",
       "      <td>8870564</td>\n",
       "    </tr>\n",
       "  </tbody>\n",
       "</table>\n",
       "</div>"
      ],
      "text/plain": [
       "            Entity Code  Year  \\\n",
       "16428  Switzerland  CHE  1950   \n",
       "16429  Switzerland  CHE  1951   \n",
       "16430  Switzerland  CHE  1952   \n",
       "16431  Switzerland  CHE  1953   \n",
       "16432  Switzerland  CHE  1954   \n",
       "16433  Switzerland  CHE  1955   \n",
       "16434  Switzerland  CHE  1956   \n",
       "16435  Switzerland  CHE  1957   \n",
       "16436  Switzerland  CHE  1958   \n",
       "16437  Switzerland  CHE  1959   \n",
       "16438  Switzerland  CHE  1960   \n",
       "16439  Switzerland  CHE  1961   \n",
       "16440  Switzerland  CHE  1962   \n",
       "16441  Switzerland  CHE  1963   \n",
       "16442  Switzerland  CHE  1964   \n",
       "16443  Switzerland  CHE  1965   \n",
       "16444  Switzerland  CHE  1966   \n",
       "16445  Switzerland  CHE  1967   \n",
       "16446  Switzerland  CHE  1968   \n",
       "16447  Switzerland  CHE  1969   \n",
       "16448  Switzerland  CHE  1970   \n",
       "16449  Switzerland  CHE  1971   \n",
       "16450  Switzerland  CHE  1972   \n",
       "16451  Switzerland  CHE  1973   \n",
       "16452  Switzerland  CHE  1974   \n",
       "16453  Switzerland  CHE  1975   \n",
       "16454  Switzerland  CHE  1976   \n",
       "16455  Switzerland  CHE  1977   \n",
       "16456  Switzerland  CHE  1978   \n",
       "16457  Switzerland  CHE  1979   \n",
       "16458  Switzerland  CHE  1980   \n",
       "16459  Switzerland  CHE  1981   \n",
       "16460  Switzerland  CHE  1982   \n",
       "16461  Switzerland  CHE  1983   \n",
       "16462  Switzerland  CHE  1984   \n",
       "16463  Switzerland  CHE  1985   \n",
       "16464  Switzerland  CHE  1986   \n",
       "16465  Switzerland  CHE  1987   \n",
       "16466  Switzerland  CHE  1988   \n",
       "16467  Switzerland  CHE  1989   \n",
       "16468  Switzerland  CHE  1990   \n",
       "16469  Switzerland  CHE  1991   \n",
       "16470  Switzerland  CHE  1992   \n",
       "16471  Switzerland  CHE  1993   \n",
       "16472  Switzerland  CHE  1994   \n",
       "16473  Switzerland  CHE  1995   \n",
       "16474  Switzerland  CHE  1996   \n",
       "16475  Switzerland  CHE  1997   \n",
       "16476  Switzerland  CHE  1998   \n",
       "16477  Switzerland  CHE  1999   \n",
       "16478  Switzerland  CHE  2000   \n",
       "16479  Switzerland  CHE  2001   \n",
       "16480  Switzerland  CHE  2002   \n",
       "16481  Switzerland  CHE  2003   \n",
       "16482  Switzerland  CHE  2004   \n",
       "16483  Switzerland  CHE  2005   \n",
       "16484  Switzerland  CHE  2006   \n",
       "16485  Switzerland  CHE  2007   \n",
       "16486  Switzerland  CHE  2008   \n",
       "16487  Switzerland  CHE  2009   \n",
       "16488  Switzerland  CHE  2010   \n",
       "16489  Switzerland  CHE  2011   \n",
       "16490  Switzerland  CHE  2012   \n",
       "16491  Switzerland  CHE  2013   \n",
       "16492  Switzerland  CHE  2014   \n",
       "16493  Switzerland  CHE  2015   \n",
       "16494  Switzerland  CHE  2016   \n",
       "16495  Switzerland  CHE  2017   \n",
       "16496  Switzerland  CHE  2018   \n",
       "16497  Switzerland  CHE  2019   \n",
       "16498  Switzerland  CHE  2020   \n",
       "16499  Switzerland  CHE  2021   \n",
       "16500  Switzerland  CHE  2022   \n",
       "16501  Switzerland  CHE  2023   \n",
       "\n",
       "       Population - Sex: all - Age: all - Variant: estimates  \n",
       "16428                                            4692642      \n",
       "16429                                            4748088      \n",
       "16430                                            4811614      \n",
       "16431                                            4875655      \n",
       "16432                                            4938751      \n",
       "16433                                            5002116      \n",
       "16434                                            5065626      \n",
       "16435                                            5130170      \n",
       "16436                                            5196449      \n",
       "16437                                            5262809      \n",
       "16438                                            5327776      \n",
       "16439                                            5434125      \n",
       "16440                                            5573701      \n",
       "16441                                            5694162      \n",
       "16442                                            5789156      \n",
       "16443                                            5856417      \n",
       "16444                                            5917969      \n",
       "16445                                            5991734      \n",
       "16446                                            6067659      \n",
       "16447                                            6136354      \n",
       "16448                                            6180925      \n",
       "16449                                            6213535      \n",
       "16450                                            6261087      \n",
       "16451                                            6307408      \n",
       "16452                                            6341381      \n",
       "16453                                            6338600      \n",
       "16454                                            6302555      \n",
       "16455                                            6281365      \n",
       "16456                                            6282044      \n",
       "16457                                            6294719      \n",
       "16458                                            6319848      \n",
       "16459                                            6354561      \n",
       "16460                                            6391805      \n",
       "16461                                            6419309      \n",
       "16462                                            6442418      \n",
       "16463                                            6470959      \n",
       "16464                                            6504748      \n",
       "16465                                            6545771      \n",
       "16466                                            6594145      \n",
       "16467                                            6647786      \n",
       "16468                                            6713167      \n",
       "16469                                            6796942      \n",
       "16470                                            6875049      \n",
       "16471                                            6938107      \n",
       "16472                                            6993594      \n",
       "16473                                            7040481      \n",
       "16474                                            7071884      \n",
       "16475                                            7089163      \n",
       "16476                                            7110294      \n",
       "16477                                            7144118      \n",
       "16478                                            7184003      \n",
       "16479                                            7226391      \n",
       "16480                                            7278744      \n",
       "16481                                            7333450      \n",
       "16482                                            7384196      \n",
       "16483                                            7431824      \n",
       "16484                                            7478514      \n",
       "16485                                            7545386      \n",
       "16486                                            7641729      \n",
       "16487                                            7737642      \n",
       "16488                                            7825751      \n",
       "16489                                            7914378      \n",
       "16490                                            7998927      \n",
       "16491                                            8091197      \n",
       "16492                                            8190238      \n",
       "16493                                            8283940      \n",
       "16494                                            8374902      \n",
       "16495                                            8453628      \n",
       "16496                                            8516339      \n",
       "16497                                            8577526      \n",
       "16498                                            8640582      \n",
       "16499                                            8707018      \n",
       "16500                                            8792180      \n",
       "16501                                            8870564      "
      ]
     },
     "execution_count": 614,
     "metadata": {},
     "output_type": "execute_result"
    }
   ],
   "source": [
    "df_swiss_population"
   ]
  },
  {
   "cell_type": "code",
   "execution_count": 615,
   "metadata": {},
   "outputs": [
    {
     "data": {
      "text/html": [
       "<div>\n",
       "<style scoped>\n",
       "    .dataframe tbody tr th:only-of-type {\n",
       "        vertical-align: middle;\n",
       "    }\n",
       "\n",
       "    .dataframe tbody tr th {\n",
       "        vertical-align: top;\n",
       "    }\n",
       "\n",
       "    .dataframe thead th {\n",
       "        text-align: right;\n",
       "    }\n",
       "</style>\n",
       "<table border=\"1\" class=\"dataframe\">\n",
       "  <thead>\n",
       "    <tr style=\"text-align: right;\">\n",
       "      <th></th>\n",
       "      <th>Entity</th>\n",
       "      <th>Code</th>\n",
       "      <th>Year</th>\n",
       "      <th>Population</th>\n",
       "    </tr>\n",
       "  </thead>\n",
       "  <tbody>\n",
       "    <tr>\n",
       "      <th>16428</th>\n",
       "      <td>Switzerland</td>\n",
       "      <td>CHE</td>\n",
       "      <td>1950</td>\n",
       "      <td>4692642</td>\n",
       "    </tr>\n",
       "    <tr>\n",
       "      <th>16429</th>\n",
       "      <td>Switzerland</td>\n",
       "      <td>CHE</td>\n",
       "      <td>1951</td>\n",
       "      <td>4748088</td>\n",
       "    </tr>\n",
       "    <tr>\n",
       "      <th>16430</th>\n",
       "      <td>Switzerland</td>\n",
       "      <td>CHE</td>\n",
       "      <td>1952</td>\n",
       "      <td>4811614</td>\n",
       "    </tr>\n",
       "    <tr>\n",
       "      <th>16431</th>\n",
       "      <td>Switzerland</td>\n",
       "      <td>CHE</td>\n",
       "      <td>1953</td>\n",
       "      <td>4875655</td>\n",
       "    </tr>\n",
       "    <tr>\n",
       "      <th>16432</th>\n",
       "      <td>Switzerland</td>\n",
       "      <td>CHE</td>\n",
       "      <td>1954</td>\n",
       "      <td>4938751</td>\n",
       "    </tr>\n",
       "    <tr>\n",
       "      <th>16433</th>\n",
       "      <td>Switzerland</td>\n",
       "      <td>CHE</td>\n",
       "      <td>1955</td>\n",
       "      <td>5002116</td>\n",
       "    </tr>\n",
       "    <tr>\n",
       "      <th>16434</th>\n",
       "      <td>Switzerland</td>\n",
       "      <td>CHE</td>\n",
       "      <td>1956</td>\n",
       "      <td>5065626</td>\n",
       "    </tr>\n",
       "    <tr>\n",
       "      <th>16435</th>\n",
       "      <td>Switzerland</td>\n",
       "      <td>CHE</td>\n",
       "      <td>1957</td>\n",
       "      <td>5130170</td>\n",
       "    </tr>\n",
       "    <tr>\n",
       "      <th>16436</th>\n",
       "      <td>Switzerland</td>\n",
       "      <td>CHE</td>\n",
       "      <td>1958</td>\n",
       "      <td>5196449</td>\n",
       "    </tr>\n",
       "    <tr>\n",
       "      <th>16437</th>\n",
       "      <td>Switzerland</td>\n",
       "      <td>CHE</td>\n",
       "      <td>1959</td>\n",
       "      <td>5262809</td>\n",
       "    </tr>\n",
       "    <tr>\n",
       "      <th>16438</th>\n",
       "      <td>Switzerland</td>\n",
       "      <td>CHE</td>\n",
       "      <td>1960</td>\n",
       "      <td>5327776</td>\n",
       "    </tr>\n",
       "    <tr>\n",
       "      <th>16439</th>\n",
       "      <td>Switzerland</td>\n",
       "      <td>CHE</td>\n",
       "      <td>1961</td>\n",
       "      <td>5434125</td>\n",
       "    </tr>\n",
       "    <tr>\n",
       "      <th>16440</th>\n",
       "      <td>Switzerland</td>\n",
       "      <td>CHE</td>\n",
       "      <td>1962</td>\n",
       "      <td>5573701</td>\n",
       "    </tr>\n",
       "    <tr>\n",
       "      <th>16441</th>\n",
       "      <td>Switzerland</td>\n",
       "      <td>CHE</td>\n",
       "      <td>1963</td>\n",
       "      <td>5694162</td>\n",
       "    </tr>\n",
       "    <tr>\n",
       "      <th>16442</th>\n",
       "      <td>Switzerland</td>\n",
       "      <td>CHE</td>\n",
       "      <td>1964</td>\n",
       "      <td>5789156</td>\n",
       "    </tr>\n",
       "    <tr>\n",
       "      <th>16443</th>\n",
       "      <td>Switzerland</td>\n",
       "      <td>CHE</td>\n",
       "      <td>1965</td>\n",
       "      <td>5856417</td>\n",
       "    </tr>\n",
       "    <tr>\n",
       "      <th>16444</th>\n",
       "      <td>Switzerland</td>\n",
       "      <td>CHE</td>\n",
       "      <td>1966</td>\n",
       "      <td>5917969</td>\n",
       "    </tr>\n",
       "    <tr>\n",
       "      <th>16445</th>\n",
       "      <td>Switzerland</td>\n",
       "      <td>CHE</td>\n",
       "      <td>1967</td>\n",
       "      <td>5991734</td>\n",
       "    </tr>\n",
       "    <tr>\n",
       "      <th>16446</th>\n",
       "      <td>Switzerland</td>\n",
       "      <td>CHE</td>\n",
       "      <td>1968</td>\n",
       "      <td>6067659</td>\n",
       "    </tr>\n",
       "    <tr>\n",
       "      <th>16447</th>\n",
       "      <td>Switzerland</td>\n",
       "      <td>CHE</td>\n",
       "      <td>1969</td>\n",
       "      <td>6136354</td>\n",
       "    </tr>\n",
       "    <tr>\n",
       "      <th>16448</th>\n",
       "      <td>Switzerland</td>\n",
       "      <td>CHE</td>\n",
       "      <td>1970</td>\n",
       "      <td>6180925</td>\n",
       "    </tr>\n",
       "    <tr>\n",
       "      <th>16449</th>\n",
       "      <td>Switzerland</td>\n",
       "      <td>CHE</td>\n",
       "      <td>1971</td>\n",
       "      <td>6213535</td>\n",
       "    </tr>\n",
       "    <tr>\n",
       "      <th>16450</th>\n",
       "      <td>Switzerland</td>\n",
       "      <td>CHE</td>\n",
       "      <td>1972</td>\n",
       "      <td>6261087</td>\n",
       "    </tr>\n",
       "    <tr>\n",
       "      <th>16451</th>\n",
       "      <td>Switzerland</td>\n",
       "      <td>CHE</td>\n",
       "      <td>1973</td>\n",
       "      <td>6307408</td>\n",
       "    </tr>\n",
       "    <tr>\n",
       "      <th>16452</th>\n",
       "      <td>Switzerland</td>\n",
       "      <td>CHE</td>\n",
       "      <td>1974</td>\n",
       "      <td>6341381</td>\n",
       "    </tr>\n",
       "    <tr>\n",
       "      <th>16453</th>\n",
       "      <td>Switzerland</td>\n",
       "      <td>CHE</td>\n",
       "      <td>1975</td>\n",
       "      <td>6338600</td>\n",
       "    </tr>\n",
       "    <tr>\n",
       "      <th>16454</th>\n",
       "      <td>Switzerland</td>\n",
       "      <td>CHE</td>\n",
       "      <td>1976</td>\n",
       "      <td>6302555</td>\n",
       "    </tr>\n",
       "    <tr>\n",
       "      <th>16455</th>\n",
       "      <td>Switzerland</td>\n",
       "      <td>CHE</td>\n",
       "      <td>1977</td>\n",
       "      <td>6281365</td>\n",
       "    </tr>\n",
       "    <tr>\n",
       "      <th>16456</th>\n",
       "      <td>Switzerland</td>\n",
       "      <td>CHE</td>\n",
       "      <td>1978</td>\n",
       "      <td>6282044</td>\n",
       "    </tr>\n",
       "    <tr>\n",
       "      <th>16457</th>\n",
       "      <td>Switzerland</td>\n",
       "      <td>CHE</td>\n",
       "      <td>1979</td>\n",
       "      <td>6294719</td>\n",
       "    </tr>\n",
       "    <tr>\n",
       "      <th>16458</th>\n",
       "      <td>Switzerland</td>\n",
       "      <td>CHE</td>\n",
       "      <td>1980</td>\n",
       "      <td>6319848</td>\n",
       "    </tr>\n",
       "    <tr>\n",
       "      <th>16459</th>\n",
       "      <td>Switzerland</td>\n",
       "      <td>CHE</td>\n",
       "      <td>1981</td>\n",
       "      <td>6354561</td>\n",
       "    </tr>\n",
       "    <tr>\n",
       "      <th>16460</th>\n",
       "      <td>Switzerland</td>\n",
       "      <td>CHE</td>\n",
       "      <td>1982</td>\n",
       "      <td>6391805</td>\n",
       "    </tr>\n",
       "    <tr>\n",
       "      <th>16461</th>\n",
       "      <td>Switzerland</td>\n",
       "      <td>CHE</td>\n",
       "      <td>1983</td>\n",
       "      <td>6419309</td>\n",
       "    </tr>\n",
       "    <tr>\n",
       "      <th>16462</th>\n",
       "      <td>Switzerland</td>\n",
       "      <td>CHE</td>\n",
       "      <td>1984</td>\n",
       "      <td>6442418</td>\n",
       "    </tr>\n",
       "    <tr>\n",
       "      <th>16463</th>\n",
       "      <td>Switzerland</td>\n",
       "      <td>CHE</td>\n",
       "      <td>1985</td>\n",
       "      <td>6470959</td>\n",
       "    </tr>\n",
       "    <tr>\n",
       "      <th>16464</th>\n",
       "      <td>Switzerland</td>\n",
       "      <td>CHE</td>\n",
       "      <td>1986</td>\n",
       "      <td>6504748</td>\n",
       "    </tr>\n",
       "    <tr>\n",
       "      <th>16465</th>\n",
       "      <td>Switzerland</td>\n",
       "      <td>CHE</td>\n",
       "      <td>1987</td>\n",
       "      <td>6545771</td>\n",
       "    </tr>\n",
       "    <tr>\n",
       "      <th>16466</th>\n",
       "      <td>Switzerland</td>\n",
       "      <td>CHE</td>\n",
       "      <td>1988</td>\n",
       "      <td>6594145</td>\n",
       "    </tr>\n",
       "    <tr>\n",
       "      <th>16467</th>\n",
       "      <td>Switzerland</td>\n",
       "      <td>CHE</td>\n",
       "      <td>1989</td>\n",
       "      <td>6647786</td>\n",
       "    </tr>\n",
       "    <tr>\n",
       "      <th>16468</th>\n",
       "      <td>Switzerland</td>\n",
       "      <td>CHE</td>\n",
       "      <td>1990</td>\n",
       "      <td>6713167</td>\n",
       "    </tr>\n",
       "    <tr>\n",
       "      <th>16469</th>\n",
       "      <td>Switzerland</td>\n",
       "      <td>CHE</td>\n",
       "      <td>1991</td>\n",
       "      <td>6796942</td>\n",
       "    </tr>\n",
       "    <tr>\n",
       "      <th>16470</th>\n",
       "      <td>Switzerland</td>\n",
       "      <td>CHE</td>\n",
       "      <td>1992</td>\n",
       "      <td>6875049</td>\n",
       "    </tr>\n",
       "    <tr>\n",
       "      <th>16471</th>\n",
       "      <td>Switzerland</td>\n",
       "      <td>CHE</td>\n",
       "      <td>1993</td>\n",
       "      <td>6938107</td>\n",
       "    </tr>\n",
       "    <tr>\n",
       "      <th>16472</th>\n",
       "      <td>Switzerland</td>\n",
       "      <td>CHE</td>\n",
       "      <td>1994</td>\n",
       "      <td>6993594</td>\n",
       "    </tr>\n",
       "    <tr>\n",
       "      <th>16473</th>\n",
       "      <td>Switzerland</td>\n",
       "      <td>CHE</td>\n",
       "      <td>1995</td>\n",
       "      <td>7040481</td>\n",
       "    </tr>\n",
       "    <tr>\n",
       "      <th>16474</th>\n",
       "      <td>Switzerland</td>\n",
       "      <td>CHE</td>\n",
       "      <td>1996</td>\n",
       "      <td>7071884</td>\n",
       "    </tr>\n",
       "    <tr>\n",
       "      <th>16475</th>\n",
       "      <td>Switzerland</td>\n",
       "      <td>CHE</td>\n",
       "      <td>1997</td>\n",
       "      <td>7089163</td>\n",
       "    </tr>\n",
       "    <tr>\n",
       "      <th>16476</th>\n",
       "      <td>Switzerland</td>\n",
       "      <td>CHE</td>\n",
       "      <td>1998</td>\n",
       "      <td>7110294</td>\n",
       "    </tr>\n",
       "    <tr>\n",
       "      <th>16477</th>\n",
       "      <td>Switzerland</td>\n",
       "      <td>CHE</td>\n",
       "      <td>1999</td>\n",
       "      <td>7144118</td>\n",
       "    </tr>\n",
       "    <tr>\n",
       "      <th>16478</th>\n",
       "      <td>Switzerland</td>\n",
       "      <td>CHE</td>\n",
       "      <td>2000</td>\n",
       "      <td>7184003</td>\n",
       "    </tr>\n",
       "    <tr>\n",
       "      <th>16479</th>\n",
       "      <td>Switzerland</td>\n",
       "      <td>CHE</td>\n",
       "      <td>2001</td>\n",
       "      <td>7226391</td>\n",
       "    </tr>\n",
       "    <tr>\n",
       "      <th>16480</th>\n",
       "      <td>Switzerland</td>\n",
       "      <td>CHE</td>\n",
       "      <td>2002</td>\n",
       "      <td>7278744</td>\n",
       "    </tr>\n",
       "    <tr>\n",
       "      <th>16481</th>\n",
       "      <td>Switzerland</td>\n",
       "      <td>CHE</td>\n",
       "      <td>2003</td>\n",
       "      <td>7333450</td>\n",
       "    </tr>\n",
       "    <tr>\n",
       "      <th>16482</th>\n",
       "      <td>Switzerland</td>\n",
       "      <td>CHE</td>\n",
       "      <td>2004</td>\n",
       "      <td>7384196</td>\n",
       "    </tr>\n",
       "    <tr>\n",
       "      <th>16483</th>\n",
       "      <td>Switzerland</td>\n",
       "      <td>CHE</td>\n",
       "      <td>2005</td>\n",
       "      <td>7431824</td>\n",
       "    </tr>\n",
       "    <tr>\n",
       "      <th>16484</th>\n",
       "      <td>Switzerland</td>\n",
       "      <td>CHE</td>\n",
       "      <td>2006</td>\n",
       "      <td>7478514</td>\n",
       "    </tr>\n",
       "    <tr>\n",
       "      <th>16485</th>\n",
       "      <td>Switzerland</td>\n",
       "      <td>CHE</td>\n",
       "      <td>2007</td>\n",
       "      <td>7545386</td>\n",
       "    </tr>\n",
       "    <tr>\n",
       "      <th>16486</th>\n",
       "      <td>Switzerland</td>\n",
       "      <td>CHE</td>\n",
       "      <td>2008</td>\n",
       "      <td>7641729</td>\n",
       "    </tr>\n",
       "    <tr>\n",
       "      <th>16487</th>\n",
       "      <td>Switzerland</td>\n",
       "      <td>CHE</td>\n",
       "      <td>2009</td>\n",
       "      <td>7737642</td>\n",
       "    </tr>\n",
       "    <tr>\n",
       "      <th>16488</th>\n",
       "      <td>Switzerland</td>\n",
       "      <td>CHE</td>\n",
       "      <td>2010</td>\n",
       "      <td>7825751</td>\n",
       "    </tr>\n",
       "    <tr>\n",
       "      <th>16489</th>\n",
       "      <td>Switzerland</td>\n",
       "      <td>CHE</td>\n",
       "      <td>2011</td>\n",
       "      <td>7914378</td>\n",
       "    </tr>\n",
       "    <tr>\n",
       "      <th>16490</th>\n",
       "      <td>Switzerland</td>\n",
       "      <td>CHE</td>\n",
       "      <td>2012</td>\n",
       "      <td>7998927</td>\n",
       "    </tr>\n",
       "    <tr>\n",
       "      <th>16491</th>\n",
       "      <td>Switzerland</td>\n",
       "      <td>CHE</td>\n",
       "      <td>2013</td>\n",
       "      <td>8091197</td>\n",
       "    </tr>\n",
       "    <tr>\n",
       "      <th>16492</th>\n",
       "      <td>Switzerland</td>\n",
       "      <td>CHE</td>\n",
       "      <td>2014</td>\n",
       "      <td>8190238</td>\n",
       "    </tr>\n",
       "    <tr>\n",
       "      <th>16493</th>\n",
       "      <td>Switzerland</td>\n",
       "      <td>CHE</td>\n",
       "      <td>2015</td>\n",
       "      <td>8283940</td>\n",
       "    </tr>\n",
       "    <tr>\n",
       "      <th>16494</th>\n",
       "      <td>Switzerland</td>\n",
       "      <td>CHE</td>\n",
       "      <td>2016</td>\n",
       "      <td>8374902</td>\n",
       "    </tr>\n",
       "    <tr>\n",
       "      <th>16495</th>\n",
       "      <td>Switzerland</td>\n",
       "      <td>CHE</td>\n",
       "      <td>2017</td>\n",
       "      <td>8453628</td>\n",
       "    </tr>\n",
       "    <tr>\n",
       "      <th>16496</th>\n",
       "      <td>Switzerland</td>\n",
       "      <td>CHE</td>\n",
       "      <td>2018</td>\n",
       "      <td>8516339</td>\n",
       "    </tr>\n",
       "    <tr>\n",
       "      <th>16497</th>\n",
       "      <td>Switzerland</td>\n",
       "      <td>CHE</td>\n",
       "      <td>2019</td>\n",
       "      <td>8577526</td>\n",
       "    </tr>\n",
       "    <tr>\n",
       "      <th>16498</th>\n",
       "      <td>Switzerland</td>\n",
       "      <td>CHE</td>\n",
       "      <td>2020</td>\n",
       "      <td>8640582</td>\n",
       "    </tr>\n",
       "    <tr>\n",
       "      <th>16499</th>\n",
       "      <td>Switzerland</td>\n",
       "      <td>CHE</td>\n",
       "      <td>2021</td>\n",
       "      <td>8707018</td>\n",
       "    </tr>\n",
       "    <tr>\n",
       "      <th>16500</th>\n",
       "      <td>Switzerland</td>\n",
       "      <td>CHE</td>\n",
       "      <td>2022</td>\n",
       "      <td>8792180</td>\n",
       "    </tr>\n",
       "    <tr>\n",
       "      <th>16501</th>\n",
       "      <td>Switzerland</td>\n",
       "      <td>CHE</td>\n",
       "      <td>2023</td>\n",
       "      <td>8870564</td>\n",
       "    </tr>\n",
       "  </tbody>\n",
       "</table>\n",
       "</div>"
      ],
      "text/plain": [
       "            Entity Code  Year  Population\n",
       "16428  Switzerland  CHE  1950     4692642\n",
       "16429  Switzerland  CHE  1951     4748088\n",
       "16430  Switzerland  CHE  1952     4811614\n",
       "16431  Switzerland  CHE  1953     4875655\n",
       "16432  Switzerland  CHE  1954     4938751\n",
       "16433  Switzerland  CHE  1955     5002116\n",
       "16434  Switzerland  CHE  1956     5065626\n",
       "16435  Switzerland  CHE  1957     5130170\n",
       "16436  Switzerland  CHE  1958     5196449\n",
       "16437  Switzerland  CHE  1959     5262809\n",
       "16438  Switzerland  CHE  1960     5327776\n",
       "16439  Switzerland  CHE  1961     5434125\n",
       "16440  Switzerland  CHE  1962     5573701\n",
       "16441  Switzerland  CHE  1963     5694162\n",
       "16442  Switzerland  CHE  1964     5789156\n",
       "16443  Switzerland  CHE  1965     5856417\n",
       "16444  Switzerland  CHE  1966     5917969\n",
       "16445  Switzerland  CHE  1967     5991734\n",
       "16446  Switzerland  CHE  1968     6067659\n",
       "16447  Switzerland  CHE  1969     6136354\n",
       "16448  Switzerland  CHE  1970     6180925\n",
       "16449  Switzerland  CHE  1971     6213535\n",
       "16450  Switzerland  CHE  1972     6261087\n",
       "16451  Switzerland  CHE  1973     6307408\n",
       "16452  Switzerland  CHE  1974     6341381\n",
       "16453  Switzerland  CHE  1975     6338600\n",
       "16454  Switzerland  CHE  1976     6302555\n",
       "16455  Switzerland  CHE  1977     6281365\n",
       "16456  Switzerland  CHE  1978     6282044\n",
       "16457  Switzerland  CHE  1979     6294719\n",
       "16458  Switzerland  CHE  1980     6319848\n",
       "16459  Switzerland  CHE  1981     6354561\n",
       "16460  Switzerland  CHE  1982     6391805\n",
       "16461  Switzerland  CHE  1983     6419309\n",
       "16462  Switzerland  CHE  1984     6442418\n",
       "16463  Switzerland  CHE  1985     6470959\n",
       "16464  Switzerland  CHE  1986     6504748\n",
       "16465  Switzerland  CHE  1987     6545771\n",
       "16466  Switzerland  CHE  1988     6594145\n",
       "16467  Switzerland  CHE  1989     6647786\n",
       "16468  Switzerland  CHE  1990     6713167\n",
       "16469  Switzerland  CHE  1991     6796942\n",
       "16470  Switzerland  CHE  1992     6875049\n",
       "16471  Switzerland  CHE  1993     6938107\n",
       "16472  Switzerland  CHE  1994     6993594\n",
       "16473  Switzerland  CHE  1995     7040481\n",
       "16474  Switzerland  CHE  1996     7071884\n",
       "16475  Switzerland  CHE  1997     7089163\n",
       "16476  Switzerland  CHE  1998     7110294\n",
       "16477  Switzerland  CHE  1999     7144118\n",
       "16478  Switzerland  CHE  2000     7184003\n",
       "16479  Switzerland  CHE  2001     7226391\n",
       "16480  Switzerland  CHE  2002     7278744\n",
       "16481  Switzerland  CHE  2003     7333450\n",
       "16482  Switzerland  CHE  2004     7384196\n",
       "16483  Switzerland  CHE  2005     7431824\n",
       "16484  Switzerland  CHE  2006     7478514\n",
       "16485  Switzerland  CHE  2007     7545386\n",
       "16486  Switzerland  CHE  2008     7641729\n",
       "16487  Switzerland  CHE  2009     7737642\n",
       "16488  Switzerland  CHE  2010     7825751\n",
       "16489  Switzerland  CHE  2011     7914378\n",
       "16490  Switzerland  CHE  2012     7998927\n",
       "16491  Switzerland  CHE  2013     8091197\n",
       "16492  Switzerland  CHE  2014     8190238\n",
       "16493  Switzerland  CHE  2015     8283940\n",
       "16494  Switzerland  CHE  2016     8374902\n",
       "16495  Switzerland  CHE  2017     8453628\n",
       "16496  Switzerland  CHE  2018     8516339\n",
       "16497  Switzerland  CHE  2019     8577526\n",
       "16498  Switzerland  CHE  2020     8640582\n",
       "16499  Switzerland  CHE  2021     8707018\n",
       "16500  Switzerland  CHE  2022     8792180\n",
       "16501  Switzerland  CHE  2023     8870564"
      ]
     },
     "execution_count": 615,
     "metadata": {},
     "output_type": "execute_result"
    }
   ],
   "source": [
    "# Give a friendly name to the population column\n",
    "df_swiss_population = df_swiss_population.rename(\n",
    "    columns={\"Population - Sex: all - Age: all - Variant: estimates\": \"Population\"}\n",
    ")\n",
    "df_swiss_population"
   ]
  },
  {
   "cell_type": "markdown",
   "metadata": {},
   "source": [
    "## Manipulate dataframe"
   ]
  },
  {
   "cell_type": "markdown",
   "metadata": {},
   "source": [
    "Then I want to merge the two dataframe :\n",
    "\n",
    "\n",
    "> **_Note_** : This manipulation reset index, but it possible manually (after .loc p.ex.)by using : ``df_data = df_data.reset_index()``"
   ]
  },
  {
   "cell_type": "code",
   "execution_count": 616,
   "metadata": {},
   "outputs": [
    {
     "data": {
      "text/html": [
       "<div>\n",
       "<style scoped>\n",
       "    .dataframe tbody tr th:only-of-type {\n",
       "        vertical-align: middle;\n",
       "    }\n",
       "\n",
       "    .dataframe tbody tr th {\n",
       "        vertical-align: top;\n",
       "    }\n",
       "\n",
       "    .dataframe thead th {\n",
       "        text-align: right;\n",
       "    }\n",
       "</style>\n",
       "<table border=\"1\" class=\"dataframe\">\n",
       "  <thead>\n",
       "    <tr style=\"text-align: right;\">\n",
       "      <th></th>\n",
       "      <th>Entity</th>\n",
       "      <th>Code</th>\n",
       "      <th>Year</th>\n",
       "      <th>Population</th>\n",
       "      <th>Electricity generation - TWh</th>\n",
       "    </tr>\n",
       "  </thead>\n",
       "  <tbody>\n",
       "    <tr>\n",
       "      <th>0</th>\n",
       "      <td>Switzerland</td>\n",
       "      <td>CHE</td>\n",
       "      <td>1985</td>\n",
       "      <td>6470959</td>\n",
       "      <td>56.338123</td>\n",
       "    </tr>\n",
       "    <tr>\n",
       "      <th>1</th>\n",
       "      <td>Switzerland</td>\n",
       "      <td>CHE</td>\n",
       "      <td>1986</td>\n",
       "      <td>6504748</td>\n",
       "      <td>57.410492</td>\n",
       "    </tr>\n",
       "    <tr>\n",
       "      <th>2</th>\n",
       "      <td>Switzerland</td>\n",
       "      <td>CHE</td>\n",
       "      <td>1987</td>\n",
       "      <td>6545771</td>\n",
       "      <td>59.733856</td>\n",
       "    </tr>\n",
       "    <tr>\n",
       "      <th>3</th>\n",
       "      <td>Switzerland</td>\n",
       "      <td>CHE</td>\n",
       "      <td>1988</td>\n",
       "      <td>6594145</td>\n",
       "      <td>60.535755</td>\n",
       "    </tr>\n",
       "    <tr>\n",
       "      <th>4</th>\n",
       "      <td>Switzerland</td>\n",
       "      <td>CHE</td>\n",
       "      <td>1989</td>\n",
       "      <td>6647786</td>\n",
       "      <td>54.610770</td>\n",
       "    </tr>\n",
       "    <tr>\n",
       "      <th>5</th>\n",
       "      <td>Switzerland</td>\n",
       "      <td>CHE</td>\n",
       "      <td>1990</td>\n",
       "      <td>6713167</td>\n",
       "      <td>56.015427</td>\n",
       "    </tr>\n",
       "    <tr>\n",
       "      <th>6</th>\n",
       "      <td>Switzerland</td>\n",
       "      <td>CHE</td>\n",
       "      <td>1991</td>\n",
       "      <td>6796942</td>\n",
       "      <td>58.061848</td>\n",
       "    </tr>\n",
       "    <tr>\n",
       "      <th>7</th>\n",
       "      <td>Switzerland</td>\n",
       "      <td>CHE</td>\n",
       "      <td>1992</td>\n",
       "      <td>6875049</td>\n",
       "      <td>59.517920</td>\n",
       "    </tr>\n",
       "    <tr>\n",
       "      <th>8</th>\n",
       "      <td>Switzerland</td>\n",
       "      <td>CHE</td>\n",
       "      <td>1993</td>\n",
       "      <td>6938107</td>\n",
       "      <td>61.555614</td>\n",
       "    </tr>\n",
       "    <tr>\n",
       "      <th>9</th>\n",
       "      <td>Switzerland</td>\n",
       "      <td>CHE</td>\n",
       "      <td>1994</td>\n",
       "      <td>6993594</td>\n",
       "      <td>66.134240</td>\n",
       "    </tr>\n",
       "    <tr>\n",
       "      <th>10</th>\n",
       "      <td>Switzerland</td>\n",
       "      <td>CHE</td>\n",
       "      <td>1995</td>\n",
       "      <td>7040481</td>\n",
       "      <td>62.862670</td>\n",
       "    </tr>\n",
       "  </tbody>\n",
       "</table>\n",
       "</div>"
      ],
      "text/plain": [
       "         Entity Code  Year  Population  Electricity generation - TWh\n",
       "0   Switzerland  CHE  1985     6470959                     56.338123\n",
       "1   Switzerland  CHE  1986     6504748                     57.410492\n",
       "2   Switzerland  CHE  1987     6545771                     59.733856\n",
       "3   Switzerland  CHE  1988     6594145                     60.535755\n",
       "4   Switzerland  CHE  1989     6647786                     54.610770\n",
       "5   Switzerland  CHE  1990     6713167                     56.015427\n",
       "6   Switzerland  CHE  1991     6796942                     58.061848\n",
       "7   Switzerland  CHE  1992     6875049                     59.517920\n",
       "8   Switzerland  CHE  1993     6938107                     61.555614\n",
       "9   Switzerland  CHE  1994     6993594                     66.134240\n",
       "10  Switzerland  CHE  1995     7040481                     62.862670"
      ]
     },
     "execution_count": 616,
     "metadata": {},
     "output_type": "execute_result"
    }
   ],
   "source": [
    "# Join the data from the two table, only the values present in the two column !\n",
    "## With function of pandas\n",
    "df_swiss_data_inner_join = pd.merge(\n",
    "    df_swiss_population,\n",
    "    df_swiss_electricity_generation,\n",
    "    on=[\"Year\", \"Entity\", \"Code\"],\n",
    "    how=\"inner\",\n",
    ")\n",
    "## With methode of the df (linked to variable/object)\n",
    "df_inner_join_simpler = df_swiss_population.merge(\n",
    "    df_swiss_electricity_generation, on=[\"Year\", \"Entity\", \"Code\"], how=\"inner\"\n",
    ")\n",
    "df_swiss_data_inner_join.loc[0:10]"
   ]
  },
  {
   "cell_type": "markdown",
   "metadata": {},
   "source": [
    "#### Other important part to manipulate"
   ]
  },
  {
   "cell_type": "markdown",
   "metadata": {},
   "source": [
    "To merge two df, we need a key, this is a column name present on the two df, exactly the same !\n",
    "- `on` = Define on wich **column** the dfs where merge (exactly same column's name need to be present on both), if parameter `on` is None this use the intersection of the two df\n",
    "- `how` = Define on wich **row** the dfs where merge (find the same key)\n",
    "  - `inner` = Default join, only save the key present in both df\n",
    "  - `left` = Save all the key of **left**'s df, and complete with right information (when it's possible, be carefull, you will have some `NaN` value)\n",
    "  - `outer` = Save all the key of both df, also have `NaN` value"
   ]
  },
  {
   "cell_type": "markdown",
   "metadata": {},
   "source": [
    "If the structure between the df is **exactly** the same, you can use `concat` function, be carefull with index, not reinit :"
   ]
  },
  {
   "cell_type": "code",
   "execution_count": 617,
   "metadata": {},
   "outputs": [
    {
     "data": {
      "text/html": [
       "<div>\n",
       "<style scoped>\n",
       "    .dataframe tbody tr th:only-of-type {\n",
       "        vertical-align: middle;\n",
       "    }\n",
       "\n",
       "    .dataframe tbody tr th {\n",
       "        vertical-align: top;\n",
       "    }\n",
       "\n",
       "    .dataframe thead th {\n",
       "        text-align: right;\n",
       "    }\n",
       "</style>\n",
       "<table border=\"1\" class=\"dataframe\">\n",
       "  <thead>\n",
       "    <tr style=\"text-align: right;\">\n",
       "      <th></th>\n",
       "      <th>Entity</th>\n",
       "      <th>Code</th>\n",
       "      <th>Year</th>\n",
       "      <th>Population</th>\n",
       "      <th>Electricity generation - TWh</th>\n",
       "    </tr>\n",
       "  </thead>\n",
       "  <tbody>\n",
       "    <tr>\n",
       "      <th>0</th>\n",
       "      <td>Switzerland</td>\n",
       "      <td>CHE</td>\n",
       "      <td>1985</td>\n",
       "      <td>6470959</td>\n",
       "      <td>56.338123</td>\n",
       "    </tr>\n",
       "    <tr>\n",
       "      <th>1</th>\n",
       "      <td>Switzerland</td>\n",
       "      <td>CHE</td>\n",
       "      <td>1986</td>\n",
       "      <td>6504748</td>\n",
       "      <td>57.410492</td>\n",
       "    </tr>\n",
       "    <tr>\n",
       "      <th>2</th>\n",
       "      <td>Switzerland</td>\n",
       "      <td>CHE</td>\n",
       "      <td>1987</td>\n",
       "      <td>6545771</td>\n",
       "      <td>59.733856</td>\n",
       "    </tr>\n",
       "    <tr>\n",
       "      <th>3</th>\n",
       "      <td>Switzerland</td>\n",
       "      <td>CHE</td>\n",
       "      <td>1988</td>\n",
       "      <td>6594145</td>\n",
       "      <td>60.535755</td>\n",
       "    </tr>\n",
       "    <tr>\n",
       "      <th>4</th>\n",
       "      <td>Switzerland</td>\n",
       "      <td>CHE</td>\n",
       "      <td>1989</td>\n",
       "      <td>6647786</td>\n",
       "      <td>54.610770</td>\n",
       "    </tr>\n",
       "    <tr>\n",
       "      <th>5</th>\n",
       "      <td>Switzerland</td>\n",
       "      <td>CHE</td>\n",
       "      <td>1990</td>\n",
       "      <td>6713167</td>\n",
       "      <td>56.015427</td>\n",
       "    </tr>\n",
       "    <tr>\n",
       "      <th>6</th>\n",
       "      <td>Switzerland</td>\n",
       "      <td>CHE</td>\n",
       "      <td>1991</td>\n",
       "      <td>6796942</td>\n",
       "      <td>58.061848</td>\n",
       "    </tr>\n",
       "    <tr>\n",
       "      <th>7</th>\n",
       "      <td>Switzerland</td>\n",
       "      <td>CHE</td>\n",
       "      <td>1992</td>\n",
       "      <td>6875049</td>\n",
       "      <td>59.517920</td>\n",
       "    </tr>\n",
       "    <tr>\n",
       "      <th>8</th>\n",
       "      <td>Switzerland</td>\n",
       "      <td>CHE</td>\n",
       "      <td>1993</td>\n",
       "      <td>6938107</td>\n",
       "      <td>61.555614</td>\n",
       "    </tr>\n",
       "    <tr>\n",
       "      <th>9</th>\n",
       "      <td>Switzerland</td>\n",
       "      <td>CHE</td>\n",
       "      <td>1994</td>\n",
       "      <td>6993594</td>\n",
       "      <td>66.134240</td>\n",
       "    </tr>\n",
       "    <tr>\n",
       "      <th>10</th>\n",
       "      <td>Switzerland</td>\n",
       "      <td>CHE</td>\n",
       "      <td>1995</td>\n",
       "      <td>7040481</td>\n",
       "      <td>62.862670</td>\n",
       "    </tr>\n",
       "    <tr>\n",
       "      <th>11</th>\n",
       "      <td>Switzerland</td>\n",
       "      <td>CHE</td>\n",
       "      <td>1996</td>\n",
       "      <td>7071884</td>\n",
       "      <td>57.328350</td>\n",
       "    </tr>\n",
       "    <tr>\n",
       "      <th>12</th>\n",
       "      <td>Switzerland</td>\n",
       "      <td>CHE</td>\n",
       "      <td>1997</td>\n",
       "      <td>7089163</td>\n",
       "      <td>62.902084</td>\n",
       "    </tr>\n",
       "    <tr>\n",
       "      <th>13</th>\n",
       "      <td>Switzerland</td>\n",
       "      <td>CHE</td>\n",
       "      <td>1998</td>\n",
       "      <td>7110294</td>\n",
       "      <td>63.287940</td>\n",
       "    </tr>\n",
       "    <tr>\n",
       "      <th>14</th>\n",
       "      <td>Switzerland</td>\n",
       "      <td>CHE</td>\n",
       "      <td>1999</td>\n",
       "      <td>7144118</td>\n",
       "      <td>68.617320</td>\n",
       "    </tr>\n",
       "    <tr>\n",
       "      <th>15</th>\n",
       "      <td>Switzerland</td>\n",
       "      <td>CHE</td>\n",
       "      <td>2000</td>\n",
       "      <td>7184003</td>\n",
       "      <td>66.120000</td>\n",
       "    </tr>\n",
       "    <tr>\n",
       "      <th>16</th>\n",
       "      <td>Switzerland</td>\n",
       "      <td>CHE</td>\n",
       "      <td>2001</td>\n",
       "      <td>7226391</td>\n",
       "      <td>71.050000</td>\n",
       "    </tr>\n",
       "    <tr>\n",
       "      <th>17</th>\n",
       "      <td>Switzerland</td>\n",
       "      <td>CHE</td>\n",
       "      <td>2002</td>\n",
       "      <td>7278744</td>\n",
       "      <td>65.410000</td>\n",
       "    </tr>\n",
       "    <tr>\n",
       "      <th>18</th>\n",
       "      <td>Switzerland</td>\n",
       "      <td>CHE</td>\n",
       "      <td>2003</td>\n",
       "      <td>7333450</td>\n",
       "      <td>65.340000</td>\n",
       "    </tr>\n",
       "    <tr>\n",
       "      <th>19</th>\n",
       "      <td>Switzerland</td>\n",
       "      <td>CHE</td>\n",
       "      <td>2004</td>\n",
       "      <td>7384196</td>\n",
       "      <td>63.870000</td>\n",
       "    </tr>\n",
       "    <tr>\n",
       "      <th>20</th>\n",
       "      <td>Switzerland</td>\n",
       "      <td>CHE</td>\n",
       "      <td>2005</td>\n",
       "      <td>7431824</td>\n",
       "      <td>57.800000</td>\n",
       "    </tr>\n",
       "    <tr>\n",
       "      <th>21</th>\n",
       "      <td>Switzerland</td>\n",
       "      <td>CHE</td>\n",
       "      <td>2006</td>\n",
       "      <td>7478514</td>\n",
       "      <td>62.130000</td>\n",
       "    </tr>\n",
       "    <tr>\n",
       "      <th>22</th>\n",
       "      <td>Switzerland</td>\n",
       "      <td>CHE</td>\n",
       "      <td>2007</td>\n",
       "      <td>7545386</td>\n",
       "      <td>66.430000</td>\n",
       "    </tr>\n",
       "    <tr>\n",
       "      <th>23</th>\n",
       "      <td>Switzerland</td>\n",
       "      <td>CHE</td>\n",
       "      <td>2008</td>\n",
       "      <td>7641729</td>\n",
       "      <td>67.040000</td>\n",
       "    </tr>\n",
       "    <tr>\n",
       "      <th>24</th>\n",
       "      <td>Switzerland</td>\n",
       "      <td>CHE</td>\n",
       "      <td>2009</td>\n",
       "      <td>7737642</td>\n",
       "      <td>66.670000</td>\n",
       "    </tr>\n",
       "    <tr>\n",
       "      <th>25</th>\n",
       "      <td>Switzerland</td>\n",
       "      <td>CHE</td>\n",
       "      <td>2010</td>\n",
       "      <td>7825751</td>\n",
       "      <td>66.050000</td>\n",
       "    </tr>\n",
       "    <tr>\n",
       "      <th>26</th>\n",
       "      <td>Switzerland</td>\n",
       "      <td>CHE</td>\n",
       "      <td>2011</td>\n",
       "      <td>7914378</td>\n",
       "      <td>62.880000</td>\n",
       "    </tr>\n",
       "    <tr>\n",
       "      <th>27</th>\n",
       "      <td>Switzerland</td>\n",
       "      <td>CHE</td>\n",
       "      <td>2012</td>\n",
       "      <td>7998927</td>\n",
       "      <td>68.130000</td>\n",
       "    </tr>\n",
       "    <tr>\n",
       "      <th>28</th>\n",
       "      <td>Switzerland</td>\n",
       "      <td>CHE</td>\n",
       "      <td>2013</td>\n",
       "      <td>8091197</td>\n",
       "      <td>68.690000</td>\n",
       "    </tr>\n",
       "    <tr>\n",
       "      <th>29</th>\n",
       "      <td>Switzerland</td>\n",
       "      <td>CHE</td>\n",
       "      <td>2014</td>\n",
       "      <td>8190238</td>\n",
       "      <td>70.080000</td>\n",
       "    </tr>\n",
       "    <tr>\n",
       "      <th>30</th>\n",
       "      <td>Switzerland</td>\n",
       "      <td>CHE</td>\n",
       "      <td>2015</td>\n",
       "      <td>8283940</td>\n",
       "      <td>66.070000</td>\n",
       "    </tr>\n",
       "    <tr>\n",
       "      <th>31</th>\n",
       "      <td>Switzerland</td>\n",
       "      <td>CHE</td>\n",
       "      <td>2016</td>\n",
       "      <td>8374902</td>\n",
       "      <td>61.100000</td>\n",
       "    </tr>\n",
       "    <tr>\n",
       "      <th>32</th>\n",
       "      <td>Switzerland</td>\n",
       "      <td>CHE</td>\n",
       "      <td>2017</td>\n",
       "      <td>8453628</td>\n",
       "      <td>60.150000</td>\n",
       "    </tr>\n",
       "    <tr>\n",
       "      <th>33</th>\n",
       "      <td>Switzerland</td>\n",
       "      <td>CHE</td>\n",
       "      <td>2018</td>\n",
       "      <td>8516339</td>\n",
       "      <td>66.290000</td>\n",
       "    </tr>\n",
       "    <tr>\n",
       "      <th>34</th>\n",
       "      <td>Switzerland</td>\n",
       "      <td>CHE</td>\n",
       "      <td>2019</td>\n",
       "      <td>8577526</td>\n",
       "      <td>70.570000</td>\n",
       "    </tr>\n",
       "    <tr>\n",
       "      <th>35</th>\n",
       "      <td>Switzerland</td>\n",
       "      <td>CHE</td>\n",
       "      <td>2020</td>\n",
       "      <td>8640582</td>\n",
       "      <td>68.490000</td>\n",
       "    </tr>\n",
       "    <tr>\n",
       "      <th>36</th>\n",
       "      <td>Switzerland</td>\n",
       "      <td>CHE</td>\n",
       "      <td>2021</td>\n",
       "      <td>8707018</td>\n",
       "      <td>63.100000</td>\n",
       "    </tr>\n",
       "    <tr>\n",
       "      <th>37</th>\n",
       "      <td>Switzerland</td>\n",
       "      <td>CHE</td>\n",
       "      <td>2022</td>\n",
       "      <td>8792180</td>\n",
       "      <td>62.270000</td>\n",
       "    </tr>\n",
       "    <tr>\n",
       "      <th>38</th>\n",
       "      <td>Switzerland</td>\n",
       "      <td>CHE</td>\n",
       "      <td>2023</td>\n",
       "      <td>8870564</td>\n",
       "      <td>70.890000</td>\n",
       "    </tr>\n",
       "    <tr>\n",
       "      <th>0</th>\n",
       "      <td>Switzerland</td>\n",
       "      <td>CHE</td>\n",
       "      <td>1985</td>\n",
       "      <td>6470959</td>\n",
       "      <td>56.338123</td>\n",
       "    </tr>\n",
       "    <tr>\n",
       "      <th>1</th>\n",
       "      <td>Switzerland</td>\n",
       "      <td>CHE</td>\n",
       "      <td>1986</td>\n",
       "      <td>6504748</td>\n",
       "      <td>57.410492</td>\n",
       "    </tr>\n",
       "    <tr>\n",
       "      <th>2</th>\n",
       "      <td>Switzerland</td>\n",
       "      <td>CHE</td>\n",
       "      <td>1987</td>\n",
       "      <td>6545771</td>\n",
       "      <td>59.733856</td>\n",
       "    </tr>\n",
       "    <tr>\n",
       "      <th>3</th>\n",
       "      <td>Switzerland</td>\n",
       "      <td>CHE</td>\n",
       "      <td>1988</td>\n",
       "      <td>6594145</td>\n",
       "      <td>60.535755</td>\n",
       "    </tr>\n",
       "    <tr>\n",
       "      <th>4</th>\n",
       "      <td>Switzerland</td>\n",
       "      <td>CHE</td>\n",
       "      <td>1989</td>\n",
       "      <td>6647786</td>\n",
       "      <td>54.610770</td>\n",
       "    </tr>\n",
       "    <tr>\n",
       "      <th>5</th>\n",
       "      <td>Switzerland</td>\n",
       "      <td>CHE</td>\n",
       "      <td>1990</td>\n",
       "      <td>6713167</td>\n",
       "      <td>56.015427</td>\n",
       "    </tr>\n",
       "    <tr>\n",
       "      <th>6</th>\n",
       "      <td>Switzerland</td>\n",
       "      <td>CHE</td>\n",
       "      <td>1991</td>\n",
       "      <td>6796942</td>\n",
       "      <td>58.061848</td>\n",
       "    </tr>\n",
       "    <tr>\n",
       "      <th>7</th>\n",
       "      <td>Switzerland</td>\n",
       "      <td>CHE</td>\n",
       "      <td>1992</td>\n",
       "      <td>6875049</td>\n",
       "      <td>59.517920</td>\n",
       "    </tr>\n",
       "    <tr>\n",
       "      <th>8</th>\n",
       "      <td>Switzerland</td>\n",
       "      <td>CHE</td>\n",
       "      <td>1993</td>\n",
       "      <td>6938107</td>\n",
       "      <td>61.555614</td>\n",
       "    </tr>\n",
       "    <tr>\n",
       "      <th>9</th>\n",
       "      <td>Switzerland</td>\n",
       "      <td>CHE</td>\n",
       "      <td>1994</td>\n",
       "      <td>6993594</td>\n",
       "      <td>66.134240</td>\n",
       "    </tr>\n",
       "    <tr>\n",
       "      <th>10</th>\n",
       "      <td>Switzerland</td>\n",
       "      <td>CHE</td>\n",
       "      <td>1995</td>\n",
       "      <td>7040481</td>\n",
       "      <td>62.862670</td>\n",
       "    </tr>\n",
       "    <tr>\n",
       "      <th>11</th>\n",
       "      <td>Switzerland</td>\n",
       "      <td>CHE</td>\n",
       "      <td>1996</td>\n",
       "      <td>7071884</td>\n",
       "      <td>57.328350</td>\n",
       "    </tr>\n",
       "    <tr>\n",
       "      <th>12</th>\n",
       "      <td>Switzerland</td>\n",
       "      <td>CHE</td>\n",
       "      <td>1997</td>\n",
       "      <td>7089163</td>\n",
       "      <td>62.902084</td>\n",
       "    </tr>\n",
       "    <tr>\n",
       "      <th>13</th>\n",
       "      <td>Switzerland</td>\n",
       "      <td>CHE</td>\n",
       "      <td>1998</td>\n",
       "      <td>7110294</td>\n",
       "      <td>63.287940</td>\n",
       "    </tr>\n",
       "    <tr>\n",
       "      <th>14</th>\n",
       "      <td>Switzerland</td>\n",
       "      <td>CHE</td>\n",
       "      <td>1999</td>\n",
       "      <td>7144118</td>\n",
       "      <td>68.617320</td>\n",
       "    </tr>\n",
       "    <tr>\n",
       "      <th>15</th>\n",
       "      <td>Switzerland</td>\n",
       "      <td>CHE</td>\n",
       "      <td>2000</td>\n",
       "      <td>7184003</td>\n",
       "      <td>66.120000</td>\n",
       "    </tr>\n",
       "    <tr>\n",
       "      <th>16</th>\n",
       "      <td>Switzerland</td>\n",
       "      <td>CHE</td>\n",
       "      <td>2001</td>\n",
       "      <td>7226391</td>\n",
       "      <td>71.050000</td>\n",
       "    </tr>\n",
       "    <tr>\n",
       "      <th>17</th>\n",
       "      <td>Switzerland</td>\n",
       "      <td>CHE</td>\n",
       "      <td>2002</td>\n",
       "      <td>7278744</td>\n",
       "      <td>65.410000</td>\n",
       "    </tr>\n",
       "    <tr>\n",
       "      <th>18</th>\n",
       "      <td>Switzerland</td>\n",
       "      <td>CHE</td>\n",
       "      <td>2003</td>\n",
       "      <td>7333450</td>\n",
       "      <td>65.340000</td>\n",
       "    </tr>\n",
       "    <tr>\n",
       "      <th>19</th>\n",
       "      <td>Switzerland</td>\n",
       "      <td>CHE</td>\n",
       "      <td>2004</td>\n",
       "      <td>7384196</td>\n",
       "      <td>63.870000</td>\n",
       "    </tr>\n",
       "    <tr>\n",
       "      <th>20</th>\n",
       "      <td>Switzerland</td>\n",
       "      <td>CHE</td>\n",
       "      <td>2005</td>\n",
       "      <td>7431824</td>\n",
       "      <td>57.800000</td>\n",
       "    </tr>\n",
       "    <tr>\n",
       "      <th>21</th>\n",
       "      <td>Switzerland</td>\n",
       "      <td>CHE</td>\n",
       "      <td>2006</td>\n",
       "      <td>7478514</td>\n",
       "      <td>62.130000</td>\n",
       "    </tr>\n",
       "    <tr>\n",
       "      <th>22</th>\n",
       "      <td>Switzerland</td>\n",
       "      <td>CHE</td>\n",
       "      <td>2007</td>\n",
       "      <td>7545386</td>\n",
       "      <td>66.430000</td>\n",
       "    </tr>\n",
       "    <tr>\n",
       "      <th>23</th>\n",
       "      <td>Switzerland</td>\n",
       "      <td>CHE</td>\n",
       "      <td>2008</td>\n",
       "      <td>7641729</td>\n",
       "      <td>67.040000</td>\n",
       "    </tr>\n",
       "    <tr>\n",
       "      <th>24</th>\n",
       "      <td>Switzerland</td>\n",
       "      <td>CHE</td>\n",
       "      <td>2009</td>\n",
       "      <td>7737642</td>\n",
       "      <td>66.670000</td>\n",
       "    </tr>\n",
       "    <tr>\n",
       "      <th>25</th>\n",
       "      <td>Switzerland</td>\n",
       "      <td>CHE</td>\n",
       "      <td>2010</td>\n",
       "      <td>7825751</td>\n",
       "      <td>66.050000</td>\n",
       "    </tr>\n",
       "    <tr>\n",
       "      <th>26</th>\n",
       "      <td>Switzerland</td>\n",
       "      <td>CHE</td>\n",
       "      <td>2011</td>\n",
       "      <td>7914378</td>\n",
       "      <td>62.880000</td>\n",
       "    </tr>\n",
       "    <tr>\n",
       "      <th>27</th>\n",
       "      <td>Switzerland</td>\n",
       "      <td>CHE</td>\n",
       "      <td>2012</td>\n",
       "      <td>7998927</td>\n",
       "      <td>68.130000</td>\n",
       "    </tr>\n",
       "    <tr>\n",
       "      <th>28</th>\n",
       "      <td>Switzerland</td>\n",
       "      <td>CHE</td>\n",
       "      <td>2013</td>\n",
       "      <td>8091197</td>\n",
       "      <td>68.690000</td>\n",
       "    </tr>\n",
       "    <tr>\n",
       "      <th>29</th>\n",
       "      <td>Switzerland</td>\n",
       "      <td>CHE</td>\n",
       "      <td>2014</td>\n",
       "      <td>8190238</td>\n",
       "      <td>70.080000</td>\n",
       "    </tr>\n",
       "    <tr>\n",
       "      <th>30</th>\n",
       "      <td>Switzerland</td>\n",
       "      <td>CHE</td>\n",
       "      <td>2015</td>\n",
       "      <td>8283940</td>\n",
       "      <td>66.070000</td>\n",
       "    </tr>\n",
       "    <tr>\n",
       "      <th>31</th>\n",
       "      <td>Switzerland</td>\n",
       "      <td>CHE</td>\n",
       "      <td>2016</td>\n",
       "      <td>8374902</td>\n",
       "      <td>61.100000</td>\n",
       "    </tr>\n",
       "    <tr>\n",
       "      <th>32</th>\n",
       "      <td>Switzerland</td>\n",
       "      <td>CHE</td>\n",
       "      <td>2017</td>\n",
       "      <td>8453628</td>\n",
       "      <td>60.150000</td>\n",
       "    </tr>\n",
       "    <tr>\n",
       "      <th>33</th>\n",
       "      <td>Switzerland</td>\n",
       "      <td>CHE</td>\n",
       "      <td>2018</td>\n",
       "      <td>8516339</td>\n",
       "      <td>66.290000</td>\n",
       "    </tr>\n",
       "    <tr>\n",
       "      <th>34</th>\n",
       "      <td>Switzerland</td>\n",
       "      <td>CHE</td>\n",
       "      <td>2019</td>\n",
       "      <td>8577526</td>\n",
       "      <td>70.570000</td>\n",
       "    </tr>\n",
       "    <tr>\n",
       "      <th>35</th>\n",
       "      <td>Switzerland</td>\n",
       "      <td>CHE</td>\n",
       "      <td>2020</td>\n",
       "      <td>8640582</td>\n",
       "      <td>68.490000</td>\n",
       "    </tr>\n",
       "    <tr>\n",
       "      <th>36</th>\n",
       "      <td>Switzerland</td>\n",
       "      <td>CHE</td>\n",
       "      <td>2021</td>\n",
       "      <td>8707018</td>\n",
       "      <td>63.100000</td>\n",
       "    </tr>\n",
       "    <tr>\n",
       "      <th>37</th>\n",
       "      <td>Switzerland</td>\n",
       "      <td>CHE</td>\n",
       "      <td>2022</td>\n",
       "      <td>8792180</td>\n",
       "      <td>62.270000</td>\n",
       "    </tr>\n",
       "    <tr>\n",
       "      <th>38</th>\n",
       "      <td>Switzerland</td>\n",
       "      <td>CHE</td>\n",
       "      <td>2023</td>\n",
       "      <td>8870564</td>\n",
       "      <td>70.890000</td>\n",
       "    </tr>\n",
       "  </tbody>\n",
       "</table>\n",
       "</div>"
      ],
      "text/plain": [
       "         Entity Code  Year  Population  Electricity generation - TWh\n",
       "0   Switzerland  CHE  1985     6470959                     56.338123\n",
       "1   Switzerland  CHE  1986     6504748                     57.410492\n",
       "2   Switzerland  CHE  1987     6545771                     59.733856\n",
       "3   Switzerland  CHE  1988     6594145                     60.535755\n",
       "4   Switzerland  CHE  1989     6647786                     54.610770\n",
       "5   Switzerland  CHE  1990     6713167                     56.015427\n",
       "6   Switzerland  CHE  1991     6796942                     58.061848\n",
       "7   Switzerland  CHE  1992     6875049                     59.517920\n",
       "8   Switzerland  CHE  1993     6938107                     61.555614\n",
       "9   Switzerland  CHE  1994     6993594                     66.134240\n",
       "10  Switzerland  CHE  1995     7040481                     62.862670\n",
       "11  Switzerland  CHE  1996     7071884                     57.328350\n",
       "12  Switzerland  CHE  1997     7089163                     62.902084\n",
       "13  Switzerland  CHE  1998     7110294                     63.287940\n",
       "14  Switzerland  CHE  1999     7144118                     68.617320\n",
       "15  Switzerland  CHE  2000     7184003                     66.120000\n",
       "16  Switzerland  CHE  2001     7226391                     71.050000\n",
       "17  Switzerland  CHE  2002     7278744                     65.410000\n",
       "18  Switzerland  CHE  2003     7333450                     65.340000\n",
       "19  Switzerland  CHE  2004     7384196                     63.870000\n",
       "20  Switzerland  CHE  2005     7431824                     57.800000\n",
       "21  Switzerland  CHE  2006     7478514                     62.130000\n",
       "22  Switzerland  CHE  2007     7545386                     66.430000\n",
       "23  Switzerland  CHE  2008     7641729                     67.040000\n",
       "24  Switzerland  CHE  2009     7737642                     66.670000\n",
       "25  Switzerland  CHE  2010     7825751                     66.050000\n",
       "26  Switzerland  CHE  2011     7914378                     62.880000\n",
       "27  Switzerland  CHE  2012     7998927                     68.130000\n",
       "28  Switzerland  CHE  2013     8091197                     68.690000\n",
       "29  Switzerland  CHE  2014     8190238                     70.080000\n",
       "30  Switzerland  CHE  2015     8283940                     66.070000\n",
       "31  Switzerland  CHE  2016     8374902                     61.100000\n",
       "32  Switzerland  CHE  2017     8453628                     60.150000\n",
       "33  Switzerland  CHE  2018     8516339                     66.290000\n",
       "34  Switzerland  CHE  2019     8577526                     70.570000\n",
       "35  Switzerland  CHE  2020     8640582                     68.490000\n",
       "36  Switzerland  CHE  2021     8707018                     63.100000\n",
       "37  Switzerland  CHE  2022     8792180                     62.270000\n",
       "38  Switzerland  CHE  2023     8870564                     70.890000\n",
       "0   Switzerland  CHE  1985     6470959                     56.338123\n",
       "1   Switzerland  CHE  1986     6504748                     57.410492\n",
       "2   Switzerland  CHE  1987     6545771                     59.733856\n",
       "3   Switzerland  CHE  1988     6594145                     60.535755\n",
       "4   Switzerland  CHE  1989     6647786                     54.610770\n",
       "5   Switzerland  CHE  1990     6713167                     56.015427\n",
       "6   Switzerland  CHE  1991     6796942                     58.061848\n",
       "7   Switzerland  CHE  1992     6875049                     59.517920\n",
       "8   Switzerland  CHE  1993     6938107                     61.555614\n",
       "9   Switzerland  CHE  1994     6993594                     66.134240\n",
       "10  Switzerland  CHE  1995     7040481                     62.862670\n",
       "11  Switzerland  CHE  1996     7071884                     57.328350\n",
       "12  Switzerland  CHE  1997     7089163                     62.902084\n",
       "13  Switzerland  CHE  1998     7110294                     63.287940\n",
       "14  Switzerland  CHE  1999     7144118                     68.617320\n",
       "15  Switzerland  CHE  2000     7184003                     66.120000\n",
       "16  Switzerland  CHE  2001     7226391                     71.050000\n",
       "17  Switzerland  CHE  2002     7278744                     65.410000\n",
       "18  Switzerland  CHE  2003     7333450                     65.340000\n",
       "19  Switzerland  CHE  2004     7384196                     63.870000\n",
       "20  Switzerland  CHE  2005     7431824                     57.800000\n",
       "21  Switzerland  CHE  2006     7478514                     62.130000\n",
       "22  Switzerland  CHE  2007     7545386                     66.430000\n",
       "23  Switzerland  CHE  2008     7641729                     67.040000\n",
       "24  Switzerland  CHE  2009     7737642                     66.670000\n",
       "25  Switzerland  CHE  2010     7825751                     66.050000\n",
       "26  Switzerland  CHE  2011     7914378                     62.880000\n",
       "27  Switzerland  CHE  2012     7998927                     68.130000\n",
       "28  Switzerland  CHE  2013     8091197                     68.690000\n",
       "29  Switzerland  CHE  2014     8190238                     70.080000\n",
       "30  Switzerland  CHE  2015     8283940                     66.070000\n",
       "31  Switzerland  CHE  2016     8374902                     61.100000\n",
       "32  Switzerland  CHE  2017     8453628                     60.150000\n",
       "33  Switzerland  CHE  2018     8516339                     66.290000\n",
       "34  Switzerland  CHE  2019     8577526                     70.570000\n",
       "35  Switzerland  CHE  2020     8640582                     68.490000\n",
       "36  Switzerland  CHE  2021     8707018                     63.100000\n",
       "37  Switzerland  CHE  2022     8792180                     62.270000\n",
       "38  Switzerland  CHE  2023     8870564                     70.890000"
      ]
     },
     "execution_count": 617,
     "metadata": {},
     "output_type": "execute_result"
    }
   ],
   "source": [
    "df_concat = pd.concat([df_inner_join_simpler, df_swiss_data_inner_join])\n",
    "df_concat"
   ]
  },
  {
   "cell_type": "markdown",
   "metadata": {},
   "source": [
    "To add information after, use the `append` method : `df1.append(df2)`"
   ]
  },
  {
   "cell_type": "markdown",
   "metadata": {},
   "source": [
    "##### NaN (NaT,...) value"
   ]
  },
  {
   "cell_type": "markdown",
   "metadata": {},
   "source": [
    "This value is a problem when you manipulate data.\n",
    "\n",
    "It's possible to solve the problem with various method :\n",
    "- Complete with constant value - `df=df.fillna(1)` \n",
    "  - Replace by the integer 1 if you have time series, that doesn't work, use p.ex. : `df[\"time\"].fillna(pd.Timestamp(\"20221225\"))`\n",
    "- Remove value - `df.dropna()`\n",
    "  - Remove row (parameter `axis = 0`) or column (parameter `axis = 1`) with `NaN`, by default `axis = o`\n",
    "- Interpolate value - `df=df.interpolate()`\n",
    "  - Fill with midpoint between the two cells"
   ]
  },
  {
   "cell_type": "markdown",
   "metadata": {},
   "source": [
    "## Visualisation of the data"
   ]
  },
  {
   "cell_type": "markdown",
   "metadata": {},
   "source": [
    "Now I would like to visualize the evolution of the electricity generation per capita over the time :"
   ]
  },
  {
   "cell_type": "code",
   "execution_count": 618,
   "metadata": {},
   "outputs": [],
   "source": [
    "# The basic ways to do that\n",
    "\n",
    "# Before need to create the empty column\n",
    "nb_line = df_swiss_data_inner_join.shape[0]\n",
    "df_swiss_data_inner_join[\"Production per capita - kWh\"] = np.zeros(nb_line)\n",
    "# Range because int is not iterable (create a sequence of number)\n",
    "for i in range(df_swiss_data_inner_join.shape[0]):\n",
    "    df_swiss_data_inner_join.loc[i, \"Production per capita - kWh\"] = (\n",
    "        df_swiss_data_inner_join.loc[i, \"Electricity generation - TWh\"]\n",
    "        / df_swiss_data_inner_join.loc[i, \"Population\"]\n",
    "        * 1e9\n",
    "    )"
   ]
  },
  {
   "cell_type": "markdown",
   "metadata": {},
   "source": [
    "The second method *__and simply__* method to do that"
   ]
  },
  {
   "cell_type": "code",
   "execution_count": 619,
   "metadata": {},
   "outputs": [],
   "source": [
    "df_swiss_data_inner_join[\"Production per capita 2e method - kWh\"] = (\n",
    "    df_swiss_data_inner_join[\"Electricity generation - TWh\"]\n",
    "    / df_swiss_data_inner_join[\"Population\"]\n",
    "    * 1e9\n",
    ")"
   ]
  },
  {
   "cell_type": "markdown",
   "metadata": {},
   "source": [
    "#### Another ways to do that"
   ]
  },
  {
   "cell_type": "markdown",
   "metadata": {},
   "source": [
    "The power of apply plus lambda function is his simplicity, we can apply a function (lambda) to multiple row in one line of code. (Small comparison of using or not [lambda](https://www.geeksforgeeks.org/python-lambda-anonymous-functions-filter-map-reduce/#:~:text=With%20lambda%20function,Without%20lambda%20function) function)\n",
    "\n"
   ]
  },
  {
   "cell_type": "code",
   "execution_count": 620,
   "metadata": {},
   "outputs": [],
   "source": [
    "df_swiss_data_inner_join[\"Production per capita 3e method - kWh\"] = (\n",
    "    df_swiss_data_inner_join.apply(\n",
    "        lambda row: row[\"Electricity generation - TWh\"] / row[\"Population\"] * 1e9,\n",
    "        axis=1,\n",
    "    )\n",
    ")"
   ]
  },
  {
   "cell_type": "markdown",
   "metadata": {},
   "source": [
    "It also possible to add a condition with an if function.\n",
    "I would like to know if the production per capita of this year is upper than the global average."
   ]
  },
  {
   "cell_type": "code",
   "execution_count": 621,
   "metadata": {},
   "outputs": [],
   "source": [
    "mean_production_per_capita = df_swiss_data_inner_join[\n",
    "    \"Production per capita - kWh\"\n",
    "].mean()\n",
    "df_swiss_data_inner_join[\"Per Capita Up than mean\"] = df_swiss_data_inner_join.apply(\n",
    "    lambda row: (\n",
    "        \"Yes\"\n",
    "        if row[\"Production per capita - kWh\"] > mean_production_per_capita\n",
    "        else \"No\"\n",
    "    ),\n",
    "    axis=1,\n",
    ")"
   ]
  },
  {
   "cell_type": "markdown",
   "metadata": {},
   "source": [
    "#### Compare the three methods"
   ]
  },
  {
   "cell_type": "markdown",
   "metadata": {},
   "source": [
    "If we only multiply column, the second method is the simplest."
   ]
  },
  {
   "cell_type": "code",
   "execution_count": 622,
   "metadata": {},
   "outputs": [
    {
     "data": {
      "text/html": [
       "<div>\n",
       "<style scoped>\n",
       "    .dataframe tbody tr th:only-of-type {\n",
       "        vertical-align: middle;\n",
       "    }\n",
       "\n",
       "    .dataframe tbody tr th {\n",
       "        vertical-align: top;\n",
       "    }\n",
       "\n",
       "    .dataframe thead th {\n",
       "        text-align: right;\n",
       "    }\n",
       "</style>\n",
       "<table border=\"1\" class=\"dataframe\">\n",
       "  <thead>\n",
       "    <tr style=\"text-align: right;\">\n",
       "      <th></th>\n",
       "      <th>Year</th>\n",
       "      <th>Production per capita - kWh</th>\n",
       "      <th>Production per capita 2e method - kWh</th>\n",
       "      <th>Production per capita 3e method - kWh</th>\n",
       "    </tr>\n",
       "  </thead>\n",
       "  <tbody>\n",
       "    <tr>\n",
       "      <th>0</th>\n",
       "      <td>1985</td>\n",
       "      <td>8706.301956</td>\n",
       "      <td>8706.301956</td>\n",
       "      <td>8706.301956</td>\n",
       "    </tr>\n",
       "    <tr>\n",
       "      <th>1</th>\n",
       "      <td>1986</td>\n",
       "      <td>8825.936378</td>\n",
       "      <td>8825.936378</td>\n",
       "      <td>8825.936378</td>\n",
       "    </tr>\n",
       "    <tr>\n",
       "      <th>2</th>\n",
       "      <td>1987</td>\n",
       "      <td>9125.564582</td>\n",
       "      <td>9125.564582</td>\n",
       "      <td>9125.564582</td>\n",
       "    </tr>\n",
       "    <tr>\n",
       "      <th>3</th>\n",
       "      <td>1988</td>\n",
       "      <td>9180.228066</td>\n",
       "      <td>9180.228066</td>\n",
       "      <td>9180.228066</td>\n",
       "    </tr>\n",
       "    <tr>\n",
       "      <th>4</th>\n",
       "      <td>1989</td>\n",
       "      <td>8214.880864</td>\n",
       "      <td>8214.880864</td>\n",
       "      <td>8214.880864</td>\n",
       "    </tr>\n",
       "  </tbody>\n",
       "</table>\n",
       "</div>"
      ],
      "text/plain": [
       "   Year  Production per capita - kWh  Production per capita 2e method - kWh  \\\n",
       "0  1985                  8706.301956                            8706.301956   \n",
       "1  1986                  8825.936378                            8825.936378   \n",
       "2  1987                  9125.564582                            9125.564582   \n",
       "3  1988                  9180.228066                            9180.228066   \n",
       "4  1989                  8214.880864                            8214.880864   \n",
       "\n",
       "   Production per capita 3e method - kWh  \n",
       "0                            8706.301956  \n",
       "1                            8825.936378  \n",
       "2                            9125.564582  \n",
       "3                            9180.228066  \n",
       "4                            8214.880864  "
      ]
     },
     "execution_count": 622,
     "metadata": {},
     "output_type": "execute_result"
    }
   ],
   "source": [
    "df_swiss_data_inner_join[\n",
    "    [\n",
    "        \"Year\",\n",
    "        \"Production per capita - kWh\",\n",
    "        \"Production per capita 2e method - kWh\",\n",
    "        \"Production per capita 3e method - kWh\",\n",
    "    ]\n",
    "].loc[0:4]"
   ]
  },
  {
   "cell_type": "markdown",
   "metadata": {},
   "source": [
    "#### Clean dataframe\n"
   ]
  },
  {
   "cell_type": "markdown",
   "metadata": {},
   "source": [
    "Like we can see, the dataframe can have a lots informations inside, it's possible to remove certain column, or just print the part you want."
   ]
  },
  {
   "cell_type": "code",
   "execution_count": 623,
   "metadata": {},
   "outputs": [],
   "source": [
    "# One way to remove unwanted column\n",
    "df_swiss_data_clean = df_swiss_data_inner_join.drop(\n",
    "    columns=[\n",
    "        \"Entity\",\n",
    "        \"Code\",\n",
    "        \"Production per capita 2e method - kWh\",\n",
    "        \"Production per capita 3e method - kWh\",\n",
    "    ]\n",
    ")"
   ]
  },
  {
   "cell_type": "markdown",
   "metadata": {},
   "source": [
    "### Plot information"
   ]
  },
  {
   "cell_type": "markdown",
   "metadata": {},
   "source": [
    "Now I would like to visualize the Population and the production per capita over time"
   ]
  },
  {
   "cell_type": "code",
   "execution_count": 624,
   "metadata": {},
   "outputs": [
    {
     "data": {
      "application/vnd.plotly.v1+json": {
       "config": {
        "plotlyServerURL": "https://plot.ly"
       },
       "data": [
        {
         "hovertemplate": "Year=%{x}<br>Production per capita - kWh=%{y}<extra></extra>",
         "legendgroup": "",
         "line": {
          "dash": "solid"
         },
         "marker": {
          "symbol": "circle"
         },
         "mode": "lines",
         "name": "",
         "orientation": "v",
         "showlegend": false,
         "type": "scatter",
         "x": [
          1985,
          1986,
          1987,
          1988,
          1989,
          1990,
          1991,
          1992,
          1993,
          1994,
          1995,
          1996,
          1997,
          1998,
          1999,
          2000,
          2001,
          2002,
          2003,
          2004,
          2005,
          2006,
          2007,
          2008,
          2009,
          2010,
          2011,
          2012,
          2013,
          2014,
          2015,
          2016,
          2017,
          2018,
          2019,
          2020,
          2021,
          2022,
          2023
         ],
         "xaxis": "x",
         "y": [
          8706.30195617064,
          8825.936377550675,
          9125.564582079025,
          9180.228065958514,
          8214.880864095205,
          8344.113441539588,
          8542.348603239516,
          8657.090298556417,
          8872.105028071777,
          9456.402530658772,
          8928.746487633445,
          8106.517301471575,
          8872.991635260749,
          8900.88933031461,
          9604.729373171049,
          9203.782348086437,
          9832.017116151063,
          8986.440517759656,
          8909.858252255079,
          8649.553722571827,
          7777.363941880217,
          8307.800185972776,
          8804.05588262814,
          8772.883728276676,
          8616.320062365252,
          8440.08453629562,
          7945.033709534724,
          8517.392395255014,
          8489.473189195616,
          8556.527905538276,
          7975.673411444311,
          7295.607757559432,
          7115.288252570375,
          7783.8611168484495,
          8227.31402970973,
          7926.5493921590005,
          7247.027627598794,
          7082.430068538179,
          7991.60008315142
         ],
         "yaxis": "y"
        },
        {
         "hovertemplate": "Year=%{x}<br>Population=%{y}<extra></extra>",
         "legendgroup": "",
         "line": {
          "dash": "solid"
         },
         "marker": {
          "symbol": "circle"
         },
         "mode": "lines",
         "name": "",
         "orientation": "v",
         "showlegend": false,
         "type": "scatter",
         "x": [
          1985,
          1986,
          1987,
          1988,
          1989,
          1990,
          1991,
          1992,
          1993,
          1994,
          1995,
          1996,
          1997,
          1998,
          1999,
          2000,
          2001,
          2002,
          2003,
          2004,
          2005,
          2006,
          2007,
          2008,
          2009,
          2010,
          2011,
          2012,
          2013,
          2014,
          2015,
          2016,
          2017,
          2018,
          2019,
          2020,
          2021,
          2022,
          2023
         ],
         "xaxis": "x",
         "y": [
          6470959,
          6504748,
          6545771,
          6594145,
          6647786,
          6713167,
          6796942,
          6875049,
          6938107,
          6993594,
          7040481,
          7071884,
          7089163,
          7110294,
          7144118,
          7184003,
          7226391,
          7278744,
          7333450,
          7384196,
          7431824,
          7478514,
          7545386,
          7641729,
          7737642,
          7825751,
          7914378,
          7998927,
          8091197,
          8190238,
          8283940,
          8374902,
          8453628,
          8516339,
          8577526,
          8640582,
          8707018,
          8792180,
          8870564
         ],
         "yaxis": "y2"
        }
       ],
       "layout": {
        "height": 500,
        "margin": {
         "b": 60,
         "l": 60,
         "r": 60,
         "t": 60
        },
        "template": {
         "data": {
          "bar": [
           {
            "error_x": {
             "color": "#2a3f5f"
            },
            "error_y": {
             "color": "#2a3f5f"
            },
            "marker": {
             "line": {
              "color": "#E5ECF6",
              "width": 0.5
             },
             "pattern": {
              "fillmode": "overlay",
              "size": 10,
              "solidity": 0.2
             }
            },
            "type": "bar"
           }
          ],
          "barpolar": [
           {
            "marker": {
             "line": {
              "color": "#E5ECF6",
              "width": 0.5
             },
             "pattern": {
              "fillmode": "overlay",
              "size": 10,
              "solidity": 0.2
             }
            },
            "type": "barpolar"
           }
          ],
          "carpet": [
           {
            "aaxis": {
             "endlinecolor": "#2a3f5f",
             "gridcolor": "white",
             "linecolor": "white",
             "minorgridcolor": "white",
             "startlinecolor": "#2a3f5f"
            },
            "baxis": {
             "endlinecolor": "#2a3f5f",
             "gridcolor": "white",
             "linecolor": "white",
             "minorgridcolor": "white",
             "startlinecolor": "#2a3f5f"
            },
            "type": "carpet"
           }
          ],
          "choropleth": [
           {
            "colorbar": {
             "outlinewidth": 0,
             "ticks": ""
            },
            "type": "choropleth"
           }
          ],
          "contour": [
           {
            "colorbar": {
             "outlinewidth": 0,
             "ticks": ""
            },
            "colorscale": [
             [
              0,
              "#0d0887"
             ],
             [
              0.1111111111111111,
              "#46039f"
             ],
             [
              0.2222222222222222,
              "#7201a8"
             ],
             [
              0.3333333333333333,
              "#9c179e"
             ],
             [
              0.4444444444444444,
              "#bd3786"
             ],
             [
              0.5555555555555556,
              "#d8576b"
             ],
             [
              0.6666666666666666,
              "#ed7953"
             ],
             [
              0.7777777777777778,
              "#fb9f3a"
             ],
             [
              0.8888888888888888,
              "#fdca26"
             ],
             [
              1,
              "#f0f921"
             ]
            ],
            "type": "contour"
           }
          ],
          "contourcarpet": [
           {
            "colorbar": {
             "outlinewidth": 0,
             "ticks": ""
            },
            "type": "contourcarpet"
           }
          ],
          "heatmap": [
           {
            "colorbar": {
             "outlinewidth": 0,
             "ticks": ""
            },
            "colorscale": [
             [
              0,
              "#0d0887"
             ],
             [
              0.1111111111111111,
              "#46039f"
             ],
             [
              0.2222222222222222,
              "#7201a8"
             ],
             [
              0.3333333333333333,
              "#9c179e"
             ],
             [
              0.4444444444444444,
              "#bd3786"
             ],
             [
              0.5555555555555556,
              "#d8576b"
             ],
             [
              0.6666666666666666,
              "#ed7953"
             ],
             [
              0.7777777777777778,
              "#fb9f3a"
             ],
             [
              0.8888888888888888,
              "#fdca26"
             ],
             [
              1,
              "#f0f921"
             ]
            ],
            "type": "heatmap"
           }
          ],
          "heatmapgl": [
           {
            "colorbar": {
             "outlinewidth": 0,
             "ticks": ""
            },
            "colorscale": [
             [
              0,
              "#0d0887"
             ],
             [
              0.1111111111111111,
              "#46039f"
             ],
             [
              0.2222222222222222,
              "#7201a8"
             ],
             [
              0.3333333333333333,
              "#9c179e"
             ],
             [
              0.4444444444444444,
              "#bd3786"
             ],
             [
              0.5555555555555556,
              "#d8576b"
             ],
             [
              0.6666666666666666,
              "#ed7953"
             ],
             [
              0.7777777777777778,
              "#fb9f3a"
             ],
             [
              0.8888888888888888,
              "#fdca26"
             ],
             [
              1,
              "#f0f921"
             ]
            ],
            "type": "heatmapgl"
           }
          ],
          "histogram": [
           {
            "marker": {
             "pattern": {
              "fillmode": "overlay",
              "size": 10,
              "solidity": 0.2
             }
            },
            "type": "histogram"
           }
          ],
          "histogram2d": [
           {
            "colorbar": {
             "outlinewidth": 0,
             "ticks": ""
            },
            "colorscale": [
             [
              0,
              "#0d0887"
             ],
             [
              0.1111111111111111,
              "#46039f"
             ],
             [
              0.2222222222222222,
              "#7201a8"
             ],
             [
              0.3333333333333333,
              "#9c179e"
             ],
             [
              0.4444444444444444,
              "#bd3786"
             ],
             [
              0.5555555555555556,
              "#d8576b"
             ],
             [
              0.6666666666666666,
              "#ed7953"
             ],
             [
              0.7777777777777778,
              "#fb9f3a"
             ],
             [
              0.8888888888888888,
              "#fdca26"
             ],
             [
              1,
              "#f0f921"
             ]
            ],
            "type": "histogram2d"
           }
          ],
          "histogram2dcontour": [
           {
            "colorbar": {
             "outlinewidth": 0,
             "ticks": ""
            },
            "colorscale": [
             [
              0,
              "#0d0887"
             ],
             [
              0.1111111111111111,
              "#46039f"
             ],
             [
              0.2222222222222222,
              "#7201a8"
             ],
             [
              0.3333333333333333,
              "#9c179e"
             ],
             [
              0.4444444444444444,
              "#bd3786"
             ],
             [
              0.5555555555555556,
              "#d8576b"
             ],
             [
              0.6666666666666666,
              "#ed7953"
             ],
             [
              0.7777777777777778,
              "#fb9f3a"
             ],
             [
              0.8888888888888888,
              "#fdca26"
             ],
             [
              1,
              "#f0f921"
             ]
            ],
            "type": "histogram2dcontour"
           }
          ],
          "mesh3d": [
           {
            "colorbar": {
             "outlinewidth": 0,
             "ticks": ""
            },
            "type": "mesh3d"
           }
          ],
          "parcoords": [
           {
            "line": {
             "colorbar": {
              "outlinewidth": 0,
              "ticks": ""
             }
            },
            "type": "parcoords"
           }
          ],
          "pie": [
           {
            "automargin": true,
            "type": "pie"
           }
          ],
          "scatter": [
           {
            "fillpattern": {
             "fillmode": "overlay",
             "size": 10,
             "solidity": 0.2
            },
            "type": "scatter"
           }
          ],
          "scatter3d": [
           {
            "line": {
             "colorbar": {
              "outlinewidth": 0,
              "ticks": ""
             }
            },
            "marker": {
             "colorbar": {
              "outlinewidth": 0,
              "ticks": ""
             }
            },
            "type": "scatter3d"
           }
          ],
          "scattercarpet": [
           {
            "marker": {
             "colorbar": {
              "outlinewidth": 0,
              "ticks": ""
             }
            },
            "type": "scattercarpet"
           }
          ],
          "scattergeo": [
           {
            "marker": {
             "colorbar": {
              "outlinewidth": 0,
              "ticks": ""
             }
            },
            "type": "scattergeo"
           }
          ],
          "scattergl": [
           {
            "marker": {
             "colorbar": {
              "outlinewidth": 0,
              "ticks": ""
             }
            },
            "type": "scattergl"
           }
          ],
          "scattermapbox": [
           {
            "marker": {
             "colorbar": {
              "outlinewidth": 0,
              "ticks": ""
             }
            },
            "type": "scattermapbox"
           }
          ],
          "scatterpolar": [
           {
            "marker": {
             "colorbar": {
              "outlinewidth": 0,
              "ticks": ""
             }
            },
            "type": "scatterpolar"
           }
          ],
          "scatterpolargl": [
           {
            "marker": {
             "colorbar": {
              "outlinewidth": 0,
              "ticks": ""
             }
            },
            "type": "scatterpolargl"
           }
          ],
          "scatterternary": [
           {
            "marker": {
             "colorbar": {
              "outlinewidth": 0,
              "ticks": ""
             }
            },
            "type": "scatterternary"
           }
          ],
          "surface": [
           {
            "colorbar": {
             "outlinewidth": 0,
             "ticks": ""
            },
            "colorscale": [
             [
              0,
              "#0d0887"
             ],
             [
              0.1111111111111111,
              "#46039f"
             ],
             [
              0.2222222222222222,
              "#7201a8"
             ],
             [
              0.3333333333333333,
              "#9c179e"
             ],
             [
              0.4444444444444444,
              "#bd3786"
             ],
             [
              0.5555555555555556,
              "#d8576b"
             ],
             [
              0.6666666666666666,
              "#ed7953"
             ],
             [
              0.7777777777777778,
              "#fb9f3a"
             ],
             [
              0.8888888888888888,
              "#fdca26"
             ],
             [
              1,
              "#f0f921"
             ]
            ],
            "type": "surface"
           }
          ],
          "table": [
           {
            "cells": {
             "fill": {
              "color": "#EBF0F8"
             },
             "line": {
              "color": "white"
             }
            },
            "header": {
             "fill": {
              "color": "#C8D4E3"
             },
             "line": {
              "color": "white"
             }
            },
            "type": "table"
           }
          ]
         },
         "layout": {
          "annotationdefaults": {
           "arrowcolor": "#2a3f5f",
           "arrowhead": 0,
           "arrowwidth": 1
          },
          "autotypenumbers": "strict",
          "coloraxis": {
           "colorbar": {
            "outlinewidth": 0,
            "ticks": ""
           }
          },
          "colorscale": {
           "diverging": [
            [
             0,
             "#8e0152"
            ],
            [
             0.1,
             "#c51b7d"
            ],
            [
             0.2,
             "#de77ae"
            ],
            [
             0.3,
             "#f1b6da"
            ],
            [
             0.4,
             "#fde0ef"
            ],
            [
             0.5,
             "#f7f7f7"
            ],
            [
             0.6,
             "#e6f5d0"
            ],
            [
             0.7,
             "#b8e186"
            ],
            [
             0.8,
             "#7fbc41"
            ],
            [
             0.9,
             "#4d9221"
            ],
            [
             1,
             "#276419"
            ]
           ],
           "sequential": [
            [
             0,
             "#0d0887"
            ],
            [
             0.1111111111111111,
             "#46039f"
            ],
            [
             0.2222222222222222,
             "#7201a8"
            ],
            [
             0.3333333333333333,
             "#9c179e"
            ],
            [
             0.4444444444444444,
             "#bd3786"
            ],
            [
             0.5555555555555556,
             "#d8576b"
            ],
            [
             0.6666666666666666,
             "#ed7953"
            ],
            [
             0.7777777777777778,
             "#fb9f3a"
            ],
            [
             0.8888888888888888,
             "#fdca26"
            ],
            [
             1,
             "#f0f921"
            ]
           ],
           "sequentialminus": [
            [
             0,
             "#0d0887"
            ],
            [
             0.1111111111111111,
             "#46039f"
            ],
            [
             0.2222222222222222,
             "#7201a8"
            ],
            [
             0.3333333333333333,
             "#9c179e"
            ],
            [
             0.4444444444444444,
             "#bd3786"
            ],
            [
             0.5555555555555556,
             "#d8576b"
            ],
            [
             0.6666666666666666,
             "#ed7953"
            ],
            [
             0.7777777777777778,
             "#fb9f3a"
            ],
            [
             0.8888888888888888,
             "#fdca26"
            ],
            [
             1,
             "#f0f921"
            ]
           ]
          },
          "colorway": [
           "#636efa",
           "#EF553B",
           "#00cc96",
           "#ab63fa",
           "#FFA15A",
           "#19d3f3",
           "#FF6692",
           "#B6E880",
           "#FF97FF",
           "#FECB52"
          ],
          "font": {
           "color": "#2a3f5f"
          },
          "geo": {
           "bgcolor": "white",
           "lakecolor": "white",
           "landcolor": "#E5ECF6",
           "showlakes": true,
           "showland": true,
           "subunitcolor": "white"
          },
          "hoverlabel": {
           "align": "left"
          },
          "hovermode": "closest",
          "mapbox": {
           "style": "light"
          },
          "paper_bgcolor": "white",
          "plot_bgcolor": "#E5ECF6",
          "polar": {
           "angularaxis": {
            "gridcolor": "white",
            "linecolor": "white",
            "ticks": ""
           },
           "bgcolor": "#E5ECF6",
           "radialaxis": {
            "gridcolor": "white",
            "linecolor": "white",
            "ticks": ""
           }
          },
          "scene": {
           "xaxis": {
            "backgroundcolor": "#E5ECF6",
            "gridcolor": "white",
            "gridwidth": 2,
            "linecolor": "white",
            "showbackground": true,
            "ticks": "",
            "zerolinecolor": "white"
           },
           "yaxis": {
            "backgroundcolor": "#E5ECF6",
            "gridcolor": "white",
            "gridwidth": 2,
            "linecolor": "white",
            "showbackground": true,
            "ticks": "",
            "zerolinecolor": "white"
           },
           "zaxis": {
            "backgroundcolor": "#E5ECF6",
            "gridcolor": "white",
            "gridwidth": 2,
            "linecolor": "white",
            "showbackground": true,
            "ticks": "",
            "zerolinecolor": "white"
           }
          },
          "shapedefaults": {
           "line": {
            "color": "#2a3f5f"
           }
          },
          "ternary": {
           "aaxis": {
            "gridcolor": "white",
            "linecolor": "white",
            "ticks": ""
           },
           "baxis": {
            "gridcolor": "white",
            "linecolor": "white",
            "ticks": ""
           },
           "bgcolor": "#E5ECF6",
           "caxis": {
            "gridcolor": "white",
            "linecolor": "white",
            "ticks": ""
           }
          },
          "title": {
           "x": 0.05
          },
          "xaxis": {
           "automargin": true,
           "gridcolor": "white",
           "linecolor": "white",
           "ticks": "",
           "title": {
            "standoff": 15
           },
           "zerolinecolor": "white",
           "zerolinewidth": 2
          },
          "yaxis": {
           "automargin": true,
           "gridcolor": "white",
           "linecolor": "white",
           "ticks": "",
           "title": {
            "standoff": 15
           },
           "zerolinecolor": "white",
           "zerolinewidth": 2
          }
         }
        },
        "width": 800,
        "xaxis": {
         "anchor": "y",
         "domain": [
          0,
          0.94
         ],
         "title": {
          "text": "Time"
         }
        },
        "yaxis": {
         "anchor": "x",
         "domain": [
          0,
          1
         ],
         "title": {
          "text": "Production per capita - kWh"
         }
        },
        "yaxis2": {
         "anchor": "x",
         "overlaying": "y",
         "side": "right",
         "title": {
          "text": "Population"
         }
        }
       }
      },
      "text/html": [
       "<div>                            <div id=\"fa1aee7b-d94b-4fc7-8edd-82e3d786148a\" class=\"plotly-graph-div\" style=\"height:500px; width:800px;\"></div>            <script type=\"text/javascript\">                require([\"plotly\"], function(Plotly) {                    window.PLOTLYENV=window.PLOTLYENV || {};                                    if (document.getElementById(\"fa1aee7b-d94b-4fc7-8edd-82e3d786148a\")) {                    Plotly.newPlot(                        \"fa1aee7b-d94b-4fc7-8edd-82e3d786148a\",                        [{\"hovertemplate\":\"Year=%{x}\\u003cbr\\u003eProduction per capita - kWh=%{y}\\u003cextra\\u003e\\u003c\\u002fextra\\u003e\",\"legendgroup\":\"\",\"line\":{\"dash\":\"solid\"},\"marker\":{\"symbol\":\"circle\"},\"mode\":\"lines\",\"name\":\"\",\"orientation\":\"v\",\"showlegend\":false,\"x\":[1985,1986,1987,1988,1989,1990,1991,1992,1993,1994,1995,1996,1997,1998,1999,2000,2001,2002,2003,2004,2005,2006,2007,2008,2009,2010,2011,2012,2013,2014,2015,2016,2017,2018,2019,2020,2021,2022,2023],\"xaxis\":\"x\",\"y\":[8706.30195617064,8825.936377550675,9125.564582079025,9180.228065958514,8214.880864095205,8344.113441539588,8542.348603239516,8657.090298556417,8872.105028071777,9456.402530658772,8928.746487633445,8106.517301471575,8872.991635260749,8900.88933031461,9604.729373171049,9203.782348086437,9832.017116151063,8986.440517759656,8909.858252255079,8649.553722571827,7777.363941880217,8307.800185972776,8804.05588262814,8772.883728276676,8616.320062365252,8440.08453629562,7945.033709534724,8517.392395255014,8489.473189195616,8556.527905538276,7975.673411444311,7295.607757559432,7115.288252570375,7783.8611168484495,8227.31402970973,7926.5493921590005,7247.027627598794,7082.430068538179,7991.60008315142],\"yaxis\":\"y\",\"type\":\"scatter\"},{\"hovertemplate\":\"Year=%{x}\\u003cbr\\u003ePopulation=%{y}\\u003cextra\\u003e\\u003c\\u002fextra\\u003e\",\"legendgroup\":\"\",\"line\":{\"dash\":\"solid\"},\"marker\":{\"symbol\":\"circle\"},\"mode\":\"lines\",\"name\":\"\",\"orientation\":\"v\",\"showlegend\":false,\"x\":[1985,1986,1987,1988,1989,1990,1991,1992,1993,1994,1995,1996,1997,1998,1999,2000,2001,2002,2003,2004,2005,2006,2007,2008,2009,2010,2011,2012,2013,2014,2015,2016,2017,2018,2019,2020,2021,2022,2023],\"xaxis\":\"x\",\"y\":[6470959,6504748,6545771,6594145,6647786,6713167,6796942,6875049,6938107,6993594,7040481,7071884,7089163,7110294,7144118,7184003,7226391,7278744,7333450,7384196,7431824,7478514,7545386,7641729,7737642,7825751,7914378,7998927,8091197,8190238,8283940,8374902,8453628,8516339,8577526,8640582,8707018,8792180,8870564],\"yaxis\":\"y2\",\"type\":\"scatter\"}],                        {\"template\":{\"data\":{\"histogram2dcontour\":[{\"type\":\"histogram2dcontour\",\"colorbar\":{\"outlinewidth\":0,\"ticks\":\"\"},\"colorscale\":[[0.0,\"#0d0887\"],[0.1111111111111111,\"#46039f\"],[0.2222222222222222,\"#7201a8\"],[0.3333333333333333,\"#9c179e\"],[0.4444444444444444,\"#bd3786\"],[0.5555555555555556,\"#d8576b\"],[0.6666666666666666,\"#ed7953\"],[0.7777777777777778,\"#fb9f3a\"],[0.8888888888888888,\"#fdca26\"],[1.0,\"#f0f921\"]]}],\"choropleth\":[{\"type\":\"choropleth\",\"colorbar\":{\"outlinewidth\":0,\"ticks\":\"\"}}],\"histogram2d\":[{\"type\":\"histogram2d\",\"colorbar\":{\"outlinewidth\":0,\"ticks\":\"\"},\"colorscale\":[[0.0,\"#0d0887\"],[0.1111111111111111,\"#46039f\"],[0.2222222222222222,\"#7201a8\"],[0.3333333333333333,\"#9c179e\"],[0.4444444444444444,\"#bd3786\"],[0.5555555555555556,\"#d8576b\"],[0.6666666666666666,\"#ed7953\"],[0.7777777777777778,\"#fb9f3a\"],[0.8888888888888888,\"#fdca26\"],[1.0,\"#f0f921\"]]}],\"heatmap\":[{\"type\":\"heatmap\",\"colorbar\":{\"outlinewidth\":0,\"ticks\":\"\"},\"colorscale\":[[0.0,\"#0d0887\"],[0.1111111111111111,\"#46039f\"],[0.2222222222222222,\"#7201a8\"],[0.3333333333333333,\"#9c179e\"],[0.4444444444444444,\"#bd3786\"],[0.5555555555555556,\"#d8576b\"],[0.6666666666666666,\"#ed7953\"],[0.7777777777777778,\"#fb9f3a\"],[0.8888888888888888,\"#fdca26\"],[1.0,\"#f0f921\"]]}],\"heatmapgl\":[{\"type\":\"heatmapgl\",\"colorbar\":{\"outlinewidth\":0,\"ticks\":\"\"},\"colorscale\":[[0.0,\"#0d0887\"],[0.1111111111111111,\"#46039f\"],[0.2222222222222222,\"#7201a8\"],[0.3333333333333333,\"#9c179e\"],[0.4444444444444444,\"#bd3786\"],[0.5555555555555556,\"#d8576b\"],[0.6666666666666666,\"#ed7953\"],[0.7777777777777778,\"#fb9f3a\"],[0.8888888888888888,\"#fdca26\"],[1.0,\"#f0f921\"]]}],\"contourcarpet\":[{\"type\":\"contourcarpet\",\"colorbar\":{\"outlinewidth\":0,\"ticks\":\"\"}}],\"contour\":[{\"type\":\"contour\",\"colorbar\":{\"outlinewidth\":0,\"ticks\":\"\"},\"colorscale\":[[0.0,\"#0d0887\"],[0.1111111111111111,\"#46039f\"],[0.2222222222222222,\"#7201a8\"],[0.3333333333333333,\"#9c179e\"],[0.4444444444444444,\"#bd3786\"],[0.5555555555555556,\"#d8576b\"],[0.6666666666666666,\"#ed7953\"],[0.7777777777777778,\"#fb9f3a\"],[0.8888888888888888,\"#fdca26\"],[1.0,\"#f0f921\"]]}],\"surface\":[{\"type\":\"surface\",\"colorbar\":{\"outlinewidth\":0,\"ticks\":\"\"},\"colorscale\":[[0.0,\"#0d0887\"],[0.1111111111111111,\"#46039f\"],[0.2222222222222222,\"#7201a8\"],[0.3333333333333333,\"#9c179e\"],[0.4444444444444444,\"#bd3786\"],[0.5555555555555556,\"#d8576b\"],[0.6666666666666666,\"#ed7953\"],[0.7777777777777778,\"#fb9f3a\"],[0.8888888888888888,\"#fdca26\"],[1.0,\"#f0f921\"]]}],\"mesh3d\":[{\"type\":\"mesh3d\",\"colorbar\":{\"outlinewidth\":0,\"ticks\":\"\"}}],\"scatter\":[{\"fillpattern\":{\"fillmode\":\"overlay\",\"size\":10,\"solidity\":0.2},\"type\":\"scatter\"}],\"parcoords\":[{\"type\":\"parcoords\",\"line\":{\"colorbar\":{\"outlinewidth\":0,\"ticks\":\"\"}}}],\"scatterpolargl\":[{\"type\":\"scatterpolargl\",\"marker\":{\"colorbar\":{\"outlinewidth\":0,\"ticks\":\"\"}}}],\"bar\":[{\"error_x\":{\"color\":\"#2a3f5f\"},\"error_y\":{\"color\":\"#2a3f5f\"},\"marker\":{\"line\":{\"color\":\"#E5ECF6\",\"width\":0.5},\"pattern\":{\"fillmode\":\"overlay\",\"size\":10,\"solidity\":0.2}},\"type\":\"bar\"}],\"scattergeo\":[{\"type\":\"scattergeo\",\"marker\":{\"colorbar\":{\"outlinewidth\":0,\"ticks\":\"\"}}}],\"scatterpolar\":[{\"type\":\"scatterpolar\",\"marker\":{\"colorbar\":{\"outlinewidth\":0,\"ticks\":\"\"}}}],\"histogram\":[{\"marker\":{\"pattern\":{\"fillmode\":\"overlay\",\"size\":10,\"solidity\":0.2}},\"type\":\"histogram\"}],\"scattergl\":[{\"type\":\"scattergl\",\"marker\":{\"colorbar\":{\"outlinewidth\":0,\"ticks\":\"\"}}}],\"scatter3d\":[{\"type\":\"scatter3d\",\"line\":{\"colorbar\":{\"outlinewidth\":0,\"ticks\":\"\"}},\"marker\":{\"colorbar\":{\"outlinewidth\":0,\"ticks\":\"\"}}}],\"scattermapbox\":[{\"type\":\"scattermapbox\",\"marker\":{\"colorbar\":{\"outlinewidth\":0,\"ticks\":\"\"}}}],\"scatterternary\":[{\"type\":\"scatterternary\",\"marker\":{\"colorbar\":{\"outlinewidth\":0,\"ticks\":\"\"}}}],\"scattercarpet\":[{\"type\":\"scattercarpet\",\"marker\":{\"colorbar\":{\"outlinewidth\":0,\"ticks\":\"\"}}}],\"carpet\":[{\"aaxis\":{\"endlinecolor\":\"#2a3f5f\",\"gridcolor\":\"white\",\"linecolor\":\"white\",\"minorgridcolor\":\"white\",\"startlinecolor\":\"#2a3f5f\"},\"baxis\":{\"endlinecolor\":\"#2a3f5f\",\"gridcolor\":\"white\",\"linecolor\":\"white\",\"minorgridcolor\":\"white\",\"startlinecolor\":\"#2a3f5f\"},\"type\":\"carpet\"}],\"table\":[{\"cells\":{\"fill\":{\"color\":\"#EBF0F8\"},\"line\":{\"color\":\"white\"}},\"header\":{\"fill\":{\"color\":\"#C8D4E3\"},\"line\":{\"color\":\"white\"}},\"type\":\"table\"}],\"barpolar\":[{\"marker\":{\"line\":{\"color\":\"#E5ECF6\",\"width\":0.5},\"pattern\":{\"fillmode\":\"overlay\",\"size\":10,\"solidity\":0.2}},\"type\":\"barpolar\"}],\"pie\":[{\"automargin\":true,\"type\":\"pie\"}]},\"layout\":{\"autotypenumbers\":\"strict\",\"colorway\":[\"#636efa\",\"#EF553B\",\"#00cc96\",\"#ab63fa\",\"#FFA15A\",\"#19d3f3\",\"#FF6692\",\"#B6E880\",\"#FF97FF\",\"#FECB52\"],\"font\":{\"color\":\"#2a3f5f\"},\"hovermode\":\"closest\",\"hoverlabel\":{\"align\":\"left\"},\"paper_bgcolor\":\"white\",\"plot_bgcolor\":\"#E5ECF6\",\"polar\":{\"bgcolor\":\"#E5ECF6\",\"angularaxis\":{\"gridcolor\":\"white\",\"linecolor\":\"white\",\"ticks\":\"\"},\"radialaxis\":{\"gridcolor\":\"white\",\"linecolor\":\"white\",\"ticks\":\"\"}},\"ternary\":{\"bgcolor\":\"#E5ECF6\",\"aaxis\":{\"gridcolor\":\"white\",\"linecolor\":\"white\",\"ticks\":\"\"},\"baxis\":{\"gridcolor\":\"white\",\"linecolor\":\"white\",\"ticks\":\"\"},\"caxis\":{\"gridcolor\":\"white\",\"linecolor\":\"white\",\"ticks\":\"\"}},\"coloraxis\":{\"colorbar\":{\"outlinewidth\":0,\"ticks\":\"\"}},\"colorscale\":{\"sequential\":[[0.0,\"#0d0887\"],[0.1111111111111111,\"#46039f\"],[0.2222222222222222,\"#7201a8\"],[0.3333333333333333,\"#9c179e\"],[0.4444444444444444,\"#bd3786\"],[0.5555555555555556,\"#d8576b\"],[0.6666666666666666,\"#ed7953\"],[0.7777777777777778,\"#fb9f3a\"],[0.8888888888888888,\"#fdca26\"],[1.0,\"#f0f921\"]],\"sequentialminus\":[[0.0,\"#0d0887\"],[0.1111111111111111,\"#46039f\"],[0.2222222222222222,\"#7201a8\"],[0.3333333333333333,\"#9c179e\"],[0.4444444444444444,\"#bd3786\"],[0.5555555555555556,\"#d8576b\"],[0.6666666666666666,\"#ed7953\"],[0.7777777777777778,\"#fb9f3a\"],[0.8888888888888888,\"#fdca26\"],[1.0,\"#f0f921\"]],\"diverging\":[[0,\"#8e0152\"],[0.1,\"#c51b7d\"],[0.2,\"#de77ae\"],[0.3,\"#f1b6da\"],[0.4,\"#fde0ef\"],[0.5,\"#f7f7f7\"],[0.6,\"#e6f5d0\"],[0.7,\"#b8e186\"],[0.8,\"#7fbc41\"],[0.9,\"#4d9221\"],[1,\"#276419\"]]},\"xaxis\":{\"gridcolor\":\"white\",\"linecolor\":\"white\",\"ticks\":\"\",\"title\":{\"standoff\":15},\"zerolinecolor\":\"white\",\"automargin\":true,\"zerolinewidth\":2},\"yaxis\":{\"gridcolor\":\"white\",\"linecolor\":\"white\",\"ticks\":\"\",\"title\":{\"standoff\":15},\"zerolinecolor\":\"white\",\"automargin\":true,\"zerolinewidth\":2},\"scene\":{\"xaxis\":{\"backgroundcolor\":\"#E5ECF6\",\"gridcolor\":\"white\",\"linecolor\":\"white\",\"showbackground\":true,\"ticks\":\"\",\"zerolinecolor\":\"white\",\"gridwidth\":2},\"yaxis\":{\"backgroundcolor\":\"#E5ECF6\",\"gridcolor\":\"white\",\"linecolor\":\"white\",\"showbackground\":true,\"ticks\":\"\",\"zerolinecolor\":\"white\",\"gridwidth\":2},\"zaxis\":{\"backgroundcolor\":\"#E5ECF6\",\"gridcolor\":\"white\",\"linecolor\":\"white\",\"showbackground\":true,\"ticks\":\"\",\"zerolinecolor\":\"white\",\"gridwidth\":2}},\"shapedefaults\":{\"line\":{\"color\":\"#2a3f5f\"}},\"annotationdefaults\":{\"arrowcolor\":\"#2a3f5f\",\"arrowhead\":0,\"arrowwidth\":1},\"geo\":{\"bgcolor\":\"white\",\"landcolor\":\"#E5ECF6\",\"subunitcolor\":\"white\",\"showland\":true,\"showlakes\":true,\"lakecolor\":\"white\"},\"title\":{\"x\":0.05},\"mapbox\":{\"style\":\"light\"}}},\"xaxis\":{\"anchor\":\"y\",\"domain\":[0.0,0.94],\"title\":{\"text\":\"Time\"}},\"yaxis\":{\"anchor\":\"x\",\"domain\":[0.0,1.0],\"title\":{\"text\":\"Production per capita - kWh\"}},\"yaxis2\":{\"anchor\":\"x\",\"overlaying\":\"y\",\"side\":\"right\",\"title\":{\"text\":\"Population\"}},\"margin\":{\"l\":60,\"r\":60,\"t\":60,\"b\":60},\"width\":800,\"height\":500},                        {\"responsive\": true}                    ).then(function(){\n",
       "                            \n",
       "var gd = document.getElementById('fa1aee7b-d94b-4fc7-8edd-82e3d786148a');\n",
       "var x = new MutationObserver(function (mutations, observer) {{\n",
       "        var display = window.getComputedStyle(gd).display;\n",
       "        if (!display || display === 'none') {{\n",
       "            console.log([gd, 'removed!']);\n",
       "            Plotly.purge(gd);\n",
       "            observer.disconnect();\n",
       "        }}\n",
       "}});\n",
       "\n",
       "// Listen for the removal of the full notebook cells\n",
       "var notebookContainer = gd.closest('#notebook-container');\n",
       "if (notebookContainer) {{\n",
       "    x.observe(notebookContainer, {childList: true});\n",
       "}}\n",
       "\n",
       "// Listen for the clearing of the current output cell\n",
       "var outputEl = gd.closest('.output');\n",
       "if (outputEl) {{\n",
       "    x.observe(outputEl, {childList: true});\n",
       "}}\n",
       "\n",
       "                        })                };                });            </script>        </div>"
      ]
     },
     "metadata": {},
     "output_type": "display_data"
    }
   ],
   "source": [
    "# Create a subplot to add a secondary Y axis\n",
    "subfig = make_subplots(specs=[[{\"secondary_y\": True}]])\n",
    "# Create the line plot\n",
    "# fig=px.line(df_swiss_data_clean, x=\"Year\",y=[\"Population\",\"Production per capita - kWh\"], title=\"Production per capita and population evolution in Switzerland\", labels={\"Population\":\"Population\",\"Year\":\"Year\"})\n",
    "fig = px.line(\n",
    "    df_swiss_data_clean,\n",
    "    x=\"Year\",\n",
    "    y=\"Production per capita - kWh\",\n",
    "    title=\"Production per capita and population evolution in Switzerland\",\n",
    "    labels={\"Population\": \"Population\", \"Year\": \"Year\"},\n",
    ")\n",
    "fig2 = px.line(\n",
    "    df_swiss_data_clean,\n",
    "    x=\"Year\",\n",
    "    y=\"Population\",\n",
    "    title=\"Production per capita and population evolution in Switzerland\",\n",
    "    labels={\"Population\": \"Population\", \"Year\": \"Year\"},\n",
    ")\n",
    "fig2.update_traces(yaxis=\"y2\")\n",
    "subfig.add_traces(fig.data + fig2.data)\n",
    "# To format figure\n",
    "subfig.update_layout(margin=dict(l=60, r=60, t=60, b=60), width=800, height=500)\n",
    "\n",
    "subfig.layout.xaxis.title = \"Time\"\n",
    "subfig.layout.yaxis.title = \"Production per capita - kWh\"\n",
    "subfig.layout.yaxis2.title = \"Population\"\n",
    "# Show plot\n",
    "subfig.for_each_trace(\n",
    "    lambda t: t.update(line=dict(color=t.marker.color))\n",
    ")  # Change color of each line on the plot\n",
    "subfig.show()"
   ]
  },
  {
   "cell_type": "markdown",
   "metadata": {},
   "source": [
    "#### Chat GPT solution"
   ]
  },
  {
   "cell_type": "code",
   "execution_count": 625,
   "metadata": {},
   "outputs": [
    {
     "data": {
      "application/vnd.plotly.v1+json": {
       "config": {
        "plotlyServerURL": "https://plot.ly"
       },
       "data": [
        {
         "hovertemplate": "Year=%{x}<br>Population=%{y}<extra></extra>",
         "legendgroup": "",
         "line": {
          "color": "#636efa",
          "dash": "solid"
         },
         "marker": {
          "symbol": "circle"
         },
         "mode": "lines",
         "name": "",
         "orientation": "v",
         "showlegend": false,
         "type": "scatter",
         "x": [
          1985,
          1986,
          1987,
          1988,
          1989,
          1990,
          1991,
          1992,
          1993,
          1994,
          1995,
          1996,
          1997,
          1998,
          1999,
          2000,
          2001,
          2002,
          2003,
          2004,
          2005,
          2006,
          2007,
          2008,
          2009,
          2010,
          2011,
          2012,
          2013,
          2014,
          2015,
          2016,
          2017,
          2018,
          2019,
          2020,
          2021,
          2022,
          2023
         ],
         "xaxis": "x",
         "y": [
          6470959,
          6504748,
          6545771,
          6594145,
          6647786,
          6713167,
          6796942,
          6875049,
          6938107,
          6993594,
          7040481,
          7071884,
          7089163,
          7110294,
          7144118,
          7184003,
          7226391,
          7278744,
          7333450,
          7384196,
          7431824,
          7478514,
          7545386,
          7641729,
          7737642,
          7825751,
          7914378,
          7998927,
          8091197,
          8190238,
          8283940,
          8374902,
          8453628,
          8516339,
          8577526,
          8640582,
          8707018,
          8792180,
          8870564
         ],
         "yaxis": "y"
        },
        {
         "mode": "lines",
         "name": "Production per capita - kWh",
         "type": "scatter",
         "x": [
          1985,
          1986,
          1987,
          1988,
          1989,
          1990,
          1991,
          1992,
          1993,
          1994,
          1995,
          1996,
          1997,
          1998,
          1999,
          2000,
          2001,
          2002,
          2003,
          2004,
          2005,
          2006,
          2007,
          2008,
          2009,
          2010,
          2011,
          2012,
          2013,
          2014,
          2015,
          2016,
          2017,
          2018,
          2019,
          2020,
          2021,
          2022,
          2023
         ],
         "y": [
          8706.30195617064,
          8825.936377550675,
          9125.564582079025,
          9180.228065958514,
          8214.880864095205,
          8344.113441539588,
          8542.348603239516,
          8657.090298556417,
          8872.105028071777,
          9456.402530658772,
          8928.746487633445,
          8106.517301471575,
          8872.991635260749,
          8900.88933031461,
          9604.729373171049,
          9203.782348086437,
          9832.017116151063,
          8986.440517759656,
          8909.858252255079,
          8649.553722571827,
          7777.363941880217,
          8307.800185972776,
          8804.05588262814,
          8772.883728276676,
          8616.320062365252,
          8440.08453629562,
          7945.033709534724,
          8517.392395255014,
          8489.473189195616,
          8556.527905538276,
          7975.673411444311,
          7295.607757559432,
          7115.288252570375,
          7783.8611168484495,
          8227.31402970973,
          7926.5493921590005,
          7247.027627598794,
          7082.430068538179,
          7991.60008315142
         ],
         "yaxis": "y2"
        }
       ],
       "layout": {
        "height": 500,
        "legend": {
         "tracegroupgap": 0,
         "x": 0.1,
         "y": 0.9
        },
        "margin": {
         "b": 60,
         "l": 60,
         "r": 60,
         "t": 60
        },
        "template": {
         "data": {
          "bar": [
           {
            "error_x": {
             "color": "#2a3f5f"
            },
            "error_y": {
             "color": "#2a3f5f"
            },
            "marker": {
             "line": {
              "color": "#E5ECF6",
              "width": 0.5
             },
             "pattern": {
              "fillmode": "overlay",
              "size": 10,
              "solidity": 0.2
             }
            },
            "type": "bar"
           }
          ],
          "barpolar": [
           {
            "marker": {
             "line": {
              "color": "#E5ECF6",
              "width": 0.5
             },
             "pattern": {
              "fillmode": "overlay",
              "size": 10,
              "solidity": 0.2
             }
            },
            "type": "barpolar"
           }
          ],
          "carpet": [
           {
            "aaxis": {
             "endlinecolor": "#2a3f5f",
             "gridcolor": "white",
             "linecolor": "white",
             "minorgridcolor": "white",
             "startlinecolor": "#2a3f5f"
            },
            "baxis": {
             "endlinecolor": "#2a3f5f",
             "gridcolor": "white",
             "linecolor": "white",
             "minorgridcolor": "white",
             "startlinecolor": "#2a3f5f"
            },
            "type": "carpet"
           }
          ],
          "choropleth": [
           {
            "colorbar": {
             "outlinewidth": 0,
             "ticks": ""
            },
            "type": "choropleth"
           }
          ],
          "contour": [
           {
            "colorbar": {
             "outlinewidth": 0,
             "ticks": ""
            },
            "colorscale": [
             [
              0,
              "#0d0887"
             ],
             [
              0.1111111111111111,
              "#46039f"
             ],
             [
              0.2222222222222222,
              "#7201a8"
             ],
             [
              0.3333333333333333,
              "#9c179e"
             ],
             [
              0.4444444444444444,
              "#bd3786"
             ],
             [
              0.5555555555555556,
              "#d8576b"
             ],
             [
              0.6666666666666666,
              "#ed7953"
             ],
             [
              0.7777777777777778,
              "#fb9f3a"
             ],
             [
              0.8888888888888888,
              "#fdca26"
             ],
             [
              1,
              "#f0f921"
             ]
            ],
            "type": "contour"
           }
          ],
          "contourcarpet": [
           {
            "colorbar": {
             "outlinewidth": 0,
             "ticks": ""
            },
            "type": "contourcarpet"
           }
          ],
          "heatmap": [
           {
            "colorbar": {
             "outlinewidth": 0,
             "ticks": ""
            },
            "colorscale": [
             [
              0,
              "#0d0887"
             ],
             [
              0.1111111111111111,
              "#46039f"
             ],
             [
              0.2222222222222222,
              "#7201a8"
             ],
             [
              0.3333333333333333,
              "#9c179e"
             ],
             [
              0.4444444444444444,
              "#bd3786"
             ],
             [
              0.5555555555555556,
              "#d8576b"
             ],
             [
              0.6666666666666666,
              "#ed7953"
             ],
             [
              0.7777777777777778,
              "#fb9f3a"
             ],
             [
              0.8888888888888888,
              "#fdca26"
             ],
             [
              1,
              "#f0f921"
             ]
            ],
            "type": "heatmap"
           }
          ],
          "heatmapgl": [
           {
            "colorbar": {
             "outlinewidth": 0,
             "ticks": ""
            },
            "colorscale": [
             [
              0,
              "#0d0887"
             ],
             [
              0.1111111111111111,
              "#46039f"
             ],
             [
              0.2222222222222222,
              "#7201a8"
             ],
             [
              0.3333333333333333,
              "#9c179e"
             ],
             [
              0.4444444444444444,
              "#bd3786"
             ],
             [
              0.5555555555555556,
              "#d8576b"
             ],
             [
              0.6666666666666666,
              "#ed7953"
             ],
             [
              0.7777777777777778,
              "#fb9f3a"
             ],
             [
              0.8888888888888888,
              "#fdca26"
             ],
             [
              1,
              "#f0f921"
             ]
            ],
            "type": "heatmapgl"
           }
          ],
          "histogram": [
           {
            "marker": {
             "pattern": {
              "fillmode": "overlay",
              "size": 10,
              "solidity": 0.2
             }
            },
            "type": "histogram"
           }
          ],
          "histogram2d": [
           {
            "colorbar": {
             "outlinewidth": 0,
             "ticks": ""
            },
            "colorscale": [
             [
              0,
              "#0d0887"
             ],
             [
              0.1111111111111111,
              "#46039f"
             ],
             [
              0.2222222222222222,
              "#7201a8"
             ],
             [
              0.3333333333333333,
              "#9c179e"
             ],
             [
              0.4444444444444444,
              "#bd3786"
             ],
             [
              0.5555555555555556,
              "#d8576b"
             ],
             [
              0.6666666666666666,
              "#ed7953"
             ],
             [
              0.7777777777777778,
              "#fb9f3a"
             ],
             [
              0.8888888888888888,
              "#fdca26"
             ],
             [
              1,
              "#f0f921"
             ]
            ],
            "type": "histogram2d"
           }
          ],
          "histogram2dcontour": [
           {
            "colorbar": {
             "outlinewidth": 0,
             "ticks": ""
            },
            "colorscale": [
             [
              0,
              "#0d0887"
             ],
             [
              0.1111111111111111,
              "#46039f"
             ],
             [
              0.2222222222222222,
              "#7201a8"
             ],
             [
              0.3333333333333333,
              "#9c179e"
             ],
             [
              0.4444444444444444,
              "#bd3786"
             ],
             [
              0.5555555555555556,
              "#d8576b"
             ],
             [
              0.6666666666666666,
              "#ed7953"
             ],
             [
              0.7777777777777778,
              "#fb9f3a"
             ],
             [
              0.8888888888888888,
              "#fdca26"
             ],
             [
              1,
              "#f0f921"
             ]
            ],
            "type": "histogram2dcontour"
           }
          ],
          "mesh3d": [
           {
            "colorbar": {
             "outlinewidth": 0,
             "ticks": ""
            },
            "type": "mesh3d"
           }
          ],
          "parcoords": [
           {
            "line": {
             "colorbar": {
              "outlinewidth": 0,
              "ticks": ""
             }
            },
            "type": "parcoords"
           }
          ],
          "pie": [
           {
            "automargin": true,
            "type": "pie"
           }
          ],
          "scatter": [
           {
            "fillpattern": {
             "fillmode": "overlay",
             "size": 10,
             "solidity": 0.2
            },
            "type": "scatter"
           }
          ],
          "scatter3d": [
           {
            "line": {
             "colorbar": {
              "outlinewidth": 0,
              "ticks": ""
             }
            },
            "marker": {
             "colorbar": {
              "outlinewidth": 0,
              "ticks": ""
             }
            },
            "type": "scatter3d"
           }
          ],
          "scattercarpet": [
           {
            "marker": {
             "colorbar": {
              "outlinewidth": 0,
              "ticks": ""
             }
            },
            "type": "scattercarpet"
           }
          ],
          "scattergeo": [
           {
            "marker": {
             "colorbar": {
              "outlinewidth": 0,
              "ticks": ""
             }
            },
            "type": "scattergeo"
           }
          ],
          "scattergl": [
           {
            "marker": {
             "colorbar": {
              "outlinewidth": 0,
              "ticks": ""
             }
            },
            "type": "scattergl"
           }
          ],
          "scattermapbox": [
           {
            "marker": {
             "colorbar": {
              "outlinewidth": 0,
              "ticks": ""
             }
            },
            "type": "scattermapbox"
           }
          ],
          "scatterpolar": [
           {
            "marker": {
             "colorbar": {
              "outlinewidth": 0,
              "ticks": ""
             }
            },
            "type": "scatterpolar"
           }
          ],
          "scatterpolargl": [
           {
            "marker": {
             "colorbar": {
              "outlinewidth": 0,
              "ticks": ""
             }
            },
            "type": "scatterpolargl"
           }
          ],
          "scatterternary": [
           {
            "marker": {
             "colorbar": {
              "outlinewidth": 0,
              "ticks": ""
             }
            },
            "type": "scatterternary"
           }
          ],
          "surface": [
           {
            "colorbar": {
             "outlinewidth": 0,
             "ticks": ""
            },
            "colorscale": [
             [
              0,
              "#0d0887"
             ],
             [
              0.1111111111111111,
              "#46039f"
             ],
             [
              0.2222222222222222,
              "#7201a8"
             ],
             [
              0.3333333333333333,
              "#9c179e"
             ],
             [
              0.4444444444444444,
              "#bd3786"
             ],
             [
              0.5555555555555556,
              "#d8576b"
             ],
             [
              0.6666666666666666,
              "#ed7953"
             ],
             [
              0.7777777777777778,
              "#fb9f3a"
             ],
             [
              0.8888888888888888,
              "#fdca26"
             ],
             [
              1,
              "#f0f921"
             ]
            ],
            "type": "surface"
           }
          ],
          "table": [
           {
            "cells": {
             "fill": {
              "color": "#EBF0F8"
             },
             "line": {
              "color": "white"
             }
            },
            "header": {
             "fill": {
              "color": "#C8D4E3"
             },
             "line": {
              "color": "white"
             }
            },
            "type": "table"
           }
          ]
         },
         "layout": {
          "annotationdefaults": {
           "arrowcolor": "#2a3f5f",
           "arrowhead": 0,
           "arrowwidth": 1
          },
          "autotypenumbers": "strict",
          "coloraxis": {
           "colorbar": {
            "outlinewidth": 0,
            "ticks": ""
           }
          },
          "colorscale": {
           "diverging": [
            [
             0,
             "#8e0152"
            ],
            [
             0.1,
             "#c51b7d"
            ],
            [
             0.2,
             "#de77ae"
            ],
            [
             0.3,
             "#f1b6da"
            ],
            [
             0.4,
             "#fde0ef"
            ],
            [
             0.5,
             "#f7f7f7"
            ],
            [
             0.6,
             "#e6f5d0"
            ],
            [
             0.7,
             "#b8e186"
            ],
            [
             0.8,
             "#7fbc41"
            ],
            [
             0.9,
             "#4d9221"
            ],
            [
             1,
             "#276419"
            ]
           ],
           "sequential": [
            [
             0,
             "#0d0887"
            ],
            [
             0.1111111111111111,
             "#46039f"
            ],
            [
             0.2222222222222222,
             "#7201a8"
            ],
            [
             0.3333333333333333,
             "#9c179e"
            ],
            [
             0.4444444444444444,
             "#bd3786"
            ],
            [
             0.5555555555555556,
             "#d8576b"
            ],
            [
             0.6666666666666666,
             "#ed7953"
            ],
            [
             0.7777777777777778,
             "#fb9f3a"
            ],
            [
             0.8888888888888888,
             "#fdca26"
            ],
            [
             1,
             "#f0f921"
            ]
           ],
           "sequentialminus": [
            [
             0,
             "#0d0887"
            ],
            [
             0.1111111111111111,
             "#46039f"
            ],
            [
             0.2222222222222222,
             "#7201a8"
            ],
            [
             0.3333333333333333,
             "#9c179e"
            ],
            [
             0.4444444444444444,
             "#bd3786"
            ],
            [
             0.5555555555555556,
             "#d8576b"
            ],
            [
             0.6666666666666666,
             "#ed7953"
            ],
            [
             0.7777777777777778,
             "#fb9f3a"
            ],
            [
             0.8888888888888888,
             "#fdca26"
            ],
            [
             1,
             "#f0f921"
            ]
           ]
          },
          "colorway": [
           "#636efa",
           "#EF553B",
           "#00cc96",
           "#ab63fa",
           "#FFA15A",
           "#19d3f3",
           "#FF6692",
           "#B6E880",
           "#FF97FF",
           "#FECB52"
          ],
          "font": {
           "color": "#2a3f5f"
          },
          "geo": {
           "bgcolor": "white",
           "lakecolor": "white",
           "landcolor": "#E5ECF6",
           "showlakes": true,
           "showland": true,
           "subunitcolor": "white"
          },
          "hoverlabel": {
           "align": "left"
          },
          "hovermode": "closest",
          "mapbox": {
           "style": "light"
          },
          "paper_bgcolor": "white",
          "plot_bgcolor": "#E5ECF6",
          "polar": {
           "angularaxis": {
            "gridcolor": "white",
            "linecolor": "white",
            "ticks": ""
           },
           "bgcolor": "#E5ECF6",
           "radialaxis": {
            "gridcolor": "white",
            "linecolor": "white",
            "ticks": ""
           }
          },
          "scene": {
           "xaxis": {
            "backgroundcolor": "#E5ECF6",
            "gridcolor": "white",
            "gridwidth": 2,
            "linecolor": "white",
            "showbackground": true,
            "ticks": "",
            "zerolinecolor": "white"
           },
           "yaxis": {
            "backgroundcolor": "#E5ECF6",
            "gridcolor": "white",
            "gridwidth": 2,
            "linecolor": "white",
            "showbackground": true,
            "ticks": "",
            "zerolinecolor": "white"
           },
           "zaxis": {
            "backgroundcolor": "#E5ECF6",
            "gridcolor": "white",
            "gridwidth": 2,
            "linecolor": "white",
            "showbackground": true,
            "ticks": "",
            "zerolinecolor": "white"
           }
          },
          "shapedefaults": {
           "line": {
            "color": "#2a3f5f"
           }
          },
          "ternary": {
           "aaxis": {
            "gridcolor": "white",
            "linecolor": "white",
            "ticks": ""
           },
           "baxis": {
            "gridcolor": "white",
            "linecolor": "white",
            "ticks": ""
           },
           "bgcolor": "#E5ECF6",
           "caxis": {
            "gridcolor": "white",
            "linecolor": "white",
            "ticks": ""
           }
          },
          "title": {
           "x": 0.05
          },
          "xaxis": {
           "automargin": true,
           "gridcolor": "white",
           "linecolor": "white",
           "ticks": "",
           "title": {
            "standoff": 15
           },
           "zerolinecolor": "white",
           "zerolinewidth": 2
          },
          "yaxis": {
           "automargin": true,
           "gridcolor": "white",
           "linecolor": "white",
           "ticks": "",
           "title": {
            "standoff": 15
           },
           "zerolinecolor": "white",
           "zerolinewidth": 2
          }
         }
        },
        "title": {
         "text": "Population and Production per Capita Over Time"
        },
        "width": 800,
        "xaxis": {
         "anchor": "y",
         "domain": [
          0,
          1
         ],
         "title": {
          "text": "Year"
         }
        },
        "yaxis": {
         "anchor": "x",
         "domain": [
          0,
          1
         ],
         "title": {
          "text": "Population"
         }
        },
        "yaxis2": {
         "overlaying": "y",
         "side": "right",
         "title": {
          "text": "Production per capita - kWh"
         }
        }
       }
      },
      "text/html": [
       "<div>                            <div id=\"34639d66-111e-4b0a-9d1a-bbcdf7dd4e6e\" class=\"plotly-graph-div\" style=\"height:500px; width:800px;\"></div>            <script type=\"text/javascript\">                require([\"plotly\"], function(Plotly) {                    window.PLOTLYENV=window.PLOTLYENV || {};                                    if (document.getElementById(\"34639d66-111e-4b0a-9d1a-bbcdf7dd4e6e\")) {                    Plotly.newPlot(                        \"34639d66-111e-4b0a-9d1a-bbcdf7dd4e6e\",                        [{\"hovertemplate\":\"Year=%{x}\\u003cbr\\u003ePopulation=%{y}\\u003cextra\\u003e\\u003c\\u002fextra\\u003e\",\"legendgroup\":\"\",\"line\":{\"color\":\"#636efa\",\"dash\":\"solid\"},\"marker\":{\"symbol\":\"circle\"},\"mode\":\"lines\",\"name\":\"\",\"orientation\":\"v\",\"showlegend\":false,\"x\":[1985,1986,1987,1988,1989,1990,1991,1992,1993,1994,1995,1996,1997,1998,1999,2000,2001,2002,2003,2004,2005,2006,2007,2008,2009,2010,2011,2012,2013,2014,2015,2016,2017,2018,2019,2020,2021,2022,2023],\"xaxis\":\"x\",\"y\":[6470959,6504748,6545771,6594145,6647786,6713167,6796942,6875049,6938107,6993594,7040481,7071884,7089163,7110294,7144118,7184003,7226391,7278744,7333450,7384196,7431824,7478514,7545386,7641729,7737642,7825751,7914378,7998927,8091197,8190238,8283940,8374902,8453628,8516339,8577526,8640582,8707018,8792180,8870564],\"yaxis\":\"y\",\"type\":\"scatter\"},{\"mode\":\"lines\",\"name\":\"Production per capita - kWh\",\"x\":[1985,1986,1987,1988,1989,1990,1991,1992,1993,1994,1995,1996,1997,1998,1999,2000,2001,2002,2003,2004,2005,2006,2007,2008,2009,2010,2011,2012,2013,2014,2015,2016,2017,2018,2019,2020,2021,2022,2023],\"y\":[8706.30195617064,8825.936377550675,9125.564582079025,9180.228065958514,8214.880864095205,8344.113441539588,8542.348603239516,8657.090298556417,8872.105028071777,9456.402530658772,8928.746487633445,8106.517301471575,8872.991635260749,8900.88933031461,9604.729373171049,9203.782348086437,9832.017116151063,8986.440517759656,8909.858252255079,8649.553722571827,7777.363941880217,8307.800185972776,8804.05588262814,8772.883728276676,8616.320062365252,8440.08453629562,7945.033709534724,8517.392395255014,8489.473189195616,8556.527905538276,7975.673411444311,7295.607757559432,7115.288252570375,7783.8611168484495,8227.31402970973,7926.5493921590005,7247.027627598794,7082.430068538179,7991.60008315142],\"yaxis\":\"y2\",\"type\":\"scatter\"}],                        {\"template\":{\"data\":{\"histogram2dcontour\":[{\"type\":\"histogram2dcontour\",\"colorbar\":{\"outlinewidth\":0,\"ticks\":\"\"},\"colorscale\":[[0.0,\"#0d0887\"],[0.1111111111111111,\"#46039f\"],[0.2222222222222222,\"#7201a8\"],[0.3333333333333333,\"#9c179e\"],[0.4444444444444444,\"#bd3786\"],[0.5555555555555556,\"#d8576b\"],[0.6666666666666666,\"#ed7953\"],[0.7777777777777778,\"#fb9f3a\"],[0.8888888888888888,\"#fdca26\"],[1.0,\"#f0f921\"]]}],\"choropleth\":[{\"type\":\"choropleth\",\"colorbar\":{\"outlinewidth\":0,\"ticks\":\"\"}}],\"histogram2d\":[{\"type\":\"histogram2d\",\"colorbar\":{\"outlinewidth\":0,\"ticks\":\"\"},\"colorscale\":[[0.0,\"#0d0887\"],[0.1111111111111111,\"#46039f\"],[0.2222222222222222,\"#7201a8\"],[0.3333333333333333,\"#9c179e\"],[0.4444444444444444,\"#bd3786\"],[0.5555555555555556,\"#d8576b\"],[0.6666666666666666,\"#ed7953\"],[0.7777777777777778,\"#fb9f3a\"],[0.8888888888888888,\"#fdca26\"],[1.0,\"#f0f921\"]]}],\"heatmap\":[{\"type\":\"heatmap\",\"colorbar\":{\"outlinewidth\":0,\"ticks\":\"\"},\"colorscale\":[[0.0,\"#0d0887\"],[0.1111111111111111,\"#46039f\"],[0.2222222222222222,\"#7201a8\"],[0.3333333333333333,\"#9c179e\"],[0.4444444444444444,\"#bd3786\"],[0.5555555555555556,\"#d8576b\"],[0.6666666666666666,\"#ed7953\"],[0.7777777777777778,\"#fb9f3a\"],[0.8888888888888888,\"#fdca26\"],[1.0,\"#f0f921\"]]}],\"heatmapgl\":[{\"type\":\"heatmapgl\",\"colorbar\":{\"outlinewidth\":0,\"ticks\":\"\"},\"colorscale\":[[0.0,\"#0d0887\"],[0.1111111111111111,\"#46039f\"],[0.2222222222222222,\"#7201a8\"],[0.3333333333333333,\"#9c179e\"],[0.4444444444444444,\"#bd3786\"],[0.5555555555555556,\"#d8576b\"],[0.6666666666666666,\"#ed7953\"],[0.7777777777777778,\"#fb9f3a\"],[0.8888888888888888,\"#fdca26\"],[1.0,\"#f0f921\"]]}],\"contourcarpet\":[{\"type\":\"contourcarpet\",\"colorbar\":{\"outlinewidth\":0,\"ticks\":\"\"}}],\"contour\":[{\"type\":\"contour\",\"colorbar\":{\"outlinewidth\":0,\"ticks\":\"\"},\"colorscale\":[[0.0,\"#0d0887\"],[0.1111111111111111,\"#46039f\"],[0.2222222222222222,\"#7201a8\"],[0.3333333333333333,\"#9c179e\"],[0.4444444444444444,\"#bd3786\"],[0.5555555555555556,\"#d8576b\"],[0.6666666666666666,\"#ed7953\"],[0.7777777777777778,\"#fb9f3a\"],[0.8888888888888888,\"#fdca26\"],[1.0,\"#f0f921\"]]}],\"surface\":[{\"type\":\"surface\",\"colorbar\":{\"outlinewidth\":0,\"ticks\":\"\"},\"colorscale\":[[0.0,\"#0d0887\"],[0.1111111111111111,\"#46039f\"],[0.2222222222222222,\"#7201a8\"],[0.3333333333333333,\"#9c179e\"],[0.4444444444444444,\"#bd3786\"],[0.5555555555555556,\"#d8576b\"],[0.6666666666666666,\"#ed7953\"],[0.7777777777777778,\"#fb9f3a\"],[0.8888888888888888,\"#fdca26\"],[1.0,\"#f0f921\"]]}],\"mesh3d\":[{\"type\":\"mesh3d\",\"colorbar\":{\"outlinewidth\":0,\"ticks\":\"\"}}],\"scatter\":[{\"fillpattern\":{\"fillmode\":\"overlay\",\"size\":10,\"solidity\":0.2},\"type\":\"scatter\"}],\"parcoords\":[{\"type\":\"parcoords\",\"line\":{\"colorbar\":{\"outlinewidth\":0,\"ticks\":\"\"}}}],\"scatterpolargl\":[{\"type\":\"scatterpolargl\",\"marker\":{\"colorbar\":{\"outlinewidth\":0,\"ticks\":\"\"}}}],\"bar\":[{\"error_x\":{\"color\":\"#2a3f5f\"},\"error_y\":{\"color\":\"#2a3f5f\"},\"marker\":{\"line\":{\"color\":\"#E5ECF6\",\"width\":0.5},\"pattern\":{\"fillmode\":\"overlay\",\"size\":10,\"solidity\":0.2}},\"type\":\"bar\"}],\"scattergeo\":[{\"type\":\"scattergeo\",\"marker\":{\"colorbar\":{\"outlinewidth\":0,\"ticks\":\"\"}}}],\"scatterpolar\":[{\"type\":\"scatterpolar\",\"marker\":{\"colorbar\":{\"outlinewidth\":0,\"ticks\":\"\"}}}],\"histogram\":[{\"marker\":{\"pattern\":{\"fillmode\":\"overlay\",\"size\":10,\"solidity\":0.2}},\"type\":\"histogram\"}],\"scattergl\":[{\"type\":\"scattergl\",\"marker\":{\"colorbar\":{\"outlinewidth\":0,\"ticks\":\"\"}}}],\"scatter3d\":[{\"type\":\"scatter3d\",\"line\":{\"colorbar\":{\"outlinewidth\":0,\"ticks\":\"\"}},\"marker\":{\"colorbar\":{\"outlinewidth\":0,\"ticks\":\"\"}}}],\"scattermapbox\":[{\"type\":\"scattermapbox\",\"marker\":{\"colorbar\":{\"outlinewidth\":0,\"ticks\":\"\"}}}],\"scatterternary\":[{\"type\":\"scatterternary\",\"marker\":{\"colorbar\":{\"outlinewidth\":0,\"ticks\":\"\"}}}],\"scattercarpet\":[{\"type\":\"scattercarpet\",\"marker\":{\"colorbar\":{\"outlinewidth\":0,\"ticks\":\"\"}}}],\"carpet\":[{\"aaxis\":{\"endlinecolor\":\"#2a3f5f\",\"gridcolor\":\"white\",\"linecolor\":\"white\",\"minorgridcolor\":\"white\",\"startlinecolor\":\"#2a3f5f\"},\"baxis\":{\"endlinecolor\":\"#2a3f5f\",\"gridcolor\":\"white\",\"linecolor\":\"white\",\"minorgridcolor\":\"white\",\"startlinecolor\":\"#2a3f5f\"},\"type\":\"carpet\"}],\"table\":[{\"cells\":{\"fill\":{\"color\":\"#EBF0F8\"},\"line\":{\"color\":\"white\"}},\"header\":{\"fill\":{\"color\":\"#C8D4E3\"},\"line\":{\"color\":\"white\"}},\"type\":\"table\"}],\"barpolar\":[{\"marker\":{\"line\":{\"color\":\"#E5ECF6\",\"width\":0.5},\"pattern\":{\"fillmode\":\"overlay\",\"size\":10,\"solidity\":0.2}},\"type\":\"barpolar\"}],\"pie\":[{\"automargin\":true,\"type\":\"pie\"}]},\"layout\":{\"autotypenumbers\":\"strict\",\"colorway\":[\"#636efa\",\"#EF553B\",\"#00cc96\",\"#ab63fa\",\"#FFA15A\",\"#19d3f3\",\"#FF6692\",\"#B6E880\",\"#FF97FF\",\"#FECB52\"],\"font\":{\"color\":\"#2a3f5f\"},\"hovermode\":\"closest\",\"hoverlabel\":{\"align\":\"left\"},\"paper_bgcolor\":\"white\",\"plot_bgcolor\":\"#E5ECF6\",\"polar\":{\"bgcolor\":\"#E5ECF6\",\"angularaxis\":{\"gridcolor\":\"white\",\"linecolor\":\"white\",\"ticks\":\"\"},\"radialaxis\":{\"gridcolor\":\"white\",\"linecolor\":\"white\",\"ticks\":\"\"}},\"ternary\":{\"bgcolor\":\"#E5ECF6\",\"aaxis\":{\"gridcolor\":\"white\",\"linecolor\":\"white\",\"ticks\":\"\"},\"baxis\":{\"gridcolor\":\"white\",\"linecolor\":\"white\",\"ticks\":\"\"},\"caxis\":{\"gridcolor\":\"white\",\"linecolor\":\"white\",\"ticks\":\"\"}},\"coloraxis\":{\"colorbar\":{\"outlinewidth\":0,\"ticks\":\"\"}},\"colorscale\":{\"sequential\":[[0.0,\"#0d0887\"],[0.1111111111111111,\"#46039f\"],[0.2222222222222222,\"#7201a8\"],[0.3333333333333333,\"#9c179e\"],[0.4444444444444444,\"#bd3786\"],[0.5555555555555556,\"#d8576b\"],[0.6666666666666666,\"#ed7953\"],[0.7777777777777778,\"#fb9f3a\"],[0.8888888888888888,\"#fdca26\"],[1.0,\"#f0f921\"]],\"sequentialminus\":[[0.0,\"#0d0887\"],[0.1111111111111111,\"#46039f\"],[0.2222222222222222,\"#7201a8\"],[0.3333333333333333,\"#9c179e\"],[0.4444444444444444,\"#bd3786\"],[0.5555555555555556,\"#d8576b\"],[0.6666666666666666,\"#ed7953\"],[0.7777777777777778,\"#fb9f3a\"],[0.8888888888888888,\"#fdca26\"],[1.0,\"#f0f921\"]],\"diverging\":[[0,\"#8e0152\"],[0.1,\"#c51b7d\"],[0.2,\"#de77ae\"],[0.3,\"#f1b6da\"],[0.4,\"#fde0ef\"],[0.5,\"#f7f7f7\"],[0.6,\"#e6f5d0\"],[0.7,\"#b8e186\"],[0.8,\"#7fbc41\"],[0.9,\"#4d9221\"],[1,\"#276419\"]]},\"xaxis\":{\"gridcolor\":\"white\",\"linecolor\":\"white\",\"ticks\":\"\",\"title\":{\"standoff\":15},\"zerolinecolor\":\"white\",\"automargin\":true,\"zerolinewidth\":2},\"yaxis\":{\"gridcolor\":\"white\",\"linecolor\":\"white\",\"ticks\":\"\",\"title\":{\"standoff\":15},\"zerolinecolor\":\"white\",\"automargin\":true,\"zerolinewidth\":2},\"scene\":{\"xaxis\":{\"backgroundcolor\":\"#E5ECF6\",\"gridcolor\":\"white\",\"linecolor\":\"white\",\"showbackground\":true,\"ticks\":\"\",\"zerolinecolor\":\"white\",\"gridwidth\":2},\"yaxis\":{\"backgroundcolor\":\"#E5ECF6\",\"gridcolor\":\"white\",\"linecolor\":\"white\",\"showbackground\":true,\"ticks\":\"\",\"zerolinecolor\":\"white\",\"gridwidth\":2},\"zaxis\":{\"backgroundcolor\":\"#E5ECF6\",\"gridcolor\":\"white\",\"linecolor\":\"white\",\"showbackground\":true,\"ticks\":\"\",\"zerolinecolor\":\"white\",\"gridwidth\":2}},\"shapedefaults\":{\"line\":{\"color\":\"#2a3f5f\"}},\"annotationdefaults\":{\"arrowcolor\":\"#2a3f5f\",\"arrowhead\":0,\"arrowwidth\":1},\"geo\":{\"bgcolor\":\"white\",\"landcolor\":\"#E5ECF6\",\"subunitcolor\":\"white\",\"showland\":true,\"showlakes\":true,\"lakecolor\":\"white\"},\"title\":{\"x\":0.05},\"mapbox\":{\"style\":\"light\"}}},\"xaxis\":{\"anchor\":\"y\",\"domain\":[0.0,1.0],\"title\":{\"text\":\"Year\"}},\"yaxis\":{\"anchor\":\"x\",\"domain\":[0.0,1.0],\"title\":{\"text\":\"Population\"}},\"legend\":{\"tracegroupgap\":0,\"x\":0.1,\"y\":0.9},\"title\":{\"text\":\"Population and Production per Capita Over Time\"},\"yaxis2\":{\"title\":{\"text\":\"Production per capita - kWh\"},\"overlaying\":\"y\",\"side\":\"right\"},\"margin\":{\"l\":60,\"r\":60,\"t\":60,\"b\":60},\"width\":800,\"height\":500},                        {\"responsive\": true}                    ).then(function(){\n",
       "                            \n",
       "var gd = document.getElementById('34639d66-111e-4b0a-9d1a-bbcdf7dd4e6e');\n",
       "var x = new MutationObserver(function (mutations, observer) {{\n",
       "        var display = window.getComputedStyle(gd).display;\n",
       "        if (!display || display === 'none') {{\n",
       "            console.log([gd, 'removed!']);\n",
       "            Plotly.purge(gd);\n",
       "            observer.disconnect();\n",
       "        }}\n",
       "}});\n",
       "\n",
       "// Listen for the removal of the full notebook cells\n",
       "var notebookContainer = gd.closest('#notebook-container');\n",
       "if (notebookContainer) {{\n",
       "    x.observe(notebookContainer, {childList: true});\n",
       "}}\n",
       "\n",
       "// Listen for the clearing of the current output cell\n",
       "var outputEl = gd.closest('.output');\n",
       "if (outputEl) {{\n",
       "    x.observe(outputEl, {childList: true});\n",
       "}}\n",
       "\n",
       "                        })                };                });            </script>        </div>"
      ]
     },
     "metadata": {},
     "output_type": "display_data"
    }
   ],
   "source": [
    "import plotly.express as px\n",
    "import plotly.graph_objects as go\n",
    "\n",
    "# Assuming your dataframe is named df_swiss_data_inner_join\n",
    "fig = px.line(\n",
    "    df_swiss_data_inner_join,\n",
    "    x=\"Year\",\n",
    "    y=\"Population\",\n",
    "    title=\"Population and Production per Capita Over Time\",\n",
    ")\n",
    "\n",
    "# Add the secondary y-axis\n",
    "fig.add_trace(\n",
    "    go.Scatter(\n",
    "        x=df_swiss_data_inner_join[\"Year\"],\n",
    "        y=df_swiss_data_inner_join[\"Production per capita - kWh\"],\n",
    "        mode=\"lines\",\n",
    "        name=\"Production per capita - kWh\",\n",
    "        yaxis=\"y2\",\n",
    "    )\n",
    ")\n",
    "\n",
    "# Update layout to add a second y-axis\n",
    "fig.update_layout(\n",
    "    yaxis2=dict(title=\"Production per capita - kWh\", overlaying=\"y\", side=\"right\"),\n",
    "    yaxis=dict(title=\"Population\"),\n",
    "    xaxis=dict(title=\"Year\"),\n",
    "    legend=dict(x=0.1, y=0.9),\n",
    "    margin=dict(l=60, r=60, t=60, b=60),\n",
    "    width=800,\n",
    "    height=500,\n",
    ")\n",
    "\n",
    "# Display the plot\n",
    "fig.show()"
   ]
  },
  {
   "cell_type": "markdown",
   "metadata": {},
   "source": [
    "### Dictionnary of dataframe\n",
    "Pandapower make dictionnary of dataframe, here an exemple of that:"
   ]
  },
  {
   "cell_type": "code",
   "execution_count": 626,
   "metadata": {},
   "outputs": [
    {
     "name": "stdout",
     "output_type": "stream",
     "text": [
      "key:  0\n",
      "      Name  Age\n",
      "0  Shahroz   22\n",
      "1    Samad   35\n",
      "2    Usama   58 \n",
      "\n",
      "key:  1\n",
      "       Class  Students\n",
      "0  Chemistry        30\n",
      "1    Physics        35\n",
      "2    Biology        40 \n",
      "\n",
      "Accessing the dataframe against key 0 \n",
      "      Name  Age\n",
      "0  Shahroz   22\n",
      "1    Samad   35\n",
      "2    Usama   58\n",
      "\n",
      "Accessing the first column of dataframe against key 1\n",
      "0    Chemistry\n",
      "1      Physics\n",
      "2      Biology\n",
      "Name: Class, dtype: object\n"
     ]
    }
   ],
   "source": [
    "df1 = pd.DataFrame({\"Name\": [\"Shahroz\", \"Samad\", \"Usama\"], \"Age\": [22, 35, 58]})\n",
    "\n",
    "df2 = pd.DataFrame(\n",
    "    {\"Class\": [\"Chemistry\", \"Physics\", \"Biology\"], \"Students\": [30, 35, 40]}\n",
    ")\n",
    "\n",
    "# list of data frames\n",
    "dataframes = [df1, df2]\n",
    "\n",
    "# dictionary to save data frames\n",
    "frames = {}\n",
    "\n",
    "for key, value in enumerate(dataframes):\n",
    "    frames[key] = value  # assigning data frame from list to key in dictionary\n",
    "    print(\"key: \", key)\n",
    "    print(frames[key], \"\\n\")\n",
    "\n",
    "# access to one data frame by key\n",
    "print(\"Accessing the dataframe against key 0 \\n\", end=\"\")\n",
    "print(frames[0])\n",
    "\n",
    "# access to only column of specific data frame through dictionary\n",
    "print(\"\\nAccessing the first column of dataframe against key 1\\n\", end=\"\")\n",
    "print(frames[1][\"Class\"])"
   ]
  },
  {
   "cell_type": "markdown",
   "metadata": {},
   "source": [
    "# Pandapower"
   ]
  },
  {
   "cell_type": "code",
   "execution_count": 627,
   "metadata": {},
   "outputs": [],
   "source": [
    "import pandapower as pp"
   ]
  },
  {
   "cell_type": "markdown",
   "metadata": {},
   "source": [
    "Tuto on _Exercice Power flow 1 : Problème 1_\n",
    "\n",
    "We use the librarie pandapower : [doc_pandapower](https://pandapower.readthedocs.io/en/v2.9.0/about.html)\n",
    "\n",
    "![Problem base](plot/Ex_PF1_Pb1_Info_p.png)"
   ]
  },
  {
   "cell_type": "markdown",
   "metadata": {},
   "source": [
    "Initialize the network by creating an empty network."
   ]
  },
  {
   "cell_type": "code",
   "execution_count": 628,
   "metadata": {},
   "outputs": [],
   "source": [
    "net_ExPF1_Pb1 = pp.create_empty_network(\n",
    "    name=\"ExPF1_Pb1\", f_hz=50.0, sn_mva=100, add_stdtypes=True\n",
    ")"
   ]
  },
  {
   "cell_type": "markdown",
   "metadata": {},
   "source": [
    "Create all the bus"
   ]
  },
  {
   "cell_type": "code",
   "execution_count": 629,
   "metadata": {},
   "outputs": [],
   "source": [
    "# create buses\n",
    "b1 = pp.create_bus(net_ExPF1_Pb1, vn_kv=400, name=\"Bus 1\")\n",
    "b2 = pp.create_bus(net_ExPF1_Pb1, vn_kv=400, name=\"Bus 2\")\n",
    "b3 = pp.create_bus(net_ExPF1_Pb1, vn_kv=400, name=\"Bus 3\")\n",
    "b4 = pp.create_bus(net_ExPF1_Pb1, vn_kv=400, name=\"Bus 4\")\n",
    "b5 = pp.create_bus(net_ExPF1_Pb1, vn_kv=20, name=\"Bus 5\")"
   ]
  },
  {
   "cell_type": "markdown",
   "metadata": {},
   "source": [
    "Create all the loads"
   ]
  },
  {
   "cell_type": "code",
   "execution_count": 630,
   "metadata": {},
   "outputs": [],
   "source": [
    "# create load\n",
    "load_2 = pp.create_load(net_ExPF1_Pb1, bus=b2, p_mw=100, q_mvar=20, name=\"Load 2\")\n",
    "load_3 = pp.create_load(net_ExPF1_Pb1, bus=b3, p_mw=200, q_mvar=80, name=\"Load 3\")"
   ]
  },
  {
   "cell_type": "markdown",
   "metadata": {},
   "source": [
    "Create all the generator and the slack bus"
   ]
  },
  {
   "cell_type": "code",
   "execution_count": 631,
   "metadata": {},
   "outputs": [
    {
     "data": {
      "text/plain": [
       "1"
      ]
     },
     "execution_count": 631,
     "metadata": {},
     "output_type": "execute_result"
    }
   ],
   "source": [
    "# create generator (external grid as generator to slack bus)\n",
    "gen_1 = pp.create_ext_grid(\n",
    "    net_ExPF1_Pb1, bus=b1, vm_pu=1.0, min_q_mvar=-100, max_q_mvar=100, name=\"Gen 1\"\n",
    ")\n",
    "# pp.create_gen(net,bus=b1,p_mw=0,vm_pu=1,min_q_mvar=-100,max_q_mvar=100,name=\"Gen 1\",slack=True)  # Generator on slack bus ??\n",
    "# Don't need to save output value in a variable because same as before\n",
    "pp.create_gen(\n",
    "    net_ExPF1_Pb1,\n",
    "    bus=b2,\n",
    "    p_mw=150,\n",
    "    vm_pu=1.05,\n",
    "    min_q_mvar=-200,\n",
    "    max_q_mvar=200,\n",
    "    name=\"Gen 2\",\n",
    ")\n",
    "pp.create_gen(\n",
    "    net_ExPF1_Pb1,\n",
    "    bus=b5,\n",
    "    p_mw=100,\n",
    "    vm_pu=1,\n",
    "    min_q_mvar=-100,\n",
    "    max_q_mvar=100,\n",
    "    name=\"Gen 5\",\n",
    ")"
   ]
  },
  {
   "cell_type": "markdown",
   "metadata": {},
   "source": [
    "Create custom transformer, pure inductor."
   ]
  },
  {
   "cell_type": "code",
   "execution_count": 632,
   "metadata": {},
   "outputs": [],
   "source": [
    "# create transformer\n",
    "trafo = pp.create_transformer_from_parameters(\n",
    "    net_ExPF1_Pb1,\n",
    "    hv_bus=b4,\n",
    "    lv_bus=b5,\n",
    "    sn_mva=200,\n",
    "    vn_hv_kv=400,\n",
    "    vn_lv_kv=20,\n",
    "    vk_percent=10,\n",
    "    vkr_percent=0,\n",
    "    pfe_kw=0,\n",
    "    i0_percent=0,\n",
    "    name=\"Transfo T1\",\n",
    ")"
   ]
  },
  {
   "cell_type": "markdown",
   "metadata": {},
   "source": [
    "Calcul line parameter in correct units, transform from pu.\n",
    "\n",
    "Define the base"
   ]
  },
  {
   "cell_type": "code",
   "execution_count": 633,
   "metadata": {},
   "outputs": [
    {
     "data": {
      "text/plain": [
       "1600.0"
      ]
     },
     "execution_count": 633,
     "metadata": {},
     "output_type": "execute_result"
    }
   ],
   "source": [
    "S_base = 100e6\n",
    "U_base = 400e3\n",
    "Z_base = U_base**2 / S_base\n",
    "Y_base = 1 / Z_base\n",
    "Ligne_value = {\n",
    "    \"R_pu\": [0.02, 0.02, 0.02, 0.04, 0.04],\n",
    "    \"X_pu\": [0.2, 0.4, 0.4, 0.4, 0.4],\n",
    "    \"B_pu\": [0.8, 0.8, 0.4, 0.4, 0.4],\n",
    "    \"Un\": [400, 400, 400, 400, 400],\n",
    "}\n",
    "DF_Ligne = pd.DataFrame(Ligne_value, index=[\"A\", \"B\", \"C\", \"D\", \"E\"])\n",
    "Z_base"
   ]
  },
  {
   "cell_type": "markdown",
   "metadata": {},
   "source": [
    "Calcul the parameters"
   ]
  },
  {
   "cell_type": "code",
   "execution_count": 634,
   "metadata": {},
   "outputs": [
    {
     "name": "stdout",
     "output_type": "stream",
     "text": [
      "Line resistance :\n",
      " A    32.0\n",
      "B    32.0\n",
      "C    32.0\n",
      "D    64.0\n",
      "E    64.0\n",
      "Name: R_pu, dtype: float64\n",
      "Line impedance :\n",
      " A    320.0\n",
      "B    640.0\n",
      "C    640.0\n",
      "D    640.0\n",
      "E    640.0\n",
      "Name: X_pu, dtype: float64\n",
      "Line capacitance :\n",
      " A    1.554247\n",
      "B    1.554247\n",
      "C    3.108495\n",
      "D    3.108495\n",
      "E    3.108495\n",
      "Name: B_pu, dtype: float64\n"
     ]
    }
   ],
   "source": [
    "rl_ohm_per_km = DF_Ligne.R_pu * Z_base\n",
    "xl_ohm_per_km = DF_Ligne.X_pu * Z_base\n",
    "cl_nF_per_km = 1 / (DF_Ligne.B_pu * Z_base**2 * 2 * np.pi * 50) * 10**9\n",
    "print(\"Line resistance :\\n\", rl_ohm_per_km)\n",
    "print(\"Line impedance :\\n\", xl_ohm_per_km)\n",
    "print(\"Line capacitance :\\n\", cl_nF_per_km)\n",
    "line_parameter = {\n",
    "    \"r_ohm_per_km\": rl_ohm_per_km,\n",
    "    \"x_ohm_per_km\": xl_ohm_per_km,\n",
    "    \"c_nf_per_km\": cl_nF_per_km,\n",
    "}"
   ]
  },
  {
   "cell_type": "code",
   "execution_count": 635,
   "metadata": {},
   "outputs": [
    {
     "data": {
      "text/plain": [
       "Series([], Name: c_nf_per_km, dtype: float64)"
      ]
     },
     "execution_count": 635,
     "metadata": {},
     "output_type": "execute_result"
    }
   ],
   "source": [
    "net_ExPF1_Pb1.line[\"c_nf_per_km\"]"
   ]
  },
  {
   "cell_type": "markdown",
   "metadata": {},
   "source": [
    "Create the lines with parameters"
   ]
  },
  {
   "cell_type": "code",
   "execution_count": 636,
   "metadata": {},
   "outputs": [],
   "source": [
    "# create line\n",
    "line_a = pp.create_line_from_parameters(\n",
    "    net_ExPF1_Pb1,\n",
    "    from_bus=b1,\n",
    "    to_bus=b2,\n",
    "    length_km=1,\n",
    "    name=\"Line A\",\n",
    "    r_ohm_per_km=rl_ohm_per_km.A,\n",
    "    x_ohm_per_km=xl_ohm_per_km.A,\n",
    "    c_nf_per_km=cl_nF_per_km.A,\n",
    "    max_i_ka=1,\n",
    ")\n",
    "line_b = pp.create_line_from_parameters(\n",
    "    net_ExPF1_Pb1,\n",
    "    from_bus=b2,\n",
    "    to_bus=b3,\n",
    "    length_km=1,\n",
    "    name=\"Line B\",\n",
    "    r_ohm_per_km=rl_ohm_per_km.B,\n",
    "    x_ohm_per_km=xl_ohm_per_km.B,\n",
    "    c_nf_per_km=cl_nF_per_km.B,\n",
    "    max_i_ka=1,\n",
    ")\n",
    "line_c = pp.create_line_from_parameters(\n",
    "    net_ExPF1_Pb1,\n",
    "    from_bus=b1,\n",
    "    to_bus=b3,\n",
    "    length_km=1,\n",
    "    name=\"Line C\",\n",
    "    r_ohm_per_km=rl_ohm_per_km.C,\n",
    "    x_ohm_per_km=xl_ohm_per_km.C,\n",
    "    c_nf_per_km=cl_nF_per_km.C,\n",
    "    max_i_ka=1,\n",
    ")\n",
    "line_d = pp.create_line_from_parameters(\n",
    "    net_ExPF1_Pb1,\n",
    "    from_bus=b3,\n",
    "    to_bus=b4,\n",
    "    length_km=1,\n",
    "    name=\"Line D\",\n",
    "    r_ohm_per_km=rl_ohm_per_km.D,\n",
    "    x_ohm_per_km=xl_ohm_per_km.D,\n",
    "    c_nf_per_km=cl_nF_per_km.D,\n",
    "    max_i_ka=1,\n",
    ")\n",
    "line_e = pp.create_line_from_parameters(\n",
    "    net_ExPF1_Pb1,\n",
    "    from_bus=b2,\n",
    "    to_bus=b4,\n",
    "    length_km=1,\n",
    "    name=\"Line E\",\n",
    "    r_ohm_per_km=rl_ohm_per_km.E,\n",
    "    x_ohm_per_km=xl_ohm_per_km.E,\n",
    "    c_nf_per_km=cl_nF_per_km.E,\n",
    "    max_i_ka=1,\n",
    ")"
   ]
  },
  {
   "cell_type": "markdown",
   "metadata": {},
   "source": [
    "Check line"
   ]
  },
  {
   "cell_type": "code",
   "execution_count": 637,
   "metadata": {},
   "outputs": [
    {
     "data": {
      "text/html": [
       "<div>\n",
       "<style scoped>\n",
       "    .dataframe tbody tr th:only-of-type {\n",
       "        vertical-align: middle;\n",
       "    }\n",
       "\n",
       "    .dataframe tbody tr th {\n",
       "        vertical-align: top;\n",
       "    }\n",
       "\n",
       "    .dataframe thead th {\n",
       "        text-align: right;\n",
       "    }\n",
       "</style>\n",
       "<table border=\"1\" class=\"dataframe\">\n",
       "  <thead>\n",
       "    <tr style=\"text-align: right;\">\n",
       "      <th></th>\n",
       "      <th>name</th>\n",
       "      <th>std_type</th>\n",
       "      <th>from_bus</th>\n",
       "      <th>to_bus</th>\n",
       "      <th>length_km</th>\n",
       "      <th>r_ohm_per_km</th>\n",
       "      <th>x_ohm_per_km</th>\n",
       "      <th>c_nf_per_km</th>\n",
       "      <th>g_us_per_km</th>\n",
       "      <th>max_i_ka</th>\n",
       "      <th>df</th>\n",
       "      <th>parallel</th>\n",
       "      <th>type</th>\n",
       "      <th>in_service</th>\n",
       "    </tr>\n",
       "  </thead>\n",
       "  <tbody>\n",
       "    <tr>\n",
       "      <th>0</th>\n",
       "      <td>Line A</td>\n",
       "      <td>None</td>\n",
       "      <td>0</td>\n",
       "      <td>1</td>\n",
       "      <td>1.0</td>\n",
       "      <td>32.0</td>\n",
       "      <td>320.0</td>\n",
       "      <td>1.554247</td>\n",
       "      <td>0.0</td>\n",
       "      <td>1.0</td>\n",
       "      <td>1.0</td>\n",
       "      <td>1</td>\n",
       "      <td>None</td>\n",
       "      <td>True</td>\n",
       "    </tr>\n",
       "    <tr>\n",
       "      <th>1</th>\n",
       "      <td>Line B</td>\n",
       "      <td>None</td>\n",
       "      <td>1</td>\n",
       "      <td>2</td>\n",
       "      <td>1.0</td>\n",
       "      <td>32.0</td>\n",
       "      <td>640.0</td>\n",
       "      <td>1.554247</td>\n",
       "      <td>0.0</td>\n",
       "      <td>1.0</td>\n",
       "      <td>1.0</td>\n",
       "      <td>1</td>\n",
       "      <td>None</td>\n",
       "      <td>True</td>\n",
       "    </tr>\n",
       "    <tr>\n",
       "      <th>2</th>\n",
       "      <td>Line C</td>\n",
       "      <td>None</td>\n",
       "      <td>0</td>\n",
       "      <td>2</td>\n",
       "      <td>1.0</td>\n",
       "      <td>32.0</td>\n",
       "      <td>640.0</td>\n",
       "      <td>3.108495</td>\n",
       "      <td>0.0</td>\n",
       "      <td>1.0</td>\n",
       "      <td>1.0</td>\n",
       "      <td>1</td>\n",
       "      <td>None</td>\n",
       "      <td>True</td>\n",
       "    </tr>\n",
       "    <tr>\n",
       "      <th>3</th>\n",
       "      <td>Line D</td>\n",
       "      <td>None</td>\n",
       "      <td>2</td>\n",
       "      <td>3</td>\n",
       "      <td>1.0</td>\n",
       "      <td>64.0</td>\n",
       "      <td>640.0</td>\n",
       "      <td>3.108495</td>\n",
       "      <td>0.0</td>\n",
       "      <td>1.0</td>\n",
       "      <td>1.0</td>\n",
       "      <td>1</td>\n",
       "      <td>None</td>\n",
       "      <td>True</td>\n",
       "    </tr>\n",
       "    <tr>\n",
       "      <th>4</th>\n",
       "      <td>Line E</td>\n",
       "      <td>None</td>\n",
       "      <td>1</td>\n",
       "      <td>3</td>\n",
       "      <td>1.0</td>\n",
       "      <td>64.0</td>\n",
       "      <td>640.0</td>\n",
       "      <td>3.108495</td>\n",
       "      <td>0.0</td>\n",
       "      <td>1.0</td>\n",
       "      <td>1.0</td>\n",
       "      <td>1</td>\n",
       "      <td>None</td>\n",
       "      <td>True</td>\n",
       "    </tr>\n",
       "  </tbody>\n",
       "</table>\n",
       "</div>"
      ],
      "text/plain": [
       "     name std_type  from_bus  to_bus  length_km  r_ohm_per_km  x_ohm_per_km  \\\n",
       "0  Line A     None         0       1        1.0          32.0         320.0   \n",
       "1  Line B     None         1       2        1.0          32.0         640.0   \n",
       "2  Line C     None         0       2        1.0          32.0         640.0   \n",
       "3  Line D     None         2       3        1.0          64.0         640.0   \n",
       "4  Line E     None         1       3        1.0          64.0         640.0   \n",
       "\n",
       "   c_nf_per_km  g_us_per_km  max_i_ka   df  parallel  type  in_service  \n",
       "0     1.554247          0.0       1.0  1.0         1  None        True  \n",
       "1     1.554247          0.0       1.0  1.0         1  None        True  \n",
       "2     3.108495          0.0       1.0  1.0         1  None        True  \n",
       "3     3.108495          0.0       1.0  1.0         1  None        True  \n",
       "4     3.108495          0.0       1.0  1.0         1  None        True  "
      ]
     },
     "execution_count": 637,
     "metadata": {},
     "output_type": "execute_result"
    }
   ],
   "source": [
    "net_ExPF1_Pb1.line"
   ]
  },
  {
   "cell_type": "code",
   "execution_count": 638,
   "metadata": {},
   "outputs": [
    {
     "data": {
      "text/plain": [
       "This pandapower network includes the following parameter tables:\n",
       "   - bus (5 elements)\n",
       "   - load (2 elements)\n",
       "   - gen (2 elements)\n",
       "   - ext_grid (1 element)\n",
       "   - line (5 elements)\n",
       "   - trafo (1 element)"
      ]
     },
     "execution_count": 638,
     "metadata": {},
     "output_type": "execute_result"
    }
   ],
   "source": [
    "net_ExPF1_Pb1"
   ]
  },
  {
   "cell_type": "code",
   "execution_count": 639,
   "metadata": {},
   "outputs": [
    {
     "data": {
      "text/html": [
       "<div>\n",
       "<style scoped>\n",
       "    .dataframe tbody tr th:only-of-type {\n",
       "        vertical-align: middle;\n",
       "    }\n",
       "\n",
       "    .dataframe tbody tr th {\n",
       "        vertical-align: top;\n",
       "    }\n",
       "\n",
       "    .dataframe thead th {\n",
       "        text-align: right;\n",
       "    }\n",
       "</style>\n",
       "<table border=\"1\" class=\"dataframe\">\n",
       "  <thead>\n",
       "    <tr style=\"text-align: right;\">\n",
       "      <th></th>\n",
       "      <th>name</th>\n",
       "      <th>std_type</th>\n",
       "      <th>hv_bus</th>\n",
       "      <th>lv_bus</th>\n",
       "      <th>sn_mva</th>\n",
       "      <th>vn_hv_kv</th>\n",
       "      <th>vn_lv_kv</th>\n",
       "      <th>vk_percent</th>\n",
       "      <th>vkr_percent</th>\n",
       "      <th>pfe_kw</th>\n",
       "      <th>i0_percent</th>\n",
       "      <th>shift_degree</th>\n",
       "      <th>tap_side</th>\n",
       "      <th>tap_neutral</th>\n",
       "      <th>tap_min</th>\n",
       "      <th>tap_max</th>\n",
       "      <th>tap_step_percent</th>\n",
       "      <th>tap_step_degree</th>\n",
       "      <th>tap_pos</th>\n",
       "      <th>tap_phase_shifter</th>\n",
       "      <th>parallel</th>\n",
       "      <th>df</th>\n",
       "      <th>in_service</th>\n",
       "    </tr>\n",
       "  </thead>\n",
       "  <tbody>\n",
       "    <tr>\n",
       "      <th>0</th>\n",
       "      <td>Transfo T1</td>\n",
       "      <td>None</td>\n",
       "      <td>3</td>\n",
       "      <td>4</td>\n",
       "      <td>200.0</td>\n",
       "      <td>400.0</td>\n",
       "      <td>20.0</td>\n",
       "      <td>10.0</td>\n",
       "      <td>0.0</td>\n",
       "      <td>0.0</td>\n",
       "      <td>0.0</td>\n",
       "      <td>0.0</td>\n",
       "      <td>None</td>\n",
       "      <td>NaN</td>\n",
       "      <td>NaN</td>\n",
       "      <td>NaN</td>\n",
       "      <td>NaN</td>\n",
       "      <td>NaN</td>\n",
       "      <td>NaN</td>\n",
       "      <td>False</td>\n",
       "      <td>1</td>\n",
       "      <td>1.0</td>\n",
       "      <td>True</td>\n",
       "    </tr>\n",
       "  </tbody>\n",
       "</table>\n",
       "</div>"
      ],
      "text/plain": [
       "         name std_type  hv_bus  lv_bus  sn_mva  vn_hv_kv  vn_lv_kv  \\\n",
       "0  Transfo T1     None       3       4   200.0     400.0      20.0   \n",
       "\n",
       "   vk_percent  vkr_percent  pfe_kw  i0_percent  shift_degree tap_side  \\\n",
       "0        10.0          0.0     0.0         0.0           0.0     None   \n",
       "\n",
       "   tap_neutral  tap_min  tap_max  tap_step_percent  tap_step_degree  tap_pos  \\\n",
       "0          NaN      NaN      NaN               NaN              NaN      NaN   \n",
       "\n",
       "   tap_phase_shifter  parallel   df  in_service  \n",
       "0              False         1  1.0        True  "
      ]
     },
     "execution_count": 639,
     "metadata": {},
     "output_type": "execute_result"
    }
   ],
   "source": [
    "net_ExPF1_Pb1.trafo"
   ]
  },
  {
   "cell_type": "markdown",
   "metadata": {},
   "source": [
    "By default, we run a powerflow with NR :\n",
    "- `nr` Newton-Raphson (pypower implementation with numba accelerations)\n",
    "- `gs` gauss-seidel (pypower implementation)\n",
    "- `fdbx` fast-decoupled (pypower implementation)"
   ]
  },
  {
   "cell_type": "code",
   "execution_count": 640,
   "metadata": {},
   "outputs": [
    {
     "data": {
      "text/plain": [
       "This pandapower network includes the following parameter tables:\n",
       "   - bus (5 elements)\n",
       "   - load (2 elements)\n",
       "   - gen (2 elements)\n",
       "   - ext_grid (1 element)\n",
       "   - line (5 elements)\n",
       "   - trafo (1 element)\n",
       " and the following results tables:\n",
       "   - res_bus (5 elements)\n",
       "   - res_line (5 elements)\n",
       "   - res_trafo (1 element)\n",
       "   - res_ext_grid (1 element)\n",
       "   - res_load (2 elements)\n",
       "   - res_gen (2 elements)"
      ]
     },
     "execution_count": 640,
     "metadata": {},
     "output_type": "execute_result"
    }
   ],
   "source": [
    "pp.runpp(net_ExPF1_Pb1)\n",
    "net_ExPF1_Pb1"
   ]
  },
  {
   "cell_type": "code",
   "execution_count": 641,
   "metadata": {},
   "outputs": [
    {
     "data": {
      "text/html": [
       "<div>\n",
       "<style scoped>\n",
       "    .dataframe tbody tr th:only-of-type {\n",
       "        vertical-align: middle;\n",
       "    }\n",
       "\n",
       "    .dataframe tbody tr th {\n",
       "        vertical-align: top;\n",
       "    }\n",
       "\n",
       "    .dataframe thead th {\n",
       "        text-align: right;\n",
       "    }\n",
       "</style>\n",
       "<table border=\"1\" class=\"dataframe\">\n",
       "  <thead>\n",
       "    <tr style=\"text-align: right;\">\n",
       "      <th></th>\n",
       "      <th>vm_pu</th>\n",
       "      <th>va_degree</th>\n",
       "      <th>p_mw</th>\n",
       "      <th>q_mvar</th>\n",
       "    </tr>\n",
       "  </thead>\n",
       "  <tbody>\n",
       "    <tr>\n",
       "      <th>0</th>\n",
       "      <td>1.000000</td>\n",
       "      <td>0.000000</td>\n",
       "      <td>-57.252001</td>\n",
       "      <td>-31.160412</td>\n",
       "    </tr>\n",
       "    <tr>\n",
       "      <th>1</th>\n",
       "      <td>1.050000</td>\n",
       "      <td>0.194014</td>\n",
       "      <td>-50.000000</td>\n",
       "      <td>-118.481567</td>\n",
       "    </tr>\n",
       "    <tr>\n",
       "      <th>2</th>\n",
       "      <td>0.799545</td>\n",
       "      <td>-17.075981</td>\n",
       "      <td>200.000000</td>\n",
       "      <td>80.000000</td>\n",
       "    </tr>\n",
       "    <tr>\n",
       "      <th>3</th>\n",
       "      <td>0.981705</td>\n",
       "      <td>5.170810</td>\n",
       "      <td>0.000000</td>\n",
       "      <td>0.000000</td>\n",
       "    </tr>\n",
       "    <tr>\n",
       "      <th>4</th>\n",
       "      <td>1.000000</td>\n",
       "      <td>8.090251</td>\n",
       "      <td>-100.000000</td>\n",
       "      <td>-39.139051</td>\n",
       "    </tr>\n",
       "  </tbody>\n",
       "</table>\n",
       "</div>"
      ],
      "text/plain": [
       "      vm_pu  va_degree        p_mw      q_mvar\n",
       "0  1.000000   0.000000  -57.252001  -31.160412\n",
       "1  1.050000   0.194014  -50.000000 -118.481567\n",
       "2  0.799545 -17.075981  200.000000   80.000000\n",
       "3  0.981705   5.170810    0.000000    0.000000\n",
       "4  1.000000   8.090251 -100.000000  -39.139051"
      ]
     },
     "execution_count": 641,
     "metadata": {},
     "output_type": "execute_result"
    }
   ],
   "source": [
    "net_ExPF1_Pb1.res_bus"
   ]
  },
  {
   "cell_type": "code",
   "execution_count": 642,
   "metadata": {},
   "outputs": [
    {
     "data": {
      "text/plain": [
       "7.252000890487759"
      ]
     },
     "execution_count": 642,
     "metadata": {},
     "output_type": "execute_result"
    }
   ],
   "source": [
    "net_ExPF1_Pb1.res_line.pl_mw.sum()"
   ]
  },
  {
   "cell_type": "code",
   "execution_count": 643,
   "metadata": {},
   "outputs": [
    {
     "data": {
      "text/html": [
       "<div>\n",
       "<style scoped>\n",
       "    .dataframe tbody tr th:only-of-type {\n",
       "        vertical-align: middle;\n",
       "    }\n",
       "\n",
       "    .dataframe tbody tr th {\n",
       "        vertical-align: top;\n",
       "    }\n",
       "\n",
       "    .dataframe thead th {\n",
       "        text-align: right;\n",
       "    }\n",
       "</style>\n",
       "<table border=\"1\" class=\"dataframe\">\n",
       "  <thead>\n",
       "    <tr style=\"text-align: right;\">\n",
       "      <th></th>\n",
       "      <th>p_mw</th>\n",
       "      <th>q_mvar</th>\n",
       "      <th>va_degree</th>\n",
       "      <th>vm_pu</th>\n",
       "    </tr>\n",
       "  </thead>\n",
       "  <tbody>\n",
       "    <tr>\n",
       "      <th>0</th>\n",
       "      <td>150.0</td>\n",
       "      <td>138.481567</td>\n",
       "      <td>0.194014</td>\n",
       "      <td>1.05</td>\n",
       "    </tr>\n",
       "    <tr>\n",
       "      <th>1</th>\n",
       "      <td>100.0</td>\n",
       "      <td>39.139051</td>\n",
       "      <td>8.090251</td>\n",
       "      <td>1.00</td>\n",
       "    </tr>\n",
       "  </tbody>\n",
       "</table>\n",
       "</div>"
      ],
      "text/plain": [
       "    p_mw      q_mvar  va_degree  vm_pu\n",
       "0  150.0  138.481567   0.194014   1.05\n",
       "1  100.0   39.139051   8.090251   1.00"
      ]
     },
     "execution_count": 643,
     "metadata": {},
     "output_type": "execute_result"
    }
   ],
   "source": [
    "net_ExPF1_Pb1.res_gen"
   ]
  },
  {
   "cell_type": "code",
   "execution_count": 644,
   "metadata": {},
   "outputs": [
    {
     "data": {
      "text/html": [
       "<div>\n",
       "<style scoped>\n",
       "    .dataframe tbody tr th:only-of-type {\n",
       "        vertical-align: middle;\n",
       "    }\n",
       "\n",
       "    .dataframe tbody tr th {\n",
       "        vertical-align: top;\n",
       "    }\n",
       "\n",
       "    .dataframe thead th {\n",
       "        text-align: right;\n",
       "    }\n",
       "</style>\n",
       "<table border=\"1\" class=\"dataframe\">\n",
       "  <thead>\n",
       "    <tr style=\"text-align: right;\">\n",
       "      <th></th>\n",
       "      <th>p_mw</th>\n",
       "      <th>q_mvar</th>\n",
       "    </tr>\n",
       "  </thead>\n",
       "  <tbody>\n",
       "    <tr>\n",
       "      <th>0</th>\n",
       "      <td>57.252001</td>\n",
       "      <td>31.160412</td>\n",
       "    </tr>\n",
       "  </tbody>\n",
       "</table>\n",
       "</div>"
      ],
      "text/plain": [
       "        p_mw     q_mvar\n",
       "0  57.252001  31.160412"
      ]
     },
     "execution_count": 644,
     "metadata": {},
     "output_type": "execute_result"
    }
   ],
   "source": [
    "net_ExPF1_Pb1.res_ext_grid"
   ]
  },
  {
   "cell_type": "markdown",
   "metadata": {},
   "source": [
    "To show the admitance matrix :"
   ]
  },
  {
   "cell_type": "code",
   "execution_count": 645,
   "metadata": {},
   "outputs": [
    {
     "data": {
      "text/html": [
       "<div>\n",
       "<style scoped>\n",
       "    .dataframe tbody tr th:only-of-type {\n",
       "        vertical-align: middle;\n",
       "    }\n",
       "\n",
       "    .dataframe tbody tr th {\n",
       "        vertical-align: top;\n",
       "    }\n",
       "\n",
       "    .dataframe thead th {\n",
       "        text-align: right;\n",
       "    }\n",
       "</style>\n",
       "<table border=\"1\" class=\"dataframe\">\n",
       "  <thead>\n",
       "    <tr style=\"text-align: right;\">\n",
       "      <th></th>\n",
       "      <th>0</th>\n",
       "      <th>1</th>\n",
       "      <th>2</th>\n",
       "      <th>3</th>\n",
       "      <th>4</th>\n",
       "    </tr>\n",
       "  </thead>\n",
       "  <tbody>\n",
       "    <tr>\n",
       "      <th>0</th>\n",
       "      <td>0.6-7.4j</td>\n",
       "      <td>-0.5+5.0j</td>\n",
       "      <td>-0.1+2.5j</td>\n",
       "      <td>0.0+ 0.0j</td>\n",
       "      <td>0.0+ 0.0j</td>\n",
       "    </tr>\n",
       "    <tr>\n",
       "      <th>1</th>\n",
       "      <td>-0.5+5.0j</td>\n",
       "      <td>0.9-9.9j</td>\n",
       "      <td>-0.1+2.5j</td>\n",
       "      <td>-0.2+ 2.5j</td>\n",
       "      <td>0.0+ 0.0j</td>\n",
       "    </tr>\n",
       "    <tr>\n",
       "      <th>2</th>\n",
       "      <td>-0.1+2.5j</td>\n",
       "      <td>-0.1+2.5j</td>\n",
       "      <td>0.5-7.5j</td>\n",
       "      <td>-0.2+ 2.5j</td>\n",
       "      <td>0.0+ 0.0j</td>\n",
       "    </tr>\n",
       "    <tr>\n",
       "      <th>3</th>\n",
       "      <td>0.0+0.0j</td>\n",
       "      <td>-0.2+2.5j</td>\n",
       "      <td>-0.2+2.5j</td>\n",
       "      <td>0.5-24.9j</td>\n",
       "      <td>0.0+20.0j</td>\n",
       "    </tr>\n",
       "    <tr>\n",
       "      <th>4</th>\n",
       "      <td>0.0+0.0j</td>\n",
       "      <td>0.0+0.0j</td>\n",
       "      <td>0.0+0.0j</td>\n",
       "      <td>0.0+20.0j</td>\n",
       "      <td>0.0-20.0j</td>\n",
       "    </tr>\n",
       "  </tbody>\n",
       "</table>\n",
       "</div>"
      ],
      "text/plain": [
       "          0         1         2          3          4\n",
       "0  0.6-7.4j -0.5+5.0j -0.1+2.5j  0.0+ 0.0j  0.0+ 0.0j\n",
       "1 -0.5+5.0j  0.9-9.9j -0.1+2.5j -0.2+ 2.5j  0.0+ 0.0j\n",
       "2 -0.1+2.5j -0.1+2.5j  0.5-7.5j -0.2+ 2.5j  0.0+ 0.0j\n",
       "3  0.0+0.0j -0.2+2.5j -0.2+2.5j  0.5-24.9j  0.0+20.0j\n",
       "4  0.0+0.0j  0.0+0.0j  0.0+0.0j  0.0+20.0j  0.0-20.0j"
      ]
     },
     "execution_count": 645,
     "metadata": {},
     "output_type": "execute_result"
    }
   ],
   "source": [
    "pd.DataFrame(net_ExPF1_Pb1._ppc[\"internal\"][\"Ybus\"].toarray()).round(1)"
   ]
  },
  {
   "cell_type": "markdown",
   "metadata": {},
   "source": [
    "## Same exercise with the **panda**power_heig_ui librairie"
   ]
  },
  {
   "cell_type": "markdown",
   "metadata": {},
   "source": [
    "This package is based on the pandaPower library. It has been developed to help students using simple functions in order to create simple power system models.\n",
    "- **panda**power_heig_ui's [documentation](https://heig-vd-ie.github.io/pandapower-heig-ui/)."
   ]
  },
  {
   "cell_type": "code",
   "execution_count": 646,
   "metadata": {},
   "outputs": [],
   "source": [
    "import pp_heig_simulation as pp_sim\n",
    "import pp_heig_plot as pp_plot\n",
    "from datetime import time"
   ]
  },
  {
   "cell_type": "markdown",
   "metadata": {},
   "source": [
    "At the first, we complete the excel file : *net_ex_pf_1_pb_1.xlsx*.\n",
    "Then we load data in **panda**power format :"
   ]
  },
  {
   "cell_type": "code",
   "execution_count": 647,
   "metadata": {},
   "outputs": [],
   "source": [
    "file_path = \"data/net_ex_pf_1_pb_1.xlsx\"\n",
    "net_ExPF1_Pb1_heig = pp_sim.load_net_from_xlsx(file_path=file_path)"
   ]
  },
  {
   "cell_type": "markdown",
   "metadata": {},
   "source": [
    "Check net well loaded :"
   ]
  },
  {
   "cell_type": "code",
   "execution_count": 648,
   "metadata": {},
   "outputs": [
    {
     "data": {
      "text/plain": [
       "This pandapower network includes the following parameter tables:\n",
       "   - bus (5 elements)\n",
       "   - load (2 elements)\n",
       "   - ext_grid (1 element)\n",
       "   - line (5 elements)\n",
       "   - trafo (1 element)"
      ]
     },
     "execution_count": 648,
     "metadata": {},
     "output_type": "execute_result"
    }
   ],
   "source": [
    "net_ExPF1_Pb1_heig"
   ]
  },
  {
   "cell_type": "code",
   "execution_count": 649,
   "metadata": {},
   "outputs": [
    {
     "data": {
      "text/html": [
       "<div>\n",
       "<style scoped>\n",
       "    .dataframe tbody tr th:only-of-type {\n",
       "        vertical-align: middle;\n",
       "    }\n",
       "\n",
       "    .dataframe tbody tr th {\n",
       "        vertical-align: top;\n",
       "    }\n",
       "\n",
       "    .dataframe thead th {\n",
       "        text-align: right;\n",
       "    }\n",
       "</style>\n",
       "<table border=\"1\" class=\"dataframe\">\n",
       "  <thead>\n",
       "    <tr style=\"text-align: right;\">\n",
       "      <th></th>\n",
       "      <th>name</th>\n",
       "      <th>bus</th>\n",
       "      <th>p_mw</th>\n",
       "      <th>q_mvar</th>\n",
       "      <th>scaling</th>\n",
       "      <th>profile_mapping</th>\n",
       "      <th>const_z_percent</th>\n",
       "      <th>const_i_percent</th>\n",
       "      <th>sn_mva</th>\n",
       "      <th>in_service</th>\n",
       "      <th>type</th>\n",
       "    </tr>\n",
       "  </thead>\n",
       "  <tbody>\n",
       "    <tr>\n",
       "      <th>0</th>\n",
       "      <td>load_2</td>\n",
       "      <td>1</td>\n",
       "      <td>100.0</td>\n",
       "      <td>20.0</td>\n",
       "      <td>1.0</td>\n",
       "      <td>1</td>\n",
       "      <td>0.0</td>\n",
       "      <td>0.0</td>\n",
       "      <td>None</td>\n",
       "      <td>True</td>\n",
       "      <td>wye</td>\n",
       "    </tr>\n",
       "    <tr>\n",
       "      <th>1</th>\n",
       "      <td>load_3</td>\n",
       "      <td>2</td>\n",
       "      <td>200.0</td>\n",
       "      <td>80.0</td>\n",
       "      <td>1.0</td>\n",
       "      <td>2</td>\n",
       "      <td>0.0</td>\n",
       "      <td>0.0</td>\n",
       "      <td>None</td>\n",
       "      <td>True</td>\n",
       "      <td>wye</td>\n",
       "    </tr>\n",
       "  </tbody>\n",
       "</table>\n",
       "</div>"
      ],
      "text/plain": [
       "     name  bus   p_mw  q_mvar  scaling  profile_mapping  const_z_percent  \\\n",
       "0  load_2    1  100.0    20.0      1.0                1              0.0   \n",
       "1  load_3    2  200.0    80.0      1.0                2              0.0   \n",
       "\n",
       "   const_i_percent sn_mva  in_service type  \n",
       "0              0.0   None        True  wye  \n",
       "1              0.0   None        True  wye  "
      ]
     },
     "execution_count": 649,
     "metadata": {},
     "output_type": "execute_result"
    }
   ],
   "source": [
    "net_ExPF1_Pb1_heig.load"
   ]
  },
  {
   "cell_type": "markdown",
   "metadata": {},
   "source": [
    "In excel, we can't create an external grid as a generator, so let's modify it manualy :"
   ]
  },
  {
   "cell_type": "code",
   "execution_count": 650,
   "metadata": {},
   "outputs": [],
   "source": [
    "net_ExPF1_Pb1_heig.ext_grid[\"max_q_mvar\"] = 100\n",
    "net_ExPF1_Pb1_heig.ext_grid[\"min_q_mvar\"] = -100"
   ]
  },
  {
   "cell_type": "code",
   "execution_count": 651,
   "metadata": {},
   "outputs": [
    {
     "data": {
      "text/plain": [
       "0    100\n",
       "Name: max_q_mvar, dtype: int64"
      ]
     },
     "execution_count": 651,
     "metadata": {},
     "output_type": "execute_result"
    }
   ],
   "source": [
    "net_ExPF1_Pb1_heig.ext_grid[\"max_q_mvar\"]"
   ]
  },
  {
   "cell_type": "markdown",
   "metadata": {},
   "source": [
    "Same for generator, in excel, we only create static generator (PQ), so we need to create generator (PV)"
   ]
  },
  {
   "cell_type": "code",
   "execution_count": 652,
   "metadata": {},
   "outputs": [],
   "source": [
    "gen_2 = pp.create_gen(\n",
    "    net_ExPF1_Pb1_heig,\n",
    "    bus=b2,\n",
    "    p_mw=150,\n",
    "    vm_pu=1.05,\n",
    "    min_q_mvar=-200,\n",
    "    max_q_mvar=200,\n",
    "    name=\"Gen 2\",\n",
    ")\n",
    "gen_5 = pp.create_gen(\n",
    "    net_ExPF1_Pb1_heig,\n",
    "    bus=b5,\n",
    "    p_mw=100,\n",
    "    vm_pu=1,\n",
    "    min_q_mvar=-100,\n",
    "    max_q_mvar=100,\n",
    "    name=\"Gen 5\",\n",
    ")"
   ]
  },
  {
   "cell_type": "markdown",
   "metadata": {},
   "source": [
    "Check if that works :"
   ]
  },
  {
   "cell_type": "code",
   "execution_count": 653,
   "metadata": {},
   "outputs": [
    {
     "data": {
      "text/plain": [
       "This pandapower network includes the following parameter tables:\n",
       "   - bus (5 elements)\n",
       "   - load (2 elements)\n",
       "   - gen (2 elements)\n",
       "   - ext_grid (1 element)\n",
       "   - line (5 elements)\n",
       "   - trafo (1 element)"
      ]
     },
     "execution_count": 653,
     "metadata": {},
     "output_type": "execute_result"
    }
   ],
   "source": [
    "net_ExPF1_Pb1_heig"
   ]
  },
  {
   "cell_type": "code",
   "execution_count": 654,
   "metadata": {},
   "outputs": [
    {
     "data": {
      "text/html": [
       "<div>\n",
       "<style scoped>\n",
       "    .dataframe tbody tr th:only-of-type {\n",
       "        vertical-align: middle;\n",
       "    }\n",
       "\n",
       "    .dataframe tbody tr th {\n",
       "        vertical-align: top;\n",
       "    }\n",
       "\n",
       "    .dataframe thead th {\n",
       "        text-align: right;\n",
       "    }\n",
       "</style>\n",
       "<table border=\"1\" class=\"dataframe\">\n",
       "  <thead>\n",
       "    <tr style=\"text-align: right;\">\n",
       "      <th></th>\n",
       "      <th>name</th>\n",
       "      <th>from_bus</th>\n",
       "      <th>to_bus</th>\n",
       "      <th>length_km</th>\n",
       "      <th>r_ohm_per_km</th>\n",
       "      <th>x_ohm_per_km</th>\n",
       "      <th>c_nf_per_km</th>\n",
       "      <th>max_i_ka</th>\n",
       "      <th>parallel</th>\n",
       "      <th>type</th>\n",
       "      <th>r0_ohm_per_km</th>\n",
       "      <th>x0_ohm_per_km</th>\n",
       "      <th>c0_nf_per_km</th>\n",
       "      <th>g_us_per_km</th>\n",
       "      <th>df</th>\n",
       "      <th>std_type</th>\n",
       "      <th>in_service</th>\n",
       "    </tr>\n",
       "  </thead>\n",
       "  <tbody>\n",
       "    <tr>\n",
       "      <th>0</th>\n",
       "      <td>line_a</td>\n",
       "      <td>0</td>\n",
       "      <td>1</td>\n",
       "      <td>1.0</td>\n",
       "      <td>32.0</td>\n",
       "      <td>320.0</td>\n",
       "      <td>1.554247</td>\n",
       "      <td>1.0</td>\n",
       "      <td>1</td>\n",
       "      <td>None</td>\n",
       "      <td>0.0</td>\n",
       "      <td>0.0</td>\n",
       "      <td>0.0</td>\n",
       "      <td>0.0</td>\n",
       "      <td>1.0</td>\n",
       "      <td>None</td>\n",
       "      <td>True</td>\n",
       "    </tr>\n",
       "    <tr>\n",
       "      <th>1</th>\n",
       "      <td>line_b</td>\n",
       "      <td>1</td>\n",
       "      <td>2</td>\n",
       "      <td>1.0</td>\n",
       "      <td>32.0</td>\n",
       "      <td>640.0</td>\n",
       "      <td>1.554247</td>\n",
       "      <td>1.0</td>\n",
       "      <td>1</td>\n",
       "      <td>None</td>\n",
       "      <td>0.0</td>\n",
       "      <td>0.0</td>\n",
       "      <td>0.0</td>\n",
       "      <td>0.0</td>\n",
       "      <td>1.0</td>\n",
       "      <td>None</td>\n",
       "      <td>True</td>\n",
       "    </tr>\n",
       "    <tr>\n",
       "      <th>2</th>\n",
       "      <td>line_c</td>\n",
       "      <td>0</td>\n",
       "      <td>2</td>\n",
       "      <td>1.0</td>\n",
       "      <td>32.0</td>\n",
       "      <td>640.0</td>\n",
       "      <td>3.108495</td>\n",
       "      <td>1.0</td>\n",
       "      <td>1</td>\n",
       "      <td>None</td>\n",
       "      <td>0.0</td>\n",
       "      <td>0.0</td>\n",
       "      <td>0.0</td>\n",
       "      <td>0.0</td>\n",
       "      <td>1.0</td>\n",
       "      <td>None</td>\n",
       "      <td>True</td>\n",
       "    </tr>\n",
       "    <tr>\n",
       "      <th>3</th>\n",
       "      <td>line_d</td>\n",
       "      <td>2</td>\n",
       "      <td>3</td>\n",
       "      <td>1.0</td>\n",
       "      <td>64.0</td>\n",
       "      <td>640.0</td>\n",
       "      <td>3.108495</td>\n",
       "      <td>1.0</td>\n",
       "      <td>1</td>\n",
       "      <td>None</td>\n",
       "      <td>0.0</td>\n",
       "      <td>0.0</td>\n",
       "      <td>0.0</td>\n",
       "      <td>0.0</td>\n",
       "      <td>1.0</td>\n",
       "      <td>None</td>\n",
       "      <td>True</td>\n",
       "    </tr>\n",
       "    <tr>\n",
       "      <th>4</th>\n",
       "      <td>line_e</td>\n",
       "      <td>1</td>\n",
       "      <td>3</td>\n",
       "      <td>1.0</td>\n",
       "      <td>64.0</td>\n",
       "      <td>640.0</td>\n",
       "      <td>3.108495</td>\n",
       "      <td>1.0</td>\n",
       "      <td>1</td>\n",
       "      <td>None</td>\n",
       "      <td>0.0</td>\n",
       "      <td>0.0</td>\n",
       "      <td>0.0</td>\n",
       "      <td>0.0</td>\n",
       "      <td>1.0</td>\n",
       "      <td>None</td>\n",
       "      <td>True</td>\n",
       "    </tr>\n",
       "  </tbody>\n",
       "</table>\n",
       "</div>"
      ],
      "text/plain": [
       "     name  from_bus  to_bus  length_km  r_ohm_per_km  x_ohm_per_km  \\\n",
       "0  line_a         0       1        1.0          32.0         320.0   \n",
       "1  line_b         1       2        1.0          32.0         640.0   \n",
       "2  line_c         0       2        1.0          32.0         640.0   \n",
       "3  line_d         2       3        1.0          64.0         640.0   \n",
       "4  line_e         1       3        1.0          64.0         640.0   \n",
       "\n",
       "   c_nf_per_km  max_i_ka  parallel  type  r0_ohm_per_km  x0_ohm_per_km  \\\n",
       "0     1.554247       1.0         1  None            0.0            0.0   \n",
       "1     1.554247       1.0         1  None            0.0            0.0   \n",
       "2     3.108495       1.0         1  None            0.0            0.0   \n",
       "3     3.108495       1.0         1  None            0.0            0.0   \n",
       "4     3.108495       1.0         1  None            0.0            0.0   \n",
       "\n",
       "   c0_nf_per_km  g_us_per_km   df std_type  in_service  \n",
       "0           0.0          0.0  1.0     None        True  \n",
       "1           0.0          0.0  1.0     None        True  \n",
       "2           0.0          0.0  1.0     None        True  \n",
       "3           0.0          0.0  1.0     None        True  \n",
       "4           0.0          0.0  1.0     None        True  "
      ]
     },
     "execution_count": 654,
     "metadata": {},
     "output_type": "execute_result"
    }
   ],
   "source": [
    "net_ExPF1_Pb1_heig.line"
   ]
  },
  {
   "cell_type": "markdown",
   "metadata": {},
   "source": [
    "With this package, we can plot the grid :"
   ]
  },
  {
   "cell_type": "code",
   "execution_count": 655,
   "metadata": {},
   "outputs": [
    {
     "data": {
      "application/vnd.plotly.v1+json": {
       "config": {
        "plotlyServerURL": "https://plot.ly"
       },
       "data": [
        {
         "hoverinfo": "text",
         "legendgroup": "lines",
         "line": {
          "color": "rgb(0, 0, 0)",
          "width": 3
         },
         "mode": "lines",
         "name": "Lines",
         "showlegend": true,
         "text": "line_a",
         "type": "scatter",
         "x": [
          0.864732143824462,
          0.8037953996404956,
          0.7428586554565294
         ],
         "y": [
          -0.7953249239893944,
          -0.4149081565426613,
          -0.03449138909592816
         ]
        },
        {
         "hoverinfo": "text",
         "legendgroup": "lines",
         "line": {
          "color": "rgb(0, 0, 0)",
          "width": 3
         },
         "mode": "lines",
         "name": "Lines",
         "showlegend": false,
         "text": "line_b",
         "type": "scatter",
         "x": [
          0.7428586554565294,
          0.4548102095195367,
          0.16676176358254402
         ],
         "y": [
          -0.03449138909592816,
          -0.251691917085301,
          -0.4688924450746738
         ]
        },
        {
         "hoverinfo": "text",
         "legendgroup": "lines",
         "line": {
          "color": "rgb(0, 0, 0)",
          "width": 3
         },
         "mode": "lines",
         "name": "Lines",
         "showlegend": false,
         "text": "line_c",
         "type": "scatter",
         "x": [
          0.864732143824462,
          0.515746953703503,
          0.16676176358254402
         ],
         "y": [
          -0.7953249239893944,
          -0.6321086845320341,
          -0.4688924450746738
         ]
        },
        {
         "hoverinfo": "text",
         "legendgroup": "lines",
         "line": {
          "color": "rgb(0, 0, 0)",
          "width": 3
         },
         "mode": "lines",
         "name": "Lines",
         "showlegend": false,
         "text": "line_d",
         "type": "scatter",
         "x": [
          0.16676176358254402,
          0.10543830339042311,
          0.04411484319830219
         ],
         "y": [
          -0.4688924450746738,
          -0.08796282001107544,
          0.2929668050525229
         ]
        },
        {
         "hoverinfo": "text",
         "legendgroup": "lines",
         "line": {
          "color": "rgb(0, 0, 0)",
          "width": 3
         },
         "mode": "lines",
         "name": "Lines",
         "showlegend": false,
         "text": "line_e",
         "type": "scatter",
         "x": [
          0.7428586554565294,
          0.3934867493274158,
          0.04411484319830219
         ],
         "y": [
          -0.03449138909592816,
          0.1292377079782974,
          0.2929668050525229
         ]
        },
        {
         "hoverinfo": "text",
         "legendgroup": "lines",
         "marker": {
          "color": "rgb(0, 0, 0)",
          "size": 1,
          "symbol": "circle"
         },
         "mode": "markers",
         "name": "edge_center",
         "showlegend": false,
         "type": "scatter",
         "x": [
          0.8037953996404956
         ],
         "y": [
          -0.4149081565426613
         ]
        },
        {
         "hoverinfo": "text",
         "legendgroup": "Transformers",
         "line": {
          "color": "rgb(0, 128, 0)",
          "width": 7
         },
         "mode": "lines",
         "name": "Transformers",
         "showlegend": true,
         "text": "Transfo T1<br>200.0 MVA",
         "type": "scatter",
         "x": [
          0.04411484319830219,
          -0.18465400447251362,
          -0.4134228521433294
         ],
         "y": [
          0.2929668050525229,
          0.5963570023987358,
          0.8997471997449487
         ]
        },
        {
         "hoverinfo": "text",
         "legendgroup": "Transformers",
         "marker": {
          "color": "rgb(0, 128, 0)",
          "size": 1,
          "symbol": "circle"
         },
         "mode": "markers",
         "name": "edge_center",
         "showlegend": false,
         "text": [
          "Transfo T1<br>200.0 MVA"
         ],
         "type": "scatter",
         "x": [
          -0.18465400447251362
         ],
         "y": [
          0.5963570023987358
         ]
        },
        {
         "hoverinfo": "text",
         "marker": {
          "color": "rgb(191, 191, 0)",
          "size": 30,
          "symbol": "square"
         },
         "mode": "markers",
         "name": "Ext grid",
         "text": [
          "Gen 1"
         ],
         "type": "scatter",
         "x": [
          0.864732143824462
         ],
         "y": [
          -0.7953249239893944
         ]
        },
        {
         "hoverinfo": "text",
         "marker": {
          "color": "rgb(0, 0, 255)",
          "size": 20,
          "symbol": "circle"
         },
         "mode": "markers",
         "name": "Zone HV",
         "text": [
          "bus_1<br>400.0 kV",
          "bus_2<br>400.0 kV",
          "bus_3<br>400.0 kV",
          "bus_4<br>400.0 kV"
         ],
         "type": "scatter",
         "x": [
          0.864732143824462,
          0.7428586554565294,
          0.16676176358254402,
          0.04411484319830219
         ],
         "y": [
          -0.7953249239893944,
          -0.03449138909592816,
          -0.4688924450746738,
          0.2929668050525229
         ]
        },
        {
         "hoverinfo": "text",
         "marker": {
          "color": "rgb(0, 128, 0)",
          "size": 20,
          "symbol": "circle"
         },
         "mode": "markers",
         "name": "Zone LV",
         "text": [
          "bus_5<br>20.0 kV"
         ],
         "type": "scatter",
         "x": [
          -0.4134228521433294
         ],
         "y": [
          0.8997471997449487
         ]
        }
       ],
       "layout": {
        "font": {
         "size": 15
        },
        "height": 400,
        "hovermode": "closest",
        "legend": {
         "font": {
          "size": 12
         },
         "itemsizing": "constant"
        },
        "margin": {
         "b": 5,
         "l": 5,
         "r": 5,
         "t": 30
        },
        "paper_bgcolor": "white",
        "plot_bgcolor": "white",
        "showlegend": true,
        "template": {
         "data": {
          "bar": [
           {
            "error_x": {
             "color": "#2a3f5f"
            },
            "error_y": {
             "color": "#2a3f5f"
            },
            "marker": {
             "line": {
              "color": "#E5ECF6",
              "width": 0.5
             },
             "pattern": {
              "fillmode": "overlay",
              "size": 10,
              "solidity": 0.2
             }
            },
            "type": "bar"
           }
          ],
          "barpolar": [
           {
            "marker": {
             "line": {
              "color": "#E5ECF6",
              "width": 0.5
             },
             "pattern": {
              "fillmode": "overlay",
              "size": 10,
              "solidity": 0.2
             }
            },
            "type": "barpolar"
           }
          ],
          "carpet": [
           {
            "aaxis": {
             "endlinecolor": "#2a3f5f",
             "gridcolor": "white",
             "linecolor": "white",
             "minorgridcolor": "white",
             "startlinecolor": "#2a3f5f"
            },
            "baxis": {
             "endlinecolor": "#2a3f5f",
             "gridcolor": "white",
             "linecolor": "white",
             "minorgridcolor": "white",
             "startlinecolor": "#2a3f5f"
            },
            "type": "carpet"
           }
          ],
          "choropleth": [
           {
            "colorbar": {
             "outlinewidth": 0,
             "ticks": ""
            },
            "type": "choropleth"
           }
          ],
          "contour": [
           {
            "colorbar": {
             "outlinewidth": 0,
             "ticks": ""
            },
            "colorscale": [
             [
              0,
              "#0d0887"
             ],
             [
              0.1111111111111111,
              "#46039f"
             ],
             [
              0.2222222222222222,
              "#7201a8"
             ],
             [
              0.3333333333333333,
              "#9c179e"
             ],
             [
              0.4444444444444444,
              "#bd3786"
             ],
             [
              0.5555555555555556,
              "#d8576b"
             ],
             [
              0.6666666666666666,
              "#ed7953"
             ],
             [
              0.7777777777777778,
              "#fb9f3a"
             ],
             [
              0.8888888888888888,
              "#fdca26"
             ],
             [
              1,
              "#f0f921"
             ]
            ],
            "type": "contour"
           }
          ],
          "contourcarpet": [
           {
            "colorbar": {
             "outlinewidth": 0,
             "ticks": ""
            },
            "type": "contourcarpet"
           }
          ],
          "heatmap": [
           {
            "colorbar": {
             "outlinewidth": 0,
             "ticks": ""
            },
            "colorscale": [
             [
              0,
              "#0d0887"
             ],
             [
              0.1111111111111111,
              "#46039f"
             ],
             [
              0.2222222222222222,
              "#7201a8"
             ],
             [
              0.3333333333333333,
              "#9c179e"
             ],
             [
              0.4444444444444444,
              "#bd3786"
             ],
             [
              0.5555555555555556,
              "#d8576b"
             ],
             [
              0.6666666666666666,
              "#ed7953"
             ],
             [
              0.7777777777777778,
              "#fb9f3a"
             ],
             [
              0.8888888888888888,
              "#fdca26"
             ],
             [
              1,
              "#f0f921"
             ]
            ],
            "type": "heatmap"
           }
          ],
          "heatmapgl": [
           {
            "colorbar": {
             "outlinewidth": 0,
             "ticks": ""
            },
            "colorscale": [
             [
              0,
              "#0d0887"
             ],
             [
              0.1111111111111111,
              "#46039f"
             ],
             [
              0.2222222222222222,
              "#7201a8"
             ],
             [
              0.3333333333333333,
              "#9c179e"
             ],
             [
              0.4444444444444444,
              "#bd3786"
             ],
             [
              0.5555555555555556,
              "#d8576b"
             ],
             [
              0.6666666666666666,
              "#ed7953"
             ],
             [
              0.7777777777777778,
              "#fb9f3a"
             ],
             [
              0.8888888888888888,
              "#fdca26"
             ],
             [
              1,
              "#f0f921"
             ]
            ],
            "type": "heatmapgl"
           }
          ],
          "histogram": [
           {
            "marker": {
             "pattern": {
              "fillmode": "overlay",
              "size": 10,
              "solidity": 0.2
             }
            },
            "type": "histogram"
           }
          ],
          "histogram2d": [
           {
            "colorbar": {
             "outlinewidth": 0,
             "ticks": ""
            },
            "colorscale": [
             [
              0,
              "#0d0887"
             ],
             [
              0.1111111111111111,
              "#46039f"
             ],
             [
              0.2222222222222222,
              "#7201a8"
             ],
             [
              0.3333333333333333,
              "#9c179e"
             ],
             [
              0.4444444444444444,
              "#bd3786"
             ],
             [
              0.5555555555555556,
              "#d8576b"
             ],
             [
              0.6666666666666666,
              "#ed7953"
             ],
             [
              0.7777777777777778,
              "#fb9f3a"
             ],
             [
              0.8888888888888888,
              "#fdca26"
             ],
             [
              1,
              "#f0f921"
             ]
            ],
            "type": "histogram2d"
           }
          ],
          "histogram2dcontour": [
           {
            "colorbar": {
             "outlinewidth": 0,
             "ticks": ""
            },
            "colorscale": [
             [
              0,
              "#0d0887"
             ],
             [
              0.1111111111111111,
              "#46039f"
             ],
             [
              0.2222222222222222,
              "#7201a8"
             ],
             [
              0.3333333333333333,
              "#9c179e"
             ],
             [
              0.4444444444444444,
              "#bd3786"
             ],
             [
              0.5555555555555556,
              "#d8576b"
             ],
             [
              0.6666666666666666,
              "#ed7953"
             ],
             [
              0.7777777777777778,
              "#fb9f3a"
             ],
             [
              0.8888888888888888,
              "#fdca26"
             ],
             [
              1,
              "#f0f921"
             ]
            ],
            "type": "histogram2dcontour"
           }
          ],
          "mesh3d": [
           {
            "colorbar": {
             "outlinewidth": 0,
             "ticks": ""
            },
            "type": "mesh3d"
           }
          ],
          "parcoords": [
           {
            "line": {
             "colorbar": {
              "outlinewidth": 0,
              "ticks": ""
             }
            },
            "type": "parcoords"
           }
          ],
          "pie": [
           {
            "automargin": true,
            "type": "pie"
           }
          ],
          "scatter": [
           {
            "fillpattern": {
             "fillmode": "overlay",
             "size": 10,
             "solidity": 0.2
            },
            "type": "scatter"
           }
          ],
          "scatter3d": [
           {
            "line": {
             "colorbar": {
              "outlinewidth": 0,
              "ticks": ""
             }
            },
            "marker": {
             "colorbar": {
              "outlinewidth": 0,
              "ticks": ""
             }
            },
            "type": "scatter3d"
           }
          ],
          "scattercarpet": [
           {
            "marker": {
             "colorbar": {
              "outlinewidth": 0,
              "ticks": ""
             }
            },
            "type": "scattercarpet"
           }
          ],
          "scattergeo": [
           {
            "marker": {
             "colorbar": {
              "outlinewidth": 0,
              "ticks": ""
             }
            },
            "type": "scattergeo"
           }
          ],
          "scattergl": [
           {
            "marker": {
             "colorbar": {
              "outlinewidth": 0,
              "ticks": ""
             }
            },
            "type": "scattergl"
           }
          ],
          "scattermapbox": [
           {
            "marker": {
             "colorbar": {
              "outlinewidth": 0,
              "ticks": ""
             }
            },
            "type": "scattermapbox"
           }
          ],
          "scatterpolar": [
           {
            "marker": {
             "colorbar": {
              "outlinewidth": 0,
              "ticks": ""
             }
            },
            "type": "scatterpolar"
           }
          ],
          "scatterpolargl": [
           {
            "marker": {
             "colorbar": {
              "outlinewidth": 0,
              "ticks": ""
             }
            },
            "type": "scatterpolargl"
           }
          ],
          "scatterternary": [
           {
            "marker": {
             "colorbar": {
              "outlinewidth": 0,
              "ticks": ""
             }
            },
            "type": "scatterternary"
           }
          ],
          "surface": [
           {
            "colorbar": {
             "outlinewidth": 0,
             "ticks": ""
            },
            "colorscale": [
             [
              0,
              "#0d0887"
             ],
             [
              0.1111111111111111,
              "#46039f"
             ],
             [
              0.2222222222222222,
              "#7201a8"
             ],
             [
              0.3333333333333333,
              "#9c179e"
             ],
             [
              0.4444444444444444,
              "#bd3786"
             ],
             [
              0.5555555555555556,
              "#d8576b"
             ],
             [
              0.6666666666666666,
              "#ed7953"
             ],
             [
              0.7777777777777778,
              "#fb9f3a"
             ],
             [
              0.8888888888888888,
              "#fdca26"
             ],
             [
              1,
              "#f0f921"
             ]
            ],
            "type": "surface"
           }
          ],
          "table": [
           {
            "cells": {
             "fill": {
              "color": "#EBF0F8"
             },
             "line": {
              "color": "white"
             }
            },
            "header": {
             "fill": {
              "color": "#C8D4E3"
             },
             "line": {
              "color": "white"
             }
            },
            "type": "table"
           }
          ]
         },
         "layout": {
          "annotationdefaults": {
           "arrowcolor": "#2a3f5f",
           "arrowhead": 0,
           "arrowwidth": 1
          },
          "autotypenumbers": "strict",
          "coloraxis": {
           "colorbar": {
            "outlinewidth": 0,
            "ticks": ""
           }
          },
          "colorscale": {
           "diverging": [
            [
             0,
             "#8e0152"
            ],
            [
             0.1,
             "#c51b7d"
            ],
            [
             0.2,
             "#de77ae"
            ],
            [
             0.3,
             "#f1b6da"
            ],
            [
             0.4,
             "#fde0ef"
            ],
            [
             0.5,
             "#f7f7f7"
            ],
            [
             0.6,
             "#e6f5d0"
            ],
            [
             0.7,
             "#b8e186"
            ],
            [
             0.8,
             "#7fbc41"
            ],
            [
             0.9,
             "#4d9221"
            ],
            [
             1,
             "#276419"
            ]
           ],
           "sequential": [
            [
             0,
             "#0d0887"
            ],
            [
             0.1111111111111111,
             "#46039f"
            ],
            [
             0.2222222222222222,
             "#7201a8"
            ],
            [
             0.3333333333333333,
             "#9c179e"
            ],
            [
             0.4444444444444444,
             "#bd3786"
            ],
            [
             0.5555555555555556,
             "#d8576b"
            ],
            [
             0.6666666666666666,
             "#ed7953"
            ],
            [
             0.7777777777777778,
             "#fb9f3a"
            ],
            [
             0.8888888888888888,
             "#fdca26"
            ],
            [
             1,
             "#f0f921"
            ]
           ],
           "sequentialminus": [
            [
             0,
             "#0d0887"
            ],
            [
             0.1111111111111111,
             "#46039f"
            ],
            [
             0.2222222222222222,
             "#7201a8"
            ],
            [
             0.3333333333333333,
             "#9c179e"
            ],
            [
             0.4444444444444444,
             "#bd3786"
            ],
            [
             0.5555555555555556,
             "#d8576b"
            ],
            [
             0.6666666666666666,
             "#ed7953"
            ],
            [
             0.7777777777777778,
             "#fb9f3a"
            ],
            [
             0.8888888888888888,
             "#fdca26"
            ],
            [
             1,
             "#f0f921"
            ]
           ]
          },
          "colorway": [
           "#636efa",
           "#EF553B",
           "#00cc96",
           "#ab63fa",
           "#FFA15A",
           "#19d3f3",
           "#FF6692",
           "#B6E880",
           "#FF97FF",
           "#FECB52"
          ],
          "font": {
           "color": "#2a3f5f"
          },
          "geo": {
           "bgcolor": "white",
           "lakecolor": "white",
           "landcolor": "#E5ECF6",
           "showlakes": true,
           "showland": true,
           "subunitcolor": "white"
          },
          "hoverlabel": {
           "align": "left"
          },
          "hovermode": "closest",
          "mapbox": {
           "style": "light"
          },
          "paper_bgcolor": "white",
          "plot_bgcolor": "#E5ECF6",
          "polar": {
           "angularaxis": {
            "gridcolor": "white",
            "linecolor": "white",
            "ticks": ""
           },
           "bgcolor": "#E5ECF6",
           "radialaxis": {
            "gridcolor": "white",
            "linecolor": "white",
            "ticks": ""
           }
          },
          "scene": {
           "xaxis": {
            "backgroundcolor": "#E5ECF6",
            "gridcolor": "white",
            "gridwidth": 2,
            "linecolor": "white",
            "showbackground": true,
            "ticks": "",
            "zerolinecolor": "white"
           },
           "yaxis": {
            "backgroundcolor": "#E5ECF6",
            "gridcolor": "white",
            "gridwidth": 2,
            "linecolor": "white",
            "showbackground": true,
            "ticks": "",
            "zerolinecolor": "white"
           },
           "zaxis": {
            "backgroundcolor": "#E5ECF6",
            "gridcolor": "white",
            "gridwidth": 2,
            "linecolor": "white",
            "showbackground": true,
            "ticks": "",
            "zerolinecolor": "white"
           }
          },
          "shapedefaults": {
           "line": {
            "color": "#2a3f5f"
           }
          },
          "ternary": {
           "aaxis": {
            "gridcolor": "white",
            "linecolor": "white",
            "ticks": ""
           },
           "baxis": {
            "gridcolor": "white",
            "linecolor": "white",
            "ticks": ""
           },
           "bgcolor": "#E5ECF6",
           "caxis": {
            "gridcolor": "white",
            "linecolor": "white",
            "ticks": ""
           }
          },
          "title": {
           "x": 0.05
          },
          "xaxis": {
           "automargin": true,
           "gridcolor": "white",
           "linecolor": "white",
           "ticks": "",
           "title": {
            "standoff": 15
           },
           "zerolinecolor": "white",
           "zerolinewidth": 2
          },
          "yaxis": {
           "automargin": true,
           "gridcolor": "white",
           "linecolor": "white",
           "ticks": "",
           "title": {
            "standoff": 15
           },
           "zerolinecolor": "white",
           "zerolinewidth": 2
          }
         }
        },
        "title": {
         "text": "<b>Exercice Power flow 1 : Problème 1<b>",
         "x": 0.5,
         "xanchor": "center",
         "y": 0.97,
         "yanchor": "top"
        },
        "width": 680,
        "xaxis": {
         "showgrid": false,
         "showticklabels": false,
         "tickfont": {
          "family": "Arial Black",
          "size": 12
         },
         "title": {
          "font": {
           "size": 12
          }
         },
         "zeroline": false
        },
        "yaxis": {
         "showgrid": false,
         "showticklabels": false,
         "tickfont": {
          "family": "Arial Black",
          "size": 12
         },
         "title": {
          "font": {
           "size": 12
          }
         },
         "zeroline": false
        }
       }
      },
      "text/html": [
       "<div>                            <div id=\"49fd5ff5-2e35-4d6d-b7c3-097cc8d612f9\" class=\"plotly-graph-div\" style=\"height:400px; width:680px;\"></div>            <script type=\"text/javascript\">                require([\"plotly\"], function(Plotly) {                    window.PLOTLYENV=window.PLOTLYENV || {};                                    if (document.getElementById(\"49fd5ff5-2e35-4d6d-b7c3-097cc8d612f9\")) {                    Plotly.newPlot(                        \"49fd5ff5-2e35-4d6d-b7c3-097cc8d612f9\",                        [{\"hoverinfo\":\"text\",\"legendgroup\":\"lines\",\"line\":{\"color\":\"rgb(0, 0, 0)\",\"width\":3},\"mode\":\"lines\",\"name\":\"Lines\",\"showlegend\":true,\"text\":\"line_a\",\"x\":[0.864732143824462,0.8037953996404956,0.7428586554565294],\"y\":[-0.7953249239893944,-0.4149081565426613,-0.03449138909592816],\"type\":\"scatter\"},{\"hoverinfo\":\"text\",\"legendgroup\":\"lines\",\"line\":{\"color\":\"rgb(0, 0, 0)\",\"width\":3},\"mode\":\"lines\",\"name\":\"Lines\",\"showlegend\":false,\"text\":\"line_b\",\"x\":[0.7428586554565294,0.4548102095195367,0.16676176358254402],\"y\":[-0.03449138909592816,-0.251691917085301,-0.4688924450746738],\"type\":\"scatter\"},{\"hoverinfo\":\"text\",\"legendgroup\":\"lines\",\"line\":{\"color\":\"rgb(0, 0, 0)\",\"width\":3},\"mode\":\"lines\",\"name\":\"Lines\",\"showlegend\":false,\"text\":\"line_c\",\"x\":[0.864732143824462,0.515746953703503,0.16676176358254402],\"y\":[-0.7953249239893944,-0.6321086845320341,-0.4688924450746738],\"type\":\"scatter\"},{\"hoverinfo\":\"text\",\"legendgroup\":\"lines\",\"line\":{\"color\":\"rgb(0, 0, 0)\",\"width\":3},\"mode\":\"lines\",\"name\":\"Lines\",\"showlegend\":false,\"text\":\"line_d\",\"x\":[0.16676176358254402,0.10543830339042311,0.04411484319830219],\"y\":[-0.4688924450746738,-0.08796282001107544,0.2929668050525229],\"type\":\"scatter\"},{\"hoverinfo\":\"text\",\"legendgroup\":\"lines\",\"line\":{\"color\":\"rgb(0, 0, 0)\",\"width\":3},\"mode\":\"lines\",\"name\":\"Lines\",\"showlegend\":false,\"text\":\"line_e\",\"x\":[0.7428586554565294,0.3934867493274158,0.04411484319830219],\"y\":[-0.03449138909592816,0.1292377079782974,0.2929668050525229],\"type\":\"scatter\"},{\"hoverinfo\":\"text\",\"legendgroup\":\"lines\",\"marker\":{\"color\":\"rgb(0, 0, 0)\",\"size\":1,\"symbol\":\"circle\"},\"mode\":\"markers\",\"name\":\"edge_center\",\"showlegend\":false,\"x\":[0.8037953996404956],\"y\":[-0.4149081565426613],\"type\":\"scatter\"},{\"hoverinfo\":\"text\",\"legendgroup\":\"Transformers\",\"line\":{\"color\":\"rgb(0, 128, 0)\",\"width\":7},\"mode\":\"lines\",\"name\":\"Transformers\",\"showlegend\":true,\"text\":\"Transfo T1\\u003cbr\\u003e200.0 MVA\",\"x\":[0.04411484319830219,-0.18465400447251362,-0.4134228521433294],\"y\":[0.2929668050525229,0.5963570023987358,0.8997471997449487],\"type\":\"scatter\"},{\"hoverinfo\":\"text\",\"legendgroup\":\"Transformers\",\"marker\":{\"color\":\"rgb(0, 128, 0)\",\"size\":1,\"symbol\":\"circle\"},\"mode\":\"markers\",\"name\":\"edge_center\",\"showlegend\":false,\"text\":[\"Transfo T1\\u003cbr\\u003e200.0 MVA\"],\"x\":[-0.18465400447251362],\"y\":[0.5963570023987358],\"type\":\"scatter\"},{\"hoverinfo\":\"text\",\"marker\":{\"color\":\"rgb(191, 191, 0)\",\"size\":30,\"symbol\":\"square\"},\"mode\":\"markers\",\"name\":\"Ext grid\",\"text\":[\"Gen 1\"],\"x\":[0.864732143824462],\"y\":[-0.7953249239893944],\"type\":\"scatter\"},{\"hoverinfo\":\"text\",\"marker\":{\"color\":\"rgb(0, 0, 255)\",\"size\":20,\"symbol\":\"circle\"},\"mode\":\"markers\",\"name\":\"Zone HV\",\"text\":[\"bus_1\\u003cbr\\u003e400.0 kV\",\"bus_2\\u003cbr\\u003e400.0 kV\",\"bus_3\\u003cbr\\u003e400.0 kV\",\"bus_4\\u003cbr\\u003e400.0 kV\"],\"x\":[0.864732143824462,0.7428586554565294,0.16676176358254402,0.04411484319830219],\"y\":[-0.7953249239893944,-0.03449138909592816,-0.4688924450746738,0.2929668050525229],\"type\":\"scatter\"},{\"hoverinfo\":\"text\",\"marker\":{\"color\":\"rgb(0, 128, 0)\",\"size\":20,\"symbol\":\"circle\"},\"mode\":\"markers\",\"name\":\"Zone LV\",\"text\":[\"bus_5\\u003cbr\\u003e20.0 kV\"],\"x\":[-0.4134228521433294],\"y\":[0.8997471997449487],\"type\":\"scatter\"}],                        {\"hovermode\":\"closest\",\"legend\":{\"itemsizing\":\"constant\",\"font\":{\"size\":12}},\"margin\":{\"b\":5,\"l\":5,\"r\":5,\"t\":30},\"showlegend\":true,\"xaxis\":{\"showgrid\":false,\"showticklabels\":false,\"zeroline\":false,\"tickfont\":{\"size\":12,\"family\":\"Arial Black\"},\"title\":{\"font\":{\"size\":12}}},\"yaxis\":{\"showgrid\":false,\"showticklabels\":false,\"zeroline\":false,\"tickfont\":{\"size\":12,\"family\":\"Arial Black\"},\"title\":{\"font\":{\"size\":12}}},\"template\":{\"data\":{\"histogram2dcontour\":[{\"type\":\"histogram2dcontour\",\"colorbar\":{\"outlinewidth\":0,\"ticks\":\"\"},\"colorscale\":[[0.0,\"#0d0887\"],[0.1111111111111111,\"#46039f\"],[0.2222222222222222,\"#7201a8\"],[0.3333333333333333,\"#9c179e\"],[0.4444444444444444,\"#bd3786\"],[0.5555555555555556,\"#d8576b\"],[0.6666666666666666,\"#ed7953\"],[0.7777777777777778,\"#fb9f3a\"],[0.8888888888888888,\"#fdca26\"],[1.0,\"#f0f921\"]]}],\"choropleth\":[{\"type\":\"choropleth\",\"colorbar\":{\"outlinewidth\":0,\"ticks\":\"\"}}],\"histogram2d\":[{\"type\":\"histogram2d\",\"colorbar\":{\"outlinewidth\":0,\"ticks\":\"\"},\"colorscale\":[[0.0,\"#0d0887\"],[0.1111111111111111,\"#46039f\"],[0.2222222222222222,\"#7201a8\"],[0.3333333333333333,\"#9c179e\"],[0.4444444444444444,\"#bd3786\"],[0.5555555555555556,\"#d8576b\"],[0.6666666666666666,\"#ed7953\"],[0.7777777777777778,\"#fb9f3a\"],[0.8888888888888888,\"#fdca26\"],[1.0,\"#f0f921\"]]}],\"heatmap\":[{\"type\":\"heatmap\",\"colorbar\":{\"outlinewidth\":0,\"ticks\":\"\"},\"colorscale\":[[0.0,\"#0d0887\"],[0.1111111111111111,\"#46039f\"],[0.2222222222222222,\"#7201a8\"],[0.3333333333333333,\"#9c179e\"],[0.4444444444444444,\"#bd3786\"],[0.5555555555555556,\"#d8576b\"],[0.6666666666666666,\"#ed7953\"],[0.7777777777777778,\"#fb9f3a\"],[0.8888888888888888,\"#fdca26\"],[1.0,\"#f0f921\"]]}],\"heatmapgl\":[{\"type\":\"heatmapgl\",\"colorbar\":{\"outlinewidth\":0,\"ticks\":\"\"},\"colorscale\":[[0.0,\"#0d0887\"],[0.1111111111111111,\"#46039f\"],[0.2222222222222222,\"#7201a8\"],[0.3333333333333333,\"#9c179e\"],[0.4444444444444444,\"#bd3786\"],[0.5555555555555556,\"#d8576b\"],[0.6666666666666666,\"#ed7953\"],[0.7777777777777778,\"#fb9f3a\"],[0.8888888888888888,\"#fdca26\"],[1.0,\"#f0f921\"]]}],\"contourcarpet\":[{\"type\":\"contourcarpet\",\"colorbar\":{\"outlinewidth\":0,\"ticks\":\"\"}}],\"contour\":[{\"type\":\"contour\",\"colorbar\":{\"outlinewidth\":0,\"ticks\":\"\"},\"colorscale\":[[0.0,\"#0d0887\"],[0.1111111111111111,\"#46039f\"],[0.2222222222222222,\"#7201a8\"],[0.3333333333333333,\"#9c179e\"],[0.4444444444444444,\"#bd3786\"],[0.5555555555555556,\"#d8576b\"],[0.6666666666666666,\"#ed7953\"],[0.7777777777777778,\"#fb9f3a\"],[0.8888888888888888,\"#fdca26\"],[1.0,\"#f0f921\"]]}],\"surface\":[{\"type\":\"surface\",\"colorbar\":{\"outlinewidth\":0,\"ticks\":\"\"},\"colorscale\":[[0.0,\"#0d0887\"],[0.1111111111111111,\"#46039f\"],[0.2222222222222222,\"#7201a8\"],[0.3333333333333333,\"#9c179e\"],[0.4444444444444444,\"#bd3786\"],[0.5555555555555556,\"#d8576b\"],[0.6666666666666666,\"#ed7953\"],[0.7777777777777778,\"#fb9f3a\"],[0.8888888888888888,\"#fdca26\"],[1.0,\"#f0f921\"]]}],\"mesh3d\":[{\"type\":\"mesh3d\",\"colorbar\":{\"outlinewidth\":0,\"ticks\":\"\"}}],\"scatter\":[{\"fillpattern\":{\"fillmode\":\"overlay\",\"size\":10,\"solidity\":0.2},\"type\":\"scatter\"}],\"parcoords\":[{\"type\":\"parcoords\",\"line\":{\"colorbar\":{\"outlinewidth\":0,\"ticks\":\"\"}}}],\"scatterpolargl\":[{\"type\":\"scatterpolargl\",\"marker\":{\"colorbar\":{\"outlinewidth\":0,\"ticks\":\"\"}}}],\"bar\":[{\"error_x\":{\"color\":\"#2a3f5f\"},\"error_y\":{\"color\":\"#2a3f5f\"},\"marker\":{\"line\":{\"color\":\"#E5ECF6\",\"width\":0.5},\"pattern\":{\"fillmode\":\"overlay\",\"size\":10,\"solidity\":0.2}},\"type\":\"bar\"}],\"scattergeo\":[{\"type\":\"scattergeo\",\"marker\":{\"colorbar\":{\"outlinewidth\":0,\"ticks\":\"\"}}}],\"scatterpolar\":[{\"type\":\"scatterpolar\",\"marker\":{\"colorbar\":{\"outlinewidth\":0,\"ticks\":\"\"}}}],\"histogram\":[{\"marker\":{\"pattern\":{\"fillmode\":\"overlay\",\"size\":10,\"solidity\":0.2}},\"type\":\"histogram\"}],\"scattergl\":[{\"type\":\"scattergl\",\"marker\":{\"colorbar\":{\"outlinewidth\":0,\"ticks\":\"\"}}}],\"scatter3d\":[{\"type\":\"scatter3d\",\"line\":{\"colorbar\":{\"outlinewidth\":0,\"ticks\":\"\"}},\"marker\":{\"colorbar\":{\"outlinewidth\":0,\"ticks\":\"\"}}}],\"scattermapbox\":[{\"type\":\"scattermapbox\",\"marker\":{\"colorbar\":{\"outlinewidth\":0,\"ticks\":\"\"}}}],\"scatterternary\":[{\"type\":\"scatterternary\",\"marker\":{\"colorbar\":{\"outlinewidth\":0,\"ticks\":\"\"}}}],\"scattercarpet\":[{\"type\":\"scattercarpet\",\"marker\":{\"colorbar\":{\"outlinewidth\":0,\"ticks\":\"\"}}}],\"carpet\":[{\"aaxis\":{\"endlinecolor\":\"#2a3f5f\",\"gridcolor\":\"white\",\"linecolor\":\"white\",\"minorgridcolor\":\"white\",\"startlinecolor\":\"#2a3f5f\"},\"baxis\":{\"endlinecolor\":\"#2a3f5f\",\"gridcolor\":\"white\",\"linecolor\":\"white\",\"minorgridcolor\":\"white\",\"startlinecolor\":\"#2a3f5f\"},\"type\":\"carpet\"}],\"table\":[{\"cells\":{\"fill\":{\"color\":\"#EBF0F8\"},\"line\":{\"color\":\"white\"}},\"header\":{\"fill\":{\"color\":\"#C8D4E3\"},\"line\":{\"color\":\"white\"}},\"type\":\"table\"}],\"barpolar\":[{\"marker\":{\"line\":{\"color\":\"#E5ECF6\",\"width\":0.5},\"pattern\":{\"fillmode\":\"overlay\",\"size\":10,\"solidity\":0.2}},\"type\":\"barpolar\"}],\"pie\":[{\"automargin\":true,\"type\":\"pie\"}]},\"layout\":{\"autotypenumbers\":\"strict\",\"colorway\":[\"#636efa\",\"#EF553B\",\"#00cc96\",\"#ab63fa\",\"#FFA15A\",\"#19d3f3\",\"#FF6692\",\"#B6E880\",\"#FF97FF\",\"#FECB52\"],\"font\":{\"color\":\"#2a3f5f\"},\"hovermode\":\"closest\",\"hoverlabel\":{\"align\":\"left\"},\"paper_bgcolor\":\"white\",\"plot_bgcolor\":\"#E5ECF6\",\"polar\":{\"bgcolor\":\"#E5ECF6\",\"angularaxis\":{\"gridcolor\":\"white\",\"linecolor\":\"white\",\"ticks\":\"\"},\"radialaxis\":{\"gridcolor\":\"white\",\"linecolor\":\"white\",\"ticks\":\"\"}},\"ternary\":{\"bgcolor\":\"#E5ECF6\",\"aaxis\":{\"gridcolor\":\"white\",\"linecolor\":\"white\",\"ticks\":\"\"},\"baxis\":{\"gridcolor\":\"white\",\"linecolor\":\"white\",\"ticks\":\"\"},\"caxis\":{\"gridcolor\":\"white\",\"linecolor\":\"white\",\"ticks\":\"\"}},\"coloraxis\":{\"colorbar\":{\"outlinewidth\":0,\"ticks\":\"\"}},\"colorscale\":{\"sequential\":[[0.0,\"#0d0887\"],[0.1111111111111111,\"#46039f\"],[0.2222222222222222,\"#7201a8\"],[0.3333333333333333,\"#9c179e\"],[0.4444444444444444,\"#bd3786\"],[0.5555555555555556,\"#d8576b\"],[0.6666666666666666,\"#ed7953\"],[0.7777777777777778,\"#fb9f3a\"],[0.8888888888888888,\"#fdca26\"],[1.0,\"#f0f921\"]],\"sequentialminus\":[[0.0,\"#0d0887\"],[0.1111111111111111,\"#46039f\"],[0.2222222222222222,\"#7201a8\"],[0.3333333333333333,\"#9c179e\"],[0.4444444444444444,\"#bd3786\"],[0.5555555555555556,\"#d8576b\"],[0.6666666666666666,\"#ed7953\"],[0.7777777777777778,\"#fb9f3a\"],[0.8888888888888888,\"#fdca26\"],[1.0,\"#f0f921\"]],\"diverging\":[[0,\"#8e0152\"],[0.1,\"#c51b7d\"],[0.2,\"#de77ae\"],[0.3,\"#f1b6da\"],[0.4,\"#fde0ef\"],[0.5,\"#f7f7f7\"],[0.6,\"#e6f5d0\"],[0.7,\"#b8e186\"],[0.8,\"#7fbc41\"],[0.9,\"#4d9221\"],[1,\"#276419\"]]},\"xaxis\":{\"gridcolor\":\"white\",\"linecolor\":\"white\",\"ticks\":\"\",\"title\":{\"standoff\":15},\"zerolinecolor\":\"white\",\"automargin\":true,\"zerolinewidth\":2},\"yaxis\":{\"gridcolor\":\"white\",\"linecolor\":\"white\",\"ticks\":\"\",\"title\":{\"standoff\":15},\"zerolinecolor\":\"white\",\"automargin\":true,\"zerolinewidth\":2},\"scene\":{\"xaxis\":{\"backgroundcolor\":\"#E5ECF6\",\"gridcolor\":\"white\",\"linecolor\":\"white\",\"showbackground\":true,\"ticks\":\"\",\"zerolinecolor\":\"white\",\"gridwidth\":2},\"yaxis\":{\"backgroundcolor\":\"#E5ECF6\",\"gridcolor\":\"white\",\"linecolor\":\"white\",\"showbackground\":true,\"ticks\":\"\",\"zerolinecolor\":\"white\",\"gridwidth\":2},\"zaxis\":{\"backgroundcolor\":\"#E5ECF6\",\"gridcolor\":\"white\",\"linecolor\":\"white\",\"showbackground\":true,\"ticks\":\"\",\"zerolinecolor\":\"white\",\"gridwidth\":2}},\"shapedefaults\":{\"line\":{\"color\":\"#2a3f5f\"}},\"annotationdefaults\":{\"arrowcolor\":\"#2a3f5f\",\"arrowhead\":0,\"arrowwidth\":1},\"geo\":{\"bgcolor\":\"white\",\"landcolor\":\"#E5ECF6\",\"subunitcolor\":\"white\",\"showland\":true,\"showlakes\":true,\"lakecolor\":\"white\"},\"title\":{\"x\":0.05},\"mapbox\":{\"style\":\"light\"}}},\"font\":{\"size\":15},\"paper_bgcolor\":\"white\",\"plot_bgcolor\":\"white\",\"width\":680,\"height\":400,\"title\":{\"text\":\"\\u003cb\\u003eExercice Power flow 1 : Problème 1\\u003cb\\u003e\",\"y\":0.97,\"x\":0.5,\"xanchor\":\"center\",\"yanchor\":\"top\"}},                        {\"responsive\": true}                    ).then(function(){\n",
       "                            \n",
       "var gd = document.getElementById('49fd5ff5-2e35-4d6d-b7c3-097cc8d612f9');\n",
       "var x = new MutationObserver(function (mutations, observer) {{\n",
       "        var display = window.getComputedStyle(gd).display;\n",
       "        if (!display || display === 'none') {{\n",
       "            console.log([gd, 'removed!']);\n",
       "            Plotly.purge(gd);\n",
       "            observer.disconnect();\n",
       "        }}\n",
       "}});\n",
       "\n",
       "// Listen for the removal of the full notebook cells\n",
       "var notebookContainer = gd.closest('#notebook-container');\n",
       "if (notebookContainer) {{\n",
       "    x.observe(notebookContainer, {childList: true});\n",
       "}}\n",
       "\n",
       "// Listen for the clearing of the current output cell\n",
       "var outputEl = gd.closest('.output');\n",
       "if (outputEl) {{\n",
       "    x.observe(outputEl, {childList: true});\n",
       "}}\n",
       "\n",
       "                        })                };                });            </script>        </div>"
      ]
     },
     "metadata": {},
     "output_type": "display_data"
    }
   ],
   "source": [
    "pp_plot.plot_power_network(\n",
    "    net=net_ExPF1_Pb1_heig,\n",
    "    plot_title=\"Exercice Power flow 1 : Problème 1\",\n",
    "    filename=\"net_ex_pf_1_pb_1_grid_example\",\n",
    ")"
   ]
  },
  {
   "cell_type": "markdown",
   "metadata": {},
   "source": [
    "And simulate the powerflow"
   ]
  },
  {
   "cell_type": "code",
   "execution_count": 656,
   "metadata": {},
   "outputs": [
    {
     "data": {
      "text/html": [
       "<div>\n",
       "<style scoped>\n",
       "    .dataframe tbody tr th:only-of-type {\n",
       "        vertical-align: middle;\n",
       "    }\n",
       "\n",
       "    .dataframe tbody tr th {\n",
       "        vertical-align: top;\n",
       "    }\n",
       "\n",
       "    .dataframe thead th {\n",
       "        text-align: right;\n",
       "    }\n",
       "</style>\n",
       "<table border=\"1\" class=\"dataframe\">\n",
       "  <thead>\n",
       "    <tr style=\"text-align: right;\">\n",
       "      <th></th>\n",
       "      <th>name</th>\n",
       "      <th>bus</th>\n",
       "      <th>p_mw</th>\n",
       "      <th>q_mvar</th>\n",
       "      <th>scaling</th>\n",
       "      <th>profile_mapping</th>\n",
       "      <th>const_z_percent</th>\n",
       "      <th>const_i_percent</th>\n",
       "      <th>sn_mva</th>\n",
       "      <th>in_service</th>\n",
       "      <th>type</th>\n",
       "    </tr>\n",
       "  </thead>\n",
       "  <tbody>\n",
       "    <tr>\n",
       "      <th>0</th>\n",
       "      <td>load_2</td>\n",
       "      <td>1</td>\n",
       "      <td>100.0</td>\n",
       "      <td>20.0</td>\n",
       "      <td>1.0</td>\n",
       "      <td>1</td>\n",
       "      <td>0.0</td>\n",
       "      <td>0.0</td>\n",
       "      <td>None</td>\n",
       "      <td>True</td>\n",
       "      <td>wye</td>\n",
       "    </tr>\n",
       "    <tr>\n",
       "      <th>1</th>\n",
       "      <td>load_3</td>\n",
       "      <td>2</td>\n",
       "      <td>200.0</td>\n",
       "      <td>80.0</td>\n",
       "      <td>1.0</td>\n",
       "      <td>2</td>\n",
       "      <td>0.0</td>\n",
       "      <td>0.0</td>\n",
       "      <td>None</td>\n",
       "      <td>True</td>\n",
       "      <td>wye</td>\n",
       "    </tr>\n",
       "  </tbody>\n",
       "</table>\n",
       "</div>"
      ],
      "text/plain": [
       "     name  bus   p_mw  q_mvar  scaling  profile_mapping  const_z_percent  \\\n",
       "0  load_2    1  100.0    20.0      1.0                1              0.0   \n",
       "1  load_3    2  200.0    80.0      1.0                2              0.0   \n",
       "\n",
       "   const_i_percent sn_mva  in_service type  \n",
       "0              0.0   None        True  wye  \n",
       "1              0.0   None        True  wye  "
      ]
     },
     "execution_count": 656,
     "metadata": {},
     "output_type": "execute_result"
    }
   ],
   "source": [
    "net_ExPF1_Pb1_heig.load"
   ]
  },
  {
   "cell_type": "code",
   "execution_count": 657,
   "metadata": {},
   "outputs": [
    {
     "name": "stderr",
     "output_type": "stream",
     "text": [
      "2025-10-27 12:48:03 B01BPC14 pandapower.diagnostic_reports[125304] WARNING \n",
      "\n",
      "_____________ PANDAPOWER DIAGNOSTIC TOOL _____________ \n",
      "\n",
      "2025-10-27 12:48:03 B01BPC14 pandapower.diagnostic_reports[125304] INFO Checking for missing bus indices...\n",
      "2025-10-27 12:48:03 B01BPC14 pandapower.diagnostic_reports[125304] INFO \n",
      "2025-10-27 12:48:03 B01BPC14 pandapower.diagnostic_reports[125304] INFO PASSED: No missing bus indices found.\n",
      "2025-10-27 12:48:03 B01BPC14 pandapower.diagnostic_reports[125304] WARNING \n",
      " --------\n",
      "\n",
      "2025-10-27 12:48:03 B01BPC14 pandapower.diagnostic_reports[125304] INFO PASSED: No problematic switches found\n",
      "2025-10-27 12:48:03 B01BPC14 pandapower.diagnostic_reports[125304] WARNING \n",
      " --------\n",
      "\n",
      "2025-10-27 12:48:03 B01BPC14 pandapower.diagnostic_reports[125304] INFO PASSED: No connection of different voltage levels found\n",
      "2025-10-27 12:48:03 B01BPC14 pandapower.diagnostic_reports[125304] WARNING \n",
      " --------\n",
      "\n",
      "2025-10-27 12:48:03 B01BPC14 pandapower.diagnostic_reports[125304] INFO PASSED: No elements with impedance values close to zero found...\n",
      "2025-10-27 12:48:03 B01BPC14 pandapower.diagnostic_reports[125304] WARNING \n",
      " --------\n",
      "\n",
      "2025-10-27 12:48:03 B01BPC14 pandapower.diagnostic_reports[125304] INFO PASSED: No components with deviating nominal voltages found\n",
      "2025-10-27 12:48:03 B01BPC14 pandapower.diagnostic_reports[125304] WARNING \n",
      " --------\n",
      "\n",
      "2025-10-27 12:48:03 B01BPC14 pandapower.diagnostic_reports[125304] INFO PASSED: No invalid values found\n",
      "2025-10-27 12:48:03 B01BPC14 pandapower.diagnostic_reports[125304] WARNING \n",
      " --------\n",
      "\n",
      "2025-10-27 12:48:03 B01BPC14 pandapower.diagnostic_reports[125304] INFO PASSED: Power flow converges. No overload found.\n",
      "2025-10-27 12:48:03 B01BPC14 pandapower.diagnostic_reports[125304] WARNING \n",
      " --------\n",
      "\n",
      "2025-10-27 12:48:03 B01BPC14 pandapower.diagnostic_reports[125304] INFO PASSED: No buses with multiple gens and/or ext_grids found.\n",
      "2025-10-27 12:48:03 B01BPC14 pandapower.diagnostic_reports[125304] WARNING \n",
      " --------\n",
      "\n",
      "2025-10-27 12:48:03 B01BPC14 pandapower.diagnostic_reports[125304] INFO PASSED: Power flow converges. Switch configuration seems ok.\n",
      "2025-10-27 12:48:03 B01BPC14 pandapower.diagnostic_reports[125304] WARNING \n",
      " --------\n",
      "\n",
      "2025-10-27 12:48:03 B01BPC14 pandapower.diagnostic_reports[125304] INFO PASSED: External grid found.\n",
      "2025-10-27 12:48:03 B01BPC14 pandapower.diagnostic_reports[125304] WARNING \n",
      " --------\n",
      "\n",
      "2025-10-27 12:48:03 B01BPC14 pandapower.diagnostic_reports[125304] INFO PASSED: correct reference system\n",
      "2025-10-27 12:48:03 B01BPC14 pandapower.diagnostic_reports[125304] WARNING \n",
      " --------\n",
      "\n",
      "2025-10-27 12:48:03 B01BPC14 pandapower.diagnostic_reports[125304] INFO PASSED: No elements with deviations from std_type found.\n",
      "2025-10-27 12:48:03 B01BPC14 pandapower.diagnostic_reports[125304] WARNING \n",
      " --------\n",
      "\n",
      "2025-10-27 12:48:03 B01BPC14 pandapower.diagnostic_reports[125304] INFO PASSED: No results with deviations between numba = True vs. False found.\n",
      "2025-10-27 12:48:03 B01BPC14 pandapower.diagnostic_reports[125304] WARNING \n",
      " --------\n",
      "\n",
      "2025-10-27 12:48:03 B01BPC14 pandapower.diagnostic_reports[125304] INFO PASSED: No parallel switches found.\n",
      "2025-10-27 12:48:03 B01BPC14 pandapower.diagnostic_reports[125304] WARNING \n",
      " --------\n",
      "\n",
      "2025-10-27 12:48:03 B01BPC14 pandapower.diagnostic_reports[125304] WARNING _____________ END OF PANDAPOWER DIAGNOSTIC _____________ \n"
     ]
    },
    {
     "data": {
      "text/plain": [
       "{}"
      ]
     },
     "execution_count": 657,
     "metadata": {},
     "output_type": "execute_result"
    }
   ],
   "source": [
    "pp.diagnostic(net_ExPF1_Pb1_heig)"
   ]
  },
  {
   "cell_type": "code",
   "execution_count": 658,
   "metadata": {},
   "outputs": [],
   "source": [
    "pp.runpp(net_ExPF1_Pb1_heig)"
   ]
  },
  {
   "cell_type": "code",
   "execution_count": 659,
   "metadata": {},
   "outputs": [
    {
     "data": {
      "text/plain": [
       "pandapower.auxiliary.pandapowerNet"
      ]
     },
     "execution_count": 659,
     "metadata": {},
     "output_type": "execute_result"
    }
   ],
   "source": [
    "type(net_ExPF1_Pb1_heig)"
   ]
  },
  {
   "cell_type": "code",
   "execution_count": 660,
   "metadata": {},
   "outputs": [
    {
     "data": {
      "text/html": [
       "<div>\n",
       "<style scoped>\n",
       "    .dataframe tbody tr th:only-of-type {\n",
       "        vertical-align: middle;\n",
       "    }\n",
       "\n",
       "    .dataframe tbody tr th {\n",
       "        vertical-align: top;\n",
       "    }\n",
       "\n",
       "    .dataframe thead th {\n",
       "        text-align: right;\n",
       "    }\n",
       "</style>\n",
       "<table border=\"1\" class=\"dataframe\">\n",
       "  <thead>\n",
       "    <tr style=\"text-align: right;\">\n",
       "      <th></th>\n",
       "      <th>p_from_mw</th>\n",
       "      <th>q_from_mvar</th>\n",
       "      <th>p_to_mw</th>\n",
       "      <th>q_to_mvar</th>\n",
       "      <th>pl_mw</th>\n",
       "      <th>ql_mvar</th>\n",
       "      <th>i_from_ka</th>\n",
       "      <th>i_to_ka</th>\n",
       "      <th>i_ka</th>\n",
       "      <th>vm_from_pu</th>\n",
       "      <th>va_from_degree</th>\n",
       "      <th>vm_to_pu</th>\n",
       "      <th>va_to_degree</th>\n",
       "      <th>loading_percent</th>\n",
       "    </tr>\n",
       "  </thead>\n",
       "  <tbody>\n",
       "    <tr>\n",
       "      <th>0</th>\n",
       "      <td>-4.235095</td>\n",
       "      <td>-24.612543</td>\n",
       "      <td>4.359453</td>\n",
       "      <td>25.773998</td>\n",
       "      <td>0.124358</td>\n",
       "      <td>1.161455</td>\n",
       "      <td>0.036047</td>\n",
       "      <td>0.035933</td>\n",
       "      <td>0.036047</td>\n",
       "      <td>1.000000</td>\n",
       "      <td>0.000000</td>\n",
       "      <td>1.050000</td>\n",
       "      <td>0.194014</td>\n",
       "      <td>3.604723</td>\n",
       "    </tr>\n",
       "    <tr>\n",
       "      <th>1</th>\n",
       "      <td>65.903848</td>\n",
       "      <td>71.868286</td>\n",
       "      <td>-64.177851</td>\n",
       "      <td>-37.416379</td>\n",
       "      <td>1.725997</td>\n",
       "      <td>34.451907</td>\n",
       "      <td>0.134043</td>\n",
       "      <td>0.134109</td>\n",
       "      <td>0.134109</td>\n",
       "      <td>1.050000</td>\n",
       "      <td>0.194014</td>\n",
       "      <td>0.799545</td>\n",
       "      <td>-17.075981</td>\n",
       "      <td>13.410901</td>\n",
       "    </tr>\n",
       "    <tr>\n",
       "      <th>2</th>\n",
       "      <td>61.487096</td>\n",
       "      <td>55.772955</td>\n",
       "      <td>-60.107095</td>\n",
       "      <td>-28.300999</td>\n",
       "      <td>1.380001</td>\n",
       "      <td>27.471956</td>\n",
       "      <td>0.119820</td>\n",
       "      <td>0.119934</td>\n",
       "      <td>0.119934</td>\n",
       "      <td>1.000000</td>\n",
       "      <td>0.000000</td>\n",
       "      <td>0.799545</td>\n",
       "      <td>-17.075981</td>\n",
       "      <td>11.993422</td>\n",
       "    </tr>\n",
       "    <tr>\n",
       "      <th>3</th>\n",
       "      <td>-75.715055</td>\n",
       "      <td>-14.282622</td>\n",
       "      <td>79.428862</td>\n",
       "      <td>51.295461</td>\n",
       "      <td>3.713808</td>\n",
       "      <td>37.012840</td>\n",
       "      <td>0.139095</td>\n",
       "      <td>0.139018</td>\n",
       "      <td>0.139095</td>\n",
       "      <td>0.799545</td>\n",
       "      <td>-17.075981</td>\n",
       "      <td>0.981705</td>\n",
       "      <td>5.170810</td>\n",
       "      <td>13.909489</td>\n",
       "    </tr>\n",
       "    <tr>\n",
       "      <th>4</th>\n",
       "      <td>-20.263301</td>\n",
       "      <td>20.839282</td>\n",
       "      <td>20.571138</td>\n",
       "      <td>-17.922343</td>\n",
       "      <td>0.307837</td>\n",
       "      <td>2.916940</td>\n",
       "      <td>0.039956</td>\n",
       "      <td>0.040114</td>\n",
       "      <td>0.040114</td>\n",
       "      <td>1.050000</td>\n",
       "      <td>0.194014</td>\n",
       "      <td>0.981705</td>\n",
       "      <td>5.170810</td>\n",
       "      <td>4.011405</td>\n",
       "    </tr>\n",
       "  </tbody>\n",
       "</table>\n",
       "</div>"
      ],
      "text/plain": [
       "   p_from_mw  q_from_mvar    p_to_mw  q_to_mvar     pl_mw    ql_mvar  \\\n",
       "0  -4.235095   -24.612543   4.359453  25.773998  0.124358   1.161455   \n",
       "1  65.903848    71.868286 -64.177851 -37.416379  1.725997  34.451907   \n",
       "2  61.487096    55.772955 -60.107095 -28.300999  1.380001  27.471956   \n",
       "3 -75.715055   -14.282622  79.428862  51.295461  3.713808  37.012840   \n",
       "4 -20.263301    20.839282  20.571138 -17.922343  0.307837   2.916940   \n",
       "\n",
       "   i_from_ka   i_to_ka      i_ka  vm_from_pu  va_from_degree  vm_to_pu  \\\n",
       "0   0.036047  0.035933  0.036047    1.000000        0.000000  1.050000   \n",
       "1   0.134043  0.134109  0.134109    1.050000        0.194014  0.799545   \n",
       "2   0.119820  0.119934  0.119934    1.000000        0.000000  0.799545   \n",
       "3   0.139095  0.139018  0.139095    0.799545      -17.075981  0.981705   \n",
       "4   0.039956  0.040114  0.040114    1.050000        0.194014  0.981705   \n",
       "\n",
       "   va_to_degree  loading_percent  \n",
       "0      0.194014         3.604723  \n",
       "1    -17.075981        13.410901  \n",
       "2    -17.075981        11.993422  \n",
       "3      5.170810        13.909489  \n",
       "4      5.170810         4.011405  "
      ]
     },
     "execution_count": 660,
     "metadata": {},
     "output_type": "execute_result"
    }
   ],
   "source": [
    "net_ExPF1_Pb1_heig.res_line"
   ]
  },
  {
   "cell_type": "code",
   "execution_count": 661,
   "metadata": {},
   "outputs": [
    {
     "data": {
      "text/html": [
       "<div>\n",
       "<style scoped>\n",
       "    .dataframe tbody tr th:only-of-type {\n",
       "        vertical-align: middle;\n",
       "    }\n",
       "\n",
       "    .dataframe tbody tr th {\n",
       "        vertical-align: top;\n",
       "    }\n",
       "\n",
       "    .dataframe thead th {\n",
       "        text-align: right;\n",
       "    }\n",
       "</style>\n",
       "<table border=\"1\" class=\"dataframe\">\n",
       "  <thead>\n",
       "    <tr style=\"text-align: right;\">\n",
       "      <th></th>\n",
       "      <th>p_from_mw</th>\n",
       "      <th>q_from_mvar</th>\n",
       "      <th>p_to_mw</th>\n",
       "      <th>q_to_mvar</th>\n",
       "      <th>pl_mw</th>\n",
       "      <th>ql_mvar</th>\n",
       "      <th>i_from_ka</th>\n",
       "      <th>i_to_ka</th>\n",
       "      <th>i_ka</th>\n",
       "      <th>vm_from_pu</th>\n",
       "      <th>va_from_degree</th>\n",
       "      <th>vm_to_pu</th>\n",
       "      <th>va_to_degree</th>\n",
       "      <th>loading_percent</th>\n",
       "    </tr>\n",
       "  </thead>\n",
       "  <tbody>\n",
       "    <tr>\n",
       "      <th>0</th>\n",
       "      <td>-4.235095</td>\n",
       "      <td>-24.612543</td>\n",
       "      <td>4.359453</td>\n",
       "      <td>25.773998</td>\n",
       "      <td>0.124358</td>\n",
       "      <td>1.161455</td>\n",
       "      <td>0.036047</td>\n",
       "      <td>0.035933</td>\n",
       "      <td>0.036047</td>\n",
       "      <td>1.000000</td>\n",
       "      <td>0.000000</td>\n",
       "      <td>1.050000</td>\n",
       "      <td>0.194014</td>\n",
       "      <td>3.604723</td>\n",
       "    </tr>\n",
       "    <tr>\n",
       "      <th>1</th>\n",
       "      <td>65.903848</td>\n",
       "      <td>71.868286</td>\n",
       "      <td>-64.177851</td>\n",
       "      <td>-37.416379</td>\n",
       "      <td>1.725997</td>\n",
       "      <td>34.451907</td>\n",
       "      <td>0.134043</td>\n",
       "      <td>0.134109</td>\n",
       "      <td>0.134109</td>\n",
       "      <td>1.050000</td>\n",
       "      <td>0.194014</td>\n",
       "      <td>0.799545</td>\n",
       "      <td>-17.075981</td>\n",
       "      <td>13.410901</td>\n",
       "    </tr>\n",
       "    <tr>\n",
       "      <th>2</th>\n",
       "      <td>61.487096</td>\n",
       "      <td>55.772955</td>\n",
       "      <td>-60.107095</td>\n",
       "      <td>-28.300999</td>\n",
       "      <td>1.380001</td>\n",
       "      <td>27.471956</td>\n",
       "      <td>0.119820</td>\n",
       "      <td>0.119934</td>\n",
       "      <td>0.119934</td>\n",
       "      <td>1.000000</td>\n",
       "      <td>0.000000</td>\n",
       "      <td>0.799545</td>\n",
       "      <td>-17.075981</td>\n",
       "      <td>11.993422</td>\n",
       "    </tr>\n",
       "    <tr>\n",
       "      <th>3</th>\n",
       "      <td>-75.715055</td>\n",
       "      <td>-14.282622</td>\n",
       "      <td>79.428862</td>\n",
       "      <td>51.295461</td>\n",
       "      <td>3.713808</td>\n",
       "      <td>37.012840</td>\n",
       "      <td>0.139095</td>\n",
       "      <td>0.139018</td>\n",
       "      <td>0.139095</td>\n",
       "      <td>0.799545</td>\n",
       "      <td>-17.075981</td>\n",
       "      <td>0.981705</td>\n",
       "      <td>5.170810</td>\n",
       "      <td>13.909489</td>\n",
       "    </tr>\n",
       "    <tr>\n",
       "      <th>4</th>\n",
       "      <td>-20.263301</td>\n",
       "      <td>20.839282</td>\n",
       "      <td>20.571138</td>\n",
       "      <td>-17.922343</td>\n",
       "      <td>0.307837</td>\n",
       "      <td>2.916940</td>\n",
       "      <td>0.039956</td>\n",
       "      <td>0.040114</td>\n",
       "      <td>0.040114</td>\n",
       "      <td>1.050000</td>\n",
       "      <td>0.194014</td>\n",
       "      <td>0.981705</td>\n",
       "      <td>5.170810</td>\n",
       "      <td>4.011405</td>\n",
       "    </tr>\n",
       "  </tbody>\n",
       "</table>\n",
       "</div>"
      ],
      "text/plain": [
       "   p_from_mw  q_from_mvar    p_to_mw  q_to_mvar     pl_mw    ql_mvar  \\\n",
       "0  -4.235095   -24.612543   4.359453  25.773998  0.124358   1.161455   \n",
       "1  65.903848    71.868286 -64.177851 -37.416379  1.725997  34.451907   \n",
       "2  61.487096    55.772955 -60.107095 -28.300999  1.380001  27.471956   \n",
       "3 -75.715055   -14.282622  79.428862  51.295461  3.713808  37.012840   \n",
       "4 -20.263301    20.839282  20.571138 -17.922343  0.307837   2.916940   \n",
       "\n",
       "   i_from_ka   i_to_ka      i_ka  vm_from_pu  va_from_degree  vm_to_pu  \\\n",
       "0   0.036047  0.035933  0.036047    1.000000        0.000000  1.050000   \n",
       "1   0.134043  0.134109  0.134109    1.050000        0.194014  0.799545   \n",
       "2   0.119820  0.119934  0.119934    1.000000        0.000000  0.799545   \n",
       "3   0.139095  0.139018  0.139095    0.799545      -17.075981  0.981705   \n",
       "4   0.039956  0.040114  0.040114    1.050000        0.194014  0.981705   \n",
       "\n",
       "   va_to_degree  loading_percent  \n",
       "0      0.194014         3.604723  \n",
       "1    -17.075981        13.410901  \n",
       "2    -17.075981        11.993422  \n",
       "3      5.170810        13.909489  \n",
       "4      5.170810         4.011405  "
      ]
     },
     "execution_count": 661,
     "metadata": {},
     "output_type": "execute_result"
    }
   ],
   "source": [
    "net_ExPF1_Pb1.res_line"
   ]
  },
  {
   "cell_type": "markdown",
   "metadata": {},
   "source": [
    "Check the result between the two methods :"
   ]
  },
  {
   "cell_type": "code",
   "execution_count": 662,
   "metadata": {},
   "outputs": [],
   "source": [
    "result_res_line = net_ExPF1_Pb1_heig.res_line - net_ExPF1_Pb1.res_line\n",
    "result_res_bus = net_ExPF1_Pb1_heig.res_bus - net_ExPF1_Pb1.res_bus\n",
    "result_res_trafo = net_ExPF1_Pb1_heig.res_trafo - net_ExPF1_Pb1.res_trafo\n",
    "result_res_ext_grid = net_ExPF1_Pb1_heig.res_ext_grid - net_ExPF1_Pb1.res_ext_grid\n",
    "result_res_load = net_ExPF1_Pb1_heig.res_load - net_ExPF1_Pb1.res_load\n",
    "result_res_gen = net_ExPF1_Pb1_heig.res_gen - net_ExPF1_Pb1.res_gen"
   ]
  },
  {
   "cell_type": "code",
   "execution_count": 663,
   "metadata": {},
   "outputs": [
    {
     "name": "stdout",
     "output_type": "stream",
     "text": [
      "Line result :\n",
      "    p_from_mw  q_from_mvar  p_to_mw  q_to_mvar  pl_mw  ql_mvar  i_from_ka  \\\n",
      "0        0.0         -0.0     -0.0        0.0   -0.0     -0.0        0.0   \n",
      "1        0.0          0.0     -0.0       -0.0    0.0     -0.0        0.0   \n",
      "2        0.0          0.0     -0.0        0.0    0.0      0.0        0.0   \n",
      "3        0.0          0.0     -0.0       -0.0    0.0     -0.0       -0.0   \n",
      "4        0.0         -0.0     -0.0        0.0    0.0     -0.0       -0.0   \n",
      "\n",
      "   i_to_ka  i_ka  vm_from_pu  va_from_degree  vm_to_pu  va_to_degree  \\\n",
      "0     -0.0   0.0         0.0             0.0       0.0          -0.0   \n",
      "1      0.0   0.0         0.0            -0.0       0.0           0.0   \n",
      "2     -0.0  -0.0         0.0             0.0       0.0           0.0   \n",
      "3     -0.0  -0.0         0.0             0.0       0.0          -0.0   \n",
      "4     -0.0  -0.0         0.0            -0.0       0.0          -0.0   \n",
      "\n",
      "   loading_percent  \n",
      "0              0.0  \n",
      "1              0.0  \n",
      "2              0.0  \n",
      "3             -0.0  \n",
      "4             -0.0  \n",
      "Bus result :\n",
      "    vm_pu  va_degree  p_mw  q_mvar\n",
      "0    0.0        0.0  -0.0     0.0\n",
      "1    0.0       -0.0   0.0     0.0\n",
      "2    0.0        0.0   0.0     0.0\n",
      "3    0.0       -0.0   0.0     0.0\n",
      "4    0.0       -0.0   0.0    -0.0\n",
      "Trafo result :\n",
      "    p_hv_mw  q_hv_mvar  p_lv_mw  q_lv_mvar  pl_mw  ql_mvar  i_hv_ka  i_lv_ka  \\\n",
      "0      0.0       -0.0     -0.0        0.0   -0.0      0.0      0.0      0.0   \n",
      "\n",
      "   vm_hv_pu  va_hv_degree  vm_lv_pu  va_lv_degree  loading_percent  \n",
      "0       0.0          -0.0       0.0          -0.0              0.0  \n",
      "Ext grid result :\n",
      "    p_mw  q_mvar\n",
      "0   0.0    -0.0\n"
     ]
    }
   ],
   "source": [
    "print(\"Line result :\\n\", result_res_line.round(10))\n",
    "print(\"Bus result :\\n\", result_res_bus.round(10))\n",
    "print(\"Trafo result :\\n\", result_res_trafo.round(10))\n",
    "print(\"Ext grid result :\\n\", result_res_ext_grid.round(10))"
   ]
  },
  {
   "cell_type": "code",
   "execution_count": 664,
   "metadata": {},
   "outputs": [
    {
     "name": "stdout",
     "output_type": "stream",
     "text": [
      "Load result :\n",
      "    p_mw  q_mvar\n",
      "0   0.0     0.0\n",
      "1   0.0     0.0\n",
      "Gen result :\n",
      "    p_mw  q_mvar  va_degree  vm_pu\n",
      "0   0.0    -0.0       -0.0    0.0\n",
      "1   0.0     0.0       -0.0    0.0\n"
     ]
    }
   ],
   "source": [
    "print(\"Load result :\\n\", result_res_load.round(10))\n",
    "print(\"Gen result :\\n\", result_res_gen.round(10))"
   ]
  },
  {
   "cell_type": "code",
   "execution_count": 665,
   "metadata": {},
   "outputs": [
    {
     "data": {
      "application/vnd.plotly.v1+json": {
       "config": {
        "plotlyServerURL": "https://plot.ly"
       },
       "data": [
        {
         "hoverinfo": "text",
         "legendgroup": "Transformers",
         "line": {
          "color": "rgb(154.03225806451613,255.0,92.74193548387096)",
          "width": 7
         },
         "mode": "lines",
         "name": "Transformers",
         "showlegend": true,
         "text": "Transfo T1<br>Loading: 53.7 %",
         "type": "scatter",
         "x": [
          0.04411484319830219,
          -0.18465400447251362,
          -0.4134228521433294
         ],
         "y": [
          0.2929668050525229,
          0.5963570023987358,
          0.8997471997449487
         ]
        },
        {
         "hoverinfo": "text",
         "legendgroup": "Transformers",
         "marker": {
          "color": "rgb(154.03225806451613,255.0,92.74193548387096)",
          "size": 1,
          "symbol": "circle"
         },
         "mode": "markers",
         "name": "edge_center",
         "showlegend": false,
         "text": [
          "Transfo T1<br>Loading: 53.7 %"
         ],
         "type": "scatter",
         "x": [
          -0.18465400447251362
         ],
         "y": [
          0.5963570023987358
         ]
        },
        {
         "hoverinfo": "text",
         "legendgroup": "lines",
         "line": {
          "color": "rgb(0.0,0.0,168.4090909090909)",
          "width": 3
         },
         "mode": "lines",
         "name": "lines",
         "showlegend": true,
         "text": "line_a<br>Loading: 3.6 %",
         "type": "scatter",
         "x": [
          0.864732143824462,
          0.8037953996404956,
          0.7428586554565294
         ],
         "y": [
          -0.7953249239893944,
          -0.4149081565426613,
          -0.03449138909592816
         ]
        },
        {
         "hoverinfo": "text",
         "legendgroup": "lines",
         "line": {
          "color": "rgb(0.0,8.5,255.0)",
          "width": 3
         },
         "mode": "lines",
         "name": "lines",
         "showlegend": false,
         "text": "line_b<br>Loading: 13.4 %",
         "type": "scatter",
         "x": [
          0.7428586554565294,
          0.4548102095195367,
          0.16676176358254402
         ],
         "y": [
          -0.03449138909592816,
          -0.251691917085301,
          -0.4688924450746738
         ]
        },
        {
         "hoverinfo": "text",
         "legendgroup": "lines",
         "line": {
          "color": "rgb(0.0,0.0,255.0)",
          "width": 3
         },
         "mode": "lines",
         "name": "lines",
         "showlegend": false,
         "text": "line_c<br>Loading: 12.0 %",
         "type": "scatter",
         "x": [
          0.864732143824462,
          0.515746953703503,
          0.16676176358254402
         ],
         "y": [
          -0.7953249239893944,
          -0.6321086845320341,
          -0.4688924450746738
         ]
        },
        {
         "hoverinfo": "text",
         "legendgroup": "lines",
         "line": {
          "color": "rgb(0.0,12.5,255.0)",
          "width": 3
         },
         "mode": "lines",
         "name": "lines",
         "showlegend": false,
         "text": "line_d<br>Loading: 13.9 %",
         "type": "scatter",
         "x": [
          0.16676176358254402,
          0.10543830339042311,
          0.04411484319830219
         ],
         "y": [
          -0.4688924450746738,
          -0.08796282001107544,
          0.2929668050525229
         ]
        },
        {
         "hoverinfo": "text",
         "legendgroup": "lines",
         "line": {
          "color": "rgb(0.0,0.0,172.95454545454544)",
          "width": 3
         },
         "mode": "lines",
         "name": "lines",
         "showlegend": false,
         "text": "line_e<br>Loading: 4.0 %",
         "type": "scatter",
         "x": [
          0.7428586554565294,
          0.3934867493274158,
          0.04411484319830219
         ],
         "y": [
          -0.03449138909592816,
          0.1292377079782974,
          0.2929668050525229
         ]
        },
        {
         "marker": {
          "cmax": 100,
          "cmin": 0,
          "color": "rgb(255,255,255)",
          "colorbar": {
           "thickness": 10,
           "title": {
            "side": "right",
            "text": "Equipment loading [%]"
           },
           "x": 1.15
          },
          "colorscale": [
           [
            0,
            "rgb(0,0,131)"
           ],
           [
            0.2,
            "rgb(0,60,170)"
           ],
           [
            0.4,
            "rgb(5,255,255)"
           ],
           [
            0.6,
            "rgb(255,255,0)"
           ],
           [
            0.8,
            "rgb(250,0,0)"
           ],
           [
            1,
            "rgb(128,0,0)"
           ]
          ],
          "opacity": 0,
          "size": 0
         },
         "mode": "markers",
         "type": "scatter",
         "x": [
          0.864732143824462
         ],
         "y": [
          -0.7953249239893944
         ]
        },
        {
         "hoverinfo": "text",
         "legendgroup": "lines",
         "marker": {
          "color": "rgb(128, 128, 128)",
          "size": 1,
          "symbol": "circle"
         },
         "mode": "markers",
         "name": "edge_center",
         "showlegend": false,
         "text": [
          "line_a<br>Loading: 3.6 %",
          "line_b<br>Loading: 13.4 %",
          "line_c<br>Loading: 12.0 %",
          "line_d<br>Loading: 13.9 %",
          "line_e<br>Loading: 4.0 %"
         ],
         "type": "scatter",
         "x": [
          0.8037953996404956
         ],
         "y": [
          -0.4149081565426613
         ]
        },
        {
         "hoverinfo": "text",
         "marker": {
          "color": "rgb(191, 191, 0)",
          "size": 30,
          "symbol": "square"
         },
         "mode": "markers",
         "name": "Ext grid",
         "text": [
          "Gen 1"
         ],
         "type": "scatter",
         "x": [
          0.864732143824462
         ],
         "y": [
          -0.7953249239893944
         ]
        },
        {
         "hoverinfo": "text",
         "marker": {
          "cmax": 1.15,
          "cmin": 0.85,
          "color": [
           1,
           1.05,
           0.799545257357094,
           0.9817045965609963,
           1.0000000000000002
          ],
          "colorbar": {
           "thickness": 10,
           "title": {
            "side": "right",
            "text": "Bus voltage [pu]"
           },
           "x": 1
          },
          "colorscale": [
           [
            0,
            "rgb(0,0,131)"
           ],
           [
            0.2,
            "rgb(0,60,170)"
           ],
           [
            0.4,
            "rgb(5,255,255)"
           ],
           [
            0.6,
            "rgb(255,255,0)"
           ],
           [
            0.8,
            "rgb(250,0,0)"
           ],
           [
            1,
            "rgb(128,0,0)"
           ]
          ],
          "size": 20,
          "symbol": "circle"
         },
         "mode": "markers",
         "name": "buses",
         "text": [
          "bus_1<br>V: 1.0 pu",
          "bus_2<br>V: 1.05 pu",
          "bus_3<br>V: 0.8 pu",
          "bus_4<br>V: 0.982 pu",
          "bus_5<br>V: 1.0 pu"
         ],
         "type": "scatter",
         "x": [
          0.864732143824462,
          0.7428586554565294,
          0.16676176358254402,
          0.04411484319830219,
          -0.4134228521433294
         ],
         "y": [
          -0.7953249239893944,
          -0.03449138909592816,
          -0.4688924450746738,
          0.2929668050525229,
          0.8997471997449487
         ]
        }
       ],
       "layout": {
        "font": {
         "size": 15
        },
        "height": 400,
        "hovermode": "closest",
        "legend": {
         "font": {
          "size": 12
         },
         "itemsizing": "constant"
        },
        "margin": {
         "b": 5,
         "l": 5,
         "r": 5,
         "t": 30
        },
        "paper_bgcolor": "white",
        "plot_bgcolor": "white",
        "showlegend": false,
        "template": {
         "data": {
          "bar": [
           {
            "error_x": {
             "color": "#2a3f5f"
            },
            "error_y": {
             "color": "#2a3f5f"
            },
            "marker": {
             "line": {
              "color": "#E5ECF6",
              "width": 0.5
             },
             "pattern": {
              "fillmode": "overlay",
              "size": 10,
              "solidity": 0.2
             }
            },
            "type": "bar"
           }
          ],
          "barpolar": [
           {
            "marker": {
             "line": {
              "color": "#E5ECF6",
              "width": 0.5
             },
             "pattern": {
              "fillmode": "overlay",
              "size": 10,
              "solidity": 0.2
             }
            },
            "type": "barpolar"
           }
          ],
          "carpet": [
           {
            "aaxis": {
             "endlinecolor": "#2a3f5f",
             "gridcolor": "white",
             "linecolor": "white",
             "minorgridcolor": "white",
             "startlinecolor": "#2a3f5f"
            },
            "baxis": {
             "endlinecolor": "#2a3f5f",
             "gridcolor": "white",
             "linecolor": "white",
             "minorgridcolor": "white",
             "startlinecolor": "#2a3f5f"
            },
            "type": "carpet"
           }
          ],
          "choropleth": [
           {
            "colorbar": {
             "outlinewidth": 0,
             "ticks": ""
            },
            "type": "choropleth"
           }
          ],
          "contour": [
           {
            "colorbar": {
             "outlinewidth": 0,
             "ticks": ""
            },
            "colorscale": [
             [
              0,
              "#0d0887"
             ],
             [
              0.1111111111111111,
              "#46039f"
             ],
             [
              0.2222222222222222,
              "#7201a8"
             ],
             [
              0.3333333333333333,
              "#9c179e"
             ],
             [
              0.4444444444444444,
              "#bd3786"
             ],
             [
              0.5555555555555556,
              "#d8576b"
             ],
             [
              0.6666666666666666,
              "#ed7953"
             ],
             [
              0.7777777777777778,
              "#fb9f3a"
             ],
             [
              0.8888888888888888,
              "#fdca26"
             ],
             [
              1,
              "#f0f921"
             ]
            ],
            "type": "contour"
           }
          ],
          "contourcarpet": [
           {
            "colorbar": {
             "outlinewidth": 0,
             "ticks": ""
            },
            "type": "contourcarpet"
           }
          ],
          "heatmap": [
           {
            "colorbar": {
             "outlinewidth": 0,
             "ticks": ""
            },
            "colorscale": [
             [
              0,
              "#0d0887"
             ],
             [
              0.1111111111111111,
              "#46039f"
             ],
             [
              0.2222222222222222,
              "#7201a8"
             ],
             [
              0.3333333333333333,
              "#9c179e"
             ],
             [
              0.4444444444444444,
              "#bd3786"
             ],
             [
              0.5555555555555556,
              "#d8576b"
             ],
             [
              0.6666666666666666,
              "#ed7953"
             ],
             [
              0.7777777777777778,
              "#fb9f3a"
             ],
             [
              0.8888888888888888,
              "#fdca26"
             ],
             [
              1,
              "#f0f921"
             ]
            ],
            "type": "heatmap"
           }
          ],
          "heatmapgl": [
           {
            "colorbar": {
             "outlinewidth": 0,
             "ticks": ""
            },
            "colorscale": [
             [
              0,
              "#0d0887"
             ],
             [
              0.1111111111111111,
              "#46039f"
             ],
             [
              0.2222222222222222,
              "#7201a8"
             ],
             [
              0.3333333333333333,
              "#9c179e"
             ],
             [
              0.4444444444444444,
              "#bd3786"
             ],
             [
              0.5555555555555556,
              "#d8576b"
             ],
             [
              0.6666666666666666,
              "#ed7953"
             ],
             [
              0.7777777777777778,
              "#fb9f3a"
             ],
             [
              0.8888888888888888,
              "#fdca26"
             ],
             [
              1,
              "#f0f921"
             ]
            ],
            "type": "heatmapgl"
           }
          ],
          "histogram": [
           {
            "marker": {
             "pattern": {
              "fillmode": "overlay",
              "size": 10,
              "solidity": 0.2
             }
            },
            "type": "histogram"
           }
          ],
          "histogram2d": [
           {
            "colorbar": {
             "outlinewidth": 0,
             "ticks": ""
            },
            "colorscale": [
             [
              0,
              "#0d0887"
             ],
             [
              0.1111111111111111,
              "#46039f"
             ],
             [
              0.2222222222222222,
              "#7201a8"
             ],
             [
              0.3333333333333333,
              "#9c179e"
             ],
             [
              0.4444444444444444,
              "#bd3786"
             ],
             [
              0.5555555555555556,
              "#d8576b"
             ],
             [
              0.6666666666666666,
              "#ed7953"
             ],
             [
              0.7777777777777778,
              "#fb9f3a"
             ],
             [
              0.8888888888888888,
              "#fdca26"
             ],
             [
              1,
              "#f0f921"
             ]
            ],
            "type": "histogram2d"
           }
          ],
          "histogram2dcontour": [
           {
            "colorbar": {
             "outlinewidth": 0,
             "ticks": ""
            },
            "colorscale": [
             [
              0,
              "#0d0887"
             ],
             [
              0.1111111111111111,
              "#46039f"
             ],
             [
              0.2222222222222222,
              "#7201a8"
             ],
             [
              0.3333333333333333,
              "#9c179e"
             ],
             [
              0.4444444444444444,
              "#bd3786"
             ],
             [
              0.5555555555555556,
              "#d8576b"
             ],
             [
              0.6666666666666666,
              "#ed7953"
             ],
             [
              0.7777777777777778,
              "#fb9f3a"
             ],
             [
              0.8888888888888888,
              "#fdca26"
             ],
             [
              1,
              "#f0f921"
             ]
            ],
            "type": "histogram2dcontour"
           }
          ],
          "mesh3d": [
           {
            "colorbar": {
             "outlinewidth": 0,
             "ticks": ""
            },
            "type": "mesh3d"
           }
          ],
          "parcoords": [
           {
            "line": {
             "colorbar": {
              "outlinewidth": 0,
              "ticks": ""
             }
            },
            "type": "parcoords"
           }
          ],
          "pie": [
           {
            "automargin": true,
            "type": "pie"
           }
          ],
          "scatter": [
           {
            "fillpattern": {
             "fillmode": "overlay",
             "size": 10,
             "solidity": 0.2
            },
            "type": "scatter"
           }
          ],
          "scatter3d": [
           {
            "line": {
             "colorbar": {
              "outlinewidth": 0,
              "ticks": ""
             }
            },
            "marker": {
             "colorbar": {
              "outlinewidth": 0,
              "ticks": ""
             }
            },
            "type": "scatter3d"
           }
          ],
          "scattercarpet": [
           {
            "marker": {
             "colorbar": {
              "outlinewidth": 0,
              "ticks": ""
             }
            },
            "type": "scattercarpet"
           }
          ],
          "scattergeo": [
           {
            "marker": {
             "colorbar": {
              "outlinewidth": 0,
              "ticks": ""
             }
            },
            "type": "scattergeo"
           }
          ],
          "scattergl": [
           {
            "marker": {
             "colorbar": {
              "outlinewidth": 0,
              "ticks": ""
             }
            },
            "type": "scattergl"
           }
          ],
          "scattermapbox": [
           {
            "marker": {
             "colorbar": {
              "outlinewidth": 0,
              "ticks": ""
             }
            },
            "type": "scattermapbox"
           }
          ],
          "scatterpolar": [
           {
            "marker": {
             "colorbar": {
              "outlinewidth": 0,
              "ticks": ""
             }
            },
            "type": "scatterpolar"
           }
          ],
          "scatterpolargl": [
           {
            "marker": {
             "colorbar": {
              "outlinewidth": 0,
              "ticks": ""
             }
            },
            "type": "scatterpolargl"
           }
          ],
          "scatterternary": [
           {
            "marker": {
             "colorbar": {
              "outlinewidth": 0,
              "ticks": ""
             }
            },
            "type": "scatterternary"
           }
          ],
          "surface": [
           {
            "colorbar": {
             "outlinewidth": 0,
             "ticks": ""
            },
            "colorscale": [
             [
              0,
              "#0d0887"
             ],
             [
              0.1111111111111111,
              "#46039f"
             ],
             [
              0.2222222222222222,
              "#7201a8"
             ],
             [
              0.3333333333333333,
              "#9c179e"
             ],
             [
              0.4444444444444444,
              "#bd3786"
             ],
             [
              0.5555555555555556,
              "#d8576b"
             ],
             [
              0.6666666666666666,
              "#ed7953"
             ],
             [
              0.7777777777777778,
              "#fb9f3a"
             ],
             [
              0.8888888888888888,
              "#fdca26"
             ],
             [
              1,
              "#f0f921"
             ]
            ],
            "type": "surface"
           }
          ],
          "table": [
           {
            "cells": {
             "fill": {
              "color": "#EBF0F8"
             },
             "line": {
              "color": "white"
             }
            },
            "header": {
             "fill": {
              "color": "#C8D4E3"
             },
             "line": {
              "color": "white"
             }
            },
            "type": "table"
           }
          ]
         },
         "layout": {
          "annotationdefaults": {
           "arrowcolor": "#2a3f5f",
           "arrowhead": 0,
           "arrowwidth": 1
          },
          "autotypenumbers": "strict",
          "coloraxis": {
           "colorbar": {
            "outlinewidth": 0,
            "ticks": ""
           }
          },
          "colorscale": {
           "diverging": [
            [
             0,
             "#8e0152"
            ],
            [
             0.1,
             "#c51b7d"
            ],
            [
             0.2,
             "#de77ae"
            ],
            [
             0.3,
             "#f1b6da"
            ],
            [
             0.4,
             "#fde0ef"
            ],
            [
             0.5,
             "#f7f7f7"
            ],
            [
             0.6,
             "#e6f5d0"
            ],
            [
             0.7,
             "#b8e186"
            ],
            [
             0.8,
             "#7fbc41"
            ],
            [
             0.9,
             "#4d9221"
            ],
            [
             1,
             "#276419"
            ]
           ],
           "sequential": [
            [
             0,
             "#0d0887"
            ],
            [
             0.1111111111111111,
             "#46039f"
            ],
            [
             0.2222222222222222,
             "#7201a8"
            ],
            [
             0.3333333333333333,
             "#9c179e"
            ],
            [
             0.4444444444444444,
             "#bd3786"
            ],
            [
             0.5555555555555556,
             "#d8576b"
            ],
            [
             0.6666666666666666,
             "#ed7953"
            ],
            [
             0.7777777777777778,
             "#fb9f3a"
            ],
            [
             0.8888888888888888,
             "#fdca26"
            ],
            [
             1,
             "#f0f921"
            ]
           ],
           "sequentialminus": [
            [
             0,
             "#0d0887"
            ],
            [
             0.1111111111111111,
             "#46039f"
            ],
            [
             0.2222222222222222,
             "#7201a8"
            ],
            [
             0.3333333333333333,
             "#9c179e"
            ],
            [
             0.4444444444444444,
             "#bd3786"
            ],
            [
             0.5555555555555556,
             "#d8576b"
            ],
            [
             0.6666666666666666,
             "#ed7953"
            ],
            [
             0.7777777777777778,
             "#fb9f3a"
            ],
            [
             0.8888888888888888,
             "#fdca26"
            ],
            [
             1,
             "#f0f921"
            ]
           ]
          },
          "colorway": [
           "#636efa",
           "#EF553B",
           "#00cc96",
           "#ab63fa",
           "#FFA15A",
           "#19d3f3",
           "#FF6692",
           "#B6E880",
           "#FF97FF",
           "#FECB52"
          ],
          "font": {
           "color": "#2a3f5f"
          },
          "geo": {
           "bgcolor": "white",
           "lakecolor": "white",
           "landcolor": "#E5ECF6",
           "showlakes": true,
           "showland": true,
           "subunitcolor": "white"
          },
          "hoverlabel": {
           "align": "left"
          },
          "hovermode": "closest",
          "mapbox": {
           "style": "light"
          },
          "paper_bgcolor": "white",
          "plot_bgcolor": "#E5ECF6",
          "polar": {
           "angularaxis": {
            "gridcolor": "white",
            "linecolor": "white",
            "ticks": ""
           },
           "bgcolor": "#E5ECF6",
           "radialaxis": {
            "gridcolor": "white",
            "linecolor": "white",
            "ticks": ""
           }
          },
          "scene": {
           "xaxis": {
            "backgroundcolor": "#E5ECF6",
            "gridcolor": "white",
            "gridwidth": 2,
            "linecolor": "white",
            "showbackground": true,
            "ticks": "",
            "zerolinecolor": "white"
           },
           "yaxis": {
            "backgroundcolor": "#E5ECF6",
            "gridcolor": "white",
            "gridwidth": 2,
            "linecolor": "white",
            "showbackground": true,
            "ticks": "",
            "zerolinecolor": "white"
           },
           "zaxis": {
            "backgroundcolor": "#E5ECF6",
            "gridcolor": "white",
            "gridwidth": 2,
            "linecolor": "white",
            "showbackground": true,
            "ticks": "",
            "zerolinecolor": "white"
           }
          },
          "shapedefaults": {
           "line": {
            "color": "#2a3f5f"
           }
          },
          "ternary": {
           "aaxis": {
            "gridcolor": "white",
            "linecolor": "white",
            "ticks": ""
           },
           "baxis": {
            "gridcolor": "white",
            "linecolor": "white",
            "ticks": ""
           },
           "bgcolor": "#E5ECF6",
           "caxis": {
            "gridcolor": "white",
            "linecolor": "white",
            "ticks": ""
           }
          },
          "title": {
           "x": 0.05
          },
          "xaxis": {
           "automargin": true,
           "gridcolor": "white",
           "linecolor": "white",
           "ticks": "",
           "title": {
            "standoff": 15
           },
           "zerolinecolor": "white",
           "zerolinewidth": 2
          },
          "yaxis": {
           "automargin": true,
           "gridcolor": "white",
           "linecolor": "white",
           "ticks": "",
           "title": {
            "standoff": 15
           },
           "zerolinecolor": "white",
           "zerolinewidth": 2
          }
         }
        },
        "title": {
         "text": "<b>Exercice Power flow 1 : Problème 1 - results<b>",
         "x": 0.5,
         "xanchor": "center",
         "y": 0.97,
         "yanchor": "top"
        },
        "width": 770,
        "xaxis": {
         "showgrid": false,
         "showticklabels": false,
         "tickfont": {
          "family": "Arial Black",
          "size": 12
         },
         "title": {
          "font": {
           "size": 12
          }
         },
         "zeroline": false
        },
        "yaxis": {
         "showgrid": false,
         "showticklabels": false,
         "tickfont": {
          "family": "Arial Black",
          "size": 12
         },
         "title": {
          "font": {
           "size": 12
          }
         },
         "zeroline": false
        }
       }
      },
      "text/html": [
       "<div>                            <div id=\"2d2b5ce2-da7f-4d3c-a6b0-ad6dcfeb4d4b\" class=\"plotly-graph-div\" style=\"height:400px; width:770px;\"></div>            <script type=\"text/javascript\">                require([\"plotly\"], function(Plotly) {                    window.PLOTLYENV=window.PLOTLYENV || {};                                    if (document.getElementById(\"2d2b5ce2-da7f-4d3c-a6b0-ad6dcfeb4d4b\")) {                    Plotly.newPlot(                        \"2d2b5ce2-da7f-4d3c-a6b0-ad6dcfeb4d4b\",                        [{\"hoverinfo\":\"text\",\"legendgroup\":\"Transformers\",\"line\":{\"color\":\"rgb(154.03225806451613,255.0,92.74193548387096)\",\"width\":7},\"mode\":\"lines\",\"name\":\"Transformers\",\"showlegend\":true,\"text\":\"Transfo T1\\u003cbr\\u003eLoading: 53.7 %\",\"x\":[0.04411484319830219,-0.18465400447251362,-0.4134228521433294],\"y\":[0.2929668050525229,0.5963570023987358,0.8997471997449487],\"type\":\"scatter\"},{\"hoverinfo\":\"text\",\"legendgroup\":\"Transformers\",\"marker\":{\"color\":\"rgb(154.03225806451613,255.0,92.74193548387096)\",\"size\":1,\"symbol\":\"circle\"},\"mode\":\"markers\",\"name\":\"edge_center\",\"showlegend\":false,\"text\":[\"Transfo T1\\u003cbr\\u003eLoading: 53.7 %\"],\"x\":[-0.18465400447251362],\"y\":[0.5963570023987358],\"type\":\"scatter\"},{\"hoverinfo\":\"text\",\"legendgroup\":\"lines\",\"line\":{\"color\":\"rgb(0.0,0.0,168.4090909090909)\",\"width\":3},\"mode\":\"lines\",\"name\":\"lines\",\"showlegend\":true,\"text\":\"line_a\\u003cbr\\u003eLoading: 3.6 %\",\"x\":[0.864732143824462,0.8037953996404956,0.7428586554565294],\"y\":[-0.7953249239893944,-0.4149081565426613,-0.03449138909592816],\"type\":\"scatter\"},{\"hoverinfo\":\"text\",\"legendgroup\":\"lines\",\"line\":{\"color\":\"rgb(0.0,8.5,255.0)\",\"width\":3},\"mode\":\"lines\",\"name\":\"lines\",\"showlegend\":false,\"text\":\"line_b\\u003cbr\\u003eLoading: 13.4 %\",\"x\":[0.7428586554565294,0.4548102095195367,0.16676176358254402],\"y\":[-0.03449138909592816,-0.251691917085301,-0.4688924450746738],\"type\":\"scatter\"},{\"hoverinfo\":\"text\",\"legendgroup\":\"lines\",\"line\":{\"color\":\"rgb(0.0,0.0,255.0)\",\"width\":3},\"mode\":\"lines\",\"name\":\"lines\",\"showlegend\":false,\"text\":\"line_c\\u003cbr\\u003eLoading: 12.0 %\",\"x\":[0.864732143824462,0.515746953703503,0.16676176358254402],\"y\":[-0.7953249239893944,-0.6321086845320341,-0.4688924450746738],\"type\":\"scatter\"},{\"hoverinfo\":\"text\",\"legendgroup\":\"lines\",\"line\":{\"color\":\"rgb(0.0,12.5,255.0)\",\"width\":3},\"mode\":\"lines\",\"name\":\"lines\",\"showlegend\":false,\"text\":\"line_d\\u003cbr\\u003eLoading: 13.9 %\",\"x\":[0.16676176358254402,0.10543830339042311,0.04411484319830219],\"y\":[-0.4688924450746738,-0.08796282001107544,0.2929668050525229],\"type\":\"scatter\"},{\"hoverinfo\":\"text\",\"legendgroup\":\"lines\",\"line\":{\"color\":\"rgb(0.0,0.0,172.95454545454544)\",\"width\":3},\"mode\":\"lines\",\"name\":\"lines\",\"showlegend\":false,\"text\":\"line_e\\u003cbr\\u003eLoading: 4.0 %\",\"x\":[0.7428586554565294,0.3934867493274158,0.04411484319830219],\"y\":[-0.03449138909592816,0.1292377079782974,0.2929668050525229],\"type\":\"scatter\"},{\"marker\":{\"cmax\":100,\"cmin\":0,\"color\":\"rgb(255,255,255)\",\"colorbar\":{\"thickness\":10,\"title\":{\"side\":\"right\",\"text\":\"Equipment loading [%]\"},\"x\":1.15},\"colorscale\":[[0.0,\"rgb(0,0,131)\"],[0.2,\"rgb(0,60,170)\"],[0.4,\"rgb(5,255,255)\"],[0.6,\"rgb(255,255,0)\"],[0.8,\"rgb(250,0,0)\"],[1.0,\"rgb(128,0,0)\"]],\"opacity\":0,\"size\":0},\"mode\":\"markers\",\"x\":[0.864732143824462],\"y\":[-0.7953249239893944],\"type\":\"scatter\"},{\"hoverinfo\":\"text\",\"legendgroup\":\"lines\",\"marker\":{\"color\":\"rgb(128, 128, 128)\",\"size\":1,\"symbol\":\"circle\"},\"mode\":\"markers\",\"name\":\"edge_center\",\"showlegend\":false,\"text\":[\"line_a\\u003cbr\\u003eLoading: 3.6 %\",\"line_b\\u003cbr\\u003eLoading: 13.4 %\",\"line_c\\u003cbr\\u003eLoading: 12.0 %\",\"line_d\\u003cbr\\u003eLoading: 13.9 %\",\"line_e\\u003cbr\\u003eLoading: 4.0 %\"],\"x\":[0.8037953996404956],\"y\":[-0.4149081565426613],\"type\":\"scatter\"},{\"hoverinfo\":\"text\",\"marker\":{\"color\":\"rgb(191, 191, 0)\",\"size\":30,\"symbol\":\"square\"},\"mode\":\"markers\",\"name\":\"Ext grid\",\"text\":[\"Gen 1\"],\"x\":[0.864732143824462],\"y\":[-0.7953249239893944],\"type\":\"scatter\"},{\"hoverinfo\":\"text\",\"marker\":{\"cmax\":1.15,\"cmin\":0.85,\"color\":[1.0,1.05,0.799545257357094,0.9817045965609963,1.0000000000000002],\"colorbar\":{\"thickness\":10,\"title\":{\"side\":\"right\",\"text\":\"Bus voltage [pu]\"},\"x\":1.0},\"colorscale\":[[0.0,\"rgb(0,0,131)\"],[0.2,\"rgb(0,60,170)\"],[0.4,\"rgb(5,255,255)\"],[0.6,\"rgb(255,255,0)\"],[0.8,\"rgb(250,0,0)\"],[1.0,\"rgb(128,0,0)\"]],\"size\":20,\"symbol\":\"circle\"},\"mode\":\"markers\",\"name\":\"buses\",\"text\":[\"bus_1\\u003cbr\\u003eV: 1.0 pu\",\"bus_2\\u003cbr\\u003eV: 1.05 pu\",\"bus_3\\u003cbr\\u003eV: 0.8 pu\",\"bus_4\\u003cbr\\u003eV: 0.982 pu\",\"bus_5\\u003cbr\\u003eV: 1.0 pu\"],\"x\":[0.864732143824462,0.7428586554565294,0.16676176358254402,0.04411484319830219,-0.4134228521433294],\"y\":[-0.7953249239893944,-0.03449138909592816,-0.4688924450746738,0.2929668050525229,0.8997471997449487],\"type\":\"scatter\"}],                        {\"hovermode\":\"closest\",\"legend\":{\"itemsizing\":\"constant\",\"font\":{\"size\":12}},\"margin\":{\"b\":5,\"l\":5,\"r\":5,\"t\":30},\"showlegend\":false,\"xaxis\":{\"showgrid\":false,\"showticklabels\":false,\"zeroline\":false,\"tickfont\":{\"size\":12,\"family\":\"Arial Black\"},\"title\":{\"font\":{\"size\":12}}},\"yaxis\":{\"showgrid\":false,\"showticklabels\":false,\"zeroline\":false,\"tickfont\":{\"size\":12,\"family\":\"Arial Black\"},\"title\":{\"font\":{\"size\":12}}},\"template\":{\"data\":{\"histogram2dcontour\":[{\"type\":\"histogram2dcontour\",\"colorbar\":{\"outlinewidth\":0,\"ticks\":\"\"},\"colorscale\":[[0.0,\"#0d0887\"],[0.1111111111111111,\"#46039f\"],[0.2222222222222222,\"#7201a8\"],[0.3333333333333333,\"#9c179e\"],[0.4444444444444444,\"#bd3786\"],[0.5555555555555556,\"#d8576b\"],[0.6666666666666666,\"#ed7953\"],[0.7777777777777778,\"#fb9f3a\"],[0.8888888888888888,\"#fdca26\"],[1.0,\"#f0f921\"]]}],\"choropleth\":[{\"type\":\"choropleth\",\"colorbar\":{\"outlinewidth\":0,\"ticks\":\"\"}}],\"histogram2d\":[{\"type\":\"histogram2d\",\"colorbar\":{\"outlinewidth\":0,\"ticks\":\"\"},\"colorscale\":[[0.0,\"#0d0887\"],[0.1111111111111111,\"#46039f\"],[0.2222222222222222,\"#7201a8\"],[0.3333333333333333,\"#9c179e\"],[0.4444444444444444,\"#bd3786\"],[0.5555555555555556,\"#d8576b\"],[0.6666666666666666,\"#ed7953\"],[0.7777777777777778,\"#fb9f3a\"],[0.8888888888888888,\"#fdca26\"],[1.0,\"#f0f921\"]]}],\"heatmap\":[{\"type\":\"heatmap\",\"colorbar\":{\"outlinewidth\":0,\"ticks\":\"\"},\"colorscale\":[[0.0,\"#0d0887\"],[0.1111111111111111,\"#46039f\"],[0.2222222222222222,\"#7201a8\"],[0.3333333333333333,\"#9c179e\"],[0.4444444444444444,\"#bd3786\"],[0.5555555555555556,\"#d8576b\"],[0.6666666666666666,\"#ed7953\"],[0.7777777777777778,\"#fb9f3a\"],[0.8888888888888888,\"#fdca26\"],[1.0,\"#f0f921\"]]}],\"heatmapgl\":[{\"type\":\"heatmapgl\",\"colorbar\":{\"outlinewidth\":0,\"ticks\":\"\"},\"colorscale\":[[0.0,\"#0d0887\"],[0.1111111111111111,\"#46039f\"],[0.2222222222222222,\"#7201a8\"],[0.3333333333333333,\"#9c179e\"],[0.4444444444444444,\"#bd3786\"],[0.5555555555555556,\"#d8576b\"],[0.6666666666666666,\"#ed7953\"],[0.7777777777777778,\"#fb9f3a\"],[0.8888888888888888,\"#fdca26\"],[1.0,\"#f0f921\"]]}],\"contourcarpet\":[{\"type\":\"contourcarpet\",\"colorbar\":{\"outlinewidth\":0,\"ticks\":\"\"}}],\"contour\":[{\"type\":\"contour\",\"colorbar\":{\"outlinewidth\":0,\"ticks\":\"\"},\"colorscale\":[[0.0,\"#0d0887\"],[0.1111111111111111,\"#46039f\"],[0.2222222222222222,\"#7201a8\"],[0.3333333333333333,\"#9c179e\"],[0.4444444444444444,\"#bd3786\"],[0.5555555555555556,\"#d8576b\"],[0.6666666666666666,\"#ed7953\"],[0.7777777777777778,\"#fb9f3a\"],[0.8888888888888888,\"#fdca26\"],[1.0,\"#f0f921\"]]}],\"surface\":[{\"type\":\"surface\",\"colorbar\":{\"outlinewidth\":0,\"ticks\":\"\"},\"colorscale\":[[0.0,\"#0d0887\"],[0.1111111111111111,\"#46039f\"],[0.2222222222222222,\"#7201a8\"],[0.3333333333333333,\"#9c179e\"],[0.4444444444444444,\"#bd3786\"],[0.5555555555555556,\"#d8576b\"],[0.6666666666666666,\"#ed7953\"],[0.7777777777777778,\"#fb9f3a\"],[0.8888888888888888,\"#fdca26\"],[1.0,\"#f0f921\"]]}],\"mesh3d\":[{\"type\":\"mesh3d\",\"colorbar\":{\"outlinewidth\":0,\"ticks\":\"\"}}],\"scatter\":[{\"fillpattern\":{\"fillmode\":\"overlay\",\"size\":10,\"solidity\":0.2},\"type\":\"scatter\"}],\"parcoords\":[{\"type\":\"parcoords\",\"line\":{\"colorbar\":{\"outlinewidth\":0,\"ticks\":\"\"}}}],\"scatterpolargl\":[{\"type\":\"scatterpolargl\",\"marker\":{\"colorbar\":{\"outlinewidth\":0,\"ticks\":\"\"}}}],\"bar\":[{\"error_x\":{\"color\":\"#2a3f5f\"},\"error_y\":{\"color\":\"#2a3f5f\"},\"marker\":{\"line\":{\"color\":\"#E5ECF6\",\"width\":0.5},\"pattern\":{\"fillmode\":\"overlay\",\"size\":10,\"solidity\":0.2}},\"type\":\"bar\"}],\"scattergeo\":[{\"type\":\"scattergeo\",\"marker\":{\"colorbar\":{\"outlinewidth\":0,\"ticks\":\"\"}}}],\"scatterpolar\":[{\"type\":\"scatterpolar\",\"marker\":{\"colorbar\":{\"outlinewidth\":0,\"ticks\":\"\"}}}],\"histogram\":[{\"marker\":{\"pattern\":{\"fillmode\":\"overlay\",\"size\":10,\"solidity\":0.2}},\"type\":\"histogram\"}],\"scattergl\":[{\"type\":\"scattergl\",\"marker\":{\"colorbar\":{\"outlinewidth\":0,\"ticks\":\"\"}}}],\"scatter3d\":[{\"type\":\"scatter3d\",\"line\":{\"colorbar\":{\"outlinewidth\":0,\"ticks\":\"\"}},\"marker\":{\"colorbar\":{\"outlinewidth\":0,\"ticks\":\"\"}}}],\"scattermapbox\":[{\"type\":\"scattermapbox\",\"marker\":{\"colorbar\":{\"outlinewidth\":0,\"ticks\":\"\"}}}],\"scatterternary\":[{\"type\":\"scatterternary\",\"marker\":{\"colorbar\":{\"outlinewidth\":0,\"ticks\":\"\"}}}],\"scattercarpet\":[{\"type\":\"scattercarpet\",\"marker\":{\"colorbar\":{\"outlinewidth\":0,\"ticks\":\"\"}}}],\"carpet\":[{\"aaxis\":{\"endlinecolor\":\"#2a3f5f\",\"gridcolor\":\"white\",\"linecolor\":\"white\",\"minorgridcolor\":\"white\",\"startlinecolor\":\"#2a3f5f\"},\"baxis\":{\"endlinecolor\":\"#2a3f5f\",\"gridcolor\":\"white\",\"linecolor\":\"white\",\"minorgridcolor\":\"white\",\"startlinecolor\":\"#2a3f5f\"},\"type\":\"carpet\"}],\"table\":[{\"cells\":{\"fill\":{\"color\":\"#EBF0F8\"},\"line\":{\"color\":\"white\"}},\"header\":{\"fill\":{\"color\":\"#C8D4E3\"},\"line\":{\"color\":\"white\"}},\"type\":\"table\"}],\"barpolar\":[{\"marker\":{\"line\":{\"color\":\"#E5ECF6\",\"width\":0.5},\"pattern\":{\"fillmode\":\"overlay\",\"size\":10,\"solidity\":0.2}},\"type\":\"barpolar\"}],\"pie\":[{\"automargin\":true,\"type\":\"pie\"}]},\"layout\":{\"autotypenumbers\":\"strict\",\"colorway\":[\"#636efa\",\"#EF553B\",\"#00cc96\",\"#ab63fa\",\"#FFA15A\",\"#19d3f3\",\"#FF6692\",\"#B6E880\",\"#FF97FF\",\"#FECB52\"],\"font\":{\"color\":\"#2a3f5f\"},\"hovermode\":\"closest\",\"hoverlabel\":{\"align\":\"left\"},\"paper_bgcolor\":\"white\",\"plot_bgcolor\":\"#E5ECF6\",\"polar\":{\"bgcolor\":\"#E5ECF6\",\"angularaxis\":{\"gridcolor\":\"white\",\"linecolor\":\"white\",\"ticks\":\"\"},\"radialaxis\":{\"gridcolor\":\"white\",\"linecolor\":\"white\",\"ticks\":\"\"}},\"ternary\":{\"bgcolor\":\"#E5ECF6\",\"aaxis\":{\"gridcolor\":\"white\",\"linecolor\":\"white\",\"ticks\":\"\"},\"baxis\":{\"gridcolor\":\"white\",\"linecolor\":\"white\",\"ticks\":\"\"},\"caxis\":{\"gridcolor\":\"white\",\"linecolor\":\"white\",\"ticks\":\"\"}},\"coloraxis\":{\"colorbar\":{\"outlinewidth\":0,\"ticks\":\"\"}},\"colorscale\":{\"sequential\":[[0.0,\"#0d0887\"],[0.1111111111111111,\"#46039f\"],[0.2222222222222222,\"#7201a8\"],[0.3333333333333333,\"#9c179e\"],[0.4444444444444444,\"#bd3786\"],[0.5555555555555556,\"#d8576b\"],[0.6666666666666666,\"#ed7953\"],[0.7777777777777778,\"#fb9f3a\"],[0.8888888888888888,\"#fdca26\"],[1.0,\"#f0f921\"]],\"sequentialminus\":[[0.0,\"#0d0887\"],[0.1111111111111111,\"#46039f\"],[0.2222222222222222,\"#7201a8\"],[0.3333333333333333,\"#9c179e\"],[0.4444444444444444,\"#bd3786\"],[0.5555555555555556,\"#d8576b\"],[0.6666666666666666,\"#ed7953\"],[0.7777777777777778,\"#fb9f3a\"],[0.8888888888888888,\"#fdca26\"],[1.0,\"#f0f921\"]],\"diverging\":[[0,\"#8e0152\"],[0.1,\"#c51b7d\"],[0.2,\"#de77ae\"],[0.3,\"#f1b6da\"],[0.4,\"#fde0ef\"],[0.5,\"#f7f7f7\"],[0.6,\"#e6f5d0\"],[0.7,\"#b8e186\"],[0.8,\"#7fbc41\"],[0.9,\"#4d9221\"],[1,\"#276419\"]]},\"xaxis\":{\"gridcolor\":\"white\",\"linecolor\":\"white\",\"ticks\":\"\",\"title\":{\"standoff\":15},\"zerolinecolor\":\"white\",\"automargin\":true,\"zerolinewidth\":2},\"yaxis\":{\"gridcolor\":\"white\",\"linecolor\":\"white\",\"ticks\":\"\",\"title\":{\"standoff\":15},\"zerolinecolor\":\"white\",\"automargin\":true,\"zerolinewidth\":2},\"scene\":{\"xaxis\":{\"backgroundcolor\":\"#E5ECF6\",\"gridcolor\":\"white\",\"linecolor\":\"white\",\"showbackground\":true,\"ticks\":\"\",\"zerolinecolor\":\"white\",\"gridwidth\":2},\"yaxis\":{\"backgroundcolor\":\"#E5ECF6\",\"gridcolor\":\"white\",\"linecolor\":\"white\",\"showbackground\":true,\"ticks\":\"\",\"zerolinecolor\":\"white\",\"gridwidth\":2},\"zaxis\":{\"backgroundcolor\":\"#E5ECF6\",\"gridcolor\":\"white\",\"linecolor\":\"white\",\"showbackground\":true,\"ticks\":\"\",\"zerolinecolor\":\"white\",\"gridwidth\":2}},\"shapedefaults\":{\"line\":{\"color\":\"#2a3f5f\"}},\"annotationdefaults\":{\"arrowcolor\":\"#2a3f5f\",\"arrowhead\":0,\"arrowwidth\":1},\"geo\":{\"bgcolor\":\"white\",\"landcolor\":\"#E5ECF6\",\"subunitcolor\":\"white\",\"showland\":true,\"showlakes\":true,\"lakecolor\":\"white\"},\"title\":{\"x\":0.05},\"mapbox\":{\"style\":\"light\"}}},\"font\":{\"size\":15},\"paper_bgcolor\":\"white\",\"plot_bgcolor\":\"white\",\"width\":770,\"height\":400,\"title\":{\"text\":\"\\u003cb\\u003eExercice Power flow 1 : Problème 1 - results\\u003cb\\u003e\",\"y\":0.97,\"x\":0.5,\"xanchor\":\"center\",\"yanchor\":\"top\"}},                        {\"responsive\": true}                    ).then(function(){\n",
       "                            \n",
       "var gd = document.getElementById('2d2b5ce2-da7f-4d3c-a6b0-ad6dcfeb4d4b');\n",
       "var x = new MutationObserver(function (mutations, observer) {{\n",
       "        var display = window.getComputedStyle(gd).display;\n",
       "        if (!display || display === 'none') {{\n",
       "            console.log([gd, 'removed!']);\n",
       "            Plotly.purge(gd);\n",
       "            observer.disconnect();\n",
       "        }}\n",
       "}});\n",
       "\n",
       "// Listen for the removal of the full notebook cells\n",
       "var notebookContainer = gd.closest('#notebook-container');\n",
       "if (notebookContainer) {{\n",
       "    x.observe(notebookContainer, {childList: true});\n",
       "}}\n",
       "\n",
       "// Listen for the clearing of the current output cell\n",
       "var outputEl = gd.closest('.output');\n",
       "if (outputEl) {{\n",
       "    x.observe(outputEl, {childList: true});\n",
       "}}\n",
       "\n",
       "                        })                };                });            </script>        </div>"
      ]
     },
     "metadata": {},
     "output_type": "display_data"
    },
    {
     "data": {
      "text/html": [
       "<div>\n",
       "<style scoped>\n",
       "    .dataframe tbody tr th:only-of-type {\n",
       "        vertical-align: middle;\n",
       "    }\n",
       "\n",
       "    .dataframe tbody tr th {\n",
       "        vertical-align: top;\n",
       "    }\n",
       "\n",
       "    .dataframe thead th {\n",
       "        text-align: right;\n",
       "    }\n",
       "</style>\n",
       "<table border=\"1\" class=\"dataframe\">\n",
       "  <thead>\n",
       "    <tr style=\"text-align: right;\">\n",
       "      <th></th>\n",
       "      <th>vm_pu</th>\n",
       "      <th>va_degree</th>\n",
       "      <th>p_mw</th>\n",
       "      <th>q_mvar</th>\n",
       "    </tr>\n",
       "  </thead>\n",
       "  <tbody>\n",
       "    <tr>\n",
       "      <th>0</th>\n",
       "      <td>1.000000</td>\n",
       "      <td>0.000000</td>\n",
       "      <td>-57.252001</td>\n",
       "      <td>-31.160412</td>\n",
       "    </tr>\n",
       "    <tr>\n",
       "      <th>1</th>\n",
       "      <td>1.050000</td>\n",
       "      <td>0.194014</td>\n",
       "      <td>-50.000000</td>\n",
       "      <td>-118.481567</td>\n",
       "    </tr>\n",
       "    <tr>\n",
       "      <th>2</th>\n",
       "      <td>0.799545</td>\n",
       "      <td>-17.075981</td>\n",
       "      <td>200.000000</td>\n",
       "      <td>80.000000</td>\n",
       "    </tr>\n",
       "    <tr>\n",
       "      <th>3</th>\n",
       "      <td>0.981705</td>\n",
       "      <td>5.170810</td>\n",
       "      <td>0.000000</td>\n",
       "      <td>0.000000</td>\n",
       "    </tr>\n",
       "    <tr>\n",
       "      <th>4</th>\n",
       "      <td>1.000000</td>\n",
       "      <td>8.090251</td>\n",
       "      <td>-100.000000</td>\n",
       "      <td>-39.139051</td>\n",
       "    </tr>\n",
       "  </tbody>\n",
       "</table>\n",
       "</div>"
      ],
      "text/plain": [
       "      vm_pu  va_degree        p_mw      q_mvar\n",
       "0  1.000000   0.000000  -57.252001  -31.160412\n",
       "1  1.050000   0.194014  -50.000000 -118.481567\n",
       "2  0.799545 -17.075981  200.000000   80.000000\n",
       "3  0.981705   5.170810    0.000000    0.000000\n",
       "4  1.000000   8.090251 -100.000000  -39.139051"
      ]
     },
     "execution_count": 665,
     "metadata": {},
     "output_type": "execute_result"
    }
   ],
   "source": [
    "pp_plot.plot_powerflow_result(\n",
    "    net=net_ExPF1_Pb1_heig,\n",
    "    plot_title=\"Exercice Power flow 1 : Problème 1 - results\",\n",
    "    filename=\"net_ex_pf_1_pb_1_grid_pp_result\",\n",
    ")\n",
    "net_ExPF1_Pb1_heig.res_bus"
   ]
  },
  {
   "cell_type": "markdown",
   "metadata": {},
   "source": [
    "### Timeseries"
   ]
  },
  {
   "cell_type": "code",
   "execution_count": 666,
   "metadata": {},
   "outputs": [],
   "source": [
    "profile_file_path = \"data/power_profile_pb1.xlsx\"\n",
    "output_folder = \"\"\n",
    "output_filename = \"simulation_results\""
   ]
  },
  {
   "cell_type": "markdown",
   "metadata": {},
   "source": [
    "Charge excel file with powerprofile (power already scaled)"
   ]
  },
  {
   "cell_type": "code",
   "execution_count": null,
   "metadata": {},
   "outputs": [],
   "source": [
    "time_series"
   ]
  },
  {
   "cell_type": "markdown",
   "metadata": {},
   "source": [
    "Apply the powerprofile to the equipement"
   ]
  },
  {
   "cell_type": "code",
   "execution_count": null,
   "metadata": {},
   "outputs": [],
   "source": [
    "# apply power_profile\n",
    "\n",
    "# create output_writer"
   ]
  },
  {
   "cell_type": "code",
   "execution_count": null,
   "metadata": {},
   "outputs": [
    {
     "name": "stderr",
     "output_type": "stream",
     "text": [
      "/home/thierryfra/github/pro/rht/.venv/lib/python3.10/site-packages/pandapower/timeseries/output_writer.py:177: FutureWarning:\n",
      "\n",
      "Setting an item of incompatible dtype is deprecated and will raise in a future error of pandas. Value 'range(0, 96)' has dtype incompatible with bool, please explicitly cast to a compatible dtype first.\n",
      "\n"
     ]
    }
   ],
   "source": [
    "# Run time simulation\n"
   ]
  },
  {
   "cell_type": "code",
   "execution_count": 670,
   "metadata": {},
   "outputs": [
    {
     "data": {
      "application/vnd.plotly.v1+json": {
       "config": {
        "plotlyServerURL": "https://plot.ly"
       },
       "data": [
        {
         "hovertemplate": "<b>bus_1<br>V [pu]: %{y:.2f}<br>Time: %{text}<b><extra></extra>",
         "mode": "lines",
         "name": "<b>bus_1<b>",
         "text": [
          "00h00",
          "00h15",
          "00h30",
          "00h45",
          "01h00",
          "01h15",
          "01h30",
          "01h45",
          "02h00",
          "02h15",
          "02h30",
          "02h45",
          "03h00",
          "03h15",
          "03h30",
          "03h45",
          "04h00",
          "04h15",
          "04h30",
          "04h45",
          "05h00",
          "05h15",
          "05h30",
          "05h45",
          "06h00",
          "06h15",
          "06h30",
          "06h45",
          "07h00",
          "07h15",
          "07h30",
          "07h45",
          "08h00",
          "08h15",
          "08h30",
          "08h45",
          "09h00",
          "09h15",
          "09h30",
          "09h45",
          "10h00",
          "10h15",
          "10h30",
          "10h45",
          "11h00",
          "11h15",
          "11h30",
          "11h45",
          "12h00",
          "12h15",
          "12h30",
          "12h45",
          "13h00",
          "13h15",
          "13h30",
          "13h45",
          "14h00",
          "14h15",
          "14h30",
          "14h45",
          "15h00",
          "15h15",
          "15h30",
          "15h45",
          "16h00",
          "16h15",
          "16h30",
          "16h45",
          "17h00",
          "17h15",
          "17h30",
          "17h45",
          "18h00",
          "18h15",
          "18h30",
          "18h45",
          "19h00",
          "19h15",
          "19h30",
          "19h45",
          "20h00",
          "20h15",
          "20h30",
          "20h45",
          "21h00",
          "21h15",
          "21h30",
          "21h45",
          "22h00",
          "22h15",
          "22h30",
          "22h45",
          "23h00",
          "23h15",
          "23h30",
          "23h45"
         ],
         "type": "scatter",
         "x": [
          0,
          1,
          2,
          3,
          4,
          5,
          6,
          7,
          8,
          9,
          10,
          11,
          12,
          13,
          14,
          15,
          16,
          17,
          18,
          19,
          20,
          21,
          22,
          23,
          24,
          25,
          26,
          27,
          28,
          29,
          30,
          31,
          32,
          33,
          34,
          35,
          36,
          37,
          38,
          39,
          40,
          41,
          42,
          43,
          44,
          45,
          46,
          47,
          48,
          49,
          50,
          51,
          52,
          53,
          54,
          55,
          56,
          57,
          58,
          59,
          60,
          61,
          62,
          63,
          64,
          65,
          66,
          67,
          68,
          69,
          70,
          71,
          72,
          73,
          74,
          75,
          76,
          77,
          78,
          79,
          80,
          81,
          82,
          83,
          84,
          85,
          86,
          87,
          88,
          89,
          90,
          91,
          92,
          93,
          94,
          95
         ],
         "y": [
          1,
          1,
          1,
          1,
          1,
          1,
          1,
          1,
          1,
          1,
          1,
          1,
          1,
          1,
          1,
          1,
          1,
          1,
          1,
          1,
          1,
          1,
          1,
          1,
          1,
          1,
          1,
          1,
          1,
          1,
          1,
          1,
          1,
          1,
          1,
          1,
          1,
          1,
          1,
          1,
          1,
          1,
          1,
          1,
          1,
          1,
          1,
          1,
          1,
          1,
          1,
          1,
          1,
          1,
          1,
          1,
          1,
          1,
          1,
          1,
          1,
          1,
          1,
          1,
          1,
          1,
          1,
          1,
          1,
          1,
          1,
          1,
          1,
          1,
          1,
          1,
          1,
          1,
          1,
          1,
          1,
          1,
          1,
          1,
          1,
          1,
          1,
          1,
          1,
          1,
          1,
          1,
          1,
          1,
          1,
          1
         ]
        },
        {
         "hovertemplate": "<b>bus_2<br>V [pu]: %{y:.2f}<br>Time: %{text}<b><extra></extra>",
         "mode": "lines",
         "name": "<b>bus_2<b>",
         "text": [
          "00h00",
          "00h15",
          "00h30",
          "00h45",
          "01h00",
          "01h15",
          "01h30",
          "01h45",
          "02h00",
          "02h15",
          "02h30",
          "02h45",
          "03h00",
          "03h15",
          "03h30",
          "03h45",
          "04h00",
          "04h15",
          "04h30",
          "04h45",
          "05h00",
          "05h15",
          "05h30",
          "05h45",
          "06h00",
          "06h15",
          "06h30",
          "06h45",
          "07h00",
          "07h15",
          "07h30",
          "07h45",
          "08h00",
          "08h15",
          "08h30",
          "08h45",
          "09h00",
          "09h15",
          "09h30",
          "09h45",
          "10h00",
          "10h15",
          "10h30",
          "10h45",
          "11h00",
          "11h15",
          "11h30",
          "11h45",
          "12h00",
          "12h15",
          "12h30",
          "12h45",
          "13h00",
          "13h15",
          "13h30",
          "13h45",
          "14h00",
          "14h15",
          "14h30",
          "14h45",
          "15h00",
          "15h15",
          "15h30",
          "15h45",
          "16h00",
          "16h15",
          "16h30",
          "16h45",
          "17h00",
          "17h15",
          "17h30",
          "17h45",
          "18h00",
          "18h15",
          "18h30",
          "18h45",
          "19h00",
          "19h15",
          "19h30",
          "19h45",
          "20h00",
          "20h15",
          "20h30",
          "20h45",
          "21h00",
          "21h15",
          "21h30",
          "21h45",
          "22h00",
          "22h15",
          "22h30",
          "22h45",
          "23h00",
          "23h15",
          "23h30",
          "23h45"
         ],
         "type": "scatter",
         "x": [
          0,
          1,
          2,
          3,
          4,
          5,
          6,
          7,
          8,
          9,
          10,
          11,
          12,
          13,
          14,
          15,
          16,
          17,
          18,
          19,
          20,
          21,
          22,
          23,
          24,
          25,
          26,
          27,
          28,
          29,
          30,
          31,
          32,
          33,
          34,
          35,
          36,
          37,
          38,
          39,
          40,
          41,
          42,
          43,
          44,
          45,
          46,
          47,
          48,
          49,
          50,
          51,
          52,
          53,
          54,
          55,
          56,
          57,
          58,
          59,
          60,
          61,
          62,
          63,
          64,
          65,
          66,
          67,
          68,
          69,
          70,
          71,
          72,
          73,
          74,
          75,
          76,
          77,
          78,
          79,
          80,
          81,
          82,
          83,
          84,
          85,
          86,
          87,
          88,
          89,
          90,
          91,
          92,
          93,
          94,
          95
         ],
         "y": [
          1.05,
          1.05,
          1.0500000000000005,
          1.0500000000000003,
          1.0499999999999998,
          1.05,
          1.05,
          1.05,
          1.0500000000000003,
          1.0499999999999996,
          1.0499999999999998,
          1.0500000000000003,
          1.05,
          1.0499999999999998,
          1.0499999999999998,
          1.0499999999999998,
          1.0500000000000003,
          1.0500000000000003,
          1.0499999999999998,
          1.0499999999999998,
          1.05,
          1.0500000000000003,
          1.0499999999999998,
          1.0499999999999998,
          1.0499999999999998,
          1.0500000000000003,
          1.05,
          1.05,
          1.0500000000000003,
          1.05,
          1.0499999999999996,
          1.05,
          1.0500000000000003,
          1.0500000000000003,
          1.0500000000000003,
          1.0499999999999996,
          1.0499999999999998,
          1.0499999999999998,
          1.05,
          1.05,
          1.05,
          1.05,
          1.05,
          1.05,
          1.0499999999999998,
          1.05,
          1.0499999999999998,
          1.0499999999999998,
          1.0500000000000003,
          1.0499999999999998,
          1.0499999999999998,
          1.05,
          1.05,
          1.0500000000000003,
          1.0500000000000003,
          1.05,
          1.05,
          1.05,
          1.0500000000000003,
          1.0500000000000003,
          1.05,
          1.05,
          1.05,
          1.0500000000000003,
          1.0500000000000003,
          1.05,
          1.0500000000000003,
          1.0499999999999998,
          1.0500000000000003,
          1.0499999999999998,
          1.0500000000000003,
          1.0500000000000003,
          1.0499999999999998,
          1.0499999999999998,
          1.0499999999999998,
          1.0500000000000003,
          1.05,
          1.0500000000000003,
          1.0499999999999998,
          1.0499999999999998,
          1.05,
          1.0499999999999998,
          1.05,
          1.05,
          1.05,
          1.05,
          1.05,
          1.0500000000000003,
          1.0500000000000003,
          1.0500000000000005,
          1.05,
          1.0500000000000003,
          1.05,
          1.05,
          1.0499999999999998,
          1.0499999999999996
         ]
        },
        {
         "hovertemplate": "<b>bus_3<br>V [pu]: %{y:.2f}<br>Time: %{text}<b><extra></extra>",
         "mode": "lines",
         "name": "<b>bus_3<b>",
         "text": [
          "00h00",
          "00h15",
          "00h30",
          "00h45",
          "01h00",
          "01h15",
          "01h30",
          "01h45",
          "02h00",
          "02h15",
          "02h30",
          "02h45",
          "03h00",
          "03h15",
          "03h30",
          "03h45",
          "04h00",
          "04h15",
          "04h30",
          "04h45",
          "05h00",
          "05h15",
          "05h30",
          "05h45",
          "06h00",
          "06h15",
          "06h30",
          "06h45",
          "07h00",
          "07h15",
          "07h30",
          "07h45",
          "08h00",
          "08h15",
          "08h30",
          "08h45",
          "09h00",
          "09h15",
          "09h30",
          "09h45",
          "10h00",
          "10h15",
          "10h30",
          "10h45",
          "11h00",
          "11h15",
          "11h30",
          "11h45",
          "12h00",
          "12h15",
          "12h30",
          "12h45",
          "13h00",
          "13h15",
          "13h30",
          "13h45",
          "14h00",
          "14h15",
          "14h30",
          "14h45",
          "15h00",
          "15h15",
          "15h30",
          "15h45",
          "16h00",
          "16h15",
          "16h30",
          "16h45",
          "17h00",
          "17h15",
          "17h30",
          "17h45",
          "18h00",
          "18h15",
          "18h30",
          "18h45",
          "19h00",
          "19h15",
          "19h30",
          "19h45",
          "20h00",
          "20h15",
          "20h30",
          "20h45",
          "21h00",
          "21h15",
          "21h30",
          "21h45",
          "22h00",
          "22h15",
          "22h30",
          "22h45",
          "23h00",
          "23h15",
          "23h30",
          "23h45"
         ],
         "type": "scatter",
         "x": [
          0,
          1,
          2,
          3,
          4,
          5,
          6,
          7,
          8,
          9,
          10,
          11,
          12,
          13,
          14,
          15,
          16,
          17,
          18,
          19,
          20,
          21,
          22,
          23,
          24,
          25,
          26,
          27,
          28,
          29,
          30,
          31,
          32,
          33,
          34,
          35,
          36,
          37,
          38,
          39,
          40,
          41,
          42,
          43,
          44,
          45,
          46,
          47,
          48,
          49,
          50,
          51,
          52,
          53,
          54,
          55,
          56,
          57,
          58,
          59,
          60,
          61,
          62,
          63,
          64,
          65,
          66,
          67,
          68,
          69,
          70,
          71,
          72,
          73,
          74,
          75,
          76,
          77,
          78,
          79,
          80,
          81,
          82,
          83,
          84,
          85,
          86,
          87,
          88,
          89,
          90,
          91,
          92,
          93,
          94,
          95
         ],
         "y": [
          0.9588445246132441,
          0.9629996654237435,
          0.9664418696742133,
          0.9692439844390717,
          0.9712511946601475,
          0.9726284767461383,
          0.9735143669730737,
          0.9740814683322507,
          0.9744398587467934,
          0.9746946688282344,
          0.9747963173317902,
          0.9749484952740766,
          0.9751003198183328,
          0.975201340058063,
          0.9753525765452649,
          0.9753525765452649,
          0.9753022035450895,
          0.9751003198184077,
          0.974847082605476,
          0.974490899549474,
          0.9740301116751657,
          0.9728902290744683,
          0.9704441881127024,
          0.9659263763229887,
          0.9585936901098636,
          0.9487896036453006,
          0.9375867771365002,
          0.9265649414438261,
          0.9175831819702797,
          0.9110481879288881,
          0.9068996523911337,
          0.9047745043498729,
          0.9041609206653778,
          0.9047745043534371,
          0.9064975239225709,
          0.9088918027506777,
          0.9118234111625589,
          0.9147834752229722,
          0.9176754303139241,
          0.9199595225238497,
          0.9214887589843705,
          0.9224681149607964,
          0.9229106686287545,
          0.9229106686287545,
          0.922556755596228,
          0.9217566418222258,
          0.9202307832644038,
          0.9176754303139236,
          0.9140261983461145,
          0.9099745227134272,
          0.9065981726417803,
          0.9047745043498733,
          0.9053852274524389,
          0.907899559380359,
          0.9115332541986871,
          0.9153484546255266,
          0.9188684410817418,
          0.9219349023316358,
          0.9246647696504864,
          0.9272484103126478,
          0.9296095926527103,
          0.9315958132152229,
          0.9332250022118447,
          0.9341111405232412,
          0.9342715075297857,
          0.9334673696528727,
          0.9315137375489919,
          0.9279279241736053,
          0.9226453312172492,
          0.9156299927585884,
          0.9069999904724929,
          0.8968922022611641,
          0.8854917070980599,
          0.8734504702959222,
          0.86140422798412,
          0.8502200787532989,
          0.8411750696114556,
          0.8354246481712795,
          0.8342460058814458,
          0.8384111238215296,
          0.8474739963518307,
          0.8592932592361576,
          0.8712522288228172,
          0.8816729991288061,
          0.8895510007918972,
          0.8956959679847746,
          0.9010493640081133,
          0.9063967973176484,
          0.9123055417649347,
          0.9185941519757574,
          0.9250125244117159,
          0.9314316028246667,
          0.9375867771361601,
          0.9434865722302896,
          0.9489987710997559,
          0.9541515375841255
         ]
        },
        {
         "hovertemplate": "<b>bus_4<br>V [pu]: %{y:.2f}<br>Time: %{text}<b><extra></extra>",
         "mode": "lines",
         "name": "<b>bus_4<b>",
         "text": [
          "00h00",
          "00h15",
          "00h30",
          "00h45",
          "01h00",
          "01h15",
          "01h30",
          "01h45",
          "02h00",
          "02h15",
          "02h30",
          "02h45",
          "03h00",
          "03h15",
          "03h30",
          "03h45",
          "04h00",
          "04h15",
          "04h30",
          "04h45",
          "05h00",
          "05h15",
          "05h30",
          "05h45",
          "06h00",
          "06h15",
          "06h30",
          "06h45",
          "07h00",
          "07h15",
          "07h30",
          "07h45",
          "08h00",
          "08h15",
          "08h30",
          "08h45",
          "09h00",
          "09h15",
          "09h30",
          "09h45",
          "10h00",
          "10h15",
          "10h30",
          "10h45",
          "11h00",
          "11h15",
          "11h30",
          "11h45",
          "12h00",
          "12h15",
          "12h30",
          "12h45",
          "13h00",
          "13h15",
          "13h30",
          "13h45",
          "14h00",
          "14h15",
          "14h30",
          "14h45",
          "15h00",
          "15h15",
          "15h30",
          "15h45",
          "16h00",
          "16h15",
          "16h30",
          "16h45",
          "17h00",
          "17h15",
          "17h30",
          "17h45",
          "18h00",
          "18h15",
          "18h30",
          "18h45",
          "19h00",
          "19h15",
          "19h30",
          "19h45",
          "20h00",
          "20h15",
          "20h30",
          "20h45",
          "21h00",
          "21h15",
          "21h30",
          "21h45",
          "22h00",
          "22h15",
          "22h30",
          "22h45",
          "23h00",
          "23h15",
          "23h30",
          "23h45"
         ],
         "type": "scatter",
         "x": [
          0,
          1,
          2,
          3,
          4,
          5,
          6,
          7,
          8,
          9,
          10,
          11,
          12,
          13,
          14,
          15,
          16,
          17,
          18,
          19,
          20,
          21,
          22,
          23,
          24,
          25,
          26,
          27,
          28,
          29,
          30,
          31,
          32,
          33,
          34,
          35,
          36,
          37,
          38,
          39,
          40,
          41,
          42,
          43,
          44,
          45,
          46,
          47,
          48,
          49,
          50,
          51,
          52,
          53,
          54,
          55,
          56,
          57,
          58,
          59,
          60,
          61,
          62,
          63,
          64,
          65,
          66,
          67,
          68,
          69,
          70,
          71,
          72,
          73,
          74,
          75,
          76,
          77,
          78,
          79,
          80,
          81,
          82,
          83,
          84,
          85,
          86,
          87,
          88,
          89,
          90,
          91,
          92,
          93,
          94,
          95
         ],
         "y": [
          0.9995213420917702,
          0.9999843230719949,
          1.0003671168498722,
          1.0006781869734755,
          1.0009006924663828,
          1.0010532049464225,
          1.001151230158595,
          1.0012139498603094,
          1.0012535740448765,
          1.0012817401659686,
          1.0012929747405832,
          1.0013097924991732,
          1.0013265693787046,
          1.0013377312793532,
          1.0013544401389198,
          1.0013544401389198,
          1.001348875048782,
          1.0013265693787126,
          1.0012985852053784,
          1.0012592163834935,
          1.0012082709797652,
          1.0010821743432008,
          1.000811266563613,
          1.0003098363857328,
          0.999493363201263,
          0.9983973244475836,
          0.9971396248862071,
          0.9958973993184936,
          0.994881873356986,
          0.9941412848083127,
          0.9936704294331007,
          0.9934290166218658,
          0.9933592884929361,
          0.9934290166222864,
          0.9936247592350833,
          0.9938966051126692,
          0.9942292110328378,
          0.9945647637346852,
          0.9948923174558827,
          0.9951508246769513,
          0.9953238004695232,
          0.9954345357461983,
          0.995484564191106,
          0.995484564191106,
          0.9954445566632494,
          0.99535409312776,
          0.9951815134871242,
          0.9948923174558827,
          0.9944789460812822,
          0.9940194772444185,
          0.9936361905033719,
          0.9934290166218658,
          0.9934984080541454,
          0.9937839679835061,
          0.9941963035463266,
          0.9946287771932096,
          0.9950273610622123,
          0.9953742497684251,
          0.9956827893271177,
          0.9959745605424177,
          0.9962410001750951,
          0.9964649707664662,
          0.9966485722312648,
          0.9967483936121776,
          0.9967664553883665,
          0.9966758773048114,
          0.9964557186239311,
          0.996051258649017,
          0.995454569958661,
          0.9946606721790656,
          0.9936818241540356,
          0.9925323878439131,
          0.9912322840285789,
          0.9898550871688333,
          0.9884733596128505,
          0.9871871100360907,
          0.9861445583830549,
          0.9854807011854481,
          0.9853445338979376,
          0.9858255752284059,
          0.9868708051675082,
          0.988230831756855,
          0.9896032349855948,
          0.990795964271182,
          0.9916956366716368,
          0.9923961494721031,
          0.9930055099754492,
          0.9936133188028434,
          0.9942838847544636,
          0.9949963169716475,
          0.9957220751344044,
          0.9964464595732425,
          0.9971396248861667,
          0.9978026297633886,
          0.9984207556205756,
          0.9989973356437122
         ]
        },
        {
         "hovertemplate": "<b>bus_5<br>V [pu]: %{y:.2f}<br>Time: %{text}<b><extra></extra>",
         "mode": "lines",
         "name": "<b>bus_5<b>",
         "text": [
          "00h00",
          "00h15",
          "00h30",
          "00h45",
          "01h00",
          "01h15",
          "01h30",
          "01h45",
          "02h00",
          "02h15",
          "02h30",
          "02h45",
          "03h00",
          "03h15",
          "03h30",
          "03h45",
          "04h00",
          "04h15",
          "04h30",
          "04h45",
          "05h00",
          "05h15",
          "05h30",
          "05h45",
          "06h00",
          "06h15",
          "06h30",
          "06h45",
          "07h00",
          "07h15",
          "07h30",
          "07h45",
          "08h00",
          "08h15",
          "08h30",
          "08h45",
          "09h00",
          "09h15",
          "09h30",
          "09h45",
          "10h00",
          "10h15",
          "10h30",
          "10h45",
          "11h00",
          "11h15",
          "11h30",
          "11h45",
          "12h00",
          "12h15",
          "12h30",
          "12h45",
          "13h00",
          "13h15",
          "13h30",
          "13h45",
          "14h00",
          "14h15",
          "14h30",
          "14h45",
          "15h00",
          "15h15",
          "15h30",
          "15h45",
          "16h00",
          "16h15",
          "16h30",
          "16h45",
          "17h00",
          "17h15",
          "17h30",
          "17h45",
          "18h00",
          "18h15",
          "18h30",
          "18h45",
          "19h00",
          "19h15",
          "19h30",
          "19h45",
          "20h00",
          "20h15",
          "20h30",
          "20h45",
          "21h00",
          "21h15",
          "21h30",
          "21h45",
          "22h00",
          "22h15",
          "22h30",
          "22h45",
          "23h00",
          "23h15",
          "23h30",
          "23h45"
         ],
         "type": "scatter",
         "x": [
          0,
          1,
          2,
          3,
          4,
          5,
          6,
          7,
          8,
          9,
          10,
          11,
          12,
          13,
          14,
          15,
          16,
          17,
          18,
          19,
          20,
          21,
          22,
          23,
          24,
          25,
          26,
          27,
          28,
          29,
          30,
          31,
          32,
          33,
          34,
          35,
          36,
          37,
          38,
          39,
          40,
          41,
          42,
          43,
          44,
          45,
          46,
          47,
          48,
          49,
          50,
          51,
          52,
          53,
          54,
          55,
          56,
          57,
          58,
          59,
          60,
          61,
          62,
          63,
          64,
          65,
          66,
          67,
          68,
          69,
          70,
          71,
          72,
          73,
          74,
          75,
          76,
          77,
          78,
          79,
          80,
          81,
          82,
          83,
          84,
          85,
          86,
          87,
          88,
          89,
          90,
          91,
          92,
          93,
          94,
          95
         ],
         "y": [
          1.0000000000000002,
          0.9999999999999999,
          0.9999999999999999,
          1.0000000000000004,
          1.0000000000000002,
          0.9999999999999998,
          1.0000000000000007,
          1,
          0.9999999999999999,
          1,
          1,
          1,
          1,
          1,
          1,
          1,
          1,
          1,
          1.0000000000000004,
          1,
          0.9999999999999999,
          1,
          1,
          1,
          0.9999999999999998,
          1,
          1,
          0.9999999999999998,
          1.0000000000000004,
          0.9999999999999999,
          1,
          0.9999999999999999,
          1,
          1,
          1,
          1,
          1,
          0.9999999999999999,
          1,
          1,
          1,
          1.0000000000000002,
          1,
          1,
          1,
          1,
          0.9999999999999999,
          1,
          0.9999999999999998,
          1.0000000000000002,
          0.9999999999999999,
          0.9999999999999999,
          1.0000000000000002,
          1,
          1,
          0.9999999999999999,
          1.0000000000000002,
          1,
          1,
          1,
          1,
          1.0000000000000002,
          0.9999999999999999,
          1,
          1,
          1.0000000000000002,
          1.0000000000000002,
          0.9999999999999998,
          0.9999999999999998,
          0.9999999999999998,
          0.9999999999999998,
          1,
          1,
          0.9999999999999998,
          1.0000000000000002,
          1,
          1.0000000000000002,
          1.0000000000000002,
          1,
          1,
          1,
          0.9999999999999999,
          1.0000000000000002,
          1,
          0.9999999999999997,
          1,
          1.0000000000000002,
          1,
          0.9999999999999999,
          0.9999999999999998,
          1.0000000000000007,
          0.9999999999999999,
          0.9999999999999999,
          0.9999999999999999,
          1.0000000000000002,
          1
         ]
        }
       ],
       "layout": {
        "font": {
         "size": 15
        },
        "height": 400,
        "legend": {
         "font": {
          "size": 12
         }
        },
        "margin": {
         "t": 30
        },
        "paper_bgcolor": "white",
        "plot_bgcolor": "white",
        "template": {
         "data": {
          "bar": [
           {
            "error_x": {
             "color": "#2a3f5f"
            },
            "error_y": {
             "color": "#2a3f5f"
            },
            "marker": {
             "line": {
              "color": "#E5ECF6",
              "width": 0.5
             },
             "pattern": {
              "fillmode": "overlay",
              "size": 10,
              "solidity": 0.2
             }
            },
            "type": "bar"
           }
          ],
          "barpolar": [
           {
            "marker": {
             "line": {
              "color": "#E5ECF6",
              "width": 0.5
             },
             "pattern": {
              "fillmode": "overlay",
              "size": 10,
              "solidity": 0.2
             }
            },
            "type": "barpolar"
           }
          ],
          "carpet": [
           {
            "aaxis": {
             "endlinecolor": "#2a3f5f",
             "gridcolor": "white",
             "linecolor": "white",
             "minorgridcolor": "white",
             "startlinecolor": "#2a3f5f"
            },
            "baxis": {
             "endlinecolor": "#2a3f5f",
             "gridcolor": "white",
             "linecolor": "white",
             "minorgridcolor": "white",
             "startlinecolor": "#2a3f5f"
            },
            "type": "carpet"
           }
          ],
          "choropleth": [
           {
            "colorbar": {
             "outlinewidth": 0,
             "ticks": ""
            },
            "type": "choropleth"
           }
          ],
          "contour": [
           {
            "colorbar": {
             "outlinewidth": 0,
             "ticks": ""
            },
            "colorscale": [
             [
              0,
              "#0d0887"
             ],
             [
              0.1111111111111111,
              "#46039f"
             ],
             [
              0.2222222222222222,
              "#7201a8"
             ],
             [
              0.3333333333333333,
              "#9c179e"
             ],
             [
              0.4444444444444444,
              "#bd3786"
             ],
             [
              0.5555555555555556,
              "#d8576b"
             ],
             [
              0.6666666666666666,
              "#ed7953"
             ],
             [
              0.7777777777777778,
              "#fb9f3a"
             ],
             [
              0.8888888888888888,
              "#fdca26"
             ],
             [
              1,
              "#f0f921"
             ]
            ],
            "type": "contour"
           }
          ],
          "contourcarpet": [
           {
            "colorbar": {
             "outlinewidth": 0,
             "ticks": ""
            },
            "type": "contourcarpet"
           }
          ],
          "heatmap": [
           {
            "colorbar": {
             "outlinewidth": 0,
             "ticks": ""
            },
            "colorscale": [
             [
              0,
              "#0d0887"
             ],
             [
              0.1111111111111111,
              "#46039f"
             ],
             [
              0.2222222222222222,
              "#7201a8"
             ],
             [
              0.3333333333333333,
              "#9c179e"
             ],
             [
              0.4444444444444444,
              "#bd3786"
             ],
             [
              0.5555555555555556,
              "#d8576b"
             ],
             [
              0.6666666666666666,
              "#ed7953"
             ],
             [
              0.7777777777777778,
              "#fb9f3a"
             ],
             [
              0.8888888888888888,
              "#fdca26"
             ],
             [
              1,
              "#f0f921"
             ]
            ],
            "type": "heatmap"
           }
          ],
          "heatmapgl": [
           {
            "colorbar": {
             "outlinewidth": 0,
             "ticks": ""
            },
            "colorscale": [
             [
              0,
              "#0d0887"
             ],
             [
              0.1111111111111111,
              "#46039f"
             ],
             [
              0.2222222222222222,
              "#7201a8"
             ],
             [
              0.3333333333333333,
              "#9c179e"
             ],
             [
              0.4444444444444444,
              "#bd3786"
             ],
             [
              0.5555555555555556,
              "#d8576b"
             ],
             [
              0.6666666666666666,
              "#ed7953"
             ],
             [
              0.7777777777777778,
              "#fb9f3a"
             ],
             [
              0.8888888888888888,
              "#fdca26"
             ],
             [
              1,
              "#f0f921"
             ]
            ],
            "type": "heatmapgl"
           }
          ],
          "histogram": [
           {
            "marker": {
             "pattern": {
              "fillmode": "overlay",
              "size": 10,
              "solidity": 0.2
             }
            },
            "type": "histogram"
           }
          ],
          "histogram2d": [
           {
            "colorbar": {
             "outlinewidth": 0,
             "ticks": ""
            },
            "colorscale": [
             [
              0,
              "#0d0887"
             ],
             [
              0.1111111111111111,
              "#46039f"
             ],
             [
              0.2222222222222222,
              "#7201a8"
             ],
             [
              0.3333333333333333,
              "#9c179e"
             ],
             [
              0.4444444444444444,
              "#bd3786"
             ],
             [
              0.5555555555555556,
              "#d8576b"
             ],
             [
              0.6666666666666666,
              "#ed7953"
             ],
             [
              0.7777777777777778,
              "#fb9f3a"
             ],
             [
              0.8888888888888888,
              "#fdca26"
             ],
             [
              1,
              "#f0f921"
             ]
            ],
            "type": "histogram2d"
           }
          ],
          "histogram2dcontour": [
           {
            "colorbar": {
             "outlinewidth": 0,
             "ticks": ""
            },
            "colorscale": [
             [
              0,
              "#0d0887"
             ],
             [
              0.1111111111111111,
              "#46039f"
             ],
             [
              0.2222222222222222,
              "#7201a8"
             ],
             [
              0.3333333333333333,
              "#9c179e"
             ],
             [
              0.4444444444444444,
              "#bd3786"
             ],
             [
              0.5555555555555556,
              "#d8576b"
             ],
             [
              0.6666666666666666,
              "#ed7953"
             ],
             [
              0.7777777777777778,
              "#fb9f3a"
             ],
             [
              0.8888888888888888,
              "#fdca26"
             ],
             [
              1,
              "#f0f921"
             ]
            ],
            "type": "histogram2dcontour"
           }
          ],
          "mesh3d": [
           {
            "colorbar": {
             "outlinewidth": 0,
             "ticks": ""
            },
            "type": "mesh3d"
           }
          ],
          "parcoords": [
           {
            "line": {
             "colorbar": {
              "outlinewidth": 0,
              "ticks": ""
             }
            },
            "type": "parcoords"
           }
          ],
          "pie": [
           {
            "automargin": true,
            "type": "pie"
           }
          ],
          "scatter": [
           {
            "fillpattern": {
             "fillmode": "overlay",
             "size": 10,
             "solidity": 0.2
            },
            "type": "scatter"
           }
          ],
          "scatter3d": [
           {
            "line": {
             "colorbar": {
              "outlinewidth": 0,
              "ticks": ""
             }
            },
            "marker": {
             "colorbar": {
              "outlinewidth": 0,
              "ticks": ""
             }
            },
            "type": "scatter3d"
           }
          ],
          "scattercarpet": [
           {
            "marker": {
             "colorbar": {
              "outlinewidth": 0,
              "ticks": ""
             }
            },
            "type": "scattercarpet"
           }
          ],
          "scattergeo": [
           {
            "marker": {
             "colorbar": {
              "outlinewidth": 0,
              "ticks": ""
             }
            },
            "type": "scattergeo"
           }
          ],
          "scattergl": [
           {
            "marker": {
             "colorbar": {
              "outlinewidth": 0,
              "ticks": ""
             }
            },
            "type": "scattergl"
           }
          ],
          "scattermapbox": [
           {
            "marker": {
             "colorbar": {
              "outlinewidth": 0,
              "ticks": ""
             }
            },
            "type": "scattermapbox"
           }
          ],
          "scatterpolar": [
           {
            "marker": {
             "colorbar": {
              "outlinewidth": 0,
              "ticks": ""
             }
            },
            "type": "scatterpolar"
           }
          ],
          "scatterpolargl": [
           {
            "marker": {
             "colorbar": {
              "outlinewidth": 0,
              "ticks": ""
             }
            },
            "type": "scatterpolargl"
           }
          ],
          "scatterternary": [
           {
            "marker": {
             "colorbar": {
              "outlinewidth": 0,
              "ticks": ""
             }
            },
            "type": "scatterternary"
           }
          ],
          "surface": [
           {
            "colorbar": {
             "outlinewidth": 0,
             "ticks": ""
            },
            "colorscale": [
             [
              0,
              "#0d0887"
             ],
             [
              0.1111111111111111,
              "#46039f"
             ],
             [
              0.2222222222222222,
              "#7201a8"
             ],
             [
              0.3333333333333333,
              "#9c179e"
             ],
             [
              0.4444444444444444,
              "#bd3786"
             ],
             [
              0.5555555555555556,
              "#d8576b"
             ],
             [
              0.6666666666666666,
              "#ed7953"
             ],
             [
              0.7777777777777778,
              "#fb9f3a"
             ],
             [
              0.8888888888888888,
              "#fdca26"
             ],
             [
              1,
              "#f0f921"
             ]
            ],
            "type": "surface"
           }
          ],
          "table": [
           {
            "cells": {
             "fill": {
              "color": "#EBF0F8"
             },
             "line": {
              "color": "white"
             }
            },
            "header": {
             "fill": {
              "color": "#C8D4E3"
             },
             "line": {
              "color": "white"
             }
            },
            "type": "table"
           }
          ]
         },
         "layout": {
          "annotationdefaults": {
           "arrowcolor": "#2a3f5f",
           "arrowhead": 0,
           "arrowwidth": 1
          },
          "autotypenumbers": "strict",
          "coloraxis": {
           "colorbar": {
            "outlinewidth": 0,
            "ticks": ""
           }
          },
          "colorscale": {
           "diverging": [
            [
             0,
             "#8e0152"
            ],
            [
             0.1,
             "#c51b7d"
            ],
            [
             0.2,
             "#de77ae"
            ],
            [
             0.3,
             "#f1b6da"
            ],
            [
             0.4,
             "#fde0ef"
            ],
            [
             0.5,
             "#f7f7f7"
            ],
            [
             0.6,
             "#e6f5d0"
            ],
            [
             0.7,
             "#b8e186"
            ],
            [
             0.8,
             "#7fbc41"
            ],
            [
             0.9,
             "#4d9221"
            ],
            [
             1,
             "#276419"
            ]
           ],
           "sequential": [
            [
             0,
             "#0d0887"
            ],
            [
             0.1111111111111111,
             "#46039f"
            ],
            [
             0.2222222222222222,
             "#7201a8"
            ],
            [
             0.3333333333333333,
             "#9c179e"
            ],
            [
             0.4444444444444444,
             "#bd3786"
            ],
            [
             0.5555555555555556,
             "#d8576b"
            ],
            [
             0.6666666666666666,
             "#ed7953"
            ],
            [
             0.7777777777777778,
             "#fb9f3a"
            ],
            [
             0.8888888888888888,
             "#fdca26"
            ],
            [
             1,
             "#f0f921"
            ]
           ],
           "sequentialminus": [
            [
             0,
             "#0d0887"
            ],
            [
             0.1111111111111111,
             "#46039f"
            ],
            [
             0.2222222222222222,
             "#7201a8"
            ],
            [
             0.3333333333333333,
             "#9c179e"
            ],
            [
             0.4444444444444444,
             "#bd3786"
            ],
            [
             0.5555555555555556,
             "#d8576b"
            ],
            [
             0.6666666666666666,
             "#ed7953"
            ],
            [
             0.7777777777777778,
             "#fb9f3a"
            ],
            [
             0.8888888888888888,
             "#fdca26"
            ],
            [
             1,
             "#f0f921"
            ]
           ]
          },
          "colorway": [
           "#636efa",
           "#EF553B",
           "#00cc96",
           "#ab63fa",
           "#FFA15A",
           "#19d3f3",
           "#FF6692",
           "#B6E880",
           "#FF97FF",
           "#FECB52"
          ],
          "font": {
           "color": "#2a3f5f"
          },
          "geo": {
           "bgcolor": "white",
           "lakecolor": "white",
           "landcolor": "#E5ECF6",
           "showlakes": true,
           "showland": true,
           "subunitcolor": "white"
          },
          "hoverlabel": {
           "align": "left"
          },
          "hovermode": "closest",
          "mapbox": {
           "style": "light"
          },
          "paper_bgcolor": "white",
          "plot_bgcolor": "#E5ECF6",
          "polar": {
           "angularaxis": {
            "gridcolor": "white",
            "linecolor": "white",
            "ticks": ""
           },
           "bgcolor": "#E5ECF6",
           "radialaxis": {
            "gridcolor": "white",
            "linecolor": "white",
            "ticks": ""
           }
          },
          "scene": {
           "xaxis": {
            "backgroundcolor": "#E5ECF6",
            "gridcolor": "white",
            "gridwidth": 2,
            "linecolor": "white",
            "showbackground": true,
            "ticks": "",
            "zerolinecolor": "white"
           },
           "yaxis": {
            "backgroundcolor": "#E5ECF6",
            "gridcolor": "white",
            "gridwidth": 2,
            "linecolor": "white",
            "showbackground": true,
            "ticks": "",
            "zerolinecolor": "white"
           },
           "zaxis": {
            "backgroundcolor": "#E5ECF6",
            "gridcolor": "white",
            "gridwidth": 2,
            "linecolor": "white",
            "showbackground": true,
            "ticks": "",
            "zerolinecolor": "white"
           }
          },
          "shapedefaults": {
           "line": {
            "color": "#2a3f5f"
           }
          },
          "ternary": {
           "aaxis": {
            "gridcolor": "white",
            "linecolor": "white",
            "ticks": ""
           },
           "baxis": {
            "gridcolor": "white",
            "linecolor": "white",
            "ticks": ""
           },
           "bgcolor": "#E5ECF6",
           "caxis": {
            "gridcolor": "white",
            "linecolor": "white",
            "ticks": ""
           }
          },
          "title": {
           "x": 0.05
          },
          "xaxis": {
           "automargin": true,
           "gridcolor": "white",
           "linecolor": "white",
           "ticks": "",
           "title": {
            "standoff": 15
           },
           "zerolinecolor": "white",
           "zerolinewidth": 2
          },
          "yaxis": {
           "automargin": true,
           "gridcolor": "white",
           "linecolor": "white",
           "ticks": "",
           "title": {
            "standoff": 15
           },
           "zerolinecolor": "white",
           "zerolinewidth": 2
          }
         }
        },
        "title": {
         "text": "<b>Bus voltage<b>",
         "x": 0.5,
         "xanchor": "center",
         "y": 0.97,
         "yanchor": "top"
        },
        "width": 680,
        "xaxis": {
         "gridcolor": "black",
         "gridwidth": 1,
         "linecolor": "black",
         "linewidth": 2,
         "showgrid": true,
         "showline": true,
         "tickfont": {
          "family": "Arial Black",
          "size": 12
         },
         "tickmode": "array",
         "ticktext": [
          "00h00",
          "04h00",
          "08h00",
          "12h00",
          "16h00",
          "20h00"
         ],
         "tickvals": [
          0,
          16,
          32,
          48,
          64,
          80
         ],
         "title": {
          "font": {
           "size": 12
          },
          "text": "<b>Time<b>"
         },
         "zeroline": false
        },
        "yaxis": {
         "gridcolor": "black",
         "gridwidth": 1,
         "linecolor": "black",
         "linewidth": 2,
         "showgrid": true,
         "showline": true,
         "tickfont": {
          "family": "Arial Black",
          "size": 12
         },
         "title": {
          "font": {
           "size": 12
          },
          "text": "<b>V [pu]<b>"
         },
         "zeroline": false
        }
       }
      },
      "text/html": [
       "<div>                            <div id=\"e5fe2055-6f54-45f7-842a-a08e5770a47f\" class=\"plotly-graph-div\" style=\"height:400px; width:680px;\"></div>            <script type=\"text/javascript\">                require([\"plotly\"], function(Plotly) {                    window.PLOTLYENV=window.PLOTLYENV || {};                                    if (document.getElementById(\"e5fe2055-6f54-45f7-842a-a08e5770a47f\")) {                    Plotly.newPlot(                        \"e5fe2055-6f54-45f7-842a-a08e5770a47f\",                        [{\"hovertemplate\":\"\\u003cb\\u003ebus_1\\u003cbr\\u003eV [pu]: %{y:.2f}\\u003cbr\\u003eTime: %{text}\\u003cb\\u003e\\u003cextra\\u003e\\u003c\\u002fextra\\u003e\",\"mode\":\"lines\",\"name\":\"\\u003cb\\u003ebus_1\\u003cb\\u003e\",\"text\":[\"00h00\",\"00h15\",\"00h30\",\"00h45\",\"01h00\",\"01h15\",\"01h30\",\"01h45\",\"02h00\",\"02h15\",\"02h30\",\"02h45\",\"03h00\",\"03h15\",\"03h30\",\"03h45\",\"04h00\",\"04h15\",\"04h30\",\"04h45\",\"05h00\",\"05h15\",\"05h30\",\"05h45\",\"06h00\",\"06h15\",\"06h30\",\"06h45\",\"07h00\",\"07h15\",\"07h30\",\"07h45\",\"08h00\",\"08h15\",\"08h30\",\"08h45\",\"09h00\",\"09h15\",\"09h30\",\"09h45\",\"10h00\",\"10h15\",\"10h30\",\"10h45\",\"11h00\",\"11h15\",\"11h30\",\"11h45\",\"12h00\",\"12h15\",\"12h30\",\"12h45\",\"13h00\",\"13h15\",\"13h30\",\"13h45\",\"14h00\",\"14h15\",\"14h30\",\"14h45\",\"15h00\",\"15h15\",\"15h30\",\"15h45\",\"16h00\",\"16h15\",\"16h30\",\"16h45\",\"17h00\",\"17h15\",\"17h30\",\"17h45\",\"18h00\",\"18h15\",\"18h30\",\"18h45\",\"19h00\",\"19h15\",\"19h30\",\"19h45\",\"20h00\",\"20h15\",\"20h30\",\"20h45\",\"21h00\",\"21h15\",\"21h30\",\"21h45\",\"22h00\",\"22h15\",\"22h30\",\"22h45\",\"23h00\",\"23h15\",\"23h30\",\"23h45\"],\"x\":[0,1,2,3,4,5,6,7,8,9,10,11,12,13,14,15,16,17,18,19,20,21,22,23,24,25,26,27,28,29,30,31,32,33,34,35,36,37,38,39,40,41,42,43,44,45,46,47,48,49,50,51,52,53,54,55,56,57,58,59,60,61,62,63,64,65,66,67,68,69,70,71,72,73,74,75,76,77,78,79,80,81,82,83,84,85,86,87,88,89,90,91,92,93,94,95],\"y\":[1.0,1.0,1.0,1.0,1.0,1.0,1.0,1.0,1.0,1.0,1.0,1.0,1.0,1.0,1.0,1.0,1.0,1.0,1.0,1.0,1.0,1.0,1.0,1.0,1.0,1.0,1.0,1.0,1.0,1.0,1.0,1.0,1.0,1.0,1.0,1.0,1.0,1.0,1.0,1.0,1.0,1.0,1.0,1.0,1.0,1.0,1.0,1.0,1.0,1.0,1.0,1.0,1.0,1.0,1.0,1.0,1.0,1.0,1.0,1.0,1.0,1.0,1.0,1.0,1.0,1.0,1.0,1.0,1.0,1.0,1.0,1.0,1.0,1.0,1.0,1.0,1.0,1.0,1.0,1.0,1.0,1.0,1.0,1.0,1.0,1.0,1.0,1.0,1.0,1.0,1.0,1.0,1.0,1.0,1.0,1.0],\"type\":\"scatter\"},{\"hovertemplate\":\"\\u003cb\\u003ebus_2\\u003cbr\\u003eV [pu]: %{y:.2f}\\u003cbr\\u003eTime: %{text}\\u003cb\\u003e\\u003cextra\\u003e\\u003c\\u002fextra\\u003e\",\"mode\":\"lines\",\"name\":\"\\u003cb\\u003ebus_2\\u003cb\\u003e\",\"text\":[\"00h00\",\"00h15\",\"00h30\",\"00h45\",\"01h00\",\"01h15\",\"01h30\",\"01h45\",\"02h00\",\"02h15\",\"02h30\",\"02h45\",\"03h00\",\"03h15\",\"03h30\",\"03h45\",\"04h00\",\"04h15\",\"04h30\",\"04h45\",\"05h00\",\"05h15\",\"05h30\",\"05h45\",\"06h00\",\"06h15\",\"06h30\",\"06h45\",\"07h00\",\"07h15\",\"07h30\",\"07h45\",\"08h00\",\"08h15\",\"08h30\",\"08h45\",\"09h00\",\"09h15\",\"09h30\",\"09h45\",\"10h00\",\"10h15\",\"10h30\",\"10h45\",\"11h00\",\"11h15\",\"11h30\",\"11h45\",\"12h00\",\"12h15\",\"12h30\",\"12h45\",\"13h00\",\"13h15\",\"13h30\",\"13h45\",\"14h00\",\"14h15\",\"14h30\",\"14h45\",\"15h00\",\"15h15\",\"15h30\",\"15h45\",\"16h00\",\"16h15\",\"16h30\",\"16h45\",\"17h00\",\"17h15\",\"17h30\",\"17h45\",\"18h00\",\"18h15\",\"18h30\",\"18h45\",\"19h00\",\"19h15\",\"19h30\",\"19h45\",\"20h00\",\"20h15\",\"20h30\",\"20h45\",\"21h00\",\"21h15\",\"21h30\",\"21h45\",\"22h00\",\"22h15\",\"22h30\",\"22h45\",\"23h00\",\"23h15\",\"23h30\",\"23h45\"],\"x\":[0,1,2,3,4,5,6,7,8,9,10,11,12,13,14,15,16,17,18,19,20,21,22,23,24,25,26,27,28,29,30,31,32,33,34,35,36,37,38,39,40,41,42,43,44,45,46,47,48,49,50,51,52,53,54,55,56,57,58,59,60,61,62,63,64,65,66,67,68,69,70,71,72,73,74,75,76,77,78,79,80,81,82,83,84,85,86,87,88,89,90,91,92,93,94,95],\"y\":[1.05,1.05,1.0500000000000005,1.0500000000000003,1.0499999999999998,1.05,1.05,1.05,1.0500000000000003,1.0499999999999996,1.0499999999999998,1.0500000000000003,1.05,1.0499999999999998,1.0499999999999998,1.0499999999999998,1.0500000000000003,1.0500000000000003,1.0499999999999998,1.0499999999999998,1.05,1.0500000000000003,1.0499999999999998,1.0499999999999998,1.0499999999999998,1.0500000000000003,1.05,1.05,1.0500000000000003,1.05,1.0499999999999996,1.05,1.0500000000000003,1.0500000000000003,1.0500000000000003,1.0499999999999996,1.0499999999999998,1.0499999999999998,1.05,1.05,1.05,1.05,1.05,1.05,1.0499999999999998,1.05,1.0499999999999998,1.0499999999999998,1.0500000000000003,1.0499999999999998,1.0499999999999998,1.05,1.05,1.0500000000000003,1.0500000000000003,1.05,1.05,1.05,1.0500000000000003,1.0500000000000003,1.05,1.05,1.05,1.0500000000000003,1.0500000000000003,1.05,1.0500000000000003,1.0499999999999998,1.0500000000000003,1.0499999999999998,1.0500000000000003,1.0500000000000003,1.0499999999999998,1.0499999999999998,1.0499999999999998,1.0500000000000003,1.05,1.0500000000000003,1.0499999999999998,1.0499999999999998,1.05,1.0499999999999998,1.05,1.05,1.05,1.05,1.05,1.0500000000000003,1.0500000000000003,1.0500000000000005,1.05,1.0500000000000003,1.05,1.05,1.0499999999999998,1.0499999999999996],\"type\":\"scatter\"},{\"hovertemplate\":\"\\u003cb\\u003ebus_3\\u003cbr\\u003eV [pu]: %{y:.2f}\\u003cbr\\u003eTime: %{text}\\u003cb\\u003e\\u003cextra\\u003e\\u003c\\u002fextra\\u003e\",\"mode\":\"lines\",\"name\":\"\\u003cb\\u003ebus_3\\u003cb\\u003e\",\"text\":[\"00h00\",\"00h15\",\"00h30\",\"00h45\",\"01h00\",\"01h15\",\"01h30\",\"01h45\",\"02h00\",\"02h15\",\"02h30\",\"02h45\",\"03h00\",\"03h15\",\"03h30\",\"03h45\",\"04h00\",\"04h15\",\"04h30\",\"04h45\",\"05h00\",\"05h15\",\"05h30\",\"05h45\",\"06h00\",\"06h15\",\"06h30\",\"06h45\",\"07h00\",\"07h15\",\"07h30\",\"07h45\",\"08h00\",\"08h15\",\"08h30\",\"08h45\",\"09h00\",\"09h15\",\"09h30\",\"09h45\",\"10h00\",\"10h15\",\"10h30\",\"10h45\",\"11h00\",\"11h15\",\"11h30\",\"11h45\",\"12h00\",\"12h15\",\"12h30\",\"12h45\",\"13h00\",\"13h15\",\"13h30\",\"13h45\",\"14h00\",\"14h15\",\"14h30\",\"14h45\",\"15h00\",\"15h15\",\"15h30\",\"15h45\",\"16h00\",\"16h15\",\"16h30\",\"16h45\",\"17h00\",\"17h15\",\"17h30\",\"17h45\",\"18h00\",\"18h15\",\"18h30\",\"18h45\",\"19h00\",\"19h15\",\"19h30\",\"19h45\",\"20h00\",\"20h15\",\"20h30\",\"20h45\",\"21h00\",\"21h15\",\"21h30\",\"21h45\",\"22h00\",\"22h15\",\"22h30\",\"22h45\",\"23h00\",\"23h15\",\"23h30\",\"23h45\"],\"x\":[0,1,2,3,4,5,6,7,8,9,10,11,12,13,14,15,16,17,18,19,20,21,22,23,24,25,26,27,28,29,30,31,32,33,34,35,36,37,38,39,40,41,42,43,44,45,46,47,48,49,50,51,52,53,54,55,56,57,58,59,60,61,62,63,64,65,66,67,68,69,70,71,72,73,74,75,76,77,78,79,80,81,82,83,84,85,86,87,88,89,90,91,92,93,94,95],\"y\":[0.9588445246132441,0.9629996654237435,0.9664418696742133,0.9692439844390717,0.9712511946601475,0.9726284767461383,0.9735143669730737,0.9740814683322507,0.9744398587467934,0.9746946688282344,0.9747963173317902,0.9749484952740766,0.9751003198183328,0.975201340058063,0.9753525765452649,0.9753525765452649,0.9753022035450895,0.9751003198184077,0.974847082605476,0.974490899549474,0.9740301116751657,0.9728902290744683,0.9704441881127024,0.9659263763229887,0.9585936901098636,0.9487896036453006,0.9375867771365002,0.9265649414438261,0.9175831819702797,0.9110481879288881,0.9068996523911337,0.9047745043498729,0.9041609206653778,0.9047745043534371,0.9064975239225709,0.9088918027506777,0.9118234111625589,0.9147834752229722,0.9176754303139241,0.9199595225238497,0.9214887589843705,0.9224681149607964,0.9229106686287545,0.9229106686287545,0.922556755596228,0.9217566418222258,0.9202307832644038,0.9176754303139236,0.9140261983461145,0.9099745227134272,0.9065981726417803,0.9047745043498733,0.9053852274524389,0.907899559380359,0.9115332541986871,0.9153484546255266,0.9188684410817418,0.9219349023316358,0.9246647696504864,0.9272484103126478,0.9296095926527103,0.9315958132152229,0.9332250022118447,0.9341111405232412,0.9342715075297857,0.9334673696528727,0.9315137375489919,0.9279279241736053,0.9226453312172492,0.9156299927585884,0.9069999904724929,0.8968922022611641,0.8854917070980599,0.8734504702959222,0.86140422798412,0.8502200787532989,0.8411750696114556,0.8354246481712795,0.8342460058814458,0.8384111238215296,0.8474739963518307,0.8592932592361576,0.8712522288228172,0.8816729991288061,0.8895510007918972,0.8956959679847746,0.9010493640081133,0.9063967973176484,0.9123055417649347,0.9185941519757574,0.9250125244117159,0.9314316028246667,0.9375867771361601,0.9434865722302896,0.9489987710997559,0.9541515375841255],\"type\":\"scatter\"},{\"hovertemplate\":\"\\u003cb\\u003ebus_4\\u003cbr\\u003eV [pu]: %{y:.2f}\\u003cbr\\u003eTime: %{text}\\u003cb\\u003e\\u003cextra\\u003e\\u003c\\u002fextra\\u003e\",\"mode\":\"lines\",\"name\":\"\\u003cb\\u003ebus_4\\u003cb\\u003e\",\"text\":[\"00h00\",\"00h15\",\"00h30\",\"00h45\",\"01h00\",\"01h15\",\"01h30\",\"01h45\",\"02h00\",\"02h15\",\"02h30\",\"02h45\",\"03h00\",\"03h15\",\"03h30\",\"03h45\",\"04h00\",\"04h15\",\"04h30\",\"04h45\",\"05h00\",\"05h15\",\"05h30\",\"05h45\",\"06h00\",\"06h15\",\"06h30\",\"06h45\",\"07h00\",\"07h15\",\"07h30\",\"07h45\",\"08h00\",\"08h15\",\"08h30\",\"08h45\",\"09h00\",\"09h15\",\"09h30\",\"09h45\",\"10h00\",\"10h15\",\"10h30\",\"10h45\",\"11h00\",\"11h15\",\"11h30\",\"11h45\",\"12h00\",\"12h15\",\"12h30\",\"12h45\",\"13h00\",\"13h15\",\"13h30\",\"13h45\",\"14h00\",\"14h15\",\"14h30\",\"14h45\",\"15h00\",\"15h15\",\"15h30\",\"15h45\",\"16h00\",\"16h15\",\"16h30\",\"16h45\",\"17h00\",\"17h15\",\"17h30\",\"17h45\",\"18h00\",\"18h15\",\"18h30\",\"18h45\",\"19h00\",\"19h15\",\"19h30\",\"19h45\",\"20h00\",\"20h15\",\"20h30\",\"20h45\",\"21h00\",\"21h15\",\"21h30\",\"21h45\",\"22h00\",\"22h15\",\"22h30\",\"22h45\",\"23h00\",\"23h15\",\"23h30\",\"23h45\"],\"x\":[0,1,2,3,4,5,6,7,8,9,10,11,12,13,14,15,16,17,18,19,20,21,22,23,24,25,26,27,28,29,30,31,32,33,34,35,36,37,38,39,40,41,42,43,44,45,46,47,48,49,50,51,52,53,54,55,56,57,58,59,60,61,62,63,64,65,66,67,68,69,70,71,72,73,74,75,76,77,78,79,80,81,82,83,84,85,86,87,88,89,90,91,92,93,94,95],\"y\":[0.9995213420917702,0.9999843230719949,1.0003671168498722,1.0006781869734755,1.0009006924663828,1.0010532049464225,1.001151230158595,1.0012139498603094,1.0012535740448765,1.0012817401659686,1.0012929747405832,1.0013097924991732,1.0013265693787046,1.0013377312793532,1.0013544401389198,1.0013544401389198,1.001348875048782,1.0013265693787126,1.0012985852053784,1.0012592163834935,1.0012082709797652,1.0010821743432008,1.000811266563613,1.0003098363857328,0.999493363201263,0.9983973244475836,0.9971396248862071,0.9958973993184936,0.994881873356986,0.9941412848083127,0.9936704294331007,0.9934290166218658,0.9933592884929361,0.9934290166222864,0.9936247592350833,0.9938966051126692,0.9942292110328378,0.9945647637346852,0.9948923174558827,0.9951508246769513,0.9953238004695232,0.9954345357461983,0.995484564191106,0.995484564191106,0.9954445566632494,0.99535409312776,0.9951815134871242,0.9948923174558827,0.9944789460812822,0.9940194772444185,0.9936361905033719,0.9934290166218658,0.9934984080541454,0.9937839679835061,0.9941963035463266,0.9946287771932096,0.9950273610622123,0.9953742497684251,0.9956827893271177,0.9959745605424177,0.9962410001750951,0.9964649707664662,0.9966485722312648,0.9967483936121776,0.9967664553883665,0.9966758773048114,0.9964557186239311,0.996051258649017,0.995454569958661,0.9946606721790656,0.9936818241540356,0.9925323878439131,0.9912322840285789,0.9898550871688333,0.9884733596128505,0.9871871100360907,0.9861445583830549,0.9854807011854481,0.9853445338979376,0.9858255752284059,0.9868708051675082,0.988230831756855,0.9896032349855948,0.990795964271182,0.9916956366716368,0.9923961494721031,0.9930055099754492,0.9936133188028434,0.9942838847544636,0.9949963169716475,0.9957220751344044,0.9964464595732425,0.9971396248861667,0.9978026297633886,0.9984207556205756,0.9989973356437122],\"type\":\"scatter\"},{\"hovertemplate\":\"\\u003cb\\u003ebus_5\\u003cbr\\u003eV [pu]: %{y:.2f}\\u003cbr\\u003eTime: %{text}\\u003cb\\u003e\\u003cextra\\u003e\\u003c\\u002fextra\\u003e\",\"mode\":\"lines\",\"name\":\"\\u003cb\\u003ebus_5\\u003cb\\u003e\",\"text\":[\"00h00\",\"00h15\",\"00h30\",\"00h45\",\"01h00\",\"01h15\",\"01h30\",\"01h45\",\"02h00\",\"02h15\",\"02h30\",\"02h45\",\"03h00\",\"03h15\",\"03h30\",\"03h45\",\"04h00\",\"04h15\",\"04h30\",\"04h45\",\"05h00\",\"05h15\",\"05h30\",\"05h45\",\"06h00\",\"06h15\",\"06h30\",\"06h45\",\"07h00\",\"07h15\",\"07h30\",\"07h45\",\"08h00\",\"08h15\",\"08h30\",\"08h45\",\"09h00\",\"09h15\",\"09h30\",\"09h45\",\"10h00\",\"10h15\",\"10h30\",\"10h45\",\"11h00\",\"11h15\",\"11h30\",\"11h45\",\"12h00\",\"12h15\",\"12h30\",\"12h45\",\"13h00\",\"13h15\",\"13h30\",\"13h45\",\"14h00\",\"14h15\",\"14h30\",\"14h45\",\"15h00\",\"15h15\",\"15h30\",\"15h45\",\"16h00\",\"16h15\",\"16h30\",\"16h45\",\"17h00\",\"17h15\",\"17h30\",\"17h45\",\"18h00\",\"18h15\",\"18h30\",\"18h45\",\"19h00\",\"19h15\",\"19h30\",\"19h45\",\"20h00\",\"20h15\",\"20h30\",\"20h45\",\"21h00\",\"21h15\",\"21h30\",\"21h45\",\"22h00\",\"22h15\",\"22h30\",\"22h45\",\"23h00\",\"23h15\",\"23h30\",\"23h45\"],\"x\":[0,1,2,3,4,5,6,7,8,9,10,11,12,13,14,15,16,17,18,19,20,21,22,23,24,25,26,27,28,29,30,31,32,33,34,35,36,37,38,39,40,41,42,43,44,45,46,47,48,49,50,51,52,53,54,55,56,57,58,59,60,61,62,63,64,65,66,67,68,69,70,71,72,73,74,75,76,77,78,79,80,81,82,83,84,85,86,87,88,89,90,91,92,93,94,95],\"y\":[1.0000000000000002,0.9999999999999999,0.9999999999999999,1.0000000000000004,1.0000000000000002,0.9999999999999998,1.0000000000000007,1.0,0.9999999999999999,1.0,1.0,1.0,1.0,1.0,1.0,1.0,1.0,1.0,1.0000000000000004,1.0,0.9999999999999999,1.0,1.0,1.0,0.9999999999999998,1.0,1.0,0.9999999999999998,1.0000000000000004,0.9999999999999999,1.0,0.9999999999999999,1.0,1.0,1.0,1.0,1.0,0.9999999999999999,1.0,1.0,1.0,1.0000000000000002,1.0,1.0,1.0,1.0,0.9999999999999999,1.0,0.9999999999999998,1.0000000000000002,0.9999999999999999,0.9999999999999999,1.0000000000000002,1.0,1.0,0.9999999999999999,1.0000000000000002,1.0,1.0,1.0,1.0,1.0000000000000002,0.9999999999999999,1.0,1.0,1.0000000000000002,1.0000000000000002,0.9999999999999998,0.9999999999999998,0.9999999999999998,0.9999999999999998,1.0,1.0,0.9999999999999998,1.0000000000000002,1.0,1.0000000000000002,1.0000000000000002,1.0,1.0,1.0,0.9999999999999999,1.0000000000000002,1.0,0.9999999999999997,1.0,1.0000000000000002,1.0,0.9999999999999999,0.9999999999999998,1.0000000000000007,0.9999999999999999,0.9999999999999999,0.9999999999999999,1.0000000000000002,1.0],\"type\":\"scatter\"}],                        {\"template\":{\"data\":{\"histogram2dcontour\":[{\"type\":\"histogram2dcontour\",\"colorbar\":{\"outlinewidth\":0,\"ticks\":\"\"},\"colorscale\":[[0.0,\"#0d0887\"],[0.1111111111111111,\"#46039f\"],[0.2222222222222222,\"#7201a8\"],[0.3333333333333333,\"#9c179e\"],[0.4444444444444444,\"#bd3786\"],[0.5555555555555556,\"#d8576b\"],[0.6666666666666666,\"#ed7953\"],[0.7777777777777778,\"#fb9f3a\"],[0.8888888888888888,\"#fdca26\"],[1.0,\"#f0f921\"]]}],\"choropleth\":[{\"type\":\"choropleth\",\"colorbar\":{\"outlinewidth\":0,\"ticks\":\"\"}}],\"histogram2d\":[{\"type\":\"histogram2d\",\"colorbar\":{\"outlinewidth\":0,\"ticks\":\"\"},\"colorscale\":[[0.0,\"#0d0887\"],[0.1111111111111111,\"#46039f\"],[0.2222222222222222,\"#7201a8\"],[0.3333333333333333,\"#9c179e\"],[0.4444444444444444,\"#bd3786\"],[0.5555555555555556,\"#d8576b\"],[0.6666666666666666,\"#ed7953\"],[0.7777777777777778,\"#fb9f3a\"],[0.8888888888888888,\"#fdca26\"],[1.0,\"#f0f921\"]]}],\"heatmap\":[{\"type\":\"heatmap\",\"colorbar\":{\"outlinewidth\":0,\"ticks\":\"\"},\"colorscale\":[[0.0,\"#0d0887\"],[0.1111111111111111,\"#46039f\"],[0.2222222222222222,\"#7201a8\"],[0.3333333333333333,\"#9c179e\"],[0.4444444444444444,\"#bd3786\"],[0.5555555555555556,\"#d8576b\"],[0.6666666666666666,\"#ed7953\"],[0.7777777777777778,\"#fb9f3a\"],[0.8888888888888888,\"#fdca26\"],[1.0,\"#f0f921\"]]}],\"heatmapgl\":[{\"type\":\"heatmapgl\",\"colorbar\":{\"outlinewidth\":0,\"ticks\":\"\"},\"colorscale\":[[0.0,\"#0d0887\"],[0.1111111111111111,\"#46039f\"],[0.2222222222222222,\"#7201a8\"],[0.3333333333333333,\"#9c179e\"],[0.4444444444444444,\"#bd3786\"],[0.5555555555555556,\"#d8576b\"],[0.6666666666666666,\"#ed7953\"],[0.7777777777777778,\"#fb9f3a\"],[0.8888888888888888,\"#fdca26\"],[1.0,\"#f0f921\"]]}],\"contourcarpet\":[{\"type\":\"contourcarpet\",\"colorbar\":{\"outlinewidth\":0,\"ticks\":\"\"}}],\"contour\":[{\"type\":\"contour\",\"colorbar\":{\"outlinewidth\":0,\"ticks\":\"\"},\"colorscale\":[[0.0,\"#0d0887\"],[0.1111111111111111,\"#46039f\"],[0.2222222222222222,\"#7201a8\"],[0.3333333333333333,\"#9c179e\"],[0.4444444444444444,\"#bd3786\"],[0.5555555555555556,\"#d8576b\"],[0.6666666666666666,\"#ed7953\"],[0.7777777777777778,\"#fb9f3a\"],[0.8888888888888888,\"#fdca26\"],[1.0,\"#f0f921\"]]}],\"surface\":[{\"type\":\"surface\",\"colorbar\":{\"outlinewidth\":0,\"ticks\":\"\"},\"colorscale\":[[0.0,\"#0d0887\"],[0.1111111111111111,\"#46039f\"],[0.2222222222222222,\"#7201a8\"],[0.3333333333333333,\"#9c179e\"],[0.4444444444444444,\"#bd3786\"],[0.5555555555555556,\"#d8576b\"],[0.6666666666666666,\"#ed7953\"],[0.7777777777777778,\"#fb9f3a\"],[0.8888888888888888,\"#fdca26\"],[1.0,\"#f0f921\"]]}],\"mesh3d\":[{\"type\":\"mesh3d\",\"colorbar\":{\"outlinewidth\":0,\"ticks\":\"\"}}],\"scatter\":[{\"fillpattern\":{\"fillmode\":\"overlay\",\"size\":10,\"solidity\":0.2},\"type\":\"scatter\"}],\"parcoords\":[{\"type\":\"parcoords\",\"line\":{\"colorbar\":{\"outlinewidth\":0,\"ticks\":\"\"}}}],\"scatterpolargl\":[{\"type\":\"scatterpolargl\",\"marker\":{\"colorbar\":{\"outlinewidth\":0,\"ticks\":\"\"}}}],\"bar\":[{\"error_x\":{\"color\":\"#2a3f5f\"},\"error_y\":{\"color\":\"#2a3f5f\"},\"marker\":{\"line\":{\"color\":\"#E5ECF6\",\"width\":0.5},\"pattern\":{\"fillmode\":\"overlay\",\"size\":10,\"solidity\":0.2}},\"type\":\"bar\"}],\"scattergeo\":[{\"type\":\"scattergeo\",\"marker\":{\"colorbar\":{\"outlinewidth\":0,\"ticks\":\"\"}}}],\"scatterpolar\":[{\"type\":\"scatterpolar\",\"marker\":{\"colorbar\":{\"outlinewidth\":0,\"ticks\":\"\"}}}],\"histogram\":[{\"marker\":{\"pattern\":{\"fillmode\":\"overlay\",\"size\":10,\"solidity\":0.2}},\"type\":\"histogram\"}],\"scattergl\":[{\"type\":\"scattergl\",\"marker\":{\"colorbar\":{\"outlinewidth\":0,\"ticks\":\"\"}}}],\"scatter3d\":[{\"type\":\"scatter3d\",\"line\":{\"colorbar\":{\"outlinewidth\":0,\"ticks\":\"\"}},\"marker\":{\"colorbar\":{\"outlinewidth\":0,\"ticks\":\"\"}}}],\"scattermapbox\":[{\"type\":\"scattermapbox\",\"marker\":{\"colorbar\":{\"outlinewidth\":0,\"ticks\":\"\"}}}],\"scatterternary\":[{\"type\":\"scatterternary\",\"marker\":{\"colorbar\":{\"outlinewidth\":0,\"ticks\":\"\"}}}],\"scattercarpet\":[{\"type\":\"scattercarpet\",\"marker\":{\"colorbar\":{\"outlinewidth\":0,\"ticks\":\"\"}}}],\"carpet\":[{\"aaxis\":{\"endlinecolor\":\"#2a3f5f\",\"gridcolor\":\"white\",\"linecolor\":\"white\",\"minorgridcolor\":\"white\",\"startlinecolor\":\"#2a3f5f\"},\"baxis\":{\"endlinecolor\":\"#2a3f5f\",\"gridcolor\":\"white\",\"linecolor\":\"white\",\"minorgridcolor\":\"white\",\"startlinecolor\":\"#2a3f5f\"},\"type\":\"carpet\"}],\"table\":[{\"cells\":{\"fill\":{\"color\":\"#EBF0F8\"},\"line\":{\"color\":\"white\"}},\"header\":{\"fill\":{\"color\":\"#C8D4E3\"},\"line\":{\"color\":\"white\"}},\"type\":\"table\"}],\"barpolar\":[{\"marker\":{\"line\":{\"color\":\"#E5ECF6\",\"width\":0.5},\"pattern\":{\"fillmode\":\"overlay\",\"size\":10,\"solidity\":0.2}},\"type\":\"barpolar\"}],\"pie\":[{\"automargin\":true,\"type\":\"pie\"}]},\"layout\":{\"autotypenumbers\":\"strict\",\"colorway\":[\"#636efa\",\"#EF553B\",\"#00cc96\",\"#ab63fa\",\"#FFA15A\",\"#19d3f3\",\"#FF6692\",\"#B6E880\",\"#FF97FF\",\"#FECB52\"],\"font\":{\"color\":\"#2a3f5f\"},\"hovermode\":\"closest\",\"hoverlabel\":{\"align\":\"left\"},\"paper_bgcolor\":\"white\",\"plot_bgcolor\":\"#E5ECF6\",\"polar\":{\"bgcolor\":\"#E5ECF6\",\"angularaxis\":{\"gridcolor\":\"white\",\"linecolor\":\"white\",\"ticks\":\"\"},\"radialaxis\":{\"gridcolor\":\"white\",\"linecolor\":\"white\",\"ticks\":\"\"}},\"ternary\":{\"bgcolor\":\"#E5ECF6\",\"aaxis\":{\"gridcolor\":\"white\",\"linecolor\":\"white\",\"ticks\":\"\"},\"baxis\":{\"gridcolor\":\"white\",\"linecolor\":\"white\",\"ticks\":\"\"},\"caxis\":{\"gridcolor\":\"white\",\"linecolor\":\"white\",\"ticks\":\"\"}},\"coloraxis\":{\"colorbar\":{\"outlinewidth\":0,\"ticks\":\"\"}},\"colorscale\":{\"sequential\":[[0.0,\"#0d0887\"],[0.1111111111111111,\"#46039f\"],[0.2222222222222222,\"#7201a8\"],[0.3333333333333333,\"#9c179e\"],[0.4444444444444444,\"#bd3786\"],[0.5555555555555556,\"#d8576b\"],[0.6666666666666666,\"#ed7953\"],[0.7777777777777778,\"#fb9f3a\"],[0.8888888888888888,\"#fdca26\"],[1.0,\"#f0f921\"]],\"sequentialminus\":[[0.0,\"#0d0887\"],[0.1111111111111111,\"#46039f\"],[0.2222222222222222,\"#7201a8\"],[0.3333333333333333,\"#9c179e\"],[0.4444444444444444,\"#bd3786\"],[0.5555555555555556,\"#d8576b\"],[0.6666666666666666,\"#ed7953\"],[0.7777777777777778,\"#fb9f3a\"],[0.8888888888888888,\"#fdca26\"],[1.0,\"#f0f921\"]],\"diverging\":[[0,\"#8e0152\"],[0.1,\"#c51b7d\"],[0.2,\"#de77ae\"],[0.3,\"#f1b6da\"],[0.4,\"#fde0ef\"],[0.5,\"#f7f7f7\"],[0.6,\"#e6f5d0\"],[0.7,\"#b8e186\"],[0.8,\"#7fbc41\"],[0.9,\"#4d9221\"],[1,\"#276419\"]]},\"xaxis\":{\"gridcolor\":\"white\",\"linecolor\":\"white\",\"ticks\":\"\",\"title\":{\"standoff\":15},\"zerolinecolor\":\"white\",\"automargin\":true,\"zerolinewidth\":2},\"yaxis\":{\"gridcolor\":\"white\",\"linecolor\":\"white\",\"ticks\":\"\",\"title\":{\"standoff\":15},\"zerolinecolor\":\"white\",\"automargin\":true,\"zerolinewidth\":2},\"scene\":{\"xaxis\":{\"backgroundcolor\":\"#E5ECF6\",\"gridcolor\":\"white\",\"linecolor\":\"white\",\"showbackground\":true,\"ticks\":\"\",\"zerolinecolor\":\"white\",\"gridwidth\":2},\"yaxis\":{\"backgroundcolor\":\"#E5ECF6\",\"gridcolor\":\"white\",\"linecolor\":\"white\",\"showbackground\":true,\"ticks\":\"\",\"zerolinecolor\":\"white\",\"gridwidth\":2},\"zaxis\":{\"backgroundcolor\":\"#E5ECF6\",\"gridcolor\":\"white\",\"linecolor\":\"white\",\"showbackground\":true,\"ticks\":\"\",\"zerolinecolor\":\"white\",\"gridwidth\":2}},\"shapedefaults\":{\"line\":{\"color\":\"#2a3f5f\"}},\"annotationdefaults\":{\"arrowcolor\":\"#2a3f5f\",\"arrowhead\":0,\"arrowwidth\":1},\"geo\":{\"bgcolor\":\"white\",\"landcolor\":\"#E5ECF6\",\"subunitcolor\":\"white\",\"showland\":true,\"showlakes\":true,\"lakecolor\":\"white\"},\"title\":{\"x\":0.05},\"mapbox\":{\"style\":\"light\"}}},\"font\":{\"size\":15},\"xaxis\":{\"tickfont\":{\"size\":12,\"family\":\"Arial Black\"},\"title\":{\"text\":\"\\u003cb\\u003eTime\\u003cb\\u003e\",\"font\":{\"size\":12}},\"zeroline\":false,\"tickmode\":\"array\",\"tickvals\":[0,16,32,48,64,80],\"ticktext\":[\"00h00\",\"04h00\",\"08h00\",\"12h00\",\"16h00\",\"20h00\"],\"showline\":true,\"showgrid\":true,\"gridwidth\":1,\"linewidth\":2,\"linecolor\":\"black\",\"gridcolor\":\"black\"},\"yaxis\":{\"tickfont\":{\"size\":12,\"family\":\"Arial Black\"},\"title\":{\"text\":\"\\u003cb\\u003eV [pu]\\u003cb\\u003e\",\"font\":{\"size\":12}},\"zeroline\":false,\"showline\":true,\"showgrid\":true,\"gridwidth\":1,\"linewidth\":2,\"linecolor\":\"black\",\"gridcolor\":\"black\"},\"margin\":{\"t\":30},\"legend\":{\"font\":{\"size\":12}},\"paper_bgcolor\":\"white\",\"plot_bgcolor\":\"white\",\"width\":680,\"height\":400,\"title\":{\"text\":\"\\u003cb\\u003eBus voltage\\u003cb\\u003e\",\"y\":0.97,\"x\":0.5,\"xanchor\":\"center\",\"yanchor\":\"top\"}},                        {\"responsive\": true}                    ).then(function(){\n",
       "                            \n",
       "var gd = document.getElementById('e5fe2055-6f54-45f7-842a-a08e5770a47f');\n",
       "var x = new MutationObserver(function (mutations, observer) {{\n",
       "        var display = window.getComputedStyle(gd).display;\n",
       "        if (!display || display === 'none') {{\n",
       "            console.log([gd, 'removed!']);\n",
       "            Plotly.purge(gd);\n",
       "            observer.disconnect();\n",
       "        }}\n",
       "}});\n",
       "\n",
       "// Listen for the removal of the full notebook cells\n",
       "var notebookContainer = gd.closest('#notebook-container');\n",
       "if (notebookContainer) {{\n",
       "    x.observe(notebookContainer, {childList: true});\n",
       "}}\n",
       "\n",
       "// Listen for the clearing of the current output cell\n",
       "var outputEl = gd.closest('.output');\n",
       "if (outputEl) {{\n",
       "    x.observe(outputEl, {childList: true});\n",
       "}}\n",
       "\n",
       "                        })                };                });            </script>        </div>"
      ]
     },
     "metadata": {},
     "output_type": "display_data"
    }
   ],
   "source": [
    "pp_plot.plot_timeseries_result(\n",
    "    data_df=result_df[\"res_bus.vm_pu\"],\n",
    "    ylabel=\"V [pu]\",\n",
    "    plot_title=\"Bus voltage\",\n",
    "    filename=\"voltage_result\",\n",
    ")"
   ]
  },
  {
   "cell_type": "code",
   "execution_count": 671,
   "metadata": {},
   "outputs": [
    {
     "data": {
      "application/vnd.plotly.v1+json": {
       "config": {
        "plotlyServerURL": "https://plot.ly"
       },
       "data": [
        {
         "hovertemplate": "<b>line_a<br>[%]: %{y:.2f}<br>Time: %{text}<b><extra></extra>",
         "mode": "lines",
         "name": "<b>line_a<b>",
         "text": [
          "00h00",
          "00h15",
          "00h30",
          "00h45",
          "01h00",
          "01h15",
          "01h30",
          "01h45",
          "02h00",
          "02h15",
          "02h30",
          "02h45",
          "03h00",
          "03h15",
          "03h30",
          "03h45",
          "04h00",
          "04h15",
          "04h30",
          "04h45",
          "05h00",
          "05h15",
          "05h30",
          "05h45",
          "06h00",
          "06h15",
          "06h30",
          "06h45",
          "07h00",
          "07h15",
          "07h30",
          "07h45",
          "08h00",
          "08h15",
          "08h30",
          "08h45",
          "09h00",
          "09h15",
          "09h30",
          "09h45",
          "10h00",
          "10h15",
          "10h30",
          "10h45",
          "11h00",
          "11h15",
          "11h30",
          "11h45",
          "12h00",
          "12h15",
          "12h30",
          "12h45",
          "13h00",
          "13h15",
          "13h30",
          "13h45",
          "14h00",
          "14h15",
          "14h30",
          "14h45",
          "15h00",
          "15h15",
          "15h30",
          "15h45",
          "16h00",
          "16h15",
          "16h30",
          "16h45",
          "17h00",
          "17h15",
          "17h30",
          "17h45",
          "18h00",
          "18h15",
          "18h30",
          "18h45",
          "19h00",
          "19h15",
          "19h30",
          "19h45",
          "20h00",
          "20h15",
          "20h30",
          "20h45",
          "21h00",
          "21h15",
          "21h30",
          "21h45",
          "22h00",
          "22h15",
          "22h30",
          "22h45",
          "23h00",
          "23h15",
          "23h30",
          "23h45"
         ],
         "type": "scatter",
         "x": [
          0,
          1,
          2,
          3,
          4,
          5,
          6,
          7,
          8,
          9,
          10,
          11,
          12,
          13,
          14,
          15,
          16,
          17,
          18,
          19,
          20,
          21,
          22,
          23,
          24,
          25,
          26,
          27,
          28,
          29,
          30,
          31,
          32,
          33,
          34,
          35,
          36,
          37,
          38,
          39,
          40,
          41,
          42,
          43,
          44,
          45,
          46,
          47,
          48,
          49,
          50,
          51,
          52,
          53,
          54,
          55,
          56,
          57,
          58,
          59,
          60,
          61,
          62,
          63,
          64,
          65,
          66,
          67,
          68,
          69,
          70,
          71,
          72,
          73,
          74,
          75,
          76,
          77,
          78,
          79,
          80,
          81,
          82,
          83,
          84,
          85,
          86,
          87,
          88,
          89,
          90,
          91,
          92,
          93,
          94,
          95
         ],
         "y": [
          16.564043980580905,
          17.408790745094336,
          18.142995379516165,
          18.766134910804816,
          19.227823604277223,
          19.552549246617918,
          19.765004842684984,
          19.902533922254083,
          19.990076340463244,
          20.052618111380834,
          20.077637508923043,
          20.11516949605372,
          20.15270496143566,
          20.177730542573443,
          20.215271828449836,
          20.21527182844984,
          20.202757677409462,
          20.152704961435393,
          20.090147785471764,
          20.00258392782932,
          19.890029385689036,
          19.615025004732296,
          19.040593576916695,
          18.03092174023398,
          16.514401617049696,
          14.681609345786956,
          12.80871799233642,
          11.156996853596988,
          9.932771539078646,
          9.105131442150551,
          8.606149976051018,
          8.358346632201478,
          8.287777619836097,
          8.358346632210573,
          8.558855765171817,
          8.84323711997974,
          9.200628217589491,
          9.571875548416262,
          9.944826331922814,
          10.246675420489494,
          10.452426205244569,
          10.585755594167246,
          10.646408474343875,
          10.646408474343879,
          10.597883782085495,
          10.488773902403272,
          10.282956574540469,
          9.944826331922808,
          9.475896509347175,
          8.974047769889424,
          8.570675315700228,
          8.358346632201474,
          8.429021386840455,
          8.724568214185568,
          9.164801241461932,
          9.643934360346705,
          10.101675279854556,
          10.51301194820064,
          10.889308392478005,
          11.254458785106092,
          11.596043724282506,
          11.88936617893435,
          12.134145441573926,
          12.268898415611455,
          12.293408064653166,
          12.170887743371466,
          11.877135183444382,
          11.351981773642663,
          10.610013169279979,
          9.679987085569255,
          8.61798015390428,
          7.485030053746154,
          6.350783670018964,
          5.328343807752528,
          4.510682229111778,
          3.9680958296627336,
          3.7027140154931337,
          3.618132077106896,
          3.6087345045052213,
          3.6539525104788604,
          3.8705056663321225,
          4.3912363381091675,
          5.162849032756248,
          6.006145460799474,
          6.736862132448591,
          7.358800439585977,
          7.936640286670478,
          8.547038905565051,
          9.260380794082236,
          10.0654572228533,
          10.937941489057902,
          11.864904967865234,
          12.808717992336591,
          13.768422121137636,
          14.71867927224347,
          15.658938881600651
         ]
        },
        {
         "hovertemplate": "<b>line_b<br>[%]: %{y:.2f}<br>Time: %{text}<b><extra></extra>",
         "mode": "lines",
         "name": "<b>line_b<b>",
         "text": [
          "00h00",
          "00h15",
          "00h30",
          "00h45",
          "01h00",
          "01h15",
          "01h30",
          "01h45",
          "02h00",
          "02h15",
          "02h30",
          "02h45",
          "03h00",
          "03h15",
          "03h30",
          "03h45",
          "04h00",
          "04h15",
          "04h30",
          "04h45",
          "05h00",
          "05h15",
          "05h30",
          "05h45",
          "06h00",
          "06h15",
          "06h30",
          "06h45",
          "07h00",
          "07h15",
          "07h30",
          "07h45",
          "08h00",
          "08h15",
          "08h30",
          "08h45",
          "09h00",
          "09h15",
          "09h30",
          "09h45",
          "10h00",
          "10h15",
          "10h30",
          "10h45",
          "11h00",
          "11h15",
          "11h30",
          "11h45",
          "12h00",
          "12h15",
          "12h30",
          "12h45",
          "13h00",
          "13h15",
          "13h30",
          "13h45",
          "14h00",
          "14h15",
          "14h30",
          "14h45",
          "15h00",
          "15h15",
          "15h30",
          "15h45",
          "16h00",
          "16h15",
          "16h30",
          "16h45",
          "17h00",
          "17h15",
          "17h30",
          "17h45",
          "18h00",
          "18h15",
          "18h30",
          "18h45",
          "19h00",
          "19h15",
          "19h30",
          "19h45",
          "20h00",
          "20h15",
          "20h30",
          "20h45",
          "21h00",
          "21h15",
          "21h30",
          "21h45",
          "22h00",
          "22h15",
          "22h30",
          "22h45",
          "23h00",
          "23h15",
          "23h30",
          "23h45"
         ],
         "type": "scatter",
         "x": [
          0,
          1,
          2,
          3,
          4,
          5,
          6,
          7,
          8,
          9,
          10,
          11,
          12,
          13,
          14,
          15,
          16,
          17,
          18,
          19,
          20,
          21,
          22,
          23,
          24,
          25,
          26,
          27,
          28,
          29,
          30,
          31,
          32,
          33,
          34,
          35,
          36,
          37,
          38,
          39,
          40,
          41,
          42,
          43,
          44,
          45,
          46,
          47,
          48,
          49,
          50,
          51,
          52,
          53,
          54,
          55,
          56,
          57,
          58,
          59,
          60,
          61,
          62,
          63,
          64,
          65,
          66,
          67,
          68,
          69,
          70,
          71,
          72,
          73,
          74,
          75,
          76,
          77,
          78,
          79,
          80,
          81,
          82,
          83,
          84,
          85,
          86,
          87,
          88,
          89,
          90,
          91,
          92,
          93,
          94,
          95
         ],
         "y": [
          5.5357762297020585,
          5.243536034671361,
          4.994918413624918,
          4.787722763072348,
          4.636429521224638,
          4.531140475181084,
          4.462753636359915,
          4.418695299572112,
          4.390736716840858,
          4.370803713290039,
          4.362839244260424,
          4.350901899438862,
          4.33897578797335,
          4.331031289506438,
          4.319123908470035,
          4.319123908470037,
          4.32309178638923,
          4.338975787970986,
          4.358858881366721,
          4.386747621530486,
          4.422694370181772,
          4.510989296561465,
          4.697557615921059,
          5.032552080442425,
          5.553161590638295,
          6.212426023976427,
          6.92480533367639,
          7.5919342250560575,
          8.115400298309057,
          8.486536220920165,
          8.718323029075108,
          8.835985104849595,
          8.869826347318261,
          8.83598510470523,
          8.740642030386152,
          8.607371042926587,
          8.442904206923565,
          8.275340242518894,
          8.110105568548141,
          7.978486977008485,
          7.889795333339049,
          7.832748118370046,
          7.8069050908231965,
          7.806905090823197,
          7.827575157676361,
          7.87421060660851,
          7.9627884683051775,
          8.110105568548146,
          8.31835581999714,
          8.546797073745228,
          8.735058218838123,
          8.835985104849588,
          8.802243889678142,
          8.662713926421016,
          8.459247196686453,
          8.243180426396265,
          8.04148502857082,
          7.863831813990875,
          7.704072205996054,
          7.551405933665592,
          7.410580303805202,
          7.291111294960409,
          7.192404115983464,
          7.138438104475524,
          7.128650433940187,
          7.177663572636677,
          7.296066774133596,
          7.511008587797459,
          7.822404377219288,
          8.227133023710024,
          8.712750035044735,
          9.266473549279395,
          9.874145649940466,
          10.4992020420868,
          11.109550820764088,
          11.66442454025237,
          12.105705550568388,
          12.383047743783301,
          12.439599831562138,
          12.239310695548522,
          11.79907347620434,
          11.215108957476657,
          10.611637829519088,
          10.074122526625024,
          9.659668126962195,
          9.331031888016442,
          9.040562956179484,
          8.746228555635787,
          8.415716309310248,
          8.057285925311696,
          7.683607976961398,
          7.301024184992458,
          6.924805333689249,
          6.554474583533549,
          6.1987409574519825,
          5.856572355866066
         ]
        },
        {
         "hovertemplate": "<b>line_c<br>[%]: %{y:.2f}<br>Time: %{text}<b><extra></extra>",
         "mode": "lines",
         "name": "<b>line_c<b>",
         "text": [
          "00h00",
          "00h15",
          "00h30",
          "00h45",
          "01h00",
          "01h15",
          "01h30",
          "01h45",
          "02h00",
          "02h15",
          "02h30",
          "02h45",
          "03h00",
          "03h15",
          "03h30",
          "03h45",
          "04h00",
          "04h15",
          "04h30",
          "04h45",
          "05h00",
          "05h15",
          "05h30",
          "05h45",
          "06h00",
          "06h15",
          "06h30",
          "06h45",
          "07h00",
          "07h15",
          "07h30",
          "07h45",
          "08h00",
          "08h15",
          "08h30",
          "08h45",
          "09h00",
          "09h15",
          "09h30",
          "09h45",
          "10h00",
          "10h15",
          "10h30",
          "10h45",
          "11h00",
          "11h15",
          "11h30",
          "11h45",
          "12h00",
          "12h15",
          "12h30",
          "12h45",
          "13h00",
          "13h15",
          "13h30",
          "13h45",
          "14h00",
          "14h15",
          "14h30",
          "14h45",
          "15h00",
          "15h15",
          "15h30",
          "15h45",
          "16h00",
          "16h15",
          "16h30",
          "16h45",
          "17h00",
          "17h15",
          "17h30",
          "17h45",
          "18h00",
          "18h15",
          "18h30",
          "18h45",
          "19h00",
          "19h15",
          "19h30",
          "19h45",
          "20h00",
          "20h15",
          "20h30",
          "20h45",
          "21h00",
          "21h15",
          "21h30",
          "21h45",
          "22h00",
          "22h15",
          "22h30",
          "22h45",
          "23h00",
          "23h15",
          "23h30",
          "23h45"
         ],
         "type": "scatter",
         "x": [
          0,
          1,
          2,
          3,
          4,
          5,
          6,
          7,
          8,
          9,
          10,
          11,
          12,
          13,
          14,
          15,
          16,
          17,
          18,
          19,
          20,
          21,
          22,
          23,
          24,
          25,
          26,
          27,
          28,
          29,
          30,
          31,
          32,
          33,
          34,
          35,
          36,
          37,
          38,
          39,
          40,
          41,
          42,
          43,
          44,
          45,
          46,
          47,
          48,
          49,
          50,
          51,
          52,
          53,
          54,
          55,
          56,
          57,
          58,
          59,
          60,
          61,
          62,
          63,
          64,
          65,
          66,
          67,
          68,
          69,
          70,
          71,
          72,
          73,
          74,
          75,
          76,
          77,
          78,
          79,
          80,
          81,
          82,
          83,
          84,
          85,
          86,
          87,
          88,
          89,
          90,
          91,
          92,
          93,
          94,
          95
         ],
         "y": [
          3.7336282679121626,
          4.317393779238059,
          4.848738886201619,
          5.311232286600232,
          5.658786203812431,
          5.905170023933797,
          6.067093016553892,
          6.172181477771862,
          6.239176772663288,
          6.287085761525487,
          6.306261921580125,
          6.335039387651131,
          6.363832503107469,
          6.383036486281914,
          6.41185514171958,
          6.41185514171958,
          6.402247244257533,
          6.363832503108159,
          6.315852656124944,
          6.248754942260757,
          6.162618254646234,
          5.952730503790236,
          5.517416602813942,
          4.766551984067389,
          3.7005667805906404,
          2.6515466878722402,
          2.2875415611445185,
          2.847372490041875,
          3.6253109214022166,
          4.250659584562942,
          4.655983203613156,
          4.864288332567665,
          4.924430556763728,
          4.8642883324099255,
          4.695389237496151,
          4.460980389282188,
          4.175353926686611,
          3.8901038000727826,
          3.6166984326464773,
          3.4063957887715297,
          3.269402008045176,
          3.1836523742822824,
          3.145480698011264,
          3.1454806980112644,
          3.1759767364018114,
          3.2457807124062517,
          3.3818461621061737,
          3.6166984326464915,
          3.9626631695092547,
          4.355245787188029,
          4.685525470783705,
          4.8642883325676545,
          4.804419028783304,
          4.558050827444386,
          4.203516853857949,
          3.8361982709937195,
          3.5061045491831004,
          3.230129868252212,
          2.9982309617097895,
          2.7957225352896407,
          2.630140267232241,
          2.509389353495389,
          2.4257556457271665,
          2.3869371523465643,
          2.3804523389475323,
          2.414646682027771,
          2.51399221562954,
          2.7459233979382276,
          3.168321618053104,
          3.8094160056106796,
          4.646152240458974,
          5.633924325015283,
          6.722962816283664,
          7.828968190380822,
          8.885666819584026,
          9.822485968511325,
          10.550090057988585,
          10.999240110878779,
          11.090045032662555,
          10.767252482381847,
          10.04617072363098,
          9.065708675671264,
          8.025537766293322,
          7.078985516432393,
          6.339427529954116,
          5.749807405036629,
          5.229029936559977,
          4.705261119627112,
          4.128624756455666,
          3.53139562463571,
          2.969891503230581,
          2.5186337733225024,
          2.287541561155407,
          2.346128743944164,
          2.668007461156551,
          3.161587236712283
         ]
        },
        {
         "hovertemplate": "<b>line_d<br>[%]: %{y:.2f}<br>Time: %{text}<b><extra></extra>",
         "mode": "lines",
         "name": "<b>line_d<b>",
         "text": [
          "00h00",
          "00h15",
          "00h30",
          "00h45",
          "01h00",
          "01h15",
          "01h30",
          "01h45",
          "02h00",
          "02h15",
          "02h30",
          "02h45",
          "03h00",
          "03h15",
          "03h30",
          "03h45",
          "04h00",
          "04h15",
          "04h30",
          "04h45",
          "05h00",
          "05h15",
          "05h30",
          "05h45",
          "06h00",
          "06h15",
          "06h30",
          "06h45",
          "07h00",
          "07h15",
          "07h30",
          "07h45",
          "08h00",
          "08h15",
          "08h30",
          "08h45",
          "09h00",
          "09h15",
          "09h30",
          "09h45",
          "10h00",
          "10h15",
          "10h30",
          "10h45",
          "11h00",
          "11h15",
          "11h30",
          "11h45",
          "12h00",
          "12h15",
          "12h30",
          "12h45",
          "13h00",
          "13h15",
          "13h30",
          "13h45",
          "14h00",
          "14h15",
          "14h30",
          "14h45",
          "15h00",
          "15h15",
          "15h30",
          "15h45",
          "16h00",
          "16h15",
          "16h30",
          "16h45",
          "17h00",
          "17h15",
          "17h30",
          "17h45",
          "18h00",
          "18h15",
          "18h30",
          "18h45",
          "19h00",
          "19h15",
          "19h30",
          "19h45",
          "20h00",
          "20h15",
          "20h30",
          "20h45",
          "21h00",
          "21h15",
          "21h30",
          "21h45",
          "22h00",
          "22h15",
          "22h30",
          "22h45",
          "23h00",
          "23h15",
          "23h30",
          "23h45"
         ],
         "type": "scatter",
         "x": [
          0,
          1,
          2,
          3,
          4,
          5,
          6,
          7,
          8,
          9,
          10,
          11,
          12,
          13,
          14,
          15,
          16,
          17,
          18,
          19,
          20,
          21,
          22,
          23,
          24,
          25,
          26,
          27,
          28,
          29,
          30,
          31,
          32,
          33,
          34,
          35,
          36,
          37,
          38,
          39,
          40,
          41,
          42,
          43,
          44,
          45,
          46,
          47,
          48,
          49,
          50,
          51,
          52,
          53,
          54,
          55,
          56,
          57,
          58,
          59,
          60,
          61,
          62,
          63,
          64,
          65,
          66,
          67,
          68,
          69,
          70,
          71,
          72,
          73,
          74,
          75,
          76,
          77,
          78,
          79,
          80,
          81,
          82,
          83,
          84,
          85,
          86,
          87,
          88,
          89,
          90,
          91,
          92,
          93,
          94,
          95
         ],
         "y": [
          9.422350637086357,
          9.276358421740385,
          9.1526344931162,
          9.049752950915307,
          8.97470348293375,
          8.922486651743599,
          8.888567890165183,
          8.866711816619787,
          8.852840099362897,
          8.842948991116902,
          8.83899654554646,
          8.833072137658919,
          8.827152820504597,
          8.823209425146153,
          8.81729853810172,
          8.81729853810172,
          8.819268274190799,
          8.82715282050344,
          8.837021175760825,
          8.850860731847808,
          8.86869580800151,
          8.912492533244992,
          9.005021867219458,
          9.171340401478979,
          9.431058730744166,
          9.76365887387704,
          10.12946381543283,
          10.47932649555891,
          10.759355329469027,
          10.961011172862465,
          11.088306266373143,
          11.153330202908974,
          11.172082881521645,
          11.153330202806082,
          11.100619409619398,
          11.027241053979827,
          10.937166275363076,
          10.84593462955961,
          10.75649746214737,
          10.685624748639427,
          10.638049201663149,
          10.60752503495656,
          10.593716918864441,
          10.593716918864443,
          10.604760104968742,
          10.629704356396465,
          10.677193192794169,
          10.756497462147369,
          10.869303267524565,
          10.994004650184412,
          11.097537959765138,
          11.153330202908968,
          11.134655624291687,
          11.057670112036835,
          10.946093389363035,
          10.828486636943017,
          10.719506805286708,
          10.624149513460459,
          10.538893247043966,
          10.457853517501615,
          10.383465672634301,
          10.32062948616479,
          10.26889720186249,
          10.24068304295505,
          10.235571120364103,
          10.261185811500411,
          10.323231006947147,
          10.43647889733139,
          10.601996830684332,
          10.81978766371834,
          11.085233243460676,
          11.393590731085473,
          11.73914854490073,
          12.102543996617833,
          12.46523698590053,
          12.801701733089171,
          13.07384973636612,
          13.246950808399955,
          13.282441510220803,
          13.157040718399607,
          12.884315248564912,
          12.528751634663097,
          12.168774076547257,
          11.85452920772237,
          11.61631925627339,
          11.42994398574768,
          11.26704305560629,
          11.103702974103777,
          10.922326764911874,
          10.728016608278915,
          10.528005956985519,
          10.325833961516453,
          10.129463815441833,
          9.938372639450094,
          9.756701907311523,
          9.583518324073276
         ]
        },
        {
         "hovertemplate": "<b>line_e<br>[%]: %{y:.2f}<br>Time: %{text}<b><extra></extra>",
         "mode": "lines",
         "name": "<b>line_e<b>",
         "text": [
          "00h00",
          "00h15",
          "00h30",
          "00h45",
          "01h00",
          "01h15",
          "01h30",
          "01h45",
          "02h00",
          "02h15",
          "02h30",
          "02h45",
          "03h00",
          "03h15",
          "03h30",
          "03h45",
          "04h00",
          "04h15",
          "04h30",
          "04h45",
          "05h00",
          "05h15",
          "05h30",
          "05h45",
          "06h00",
          "06h15",
          "06h30",
          "06h45",
          "07h00",
          "07h15",
          "07h30",
          "07h45",
          "08h00",
          "08h15",
          "08h30",
          "08h45",
          "09h00",
          "09h15",
          "09h30",
          "09h45",
          "10h00",
          "10h15",
          "10h30",
          "10h45",
          "11h00",
          "11h15",
          "11h30",
          "11h45",
          "12h00",
          "12h15",
          "12h30",
          "12h45",
          "13h00",
          "13h15",
          "13h30",
          "13h45",
          "14h00",
          "14h15",
          "14h30",
          "14h45",
          "15h00",
          "15h15",
          "15h30",
          "15h45",
          "16h00",
          "16h15",
          "16h30",
          "16h45",
          "17h00",
          "17h15",
          "17h30",
          "17h45",
          "18h00",
          "18h15",
          "18h30",
          "18h45",
          "19h00",
          "19h15",
          "19h30",
          "19h45",
          "20h00",
          "20h15",
          "20h30",
          "20h45",
          "21h00",
          "21h15",
          "21h30",
          "21h45",
          "22h00",
          "22h15",
          "22h30",
          "22h45",
          "23h00",
          "23h15",
          "23h30",
          "23h45"
         ],
         "type": "scatter",
         "x": [
          0,
          1,
          2,
          3,
          4,
          5,
          6,
          7,
          8,
          9,
          10,
          11,
          12,
          13,
          14,
          15,
          16,
          17,
          18,
          19,
          20,
          21,
          22,
          23,
          24,
          25,
          26,
          27,
          28,
          29,
          30,
          31,
          32,
          33,
          34,
          35,
          36,
          37,
          38,
          39,
          40,
          41,
          42,
          43,
          44,
          45,
          46,
          47,
          48,
          49,
          50,
          51,
          52,
          53,
          54,
          55,
          56,
          57,
          58,
          59,
          60,
          61,
          62,
          63,
          64,
          65,
          66,
          67,
          68,
          69,
          70,
          71,
          72,
          73,
          74,
          75,
          76,
          77,
          78,
          79,
          80,
          81,
          82,
          83,
          84,
          85,
          86,
          87,
          88,
          89,
          90,
          91,
          92,
          93,
          94,
          95
         ],
         "y": [
          5.543294062717423,
          5.641982967271487,
          5.72804849633426,
          5.801311579389772,
          5.855723359008337,
          5.8940609618253825,
          5.9191742015259035,
          5.935443680449541,
          5.945805116172926,
          5.9532100318567664,
          5.95617290847696,
          5.960618200814185,
          5.965064668011626,
          5.968029633276687,
          5.972478063533288,
          5.972478063533285,
          5.97099512235563,
          5.965064668011259,
          5.9576545421851215,
          5.947285839534267,
          5.9339639926692875,
          5.901443381802783,
          5.833644074060682,
          5.714893152149755,
          5.53750545816583,
          5.324610010043288,
          5.108576930667312,
          4.91905199204089,
          4.778858941374077,
          4.683969568406467,
          4.626600634435134,
          4.598034932981947,
          4.589888432338956,
          4.598034932974074,
          4.6211532834213305,
          4.653880583531387,
          4.694931498969124,
          4.737508901337657,
          4.780239677467793,
          4.814807146089729,
          4.838365908474502,
          4.853632113906456,
          4.860577012156447,
          4.860577012156449,
          4.855020809242127,
          4.842527695751799,
          4.818961501718596,
          4.780239677467787,
          4.726506217553527,
          4.668914643947863,
          4.622514847657319,
          4.598034932981947,
          4.606188216667792,
          4.64023168155771,
          4.690819513315727,
          4.745767621206367,
          4.798203059316507,
          4.845302940441087,
          4.888391810280734,
          4.930217445565422,
          4.969363622374464,
          5.0029989617091015,
          5.031084630709975,
          5.046553203598276,
          5.049367293239306,
          5.035301831529062,
          5.001596011032745,
          4.941391475380246,
          4.8564096469076725,
          4.7498991190555975,
          4.627962927003812,
          4.496716203469508,
          4.362244734320629,
          4.234397392828661,
          4.11984767648973,
          4.024568679994543,
          3.9548369254948694,
          3.913754837194208,
          3.90563799560388,
          3.9347817853622855,
          4.002723211576266,
          4.101071093818568,
          4.212530264126759,
          4.3201848514705254,
          4.408562257136175,
          4.481954689665724,
          4.54926029067807,
          4.619791902056523,
          4.701788149989703,
          4.794055398046134,
          4.8939614538965195,
          5.0001931880706385,
          5.108576930668887,
          5.219099653796734,
          5.3289007025504675,
          5.437939947955869
         ]
        }
       ],
       "layout": {
        "font": {
         "size": 15
        },
        "height": 400,
        "legend": {
         "font": {
          "size": 12
         }
        },
        "margin": {
         "t": 30
        },
        "paper_bgcolor": "white",
        "plot_bgcolor": "white",
        "template": {
         "data": {
          "bar": [
           {
            "error_x": {
             "color": "#2a3f5f"
            },
            "error_y": {
             "color": "#2a3f5f"
            },
            "marker": {
             "line": {
              "color": "#E5ECF6",
              "width": 0.5
             },
             "pattern": {
              "fillmode": "overlay",
              "size": 10,
              "solidity": 0.2
             }
            },
            "type": "bar"
           }
          ],
          "barpolar": [
           {
            "marker": {
             "line": {
              "color": "#E5ECF6",
              "width": 0.5
             },
             "pattern": {
              "fillmode": "overlay",
              "size": 10,
              "solidity": 0.2
             }
            },
            "type": "barpolar"
           }
          ],
          "carpet": [
           {
            "aaxis": {
             "endlinecolor": "#2a3f5f",
             "gridcolor": "white",
             "linecolor": "white",
             "minorgridcolor": "white",
             "startlinecolor": "#2a3f5f"
            },
            "baxis": {
             "endlinecolor": "#2a3f5f",
             "gridcolor": "white",
             "linecolor": "white",
             "minorgridcolor": "white",
             "startlinecolor": "#2a3f5f"
            },
            "type": "carpet"
           }
          ],
          "choropleth": [
           {
            "colorbar": {
             "outlinewidth": 0,
             "ticks": ""
            },
            "type": "choropleth"
           }
          ],
          "contour": [
           {
            "colorbar": {
             "outlinewidth": 0,
             "ticks": ""
            },
            "colorscale": [
             [
              0,
              "#0d0887"
             ],
             [
              0.1111111111111111,
              "#46039f"
             ],
             [
              0.2222222222222222,
              "#7201a8"
             ],
             [
              0.3333333333333333,
              "#9c179e"
             ],
             [
              0.4444444444444444,
              "#bd3786"
             ],
             [
              0.5555555555555556,
              "#d8576b"
             ],
             [
              0.6666666666666666,
              "#ed7953"
             ],
             [
              0.7777777777777778,
              "#fb9f3a"
             ],
             [
              0.8888888888888888,
              "#fdca26"
             ],
             [
              1,
              "#f0f921"
             ]
            ],
            "type": "contour"
           }
          ],
          "contourcarpet": [
           {
            "colorbar": {
             "outlinewidth": 0,
             "ticks": ""
            },
            "type": "contourcarpet"
           }
          ],
          "heatmap": [
           {
            "colorbar": {
             "outlinewidth": 0,
             "ticks": ""
            },
            "colorscale": [
             [
              0,
              "#0d0887"
             ],
             [
              0.1111111111111111,
              "#46039f"
             ],
             [
              0.2222222222222222,
              "#7201a8"
             ],
             [
              0.3333333333333333,
              "#9c179e"
             ],
             [
              0.4444444444444444,
              "#bd3786"
             ],
             [
              0.5555555555555556,
              "#d8576b"
             ],
             [
              0.6666666666666666,
              "#ed7953"
             ],
             [
              0.7777777777777778,
              "#fb9f3a"
             ],
             [
              0.8888888888888888,
              "#fdca26"
             ],
             [
              1,
              "#f0f921"
             ]
            ],
            "type": "heatmap"
           }
          ],
          "heatmapgl": [
           {
            "colorbar": {
             "outlinewidth": 0,
             "ticks": ""
            },
            "colorscale": [
             [
              0,
              "#0d0887"
             ],
             [
              0.1111111111111111,
              "#46039f"
             ],
             [
              0.2222222222222222,
              "#7201a8"
             ],
             [
              0.3333333333333333,
              "#9c179e"
             ],
             [
              0.4444444444444444,
              "#bd3786"
             ],
             [
              0.5555555555555556,
              "#d8576b"
             ],
             [
              0.6666666666666666,
              "#ed7953"
             ],
             [
              0.7777777777777778,
              "#fb9f3a"
             ],
             [
              0.8888888888888888,
              "#fdca26"
             ],
             [
              1,
              "#f0f921"
             ]
            ],
            "type": "heatmapgl"
           }
          ],
          "histogram": [
           {
            "marker": {
             "pattern": {
              "fillmode": "overlay",
              "size": 10,
              "solidity": 0.2
             }
            },
            "type": "histogram"
           }
          ],
          "histogram2d": [
           {
            "colorbar": {
             "outlinewidth": 0,
             "ticks": ""
            },
            "colorscale": [
             [
              0,
              "#0d0887"
             ],
             [
              0.1111111111111111,
              "#46039f"
             ],
             [
              0.2222222222222222,
              "#7201a8"
             ],
             [
              0.3333333333333333,
              "#9c179e"
             ],
             [
              0.4444444444444444,
              "#bd3786"
             ],
             [
              0.5555555555555556,
              "#d8576b"
             ],
             [
              0.6666666666666666,
              "#ed7953"
             ],
             [
              0.7777777777777778,
              "#fb9f3a"
             ],
             [
              0.8888888888888888,
              "#fdca26"
             ],
             [
              1,
              "#f0f921"
             ]
            ],
            "type": "histogram2d"
           }
          ],
          "histogram2dcontour": [
           {
            "colorbar": {
             "outlinewidth": 0,
             "ticks": ""
            },
            "colorscale": [
             [
              0,
              "#0d0887"
             ],
             [
              0.1111111111111111,
              "#46039f"
             ],
             [
              0.2222222222222222,
              "#7201a8"
             ],
             [
              0.3333333333333333,
              "#9c179e"
             ],
             [
              0.4444444444444444,
              "#bd3786"
             ],
             [
              0.5555555555555556,
              "#d8576b"
             ],
             [
              0.6666666666666666,
              "#ed7953"
             ],
             [
              0.7777777777777778,
              "#fb9f3a"
             ],
             [
              0.8888888888888888,
              "#fdca26"
             ],
             [
              1,
              "#f0f921"
             ]
            ],
            "type": "histogram2dcontour"
           }
          ],
          "mesh3d": [
           {
            "colorbar": {
             "outlinewidth": 0,
             "ticks": ""
            },
            "type": "mesh3d"
           }
          ],
          "parcoords": [
           {
            "line": {
             "colorbar": {
              "outlinewidth": 0,
              "ticks": ""
             }
            },
            "type": "parcoords"
           }
          ],
          "pie": [
           {
            "automargin": true,
            "type": "pie"
           }
          ],
          "scatter": [
           {
            "fillpattern": {
             "fillmode": "overlay",
             "size": 10,
             "solidity": 0.2
            },
            "type": "scatter"
           }
          ],
          "scatter3d": [
           {
            "line": {
             "colorbar": {
              "outlinewidth": 0,
              "ticks": ""
             }
            },
            "marker": {
             "colorbar": {
              "outlinewidth": 0,
              "ticks": ""
             }
            },
            "type": "scatter3d"
           }
          ],
          "scattercarpet": [
           {
            "marker": {
             "colorbar": {
              "outlinewidth": 0,
              "ticks": ""
             }
            },
            "type": "scattercarpet"
           }
          ],
          "scattergeo": [
           {
            "marker": {
             "colorbar": {
              "outlinewidth": 0,
              "ticks": ""
             }
            },
            "type": "scattergeo"
           }
          ],
          "scattergl": [
           {
            "marker": {
             "colorbar": {
              "outlinewidth": 0,
              "ticks": ""
             }
            },
            "type": "scattergl"
           }
          ],
          "scattermapbox": [
           {
            "marker": {
             "colorbar": {
              "outlinewidth": 0,
              "ticks": ""
             }
            },
            "type": "scattermapbox"
           }
          ],
          "scatterpolar": [
           {
            "marker": {
             "colorbar": {
              "outlinewidth": 0,
              "ticks": ""
             }
            },
            "type": "scatterpolar"
           }
          ],
          "scatterpolargl": [
           {
            "marker": {
             "colorbar": {
              "outlinewidth": 0,
              "ticks": ""
             }
            },
            "type": "scatterpolargl"
           }
          ],
          "scatterternary": [
           {
            "marker": {
             "colorbar": {
              "outlinewidth": 0,
              "ticks": ""
             }
            },
            "type": "scatterternary"
           }
          ],
          "surface": [
           {
            "colorbar": {
             "outlinewidth": 0,
             "ticks": ""
            },
            "colorscale": [
             [
              0,
              "#0d0887"
             ],
             [
              0.1111111111111111,
              "#46039f"
             ],
             [
              0.2222222222222222,
              "#7201a8"
             ],
             [
              0.3333333333333333,
              "#9c179e"
             ],
             [
              0.4444444444444444,
              "#bd3786"
             ],
             [
              0.5555555555555556,
              "#d8576b"
             ],
             [
              0.6666666666666666,
              "#ed7953"
             ],
             [
              0.7777777777777778,
              "#fb9f3a"
             ],
             [
              0.8888888888888888,
              "#fdca26"
             ],
             [
              1,
              "#f0f921"
             ]
            ],
            "type": "surface"
           }
          ],
          "table": [
           {
            "cells": {
             "fill": {
              "color": "#EBF0F8"
             },
             "line": {
              "color": "white"
             }
            },
            "header": {
             "fill": {
              "color": "#C8D4E3"
             },
             "line": {
              "color": "white"
             }
            },
            "type": "table"
           }
          ]
         },
         "layout": {
          "annotationdefaults": {
           "arrowcolor": "#2a3f5f",
           "arrowhead": 0,
           "arrowwidth": 1
          },
          "autotypenumbers": "strict",
          "coloraxis": {
           "colorbar": {
            "outlinewidth": 0,
            "ticks": ""
           }
          },
          "colorscale": {
           "diverging": [
            [
             0,
             "#8e0152"
            ],
            [
             0.1,
             "#c51b7d"
            ],
            [
             0.2,
             "#de77ae"
            ],
            [
             0.3,
             "#f1b6da"
            ],
            [
             0.4,
             "#fde0ef"
            ],
            [
             0.5,
             "#f7f7f7"
            ],
            [
             0.6,
             "#e6f5d0"
            ],
            [
             0.7,
             "#b8e186"
            ],
            [
             0.8,
             "#7fbc41"
            ],
            [
             0.9,
             "#4d9221"
            ],
            [
             1,
             "#276419"
            ]
           ],
           "sequential": [
            [
             0,
             "#0d0887"
            ],
            [
             0.1111111111111111,
             "#46039f"
            ],
            [
             0.2222222222222222,
             "#7201a8"
            ],
            [
             0.3333333333333333,
             "#9c179e"
            ],
            [
             0.4444444444444444,
             "#bd3786"
            ],
            [
             0.5555555555555556,
             "#d8576b"
            ],
            [
             0.6666666666666666,
             "#ed7953"
            ],
            [
             0.7777777777777778,
             "#fb9f3a"
            ],
            [
             0.8888888888888888,
             "#fdca26"
            ],
            [
             1,
             "#f0f921"
            ]
           ],
           "sequentialminus": [
            [
             0,
             "#0d0887"
            ],
            [
             0.1111111111111111,
             "#46039f"
            ],
            [
             0.2222222222222222,
             "#7201a8"
            ],
            [
             0.3333333333333333,
             "#9c179e"
            ],
            [
             0.4444444444444444,
             "#bd3786"
            ],
            [
             0.5555555555555556,
             "#d8576b"
            ],
            [
             0.6666666666666666,
             "#ed7953"
            ],
            [
             0.7777777777777778,
             "#fb9f3a"
            ],
            [
             0.8888888888888888,
             "#fdca26"
            ],
            [
             1,
             "#f0f921"
            ]
           ]
          },
          "colorway": [
           "#636efa",
           "#EF553B",
           "#00cc96",
           "#ab63fa",
           "#FFA15A",
           "#19d3f3",
           "#FF6692",
           "#B6E880",
           "#FF97FF",
           "#FECB52"
          ],
          "font": {
           "color": "#2a3f5f"
          },
          "geo": {
           "bgcolor": "white",
           "lakecolor": "white",
           "landcolor": "#E5ECF6",
           "showlakes": true,
           "showland": true,
           "subunitcolor": "white"
          },
          "hoverlabel": {
           "align": "left"
          },
          "hovermode": "closest",
          "mapbox": {
           "style": "light"
          },
          "paper_bgcolor": "white",
          "plot_bgcolor": "#E5ECF6",
          "polar": {
           "angularaxis": {
            "gridcolor": "white",
            "linecolor": "white",
            "ticks": ""
           },
           "bgcolor": "#E5ECF6",
           "radialaxis": {
            "gridcolor": "white",
            "linecolor": "white",
            "ticks": ""
           }
          },
          "scene": {
           "xaxis": {
            "backgroundcolor": "#E5ECF6",
            "gridcolor": "white",
            "gridwidth": 2,
            "linecolor": "white",
            "showbackground": true,
            "ticks": "",
            "zerolinecolor": "white"
           },
           "yaxis": {
            "backgroundcolor": "#E5ECF6",
            "gridcolor": "white",
            "gridwidth": 2,
            "linecolor": "white",
            "showbackground": true,
            "ticks": "",
            "zerolinecolor": "white"
           },
           "zaxis": {
            "backgroundcolor": "#E5ECF6",
            "gridcolor": "white",
            "gridwidth": 2,
            "linecolor": "white",
            "showbackground": true,
            "ticks": "",
            "zerolinecolor": "white"
           }
          },
          "shapedefaults": {
           "line": {
            "color": "#2a3f5f"
           }
          },
          "ternary": {
           "aaxis": {
            "gridcolor": "white",
            "linecolor": "white",
            "ticks": ""
           },
           "baxis": {
            "gridcolor": "white",
            "linecolor": "white",
            "ticks": ""
           },
           "bgcolor": "#E5ECF6",
           "caxis": {
            "gridcolor": "white",
            "linecolor": "white",
            "ticks": ""
           }
          },
          "title": {
           "x": 0.05
          },
          "xaxis": {
           "automargin": true,
           "gridcolor": "white",
           "linecolor": "white",
           "ticks": "",
           "title": {
            "standoff": 15
           },
           "zerolinecolor": "white",
           "zerolinewidth": 2
          },
          "yaxis": {
           "automargin": true,
           "gridcolor": "white",
           "linecolor": "white",
           "ticks": "",
           "title": {
            "standoff": 15
           },
           "zerolinecolor": "white",
           "zerolinewidth": 2
          }
         }
        },
        "title": {
         "text": "<b>Line loading<b>",
         "x": 0.5,
         "xanchor": "center",
         "y": 0.97,
         "yanchor": "top"
        },
        "width": 680,
        "xaxis": {
         "gridcolor": "black",
         "gridwidth": 1,
         "linecolor": "black",
         "linewidth": 2,
         "showgrid": true,
         "showline": true,
         "tickfont": {
          "family": "Arial Black",
          "size": 12
         },
         "tickmode": "array",
         "ticktext": [
          "00h00",
          "04h00",
          "08h00",
          "12h00",
          "16h00",
          "20h00"
         ],
         "tickvals": [
          0,
          16,
          32,
          48,
          64,
          80
         ],
         "title": {
          "font": {
           "size": 12
          },
          "text": "<b>Time<b>"
         },
         "zeroline": false
        },
        "yaxis": {
         "gridcolor": "black",
         "gridwidth": 1,
         "linecolor": "black",
         "linewidth": 2,
         "showgrid": true,
         "showline": true,
         "tickfont": {
          "family": "Arial Black",
          "size": 12
         },
         "title": {
          "font": {
           "size": 12
          },
          "text": "<b>[%]<b>"
         },
         "zeroline": false
        }
       }
      },
      "text/html": [
       "<div>                            <div id=\"d194dde6-7c82-4520-a4ed-e95ee4a90161\" class=\"plotly-graph-div\" style=\"height:400px; width:680px;\"></div>            <script type=\"text/javascript\">                require([\"plotly\"], function(Plotly) {                    window.PLOTLYENV=window.PLOTLYENV || {};                                    if (document.getElementById(\"d194dde6-7c82-4520-a4ed-e95ee4a90161\")) {                    Plotly.newPlot(                        \"d194dde6-7c82-4520-a4ed-e95ee4a90161\",                        [{\"hovertemplate\":\"\\u003cb\\u003eline_a\\u003cbr\\u003e[%]: %{y:.2f}\\u003cbr\\u003eTime: %{text}\\u003cb\\u003e\\u003cextra\\u003e\\u003c\\u002fextra\\u003e\",\"mode\":\"lines\",\"name\":\"\\u003cb\\u003eline_a\\u003cb\\u003e\",\"text\":[\"00h00\",\"00h15\",\"00h30\",\"00h45\",\"01h00\",\"01h15\",\"01h30\",\"01h45\",\"02h00\",\"02h15\",\"02h30\",\"02h45\",\"03h00\",\"03h15\",\"03h30\",\"03h45\",\"04h00\",\"04h15\",\"04h30\",\"04h45\",\"05h00\",\"05h15\",\"05h30\",\"05h45\",\"06h00\",\"06h15\",\"06h30\",\"06h45\",\"07h00\",\"07h15\",\"07h30\",\"07h45\",\"08h00\",\"08h15\",\"08h30\",\"08h45\",\"09h00\",\"09h15\",\"09h30\",\"09h45\",\"10h00\",\"10h15\",\"10h30\",\"10h45\",\"11h00\",\"11h15\",\"11h30\",\"11h45\",\"12h00\",\"12h15\",\"12h30\",\"12h45\",\"13h00\",\"13h15\",\"13h30\",\"13h45\",\"14h00\",\"14h15\",\"14h30\",\"14h45\",\"15h00\",\"15h15\",\"15h30\",\"15h45\",\"16h00\",\"16h15\",\"16h30\",\"16h45\",\"17h00\",\"17h15\",\"17h30\",\"17h45\",\"18h00\",\"18h15\",\"18h30\",\"18h45\",\"19h00\",\"19h15\",\"19h30\",\"19h45\",\"20h00\",\"20h15\",\"20h30\",\"20h45\",\"21h00\",\"21h15\",\"21h30\",\"21h45\",\"22h00\",\"22h15\",\"22h30\",\"22h45\",\"23h00\",\"23h15\",\"23h30\",\"23h45\"],\"x\":[0,1,2,3,4,5,6,7,8,9,10,11,12,13,14,15,16,17,18,19,20,21,22,23,24,25,26,27,28,29,30,31,32,33,34,35,36,37,38,39,40,41,42,43,44,45,46,47,48,49,50,51,52,53,54,55,56,57,58,59,60,61,62,63,64,65,66,67,68,69,70,71,72,73,74,75,76,77,78,79,80,81,82,83,84,85,86,87,88,89,90,91,92,93,94,95],\"y\":[16.564043980580905,17.408790745094336,18.142995379516165,18.766134910804816,19.227823604277223,19.552549246617918,19.765004842684984,19.902533922254083,19.990076340463244,20.052618111380834,20.077637508923043,20.11516949605372,20.15270496143566,20.177730542573443,20.215271828449836,20.21527182844984,20.202757677409462,20.152704961435393,20.090147785471764,20.00258392782932,19.890029385689036,19.615025004732296,19.040593576916695,18.03092174023398,16.514401617049696,14.681609345786956,12.80871799233642,11.156996853596988,9.932771539078646,9.105131442150551,8.606149976051018,8.358346632201478,8.287777619836097,8.358346632210573,8.558855765171817,8.84323711997974,9.200628217589491,9.571875548416262,9.944826331922814,10.246675420489494,10.452426205244569,10.585755594167246,10.646408474343875,10.646408474343879,10.597883782085495,10.488773902403272,10.282956574540469,9.944826331922808,9.475896509347175,8.974047769889424,8.570675315700228,8.358346632201474,8.429021386840455,8.724568214185568,9.164801241461932,9.643934360346705,10.101675279854556,10.51301194820064,10.889308392478005,11.254458785106092,11.596043724282506,11.88936617893435,12.134145441573926,12.268898415611455,12.293408064653166,12.170887743371466,11.877135183444382,11.351981773642663,10.610013169279979,9.679987085569255,8.61798015390428,7.485030053746154,6.350783670018964,5.328343807752528,4.510682229111778,3.9680958296627336,3.7027140154931337,3.618132077106896,3.6087345045052213,3.6539525104788604,3.8705056663321225,4.3912363381091675,5.162849032756248,6.006145460799474,6.736862132448591,7.358800439585977,7.936640286670478,8.547038905565051,9.260380794082236,10.0654572228533,10.937941489057902,11.864904967865234,12.808717992336591,13.768422121137636,14.71867927224347,15.658938881600651],\"type\":\"scatter\"},{\"hovertemplate\":\"\\u003cb\\u003eline_b\\u003cbr\\u003e[%]: %{y:.2f}\\u003cbr\\u003eTime: %{text}\\u003cb\\u003e\\u003cextra\\u003e\\u003c\\u002fextra\\u003e\",\"mode\":\"lines\",\"name\":\"\\u003cb\\u003eline_b\\u003cb\\u003e\",\"text\":[\"00h00\",\"00h15\",\"00h30\",\"00h45\",\"01h00\",\"01h15\",\"01h30\",\"01h45\",\"02h00\",\"02h15\",\"02h30\",\"02h45\",\"03h00\",\"03h15\",\"03h30\",\"03h45\",\"04h00\",\"04h15\",\"04h30\",\"04h45\",\"05h00\",\"05h15\",\"05h30\",\"05h45\",\"06h00\",\"06h15\",\"06h30\",\"06h45\",\"07h00\",\"07h15\",\"07h30\",\"07h45\",\"08h00\",\"08h15\",\"08h30\",\"08h45\",\"09h00\",\"09h15\",\"09h30\",\"09h45\",\"10h00\",\"10h15\",\"10h30\",\"10h45\",\"11h00\",\"11h15\",\"11h30\",\"11h45\",\"12h00\",\"12h15\",\"12h30\",\"12h45\",\"13h00\",\"13h15\",\"13h30\",\"13h45\",\"14h00\",\"14h15\",\"14h30\",\"14h45\",\"15h00\",\"15h15\",\"15h30\",\"15h45\",\"16h00\",\"16h15\",\"16h30\",\"16h45\",\"17h00\",\"17h15\",\"17h30\",\"17h45\",\"18h00\",\"18h15\",\"18h30\",\"18h45\",\"19h00\",\"19h15\",\"19h30\",\"19h45\",\"20h00\",\"20h15\",\"20h30\",\"20h45\",\"21h00\",\"21h15\",\"21h30\",\"21h45\",\"22h00\",\"22h15\",\"22h30\",\"22h45\",\"23h00\",\"23h15\",\"23h30\",\"23h45\"],\"x\":[0,1,2,3,4,5,6,7,8,9,10,11,12,13,14,15,16,17,18,19,20,21,22,23,24,25,26,27,28,29,30,31,32,33,34,35,36,37,38,39,40,41,42,43,44,45,46,47,48,49,50,51,52,53,54,55,56,57,58,59,60,61,62,63,64,65,66,67,68,69,70,71,72,73,74,75,76,77,78,79,80,81,82,83,84,85,86,87,88,89,90,91,92,93,94,95],\"y\":[5.5357762297020585,5.243536034671361,4.994918413624918,4.787722763072348,4.636429521224638,4.531140475181084,4.462753636359915,4.418695299572112,4.390736716840858,4.370803713290039,4.362839244260424,4.350901899438862,4.33897578797335,4.331031289506438,4.319123908470035,4.319123908470037,4.32309178638923,4.338975787970986,4.358858881366721,4.386747621530486,4.422694370181772,4.510989296561465,4.697557615921059,5.032552080442425,5.553161590638295,6.212426023976427,6.92480533367639,7.5919342250560575,8.115400298309057,8.486536220920165,8.718323029075108,8.835985104849595,8.869826347318261,8.83598510470523,8.740642030386152,8.607371042926587,8.442904206923565,8.275340242518894,8.110105568548141,7.978486977008485,7.889795333339049,7.832748118370046,7.8069050908231965,7.806905090823197,7.827575157676361,7.87421060660851,7.9627884683051775,8.110105568548146,8.31835581999714,8.546797073745228,8.735058218838123,8.835985104849588,8.802243889678142,8.662713926421016,8.459247196686453,8.243180426396265,8.04148502857082,7.863831813990875,7.704072205996054,7.551405933665592,7.410580303805202,7.291111294960409,7.192404115983464,7.138438104475524,7.128650433940187,7.177663572636677,7.296066774133596,7.511008587797459,7.822404377219288,8.227133023710024,8.712750035044735,9.266473549279395,9.874145649940466,10.4992020420868,11.109550820764088,11.66442454025237,12.105705550568388,12.383047743783301,12.439599831562138,12.239310695548522,11.79907347620434,11.215108957476657,10.611637829519088,10.074122526625024,9.659668126962195,9.331031888016442,9.040562956179484,8.746228555635787,8.415716309310248,8.057285925311696,7.683607976961398,7.301024184992458,6.924805333689249,6.554474583533549,6.1987409574519825,5.856572355866066],\"type\":\"scatter\"},{\"hovertemplate\":\"\\u003cb\\u003eline_c\\u003cbr\\u003e[%]: %{y:.2f}\\u003cbr\\u003eTime: %{text}\\u003cb\\u003e\\u003cextra\\u003e\\u003c\\u002fextra\\u003e\",\"mode\":\"lines\",\"name\":\"\\u003cb\\u003eline_c\\u003cb\\u003e\",\"text\":[\"00h00\",\"00h15\",\"00h30\",\"00h45\",\"01h00\",\"01h15\",\"01h30\",\"01h45\",\"02h00\",\"02h15\",\"02h30\",\"02h45\",\"03h00\",\"03h15\",\"03h30\",\"03h45\",\"04h00\",\"04h15\",\"04h30\",\"04h45\",\"05h00\",\"05h15\",\"05h30\",\"05h45\",\"06h00\",\"06h15\",\"06h30\",\"06h45\",\"07h00\",\"07h15\",\"07h30\",\"07h45\",\"08h00\",\"08h15\",\"08h30\",\"08h45\",\"09h00\",\"09h15\",\"09h30\",\"09h45\",\"10h00\",\"10h15\",\"10h30\",\"10h45\",\"11h00\",\"11h15\",\"11h30\",\"11h45\",\"12h00\",\"12h15\",\"12h30\",\"12h45\",\"13h00\",\"13h15\",\"13h30\",\"13h45\",\"14h00\",\"14h15\",\"14h30\",\"14h45\",\"15h00\",\"15h15\",\"15h30\",\"15h45\",\"16h00\",\"16h15\",\"16h30\",\"16h45\",\"17h00\",\"17h15\",\"17h30\",\"17h45\",\"18h00\",\"18h15\",\"18h30\",\"18h45\",\"19h00\",\"19h15\",\"19h30\",\"19h45\",\"20h00\",\"20h15\",\"20h30\",\"20h45\",\"21h00\",\"21h15\",\"21h30\",\"21h45\",\"22h00\",\"22h15\",\"22h30\",\"22h45\",\"23h00\",\"23h15\",\"23h30\",\"23h45\"],\"x\":[0,1,2,3,4,5,6,7,8,9,10,11,12,13,14,15,16,17,18,19,20,21,22,23,24,25,26,27,28,29,30,31,32,33,34,35,36,37,38,39,40,41,42,43,44,45,46,47,48,49,50,51,52,53,54,55,56,57,58,59,60,61,62,63,64,65,66,67,68,69,70,71,72,73,74,75,76,77,78,79,80,81,82,83,84,85,86,87,88,89,90,91,92,93,94,95],\"y\":[3.7336282679121626,4.317393779238059,4.848738886201619,5.311232286600232,5.658786203812431,5.905170023933797,6.067093016553892,6.172181477771862,6.239176772663288,6.287085761525487,6.306261921580125,6.335039387651131,6.363832503107469,6.383036486281914,6.41185514171958,6.41185514171958,6.402247244257533,6.363832503108159,6.315852656124944,6.248754942260757,6.162618254646234,5.952730503790236,5.517416602813942,4.766551984067389,3.7005667805906404,2.6515466878722402,2.2875415611445185,2.847372490041875,3.6253109214022166,4.250659584562942,4.655983203613156,4.864288332567665,4.924430556763728,4.8642883324099255,4.695389237496151,4.460980389282188,4.175353926686611,3.8901038000727826,3.6166984326464773,3.4063957887715297,3.269402008045176,3.1836523742822824,3.145480698011264,3.1454806980112644,3.1759767364018114,3.2457807124062517,3.3818461621061737,3.6166984326464915,3.9626631695092547,4.355245787188029,4.685525470783705,4.8642883325676545,4.804419028783304,4.558050827444386,4.203516853857949,3.8361982709937195,3.5061045491831004,3.230129868252212,2.9982309617097895,2.7957225352896407,2.630140267232241,2.509389353495389,2.4257556457271665,2.3869371523465643,2.3804523389475323,2.414646682027771,2.51399221562954,2.7459233979382276,3.168321618053104,3.8094160056106796,4.646152240458974,5.633924325015283,6.722962816283664,7.828968190380822,8.885666819584026,9.822485968511325,10.550090057988585,10.999240110878779,11.090045032662555,10.767252482381847,10.04617072363098,9.065708675671264,8.025537766293322,7.078985516432393,6.339427529954116,5.749807405036629,5.229029936559977,4.705261119627112,4.128624756455666,3.53139562463571,2.969891503230581,2.5186337733225024,2.287541561155407,2.346128743944164,2.668007461156551,3.161587236712283],\"type\":\"scatter\"},{\"hovertemplate\":\"\\u003cb\\u003eline_d\\u003cbr\\u003e[%]: %{y:.2f}\\u003cbr\\u003eTime: %{text}\\u003cb\\u003e\\u003cextra\\u003e\\u003c\\u002fextra\\u003e\",\"mode\":\"lines\",\"name\":\"\\u003cb\\u003eline_d\\u003cb\\u003e\",\"text\":[\"00h00\",\"00h15\",\"00h30\",\"00h45\",\"01h00\",\"01h15\",\"01h30\",\"01h45\",\"02h00\",\"02h15\",\"02h30\",\"02h45\",\"03h00\",\"03h15\",\"03h30\",\"03h45\",\"04h00\",\"04h15\",\"04h30\",\"04h45\",\"05h00\",\"05h15\",\"05h30\",\"05h45\",\"06h00\",\"06h15\",\"06h30\",\"06h45\",\"07h00\",\"07h15\",\"07h30\",\"07h45\",\"08h00\",\"08h15\",\"08h30\",\"08h45\",\"09h00\",\"09h15\",\"09h30\",\"09h45\",\"10h00\",\"10h15\",\"10h30\",\"10h45\",\"11h00\",\"11h15\",\"11h30\",\"11h45\",\"12h00\",\"12h15\",\"12h30\",\"12h45\",\"13h00\",\"13h15\",\"13h30\",\"13h45\",\"14h00\",\"14h15\",\"14h30\",\"14h45\",\"15h00\",\"15h15\",\"15h30\",\"15h45\",\"16h00\",\"16h15\",\"16h30\",\"16h45\",\"17h00\",\"17h15\",\"17h30\",\"17h45\",\"18h00\",\"18h15\",\"18h30\",\"18h45\",\"19h00\",\"19h15\",\"19h30\",\"19h45\",\"20h00\",\"20h15\",\"20h30\",\"20h45\",\"21h00\",\"21h15\",\"21h30\",\"21h45\",\"22h00\",\"22h15\",\"22h30\",\"22h45\",\"23h00\",\"23h15\",\"23h30\",\"23h45\"],\"x\":[0,1,2,3,4,5,6,7,8,9,10,11,12,13,14,15,16,17,18,19,20,21,22,23,24,25,26,27,28,29,30,31,32,33,34,35,36,37,38,39,40,41,42,43,44,45,46,47,48,49,50,51,52,53,54,55,56,57,58,59,60,61,62,63,64,65,66,67,68,69,70,71,72,73,74,75,76,77,78,79,80,81,82,83,84,85,86,87,88,89,90,91,92,93,94,95],\"y\":[9.422350637086357,9.276358421740385,9.1526344931162,9.049752950915307,8.97470348293375,8.922486651743599,8.888567890165183,8.866711816619787,8.852840099362897,8.842948991116902,8.83899654554646,8.833072137658919,8.827152820504597,8.823209425146153,8.81729853810172,8.81729853810172,8.819268274190799,8.82715282050344,8.837021175760825,8.850860731847808,8.86869580800151,8.912492533244992,9.005021867219458,9.171340401478979,9.431058730744166,9.76365887387704,10.12946381543283,10.47932649555891,10.759355329469027,10.961011172862465,11.088306266373143,11.153330202908974,11.172082881521645,11.153330202806082,11.100619409619398,11.027241053979827,10.937166275363076,10.84593462955961,10.75649746214737,10.685624748639427,10.638049201663149,10.60752503495656,10.593716918864441,10.593716918864443,10.604760104968742,10.629704356396465,10.677193192794169,10.756497462147369,10.869303267524565,10.994004650184412,11.097537959765138,11.153330202908968,11.134655624291687,11.057670112036835,10.946093389363035,10.828486636943017,10.719506805286708,10.624149513460459,10.538893247043966,10.457853517501615,10.383465672634301,10.32062948616479,10.26889720186249,10.24068304295505,10.235571120364103,10.261185811500411,10.323231006947147,10.43647889733139,10.601996830684332,10.81978766371834,11.085233243460676,11.393590731085473,11.73914854490073,12.102543996617833,12.46523698590053,12.801701733089171,13.07384973636612,13.246950808399955,13.282441510220803,13.157040718399607,12.884315248564912,12.528751634663097,12.168774076547257,11.85452920772237,11.61631925627339,11.42994398574768,11.26704305560629,11.103702974103777,10.922326764911874,10.728016608278915,10.528005956985519,10.325833961516453,10.129463815441833,9.938372639450094,9.756701907311523,9.583518324073276],\"type\":\"scatter\"},{\"hovertemplate\":\"\\u003cb\\u003eline_e\\u003cbr\\u003e[%]: %{y:.2f}\\u003cbr\\u003eTime: %{text}\\u003cb\\u003e\\u003cextra\\u003e\\u003c\\u002fextra\\u003e\",\"mode\":\"lines\",\"name\":\"\\u003cb\\u003eline_e\\u003cb\\u003e\",\"text\":[\"00h00\",\"00h15\",\"00h30\",\"00h45\",\"01h00\",\"01h15\",\"01h30\",\"01h45\",\"02h00\",\"02h15\",\"02h30\",\"02h45\",\"03h00\",\"03h15\",\"03h30\",\"03h45\",\"04h00\",\"04h15\",\"04h30\",\"04h45\",\"05h00\",\"05h15\",\"05h30\",\"05h45\",\"06h00\",\"06h15\",\"06h30\",\"06h45\",\"07h00\",\"07h15\",\"07h30\",\"07h45\",\"08h00\",\"08h15\",\"08h30\",\"08h45\",\"09h00\",\"09h15\",\"09h30\",\"09h45\",\"10h00\",\"10h15\",\"10h30\",\"10h45\",\"11h00\",\"11h15\",\"11h30\",\"11h45\",\"12h00\",\"12h15\",\"12h30\",\"12h45\",\"13h00\",\"13h15\",\"13h30\",\"13h45\",\"14h00\",\"14h15\",\"14h30\",\"14h45\",\"15h00\",\"15h15\",\"15h30\",\"15h45\",\"16h00\",\"16h15\",\"16h30\",\"16h45\",\"17h00\",\"17h15\",\"17h30\",\"17h45\",\"18h00\",\"18h15\",\"18h30\",\"18h45\",\"19h00\",\"19h15\",\"19h30\",\"19h45\",\"20h00\",\"20h15\",\"20h30\",\"20h45\",\"21h00\",\"21h15\",\"21h30\",\"21h45\",\"22h00\",\"22h15\",\"22h30\",\"22h45\",\"23h00\",\"23h15\",\"23h30\",\"23h45\"],\"x\":[0,1,2,3,4,5,6,7,8,9,10,11,12,13,14,15,16,17,18,19,20,21,22,23,24,25,26,27,28,29,30,31,32,33,34,35,36,37,38,39,40,41,42,43,44,45,46,47,48,49,50,51,52,53,54,55,56,57,58,59,60,61,62,63,64,65,66,67,68,69,70,71,72,73,74,75,76,77,78,79,80,81,82,83,84,85,86,87,88,89,90,91,92,93,94,95],\"y\":[5.543294062717423,5.641982967271487,5.72804849633426,5.801311579389772,5.855723359008337,5.8940609618253825,5.9191742015259035,5.935443680449541,5.945805116172926,5.9532100318567664,5.95617290847696,5.960618200814185,5.965064668011626,5.968029633276687,5.972478063533288,5.972478063533285,5.97099512235563,5.965064668011259,5.9576545421851215,5.947285839534267,5.9339639926692875,5.901443381802783,5.833644074060682,5.714893152149755,5.53750545816583,5.324610010043288,5.108576930667312,4.91905199204089,4.778858941374077,4.683969568406467,4.626600634435134,4.598034932981947,4.589888432338956,4.598034932974074,4.6211532834213305,4.653880583531387,4.694931498969124,4.737508901337657,4.780239677467793,4.814807146089729,4.838365908474502,4.853632113906456,4.860577012156447,4.860577012156449,4.855020809242127,4.842527695751799,4.818961501718596,4.780239677467787,4.726506217553527,4.668914643947863,4.622514847657319,4.598034932981947,4.606188216667792,4.64023168155771,4.690819513315727,4.745767621206367,4.798203059316507,4.845302940441087,4.888391810280734,4.930217445565422,4.969363622374464,5.0029989617091015,5.031084630709975,5.046553203598276,5.049367293239306,5.035301831529062,5.001596011032745,4.941391475380246,4.8564096469076725,4.7498991190555975,4.627962927003812,4.496716203469508,4.362244734320629,4.234397392828661,4.11984767648973,4.024568679994543,3.9548369254948694,3.913754837194208,3.90563799560388,3.9347817853622855,4.002723211576266,4.101071093818568,4.212530264126759,4.3201848514705254,4.408562257136175,4.481954689665724,4.54926029067807,4.619791902056523,4.701788149989703,4.794055398046134,4.8939614538965195,5.0001931880706385,5.108576930668887,5.219099653796734,5.3289007025504675,5.437939947955869],\"type\":\"scatter\"}],                        {\"template\":{\"data\":{\"histogram2dcontour\":[{\"type\":\"histogram2dcontour\",\"colorbar\":{\"outlinewidth\":0,\"ticks\":\"\"},\"colorscale\":[[0.0,\"#0d0887\"],[0.1111111111111111,\"#46039f\"],[0.2222222222222222,\"#7201a8\"],[0.3333333333333333,\"#9c179e\"],[0.4444444444444444,\"#bd3786\"],[0.5555555555555556,\"#d8576b\"],[0.6666666666666666,\"#ed7953\"],[0.7777777777777778,\"#fb9f3a\"],[0.8888888888888888,\"#fdca26\"],[1.0,\"#f0f921\"]]}],\"choropleth\":[{\"type\":\"choropleth\",\"colorbar\":{\"outlinewidth\":0,\"ticks\":\"\"}}],\"histogram2d\":[{\"type\":\"histogram2d\",\"colorbar\":{\"outlinewidth\":0,\"ticks\":\"\"},\"colorscale\":[[0.0,\"#0d0887\"],[0.1111111111111111,\"#46039f\"],[0.2222222222222222,\"#7201a8\"],[0.3333333333333333,\"#9c179e\"],[0.4444444444444444,\"#bd3786\"],[0.5555555555555556,\"#d8576b\"],[0.6666666666666666,\"#ed7953\"],[0.7777777777777778,\"#fb9f3a\"],[0.8888888888888888,\"#fdca26\"],[1.0,\"#f0f921\"]]}],\"heatmap\":[{\"type\":\"heatmap\",\"colorbar\":{\"outlinewidth\":0,\"ticks\":\"\"},\"colorscale\":[[0.0,\"#0d0887\"],[0.1111111111111111,\"#46039f\"],[0.2222222222222222,\"#7201a8\"],[0.3333333333333333,\"#9c179e\"],[0.4444444444444444,\"#bd3786\"],[0.5555555555555556,\"#d8576b\"],[0.6666666666666666,\"#ed7953\"],[0.7777777777777778,\"#fb9f3a\"],[0.8888888888888888,\"#fdca26\"],[1.0,\"#f0f921\"]]}],\"heatmapgl\":[{\"type\":\"heatmapgl\",\"colorbar\":{\"outlinewidth\":0,\"ticks\":\"\"},\"colorscale\":[[0.0,\"#0d0887\"],[0.1111111111111111,\"#46039f\"],[0.2222222222222222,\"#7201a8\"],[0.3333333333333333,\"#9c179e\"],[0.4444444444444444,\"#bd3786\"],[0.5555555555555556,\"#d8576b\"],[0.6666666666666666,\"#ed7953\"],[0.7777777777777778,\"#fb9f3a\"],[0.8888888888888888,\"#fdca26\"],[1.0,\"#f0f921\"]]}],\"contourcarpet\":[{\"type\":\"contourcarpet\",\"colorbar\":{\"outlinewidth\":0,\"ticks\":\"\"}}],\"contour\":[{\"type\":\"contour\",\"colorbar\":{\"outlinewidth\":0,\"ticks\":\"\"},\"colorscale\":[[0.0,\"#0d0887\"],[0.1111111111111111,\"#46039f\"],[0.2222222222222222,\"#7201a8\"],[0.3333333333333333,\"#9c179e\"],[0.4444444444444444,\"#bd3786\"],[0.5555555555555556,\"#d8576b\"],[0.6666666666666666,\"#ed7953\"],[0.7777777777777778,\"#fb9f3a\"],[0.8888888888888888,\"#fdca26\"],[1.0,\"#f0f921\"]]}],\"surface\":[{\"type\":\"surface\",\"colorbar\":{\"outlinewidth\":0,\"ticks\":\"\"},\"colorscale\":[[0.0,\"#0d0887\"],[0.1111111111111111,\"#46039f\"],[0.2222222222222222,\"#7201a8\"],[0.3333333333333333,\"#9c179e\"],[0.4444444444444444,\"#bd3786\"],[0.5555555555555556,\"#d8576b\"],[0.6666666666666666,\"#ed7953\"],[0.7777777777777778,\"#fb9f3a\"],[0.8888888888888888,\"#fdca26\"],[1.0,\"#f0f921\"]]}],\"mesh3d\":[{\"type\":\"mesh3d\",\"colorbar\":{\"outlinewidth\":0,\"ticks\":\"\"}}],\"scatter\":[{\"fillpattern\":{\"fillmode\":\"overlay\",\"size\":10,\"solidity\":0.2},\"type\":\"scatter\"}],\"parcoords\":[{\"type\":\"parcoords\",\"line\":{\"colorbar\":{\"outlinewidth\":0,\"ticks\":\"\"}}}],\"scatterpolargl\":[{\"type\":\"scatterpolargl\",\"marker\":{\"colorbar\":{\"outlinewidth\":0,\"ticks\":\"\"}}}],\"bar\":[{\"error_x\":{\"color\":\"#2a3f5f\"},\"error_y\":{\"color\":\"#2a3f5f\"},\"marker\":{\"line\":{\"color\":\"#E5ECF6\",\"width\":0.5},\"pattern\":{\"fillmode\":\"overlay\",\"size\":10,\"solidity\":0.2}},\"type\":\"bar\"}],\"scattergeo\":[{\"type\":\"scattergeo\",\"marker\":{\"colorbar\":{\"outlinewidth\":0,\"ticks\":\"\"}}}],\"scatterpolar\":[{\"type\":\"scatterpolar\",\"marker\":{\"colorbar\":{\"outlinewidth\":0,\"ticks\":\"\"}}}],\"histogram\":[{\"marker\":{\"pattern\":{\"fillmode\":\"overlay\",\"size\":10,\"solidity\":0.2}},\"type\":\"histogram\"}],\"scattergl\":[{\"type\":\"scattergl\",\"marker\":{\"colorbar\":{\"outlinewidth\":0,\"ticks\":\"\"}}}],\"scatter3d\":[{\"type\":\"scatter3d\",\"line\":{\"colorbar\":{\"outlinewidth\":0,\"ticks\":\"\"}},\"marker\":{\"colorbar\":{\"outlinewidth\":0,\"ticks\":\"\"}}}],\"scattermapbox\":[{\"type\":\"scattermapbox\",\"marker\":{\"colorbar\":{\"outlinewidth\":0,\"ticks\":\"\"}}}],\"scatterternary\":[{\"type\":\"scatterternary\",\"marker\":{\"colorbar\":{\"outlinewidth\":0,\"ticks\":\"\"}}}],\"scattercarpet\":[{\"type\":\"scattercarpet\",\"marker\":{\"colorbar\":{\"outlinewidth\":0,\"ticks\":\"\"}}}],\"carpet\":[{\"aaxis\":{\"endlinecolor\":\"#2a3f5f\",\"gridcolor\":\"white\",\"linecolor\":\"white\",\"minorgridcolor\":\"white\",\"startlinecolor\":\"#2a3f5f\"},\"baxis\":{\"endlinecolor\":\"#2a3f5f\",\"gridcolor\":\"white\",\"linecolor\":\"white\",\"minorgridcolor\":\"white\",\"startlinecolor\":\"#2a3f5f\"},\"type\":\"carpet\"}],\"table\":[{\"cells\":{\"fill\":{\"color\":\"#EBF0F8\"},\"line\":{\"color\":\"white\"}},\"header\":{\"fill\":{\"color\":\"#C8D4E3\"},\"line\":{\"color\":\"white\"}},\"type\":\"table\"}],\"barpolar\":[{\"marker\":{\"line\":{\"color\":\"#E5ECF6\",\"width\":0.5},\"pattern\":{\"fillmode\":\"overlay\",\"size\":10,\"solidity\":0.2}},\"type\":\"barpolar\"}],\"pie\":[{\"automargin\":true,\"type\":\"pie\"}]},\"layout\":{\"autotypenumbers\":\"strict\",\"colorway\":[\"#636efa\",\"#EF553B\",\"#00cc96\",\"#ab63fa\",\"#FFA15A\",\"#19d3f3\",\"#FF6692\",\"#B6E880\",\"#FF97FF\",\"#FECB52\"],\"font\":{\"color\":\"#2a3f5f\"},\"hovermode\":\"closest\",\"hoverlabel\":{\"align\":\"left\"},\"paper_bgcolor\":\"white\",\"plot_bgcolor\":\"#E5ECF6\",\"polar\":{\"bgcolor\":\"#E5ECF6\",\"angularaxis\":{\"gridcolor\":\"white\",\"linecolor\":\"white\",\"ticks\":\"\"},\"radialaxis\":{\"gridcolor\":\"white\",\"linecolor\":\"white\",\"ticks\":\"\"}},\"ternary\":{\"bgcolor\":\"#E5ECF6\",\"aaxis\":{\"gridcolor\":\"white\",\"linecolor\":\"white\",\"ticks\":\"\"},\"baxis\":{\"gridcolor\":\"white\",\"linecolor\":\"white\",\"ticks\":\"\"},\"caxis\":{\"gridcolor\":\"white\",\"linecolor\":\"white\",\"ticks\":\"\"}},\"coloraxis\":{\"colorbar\":{\"outlinewidth\":0,\"ticks\":\"\"}},\"colorscale\":{\"sequential\":[[0.0,\"#0d0887\"],[0.1111111111111111,\"#46039f\"],[0.2222222222222222,\"#7201a8\"],[0.3333333333333333,\"#9c179e\"],[0.4444444444444444,\"#bd3786\"],[0.5555555555555556,\"#d8576b\"],[0.6666666666666666,\"#ed7953\"],[0.7777777777777778,\"#fb9f3a\"],[0.8888888888888888,\"#fdca26\"],[1.0,\"#f0f921\"]],\"sequentialminus\":[[0.0,\"#0d0887\"],[0.1111111111111111,\"#46039f\"],[0.2222222222222222,\"#7201a8\"],[0.3333333333333333,\"#9c179e\"],[0.4444444444444444,\"#bd3786\"],[0.5555555555555556,\"#d8576b\"],[0.6666666666666666,\"#ed7953\"],[0.7777777777777778,\"#fb9f3a\"],[0.8888888888888888,\"#fdca26\"],[1.0,\"#f0f921\"]],\"diverging\":[[0,\"#8e0152\"],[0.1,\"#c51b7d\"],[0.2,\"#de77ae\"],[0.3,\"#f1b6da\"],[0.4,\"#fde0ef\"],[0.5,\"#f7f7f7\"],[0.6,\"#e6f5d0\"],[0.7,\"#b8e186\"],[0.8,\"#7fbc41\"],[0.9,\"#4d9221\"],[1,\"#276419\"]]},\"xaxis\":{\"gridcolor\":\"white\",\"linecolor\":\"white\",\"ticks\":\"\",\"title\":{\"standoff\":15},\"zerolinecolor\":\"white\",\"automargin\":true,\"zerolinewidth\":2},\"yaxis\":{\"gridcolor\":\"white\",\"linecolor\":\"white\",\"ticks\":\"\",\"title\":{\"standoff\":15},\"zerolinecolor\":\"white\",\"automargin\":true,\"zerolinewidth\":2},\"scene\":{\"xaxis\":{\"backgroundcolor\":\"#E5ECF6\",\"gridcolor\":\"white\",\"linecolor\":\"white\",\"showbackground\":true,\"ticks\":\"\",\"zerolinecolor\":\"white\",\"gridwidth\":2},\"yaxis\":{\"backgroundcolor\":\"#E5ECF6\",\"gridcolor\":\"white\",\"linecolor\":\"white\",\"showbackground\":true,\"ticks\":\"\",\"zerolinecolor\":\"white\",\"gridwidth\":2},\"zaxis\":{\"backgroundcolor\":\"#E5ECF6\",\"gridcolor\":\"white\",\"linecolor\":\"white\",\"showbackground\":true,\"ticks\":\"\",\"zerolinecolor\":\"white\",\"gridwidth\":2}},\"shapedefaults\":{\"line\":{\"color\":\"#2a3f5f\"}},\"annotationdefaults\":{\"arrowcolor\":\"#2a3f5f\",\"arrowhead\":0,\"arrowwidth\":1},\"geo\":{\"bgcolor\":\"white\",\"landcolor\":\"#E5ECF6\",\"subunitcolor\":\"white\",\"showland\":true,\"showlakes\":true,\"lakecolor\":\"white\"},\"title\":{\"x\":0.05},\"mapbox\":{\"style\":\"light\"}}},\"font\":{\"size\":15},\"xaxis\":{\"tickfont\":{\"size\":12,\"family\":\"Arial Black\"},\"title\":{\"text\":\"\\u003cb\\u003eTime\\u003cb\\u003e\",\"font\":{\"size\":12}},\"zeroline\":false,\"tickmode\":\"array\",\"tickvals\":[0,16,32,48,64,80],\"ticktext\":[\"00h00\",\"04h00\",\"08h00\",\"12h00\",\"16h00\",\"20h00\"],\"showline\":true,\"showgrid\":true,\"gridwidth\":1,\"linewidth\":2,\"linecolor\":\"black\",\"gridcolor\":\"black\"},\"yaxis\":{\"tickfont\":{\"size\":12,\"family\":\"Arial Black\"},\"title\":{\"text\":\"\\u003cb\\u003e[%]\\u003cb\\u003e\",\"font\":{\"size\":12}},\"zeroline\":false,\"showline\":true,\"showgrid\":true,\"gridwidth\":1,\"linewidth\":2,\"linecolor\":\"black\",\"gridcolor\":\"black\"},\"margin\":{\"t\":30},\"legend\":{\"font\":{\"size\":12}},\"paper_bgcolor\":\"white\",\"plot_bgcolor\":\"white\",\"width\":680,\"height\":400,\"title\":{\"text\":\"\\u003cb\\u003eLine loading\\u003cb\\u003e\",\"y\":0.97,\"x\":0.5,\"xanchor\":\"center\",\"yanchor\":\"top\"}},                        {\"responsive\": true}                    ).then(function(){\n",
       "                            \n",
       "var gd = document.getElementById('d194dde6-7c82-4520-a4ed-e95ee4a90161');\n",
       "var x = new MutationObserver(function (mutations, observer) {{\n",
       "        var display = window.getComputedStyle(gd).display;\n",
       "        if (!display || display === 'none') {{\n",
       "            console.log([gd, 'removed!']);\n",
       "            Plotly.purge(gd);\n",
       "            observer.disconnect();\n",
       "        }}\n",
       "}});\n",
       "\n",
       "// Listen for the removal of the full notebook cells\n",
       "var notebookContainer = gd.closest('#notebook-container');\n",
       "if (notebookContainer) {{\n",
       "    x.observe(notebookContainer, {childList: true});\n",
       "}}\n",
       "\n",
       "// Listen for the clearing of the current output cell\n",
       "var outputEl = gd.closest('.output');\n",
       "if (outputEl) {{\n",
       "    x.observe(outputEl, {childList: true});\n",
       "}}\n",
       "\n",
       "                        })                };                });            </script>        </div>"
      ]
     },
     "metadata": {},
     "output_type": "display_data"
    }
   ],
   "source": [
    "pp_plot.plot_timeseries_result(\n",
    "    data_df=result_df[\"res_line.loading_percent\"],\n",
    "    ylabel=\"[%]\",\n",
    "    plot_title=\"Line loading\",\n",
    "    filename=\"line_loading_result\",\n",
    ")"
   ]
  },
  {
   "cell_type": "code",
   "execution_count": 672,
   "metadata": {},
   "outputs": [
    {
     "data": {
      "application/vnd.plotly.v1+json": {
       "config": {
        "plotlyServerURL": "https://plot.ly"
       },
       "data": [
        {
         "hoverinfo": "text",
         "legendgroup": "Transformers",
         "line": {
          "color": "rgb(128.2258064516129,255.0,118.5483870967742)",
          "width": 7
         },
         "mode": "lines",
         "name": "Transformers",
         "showlegend": true,
         "text": "Transfo T1<br>Loading: 50.5 %",
         "type": "scatter",
         "x": [
          0.04411484319830219,
          -0.18465400447251362,
          -0.4134228521433294
         ],
         "y": [
          0.2929668050525229,
          0.5963570023987358,
          0.8997471997449487
         ]
        },
        {
         "hoverinfo": "text",
         "legendgroup": "Transformers",
         "marker": {
          "color": "rgb(128.2258064516129,255.0,118.5483870967742)",
          "size": 1,
          "symbol": "circle"
         },
         "mode": "markers",
         "name": "edge_center",
         "showlegend": false,
         "text": [
          "Transfo T1<br>Loading: 50.5 %"
         ],
         "type": "scatter",
         "x": [
          -0.18465400447251362
         ],
         "y": [
          0.5963570023987358
         ]
        },
        {
         "hoverinfo": "text",
         "legendgroup": "lines",
         "line": {
          "color": "rgb(0.0,0.0,236.59090909090907)",
          "width": 3
         },
         "mode": "lines",
         "name": "lines",
         "showlegend": true,
         "text": "line_a<br>Loading: 9.5 %",
         "type": "scatter",
         "x": [
          0.864732143824462,
          0.8037953996404956,
          0.7428586554565294
         ],
         "y": [
          -0.7953249239893944,
          -0.4149081565426613,
          -0.03449138909592816
         ]
        },
        {
         "hoverinfo": "text",
         "legendgroup": "lines",
         "line": {
          "color": "rgb(0.0,0.0,222.95454545454544)",
          "width": 3
         },
         "mode": "lines",
         "name": "lines",
         "showlegend": false,
         "text": "line_b<br>Loading: 8.3 %",
         "type": "scatter",
         "x": [
          0.7428586554565294,
          0.4548102095195367,
          0.16676176358254402
         ],
         "y": [
          -0.03449138909592816,
          -0.251691917085301,
          -0.4688924450746738
         ]
        },
        {
         "hoverinfo": "text",
         "legendgroup": "lines",
         "line": {
          "color": "rgb(0.0,0.0,172.95454545454544)",
          "width": 3
         },
         "mode": "lines",
         "name": "lines",
         "showlegend": false,
         "text": "line_c<br>Loading: 4.0 %",
         "type": "scatter",
         "x": [
          0.864732143824462,
          0.515746953703503,
          0.16676176358254402
         ],
         "y": [
          -0.7953249239893944,
          -0.6321086845320341,
          -0.4688924450746738
         ]
        },
        {
         "hoverinfo": "text",
         "legendgroup": "lines",
         "line": {
          "color": "rgb(0.0,0.0,250.22727272727272)",
          "width": 3
         },
         "mode": "lines",
         "name": "lines",
         "showlegend": false,
         "text": "line_d<br>Loading: 10.9 %",
         "type": "scatter",
         "x": [
          0.16676176358254402,
          0.10543830339042311,
          0.04411484319830219
         ],
         "y": [
          -0.4688924450746738,
          -0.08796282001107544,
          0.2929668050525229
         ]
        },
        {
         "hoverinfo": "text",
         "legendgroup": "lines",
         "line": {
          "color": "rgb(0.0,0.0,182.04545454545453)",
          "width": 3
         },
         "mode": "lines",
         "name": "lines",
         "showlegend": false,
         "text": "line_e<br>Loading: 4.7 %",
         "type": "scatter",
         "x": [
          0.7428586554565294,
          0.3934867493274158,
          0.04411484319830219
         ],
         "y": [
          -0.03449138909592816,
          0.1292377079782974,
          0.2929668050525229
         ]
        },
        {
         "marker": {
          "cmax": 100,
          "cmin": 0,
          "color": "rgb(255,255,255)",
          "colorbar": {
           "thickness": 10,
           "title": {
            "side": "right",
            "text": "Equipment loading [%]"
           },
           "x": 1.15
          },
          "colorscale": [
           [
            0,
            "rgb(0,0,131)"
           ],
           [
            0.2,
            "rgb(0,60,170)"
           ],
           [
            0.4,
            "rgb(5,255,255)"
           ],
           [
            0.6,
            "rgb(255,255,0)"
           ],
           [
            0.8,
            "rgb(250,0,0)"
           ],
           [
            1,
            "rgb(128,0,0)"
           ]
          ],
          "opacity": 0,
          "size": 0
         },
         "mode": "markers",
         "type": "scatter",
         "x": [
          0.864732143824462
         ],
         "y": [
          -0.7953249239893944
         ]
        },
        {
         "hoverinfo": "text",
         "legendgroup": "lines",
         "marker": {
          "color": "rgb(128, 128, 128)",
          "size": 1,
          "symbol": "circle"
         },
         "mode": "markers",
         "name": "edge_center",
         "showlegend": false,
         "text": [
          "line_a<br>Loading: 9.5 %",
          "line_b<br>Loading: 8.3 %",
          "line_c<br>Loading: 4.0 %",
          "line_d<br>Loading: 10.9 %",
          "line_e<br>Loading: 4.7 %"
         ],
         "type": "scatter",
         "x": [
          0.8037953996404956
         ],
         "y": [
          -0.4149081565426613
         ]
        },
        {
         "hoverinfo": "text",
         "marker": {
          "color": "rgb(191, 191, 0)",
          "size": 30,
          "symbol": "square"
         },
         "mode": "markers",
         "name": "Ext grid",
         "text": [
          "Gen 1"
         ],
         "type": "scatter",
         "x": [
          0.864732143824462
         ],
         "y": [
          -0.7953249239893944
         ]
        },
        {
         "hoverinfo": "text",
         "marker": {
          "cmax": 1.15,
          "cmin": 0.85,
          "color": [
           1,
           1.0500000000000003,
           0.9140261983461145,
           0.9944789460812822,
           0.9999999999999998
          ],
          "colorbar": {
           "thickness": 10,
           "title": {
            "side": "right",
            "text": "Bus voltage [pu]"
           },
           "x": 1
          },
          "colorscale": [
           [
            0,
            "rgb(0,0,131)"
           ],
           [
            0.2,
            "rgb(0,60,170)"
           ],
           [
            0.4,
            "rgb(5,255,255)"
           ],
           [
            0.6,
            "rgb(255,255,0)"
           ],
           [
            0.8,
            "rgb(250,0,0)"
           ],
           [
            1,
            "rgb(128,0,0)"
           ]
          ],
          "size": 20,
          "symbol": "circle"
         },
         "mode": "markers",
         "name": "buses",
         "text": [
          "bus_1<br>V: 1.0 pu",
          "bus_2<br>V: 1.05 pu",
          "bus_3<br>V: 0.914 pu",
          "bus_4<br>V: 0.994 pu",
          "bus_5<br>V: 1.0 pu"
         ],
         "type": "scatter",
         "x": [
          0.864732143824462,
          0.7428586554565294,
          0.16676176358254402,
          0.04411484319830219,
          -0.4134228521433294
         ],
         "y": [
          -0.7953249239893944,
          -0.03449138909592816,
          -0.4688924450746738,
          0.2929668050525229,
          0.8997471997449487
         ]
        }
       ],
       "layout": {
        "font": {
         "size": 15
        },
        "height": 400,
        "hovermode": "closest",
        "legend": {
         "font": {
          "size": 12
         },
         "itemsizing": "constant"
        },
        "margin": {
         "b": 5,
         "l": 5,
         "r": 5,
         "t": 30
        },
        "paper_bgcolor": "white",
        "plot_bgcolor": "white",
        "showlegend": false,
        "template": {
         "data": {
          "bar": [
           {
            "error_x": {
             "color": "#2a3f5f"
            },
            "error_y": {
             "color": "#2a3f5f"
            },
            "marker": {
             "line": {
              "color": "#E5ECF6",
              "width": 0.5
             },
             "pattern": {
              "fillmode": "overlay",
              "size": 10,
              "solidity": 0.2
             }
            },
            "type": "bar"
           }
          ],
          "barpolar": [
           {
            "marker": {
             "line": {
              "color": "#E5ECF6",
              "width": 0.5
             },
             "pattern": {
              "fillmode": "overlay",
              "size": 10,
              "solidity": 0.2
             }
            },
            "type": "barpolar"
           }
          ],
          "carpet": [
           {
            "aaxis": {
             "endlinecolor": "#2a3f5f",
             "gridcolor": "white",
             "linecolor": "white",
             "minorgridcolor": "white",
             "startlinecolor": "#2a3f5f"
            },
            "baxis": {
             "endlinecolor": "#2a3f5f",
             "gridcolor": "white",
             "linecolor": "white",
             "minorgridcolor": "white",
             "startlinecolor": "#2a3f5f"
            },
            "type": "carpet"
           }
          ],
          "choropleth": [
           {
            "colorbar": {
             "outlinewidth": 0,
             "ticks": ""
            },
            "type": "choropleth"
           }
          ],
          "contour": [
           {
            "colorbar": {
             "outlinewidth": 0,
             "ticks": ""
            },
            "colorscale": [
             [
              0,
              "#0d0887"
             ],
             [
              0.1111111111111111,
              "#46039f"
             ],
             [
              0.2222222222222222,
              "#7201a8"
             ],
             [
              0.3333333333333333,
              "#9c179e"
             ],
             [
              0.4444444444444444,
              "#bd3786"
             ],
             [
              0.5555555555555556,
              "#d8576b"
             ],
             [
              0.6666666666666666,
              "#ed7953"
             ],
             [
              0.7777777777777778,
              "#fb9f3a"
             ],
             [
              0.8888888888888888,
              "#fdca26"
             ],
             [
              1,
              "#f0f921"
             ]
            ],
            "type": "contour"
           }
          ],
          "contourcarpet": [
           {
            "colorbar": {
             "outlinewidth": 0,
             "ticks": ""
            },
            "type": "contourcarpet"
           }
          ],
          "heatmap": [
           {
            "colorbar": {
             "outlinewidth": 0,
             "ticks": ""
            },
            "colorscale": [
             [
              0,
              "#0d0887"
             ],
             [
              0.1111111111111111,
              "#46039f"
             ],
             [
              0.2222222222222222,
              "#7201a8"
             ],
             [
              0.3333333333333333,
              "#9c179e"
             ],
             [
              0.4444444444444444,
              "#bd3786"
             ],
             [
              0.5555555555555556,
              "#d8576b"
             ],
             [
              0.6666666666666666,
              "#ed7953"
             ],
             [
              0.7777777777777778,
              "#fb9f3a"
             ],
             [
              0.8888888888888888,
              "#fdca26"
             ],
             [
              1,
              "#f0f921"
             ]
            ],
            "type": "heatmap"
           }
          ],
          "heatmapgl": [
           {
            "colorbar": {
             "outlinewidth": 0,
             "ticks": ""
            },
            "colorscale": [
             [
              0,
              "#0d0887"
             ],
             [
              0.1111111111111111,
              "#46039f"
             ],
             [
              0.2222222222222222,
              "#7201a8"
             ],
             [
              0.3333333333333333,
              "#9c179e"
             ],
             [
              0.4444444444444444,
              "#bd3786"
             ],
             [
              0.5555555555555556,
              "#d8576b"
             ],
             [
              0.6666666666666666,
              "#ed7953"
             ],
             [
              0.7777777777777778,
              "#fb9f3a"
             ],
             [
              0.8888888888888888,
              "#fdca26"
             ],
             [
              1,
              "#f0f921"
             ]
            ],
            "type": "heatmapgl"
           }
          ],
          "histogram": [
           {
            "marker": {
             "pattern": {
              "fillmode": "overlay",
              "size": 10,
              "solidity": 0.2
             }
            },
            "type": "histogram"
           }
          ],
          "histogram2d": [
           {
            "colorbar": {
             "outlinewidth": 0,
             "ticks": ""
            },
            "colorscale": [
             [
              0,
              "#0d0887"
             ],
             [
              0.1111111111111111,
              "#46039f"
             ],
             [
              0.2222222222222222,
              "#7201a8"
             ],
             [
              0.3333333333333333,
              "#9c179e"
             ],
             [
              0.4444444444444444,
              "#bd3786"
             ],
             [
              0.5555555555555556,
              "#d8576b"
             ],
             [
              0.6666666666666666,
              "#ed7953"
             ],
             [
              0.7777777777777778,
              "#fb9f3a"
             ],
             [
              0.8888888888888888,
              "#fdca26"
             ],
             [
              1,
              "#f0f921"
             ]
            ],
            "type": "histogram2d"
           }
          ],
          "histogram2dcontour": [
           {
            "colorbar": {
             "outlinewidth": 0,
             "ticks": ""
            },
            "colorscale": [
             [
              0,
              "#0d0887"
             ],
             [
              0.1111111111111111,
              "#46039f"
             ],
             [
              0.2222222222222222,
              "#7201a8"
             ],
             [
              0.3333333333333333,
              "#9c179e"
             ],
             [
              0.4444444444444444,
              "#bd3786"
             ],
             [
              0.5555555555555556,
              "#d8576b"
             ],
             [
              0.6666666666666666,
              "#ed7953"
             ],
             [
              0.7777777777777778,
              "#fb9f3a"
             ],
             [
              0.8888888888888888,
              "#fdca26"
             ],
             [
              1,
              "#f0f921"
             ]
            ],
            "type": "histogram2dcontour"
           }
          ],
          "mesh3d": [
           {
            "colorbar": {
             "outlinewidth": 0,
             "ticks": ""
            },
            "type": "mesh3d"
           }
          ],
          "parcoords": [
           {
            "line": {
             "colorbar": {
              "outlinewidth": 0,
              "ticks": ""
             }
            },
            "type": "parcoords"
           }
          ],
          "pie": [
           {
            "automargin": true,
            "type": "pie"
           }
          ],
          "scatter": [
           {
            "fillpattern": {
             "fillmode": "overlay",
             "size": 10,
             "solidity": 0.2
            },
            "type": "scatter"
           }
          ],
          "scatter3d": [
           {
            "line": {
             "colorbar": {
              "outlinewidth": 0,
              "ticks": ""
             }
            },
            "marker": {
             "colorbar": {
              "outlinewidth": 0,
              "ticks": ""
             }
            },
            "type": "scatter3d"
           }
          ],
          "scattercarpet": [
           {
            "marker": {
             "colorbar": {
              "outlinewidth": 0,
              "ticks": ""
             }
            },
            "type": "scattercarpet"
           }
          ],
          "scattergeo": [
           {
            "marker": {
             "colorbar": {
              "outlinewidth": 0,
              "ticks": ""
             }
            },
            "type": "scattergeo"
           }
          ],
          "scattergl": [
           {
            "marker": {
             "colorbar": {
              "outlinewidth": 0,
              "ticks": ""
             }
            },
            "type": "scattergl"
           }
          ],
          "scattermapbox": [
           {
            "marker": {
             "colorbar": {
              "outlinewidth": 0,
              "ticks": ""
             }
            },
            "type": "scattermapbox"
           }
          ],
          "scatterpolar": [
           {
            "marker": {
             "colorbar": {
              "outlinewidth": 0,
              "ticks": ""
             }
            },
            "type": "scatterpolar"
           }
          ],
          "scatterpolargl": [
           {
            "marker": {
             "colorbar": {
              "outlinewidth": 0,
              "ticks": ""
             }
            },
            "type": "scatterpolargl"
           }
          ],
          "scatterternary": [
           {
            "marker": {
             "colorbar": {
              "outlinewidth": 0,
              "ticks": ""
             }
            },
            "type": "scatterternary"
           }
          ],
          "surface": [
           {
            "colorbar": {
             "outlinewidth": 0,
             "ticks": ""
            },
            "colorscale": [
             [
              0,
              "#0d0887"
             ],
             [
              0.1111111111111111,
              "#46039f"
             ],
             [
              0.2222222222222222,
              "#7201a8"
             ],
             [
              0.3333333333333333,
              "#9c179e"
             ],
             [
              0.4444444444444444,
              "#bd3786"
             ],
             [
              0.5555555555555556,
              "#d8576b"
             ],
             [
              0.6666666666666666,
              "#ed7953"
             ],
             [
              0.7777777777777778,
              "#fb9f3a"
             ],
             [
              0.8888888888888888,
              "#fdca26"
             ],
             [
              1,
              "#f0f921"
             ]
            ],
            "type": "surface"
           }
          ],
          "table": [
           {
            "cells": {
             "fill": {
              "color": "#EBF0F8"
             },
             "line": {
              "color": "white"
             }
            },
            "header": {
             "fill": {
              "color": "#C8D4E3"
             },
             "line": {
              "color": "white"
             }
            },
            "type": "table"
           }
          ]
         },
         "layout": {
          "annotationdefaults": {
           "arrowcolor": "#2a3f5f",
           "arrowhead": 0,
           "arrowwidth": 1
          },
          "autotypenumbers": "strict",
          "coloraxis": {
           "colorbar": {
            "outlinewidth": 0,
            "ticks": ""
           }
          },
          "colorscale": {
           "diverging": [
            [
             0,
             "#8e0152"
            ],
            [
             0.1,
             "#c51b7d"
            ],
            [
             0.2,
             "#de77ae"
            ],
            [
             0.3,
             "#f1b6da"
            ],
            [
             0.4,
             "#fde0ef"
            ],
            [
             0.5,
             "#f7f7f7"
            ],
            [
             0.6,
             "#e6f5d0"
            ],
            [
             0.7,
             "#b8e186"
            ],
            [
             0.8,
             "#7fbc41"
            ],
            [
             0.9,
             "#4d9221"
            ],
            [
             1,
             "#276419"
            ]
           ],
           "sequential": [
            [
             0,
             "#0d0887"
            ],
            [
             0.1111111111111111,
             "#46039f"
            ],
            [
             0.2222222222222222,
             "#7201a8"
            ],
            [
             0.3333333333333333,
             "#9c179e"
            ],
            [
             0.4444444444444444,
             "#bd3786"
            ],
            [
             0.5555555555555556,
             "#d8576b"
            ],
            [
             0.6666666666666666,
             "#ed7953"
            ],
            [
             0.7777777777777778,
             "#fb9f3a"
            ],
            [
             0.8888888888888888,
             "#fdca26"
            ],
            [
             1,
             "#f0f921"
            ]
           ],
           "sequentialminus": [
            [
             0,
             "#0d0887"
            ],
            [
             0.1111111111111111,
             "#46039f"
            ],
            [
             0.2222222222222222,
             "#7201a8"
            ],
            [
             0.3333333333333333,
             "#9c179e"
            ],
            [
             0.4444444444444444,
             "#bd3786"
            ],
            [
             0.5555555555555556,
             "#d8576b"
            ],
            [
             0.6666666666666666,
             "#ed7953"
            ],
            [
             0.7777777777777778,
             "#fb9f3a"
            ],
            [
             0.8888888888888888,
             "#fdca26"
            ],
            [
             1,
             "#f0f921"
            ]
           ]
          },
          "colorway": [
           "#636efa",
           "#EF553B",
           "#00cc96",
           "#ab63fa",
           "#FFA15A",
           "#19d3f3",
           "#FF6692",
           "#B6E880",
           "#FF97FF",
           "#FECB52"
          ],
          "font": {
           "color": "#2a3f5f"
          },
          "geo": {
           "bgcolor": "white",
           "lakecolor": "white",
           "landcolor": "#E5ECF6",
           "showlakes": true,
           "showland": true,
           "subunitcolor": "white"
          },
          "hoverlabel": {
           "align": "left"
          },
          "hovermode": "closest",
          "mapbox": {
           "style": "light"
          },
          "paper_bgcolor": "white",
          "plot_bgcolor": "#E5ECF6",
          "polar": {
           "angularaxis": {
            "gridcolor": "white",
            "linecolor": "white",
            "ticks": ""
           },
           "bgcolor": "#E5ECF6",
           "radialaxis": {
            "gridcolor": "white",
            "linecolor": "white",
            "ticks": ""
           }
          },
          "scene": {
           "xaxis": {
            "backgroundcolor": "#E5ECF6",
            "gridcolor": "white",
            "gridwidth": 2,
            "linecolor": "white",
            "showbackground": true,
            "ticks": "",
            "zerolinecolor": "white"
           },
           "yaxis": {
            "backgroundcolor": "#E5ECF6",
            "gridcolor": "white",
            "gridwidth": 2,
            "linecolor": "white",
            "showbackground": true,
            "ticks": "",
            "zerolinecolor": "white"
           },
           "zaxis": {
            "backgroundcolor": "#E5ECF6",
            "gridcolor": "white",
            "gridwidth": 2,
            "linecolor": "white",
            "showbackground": true,
            "ticks": "",
            "zerolinecolor": "white"
           }
          },
          "shapedefaults": {
           "line": {
            "color": "#2a3f5f"
           }
          },
          "ternary": {
           "aaxis": {
            "gridcolor": "white",
            "linecolor": "white",
            "ticks": ""
           },
           "baxis": {
            "gridcolor": "white",
            "linecolor": "white",
            "ticks": ""
           },
           "bgcolor": "#E5ECF6",
           "caxis": {
            "gridcolor": "white",
            "linecolor": "white",
            "ticks": ""
           }
          },
          "title": {
           "x": 0.05
          },
          "xaxis": {
           "automargin": true,
           "gridcolor": "white",
           "linecolor": "white",
           "ticks": "",
           "title": {
            "standoff": 15
           },
           "zerolinecolor": "white",
           "zerolinewidth": 2
          },
          "yaxis": {
           "automargin": true,
           "gridcolor": "white",
           "linecolor": "white",
           "ticks": "",
           "title": {
            "standoff": 15
           },
           "zerolinecolor": "white",
           "zerolinewidth": 2
          }
         }
        },
        "title": {
         "text": "<b>Powerflow results at 12h00<b>",
         "x": 0.5,
         "xanchor": "center",
         "y": 0.97,
         "yanchor": "top"
        },
        "width": 770,
        "xaxis": {
         "showgrid": false,
         "showticklabels": false,
         "tickfont": {
          "family": "Arial Black",
          "size": 12
         },
         "title": {
          "font": {
           "size": 12
          }
         },
         "zeroline": false
        },
        "yaxis": {
         "showgrid": false,
         "showticklabels": false,
         "tickfont": {
          "family": "Arial Black",
          "size": 12
         },
         "title": {
          "font": {
           "size": 12
          }
         },
         "zeroline": false
        }
       }
      },
      "text/html": [
       "<div>                            <div id=\"ecdeafbf-dec9-4c7f-852b-0c6627428fbc\" class=\"plotly-graph-div\" style=\"height:400px; width:770px;\"></div>            <script type=\"text/javascript\">                require([\"plotly\"], function(Plotly) {                    window.PLOTLYENV=window.PLOTLYENV || {};                                    if (document.getElementById(\"ecdeafbf-dec9-4c7f-852b-0c6627428fbc\")) {                    Plotly.newPlot(                        \"ecdeafbf-dec9-4c7f-852b-0c6627428fbc\",                        [{\"hoverinfo\":\"text\",\"legendgroup\":\"Transformers\",\"line\":{\"color\":\"rgb(128.2258064516129,255.0,118.5483870967742)\",\"width\":7},\"mode\":\"lines\",\"name\":\"Transformers\",\"showlegend\":true,\"text\":\"Transfo T1\\u003cbr\\u003eLoading: 50.5 %\",\"x\":[0.04411484319830219,-0.18465400447251362,-0.4134228521433294],\"y\":[0.2929668050525229,0.5963570023987358,0.8997471997449487],\"type\":\"scatter\"},{\"hoverinfo\":\"text\",\"legendgroup\":\"Transformers\",\"marker\":{\"color\":\"rgb(128.2258064516129,255.0,118.5483870967742)\",\"size\":1,\"symbol\":\"circle\"},\"mode\":\"markers\",\"name\":\"edge_center\",\"showlegend\":false,\"text\":[\"Transfo T1\\u003cbr\\u003eLoading: 50.5 %\"],\"x\":[-0.18465400447251362],\"y\":[0.5963570023987358],\"type\":\"scatter\"},{\"hoverinfo\":\"text\",\"legendgroup\":\"lines\",\"line\":{\"color\":\"rgb(0.0,0.0,236.59090909090907)\",\"width\":3},\"mode\":\"lines\",\"name\":\"lines\",\"showlegend\":true,\"text\":\"line_a\\u003cbr\\u003eLoading: 9.5 %\",\"x\":[0.864732143824462,0.8037953996404956,0.7428586554565294],\"y\":[-0.7953249239893944,-0.4149081565426613,-0.03449138909592816],\"type\":\"scatter\"},{\"hoverinfo\":\"text\",\"legendgroup\":\"lines\",\"line\":{\"color\":\"rgb(0.0,0.0,222.95454545454544)\",\"width\":3},\"mode\":\"lines\",\"name\":\"lines\",\"showlegend\":false,\"text\":\"line_b\\u003cbr\\u003eLoading: 8.3 %\",\"x\":[0.7428586554565294,0.4548102095195367,0.16676176358254402],\"y\":[-0.03449138909592816,-0.251691917085301,-0.4688924450746738],\"type\":\"scatter\"},{\"hoverinfo\":\"text\",\"legendgroup\":\"lines\",\"line\":{\"color\":\"rgb(0.0,0.0,172.95454545454544)\",\"width\":3},\"mode\":\"lines\",\"name\":\"lines\",\"showlegend\":false,\"text\":\"line_c\\u003cbr\\u003eLoading: 4.0 %\",\"x\":[0.864732143824462,0.515746953703503,0.16676176358254402],\"y\":[-0.7953249239893944,-0.6321086845320341,-0.4688924450746738],\"type\":\"scatter\"},{\"hoverinfo\":\"text\",\"legendgroup\":\"lines\",\"line\":{\"color\":\"rgb(0.0,0.0,250.22727272727272)\",\"width\":3},\"mode\":\"lines\",\"name\":\"lines\",\"showlegend\":false,\"text\":\"line_d\\u003cbr\\u003eLoading: 10.9 %\",\"x\":[0.16676176358254402,0.10543830339042311,0.04411484319830219],\"y\":[-0.4688924450746738,-0.08796282001107544,0.2929668050525229],\"type\":\"scatter\"},{\"hoverinfo\":\"text\",\"legendgroup\":\"lines\",\"line\":{\"color\":\"rgb(0.0,0.0,182.04545454545453)\",\"width\":3},\"mode\":\"lines\",\"name\":\"lines\",\"showlegend\":false,\"text\":\"line_e\\u003cbr\\u003eLoading: 4.7 %\",\"x\":[0.7428586554565294,0.3934867493274158,0.04411484319830219],\"y\":[-0.03449138909592816,0.1292377079782974,0.2929668050525229],\"type\":\"scatter\"},{\"marker\":{\"cmax\":100,\"cmin\":0,\"color\":\"rgb(255,255,255)\",\"colorbar\":{\"thickness\":10,\"title\":{\"side\":\"right\",\"text\":\"Equipment loading [%]\"},\"x\":1.15},\"colorscale\":[[0.0,\"rgb(0,0,131)\"],[0.2,\"rgb(0,60,170)\"],[0.4,\"rgb(5,255,255)\"],[0.6,\"rgb(255,255,0)\"],[0.8,\"rgb(250,0,0)\"],[1.0,\"rgb(128,0,0)\"]],\"opacity\":0,\"size\":0},\"mode\":\"markers\",\"x\":[0.864732143824462],\"y\":[-0.7953249239893944],\"type\":\"scatter\"},{\"hoverinfo\":\"text\",\"legendgroup\":\"lines\",\"marker\":{\"color\":\"rgb(128, 128, 128)\",\"size\":1,\"symbol\":\"circle\"},\"mode\":\"markers\",\"name\":\"edge_center\",\"showlegend\":false,\"text\":[\"line_a\\u003cbr\\u003eLoading: 9.5 %\",\"line_b\\u003cbr\\u003eLoading: 8.3 %\",\"line_c\\u003cbr\\u003eLoading: 4.0 %\",\"line_d\\u003cbr\\u003eLoading: 10.9 %\",\"line_e\\u003cbr\\u003eLoading: 4.7 %\"],\"x\":[0.8037953996404956],\"y\":[-0.4149081565426613],\"type\":\"scatter\"},{\"hoverinfo\":\"text\",\"marker\":{\"color\":\"rgb(191, 191, 0)\",\"size\":30,\"symbol\":\"square\"},\"mode\":\"markers\",\"name\":\"Ext grid\",\"text\":[\"Gen 1\"],\"x\":[0.864732143824462],\"y\":[-0.7953249239893944],\"type\":\"scatter\"},{\"hoverinfo\":\"text\",\"marker\":{\"cmax\":1.15,\"cmin\":0.85,\"color\":[1.0,1.0500000000000003,0.9140261983461145,0.9944789460812822,0.9999999999999998],\"colorbar\":{\"thickness\":10,\"title\":{\"side\":\"right\",\"text\":\"Bus voltage [pu]\"},\"x\":1.0},\"colorscale\":[[0.0,\"rgb(0,0,131)\"],[0.2,\"rgb(0,60,170)\"],[0.4,\"rgb(5,255,255)\"],[0.6,\"rgb(255,255,0)\"],[0.8,\"rgb(250,0,0)\"],[1.0,\"rgb(128,0,0)\"]],\"size\":20,\"symbol\":\"circle\"},\"mode\":\"markers\",\"name\":\"buses\",\"text\":[\"bus_1\\u003cbr\\u003eV: 1.0 pu\",\"bus_2\\u003cbr\\u003eV: 1.05 pu\",\"bus_3\\u003cbr\\u003eV: 0.914 pu\",\"bus_4\\u003cbr\\u003eV: 0.994 pu\",\"bus_5\\u003cbr\\u003eV: 1.0 pu\"],\"x\":[0.864732143824462,0.7428586554565294,0.16676176358254402,0.04411484319830219,-0.4134228521433294],\"y\":[-0.7953249239893944,-0.03449138909592816,-0.4688924450746738,0.2929668050525229,0.8997471997449487],\"type\":\"scatter\"}],                        {\"hovermode\":\"closest\",\"legend\":{\"itemsizing\":\"constant\",\"font\":{\"size\":12}},\"margin\":{\"b\":5,\"l\":5,\"r\":5,\"t\":30},\"showlegend\":false,\"xaxis\":{\"showgrid\":false,\"showticklabels\":false,\"zeroline\":false,\"tickfont\":{\"size\":12,\"family\":\"Arial Black\"},\"title\":{\"font\":{\"size\":12}}},\"yaxis\":{\"showgrid\":false,\"showticklabels\":false,\"zeroline\":false,\"tickfont\":{\"size\":12,\"family\":\"Arial Black\"},\"title\":{\"font\":{\"size\":12}}},\"template\":{\"data\":{\"histogram2dcontour\":[{\"type\":\"histogram2dcontour\",\"colorbar\":{\"outlinewidth\":0,\"ticks\":\"\"},\"colorscale\":[[0.0,\"#0d0887\"],[0.1111111111111111,\"#46039f\"],[0.2222222222222222,\"#7201a8\"],[0.3333333333333333,\"#9c179e\"],[0.4444444444444444,\"#bd3786\"],[0.5555555555555556,\"#d8576b\"],[0.6666666666666666,\"#ed7953\"],[0.7777777777777778,\"#fb9f3a\"],[0.8888888888888888,\"#fdca26\"],[1.0,\"#f0f921\"]]}],\"choropleth\":[{\"type\":\"choropleth\",\"colorbar\":{\"outlinewidth\":0,\"ticks\":\"\"}}],\"histogram2d\":[{\"type\":\"histogram2d\",\"colorbar\":{\"outlinewidth\":0,\"ticks\":\"\"},\"colorscale\":[[0.0,\"#0d0887\"],[0.1111111111111111,\"#46039f\"],[0.2222222222222222,\"#7201a8\"],[0.3333333333333333,\"#9c179e\"],[0.4444444444444444,\"#bd3786\"],[0.5555555555555556,\"#d8576b\"],[0.6666666666666666,\"#ed7953\"],[0.7777777777777778,\"#fb9f3a\"],[0.8888888888888888,\"#fdca26\"],[1.0,\"#f0f921\"]]}],\"heatmap\":[{\"type\":\"heatmap\",\"colorbar\":{\"outlinewidth\":0,\"ticks\":\"\"},\"colorscale\":[[0.0,\"#0d0887\"],[0.1111111111111111,\"#46039f\"],[0.2222222222222222,\"#7201a8\"],[0.3333333333333333,\"#9c179e\"],[0.4444444444444444,\"#bd3786\"],[0.5555555555555556,\"#d8576b\"],[0.6666666666666666,\"#ed7953\"],[0.7777777777777778,\"#fb9f3a\"],[0.8888888888888888,\"#fdca26\"],[1.0,\"#f0f921\"]]}],\"heatmapgl\":[{\"type\":\"heatmapgl\",\"colorbar\":{\"outlinewidth\":0,\"ticks\":\"\"},\"colorscale\":[[0.0,\"#0d0887\"],[0.1111111111111111,\"#46039f\"],[0.2222222222222222,\"#7201a8\"],[0.3333333333333333,\"#9c179e\"],[0.4444444444444444,\"#bd3786\"],[0.5555555555555556,\"#d8576b\"],[0.6666666666666666,\"#ed7953\"],[0.7777777777777778,\"#fb9f3a\"],[0.8888888888888888,\"#fdca26\"],[1.0,\"#f0f921\"]]}],\"contourcarpet\":[{\"type\":\"contourcarpet\",\"colorbar\":{\"outlinewidth\":0,\"ticks\":\"\"}}],\"contour\":[{\"type\":\"contour\",\"colorbar\":{\"outlinewidth\":0,\"ticks\":\"\"},\"colorscale\":[[0.0,\"#0d0887\"],[0.1111111111111111,\"#46039f\"],[0.2222222222222222,\"#7201a8\"],[0.3333333333333333,\"#9c179e\"],[0.4444444444444444,\"#bd3786\"],[0.5555555555555556,\"#d8576b\"],[0.6666666666666666,\"#ed7953\"],[0.7777777777777778,\"#fb9f3a\"],[0.8888888888888888,\"#fdca26\"],[1.0,\"#f0f921\"]]}],\"surface\":[{\"type\":\"surface\",\"colorbar\":{\"outlinewidth\":0,\"ticks\":\"\"},\"colorscale\":[[0.0,\"#0d0887\"],[0.1111111111111111,\"#46039f\"],[0.2222222222222222,\"#7201a8\"],[0.3333333333333333,\"#9c179e\"],[0.4444444444444444,\"#bd3786\"],[0.5555555555555556,\"#d8576b\"],[0.6666666666666666,\"#ed7953\"],[0.7777777777777778,\"#fb9f3a\"],[0.8888888888888888,\"#fdca26\"],[1.0,\"#f0f921\"]]}],\"mesh3d\":[{\"type\":\"mesh3d\",\"colorbar\":{\"outlinewidth\":0,\"ticks\":\"\"}}],\"scatter\":[{\"fillpattern\":{\"fillmode\":\"overlay\",\"size\":10,\"solidity\":0.2},\"type\":\"scatter\"}],\"parcoords\":[{\"type\":\"parcoords\",\"line\":{\"colorbar\":{\"outlinewidth\":0,\"ticks\":\"\"}}}],\"scatterpolargl\":[{\"type\":\"scatterpolargl\",\"marker\":{\"colorbar\":{\"outlinewidth\":0,\"ticks\":\"\"}}}],\"bar\":[{\"error_x\":{\"color\":\"#2a3f5f\"},\"error_y\":{\"color\":\"#2a3f5f\"},\"marker\":{\"line\":{\"color\":\"#E5ECF6\",\"width\":0.5},\"pattern\":{\"fillmode\":\"overlay\",\"size\":10,\"solidity\":0.2}},\"type\":\"bar\"}],\"scattergeo\":[{\"type\":\"scattergeo\",\"marker\":{\"colorbar\":{\"outlinewidth\":0,\"ticks\":\"\"}}}],\"scatterpolar\":[{\"type\":\"scatterpolar\",\"marker\":{\"colorbar\":{\"outlinewidth\":0,\"ticks\":\"\"}}}],\"histogram\":[{\"marker\":{\"pattern\":{\"fillmode\":\"overlay\",\"size\":10,\"solidity\":0.2}},\"type\":\"histogram\"}],\"scattergl\":[{\"type\":\"scattergl\",\"marker\":{\"colorbar\":{\"outlinewidth\":0,\"ticks\":\"\"}}}],\"scatter3d\":[{\"type\":\"scatter3d\",\"line\":{\"colorbar\":{\"outlinewidth\":0,\"ticks\":\"\"}},\"marker\":{\"colorbar\":{\"outlinewidth\":0,\"ticks\":\"\"}}}],\"scattermapbox\":[{\"type\":\"scattermapbox\",\"marker\":{\"colorbar\":{\"outlinewidth\":0,\"ticks\":\"\"}}}],\"scatterternary\":[{\"type\":\"scatterternary\",\"marker\":{\"colorbar\":{\"outlinewidth\":0,\"ticks\":\"\"}}}],\"scattercarpet\":[{\"type\":\"scattercarpet\",\"marker\":{\"colorbar\":{\"outlinewidth\":0,\"ticks\":\"\"}}}],\"carpet\":[{\"aaxis\":{\"endlinecolor\":\"#2a3f5f\",\"gridcolor\":\"white\",\"linecolor\":\"white\",\"minorgridcolor\":\"white\",\"startlinecolor\":\"#2a3f5f\"},\"baxis\":{\"endlinecolor\":\"#2a3f5f\",\"gridcolor\":\"white\",\"linecolor\":\"white\",\"minorgridcolor\":\"white\",\"startlinecolor\":\"#2a3f5f\"},\"type\":\"carpet\"}],\"table\":[{\"cells\":{\"fill\":{\"color\":\"#EBF0F8\"},\"line\":{\"color\":\"white\"}},\"header\":{\"fill\":{\"color\":\"#C8D4E3\"},\"line\":{\"color\":\"white\"}},\"type\":\"table\"}],\"barpolar\":[{\"marker\":{\"line\":{\"color\":\"#E5ECF6\",\"width\":0.5},\"pattern\":{\"fillmode\":\"overlay\",\"size\":10,\"solidity\":0.2}},\"type\":\"barpolar\"}],\"pie\":[{\"automargin\":true,\"type\":\"pie\"}]},\"layout\":{\"autotypenumbers\":\"strict\",\"colorway\":[\"#636efa\",\"#EF553B\",\"#00cc96\",\"#ab63fa\",\"#FFA15A\",\"#19d3f3\",\"#FF6692\",\"#B6E880\",\"#FF97FF\",\"#FECB52\"],\"font\":{\"color\":\"#2a3f5f\"},\"hovermode\":\"closest\",\"hoverlabel\":{\"align\":\"left\"},\"paper_bgcolor\":\"white\",\"plot_bgcolor\":\"#E5ECF6\",\"polar\":{\"bgcolor\":\"#E5ECF6\",\"angularaxis\":{\"gridcolor\":\"white\",\"linecolor\":\"white\",\"ticks\":\"\"},\"radialaxis\":{\"gridcolor\":\"white\",\"linecolor\":\"white\",\"ticks\":\"\"}},\"ternary\":{\"bgcolor\":\"#E5ECF6\",\"aaxis\":{\"gridcolor\":\"white\",\"linecolor\":\"white\",\"ticks\":\"\"},\"baxis\":{\"gridcolor\":\"white\",\"linecolor\":\"white\",\"ticks\":\"\"},\"caxis\":{\"gridcolor\":\"white\",\"linecolor\":\"white\",\"ticks\":\"\"}},\"coloraxis\":{\"colorbar\":{\"outlinewidth\":0,\"ticks\":\"\"}},\"colorscale\":{\"sequential\":[[0.0,\"#0d0887\"],[0.1111111111111111,\"#46039f\"],[0.2222222222222222,\"#7201a8\"],[0.3333333333333333,\"#9c179e\"],[0.4444444444444444,\"#bd3786\"],[0.5555555555555556,\"#d8576b\"],[0.6666666666666666,\"#ed7953\"],[0.7777777777777778,\"#fb9f3a\"],[0.8888888888888888,\"#fdca26\"],[1.0,\"#f0f921\"]],\"sequentialminus\":[[0.0,\"#0d0887\"],[0.1111111111111111,\"#46039f\"],[0.2222222222222222,\"#7201a8\"],[0.3333333333333333,\"#9c179e\"],[0.4444444444444444,\"#bd3786\"],[0.5555555555555556,\"#d8576b\"],[0.6666666666666666,\"#ed7953\"],[0.7777777777777778,\"#fb9f3a\"],[0.8888888888888888,\"#fdca26\"],[1.0,\"#f0f921\"]],\"diverging\":[[0,\"#8e0152\"],[0.1,\"#c51b7d\"],[0.2,\"#de77ae\"],[0.3,\"#f1b6da\"],[0.4,\"#fde0ef\"],[0.5,\"#f7f7f7\"],[0.6,\"#e6f5d0\"],[0.7,\"#b8e186\"],[0.8,\"#7fbc41\"],[0.9,\"#4d9221\"],[1,\"#276419\"]]},\"xaxis\":{\"gridcolor\":\"white\",\"linecolor\":\"white\",\"ticks\":\"\",\"title\":{\"standoff\":15},\"zerolinecolor\":\"white\",\"automargin\":true,\"zerolinewidth\":2},\"yaxis\":{\"gridcolor\":\"white\",\"linecolor\":\"white\",\"ticks\":\"\",\"title\":{\"standoff\":15},\"zerolinecolor\":\"white\",\"automargin\":true,\"zerolinewidth\":2},\"scene\":{\"xaxis\":{\"backgroundcolor\":\"#E5ECF6\",\"gridcolor\":\"white\",\"linecolor\":\"white\",\"showbackground\":true,\"ticks\":\"\",\"zerolinecolor\":\"white\",\"gridwidth\":2},\"yaxis\":{\"backgroundcolor\":\"#E5ECF6\",\"gridcolor\":\"white\",\"linecolor\":\"white\",\"showbackground\":true,\"ticks\":\"\",\"zerolinecolor\":\"white\",\"gridwidth\":2},\"zaxis\":{\"backgroundcolor\":\"#E5ECF6\",\"gridcolor\":\"white\",\"linecolor\":\"white\",\"showbackground\":true,\"ticks\":\"\",\"zerolinecolor\":\"white\",\"gridwidth\":2}},\"shapedefaults\":{\"line\":{\"color\":\"#2a3f5f\"}},\"annotationdefaults\":{\"arrowcolor\":\"#2a3f5f\",\"arrowhead\":0,\"arrowwidth\":1},\"geo\":{\"bgcolor\":\"white\",\"landcolor\":\"#E5ECF6\",\"subunitcolor\":\"white\",\"showland\":true,\"showlakes\":true,\"lakecolor\":\"white\"},\"title\":{\"x\":0.05},\"mapbox\":{\"style\":\"light\"}}},\"font\":{\"size\":15},\"paper_bgcolor\":\"white\",\"plot_bgcolor\":\"white\",\"width\":770,\"height\":400,\"title\":{\"text\":\"\\u003cb\\u003ePowerflow results at 12h00\\u003cb\\u003e\",\"y\":0.97,\"x\":0.5,\"xanchor\":\"center\",\"yanchor\":\"top\"}},                        {\"responsive\": true}                    ).then(function(){\n",
       "                            \n",
       "var gd = document.getElementById('ecdeafbf-dec9-4c7f-852b-0c6627428fbc');\n",
       "var x = new MutationObserver(function (mutations, observer) {{\n",
       "        var display = window.getComputedStyle(gd).display;\n",
       "        if (!display || display === 'none') {{\n",
       "            console.log([gd, 'removed!']);\n",
       "            Plotly.purge(gd);\n",
       "            observer.disconnect();\n",
       "        }}\n",
       "}});\n",
       "\n",
       "// Listen for the removal of the full notebook cells\n",
       "var notebookContainer = gd.closest('#notebook-container');\n",
       "if (notebookContainer) {{\n",
       "    x.observe(notebookContainer, {childList: true});\n",
       "}}\n",
       "\n",
       "// Listen for the clearing of the current output cell\n",
       "var outputEl = gd.closest('.output');\n",
       "if (outputEl) {{\n",
       "    x.observe(outputEl, {childList: true});\n",
       "}}\n",
       "\n",
       "                        })                };                });            </script>        </div>"
      ]
     },
     "metadata": {},
     "output_type": "display_data"
    },
    {
     "name": "stdout",
     "output_type": "stream",
     "text": [
      "\n"
     ]
    },
    {
     "data": {
      "application/vnd.plotly.v1+json": {
       "config": {
        "plotlyServerURL": "https://plot.ly"
       },
       "data": [
        {
         "hoverinfo": "text",
         "legendgroup": "Transformers",
         "line": {
          "color": "rgb(141.12903225806448,255.0,105.64516129032258)",
          "width": 7
         },
         "mode": "lines",
         "name": "Transformers",
         "showlegend": true,
         "text": "Transfo T1<br>Loading: 52.0 %",
         "type": "scatter",
         "x": [
          0.04411484319830219,
          -0.18465400447251362,
          -0.4134228521433294
         ],
         "y": [
          0.2929668050525229,
          0.5963570023987358,
          0.8997471997449487
         ]
        },
        {
         "hoverinfo": "text",
         "legendgroup": "Transformers",
         "marker": {
          "color": "rgb(141.12903225806448,255.0,105.64516129032258)",
          "size": 1,
          "symbol": "circle"
         },
         "mode": "markers",
         "name": "edge_center",
         "showlegend": false,
         "text": [
          "Transfo T1<br>Loading: 52.0 %"
         ],
         "type": "scatter",
         "x": [
          -0.18465400447251362
         ],
         "y": [
          0.5963570023987358
         ]
        },
        {
         "hoverinfo": "text",
         "legendgroup": "lines",
         "line": {
          "color": "rgb(0.0,0.0,168.4090909090909)",
          "width": 3
         },
         "mode": "lines",
         "name": "lines",
         "showlegend": true,
         "text": "line_a<br>Loading: 3.9 %",
         "type": "scatter",
         "x": [
          0.864732143824462,
          0.8037953996404956,
          0.7428586554565294
         ],
         "y": [
          -0.7953249239893944,
          -0.4149081565426613,
          -0.03449138909592816
         ]
        },
        {
         "hoverinfo": "text",
         "legendgroup": "lines",
         "line": {
          "color": "rgb(0.0,0.0,255.0)",
          "width": 3
         },
         "mode": "lines",
         "name": "lines",
         "showlegend": false,
         "text": "line_b<br>Loading: 11.8 %",
         "type": "scatter",
         "x": [
          0.7428586554565294,
          0.4548102095195367,
          0.16676176358254402
         ],
         "y": [
          -0.03449138909592816,
          -0.251691917085301,
          -0.4688924450746738
         ]
        },
        {
         "hoverinfo": "text",
         "legendgroup": "lines",
         "line": {
          "color": "rgb(0.0,0.0,241.13636363636363)",
          "width": 3
         },
         "mode": "lines",
         "name": "lines",
         "showlegend": false,
         "text": "line_c<br>Loading: 10.0 %",
         "type": "scatter",
         "x": [
          0.864732143824462,
          0.515746953703503,
          0.16676176358254402
         ],
         "y": [
          -0.7953249239893944,
          -0.6321086845320341,
          -0.4688924450746738
         ]
        },
        {
         "hoverinfo": "text",
         "legendgroup": "lines",
         "line": {
          "color": "rgb(0.0,0.5,255.0)",
          "width": 3
         },
         "mode": "lines",
         "name": "lines",
         "showlegend": false,
         "text": "line_d<br>Loading: 12.9 %",
         "type": "scatter",
         "x": [
          0.16676176358254402,
          0.10543830339042311,
          0.04411484319830219
         ],
         "y": [
          -0.4688924450746738,
          -0.08796282001107544,
          0.2929668050525229
         ]
        },
        {
         "hoverinfo": "text",
         "legendgroup": "lines",
         "line": {
          "color": "rgb(0.0,0.0,172.95454545454544)",
          "width": 3
         },
         "mode": "lines",
         "name": "lines",
         "showlegend": false,
         "text": "line_e<br>Loading: 4.0 %",
         "type": "scatter",
         "x": [
          0.7428586554565294,
          0.3934867493274158,
          0.04411484319830219
         ],
         "y": [
          -0.03449138909592816,
          0.1292377079782974,
          0.2929668050525229
         ]
        },
        {
         "marker": {
          "cmax": 100,
          "cmin": 0,
          "color": "rgb(255,255,255)",
          "colorbar": {
           "thickness": 10,
           "title": {
            "side": "right",
            "text": "Equipment loading [%]"
           },
           "x": 1.15
          },
          "colorscale": [
           [
            0,
            "rgb(0,0,131)"
           ],
           [
            0.2,
            "rgb(0,60,170)"
           ],
           [
            0.4,
            "rgb(5,255,255)"
           ],
           [
            0.6,
            "rgb(255,255,0)"
           ],
           [
            0.8,
            "rgb(250,0,0)"
           ],
           [
            1,
            "rgb(128,0,0)"
           ]
          ],
          "opacity": 0,
          "size": 0
         },
         "mode": "markers",
         "type": "scatter",
         "x": [
          0.864732143824462
         ],
         "y": [
          -0.7953249239893944
         ]
        },
        {
         "hoverinfo": "text",
         "legendgroup": "lines",
         "marker": {
          "color": "rgb(128, 128, 128)",
          "size": 1,
          "symbol": "circle"
         },
         "mode": "markers",
         "name": "edge_center",
         "showlegend": false,
         "text": [
          "line_a<br>Loading: 3.9 %",
          "line_b<br>Loading: 11.8 %",
          "line_c<br>Loading: 10.0 %",
          "line_d<br>Loading: 12.9 %",
          "line_e<br>Loading: 4.0 %"
         ],
         "type": "scatter",
         "x": [
          0.8037953996404956
         ],
         "y": [
          -0.4149081565426613
         ]
        },
        {
         "hoverinfo": "text",
         "marker": {
          "color": "rgb(191, 191, 0)",
          "size": 30,
          "symbol": "square"
         },
         "mode": "markers",
         "name": "Ext grid",
         "text": [
          "Gen 1"
         ],
         "type": "scatter",
         "x": [
          0.864732143824462
         ],
         "y": [
          -0.7953249239893944
         ]
        },
        {
         "hoverinfo": "text",
         "marker": {
          "cmax": 1.15,
          "cmin": 0.85,
          "color": [
           1,
           1.05,
           0.8474739963518307,
           0.9868708051675082,
           1
          ],
          "colorbar": {
           "thickness": 10,
           "title": {
            "side": "right",
            "text": "Bus voltage [pu]"
           },
           "x": 1
          },
          "colorscale": [
           [
            0,
            "rgb(0,0,131)"
           ],
           [
            0.2,
            "rgb(0,60,170)"
           ],
           [
            0.4,
            "rgb(5,255,255)"
           ],
           [
            0.6,
            "rgb(255,255,0)"
           ],
           [
            0.8,
            "rgb(250,0,0)"
           ],
           [
            1,
            "rgb(128,0,0)"
           ]
          ],
          "size": 20,
          "symbol": "circle"
         },
         "mode": "markers",
         "name": "buses",
         "text": [
          "bus_1<br>V: 1.0 pu",
          "bus_2<br>V: 1.05 pu",
          "bus_3<br>V: 0.847 pu",
          "bus_4<br>V: 0.987 pu",
          "bus_5<br>V: 1.0 pu"
         ],
         "type": "scatter",
         "x": [
          0.864732143824462,
          0.7428586554565294,
          0.16676176358254402,
          0.04411484319830219,
          -0.4134228521433294
         ],
         "y": [
          -0.7953249239893944,
          -0.03449138909592816,
          -0.4688924450746738,
          0.2929668050525229,
          0.8997471997449487
         ]
        }
       ],
       "layout": {
        "font": {
         "size": 15
        },
        "height": 400,
        "hovermode": "closest",
        "legend": {
         "font": {
          "size": 12
         },
         "itemsizing": "constant"
        },
        "margin": {
         "b": 5,
         "l": 5,
         "r": 5,
         "t": 30
        },
        "paper_bgcolor": "white",
        "plot_bgcolor": "white",
        "showlegend": false,
        "template": {
         "data": {
          "bar": [
           {
            "error_x": {
             "color": "#2a3f5f"
            },
            "error_y": {
             "color": "#2a3f5f"
            },
            "marker": {
             "line": {
              "color": "#E5ECF6",
              "width": 0.5
             },
             "pattern": {
              "fillmode": "overlay",
              "size": 10,
              "solidity": 0.2
             }
            },
            "type": "bar"
           }
          ],
          "barpolar": [
           {
            "marker": {
             "line": {
              "color": "#E5ECF6",
              "width": 0.5
             },
             "pattern": {
              "fillmode": "overlay",
              "size": 10,
              "solidity": 0.2
             }
            },
            "type": "barpolar"
           }
          ],
          "carpet": [
           {
            "aaxis": {
             "endlinecolor": "#2a3f5f",
             "gridcolor": "white",
             "linecolor": "white",
             "minorgridcolor": "white",
             "startlinecolor": "#2a3f5f"
            },
            "baxis": {
             "endlinecolor": "#2a3f5f",
             "gridcolor": "white",
             "linecolor": "white",
             "minorgridcolor": "white",
             "startlinecolor": "#2a3f5f"
            },
            "type": "carpet"
           }
          ],
          "choropleth": [
           {
            "colorbar": {
             "outlinewidth": 0,
             "ticks": ""
            },
            "type": "choropleth"
           }
          ],
          "contour": [
           {
            "colorbar": {
             "outlinewidth": 0,
             "ticks": ""
            },
            "colorscale": [
             [
              0,
              "#0d0887"
             ],
             [
              0.1111111111111111,
              "#46039f"
             ],
             [
              0.2222222222222222,
              "#7201a8"
             ],
             [
              0.3333333333333333,
              "#9c179e"
             ],
             [
              0.4444444444444444,
              "#bd3786"
             ],
             [
              0.5555555555555556,
              "#d8576b"
             ],
             [
              0.6666666666666666,
              "#ed7953"
             ],
             [
              0.7777777777777778,
              "#fb9f3a"
             ],
             [
              0.8888888888888888,
              "#fdca26"
             ],
             [
              1,
              "#f0f921"
             ]
            ],
            "type": "contour"
           }
          ],
          "contourcarpet": [
           {
            "colorbar": {
             "outlinewidth": 0,
             "ticks": ""
            },
            "type": "contourcarpet"
           }
          ],
          "heatmap": [
           {
            "colorbar": {
             "outlinewidth": 0,
             "ticks": ""
            },
            "colorscale": [
             [
              0,
              "#0d0887"
             ],
             [
              0.1111111111111111,
              "#46039f"
             ],
             [
              0.2222222222222222,
              "#7201a8"
             ],
             [
              0.3333333333333333,
              "#9c179e"
             ],
             [
              0.4444444444444444,
              "#bd3786"
             ],
             [
              0.5555555555555556,
              "#d8576b"
             ],
             [
              0.6666666666666666,
              "#ed7953"
             ],
             [
              0.7777777777777778,
              "#fb9f3a"
             ],
             [
              0.8888888888888888,
              "#fdca26"
             ],
             [
              1,
              "#f0f921"
             ]
            ],
            "type": "heatmap"
           }
          ],
          "heatmapgl": [
           {
            "colorbar": {
             "outlinewidth": 0,
             "ticks": ""
            },
            "colorscale": [
             [
              0,
              "#0d0887"
             ],
             [
              0.1111111111111111,
              "#46039f"
             ],
             [
              0.2222222222222222,
              "#7201a8"
             ],
             [
              0.3333333333333333,
              "#9c179e"
             ],
             [
              0.4444444444444444,
              "#bd3786"
             ],
             [
              0.5555555555555556,
              "#d8576b"
             ],
             [
              0.6666666666666666,
              "#ed7953"
             ],
             [
              0.7777777777777778,
              "#fb9f3a"
             ],
             [
              0.8888888888888888,
              "#fdca26"
             ],
             [
              1,
              "#f0f921"
             ]
            ],
            "type": "heatmapgl"
           }
          ],
          "histogram": [
           {
            "marker": {
             "pattern": {
              "fillmode": "overlay",
              "size": 10,
              "solidity": 0.2
             }
            },
            "type": "histogram"
           }
          ],
          "histogram2d": [
           {
            "colorbar": {
             "outlinewidth": 0,
             "ticks": ""
            },
            "colorscale": [
             [
              0,
              "#0d0887"
             ],
             [
              0.1111111111111111,
              "#46039f"
             ],
             [
              0.2222222222222222,
              "#7201a8"
             ],
             [
              0.3333333333333333,
              "#9c179e"
             ],
             [
              0.4444444444444444,
              "#bd3786"
             ],
             [
              0.5555555555555556,
              "#d8576b"
             ],
             [
              0.6666666666666666,
              "#ed7953"
             ],
             [
              0.7777777777777778,
              "#fb9f3a"
             ],
             [
              0.8888888888888888,
              "#fdca26"
             ],
             [
              1,
              "#f0f921"
             ]
            ],
            "type": "histogram2d"
           }
          ],
          "histogram2dcontour": [
           {
            "colorbar": {
             "outlinewidth": 0,
             "ticks": ""
            },
            "colorscale": [
             [
              0,
              "#0d0887"
             ],
             [
              0.1111111111111111,
              "#46039f"
             ],
             [
              0.2222222222222222,
              "#7201a8"
             ],
             [
              0.3333333333333333,
              "#9c179e"
             ],
             [
              0.4444444444444444,
              "#bd3786"
             ],
             [
              0.5555555555555556,
              "#d8576b"
             ],
             [
              0.6666666666666666,
              "#ed7953"
             ],
             [
              0.7777777777777778,
              "#fb9f3a"
             ],
             [
              0.8888888888888888,
              "#fdca26"
             ],
             [
              1,
              "#f0f921"
             ]
            ],
            "type": "histogram2dcontour"
           }
          ],
          "mesh3d": [
           {
            "colorbar": {
             "outlinewidth": 0,
             "ticks": ""
            },
            "type": "mesh3d"
           }
          ],
          "parcoords": [
           {
            "line": {
             "colorbar": {
              "outlinewidth": 0,
              "ticks": ""
             }
            },
            "type": "parcoords"
           }
          ],
          "pie": [
           {
            "automargin": true,
            "type": "pie"
           }
          ],
          "scatter": [
           {
            "fillpattern": {
             "fillmode": "overlay",
             "size": 10,
             "solidity": 0.2
            },
            "type": "scatter"
           }
          ],
          "scatter3d": [
           {
            "line": {
             "colorbar": {
              "outlinewidth": 0,
              "ticks": ""
             }
            },
            "marker": {
             "colorbar": {
              "outlinewidth": 0,
              "ticks": ""
             }
            },
            "type": "scatter3d"
           }
          ],
          "scattercarpet": [
           {
            "marker": {
             "colorbar": {
              "outlinewidth": 0,
              "ticks": ""
             }
            },
            "type": "scattercarpet"
           }
          ],
          "scattergeo": [
           {
            "marker": {
             "colorbar": {
              "outlinewidth": 0,
              "ticks": ""
             }
            },
            "type": "scattergeo"
           }
          ],
          "scattergl": [
           {
            "marker": {
             "colorbar": {
              "outlinewidth": 0,
              "ticks": ""
             }
            },
            "type": "scattergl"
           }
          ],
          "scattermapbox": [
           {
            "marker": {
             "colorbar": {
              "outlinewidth": 0,
              "ticks": ""
             }
            },
            "type": "scattermapbox"
           }
          ],
          "scatterpolar": [
           {
            "marker": {
             "colorbar": {
              "outlinewidth": 0,
              "ticks": ""
             }
            },
            "type": "scatterpolar"
           }
          ],
          "scatterpolargl": [
           {
            "marker": {
             "colorbar": {
              "outlinewidth": 0,
              "ticks": ""
             }
            },
            "type": "scatterpolargl"
           }
          ],
          "scatterternary": [
           {
            "marker": {
             "colorbar": {
              "outlinewidth": 0,
              "ticks": ""
             }
            },
            "type": "scatterternary"
           }
          ],
          "surface": [
           {
            "colorbar": {
             "outlinewidth": 0,
             "ticks": ""
            },
            "colorscale": [
             [
              0,
              "#0d0887"
             ],
             [
              0.1111111111111111,
              "#46039f"
             ],
             [
              0.2222222222222222,
              "#7201a8"
             ],
             [
              0.3333333333333333,
              "#9c179e"
             ],
             [
              0.4444444444444444,
              "#bd3786"
             ],
             [
              0.5555555555555556,
              "#d8576b"
             ],
             [
              0.6666666666666666,
              "#ed7953"
             ],
             [
              0.7777777777777778,
              "#fb9f3a"
             ],
             [
              0.8888888888888888,
              "#fdca26"
             ],
             [
              1,
              "#f0f921"
             ]
            ],
            "type": "surface"
           }
          ],
          "table": [
           {
            "cells": {
             "fill": {
              "color": "#EBF0F8"
             },
             "line": {
              "color": "white"
             }
            },
            "header": {
             "fill": {
              "color": "#C8D4E3"
             },
             "line": {
              "color": "white"
             }
            },
            "type": "table"
           }
          ]
         },
         "layout": {
          "annotationdefaults": {
           "arrowcolor": "#2a3f5f",
           "arrowhead": 0,
           "arrowwidth": 1
          },
          "autotypenumbers": "strict",
          "coloraxis": {
           "colorbar": {
            "outlinewidth": 0,
            "ticks": ""
           }
          },
          "colorscale": {
           "diverging": [
            [
             0,
             "#8e0152"
            ],
            [
             0.1,
             "#c51b7d"
            ],
            [
             0.2,
             "#de77ae"
            ],
            [
             0.3,
             "#f1b6da"
            ],
            [
             0.4,
             "#fde0ef"
            ],
            [
             0.5,
             "#f7f7f7"
            ],
            [
             0.6,
             "#e6f5d0"
            ],
            [
             0.7,
             "#b8e186"
            ],
            [
             0.8,
             "#7fbc41"
            ],
            [
             0.9,
             "#4d9221"
            ],
            [
             1,
             "#276419"
            ]
           ],
           "sequential": [
            [
             0,
             "#0d0887"
            ],
            [
             0.1111111111111111,
             "#46039f"
            ],
            [
             0.2222222222222222,
             "#7201a8"
            ],
            [
             0.3333333333333333,
             "#9c179e"
            ],
            [
             0.4444444444444444,
             "#bd3786"
            ],
            [
             0.5555555555555556,
             "#d8576b"
            ],
            [
             0.6666666666666666,
             "#ed7953"
            ],
            [
             0.7777777777777778,
             "#fb9f3a"
            ],
            [
             0.8888888888888888,
             "#fdca26"
            ],
            [
             1,
             "#f0f921"
            ]
           ],
           "sequentialminus": [
            [
             0,
             "#0d0887"
            ],
            [
             0.1111111111111111,
             "#46039f"
            ],
            [
             0.2222222222222222,
             "#7201a8"
            ],
            [
             0.3333333333333333,
             "#9c179e"
            ],
            [
             0.4444444444444444,
             "#bd3786"
            ],
            [
             0.5555555555555556,
             "#d8576b"
            ],
            [
             0.6666666666666666,
             "#ed7953"
            ],
            [
             0.7777777777777778,
             "#fb9f3a"
            ],
            [
             0.8888888888888888,
             "#fdca26"
            ],
            [
             1,
             "#f0f921"
            ]
           ]
          },
          "colorway": [
           "#636efa",
           "#EF553B",
           "#00cc96",
           "#ab63fa",
           "#FFA15A",
           "#19d3f3",
           "#FF6692",
           "#B6E880",
           "#FF97FF",
           "#FECB52"
          ],
          "font": {
           "color": "#2a3f5f"
          },
          "geo": {
           "bgcolor": "white",
           "lakecolor": "white",
           "landcolor": "#E5ECF6",
           "showlakes": true,
           "showland": true,
           "subunitcolor": "white"
          },
          "hoverlabel": {
           "align": "left"
          },
          "hovermode": "closest",
          "mapbox": {
           "style": "light"
          },
          "paper_bgcolor": "white",
          "plot_bgcolor": "#E5ECF6",
          "polar": {
           "angularaxis": {
            "gridcolor": "white",
            "linecolor": "white",
            "ticks": ""
           },
           "bgcolor": "#E5ECF6",
           "radialaxis": {
            "gridcolor": "white",
            "linecolor": "white",
            "ticks": ""
           }
          },
          "scene": {
           "xaxis": {
            "backgroundcolor": "#E5ECF6",
            "gridcolor": "white",
            "gridwidth": 2,
            "linecolor": "white",
            "showbackground": true,
            "ticks": "",
            "zerolinecolor": "white"
           },
           "yaxis": {
            "backgroundcolor": "#E5ECF6",
            "gridcolor": "white",
            "gridwidth": 2,
            "linecolor": "white",
            "showbackground": true,
            "ticks": "",
            "zerolinecolor": "white"
           },
           "zaxis": {
            "backgroundcolor": "#E5ECF6",
            "gridcolor": "white",
            "gridwidth": 2,
            "linecolor": "white",
            "showbackground": true,
            "ticks": "",
            "zerolinecolor": "white"
           }
          },
          "shapedefaults": {
           "line": {
            "color": "#2a3f5f"
           }
          },
          "ternary": {
           "aaxis": {
            "gridcolor": "white",
            "linecolor": "white",
            "ticks": ""
           },
           "baxis": {
            "gridcolor": "white",
            "linecolor": "white",
            "ticks": ""
           },
           "bgcolor": "#E5ECF6",
           "caxis": {
            "gridcolor": "white",
            "linecolor": "white",
            "ticks": ""
           }
          },
          "title": {
           "x": 0.05
          },
          "xaxis": {
           "automargin": true,
           "gridcolor": "white",
           "linecolor": "white",
           "ticks": "",
           "title": {
            "standoff": 15
           },
           "zerolinecolor": "white",
           "zerolinewidth": 2
          },
          "yaxis": {
           "automargin": true,
           "gridcolor": "white",
           "linecolor": "white",
           "ticks": "",
           "title": {
            "standoff": 15
           },
           "zerolinecolor": "white",
           "zerolinewidth": 2
          }
         }
        },
        "title": {
         "text": "<b>Powerflow results at 20h00<b>",
         "x": 0.5,
         "xanchor": "center",
         "y": 0.97,
         "yanchor": "top"
        },
        "width": 770,
        "xaxis": {
         "showgrid": false,
         "showticklabels": false,
         "tickfont": {
          "family": "Arial Black",
          "size": 12
         },
         "title": {
          "font": {
           "size": 12
          }
         },
         "zeroline": false
        },
        "yaxis": {
         "showgrid": false,
         "showticklabels": false,
         "tickfont": {
          "family": "Arial Black",
          "size": 12
         },
         "title": {
          "font": {
           "size": 12
          }
         },
         "zeroline": false
        }
       }
      },
      "text/html": [
       "<div>                            <div id=\"406748e1-10f2-4f1f-b23c-6f5a73cd5659\" class=\"plotly-graph-div\" style=\"height:400px; width:770px;\"></div>            <script type=\"text/javascript\">                require([\"plotly\"], function(Plotly) {                    window.PLOTLYENV=window.PLOTLYENV || {};                                    if (document.getElementById(\"406748e1-10f2-4f1f-b23c-6f5a73cd5659\")) {                    Plotly.newPlot(                        \"406748e1-10f2-4f1f-b23c-6f5a73cd5659\",                        [{\"hoverinfo\":\"text\",\"legendgroup\":\"Transformers\",\"line\":{\"color\":\"rgb(141.12903225806448,255.0,105.64516129032258)\",\"width\":7},\"mode\":\"lines\",\"name\":\"Transformers\",\"showlegend\":true,\"text\":\"Transfo T1\\u003cbr\\u003eLoading: 52.0 %\",\"x\":[0.04411484319830219,-0.18465400447251362,-0.4134228521433294],\"y\":[0.2929668050525229,0.5963570023987358,0.8997471997449487],\"type\":\"scatter\"},{\"hoverinfo\":\"text\",\"legendgroup\":\"Transformers\",\"marker\":{\"color\":\"rgb(141.12903225806448,255.0,105.64516129032258)\",\"size\":1,\"symbol\":\"circle\"},\"mode\":\"markers\",\"name\":\"edge_center\",\"showlegend\":false,\"text\":[\"Transfo T1\\u003cbr\\u003eLoading: 52.0 %\"],\"x\":[-0.18465400447251362],\"y\":[0.5963570023987358],\"type\":\"scatter\"},{\"hoverinfo\":\"text\",\"legendgroup\":\"lines\",\"line\":{\"color\":\"rgb(0.0,0.0,168.4090909090909)\",\"width\":3},\"mode\":\"lines\",\"name\":\"lines\",\"showlegend\":true,\"text\":\"line_a\\u003cbr\\u003eLoading: 3.9 %\",\"x\":[0.864732143824462,0.8037953996404956,0.7428586554565294],\"y\":[-0.7953249239893944,-0.4149081565426613,-0.03449138909592816],\"type\":\"scatter\"},{\"hoverinfo\":\"text\",\"legendgroup\":\"lines\",\"line\":{\"color\":\"rgb(0.0,0.0,255.0)\",\"width\":3},\"mode\":\"lines\",\"name\":\"lines\",\"showlegend\":false,\"text\":\"line_b\\u003cbr\\u003eLoading: 11.8 %\",\"x\":[0.7428586554565294,0.4548102095195367,0.16676176358254402],\"y\":[-0.03449138909592816,-0.251691917085301,-0.4688924450746738],\"type\":\"scatter\"},{\"hoverinfo\":\"text\",\"legendgroup\":\"lines\",\"line\":{\"color\":\"rgb(0.0,0.0,241.13636363636363)\",\"width\":3},\"mode\":\"lines\",\"name\":\"lines\",\"showlegend\":false,\"text\":\"line_c\\u003cbr\\u003eLoading: 10.0 %\",\"x\":[0.864732143824462,0.515746953703503,0.16676176358254402],\"y\":[-0.7953249239893944,-0.6321086845320341,-0.4688924450746738],\"type\":\"scatter\"},{\"hoverinfo\":\"text\",\"legendgroup\":\"lines\",\"line\":{\"color\":\"rgb(0.0,0.5,255.0)\",\"width\":3},\"mode\":\"lines\",\"name\":\"lines\",\"showlegend\":false,\"text\":\"line_d\\u003cbr\\u003eLoading: 12.9 %\",\"x\":[0.16676176358254402,0.10543830339042311,0.04411484319830219],\"y\":[-0.4688924450746738,-0.08796282001107544,0.2929668050525229],\"type\":\"scatter\"},{\"hoverinfo\":\"text\",\"legendgroup\":\"lines\",\"line\":{\"color\":\"rgb(0.0,0.0,172.95454545454544)\",\"width\":3},\"mode\":\"lines\",\"name\":\"lines\",\"showlegend\":false,\"text\":\"line_e\\u003cbr\\u003eLoading: 4.0 %\",\"x\":[0.7428586554565294,0.3934867493274158,0.04411484319830219],\"y\":[-0.03449138909592816,0.1292377079782974,0.2929668050525229],\"type\":\"scatter\"},{\"marker\":{\"cmax\":100,\"cmin\":0,\"color\":\"rgb(255,255,255)\",\"colorbar\":{\"thickness\":10,\"title\":{\"side\":\"right\",\"text\":\"Equipment loading [%]\"},\"x\":1.15},\"colorscale\":[[0.0,\"rgb(0,0,131)\"],[0.2,\"rgb(0,60,170)\"],[0.4,\"rgb(5,255,255)\"],[0.6,\"rgb(255,255,0)\"],[0.8,\"rgb(250,0,0)\"],[1.0,\"rgb(128,0,0)\"]],\"opacity\":0,\"size\":0},\"mode\":\"markers\",\"x\":[0.864732143824462],\"y\":[-0.7953249239893944],\"type\":\"scatter\"},{\"hoverinfo\":\"text\",\"legendgroup\":\"lines\",\"marker\":{\"color\":\"rgb(128, 128, 128)\",\"size\":1,\"symbol\":\"circle\"},\"mode\":\"markers\",\"name\":\"edge_center\",\"showlegend\":false,\"text\":[\"line_a\\u003cbr\\u003eLoading: 3.9 %\",\"line_b\\u003cbr\\u003eLoading: 11.8 %\",\"line_c\\u003cbr\\u003eLoading: 10.0 %\",\"line_d\\u003cbr\\u003eLoading: 12.9 %\",\"line_e\\u003cbr\\u003eLoading: 4.0 %\"],\"x\":[0.8037953996404956],\"y\":[-0.4149081565426613],\"type\":\"scatter\"},{\"hoverinfo\":\"text\",\"marker\":{\"color\":\"rgb(191, 191, 0)\",\"size\":30,\"symbol\":\"square\"},\"mode\":\"markers\",\"name\":\"Ext grid\",\"text\":[\"Gen 1\"],\"x\":[0.864732143824462],\"y\":[-0.7953249239893944],\"type\":\"scatter\"},{\"hoverinfo\":\"text\",\"marker\":{\"cmax\":1.15,\"cmin\":0.85,\"color\":[1.0,1.05,0.8474739963518307,0.9868708051675082,1.0],\"colorbar\":{\"thickness\":10,\"title\":{\"side\":\"right\",\"text\":\"Bus voltage [pu]\"},\"x\":1.0},\"colorscale\":[[0.0,\"rgb(0,0,131)\"],[0.2,\"rgb(0,60,170)\"],[0.4,\"rgb(5,255,255)\"],[0.6,\"rgb(255,255,0)\"],[0.8,\"rgb(250,0,0)\"],[1.0,\"rgb(128,0,0)\"]],\"size\":20,\"symbol\":\"circle\"},\"mode\":\"markers\",\"name\":\"buses\",\"text\":[\"bus_1\\u003cbr\\u003eV: 1.0 pu\",\"bus_2\\u003cbr\\u003eV: 1.05 pu\",\"bus_3\\u003cbr\\u003eV: 0.847 pu\",\"bus_4\\u003cbr\\u003eV: 0.987 pu\",\"bus_5\\u003cbr\\u003eV: 1.0 pu\"],\"x\":[0.864732143824462,0.7428586554565294,0.16676176358254402,0.04411484319830219,-0.4134228521433294],\"y\":[-0.7953249239893944,-0.03449138909592816,-0.4688924450746738,0.2929668050525229,0.8997471997449487],\"type\":\"scatter\"}],                        {\"hovermode\":\"closest\",\"legend\":{\"itemsizing\":\"constant\",\"font\":{\"size\":12}},\"margin\":{\"b\":5,\"l\":5,\"r\":5,\"t\":30},\"showlegend\":false,\"xaxis\":{\"showgrid\":false,\"showticklabels\":false,\"zeroline\":false,\"tickfont\":{\"size\":12,\"family\":\"Arial Black\"},\"title\":{\"font\":{\"size\":12}}},\"yaxis\":{\"showgrid\":false,\"showticklabels\":false,\"zeroline\":false,\"tickfont\":{\"size\":12,\"family\":\"Arial Black\"},\"title\":{\"font\":{\"size\":12}}},\"template\":{\"data\":{\"histogram2dcontour\":[{\"type\":\"histogram2dcontour\",\"colorbar\":{\"outlinewidth\":0,\"ticks\":\"\"},\"colorscale\":[[0.0,\"#0d0887\"],[0.1111111111111111,\"#46039f\"],[0.2222222222222222,\"#7201a8\"],[0.3333333333333333,\"#9c179e\"],[0.4444444444444444,\"#bd3786\"],[0.5555555555555556,\"#d8576b\"],[0.6666666666666666,\"#ed7953\"],[0.7777777777777778,\"#fb9f3a\"],[0.8888888888888888,\"#fdca26\"],[1.0,\"#f0f921\"]]}],\"choropleth\":[{\"type\":\"choropleth\",\"colorbar\":{\"outlinewidth\":0,\"ticks\":\"\"}}],\"histogram2d\":[{\"type\":\"histogram2d\",\"colorbar\":{\"outlinewidth\":0,\"ticks\":\"\"},\"colorscale\":[[0.0,\"#0d0887\"],[0.1111111111111111,\"#46039f\"],[0.2222222222222222,\"#7201a8\"],[0.3333333333333333,\"#9c179e\"],[0.4444444444444444,\"#bd3786\"],[0.5555555555555556,\"#d8576b\"],[0.6666666666666666,\"#ed7953\"],[0.7777777777777778,\"#fb9f3a\"],[0.8888888888888888,\"#fdca26\"],[1.0,\"#f0f921\"]]}],\"heatmap\":[{\"type\":\"heatmap\",\"colorbar\":{\"outlinewidth\":0,\"ticks\":\"\"},\"colorscale\":[[0.0,\"#0d0887\"],[0.1111111111111111,\"#46039f\"],[0.2222222222222222,\"#7201a8\"],[0.3333333333333333,\"#9c179e\"],[0.4444444444444444,\"#bd3786\"],[0.5555555555555556,\"#d8576b\"],[0.6666666666666666,\"#ed7953\"],[0.7777777777777778,\"#fb9f3a\"],[0.8888888888888888,\"#fdca26\"],[1.0,\"#f0f921\"]]}],\"heatmapgl\":[{\"type\":\"heatmapgl\",\"colorbar\":{\"outlinewidth\":0,\"ticks\":\"\"},\"colorscale\":[[0.0,\"#0d0887\"],[0.1111111111111111,\"#46039f\"],[0.2222222222222222,\"#7201a8\"],[0.3333333333333333,\"#9c179e\"],[0.4444444444444444,\"#bd3786\"],[0.5555555555555556,\"#d8576b\"],[0.6666666666666666,\"#ed7953\"],[0.7777777777777778,\"#fb9f3a\"],[0.8888888888888888,\"#fdca26\"],[1.0,\"#f0f921\"]]}],\"contourcarpet\":[{\"type\":\"contourcarpet\",\"colorbar\":{\"outlinewidth\":0,\"ticks\":\"\"}}],\"contour\":[{\"type\":\"contour\",\"colorbar\":{\"outlinewidth\":0,\"ticks\":\"\"},\"colorscale\":[[0.0,\"#0d0887\"],[0.1111111111111111,\"#46039f\"],[0.2222222222222222,\"#7201a8\"],[0.3333333333333333,\"#9c179e\"],[0.4444444444444444,\"#bd3786\"],[0.5555555555555556,\"#d8576b\"],[0.6666666666666666,\"#ed7953\"],[0.7777777777777778,\"#fb9f3a\"],[0.8888888888888888,\"#fdca26\"],[1.0,\"#f0f921\"]]}],\"surface\":[{\"type\":\"surface\",\"colorbar\":{\"outlinewidth\":0,\"ticks\":\"\"},\"colorscale\":[[0.0,\"#0d0887\"],[0.1111111111111111,\"#46039f\"],[0.2222222222222222,\"#7201a8\"],[0.3333333333333333,\"#9c179e\"],[0.4444444444444444,\"#bd3786\"],[0.5555555555555556,\"#d8576b\"],[0.6666666666666666,\"#ed7953\"],[0.7777777777777778,\"#fb9f3a\"],[0.8888888888888888,\"#fdca26\"],[1.0,\"#f0f921\"]]}],\"mesh3d\":[{\"type\":\"mesh3d\",\"colorbar\":{\"outlinewidth\":0,\"ticks\":\"\"}}],\"scatter\":[{\"fillpattern\":{\"fillmode\":\"overlay\",\"size\":10,\"solidity\":0.2},\"type\":\"scatter\"}],\"parcoords\":[{\"type\":\"parcoords\",\"line\":{\"colorbar\":{\"outlinewidth\":0,\"ticks\":\"\"}}}],\"scatterpolargl\":[{\"type\":\"scatterpolargl\",\"marker\":{\"colorbar\":{\"outlinewidth\":0,\"ticks\":\"\"}}}],\"bar\":[{\"error_x\":{\"color\":\"#2a3f5f\"},\"error_y\":{\"color\":\"#2a3f5f\"},\"marker\":{\"line\":{\"color\":\"#E5ECF6\",\"width\":0.5},\"pattern\":{\"fillmode\":\"overlay\",\"size\":10,\"solidity\":0.2}},\"type\":\"bar\"}],\"scattergeo\":[{\"type\":\"scattergeo\",\"marker\":{\"colorbar\":{\"outlinewidth\":0,\"ticks\":\"\"}}}],\"scatterpolar\":[{\"type\":\"scatterpolar\",\"marker\":{\"colorbar\":{\"outlinewidth\":0,\"ticks\":\"\"}}}],\"histogram\":[{\"marker\":{\"pattern\":{\"fillmode\":\"overlay\",\"size\":10,\"solidity\":0.2}},\"type\":\"histogram\"}],\"scattergl\":[{\"type\":\"scattergl\",\"marker\":{\"colorbar\":{\"outlinewidth\":0,\"ticks\":\"\"}}}],\"scatter3d\":[{\"type\":\"scatter3d\",\"line\":{\"colorbar\":{\"outlinewidth\":0,\"ticks\":\"\"}},\"marker\":{\"colorbar\":{\"outlinewidth\":0,\"ticks\":\"\"}}}],\"scattermapbox\":[{\"type\":\"scattermapbox\",\"marker\":{\"colorbar\":{\"outlinewidth\":0,\"ticks\":\"\"}}}],\"scatterternary\":[{\"type\":\"scatterternary\",\"marker\":{\"colorbar\":{\"outlinewidth\":0,\"ticks\":\"\"}}}],\"scattercarpet\":[{\"type\":\"scattercarpet\",\"marker\":{\"colorbar\":{\"outlinewidth\":0,\"ticks\":\"\"}}}],\"carpet\":[{\"aaxis\":{\"endlinecolor\":\"#2a3f5f\",\"gridcolor\":\"white\",\"linecolor\":\"white\",\"minorgridcolor\":\"white\",\"startlinecolor\":\"#2a3f5f\"},\"baxis\":{\"endlinecolor\":\"#2a3f5f\",\"gridcolor\":\"white\",\"linecolor\":\"white\",\"minorgridcolor\":\"white\",\"startlinecolor\":\"#2a3f5f\"},\"type\":\"carpet\"}],\"table\":[{\"cells\":{\"fill\":{\"color\":\"#EBF0F8\"},\"line\":{\"color\":\"white\"}},\"header\":{\"fill\":{\"color\":\"#C8D4E3\"},\"line\":{\"color\":\"white\"}},\"type\":\"table\"}],\"barpolar\":[{\"marker\":{\"line\":{\"color\":\"#E5ECF6\",\"width\":0.5},\"pattern\":{\"fillmode\":\"overlay\",\"size\":10,\"solidity\":0.2}},\"type\":\"barpolar\"}],\"pie\":[{\"automargin\":true,\"type\":\"pie\"}]},\"layout\":{\"autotypenumbers\":\"strict\",\"colorway\":[\"#636efa\",\"#EF553B\",\"#00cc96\",\"#ab63fa\",\"#FFA15A\",\"#19d3f3\",\"#FF6692\",\"#B6E880\",\"#FF97FF\",\"#FECB52\"],\"font\":{\"color\":\"#2a3f5f\"},\"hovermode\":\"closest\",\"hoverlabel\":{\"align\":\"left\"},\"paper_bgcolor\":\"white\",\"plot_bgcolor\":\"#E5ECF6\",\"polar\":{\"bgcolor\":\"#E5ECF6\",\"angularaxis\":{\"gridcolor\":\"white\",\"linecolor\":\"white\",\"ticks\":\"\"},\"radialaxis\":{\"gridcolor\":\"white\",\"linecolor\":\"white\",\"ticks\":\"\"}},\"ternary\":{\"bgcolor\":\"#E5ECF6\",\"aaxis\":{\"gridcolor\":\"white\",\"linecolor\":\"white\",\"ticks\":\"\"},\"baxis\":{\"gridcolor\":\"white\",\"linecolor\":\"white\",\"ticks\":\"\"},\"caxis\":{\"gridcolor\":\"white\",\"linecolor\":\"white\",\"ticks\":\"\"}},\"coloraxis\":{\"colorbar\":{\"outlinewidth\":0,\"ticks\":\"\"}},\"colorscale\":{\"sequential\":[[0.0,\"#0d0887\"],[0.1111111111111111,\"#46039f\"],[0.2222222222222222,\"#7201a8\"],[0.3333333333333333,\"#9c179e\"],[0.4444444444444444,\"#bd3786\"],[0.5555555555555556,\"#d8576b\"],[0.6666666666666666,\"#ed7953\"],[0.7777777777777778,\"#fb9f3a\"],[0.8888888888888888,\"#fdca26\"],[1.0,\"#f0f921\"]],\"sequentialminus\":[[0.0,\"#0d0887\"],[0.1111111111111111,\"#46039f\"],[0.2222222222222222,\"#7201a8\"],[0.3333333333333333,\"#9c179e\"],[0.4444444444444444,\"#bd3786\"],[0.5555555555555556,\"#d8576b\"],[0.6666666666666666,\"#ed7953\"],[0.7777777777777778,\"#fb9f3a\"],[0.8888888888888888,\"#fdca26\"],[1.0,\"#f0f921\"]],\"diverging\":[[0,\"#8e0152\"],[0.1,\"#c51b7d\"],[0.2,\"#de77ae\"],[0.3,\"#f1b6da\"],[0.4,\"#fde0ef\"],[0.5,\"#f7f7f7\"],[0.6,\"#e6f5d0\"],[0.7,\"#b8e186\"],[0.8,\"#7fbc41\"],[0.9,\"#4d9221\"],[1,\"#276419\"]]},\"xaxis\":{\"gridcolor\":\"white\",\"linecolor\":\"white\",\"ticks\":\"\",\"title\":{\"standoff\":15},\"zerolinecolor\":\"white\",\"automargin\":true,\"zerolinewidth\":2},\"yaxis\":{\"gridcolor\":\"white\",\"linecolor\":\"white\",\"ticks\":\"\",\"title\":{\"standoff\":15},\"zerolinecolor\":\"white\",\"automargin\":true,\"zerolinewidth\":2},\"scene\":{\"xaxis\":{\"backgroundcolor\":\"#E5ECF6\",\"gridcolor\":\"white\",\"linecolor\":\"white\",\"showbackground\":true,\"ticks\":\"\",\"zerolinecolor\":\"white\",\"gridwidth\":2},\"yaxis\":{\"backgroundcolor\":\"#E5ECF6\",\"gridcolor\":\"white\",\"linecolor\":\"white\",\"showbackground\":true,\"ticks\":\"\",\"zerolinecolor\":\"white\",\"gridwidth\":2},\"zaxis\":{\"backgroundcolor\":\"#E5ECF6\",\"gridcolor\":\"white\",\"linecolor\":\"white\",\"showbackground\":true,\"ticks\":\"\",\"zerolinecolor\":\"white\",\"gridwidth\":2}},\"shapedefaults\":{\"line\":{\"color\":\"#2a3f5f\"}},\"annotationdefaults\":{\"arrowcolor\":\"#2a3f5f\",\"arrowhead\":0,\"arrowwidth\":1},\"geo\":{\"bgcolor\":\"white\",\"landcolor\":\"#E5ECF6\",\"subunitcolor\":\"white\",\"showland\":true,\"showlakes\":true,\"lakecolor\":\"white\"},\"title\":{\"x\":0.05},\"mapbox\":{\"style\":\"light\"}}},\"font\":{\"size\":15},\"paper_bgcolor\":\"white\",\"plot_bgcolor\":\"white\",\"width\":770,\"height\":400,\"title\":{\"text\":\"\\u003cb\\u003ePowerflow results at 20h00\\u003cb\\u003e\",\"y\":0.97,\"x\":0.5,\"xanchor\":\"center\",\"yanchor\":\"top\"}},                        {\"responsive\": true}                    ).then(function(){\n",
       "                            \n",
       "var gd = document.getElementById('406748e1-10f2-4f1f-b23c-6f5a73cd5659');\n",
       "var x = new MutationObserver(function (mutations, observer) {{\n",
       "        var display = window.getComputedStyle(gd).display;\n",
       "        if (!display || display === 'none') {{\n",
       "            console.log([gd, 'removed!']);\n",
       "            Plotly.purge(gd);\n",
       "            observer.disconnect();\n",
       "        }}\n",
       "}});\n",
       "\n",
       "// Listen for the removal of the full notebook cells\n",
       "var notebookContainer = gd.closest('#notebook-container');\n",
       "if (notebookContainer) {{\n",
       "    x.observe(notebookContainer, {childList: true});\n",
       "}}\n",
       "\n",
       "// Listen for the clearing of the current output cell\n",
       "var outputEl = gd.closest('.output');\n",
       "if (outputEl) {{\n",
       "    x.observe(outputEl, {childList: true});\n",
       "}}\n",
       "\n",
       "                        })                };                });            </script>        </div>"
      ]
     },
     "metadata": {},
     "output_type": "display_data"
    },
    {
     "name": "stdout",
     "output_type": "stream",
     "text": [
      "\n"
     ]
    }
   ],
   "source": [
    "for plot_time in [time(hour=12), time(hour=20)]:\n",
    "\n",
    "    pp_plot.plot_timestamps_powerflow_result(\n",
    "        net=net_ExPF1_Pb1_heig,\n",
    "        filename=\"sim_result_\" + pp_plot._time_to_str(plot_time),\n",
    "        plot_time=plot_time,\n",
    "    )\n",
    "    print()"
   ]
  },
  {
   "cell_type": "markdown",
   "metadata": {},
   "source": [
    "# From pickle"
   ]
  },
  {
   "cell_type": "code",
   "execution_count": 673,
   "metadata": {},
   "outputs": [
    {
     "name": "stdout",
     "output_type": "stream",
     "text": [
      "The network net_simplified :  \n"
     ]
    },
    {
     "data": {
      "text/plain": [
       "This pandapower network includes the following parameter tables:\n",
       "   - bus (5 elements)\n",
       "   - load (2 elements)\n",
       "   - gen (2 elements)\n",
       "   - ext_grid (1 element)\n",
       "   - line (5 elements)\n",
       "   - trafo (1 element)\n",
       "   - controller (2 elements)\n",
       "   - time_index (96 elements)\n",
       "   - output_writer (1 element)"
      ]
     },
     "execution_count": 673,
     "metadata": {},
     "output_type": "execute_result"
    }
   ],
   "source": [
    "## Create a simplified version of the network for labo Trey\n",
    "# Create a deep copy of the complete network, because just a shallow copy continue to modify the original network\n",
    "net_simplified = net_ExPF1_Pb1_heig.deepcopy()\n",
    "# Remove result tables\n",
    "pp.toolbox.clear_result_tables(net_simplified)\n",
    "\n",
    "# Remove output writer, time index and controller\n",
    "# net_simplified.output_writer = None\n",
    "# net_simplified.time_index = None\n",
    "# net_simplified.controller = None\n",
    "\n",
    "# Clean bus\n",
    "# Remove vn_kv\n",
    "net_simplified.bus.drop(columns=[\"vn_kv\"], inplace=True)\n",
    "\n",
    "# Clean line\n",
    "net_simplified.line.drop(\n",
    "    columns=[\n",
    "        \"length_km\",\n",
    "        \"r_ohm_per_km\",\n",
    "        \"x_ohm_per_km\",\n",
    "        \"c_nf_per_km\",\n",
    "        \"max_i_ka\",\n",
    "        \"parallel\",\n",
    "        \"type\",\n",
    "        \"r0_ohm_per_km\",\n",
    "        \"x0_ohm_per_km\",\n",
    "        \"c0_nf_per_km\",\n",
    "    ],\n",
    "    inplace=True,\n",
    ")\n",
    "\n",
    "# Clean ext_grid\n",
    "net_simplified.ext_grid.drop(\n",
    "    columns=[\"vm_pu\", \"min_q_mvar\", \"max_q_mvar\"], inplace=True\n",
    ")\n",
    "\n",
    "# Clean gen\n",
    "net_simplified.gen.drop(\n",
    "    columns=[\"p_mw\", \"vm_pu\", \"min_q_mvar\", \"max_q_mvar\"], inplace=True\n",
    ")\n",
    "\n",
    "# Clean load\n",
    "net_simplified.load.drop(\n",
    "    columns=[\"p_mw\", \"q_mvar\", \"scaling\", \"profile_mapping\"], inplace=True\n",
    ")\n",
    "print(\"The network net_simplified : \", net_simplified.name)\n",
    "net_simplified"
   ]
  },
  {
   "cell_type": "code",
   "execution_count": 674,
   "metadata": {},
   "outputs": [],
   "source": [
    "# Save simplified network to a pickle file\n",
    "pp.to_pickle(net_simplified, \"data/net_simplified.p\")"
   ]
  },
  {
   "cell_type": "markdown",
   "metadata": {},
   "source": [
    "## Import from pickle"
   ]
  },
  {
   "cell_type": "code",
   "execution_count": 675,
   "metadata": {},
   "outputs": [],
   "source": [
    "net_ExPF1_Pb1_pickle = pp.from_pickle(\"data/net_simplified.p\")"
   ]
  },
  {
   "cell_type": "code",
   "execution_count": 676,
   "metadata": {},
   "outputs": [
    {
     "data": {
      "text/html": [
       "<div>\n",
       "<style scoped>\n",
       "    .dataframe tbody tr th:only-of-type {\n",
       "        vertical-align: middle;\n",
       "    }\n",
       "\n",
       "    .dataframe tbody tr th {\n",
       "        vertical-align: top;\n",
       "    }\n",
       "\n",
       "    .dataframe thead th {\n",
       "        text-align: right;\n",
       "    }\n",
       "</style>\n",
       "<table border=\"1\" class=\"dataframe\">\n",
       "  <thead>\n",
       "    <tr style=\"text-align: right;\">\n",
       "      <th></th>\n",
       "      <th>name</th>\n",
       "      <th>vn_kv</th>\n",
       "      <th>type</th>\n",
       "      <th>zone</th>\n",
       "      <th>in_service</th>\n",
       "    </tr>\n",
       "  </thead>\n",
       "  <tbody>\n",
       "    <tr>\n",
       "      <th>0</th>\n",
       "      <td>Bus 1</td>\n",
       "      <td>400.0</td>\n",
       "      <td>b</td>\n",
       "      <td>None</td>\n",
       "      <td>True</td>\n",
       "    </tr>\n",
       "    <tr>\n",
       "      <th>1</th>\n",
       "      <td>Bus 2</td>\n",
       "      <td>400.0</td>\n",
       "      <td>b</td>\n",
       "      <td>None</td>\n",
       "      <td>True</td>\n",
       "    </tr>\n",
       "    <tr>\n",
       "      <th>2</th>\n",
       "      <td>Bus 3</td>\n",
       "      <td>400.0</td>\n",
       "      <td>b</td>\n",
       "      <td>None</td>\n",
       "      <td>True</td>\n",
       "    </tr>\n",
       "    <tr>\n",
       "      <th>3</th>\n",
       "      <td>Bus 4</td>\n",
       "      <td>400.0</td>\n",
       "      <td>b</td>\n",
       "      <td>None</td>\n",
       "      <td>True</td>\n",
       "    </tr>\n",
       "    <tr>\n",
       "      <th>4</th>\n",
       "      <td>Bus 5</td>\n",
       "      <td>20.0</td>\n",
       "      <td>b</td>\n",
       "      <td>None</td>\n",
       "      <td>True</td>\n",
       "    </tr>\n",
       "  </tbody>\n",
       "</table>\n",
       "</div>"
      ],
      "text/plain": [
       "    name  vn_kv type  zone  in_service\n",
       "0  Bus 1  400.0    b  None        True\n",
       "1  Bus 2  400.0    b  None        True\n",
       "2  Bus 3  400.0    b  None        True\n",
       "3  Bus 4  400.0    b  None        True\n",
       "4  Bus 5   20.0    b  None        True"
      ]
     },
     "execution_count": 676,
     "metadata": {},
     "output_type": "execute_result"
    }
   ],
   "source": [
    "net_ExPF1_Pb1.bus"
   ]
  },
  {
   "cell_type": "markdown",
   "metadata": {},
   "source": [
    "### Manual way"
   ]
  },
  {
   "cell_type": "code",
   "execution_count": null,
   "metadata": {},
   "outputs": [
    {
     "data": {
      "text/html": [
       "<div>\n",
       "<style scoped>\n",
       "    .dataframe tbody tr th:only-of-type {\n",
       "        vertical-align: middle;\n",
       "    }\n",
       "\n",
       "    .dataframe tbody tr th {\n",
       "        vertical-align: top;\n",
       "    }\n",
       "\n",
       "    .dataframe thead th {\n",
       "        text-align: right;\n",
       "    }\n",
       "</style>\n",
       "<table border=\"1\" class=\"dataframe\">\n",
       "  <thead>\n",
       "    <tr style=\"text-align: right;\">\n",
       "      <th></th>\n",
       "      <th>vn_kv</th>\n",
       "      <th>name</th>\n",
       "      <th>type</th>\n",
       "      <th>zone</th>\n",
       "      <th>in_service</th>\n",
       "    </tr>\n",
       "  </thead>\n",
       "  <tbody>\n",
       "    <tr>\n",
       "      <th>0</th>\n",
       "      <td>400</td>\n",
       "      <td>bus_1</td>\n",
       "      <td>b</td>\n",
       "      <td>HV</td>\n",
       "      <td>True</td>\n",
       "    </tr>\n",
       "    <tr>\n",
       "      <th>1</th>\n",
       "      <td>400</td>\n",
       "      <td>bus_2</td>\n",
       "      <td>b</td>\n",
       "      <td>HV</td>\n",
       "      <td>True</td>\n",
       "    </tr>\n",
       "    <tr>\n",
       "      <th>2</th>\n",
       "      <td>400</td>\n",
       "      <td>bus_3</td>\n",
       "      <td>b</td>\n",
       "      <td>HV</td>\n",
       "      <td>True</td>\n",
       "    </tr>\n",
       "    <tr>\n",
       "      <th>3</th>\n",
       "      <td>400</td>\n",
       "      <td>bus_4</td>\n",
       "      <td>b</td>\n",
       "      <td>HV</td>\n",
       "      <td>True</td>\n",
       "    </tr>\n",
       "    <tr>\n",
       "      <th>4</th>\n",
       "      <td>20</td>\n",
       "      <td>bus_5</td>\n",
       "      <td>b</td>\n",
       "      <td>LV</td>\n",
       "      <td>True</td>\n",
       "    </tr>\n",
       "  </tbody>\n",
       "</table>\n",
       "</div>"
      ],
      "text/plain": [
       "   vn_kv   name type zone  in_service\n",
       "0    400  bus_1    b   HV        True\n",
       "1    400  bus_2    b   HV        True\n",
       "2    400  bus_3    b   HV        True\n",
       "3    400  bus_4    b   HV        True\n",
       "4     20  bus_5    b   LV        True"
      ]
     },
     "execution_count": 677,
     "metadata": {},
     "output_type": "execute_result"
    }
   ],
   "source": [
    "net_ExPF1_Pb1_pickle_manuel = "
   ]
  },
  {
   "cell_type": "markdown",
   "metadata": {},
   "source": [
    "### Automatic way"
   ]
  },
  {
   "cell_type": "code",
   "execution_count": null,
   "metadata": {},
   "outputs": [
    {
     "data": {
      "text/html": [
       "<div>\n",
       "<style scoped>\n",
       "    .dataframe tbody tr th:only-of-type {\n",
       "        vertical-align: middle;\n",
       "    }\n",
       "\n",
       "    .dataframe tbody tr th {\n",
       "        vertical-align: top;\n",
       "    }\n",
       "\n",
       "    .dataframe thead th {\n",
       "        text-align: right;\n",
       "    }\n",
       "</style>\n",
       "<table border=\"1\" class=\"dataframe\">\n",
       "  <thead>\n",
       "    <tr style=\"text-align: right;\">\n",
       "      <th></th>\n",
       "      <th>name</th>\n",
       "      <th>type</th>\n",
       "      <th>zone</th>\n",
       "      <th>in_service</th>\n",
       "      <th>vn_kv</th>\n",
       "    </tr>\n",
       "  </thead>\n",
       "  <tbody>\n",
       "    <tr>\n",
       "      <th>0</th>\n",
       "      <td>bus_1</td>\n",
       "      <td>b</td>\n",
       "      <td>HV</td>\n",
       "      <td>True</td>\n",
       "      <td>400.0</td>\n",
       "    </tr>\n",
       "    <tr>\n",
       "      <th>1</th>\n",
       "      <td>bus_2</td>\n",
       "      <td>b</td>\n",
       "      <td>HV</td>\n",
       "      <td>True</td>\n",
       "      <td>400.0</td>\n",
       "    </tr>\n",
       "    <tr>\n",
       "      <th>2</th>\n",
       "      <td>bus_3</td>\n",
       "      <td>b</td>\n",
       "      <td>HV</td>\n",
       "      <td>True</td>\n",
       "      <td>400.0</td>\n",
       "    </tr>\n",
       "    <tr>\n",
       "      <th>3</th>\n",
       "      <td>bus_4</td>\n",
       "      <td>b</td>\n",
       "      <td>HV</td>\n",
       "      <td>True</td>\n",
       "      <td>400.0</td>\n",
       "    </tr>\n",
       "    <tr>\n",
       "      <th>4</th>\n",
       "      <td>bus_5</td>\n",
       "      <td>b</td>\n",
       "      <td>LV</td>\n",
       "      <td>True</td>\n",
       "      <td>20.0</td>\n",
       "    </tr>\n",
       "  </tbody>\n",
       "</table>\n",
       "</div>"
      ],
      "text/plain": [
       "    name type zone  in_service  vn_kv\n",
       "0  bus_1    b   HV        True  400.0\n",
       "1  bus_2    b   HV        True  400.0\n",
       "2  bus_3    b   HV        True  400.0\n",
       "3  bus_4    b   HV        True  400.0\n",
       "4  bus_5    b   LV        True   20.0"
      ]
     },
     "execution_count": 678,
     "metadata": {},
     "output_type": "execute_result"
    }
   ],
   "source": [
    "\n",
    "net_ExPF1_Pb1_pickle.bus"
   ]
  },
  {
   "cell_type": "code",
   "execution_count": null,
   "metadata": {},
   "outputs": [
    {
     "data": {
      "text/html": [
       "<div>\n",
       "<style scoped>\n",
       "    .dataframe tbody tr th:only-of-type {\n",
       "        vertical-align: middle;\n",
       "    }\n",
       "\n",
       "    .dataframe tbody tr th {\n",
       "        vertical-align: top;\n",
       "    }\n",
       "\n",
       "    .dataframe thead th {\n",
       "        text-align: right;\n",
       "    }\n",
       "</style>\n",
       "<table border=\"1\" class=\"dataframe\">\n",
       "  <thead>\n",
       "    <tr style=\"text-align: right;\">\n",
       "      <th></th>\n",
       "      <th>name</th>\n",
       "      <th>type</th>\n",
       "      <th>zone</th>\n",
       "      <th>in_service</th>\n",
       "      <th>vn_kv</th>\n",
       "    </tr>\n",
       "  </thead>\n",
       "  <tbody>\n",
       "    <tr>\n",
       "      <th>0</th>\n",
       "      <td>bus_1</td>\n",
       "      <td>b</td>\n",
       "      <td>HV</td>\n",
       "      <td>True</td>\n",
       "      <td>400</td>\n",
       "    </tr>\n",
       "    <tr>\n",
       "      <th>1</th>\n",
       "      <td>bus_2</td>\n",
       "      <td>b</td>\n",
       "      <td>HV</td>\n",
       "      <td>True</td>\n",
       "      <td>400</td>\n",
       "    </tr>\n",
       "    <tr>\n",
       "      <th>2</th>\n",
       "      <td>bus_3</td>\n",
       "      <td>b</td>\n",
       "      <td>HV</td>\n",
       "      <td>True</td>\n",
       "      <td>400</td>\n",
       "    </tr>\n",
       "    <tr>\n",
       "      <th>3</th>\n",
       "      <td>bus_4</td>\n",
       "      <td>b</td>\n",
       "      <td>HV</td>\n",
       "      <td>True</td>\n",
       "      <td>400</td>\n",
       "    </tr>\n",
       "    <tr>\n",
       "      <th>4</th>\n",
       "      <td>bus_5</td>\n",
       "      <td>b</td>\n",
       "      <td>LV</td>\n",
       "      <td>True</td>\n",
       "      <td>20</td>\n",
       "    </tr>\n",
       "  </tbody>\n",
       "</table>\n",
       "</div>"
      ],
      "text/plain": [
       "    name type zone  in_service  vn_kv\n",
       "0  bus_1    b   HV        True    400\n",
       "1  bus_2    b   HV        True    400\n",
       "2  bus_3    b   HV        True    400\n",
       "3  bus_4    b   HV        True    400\n",
       "4  bus_5    b   LV        True     20"
      ]
     },
     "execution_count": 679,
     "metadata": {},
     "output_type": "execute_result"
    }
   ],
   "source": [
    "\n",
    "net_ExPF1_Pb1_pickle.bus"
   ]
  },
  {
   "cell_type": "markdown",
   "metadata": {},
   "source": [
    "## Populate all"
   ]
  },
  {
   "cell_type": "code",
   "execution_count": 680,
   "metadata": {},
   "outputs": [
    {
     "data": {
      "text/html": [
       "<div>\n",
       "<style scoped>\n",
       "    .dataframe tbody tr th:only-of-type {\n",
       "        vertical-align: middle;\n",
       "    }\n",
       "\n",
       "    .dataframe tbody tr th {\n",
       "        vertical-align: top;\n",
       "    }\n",
       "\n",
       "    .dataframe thead th {\n",
       "        text-align: right;\n",
       "    }\n",
       "</style>\n",
       "<table border=\"1\" class=\"dataframe\">\n",
       "  <thead>\n",
       "    <tr style=\"text-align: right;\">\n",
       "      <th></th>\n",
       "      <th>name</th>\n",
       "      <th>std_type</th>\n",
       "      <th>from_bus</th>\n",
       "      <th>to_bus</th>\n",
       "      <th>length_km</th>\n",
       "      <th>r_ohm_per_km</th>\n",
       "      <th>x_ohm_per_km</th>\n",
       "      <th>c_nf_per_km</th>\n",
       "      <th>g_us_per_km</th>\n",
       "      <th>max_i_ka</th>\n",
       "      <th>df</th>\n",
       "      <th>parallel</th>\n",
       "      <th>type</th>\n",
       "      <th>in_service</th>\n",
       "    </tr>\n",
       "  </thead>\n",
       "  <tbody>\n",
       "    <tr>\n",
       "      <th>0</th>\n",
       "      <td>Line A</td>\n",
       "      <td>None</td>\n",
       "      <td>0</td>\n",
       "      <td>1</td>\n",
       "      <td>1.0</td>\n",
       "      <td>32.0</td>\n",
       "      <td>320.0</td>\n",
       "      <td>1.554247</td>\n",
       "      <td>0.0</td>\n",
       "      <td>1.0</td>\n",
       "      <td>1.0</td>\n",
       "      <td>1</td>\n",
       "      <td>None</td>\n",
       "      <td>True</td>\n",
       "    </tr>\n",
       "    <tr>\n",
       "      <th>1</th>\n",
       "      <td>Line B</td>\n",
       "      <td>None</td>\n",
       "      <td>1</td>\n",
       "      <td>2</td>\n",
       "      <td>1.0</td>\n",
       "      <td>32.0</td>\n",
       "      <td>640.0</td>\n",
       "      <td>1.554247</td>\n",
       "      <td>0.0</td>\n",
       "      <td>1.0</td>\n",
       "      <td>1.0</td>\n",
       "      <td>1</td>\n",
       "      <td>None</td>\n",
       "      <td>True</td>\n",
       "    </tr>\n",
       "    <tr>\n",
       "      <th>2</th>\n",
       "      <td>Line C</td>\n",
       "      <td>None</td>\n",
       "      <td>0</td>\n",
       "      <td>2</td>\n",
       "      <td>1.0</td>\n",
       "      <td>32.0</td>\n",
       "      <td>640.0</td>\n",
       "      <td>3.108495</td>\n",
       "      <td>0.0</td>\n",
       "      <td>1.0</td>\n",
       "      <td>1.0</td>\n",
       "      <td>1</td>\n",
       "      <td>None</td>\n",
       "      <td>True</td>\n",
       "    </tr>\n",
       "    <tr>\n",
       "      <th>3</th>\n",
       "      <td>Line D</td>\n",
       "      <td>None</td>\n",
       "      <td>2</td>\n",
       "      <td>3</td>\n",
       "      <td>1.0</td>\n",
       "      <td>64.0</td>\n",
       "      <td>640.0</td>\n",
       "      <td>3.108495</td>\n",
       "      <td>0.0</td>\n",
       "      <td>1.0</td>\n",
       "      <td>1.0</td>\n",
       "      <td>1</td>\n",
       "      <td>None</td>\n",
       "      <td>True</td>\n",
       "    </tr>\n",
       "    <tr>\n",
       "      <th>4</th>\n",
       "      <td>Line E</td>\n",
       "      <td>None</td>\n",
       "      <td>1</td>\n",
       "      <td>3</td>\n",
       "      <td>1.0</td>\n",
       "      <td>64.0</td>\n",
       "      <td>640.0</td>\n",
       "      <td>3.108495</td>\n",
       "      <td>0.0</td>\n",
       "      <td>1.0</td>\n",
       "      <td>1.0</td>\n",
       "      <td>1</td>\n",
       "      <td>None</td>\n",
       "      <td>True</td>\n",
       "    </tr>\n",
       "  </tbody>\n",
       "</table>\n",
       "</div>"
      ],
      "text/plain": [
       "     name std_type  from_bus  to_bus  length_km  r_ohm_per_km  x_ohm_per_km  \\\n",
       "0  Line A     None         0       1        1.0          32.0         320.0   \n",
       "1  Line B     None         1       2        1.0          32.0         640.0   \n",
       "2  Line C     None         0       2        1.0          32.0         640.0   \n",
       "3  Line D     None         2       3        1.0          64.0         640.0   \n",
       "4  Line E     None         1       3        1.0          64.0         640.0   \n",
       "\n",
       "   c_nf_per_km  g_us_per_km  max_i_ka   df  parallel  type  in_service  \n",
       "0     1.554247          0.0       1.0  1.0         1  None        True  \n",
       "1     1.554247          0.0       1.0  1.0         1  None        True  \n",
       "2     3.108495          0.0       1.0  1.0         1  None        True  \n",
       "3     3.108495          0.0       1.0  1.0         1  None        True  \n",
       "4     3.108495          0.0       1.0  1.0         1  None        True  "
      ]
     },
     "execution_count": 680,
     "metadata": {},
     "output_type": "execute_result"
    }
   ],
   "source": [
    "net_ExPF1_Pb1.line"
   ]
  },
  {
   "cell_type": "markdown",
   "metadata": {},
   "source": [
    "### Line"
   ]
  },
  {
   "cell_type": "code",
   "execution_count": null,
   "metadata": {},
   "outputs": [
    {
     "data": {
      "text/html": [
       "<div>\n",
       "<style scoped>\n",
       "    .dataframe tbody tr th:only-of-type {\n",
       "        vertical-align: middle;\n",
       "    }\n",
       "\n",
       "    .dataframe tbody tr th {\n",
       "        vertical-align: top;\n",
       "    }\n",
       "\n",
       "    .dataframe thead th {\n",
       "        text-align: right;\n",
       "    }\n",
       "</style>\n",
       "<table border=\"1\" class=\"dataframe\">\n",
       "  <thead>\n",
       "    <tr style=\"text-align: right;\">\n",
       "      <th></th>\n",
       "      <th>name</th>\n",
       "      <th>from_bus</th>\n",
       "      <th>to_bus</th>\n",
       "      <th>g_us_per_km</th>\n",
       "      <th>df</th>\n",
       "      <th>std_type</th>\n",
       "      <th>in_service</th>\n",
       "      <th>r_ohm_per_km</th>\n",
       "      <th>x_ohm_per_km</th>\n",
       "      <th>c_nf_per_km</th>\n",
       "      <th>length_km</th>\n",
       "      <th>max_i_ka</th>\n",
       "      <th>parallel</th>\n",
       "    </tr>\n",
       "  </thead>\n",
       "  <tbody>\n",
       "    <tr>\n",
       "      <th>0</th>\n",
       "      <td>line_a</td>\n",
       "      <td>0</td>\n",
       "      <td>1</td>\n",
       "      <td>0.0</td>\n",
       "      <td>1.0</td>\n",
       "      <td>None</td>\n",
       "      <td>True</td>\n",
       "      <td>32.0</td>\n",
       "      <td>320.0</td>\n",
       "      <td>1.554247</td>\n",
       "      <td>1</td>\n",
       "      <td>1</td>\n",
       "      <td>1</td>\n",
       "    </tr>\n",
       "    <tr>\n",
       "      <th>1</th>\n",
       "      <td>line_b</td>\n",
       "      <td>1</td>\n",
       "      <td>2</td>\n",
       "      <td>0.0</td>\n",
       "      <td>1.0</td>\n",
       "      <td>None</td>\n",
       "      <td>True</td>\n",
       "      <td>32.0</td>\n",
       "      <td>640.0</td>\n",
       "      <td>1.554247</td>\n",
       "      <td>1</td>\n",
       "      <td>1</td>\n",
       "      <td>1</td>\n",
       "    </tr>\n",
       "    <tr>\n",
       "      <th>2</th>\n",
       "      <td>line_c</td>\n",
       "      <td>0</td>\n",
       "      <td>2</td>\n",
       "      <td>0.0</td>\n",
       "      <td>1.0</td>\n",
       "      <td>None</td>\n",
       "      <td>True</td>\n",
       "      <td>32.0</td>\n",
       "      <td>640.0</td>\n",
       "      <td>3.108495</td>\n",
       "      <td>1</td>\n",
       "      <td>1</td>\n",
       "      <td>1</td>\n",
       "    </tr>\n",
       "    <tr>\n",
       "      <th>3</th>\n",
       "      <td>line_d</td>\n",
       "      <td>2</td>\n",
       "      <td>3</td>\n",
       "      <td>0.0</td>\n",
       "      <td>1.0</td>\n",
       "      <td>None</td>\n",
       "      <td>True</td>\n",
       "      <td>64.0</td>\n",
       "      <td>640.0</td>\n",
       "      <td>3.108495</td>\n",
       "      <td>1</td>\n",
       "      <td>1</td>\n",
       "      <td>1</td>\n",
       "    </tr>\n",
       "    <tr>\n",
       "      <th>4</th>\n",
       "      <td>line_e</td>\n",
       "      <td>1</td>\n",
       "      <td>3</td>\n",
       "      <td>0.0</td>\n",
       "      <td>1.0</td>\n",
       "      <td>None</td>\n",
       "      <td>True</td>\n",
       "      <td>64.0</td>\n",
       "      <td>640.0</td>\n",
       "      <td>3.108495</td>\n",
       "      <td>1</td>\n",
       "      <td>1</td>\n",
       "      <td>1</td>\n",
       "    </tr>\n",
       "  </tbody>\n",
       "</table>\n",
       "</div>"
      ],
      "text/plain": [
       "     name  from_bus  to_bus  g_us_per_km   df std_type  in_service  \\\n",
       "0  line_a         0       1          0.0  1.0     None        True   \n",
       "1  line_b         1       2          0.0  1.0     None        True   \n",
       "2  line_c         0       2          0.0  1.0     None        True   \n",
       "3  line_d         2       3          0.0  1.0     None        True   \n",
       "4  line_e         1       3          0.0  1.0     None        True   \n",
       "\n",
       "   r_ohm_per_km  x_ohm_per_km  c_nf_per_km  length_km  max_i_ka  parallel  \n",
       "0          32.0         320.0     1.554247          1         1         1  \n",
       "1          32.0         640.0     1.554247          1         1         1  \n",
       "2          32.0         640.0     3.108495          1         1         1  \n",
       "3          64.0         640.0     3.108495          1         1         1  \n",
       "4          64.0         640.0     3.108495          1         1         1  "
      ]
     },
     "execution_count": 681,
     "metadata": {},
     "output_type": "execute_result"
    }
   ],
   "source": [
    "\n",
    "df_line_parameters = pd.DataFrame(line_parameter)\n",
    "\n",
    "\n",
    "# join the two dataframe on the name column\n",
    "net_ExPF1_Pb1_pickle.line = net_ExPF1_Pb1_pickle.line.merge(\n",
    "    df_line_parameters, on=\"name\", how=\"left\"\n",
    ")\n",
    "# Add constant values for all lines\n",
    "length_km = 1\n",
    "max_i_ka = 1\n",
    "parallel = 1\n",
    "\n",
    "net_ExPF1_Pb1_pickle.line"
   ]
  },
  {
   "cell_type": "code",
   "execution_count": null,
   "metadata": {},
   "outputs": [
    {
     "data": {
      "text/html": [
       "<div>\n",
       "<style scoped>\n",
       "    .dataframe tbody tr th:only-of-type {\n",
       "        vertical-align: middle;\n",
       "    }\n",
       "\n",
       "    .dataframe tbody tr th {\n",
       "        vertical-align: top;\n",
       "    }\n",
       "\n",
       "    .dataframe thead th {\n",
       "        text-align: right;\n",
       "    }\n",
       "</style>\n",
       "<table border=\"1\" class=\"dataframe\">\n",
       "  <thead>\n",
       "    <tr style=\"text-align: right;\">\n",
       "      <th></th>\n",
       "      <th>name</th>\n",
       "      <th>type</th>\n",
       "      <th>zone</th>\n",
       "      <th>in_service</th>\n",
       "      <th>vn_kv</th>\n",
       "    </tr>\n",
       "  </thead>\n",
       "  <tbody>\n",
       "    <tr>\n",
       "      <th>0</th>\n",
       "      <td>bus_1</td>\n",
       "      <td>b</td>\n",
       "      <td>HV</td>\n",
       "      <td>True</td>\n",
       "      <td>400</td>\n",
       "    </tr>\n",
       "    <tr>\n",
       "      <th>1</th>\n",
       "      <td>bus_2</td>\n",
       "      <td>b</td>\n",
       "      <td>HV</td>\n",
       "      <td>True</td>\n",
       "      <td>400</td>\n",
       "    </tr>\n",
       "    <tr>\n",
       "      <th>2</th>\n",
       "      <td>bus_3</td>\n",
       "      <td>b</td>\n",
       "      <td>HV</td>\n",
       "      <td>True</td>\n",
       "      <td>400</td>\n",
       "    </tr>\n",
       "    <tr>\n",
       "      <th>3</th>\n",
       "      <td>bus_4</td>\n",
       "      <td>b</td>\n",
       "      <td>HV</td>\n",
       "      <td>True</td>\n",
       "      <td>400</td>\n",
       "    </tr>\n",
       "    <tr>\n",
       "      <th>4</th>\n",
       "      <td>bus_5</td>\n",
       "      <td>b</td>\n",
       "      <td>LV</td>\n",
       "      <td>True</td>\n",
       "      <td>20</td>\n",
       "    </tr>\n",
       "  </tbody>\n",
       "</table>\n",
       "</div>"
      ],
      "text/plain": [
       "    name type zone  in_service  vn_kv\n",
       "0  bus_1    b   HV        True    400\n",
       "1  bus_2    b   HV        True    400\n",
       "2  bus_3    b   HV        True    400\n",
       "3  bus_4    b   HV        True    400\n",
       "4  bus_5    b   LV        True     20"
      ]
     },
     "execution_count": 682,
     "metadata": {},
     "output_type": "execute_result"
    }
   ],
   "source": [
    "net_ExPF1_Pb1_pickle.bus[\"vn_kv\"] = \n",
    "net_ExPF1_Pb1_pickle.bus"
   ]
  },
  {
   "cell_type": "markdown",
   "metadata": {},
   "source": [
    "## Load"
   ]
  },
  {
   "cell_type": "code",
   "execution_count": 683,
   "metadata": {},
   "outputs": [
    {
     "data": {
      "text/html": [
       "<div>\n",
       "<style scoped>\n",
       "    .dataframe tbody tr th:only-of-type {\n",
       "        vertical-align: middle;\n",
       "    }\n",
       "\n",
       "    .dataframe tbody tr th {\n",
       "        vertical-align: top;\n",
       "    }\n",
       "\n",
       "    .dataframe thead th {\n",
       "        text-align: right;\n",
       "    }\n",
       "</style>\n",
       "<table border=\"1\" class=\"dataframe\">\n",
       "  <thead>\n",
       "    <tr style=\"text-align: right;\">\n",
       "      <th></th>\n",
       "      <th>name</th>\n",
       "      <th>bus</th>\n",
       "      <th>p_mw</th>\n",
       "      <th>q_mvar</th>\n",
       "      <th>scaling</th>\n",
       "      <th>profile_mapping</th>\n",
       "      <th>const_z_percent</th>\n",
       "      <th>const_i_percent</th>\n",
       "      <th>sn_mva</th>\n",
       "      <th>in_service</th>\n",
       "      <th>type</th>\n",
       "    </tr>\n",
       "  </thead>\n",
       "  <tbody>\n",
       "    <tr>\n",
       "      <th>0</th>\n",
       "      <td>load_2</td>\n",
       "      <td>1</td>\n",
       "      <td>39.629590</td>\n",
       "      <td>13.025616</td>\n",
       "      <td>1.0</td>\n",
       "      <td>1</td>\n",
       "      <td>0.0</td>\n",
       "      <td>0.0</td>\n",
       "      <td>None</td>\n",
       "      <td>True</td>\n",
       "      <td>wye</td>\n",
       "    </tr>\n",
       "    <tr>\n",
       "      <th>1</th>\n",
       "      <td>load_3</td>\n",
       "      <td>2</td>\n",
       "      <td>79.259255</td>\n",
       "      <td>26.051257</td>\n",
       "      <td>1.0</td>\n",
       "      <td>2</td>\n",
       "      <td>0.0</td>\n",
       "      <td>0.0</td>\n",
       "      <td>None</td>\n",
       "      <td>True</td>\n",
       "      <td>wye</td>\n",
       "    </tr>\n",
       "  </tbody>\n",
       "</table>\n",
       "</div>"
      ],
      "text/plain": [
       "     name  bus       p_mw     q_mvar  scaling  profile_mapping  \\\n",
       "0  load_2    1  39.629590  13.025616      1.0                1   \n",
       "1  load_3    2  79.259255  26.051257      1.0                2   \n",
       "\n",
       "   const_z_percent  const_i_percent sn_mva  in_service type  \n",
       "0              0.0              0.0   None        True  wye  \n",
       "1              0.0              0.0   None        True  wye  "
      ]
     },
     "execution_count": 683,
     "metadata": {},
     "output_type": "execute_result"
    }
   ],
   "source": [
    "net_ExPF1_Pb1_heig.load"
   ]
  },
  {
   "cell_type": "code",
   "execution_count": null,
   "metadata": {},
   "outputs": [],
   "source": [
    "\"p_mw\": [100, 200],\n",
    "\"q_mvar\": [20, 80],\n",
    "\"scaling\": [1, 1],\n",
    "\"profile_mapping\": [1, 2],\n",
    "\n",
    "net_ExPF1_Pb1_pickle.load ="
   ]
  },
  {
   "cell_type": "markdown",
   "metadata": {},
   "source": [
    "## Gen"
   ]
  },
  {
   "cell_type": "code",
   "execution_count": null,
   "metadata": {},
   "outputs": [],
   "source": [
    "\n",
    "\"p_mw\": [100, 200],\n",
    "\"vm_pu\": [20, 80],\n",
    "\"min_q_mvar\": [-200, -100],\n",
    "\"max_q_mvar\": [200, 100],\n"
   ]
  },
  {
   "cell_type": "code",
   "execution_count": null,
   "metadata": {},
   "outputs": [],
   "source": [
    "\n",
    "\"vm_pu\": 1,\n",
    "\"min_q_mvar\": -100,\n",
    "\"max_q_mvar\": 100,\n",
    "\n",
    "net_ExPF1_Pb1_pickle.ext_grid ="
   ]
  },
  {
   "cell_type": "code",
   "execution_count": 687,
   "metadata": {},
   "outputs": [
    {
     "data": {
      "text/html": [
       "<div>\n",
       "<style scoped>\n",
       "    .dataframe tbody tr th:only-of-type {\n",
       "        vertical-align: middle;\n",
       "    }\n",
       "\n",
       "    .dataframe tbody tr th {\n",
       "        vertical-align: top;\n",
       "    }\n",
       "\n",
       "    .dataframe thead th {\n",
       "        text-align: right;\n",
       "    }\n",
       "</style>\n",
       "<table border=\"1\" class=\"dataframe\">\n",
       "  <thead>\n",
       "    <tr style=\"text-align: right;\">\n",
       "      <th></th>\n",
       "      <th>name</th>\n",
       "      <th>from_bus</th>\n",
       "      <th>to_bus</th>\n",
       "      <th>g_us_per_km</th>\n",
       "      <th>df</th>\n",
       "      <th>std_type</th>\n",
       "      <th>in_service</th>\n",
       "      <th>r_ohm_per_km</th>\n",
       "      <th>x_ohm_per_km</th>\n",
       "      <th>c_nf_per_km</th>\n",
       "      <th>length_km</th>\n",
       "      <th>max_i_ka</th>\n",
       "      <th>parallel</th>\n",
       "    </tr>\n",
       "  </thead>\n",
       "  <tbody>\n",
       "    <tr>\n",
       "      <th>0</th>\n",
       "      <td>line_a</td>\n",
       "      <td>0</td>\n",
       "      <td>1</td>\n",
       "      <td>0.0</td>\n",
       "      <td>1.0</td>\n",
       "      <td>None</td>\n",
       "      <td>True</td>\n",
       "      <td>32.0</td>\n",
       "      <td>320.0</td>\n",
       "      <td>1.554247</td>\n",
       "      <td>1</td>\n",
       "      <td>1</td>\n",
       "      <td>1</td>\n",
       "    </tr>\n",
       "    <tr>\n",
       "      <th>1</th>\n",
       "      <td>line_b</td>\n",
       "      <td>1</td>\n",
       "      <td>2</td>\n",
       "      <td>0.0</td>\n",
       "      <td>1.0</td>\n",
       "      <td>None</td>\n",
       "      <td>True</td>\n",
       "      <td>32.0</td>\n",
       "      <td>640.0</td>\n",
       "      <td>1.554247</td>\n",
       "      <td>1</td>\n",
       "      <td>1</td>\n",
       "      <td>1</td>\n",
       "    </tr>\n",
       "    <tr>\n",
       "      <th>2</th>\n",
       "      <td>line_c</td>\n",
       "      <td>0</td>\n",
       "      <td>2</td>\n",
       "      <td>0.0</td>\n",
       "      <td>1.0</td>\n",
       "      <td>None</td>\n",
       "      <td>True</td>\n",
       "      <td>32.0</td>\n",
       "      <td>640.0</td>\n",
       "      <td>3.108495</td>\n",
       "      <td>1</td>\n",
       "      <td>1</td>\n",
       "      <td>1</td>\n",
       "    </tr>\n",
       "    <tr>\n",
       "      <th>3</th>\n",
       "      <td>line_d</td>\n",
       "      <td>2</td>\n",
       "      <td>3</td>\n",
       "      <td>0.0</td>\n",
       "      <td>1.0</td>\n",
       "      <td>None</td>\n",
       "      <td>True</td>\n",
       "      <td>64.0</td>\n",
       "      <td>640.0</td>\n",
       "      <td>3.108495</td>\n",
       "      <td>1</td>\n",
       "      <td>1</td>\n",
       "      <td>1</td>\n",
       "    </tr>\n",
       "    <tr>\n",
       "      <th>4</th>\n",
       "      <td>line_e</td>\n",
       "      <td>1</td>\n",
       "      <td>3</td>\n",
       "      <td>0.0</td>\n",
       "      <td>1.0</td>\n",
       "      <td>None</td>\n",
       "      <td>True</td>\n",
       "      <td>64.0</td>\n",
       "      <td>640.0</td>\n",
       "      <td>3.108495</td>\n",
       "      <td>1</td>\n",
       "      <td>1</td>\n",
       "      <td>1</td>\n",
       "    </tr>\n",
       "  </tbody>\n",
       "</table>\n",
       "</div>"
      ],
      "text/plain": [
       "     name  from_bus  to_bus  g_us_per_km   df std_type  in_service  \\\n",
       "0  line_a         0       1          0.0  1.0     None        True   \n",
       "1  line_b         1       2          0.0  1.0     None        True   \n",
       "2  line_c         0       2          0.0  1.0     None        True   \n",
       "3  line_d         2       3          0.0  1.0     None        True   \n",
       "4  line_e         1       3          0.0  1.0     None        True   \n",
       "\n",
       "   r_ohm_per_km  x_ohm_per_km  c_nf_per_km  length_km  max_i_ka  parallel  \n",
       "0          32.0         320.0     1.554247          1         1         1  \n",
       "1          32.0         640.0     1.554247          1         1         1  \n",
       "2          32.0         640.0     3.108495          1         1         1  \n",
       "3          64.0         640.0     3.108495          1         1         1  \n",
       "4          64.0         640.0     3.108495          1         1         1  "
      ]
     },
     "execution_count": 687,
     "metadata": {},
     "output_type": "execute_result"
    }
   ],
   "source": [
    "net_ExPF1_Pb1_pickle.line"
   ]
  },
  {
   "cell_type": "code",
   "execution_count": 688,
   "metadata": {},
   "outputs": [
    {
     "ename": "LoadflowNotConverged",
     "evalue": "Power Flow nr did not converge after 10 iterations!",
     "output_type": "error",
     "traceback": [
      "\u001b[0;31m---------------------------------------------------------------------------\u001b[0m",
      "\u001b[0;31mLoadflowNotConverged\u001b[0m                      Traceback (most recent call last)",
      "Cell \u001b[0;32mIn[688], line 1\u001b[0m\n\u001b[0;32m----> 1\u001b[0m \u001b[43mpp\u001b[49m\u001b[38;5;241;43m.\u001b[39;49m\u001b[43mrunpp\u001b[49m\u001b[43m(\u001b[49m\u001b[43mnet_ExPF1_Pb1_pickle\u001b[49m\u001b[43m)\u001b[49m\n",
      "File \u001b[0;32m~/github/pro/rht/.venv/lib/python3.10/site-packages/pandapower/run.py:250\u001b[0m, in \u001b[0;36mrunpp\u001b[0;34m(net, algorithm, calculate_voltage_angles, init, max_iteration, tolerance_mva, trafo_model, trafo_loading, enforce_q_lims, check_connectivity, voltage_depend_loads, consider_line_temperature, run_control, distributed_slack, tdpf, tdpf_delay_s, **kwargs)\u001b[0m\n\u001b[1;32m    248\u001b[0m _check_bus_index_and_print_warning_if_high(net)\n\u001b[1;32m    249\u001b[0m _check_gen_index_and_print_warning_if_high(net)\n\u001b[0;32m--> 250\u001b[0m \u001b[43m_powerflow\u001b[49m\u001b[43m(\u001b[49m\u001b[43mnet\u001b[49m\u001b[43m,\u001b[49m\u001b[43m \u001b[49m\u001b[38;5;241;43m*\u001b[39;49m\u001b[38;5;241;43m*\u001b[39;49m\u001b[43mkwargs\u001b[49m\u001b[43m)\u001b[49m\n",
      "File \u001b[0;32m~/github/pro/rht/.venv/lib/python3.10/site-packages/pandapower/powerflow.py:86\u001b[0m, in \u001b[0;36m_powerflow\u001b[0;34m(net, **kwargs)\u001b[0m\n\u001b[1;32m     84\u001b[0m result \u001b[38;5;241m=\u001b[39m _run_pf_algorithm(ppci, net[\u001b[38;5;124m\"\u001b[39m\u001b[38;5;124m_options\u001b[39m\u001b[38;5;124m\"\u001b[39m], \u001b[38;5;241m*\u001b[39m\u001b[38;5;241m*\u001b[39mkwargs)\n\u001b[1;32m     85\u001b[0m \u001b[38;5;66;03m# read the results (=ppci with results) to net\u001b[39;00m\n\u001b[0;32m---> 86\u001b[0m \u001b[43m_ppci_to_net\u001b[49m\u001b[43m(\u001b[49m\u001b[43mresult\u001b[49m\u001b[43m,\u001b[49m\u001b[43m \u001b[49m\u001b[43mnet\u001b[49m\u001b[43m)\u001b[49m\n",
      "File \u001b[0;32m~/github/pro/rht/.venv/lib/python3.10/site-packages/pandapower/powerflow.py:190\u001b[0m, in \u001b[0;36m_ppci_to_net\u001b[0;34m(result, net)\u001b[0m\n\u001b[1;32m    188\u001b[0m     algorithm \u001b[38;5;241m=\u001b[39m net[\u001b[38;5;124m\"\u001b[39m\u001b[38;5;124m_options\u001b[39m\u001b[38;5;124m\"\u001b[39m][\u001b[38;5;124m\"\u001b[39m\u001b[38;5;124malgorithm\u001b[39m\u001b[38;5;124m\"\u001b[39m]\n\u001b[1;32m    189\u001b[0m     max_iteration \u001b[38;5;241m=\u001b[39m net[\u001b[38;5;124m\"\u001b[39m\u001b[38;5;124m_options\u001b[39m\u001b[38;5;124m\"\u001b[39m][\u001b[38;5;124m\"\u001b[39m\u001b[38;5;124mmax_iteration\u001b[39m\u001b[38;5;124m\"\u001b[39m]\n\u001b[0;32m--> 190\u001b[0m     \u001b[38;5;28;01mraise\u001b[39;00m LoadflowNotConverged(\u001b[38;5;124m\"\u001b[39m\u001b[38;5;124mPower Flow \u001b[39m\u001b[38;5;132;01m{0}\u001b[39;00m\u001b[38;5;124m did not converge after \u001b[39m\u001b[38;5;124m\"\u001b[39m\n\u001b[1;32m    191\u001b[0m                                \u001b[38;5;124m\"\u001b[39m\u001b[38;5;132;01m{1}\u001b[39;00m\u001b[38;5;124m iterations!\u001b[39m\u001b[38;5;124m\"\u001b[39m\u001b[38;5;241m.\u001b[39mformat(algorithm, max_iteration))\n\u001b[1;32m    192\u001b[0m \u001b[38;5;28;01melse\u001b[39;00m:\n\u001b[1;32m    193\u001b[0m     net[\u001b[38;5;124m\"\u001b[39m\u001b[38;5;124m_ppc\u001b[39m\u001b[38;5;124m\"\u001b[39m] \u001b[38;5;241m=\u001b[39m result\n",
      "\u001b[0;31mLoadflowNotConverged\u001b[0m: Power Flow nr did not converge after 10 iterations!"
     ]
    }
   ],
   "source": [
    "pp.runpp(net_ExPF1_Pb1_pickle)"
   ]
  },
  {
   "cell_type": "markdown",
   "metadata": {},
   "source": [
    "## Timeseries"
   ]
  },
  {
   "cell_type": "code",
   "execution_count": 689,
   "metadata": {},
   "outputs": [
    {
     "name": "stderr",
     "output_type": "stream",
     "text": [
      "2025-10-27 12:48:14 B01BPC14 pandapower.io_utils[125304] INFO Updating output_writer with index 0\n",
      "/home/thierryfra/github/pro/rht/.venv/lib/python3.10/site-packages/pandapower/timeseries/output_writer.py:177: FutureWarning:\n",
      "\n",
      "Setting an item of incompatible dtype is deprecated and will raise in a future error of pandas. Value 'range(0, 96)' has dtype incompatible with bool, please explicitly cast to a compatible dtype first.\n",
      "\n",
      "/home/thierryfra/github/pro/rht/.venv/lib/python3.10/site-packages/pandapower/auxiliary.py:615: FutureWarning:\n",
      "\n",
      "Setting an item of incompatible dtype is deprecated and will raise an error in a future version of pandas. Value '[35.76716   71.5343876]' has dtype incompatible with int64, please explicitly cast to a compatible dtype first.\n",
      "\n",
      "/home/thierryfra/github/pro/rht/.venv/lib/python3.10/site-packages/pandapower/auxiliary.py:615: FutureWarning:\n",
      "\n",
      "Setting an item of incompatible dtype is deprecated and will raise an error in a future version of pandas. Value '[11.75609698 23.51221618]' has dtype incompatible with int64, please explicitly cast to a compatible dtype first.\n",
      "\n",
      "2025-10-27 12:48:14 B01BPC14 pandapower.timeseries.run_time_series[125304] ERROR CalculationNotConverged at time step 0\n"
     ]
    },
    {
     "ename": "LoadflowNotConverged",
     "evalue": "",
     "output_type": "error",
     "traceback": [
      "\u001b[0;31m---------------------------------------------------------------------------\u001b[0m",
      "\u001b[0;31mLoadflowNotConverged\u001b[0m                      Traceback (most recent call last)",
      "File \u001b[0;32m~/github/pro/rht/.venv/lib/python3.10/site-packages/pandapower/timeseries/run_time_series.py:129\u001b[0m, in \u001b[0;36mrun_time_step\u001b[0;34m(net, time_step, ts_variables, run_control_fct, output_writer_fct, **kwargs)\u001b[0m\n\u001b[1;32m    127\u001b[0m \u001b[38;5;28;01mtry\u001b[39;00m:\n\u001b[1;32m    128\u001b[0m     \u001b[38;5;66;03m# calls controller init, control steps and run function (runpp usually is called in here)\u001b[39;00m\n\u001b[0;32m--> 129\u001b[0m     \u001b[43mrun_control_fct\u001b[49m\u001b[43m(\u001b[49m\u001b[43mnet\u001b[49m\u001b[43m,\u001b[49m\u001b[43m \u001b[49m\u001b[43mctrl_variables\u001b[49m\u001b[38;5;241;43m=\u001b[39;49m\u001b[43mts_variables\u001b[49m\u001b[43m,\u001b[49m\u001b[43m \u001b[49m\u001b[38;5;241;43m*\u001b[39;49m\u001b[38;5;241;43m*\u001b[39;49m\u001b[43mkwargs\u001b[49m\u001b[43m)\u001b[49m\n\u001b[1;32m    130\u001b[0m \u001b[38;5;28;01mexcept\u001b[39;00m ControllerNotConverged:\n",
      "File \u001b[0;32m~/github/pro/rht/.venv/lib/python3.10/site-packages/pandapower/control/run_control.py:303\u001b[0m, in \u001b[0;36mrun_control\u001b[0;34m(net, ctrl_variables, max_iter, **kwargs)\u001b[0m\n\u001b[1;32m    302\u001b[0m \u001b[38;5;66;03m# run each controller step in given controller order\u001b[39;00m\n\u001b[0;32m--> 303\u001b[0m \u001b[43mcontrol_implementation\u001b[49m\u001b[43m(\u001b[49m\u001b[43mnet\u001b[49m\u001b[43m,\u001b[49m\u001b[43m \u001b[49m\u001b[43mcontroller_order\u001b[49m\u001b[43m,\u001b[49m\u001b[43m \u001b[49m\u001b[43mctrl_variables\u001b[49m\u001b[43m,\u001b[49m\u001b[43m \u001b[49m\u001b[43mmax_iter\u001b[49m\u001b[43m,\u001b[49m\u001b[43m \u001b[49m\u001b[38;5;241;43m*\u001b[39;49m\u001b[38;5;241;43m*\u001b[39;49m\u001b[43mkwargs\u001b[49m\u001b[43m)\u001b[49m\n\u001b[1;32m    305\u001b[0m \u001b[38;5;66;03m# call finalize function of each controller\u001b[39;00m\n",
      "File \u001b[0;32m~/github/pro/rht/.venv/lib/python3.10/site-packages/pandapower/control/run_control.py:219\u001b[0m, in \u001b[0;36mcontrol_implementation\u001b[0;34m(net, controller_order, ctrl_variables, max_iter, evaluate_net_fct, **kwargs)\u001b[0m\n\u001b[1;32m    218\u001b[0m         run_count \u001b[38;5;241m+\u001b[39m\u001b[38;5;241m=\u001b[39m \u001b[38;5;241m1\u001b[39m\n\u001b[0;32m--> 219\u001b[0m         ctrl_variables \u001b[38;5;241m=\u001b[39m \u001b[43mevaluate_net_fct\u001b[49m\u001b[43m(\u001b[49m\u001b[43mnet\u001b[49m\u001b[43m,\u001b[49m\u001b[43m \u001b[49m\u001b[43mlevelorder\u001b[49m\u001b[43m,\u001b[49m\u001b[43m \u001b[49m\u001b[43mctrl_variables\u001b[49m\u001b[43m,\u001b[49m\u001b[43m \u001b[49m\u001b[38;5;241;43m*\u001b[39;49m\u001b[38;5;241;43m*\u001b[39;49m\u001b[43mkwargs\u001b[49m\u001b[43m)\u001b[49m\n\u001b[1;32m    220\u001b[0m \u001b[38;5;66;03m# raises controller not converged\u001b[39;00m\n",
      "File \u001b[0;32m~/github/pro/rht/.venv/lib/python3.10/site-packages/pandapower/control/run_control.py:196\u001b[0m, in \u001b[0;36m_evaluate_net\u001b[0;34m(net, levelorder, ctrl_variables, **kwargs)\u001b[0m\n\u001b[1;32m    195\u001b[0m     \u001b[38;5;28;01melse\u001b[39;00m:\n\u001b[0;32m--> 196\u001b[0m         \u001b[38;5;28;01mraise\u001b[39;00m err\n\u001b[1;32m    197\u001b[0m ctrl_variables[\u001b[38;5;124m'\u001b[39m\u001b[38;5;124mconverged\u001b[39m\u001b[38;5;124m'\u001b[39m] \u001b[38;5;241m=\u001b[39m net[\u001b[38;5;124m'\u001b[39m\u001b[38;5;124mconverged\u001b[39m\u001b[38;5;124m'\u001b[39m] \u001b[38;5;129;01mor\u001b[39;00m net\u001b[38;5;241m.\u001b[39mget(\u001b[38;5;124m'\u001b[39m\u001b[38;5;124mOPF_converged\u001b[39m\u001b[38;5;124m'\u001b[39m, \u001b[38;5;28;01mFalse\u001b[39;00m)\n",
      "File \u001b[0;32m~/github/pro/rht/.venv/lib/python3.10/site-packages/pandapower/control/run_control.py:180\u001b[0m, in \u001b[0;36m_evaluate_net\u001b[0;34m(net, levelorder, ctrl_variables, **kwargs)\u001b[0m\n\u001b[1;32m    179\u001b[0m \u001b[38;5;28;01mtry\u001b[39;00m:\n\u001b[0;32m--> 180\u001b[0m     \u001b[43mrun_funct\u001b[49m\u001b[43m(\u001b[49m\u001b[43mnet\u001b[49m\u001b[43m,\u001b[49m\u001b[43m \u001b[49m\u001b[38;5;241;43m*\u001b[39;49m\u001b[38;5;241;43m*\u001b[39;49m\u001b[43mkwargs\u001b[49m\u001b[43m)\u001b[49m  \u001b[38;5;66;03m# run can be runpp, runopf or whatever\u001b[39;00m\n\u001b[1;32m    181\u001b[0m \u001b[38;5;28;01mexcept\u001b[39;00m errors \u001b[38;5;28;01mas\u001b[39;00m err:\n",
      "File \u001b[0;32m~/github/pro/rht/.venv/lib/python3.10/site-packages/pandapower/run.py:250\u001b[0m, in \u001b[0;36mrunpp\u001b[0;34m(net, algorithm, calculate_voltage_angles, init, max_iteration, tolerance_mva, trafo_model, trafo_loading, enforce_q_lims, check_connectivity, voltage_depend_loads, consider_line_temperature, run_control, distributed_slack, tdpf, tdpf_delay_s, **kwargs)\u001b[0m\n\u001b[1;32m    249\u001b[0m _check_gen_index_and_print_warning_if_high(net)\n\u001b[0;32m--> 250\u001b[0m \u001b[43m_powerflow\u001b[49m\u001b[43m(\u001b[49m\u001b[43mnet\u001b[49m\u001b[43m,\u001b[49m\u001b[43m \u001b[49m\u001b[38;5;241;43m*\u001b[39;49m\u001b[38;5;241;43m*\u001b[39;49m\u001b[43mkwargs\u001b[49m\u001b[43m)\u001b[49m\n",
      "File \u001b[0;32m~/github/pro/rht/.venv/lib/python3.10/site-packages/pandapower/powerflow.py:86\u001b[0m, in \u001b[0;36m_powerflow\u001b[0;34m(net, **kwargs)\u001b[0m\n\u001b[1;32m     85\u001b[0m \u001b[38;5;66;03m# read the results (=ppci with results) to net\u001b[39;00m\n\u001b[0;32m---> 86\u001b[0m \u001b[43m_ppci_to_net\u001b[49m\u001b[43m(\u001b[49m\u001b[43mresult\u001b[49m\u001b[43m,\u001b[49m\u001b[43m \u001b[49m\u001b[43mnet\u001b[49m\u001b[43m)\u001b[49m\n",
      "File \u001b[0;32m~/github/pro/rht/.venv/lib/python3.10/site-packages/pandapower/powerflow.py:190\u001b[0m, in \u001b[0;36m_ppci_to_net\u001b[0;34m(result, net)\u001b[0m\n\u001b[1;32m    189\u001b[0m     max_iteration \u001b[38;5;241m=\u001b[39m net[\u001b[38;5;124m\"\u001b[39m\u001b[38;5;124m_options\u001b[39m\u001b[38;5;124m\"\u001b[39m][\u001b[38;5;124m\"\u001b[39m\u001b[38;5;124mmax_iteration\u001b[39m\u001b[38;5;124m\"\u001b[39m]\n\u001b[0;32m--> 190\u001b[0m     \u001b[38;5;28;01mraise\u001b[39;00m LoadflowNotConverged(\u001b[38;5;124m\"\u001b[39m\u001b[38;5;124mPower Flow \u001b[39m\u001b[38;5;132;01m{0}\u001b[39;00m\u001b[38;5;124m did not converge after \u001b[39m\u001b[38;5;124m\"\u001b[39m\n\u001b[1;32m    191\u001b[0m                                \u001b[38;5;124m\"\u001b[39m\u001b[38;5;132;01m{1}\u001b[39;00m\u001b[38;5;124m iterations!\u001b[39m\u001b[38;5;124m\"\u001b[39m\u001b[38;5;241m.\u001b[39mformat(algorithm, max_iteration))\n\u001b[1;32m    192\u001b[0m \u001b[38;5;28;01melse\u001b[39;00m:\n",
      "\u001b[0;31mLoadflowNotConverged\u001b[0m: Power Flow nr did not converge after 10 iterations!",
      "\nDuring handling of the above exception, another exception occurred:\n",
      "\u001b[0;31mLoadflowNotConverged\u001b[0m                      Traceback (most recent call last)",
      "Cell \u001b[0;32mIn[689], line 16\u001b[0m\n\u001b[1;32m     11\u001b[0m pp_sim\u001b[38;5;241m.\u001b[39mapply_power_profile(\n\u001b[1;32m     12\u001b[0m     net\u001b[38;5;241m=\u001b[39mnet_ExPF1_Pb1_pickle, equipment\u001b[38;5;241m=\u001b[39m\u001b[38;5;124m\"\u001b[39m\u001b[38;5;124mload\u001b[39m\u001b[38;5;124m\"\u001b[39m, power_profiles\u001b[38;5;241m=\u001b[39mtime_series[\u001b[38;5;124m\"\u001b[39m\u001b[38;5;124mload\u001b[39m\u001b[38;5;124m\"\u001b[39m]\n\u001b[1;32m     13\u001b[0m )\n\u001b[1;32m     14\u001b[0m pp_sim\u001b[38;5;241m.\u001b[39mcreate_output_writer(net\u001b[38;5;241m=\u001b[39mnet_ExPF1_Pb1_pickle)\n\u001b[0;32m---> 16\u001b[0m result_df \u001b[38;5;241m=\u001b[39m \u001b[43mpp_sim\u001b[49m\u001b[38;5;241;43m.\u001b[39;49m\u001b[43mrun_time_simulation\u001b[49m\u001b[43m(\u001b[49m\n\u001b[1;32m     17\u001b[0m \u001b[43m    \u001b[49m\u001b[43mnet\u001b[49m\u001b[38;5;241;43m=\u001b[39;49m\u001b[43mnet_ExPF1_Pb1_pickle\u001b[49m\u001b[43m,\u001b[49m\u001b[43m \u001b[49m\u001b[43moutput_filename\u001b[49m\u001b[38;5;241;43m=\u001b[39;49m\u001b[43moutput_filename\u001b[49m\n\u001b[1;32m     18\u001b[0m \u001b[43m)\u001b[49m\n",
      "File \u001b[0;32m~/github/pro/rht/.venv/lib/python3.10/site-packages/pp_heig_simulation.py:361\u001b[0m, in \u001b[0;36mrun_time_simulation\u001b[0;34m(net, output_filename, folder)\u001b[0m\n\u001b[1;32m    339\u001b[0m \u001b[38;5;28;01mdef\u001b[39;00m\u001b[38;5;250m \u001b[39m\u001b[38;5;21mrun_time_simulation\u001b[39m(net: pp\u001b[38;5;241m.\u001b[39mpandapowerNet, output_filename: \u001b[38;5;28mstr\u001b[39m \u001b[38;5;241m=\u001b[39m \u001b[38;5;28;01mNone\u001b[39;00m,\n\u001b[1;32m    340\u001b[0m                         folder: \u001b[38;5;28mstr\u001b[39m \u001b[38;5;241m=\u001b[39m \u001b[38;5;124mr\u001b[39m\u001b[38;5;124m\"\u001b[39m\u001b[38;5;124moutput\u001b[39m\u001b[38;5;124m\"\u001b[39m) \u001b[38;5;241m-\u001b[39m\u001b[38;5;241m>\u001b[39m \u001b[38;5;28mdict\u001b[39m[\u001b[38;5;28mstr\u001b[39m, pd\u001b[38;5;241m.\u001b[39mDataFrame]:\n\u001b[1;32m    341\u001b[0m \u001b[38;5;250m    \u001b[39m\u001b[38;5;124mr\u001b[39m\u001b[38;5;124;03m\"\"\"Run a time-series power flow on a pandaPower network where power profiles has been applied to the load and the generators.\u001b[39;00m\n\u001b[1;32m    342\u001b[0m \u001b[38;5;124;03m    \u001b[39;00m\n\u001b[1;32m    343\u001b[0m \u001b[38;5;124;03m    The results will then be converted into a dictionary of `DataFrames` and saved to an Excel file if desired.\u001b[39;00m\n\u001b[0;32m   (...)\u001b[0m\n\u001b[1;32m    359\u001b[0m \u001b[38;5;124;03m    >>> run_time_simulation(net=net, folder=\".cache\", output_filename=\"output_filename\")\u001b[39;00m\n\u001b[1;32m    360\u001b[0m \u001b[38;5;124;03m    \"\"\"\u001b[39;00m\n\u001b[0;32m--> 361\u001b[0m     \u001b[43mtimeseries\u001b[49m\u001b[38;5;241;43m.\u001b[39;49m\u001b[43mrun_timeseries\u001b[49m\u001b[43m(\u001b[49m\u001b[43mnet\u001b[49m\u001b[43m,\u001b[49m\u001b[43m \u001b[49m\u001b[43mtime_steps\u001b[49m\u001b[38;5;241;43m=\u001b[39;49m\u001b[38;5;28;43mrange\u001b[39;49m\u001b[43m(\u001b[49m\u001b[43mnet\u001b[49m\u001b[43m[\u001b[49m\u001b[38;5;124;43m\"\u001b[39;49m\u001b[38;5;124;43mtime_index\u001b[39;49m\u001b[38;5;124;43m\"\u001b[39;49m\u001b[43m]\u001b[49m\u001b[38;5;241;43m.\u001b[39;49m\u001b[43mshape\u001b[49m\u001b[43m[\u001b[49m\u001b[38;5;241;43m0\u001b[39;49m\u001b[43m]\u001b[49m\u001b[43m)\u001b[49m\u001b[43m,\u001b[49m\u001b[43m \u001b[49m\u001b[43mverbose\u001b[49m\u001b[38;5;241;43m=\u001b[39;49m\u001b[38;5;28;43;01mFalse\u001b[39;49;00m\u001b[43m)\u001b[49m\n\u001b[1;32m    363\u001b[0m     results_df: \u001b[38;5;28mdict\u001b[39m[\u001b[38;5;28mstr\u001b[39m, pd\u001b[38;5;241m.\u001b[39mDataFrame] \u001b[38;5;241m=\u001b[39m \u001b[38;5;28mdict\u001b[39m()\n\u001b[1;32m    364\u001b[0m     \u001b[38;5;28;01mfor\u001b[39;00m key, result \u001b[38;5;129;01min\u001b[39;00m net\u001b[38;5;241m.\u001b[39moutput_writer\u001b[38;5;241m.\u001b[39mat[\u001b[38;5;241m0\u001b[39m, \u001b[38;5;124m\"\u001b[39m\u001b[38;5;124mobject\u001b[39m\u001b[38;5;124m\"\u001b[39m]\u001b[38;5;241m.\u001b[39moutput\u001b[38;5;241m.\u001b[39mitems():\n",
      "File \u001b[0;32m~/github/pro/rht/.venv/lib/python3.10/site-packages/pandapower/timeseries/run_time_series.py:361\u001b[0m, in \u001b[0;36mrun_timeseries\u001b[0;34m(net, time_steps, continue_on_divergence, verbose, check_controllers, **kwargs)\u001b[0m\n\u001b[1;32m    359\u001b[0m \u001b[38;5;28;01mif\u001b[39;00m check_controllers:\n\u001b[1;32m    360\u001b[0m     control_diagnostic(net) \u001b[38;5;66;03m# produces significant overhead if you run many timeseries of short duration\u001b[39;00m\n\u001b[0;32m--> 361\u001b[0m \u001b[43mrun_loop\u001b[49m\u001b[43m(\u001b[49m\u001b[43mnet\u001b[49m\u001b[43m,\u001b[49m\u001b[43m \u001b[49m\u001b[43mts_variables\u001b[49m\u001b[43m,\u001b[49m\u001b[43m \u001b[49m\u001b[38;5;241;43m*\u001b[39;49m\u001b[38;5;241;43m*\u001b[39;49m\u001b[43mkwargs\u001b[49m\u001b[43m)\u001b[49m\n\u001b[1;32m    363\u001b[0m \u001b[38;5;66;03m# cleanup functions after the last time step was calculated\u001b[39;00m\n\u001b[1;32m    364\u001b[0m cleanup(net, ts_variables)\n",
      "File \u001b[0;32m~/github/pro/rht/.venv/lib/python3.10/site-packages/pandapower/timeseries/run_time_series.py:329\u001b[0m, in \u001b[0;36mrun_loop\u001b[0;34m(net, ts_variables, run_control_fct, output_writer_fct, **kwargs)\u001b[0m\n\u001b[1;32m    326\u001b[0m \u001b[38;5;28;01mfor\u001b[39;00m i, time_step \u001b[38;5;129;01min\u001b[39;00m \u001b[38;5;28menumerate\u001b[39m(ts_variables[\u001b[38;5;124m\"\u001b[39m\u001b[38;5;124mtime_steps\u001b[39m\u001b[38;5;124m\"\u001b[39m]):\n\u001b[1;32m    327\u001b[0m     print_progress(i, time_step, ts_variables[\u001b[38;5;124m\"\u001b[39m\u001b[38;5;124mtime_steps\u001b[39m\u001b[38;5;124m\"\u001b[39m], ts_variables[\u001b[38;5;124m\"\u001b[39m\u001b[38;5;124mverbose\u001b[39m\u001b[38;5;124m\"\u001b[39m], ts_variables\u001b[38;5;241m=\u001b[39mts_variables,\n\u001b[1;32m    328\u001b[0m                    \u001b[38;5;241m*\u001b[39m\u001b[38;5;241m*\u001b[39mkwargs)\n\u001b[0;32m--> 329\u001b[0m     \u001b[43mrun_time_step\u001b[49m\u001b[43m(\u001b[49m\u001b[43mnet\u001b[49m\u001b[43m,\u001b[49m\u001b[43m \u001b[49m\u001b[43mtime_step\u001b[49m\u001b[43m,\u001b[49m\u001b[43m \u001b[49m\u001b[43mts_variables\u001b[49m\u001b[43m,\u001b[49m\u001b[43m \u001b[49m\u001b[43mrun_control_fct\u001b[49m\u001b[43m,\u001b[49m\u001b[43m \u001b[49m\u001b[43moutput_writer_fct\u001b[49m\u001b[43m,\u001b[49m\u001b[43m \u001b[49m\u001b[38;5;241;43m*\u001b[39;49m\u001b[38;5;241;43m*\u001b[39;49m\u001b[43mkwargs\u001b[49m\u001b[43m)\u001b[49m\n",
      "File \u001b[0;32m~/github/pro/rht/.venv/lib/python3.10/site-packages/pandapower/timeseries/run_time_series.py:137\u001b[0m, in \u001b[0;36mrun_time_step\u001b[0;34m(net, time_step, ts_variables, run_control_fct, output_writer_fct, **kwargs)\u001b[0m\n\u001b[1;32m    134\u001b[0m \u001b[38;5;28;01mexcept\u001b[39;00m ts_variables[\u001b[38;5;124m'\u001b[39m\u001b[38;5;124merrors\u001b[39m\u001b[38;5;124m'\u001b[39m]:\n\u001b[1;32m    135\u001b[0m     \u001b[38;5;66;03m# If power flow did not converge simulation aborts or continues if continue_on_divergence is True\u001b[39;00m\n\u001b[1;32m    136\u001b[0m     pf_converged \u001b[38;5;241m=\u001b[39m \u001b[38;5;28;01mFalse\u001b[39;00m\n\u001b[0;32m--> 137\u001b[0m     \u001b[43mpf_not_converged\u001b[49m\u001b[43m(\u001b[49m\u001b[43mtime_step\u001b[49m\u001b[43m,\u001b[49m\u001b[43m \u001b[49m\u001b[43mts_variables\u001b[49m\u001b[43m)\u001b[49m\n\u001b[1;32m    139\u001b[0m output_writer_fct(net, time_step, pf_converged, ctrl_converged, ts_variables)\n\u001b[1;32m    141\u001b[0m finalize_step(ts_variables[\u001b[38;5;124m'\u001b[39m\u001b[38;5;124mcontroller_order\u001b[39m\u001b[38;5;124m'\u001b[39m], time_step)\n",
      "File \u001b[0;32m~/github/pro/rht/.venv/lib/python3.10/site-packages/pandapower/timeseries/run_time_series.py:80\u001b[0m, in \u001b[0;36mpf_not_converged\u001b[0;34m(time_step, ts_variables)\u001b[0m\n\u001b[1;32m     78\u001b[0m logger\u001b[38;5;241m.\u001b[39merror(\u001b[38;5;124m'\u001b[39m\u001b[38;5;124mCalculationNotConverged at time step \u001b[39m\u001b[38;5;132;01m%s\u001b[39;00m\u001b[38;5;124m'\u001b[39m \u001b[38;5;241m%\u001b[39m time_step)\n\u001b[1;32m     79\u001b[0m \u001b[38;5;28;01mif\u001b[39;00m \u001b[38;5;129;01mnot\u001b[39;00m ts_variables[\u001b[38;5;124m\"\u001b[39m\u001b[38;5;124mcontinue_on_divergence\u001b[39m\u001b[38;5;124m\"\u001b[39m]:\n\u001b[0;32m---> 80\u001b[0m     \u001b[38;5;28;01mraise\u001b[39;00m ts_variables[\u001b[38;5;124m'\u001b[39m\u001b[38;5;124merrors\u001b[39m\u001b[38;5;124m'\u001b[39m][\u001b[38;5;241m0\u001b[39m]\n",
      "\u001b[0;31mLoadflowNotConverged\u001b[0m: "
     ]
    }
   ],
   "source": [
    "profile_file_path = \"data/power_profile_pb1.xlsx\"\n",
    "output_folder = \"\"\n",
    "output_filename = \"simulation_results\"\n",
    "\n",
    "# Charge excel file with powerprofile (power already scaled)\n",
    "time_series: dict = pp_sim.load_power_profile_form_xlsx(file_path=profile_file_path)\n",
    "\n",
    "\n",
    "# for eq in [\"load\",\"sgen\"]:\n",
    "#     apply_power_profile(net=net_ExPF1_Pb1_pickle, equipment=eq, power_profiles=time_series[eq])\n",
    "pp_sim.apply_power_profile(\n",
    "    net=net_ExPF1_Pb1_pickle, equipment=\"load\", power_profiles=time_series[\"load\"]\n",
    ")\n",
    "pp_sim.create_output_writer(net=net_ExPF1_Pb1_pickle)\n",
    "\n",
    "result_df = pp_sim.run_time_simulation(\n",
    "    net=net_ExPF1_Pb1_pickle, output_filename=output_filename\n",
    ")"
   ]
  },
  {
   "cell_type": "code",
   "execution_count": null,
   "metadata": {},
   "outputs": [],
   "source": [
    "pp_plot.plot_timeseries_result(\n",
    "    data_df=result_df[\"res_bus.vm_pu\"],\n",
    "    ylabel=\"V [pu]\",\n",
    "    plot_title=\"Bus voltage\",\n",
    "    filename=\"voltage_result\",\n",
    ")"
   ]
  },
  {
   "cell_type": "markdown",
   "metadata": {},
   "source": [
    "# Annexe"
   ]
  },
  {
   "cell_type": "markdown",
   "metadata": {},
   "source": [
    "### Tuto for _Compute admitance matrix_ part"
   ]
  },
  {
   "cell_type": "code",
   "execution_count": null,
   "metadata": {},
   "outputs": [
    {
     "name": "stdout",
     "output_type": "stream",
     "text": [
      "   Resistance  line\n",
      "0          10     0\n",
      "1          20     1\n",
      "2          30     2\n",
      "3          40     3\n",
      "4          50     4\n",
      "5          60     5\n",
      "6          70     6\n",
      "7          80     7\n",
      "8          90     8\n",
      "9         100     9\n",
      "   Resistance  line\n",
      "3          40     3\n",
      "2          30     2\n",
      "5          60     5\n",
      "8          90     8\n",
      "7          80     7\n",
      "0          10     0\n",
      "9         100     9\n",
      "1          20     1\n",
      "4          50     4\n",
      "6          70     6\n",
      "    Current\n",
      "0  0.500000\n",
      "1  0.250000\n",
      "2  0.166667\n",
      "3  0.125000\n",
      "4  0.100000\n",
      "5  0.083333\n",
      "6  0.071429\n",
      "7  0.062500\n",
      "8  0.055556\n",
      "9  0.050000\n"
     ]
    }
   ],
   "source": [
    "# Create dictionnary with values\n",
    "data = {\"Resistance\": range(10, 101, 10), \"line\": range(0, 10, 1)}\n",
    "\n",
    "# Create dataframe with the dict\n",
    "resistance_DF = pd.DataFrame(data)\n",
    "print(resistance_DF)\n",
    "tension = 5\n",
    "\n",
    "# Randomize order of the row\n",
    "resistance_DF_rand = resistance_DF.sample(frac=1)\n",
    "print(resistance_DF_rand)\n",
    "nb_line = resistance_DF.shape[0]\n",
    "\n",
    "current = np.zeros(nb_line)\n",
    "for i in range(nb_line):\n",
    "    line_number = resistance_DF_rand.at[i, \"line\"]\n",
    "    current[line_number] = tension / resistance_DF_rand.at[line_number, \"Resistance\"]\n",
    "current_DataFrame = pd.DataFrame({\"Current\": current})\n",
    "print(current_DataFrame)"
   ]
  }
 ],
 "metadata": {
  "kernelspec": {
   "display_name": ".venv",
   "language": "python",
   "name": "python3"
  },
  "language_info": {
   "codemirror_mode": {
    "name": "ipython",
    "version": 3
   },
   "file_extension": ".py",
   "mimetype": "text/x-python",
   "name": "python",
   "nbconvert_exporter": "python",
   "pygments_lexer": "ipython3",
   "version": "3.10.12"
  }
 },
 "nbformat": 4,
 "nbformat_minor": 2
}
