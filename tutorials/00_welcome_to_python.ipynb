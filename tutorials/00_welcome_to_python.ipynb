{
 "cells": [
  {
   "cell_type": "markdown",
   "metadata": {},
   "source": [
    "**My First Python Demo Notebook – A Simple Tutorial**\n",
    "\n",
    "_Description is coming soon..._\n",
    "\n",
    "<details>\n",
    "\n",
    "<summary>Table of content</summary>\n",
    "\n",
    "# Notebook content\n",
    "\n",
    "- [I: Some basic commands to get ready](#some-basic-commands-to-get-ready)\n",
    "- [II: Feeding my dataframe with new data](#title)\n",
    "- [III: Energy consumption and power profile](#title)\n",
    "- [IV: Some references to go further](#title)\n",
    "- I : Visual Studio code\n",
    "- II : JupyterNotebook\n",
    "- III : Python\n",
    "- IV : Variable type\n",
    "- V : NumPy and Pandas\n",
    "- VI : Data from csv\n",
    "- VII : Manipulation of dataframe\n",
    "- VIII : Plot of dataframe\n",
    "- IX : Pandapower\n",
    "\n",
    "</details>\n",
    "\n",
    "---\n",
    "\n",
    "<details>\n",
    "\n",
    "<summary>TODO</summary>\n",
    "\n",
    "## Ideas for this tutorial\n",
    "\n",
    "- [ ] Trying to get more data on energy consumption.\n",
    "- [ ] Obtain primary or secondary energy consumption per capita.\n",
    "- [ ] Do the same exercise with electricity consumption per capita.\n",
    "- [ ] Compare growth with energy efficiency.\n",
    "- [ ] Add a comparison between pandas and numpy [pd/np](https://www.geeksforgeeks.org/difference-between-pandas-vs-numpy/)\n",
    "- [ ] Understand Dictionnary of dataframe exemple [Dictionnary of dataframe](#Dictionnary-of-dataframe) at this link [dict_of_df](https://www.educative.io/answers/how-to-create-a-dictionary-of-data-frames-in-python)\n",
    "- [ ] Modifying the Dictionnary of dataframe to correspond pandapower exercise\n",
    "- [ ] Details on variable type need to be completed\n",
    "\n",
    "</details>\n",
    "\n",
    "---"
   ]
  },
  {
   "cell_type": "markdown",
   "metadata": {},
   "source": [
    "# VS code\n"
   ]
  },
  {
   "cell_type": "markdown",
   "metadata": {},
   "source": [
    "\n",
    "File -> Activate Autosave\n",
    "\n",
    "Launch via terminal, nice to open project.\n",
    "\n",
    "Some features : \n",
    "- Dark mode or other\n",
    "- Friendly git command\n",
    "  - Git [nomenclature](https://www.conventionalcommits.org/en/v1.0.0/)\n",
    "- Github Copilot\n",
    "- Extension"
   ]
  },
  {
   "cell_type": "markdown",
   "metadata": {},
   "source": [
    "# JupyterNotebook"
   ]
  },
  {
   "cell_type": "markdown",
   "metadata": {},
   "source": [
    "All the [basics](00_welcome_to_jupyter.ipynb) about JupyterNotebook.\n",
    "- What is it ?\n",
    "- Step by step execution\n",
    "- How memory work\n",
    "- Variable explorer\n",
    "- Export"
   ]
  },
  {
   "cell_type": "markdown",
   "metadata": {},
   "source": [
    "\n",
    "Here you have the [Basic writing and formatting syntax](https://docs.github.com/en/get-started/writing-on-github/getting-started-with-writing-and-formatting-on-github/basic-writing-and-formatting-syntax) for markdown.\n",
    "\n",
    "Few usefull shortcut :\n",
    "- `y` and `m` to toggle between markdown and python cells.\n",
    "- `Ctrl+Enter` to run cells\n",
    "- `Shift+Enter` to run and advance in next cells\n",
    "\n",
    "And text higligh : \n",
    " - ``---`` - Line througth the page\n",
    " - `>` - Text box\n",
    " - \\`Text\\` - Quoting code like ``this``\n",
    " - And triple for multiple line \\`\\`\\` ``code`` \\`\\`\\`"
   ]
  },
  {
   "cell_type": "markdown",
   "metadata": {},
   "source": [
    "# Some basics to get ready\n"
   ]
  },
  {
   "cell_type": "markdown",
   "metadata": {},
   "source": [
    "At the first, we are not informatician, the hygiene is important for your code : commenting, good variable name,...\n",
    "\n",
    "But if that works... ;)\n",
    "\n",
    "Here a complete guide about hygiene coding tips : [hygiene_tips](https://testdriven.io/blog/clean-code-python/), I recommend you to read the _PEP 8_ part.\n",
    "\n",
    "For solving a problem, you have many solution and that the same with Python, so we will give you one solution (sometimes more) and that can be the best solution, or not. \n",
    "\n",
    "So be free as a bird and make your own experience. :bird:"
   ]
  },
  {
   "cell_type": "markdown",
   "metadata": {},
   "source": [
    "### Python\n"
   ]
  },
  {
   "cell_type": "markdown",
   "metadata": {},
   "source": [
    "\n",
    "Python is an object oriented programming language and this mean that almost everything is an object with own properties and methods.\n",
    "\n",
    "And we create object with the constructure (like blueprint) called Class.\n",
    "\n",
    "And each object can have function inside, thats called method."
   ]
  },
  {
   "cell_type": "markdown",
   "metadata": {},
   "source": [
    "## Help once the package has been imported\n"
   ]
  },
  {
   "cell_type": "markdown",
   "metadata": {},
   "source": [
    "Python works with package, this is all the code already developped that we can use, we don't want (and can't) recode anything every times.\n",
    "\n",
    "Package exit to do lots of thinks : statistical analysis, data visualization, etc.\n",
    "\n",
    "In this tuto we'll import the following packages :\n",
    "- *numpy* and *pandas* for data analysis and manipulation\n",
    "- *plotly* for data visualization\n",
    "- (*os* is used to change working directories, but you don't need it)"
   ]
  },
  {
   "cell_type": "code",
   "execution_count": 157,
   "metadata": {},
   "outputs": [],
   "source": [
    "import os\n",
    "import numpy as np\n",
    "import pandas as pd\n",
    "import plotly.express as px\n",
    "from plotly.subplots import make_subplots"
   ]
  },
  {
   "cell_type": "markdown",
   "metadata": {},
   "source": [
    "For needed information on a function tape : _?function_name_"
   ]
  },
  {
   "cell_type": "code",
   "execution_count": 158,
   "metadata": {},
   "outputs": [
    {
     "name": "stdout",
     "output_type": "stream",
     "text": [
      "\u001b[0;31mSignature:\u001b[0m \u001b[0mprint\u001b[0m\u001b[0;34m(\u001b[0m\u001b[0;34m*\u001b[0m\u001b[0margs\u001b[0m\u001b[0;34m,\u001b[0m \u001b[0msep\u001b[0m\u001b[0;34m=\u001b[0m\u001b[0;34m' '\u001b[0m\u001b[0;34m,\u001b[0m \u001b[0mend\u001b[0m\u001b[0;34m=\u001b[0m\u001b[0;34m'\\n'\u001b[0m\u001b[0;34m,\u001b[0m \u001b[0mfile\u001b[0m\u001b[0;34m=\u001b[0m\u001b[0;32mNone\u001b[0m\u001b[0;34m,\u001b[0m \u001b[0mflush\u001b[0m\u001b[0;34m=\u001b[0m\u001b[0;32mFalse\u001b[0m\u001b[0;34m)\u001b[0m\u001b[0;34m\u001b[0m\u001b[0;34m\u001b[0m\u001b[0m\n",
      "\u001b[0;31mDocstring:\u001b[0m\n",
      "Prints the values to a stream, or to sys.stdout by default.\n",
      "\n",
      "sep\n",
      "  string inserted between values, default a space.\n",
      "end\n",
      "  string appended after the last value, default a newline.\n",
      "file\n",
      "  a file-like object (stream); defaults to the current sys.stdout.\n",
      "flush\n",
      "  whether to forcibly flush the stream.\n",
      "\u001b[0;31mType:\u001b[0m      builtin_function_or_method"
     ]
    }
   ],
   "source": [
    "?print"
   ]
  },
  {
   "cell_type": "markdown",
   "metadata": {},
   "source": [
    "## Basics Data Structures and Sequences : Variable type"
   ]
  },
  {
   "cell_type": "markdown",
   "metadata": {},
   "source": [
    "The information is stocked in variable, the information can take multiple forms, numeric, string, etc., the next table resume the data type and how to construct it.\n",
    "|                  | Data Type  | Example                                              |\n",
    "|------------------|------------|------------------------------------------------------|\n",
    "| _Text Type_      | str        | `\"Hello World\"`                                      |\n",
    "| _Numeric Types_  | int        | 50                                                   |\n",
    "|                  | float      | 50.5                                                 |\n",
    "|                  | complex    | 10j                                                  |\n",
    "| _Sequence Types_ | list       | `[\"resistance\", \"admittance\", \"impedance\"]`          |\n",
    "|                  | tuple      | `(\"resistance\", \"admittance\",\"impedance\")`           |\n",
    "|                  | range      | `range(8)`                                           |\n",
    "| _Mapping Type_   | dict       | `{\"Element\": \"Generator\", \"Power\" : 100}`            |\n",
    "| _Boolean Type_   | bool       | True, False                                          |\n",
    "\n",
    "On this [link](https://wesmckinney.com/book/python-builtin#tut_data_structures), you have more information about the datastructure."
   ]
  },
  {
   "cell_type": "markdown",
   "metadata": {},
   "source": [
    "<details>\n",
    "<summary>Details on variable type</summary>\n",
    "\n",
    "- **Integers** are whole numbers, negative and positive.\n",
    "- **Floats** are real numbers or numbers with a decimal point.\n",
    "- **Strings** are sequences of characters.\n",
    "- **Booleans** are True or False  (1 or 0).\n",
    "- **Tuples** are ordered, immutable collections of values.\n",
    "- **dictionaries** is unordered collection of data in a key: value pair form\n",
    "- **Lists** are ordered, mutable collections of values.\n",
    "\n",
    "\n",
    "</details>"
   ]
  },
  {
   "cell_type": "markdown",
   "metadata": {},
   "source": [
    "\n",
    "The program auto define the variable type when we create it.  It's possible to manually specify it (for changing size p.ex.)."
   ]
  },
  {
   "cell_type": "code",
   "execution_count": 159,
   "metadata": {},
   "outputs": [
    {
     "name": "stdout",
     "output_type": "stream",
     "text": [
      "Classe of list_Test:\n",
      " <class 'list'>\n",
      "list_Test contains:\n",
      " [9, 1, 2, 3, 4, 'z', 'x', 'y', 'x']\n"
     ]
    }
   ],
   "source": [
    "# List exemple\n",
    "list_test = [9, 1, 2, 3, 4, \"z\", \"x\", \"y\", \"x\"]\n",
    "print(\"Classe of list_Test:\\n\", type(list_test))\n",
    "print(\"list_Test contains:\\n\", list_test)"
   ]
  },
  {
   "cell_type": "markdown",
   "metadata": {},
   "source": [
    "In a sequence, the elements can be accessed with `[]`.\n",
    "\n",
    "Like C or most of the common programming language, Python index begin at 0, unlike Matlab, who start at 1."
   ]
  },
  {
   "cell_type": "code",
   "execution_count": 160,
   "metadata": {},
   "outputs": [
    {
     "name": "stdout",
     "output_type": "stream",
     "text": [
      "Element 3 in list_Test = 2\n"
     ]
    }
   ],
   "source": [
    "print(\"Element 3 in list_Test =\", list_test[2])"
   ]
  },
  {
   "cell_type": "markdown",
   "metadata": {},
   "source": [
    "List and Tuple are similar, but Tuple is immutable."
   ]
  },
  {
   "cell_type": "code",
   "execution_count": 161,
   "metadata": {},
   "outputs": [
    {
     "name": "stdout",
     "output_type": "stream",
     "text": [
      "Type of tup : <class 'tuple'>\n",
      "Type of list : <class 'list'>\n"
     ]
    }
   ],
   "source": [
    "list_exemple = [\"foo\", [1, 2], True]\n",
    "tup_exemple = (\"foo\", [1, 2], True)\n",
    "print(\"Type of tup :\", type(tup_exemple))\n",
    "print(\"Type of list :\", type(list_exemple))"
   ]
  },
  {
   "cell_type": "code",
   "execution_count": 162,
   "metadata": {},
   "outputs": [],
   "source": [
    "# tup[2] = False"
   ]
  },
  {
   "cell_type": "markdown",
   "metadata": {},
   "source": [
    "To access value inside, the procedure is the same :"
   ]
  },
  {
   "cell_type": "code",
   "execution_count": 163,
   "metadata": {},
   "outputs": [
    {
     "data": {
      "text/plain": [
       "[1, 2]"
      ]
     },
     "execution_count": 163,
     "metadata": {},
     "output_type": "execute_result"
    }
   ],
   "source": [
    "list_exemple[1]"
   ]
  },
  {
   "cell_type": "markdown",
   "metadata": {},
   "source": [
    "To access sub-element :"
   ]
  },
  {
   "cell_type": "code",
   "execution_count": 164,
   "metadata": {},
   "outputs": [
    {
     "data": {
      "text/plain": [
       "2"
      ]
     },
     "execution_count": 164,
     "metadata": {},
     "output_type": "execute_result"
    }
   ],
   "source": [
    "list_exemple[1][1]"
   ]
  },
  {
   "cell_type": "markdown",
   "metadata": {},
   "source": [
    "### Complex number\n",
    "A complex value can be expressed in polar coordinates or rectangular coordinates :\n",
    "\n",
    "![Impedance](plot/impedance.png)"
   ]
  },
  {
   "cell_type": "code",
   "execution_count": 165,
   "metadata": {},
   "outputs": [],
   "source": [
    "# Rectangular\n",
    "R_real = 10\n",
    "X_imag = 5\n",
    "Z = R_real + 1j * X_imag\n",
    "# Polar\n",
    "Tension_Module = 10\n",
    "Phase_Angle = 45\n",
    "U = Tension_Module * np.exp(1j * Phase_Angle)"
   ]
  },
  {
   "cell_type": "markdown",
   "metadata": {},
   "source": [
    "But Python express complex number in rectangular coordinates :"
   ]
  },
  {
   "cell_type": "code",
   "execution_count": 166,
   "metadata": {},
   "outputs": [
    {
     "name": "stdout",
     "output_type": "stream",
     "text": [
      "Impedance =  (10+5j)\n",
      "Tension =  (5.253219888177298+8.509035245341185j)\n"
     ]
    }
   ],
   "source": [
    "print(\"Impedance = \", Z)\n",
    "print(\"Tension = \", U)"
   ]
  },
  {
   "cell_type": "markdown",
   "metadata": {},
   "source": [
    "## Manipulating NumPy array and Pandas dataframe"
   ]
  },
  {
   "cell_type": "markdown",
   "metadata": {},
   "source": [
    "For manipulating data, we can use two packages, they are similar but not exactly the same, here a small explanation of the differences [pd/np](https://www.geeksforgeeks.org/difference-between-pandas-vs-numpy/#:~:text=Difference%20between%20Pandas%20and%20Numpy)\n",
    "\n",
    "Pandas is based on NumPy and is usefull to manipulate data-structures (Tabular data) : numeric data (or not) and time series\n",
    "\n",
    "Numpy is the fundamental library of Python, it provides high-performance multidimensional arrays and tools to work with them, usefull to matrix and vector calculation."
   ]
  },
  {
   "cell_type": "markdown",
   "metadata": {},
   "source": [
    "### Numpy\n",
    "_array_ is like _list_ but faster, from NumPy library (continuous place in memory unlike _list_)\n",
    "\n",
    "Use _list_, _tuple_ or any _array-like_ to construct NumPy array"
   ]
  },
  {
   "cell_type": "code",
   "execution_count": 167,
   "metadata": {},
   "outputs": [
    {
     "name": "stdout",
     "output_type": "stream",
     "text": [
      "3\n",
      "[[[ 1  2  3]\n",
      "  [ 4  5  6]]\n",
      "\n",
      " [[ 7  8  9]\n",
      "  [10 11 12]]\n",
      "\n",
      " [[13 14 15]\n",
      "  [16 17 18]]]\n"
     ]
    }
   ],
   "source": [
    "# Create narray with list and multiple dimension\n",
    "array_list = np.array(\n",
    "    [\n",
    "        [[1, 2, 3], [4, 5, 6]],\n",
    "        [[7, 8, 9], [10, 11, 12]],\n",
    "        [[13, 14, 15], [16, 17, 18]],\n",
    "    ]\n",
    ")\n",
    "print(array_list.ndim)\n",
    "print(array_list)"
   ]
  },
  {
   "cell_type": "code",
   "execution_count": 168,
   "metadata": {},
   "outputs": [
    {
     "data": {
      "text/plain": [
       "array([13, 14, 15])"
      ]
     },
     "execution_count": 168,
     "metadata": {},
     "output_type": "execute_result"
    }
   ],
   "source": [
    "array_list[2][0]"
   ]
  },
  {
   "cell_type": "code",
   "execution_count": 169,
   "metadata": {},
   "outputs": [
    {
     "name": "stdout",
     "output_type": "stream",
     "text": [
      "[1900 1910 1920 1930 1940 1950 1960 1970 1980 1990 2000 2010 2020]\n",
      "3,297,641\n",
      "3,708,897\n",
      "3,870,407\n",
      "4,042,131\n",
      "4,233,223\n",
      "4,692,642\n",
      "5,327,776\n",
      "6,180,925\n",
      "6,319,848\n",
      "6,713,167\n",
      "7,184,003\n",
      "7,825,751\n",
      "8,640,582\n"
     ]
    }
   ],
   "source": [
    "# Time interval\n",
    "years = np.arange(1900, 2021, 10)\n",
    "print(years)\n",
    "\n",
    "# Population data for Switzerland\n",
    "pop = np.array(\n",
    "    [\n",
    "        3297641,\n",
    "        3708897,\n",
    "        3870407,\n",
    "        4042131,\n",
    "        4233223,\n",
    "        4692642,\n",
    "        5327776,\n",
    "        6180925,\n",
    "        6319848,\n",
    "        6713167,\n",
    "        7184003,\n",
    "        7825751,\n",
    "        8640582,\n",
    "    ]\n",
    ")\n",
    "\n",
    "\n",
    "## (just for information)\n",
    "# Convert each number to a string with thousand separators\n",
    "formatted_pop = np.array(list(map(lambda x: f\"{x:,}\", pop)))\n",
    "\n",
    "# Print the formatted population array verticaly\n",
    "print(\"\\n\".join(formatted_pop))"
   ]
  },
  {
   "cell_type": "markdown",
   "metadata": {},
   "source": [
    "Now I would like to visualize the population evolution that will change over time:"
   ]
  },
  {
   "cell_type": "code",
   "execution_count": 170,
   "metadata": {},
   "outputs": [
    {
     "data": {
      "application/vnd.plotly.v1+json": {
       "config": {
        "plotlyServerURL": "https://plot.ly"
       },
       "data": [
        {
         "hovertemplate": "Year=%{x}<br>Population=%{y}<extra></extra>",
         "legendgroup": "",
         "line": {
          "color": "#636efa",
          "dash": "solid"
         },
         "marker": {
          "symbol": "circle"
         },
         "mode": "lines",
         "name": "",
         "orientation": "v",
         "showlegend": false,
         "type": "scatter",
         "x": [
          1900,
          1910,
          1920,
          1930,
          1940,
          1950,
          1960,
          1970,
          1980,
          1990,
          2000,
          2010,
          2020
         ],
         "xaxis": "x",
         "y": [
          3297641,
          3708897,
          3870407,
          4042131,
          4233223,
          4692642,
          5327776,
          6180925,
          6319848,
          6713167,
          7184003,
          7825751,
          8640582
         ],
         "yaxis": "y"
        }
       ],
       "layout": {
        "coloraxis": {
         "showscale": false
        },
        "height": 500,
        "legend": {
         "tracegroupgap": 0
        },
        "margin": {
         "b": 60,
         "l": 60,
         "r": 60,
         "t": 60
        },
        "template": {
         "data": {
          "bar": [
           {
            "error_x": {
             "color": "#2a3f5f"
            },
            "error_y": {
             "color": "#2a3f5f"
            },
            "marker": {
             "line": {
              "color": "#E5ECF6",
              "width": 0.5
             },
             "pattern": {
              "fillmode": "overlay",
              "size": 10,
              "solidity": 0.2
             }
            },
            "type": "bar"
           }
          ],
          "barpolar": [
           {
            "marker": {
             "line": {
              "color": "#E5ECF6",
              "width": 0.5
             },
             "pattern": {
              "fillmode": "overlay",
              "size": 10,
              "solidity": 0.2
             }
            },
            "type": "barpolar"
           }
          ],
          "carpet": [
           {
            "aaxis": {
             "endlinecolor": "#2a3f5f",
             "gridcolor": "white",
             "linecolor": "white",
             "minorgridcolor": "white",
             "startlinecolor": "#2a3f5f"
            },
            "baxis": {
             "endlinecolor": "#2a3f5f",
             "gridcolor": "white",
             "linecolor": "white",
             "minorgridcolor": "white",
             "startlinecolor": "#2a3f5f"
            },
            "type": "carpet"
           }
          ],
          "choropleth": [
           {
            "colorbar": {
             "outlinewidth": 0,
             "ticks": ""
            },
            "type": "choropleth"
           }
          ],
          "contour": [
           {
            "colorbar": {
             "outlinewidth": 0,
             "ticks": ""
            },
            "colorscale": [
             [
              0,
              "#0d0887"
             ],
             [
              0.1111111111111111,
              "#46039f"
             ],
             [
              0.2222222222222222,
              "#7201a8"
             ],
             [
              0.3333333333333333,
              "#9c179e"
             ],
             [
              0.4444444444444444,
              "#bd3786"
             ],
             [
              0.5555555555555556,
              "#d8576b"
             ],
             [
              0.6666666666666666,
              "#ed7953"
             ],
             [
              0.7777777777777778,
              "#fb9f3a"
             ],
             [
              0.8888888888888888,
              "#fdca26"
             ],
             [
              1,
              "#f0f921"
             ]
            ],
            "type": "contour"
           }
          ],
          "contourcarpet": [
           {
            "colorbar": {
             "outlinewidth": 0,
             "ticks": ""
            },
            "type": "contourcarpet"
           }
          ],
          "heatmap": [
           {
            "colorbar": {
             "outlinewidth": 0,
             "ticks": ""
            },
            "colorscale": [
             [
              0,
              "#0d0887"
             ],
             [
              0.1111111111111111,
              "#46039f"
             ],
             [
              0.2222222222222222,
              "#7201a8"
             ],
             [
              0.3333333333333333,
              "#9c179e"
             ],
             [
              0.4444444444444444,
              "#bd3786"
             ],
             [
              0.5555555555555556,
              "#d8576b"
             ],
             [
              0.6666666666666666,
              "#ed7953"
             ],
             [
              0.7777777777777778,
              "#fb9f3a"
             ],
             [
              0.8888888888888888,
              "#fdca26"
             ],
             [
              1,
              "#f0f921"
             ]
            ],
            "type": "heatmap"
           }
          ],
          "heatmapgl": [
           {
            "colorbar": {
             "outlinewidth": 0,
             "ticks": ""
            },
            "colorscale": [
             [
              0,
              "#0d0887"
             ],
             [
              0.1111111111111111,
              "#46039f"
             ],
             [
              0.2222222222222222,
              "#7201a8"
             ],
             [
              0.3333333333333333,
              "#9c179e"
             ],
             [
              0.4444444444444444,
              "#bd3786"
             ],
             [
              0.5555555555555556,
              "#d8576b"
             ],
             [
              0.6666666666666666,
              "#ed7953"
             ],
             [
              0.7777777777777778,
              "#fb9f3a"
             ],
             [
              0.8888888888888888,
              "#fdca26"
             ],
             [
              1,
              "#f0f921"
             ]
            ],
            "type": "heatmapgl"
           }
          ],
          "histogram": [
           {
            "marker": {
             "pattern": {
              "fillmode": "overlay",
              "size": 10,
              "solidity": 0.2
             }
            },
            "type": "histogram"
           }
          ],
          "histogram2d": [
           {
            "colorbar": {
             "outlinewidth": 0,
             "ticks": ""
            },
            "colorscale": [
             [
              0,
              "#0d0887"
             ],
             [
              0.1111111111111111,
              "#46039f"
             ],
             [
              0.2222222222222222,
              "#7201a8"
             ],
             [
              0.3333333333333333,
              "#9c179e"
             ],
             [
              0.4444444444444444,
              "#bd3786"
             ],
             [
              0.5555555555555556,
              "#d8576b"
             ],
             [
              0.6666666666666666,
              "#ed7953"
             ],
             [
              0.7777777777777778,
              "#fb9f3a"
             ],
             [
              0.8888888888888888,
              "#fdca26"
             ],
             [
              1,
              "#f0f921"
             ]
            ],
            "type": "histogram2d"
           }
          ],
          "histogram2dcontour": [
           {
            "colorbar": {
             "outlinewidth": 0,
             "ticks": ""
            },
            "colorscale": [
             [
              0,
              "#0d0887"
             ],
             [
              0.1111111111111111,
              "#46039f"
             ],
             [
              0.2222222222222222,
              "#7201a8"
             ],
             [
              0.3333333333333333,
              "#9c179e"
             ],
             [
              0.4444444444444444,
              "#bd3786"
             ],
             [
              0.5555555555555556,
              "#d8576b"
             ],
             [
              0.6666666666666666,
              "#ed7953"
             ],
             [
              0.7777777777777778,
              "#fb9f3a"
             ],
             [
              0.8888888888888888,
              "#fdca26"
             ],
             [
              1,
              "#f0f921"
             ]
            ],
            "type": "histogram2dcontour"
           }
          ],
          "mesh3d": [
           {
            "colorbar": {
             "outlinewidth": 0,
             "ticks": ""
            },
            "type": "mesh3d"
           }
          ],
          "parcoords": [
           {
            "line": {
             "colorbar": {
              "outlinewidth": 0,
              "ticks": ""
             }
            },
            "type": "parcoords"
           }
          ],
          "pie": [
           {
            "automargin": true,
            "type": "pie"
           }
          ],
          "scatter": [
           {
            "fillpattern": {
             "fillmode": "overlay",
             "size": 10,
             "solidity": 0.2
            },
            "type": "scatter"
           }
          ],
          "scatter3d": [
           {
            "line": {
             "colorbar": {
              "outlinewidth": 0,
              "ticks": ""
             }
            },
            "marker": {
             "colorbar": {
              "outlinewidth": 0,
              "ticks": ""
             }
            },
            "type": "scatter3d"
           }
          ],
          "scattercarpet": [
           {
            "marker": {
             "colorbar": {
              "outlinewidth": 0,
              "ticks": ""
             }
            },
            "type": "scattercarpet"
           }
          ],
          "scattergeo": [
           {
            "marker": {
             "colorbar": {
              "outlinewidth": 0,
              "ticks": ""
             }
            },
            "type": "scattergeo"
           }
          ],
          "scattergl": [
           {
            "marker": {
             "colorbar": {
              "outlinewidth": 0,
              "ticks": ""
             }
            },
            "type": "scattergl"
           }
          ],
          "scattermapbox": [
           {
            "marker": {
             "colorbar": {
              "outlinewidth": 0,
              "ticks": ""
             }
            },
            "type": "scattermapbox"
           }
          ],
          "scatterpolar": [
           {
            "marker": {
             "colorbar": {
              "outlinewidth": 0,
              "ticks": ""
             }
            },
            "type": "scatterpolar"
           }
          ],
          "scatterpolargl": [
           {
            "marker": {
             "colorbar": {
              "outlinewidth": 0,
              "ticks": ""
             }
            },
            "type": "scatterpolargl"
           }
          ],
          "scatterternary": [
           {
            "marker": {
             "colorbar": {
              "outlinewidth": 0,
              "ticks": ""
             }
            },
            "type": "scatterternary"
           }
          ],
          "surface": [
           {
            "colorbar": {
             "outlinewidth": 0,
             "ticks": ""
            },
            "colorscale": [
             [
              0,
              "#0d0887"
             ],
             [
              0.1111111111111111,
              "#46039f"
             ],
             [
              0.2222222222222222,
              "#7201a8"
             ],
             [
              0.3333333333333333,
              "#9c179e"
             ],
             [
              0.4444444444444444,
              "#bd3786"
             ],
             [
              0.5555555555555556,
              "#d8576b"
             ],
             [
              0.6666666666666666,
              "#ed7953"
             ],
             [
              0.7777777777777778,
              "#fb9f3a"
             ],
             [
              0.8888888888888888,
              "#fdca26"
             ],
             [
              1,
              "#f0f921"
             ]
            ],
            "type": "surface"
           }
          ],
          "table": [
           {
            "cells": {
             "fill": {
              "color": "#EBF0F8"
             },
             "line": {
              "color": "white"
             }
            },
            "header": {
             "fill": {
              "color": "#C8D4E3"
             },
             "line": {
              "color": "white"
             }
            },
            "type": "table"
           }
          ]
         },
         "layout": {
          "annotationdefaults": {
           "arrowcolor": "#2a3f5f",
           "arrowhead": 0,
           "arrowwidth": 1
          },
          "autotypenumbers": "strict",
          "coloraxis": {
           "colorbar": {
            "outlinewidth": 0,
            "ticks": ""
           }
          },
          "colorscale": {
           "diverging": [
            [
             0,
             "#8e0152"
            ],
            [
             0.1,
             "#c51b7d"
            ],
            [
             0.2,
             "#de77ae"
            ],
            [
             0.3,
             "#f1b6da"
            ],
            [
             0.4,
             "#fde0ef"
            ],
            [
             0.5,
             "#f7f7f7"
            ],
            [
             0.6,
             "#e6f5d0"
            ],
            [
             0.7,
             "#b8e186"
            ],
            [
             0.8,
             "#7fbc41"
            ],
            [
             0.9,
             "#4d9221"
            ],
            [
             1,
             "#276419"
            ]
           ],
           "sequential": [
            [
             0,
             "#0d0887"
            ],
            [
             0.1111111111111111,
             "#46039f"
            ],
            [
             0.2222222222222222,
             "#7201a8"
            ],
            [
             0.3333333333333333,
             "#9c179e"
            ],
            [
             0.4444444444444444,
             "#bd3786"
            ],
            [
             0.5555555555555556,
             "#d8576b"
            ],
            [
             0.6666666666666666,
             "#ed7953"
            ],
            [
             0.7777777777777778,
             "#fb9f3a"
            ],
            [
             0.8888888888888888,
             "#fdca26"
            ],
            [
             1,
             "#f0f921"
            ]
           ],
           "sequentialminus": [
            [
             0,
             "#0d0887"
            ],
            [
             0.1111111111111111,
             "#46039f"
            ],
            [
             0.2222222222222222,
             "#7201a8"
            ],
            [
             0.3333333333333333,
             "#9c179e"
            ],
            [
             0.4444444444444444,
             "#bd3786"
            ],
            [
             0.5555555555555556,
             "#d8576b"
            ],
            [
             0.6666666666666666,
             "#ed7953"
            ],
            [
             0.7777777777777778,
             "#fb9f3a"
            ],
            [
             0.8888888888888888,
             "#fdca26"
            ],
            [
             1,
             "#f0f921"
            ]
           ]
          },
          "colorway": [
           "#636efa",
           "#EF553B",
           "#00cc96",
           "#ab63fa",
           "#FFA15A",
           "#19d3f3",
           "#FF6692",
           "#B6E880",
           "#FF97FF",
           "#FECB52"
          ],
          "font": {
           "color": "#2a3f5f"
          },
          "geo": {
           "bgcolor": "white",
           "lakecolor": "white",
           "landcolor": "#E5ECF6",
           "showlakes": true,
           "showland": true,
           "subunitcolor": "white"
          },
          "hoverlabel": {
           "align": "left"
          },
          "hovermode": "closest",
          "mapbox": {
           "style": "light"
          },
          "paper_bgcolor": "white",
          "plot_bgcolor": "#E5ECF6",
          "polar": {
           "angularaxis": {
            "gridcolor": "white",
            "linecolor": "white",
            "ticks": ""
           },
           "bgcolor": "#E5ECF6",
           "radialaxis": {
            "gridcolor": "white",
            "linecolor": "white",
            "ticks": ""
           }
          },
          "scene": {
           "xaxis": {
            "backgroundcolor": "#E5ECF6",
            "gridcolor": "white",
            "gridwidth": 2,
            "linecolor": "white",
            "showbackground": true,
            "ticks": "",
            "zerolinecolor": "white"
           },
           "yaxis": {
            "backgroundcolor": "#E5ECF6",
            "gridcolor": "white",
            "gridwidth": 2,
            "linecolor": "white",
            "showbackground": true,
            "ticks": "",
            "zerolinecolor": "white"
           },
           "zaxis": {
            "backgroundcolor": "#E5ECF6",
            "gridcolor": "white",
            "gridwidth": 2,
            "linecolor": "white",
            "showbackground": true,
            "ticks": "",
            "zerolinecolor": "white"
           }
          },
          "shapedefaults": {
           "line": {
            "color": "#2a3f5f"
           }
          },
          "ternary": {
           "aaxis": {
            "gridcolor": "white",
            "linecolor": "white",
            "ticks": ""
           },
           "baxis": {
            "gridcolor": "white",
            "linecolor": "white",
            "ticks": ""
           },
           "bgcolor": "#E5ECF6",
           "caxis": {
            "gridcolor": "white",
            "linecolor": "white",
            "ticks": ""
           }
          },
          "title": {
           "x": 0.05
          },
          "xaxis": {
           "automargin": true,
           "gridcolor": "white",
           "linecolor": "white",
           "ticks": "",
           "title": {
            "standoff": 15
           },
           "zerolinecolor": "white",
           "zerolinewidth": 2
          },
          "yaxis": {
           "automargin": true,
           "gridcolor": "white",
           "linecolor": "white",
           "ticks": "",
           "title": {
            "standoff": 15
           },
           "zerolinecolor": "white",
           "zerolinewidth": 2
          }
         }
        },
        "title": {
         "text": "Population Evolution of Switzerland"
        },
        "width": 800,
        "xaxis": {
         "anchor": "y",
         "domain": [
          0,
          1
         ],
         "title": {
          "text": "Year"
         }
        },
        "yaxis": {
         "anchor": "x",
         "domain": [
          0,
          1
         ],
         "title": {
          "text": "Population"
         }
        }
       }
      },
      "text/html": [
       "<div>                            <div id=\"c77ac38a-ec7a-4d00-a84c-ea507c8a3262\" class=\"plotly-graph-div\" style=\"height:500px; width:800px;\"></div>            <script type=\"text/javascript\">                require([\"plotly\"], function(Plotly) {                    window.PLOTLYENV=window.PLOTLYENV || {};                                    if (document.getElementById(\"c77ac38a-ec7a-4d00-a84c-ea507c8a3262\")) {                    Plotly.newPlot(                        \"c77ac38a-ec7a-4d00-a84c-ea507c8a3262\",                        [{\"hovertemplate\":\"Year=%{x}\\u003cbr\\u003ePopulation=%{y}\\u003cextra\\u003e\\u003c\\u002fextra\\u003e\",\"legendgroup\":\"\",\"line\":{\"color\":\"#636efa\",\"dash\":\"solid\"},\"marker\":{\"symbol\":\"circle\"},\"mode\":\"lines\",\"name\":\"\",\"orientation\":\"v\",\"showlegend\":false,\"x\":[1900,1910,1920,1930,1940,1950,1960,1970,1980,1990,2000,2010,2020],\"xaxis\":\"x\",\"y\":[3297641,3708897,3870407,4042131,4233223,4692642,5327776,6180925,6319848,6713167,7184003,7825751,8640582],\"yaxis\":\"y\",\"type\":\"scatter\"}],                        {\"template\":{\"data\":{\"histogram2dcontour\":[{\"type\":\"histogram2dcontour\",\"colorbar\":{\"outlinewidth\":0,\"ticks\":\"\"},\"colorscale\":[[0.0,\"#0d0887\"],[0.1111111111111111,\"#46039f\"],[0.2222222222222222,\"#7201a8\"],[0.3333333333333333,\"#9c179e\"],[0.4444444444444444,\"#bd3786\"],[0.5555555555555556,\"#d8576b\"],[0.6666666666666666,\"#ed7953\"],[0.7777777777777778,\"#fb9f3a\"],[0.8888888888888888,\"#fdca26\"],[1.0,\"#f0f921\"]]}],\"choropleth\":[{\"type\":\"choropleth\",\"colorbar\":{\"outlinewidth\":0,\"ticks\":\"\"}}],\"histogram2d\":[{\"type\":\"histogram2d\",\"colorbar\":{\"outlinewidth\":0,\"ticks\":\"\"},\"colorscale\":[[0.0,\"#0d0887\"],[0.1111111111111111,\"#46039f\"],[0.2222222222222222,\"#7201a8\"],[0.3333333333333333,\"#9c179e\"],[0.4444444444444444,\"#bd3786\"],[0.5555555555555556,\"#d8576b\"],[0.6666666666666666,\"#ed7953\"],[0.7777777777777778,\"#fb9f3a\"],[0.8888888888888888,\"#fdca26\"],[1.0,\"#f0f921\"]]}],\"heatmap\":[{\"type\":\"heatmap\",\"colorbar\":{\"outlinewidth\":0,\"ticks\":\"\"},\"colorscale\":[[0.0,\"#0d0887\"],[0.1111111111111111,\"#46039f\"],[0.2222222222222222,\"#7201a8\"],[0.3333333333333333,\"#9c179e\"],[0.4444444444444444,\"#bd3786\"],[0.5555555555555556,\"#d8576b\"],[0.6666666666666666,\"#ed7953\"],[0.7777777777777778,\"#fb9f3a\"],[0.8888888888888888,\"#fdca26\"],[1.0,\"#f0f921\"]]}],\"heatmapgl\":[{\"type\":\"heatmapgl\",\"colorbar\":{\"outlinewidth\":0,\"ticks\":\"\"},\"colorscale\":[[0.0,\"#0d0887\"],[0.1111111111111111,\"#46039f\"],[0.2222222222222222,\"#7201a8\"],[0.3333333333333333,\"#9c179e\"],[0.4444444444444444,\"#bd3786\"],[0.5555555555555556,\"#d8576b\"],[0.6666666666666666,\"#ed7953\"],[0.7777777777777778,\"#fb9f3a\"],[0.8888888888888888,\"#fdca26\"],[1.0,\"#f0f921\"]]}],\"contourcarpet\":[{\"type\":\"contourcarpet\",\"colorbar\":{\"outlinewidth\":0,\"ticks\":\"\"}}],\"contour\":[{\"type\":\"contour\",\"colorbar\":{\"outlinewidth\":0,\"ticks\":\"\"},\"colorscale\":[[0.0,\"#0d0887\"],[0.1111111111111111,\"#46039f\"],[0.2222222222222222,\"#7201a8\"],[0.3333333333333333,\"#9c179e\"],[0.4444444444444444,\"#bd3786\"],[0.5555555555555556,\"#d8576b\"],[0.6666666666666666,\"#ed7953\"],[0.7777777777777778,\"#fb9f3a\"],[0.8888888888888888,\"#fdca26\"],[1.0,\"#f0f921\"]]}],\"surface\":[{\"type\":\"surface\",\"colorbar\":{\"outlinewidth\":0,\"ticks\":\"\"},\"colorscale\":[[0.0,\"#0d0887\"],[0.1111111111111111,\"#46039f\"],[0.2222222222222222,\"#7201a8\"],[0.3333333333333333,\"#9c179e\"],[0.4444444444444444,\"#bd3786\"],[0.5555555555555556,\"#d8576b\"],[0.6666666666666666,\"#ed7953\"],[0.7777777777777778,\"#fb9f3a\"],[0.8888888888888888,\"#fdca26\"],[1.0,\"#f0f921\"]]}],\"mesh3d\":[{\"type\":\"mesh3d\",\"colorbar\":{\"outlinewidth\":0,\"ticks\":\"\"}}],\"scatter\":[{\"fillpattern\":{\"fillmode\":\"overlay\",\"size\":10,\"solidity\":0.2},\"type\":\"scatter\"}],\"parcoords\":[{\"type\":\"parcoords\",\"line\":{\"colorbar\":{\"outlinewidth\":0,\"ticks\":\"\"}}}],\"scatterpolargl\":[{\"type\":\"scatterpolargl\",\"marker\":{\"colorbar\":{\"outlinewidth\":0,\"ticks\":\"\"}}}],\"bar\":[{\"error_x\":{\"color\":\"#2a3f5f\"},\"error_y\":{\"color\":\"#2a3f5f\"},\"marker\":{\"line\":{\"color\":\"#E5ECF6\",\"width\":0.5},\"pattern\":{\"fillmode\":\"overlay\",\"size\":10,\"solidity\":0.2}},\"type\":\"bar\"}],\"scattergeo\":[{\"type\":\"scattergeo\",\"marker\":{\"colorbar\":{\"outlinewidth\":0,\"ticks\":\"\"}}}],\"scatterpolar\":[{\"type\":\"scatterpolar\",\"marker\":{\"colorbar\":{\"outlinewidth\":0,\"ticks\":\"\"}}}],\"histogram\":[{\"marker\":{\"pattern\":{\"fillmode\":\"overlay\",\"size\":10,\"solidity\":0.2}},\"type\":\"histogram\"}],\"scattergl\":[{\"type\":\"scattergl\",\"marker\":{\"colorbar\":{\"outlinewidth\":0,\"ticks\":\"\"}}}],\"scatter3d\":[{\"type\":\"scatter3d\",\"line\":{\"colorbar\":{\"outlinewidth\":0,\"ticks\":\"\"}},\"marker\":{\"colorbar\":{\"outlinewidth\":0,\"ticks\":\"\"}}}],\"scattermapbox\":[{\"type\":\"scattermapbox\",\"marker\":{\"colorbar\":{\"outlinewidth\":0,\"ticks\":\"\"}}}],\"scatterternary\":[{\"type\":\"scatterternary\",\"marker\":{\"colorbar\":{\"outlinewidth\":0,\"ticks\":\"\"}}}],\"scattercarpet\":[{\"type\":\"scattercarpet\",\"marker\":{\"colorbar\":{\"outlinewidth\":0,\"ticks\":\"\"}}}],\"carpet\":[{\"aaxis\":{\"endlinecolor\":\"#2a3f5f\",\"gridcolor\":\"white\",\"linecolor\":\"white\",\"minorgridcolor\":\"white\",\"startlinecolor\":\"#2a3f5f\"},\"baxis\":{\"endlinecolor\":\"#2a3f5f\",\"gridcolor\":\"white\",\"linecolor\":\"white\",\"minorgridcolor\":\"white\",\"startlinecolor\":\"#2a3f5f\"},\"type\":\"carpet\"}],\"table\":[{\"cells\":{\"fill\":{\"color\":\"#EBF0F8\"},\"line\":{\"color\":\"white\"}},\"header\":{\"fill\":{\"color\":\"#C8D4E3\"},\"line\":{\"color\":\"white\"}},\"type\":\"table\"}],\"barpolar\":[{\"marker\":{\"line\":{\"color\":\"#E5ECF6\",\"width\":0.5},\"pattern\":{\"fillmode\":\"overlay\",\"size\":10,\"solidity\":0.2}},\"type\":\"barpolar\"}],\"pie\":[{\"automargin\":true,\"type\":\"pie\"}]},\"layout\":{\"autotypenumbers\":\"strict\",\"colorway\":[\"#636efa\",\"#EF553B\",\"#00cc96\",\"#ab63fa\",\"#FFA15A\",\"#19d3f3\",\"#FF6692\",\"#B6E880\",\"#FF97FF\",\"#FECB52\"],\"font\":{\"color\":\"#2a3f5f\"},\"hovermode\":\"closest\",\"hoverlabel\":{\"align\":\"left\"},\"paper_bgcolor\":\"white\",\"plot_bgcolor\":\"#E5ECF6\",\"polar\":{\"bgcolor\":\"#E5ECF6\",\"angularaxis\":{\"gridcolor\":\"white\",\"linecolor\":\"white\",\"ticks\":\"\"},\"radialaxis\":{\"gridcolor\":\"white\",\"linecolor\":\"white\",\"ticks\":\"\"}},\"ternary\":{\"bgcolor\":\"#E5ECF6\",\"aaxis\":{\"gridcolor\":\"white\",\"linecolor\":\"white\",\"ticks\":\"\"},\"baxis\":{\"gridcolor\":\"white\",\"linecolor\":\"white\",\"ticks\":\"\"},\"caxis\":{\"gridcolor\":\"white\",\"linecolor\":\"white\",\"ticks\":\"\"}},\"coloraxis\":{\"colorbar\":{\"outlinewidth\":0,\"ticks\":\"\"}},\"colorscale\":{\"sequential\":[[0.0,\"#0d0887\"],[0.1111111111111111,\"#46039f\"],[0.2222222222222222,\"#7201a8\"],[0.3333333333333333,\"#9c179e\"],[0.4444444444444444,\"#bd3786\"],[0.5555555555555556,\"#d8576b\"],[0.6666666666666666,\"#ed7953\"],[0.7777777777777778,\"#fb9f3a\"],[0.8888888888888888,\"#fdca26\"],[1.0,\"#f0f921\"]],\"sequentialminus\":[[0.0,\"#0d0887\"],[0.1111111111111111,\"#46039f\"],[0.2222222222222222,\"#7201a8\"],[0.3333333333333333,\"#9c179e\"],[0.4444444444444444,\"#bd3786\"],[0.5555555555555556,\"#d8576b\"],[0.6666666666666666,\"#ed7953\"],[0.7777777777777778,\"#fb9f3a\"],[0.8888888888888888,\"#fdca26\"],[1.0,\"#f0f921\"]],\"diverging\":[[0,\"#8e0152\"],[0.1,\"#c51b7d\"],[0.2,\"#de77ae\"],[0.3,\"#f1b6da\"],[0.4,\"#fde0ef\"],[0.5,\"#f7f7f7\"],[0.6,\"#e6f5d0\"],[0.7,\"#b8e186\"],[0.8,\"#7fbc41\"],[0.9,\"#4d9221\"],[1,\"#276419\"]]},\"xaxis\":{\"gridcolor\":\"white\",\"linecolor\":\"white\",\"ticks\":\"\",\"title\":{\"standoff\":15},\"zerolinecolor\":\"white\",\"automargin\":true,\"zerolinewidth\":2},\"yaxis\":{\"gridcolor\":\"white\",\"linecolor\":\"white\",\"ticks\":\"\",\"title\":{\"standoff\":15},\"zerolinecolor\":\"white\",\"automargin\":true,\"zerolinewidth\":2},\"scene\":{\"xaxis\":{\"backgroundcolor\":\"#E5ECF6\",\"gridcolor\":\"white\",\"linecolor\":\"white\",\"showbackground\":true,\"ticks\":\"\",\"zerolinecolor\":\"white\",\"gridwidth\":2},\"yaxis\":{\"backgroundcolor\":\"#E5ECF6\",\"gridcolor\":\"white\",\"linecolor\":\"white\",\"showbackground\":true,\"ticks\":\"\",\"zerolinecolor\":\"white\",\"gridwidth\":2},\"zaxis\":{\"backgroundcolor\":\"#E5ECF6\",\"gridcolor\":\"white\",\"linecolor\":\"white\",\"showbackground\":true,\"ticks\":\"\",\"zerolinecolor\":\"white\",\"gridwidth\":2}},\"shapedefaults\":{\"line\":{\"color\":\"#2a3f5f\"}},\"annotationdefaults\":{\"arrowcolor\":\"#2a3f5f\",\"arrowhead\":0,\"arrowwidth\":1},\"geo\":{\"bgcolor\":\"white\",\"landcolor\":\"#E5ECF6\",\"subunitcolor\":\"white\",\"showland\":true,\"showlakes\":true,\"lakecolor\":\"white\"},\"title\":{\"x\":0.05},\"mapbox\":{\"style\":\"light\"}}},\"xaxis\":{\"anchor\":\"y\",\"domain\":[0.0,1.0],\"title\":{\"text\":\"Year\"}},\"yaxis\":{\"anchor\":\"x\",\"domain\":[0.0,1.0],\"title\":{\"text\":\"Population\"}},\"legend\":{\"tracegroupgap\":0},\"title\":{\"text\":\"Population Evolution of Switzerland\"},\"margin\":{\"l\":60,\"r\":60,\"t\":60,\"b\":60},\"coloraxis\":{\"showscale\":false},\"width\":800,\"height\":500},                        {\"responsive\": true}                    ).then(function(){\n",
       "                            \n",
       "var gd = document.getElementById('c77ac38a-ec7a-4d00-a84c-ea507c8a3262');\n",
       "var x = new MutationObserver(function (mutations, observer) {{\n",
       "        var display = window.getComputedStyle(gd).display;\n",
       "        if (!display || display === 'none') {{\n",
       "            console.log([gd, 'removed!']);\n",
       "            Plotly.purge(gd);\n",
       "            observer.disconnect();\n",
       "        }}\n",
       "}});\n",
       "\n",
       "// Listen for the removal of the full notebook cells\n",
       "var notebookContainer = gd.closest('#notebook-container');\n",
       "if (notebookContainer) {{\n",
       "    x.observe(notebookContainer, {childList: true});\n",
       "}}\n",
       "\n",
       "// Listen for the clearing of the current output cell\n",
       "var outputEl = gd.closest('.output');\n",
       "if (outputEl) {{\n",
       "    x.observe(outputEl, {childList: true});\n",
       "}}\n",
       "\n",
       "                        })                };                });            </script>        </div>"
      ]
     },
     "metadata": {},
     "output_type": "display_data"
    }
   ],
   "source": [
    "# Create a DataFrame\n",
    "df = pd.DataFrame({\"Year\": years, \"Population\": pop})\n",
    "\n",
    "# Create a line plot\n",
    "fig = px.line(\n",
    "    df,\n",
    "    x=\"Year\",\n",
    "    y=\"Population\",\n",
    "    title=\"Population Evolution of Switzerland\",\n",
    "    labels={\"Population\": \"Population\", \"Year\": \"Year\"},\n",
    ")\n",
    "\n",
    "# To format and save figures\n",
    "fig.update_layout(\n",
    "    margin=dict(l=60, r=60, t=60, b=60),\n",
    "    coloraxis_showscale=False,  # Remove the color bar\n",
    "    width=800,  # Width of the figure in pixels\n",
    "    height=500,  # Height of the figure in pixels\n",
    ")\n",
    "\n",
    "# Show the plot\n",
    "fig.show()"
   ]
  },
  {
   "cell_type": "markdown",
   "metadata": {},
   "source": [
    "### Dataframe\n",
    "A dataframe (df) contain a dictionary, it's a list of values linked to keys. The size of the df is define by the number of values (row) and keys (columns).\n",
    "\n",
    "When a df is created, an index is autocreate if we don't specify one, it contain a list from 0 to n-1 (n = number of values)."
   ]
  },
  {
   "cell_type": "code",
   "execution_count": 171,
   "metadata": {},
   "outputs": [],
   "source": [
    "exemple_of_dictionnary = {\n",
    "    \"key 1\": [1, 2, 3, 4, 5],\n",
    "    \"key 2\": [1, 2, 3, 4, 5],\n",
    "    \"key 3\": 3,\n",
    "    \"key 4\": [\"a\", \"b\", \"c\", \"D\", \"E\"],\n",
    "}\n",
    "pd_exemple = pd.DataFrame(exemple_of_dictionnary)\n",
    "##Add a column\n",
    "pd_exemple[\"year\"] = [\n",
    "    2010,\n",
    "    2011,\n",
    "    2012,\n",
    "    2013,\n",
    "    2014,\n",
    "]\n",
    "\n",
    "##Change a column to index\n",
    "pd_exemple_2 = pd_exemple.set_index(\"year\")"
   ]
  },
  {
   "cell_type": "code",
   "execution_count": 172,
   "metadata": {},
   "outputs": [
    {
     "name": "stdout",
     "output_type": "stream",
     "text": [
      "Base index :\n",
      "    key 1  key 2  key 3 key 4  year\n",
      "0      1      1      3     a  2010\n",
      "1      2      2      3     b  2011\n",
      "2      3      3      3     c  2012\n",
      "3      4      4      3     D  2013\n",
      "4      5      5      3     E  2014\n",
      "Custom index :\n",
      "       key 1  key 2  key 3 key 4\n",
      "year                           \n",
      "2010      1      1      3     a\n",
      "2011      2      2      3     b\n",
      "2012      3      3      3     c\n",
      "2013      4      4      3     D\n",
      "2014      5      5      3     E\n"
     ]
    }
   ],
   "source": [
    "print(\"Base index :\\n\", pd_exemple)\n",
    "print(\"Custom index :\\n\", pd_exemple_2)"
   ]
  },
  {
   "cell_type": "markdown",
   "metadata": {},
   "source": [
    "> **Note** In a df, each column is a series. A series is a one-dimensional array containing data of any type."
   ]
  },
  {
   "cell_type": "code",
   "execution_count": 173,
   "metadata": {},
   "outputs": [
    {
     "data": {
      "text/plain": [
       "pandas.core.series.Series"
      ]
     },
     "execution_count": 173,
     "metadata": {},
     "output_type": "execute_result"
    }
   ],
   "source": [
    "type(pd_exemple[\"year\"])"
   ]
  },
  {
   "cell_type": "markdown",
   "metadata": {},
   "source": [
    "#### Access to dataframe values "
   ]
  },
  {
   "cell_type": "markdown",
   "metadata": {},
   "source": [
    "##### Access to the column value(s) :\n"
   ]
  },
  {
   "cell_type": "markdown",
   "metadata": {},
   "source": [
    "\n",
    "The two methodes :\n",
    "\n",
    "Dot Notation (`.column_name`)\n",
    "- **Syntax**: `dataframe.column_name`\n",
    "- **Usage**: This is a shorthand for accessing columns.\n",
    "- **Limitations**:\n",
    "  - The column name must be a valid Python identifier (e.g., no spaces, special characters, or starting with a number).\n",
    "  - It can lead to ambiguity if the column name conflicts with DataFrame methods or attributes.\n",
    "Bracket Notation (`[\"column_name\"]`)\n",
    "- **Syntax**: `dataframe[\"column_name\"]`\n",
    "- **Usage**: This is the more flexible and recommended way to access columns.\n",
    "- **Advantages**:\n",
    "  - Can handle column names with spaces, special characters, or names that are not valid Python identifiers.\n",
    "  - Avoids conflicts with DataFrame methods or attributes."
   ]
  },
  {
   "cell_type": "markdown",
   "metadata": {},
   "source": [
    "<details>\n",
    "<summary>Name column problem</summary>\n",
    "\n",
    "The method to access a column use the name of the column, and sometimes the name contain space. \n",
    "\n",
    "In this case, the first method can't work, this [link](https://saturncloud.io/blog/how-to-access-pandas-columns-with-spaces-in-column-names/) explain the problem.\n",
    "\n",
    "</details>"
   ]
  },
  {
   "cell_type": "code",
   "execution_count": 174,
   "metadata": {},
   "outputs": [
    {
     "name": "stdout",
     "output_type": "stream",
     "text": [
      "Access to column:\n",
      " 0    1\n",
      "1    2\n",
      "2    3\n",
      "3    4\n",
      "4    5\n",
      "Name: key 1, dtype: int64\n",
      "Access to column:\n",
      " year\n",
      "2010    1\n",
      "2011    2\n",
      "2012    3\n",
      "2013    4\n",
      "2014    5\n",
      "Name: key 1, dtype: int64\n",
      "Access to column other methode:\n",
      " 0    2010\n",
      "1    2011\n",
      "2    2012\n",
      "3    2013\n",
      "4    2014\n",
      "Name: year, dtype: int64\n",
      "Access to multiple columns:\n",
      "    key 1  key 3\n",
      "0      1      3\n",
      "1      2      3\n",
      "2      3      3\n",
      "3      4      3\n",
      "4      5      3\n"
     ]
    }
   ],
   "source": [
    "print(\"Access to column:\\n\", pd_exemple[\"key 1\"])\n",
    "print(\"Access to column:\\n\", pd_exemple_2[\"key 1\"])\n",
    "print(\"Access to column other methode:\\n\", pd_exemple.year)\n",
    "print(\"Access to multiple columns:\\n\", pd_exemple[[\"key 1\", \"key 3\"]])"
   ]
  },
  {
   "cell_type": "markdown",
   "metadata": {},
   "source": [
    "##### Access the row value(s) :"
   ]
  },
  {
   "cell_type": "markdown",
   "metadata": {},
   "source": [
    "The `.loc` and `.iloc` methods in Pandas are used for accessing and manipulating data in DataFrames, but they differ in how they select data.\n",
    "\n",
    "- ``.loc``: Use when you want to select data by labels.\n",
    "- `.iloc`: Use when you want to select data by integer positions.\n",
    "\n",
    "To use `loc`, we create a series of boolean value that we passe to the function, this series is construct by the equality operator `==`, we check, p.ex. a column with a value.\n",
    "\n",
    "And for `iloc`, we just pass an integer who correspond to the index position. \n",
    "\n",
    "More selection possibility for [loc](https://pandas.pydata.org/docs/reference/api/pandas.DataFrame.loc.html) and [iloc](https://pandas.pydata.org/docs/reference/api/pandas.DataFrame.iloc.html)."
   ]
  },
  {
   "cell_type": "code",
   "execution_count": 175,
   "metadata": {},
   "outputs": [
    {
     "name": "stdout",
     "output_type": "stream",
     "text": [
      "Index access to row:\n",
      " key 1       1\n",
      "key 2       1\n",
      "key 3       3\n",
      "key 4       a\n",
      "year     2010\n",
      "Name: 0, dtype: object\n",
      "Index access to row:\n",
      " key 1    1\n",
      "key 2    1\n",
      "key 3    3\n",
      "key 4    a\n",
      "Name: 2010, dtype: object\n",
      "Access to specific element\n",
      "       key 1  key 2  key 3 key 4\n",
      "year                           \n",
      "2013      4      4      3     D\n",
      "Index access to multiple row:\n",
      "       key 1  key 2  key 3 key 4\n",
      "year                           \n",
      "2010      1      1      3     a\n",
      "2011      2      2      3     b\n",
      "2012      3      3      3     c\n"
     ]
    }
   ],
   "source": [
    "print(\"Index access to row:\\n\", pd_exemple.loc[0])\n",
    "print(\"Index access to row:\\n\", pd_exemple_2.loc[2010])\n",
    "print(\"Access to specific element\\n\", pd_exemple_2.loc[pd_exemple_2[\"key 4\"] == \"D\"])\n",
    "print(\"Index access to multiple row:\\n\", pd_exemple_2.loc[2010:2012])"
   ]
  },
  {
   "cell_type": "markdown",
   "metadata": {},
   "source": [
    "## Use external data files like csv"
   ]
  },
  {
   "cell_type": "markdown",
   "metadata": {},
   "source": [
    "Now I would like to use the same value but from a csv file, and only save the value from Switzerland, not for all the countries. Also charging the electricity values."
   ]
  },
  {
   "cell_type": "code",
   "execution_count": 176,
   "metadata": {},
   "outputs": [
    {
     "name": "stdout",
     "output_type": "stream",
     "text": [
      "We are here /home/thierryfra/github/pro/rht\n",
      "We are here /home/thierryfra/github/pro/rht/tutorials\n"
     ]
    }
   ],
   "source": [
    "# Go to the good workplace folder\n",
    "# os.chdir(\"..\")\n",
    "os.chdir(os.getcwd().replace(\"/tutorials\", \"\"))\n",
    "print(\"We are here\", os.getcwd())\n",
    "os.chdir(\"tutorials\")\n",
    "print(\"We are here\", os.getcwd())"
   ]
  },
  {
   "cell_type": "code",
   "execution_count": 177,
   "metadata": {},
   "outputs": [],
   "source": [
    "# Load data from our world in data\n",
    "\n",
    "df_population = pd.read_csv(\"data/population-and-demography.csv\", sep=\",\")\n",
    "df_electricity_generation = pd.read_csv(\"data/electricity-generation.csv\", sep=\",\")\n",
    "# Take only swiss data = row selection\n",
    "df_swiss_population = df_population.loc[df_population[\"Entity\"] == \"Switzerland\"]\n",
    "df_swiss_electricity_generation = df_electricity_generation.loc[\n",
    "    df_electricity_generation[\"Entity\"] == \"Switzerland\"\n",
    "]"
   ]
  },
  {
   "cell_type": "markdown",
   "metadata": {},
   "source": [
    "The first thing when we create a dataframe from csv file or other sources, is to check the data :"
   ]
  },
  {
   "cell_type": "code",
   "execution_count": 178,
   "metadata": {},
   "outputs": [
    {
     "name": "stdout",
     "output_type": "stream",
     "text": [
      "<class 'pandas.core.frame.DataFrame'>\n",
      "Index: 74 entries, 16428 to 16501\n",
      "Data columns (total 4 columns):\n",
      " #   Column                                                 Non-Null Count  Dtype \n",
      "---  ------                                                 --------------  ----- \n",
      " 0   Entity                                                 74 non-null     object\n",
      " 1   Code                                                   74 non-null     object\n",
      " 2   Year                                                   74 non-null     int64 \n",
      " 3   Population - Sex: all - Age: all - Variant: estimates  74 non-null     int64 \n",
      "dtypes: int64(2), object(2)\n",
      "memory usage: 2.9+ KB\n"
     ]
    }
   ],
   "source": [
    "df_swiss_population.info()"
   ]
  },
  {
   "cell_type": "code",
   "execution_count": 179,
   "metadata": {},
   "outputs": [
    {
     "data": {
      "text/html": [
       "<div>\n",
       "<style scoped>\n",
       "    .dataframe tbody tr th:only-of-type {\n",
       "        vertical-align: middle;\n",
       "    }\n",
       "\n",
       "    .dataframe tbody tr th {\n",
       "        vertical-align: top;\n",
       "    }\n",
       "\n",
       "    .dataframe thead th {\n",
       "        text-align: right;\n",
       "    }\n",
       "</style>\n",
       "<table border=\"1\" class=\"dataframe\">\n",
       "  <thead>\n",
       "    <tr style=\"text-align: right;\">\n",
       "      <th></th>\n",
       "      <th>Entity</th>\n",
       "      <th>Code</th>\n",
       "      <th>Year</th>\n",
       "      <th>Population - Sex: all - Age: all - Variant: estimates</th>\n",
       "    </tr>\n",
       "  </thead>\n",
       "  <tbody>\n",
       "    <tr>\n",
       "      <th>16428</th>\n",
       "      <td>Switzerland</td>\n",
       "      <td>CHE</td>\n",
       "      <td>1950</td>\n",
       "      <td>4692642</td>\n",
       "    </tr>\n",
       "    <tr>\n",
       "      <th>16429</th>\n",
       "      <td>Switzerland</td>\n",
       "      <td>CHE</td>\n",
       "      <td>1951</td>\n",
       "      <td>4748088</td>\n",
       "    </tr>\n",
       "    <tr>\n",
       "      <th>16430</th>\n",
       "      <td>Switzerland</td>\n",
       "      <td>CHE</td>\n",
       "      <td>1952</td>\n",
       "      <td>4811614</td>\n",
       "    </tr>\n",
       "    <tr>\n",
       "      <th>16431</th>\n",
       "      <td>Switzerland</td>\n",
       "      <td>CHE</td>\n",
       "      <td>1953</td>\n",
       "      <td>4875655</td>\n",
       "    </tr>\n",
       "    <tr>\n",
       "      <th>16432</th>\n",
       "      <td>Switzerland</td>\n",
       "      <td>CHE</td>\n",
       "      <td>1954</td>\n",
       "      <td>4938751</td>\n",
       "    </tr>\n",
       "    <tr>\n",
       "      <th>16433</th>\n",
       "      <td>Switzerland</td>\n",
       "      <td>CHE</td>\n",
       "      <td>1955</td>\n",
       "      <td>5002116</td>\n",
       "    </tr>\n",
       "    <tr>\n",
       "      <th>16434</th>\n",
       "      <td>Switzerland</td>\n",
       "      <td>CHE</td>\n",
       "      <td>1956</td>\n",
       "      <td>5065626</td>\n",
       "    </tr>\n",
       "    <tr>\n",
       "      <th>16435</th>\n",
       "      <td>Switzerland</td>\n",
       "      <td>CHE</td>\n",
       "      <td>1957</td>\n",
       "      <td>5130170</td>\n",
       "    </tr>\n",
       "    <tr>\n",
       "      <th>16436</th>\n",
       "      <td>Switzerland</td>\n",
       "      <td>CHE</td>\n",
       "      <td>1958</td>\n",
       "      <td>5196449</td>\n",
       "    </tr>\n",
       "    <tr>\n",
       "      <th>16437</th>\n",
       "      <td>Switzerland</td>\n",
       "      <td>CHE</td>\n",
       "      <td>1959</td>\n",
       "      <td>5262809</td>\n",
       "    </tr>\n",
       "    <tr>\n",
       "      <th>16438</th>\n",
       "      <td>Switzerland</td>\n",
       "      <td>CHE</td>\n",
       "      <td>1960</td>\n",
       "      <td>5327776</td>\n",
       "    </tr>\n",
       "    <tr>\n",
       "      <th>16439</th>\n",
       "      <td>Switzerland</td>\n",
       "      <td>CHE</td>\n",
       "      <td>1961</td>\n",
       "      <td>5434125</td>\n",
       "    </tr>\n",
       "    <tr>\n",
       "      <th>16440</th>\n",
       "      <td>Switzerland</td>\n",
       "      <td>CHE</td>\n",
       "      <td>1962</td>\n",
       "      <td>5573701</td>\n",
       "    </tr>\n",
       "    <tr>\n",
       "      <th>16441</th>\n",
       "      <td>Switzerland</td>\n",
       "      <td>CHE</td>\n",
       "      <td>1963</td>\n",
       "      <td>5694162</td>\n",
       "    </tr>\n",
       "    <tr>\n",
       "      <th>16442</th>\n",
       "      <td>Switzerland</td>\n",
       "      <td>CHE</td>\n",
       "      <td>1964</td>\n",
       "      <td>5789156</td>\n",
       "    </tr>\n",
       "    <tr>\n",
       "      <th>16443</th>\n",
       "      <td>Switzerland</td>\n",
       "      <td>CHE</td>\n",
       "      <td>1965</td>\n",
       "      <td>5856417</td>\n",
       "    </tr>\n",
       "    <tr>\n",
       "      <th>16444</th>\n",
       "      <td>Switzerland</td>\n",
       "      <td>CHE</td>\n",
       "      <td>1966</td>\n",
       "      <td>5917969</td>\n",
       "    </tr>\n",
       "    <tr>\n",
       "      <th>16445</th>\n",
       "      <td>Switzerland</td>\n",
       "      <td>CHE</td>\n",
       "      <td>1967</td>\n",
       "      <td>5991734</td>\n",
       "    </tr>\n",
       "    <tr>\n",
       "      <th>16446</th>\n",
       "      <td>Switzerland</td>\n",
       "      <td>CHE</td>\n",
       "      <td>1968</td>\n",
       "      <td>6067659</td>\n",
       "    </tr>\n",
       "    <tr>\n",
       "      <th>16447</th>\n",
       "      <td>Switzerland</td>\n",
       "      <td>CHE</td>\n",
       "      <td>1969</td>\n",
       "      <td>6136354</td>\n",
       "    </tr>\n",
       "    <tr>\n",
       "      <th>16448</th>\n",
       "      <td>Switzerland</td>\n",
       "      <td>CHE</td>\n",
       "      <td>1970</td>\n",
       "      <td>6180925</td>\n",
       "    </tr>\n",
       "    <tr>\n",
       "      <th>16449</th>\n",
       "      <td>Switzerland</td>\n",
       "      <td>CHE</td>\n",
       "      <td>1971</td>\n",
       "      <td>6213535</td>\n",
       "    </tr>\n",
       "    <tr>\n",
       "      <th>16450</th>\n",
       "      <td>Switzerland</td>\n",
       "      <td>CHE</td>\n",
       "      <td>1972</td>\n",
       "      <td>6261087</td>\n",
       "    </tr>\n",
       "    <tr>\n",
       "      <th>16451</th>\n",
       "      <td>Switzerland</td>\n",
       "      <td>CHE</td>\n",
       "      <td>1973</td>\n",
       "      <td>6307408</td>\n",
       "    </tr>\n",
       "    <tr>\n",
       "      <th>16452</th>\n",
       "      <td>Switzerland</td>\n",
       "      <td>CHE</td>\n",
       "      <td>1974</td>\n",
       "      <td>6341381</td>\n",
       "    </tr>\n",
       "    <tr>\n",
       "      <th>16453</th>\n",
       "      <td>Switzerland</td>\n",
       "      <td>CHE</td>\n",
       "      <td>1975</td>\n",
       "      <td>6338600</td>\n",
       "    </tr>\n",
       "    <tr>\n",
       "      <th>16454</th>\n",
       "      <td>Switzerland</td>\n",
       "      <td>CHE</td>\n",
       "      <td>1976</td>\n",
       "      <td>6302555</td>\n",
       "    </tr>\n",
       "    <tr>\n",
       "      <th>16455</th>\n",
       "      <td>Switzerland</td>\n",
       "      <td>CHE</td>\n",
       "      <td>1977</td>\n",
       "      <td>6281365</td>\n",
       "    </tr>\n",
       "    <tr>\n",
       "      <th>16456</th>\n",
       "      <td>Switzerland</td>\n",
       "      <td>CHE</td>\n",
       "      <td>1978</td>\n",
       "      <td>6282044</td>\n",
       "    </tr>\n",
       "    <tr>\n",
       "      <th>16457</th>\n",
       "      <td>Switzerland</td>\n",
       "      <td>CHE</td>\n",
       "      <td>1979</td>\n",
       "      <td>6294719</td>\n",
       "    </tr>\n",
       "    <tr>\n",
       "      <th>16458</th>\n",
       "      <td>Switzerland</td>\n",
       "      <td>CHE</td>\n",
       "      <td>1980</td>\n",
       "      <td>6319848</td>\n",
       "    </tr>\n",
       "    <tr>\n",
       "      <th>16459</th>\n",
       "      <td>Switzerland</td>\n",
       "      <td>CHE</td>\n",
       "      <td>1981</td>\n",
       "      <td>6354561</td>\n",
       "    </tr>\n",
       "    <tr>\n",
       "      <th>16460</th>\n",
       "      <td>Switzerland</td>\n",
       "      <td>CHE</td>\n",
       "      <td>1982</td>\n",
       "      <td>6391805</td>\n",
       "    </tr>\n",
       "    <tr>\n",
       "      <th>16461</th>\n",
       "      <td>Switzerland</td>\n",
       "      <td>CHE</td>\n",
       "      <td>1983</td>\n",
       "      <td>6419309</td>\n",
       "    </tr>\n",
       "    <tr>\n",
       "      <th>16462</th>\n",
       "      <td>Switzerland</td>\n",
       "      <td>CHE</td>\n",
       "      <td>1984</td>\n",
       "      <td>6442418</td>\n",
       "    </tr>\n",
       "    <tr>\n",
       "      <th>16463</th>\n",
       "      <td>Switzerland</td>\n",
       "      <td>CHE</td>\n",
       "      <td>1985</td>\n",
       "      <td>6470959</td>\n",
       "    </tr>\n",
       "    <tr>\n",
       "      <th>16464</th>\n",
       "      <td>Switzerland</td>\n",
       "      <td>CHE</td>\n",
       "      <td>1986</td>\n",
       "      <td>6504748</td>\n",
       "    </tr>\n",
       "    <tr>\n",
       "      <th>16465</th>\n",
       "      <td>Switzerland</td>\n",
       "      <td>CHE</td>\n",
       "      <td>1987</td>\n",
       "      <td>6545771</td>\n",
       "    </tr>\n",
       "    <tr>\n",
       "      <th>16466</th>\n",
       "      <td>Switzerland</td>\n",
       "      <td>CHE</td>\n",
       "      <td>1988</td>\n",
       "      <td>6594145</td>\n",
       "    </tr>\n",
       "    <tr>\n",
       "      <th>16467</th>\n",
       "      <td>Switzerland</td>\n",
       "      <td>CHE</td>\n",
       "      <td>1989</td>\n",
       "      <td>6647786</td>\n",
       "    </tr>\n",
       "    <tr>\n",
       "      <th>16468</th>\n",
       "      <td>Switzerland</td>\n",
       "      <td>CHE</td>\n",
       "      <td>1990</td>\n",
       "      <td>6713167</td>\n",
       "    </tr>\n",
       "    <tr>\n",
       "      <th>16469</th>\n",
       "      <td>Switzerland</td>\n",
       "      <td>CHE</td>\n",
       "      <td>1991</td>\n",
       "      <td>6796942</td>\n",
       "    </tr>\n",
       "    <tr>\n",
       "      <th>16470</th>\n",
       "      <td>Switzerland</td>\n",
       "      <td>CHE</td>\n",
       "      <td>1992</td>\n",
       "      <td>6875049</td>\n",
       "    </tr>\n",
       "    <tr>\n",
       "      <th>16471</th>\n",
       "      <td>Switzerland</td>\n",
       "      <td>CHE</td>\n",
       "      <td>1993</td>\n",
       "      <td>6938107</td>\n",
       "    </tr>\n",
       "    <tr>\n",
       "      <th>16472</th>\n",
       "      <td>Switzerland</td>\n",
       "      <td>CHE</td>\n",
       "      <td>1994</td>\n",
       "      <td>6993594</td>\n",
       "    </tr>\n",
       "    <tr>\n",
       "      <th>16473</th>\n",
       "      <td>Switzerland</td>\n",
       "      <td>CHE</td>\n",
       "      <td>1995</td>\n",
       "      <td>7040481</td>\n",
       "    </tr>\n",
       "    <tr>\n",
       "      <th>16474</th>\n",
       "      <td>Switzerland</td>\n",
       "      <td>CHE</td>\n",
       "      <td>1996</td>\n",
       "      <td>7071884</td>\n",
       "    </tr>\n",
       "    <tr>\n",
       "      <th>16475</th>\n",
       "      <td>Switzerland</td>\n",
       "      <td>CHE</td>\n",
       "      <td>1997</td>\n",
       "      <td>7089163</td>\n",
       "    </tr>\n",
       "    <tr>\n",
       "      <th>16476</th>\n",
       "      <td>Switzerland</td>\n",
       "      <td>CHE</td>\n",
       "      <td>1998</td>\n",
       "      <td>7110294</td>\n",
       "    </tr>\n",
       "    <tr>\n",
       "      <th>16477</th>\n",
       "      <td>Switzerland</td>\n",
       "      <td>CHE</td>\n",
       "      <td>1999</td>\n",
       "      <td>7144118</td>\n",
       "    </tr>\n",
       "    <tr>\n",
       "      <th>16478</th>\n",
       "      <td>Switzerland</td>\n",
       "      <td>CHE</td>\n",
       "      <td>2000</td>\n",
       "      <td>7184003</td>\n",
       "    </tr>\n",
       "    <tr>\n",
       "      <th>16479</th>\n",
       "      <td>Switzerland</td>\n",
       "      <td>CHE</td>\n",
       "      <td>2001</td>\n",
       "      <td>7226391</td>\n",
       "    </tr>\n",
       "    <tr>\n",
       "      <th>16480</th>\n",
       "      <td>Switzerland</td>\n",
       "      <td>CHE</td>\n",
       "      <td>2002</td>\n",
       "      <td>7278744</td>\n",
       "    </tr>\n",
       "    <tr>\n",
       "      <th>16481</th>\n",
       "      <td>Switzerland</td>\n",
       "      <td>CHE</td>\n",
       "      <td>2003</td>\n",
       "      <td>7333450</td>\n",
       "    </tr>\n",
       "    <tr>\n",
       "      <th>16482</th>\n",
       "      <td>Switzerland</td>\n",
       "      <td>CHE</td>\n",
       "      <td>2004</td>\n",
       "      <td>7384196</td>\n",
       "    </tr>\n",
       "    <tr>\n",
       "      <th>16483</th>\n",
       "      <td>Switzerland</td>\n",
       "      <td>CHE</td>\n",
       "      <td>2005</td>\n",
       "      <td>7431824</td>\n",
       "    </tr>\n",
       "    <tr>\n",
       "      <th>16484</th>\n",
       "      <td>Switzerland</td>\n",
       "      <td>CHE</td>\n",
       "      <td>2006</td>\n",
       "      <td>7478514</td>\n",
       "    </tr>\n",
       "    <tr>\n",
       "      <th>16485</th>\n",
       "      <td>Switzerland</td>\n",
       "      <td>CHE</td>\n",
       "      <td>2007</td>\n",
       "      <td>7545386</td>\n",
       "    </tr>\n",
       "    <tr>\n",
       "      <th>16486</th>\n",
       "      <td>Switzerland</td>\n",
       "      <td>CHE</td>\n",
       "      <td>2008</td>\n",
       "      <td>7641729</td>\n",
       "    </tr>\n",
       "    <tr>\n",
       "      <th>16487</th>\n",
       "      <td>Switzerland</td>\n",
       "      <td>CHE</td>\n",
       "      <td>2009</td>\n",
       "      <td>7737642</td>\n",
       "    </tr>\n",
       "    <tr>\n",
       "      <th>16488</th>\n",
       "      <td>Switzerland</td>\n",
       "      <td>CHE</td>\n",
       "      <td>2010</td>\n",
       "      <td>7825751</td>\n",
       "    </tr>\n",
       "    <tr>\n",
       "      <th>16489</th>\n",
       "      <td>Switzerland</td>\n",
       "      <td>CHE</td>\n",
       "      <td>2011</td>\n",
       "      <td>7914378</td>\n",
       "    </tr>\n",
       "    <tr>\n",
       "      <th>16490</th>\n",
       "      <td>Switzerland</td>\n",
       "      <td>CHE</td>\n",
       "      <td>2012</td>\n",
       "      <td>7998927</td>\n",
       "    </tr>\n",
       "    <tr>\n",
       "      <th>16491</th>\n",
       "      <td>Switzerland</td>\n",
       "      <td>CHE</td>\n",
       "      <td>2013</td>\n",
       "      <td>8091197</td>\n",
       "    </tr>\n",
       "    <tr>\n",
       "      <th>16492</th>\n",
       "      <td>Switzerland</td>\n",
       "      <td>CHE</td>\n",
       "      <td>2014</td>\n",
       "      <td>8190238</td>\n",
       "    </tr>\n",
       "    <tr>\n",
       "      <th>16493</th>\n",
       "      <td>Switzerland</td>\n",
       "      <td>CHE</td>\n",
       "      <td>2015</td>\n",
       "      <td>8283940</td>\n",
       "    </tr>\n",
       "    <tr>\n",
       "      <th>16494</th>\n",
       "      <td>Switzerland</td>\n",
       "      <td>CHE</td>\n",
       "      <td>2016</td>\n",
       "      <td>8374902</td>\n",
       "    </tr>\n",
       "    <tr>\n",
       "      <th>16495</th>\n",
       "      <td>Switzerland</td>\n",
       "      <td>CHE</td>\n",
       "      <td>2017</td>\n",
       "      <td>8453628</td>\n",
       "    </tr>\n",
       "    <tr>\n",
       "      <th>16496</th>\n",
       "      <td>Switzerland</td>\n",
       "      <td>CHE</td>\n",
       "      <td>2018</td>\n",
       "      <td>8516339</td>\n",
       "    </tr>\n",
       "    <tr>\n",
       "      <th>16497</th>\n",
       "      <td>Switzerland</td>\n",
       "      <td>CHE</td>\n",
       "      <td>2019</td>\n",
       "      <td>8577526</td>\n",
       "    </tr>\n",
       "    <tr>\n",
       "      <th>16498</th>\n",
       "      <td>Switzerland</td>\n",
       "      <td>CHE</td>\n",
       "      <td>2020</td>\n",
       "      <td>8640582</td>\n",
       "    </tr>\n",
       "    <tr>\n",
       "      <th>16499</th>\n",
       "      <td>Switzerland</td>\n",
       "      <td>CHE</td>\n",
       "      <td>2021</td>\n",
       "      <td>8707018</td>\n",
       "    </tr>\n",
       "    <tr>\n",
       "      <th>16500</th>\n",
       "      <td>Switzerland</td>\n",
       "      <td>CHE</td>\n",
       "      <td>2022</td>\n",
       "      <td>8792180</td>\n",
       "    </tr>\n",
       "    <tr>\n",
       "      <th>16501</th>\n",
       "      <td>Switzerland</td>\n",
       "      <td>CHE</td>\n",
       "      <td>2023</td>\n",
       "      <td>8870564</td>\n",
       "    </tr>\n",
       "  </tbody>\n",
       "</table>\n",
       "</div>"
      ],
      "text/plain": [
       "            Entity Code  Year  \\\n",
       "16428  Switzerland  CHE  1950   \n",
       "16429  Switzerland  CHE  1951   \n",
       "16430  Switzerland  CHE  1952   \n",
       "16431  Switzerland  CHE  1953   \n",
       "16432  Switzerland  CHE  1954   \n",
       "16433  Switzerland  CHE  1955   \n",
       "16434  Switzerland  CHE  1956   \n",
       "16435  Switzerland  CHE  1957   \n",
       "16436  Switzerland  CHE  1958   \n",
       "16437  Switzerland  CHE  1959   \n",
       "16438  Switzerland  CHE  1960   \n",
       "16439  Switzerland  CHE  1961   \n",
       "16440  Switzerland  CHE  1962   \n",
       "16441  Switzerland  CHE  1963   \n",
       "16442  Switzerland  CHE  1964   \n",
       "16443  Switzerland  CHE  1965   \n",
       "16444  Switzerland  CHE  1966   \n",
       "16445  Switzerland  CHE  1967   \n",
       "16446  Switzerland  CHE  1968   \n",
       "16447  Switzerland  CHE  1969   \n",
       "16448  Switzerland  CHE  1970   \n",
       "16449  Switzerland  CHE  1971   \n",
       "16450  Switzerland  CHE  1972   \n",
       "16451  Switzerland  CHE  1973   \n",
       "16452  Switzerland  CHE  1974   \n",
       "16453  Switzerland  CHE  1975   \n",
       "16454  Switzerland  CHE  1976   \n",
       "16455  Switzerland  CHE  1977   \n",
       "16456  Switzerland  CHE  1978   \n",
       "16457  Switzerland  CHE  1979   \n",
       "16458  Switzerland  CHE  1980   \n",
       "16459  Switzerland  CHE  1981   \n",
       "16460  Switzerland  CHE  1982   \n",
       "16461  Switzerland  CHE  1983   \n",
       "16462  Switzerland  CHE  1984   \n",
       "16463  Switzerland  CHE  1985   \n",
       "16464  Switzerland  CHE  1986   \n",
       "16465  Switzerland  CHE  1987   \n",
       "16466  Switzerland  CHE  1988   \n",
       "16467  Switzerland  CHE  1989   \n",
       "16468  Switzerland  CHE  1990   \n",
       "16469  Switzerland  CHE  1991   \n",
       "16470  Switzerland  CHE  1992   \n",
       "16471  Switzerland  CHE  1993   \n",
       "16472  Switzerland  CHE  1994   \n",
       "16473  Switzerland  CHE  1995   \n",
       "16474  Switzerland  CHE  1996   \n",
       "16475  Switzerland  CHE  1997   \n",
       "16476  Switzerland  CHE  1998   \n",
       "16477  Switzerland  CHE  1999   \n",
       "16478  Switzerland  CHE  2000   \n",
       "16479  Switzerland  CHE  2001   \n",
       "16480  Switzerland  CHE  2002   \n",
       "16481  Switzerland  CHE  2003   \n",
       "16482  Switzerland  CHE  2004   \n",
       "16483  Switzerland  CHE  2005   \n",
       "16484  Switzerland  CHE  2006   \n",
       "16485  Switzerland  CHE  2007   \n",
       "16486  Switzerland  CHE  2008   \n",
       "16487  Switzerland  CHE  2009   \n",
       "16488  Switzerland  CHE  2010   \n",
       "16489  Switzerland  CHE  2011   \n",
       "16490  Switzerland  CHE  2012   \n",
       "16491  Switzerland  CHE  2013   \n",
       "16492  Switzerland  CHE  2014   \n",
       "16493  Switzerland  CHE  2015   \n",
       "16494  Switzerland  CHE  2016   \n",
       "16495  Switzerland  CHE  2017   \n",
       "16496  Switzerland  CHE  2018   \n",
       "16497  Switzerland  CHE  2019   \n",
       "16498  Switzerland  CHE  2020   \n",
       "16499  Switzerland  CHE  2021   \n",
       "16500  Switzerland  CHE  2022   \n",
       "16501  Switzerland  CHE  2023   \n",
       "\n",
       "       Population - Sex: all - Age: all - Variant: estimates  \n",
       "16428                                            4692642      \n",
       "16429                                            4748088      \n",
       "16430                                            4811614      \n",
       "16431                                            4875655      \n",
       "16432                                            4938751      \n",
       "16433                                            5002116      \n",
       "16434                                            5065626      \n",
       "16435                                            5130170      \n",
       "16436                                            5196449      \n",
       "16437                                            5262809      \n",
       "16438                                            5327776      \n",
       "16439                                            5434125      \n",
       "16440                                            5573701      \n",
       "16441                                            5694162      \n",
       "16442                                            5789156      \n",
       "16443                                            5856417      \n",
       "16444                                            5917969      \n",
       "16445                                            5991734      \n",
       "16446                                            6067659      \n",
       "16447                                            6136354      \n",
       "16448                                            6180925      \n",
       "16449                                            6213535      \n",
       "16450                                            6261087      \n",
       "16451                                            6307408      \n",
       "16452                                            6341381      \n",
       "16453                                            6338600      \n",
       "16454                                            6302555      \n",
       "16455                                            6281365      \n",
       "16456                                            6282044      \n",
       "16457                                            6294719      \n",
       "16458                                            6319848      \n",
       "16459                                            6354561      \n",
       "16460                                            6391805      \n",
       "16461                                            6419309      \n",
       "16462                                            6442418      \n",
       "16463                                            6470959      \n",
       "16464                                            6504748      \n",
       "16465                                            6545771      \n",
       "16466                                            6594145      \n",
       "16467                                            6647786      \n",
       "16468                                            6713167      \n",
       "16469                                            6796942      \n",
       "16470                                            6875049      \n",
       "16471                                            6938107      \n",
       "16472                                            6993594      \n",
       "16473                                            7040481      \n",
       "16474                                            7071884      \n",
       "16475                                            7089163      \n",
       "16476                                            7110294      \n",
       "16477                                            7144118      \n",
       "16478                                            7184003      \n",
       "16479                                            7226391      \n",
       "16480                                            7278744      \n",
       "16481                                            7333450      \n",
       "16482                                            7384196      \n",
       "16483                                            7431824      \n",
       "16484                                            7478514      \n",
       "16485                                            7545386      \n",
       "16486                                            7641729      \n",
       "16487                                            7737642      \n",
       "16488                                            7825751      \n",
       "16489                                            7914378      \n",
       "16490                                            7998927      \n",
       "16491                                            8091197      \n",
       "16492                                            8190238      \n",
       "16493                                            8283940      \n",
       "16494                                            8374902      \n",
       "16495                                            8453628      \n",
       "16496                                            8516339      \n",
       "16497                                            8577526      \n",
       "16498                                            8640582      \n",
       "16499                                            8707018      \n",
       "16500                                            8792180      \n",
       "16501                                            8870564      "
      ]
     },
     "execution_count": 179,
     "metadata": {},
     "output_type": "execute_result"
    }
   ],
   "source": [
    "df_swiss_population"
   ]
  },
  {
   "cell_type": "code",
   "execution_count": 180,
   "metadata": {},
   "outputs": [
    {
     "data": {
      "text/html": [
       "<div>\n",
       "<style scoped>\n",
       "    .dataframe tbody tr th:only-of-type {\n",
       "        vertical-align: middle;\n",
       "    }\n",
       "\n",
       "    .dataframe tbody tr th {\n",
       "        vertical-align: top;\n",
       "    }\n",
       "\n",
       "    .dataframe thead th {\n",
       "        text-align: right;\n",
       "    }\n",
       "</style>\n",
       "<table border=\"1\" class=\"dataframe\">\n",
       "  <thead>\n",
       "    <tr style=\"text-align: right;\">\n",
       "      <th></th>\n",
       "      <th>Entity</th>\n",
       "      <th>Code</th>\n",
       "      <th>Year</th>\n",
       "      <th>Population</th>\n",
       "    </tr>\n",
       "  </thead>\n",
       "  <tbody>\n",
       "    <tr>\n",
       "      <th>16428</th>\n",
       "      <td>Switzerland</td>\n",
       "      <td>CHE</td>\n",
       "      <td>1950</td>\n",
       "      <td>4692642</td>\n",
       "    </tr>\n",
       "    <tr>\n",
       "      <th>16429</th>\n",
       "      <td>Switzerland</td>\n",
       "      <td>CHE</td>\n",
       "      <td>1951</td>\n",
       "      <td>4748088</td>\n",
       "    </tr>\n",
       "    <tr>\n",
       "      <th>16430</th>\n",
       "      <td>Switzerland</td>\n",
       "      <td>CHE</td>\n",
       "      <td>1952</td>\n",
       "      <td>4811614</td>\n",
       "    </tr>\n",
       "    <tr>\n",
       "      <th>16431</th>\n",
       "      <td>Switzerland</td>\n",
       "      <td>CHE</td>\n",
       "      <td>1953</td>\n",
       "      <td>4875655</td>\n",
       "    </tr>\n",
       "    <tr>\n",
       "      <th>16432</th>\n",
       "      <td>Switzerland</td>\n",
       "      <td>CHE</td>\n",
       "      <td>1954</td>\n",
       "      <td>4938751</td>\n",
       "    </tr>\n",
       "    <tr>\n",
       "      <th>16433</th>\n",
       "      <td>Switzerland</td>\n",
       "      <td>CHE</td>\n",
       "      <td>1955</td>\n",
       "      <td>5002116</td>\n",
       "    </tr>\n",
       "    <tr>\n",
       "      <th>16434</th>\n",
       "      <td>Switzerland</td>\n",
       "      <td>CHE</td>\n",
       "      <td>1956</td>\n",
       "      <td>5065626</td>\n",
       "    </tr>\n",
       "    <tr>\n",
       "      <th>16435</th>\n",
       "      <td>Switzerland</td>\n",
       "      <td>CHE</td>\n",
       "      <td>1957</td>\n",
       "      <td>5130170</td>\n",
       "    </tr>\n",
       "    <tr>\n",
       "      <th>16436</th>\n",
       "      <td>Switzerland</td>\n",
       "      <td>CHE</td>\n",
       "      <td>1958</td>\n",
       "      <td>5196449</td>\n",
       "    </tr>\n",
       "    <tr>\n",
       "      <th>16437</th>\n",
       "      <td>Switzerland</td>\n",
       "      <td>CHE</td>\n",
       "      <td>1959</td>\n",
       "      <td>5262809</td>\n",
       "    </tr>\n",
       "    <tr>\n",
       "      <th>16438</th>\n",
       "      <td>Switzerland</td>\n",
       "      <td>CHE</td>\n",
       "      <td>1960</td>\n",
       "      <td>5327776</td>\n",
       "    </tr>\n",
       "    <tr>\n",
       "      <th>16439</th>\n",
       "      <td>Switzerland</td>\n",
       "      <td>CHE</td>\n",
       "      <td>1961</td>\n",
       "      <td>5434125</td>\n",
       "    </tr>\n",
       "    <tr>\n",
       "      <th>16440</th>\n",
       "      <td>Switzerland</td>\n",
       "      <td>CHE</td>\n",
       "      <td>1962</td>\n",
       "      <td>5573701</td>\n",
       "    </tr>\n",
       "    <tr>\n",
       "      <th>16441</th>\n",
       "      <td>Switzerland</td>\n",
       "      <td>CHE</td>\n",
       "      <td>1963</td>\n",
       "      <td>5694162</td>\n",
       "    </tr>\n",
       "    <tr>\n",
       "      <th>16442</th>\n",
       "      <td>Switzerland</td>\n",
       "      <td>CHE</td>\n",
       "      <td>1964</td>\n",
       "      <td>5789156</td>\n",
       "    </tr>\n",
       "    <tr>\n",
       "      <th>16443</th>\n",
       "      <td>Switzerland</td>\n",
       "      <td>CHE</td>\n",
       "      <td>1965</td>\n",
       "      <td>5856417</td>\n",
       "    </tr>\n",
       "    <tr>\n",
       "      <th>16444</th>\n",
       "      <td>Switzerland</td>\n",
       "      <td>CHE</td>\n",
       "      <td>1966</td>\n",
       "      <td>5917969</td>\n",
       "    </tr>\n",
       "    <tr>\n",
       "      <th>16445</th>\n",
       "      <td>Switzerland</td>\n",
       "      <td>CHE</td>\n",
       "      <td>1967</td>\n",
       "      <td>5991734</td>\n",
       "    </tr>\n",
       "    <tr>\n",
       "      <th>16446</th>\n",
       "      <td>Switzerland</td>\n",
       "      <td>CHE</td>\n",
       "      <td>1968</td>\n",
       "      <td>6067659</td>\n",
       "    </tr>\n",
       "    <tr>\n",
       "      <th>16447</th>\n",
       "      <td>Switzerland</td>\n",
       "      <td>CHE</td>\n",
       "      <td>1969</td>\n",
       "      <td>6136354</td>\n",
       "    </tr>\n",
       "    <tr>\n",
       "      <th>16448</th>\n",
       "      <td>Switzerland</td>\n",
       "      <td>CHE</td>\n",
       "      <td>1970</td>\n",
       "      <td>6180925</td>\n",
       "    </tr>\n",
       "    <tr>\n",
       "      <th>16449</th>\n",
       "      <td>Switzerland</td>\n",
       "      <td>CHE</td>\n",
       "      <td>1971</td>\n",
       "      <td>6213535</td>\n",
       "    </tr>\n",
       "    <tr>\n",
       "      <th>16450</th>\n",
       "      <td>Switzerland</td>\n",
       "      <td>CHE</td>\n",
       "      <td>1972</td>\n",
       "      <td>6261087</td>\n",
       "    </tr>\n",
       "    <tr>\n",
       "      <th>16451</th>\n",
       "      <td>Switzerland</td>\n",
       "      <td>CHE</td>\n",
       "      <td>1973</td>\n",
       "      <td>6307408</td>\n",
       "    </tr>\n",
       "    <tr>\n",
       "      <th>16452</th>\n",
       "      <td>Switzerland</td>\n",
       "      <td>CHE</td>\n",
       "      <td>1974</td>\n",
       "      <td>6341381</td>\n",
       "    </tr>\n",
       "    <tr>\n",
       "      <th>16453</th>\n",
       "      <td>Switzerland</td>\n",
       "      <td>CHE</td>\n",
       "      <td>1975</td>\n",
       "      <td>6338600</td>\n",
       "    </tr>\n",
       "    <tr>\n",
       "      <th>16454</th>\n",
       "      <td>Switzerland</td>\n",
       "      <td>CHE</td>\n",
       "      <td>1976</td>\n",
       "      <td>6302555</td>\n",
       "    </tr>\n",
       "    <tr>\n",
       "      <th>16455</th>\n",
       "      <td>Switzerland</td>\n",
       "      <td>CHE</td>\n",
       "      <td>1977</td>\n",
       "      <td>6281365</td>\n",
       "    </tr>\n",
       "    <tr>\n",
       "      <th>16456</th>\n",
       "      <td>Switzerland</td>\n",
       "      <td>CHE</td>\n",
       "      <td>1978</td>\n",
       "      <td>6282044</td>\n",
       "    </tr>\n",
       "    <tr>\n",
       "      <th>16457</th>\n",
       "      <td>Switzerland</td>\n",
       "      <td>CHE</td>\n",
       "      <td>1979</td>\n",
       "      <td>6294719</td>\n",
       "    </tr>\n",
       "    <tr>\n",
       "      <th>16458</th>\n",
       "      <td>Switzerland</td>\n",
       "      <td>CHE</td>\n",
       "      <td>1980</td>\n",
       "      <td>6319848</td>\n",
       "    </tr>\n",
       "    <tr>\n",
       "      <th>16459</th>\n",
       "      <td>Switzerland</td>\n",
       "      <td>CHE</td>\n",
       "      <td>1981</td>\n",
       "      <td>6354561</td>\n",
       "    </tr>\n",
       "    <tr>\n",
       "      <th>16460</th>\n",
       "      <td>Switzerland</td>\n",
       "      <td>CHE</td>\n",
       "      <td>1982</td>\n",
       "      <td>6391805</td>\n",
       "    </tr>\n",
       "    <tr>\n",
       "      <th>16461</th>\n",
       "      <td>Switzerland</td>\n",
       "      <td>CHE</td>\n",
       "      <td>1983</td>\n",
       "      <td>6419309</td>\n",
       "    </tr>\n",
       "    <tr>\n",
       "      <th>16462</th>\n",
       "      <td>Switzerland</td>\n",
       "      <td>CHE</td>\n",
       "      <td>1984</td>\n",
       "      <td>6442418</td>\n",
       "    </tr>\n",
       "    <tr>\n",
       "      <th>16463</th>\n",
       "      <td>Switzerland</td>\n",
       "      <td>CHE</td>\n",
       "      <td>1985</td>\n",
       "      <td>6470959</td>\n",
       "    </tr>\n",
       "    <tr>\n",
       "      <th>16464</th>\n",
       "      <td>Switzerland</td>\n",
       "      <td>CHE</td>\n",
       "      <td>1986</td>\n",
       "      <td>6504748</td>\n",
       "    </tr>\n",
       "    <tr>\n",
       "      <th>16465</th>\n",
       "      <td>Switzerland</td>\n",
       "      <td>CHE</td>\n",
       "      <td>1987</td>\n",
       "      <td>6545771</td>\n",
       "    </tr>\n",
       "    <tr>\n",
       "      <th>16466</th>\n",
       "      <td>Switzerland</td>\n",
       "      <td>CHE</td>\n",
       "      <td>1988</td>\n",
       "      <td>6594145</td>\n",
       "    </tr>\n",
       "    <tr>\n",
       "      <th>16467</th>\n",
       "      <td>Switzerland</td>\n",
       "      <td>CHE</td>\n",
       "      <td>1989</td>\n",
       "      <td>6647786</td>\n",
       "    </tr>\n",
       "    <tr>\n",
       "      <th>16468</th>\n",
       "      <td>Switzerland</td>\n",
       "      <td>CHE</td>\n",
       "      <td>1990</td>\n",
       "      <td>6713167</td>\n",
       "    </tr>\n",
       "    <tr>\n",
       "      <th>16469</th>\n",
       "      <td>Switzerland</td>\n",
       "      <td>CHE</td>\n",
       "      <td>1991</td>\n",
       "      <td>6796942</td>\n",
       "    </tr>\n",
       "    <tr>\n",
       "      <th>16470</th>\n",
       "      <td>Switzerland</td>\n",
       "      <td>CHE</td>\n",
       "      <td>1992</td>\n",
       "      <td>6875049</td>\n",
       "    </tr>\n",
       "    <tr>\n",
       "      <th>16471</th>\n",
       "      <td>Switzerland</td>\n",
       "      <td>CHE</td>\n",
       "      <td>1993</td>\n",
       "      <td>6938107</td>\n",
       "    </tr>\n",
       "    <tr>\n",
       "      <th>16472</th>\n",
       "      <td>Switzerland</td>\n",
       "      <td>CHE</td>\n",
       "      <td>1994</td>\n",
       "      <td>6993594</td>\n",
       "    </tr>\n",
       "    <tr>\n",
       "      <th>16473</th>\n",
       "      <td>Switzerland</td>\n",
       "      <td>CHE</td>\n",
       "      <td>1995</td>\n",
       "      <td>7040481</td>\n",
       "    </tr>\n",
       "    <tr>\n",
       "      <th>16474</th>\n",
       "      <td>Switzerland</td>\n",
       "      <td>CHE</td>\n",
       "      <td>1996</td>\n",
       "      <td>7071884</td>\n",
       "    </tr>\n",
       "    <tr>\n",
       "      <th>16475</th>\n",
       "      <td>Switzerland</td>\n",
       "      <td>CHE</td>\n",
       "      <td>1997</td>\n",
       "      <td>7089163</td>\n",
       "    </tr>\n",
       "    <tr>\n",
       "      <th>16476</th>\n",
       "      <td>Switzerland</td>\n",
       "      <td>CHE</td>\n",
       "      <td>1998</td>\n",
       "      <td>7110294</td>\n",
       "    </tr>\n",
       "    <tr>\n",
       "      <th>16477</th>\n",
       "      <td>Switzerland</td>\n",
       "      <td>CHE</td>\n",
       "      <td>1999</td>\n",
       "      <td>7144118</td>\n",
       "    </tr>\n",
       "    <tr>\n",
       "      <th>16478</th>\n",
       "      <td>Switzerland</td>\n",
       "      <td>CHE</td>\n",
       "      <td>2000</td>\n",
       "      <td>7184003</td>\n",
       "    </tr>\n",
       "    <tr>\n",
       "      <th>16479</th>\n",
       "      <td>Switzerland</td>\n",
       "      <td>CHE</td>\n",
       "      <td>2001</td>\n",
       "      <td>7226391</td>\n",
       "    </tr>\n",
       "    <tr>\n",
       "      <th>16480</th>\n",
       "      <td>Switzerland</td>\n",
       "      <td>CHE</td>\n",
       "      <td>2002</td>\n",
       "      <td>7278744</td>\n",
       "    </tr>\n",
       "    <tr>\n",
       "      <th>16481</th>\n",
       "      <td>Switzerland</td>\n",
       "      <td>CHE</td>\n",
       "      <td>2003</td>\n",
       "      <td>7333450</td>\n",
       "    </tr>\n",
       "    <tr>\n",
       "      <th>16482</th>\n",
       "      <td>Switzerland</td>\n",
       "      <td>CHE</td>\n",
       "      <td>2004</td>\n",
       "      <td>7384196</td>\n",
       "    </tr>\n",
       "    <tr>\n",
       "      <th>16483</th>\n",
       "      <td>Switzerland</td>\n",
       "      <td>CHE</td>\n",
       "      <td>2005</td>\n",
       "      <td>7431824</td>\n",
       "    </tr>\n",
       "    <tr>\n",
       "      <th>16484</th>\n",
       "      <td>Switzerland</td>\n",
       "      <td>CHE</td>\n",
       "      <td>2006</td>\n",
       "      <td>7478514</td>\n",
       "    </tr>\n",
       "    <tr>\n",
       "      <th>16485</th>\n",
       "      <td>Switzerland</td>\n",
       "      <td>CHE</td>\n",
       "      <td>2007</td>\n",
       "      <td>7545386</td>\n",
       "    </tr>\n",
       "    <tr>\n",
       "      <th>16486</th>\n",
       "      <td>Switzerland</td>\n",
       "      <td>CHE</td>\n",
       "      <td>2008</td>\n",
       "      <td>7641729</td>\n",
       "    </tr>\n",
       "    <tr>\n",
       "      <th>16487</th>\n",
       "      <td>Switzerland</td>\n",
       "      <td>CHE</td>\n",
       "      <td>2009</td>\n",
       "      <td>7737642</td>\n",
       "    </tr>\n",
       "    <tr>\n",
       "      <th>16488</th>\n",
       "      <td>Switzerland</td>\n",
       "      <td>CHE</td>\n",
       "      <td>2010</td>\n",
       "      <td>7825751</td>\n",
       "    </tr>\n",
       "    <tr>\n",
       "      <th>16489</th>\n",
       "      <td>Switzerland</td>\n",
       "      <td>CHE</td>\n",
       "      <td>2011</td>\n",
       "      <td>7914378</td>\n",
       "    </tr>\n",
       "    <tr>\n",
       "      <th>16490</th>\n",
       "      <td>Switzerland</td>\n",
       "      <td>CHE</td>\n",
       "      <td>2012</td>\n",
       "      <td>7998927</td>\n",
       "    </tr>\n",
       "    <tr>\n",
       "      <th>16491</th>\n",
       "      <td>Switzerland</td>\n",
       "      <td>CHE</td>\n",
       "      <td>2013</td>\n",
       "      <td>8091197</td>\n",
       "    </tr>\n",
       "    <tr>\n",
       "      <th>16492</th>\n",
       "      <td>Switzerland</td>\n",
       "      <td>CHE</td>\n",
       "      <td>2014</td>\n",
       "      <td>8190238</td>\n",
       "    </tr>\n",
       "    <tr>\n",
       "      <th>16493</th>\n",
       "      <td>Switzerland</td>\n",
       "      <td>CHE</td>\n",
       "      <td>2015</td>\n",
       "      <td>8283940</td>\n",
       "    </tr>\n",
       "    <tr>\n",
       "      <th>16494</th>\n",
       "      <td>Switzerland</td>\n",
       "      <td>CHE</td>\n",
       "      <td>2016</td>\n",
       "      <td>8374902</td>\n",
       "    </tr>\n",
       "    <tr>\n",
       "      <th>16495</th>\n",
       "      <td>Switzerland</td>\n",
       "      <td>CHE</td>\n",
       "      <td>2017</td>\n",
       "      <td>8453628</td>\n",
       "    </tr>\n",
       "    <tr>\n",
       "      <th>16496</th>\n",
       "      <td>Switzerland</td>\n",
       "      <td>CHE</td>\n",
       "      <td>2018</td>\n",
       "      <td>8516339</td>\n",
       "    </tr>\n",
       "    <tr>\n",
       "      <th>16497</th>\n",
       "      <td>Switzerland</td>\n",
       "      <td>CHE</td>\n",
       "      <td>2019</td>\n",
       "      <td>8577526</td>\n",
       "    </tr>\n",
       "    <tr>\n",
       "      <th>16498</th>\n",
       "      <td>Switzerland</td>\n",
       "      <td>CHE</td>\n",
       "      <td>2020</td>\n",
       "      <td>8640582</td>\n",
       "    </tr>\n",
       "    <tr>\n",
       "      <th>16499</th>\n",
       "      <td>Switzerland</td>\n",
       "      <td>CHE</td>\n",
       "      <td>2021</td>\n",
       "      <td>8707018</td>\n",
       "    </tr>\n",
       "    <tr>\n",
       "      <th>16500</th>\n",
       "      <td>Switzerland</td>\n",
       "      <td>CHE</td>\n",
       "      <td>2022</td>\n",
       "      <td>8792180</td>\n",
       "    </tr>\n",
       "    <tr>\n",
       "      <th>16501</th>\n",
       "      <td>Switzerland</td>\n",
       "      <td>CHE</td>\n",
       "      <td>2023</td>\n",
       "      <td>8870564</td>\n",
       "    </tr>\n",
       "  </tbody>\n",
       "</table>\n",
       "</div>"
      ],
      "text/plain": [
       "            Entity Code  Year  Population\n",
       "16428  Switzerland  CHE  1950     4692642\n",
       "16429  Switzerland  CHE  1951     4748088\n",
       "16430  Switzerland  CHE  1952     4811614\n",
       "16431  Switzerland  CHE  1953     4875655\n",
       "16432  Switzerland  CHE  1954     4938751\n",
       "16433  Switzerland  CHE  1955     5002116\n",
       "16434  Switzerland  CHE  1956     5065626\n",
       "16435  Switzerland  CHE  1957     5130170\n",
       "16436  Switzerland  CHE  1958     5196449\n",
       "16437  Switzerland  CHE  1959     5262809\n",
       "16438  Switzerland  CHE  1960     5327776\n",
       "16439  Switzerland  CHE  1961     5434125\n",
       "16440  Switzerland  CHE  1962     5573701\n",
       "16441  Switzerland  CHE  1963     5694162\n",
       "16442  Switzerland  CHE  1964     5789156\n",
       "16443  Switzerland  CHE  1965     5856417\n",
       "16444  Switzerland  CHE  1966     5917969\n",
       "16445  Switzerland  CHE  1967     5991734\n",
       "16446  Switzerland  CHE  1968     6067659\n",
       "16447  Switzerland  CHE  1969     6136354\n",
       "16448  Switzerland  CHE  1970     6180925\n",
       "16449  Switzerland  CHE  1971     6213535\n",
       "16450  Switzerland  CHE  1972     6261087\n",
       "16451  Switzerland  CHE  1973     6307408\n",
       "16452  Switzerland  CHE  1974     6341381\n",
       "16453  Switzerland  CHE  1975     6338600\n",
       "16454  Switzerland  CHE  1976     6302555\n",
       "16455  Switzerland  CHE  1977     6281365\n",
       "16456  Switzerland  CHE  1978     6282044\n",
       "16457  Switzerland  CHE  1979     6294719\n",
       "16458  Switzerland  CHE  1980     6319848\n",
       "16459  Switzerland  CHE  1981     6354561\n",
       "16460  Switzerland  CHE  1982     6391805\n",
       "16461  Switzerland  CHE  1983     6419309\n",
       "16462  Switzerland  CHE  1984     6442418\n",
       "16463  Switzerland  CHE  1985     6470959\n",
       "16464  Switzerland  CHE  1986     6504748\n",
       "16465  Switzerland  CHE  1987     6545771\n",
       "16466  Switzerland  CHE  1988     6594145\n",
       "16467  Switzerland  CHE  1989     6647786\n",
       "16468  Switzerland  CHE  1990     6713167\n",
       "16469  Switzerland  CHE  1991     6796942\n",
       "16470  Switzerland  CHE  1992     6875049\n",
       "16471  Switzerland  CHE  1993     6938107\n",
       "16472  Switzerland  CHE  1994     6993594\n",
       "16473  Switzerland  CHE  1995     7040481\n",
       "16474  Switzerland  CHE  1996     7071884\n",
       "16475  Switzerland  CHE  1997     7089163\n",
       "16476  Switzerland  CHE  1998     7110294\n",
       "16477  Switzerland  CHE  1999     7144118\n",
       "16478  Switzerland  CHE  2000     7184003\n",
       "16479  Switzerland  CHE  2001     7226391\n",
       "16480  Switzerland  CHE  2002     7278744\n",
       "16481  Switzerland  CHE  2003     7333450\n",
       "16482  Switzerland  CHE  2004     7384196\n",
       "16483  Switzerland  CHE  2005     7431824\n",
       "16484  Switzerland  CHE  2006     7478514\n",
       "16485  Switzerland  CHE  2007     7545386\n",
       "16486  Switzerland  CHE  2008     7641729\n",
       "16487  Switzerland  CHE  2009     7737642\n",
       "16488  Switzerland  CHE  2010     7825751\n",
       "16489  Switzerland  CHE  2011     7914378\n",
       "16490  Switzerland  CHE  2012     7998927\n",
       "16491  Switzerland  CHE  2013     8091197\n",
       "16492  Switzerland  CHE  2014     8190238\n",
       "16493  Switzerland  CHE  2015     8283940\n",
       "16494  Switzerland  CHE  2016     8374902\n",
       "16495  Switzerland  CHE  2017     8453628\n",
       "16496  Switzerland  CHE  2018     8516339\n",
       "16497  Switzerland  CHE  2019     8577526\n",
       "16498  Switzerland  CHE  2020     8640582\n",
       "16499  Switzerland  CHE  2021     8707018\n",
       "16500  Switzerland  CHE  2022     8792180\n",
       "16501  Switzerland  CHE  2023     8870564"
      ]
     },
     "execution_count": 180,
     "metadata": {},
     "output_type": "execute_result"
    }
   ],
   "source": [
    "# Give a friendly name to the population column\n",
    "df_swiss_population = df_swiss_population.rename(\n",
    "    columns={\"Population - Sex: all - Age: all - Variant: estimates\": \"Population\"}\n",
    ")\n",
    "df_swiss_population"
   ]
  },
  {
   "cell_type": "markdown",
   "metadata": {},
   "source": [
    "## Manipulate dataframe"
   ]
  },
  {
   "cell_type": "markdown",
   "metadata": {},
   "source": [
    "Then I want to merge the two dataframe :\n",
    "\n",
    "\n",
    "> **_Note_** : This manipulation reset index, but it possible manually (after .loc p.ex.)by using : ``df_data = df_data.reset_index()``"
   ]
  },
  {
   "cell_type": "code",
   "execution_count": 181,
   "metadata": {},
   "outputs": [
    {
     "data": {
      "text/html": [
       "<div>\n",
       "<style scoped>\n",
       "    .dataframe tbody tr th:only-of-type {\n",
       "        vertical-align: middle;\n",
       "    }\n",
       "\n",
       "    .dataframe tbody tr th {\n",
       "        vertical-align: top;\n",
       "    }\n",
       "\n",
       "    .dataframe thead th {\n",
       "        text-align: right;\n",
       "    }\n",
       "</style>\n",
       "<table border=\"1\" class=\"dataframe\">\n",
       "  <thead>\n",
       "    <tr style=\"text-align: right;\">\n",
       "      <th></th>\n",
       "      <th>Entity</th>\n",
       "      <th>Code</th>\n",
       "      <th>Year</th>\n",
       "      <th>Population</th>\n",
       "      <th>Electricity generation - TWh</th>\n",
       "    </tr>\n",
       "  </thead>\n",
       "  <tbody>\n",
       "    <tr>\n",
       "      <th>0</th>\n",
       "      <td>Switzerland</td>\n",
       "      <td>CHE</td>\n",
       "      <td>1985</td>\n",
       "      <td>6470959</td>\n",
       "      <td>56.338123</td>\n",
       "    </tr>\n",
       "    <tr>\n",
       "      <th>1</th>\n",
       "      <td>Switzerland</td>\n",
       "      <td>CHE</td>\n",
       "      <td>1986</td>\n",
       "      <td>6504748</td>\n",
       "      <td>57.410492</td>\n",
       "    </tr>\n",
       "    <tr>\n",
       "      <th>2</th>\n",
       "      <td>Switzerland</td>\n",
       "      <td>CHE</td>\n",
       "      <td>1987</td>\n",
       "      <td>6545771</td>\n",
       "      <td>59.733856</td>\n",
       "    </tr>\n",
       "    <tr>\n",
       "      <th>3</th>\n",
       "      <td>Switzerland</td>\n",
       "      <td>CHE</td>\n",
       "      <td>1988</td>\n",
       "      <td>6594145</td>\n",
       "      <td>60.535755</td>\n",
       "    </tr>\n",
       "    <tr>\n",
       "      <th>4</th>\n",
       "      <td>Switzerland</td>\n",
       "      <td>CHE</td>\n",
       "      <td>1989</td>\n",
       "      <td>6647786</td>\n",
       "      <td>54.610770</td>\n",
       "    </tr>\n",
       "    <tr>\n",
       "      <th>5</th>\n",
       "      <td>Switzerland</td>\n",
       "      <td>CHE</td>\n",
       "      <td>1990</td>\n",
       "      <td>6713167</td>\n",
       "      <td>56.015427</td>\n",
       "    </tr>\n",
       "    <tr>\n",
       "      <th>6</th>\n",
       "      <td>Switzerland</td>\n",
       "      <td>CHE</td>\n",
       "      <td>1991</td>\n",
       "      <td>6796942</td>\n",
       "      <td>58.061848</td>\n",
       "    </tr>\n",
       "    <tr>\n",
       "      <th>7</th>\n",
       "      <td>Switzerland</td>\n",
       "      <td>CHE</td>\n",
       "      <td>1992</td>\n",
       "      <td>6875049</td>\n",
       "      <td>59.517920</td>\n",
       "    </tr>\n",
       "    <tr>\n",
       "      <th>8</th>\n",
       "      <td>Switzerland</td>\n",
       "      <td>CHE</td>\n",
       "      <td>1993</td>\n",
       "      <td>6938107</td>\n",
       "      <td>61.555614</td>\n",
       "    </tr>\n",
       "    <tr>\n",
       "      <th>9</th>\n",
       "      <td>Switzerland</td>\n",
       "      <td>CHE</td>\n",
       "      <td>1994</td>\n",
       "      <td>6993594</td>\n",
       "      <td>66.134240</td>\n",
       "    </tr>\n",
       "    <tr>\n",
       "      <th>10</th>\n",
       "      <td>Switzerland</td>\n",
       "      <td>CHE</td>\n",
       "      <td>1995</td>\n",
       "      <td>7040481</td>\n",
       "      <td>62.862670</td>\n",
       "    </tr>\n",
       "  </tbody>\n",
       "</table>\n",
       "</div>"
      ],
      "text/plain": [
       "         Entity Code  Year  Population  Electricity generation - TWh\n",
       "0   Switzerland  CHE  1985     6470959                     56.338123\n",
       "1   Switzerland  CHE  1986     6504748                     57.410492\n",
       "2   Switzerland  CHE  1987     6545771                     59.733856\n",
       "3   Switzerland  CHE  1988     6594145                     60.535755\n",
       "4   Switzerland  CHE  1989     6647786                     54.610770\n",
       "5   Switzerland  CHE  1990     6713167                     56.015427\n",
       "6   Switzerland  CHE  1991     6796942                     58.061848\n",
       "7   Switzerland  CHE  1992     6875049                     59.517920\n",
       "8   Switzerland  CHE  1993     6938107                     61.555614\n",
       "9   Switzerland  CHE  1994     6993594                     66.134240\n",
       "10  Switzerland  CHE  1995     7040481                     62.862670"
      ]
     },
     "execution_count": 181,
     "metadata": {},
     "output_type": "execute_result"
    }
   ],
   "source": [
    "# Join the data from the two table, only the values present in the two column !\n",
    "## With function of pandas\n",
    "df_swiss_data_inner_join = pd.merge(\n",
    "    df_swiss_population,\n",
    "    df_swiss_electricity_generation,\n",
    "    on=[\"Year\", \"Entity\", \"Code\"],\n",
    "    how=\"inner\",\n",
    ")\n",
    "## With methode of the df (linked to variable/object)\n",
    "df_inner_join_simpler = df_swiss_population.merge(\n",
    "    df_swiss_electricity_generation, on=[\"Year\", \"Entity\", \"Code\"], how=\"inner\"\n",
    ")\n",
    "df_swiss_data_inner_join.loc[0:10]"
   ]
  },
  {
   "cell_type": "markdown",
   "metadata": {},
   "source": [
    "#### Other important part to manipulate"
   ]
  },
  {
   "cell_type": "markdown",
   "metadata": {},
   "source": [
    "To merge two df, we need a key, this is a column name present on the two df, exactly the same !\n",
    "- `on` = Define on wich **column** the dfs where merge (exactly same column's name need to be present on both), if parameter `on` is None this use the intersection of the two df\n",
    "- `how` = Define on wich **row** the dfs where merge (find the same key)\n",
    "  - `inner` = Default join, only save the key present in both df\n",
    "  - `left` = Save all the key of **left**'s df, and complete with right information (when it's possible, be carefull, you will have some `NaN` value)\n",
    "  - `outer` = Save all the key of both df, also have `NaN` value"
   ]
  },
  {
   "cell_type": "markdown",
   "metadata": {},
   "source": [
    "If the structure between the df is **exactly** the same, you can use `concat` function, be carefull with index, not reinit :"
   ]
  },
  {
   "cell_type": "code",
   "execution_count": 182,
   "metadata": {},
   "outputs": [
    {
     "data": {
      "text/html": [
       "<div>\n",
       "<style scoped>\n",
       "    .dataframe tbody tr th:only-of-type {\n",
       "        vertical-align: middle;\n",
       "    }\n",
       "\n",
       "    .dataframe tbody tr th {\n",
       "        vertical-align: top;\n",
       "    }\n",
       "\n",
       "    .dataframe thead th {\n",
       "        text-align: right;\n",
       "    }\n",
       "</style>\n",
       "<table border=\"1\" class=\"dataframe\">\n",
       "  <thead>\n",
       "    <tr style=\"text-align: right;\">\n",
       "      <th></th>\n",
       "      <th>Entity</th>\n",
       "      <th>Code</th>\n",
       "      <th>Year</th>\n",
       "      <th>Population</th>\n",
       "      <th>Electricity generation - TWh</th>\n",
       "    </tr>\n",
       "  </thead>\n",
       "  <tbody>\n",
       "    <tr>\n",
       "      <th>0</th>\n",
       "      <td>Switzerland</td>\n",
       "      <td>CHE</td>\n",
       "      <td>1985</td>\n",
       "      <td>6470959</td>\n",
       "      <td>56.338123</td>\n",
       "    </tr>\n",
       "    <tr>\n",
       "      <th>1</th>\n",
       "      <td>Switzerland</td>\n",
       "      <td>CHE</td>\n",
       "      <td>1986</td>\n",
       "      <td>6504748</td>\n",
       "      <td>57.410492</td>\n",
       "    </tr>\n",
       "    <tr>\n",
       "      <th>2</th>\n",
       "      <td>Switzerland</td>\n",
       "      <td>CHE</td>\n",
       "      <td>1987</td>\n",
       "      <td>6545771</td>\n",
       "      <td>59.733856</td>\n",
       "    </tr>\n",
       "    <tr>\n",
       "      <th>3</th>\n",
       "      <td>Switzerland</td>\n",
       "      <td>CHE</td>\n",
       "      <td>1988</td>\n",
       "      <td>6594145</td>\n",
       "      <td>60.535755</td>\n",
       "    </tr>\n",
       "    <tr>\n",
       "      <th>4</th>\n",
       "      <td>Switzerland</td>\n",
       "      <td>CHE</td>\n",
       "      <td>1989</td>\n",
       "      <td>6647786</td>\n",
       "      <td>54.610770</td>\n",
       "    </tr>\n",
       "    <tr>\n",
       "      <th>5</th>\n",
       "      <td>Switzerland</td>\n",
       "      <td>CHE</td>\n",
       "      <td>1990</td>\n",
       "      <td>6713167</td>\n",
       "      <td>56.015427</td>\n",
       "    </tr>\n",
       "    <tr>\n",
       "      <th>6</th>\n",
       "      <td>Switzerland</td>\n",
       "      <td>CHE</td>\n",
       "      <td>1991</td>\n",
       "      <td>6796942</td>\n",
       "      <td>58.061848</td>\n",
       "    </tr>\n",
       "    <tr>\n",
       "      <th>7</th>\n",
       "      <td>Switzerland</td>\n",
       "      <td>CHE</td>\n",
       "      <td>1992</td>\n",
       "      <td>6875049</td>\n",
       "      <td>59.517920</td>\n",
       "    </tr>\n",
       "    <tr>\n",
       "      <th>8</th>\n",
       "      <td>Switzerland</td>\n",
       "      <td>CHE</td>\n",
       "      <td>1993</td>\n",
       "      <td>6938107</td>\n",
       "      <td>61.555614</td>\n",
       "    </tr>\n",
       "    <tr>\n",
       "      <th>9</th>\n",
       "      <td>Switzerland</td>\n",
       "      <td>CHE</td>\n",
       "      <td>1994</td>\n",
       "      <td>6993594</td>\n",
       "      <td>66.134240</td>\n",
       "    </tr>\n",
       "    <tr>\n",
       "      <th>10</th>\n",
       "      <td>Switzerland</td>\n",
       "      <td>CHE</td>\n",
       "      <td>1995</td>\n",
       "      <td>7040481</td>\n",
       "      <td>62.862670</td>\n",
       "    </tr>\n",
       "    <tr>\n",
       "      <th>11</th>\n",
       "      <td>Switzerland</td>\n",
       "      <td>CHE</td>\n",
       "      <td>1996</td>\n",
       "      <td>7071884</td>\n",
       "      <td>57.328350</td>\n",
       "    </tr>\n",
       "    <tr>\n",
       "      <th>12</th>\n",
       "      <td>Switzerland</td>\n",
       "      <td>CHE</td>\n",
       "      <td>1997</td>\n",
       "      <td>7089163</td>\n",
       "      <td>62.902084</td>\n",
       "    </tr>\n",
       "    <tr>\n",
       "      <th>13</th>\n",
       "      <td>Switzerland</td>\n",
       "      <td>CHE</td>\n",
       "      <td>1998</td>\n",
       "      <td>7110294</td>\n",
       "      <td>63.287940</td>\n",
       "    </tr>\n",
       "    <tr>\n",
       "      <th>14</th>\n",
       "      <td>Switzerland</td>\n",
       "      <td>CHE</td>\n",
       "      <td>1999</td>\n",
       "      <td>7144118</td>\n",
       "      <td>68.617320</td>\n",
       "    </tr>\n",
       "    <tr>\n",
       "      <th>15</th>\n",
       "      <td>Switzerland</td>\n",
       "      <td>CHE</td>\n",
       "      <td>2000</td>\n",
       "      <td>7184003</td>\n",
       "      <td>66.120000</td>\n",
       "    </tr>\n",
       "    <tr>\n",
       "      <th>16</th>\n",
       "      <td>Switzerland</td>\n",
       "      <td>CHE</td>\n",
       "      <td>2001</td>\n",
       "      <td>7226391</td>\n",
       "      <td>71.050000</td>\n",
       "    </tr>\n",
       "    <tr>\n",
       "      <th>17</th>\n",
       "      <td>Switzerland</td>\n",
       "      <td>CHE</td>\n",
       "      <td>2002</td>\n",
       "      <td>7278744</td>\n",
       "      <td>65.410000</td>\n",
       "    </tr>\n",
       "    <tr>\n",
       "      <th>18</th>\n",
       "      <td>Switzerland</td>\n",
       "      <td>CHE</td>\n",
       "      <td>2003</td>\n",
       "      <td>7333450</td>\n",
       "      <td>65.340000</td>\n",
       "    </tr>\n",
       "    <tr>\n",
       "      <th>19</th>\n",
       "      <td>Switzerland</td>\n",
       "      <td>CHE</td>\n",
       "      <td>2004</td>\n",
       "      <td>7384196</td>\n",
       "      <td>63.870000</td>\n",
       "    </tr>\n",
       "    <tr>\n",
       "      <th>20</th>\n",
       "      <td>Switzerland</td>\n",
       "      <td>CHE</td>\n",
       "      <td>2005</td>\n",
       "      <td>7431824</td>\n",
       "      <td>57.800000</td>\n",
       "    </tr>\n",
       "    <tr>\n",
       "      <th>21</th>\n",
       "      <td>Switzerland</td>\n",
       "      <td>CHE</td>\n",
       "      <td>2006</td>\n",
       "      <td>7478514</td>\n",
       "      <td>62.130000</td>\n",
       "    </tr>\n",
       "    <tr>\n",
       "      <th>22</th>\n",
       "      <td>Switzerland</td>\n",
       "      <td>CHE</td>\n",
       "      <td>2007</td>\n",
       "      <td>7545386</td>\n",
       "      <td>66.430000</td>\n",
       "    </tr>\n",
       "    <tr>\n",
       "      <th>23</th>\n",
       "      <td>Switzerland</td>\n",
       "      <td>CHE</td>\n",
       "      <td>2008</td>\n",
       "      <td>7641729</td>\n",
       "      <td>67.040000</td>\n",
       "    </tr>\n",
       "    <tr>\n",
       "      <th>24</th>\n",
       "      <td>Switzerland</td>\n",
       "      <td>CHE</td>\n",
       "      <td>2009</td>\n",
       "      <td>7737642</td>\n",
       "      <td>66.670000</td>\n",
       "    </tr>\n",
       "    <tr>\n",
       "      <th>25</th>\n",
       "      <td>Switzerland</td>\n",
       "      <td>CHE</td>\n",
       "      <td>2010</td>\n",
       "      <td>7825751</td>\n",
       "      <td>66.050000</td>\n",
       "    </tr>\n",
       "    <tr>\n",
       "      <th>26</th>\n",
       "      <td>Switzerland</td>\n",
       "      <td>CHE</td>\n",
       "      <td>2011</td>\n",
       "      <td>7914378</td>\n",
       "      <td>62.880000</td>\n",
       "    </tr>\n",
       "    <tr>\n",
       "      <th>27</th>\n",
       "      <td>Switzerland</td>\n",
       "      <td>CHE</td>\n",
       "      <td>2012</td>\n",
       "      <td>7998927</td>\n",
       "      <td>68.130000</td>\n",
       "    </tr>\n",
       "    <tr>\n",
       "      <th>28</th>\n",
       "      <td>Switzerland</td>\n",
       "      <td>CHE</td>\n",
       "      <td>2013</td>\n",
       "      <td>8091197</td>\n",
       "      <td>68.690000</td>\n",
       "    </tr>\n",
       "    <tr>\n",
       "      <th>29</th>\n",
       "      <td>Switzerland</td>\n",
       "      <td>CHE</td>\n",
       "      <td>2014</td>\n",
       "      <td>8190238</td>\n",
       "      <td>70.080000</td>\n",
       "    </tr>\n",
       "    <tr>\n",
       "      <th>30</th>\n",
       "      <td>Switzerland</td>\n",
       "      <td>CHE</td>\n",
       "      <td>2015</td>\n",
       "      <td>8283940</td>\n",
       "      <td>66.070000</td>\n",
       "    </tr>\n",
       "    <tr>\n",
       "      <th>31</th>\n",
       "      <td>Switzerland</td>\n",
       "      <td>CHE</td>\n",
       "      <td>2016</td>\n",
       "      <td>8374902</td>\n",
       "      <td>61.100000</td>\n",
       "    </tr>\n",
       "    <tr>\n",
       "      <th>32</th>\n",
       "      <td>Switzerland</td>\n",
       "      <td>CHE</td>\n",
       "      <td>2017</td>\n",
       "      <td>8453628</td>\n",
       "      <td>60.150000</td>\n",
       "    </tr>\n",
       "    <tr>\n",
       "      <th>33</th>\n",
       "      <td>Switzerland</td>\n",
       "      <td>CHE</td>\n",
       "      <td>2018</td>\n",
       "      <td>8516339</td>\n",
       "      <td>66.290000</td>\n",
       "    </tr>\n",
       "    <tr>\n",
       "      <th>34</th>\n",
       "      <td>Switzerland</td>\n",
       "      <td>CHE</td>\n",
       "      <td>2019</td>\n",
       "      <td>8577526</td>\n",
       "      <td>70.570000</td>\n",
       "    </tr>\n",
       "    <tr>\n",
       "      <th>35</th>\n",
       "      <td>Switzerland</td>\n",
       "      <td>CHE</td>\n",
       "      <td>2020</td>\n",
       "      <td>8640582</td>\n",
       "      <td>68.490000</td>\n",
       "    </tr>\n",
       "    <tr>\n",
       "      <th>36</th>\n",
       "      <td>Switzerland</td>\n",
       "      <td>CHE</td>\n",
       "      <td>2021</td>\n",
       "      <td>8707018</td>\n",
       "      <td>63.100000</td>\n",
       "    </tr>\n",
       "    <tr>\n",
       "      <th>37</th>\n",
       "      <td>Switzerland</td>\n",
       "      <td>CHE</td>\n",
       "      <td>2022</td>\n",
       "      <td>8792180</td>\n",
       "      <td>62.270000</td>\n",
       "    </tr>\n",
       "    <tr>\n",
       "      <th>38</th>\n",
       "      <td>Switzerland</td>\n",
       "      <td>CHE</td>\n",
       "      <td>2023</td>\n",
       "      <td>8870564</td>\n",
       "      <td>70.890000</td>\n",
       "    </tr>\n",
       "    <tr>\n",
       "      <th>0</th>\n",
       "      <td>Switzerland</td>\n",
       "      <td>CHE</td>\n",
       "      <td>1985</td>\n",
       "      <td>6470959</td>\n",
       "      <td>56.338123</td>\n",
       "    </tr>\n",
       "    <tr>\n",
       "      <th>1</th>\n",
       "      <td>Switzerland</td>\n",
       "      <td>CHE</td>\n",
       "      <td>1986</td>\n",
       "      <td>6504748</td>\n",
       "      <td>57.410492</td>\n",
       "    </tr>\n",
       "    <tr>\n",
       "      <th>2</th>\n",
       "      <td>Switzerland</td>\n",
       "      <td>CHE</td>\n",
       "      <td>1987</td>\n",
       "      <td>6545771</td>\n",
       "      <td>59.733856</td>\n",
       "    </tr>\n",
       "    <tr>\n",
       "      <th>3</th>\n",
       "      <td>Switzerland</td>\n",
       "      <td>CHE</td>\n",
       "      <td>1988</td>\n",
       "      <td>6594145</td>\n",
       "      <td>60.535755</td>\n",
       "    </tr>\n",
       "    <tr>\n",
       "      <th>4</th>\n",
       "      <td>Switzerland</td>\n",
       "      <td>CHE</td>\n",
       "      <td>1989</td>\n",
       "      <td>6647786</td>\n",
       "      <td>54.610770</td>\n",
       "    </tr>\n",
       "    <tr>\n",
       "      <th>5</th>\n",
       "      <td>Switzerland</td>\n",
       "      <td>CHE</td>\n",
       "      <td>1990</td>\n",
       "      <td>6713167</td>\n",
       "      <td>56.015427</td>\n",
       "    </tr>\n",
       "    <tr>\n",
       "      <th>6</th>\n",
       "      <td>Switzerland</td>\n",
       "      <td>CHE</td>\n",
       "      <td>1991</td>\n",
       "      <td>6796942</td>\n",
       "      <td>58.061848</td>\n",
       "    </tr>\n",
       "    <tr>\n",
       "      <th>7</th>\n",
       "      <td>Switzerland</td>\n",
       "      <td>CHE</td>\n",
       "      <td>1992</td>\n",
       "      <td>6875049</td>\n",
       "      <td>59.517920</td>\n",
       "    </tr>\n",
       "    <tr>\n",
       "      <th>8</th>\n",
       "      <td>Switzerland</td>\n",
       "      <td>CHE</td>\n",
       "      <td>1993</td>\n",
       "      <td>6938107</td>\n",
       "      <td>61.555614</td>\n",
       "    </tr>\n",
       "    <tr>\n",
       "      <th>9</th>\n",
       "      <td>Switzerland</td>\n",
       "      <td>CHE</td>\n",
       "      <td>1994</td>\n",
       "      <td>6993594</td>\n",
       "      <td>66.134240</td>\n",
       "    </tr>\n",
       "    <tr>\n",
       "      <th>10</th>\n",
       "      <td>Switzerland</td>\n",
       "      <td>CHE</td>\n",
       "      <td>1995</td>\n",
       "      <td>7040481</td>\n",
       "      <td>62.862670</td>\n",
       "    </tr>\n",
       "    <tr>\n",
       "      <th>11</th>\n",
       "      <td>Switzerland</td>\n",
       "      <td>CHE</td>\n",
       "      <td>1996</td>\n",
       "      <td>7071884</td>\n",
       "      <td>57.328350</td>\n",
       "    </tr>\n",
       "    <tr>\n",
       "      <th>12</th>\n",
       "      <td>Switzerland</td>\n",
       "      <td>CHE</td>\n",
       "      <td>1997</td>\n",
       "      <td>7089163</td>\n",
       "      <td>62.902084</td>\n",
       "    </tr>\n",
       "    <tr>\n",
       "      <th>13</th>\n",
       "      <td>Switzerland</td>\n",
       "      <td>CHE</td>\n",
       "      <td>1998</td>\n",
       "      <td>7110294</td>\n",
       "      <td>63.287940</td>\n",
       "    </tr>\n",
       "    <tr>\n",
       "      <th>14</th>\n",
       "      <td>Switzerland</td>\n",
       "      <td>CHE</td>\n",
       "      <td>1999</td>\n",
       "      <td>7144118</td>\n",
       "      <td>68.617320</td>\n",
       "    </tr>\n",
       "    <tr>\n",
       "      <th>15</th>\n",
       "      <td>Switzerland</td>\n",
       "      <td>CHE</td>\n",
       "      <td>2000</td>\n",
       "      <td>7184003</td>\n",
       "      <td>66.120000</td>\n",
       "    </tr>\n",
       "    <tr>\n",
       "      <th>16</th>\n",
       "      <td>Switzerland</td>\n",
       "      <td>CHE</td>\n",
       "      <td>2001</td>\n",
       "      <td>7226391</td>\n",
       "      <td>71.050000</td>\n",
       "    </tr>\n",
       "    <tr>\n",
       "      <th>17</th>\n",
       "      <td>Switzerland</td>\n",
       "      <td>CHE</td>\n",
       "      <td>2002</td>\n",
       "      <td>7278744</td>\n",
       "      <td>65.410000</td>\n",
       "    </tr>\n",
       "    <tr>\n",
       "      <th>18</th>\n",
       "      <td>Switzerland</td>\n",
       "      <td>CHE</td>\n",
       "      <td>2003</td>\n",
       "      <td>7333450</td>\n",
       "      <td>65.340000</td>\n",
       "    </tr>\n",
       "    <tr>\n",
       "      <th>19</th>\n",
       "      <td>Switzerland</td>\n",
       "      <td>CHE</td>\n",
       "      <td>2004</td>\n",
       "      <td>7384196</td>\n",
       "      <td>63.870000</td>\n",
       "    </tr>\n",
       "    <tr>\n",
       "      <th>20</th>\n",
       "      <td>Switzerland</td>\n",
       "      <td>CHE</td>\n",
       "      <td>2005</td>\n",
       "      <td>7431824</td>\n",
       "      <td>57.800000</td>\n",
       "    </tr>\n",
       "    <tr>\n",
       "      <th>21</th>\n",
       "      <td>Switzerland</td>\n",
       "      <td>CHE</td>\n",
       "      <td>2006</td>\n",
       "      <td>7478514</td>\n",
       "      <td>62.130000</td>\n",
       "    </tr>\n",
       "    <tr>\n",
       "      <th>22</th>\n",
       "      <td>Switzerland</td>\n",
       "      <td>CHE</td>\n",
       "      <td>2007</td>\n",
       "      <td>7545386</td>\n",
       "      <td>66.430000</td>\n",
       "    </tr>\n",
       "    <tr>\n",
       "      <th>23</th>\n",
       "      <td>Switzerland</td>\n",
       "      <td>CHE</td>\n",
       "      <td>2008</td>\n",
       "      <td>7641729</td>\n",
       "      <td>67.040000</td>\n",
       "    </tr>\n",
       "    <tr>\n",
       "      <th>24</th>\n",
       "      <td>Switzerland</td>\n",
       "      <td>CHE</td>\n",
       "      <td>2009</td>\n",
       "      <td>7737642</td>\n",
       "      <td>66.670000</td>\n",
       "    </tr>\n",
       "    <tr>\n",
       "      <th>25</th>\n",
       "      <td>Switzerland</td>\n",
       "      <td>CHE</td>\n",
       "      <td>2010</td>\n",
       "      <td>7825751</td>\n",
       "      <td>66.050000</td>\n",
       "    </tr>\n",
       "    <tr>\n",
       "      <th>26</th>\n",
       "      <td>Switzerland</td>\n",
       "      <td>CHE</td>\n",
       "      <td>2011</td>\n",
       "      <td>7914378</td>\n",
       "      <td>62.880000</td>\n",
       "    </tr>\n",
       "    <tr>\n",
       "      <th>27</th>\n",
       "      <td>Switzerland</td>\n",
       "      <td>CHE</td>\n",
       "      <td>2012</td>\n",
       "      <td>7998927</td>\n",
       "      <td>68.130000</td>\n",
       "    </tr>\n",
       "    <tr>\n",
       "      <th>28</th>\n",
       "      <td>Switzerland</td>\n",
       "      <td>CHE</td>\n",
       "      <td>2013</td>\n",
       "      <td>8091197</td>\n",
       "      <td>68.690000</td>\n",
       "    </tr>\n",
       "    <tr>\n",
       "      <th>29</th>\n",
       "      <td>Switzerland</td>\n",
       "      <td>CHE</td>\n",
       "      <td>2014</td>\n",
       "      <td>8190238</td>\n",
       "      <td>70.080000</td>\n",
       "    </tr>\n",
       "    <tr>\n",
       "      <th>30</th>\n",
       "      <td>Switzerland</td>\n",
       "      <td>CHE</td>\n",
       "      <td>2015</td>\n",
       "      <td>8283940</td>\n",
       "      <td>66.070000</td>\n",
       "    </tr>\n",
       "    <tr>\n",
       "      <th>31</th>\n",
       "      <td>Switzerland</td>\n",
       "      <td>CHE</td>\n",
       "      <td>2016</td>\n",
       "      <td>8374902</td>\n",
       "      <td>61.100000</td>\n",
       "    </tr>\n",
       "    <tr>\n",
       "      <th>32</th>\n",
       "      <td>Switzerland</td>\n",
       "      <td>CHE</td>\n",
       "      <td>2017</td>\n",
       "      <td>8453628</td>\n",
       "      <td>60.150000</td>\n",
       "    </tr>\n",
       "    <tr>\n",
       "      <th>33</th>\n",
       "      <td>Switzerland</td>\n",
       "      <td>CHE</td>\n",
       "      <td>2018</td>\n",
       "      <td>8516339</td>\n",
       "      <td>66.290000</td>\n",
       "    </tr>\n",
       "    <tr>\n",
       "      <th>34</th>\n",
       "      <td>Switzerland</td>\n",
       "      <td>CHE</td>\n",
       "      <td>2019</td>\n",
       "      <td>8577526</td>\n",
       "      <td>70.570000</td>\n",
       "    </tr>\n",
       "    <tr>\n",
       "      <th>35</th>\n",
       "      <td>Switzerland</td>\n",
       "      <td>CHE</td>\n",
       "      <td>2020</td>\n",
       "      <td>8640582</td>\n",
       "      <td>68.490000</td>\n",
       "    </tr>\n",
       "    <tr>\n",
       "      <th>36</th>\n",
       "      <td>Switzerland</td>\n",
       "      <td>CHE</td>\n",
       "      <td>2021</td>\n",
       "      <td>8707018</td>\n",
       "      <td>63.100000</td>\n",
       "    </tr>\n",
       "    <tr>\n",
       "      <th>37</th>\n",
       "      <td>Switzerland</td>\n",
       "      <td>CHE</td>\n",
       "      <td>2022</td>\n",
       "      <td>8792180</td>\n",
       "      <td>62.270000</td>\n",
       "    </tr>\n",
       "    <tr>\n",
       "      <th>38</th>\n",
       "      <td>Switzerland</td>\n",
       "      <td>CHE</td>\n",
       "      <td>2023</td>\n",
       "      <td>8870564</td>\n",
       "      <td>70.890000</td>\n",
       "    </tr>\n",
       "  </tbody>\n",
       "</table>\n",
       "</div>"
      ],
      "text/plain": [
       "         Entity Code  Year  Population  Electricity generation - TWh\n",
       "0   Switzerland  CHE  1985     6470959                     56.338123\n",
       "1   Switzerland  CHE  1986     6504748                     57.410492\n",
       "2   Switzerland  CHE  1987     6545771                     59.733856\n",
       "3   Switzerland  CHE  1988     6594145                     60.535755\n",
       "4   Switzerland  CHE  1989     6647786                     54.610770\n",
       "5   Switzerland  CHE  1990     6713167                     56.015427\n",
       "6   Switzerland  CHE  1991     6796942                     58.061848\n",
       "7   Switzerland  CHE  1992     6875049                     59.517920\n",
       "8   Switzerland  CHE  1993     6938107                     61.555614\n",
       "9   Switzerland  CHE  1994     6993594                     66.134240\n",
       "10  Switzerland  CHE  1995     7040481                     62.862670\n",
       "11  Switzerland  CHE  1996     7071884                     57.328350\n",
       "12  Switzerland  CHE  1997     7089163                     62.902084\n",
       "13  Switzerland  CHE  1998     7110294                     63.287940\n",
       "14  Switzerland  CHE  1999     7144118                     68.617320\n",
       "15  Switzerland  CHE  2000     7184003                     66.120000\n",
       "16  Switzerland  CHE  2001     7226391                     71.050000\n",
       "17  Switzerland  CHE  2002     7278744                     65.410000\n",
       "18  Switzerland  CHE  2003     7333450                     65.340000\n",
       "19  Switzerland  CHE  2004     7384196                     63.870000\n",
       "20  Switzerland  CHE  2005     7431824                     57.800000\n",
       "21  Switzerland  CHE  2006     7478514                     62.130000\n",
       "22  Switzerland  CHE  2007     7545386                     66.430000\n",
       "23  Switzerland  CHE  2008     7641729                     67.040000\n",
       "24  Switzerland  CHE  2009     7737642                     66.670000\n",
       "25  Switzerland  CHE  2010     7825751                     66.050000\n",
       "26  Switzerland  CHE  2011     7914378                     62.880000\n",
       "27  Switzerland  CHE  2012     7998927                     68.130000\n",
       "28  Switzerland  CHE  2013     8091197                     68.690000\n",
       "29  Switzerland  CHE  2014     8190238                     70.080000\n",
       "30  Switzerland  CHE  2015     8283940                     66.070000\n",
       "31  Switzerland  CHE  2016     8374902                     61.100000\n",
       "32  Switzerland  CHE  2017     8453628                     60.150000\n",
       "33  Switzerland  CHE  2018     8516339                     66.290000\n",
       "34  Switzerland  CHE  2019     8577526                     70.570000\n",
       "35  Switzerland  CHE  2020     8640582                     68.490000\n",
       "36  Switzerland  CHE  2021     8707018                     63.100000\n",
       "37  Switzerland  CHE  2022     8792180                     62.270000\n",
       "38  Switzerland  CHE  2023     8870564                     70.890000\n",
       "0   Switzerland  CHE  1985     6470959                     56.338123\n",
       "1   Switzerland  CHE  1986     6504748                     57.410492\n",
       "2   Switzerland  CHE  1987     6545771                     59.733856\n",
       "3   Switzerland  CHE  1988     6594145                     60.535755\n",
       "4   Switzerland  CHE  1989     6647786                     54.610770\n",
       "5   Switzerland  CHE  1990     6713167                     56.015427\n",
       "6   Switzerland  CHE  1991     6796942                     58.061848\n",
       "7   Switzerland  CHE  1992     6875049                     59.517920\n",
       "8   Switzerland  CHE  1993     6938107                     61.555614\n",
       "9   Switzerland  CHE  1994     6993594                     66.134240\n",
       "10  Switzerland  CHE  1995     7040481                     62.862670\n",
       "11  Switzerland  CHE  1996     7071884                     57.328350\n",
       "12  Switzerland  CHE  1997     7089163                     62.902084\n",
       "13  Switzerland  CHE  1998     7110294                     63.287940\n",
       "14  Switzerland  CHE  1999     7144118                     68.617320\n",
       "15  Switzerland  CHE  2000     7184003                     66.120000\n",
       "16  Switzerland  CHE  2001     7226391                     71.050000\n",
       "17  Switzerland  CHE  2002     7278744                     65.410000\n",
       "18  Switzerland  CHE  2003     7333450                     65.340000\n",
       "19  Switzerland  CHE  2004     7384196                     63.870000\n",
       "20  Switzerland  CHE  2005     7431824                     57.800000\n",
       "21  Switzerland  CHE  2006     7478514                     62.130000\n",
       "22  Switzerland  CHE  2007     7545386                     66.430000\n",
       "23  Switzerland  CHE  2008     7641729                     67.040000\n",
       "24  Switzerland  CHE  2009     7737642                     66.670000\n",
       "25  Switzerland  CHE  2010     7825751                     66.050000\n",
       "26  Switzerland  CHE  2011     7914378                     62.880000\n",
       "27  Switzerland  CHE  2012     7998927                     68.130000\n",
       "28  Switzerland  CHE  2013     8091197                     68.690000\n",
       "29  Switzerland  CHE  2014     8190238                     70.080000\n",
       "30  Switzerland  CHE  2015     8283940                     66.070000\n",
       "31  Switzerland  CHE  2016     8374902                     61.100000\n",
       "32  Switzerland  CHE  2017     8453628                     60.150000\n",
       "33  Switzerland  CHE  2018     8516339                     66.290000\n",
       "34  Switzerland  CHE  2019     8577526                     70.570000\n",
       "35  Switzerland  CHE  2020     8640582                     68.490000\n",
       "36  Switzerland  CHE  2021     8707018                     63.100000\n",
       "37  Switzerland  CHE  2022     8792180                     62.270000\n",
       "38  Switzerland  CHE  2023     8870564                     70.890000"
      ]
     },
     "execution_count": 182,
     "metadata": {},
     "output_type": "execute_result"
    }
   ],
   "source": [
    "df_concat = pd.concat([df_inner_join_simpler, df_swiss_data_inner_join])\n",
    "df_concat"
   ]
  },
  {
   "cell_type": "markdown",
   "metadata": {},
   "source": [
    "To add information after, use the `append` method : `df1.append(df2)`"
   ]
  },
  {
   "cell_type": "markdown",
   "metadata": {},
   "source": [
    "##### NaN (NaT,...) value"
   ]
  },
  {
   "cell_type": "markdown",
   "metadata": {},
   "source": [
    "This value is a problem when you manipulate data.\n",
    "\n",
    "It's possible to solve the problem with various method :\n",
    "- Complete with constant value - `df=df.fillna(1)` \n",
    "  - Replace by the integer 1 if you have time series, that doesn't work, use p.ex. : `df[\"time\"].fillna(pd.Timestamp(\"20221225\"))`\n",
    "- Remove value - `df.dropna()`\n",
    "  - Remove row (parameter `axis = 0`) or column (parameter `axis = 1`) with `NaN`, by default `axis = o`\n",
    "- Interpolate value - `df=df.interpolate()`\n",
    "  - Fill with midpoint between the two cells"
   ]
  },
  {
   "cell_type": "markdown",
   "metadata": {},
   "source": [
    "## Visualisation of the data"
   ]
  },
  {
   "cell_type": "markdown",
   "metadata": {},
   "source": [
    "Now I would like to visualize the evolution of the electricity generation per capita over the time :"
   ]
  },
  {
   "cell_type": "code",
   "execution_count": 183,
   "metadata": {},
   "outputs": [],
   "source": [
    "# The basic ways to do that\n",
    "\n",
    "# Before need to create the empty column\n",
    "nb_line = df_swiss_data_inner_join.shape[0]\n",
    "df_swiss_data_inner_join[\"Production per capita - kWh\"] = np.zeros(nb_line)\n",
    "# Range because int is not iterable (create a sequence of number)\n",
    "for i in range(df_swiss_data_inner_join.shape[0]):\n",
    "    df_swiss_data_inner_join.loc[i, \"Production per capita - kWh\"] = (\n",
    "        df_swiss_data_inner_join.loc[i, \"Electricity generation - TWh\"]\n",
    "        / df_swiss_data_inner_join.loc[i, \"Population\"]\n",
    "        * 1e9\n",
    "    )"
   ]
  },
  {
   "cell_type": "markdown",
   "metadata": {},
   "source": [
    "The second method *__and simply__* method to do that"
   ]
  },
  {
   "cell_type": "code",
   "execution_count": 184,
   "metadata": {},
   "outputs": [],
   "source": [
    "df_swiss_data_inner_join[\"Production per capita 2e method - kWh\"] = (\n",
    "    df_swiss_data_inner_join[\"Electricity generation - TWh\"]\n",
    "    / df_swiss_data_inner_join[\"Population\"]\n",
    "    * 1e9\n",
    ")"
   ]
  },
  {
   "cell_type": "markdown",
   "metadata": {},
   "source": [
    "#### Another ways to do that"
   ]
  },
  {
   "cell_type": "markdown",
   "metadata": {},
   "source": [
    "The power of apply plus lambda function is his simplicity, we can apply a function (lambda) to multiple row in one line of code. (Small comparison of using or not [lambda](https://www.geeksforgeeks.org/python-lambda-anonymous-functions-filter-map-reduce/#:~:text=With%20lambda%20function,Without%20lambda%20function) function)\n",
    "\n"
   ]
  },
  {
   "cell_type": "code",
   "execution_count": 185,
   "metadata": {},
   "outputs": [],
   "source": [
    "df_swiss_data_inner_join[\"Production per capita 3e method - kWh\"] = (\n",
    "    df_swiss_data_inner_join.apply(\n",
    "        lambda row: row[\"Electricity generation - TWh\"] / row[\"Population\"] * 1e9,\n",
    "        axis=1,\n",
    "    )\n",
    ")"
   ]
  },
  {
   "cell_type": "markdown",
   "metadata": {},
   "source": [
    "It also possible to add a condition with an if function.\n",
    "I would like to know if the production per capita of this year is upper than the global average."
   ]
  },
  {
   "cell_type": "code",
   "execution_count": 186,
   "metadata": {},
   "outputs": [],
   "source": [
    "mean_production_per_capita = df_swiss_data_inner_join[\n",
    "    \"Production per capita - kWh\"\n",
    "].mean()\n",
    "df_swiss_data_inner_join[\"Per Capita Up than mean\"] = df_swiss_data_inner_join.apply(\n",
    "    lambda row: (\n",
    "        \"Yes\"\n",
    "        if row[\"Production per capita - kWh\"] > mean_production_per_capita\n",
    "        else \"No\"\n",
    "    ),\n",
    "    axis=1,\n",
    ")"
   ]
  },
  {
   "cell_type": "markdown",
   "metadata": {},
   "source": [
    "#### Compare the three methods"
   ]
  },
  {
   "cell_type": "markdown",
   "metadata": {},
   "source": [
    "If we only multiply column, the second method is the simplest."
   ]
  },
  {
   "cell_type": "code",
   "execution_count": 187,
   "metadata": {},
   "outputs": [
    {
     "data": {
      "text/html": [
       "<div>\n",
       "<style scoped>\n",
       "    .dataframe tbody tr th:only-of-type {\n",
       "        vertical-align: middle;\n",
       "    }\n",
       "\n",
       "    .dataframe tbody tr th {\n",
       "        vertical-align: top;\n",
       "    }\n",
       "\n",
       "    .dataframe thead th {\n",
       "        text-align: right;\n",
       "    }\n",
       "</style>\n",
       "<table border=\"1\" class=\"dataframe\">\n",
       "  <thead>\n",
       "    <tr style=\"text-align: right;\">\n",
       "      <th></th>\n",
       "      <th>Year</th>\n",
       "      <th>Production per capita - kWh</th>\n",
       "      <th>Production per capita 2e method - kWh</th>\n",
       "      <th>Production per capita 3e method - kWh</th>\n",
       "    </tr>\n",
       "  </thead>\n",
       "  <tbody>\n",
       "    <tr>\n",
       "      <th>0</th>\n",
       "      <td>1985</td>\n",
       "      <td>8706.301956</td>\n",
       "      <td>8706.301956</td>\n",
       "      <td>8706.301956</td>\n",
       "    </tr>\n",
       "    <tr>\n",
       "      <th>1</th>\n",
       "      <td>1986</td>\n",
       "      <td>8825.936378</td>\n",
       "      <td>8825.936378</td>\n",
       "      <td>8825.936378</td>\n",
       "    </tr>\n",
       "    <tr>\n",
       "      <th>2</th>\n",
       "      <td>1987</td>\n",
       "      <td>9125.564582</td>\n",
       "      <td>9125.564582</td>\n",
       "      <td>9125.564582</td>\n",
       "    </tr>\n",
       "    <tr>\n",
       "      <th>3</th>\n",
       "      <td>1988</td>\n",
       "      <td>9180.228066</td>\n",
       "      <td>9180.228066</td>\n",
       "      <td>9180.228066</td>\n",
       "    </tr>\n",
       "    <tr>\n",
       "      <th>4</th>\n",
       "      <td>1989</td>\n",
       "      <td>8214.880864</td>\n",
       "      <td>8214.880864</td>\n",
       "      <td>8214.880864</td>\n",
       "    </tr>\n",
       "  </tbody>\n",
       "</table>\n",
       "</div>"
      ],
      "text/plain": [
       "   Year  Production per capita - kWh  Production per capita 2e method - kWh  \\\n",
       "0  1985                  8706.301956                            8706.301956   \n",
       "1  1986                  8825.936378                            8825.936378   \n",
       "2  1987                  9125.564582                            9125.564582   \n",
       "3  1988                  9180.228066                            9180.228066   \n",
       "4  1989                  8214.880864                            8214.880864   \n",
       "\n",
       "   Production per capita 3e method - kWh  \n",
       "0                            8706.301956  \n",
       "1                            8825.936378  \n",
       "2                            9125.564582  \n",
       "3                            9180.228066  \n",
       "4                            8214.880864  "
      ]
     },
     "execution_count": 187,
     "metadata": {},
     "output_type": "execute_result"
    }
   ],
   "source": [
    "df_swiss_data_inner_join[\n",
    "    [\n",
    "        \"Year\",\n",
    "        \"Production per capita - kWh\",\n",
    "        \"Production per capita 2e method - kWh\",\n",
    "        \"Production per capita 3e method - kWh\",\n",
    "    ]\n",
    "].loc[0:4]"
   ]
  },
  {
   "cell_type": "markdown",
   "metadata": {},
   "source": [
    "#### Clean dataframe\n"
   ]
  },
  {
   "cell_type": "markdown",
   "metadata": {},
   "source": [
    "Like we can see, the dataframe can have a lots informations inside, it's possible to remove certain column, or just print the part you want."
   ]
  },
  {
   "cell_type": "code",
   "execution_count": 188,
   "metadata": {},
   "outputs": [],
   "source": [
    "# One way to remove unwanted column\n",
    "df_swiss_data_clean = df_swiss_data_inner_join.drop(\n",
    "    columns=[\n",
    "        \"Entity\",\n",
    "        \"Code\",\n",
    "        \"Production per capita 2e method - kWh\",\n",
    "        \"Production per capita 3e method - kWh\",\n",
    "    ]\n",
    ")"
   ]
  },
  {
   "cell_type": "markdown",
   "metadata": {},
   "source": [
    "### Plot information"
   ]
  },
  {
   "cell_type": "markdown",
   "metadata": {},
   "source": [
    "Now I would like to visualize the Population and the production per capita over time"
   ]
  },
  {
   "cell_type": "code",
   "execution_count": 189,
   "metadata": {},
   "outputs": [
    {
     "data": {
      "application/vnd.plotly.v1+json": {
       "config": {
        "plotlyServerURL": "https://plot.ly"
       },
       "data": [
        {
         "hovertemplate": "Year=%{x}<br>Production per capita - kWh=%{y}<extra></extra>",
         "legendgroup": "",
         "line": {
          "dash": "solid"
         },
         "marker": {
          "symbol": "circle"
         },
         "mode": "lines",
         "name": "",
         "orientation": "v",
         "showlegend": false,
         "type": "scatter",
         "x": [
          1985,
          1986,
          1987,
          1988,
          1989,
          1990,
          1991,
          1992,
          1993,
          1994,
          1995,
          1996,
          1997,
          1998,
          1999,
          2000,
          2001,
          2002,
          2003,
          2004,
          2005,
          2006,
          2007,
          2008,
          2009,
          2010,
          2011,
          2012,
          2013,
          2014,
          2015,
          2016,
          2017,
          2018,
          2019,
          2020,
          2021,
          2022,
          2023
         ],
         "xaxis": "x",
         "y": [
          8706.30195617064,
          8825.936377550675,
          9125.564582079025,
          9180.228065958514,
          8214.880864095205,
          8344.113441539588,
          8542.348603239516,
          8657.090298556417,
          8872.105028071777,
          9456.402530658772,
          8928.746487633445,
          8106.517301471575,
          8872.991635260749,
          8900.88933031461,
          9604.729373171049,
          9203.782348086437,
          9832.017116151063,
          8986.440517759656,
          8909.858252255079,
          8649.553722571827,
          7777.363941880217,
          8307.800185972776,
          8804.05588262814,
          8772.883728276676,
          8616.320062365252,
          8440.08453629562,
          7945.033709534724,
          8517.392395255014,
          8489.473189195616,
          8556.527905538276,
          7975.673411444311,
          7295.607757559432,
          7115.288252570375,
          7783.8611168484495,
          8227.31402970973,
          7926.5493921590005,
          7247.027627598794,
          7082.430068538179,
          7991.60008315142
         ],
         "yaxis": "y"
        },
        {
         "hovertemplate": "Year=%{x}<br>Population=%{y}<extra></extra>",
         "legendgroup": "",
         "line": {
          "dash": "solid"
         },
         "marker": {
          "symbol": "circle"
         },
         "mode": "lines",
         "name": "",
         "orientation": "v",
         "showlegend": false,
         "type": "scatter",
         "x": [
          1985,
          1986,
          1987,
          1988,
          1989,
          1990,
          1991,
          1992,
          1993,
          1994,
          1995,
          1996,
          1997,
          1998,
          1999,
          2000,
          2001,
          2002,
          2003,
          2004,
          2005,
          2006,
          2007,
          2008,
          2009,
          2010,
          2011,
          2012,
          2013,
          2014,
          2015,
          2016,
          2017,
          2018,
          2019,
          2020,
          2021,
          2022,
          2023
         ],
         "xaxis": "x",
         "y": [
          6470959,
          6504748,
          6545771,
          6594145,
          6647786,
          6713167,
          6796942,
          6875049,
          6938107,
          6993594,
          7040481,
          7071884,
          7089163,
          7110294,
          7144118,
          7184003,
          7226391,
          7278744,
          7333450,
          7384196,
          7431824,
          7478514,
          7545386,
          7641729,
          7737642,
          7825751,
          7914378,
          7998927,
          8091197,
          8190238,
          8283940,
          8374902,
          8453628,
          8516339,
          8577526,
          8640582,
          8707018,
          8792180,
          8870564
         ],
         "yaxis": "y2"
        }
       ],
       "layout": {
        "height": 500,
        "margin": {
         "b": 60,
         "l": 60,
         "r": 60,
         "t": 60
        },
        "template": {
         "data": {
          "bar": [
           {
            "error_x": {
             "color": "#2a3f5f"
            },
            "error_y": {
             "color": "#2a3f5f"
            },
            "marker": {
             "line": {
              "color": "#E5ECF6",
              "width": 0.5
             },
             "pattern": {
              "fillmode": "overlay",
              "size": 10,
              "solidity": 0.2
             }
            },
            "type": "bar"
           }
          ],
          "barpolar": [
           {
            "marker": {
             "line": {
              "color": "#E5ECF6",
              "width": 0.5
             },
             "pattern": {
              "fillmode": "overlay",
              "size": 10,
              "solidity": 0.2
             }
            },
            "type": "barpolar"
           }
          ],
          "carpet": [
           {
            "aaxis": {
             "endlinecolor": "#2a3f5f",
             "gridcolor": "white",
             "linecolor": "white",
             "minorgridcolor": "white",
             "startlinecolor": "#2a3f5f"
            },
            "baxis": {
             "endlinecolor": "#2a3f5f",
             "gridcolor": "white",
             "linecolor": "white",
             "minorgridcolor": "white",
             "startlinecolor": "#2a3f5f"
            },
            "type": "carpet"
           }
          ],
          "choropleth": [
           {
            "colorbar": {
             "outlinewidth": 0,
             "ticks": ""
            },
            "type": "choropleth"
           }
          ],
          "contour": [
           {
            "colorbar": {
             "outlinewidth": 0,
             "ticks": ""
            },
            "colorscale": [
             [
              0,
              "#0d0887"
             ],
             [
              0.1111111111111111,
              "#46039f"
             ],
             [
              0.2222222222222222,
              "#7201a8"
             ],
             [
              0.3333333333333333,
              "#9c179e"
             ],
             [
              0.4444444444444444,
              "#bd3786"
             ],
             [
              0.5555555555555556,
              "#d8576b"
             ],
             [
              0.6666666666666666,
              "#ed7953"
             ],
             [
              0.7777777777777778,
              "#fb9f3a"
             ],
             [
              0.8888888888888888,
              "#fdca26"
             ],
             [
              1,
              "#f0f921"
             ]
            ],
            "type": "contour"
           }
          ],
          "contourcarpet": [
           {
            "colorbar": {
             "outlinewidth": 0,
             "ticks": ""
            },
            "type": "contourcarpet"
           }
          ],
          "heatmap": [
           {
            "colorbar": {
             "outlinewidth": 0,
             "ticks": ""
            },
            "colorscale": [
             [
              0,
              "#0d0887"
             ],
             [
              0.1111111111111111,
              "#46039f"
             ],
             [
              0.2222222222222222,
              "#7201a8"
             ],
             [
              0.3333333333333333,
              "#9c179e"
             ],
             [
              0.4444444444444444,
              "#bd3786"
             ],
             [
              0.5555555555555556,
              "#d8576b"
             ],
             [
              0.6666666666666666,
              "#ed7953"
             ],
             [
              0.7777777777777778,
              "#fb9f3a"
             ],
             [
              0.8888888888888888,
              "#fdca26"
             ],
             [
              1,
              "#f0f921"
             ]
            ],
            "type": "heatmap"
           }
          ],
          "heatmapgl": [
           {
            "colorbar": {
             "outlinewidth": 0,
             "ticks": ""
            },
            "colorscale": [
             [
              0,
              "#0d0887"
             ],
             [
              0.1111111111111111,
              "#46039f"
             ],
             [
              0.2222222222222222,
              "#7201a8"
             ],
             [
              0.3333333333333333,
              "#9c179e"
             ],
             [
              0.4444444444444444,
              "#bd3786"
             ],
             [
              0.5555555555555556,
              "#d8576b"
             ],
             [
              0.6666666666666666,
              "#ed7953"
             ],
             [
              0.7777777777777778,
              "#fb9f3a"
             ],
             [
              0.8888888888888888,
              "#fdca26"
             ],
             [
              1,
              "#f0f921"
             ]
            ],
            "type": "heatmapgl"
           }
          ],
          "histogram": [
           {
            "marker": {
             "pattern": {
              "fillmode": "overlay",
              "size": 10,
              "solidity": 0.2
             }
            },
            "type": "histogram"
           }
          ],
          "histogram2d": [
           {
            "colorbar": {
             "outlinewidth": 0,
             "ticks": ""
            },
            "colorscale": [
             [
              0,
              "#0d0887"
             ],
             [
              0.1111111111111111,
              "#46039f"
             ],
             [
              0.2222222222222222,
              "#7201a8"
             ],
             [
              0.3333333333333333,
              "#9c179e"
             ],
             [
              0.4444444444444444,
              "#bd3786"
             ],
             [
              0.5555555555555556,
              "#d8576b"
             ],
             [
              0.6666666666666666,
              "#ed7953"
             ],
             [
              0.7777777777777778,
              "#fb9f3a"
             ],
             [
              0.8888888888888888,
              "#fdca26"
             ],
             [
              1,
              "#f0f921"
             ]
            ],
            "type": "histogram2d"
           }
          ],
          "histogram2dcontour": [
           {
            "colorbar": {
             "outlinewidth": 0,
             "ticks": ""
            },
            "colorscale": [
             [
              0,
              "#0d0887"
             ],
             [
              0.1111111111111111,
              "#46039f"
             ],
             [
              0.2222222222222222,
              "#7201a8"
             ],
             [
              0.3333333333333333,
              "#9c179e"
             ],
             [
              0.4444444444444444,
              "#bd3786"
             ],
             [
              0.5555555555555556,
              "#d8576b"
             ],
             [
              0.6666666666666666,
              "#ed7953"
             ],
             [
              0.7777777777777778,
              "#fb9f3a"
             ],
             [
              0.8888888888888888,
              "#fdca26"
             ],
             [
              1,
              "#f0f921"
             ]
            ],
            "type": "histogram2dcontour"
           }
          ],
          "mesh3d": [
           {
            "colorbar": {
             "outlinewidth": 0,
             "ticks": ""
            },
            "type": "mesh3d"
           }
          ],
          "parcoords": [
           {
            "line": {
             "colorbar": {
              "outlinewidth": 0,
              "ticks": ""
             }
            },
            "type": "parcoords"
           }
          ],
          "pie": [
           {
            "automargin": true,
            "type": "pie"
           }
          ],
          "scatter": [
           {
            "fillpattern": {
             "fillmode": "overlay",
             "size": 10,
             "solidity": 0.2
            },
            "type": "scatter"
           }
          ],
          "scatter3d": [
           {
            "line": {
             "colorbar": {
              "outlinewidth": 0,
              "ticks": ""
             }
            },
            "marker": {
             "colorbar": {
              "outlinewidth": 0,
              "ticks": ""
             }
            },
            "type": "scatter3d"
           }
          ],
          "scattercarpet": [
           {
            "marker": {
             "colorbar": {
              "outlinewidth": 0,
              "ticks": ""
             }
            },
            "type": "scattercarpet"
           }
          ],
          "scattergeo": [
           {
            "marker": {
             "colorbar": {
              "outlinewidth": 0,
              "ticks": ""
             }
            },
            "type": "scattergeo"
           }
          ],
          "scattergl": [
           {
            "marker": {
             "colorbar": {
              "outlinewidth": 0,
              "ticks": ""
             }
            },
            "type": "scattergl"
           }
          ],
          "scattermapbox": [
           {
            "marker": {
             "colorbar": {
              "outlinewidth": 0,
              "ticks": ""
             }
            },
            "type": "scattermapbox"
           }
          ],
          "scatterpolar": [
           {
            "marker": {
             "colorbar": {
              "outlinewidth": 0,
              "ticks": ""
             }
            },
            "type": "scatterpolar"
           }
          ],
          "scatterpolargl": [
           {
            "marker": {
             "colorbar": {
              "outlinewidth": 0,
              "ticks": ""
             }
            },
            "type": "scatterpolargl"
           }
          ],
          "scatterternary": [
           {
            "marker": {
             "colorbar": {
              "outlinewidth": 0,
              "ticks": ""
             }
            },
            "type": "scatterternary"
           }
          ],
          "surface": [
           {
            "colorbar": {
             "outlinewidth": 0,
             "ticks": ""
            },
            "colorscale": [
             [
              0,
              "#0d0887"
             ],
             [
              0.1111111111111111,
              "#46039f"
             ],
             [
              0.2222222222222222,
              "#7201a8"
             ],
             [
              0.3333333333333333,
              "#9c179e"
             ],
             [
              0.4444444444444444,
              "#bd3786"
             ],
             [
              0.5555555555555556,
              "#d8576b"
             ],
             [
              0.6666666666666666,
              "#ed7953"
             ],
             [
              0.7777777777777778,
              "#fb9f3a"
             ],
             [
              0.8888888888888888,
              "#fdca26"
             ],
             [
              1,
              "#f0f921"
             ]
            ],
            "type": "surface"
           }
          ],
          "table": [
           {
            "cells": {
             "fill": {
              "color": "#EBF0F8"
             },
             "line": {
              "color": "white"
             }
            },
            "header": {
             "fill": {
              "color": "#C8D4E3"
             },
             "line": {
              "color": "white"
             }
            },
            "type": "table"
           }
          ]
         },
         "layout": {
          "annotationdefaults": {
           "arrowcolor": "#2a3f5f",
           "arrowhead": 0,
           "arrowwidth": 1
          },
          "autotypenumbers": "strict",
          "coloraxis": {
           "colorbar": {
            "outlinewidth": 0,
            "ticks": ""
           }
          },
          "colorscale": {
           "diverging": [
            [
             0,
             "#8e0152"
            ],
            [
             0.1,
             "#c51b7d"
            ],
            [
             0.2,
             "#de77ae"
            ],
            [
             0.3,
             "#f1b6da"
            ],
            [
             0.4,
             "#fde0ef"
            ],
            [
             0.5,
             "#f7f7f7"
            ],
            [
             0.6,
             "#e6f5d0"
            ],
            [
             0.7,
             "#b8e186"
            ],
            [
             0.8,
             "#7fbc41"
            ],
            [
             0.9,
             "#4d9221"
            ],
            [
             1,
             "#276419"
            ]
           ],
           "sequential": [
            [
             0,
             "#0d0887"
            ],
            [
             0.1111111111111111,
             "#46039f"
            ],
            [
             0.2222222222222222,
             "#7201a8"
            ],
            [
             0.3333333333333333,
             "#9c179e"
            ],
            [
             0.4444444444444444,
             "#bd3786"
            ],
            [
             0.5555555555555556,
             "#d8576b"
            ],
            [
             0.6666666666666666,
             "#ed7953"
            ],
            [
             0.7777777777777778,
             "#fb9f3a"
            ],
            [
             0.8888888888888888,
             "#fdca26"
            ],
            [
             1,
             "#f0f921"
            ]
           ],
           "sequentialminus": [
            [
             0,
             "#0d0887"
            ],
            [
             0.1111111111111111,
             "#46039f"
            ],
            [
             0.2222222222222222,
             "#7201a8"
            ],
            [
             0.3333333333333333,
             "#9c179e"
            ],
            [
             0.4444444444444444,
             "#bd3786"
            ],
            [
             0.5555555555555556,
             "#d8576b"
            ],
            [
             0.6666666666666666,
             "#ed7953"
            ],
            [
             0.7777777777777778,
             "#fb9f3a"
            ],
            [
             0.8888888888888888,
             "#fdca26"
            ],
            [
             1,
             "#f0f921"
            ]
           ]
          },
          "colorway": [
           "#636efa",
           "#EF553B",
           "#00cc96",
           "#ab63fa",
           "#FFA15A",
           "#19d3f3",
           "#FF6692",
           "#B6E880",
           "#FF97FF",
           "#FECB52"
          ],
          "font": {
           "color": "#2a3f5f"
          },
          "geo": {
           "bgcolor": "white",
           "lakecolor": "white",
           "landcolor": "#E5ECF6",
           "showlakes": true,
           "showland": true,
           "subunitcolor": "white"
          },
          "hoverlabel": {
           "align": "left"
          },
          "hovermode": "closest",
          "mapbox": {
           "style": "light"
          },
          "paper_bgcolor": "white",
          "plot_bgcolor": "#E5ECF6",
          "polar": {
           "angularaxis": {
            "gridcolor": "white",
            "linecolor": "white",
            "ticks": ""
           },
           "bgcolor": "#E5ECF6",
           "radialaxis": {
            "gridcolor": "white",
            "linecolor": "white",
            "ticks": ""
           }
          },
          "scene": {
           "xaxis": {
            "backgroundcolor": "#E5ECF6",
            "gridcolor": "white",
            "gridwidth": 2,
            "linecolor": "white",
            "showbackground": true,
            "ticks": "",
            "zerolinecolor": "white"
           },
           "yaxis": {
            "backgroundcolor": "#E5ECF6",
            "gridcolor": "white",
            "gridwidth": 2,
            "linecolor": "white",
            "showbackground": true,
            "ticks": "",
            "zerolinecolor": "white"
           },
           "zaxis": {
            "backgroundcolor": "#E5ECF6",
            "gridcolor": "white",
            "gridwidth": 2,
            "linecolor": "white",
            "showbackground": true,
            "ticks": "",
            "zerolinecolor": "white"
           }
          },
          "shapedefaults": {
           "line": {
            "color": "#2a3f5f"
           }
          },
          "ternary": {
           "aaxis": {
            "gridcolor": "white",
            "linecolor": "white",
            "ticks": ""
           },
           "baxis": {
            "gridcolor": "white",
            "linecolor": "white",
            "ticks": ""
           },
           "bgcolor": "#E5ECF6",
           "caxis": {
            "gridcolor": "white",
            "linecolor": "white",
            "ticks": ""
           }
          },
          "title": {
           "x": 0.05
          },
          "xaxis": {
           "automargin": true,
           "gridcolor": "white",
           "linecolor": "white",
           "ticks": "",
           "title": {
            "standoff": 15
           },
           "zerolinecolor": "white",
           "zerolinewidth": 2
          },
          "yaxis": {
           "automargin": true,
           "gridcolor": "white",
           "linecolor": "white",
           "ticks": "",
           "title": {
            "standoff": 15
           },
           "zerolinecolor": "white",
           "zerolinewidth": 2
          }
         }
        },
        "width": 800,
        "xaxis": {
         "anchor": "y",
         "domain": [
          0,
          0.94
         ],
         "title": {
          "text": "Time"
         }
        },
        "yaxis": {
         "anchor": "x",
         "domain": [
          0,
          1
         ],
         "title": {
          "text": "Production per capita - kWh"
         }
        },
        "yaxis2": {
         "anchor": "x",
         "overlaying": "y",
         "side": "right",
         "title": {
          "text": "Population"
         }
        }
       }
      },
      "text/html": [
       "<div>                            <div id=\"23960865-d3e3-4344-8855-81e5caaa9498\" class=\"plotly-graph-div\" style=\"height:500px; width:800px;\"></div>            <script type=\"text/javascript\">                require([\"plotly\"], function(Plotly) {                    window.PLOTLYENV=window.PLOTLYENV || {};                                    if (document.getElementById(\"23960865-d3e3-4344-8855-81e5caaa9498\")) {                    Plotly.newPlot(                        \"23960865-d3e3-4344-8855-81e5caaa9498\",                        [{\"hovertemplate\":\"Year=%{x}\\u003cbr\\u003eProduction per capita - kWh=%{y}\\u003cextra\\u003e\\u003c\\u002fextra\\u003e\",\"legendgroup\":\"\",\"line\":{\"dash\":\"solid\"},\"marker\":{\"symbol\":\"circle\"},\"mode\":\"lines\",\"name\":\"\",\"orientation\":\"v\",\"showlegend\":false,\"x\":[1985,1986,1987,1988,1989,1990,1991,1992,1993,1994,1995,1996,1997,1998,1999,2000,2001,2002,2003,2004,2005,2006,2007,2008,2009,2010,2011,2012,2013,2014,2015,2016,2017,2018,2019,2020,2021,2022,2023],\"xaxis\":\"x\",\"y\":[8706.30195617064,8825.936377550675,9125.564582079025,9180.228065958514,8214.880864095205,8344.113441539588,8542.348603239516,8657.090298556417,8872.105028071777,9456.402530658772,8928.746487633445,8106.517301471575,8872.991635260749,8900.88933031461,9604.729373171049,9203.782348086437,9832.017116151063,8986.440517759656,8909.858252255079,8649.553722571827,7777.363941880217,8307.800185972776,8804.05588262814,8772.883728276676,8616.320062365252,8440.08453629562,7945.033709534724,8517.392395255014,8489.473189195616,8556.527905538276,7975.673411444311,7295.607757559432,7115.288252570375,7783.8611168484495,8227.31402970973,7926.5493921590005,7247.027627598794,7082.430068538179,7991.60008315142],\"yaxis\":\"y\",\"type\":\"scatter\"},{\"hovertemplate\":\"Year=%{x}\\u003cbr\\u003ePopulation=%{y}\\u003cextra\\u003e\\u003c\\u002fextra\\u003e\",\"legendgroup\":\"\",\"line\":{\"dash\":\"solid\"},\"marker\":{\"symbol\":\"circle\"},\"mode\":\"lines\",\"name\":\"\",\"orientation\":\"v\",\"showlegend\":false,\"x\":[1985,1986,1987,1988,1989,1990,1991,1992,1993,1994,1995,1996,1997,1998,1999,2000,2001,2002,2003,2004,2005,2006,2007,2008,2009,2010,2011,2012,2013,2014,2015,2016,2017,2018,2019,2020,2021,2022,2023],\"xaxis\":\"x\",\"y\":[6470959,6504748,6545771,6594145,6647786,6713167,6796942,6875049,6938107,6993594,7040481,7071884,7089163,7110294,7144118,7184003,7226391,7278744,7333450,7384196,7431824,7478514,7545386,7641729,7737642,7825751,7914378,7998927,8091197,8190238,8283940,8374902,8453628,8516339,8577526,8640582,8707018,8792180,8870564],\"yaxis\":\"y2\",\"type\":\"scatter\"}],                        {\"template\":{\"data\":{\"histogram2dcontour\":[{\"type\":\"histogram2dcontour\",\"colorbar\":{\"outlinewidth\":0,\"ticks\":\"\"},\"colorscale\":[[0.0,\"#0d0887\"],[0.1111111111111111,\"#46039f\"],[0.2222222222222222,\"#7201a8\"],[0.3333333333333333,\"#9c179e\"],[0.4444444444444444,\"#bd3786\"],[0.5555555555555556,\"#d8576b\"],[0.6666666666666666,\"#ed7953\"],[0.7777777777777778,\"#fb9f3a\"],[0.8888888888888888,\"#fdca26\"],[1.0,\"#f0f921\"]]}],\"choropleth\":[{\"type\":\"choropleth\",\"colorbar\":{\"outlinewidth\":0,\"ticks\":\"\"}}],\"histogram2d\":[{\"type\":\"histogram2d\",\"colorbar\":{\"outlinewidth\":0,\"ticks\":\"\"},\"colorscale\":[[0.0,\"#0d0887\"],[0.1111111111111111,\"#46039f\"],[0.2222222222222222,\"#7201a8\"],[0.3333333333333333,\"#9c179e\"],[0.4444444444444444,\"#bd3786\"],[0.5555555555555556,\"#d8576b\"],[0.6666666666666666,\"#ed7953\"],[0.7777777777777778,\"#fb9f3a\"],[0.8888888888888888,\"#fdca26\"],[1.0,\"#f0f921\"]]}],\"heatmap\":[{\"type\":\"heatmap\",\"colorbar\":{\"outlinewidth\":0,\"ticks\":\"\"},\"colorscale\":[[0.0,\"#0d0887\"],[0.1111111111111111,\"#46039f\"],[0.2222222222222222,\"#7201a8\"],[0.3333333333333333,\"#9c179e\"],[0.4444444444444444,\"#bd3786\"],[0.5555555555555556,\"#d8576b\"],[0.6666666666666666,\"#ed7953\"],[0.7777777777777778,\"#fb9f3a\"],[0.8888888888888888,\"#fdca26\"],[1.0,\"#f0f921\"]]}],\"heatmapgl\":[{\"type\":\"heatmapgl\",\"colorbar\":{\"outlinewidth\":0,\"ticks\":\"\"},\"colorscale\":[[0.0,\"#0d0887\"],[0.1111111111111111,\"#46039f\"],[0.2222222222222222,\"#7201a8\"],[0.3333333333333333,\"#9c179e\"],[0.4444444444444444,\"#bd3786\"],[0.5555555555555556,\"#d8576b\"],[0.6666666666666666,\"#ed7953\"],[0.7777777777777778,\"#fb9f3a\"],[0.8888888888888888,\"#fdca26\"],[1.0,\"#f0f921\"]]}],\"contourcarpet\":[{\"type\":\"contourcarpet\",\"colorbar\":{\"outlinewidth\":0,\"ticks\":\"\"}}],\"contour\":[{\"type\":\"contour\",\"colorbar\":{\"outlinewidth\":0,\"ticks\":\"\"},\"colorscale\":[[0.0,\"#0d0887\"],[0.1111111111111111,\"#46039f\"],[0.2222222222222222,\"#7201a8\"],[0.3333333333333333,\"#9c179e\"],[0.4444444444444444,\"#bd3786\"],[0.5555555555555556,\"#d8576b\"],[0.6666666666666666,\"#ed7953\"],[0.7777777777777778,\"#fb9f3a\"],[0.8888888888888888,\"#fdca26\"],[1.0,\"#f0f921\"]]}],\"surface\":[{\"type\":\"surface\",\"colorbar\":{\"outlinewidth\":0,\"ticks\":\"\"},\"colorscale\":[[0.0,\"#0d0887\"],[0.1111111111111111,\"#46039f\"],[0.2222222222222222,\"#7201a8\"],[0.3333333333333333,\"#9c179e\"],[0.4444444444444444,\"#bd3786\"],[0.5555555555555556,\"#d8576b\"],[0.6666666666666666,\"#ed7953\"],[0.7777777777777778,\"#fb9f3a\"],[0.8888888888888888,\"#fdca26\"],[1.0,\"#f0f921\"]]}],\"mesh3d\":[{\"type\":\"mesh3d\",\"colorbar\":{\"outlinewidth\":0,\"ticks\":\"\"}}],\"scatter\":[{\"fillpattern\":{\"fillmode\":\"overlay\",\"size\":10,\"solidity\":0.2},\"type\":\"scatter\"}],\"parcoords\":[{\"type\":\"parcoords\",\"line\":{\"colorbar\":{\"outlinewidth\":0,\"ticks\":\"\"}}}],\"scatterpolargl\":[{\"type\":\"scatterpolargl\",\"marker\":{\"colorbar\":{\"outlinewidth\":0,\"ticks\":\"\"}}}],\"bar\":[{\"error_x\":{\"color\":\"#2a3f5f\"},\"error_y\":{\"color\":\"#2a3f5f\"},\"marker\":{\"line\":{\"color\":\"#E5ECF6\",\"width\":0.5},\"pattern\":{\"fillmode\":\"overlay\",\"size\":10,\"solidity\":0.2}},\"type\":\"bar\"}],\"scattergeo\":[{\"type\":\"scattergeo\",\"marker\":{\"colorbar\":{\"outlinewidth\":0,\"ticks\":\"\"}}}],\"scatterpolar\":[{\"type\":\"scatterpolar\",\"marker\":{\"colorbar\":{\"outlinewidth\":0,\"ticks\":\"\"}}}],\"histogram\":[{\"marker\":{\"pattern\":{\"fillmode\":\"overlay\",\"size\":10,\"solidity\":0.2}},\"type\":\"histogram\"}],\"scattergl\":[{\"type\":\"scattergl\",\"marker\":{\"colorbar\":{\"outlinewidth\":0,\"ticks\":\"\"}}}],\"scatter3d\":[{\"type\":\"scatter3d\",\"line\":{\"colorbar\":{\"outlinewidth\":0,\"ticks\":\"\"}},\"marker\":{\"colorbar\":{\"outlinewidth\":0,\"ticks\":\"\"}}}],\"scattermapbox\":[{\"type\":\"scattermapbox\",\"marker\":{\"colorbar\":{\"outlinewidth\":0,\"ticks\":\"\"}}}],\"scatterternary\":[{\"type\":\"scatterternary\",\"marker\":{\"colorbar\":{\"outlinewidth\":0,\"ticks\":\"\"}}}],\"scattercarpet\":[{\"type\":\"scattercarpet\",\"marker\":{\"colorbar\":{\"outlinewidth\":0,\"ticks\":\"\"}}}],\"carpet\":[{\"aaxis\":{\"endlinecolor\":\"#2a3f5f\",\"gridcolor\":\"white\",\"linecolor\":\"white\",\"minorgridcolor\":\"white\",\"startlinecolor\":\"#2a3f5f\"},\"baxis\":{\"endlinecolor\":\"#2a3f5f\",\"gridcolor\":\"white\",\"linecolor\":\"white\",\"minorgridcolor\":\"white\",\"startlinecolor\":\"#2a3f5f\"},\"type\":\"carpet\"}],\"table\":[{\"cells\":{\"fill\":{\"color\":\"#EBF0F8\"},\"line\":{\"color\":\"white\"}},\"header\":{\"fill\":{\"color\":\"#C8D4E3\"},\"line\":{\"color\":\"white\"}},\"type\":\"table\"}],\"barpolar\":[{\"marker\":{\"line\":{\"color\":\"#E5ECF6\",\"width\":0.5},\"pattern\":{\"fillmode\":\"overlay\",\"size\":10,\"solidity\":0.2}},\"type\":\"barpolar\"}],\"pie\":[{\"automargin\":true,\"type\":\"pie\"}]},\"layout\":{\"autotypenumbers\":\"strict\",\"colorway\":[\"#636efa\",\"#EF553B\",\"#00cc96\",\"#ab63fa\",\"#FFA15A\",\"#19d3f3\",\"#FF6692\",\"#B6E880\",\"#FF97FF\",\"#FECB52\"],\"font\":{\"color\":\"#2a3f5f\"},\"hovermode\":\"closest\",\"hoverlabel\":{\"align\":\"left\"},\"paper_bgcolor\":\"white\",\"plot_bgcolor\":\"#E5ECF6\",\"polar\":{\"bgcolor\":\"#E5ECF6\",\"angularaxis\":{\"gridcolor\":\"white\",\"linecolor\":\"white\",\"ticks\":\"\"},\"radialaxis\":{\"gridcolor\":\"white\",\"linecolor\":\"white\",\"ticks\":\"\"}},\"ternary\":{\"bgcolor\":\"#E5ECF6\",\"aaxis\":{\"gridcolor\":\"white\",\"linecolor\":\"white\",\"ticks\":\"\"},\"baxis\":{\"gridcolor\":\"white\",\"linecolor\":\"white\",\"ticks\":\"\"},\"caxis\":{\"gridcolor\":\"white\",\"linecolor\":\"white\",\"ticks\":\"\"}},\"coloraxis\":{\"colorbar\":{\"outlinewidth\":0,\"ticks\":\"\"}},\"colorscale\":{\"sequential\":[[0.0,\"#0d0887\"],[0.1111111111111111,\"#46039f\"],[0.2222222222222222,\"#7201a8\"],[0.3333333333333333,\"#9c179e\"],[0.4444444444444444,\"#bd3786\"],[0.5555555555555556,\"#d8576b\"],[0.6666666666666666,\"#ed7953\"],[0.7777777777777778,\"#fb9f3a\"],[0.8888888888888888,\"#fdca26\"],[1.0,\"#f0f921\"]],\"sequentialminus\":[[0.0,\"#0d0887\"],[0.1111111111111111,\"#46039f\"],[0.2222222222222222,\"#7201a8\"],[0.3333333333333333,\"#9c179e\"],[0.4444444444444444,\"#bd3786\"],[0.5555555555555556,\"#d8576b\"],[0.6666666666666666,\"#ed7953\"],[0.7777777777777778,\"#fb9f3a\"],[0.8888888888888888,\"#fdca26\"],[1.0,\"#f0f921\"]],\"diverging\":[[0,\"#8e0152\"],[0.1,\"#c51b7d\"],[0.2,\"#de77ae\"],[0.3,\"#f1b6da\"],[0.4,\"#fde0ef\"],[0.5,\"#f7f7f7\"],[0.6,\"#e6f5d0\"],[0.7,\"#b8e186\"],[0.8,\"#7fbc41\"],[0.9,\"#4d9221\"],[1,\"#276419\"]]},\"xaxis\":{\"gridcolor\":\"white\",\"linecolor\":\"white\",\"ticks\":\"\",\"title\":{\"standoff\":15},\"zerolinecolor\":\"white\",\"automargin\":true,\"zerolinewidth\":2},\"yaxis\":{\"gridcolor\":\"white\",\"linecolor\":\"white\",\"ticks\":\"\",\"title\":{\"standoff\":15},\"zerolinecolor\":\"white\",\"automargin\":true,\"zerolinewidth\":2},\"scene\":{\"xaxis\":{\"backgroundcolor\":\"#E5ECF6\",\"gridcolor\":\"white\",\"linecolor\":\"white\",\"showbackground\":true,\"ticks\":\"\",\"zerolinecolor\":\"white\",\"gridwidth\":2},\"yaxis\":{\"backgroundcolor\":\"#E5ECF6\",\"gridcolor\":\"white\",\"linecolor\":\"white\",\"showbackground\":true,\"ticks\":\"\",\"zerolinecolor\":\"white\",\"gridwidth\":2},\"zaxis\":{\"backgroundcolor\":\"#E5ECF6\",\"gridcolor\":\"white\",\"linecolor\":\"white\",\"showbackground\":true,\"ticks\":\"\",\"zerolinecolor\":\"white\",\"gridwidth\":2}},\"shapedefaults\":{\"line\":{\"color\":\"#2a3f5f\"}},\"annotationdefaults\":{\"arrowcolor\":\"#2a3f5f\",\"arrowhead\":0,\"arrowwidth\":1},\"geo\":{\"bgcolor\":\"white\",\"landcolor\":\"#E5ECF6\",\"subunitcolor\":\"white\",\"showland\":true,\"showlakes\":true,\"lakecolor\":\"white\"},\"title\":{\"x\":0.05},\"mapbox\":{\"style\":\"light\"}}},\"xaxis\":{\"anchor\":\"y\",\"domain\":[0.0,0.94],\"title\":{\"text\":\"Time\"}},\"yaxis\":{\"anchor\":\"x\",\"domain\":[0.0,1.0],\"title\":{\"text\":\"Production per capita - kWh\"}},\"yaxis2\":{\"anchor\":\"x\",\"overlaying\":\"y\",\"side\":\"right\",\"title\":{\"text\":\"Population\"}},\"margin\":{\"l\":60,\"r\":60,\"t\":60,\"b\":60},\"width\":800,\"height\":500},                        {\"responsive\": true}                    ).then(function(){\n",
       "                            \n",
       "var gd = document.getElementById('23960865-d3e3-4344-8855-81e5caaa9498');\n",
       "var x = new MutationObserver(function (mutations, observer) {{\n",
       "        var display = window.getComputedStyle(gd).display;\n",
       "        if (!display || display === 'none') {{\n",
       "            console.log([gd, 'removed!']);\n",
       "            Plotly.purge(gd);\n",
       "            observer.disconnect();\n",
       "        }}\n",
       "}});\n",
       "\n",
       "// Listen for the removal of the full notebook cells\n",
       "var notebookContainer = gd.closest('#notebook-container');\n",
       "if (notebookContainer) {{\n",
       "    x.observe(notebookContainer, {childList: true});\n",
       "}}\n",
       "\n",
       "// Listen for the clearing of the current output cell\n",
       "var outputEl = gd.closest('.output');\n",
       "if (outputEl) {{\n",
       "    x.observe(outputEl, {childList: true});\n",
       "}}\n",
       "\n",
       "                        })                };                });            </script>        </div>"
      ]
     },
     "metadata": {},
     "output_type": "display_data"
    }
   ],
   "source": [
    "# Create a subplot to add a secondary Y axis\n",
    "subfig = make_subplots(specs=[[{\"secondary_y\": True}]])\n",
    "# Create the line plot\n",
    "# fig=px.line(df_swiss_data_clean, x=\"Year\",y=[\"Population\",\"Production per capita - kWh\"], title=\"Production per capita and population evolution in Switzerland\", labels={\"Population\":\"Population\",\"Year\":\"Year\"})\n",
    "fig = px.line(\n",
    "    df_swiss_data_clean,\n",
    "    x=\"Year\",\n",
    "    y=\"Production per capita - kWh\",\n",
    "    title=\"Production per capita and population evolution in Switzerland\",\n",
    "    labels={\"Population\": \"Population\", \"Year\": \"Year\"},\n",
    ")\n",
    "fig2 = px.line(\n",
    "    df_swiss_data_clean,\n",
    "    x=\"Year\",\n",
    "    y=\"Population\",\n",
    "    title=\"Production per capita and population evolution in Switzerland\",\n",
    "    labels={\"Population\": \"Population\", \"Year\": \"Year\"},\n",
    ")\n",
    "fig2.update_traces(yaxis=\"y2\")\n",
    "subfig.add_traces(fig.data + fig2.data)\n",
    "# To format figure\n",
    "subfig.update_layout(margin=dict(l=60, r=60, t=60, b=60), width=800, height=500)\n",
    "\n",
    "subfig.layout.xaxis.title = \"Time\"\n",
    "subfig.layout.yaxis.title = \"Production per capita - kWh\"\n",
    "subfig.layout.yaxis2.title = \"Population\"\n",
    "# Show plot\n",
    "subfig.for_each_trace(\n",
    "    lambda t: t.update(line=dict(color=t.marker.color))\n",
    ")  # Change color of each line on the plot\n",
    "subfig.show()"
   ]
  },
  {
   "cell_type": "markdown",
   "metadata": {},
   "source": [
    "#### Chat GPT solution"
   ]
  },
  {
   "cell_type": "code",
   "execution_count": 190,
   "metadata": {},
   "outputs": [
    {
     "data": {
      "application/vnd.plotly.v1+json": {
       "config": {
        "plotlyServerURL": "https://plot.ly"
       },
       "data": [
        {
         "hovertemplate": "Year=%{x}<br>Population=%{y}<extra></extra>",
         "legendgroup": "",
         "line": {
          "color": "#636efa",
          "dash": "solid"
         },
         "marker": {
          "symbol": "circle"
         },
         "mode": "lines",
         "name": "",
         "orientation": "v",
         "showlegend": false,
         "type": "scatter",
         "x": [
          1985,
          1986,
          1987,
          1988,
          1989,
          1990,
          1991,
          1992,
          1993,
          1994,
          1995,
          1996,
          1997,
          1998,
          1999,
          2000,
          2001,
          2002,
          2003,
          2004,
          2005,
          2006,
          2007,
          2008,
          2009,
          2010,
          2011,
          2012,
          2013,
          2014,
          2015,
          2016,
          2017,
          2018,
          2019,
          2020,
          2021,
          2022,
          2023
         ],
         "xaxis": "x",
         "y": [
          6470959,
          6504748,
          6545771,
          6594145,
          6647786,
          6713167,
          6796942,
          6875049,
          6938107,
          6993594,
          7040481,
          7071884,
          7089163,
          7110294,
          7144118,
          7184003,
          7226391,
          7278744,
          7333450,
          7384196,
          7431824,
          7478514,
          7545386,
          7641729,
          7737642,
          7825751,
          7914378,
          7998927,
          8091197,
          8190238,
          8283940,
          8374902,
          8453628,
          8516339,
          8577526,
          8640582,
          8707018,
          8792180,
          8870564
         ],
         "yaxis": "y"
        },
        {
         "mode": "lines",
         "name": "Production per capita - kWh",
         "type": "scatter",
         "x": [
          1985,
          1986,
          1987,
          1988,
          1989,
          1990,
          1991,
          1992,
          1993,
          1994,
          1995,
          1996,
          1997,
          1998,
          1999,
          2000,
          2001,
          2002,
          2003,
          2004,
          2005,
          2006,
          2007,
          2008,
          2009,
          2010,
          2011,
          2012,
          2013,
          2014,
          2015,
          2016,
          2017,
          2018,
          2019,
          2020,
          2021,
          2022,
          2023
         ],
         "y": [
          8706.30195617064,
          8825.936377550675,
          9125.564582079025,
          9180.228065958514,
          8214.880864095205,
          8344.113441539588,
          8542.348603239516,
          8657.090298556417,
          8872.105028071777,
          9456.402530658772,
          8928.746487633445,
          8106.517301471575,
          8872.991635260749,
          8900.88933031461,
          9604.729373171049,
          9203.782348086437,
          9832.017116151063,
          8986.440517759656,
          8909.858252255079,
          8649.553722571827,
          7777.363941880217,
          8307.800185972776,
          8804.05588262814,
          8772.883728276676,
          8616.320062365252,
          8440.08453629562,
          7945.033709534724,
          8517.392395255014,
          8489.473189195616,
          8556.527905538276,
          7975.673411444311,
          7295.607757559432,
          7115.288252570375,
          7783.8611168484495,
          8227.31402970973,
          7926.5493921590005,
          7247.027627598794,
          7082.430068538179,
          7991.60008315142
         ],
         "yaxis": "y2"
        }
       ],
       "layout": {
        "height": 500,
        "legend": {
         "tracegroupgap": 0,
         "x": 0.1,
         "y": 0.9
        },
        "margin": {
         "b": 60,
         "l": 60,
         "r": 60,
         "t": 60
        },
        "template": {
         "data": {
          "bar": [
           {
            "error_x": {
             "color": "#2a3f5f"
            },
            "error_y": {
             "color": "#2a3f5f"
            },
            "marker": {
             "line": {
              "color": "#E5ECF6",
              "width": 0.5
             },
             "pattern": {
              "fillmode": "overlay",
              "size": 10,
              "solidity": 0.2
             }
            },
            "type": "bar"
           }
          ],
          "barpolar": [
           {
            "marker": {
             "line": {
              "color": "#E5ECF6",
              "width": 0.5
             },
             "pattern": {
              "fillmode": "overlay",
              "size": 10,
              "solidity": 0.2
             }
            },
            "type": "barpolar"
           }
          ],
          "carpet": [
           {
            "aaxis": {
             "endlinecolor": "#2a3f5f",
             "gridcolor": "white",
             "linecolor": "white",
             "minorgridcolor": "white",
             "startlinecolor": "#2a3f5f"
            },
            "baxis": {
             "endlinecolor": "#2a3f5f",
             "gridcolor": "white",
             "linecolor": "white",
             "minorgridcolor": "white",
             "startlinecolor": "#2a3f5f"
            },
            "type": "carpet"
           }
          ],
          "choropleth": [
           {
            "colorbar": {
             "outlinewidth": 0,
             "ticks": ""
            },
            "type": "choropleth"
           }
          ],
          "contour": [
           {
            "colorbar": {
             "outlinewidth": 0,
             "ticks": ""
            },
            "colorscale": [
             [
              0,
              "#0d0887"
             ],
             [
              0.1111111111111111,
              "#46039f"
             ],
             [
              0.2222222222222222,
              "#7201a8"
             ],
             [
              0.3333333333333333,
              "#9c179e"
             ],
             [
              0.4444444444444444,
              "#bd3786"
             ],
             [
              0.5555555555555556,
              "#d8576b"
             ],
             [
              0.6666666666666666,
              "#ed7953"
             ],
             [
              0.7777777777777778,
              "#fb9f3a"
             ],
             [
              0.8888888888888888,
              "#fdca26"
             ],
             [
              1,
              "#f0f921"
             ]
            ],
            "type": "contour"
           }
          ],
          "contourcarpet": [
           {
            "colorbar": {
             "outlinewidth": 0,
             "ticks": ""
            },
            "type": "contourcarpet"
           }
          ],
          "heatmap": [
           {
            "colorbar": {
             "outlinewidth": 0,
             "ticks": ""
            },
            "colorscale": [
             [
              0,
              "#0d0887"
             ],
             [
              0.1111111111111111,
              "#46039f"
             ],
             [
              0.2222222222222222,
              "#7201a8"
             ],
             [
              0.3333333333333333,
              "#9c179e"
             ],
             [
              0.4444444444444444,
              "#bd3786"
             ],
             [
              0.5555555555555556,
              "#d8576b"
             ],
             [
              0.6666666666666666,
              "#ed7953"
             ],
             [
              0.7777777777777778,
              "#fb9f3a"
             ],
             [
              0.8888888888888888,
              "#fdca26"
             ],
             [
              1,
              "#f0f921"
             ]
            ],
            "type": "heatmap"
           }
          ],
          "heatmapgl": [
           {
            "colorbar": {
             "outlinewidth": 0,
             "ticks": ""
            },
            "colorscale": [
             [
              0,
              "#0d0887"
             ],
             [
              0.1111111111111111,
              "#46039f"
             ],
             [
              0.2222222222222222,
              "#7201a8"
             ],
             [
              0.3333333333333333,
              "#9c179e"
             ],
             [
              0.4444444444444444,
              "#bd3786"
             ],
             [
              0.5555555555555556,
              "#d8576b"
             ],
             [
              0.6666666666666666,
              "#ed7953"
             ],
             [
              0.7777777777777778,
              "#fb9f3a"
             ],
             [
              0.8888888888888888,
              "#fdca26"
             ],
             [
              1,
              "#f0f921"
             ]
            ],
            "type": "heatmapgl"
           }
          ],
          "histogram": [
           {
            "marker": {
             "pattern": {
              "fillmode": "overlay",
              "size": 10,
              "solidity": 0.2
             }
            },
            "type": "histogram"
           }
          ],
          "histogram2d": [
           {
            "colorbar": {
             "outlinewidth": 0,
             "ticks": ""
            },
            "colorscale": [
             [
              0,
              "#0d0887"
             ],
             [
              0.1111111111111111,
              "#46039f"
             ],
             [
              0.2222222222222222,
              "#7201a8"
             ],
             [
              0.3333333333333333,
              "#9c179e"
             ],
             [
              0.4444444444444444,
              "#bd3786"
             ],
             [
              0.5555555555555556,
              "#d8576b"
             ],
             [
              0.6666666666666666,
              "#ed7953"
             ],
             [
              0.7777777777777778,
              "#fb9f3a"
             ],
             [
              0.8888888888888888,
              "#fdca26"
             ],
             [
              1,
              "#f0f921"
             ]
            ],
            "type": "histogram2d"
           }
          ],
          "histogram2dcontour": [
           {
            "colorbar": {
             "outlinewidth": 0,
             "ticks": ""
            },
            "colorscale": [
             [
              0,
              "#0d0887"
             ],
             [
              0.1111111111111111,
              "#46039f"
             ],
             [
              0.2222222222222222,
              "#7201a8"
             ],
             [
              0.3333333333333333,
              "#9c179e"
             ],
             [
              0.4444444444444444,
              "#bd3786"
             ],
             [
              0.5555555555555556,
              "#d8576b"
             ],
             [
              0.6666666666666666,
              "#ed7953"
             ],
             [
              0.7777777777777778,
              "#fb9f3a"
             ],
             [
              0.8888888888888888,
              "#fdca26"
             ],
             [
              1,
              "#f0f921"
             ]
            ],
            "type": "histogram2dcontour"
           }
          ],
          "mesh3d": [
           {
            "colorbar": {
             "outlinewidth": 0,
             "ticks": ""
            },
            "type": "mesh3d"
           }
          ],
          "parcoords": [
           {
            "line": {
             "colorbar": {
              "outlinewidth": 0,
              "ticks": ""
             }
            },
            "type": "parcoords"
           }
          ],
          "pie": [
           {
            "automargin": true,
            "type": "pie"
           }
          ],
          "scatter": [
           {
            "fillpattern": {
             "fillmode": "overlay",
             "size": 10,
             "solidity": 0.2
            },
            "type": "scatter"
           }
          ],
          "scatter3d": [
           {
            "line": {
             "colorbar": {
              "outlinewidth": 0,
              "ticks": ""
             }
            },
            "marker": {
             "colorbar": {
              "outlinewidth": 0,
              "ticks": ""
             }
            },
            "type": "scatter3d"
           }
          ],
          "scattercarpet": [
           {
            "marker": {
             "colorbar": {
              "outlinewidth": 0,
              "ticks": ""
             }
            },
            "type": "scattercarpet"
           }
          ],
          "scattergeo": [
           {
            "marker": {
             "colorbar": {
              "outlinewidth": 0,
              "ticks": ""
             }
            },
            "type": "scattergeo"
           }
          ],
          "scattergl": [
           {
            "marker": {
             "colorbar": {
              "outlinewidth": 0,
              "ticks": ""
             }
            },
            "type": "scattergl"
           }
          ],
          "scattermapbox": [
           {
            "marker": {
             "colorbar": {
              "outlinewidth": 0,
              "ticks": ""
             }
            },
            "type": "scattermapbox"
           }
          ],
          "scatterpolar": [
           {
            "marker": {
             "colorbar": {
              "outlinewidth": 0,
              "ticks": ""
             }
            },
            "type": "scatterpolar"
           }
          ],
          "scatterpolargl": [
           {
            "marker": {
             "colorbar": {
              "outlinewidth": 0,
              "ticks": ""
             }
            },
            "type": "scatterpolargl"
           }
          ],
          "scatterternary": [
           {
            "marker": {
             "colorbar": {
              "outlinewidth": 0,
              "ticks": ""
             }
            },
            "type": "scatterternary"
           }
          ],
          "surface": [
           {
            "colorbar": {
             "outlinewidth": 0,
             "ticks": ""
            },
            "colorscale": [
             [
              0,
              "#0d0887"
             ],
             [
              0.1111111111111111,
              "#46039f"
             ],
             [
              0.2222222222222222,
              "#7201a8"
             ],
             [
              0.3333333333333333,
              "#9c179e"
             ],
             [
              0.4444444444444444,
              "#bd3786"
             ],
             [
              0.5555555555555556,
              "#d8576b"
             ],
             [
              0.6666666666666666,
              "#ed7953"
             ],
             [
              0.7777777777777778,
              "#fb9f3a"
             ],
             [
              0.8888888888888888,
              "#fdca26"
             ],
             [
              1,
              "#f0f921"
             ]
            ],
            "type": "surface"
           }
          ],
          "table": [
           {
            "cells": {
             "fill": {
              "color": "#EBF0F8"
             },
             "line": {
              "color": "white"
             }
            },
            "header": {
             "fill": {
              "color": "#C8D4E3"
             },
             "line": {
              "color": "white"
             }
            },
            "type": "table"
           }
          ]
         },
         "layout": {
          "annotationdefaults": {
           "arrowcolor": "#2a3f5f",
           "arrowhead": 0,
           "arrowwidth": 1
          },
          "autotypenumbers": "strict",
          "coloraxis": {
           "colorbar": {
            "outlinewidth": 0,
            "ticks": ""
           }
          },
          "colorscale": {
           "diverging": [
            [
             0,
             "#8e0152"
            ],
            [
             0.1,
             "#c51b7d"
            ],
            [
             0.2,
             "#de77ae"
            ],
            [
             0.3,
             "#f1b6da"
            ],
            [
             0.4,
             "#fde0ef"
            ],
            [
             0.5,
             "#f7f7f7"
            ],
            [
             0.6,
             "#e6f5d0"
            ],
            [
             0.7,
             "#b8e186"
            ],
            [
             0.8,
             "#7fbc41"
            ],
            [
             0.9,
             "#4d9221"
            ],
            [
             1,
             "#276419"
            ]
           ],
           "sequential": [
            [
             0,
             "#0d0887"
            ],
            [
             0.1111111111111111,
             "#46039f"
            ],
            [
             0.2222222222222222,
             "#7201a8"
            ],
            [
             0.3333333333333333,
             "#9c179e"
            ],
            [
             0.4444444444444444,
             "#bd3786"
            ],
            [
             0.5555555555555556,
             "#d8576b"
            ],
            [
             0.6666666666666666,
             "#ed7953"
            ],
            [
             0.7777777777777778,
             "#fb9f3a"
            ],
            [
             0.8888888888888888,
             "#fdca26"
            ],
            [
             1,
             "#f0f921"
            ]
           ],
           "sequentialminus": [
            [
             0,
             "#0d0887"
            ],
            [
             0.1111111111111111,
             "#46039f"
            ],
            [
             0.2222222222222222,
             "#7201a8"
            ],
            [
             0.3333333333333333,
             "#9c179e"
            ],
            [
             0.4444444444444444,
             "#bd3786"
            ],
            [
             0.5555555555555556,
             "#d8576b"
            ],
            [
             0.6666666666666666,
             "#ed7953"
            ],
            [
             0.7777777777777778,
             "#fb9f3a"
            ],
            [
             0.8888888888888888,
             "#fdca26"
            ],
            [
             1,
             "#f0f921"
            ]
           ]
          },
          "colorway": [
           "#636efa",
           "#EF553B",
           "#00cc96",
           "#ab63fa",
           "#FFA15A",
           "#19d3f3",
           "#FF6692",
           "#B6E880",
           "#FF97FF",
           "#FECB52"
          ],
          "font": {
           "color": "#2a3f5f"
          },
          "geo": {
           "bgcolor": "white",
           "lakecolor": "white",
           "landcolor": "#E5ECF6",
           "showlakes": true,
           "showland": true,
           "subunitcolor": "white"
          },
          "hoverlabel": {
           "align": "left"
          },
          "hovermode": "closest",
          "mapbox": {
           "style": "light"
          },
          "paper_bgcolor": "white",
          "plot_bgcolor": "#E5ECF6",
          "polar": {
           "angularaxis": {
            "gridcolor": "white",
            "linecolor": "white",
            "ticks": ""
           },
           "bgcolor": "#E5ECF6",
           "radialaxis": {
            "gridcolor": "white",
            "linecolor": "white",
            "ticks": ""
           }
          },
          "scene": {
           "xaxis": {
            "backgroundcolor": "#E5ECF6",
            "gridcolor": "white",
            "gridwidth": 2,
            "linecolor": "white",
            "showbackground": true,
            "ticks": "",
            "zerolinecolor": "white"
           },
           "yaxis": {
            "backgroundcolor": "#E5ECF6",
            "gridcolor": "white",
            "gridwidth": 2,
            "linecolor": "white",
            "showbackground": true,
            "ticks": "",
            "zerolinecolor": "white"
           },
           "zaxis": {
            "backgroundcolor": "#E5ECF6",
            "gridcolor": "white",
            "gridwidth": 2,
            "linecolor": "white",
            "showbackground": true,
            "ticks": "",
            "zerolinecolor": "white"
           }
          },
          "shapedefaults": {
           "line": {
            "color": "#2a3f5f"
           }
          },
          "ternary": {
           "aaxis": {
            "gridcolor": "white",
            "linecolor": "white",
            "ticks": ""
           },
           "baxis": {
            "gridcolor": "white",
            "linecolor": "white",
            "ticks": ""
           },
           "bgcolor": "#E5ECF6",
           "caxis": {
            "gridcolor": "white",
            "linecolor": "white",
            "ticks": ""
           }
          },
          "title": {
           "x": 0.05
          },
          "xaxis": {
           "automargin": true,
           "gridcolor": "white",
           "linecolor": "white",
           "ticks": "",
           "title": {
            "standoff": 15
           },
           "zerolinecolor": "white",
           "zerolinewidth": 2
          },
          "yaxis": {
           "automargin": true,
           "gridcolor": "white",
           "linecolor": "white",
           "ticks": "",
           "title": {
            "standoff": 15
           },
           "zerolinecolor": "white",
           "zerolinewidth": 2
          }
         }
        },
        "title": {
         "text": "Population and Production per Capita Over Time"
        },
        "width": 800,
        "xaxis": {
         "anchor": "y",
         "domain": [
          0,
          1
         ],
         "title": {
          "text": "Year"
         }
        },
        "yaxis": {
         "anchor": "x",
         "domain": [
          0,
          1
         ],
         "title": {
          "text": "Population"
         }
        },
        "yaxis2": {
         "overlaying": "y",
         "side": "right",
         "title": {
          "text": "Production per capita - kWh"
         }
        }
       }
      },
      "text/html": [
       "<div>                            <div id=\"232c2712-bd50-489b-838e-f94980588297\" class=\"plotly-graph-div\" style=\"height:500px; width:800px;\"></div>            <script type=\"text/javascript\">                require([\"plotly\"], function(Plotly) {                    window.PLOTLYENV=window.PLOTLYENV || {};                                    if (document.getElementById(\"232c2712-bd50-489b-838e-f94980588297\")) {                    Plotly.newPlot(                        \"232c2712-bd50-489b-838e-f94980588297\",                        [{\"hovertemplate\":\"Year=%{x}\\u003cbr\\u003ePopulation=%{y}\\u003cextra\\u003e\\u003c\\u002fextra\\u003e\",\"legendgroup\":\"\",\"line\":{\"color\":\"#636efa\",\"dash\":\"solid\"},\"marker\":{\"symbol\":\"circle\"},\"mode\":\"lines\",\"name\":\"\",\"orientation\":\"v\",\"showlegend\":false,\"x\":[1985,1986,1987,1988,1989,1990,1991,1992,1993,1994,1995,1996,1997,1998,1999,2000,2001,2002,2003,2004,2005,2006,2007,2008,2009,2010,2011,2012,2013,2014,2015,2016,2017,2018,2019,2020,2021,2022,2023],\"xaxis\":\"x\",\"y\":[6470959,6504748,6545771,6594145,6647786,6713167,6796942,6875049,6938107,6993594,7040481,7071884,7089163,7110294,7144118,7184003,7226391,7278744,7333450,7384196,7431824,7478514,7545386,7641729,7737642,7825751,7914378,7998927,8091197,8190238,8283940,8374902,8453628,8516339,8577526,8640582,8707018,8792180,8870564],\"yaxis\":\"y\",\"type\":\"scatter\"},{\"mode\":\"lines\",\"name\":\"Production per capita - kWh\",\"x\":[1985,1986,1987,1988,1989,1990,1991,1992,1993,1994,1995,1996,1997,1998,1999,2000,2001,2002,2003,2004,2005,2006,2007,2008,2009,2010,2011,2012,2013,2014,2015,2016,2017,2018,2019,2020,2021,2022,2023],\"y\":[8706.30195617064,8825.936377550675,9125.564582079025,9180.228065958514,8214.880864095205,8344.113441539588,8542.348603239516,8657.090298556417,8872.105028071777,9456.402530658772,8928.746487633445,8106.517301471575,8872.991635260749,8900.88933031461,9604.729373171049,9203.782348086437,9832.017116151063,8986.440517759656,8909.858252255079,8649.553722571827,7777.363941880217,8307.800185972776,8804.05588262814,8772.883728276676,8616.320062365252,8440.08453629562,7945.033709534724,8517.392395255014,8489.473189195616,8556.527905538276,7975.673411444311,7295.607757559432,7115.288252570375,7783.8611168484495,8227.31402970973,7926.5493921590005,7247.027627598794,7082.430068538179,7991.60008315142],\"yaxis\":\"y2\",\"type\":\"scatter\"}],                        {\"template\":{\"data\":{\"histogram2dcontour\":[{\"type\":\"histogram2dcontour\",\"colorbar\":{\"outlinewidth\":0,\"ticks\":\"\"},\"colorscale\":[[0.0,\"#0d0887\"],[0.1111111111111111,\"#46039f\"],[0.2222222222222222,\"#7201a8\"],[0.3333333333333333,\"#9c179e\"],[0.4444444444444444,\"#bd3786\"],[0.5555555555555556,\"#d8576b\"],[0.6666666666666666,\"#ed7953\"],[0.7777777777777778,\"#fb9f3a\"],[0.8888888888888888,\"#fdca26\"],[1.0,\"#f0f921\"]]}],\"choropleth\":[{\"type\":\"choropleth\",\"colorbar\":{\"outlinewidth\":0,\"ticks\":\"\"}}],\"histogram2d\":[{\"type\":\"histogram2d\",\"colorbar\":{\"outlinewidth\":0,\"ticks\":\"\"},\"colorscale\":[[0.0,\"#0d0887\"],[0.1111111111111111,\"#46039f\"],[0.2222222222222222,\"#7201a8\"],[0.3333333333333333,\"#9c179e\"],[0.4444444444444444,\"#bd3786\"],[0.5555555555555556,\"#d8576b\"],[0.6666666666666666,\"#ed7953\"],[0.7777777777777778,\"#fb9f3a\"],[0.8888888888888888,\"#fdca26\"],[1.0,\"#f0f921\"]]}],\"heatmap\":[{\"type\":\"heatmap\",\"colorbar\":{\"outlinewidth\":0,\"ticks\":\"\"},\"colorscale\":[[0.0,\"#0d0887\"],[0.1111111111111111,\"#46039f\"],[0.2222222222222222,\"#7201a8\"],[0.3333333333333333,\"#9c179e\"],[0.4444444444444444,\"#bd3786\"],[0.5555555555555556,\"#d8576b\"],[0.6666666666666666,\"#ed7953\"],[0.7777777777777778,\"#fb9f3a\"],[0.8888888888888888,\"#fdca26\"],[1.0,\"#f0f921\"]]}],\"heatmapgl\":[{\"type\":\"heatmapgl\",\"colorbar\":{\"outlinewidth\":0,\"ticks\":\"\"},\"colorscale\":[[0.0,\"#0d0887\"],[0.1111111111111111,\"#46039f\"],[0.2222222222222222,\"#7201a8\"],[0.3333333333333333,\"#9c179e\"],[0.4444444444444444,\"#bd3786\"],[0.5555555555555556,\"#d8576b\"],[0.6666666666666666,\"#ed7953\"],[0.7777777777777778,\"#fb9f3a\"],[0.8888888888888888,\"#fdca26\"],[1.0,\"#f0f921\"]]}],\"contourcarpet\":[{\"type\":\"contourcarpet\",\"colorbar\":{\"outlinewidth\":0,\"ticks\":\"\"}}],\"contour\":[{\"type\":\"contour\",\"colorbar\":{\"outlinewidth\":0,\"ticks\":\"\"},\"colorscale\":[[0.0,\"#0d0887\"],[0.1111111111111111,\"#46039f\"],[0.2222222222222222,\"#7201a8\"],[0.3333333333333333,\"#9c179e\"],[0.4444444444444444,\"#bd3786\"],[0.5555555555555556,\"#d8576b\"],[0.6666666666666666,\"#ed7953\"],[0.7777777777777778,\"#fb9f3a\"],[0.8888888888888888,\"#fdca26\"],[1.0,\"#f0f921\"]]}],\"surface\":[{\"type\":\"surface\",\"colorbar\":{\"outlinewidth\":0,\"ticks\":\"\"},\"colorscale\":[[0.0,\"#0d0887\"],[0.1111111111111111,\"#46039f\"],[0.2222222222222222,\"#7201a8\"],[0.3333333333333333,\"#9c179e\"],[0.4444444444444444,\"#bd3786\"],[0.5555555555555556,\"#d8576b\"],[0.6666666666666666,\"#ed7953\"],[0.7777777777777778,\"#fb9f3a\"],[0.8888888888888888,\"#fdca26\"],[1.0,\"#f0f921\"]]}],\"mesh3d\":[{\"type\":\"mesh3d\",\"colorbar\":{\"outlinewidth\":0,\"ticks\":\"\"}}],\"scatter\":[{\"fillpattern\":{\"fillmode\":\"overlay\",\"size\":10,\"solidity\":0.2},\"type\":\"scatter\"}],\"parcoords\":[{\"type\":\"parcoords\",\"line\":{\"colorbar\":{\"outlinewidth\":0,\"ticks\":\"\"}}}],\"scatterpolargl\":[{\"type\":\"scatterpolargl\",\"marker\":{\"colorbar\":{\"outlinewidth\":0,\"ticks\":\"\"}}}],\"bar\":[{\"error_x\":{\"color\":\"#2a3f5f\"},\"error_y\":{\"color\":\"#2a3f5f\"},\"marker\":{\"line\":{\"color\":\"#E5ECF6\",\"width\":0.5},\"pattern\":{\"fillmode\":\"overlay\",\"size\":10,\"solidity\":0.2}},\"type\":\"bar\"}],\"scattergeo\":[{\"type\":\"scattergeo\",\"marker\":{\"colorbar\":{\"outlinewidth\":0,\"ticks\":\"\"}}}],\"scatterpolar\":[{\"type\":\"scatterpolar\",\"marker\":{\"colorbar\":{\"outlinewidth\":0,\"ticks\":\"\"}}}],\"histogram\":[{\"marker\":{\"pattern\":{\"fillmode\":\"overlay\",\"size\":10,\"solidity\":0.2}},\"type\":\"histogram\"}],\"scattergl\":[{\"type\":\"scattergl\",\"marker\":{\"colorbar\":{\"outlinewidth\":0,\"ticks\":\"\"}}}],\"scatter3d\":[{\"type\":\"scatter3d\",\"line\":{\"colorbar\":{\"outlinewidth\":0,\"ticks\":\"\"}},\"marker\":{\"colorbar\":{\"outlinewidth\":0,\"ticks\":\"\"}}}],\"scattermapbox\":[{\"type\":\"scattermapbox\",\"marker\":{\"colorbar\":{\"outlinewidth\":0,\"ticks\":\"\"}}}],\"scatterternary\":[{\"type\":\"scatterternary\",\"marker\":{\"colorbar\":{\"outlinewidth\":0,\"ticks\":\"\"}}}],\"scattercarpet\":[{\"type\":\"scattercarpet\",\"marker\":{\"colorbar\":{\"outlinewidth\":0,\"ticks\":\"\"}}}],\"carpet\":[{\"aaxis\":{\"endlinecolor\":\"#2a3f5f\",\"gridcolor\":\"white\",\"linecolor\":\"white\",\"minorgridcolor\":\"white\",\"startlinecolor\":\"#2a3f5f\"},\"baxis\":{\"endlinecolor\":\"#2a3f5f\",\"gridcolor\":\"white\",\"linecolor\":\"white\",\"minorgridcolor\":\"white\",\"startlinecolor\":\"#2a3f5f\"},\"type\":\"carpet\"}],\"table\":[{\"cells\":{\"fill\":{\"color\":\"#EBF0F8\"},\"line\":{\"color\":\"white\"}},\"header\":{\"fill\":{\"color\":\"#C8D4E3\"},\"line\":{\"color\":\"white\"}},\"type\":\"table\"}],\"barpolar\":[{\"marker\":{\"line\":{\"color\":\"#E5ECF6\",\"width\":0.5},\"pattern\":{\"fillmode\":\"overlay\",\"size\":10,\"solidity\":0.2}},\"type\":\"barpolar\"}],\"pie\":[{\"automargin\":true,\"type\":\"pie\"}]},\"layout\":{\"autotypenumbers\":\"strict\",\"colorway\":[\"#636efa\",\"#EF553B\",\"#00cc96\",\"#ab63fa\",\"#FFA15A\",\"#19d3f3\",\"#FF6692\",\"#B6E880\",\"#FF97FF\",\"#FECB52\"],\"font\":{\"color\":\"#2a3f5f\"},\"hovermode\":\"closest\",\"hoverlabel\":{\"align\":\"left\"},\"paper_bgcolor\":\"white\",\"plot_bgcolor\":\"#E5ECF6\",\"polar\":{\"bgcolor\":\"#E5ECF6\",\"angularaxis\":{\"gridcolor\":\"white\",\"linecolor\":\"white\",\"ticks\":\"\"},\"radialaxis\":{\"gridcolor\":\"white\",\"linecolor\":\"white\",\"ticks\":\"\"}},\"ternary\":{\"bgcolor\":\"#E5ECF6\",\"aaxis\":{\"gridcolor\":\"white\",\"linecolor\":\"white\",\"ticks\":\"\"},\"baxis\":{\"gridcolor\":\"white\",\"linecolor\":\"white\",\"ticks\":\"\"},\"caxis\":{\"gridcolor\":\"white\",\"linecolor\":\"white\",\"ticks\":\"\"}},\"coloraxis\":{\"colorbar\":{\"outlinewidth\":0,\"ticks\":\"\"}},\"colorscale\":{\"sequential\":[[0.0,\"#0d0887\"],[0.1111111111111111,\"#46039f\"],[0.2222222222222222,\"#7201a8\"],[0.3333333333333333,\"#9c179e\"],[0.4444444444444444,\"#bd3786\"],[0.5555555555555556,\"#d8576b\"],[0.6666666666666666,\"#ed7953\"],[0.7777777777777778,\"#fb9f3a\"],[0.8888888888888888,\"#fdca26\"],[1.0,\"#f0f921\"]],\"sequentialminus\":[[0.0,\"#0d0887\"],[0.1111111111111111,\"#46039f\"],[0.2222222222222222,\"#7201a8\"],[0.3333333333333333,\"#9c179e\"],[0.4444444444444444,\"#bd3786\"],[0.5555555555555556,\"#d8576b\"],[0.6666666666666666,\"#ed7953\"],[0.7777777777777778,\"#fb9f3a\"],[0.8888888888888888,\"#fdca26\"],[1.0,\"#f0f921\"]],\"diverging\":[[0,\"#8e0152\"],[0.1,\"#c51b7d\"],[0.2,\"#de77ae\"],[0.3,\"#f1b6da\"],[0.4,\"#fde0ef\"],[0.5,\"#f7f7f7\"],[0.6,\"#e6f5d0\"],[0.7,\"#b8e186\"],[0.8,\"#7fbc41\"],[0.9,\"#4d9221\"],[1,\"#276419\"]]},\"xaxis\":{\"gridcolor\":\"white\",\"linecolor\":\"white\",\"ticks\":\"\",\"title\":{\"standoff\":15},\"zerolinecolor\":\"white\",\"automargin\":true,\"zerolinewidth\":2},\"yaxis\":{\"gridcolor\":\"white\",\"linecolor\":\"white\",\"ticks\":\"\",\"title\":{\"standoff\":15},\"zerolinecolor\":\"white\",\"automargin\":true,\"zerolinewidth\":2},\"scene\":{\"xaxis\":{\"backgroundcolor\":\"#E5ECF6\",\"gridcolor\":\"white\",\"linecolor\":\"white\",\"showbackground\":true,\"ticks\":\"\",\"zerolinecolor\":\"white\",\"gridwidth\":2},\"yaxis\":{\"backgroundcolor\":\"#E5ECF6\",\"gridcolor\":\"white\",\"linecolor\":\"white\",\"showbackground\":true,\"ticks\":\"\",\"zerolinecolor\":\"white\",\"gridwidth\":2},\"zaxis\":{\"backgroundcolor\":\"#E5ECF6\",\"gridcolor\":\"white\",\"linecolor\":\"white\",\"showbackground\":true,\"ticks\":\"\",\"zerolinecolor\":\"white\",\"gridwidth\":2}},\"shapedefaults\":{\"line\":{\"color\":\"#2a3f5f\"}},\"annotationdefaults\":{\"arrowcolor\":\"#2a3f5f\",\"arrowhead\":0,\"arrowwidth\":1},\"geo\":{\"bgcolor\":\"white\",\"landcolor\":\"#E5ECF6\",\"subunitcolor\":\"white\",\"showland\":true,\"showlakes\":true,\"lakecolor\":\"white\"},\"title\":{\"x\":0.05},\"mapbox\":{\"style\":\"light\"}}},\"xaxis\":{\"anchor\":\"y\",\"domain\":[0.0,1.0],\"title\":{\"text\":\"Year\"}},\"yaxis\":{\"anchor\":\"x\",\"domain\":[0.0,1.0],\"title\":{\"text\":\"Population\"}},\"legend\":{\"tracegroupgap\":0,\"x\":0.1,\"y\":0.9},\"title\":{\"text\":\"Population and Production per Capita Over Time\"},\"yaxis2\":{\"title\":{\"text\":\"Production per capita - kWh\"},\"overlaying\":\"y\",\"side\":\"right\"},\"margin\":{\"l\":60,\"r\":60,\"t\":60,\"b\":60},\"width\":800,\"height\":500},                        {\"responsive\": true}                    ).then(function(){\n",
       "                            \n",
       "var gd = document.getElementById('232c2712-bd50-489b-838e-f94980588297');\n",
       "var x = new MutationObserver(function (mutations, observer) {{\n",
       "        var display = window.getComputedStyle(gd).display;\n",
       "        if (!display || display === 'none') {{\n",
       "            console.log([gd, 'removed!']);\n",
       "            Plotly.purge(gd);\n",
       "            observer.disconnect();\n",
       "        }}\n",
       "}});\n",
       "\n",
       "// Listen for the removal of the full notebook cells\n",
       "var notebookContainer = gd.closest('#notebook-container');\n",
       "if (notebookContainer) {{\n",
       "    x.observe(notebookContainer, {childList: true});\n",
       "}}\n",
       "\n",
       "// Listen for the clearing of the current output cell\n",
       "var outputEl = gd.closest('.output');\n",
       "if (outputEl) {{\n",
       "    x.observe(outputEl, {childList: true});\n",
       "}}\n",
       "\n",
       "                        })                };                });            </script>        </div>"
      ]
     },
     "metadata": {},
     "output_type": "display_data"
    }
   ],
   "source": [
    "import plotly.express as px\n",
    "import plotly.graph_objects as go\n",
    "\n",
    "# Assuming your dataframe is named df_swiss_data_inner_join\n",
    "fig = px.line(\n",
    "    df_swiss_data_inner_join,\n",
    "    x=\"Year\",\n",
    "    y=\"Population\",\n",
    "    title=\"Population and Production per Capita Over Time\",\n",
    ")\n",
    "\n",
    "# Add the secondary y-axis\n",
    "fig.add_trace(\n",
    "    go.Scatter(\n",
    "        x=df_swiss_data_inner_join[\"Year\"],\n",
    "        y=df_swiss_data_inner_join[\"Production per capita - kWh\"],\n",
    "        mode=\"lines\",\n",
    "        name=\"Production per capita - kWh\",\n",
    "        yaxis=\"y2\",\n",
    "    )\n",
    ")\n",
    "\n",
    "# Update layout to add a second y-axis\n",
    "fig.update_layout(\n",
    "    yaxis2=dict(title=\"Production per capita - kWh\", overlaying=\"y\", side=\"right\"),\n",
    "    yaxis=dict(title=\"Population\"),\n",
    "    xaxis=dict(title=\"Year\"),\n",
    "    legend=dict(x=0.1, y=0.9),\n",
    "    margin=dict(l=60, r=60, t=60, b=60),\n",
    "    width=800,\n",
    "    height=500,\n",
    ")\n",
    "\n",
    "# Display the plot\n",
    "fig.show()"
   ]
  },
  {
   "cell_type": "markdown",
   "metadata": {},
   "source": [
    "### Dictionnary of dataframe\n",
    "Pandapower make dictionnary of dataframe, here an exemple of that:"
   ]
  },
  {
   "cell_type": "code",
   "execution_count": 191,
   "metadata": {},
   "outputs": [
    {
     "name": "stdout",
     "output_type": "stream",
     "text": [
      "key:  0\n",
      "      Name  Age\n",
      "0  Shahroz   22\n",
      "1    Samad   35\n",
      "2    Usama   58 \n",
      "\n",
      "key:  1\n",
      "       Class  Students\n",
      "0  Chemistry        30\n",
      "1    Physics        35\n",
      "2    Biology        40 \n",
      "\n",
      "Accessing the dataframe against key 0 \n",
      "      Name  Age\n",
      "0  Shahroz   22\n",
      "1    Samad   35\n",
      "2    Usama   58\n",
      "\n",
      "Accessing the first column of dataframe against key 1\n",
      "0    Chemistry\n",
      "1      Physics\n",
      "2      Biology\n",
      "Name: Class, dtype: object\n"
     ]
    }
   ],
   "source": [
    "df1 = pd.DataFrame({\"Name\": [\"Shahroz\", \"Samad\", \"Usama\"], \"Age\": [22, 35, 58]})\n",
    "\n",
    "df2 = pd.DataFrame(\n",
    "    {\"Class\": [\"Chemistry\", \"Physics\", \"Biology\"], \"Students\": [30, 35, 40]}\n",
    ")\n",
    "\n",
    "# list of data frames\n",
    "dataframes = [df1, df2]\n",
    "\n",
    "# dictionary to save data frames\n",
    "frames = {}\n",
    "\n",
    "for key, value in enumerate(dataframes):\n",
    "    frames[key] = value  # assigning data frame from list to key in dictionary\n",
    "    print(\"key: \", key)\n",
    "    print(frames[key], \"\\n\")\n",
    "\n",
    "# access to one data frame by key\n",
    "print(\"Accessing the dataframe against key 0 \\n\", end=\"\")\n",
    "print(frames[0])\n",
    "\n",
    "# access to only column of specific data frame through dictionary\n",
    "print(\"\\nAccessing the first column of dataframe against key 1\\n\", end=\"\")\n",
    "print(frames[1][\"Class\"])"
   ]
  },
  {
   "cell_type": "markdown",
   "metadata": {},
   "source": [
    "# Pandapower"
   ]
  },
  {
   "cell_type": "code",
   "execution_count": 192,
   "metadata": {},
   "outputs": [],
   "source": [
    "import pandapower as pp"
   ]
  },
  {
   "cell_type": "markdown",
   "metadata": {},
   "source": [
    "Tuto on _Exercice Power flow 1 : Problème 1_\n",
    "\n",
    "We use the librarie pandapower : [doc_pandapower](https://pandapower.readthedocs.io/en/v2.9.0/about.html)\n",
    "\n",
    "![Problem base](plot/Ex_PF1_Pb1_Info_p.png)"
   ]
  },
  {
   "cell_type": "markdown",
   "metadata": {},
   "source": [
    "Initialize the network by creating an empty network."
   ]
  },
  {
   "cell_type": "code",
   "execution_count": 193,
   "metadata": {},
   "outputs": [],
   "source": [
    "net_ExPF1_Pb1 = pp.create_empty_network(\n",
    "    name=\"ExPF1_Pb1\", f_hz=50.0, sn_mva=100, add_stdtypes=True\n",
    ")"
   ]
  },
  {
   "cell_type": "markdown",
   "metadata": {},
   "source": [
    "Create all the bus"
   ]
  },
  {
   "cell_type": "code",
   "execution_count": 194,
   "metadata": {},
   "outputs": [],
   "source": [
    "# create buses\n",
    "b1 = pp.create_bus(net_ExPF1_Pb1, vn_kv=400, name=\"Bus 1\")\n",
    "b2 = pp.create_bus(net_ExPF1_Pb1, vn_kv=400, name=\"Bus 2\")\n",
    "b3 = pp.create_bus(net_ExPF1_Pb1, vn_kv=400, name=\"Bus 3\")\n",
    "b4 = pp.create_bus(net_ExPF1_Pb1, vn_kv=400, name=\"Bus 4\")\n",
    "b5 = pp.create_bus(net_ExPF1_Pb1, vn_kv=20, name=\"Bus 5\")"
   ]
  },
  {
   "cell_type": "markdown",
   "metadata": {},
   "source": [
    "Create all the loads"
   ]
  },
  {
   "cell_type": "code",
   "execution_count": 195,
   "metadata": {},
   "outputs": [],
   "source": [
    "# create load\n",
    "load_2 = pp.create_load(net_ExPF1_Pb1, bus=b2, p_mw=100, q_mvar=20, name=\"Load 2\")\n",
    "load_3 = pp.create_load(net_ExPF1_Pb1, bus=b3, p_mw=200, q_mvar=80, name=\"Load 3\")"
   ]
  },
  {
   "cell_type": "markdown",
   "metadata": {},
   "source": [
    "Create all the generator and the slack bus"
   ]
  },
  {
   "cell_type": "code",
   "execution_count": 196,
   "metadata": {},
   "outputs": [
    {
     "data": {
      "text/plain": [
       "1"
      ]
     },
     "execution_count": 196,
     "metadata": {},
     "output_type": "execute_result"
    }
   ],
   "source": [
    "# create generator (external grid as generator to slack bus)\n",
    "gen_1 = pp.create_ext_grid(\n",
    "    net_ExPF1_Pb1, bus=b1, vm_pu=1.0, min_q_mvar=-100, max_q_mvar=100, name=\"Gen 1\"\n",
    ")\n",
    "# pp.create_gen(net,bus=b1,p_mw=0,vm_pu=1,min_q_mvar=-100,max_q_mvar=100,name=\"Gen 1\",slack=True)  # Generator on slack bus ??\n",
    "# Don't need to save output value in a variable because same as before\n",
    "pp.create_gen(\n",
    "    net_ExPF1_Pb1,\n",
    "    bus=b2,\n",
    "    p_mw=150,\n",
    "    vm_pu=1.05,\n",
    "    min_q_mvar=-200,\n",
    "    max_q_mvar=200,\n",
    "    name=\"Gen 2\",\n",
    ")\n",
    "pp.create_gen(\n",
    "    net_ExPF1_Pb1,\n",
    "    bus=b5,\n",
    "    p_mw=100,\n",
    "    vm_pu=1,\n",
    "    min_q_mvar=-100,\n",
    "    max_q_mvar=100,\n",
    "    name=\"Gen 5\",\n",
    ")"
   ]
  },
  {
   "cell_type": "markdown",
   "metadata": {},
   "source": [
    "Create custom transformer, pure inductor."
   ]
  },
  {
   "cell_type": "code",
   "execution_count": 197,
   "metadata": {},
   "outputs": [],
   "source": [
    "# create transformer\n",
    "trafo = pp.create_transformer_from_parameters(\n",
    "    net_ExPF1_Pb1,\n",
    "    hv_bus=b4,\n",
    "    lv_bus=b5,\n",
    "    sn_mva=200,\n",
    "    vn_hv_kv=400,\n",
    "    vn_lv_kv=20,\n",
    "    vk_percent=10,\n",
    "    vkr_percent=0,\n",
    "    pfe_kw=0,\n",
    "    i0_percent=0,\n",
    "    name=\"Transfo T1\",\n",
    ")"
   ]
  },
  {
   "cell_type": "markdown",
   "metadata": {},
   "source": [
    "Calcul line parameter in correct units, transform from pu.\n",
    "\n",
    "Define the base"
   ]
  },
  {
   "cell_type": "code",
   "execution_count": 198,
   "metadata": {},
   "outputs": [
    {
     "data": {
      "text/plain": [
       "1600.0"
      ]
     },
     "execution_count": 198,
     "metadata": {},
     "output_type": "execute_result"
    }
   ],
   "source": [
    "S_base = 100e6\n",
    "U_base = 400e3\n",
    "Z_base = U_base**2 / S_base\n",
    "Y_base = 1 / Z_base\n",
    "Ligne_value = {\n",
    "    \"R_pu\": [0.02, 0.02, 0.02, 0.04, 0.04],\n",
    "    \"X_pu\": [0.2, 0.4, 0.4, 0.4, 0.4],\n",
    "    \"B_pu\": [0.8, 0.8, 0.4, 0.4, 0.4],\n",
    "    \"Un\": [400, 400, 400, 400, 400],\n",
    "}\n",
    "DF_Ligne = pd.DataFrame(Ligne_value, index=[\"A\", \"B\", \"C\", \"D\", \"E\"])\n",
    "Z_base"
   ]
  },
  {
   "cell_type": "markdown",
   "metadata": {},
   "source": [
    "Calcul the parameters"
   ]
  },
  {
   "cell_type": "code",
   "execution_count": 199,
   "metadata": {},
   "outputs": [
    {
     "name": "stdout",
     "output_type": "stream",
     "text": [
      "Line resistance :\n",
      " A    32.0\n",
      "B    32.0\n",
      "C    32.0\n",
      "D    64.0\n",
      "E    64.0\n",
      "Name: R_pu, dtype: float64\n",
      "Line impedance :\n",
      " A    320.0\n",
      "B    640.0\n",
      "C    640.0\n",
      "D    640.0\n",
      "E    640.0\n",
      "Name: X_pu, dtype: float64\n",
      "Line capacitance :\n",
      " A    1591.549431\n",
      "B    1591.549431\n",
      "C     795.774715\n",
      "D     795.774715\n",
      "E     795.774715\n",
      "Name: B_pu, dtype: float64\n"
     ]
    }
   ],
   "source": [
    "rl_ohm_per_km = DF_Ligne.R_pu * Z_base\n",
    "xl_ohm_per_km = DF_Ligne.X_pu * Z_base\n",
    "cl_nF_per_km = DF_Ligne.B_pu / Z_base / (2 * np.pi * 50) * 10**9\n",
    "print(\"Line resistance :\\n\", rl_ohm_per_km)\n",
    "print(\"Line impedance :\\n\", xl_ohm_per_km)\n",
    "print(\"Line capacitance :\\n\", cl_nF_per_km)\n",
    "line_parameter = {\n",
    "    \"r_ohm_per_km\": rl_ohm_per_km,\n",
    "    \"x_ohm_per_km\": xl_ohm_per_km,\n",
    "    \"c_nF_per_km\": cl_nF_per_km,\n",
    "}"
   ]
  },
  {
   "cell_type": "markdown",
   "metadata": {},
   "source": [
    "Create the lines with parameters"
   ]
  },
  {
   "cell_type": "code",
   "execution_count": 200,
   "metadata": {},
   "outputs": [],
   "source": [
    "# create line\n",
    "line_a = pp.create_line_from_parameters(\n",
    "    net_ExPF1_Pb1,\n",
    "    from_bus=b1,\n",
    "    to_bus=b2,\n",
    "    length_km=1,\n",
    "    name=\"Line A\",\n",
    "    r_ohm_per_km=rl_ohm_per_km.A,\n",
    "    x_ohm_per_km=xl_ohm_per_km.A,\n",
    "    c_nf_per_km=cl_nF_per_km.A,\n",
    "    max_i_ka=1,\n",
    ")\n",
    "line_b = pp.create_line_from_parameters(\n",
    "    net_ExPF1_Pb1,\n",
    "    from_bus=b2,\n",
    "    to_bus=b3,\n",
    "    length_km=1,\n",
    "    name=\"Line B\",\n",
    "    r_ohm_per_km=rl_ohm_per_km.B,\n",
    "    x_ohm_per_km=xl_ohm_per_km.B,\n",
    "    c_nf_per_km=cl_nF_per_km.B,\n",
    "    max_i_ka=1,\n",
    ")\n",
    "line_c = pp.create_line_from_parameters(\n",
    "    net_ExPF1_Pb1,\n",
    "    from_bus=b1,\n",
    "    to_bus=b3,\n",
    "    length_km=1,\n",
    "    name=\"Line C\",\n",
    "    r_ohm_per_km=rl_ohm_per_km.C,\n",
    "    x_ohm_per_km=xl_ohm_per_km.C,\n",
    "    c_nf_per_km=cl_nF_per_km.C,\n",
    "    max_i_ka=1,\n",
    ")\n",
    "line_d = pp.create_line_from_parameters(\n",
    "    net_ExPF1_Pb1,\n",
    "    from_bus=b3,\n",
    "    to_bus=b4,\n",
    "    length_km=1,\n",
    "    name=\"Line D\",\n",
    "    r_ohm_per_km=rl_ohm_per_km.D,\n",
    "    x_ohm_per_km=xl_ohm_per_km.D,\n",
    "    c_nf_per_km=cl_nF_per_km.D,\n",
    "    max_i_ka=1,\n",
    ")\n",
    "line_e = pp.create_line_from_parameters(\n",
    "    net_ExPF1_Pb1,\n",
    "    from_bus=b2,\n",
    "    to_bus=b4,\n",
    "    length_km=1,\n",
    "    name=\"Line E\",\n",
    "    r_ohm_per_km=rl_ohm_per_km.E,\n",
    "    x_ohm_per_km=xl_ohm_per_km.E,\n",
    "    c_nf_per_km=cl_nF_per_km.E,\n",
    "    max_i_ka=1,\n",
    ")"
   ]
  },
  {
   "cell_type": "markdown",
   "metadata": {},
   "source": [
    "Check line"
   ]
  },
  {
   "cell_type": "code",
   "execution_count": 201,
   "metadata": {},
   "outputs": [
    {
     "data": {
      "text/html": [
       "<div>\n",
       "<style scoped>\n",
       "    .dataframe tbody tr th:only-of-type {\n",
       "        vertical-align: middle;\n",
       "    }\n",
       "\n",
       "    .dataframe tbody tr th {\n",
       "        vertical-align: top;\n",
       "    }\n",
       "\n",
       "    .dataframe thead th {\n",
       "        text-align: right;\n",
       "    }\n",
       "</style>\n",
       "<table border=\"1\" class=\"dataframe\">\n",
       "  <thead>\n",
       "    <tr style=\"text-align: right;\">\n",
       "      <th></th>\n",
       "      <th>name</th>\n",
       "      <th>std_type</th>\n",
       "      <th>from_bus</th>\n",
       "      <th>to_bus</th>\n",
       "      <th>length_km</th>\n",
       "      <th>r_ohm_per_km</th>\n",
       "      <th>x_ohm_per_km</th>\n",
       "      <th>c_nf_per_km</th>\n",
       "      <th>g_us_per_km</th>\n",
       "      <th>max_i_ka</th>\n",
       "      <th>df</th>\n",
       "      <th>parallel</th>\n",
       "      <th>type</th>\n",
       "      <th>in_service</th>\n",
       "    </tr>\n",
       "  </thead>\n",
       "  <tbody>\n",
       "    <tr>\n",
       "      <th>0</th>\n",
       "      <td>Line A</td>\n",
       "      <td>None</td>\n",
       "      <td>0</td>\n",
       "      <td>1</td>\n",
       "      <td>1.0</td>\n",
       "      <td>32.0</td>\n",
       "      <td>320.0</td>\n",
       "      <td>1591.549431</td>\n",
       "      <td>0.0</td>\n",
       "      <td>1.0</td>\n",
       "      <td>1.0</td>\n",
       "      <td>1</td>\n",
       "      <td>None</td>\n",
       "      <td>True</td>\n",
       "    </tr>\n",
       "    <tr>\n",
       "      <th>1</th>\n",
       "      <td>Line B</td>\n",
       "      <td>None</td>\n",
       "      <td>1</td>\n",
       "      <td>2</td>\n",
       "      <td>1.0</td>\n",
       "      <td>32.0</td>\n",
       "      <td>640.0</td>\n",
       "      <td>1591.549431</td>\n",
       "      <td>0.0</td>\n",
       "      <td>1.0</td>\n",
       "      <td>1.0</td>\n",
       "      <td>1</td>\n",
       "      <td>None</td>\n",
       "      <td>True</td>\n",
       "    </tr>\n",
       "    <tr>\n",
       "      <th>2</th>\n",
       "      <td>Line C</td>\n",
       "      <td>None</td>\n",
       "      <td>0</td>\n",
       "      <td>2</td>\n",
       "      <td>1.0</td>\n",
       "      <td>32.0</td>\n",
       "      <td>640.0</td>\n",
       "      <td>795.774715</td>\n",
       "      <td>0.0</td>\n",
       "      <td>1.0</td>\n",
       "      <td>1.0</td>\n",
       "      <td>1</td>\n",
       "      <td>None</td>\n",
       "      <td>True</td>\n",
       "    </tr>\n",
       "    <tr>\n",
       "      <th>3</th>\n",
       "      <td>Line D</td>\n",
       "      <td>None</td>\n",
       "      <td>2</td>\n",
       "      <td>3</td>\n",
       "      <td>1.0</td>\n",
       "      <td>64.0</td>\n",
       "      <td>640.0</td>\n",
       "      <td>795.774715</td>\n",
       "      <td>0.0</td>\n",
       "      <td>1.0</td>\n",
       "      <td>1.0</td>\n",
       "      <td>1</td>\n",
       "      <td>None</td>\n",
       "      <td>True</td>\n",
       "    </tr>\n",
       "    <tr>\n",
       "      <th>4</th>\n",
       "      <td>Line E</td>\n",
       "      <td>None</td>\n",
       "      <td>1</td>\n",
       "      <td>3</td>\n",
       "      <td>1.0</td>\n",
       "      <td>64.0</td>\n",
       "      <td>640.0</td>\n",
       "      <td>795.774715</td>\n",
       "      <td>0.0</td>\n",
       "      <td>1.0</td>\n",
       "      <td>1.0</td>\n",
       "      <td>1</td>\n",
       "      <td>None</td>\n",
       "      <td>True</td>\n",
       "    </tr>\n",
       "  </tbody>\n",
       "</table>\n",
       "</div>"
      ],
      "text/plain": [
       "     name std_type  from_bus  to_bus  length_km  r_ohm_per_km  x_ohm_per_km  \\\n",
       "0  Line A     None         0       1        1.0          32.0         320.0   \n",
       "1  Line B     None         1       2        1.0          32.0         640.0   \n",
       "2  Line C     None         0       2        1.0          32.0         640.0   \n",
       "3  Line D     None         2       3        1.0          64.0         640.0   \n",
       "4  Line E     None         1       3        1.0          64.0         640.0   \n",
       "\n",
       "   c_nf_per_km  g_us_per_km  max_i_ka   df  parallel  type  in_service  \n",
       "0  1591.549431          0.0       1.0  1.0         1  None        True  \n",
       "1  1591.549431          0.0       1.0  1.0         1  None        True  \n",
       "2   795.774715          0.0       1.0  1.0         1  None        True  \n",
       "3   795.774715          0.0       1.0  1.0         1  None        True  \n",
       "4   795.774715          0.0       1.0  1.0         1  None        True  "
      ]
     },
     "execution_count": 201,
     "metadata": {},
     "output_type": "execute_result"
    }
   ],
   "source": [
    "net_ExPF1_Pb1.line"
   ]
  },
  {
   "cell_type": "code",
   "execution_count": 202,
   "metadata": {},
   "outputs": [
    {
     "data": {
      "text/plain": [
       "This pandapower network includes the following parameter tables:\n",
       "   - bus (5 elements)\n",
       "   - load (2 elements)\n",
       "   - gen (2 elements)\n",
       "   - ext_grid (1 element)\n",
       "   - line (5 elements)\n",
       "   - trafo (1 element)"
      ]
     },
     "execution_count": 202,
     "metadata": {},
     "output_type": "execute_result"
    }
   ],
   "source": [
    "net_ExPF1_Pb1"
   ]
  },
  {
   "cell_type": "code",
   "execution_count": 203,
   "metadata": {},
   "outputs": [
    {
     "data": {
      "text/html": [
       "<div>\n",
       "<style scoped>\n",
       "    .dataframe tbody tr th:only-of-type {\n",
       "        vertical-align: middle;\n",
       "    }\n",
       "\n",
       "    .dataframe tbody tr th {\n",
       "        vertical-align: top;\n",
       "    }\n",
       "\n",
       "    .dataframe thead th {\n",
       "        text-align: right;\n",
       "    }\n",
       "</style>\n",
       "<table border=\"1\" class=\"dataframe\">\n",
       "  <thead>\n",
       "    <tr style=\"text-align: right;\">\n",
       "      <th></th>\n",
       "      <th>name</th>\n",
       "      <th>std_type</th>\n",
       "      <th>hv_bus</th>\n",
       "      <th>lv_bus</th>\n",
       "      <th>sn_mva</th>\n",
       "      <th>vn_hv_kv</th>\n",
       "      <th>vn_lv_kv</th>\n",
       "      <th>vk_percent</th>\n",
       "      <th>vkr_percent</th>\n",
       "      <th>pfe_kw</th>\n",
       "      <th>i0_percent</th>\n",
       "      <th>shift_degree</th>\n",
       "      <th>tap_side</th>\n",
       "      <th>tap_neutral</th>\n",
       "      <th>tap_min</th>\n",
       "      <th>tap_max</th>\n",
       "      <th>tap_step_percent</th>\n",
       "      <th>tap_step_degree</th>\n",
       "      <th>tap_pos</th>\n",
       "      <th>tap_phase_shifter</th>\n",
       "      <th>parallel</th>\n",
       "      <th>df</th>\n",
       "      <th>in_service</th>\n",
       "    </tr>\n",
       "  </thead>\n",
       "  <tbody>\n",
       "    <tr>\n",
       "      <th>0</th>\n",
       "      <td>Transfo T1</td>\n",
       "      <td>None</td>\n",
       "      <td>3</td>\n",
       "      <td>4</td>\n",
       "      <td>200.0</td>\n",
       "      <td>400.0</td>\n",
       "      <td>20.0</td>\n",
       "      <td>10.0</td>\n",
       "      <td>0.0</td>\n",
       "      <td>0.0</td>\n",
       "      <td>0.0</td>\n",
       "      <td>0.0</td>\n",
       "      <td>None</td>\n",
       "      <td>NaN</td>\n",
       "      <td>NaN</td>\n",
       "      <td>NaN</td>\n",
       "      <td>NaN</td>\n",
       "      <td>NaN</td>\n",
       "      <td>NaN</td>\n",
       "      <td>False</td>\n",
       "      <td>1</td>\n",
       "      <td>1.0</td>\n",
       "      <td>True</td>\n",
       "    </tr>\n",
       "  </tbody>\n",
       "</table>\n",
       "</div>"
      ],
      "text/plain": [
       "         name std_type  hv_bus  lv_bus  sn_mva  vn_hv_kv  vn_lv_kv  \\\n",
       "0  Transfo T1     None       3       4   200.0     400.0      20.0   \n",
       "\n",
       "   vk_percent  vkr_percent  pfe_kw  i0_percent  shift_degree tap_side  \\\n",
       "0        10.0          0.0     0.0         0.0           0.0     None   \n",
       "\n",
       "   tap_neutral  tap_min  tap_max  tap_step_percent  tap_step_degree  tap_pos  \\\n",
       "0          NaN      NaN      NaN               NaN              NaN      NaN   \n",
       "\n",
       "   tap_phase_shifter  parallel   df  in_service  \n",
       "0              False         1  1.0        True  "
      ]
     },
     "execution_count": 203,
     "metadata": {},
     "output_type": "execute_result"
    }
   ],
   "source": [
    "net_ExPF1_Pb1.trafo"
   ]
  },
  {
   "cell_type": "markdown",
   "metadata": {},
   "source": [
    "By default, we run a powerflow with NR :\n",
    "- `nr` Newton-Raphson (pypower implementation with numba accelerations)\n",
    "- `gs` gauss-seidel (pypower implementation)\n",
    "- `fdbx` fast-decoupled (pypower implementation)"
   ]
  },
  {
   "cell_type": "code",
   "execution_count": 204,
   "metadata": {},
   "outputs": [
    {
     "data": {
      "text/plain": [
       "This pandapower network includes the following parameter tables:\n",
       "   - bus (5 elements)\n",
       "   - load (2 elements)\n",
       "   - gen (2 elements)\n",
       "   - ext_grid (1 element)\n",
       "   - line (5 elements)\n",
       "   - trafo (1 element)\n",
       " and the following results tables:\n",
       "   - res_bus (5 elements)\n",
       "   - res_line (5 elements)\n",
       "   - res_trafo (1 element)\n",
       "   - res_ext_grid (1 element)\n",
       "   - res_load (2 elements)\n",
       "   - res_gen (2 elements)"
      ]
     },
     "execution_count": 204,
     "metadata": {},
     "output_type": "execute_result"
    }
   ],
   "source": [
    "pp.runpp(net_ExPF1_Pb1)\n",
    "net_ExPF1_Pb1"
   ]
  },
  {
   "cell_type": "code",
   "execution_count": 205,
   "metadata": {},
   "outputs": [
    {
     "data": {
      "text/html": [
       "<div>\n",
       "<style scoped>\n",
       "    .dataframe tbody tr th:only-of-type {\n",
       "        vertical-align: middle;\n",
       "    }\n",
       "\n",
       "    .dataframe tbody tr th {\n",
       "        vertical-align: top;\n",
       "    }\n",
       "\n",
       "    .dataframe thead th {\n",
       "        text-align: right;\n",
       "    }\n",
       "</style>\n",
       "<table border=\"1\" class=\"dataframe\">\n",
       "  <thead>\n",
       "    <tr style=\"text-align: right;\">\n",
       "      <th></th>\n",
       "      <th>vm_pu</th>\n",
       "      <th>va_degree</th>\n",
       "      <th>p_mw</th>\n",
       "      <th>q_mvar</th>\n",
       "    </tr>\n",
       "  </thead>\n",
       "  <tbody>\n",
       "    <tr>\n",
       "      <th>0</th>\n",
       "      <td>1.000000</td>\n",
       "      <td>0.000000</td>\n",
       "      <td>-54.693687</td>\n",
       "      <td>67.913996</td>\n",
       "    </tr>\n",
       "    <tr>\n",
       "      <th>1</th>\n",
       "      <td>1.050000</td>\n",
       "      <td>0.263137</td>\n",
       "      <td>-50.000000</td>\n",
       "      <td>41.529496</td>\n",
       "    </tr>\n",
       "    <tr>\n",
       "      <th>2</th>\n",
       "      <td>0.951174</td>\n",
       "      <td>-14.297797</td>\n",
       "      <td>200.000000</td>\n",
       "      <td>80.000000</td>\n",
       "    </tr>\n",
       "    <tr>\n",
       "      <th>3</th>\n",
       "      <td>1.013825</td>\n",
       "      <td>4.685040</td>\n",
       "      <td>0.000000</td>\n",
       "      <td>0.000000</td>\n",
       "    </tr>\n",
       "    <tr>\n",
       "      <th>4</th>\n",
       "      <td>1.000000</td>\n",
       "      <td>7.511909</td>\n",
       "      <td>-100.000000</td>\n",
       "      <td>25.182913</td>\n",
       "    </tr>\n",
       "  </tbody>\n",
       "</table>\n",
       "</div>"
      ],
      "text/plain": [
       "      vm_pu  va_degree        p_mw     q_mvar\n",
       "0  1.000000   0.000000  -54.693687  67.913996\n",
       "1  1.050000   0.263137  -50.000000  41.529496\n",
       "2  0.951174 -14.297797  200.000000  80.000000\n",
       "3  1.013825   4.685040    0.000000   0.000000\n",
       "4  1.000000   7.511909 -100.000000  25.182913"
      ]
     },
     "execution_count": 205,
     "metadata": {},
     "output_type": "execute_result"
    }
   ],
   "source": [
    "net_ExPF1_Pb1.res_bus"
   ]
  },
  {
   "cell_type": "code",
   "execution_count": 206,
   "metadata": {},
   "outputs": [
    {
     "data": {
      "text/plain": [
       "4.69368692395793"
      ]
     },
     "execution_count": 206,
     "metadata": {},
     "output_type": "execute_result"
    }
   ],
   "source": [
    "net_ExPF1_Pb1.res_line.pl_mw.sum()"
   ]
  },
  {
   "cell_type": "code",
   "execution_count": 207,
   "metadata": {},
   "outputs": [
    {
     "data": {
      "text/html": [
       "<div>\n",
       "<style scoped>\n",
       "    .dataframe tbody tr th:only-of-type {\n",
       "        vertical-align: middle;\n",
       "    }\n",
       "\n",
       "    .dataframe tbody tr th {\n",
       "        vertical-align: top;\n",
       "    }\n",
       "\n",
       "    .dataframe thead th {\n",
       "        text-align: right;\n",
       "    }\n",
       "</style>\n",
       "<table border=\"1\" class=\"dataframe\">\n",
       "  <thead>\n",
       "    <tr style=\"text-align: right;\">\n",
       "      <th></th>\n",
       "      <th>p_mw</th>\n",
       "      <th>q_mvar</th>\n",
       "      <th>va_degree</th>\n",
       "      <th>vm_pu</th>\n",
       "    </tr>\n",
       "  </thead>\n",
       "  <tbody>\n",
       "    <tr>\n",
       "      <th>0</th>\n",
       "      <td>150.0</td>\n",
       "      <td>-21.529496</td>\n",
       "      <td>0.263137</td>\n",
       "      <td>1.05</td>\n",
       "    </tr>\n",
       "    <tr>\n",
       "      <th>1</th>\n",
       "      <td>100.0</td>\n",
       "      <td>-25.182913</td>\n",
       "      <td>7.511909</td>\n",
       "      <td>1.00</td>\n",
       "    </tr>\n",
       "  </tbody>\n",
       "</table>\n",
       "</div>"
      ],
      "text/plain": [
       "    p_mw     q_mvar  va_degree  vm_pu\n",
       "0  150.0 -21.529496   0.263137   1.05\n",
       "1  100.0 -25.182913   7.511909   1.00"
      ]
     },
     "execution_count": 207,
     "metadata": {},
     "output_type": "execute_result"
    }
   ],
   "source": [
    "net_ExPF1_Pb1.res_gen"
   ]
  },
  {
   "cell_type": "code",
   "execution_count": 208,
   "metadata": {},
   "outputs": [
    {
     "data": {
      "text/html": [
       "<div>\n",
       "<style scoped>\n",
       "    .dataframe tbody tr th:only-of-type {\n",
       "        vertical-align: middle;\n",
       "    }\n",
       "\n",
       "    .dataframe tbody tr th {\n",
       "        vertical-align: top;\n",
       "    }\n",
       "\n",
       "    .dataframe thead th {\n",
       "        text-align: right;\n",
       "    }\n",
       "</style>\n",
       "<table border=\"1\" class=\"dataframe\">\n",
       "  <thead>\n",
       "    <tr style=\"text-align: right;\">\n",
       "      <th></th>\n",
       "      <th>p_mw</th>\n",
       "      <th>q_mvar</th>\n",
       "    </tr>\n",
       "  </thead>\n",
       "  <tbody>\n",
       "    <tr>\n",
       "      <th>0</th>\n",
       "      <td>54.693687</td>\n",
       "      <td>-67.913996</td>\n",
       "    </tr>\n",
       "  </tbody>\n",
       "</table>\n",
       "</div>"
      ],
      "text/plain": [
       "        p_mw     q_mvar\n",
       "0  54.693687 -67.913996"
      ]
     },
     "execution_count": 208,
     "metadata": {},
     "output_type": "execute_result"
    }
   ],
   "source": [
    "net_ExPF1_Pb1.res_ext_grid"
   ]
  },
  {
   "cell_type": "markdown",
   "metadata": {},
   "source": [
    "To show the admitance matrix :"
   ]
  },
  {
   "cell_type": "code",
   "execution_count": 209,
   "metadata": {},
   "outputs": [
    {
     "data": {
      "text/html": [
       "<div>\n",
       "<style scoped>\n",
       "    .dataframe tbody tr th:only-of-type {\n",
       "        vertical-align: middle;\n",
       "    }\n",
       "\n",
       "    .dataframe tbody tr th {\n",
       "        vertical-align: top;\n",
       "    }\n",
       "\n",
       "    .dataframe thead th {\n",
       "        text-align: right;\n",
       "    }\n",
       "</style>\n",
       "<table border=\"1\" class=\"dataframe\">\n",
       "  <thead>\n",
       "    <tr style=\"text-align: right;\">\n",
       "      <th></th>\n",
       "      <th>0</th>\n",
       "      <th>1</th>\n",
       "      <th>2</th>\n",
       "      <th>3</th>\n",
       "      <th>4</th>\n",
       "    </tr>\n",
       "  </thead>\n",
       "  <tbody>\n",
       "    <tr>\n",
       "      <th>0</th>\n",
       "      <td>0.6-6.8j</td>\n",
       "      <td>-0.5+5.0j</td>\n",
       "      <td>-0.1+2.5j</td>\n",
       "      <td>0.0+ 0.0j</td>\n",
       "      <td>0.0+ 0.0j</td>\n",
       "    </tr>\n",
       "    <tr>\n",
       "      <th>1</th>\n",
       "      <td>-0.5+5.0j</td>\n",
       "      <td>0.9-8.9j</td>\n",
       "      <td>-0.1+2.5j</td>\n",
       "      <td>-0.2+ 2.5j</td>\n",
       "      <td>0.0+ 0.0j</td>\n",
       "    </tr>\n",
       "    <tr>\n",
       "      <th>2</th>\n",
       "      <td>-0.1+2.5j</td>\n",
       "      <td>-0.1+2.5j</td>\n",
       "      <td>0.5-6.7j</td>\n",
       "      <td>-0.2+ 2.5j</td>\n",
       "      <td>0.0+ 0.0j</td>\n",
       "    </tr>\n",
       "    <tr>\n",
       "      <th>3</th>\n",
       "      <td>0.0+0.0j</td>\n",
       "      <td>-0.2+2.5j</td>\n",
       "      <td>-0.2+2.5j</td>\n",
       "      <td>0.5-24.6j</td>\n",
       "      <td>0.0+20.0j</td>\n",
       "    </tr>\n",
       "    <tr>\n",
       "      <th>4</th>\n",
       "      <td>0.0+0.0j</td>\n",
       "      <td>0.0+0.0j</td>\n",
       "      <td>0.0+0.0j</td>\n",
       "      <td>0.0+20.0j</td>\n",
       "      <td>0.0-20.0j</td>\n",
       "    </tr>\n",
       "  </tbody>\n",
       "</table>\n",
       "</div>"
      ],
      "text/plain": [
       "          0         1         2          3          4\n",
       "0  0.6-6.8j -0.5+5.0j -0.1+2.5j  0.0+ 0.0j  0.0+ 0.0j\n",
       "1 -0.5+5.0j  0.9-8.9j -0.1+2.5j -0.2+ 2.5j  0.0+ 0.0j\n",
       "2 -0.1+2.5j -0.1+2.5j  0.5-6.7j -0.2+ 2.5j  0.0+ 0.0j\n",
       "3  0.0+0.0j -0.2+2.5j -0.2+2.5j  0.5-24.6j  0.0+20.0j\n",
       "4  0.0+0.0j  0.0+0.0j  0.0+0.0j  0.0+20.0j  0.0-20.0j"
      ]
     },
     "execution_count": 209,
     "metadata": {},
     "output_type": "execute_result"
    }
   ],
   "source": [
    "pd.DataFrame(net_ExPF1_Pb1._ppc[\"internal\"][\"Ybus\"].toarray()).round(1)"
   ]
  },
  {
   "cell_type": "markdown",
   "metadata": {},
   "source": [
    "## Same exercise with the **panda**power_heig_ui librairie"
   ]
  },
  {
   "cell_type": "markdown",
   "metadata": {},
   "source": [
    "This package is based on the pandaPower library. It has been developed to help students using simple functions in order to create simple power system models.\n",
    "- **panda**power_heig_ui's [documentation](https://heig-vd-ie.github.io/pandapower-heig-ui/)."
   ]
  },
  {
   "cell_type": "code",
   "execution_count": 210,
   "metadata": {},
   "outputs": [],
   "source": [
    "import pp_heig_simulation as pp_sim\n",
    "import pp_heig_plot as pp_plot\n",
    "from datetime import time"
   ]
  },
  {
   "cell_type": "markdown",
   "metadata": {},
   "source": [
    "At the first, we complete the excel file : *net_ex_pf_1_pb_1.xlsx*\n",
    "Then we load data in **panda**power format :"
   ]
  },
  {
   "cell_type": "code",
   "execution_count": 211,
   "metadata": {},
   "outputs": [],
   "source": [
    "file_path = \"data/net_ex_pf_1_pb_1.xlsx\"\n",
    "net_ExPF1_Pb1_heig = pp_sim.load_net_from_xlsx(file_path=file_path)"
   ]
  },
  {
   "cell_type": "markdown",
   "metadata": {},
   "source": [
    "Check net well load :"
   ]
  },
  {
   "cell_type": "code",
   "execution_count": 212,
   "metadata": {},
   "outputs": [
    {
     "data": {
      "text/plain": [
       "This pandapower network includes the following parameter tables:\n",
       "   - bus (5 elements)\n",
       "   - load (2 elements)\n",
       "   - ext_grid (1 element)\n",
       "   - line (5 elements)\n",
       "   - trafo (1 element)"
      ]
     },
     "execution_count": 212,
     "metadata": {},
     "output_type": "execute_result"
    }
   ],
   "source": [
    "net_ExPF1_Pb1_heig"
   ]
  },
  {
   "cell_type": "code",
   "execution_count": 213,
   "metadata": {},
   "outputs": [
    {
     "data": {
      "text/html": [
       "<div>\n",
       "<style scoped>\n",
       "    .dataframe tbody tr th:only-of-type {\n",
       "        vertical-align: middle;\n",
       "    }\n",
       "\n",
       "    .dataframe tbody tr th {\n",
       "        vertical-align: top;\n",
       "    }\n",
       "\n",
       "    .dataframe thead th {\n",
       "        text-align: right;\n",
       "    }\n",
       "</style>\n",
       "<table border=\"1\" class=\"dataframe\">\n",
       "  <thead>\n",
       "    <tr style=\"text-align: right;\">\n",
       "      <th></th>\n",
       "      <th>name</th>\n",
       "      <th>bus</th>\n",
       "      <th>p_mw</th>\n",
       "      <th>q_mvar</th>\n",
       "      <th>scaling</th>\n",
       "      <th>profile_mapping</th>\n",
       "      <th>const_z_percent</th>\n",
       "      <th>const_i_percent</th>\n",
       "      <th>sn_mva</th>\n",
       "      <th>in_service</th>\n",
       "      <th>type</th>\n",
       "    </tr>\n",
       "  </thead>\n",
       "  <tbody>\n",
       "    <tr>\n",
       "      <th>0</th>\n",
       "      <td>load_2</td>\n",
       "      <td>1</td>\n",
       "      <td>100.0</td>\n",
       "      <td>20.0</td>\n",
       "      <td>1.0</td>\n",
       "      <td>1</td>\n",
       "      <td>0.0</td>\n",
       "      <td>0.0</td>\n",
       "      <td>None</td>\n",
       "      <td>True</td>\n",
       "      <td>wye</td>\n",
       "    </tr>\n",
       "    <tr>\n",
       "      <th>1</th>\n",
       "      <td>load_3</td>\n",
       "      <td>2</td>\n",
       "      <td>200.0</td>\n",
       "      <td>80.0</td>\n",
       "      <td>1.0</td>\n",
       "      <td>2</td>\n",
       "      <td>0.0</td>\n",
       "      <td>0.0</td>\n",
       "      <td>None</td>\n",
       "      <td>True</td>\n",
       "      <td>wye</td>\n",
       "    </tr>\n",
       "  </tbody>\n",
       "</table>\n",
       "</div>"
      ],
      "text/plain": [
       "     name  bus   p_mw  q_mvar  scaling  profile_mapping  const_z_percent  \\\n",
       "0  load_2    1  100.0    20.0      1.0                1              0.0   \n",
       "1  load_3    2  200.0    80.0      1.0                2              0.0   \n",
       "\n",
       "   const_i_percent sn_mva  in_service type  \n",
       "0              0.0   None        True  wye  \n",
       "1              0.0   None        True  wye  "
      ]
     },
     "execution_count": 213,
     "metadata": {},
     "output_type": "execute_result"
    }
   ],
   "source": [
    "net_ExPF1_Pb1_heig.load"
   ]
  },
  {
   "cell_type": "markdown",
   "metadata": {},
   "source": [
    "In excel, we can't create an external grid as a generator, so let's modify it manualy :"
   ]
  },
  {
   "cell_type": "code",
   "execution_count": 214,
   "metadata": {},
   "outputs": [],
   "source": [
    "net_ExPF1_Pb1_heig.ext_grid[\"max_q_mvar\"] = 100\n",
    "net_ExPF1_Pb1_heig.ext_grid[\"min_q_mvar\"] = -100"
   ]
  },
  {
   "cell_type": "code",
   "execution_count": 215,
   "metadata": {},
   "outputs": [
    {
     "data": {
      "text/plain": [
       "0    100\n",
       "Name: max_q_mvar, dtype: int64"
      ]
     },
     "execution_count": 215,
     "metadata": {},
     "output_type": "execute_result"
    }
   ],
   "source": [
    "net_ExPF1_Pb1_heig.ext_grid[\"max_q_mvar\"]"
   ]
  },
  {
   "cell_type": "markdown",
   "metadata": {},
   "source": [
    "Same for generator, in excel, we only create static generator (PQ), so we need to create generator (PV)"
   ]
  },
  {
   "cell_type": "code",
   "execution_count": 216,
   "metadata": {},
   "outputs": [],
   "source": [
    "gen_2 = pp.create_gen(\n",
    "    net_ExPF1_Pb1_heig,\n",
    "    bus=b2,\n",
    "    p_mw=150,\n",
    "    vm_pu=1.05,\n",
    "    min_q_mvar=-200,\n",
    "    max_q_mvar=200,\n",
    "    name=\"Gen 2\",\n",
    ")\n",
    "gen_5 = pp.create_gen(\n",
    "    net_ExPF1_Pb1_heig,\n",
    "    bus=b5,\n",
    "    p_mw=100,\n",
    "    vm_pu=1,\n",
    "    min_q_mvar=-100,\n",
    "    max_q_mvar=100,\n",
    "    name=\"Gen 5\",\n",
    ")"
   ]
  },
  {
   "cell_type": "markdown",
   "metadata": {},
   "source": [
    "Check if that works :"
   ]
  },
  {
   "cell_type": "code",
   "execution_count": 217,
   "metadata": {},
   "outputs": [
    {
     "data": {
      "text/plain": [
       "This pandapower network includes the following parameter tables:\n",
       "   - bus (5 elements)\n",
       "   - load (2 elements)\n",
       "   - gen (2 elements)\n",
       "   - ext_grid (1 element)\n",
       "   - line (5 elements)\n",
       "   - trafo (1 element)"
      ]
     },
     "execution_count": 217,
     "metadata": {},
     "output_type": "execute_result"
    }
   ],
   "source": [
    "net_ExPF1_Pb1_heig"
   ]
  },
  {
   "cell_type": "code",
   "execution_count": 218,
   "metadata": {},
   "outputs": [
    {
     "data": {
      "text/html": [
       "<div>\n",
       "<style scoped>\n",
       "    .dataframe tbody tr th:only-of-type {\n",
       "        vertical-align: middle;\n",
       "    }\n",
       "\n",
       "    .dataframe tbody tr th {\n",
       "        vertical-align: top;\n",
       "    }\n",
       "\n",
       "    .dataframe thead th {\n",
       "        text-align: right;\n",
       "    }\n",
       "</style>\n",
       "<table border=\"1\" class=\"dataframe\">\n",
       "  <thead>\n",
       "    <tr style=\"text-align: right;\">\n",
       "      <th></th>\n",
       "      <th>name</th>\n",
       "      <th>from_bus</th>\n",
       "      <th>to_bus</th>\n",
       "      <th>length_km</th>\n",
       "      <th>r_ohm_per_km</th>\n",
       "      <th>x_ohm_per_km</th>\n",
       "      <th>c_nf_per_km</th>\n",
       "      <th>max_i_ka</th>\n",
       "      <th>parallel</th>\n",
       "      <th>type</th>\n",
       "      <th>r0_ohm_per_km</th>\n",
       "      <th>x0_ohm_per_km</th>\n",
       "      <th>c0_nf_per_km</th>\n",
       "      <th>g_us_per_km</th>\n",
       "      <th>df</th>\n",
       "      <th>std_type</th>\n",
       "      <th>in_service</th>\n",
       "    </tr>\n",
       "  </thead>\n",
       "  <tbody>\n",
       "    <tr>\n",
       "      <th>0</th>\n",
       "      <td>line_a</td>\n",
       "      <td>0</td>\n",
       "      <td>1</td>\n",
       "      <td>1.0</td>\n",
       "      <td>32.0</td>\n",
       "      <td>320.0</td>\n",
       "      <td>1591.549431</td>\n",
       "      <td>1.0</td>\n",
       "      <td>1</td>\n",
       "      <td>None</td>\n",
       "      <td>0.0</td>\n",
       "      <td>0.0</td>\n",
       "      <td>0.0</td>\n",
       "      <td>0.0</td>\n",
       "      <td>1.0</td>\n",
       "      <td>None</td>\n",
       "      <td>True</td>\n",
       "    </tr>\n",
       "    <tr>\n",
       "      <th>1</th>\n",
       "      <td>line_b</td>\n",
       "      <td>1</td>\n",
       "      <td>2</td>\n",
       "      <td>1.0</td>\n",
       "      <td>32.0</td>\n",
       "      <td>640.0</td>\n",
       "      <td>1591.549431</td>\n",
       "      <td>1.0</td>\n",
       "      <td>1</td>\n",
       "      <td>None</td>\n",
       "      <td>0.0</td>\n",
       "      <td>0.0</td>\n",
       "      <td>0.0</td>\n",
       "      <td>0.0</td>\n",
       "      <td>1.0</td>\n",
       "      <td>None</td>\n",
       "      <td>True</td>\n",
       "    </tr>\n",
       "    <tr>\n",
       "      <th>2</th>\n",
       "      <td>line_c</td>\n",
       "      <td>0</td>\n",
       "      <td>2</td>\n",
       "      <td>1.0</td>\n",
       "      <td>32.0</td>\n",
       "      <td>640.0</td>\n",
       "      <td>795.774715</td>\n",
       "      <td>1.0</td>\n",
       "      <td>1</td>\n",
       "      <td>None</td>\n",
       "      <td>0.0</td>\n",
       "      <td>0.0</td>\n",
       "      <td>0.0</td>\n",
       "      <td>0.0</td>\n",
       "      <td>1.0</td>\n",
       "      <td>None</td>\n",
       "      <td>True</td>\n",
       "    </tr>\n",
       "    <tr>\n",
       "      <th>3</th>\n",
       "      <td>line_d</td>\n",
       "      <td>2</td>\n",
       "      <td>3</td>\n",
       "      <td>1.0</td>\n",
       "      <td>64.0</td>\n",
       "      <td>640.0</td>\n",
       "      <td>795.774715</td>\n",
       "      <td>1.0</td>\n",
       "      <td>1</td>\n",
       "      <td>None</td>\n",
       "      <td>0.0</td>\n",
       "      <td>0.0</td>\n",
       "      <td>0.0</td>\n",
       "      <td>0.0</td>\n",
       "      <td>1.0</td>\n",
       "      <td>None</td>\n",
       "      <td>True</td>\n",
       "    </tr>\n",
       "    <tr>\n",
       "      <th>4</th>\n",
       "      <td>line_e</td>\n",
       "      <td>1</td>\n",
       "      <td>3</td>\n",
       "      <td>1.0</td>\n",
       "      <td>64.0</td>\n",
       "      <td>640.0</td>\n",
       "      <td>795.774715</td>\n",
       "      <td>1.0</td>\n",
       "      <td>1</td>\n",
       "      <td>None</td>\n",
       "      <td>0.0</td>\n",
       "      <td>0.0</td>\n",
       "      <td>0.0</td>\n",
       "      <td>0.0</td>\n",
       "      <td>1.0</td>\n",
       "      <td>None</td>\n",
       "      <td>True</td>\n",
       "    </tr>\n",
       "  </tbody>\n",
       "</table>\n",
       "</div>"
      ],
      "text/plain": [
       "     name  from_bus  to_bus  length_km  r_ohm_per_km  x_ohm_per_km  \\\n",
       "0  line_a         0       1        1.0          32.0         320.0   \n",
       "1  line_b         1       2        1.0          32.0         640.0   \n",
       "2  line_c         0       2        1.0          32.0         640.0   \n",
       "3  line_d         2       3        1.0          64.0         640.0   \n",
       "4  line_e         1       3        1.0          64.0         640.0   \n",
       "\n",
       "   c_nf_per_km  max_i_ka  parallel  type  r0_ohm_per_km  x0_ohm_per_km  \\\n",
       "0  1591.549431       1.0         1  None            0.0            0.0   \n",
       "1  1591.549431       1.0         1  None            0.0            0.0   \n",
       "2   795.774715       1.0         1  None            0.0            0.0   \n",
       "3   795.774715       1.0         1  None            0.0            0.0   \n",
       "4   795.774715       1.0         1  None            0.0            0.0   \n",
       "\n",
       "   c0_nf_per_km  g_us_per_km   df std_type  in_service  \n",
       "0           0.0          0.0  1.0     None        True  \n",
       "1           0.0          0.0  1.0     None        True  \n",
       "2           0.0          0.0  1.0     None        True  \n",
       "3           0.0          0.0  1.0     None        True  \n",
       "4           0.0          0.0  1.0     None        True  "
      ]
     },
     "execution_count": 218,
     "metadata": {},
     "output_type": "execute_result"
    }
   ],
   "source": [
    "net_ExPF1_Pb1_heig.line"
   ]
  },
  {
   "cell_type": "markdown",
   "metadata": {},
   "source": [
    "With this package, we can plot the grid :"
   ]
  },
  {
   "cell_type": "code",
   "execution_count": 219,
   "metadata": {},
   "outputs": [
    {
     "data": {
      "application/vnd.plotly.v1+json": {
       "config": {
        "plotlyServerURL": "https://plot.ly"
       },
       "data": [
        {
         "hoverinfo": "text",
         "legendgroup": "lines",
         "line": {
          "color": "rgb(0, 0, 0)",
          "width": 3
         },
         "mode": "lines",
         "name": "Lines",
         "showlegend": true,
         "text": "line_a",
         "type": "scatter",
         "x": [
          0.864732143824462,
          0.8037953996404956,
          0.7428586554565294
         ],
         "y": [
          -0.7953249239893944,
          -0.4149081565426613,
          -0.03449138909592816
         ]
        },
        {
         "hoverinfo": "text",
         "legendgroup": "lines",
         "line": {
          "color": "rgb(0, 0, 0)",
          "width": 3
         },
         "mode": "lines",
         "name": "Lines",
         "showlegend": false,
         "text": "line_b",
         "type": "scatter",
         "x": [
          0.7428586554565294,
          0.4548102095195367,
          0.16676176358254402
         ],
         "y": [
          -0.03449138909592816,
          -0.251691917085301,
          -0.4688924450746738
         ]
        },
        {
         "hoverinfo": "text",
         "legendgroup": "lines",
         "line": {
          "color": "rgb(0, 0, 0)",
          "width": 3
         },
         "mode": "lines",
         "name": "Lines",
         "showlegend": false,
         "text": "line_c",
         "type": "scatter",
         "x": [
          0.864732143824462,
          0.515746953703503,
          0.16676176358254402
         ],
         "y": [
          -0.7953249239893944,
          -0.6321086845320341,
          -0.4688924450746738
         ]
        },
        {
         "hoverinfo": "text",
         "legendgroup": "lines",
         "line": {
          "color": "rgb(0, 0, 0)",
          "width": 3
         },
         "mode": "lines",
         "name": "Lines",
         "showlegend": false,
         "text": "line_d",
         "type": "scatter",
         "x": [
          0.16676176358254402,
          0.10543830339042311,
          0.04411484319830219
         ],
         "y": [
          -0.4688924450746738,
          -0.08796282001107544,
          0.2929668050525229
         ]
        },
        {
         "hoverinfo": "text",
         "legendgroup": "lines",
         "line": {
          "color": "rgb(0, 0, 0)",
          "width": 3
         },
         "mode": "lines",
         "name": "Lines",
         "showlegend": false,
         "text": "line_e",
         "type": "scatter",
         "x": [
          0.7428586554565294,
          0.3934867493274158,
          0.04411484319830219
         ],
         "y": [
          -0.03449138909592816,
          0.1292377079782974,
          0.2929668050525229
         ]
        },
        {
         "hoverinfo": "text",
         "legendgroup": "lines",
         "marker": {
          "color": "rgb(0, 0, 0)",
          "size": 1,
          "symbol": "circle"
         },
         "mode": "markers",
         "name": "edge_center",
         "showlegend": false,
         "type": "scatter",
         "x": [
          0.8037953996404956
         ],
         "y": [
          -0.4149081565426613
         ]
        },
        {
         "hoverinfo": "text",
         "legendgroup": "Transformers",
         "line": {
          "color": "rgb(0, 128, 0)",
          "width": 7
         },
         "mode": "lines",
         "name": "Transformers",
         "showlegend": true,
         "text": "Transfo T1<br>200.0 MVA",
         "type": "scatter",
         "x": [
          0.04411484319830219,
          -0.18465400447251362,
          -0.4134228521433294
         ],
         "y": [
          0.2929668050525229,
          0.5963570023987358,
          0.8997471997449487
         ]
        },
        {
         "hoverinfo": "text",
         "legendgroup": "Transformers",
         "marker": {
          "color": "rgb(0, 128, 0)",
          "size": 1,
          "symbol": "circle"
         },
         "mode": "markers",
         "name": "edge_center",
         "showlegend": false,
         "text": [
          "Transfo T1<br>200.0 MVA"
         ],
         "type": "scatter",
         "x": [
          -0.18465400447251362
         ],
         "y": [
          0.5963570023987358
         ]
        },
        {
         "hoverinfo": "text",
         "marker": {
          "color": "rgb(191, 191, 0)",
          "size": 30,
          "symbol": "square"
         },
         "mode": "markers",
         "name": "Ext grid",
         "text": [
          "Gen 1"
         ],
         "type": "scatter",
         "x": [
          0.864732143824462
         ],
         "y": [
          -0.7953249239893944
         ]
        },
        {
         "hoverinfo": "text",
         "marker": {
          "color": "rgb(0, 0, 255)",
          "size": 20,
          "symbol": "circle"
         },
         "mode": "markers",
         "name": "Zone HV",
         "text": [
          "bus_1<br>400.0 kV",
          "bus_2<br>400.0 kV",
          "bus_3<br>400.0 kV",
          "bus_4<br>400.0 kV"
         ],
         "type": "scatter",
         "x": [
          0.864732143824462,
          0.7428586554565294,
          0.16676176358254402,
          0.04411484319830219
         ],
         "y": [
          -0.7953249239893944,
          -0.03449138909592816,
          -0.4688924450746738,
          0.2929668050525229
         ]
        },
        {
         "hoverinfo": "text",
         "marker": {
          "color": "rgb(0, 128, 0)",
          "size": 20,
          "symbol": "circle"
         },
         "mode": "markers",
         "name": "Zone LV",
         "text": [
          "bus_5<br>20.0 kV"
         ],
         "type": "scatter",
         "x": [
          -0.4134228521433294
         ],
         "y": [
          0.8997471997449487
         ]
        }
       ],
       "layout": {
        "font": {
         "size": 15
        },
        "height": 400,
        "hovermode": "closest",
        "legend": {
         "font": {
          "size": 12
         },
         "itemsizing": "constant"
        },
        "margin": {
         "b": 5,
         "l": 5,
         "r": 5,
         "t": 30
        },
        "paper_bgcolor": "white",
        "plot_bgcolor": "white",
        "showlegend": true,
        "template": {
         "data": {
          "bar": [
           {
            "error_x": {
             "color": "#2a3f5f"
            },
            "error_y": {
             "color": "#2a3f5f"
            },
            "marker": {
             "line": {
              "color": "#E5ECF6",
              "width": 0.5
             },
             "pattern": {
              "fillmode": "overlay",
              "size": 10,
              "solidity": 0.2
             }
            },
            "type": "bar"
           }
          ],
          "barpolar": [
           {
            "marker": {
             "line": {
              "color": "#E5ECF6",
              "width": 0.5
             },
             "pattern": {
              "fillmode": "overlay",
              "size": 10,
              "solidity": 0.2
             }
            },
            "type": "barpolar"
           }
          ],
          "carpet": [
           {
            "aaxis": {
             "endlinecolor": "#2a3f5f",
             "gridcolor": "white",
             "linecolor": "white",
             "minorgridcolor": "white",
             "startlinecolor": "#2a3f5f"
            },
            "baxis": {
             "endlinecolor": "#2a3f5f",
             "gridcolor": "white",
             "linecolor": "white",
             "minorgridcolor": "white",
             "startlinecolor": "#2a3f5f"
            },
            "type": "carpet"
           }
          ],
          "choropleth": [
           {
            "colorbar": {
             "outlinewidth": 0,
             "ticks": ""
            },
            "type": "choropleth"
           }
          ],
          "contour": [
           {
            "colorbar": {
             "outlinewidth": 0,
             "ticks": ""
            },
            "colorscale": [
             [
              0,
              "#0d0887"
             ],
             [
              0.1111111111111111,
              "#46039f"
             ],
             [
              0.2222222222222222,
              "#7201a8"
             ],
             [
              0.3333333333333333,
              "#9c179e"
             ],
             [
              0.4444444444444444,
              "#bd3786"
             ],
             [
              0.5555555555555556,
              "#d8576b"
             ],
             [
              0.6666666666666666,
              "#ed7953"
             ],
             [
              0.7777777777777778,
              "#fb9f3a"
             ],
             [
              0.8888888888888888,
              "#fdca26"
             ],
             [
              1,
              "#f0f921"
             ]
            ],
            "type": "contour"
           }
          ],
          "contourcarpet": [
           {
            "colorbar": {
             "outlinewidth": 0,
             "ticks": ""
            },
            "type": "contourcarpet"
           }
          ],
          "heatmap": [
           {
            "colorbar": {
             "outlinewidth": 0,
             "ticks": ""
            },
            "colorscale": [
             [
              0,
              "#0d0887"
             ],
             [
              0.1111111111111111,
              "#46039f"
             ],
             [
              0.2222222222222222,
              "#7201a8"
             ],
             [
              0.3333333333333333,
              "#9c179e"
             ],
             [
              0.4444444444444444,
              "#bd3786"
             ],
             [
              0.5555555555555556,
              "#d8576b"
             ],
             [
              0.6666666666666666,
              "#ed7953"
             ],
             [
              0.7777777777777778,
              "#fb9f3a"
             ],
             [
              0.8888888888888888,
              "#fdca26"
             ],
             [
              1,
              "#f0f921"
             ]
            ],
            "type": "heatmap"
           }
          ],
          "heatmapgl": [
           {
            "colorbar": {
             "outlinewidth": 0,
             "ticks": ""
            },
            "colorscale": [
             [
              0,
              "#0d0887"
             ],
             [
              0.1111111111111111,
              "#46039f"
             ],
             [
              0.2222222222222222,
              "#7201a8"
             ],
             [
              0.3333333333333333,
              "#9c179e"
             ],
             [
              0.4444444444444444,
              "#bd3786"
             ],
             [
              0.5555555555555556,
              "#d8576b"
             ],
             [
              0.6666666666666666,
              "#ed7953"
             ],
             [
              0.7777777777777778,
              "#fb9f3a"
             ],
             [
              0.8888888888888888,
              "#fdca26"
             ],
             [
              1,
              "#f0f921"
             ]
            ],
            "type": "heatmapgl"
           }
          ],
          "histogram": [
           {
            "marker": {
             "pattern": {
              "fillmode": "overlay",
              "size": 10,
              "solidity": 0.2
             }
            },
            "type": "histogram"
           }
          ],
          "histogram2d": [
           {
            "colorbar": {
             "outlinewidth": 0,
             "ticks": ""
            },
            "colorscale": [
             [
              0,
              "#0d0887"
             ],
             [
              0.1111111111111111,
              "#46039f"
             ],
             [
              0.2222222222222222,
              "#7201a8"
             ],
             [
              0.3333333333333333,
              "#9c179e"
             ],
             [
              0.4444444444444444,
              "#bd3786"
             ],
             [
              0.5555555555555556,
              "#d8576b"
             ],
             [
              0.6666666666666666,
              "#ed7953"
             ],
             [
              0.7777777777777778,
              "#fb9f3a"
             ],
             [
              0.8888888888888888,
              "#fdca26"
             ],
             [
              1,
              "#f0f921"
             ]
            ],
            "type": "histogram2d"
           }
          ],
          "histogram2dcontour": [
           {
            "colorbar": {
             "outlinewidth": 0,
             "ticks": ""
            },
            "colorscale": [
             [
              0,
              "#0d0887"
             ],
             [
              0.1111111111111111,
              "#46039f"
             ],
             [
              0.2222222222222222,
              "#7201a8"
             ],
             [
              0.3333333333333333,
              "#9c179e"
             ],
             [
              0.4444444444444444,
              "#bd3786"
             ],
             [
              0.5555555555555556,
              "#d8576b"
             ],
             [
              0.6666666666666666,
              "#ed7953"
             ],
             [
              0.7777777777777778,
              "#fb9f3a"
             ],
             [
              0.8888888888888888,
              "#fdca26"
             ],
             [
              1,
              "#f0f921"
             ]
            ],
            "type": "histogram2dcontour"
           }
          ],
          "mesh3d": [
           {
            "colorbar": {
             "outlinewidth": 0,
             "ticks": ""
            },
            "type": "mesh3d"
           }
          ],
          "parcoords": [
           {
            "line": {
             "colorbar": {
              "outlinewidth": 0,
              "ticks": ""
             }
            },
            "type": "parcoords"
           }
          ],
          "pie": [
           {
            "automargin": true,
            "type": "pie"
           }
          ],
          "scatter": [
           {
            "fillpattern": {
             "fillmode": "overlay",
             "size": 10,
             "solidity": 0.2
            },
            "type": "scatter"
           }
          ],
          "scatter3d": [
           {
            "line": {
             "colorbar": {
              "outlinewidth": 0,
              "ticks": ""
             }
            },
            "marker": {
             "colorbar": {
              "outlinewidth": 0,
              "ticks": ""
             }
            },
            "type": "scatter3d"
           }
          ],
          "scattercarpet": [
           {
            "marker": {
             "colorbar": {
              "outlinewidth": 0,
              "ticks": ""
             }
            },
            "type": "scattercarpet"
           }
          ],
          "scattergeo": [
           {
            "marker": {
             "colorbar": {
              "outlinewidth": 0,
              "ticks": ""
             }
            },
            "type": "scattergeo"
           }
          ],
          "scattergl": [
           {
            "marker": {
             "colorbar": {
              "outlinewidth": 0,
              "ticks": ""
             }
            },
            "type": "scattergl"
           }
          ],
          "scattermapbox": [
           {
            "marker": {
             "colorbar": {
              "outlinewidth": 0,
              "ticks": ""
             }
            },
            "type": "scattermapbox"
           }
          ],
          "scatterpolar": [
           {
            "marker": {
             "colorbar": {
              "outlinewidth": 0,
              "ticks": ""
             }
            },
            "type": "scatterpolar"
           }
          ],
          "scatterpolargl": [
           {
            "marker": {
             "colorbar": {
              "outlinewidth": 0,
              "ticks": ""
             }
            },
            "type": "scatterpolargl"
           }
          ],
          "scatterternary": [
           {
            "marker": {
             "colorbar": {
              "outlinewidth": 0,
              "ticks": ""
             }
            },
            "type": "scatterternary"
           }
          ],
          "surface": [
           {
            "colorbar": {
             "outlinewidth": 0,
             "ticks": ""
            },
            "colorscale": [
             [
              0,
              "#0d0887"
             ],
             [
              0.1111111111111111,
              "#46039f"
             ],
             [
              0.2222222222222222,
              "#7201a8"
             ],
             [
              0.3333333333333333,
              "#9c179e"
             ],
             [
              0.4444444444444444,
              "#bd3786"
             ],
             [
              0.5555555555555556,
              "#d8576b"
             ],
             [
              0.6666666666666666,
              "#ed7953"
             ],
             [
              0.7777777777777778,
              "#fb9f3a"
             ],
             [
              0.8888888888888888,
              "#fdca26"
             ],
             [
              1,
              "#f0f921"
             ]
            ],
            "type": "surface"
           }
          ],
          "table": [
           {
            "cells": {
             "fill": {
              "color": "#EBF0F8"
             },
             "line": {
              "color": "white"
             }
            },
            "header": {
             "fill": {
              "color": "#C8D4E3"
             },
             "line": {
              "color": "white"
             }
            },
            "type": "table"
           }
          ]
         },
         "layout": {
          "annotationdefaults": {
           "arrowcolor": "#2a3f5f",
           "arrowhead": 0,
           "arrowwidth": 1
          },
          "autotypenumbers": "strict",
          "coloraxis": {
           "colorbar": {
            "outlinewidth": 0,
            "ticks": ""
           }
          },
          "colorscale": {
           "diverging": [
            [
             0,
             "#8e0152"
            ],
            [
             0.1,
             "#c51b7d"
            ],
            [
             0.2,
             "#de77ae"
            ],
            [
             0.3,
             "#f1b6da"
            ],
            [
             0.4,
             "#fde0ef"
            ],
            [
             0.5,
             "#f7f7f7"
            ],
            [
             0.6,
             "#e6f5d0"
            ],
            [
             0.7,
             "#b8e186"
            ],
            [
             0.8,
             "#7fbc41"
            ],
            [
             0.9,
             "#4d9221"
            ],
            [
             1,
             "#276419"
            ]
           ],
           "sequential": [
            [
             0,
             "#0d0887"
            ],
            [
             0.1111111111111111,
             "#46039f"
            ],
            [
             0.2222222222222222,
             "#7201a8"
            ],
            [
             0.3333333333333333,
             "#9c179e"
            ],
            [
             0.4444444444444444,
             "#bd3786"
            ],
            [
             0.5555555555555556,
             "#d8576b"
            ],
            [
             0.6666666666666666,
             "#ed7953"
            ],
            [
             0.7777777777777778,
             "#fb9f3a"
            ],
            [
             0.8888888888888888,
             "#fdca26"
            ],
            [
             1,
             "#f0f921"
            ]
           ],
           "sequentialminus": [
            [
             0,
             "#0d0887"
            ],
            [
             0.1111111111111111,
             "#46039f"
            ],
            [
             0.2222222222222222,
             "#7201a8"
            ],
            [
             0.3333333333333333,
             "#9c179e"
            ],
            [
             0.4444444444444444,
             "#bd3786"
            ],
            [
             0.5555555555555556,
             "#d8576b"
            ],
            [
             0.6666666666666666,
             "#ed7953"
            ],
            [
             0.7777777777777778,
             "#fb9f3a"
            ],
            [
             0.8888888888888888,
             "#fdca26"
            ],
            [
             1,
             "#f0f921"
            ]
           ]
          },
          "colorway": [
           "#636efa",
           "#EF553B",
           "#00cc96",
           "#ab63fa",
           "#FFA15A",
           "#19d3f3",
           "#FF6692",
           "#B6E880",
           "#FF97FF",
           "#FECB52"
          ],
          "font": {
           "color": "#2a3f5f"
          },
          "geo": {
           "bgcolor": "white",
           "lakecolor": "white",
           "landcolor": "#E5ECF6",
           "showlakes": true,
           "showland": true,
           "subunitcolor": "white"
          },
          "hoverlabel": {
           "align": "left"
          },
          "hovermode": "closest",
          "mapbox": {
           "style": "light"
          },
          "paper_bgcolor": "white",
          "plot_bgcolor": "#E5ECF6",
          "polar": {
           "angularaxis": {
            "gridcolor": "white",
            "linecolor": "white",
            "ticks": ""
           },
           "bgcolor": "#E5ECF6",
           "radialaxis": {
            "gridcolor": "white",
            "linecolor": "white",
            "ticks": ""
           }
          },
          "scene": {
           "xaxis": {
            "backgroundcolor": "#E5ECF6",
            "gridcolor": "white",
            "gridwidth": 2,
            "linecolor": "white",
            "showbackground": true,
            "ticks": "",
            "zerolinecolor": "white"
           },
           "yaxis": {
            "backgroundcolor": "#E5ECF6",
            "gridcolor": "white",
            "gridwidth": 2,
            "linecolor": "white",
            "showbackground": true,
            "ticks": "",
            "zerolinecolor": "white"
           },
           "zaxis": {
            "backgroundcolor": "#E5ECF6",
            "gridcolor": "white",
            "gridwidth": 2,
            "linecolor": "white",
            "showbackground": true,
            "ticks": "",
            "zerolinecolor": "white"
           }
          },
          "shapedefaults": {
           "line": {
            "color": "#2a3f5f"
           }
          },
          "ternary": {
           "aaxis": {
            "gridcolor": "white",
            "linecolor": "white",
            "ticks": ""
           },
           "baxis": {
            "gridcolor": "white",
            "linecolor": "white",
            "ticks": ""
           },
           "bgcolor": "#E5ECF6",
           "caxis": {
            "gridcolor": "white",
            "linecolor": "white",
            "ticks": ""
           }
          },
          "title": {
           "x": 0.05
          },
          "xaxis": {
           "automargin": true,
           "gridcolor": "white",
           "linecolor": "white",
           "ticks": "",
           "title": {
            "standoff": 15
           },
           "zerolinecolor": "white",
           "zerolinewidth": 2
          },
          "yaxis": {
           "automargin": true,
           "gridcolor": "white",
           "linecolor": "white",
           "ticks": "",
           "title": {
            "standoff": 15
           },
           "zerolinecolor": "white",
           "zerolinewidth": 2
          }
         }
        },
        "title": {
         "text": "<b>Exercice Power flow 1 : Problème 1<b>",
         "x": 0.5,
         "xanchor": "center",
         "y": 0.97,
         "yanchor": "top"
        },
        "width": 680,
        "xaxis": {
         "showgrid": false,
         "showticklabels": false,
         "tickfont": {
          "family": "Arial Black",
          "size": 12
         },
         "title": {
          "font": {
           "size": 12
          }
         },
         "zeroline": false
        },
        "yaxis": {
         "showgrid": false,
         "showticklabels": false,
         "tickfont": {
          "family": "Arial Black",
          "size": 12
         },
         "title": {
          "font": {
           "size": 12
          }
         },
         "zeroline": false
        }
       }
      },
      "text/html": [
       "<div>                            <div id=\"8bf56f32-460a-4493-9d11-c02a5ea57ad0\" class=\"plotly-graph-div\" style=\"height:400px; width:680px;\"></div>            <script type=\"text/javascript\">                require([\"plotly\"], function(Plotly) {                    window.PLOTLYENV=window.PLOTLYENV || {};                                    if (document.getElementById(\"8bf56f32-460a-4493-9d11-c02a5ea57ad0\")) {                    Plotly.newPlot(                        \"8bf56f32-460a-4493-9d11-c02a5ea57ad0\",                        [{\"hoverinfo\":\"text\",\"legendgroup\":\"lines\",\"line\":{\"color\":\"rgb(0, 0, 0)\",\"width\":3},\"mode\":\"lines\",\"name\":\"Lines\",\"showlegend\":true,\"text\":\"line_a\",\"x\":[0.864732143824462,0.8037953996404956,0.7428586554565294],\"y\":[-0.7953249239893944,-0.4149081565426613,-0.03449138909592816],\"type\":\"scatter\"},{\"hoverinfo\":\"text\",\"legendgroup\":\"lines\",\"line\":{\"color\":\"rgb(0, 0, 0)\",\"width\":3},\"mode\":\"lines\",\"name\":\"Lines\",\"showlegend\":false,\"text\":\"line_b\",\"x\":[0.7428586554565294,0.4548102095195367,0.16676176358254402],\"y\":[-0.03449138909592816,-0.251691917085301,-0.4688924450746738],\"type\":\"scatter\"},{\"hoverinfo\":\"text\",\"legendgroup\":\"lines\",\"line\":{\"color\":\"rgb(0, 0, 0)\",\"width\":3},\"mode\":\"lines\",\"name\":\"Lines\",\"showlegend\":false,\"text\":\"line_c\",\"x\":[0.864732143824462,0.515746953703503,0.16676176358254402],\"y\":[-0.7953249239893944,-0.6321086845320341,-0.4688924450746738],\"type\":\"scatter\"},{\"hoverinfo\":\"text\",\"legendgroup\":\"lines\",\"line\":{\"color\":\"rgb(0, 0, 0)\",\"width\":3},\"mode\":\"lines\",\"name\":\"Lines\",\"showlegend\":false,\"text\":\"line_d\",\"x\":[0.16676176358254402,0.10543830339042311,0.04411484319830219],\"y\":[-0.4688924450746738,-0.08796282001107544,0.2929668050525229],\"type\":\"scatter\"},{\"hoverinfo\":\"text\",\"legendgroup\":\"lines\",\"line\":{\"color\":\"rgb(0, 0, 0)\",\"width\":3},\"mode\":\"lines\",\"name\":\"Lines\",\"showlegend\":false,\"text\":\"line_e\",\"x\":[0.7428586554565294,0.3934867493274158,0.04411484319830219],\"y\":[-0.03449138909592816,0.1292377079782974,0.2929668050525229],\"type\":\"scatter\"},{\"hoverinfo\":\"text\",\"legendgroup\":\"lines\",\"marker\":{\"color\":\"rgb(0, 0, 0)\",\"size\":1,\"symbol\":\"circle\"},\"mode\":\"markers\",\"name\":\"edge_center\",\"showlegend\":false,\"x\":[0.8037953996404956],\"y\":[-0.4149081565426613],\"type\":\"scatter\"},{\"hoverinfo\":\"text\",\"legendgroup\":\"Transformers\",\"line\":{\"color\":\"rgb(0, 128, 0)\",\"width\":7},\"mode\":\"lines\",\"name\":\"Transformers\",\"showlegend\":true,\"text\":\"Transfo T1\\u003cbr\\u003e200.0 MVA\",\"x\":[0.04411484319830219,-0.18465400447251362,-0.4134228521433294],\"y\":[0.2929668050525229,0.5963570023987358,0.8997471997449487],\"type\":\"scatter\"},{\"hoverinfo\":\"text\",\"legendgroup\":\"Transformers\",\"marker\":{\"color\":\"rgb(0, 128, 0)\",\"size\":1,\"symbol\":\"circle\"},\"mode\":\"markers\",\"name\":\"edge_center\",\"showlegend\":false,\"text\":[\"Transfo T1\\u003cbr\\u003e200.0 MVA\"],\"x\":[-0.18465400447251362],\"y\":[0.5963570023987358],\"type\":\"scatter\"},{\"hoverinfo\":\"text\",\"marker\":{\"color\":\"rgb(191, 191, 0)\",\"size\":30,\"symbol\":\"square\"},\"mode\":\"markers\",\"name\":\"Ext grid\",\"text\":[\"Gen 1\"],\"x\":[0.864732143824462],\"y\":[-0.7953249239893944],\"type\":\"scatter\"},{\"hoverinfo\":\"text\",\"marker\":{\"color\":\"rgb(0, 0, 255)\",\"size\":20,\"symbol\":\"circle\"},\"mode\":\"markers\",\"name\":\"Zone HV\",\"text\":[\"bus_1\\u003cbr\\u003e400.0 kV\",\"bus_2\\u003cbr\\u003e400.0 kV\",\"bus_3\\u003cbr\\u003e400.0 kV\",\"bus_4\\u003cbr\\u003e400.0 kV\"],\"x\":[0.864732143824462,0.7428586554565294,0.16676176358254402,0.04411484319830219],\"y\":[-0.7953249239893944,-0.03449138909592816,-0.4688924450746738,0.2929668050525229],\"type\":\"scatter\"},{\"hoverinfo\":\"text\",\"marker\":{\"color\":\"rgb(0, 128, 0)\",\"size\":20,\"symbol\":\"circle\"},\"mode\":\"markers\",\"name\":\"Zone LV\",\"text\":[\"bus_5\\u003cbr\\u003e20.0 kV\"],\"x\":[-0.4134228521433294],\"y\":[0.8997471997449487],\"type\":\"scatter\"}],                        {\"hovermode\":\"closest\",\"legend\":{\"itemsizing\":\"constant\",\"font\":{\"size\":12}},\"margin\":{\"b\":5,\"l\":5,\"r\":5,\"t\":30},\"showlegend\":true,\"xaxis\":{\"showgrid\":false,\"showticklabels\":false,\"zeroline\":false,\"tickfont\":{\"size\":12,\"family\":\"Arial Black\"},\"title\":{\"font\":{\"size\":12}}},\"yaxis\":{\"showgrid\":false,\"showticklabels\":false,\"zeroline\":false,\"tickfont\":{\"size\":12,\"family\":\"Arial Black\"},\"title\":{\"font\":{\"size\":12}}},\"template\":{\"data\":{\"histogram2dcontour\":[{\"type\":\"histogram2dcontour\",\"colorbar\":{\"outlinewidth\":0,\"ticks\":\"\"},\"colorscale\":[[0.0,\"#0d0887\"],[0.1111111111111111,\"#46039f\"],[0.2222222222222222,\"#7201a8\"],[0.3333333333333333,\"#9c179e\"],[0.4444444444444444,\"#bd3786\"],[0.5555555555555556,\"#d8576b\"],[0.6666666666666666,\"#ed7953\"],[0.7777777777777778,\"#fb9f3a\"],[0.8888888888888888,\"#fdca26\"],[1.0,\"#f0f921\"]]}],\"choropleth\":[{\"type\":\"choropleth\",\"colorbar\":{\"outlinewidth\":0,\"ticks\":\"\"}}],\"histogram2d\":[{\"type\":\"histogram2d\",\"colorbar\":{\"outlinewidth\":0,\"ticks\":\"\"},\"colorscale\":[[0.0,\"#0d0887\"],[0.1111111111111111,\"#46039f\"],[0.2222222222222222,\"#7201a8\"],[0.3333333333333333,\"#9c179e\"],[0.4444444444444444,\"#bd3786\"],[0.5555555555555556,\"#d8576b\"],[0.6666666666666666,\"#ed7953\"],[0.7777777777777778,\"#fb9f3a\"],[0.8888888888888888,\"#fdca26\"],[1.0,\"#f0f921\"]]}],\"heatmap\":[{\"type\":\"heatmap\",\"colorbar\":{\"outlinewidth\":0,\"ticks\":\"\"},\"colorscale\":[[0.0,\"#0d0887\"],[0.1111111111111111,\"#46039f\"],[0.2222222222222222,\"#7201a8\"],[0.3333333333333333,\"#9c179e\"],[0.4444444444444444,\"#bd3786\"],[0.5555555555555556,\"#d8576b\"],[0.6666666666666666,\"#ed7953\"],[0.7777777777777778,\"#fb9f3a\"],[0.8888888888888888,\"#fdca26\"],[1.0,\"#f0f921\"]]}],\"heatmapgl\":[{\"type\":\"heatmapgl\",\"colorbar\":{\"outlinewidth\":0,\"ticks\":\"\"},\"colorscale\":[[0.0,\"#0d0887\"],[0.1111111111111111,\"#46039f\"],[0.2222222222222222,\"#7201a8\"],[0.3333333333333333,\"#9c179e\"],[0.4444444444444444,\"#bd3786\"],[0.5555555555555556,\"#d8576b\"],[0.6666666666666666,\"#ed7953\"],[0.7777777777777778,\"#fb9f3a\"],[0.8888888888888888,\"#fdca26\"],[1.0,\"#f0f921\"]]}],\"contourcarpet\":[{\"type\":\"contourcarpet\",\"colorbar\":{\"outlinewidth\":0,\"ticks\":\"\"}}],\"contour\":[{\"type\":\"contour\",\"colorbar\":{\"outlinewidth\":0,\"ticks\":\"\"},\"colorscale\":[[0.0,\"#0d0887\"],[0.1111111111111111,\"#46039f\"],[0.2222222222222222,\"#7201a8\"],[0.3333333333333333,\"#9c179e\"],[0.4444444444444444,\"#bd3786\"],[0.5555555555555556,\"#d8576b\"],[0.6666666666666666,\"#ed7953\"],[0.7777777777777778,\"#fb9f3a\"],[0.8888888888888888,\"#fdca26\"],[1.0,\"#f0f921\"]]}],\"surface\":[{\"type\":\"surface\",\"colorbar\":{\"outlinewidth\":0,\"ticks\":\"\"},\"colorscale\":[[0.0,\"#0d0887\"],[0.1111111111111111,\"#46039f\"],[0.2222222222222222,\"#7201a8\"],[0.3333333333333333,\"#9c179e\"],[0.4444444444444444,\"#bd3786\"],[0.5555555555555556,\"#d8576b\"],[0.6666666666666666,\"#ed7953\"],[0.7777777777777778,\"#fb9f3a\"],[0.8888888888888888,\"#fdca26\"],[1.0,\"#f0f921\"]]}],\"mesh3d\":[{\"type\":\"mesh3d\",\"colorbar\":{\"outlinewidth\":0,\"ticks\":\"\"}}],\"scatter\":[{\"fillpattern\":{\"fillmode\":\"overlay\",\"size\":10,\"solidity\":0.2},\"type\":\"scatter\"}],\"parcoords\":[{\"type\":\"parcoords\",\"line\":{\"colorbar\":{\"outlinewidth\":0,\"ticks\":\"\"}}}],\"scatterpolargl\":[{\"type\":\"scatterpolargl\",\"marker\":{\"colorbar\":{\"outlinewidth\":0,\"ticks\":\"\"}}}],\"bar\":[{\"error_x\":{\"color\":\"#2a3f5f\"},\"error_y\":{\"color\":\"#2a3f5f\"},\"marker\":{\"line\":{\"color\":\"#E5ECF6\",\"width\":0.5},\"pattern\":{\"fillmode\":\"overlay\",\"size\":10,\"solidity\":0.2}},\"type\":\"bar\"}],\"scattergeo\":[{\"type\":\"scattergeo\",\"marker\":{\"colorbar\":{\"outlinewidth\":0,\"ticks\":\"\"}}}],\"scatterpolar\":[{\"type\":\"scatterpolar\",\"marker\":{\"colorbar\":{\"outlinewidth\":0,\"ticks\":\"\"}}}],\"histogram\":[{\"marker\":{\"pattern\":{\"fillmode\":\"overlay\",\"size\":10,\"solidity\":0.2}},\"type\":\"histogram\"}],\"scattergl\":[{\"type\":\"scattergl\",\"marker\":{\"colorbar\":{\"outlinewidth\":0,\"ticks\":\"\"}}}],\"scatter3d\":[{\"type\":\"scatter3d\",\"line\":{\"colorbar\":{\"outlinewidth\":0,\"ticks\":\"\"}},\"marker\":{\"colorbar\":{\"outlinewidth\":0,\"ticks\":\"\"}}}],\"scattermapbox\":[{\"type\":\"scattermapbox\",\"marker\":{\"colorbar\":{\"outlinewidth\":0,\"ticks\":\"\"}}}],\"scatterternary\":[{\"type\":\"scatterternary\",\"marker\":{\"colorbar\":{\"outlinewidth\":0,\"ticks\":\"\"}}}],\"scattercarpet\":[{\"type\":\"scattercarpet\",\"marker\":{\"colorbar\":{\"outlinewidth\":0,\"ticks\":\"\"}}}],\"carpet\":[{\"aaxis\":{\"endlinecolor\":\"#2a3f5f\",\"gridcolor\":\"white\",\"linecolor\":\"white\",\"minorgridcolor\":\"white\",\"startlinecolor\":\"#2a3f5f\"},\"baxis\":{\"endlinecolor\":\"#2a3f5f\",\"gridcolor\":\"white\",\"linecolor\":\"white\",\"minorgridcolor\":\"white\",\"startlinecolor\":\"#2a3f5f\"},\"type\":\"carpet\"}],\"table\":[{\"cells\":{\"fill\":{\"color\":\"#EBF0F8\"},\"line\":{\"color\":\"white\"}},\"header\":{\"fill\":{\"color\":\"#C8D4E3\"},\"line\":{\"color\":\"white\"}},\"type\":\"table\"}],\"barpolar\":[{\"marker\":{\"line\":{\"color\":\"#E5ECF6\",\"width\":0.5},\"pattern\":{\"fillmode\":\"overlay\",\"size\":10,\"solidity\":0.2}},\"type\":\"barpolar\"}],\"pie\":[{\"automargin\":true,\"type\":\"pie\"}]},\"layout\":{\"autotypenumbers\":\"strict\",\"colorway\":[\"#636efa\",\"#EF553B\",\"#00cc96\",\"#ab63fa\",\"#FFA15A\",\"#19d3f3\",\"#FF6692\",\"#B6E880\",\"#FF97FF\",\"#FECB52\"],\"font\":{\"color\":\"#2a3f5f\"},\"hovermode\":\"closest\",\"hoverlabel\":{\"align\":\"left\"},\"paper_bgcolor\":\"white\",\"plot_bgcolor\":\"#E5ECF6\",\"polar\":{\"bgcolor\":\"#E5ECF6\",\"angularaxis\":{\"gridcolor\":\"white\",\"linecolor\":\"white\",\"ticks\":\"\"},\"radialaxis\":{\"gridcolor\":\"white\",\"linecolor\":\"white\",\"ticks\":\"\"}},\"ternary\":{\"bgcolor\":\"#E5ECF6\",\"aaxis\":{\"gridcolor\":\"white\",\"linecolor\":\"white\",\"ticks\":\"\"},\"baxis\":{\"gridcolor\":\"white\",\"linecolor\":\"white\",\"ticks\":\"\"},\"caxis\":{\"gridcolor\":\"white\",\"linecolor\":\"white\",\"ticks\":\"\"}},\"coloraxis\":{\"colorbar\":{\"outlinewidth\":0,\"ticks\":\"\"}},\"colorscale\":{\"sequential\":[[0.0,\"#0d0887\"],[0.1111111111111111,\"#46039f\"],[0.2222222222222222,\"#7201a8\"],[0.3333333333333333,\"#9c179e\"],[0.4444444444444444,\"#bd3786\"],[0.5555555555555556,\"#d8576b\"],[0.6666666666666666,\"#ed7953\"],[0.7777777777777778,\"#fb9f3a\"],[0.8888888888888888,\"#fdca26\"],[1.0,\"#f0f921\"]],\"sequentialminus\":[[0.0,\"#0d0887\"],[0.1111111111111111,\"#46039f\"],[0.2222222222222222,\"#7201a8\"],[0.3333333333333333,\"#9c179e\"],[0.4444444444444444,\"#bd3786\"],[0.5555555555555556,\"#d8576b\"],[0.6666666666666666,\"#ed7953\"],[0.7777777777777778,\"#fb9f3a\"],[0.8888888888888888,\"#fdca26\"],[1.0,\"#f0f921\"]],\"diverging\":[[0,\"#8e0152\"],[0.1,\"#c51b7d\"],[0.2,\"#de77ae\"],[0.3,\"#f1b6da\"],[0.4,\"#fde0ef\"],[0.5,\"#f7f7f7\"],[0.6,\"#e6f5d0\"],[0.7,\"#b8e186\"],[0.8,\"#7fbc41\"],[0.9,\"#4d9221\"],[1,\"#276419\"]]},\"xaxis\":{\"gridcolor\":\"white\",\"linecolor\":\"white\",\"ticks\":\"\",\"title\":{\"standoff\":15},\"zerolinecolor\":\"white\",\"automargin\":true,\"zerolinewidth\":2},\"yaxis\":{\"gridcolor\":\"white\",\"linecolor\":\"white\",\"ticks\":\"\",\"title\":{\"standoff\":15},\"zerolinecolor\":\"white\",\"automargin\":true,\"zerolinewidth\":2},\"scene\":{\"xaxis\":{\"backgroundcolor\":\"#E5ECF6\",\"gridcolor\":\"white\",\"linecolor\":\"white\",\"showbackground\":true,\"ticks\":\"\",\"zerolinecolor\":\"white\",\"gridwidth\":2},\"yaxis\":{\"backgroundcolor\":\"#E5ECF6\",\"gridcolor\":\"white\",\"linecolor\":\"white\",\"showbackground\":true,\"ticks\":\"\",\"zerolinecolor\":\"white\",\"gridwidth\":2},\"zaxis\":{\"backgroundcolor\":\"#E5ECF6\",\"gridcolor\":\"white\",\"linecolor\":\"white\",\"showbackground\":true,\"ticks\":\"\",\"zerolinecolor\":\"white\",\"gridwidth\":2}},\"shapedefaults\":{\"line\":{\"color\":\"#2a3f5f\"}},\"annotationdefaults\":{\"arrowcolor\":\"#2a3f5f\",\"arrowhead\":0,\"arrowwidth\":1},\"geo\":{\"bgcolor\":\"white\",\"landcolor\":\"#E5ECF6\",\"subunitcolor\":\"white\",\"showland\":true,\"showlakes\":true,\"lakecolor\":\"white\"},\"title\":{\"x\":0.05},\"mapbox\":{\"style\":\"light\"}}},\"font\":{\"size\":15},\"paper_bgcolor\":\"white\",\"plot_bgcolor\":\"white\",\"width\":680,\"height\":400,\"title\":{\"text\":\"\\u003cb\\u003eExercice Power flow 1 : Problème 1\\u003cb\\u003e\",\"y\":0.97,\"x\":0.5,\"xanchor\":\"center\",\"yanchor\":\"top\"}},                        {\"responsive\": true}                    ).then(function(){\n",
       "                            \n",
       "var gd = document.getElementById('8bf56f32-460a-4493-9d11-c02a5ea57ad0');\n",
       "var x = new MutationObserver(function (mutations, observer) {{\n",
       "        var display = window.getComputedStyle(gd).display;\n",
       "        if (!display || display === 'none') {{\n",
       "            console.log([gd, 'removed!']);\n",
       "            Plotly.purge(gd);\n",
       "            observer.disconnect();\n",
       "        }}\n",
       "}});\n",
       "\n",
       "// Listen for the removal of the full notebook cells\n",
       "var notebookContainer = gd.closest('#notebook-container');\n",
       "if (notebookContainer) {{\n",
       "    x.observe(notebookContainer, {childList: true});\n",
       "}}\n",
       "\n",
       "// Listen for the clearing of the current output cell\n",
       "var outputEl = gd.closest('.output');\n",
       "if (outputEl) {{\n",
       "    x.observe(outputEl, {childList: true});\n",
       "}}\n",
       "\n",
       "                        })                };                });            </script>        </div>"
      ]
     },
     "metadata": {},
     "output_type": "display_data"
    }
   ],
   "source": [
    "pp_plot.plot_power_network(\n",
    "    net=net_ExPF1_Pb1_heig,\n",
    "    plot_title=\"Exercice Power flow 1 : Problème 1\",\n",
    "    filename=\"net_ex_pf_1_pb_1_grid_example\",\n",
    ")"
   ]
  },
  {
   "cell_type": "markdown",
   "metadata": {},
   "source": [
    "And simulate the powerflow"
   ]
  },
  {
   "cell_type": "code",
   "execution_count": 220,
   "metadata": {},
   "outputs": [
    {
     "data": {
      "text/html": [
       "<div>\n",
       "<style scoped>\n",
       "    .dataframe tbody tr th:only-of-type {\n",
       "        vertical-align: middle;\n",
       "    }\n",
       "\n",
       "    .dataframe tbody tr th {\n",
       "        vertical-align: top;\n",
       "    }\n",
       "\n",
       "    .dataframe thead th {\n",
       "        text-align: right;\n",
       "    }\n",
       "</style>\n",
       "<table border=\"1\" class=\"dataframe\">\n",
       "  <thead>\n",
       "    <tr style=\"text-align: right;\">\n",
       "      <th></th>\n",
       "      <th>name</th>\n",
       "      <th>bus</th>\n",
       "      <th>p_mw</th>\n",
       "      <th>q_mvar</th>\n",
       "      <th>scaling</th>\n",
       "      <th>profile_mapping</th>\n",
       "      <th>const_z_percent</th>\n",
       "      <th>const_i_percent</th>\n",
       "      <th>sn_mva</th>\n",
       "      <th>in_service</th>\n",
       "      <th>type</th>\n",
       "    </tr>\n",
       "  </thead>\n",
       "  <tbody>\n",
       "    <tr>\n",
       "      <th>0</th>\n",
       "      <td>load_2</td>\n",
       "      <td>1</td>\n",
       "      <td>100.0</td>\n",
       "      <td>20.0</td>\n",
       "      <td>1.0</td>\n",
       "      <td>1</td>\n",
       "      <td>0.0</td>\n",
       "      <td>0.0</td>\n",
       "      <td>None</td>\n",
       "      <td>True</td>\n",
       "      <td>wye</td>\n",
       "    </tr>\n",
       "    <tr>\n",
       "      <th>1</th>\n",
       "      <td>load_3</td>\n",
       "      <td>2</td>\n",
       "      <td>200.0</td>\n",
       "      <td>80.0</td>\n",
       "      <td>1.0</td>\n",
       "      <td>2</td>\n",
       "      <td>0.0</td>\n",
       "      <td>0.0</td>\n",
       "      <td>None</td>\n",
       "      <td>True</td>\n",
       "      <td>wye</td>\n",
       "    </tr>\n",
       "  </tbody>\n",
       "</table>\n",
       "</div>"
      ],
      "text/plain": [
       "     name  bus   p_mw  q_mvar  scaling  profile_mapping  const_z_percent  \\\n",
       "0  load_2    1  100.0    20.0      1.0                1              0.0   \n",
       "1  load_3    2  200.0    80.0      1.0                2              0.0   \n",
       "\n",
       "   const_i_percent sn_mva  in_service type  \n",
       "0              0.0   None        True  wye  \n",
       "1              0.0   None        True  wye  "
      ]
     },
     "execution_count": 220,
     "metadata": {},
     "output_type": "execute_result"
    }
   ],
   "source": [
    "net_ExPF1_Pb1_heig.load"
   ]
  },
  {
   "cell_type": "code",
   "execution_count": 221,
   "metadata": {},
   "outputs": [
    {
     "name": "stderr",
     "output_type": "stream",
     "text": [
      "2024-10-31 11:41:07 NB-IESE-8736 pandapower.diagnostic_reports[933] WARNING \n",
      "\n",
      "_____________ PANDAPOWER DIAGNOSTIC TOOL _____________ \n",
      "\n",
      "2024-10-31 11:41:07 NB-IESE-8736 pandapower.diagnostic_reports[933] INFO Checking for missing bus indices...\n",
      "2024-10-31 11:41:07 NB-IESE-8736 pandapower.diagnostic_reports[933] INFO \n",
      "2024-10-31 11:41:07 NB-IESE-8736 pandapower.diagnostic_reports[933] INFO PASSED: No missing bus indices found.\n",
      "2024-10-31 11:41:07 NB-IESE-8736 pandapower.diagnostic_reports[933] WARNING \n",
      " --------\n",
      "\n",
      "2024-10-31 11:41:07 NB-IESE-8736 pandapower.diagnostic_reports[933] INFO PASSED: No problematic switches found\n",
      "2024-10-31 11:41:07 NB-IESE-8736 pandapower.diagnostic_reports[933] WARNING \n",
      " --------\n",
      "\n",
      "2024-10-31 11:41:07 NB-IESE-8736 pandapower.diagnostic_reports[933] INFO PASSED: No connection of different voltage levels found\n",
      "2024-10-31 11:41:07 NB-IESE-8736 pandapower.diagnostic_reports[933] WARNING \n",
      " --------\n",
      "\n",
      "2024-10-31 11:41:07 NB-IESE-8736 pandapower.diagnostic_reports[933] INFO PASSED: No elements with impedance values close to zero found...\n",
      "2024-10-31 11:41:07 NB-IESE-8736 pandapower.diagnostic_reports[933] WARNING \n",
      " --------\n",
      "\n",
      "2024-10-31 11:41:07 NB-IESE-8736 pandapower.diagnostic_reports[933] INFO PASSED: No components with deviating nominal voltages found\n",
      "2024-10-31 11:41:07 NB-IESE-8736 pandapower.diagnostic_reports[933] WARNING \n",
      " --------\n",
      "\n",
      "2024-10-31 11:41:07 NB-IESE-8736 pandapower.diagnostic_reports[933] INFO PASSED: No invalid values found\n",
      "2024-10-31 11:41:07 NB-IESE-8736 pandapower.diagnostic_reports[933] WARNING \n",
      " --------\n",
      "\n",
      "2024-10-31 11:41:07 NB-IESE-8736 pandapower.diagnostic_reports[933] INFO PASSED: Power flow converges. No overload found.\n",
      "2024-10-31 11:41:07 NB-IESE-8736 pandapower.diagnostic_reports[933] WARNING \n",
      " --------\n",
      "\n",
      "2024-10-31 11:41:07 NB-IESE-8736 pandapower.diagnostic_reports[933] INFO PASSED: No buses with multiple gens and/or ext_grids found.\n",
      "2024-10-31 11:41:07 NB-IESE-8736 pandapower.diagnostic_reports[933] WARNING \n",
      " --------\n",
      "\n",
      "2024-10-31 11:41:07 NB-IESE-8736 pandapower.diagnostic_reports[933] INFO PASSED: Power flow converges. Switch configuration seems ok.\n",
      "2024-10-31 11:41:07 NB-IESE-8736 pandapower.diagnostic_reports[933] WARNING \n",
      " --------\n",
      "\n",
      "2024-10-31 11:41:07 NB-IESE-8736 pandapower.diagnostic_reports[933] INFO PASSED: External grid found.\n",
      "2024-10-31 11:41:07 NB-IESE-8736 pandapower.diagnostic_reports[933] WARNING \n",
      " --------\n",
      "\n",
      "2024-10-31 11:41:07 NB-IESE-8736 pandapower.diagnostic_reports[933] INFO PASSED: correct reference system\n",
      "2024-10-31 11:41:07 NB-IESE-8736 pandapower.diagnostic_reports[933] WARNING \n",
      " --------\n",
      "\n",
      "2024-10-31 11:41:07 NB-IESE-8736 pandapower.diagnostic_reports[933] INFO PASSED: No elements with deviations from std_type found.\n",
      "2024-10-31 11:41:07 NB-IESE-8736 pandapower.diagnostic_reports[933] WARNING \n",
      " --------\n",
      "\n",
      "2024-10-31 11:41:07 NB-IESE-8736 pandapower.diagnostic_reports[933] INFO PASSED: No results with deviations between numba = True vs. False found.\n",
      "2024-10-31 11:41:07 NB-IESE-8736 pandapower.diagnostic_reports[933] WARNING \n",
      " --------\n",
      "\n",
      "2024-10-31 11:41:07 NB-IESE-8736 pandapower.diagnostic_reports[933] INFO PASSED: No parallel switches found.\n",
      "2024-10-31 11:41:07 NB-IESE-8736 pandapower.diagnostic_reports[933] WARNING \n",
      " --------\n",
      "\n",
      "2024-10-31 11:41:07 NB-IESE-8736 pandapower.diagnostic_reports[933] WARNING _____________ END OF PANDAPOWER DIAGNOSTIC _____________ \n"
     ]
    },
    {
     "data": {
      "text/plain": [
       "{}"
      ]
     },
     "execution_count": 221,
     "metadata": {},
     "output_type": "execute_result"
    }
   ],
   "source": [
    "pp.diagnostic(net_ExPF1_Pb1_heig)"
   ]
  },
  {
   "cell_type": "code",
   "execution_count": 222,
   "metadata": {},
   "outputs": [],
   "source": [
    "pp.runpp(net_ExPF1_Pb1_heig)"
   ]
  },
  {
   "cell_type": "code",
   "execution_count": 223,
   "metadata": {},
   "outputs": [
    {
     "data": {
      "text/plain": [
       "pandapower.auxiliary.pandapowerNet"
      ]
     },
     "execution_count": 223,
     "metadata": {},
     "output_type": "execute_result"
    }
   ],
   "source": [
    "type(net_ExPF1_Pb1_heig)"
   ]
  },
  {
   "cell_type": "markdown",
   "metadata": {},
   "source": [
    "Check the result between the two methods :"
   ]
  },
  {
   "cell_type": "code",
   "execution_count": 224,
   "metadata": {},
   "outputs": [],
   "source": [
    "result_res_line = net_ExPF1_Pb1_heig.res_line - net_ExPF1_Pb1.res_line\n",
    "result_res_bus = net_ExPF1_Pb1_heig.res_bus - net_ExPF1_Pb1.res_bus\n",
    "result_res_trafo = net_ExPF1_Pb1_heig.res_trafo - net_ExPF1_Pb1.res_trafo\n",
    "result_res_ext_grid = net_ExPF1_Pb1_heig.res_ext_grid - net_ExPF1_Pb1.res_ext_grid\n",
    "result_res_load = net_ExPF1_Pb1_heig.res_load - net_ExPF1_Pb1.res_load\n",
    "result_res_gen = net_ExPF1_Pb1_heig.res_gen - net_ExPF1_Pb1.res_gen"
   ]
  },
  {
   "cell_type": "code",
   "execution_count": 225,
   "metadata": {},
   "outputs": [
    {
     "name": "stdout",
     "output_type": "stream",
     "text": [
      "Line result :\n",
      "    p_from_mw  q_from_mvar  p_to_mw  q_to_mvar  pl_mw  ql_mvar  i_from_ka  \\\n",
      "0        0.0          0.0     -0.0        0.0    0.0      0.0       -0.0   \n",
      "1       -0.0          0.0      0.0       -0.0   -0.0      0.0       -0.0   \n",
      "2       -0.0          0.0      0.0        0.0   -0.0      0.0        0.0   \n",
      "3        0.0         -0.0     -0.0        0.0   -0.0      0.0        0.0   \n",
      "4        0.0         -0.0     -0.0        0.0    0.0      0.0        0.0   \n",
      "\n",
      "   i_to_ka  i_ka  vm_from_pu  va_from_degree  vm_to_pu  va_to_degree  \\\n",
      "0     -0.0  -0.0         0.0             0.0       0.0          -0.0   \n",
      "1      0.0   0.0         0.0            -0.0      -0.0           0.0   \n",
      "2      0.0   0.0         0.0             0.0      -0.0           0.0   \n",
      "3     -0.0   0.0        -0.0             0.0       0.0          -0.0   \n",
      "4     -0.0  -0.0         0.0            -0.0       0.0          -0.0   \n",
      "\n",
      "   loading_percent  \n",
      "0             -0.0  \n",
      "1              0.0  \n",
      "2              0.0  \n",
      "3              0.0  \n",
      "4             -0.0  \n",
      "Bus result :\n",
      "    vm_pu  va_degree  p_mw  q_mvar\n",
      "0    0.0        0.0  -0.0    -0.0\n",
      "1    0.0       -0.0   0.0    -0.0\n",
      "2   -0.0        0.0   0.0     0.0\n",
      "3    0.0       -0.0   0.0     0.0\n",
      "4    0.0       -0.0   0.0    -0.0\n",
      "Trafo result :\n",
      "    p_hv_mw  q_hv_mvar  p_lv_mw  q_lv_mvar  pl_mw  ql_mvar  i_hv_ka  i_lv_ka  \\\n",
      "0      0.0        0.0     -0.0       -0.0    0.0     -0.0     -0.0     -0.0   \n",
      "\n",
      "   vm_hv_pu  va_hv_degree  vm_lv_pu  va_lv_degree  loading_percent  \n",
      "0       0.0          -0.0       0.0          -0.0             -0.0  \n",
      "Ext grid result :\n",
      "    p_mw  q_mvar\n",
      "0   0.0     0.0\n"
     ]
    }
   ],
   "source": [
    "print(\"Line result :\\n\", result_res_line.round(10))\n",
    "print(\"Bus result :\\n\", result_res_bus.round(10))\n",
    "print(\"Trafo result :\\n\", result_res_trafo.round(10))\n",
    "print(\"Ext grid result :\\n\", result_res_ext_grid.round(10))\n"
   ]
  },
  {
   "cell_type": "code",
   "execution_count": 226,
   "metadata": {},
   "outputs": [
    {
     "name": "stdout",
     "output_type": "stream",
     "text": [
      "Load result :\n",
      "    p_mw  q_mvar\n",
      "0   0.0     0.0\n",
      "1   0.0     0.0\n",
      "Gen result :\n",
      "    p_mw  q_mvar  va_degree  vm_pu\n",
      "0   0.0     0.0       -0.0    0.0\n",
      "1   0.0     0.0       -0.0    0.0\n"
     ]
    }
   ],
   "source": [
    "print(\"Load result :\\n\", result_res_load.round(10))\n",
    "print(\"Gen result :\\n\", result_res_gen.round(10))"
   ]
  },
  {
   "cell_type": "code",
   "execution_count": 227,
   "metadata": {},
   "outputs": [
    {
     "data": {
      "application/vnd.plotly.v1+json": {
       "config": {
        "plotlyServerURL": "https://plot.ly"
       },
       "data": [
        {
         "hoverinfo": "text",
         "legendgroup": "Transformers",
         "line": {
          "color": "rgb(134.6774193548387,255.0,112.09677419354838)",
          "width": 7
         },
         "mode": "lines",
         "name": "Transformers",
         "showlegend": true,
         "text": "Transfo T1<br>Loading: 51.6 %",
         "type": "scatter",
         "x": [
          0.04411484319830219,
          -0.18465400447251362,
          -0.4134228521433294
         ],
         "y": [
          0.2929668050525229,
          0.5963570023987358,
          0.8997471997449487
         ]
        },
        {
         "hoverinfo": "text",
         "legendgroup": "Transformers",
         "marker": {
          "color": "rgb(134.6774193548387,255.0,112.09677419354838)",
          "size": 1,
          "symbol": "circle"
         },
         "mode": "markers",
         "name": "edge_center",
         "showlegend": false,
         "text": [
          "Transfo T1<br>Loading: 51.6 %"
         ],
         "type": "scatter",
         "x": [
          -0.18465400447251362
         ],
         "y": [
          0.5963570023987358
         ]
        },
        {
         "hoverinfo": "text",
         "legendgroup": "lines",
         "line": {
          "color": "rgb(0.0,0.0,232.04545454545453)",
          "width": 3
         },
         "mode": "lines",
         "name": "lines",
         "showlegend": true,
         "text": "line_a<br>Loading: 9.3 %",
         "type": "scatter",
         "x": [
          0.864732143824462,
          0.8037953996404956,
          0.7428586554565294
         ],
         "y": [
          -0.7953249239893944,
          -0.4149081565426613,
          -0.03449138909592816
         ]
        },
        {
         "hoverinfo": "text",
         "legendgroup": "lines",
         "line": {
          "color": "rgb(0.0,0.0,255.0)",
          "width": 3
         },
         "mode": "lines",
         "name": "lines",
         "showlegend": false,
         "text": "line_b<br>Loading: 12.1 %",
         "type": "scatter",
         "x": [
          0.7428586554565294,
          0.4548102095195367,
          0.16676176358254402
         ],
         "y": [
          -0.03449138909592816,
          -0.251691917085301,
          -0.4688924450746738
         ]
        },
        {
         "hoverinfo": "text",
         "legendgroup": "lines",
         "line": {
          "color": "rgb(0.0,0.0,236.59090909090907)",
          "width": 3
         },
         "mode": "lines",
         "name": "lines",
         "showlegend": false,
         "text": "line_c<br>Loading: 9.4 %",
         "type": "scatter",
         "x": [
          0.864732143824462,
          0.515746953703503,
          0.16676176358254402
         ],
         "y": [
          -0.7953249239893944,
          -0.6321086845320341,
          -0.4688924450746738
         ]
        },
        {
         "hoverinfo": "text",
         "legendgroup": "lines",
         "line": {
          "color": "rgb(0.0,0.0,255.0)",
          "width": 3
         },
         "mode": "lines",
         "name": "lines",
         "showlegend": false,
         "text": "line_d<br>Loading: 12.0 %",
         "type": "scatter",
         "x": [
          0.16676176358254402,
          0.10543830339042311,
          0.04411484319830219
         ],
         "y": [
          -0.4688924450746738,
          -0.08796282001107544,
          0.2929668050525229
         ]
        },
        {
         "hoverinfo": "text",
         "legendgroup": "lines",
         "line": {
          "color": "rgb(0.0,0.0,186.5909090909091)",
          "width": 3
         },
         "mode": "lines",
         "name": "lines",
         "showlegend": false,
         "text": "line_e<br>Loading: 5.2 %",
         "type": "scatter",
         "x": [
          0.7428586554565294,
          0.3934867493274158,
          0.04411484319830219
         ],
         "y": [
          -0.03449138909592816,
          0.1292377079782974,
          0.2929668050525229
         ]
        },
        {
         "marker": {
          "cmax": 100,
          "cmin": 0,
          "color": "rgb(255,255,255)",
          "colorbar": {
           "thickness": 10,
           "title": {
            "side": "right",
            "text": "Equipment loading [%]"
           },
           "x": 1.15
          },
          "colorscale": [
           [
            0,
            "rgb(0,0,131)"
           ],
           [
            0.2,
            "rgb(0,60,170)"
           ],
           [
            0.4,
            "rgb(5,255,255)"
           ],
           [
            0.6,
            "rgb(255,255,0)"
           ],
           [
            0.8,
            "rgb(250,0,0)"
           ],
           [
            1,
            "rgb(128,0,0)"
           ]
          ],
          "opacity": 0,
          "size": 0
         },
         "mode": "markers",
         "type": "scatter",
         "x": [
          0.864732143824462
         ],
         "y": [
          -0.7953249239893944
         ]
        },
        {
         "hoverinfo": "text",
         "legendgroup": "lines",
         "marker": {
          "color": "rgb(128, 128, 128)",
          "size": 1,
          "symbol": "circle"
         },
         "mode": "markers",
         "name": "edge_center",
         "showlegend": false,
         "text": [
          "line_a<br>Loading: 9.3 %",
          "line_b<br>Loading: 12.1 %",
          "line_c<br>Loading: 9.4 %",
          "line_d<br>Loading: 12.0 %",
          "line_e<br>Loading: 5.2 %"
         ],
         "type": "scatter",
         "x": [
          0.8037953996404956
         ],
         "y": [
          -0.4149081565426613
         ]
        },
        {
         "hoverinfo": "text",
         "marker": {
          "color": "rgb(191, 191, 0)",
          "size": 30,
          "symbol": "square"
         },
         "mode": "markers",
         "name": "Ext grid",
         "text": [
          "Gen 1"
         ],
         "type": "scatter",
         "x": [
          0.864732143824462
         ],
         "y": [
          -0.7953249239893944
         ]
        },
        {
         "hoverinfo": "text",
         "marker": {
          "cmax": 1.15,
          "cmin": 0.85,
          "color": [
           1,
           1.05,
           0.9511741848561814,
           1.013825161421516,
           0.9999999999999998
          ],
          "colorbar": {
           "thickness": 10,
           "title": {
            "side": "right",
            "text": "Bus voltage [pu]"
           },
           "x": 1
          },
          "colorscale": [
           [
            0,
            "rgb(0,0,131)"
           ],
           [
            0.2,
            "rgb(0,60,170)"
           ],
           [
            0.4,
            "rgb(5,255,255)"
           ],
           [
            0.6,
            "rgb(255,255,0)"
           ],
           [
            0.8,
            "rgb(250,0,0)"
           ],
           [
            1,
            "rgb(128,0,0)"
           ]
          ],
          "size": 20,
          "symbol": "circle"
         },
         "mode": "markers",
         "name": "buses",
         "text": [
          "bus_1<br>V: 1.0 pu",
          "bus_2<br>V: 1.05 pu",
          "bus_3<br>V: 0.951 pu",
          "bus_4<br>V: 1.014 pu",
          "bus_5<br>V: 1.0 pu"
         ],
         "type": "scatter",
         "x": [
          0.864732143824462,
          0.7428586554565294,
          0.16676176358254402,
          0.04411484319830219,
          -0.4134228521433294
         ],
         "y": [
          -0.7953249239893944,
          -0.03449138909592816,
          -0.4688924450746738,
          0.2929668050525229,
          0.8997471997449487
         ]
        }
       ],
       "layout": {
        "font": {
         "size": 15
        },
        "height": 400,
        "hovermode": "closest",
        "legend": {
         "font": {
          "size": 12
         },
         "itemsizing": "constant"
        },
        "margin": {
         "b": 5,
         "l": 5,
         "r": 5,
         "t": 30
        },
        "paper_bgcolor": "white",
        "plot_bgcolor": "white",
        "showlegend": false,
        "template": {
         "data": {
          "bar": [
           {
            "error_x": {
             "color": "#2a3f5f"
            },
            "error_y": {
             "color": "#2a3f5f"
            },
            "marker": {
             "line": {
              "color": "#E5ECF6",
              "width": 0.5
             },
             "pattern": {
              "fillmode": "overlay",
              "size": 10,
              "solidity": 0.2
             }
            },
            "type": "bar"
           }
          ],
          "barpolar": [
           {
            "marker": {
             "line": {
              "color": "#E5ECF6",
              "width": 0.5
             },
             "pattern": {
              "fillmode": "overlay",
              "size": 10,
              "solidity": 0.2
             }
            },
            "type": "barpolar"
           }
          ],
          "carpet": [
           {
            "aaxis": {
             "endlinecolor": "#2a3f5f",
             "gridcolor": "white",
             "linecolor": "white",
             "minorgridcolor": "white",
             "startlinecolor": "#2a3f5f"
            },
            "baxis": {
             "endlinecolor": "#2a3f5f",
             "gridcolor": "white",
             "linecolor": "white",
             "minorgridcolor": "white",
             "startlinecolor": "#2a3f5f"
            },
            "type": "carpet"
           }
          ],
          "choropleth": [
           {
            "colorbar": {
             "outlinewidth": 0,
             "ticks": ""
            },
            "type": "choropleth"
           }
          ],
          "contour": [
           {
            "colorbar": {
             "outlinewidth": 0,
             "ticks": ""
            },
            "colorscale": [
             [
              0,
              "#0d0887"
             ],
             [
              0.1111111111111111,
              "#46039f"
             ],
             [
              0.2222222222222222,
              "#7201a8"
             ],
             [
              0.3333333333333333,
              "#9c179e"
             ],
             [
              0.4444444444444444,
              "#bd3786"
             ],
             [
              0.5555555555555556,
              "#d8576b"
             ],
             [
              0.6666666666666666,
              "#ed7953"
             ],
             [
              0.7777777777777778,
              "#fb9f3a"
             ],
             [
              0.8888888888888888,
              "#fdca26"
             ],
             [
              1,
              "#f0f921"
             ]
            ],
            "type": "contour"
           }
          ],
          "contourcarpet": [
           {
            "colorbar": {
             "outlinewidth": 0,
             "ticks": ""
            },
            "type": "contourcarpet"
           }
          ],
          "heatmap": [
           {
            "colorbar": {
             "outlinewidth": 0,
             "ticks": ""
            },
            "colorscale": [
             [
              0,
              "#0d0887"
             ],
             [
              0.1111111111111111,
              "#46039f"
             ],
             [
              0.2222222222222222,
              "#7201a8"
             ],
             [
              0.3333333333333333,
              "#9c179e"
             ],
             [
              0.4444444444444444,
              "#bd3786"
             ],
             [
              0.5555555555555556,
              "#d8576b"
             ],
             [
              0.6666666666666666,
              "#ed7953"
             ],
             [
              0.7777777777777778,
              "#fb9f3a"
             ],
             [
              0.8888888888888888,
              "#fdca26"
             ],
             [
              1,
              "#f0f921"
             ]
            ],
            "type": "heatmap"
           }
          ],
          "heatmapgl": [
           {
            "colorbar": {
             "outlinewidth": 0,
             "ticks": ""
            },
            "colorscale": [
             [
              0,
              "#0d0887"
             ],
             [
              0.1111111111111111,
              "#46039f"
             ],
             [
              0.2222222222222222,
              "#7201a8"
             ],
             [
              0.3333333333333333,
              "#9c179e"
             ],
             [
              0.4444444444444444,
              "#bd3786"
             ],
             [
              0.5555555555555556,
              "#d8576b"
             ],
             [
              0.6666666666666666,
              "#ed7953"
             ],
             [
              0.7777777777777778,
              "#fb9f3a"
             ],
             [
              0.8888888888888888,
              "#fdca26"
             ],
             [
              1,
              "#f0f921"
             ]
            ],
            "type": "heatmapgl"
           }
          ],
          "histogram": [
           {
            "marker": {
             "pattern": {
              "fillmode": "overlay",
              "size": 10,
              "solidity": 0.2
             }
            },
            "type": "histogram"
           }
          ],
          "histogram2d": [
           {
            "colorbar": {
             "outlinewidth": 0,
             "ticks": ""
            },
            "colorscale": [
             [
              0,
              "#0d0887"
             ],
             [
              0.1111111111111111,
              "#46039f"
             ],
             [
              0.2222222222222222,
              "#7201a8"
             ],
             [
              0.3333333333333333,
              "#9c179e"
             ],
             [
              0.4444444444444444,
              "#bd3786"
             ],
             [
              0.5555555555555556,
              "#d8576b"
             ],
             [
              0.6666666666666666,
              "#ed7953"
             ],
             [
              0.7777777777777778,
              "#fb9f3a"
             ],
             [
              0.8888888888888888,
              "#fdca26"
             ],
             [
              1,
              "#f0f921"
             ]
            ],
            "type": "histogram2d"
           }
          ],
          "histogram2dcontour": [
           {
            "colorbar": {
             "outlinewidth": 0,
             "ticks": ""
            },
            "colorscale": [
             [
              0,
              "#0d0887"
             ],
             [
              0.1111111111111111,
              "#46039f"
             ],
             [
              0.2222222222222222,
              "#7201a8"
             ],
             [
              0.3333333333333333,
              "#9c179e"
             ],
             [
              0.4444444444444444,
              "#bd3786"
             ],
             [
              0.5555555555555556,
              "#d8576b"
             ],
             [
              0.6666666666666666,
              "#ed7953"
             ],
             [
              0.7777777777777778,
              "#fb9f3a"
             ],
             [
              0.8888888888888888,
              "#fdca26"
             ],
             [
              1,
              "#f0f921"
             ]
            ],
            "type": "histogram2dcontour"
           }
          ],
          "mesh3d": [
           {
            "colorbar": {
             "outlinewidth": 0,
             "ticks": ""
            },
            "type": "mesh3d"
           }
          ],
          "parcoords": [
           {
            "line": {
             "colorbar": {
              "outlinewidth": 0,
              "ticks": ""
             }
            },
            "type": "parcoords"
           }
          ],
          "pie": [
           {
            "automargin": true,
            "type": "pie"
           }
          ],
          "scatter": [
           {
            "fillpattern": {
             "fillmode": "overlay",
             "size": 10,
             "solidity": 0.2
            },
            "type": "scatter"
           }
          ],
          "scatter3d": [
           {
            "line": {
             "colorbar": {
              "outlinewidth": 0,
              "ticks": ""
             }
            },
            "marker": {
             "colorbar": {
              "outlinewidth": 0,
              "ticks": ""
             }
            },
            "type": "scatter3d"
           }
          ],
          "scattercarpet": [
           {
            "marker": {
             "colorbar": {
              "outlinewidth": 0,
              "ticks": ""
             }
            },
            "type": "scattercarpet"
           }
          ],
          "scattergeo": [
           {
            "marker": {
             "colorbar": {
              "outlinewidth": 0,
              "ticks": ""
             }
            },
            "type": "scattergeo"
           }
          ],
          "scattergl": [
           {
            "marker": {
             "colorbar": {
              "outlinewidth": 0,
              "ticks": ""
             }
            },
            "type": "scattergl"
           }
          ],
          "scattermapbox": [
           {
            "marker": {
             "colorbar": {
              "outlinewidth": 0,
              "ticks": ""
             }
            },
            "type": "scattermapbox"
           }
          ],
          "scatterpolar": [
           {
            "marker": {
             "colorbar": {
              "outlinewidth": 0,
              "ticks": ""
             }
            },
            "type": "scatterpolar"
           }
          ],
          "scatterpolargl": [
           {
            "marker": {
             "colorbar": {
              "outlinewidth": 0,
              "ticks": ""
             }
            },
            "type": "scatterpolargl"
           }
          ],
          "scatterternary": [
           {
            "marker": {
             "colorbar": {
              "outlinewidth": 0,
              "ticks": ""
             }
            },
            "type": "scatterternary"
           }
          ],
          "surface": [
           {
            "colorbar": {
             "outlinewidth": 0,
             "ticks": ""
            },
            "colorscale": [
             [
              0,
              "#0d0887"
             ],
             [
              0.1111111111111111,
              "#46039f"
             ],
             [
              0.2222222222222222,
              "#7201a8"
             ],
             [
              0.3333333333333333,
              "#9c179e"
             ],
             [
              0.4444444444444444,
              "#bd3786"
             ],
             [
              0.5555555555555556,
              "#d8576b"
             ],
             [
              0.6666666666666666,
              "#ed7953"
             ],
             [
              0.7777777777777778,
              "#fb9f3a"
             ],
             [
              0.8888888888888888,
              "#fdca26"
             ],
             [
              1,
              "#f0f921"
             ]
            ],
            "type": "surface"
           }
          ],
          "table": [
           {
            "cells": {
             "fill": {
              "color": "#EBF0F8"
             },
             "line": {
              "color": "white"
             }
            },
            "header": {
             "fill": {
              "color": "#C8D4E3"
             },
             "line": {
              "color": "white"
             }
            },
            "type": "table"
           }
          ]
         },
         "layout": {
          "annotationdefaults": {
           "arrowcolor": "#2a3f5f",
           "arrowhead": 0,
           "arrowwidth": 1
          },
          "autotypenumbers": "strict",
          "coloraxis": {
           "colorbar": {
            "outlinewidth": 0,
            "ticks": ""
           }
          },
          "colorscale": {
           "diverging": [
            [
             0,
             "#8e0152"
            ],
            [
             0.1,
             "#c51b7d"
            ],
            [
             0.2,
             "#de77ae"
            ],
            [
             0.3,
             "#f1b6da"
            ],
            [
             0.4,
             "#fde0ef"
            ],
            [
             0.5,
             "#f7f7f7"
            ],
            [
             0.6,
             "#e6f5d0"
            ],
            [
             0.7,
             "#b8e186"
            ],
            [
             0.8,
             "#7fbc41"
            ],
            [
             0.9,
             "#4d9221"
            ],
            [
             1,
             "#276419"
            ]
           ],
           "sequential": [
            [
             0,
             "#0d0887"
            ],
            [
             0.1111111111111111,
             "#46039f"
            ],
            [
             0.2222222222222222,
             "#7201a8"
            ],
            [
             0.3333333333333333,
             "#9c179e"
            ],
            [
             0.4444444444444444,
             "#bd3786"
            ],
            [
             0.5555555555555556,
             "#d8576b"
            ],
            [
             0.6666666666666666,
             "#ed7953"
            ],
            [
             0.7777777777777778,
             "#fb9f3a"
            ],
            [
             0.8888888888888888,
             "#fdca26"
            ],
            [
             1,
             "#f0f921"
            ]
           ],
           "sequentialminus": [
            [
             0,
             "#0d0887"
            ],
            [
             0.1111111111111111,
             "#46039f"
            ],
            [
             0.2222222222222222,
             "#7201a8"
            ],
            [
             0.3333333333333333,
             "#9c179e"
            ],
            [
             0.4444444444444444,
             "#bd3786"
            ],
            [
             0.5555555555555556,
             "#d8576b"
            ],
            [
             0.6666666666666666,
             "#ed7953"
            ],
            [
             0.7777777777777778,
             "#fb9f3a"
            ],
            [
             0.8888888888888888,
             "#fdca26"
            ],
            [
             1,
             "#f0f921"
            ]
           ]
          },
          "colorway": [
           "#636efa",
           "#EF553B",
           "#00cc96",
           "#ab63fa",
           "#FFA15A",
           "#19d3f3",
           "#FF6692",
           "#B6E880",
           "#FF97FF",
           "#FECB52"
          ],
          "font": {
           "color": "#2a3f5f"
          },
          "geo": {
           "bgcolor": "white",
           "lakecolor": "white",
           "landcolor": "#E5ECF6",
           "showlakes": true,
           "showland": true,
           "subunitcolor": "white"
          },
          "hoverlabel": {
           "align": "left"
          },
          "hovermode": "closest",
          "mapbox": {
           "style": "light"
          },
          "paper_bgcolor": "white",
          "plot_bgcolor": "#E5ECF6",
          "polar": {
           "angularaxis": {
            "gridcolor": "white",
            "linecolor": "white",
            "ticks": ""
           },
           "bgcolor": "#E5ECF6",
           "radialaxis": {
            "gridcolor": "white",
            "linecolor": "white",
            "ticks": ""
           }
          },
          "scene": {
           "xaxis": {
            "backgroundcolor": "#E5ECF6",
            "gridcolor": "white",
            "gridwidth": 2,
            "linecolor": "white",
            "showbackground": true,
            "ticks": "",
            "zerolinecolor": "white"
           },
           "yaxis": {
            "backgroundcolor": "#E5ECF6",
            "gridcolor": "white",
            "gridwidth": 2,
            "linecolor": "white",
            "showbackground": true,
            "ticks": "",
            "zerolinecolor": "white"
           },
           "zaxis": {
            "backgroundcolor": "#E5ECF6",
            "gridcolor": "white",
            "gridwidth": 2,
            "linecolor": "white",
            "showbackground": true,
            "ticks": "",
            "zerolinecolor": "white"
           }
          },
          "shapedefaults": {
           "line": {
            "color": "#2a3f5f"
           }
          },
          "ternary": {
           "aaxis": {
            "gridcolor": "white",
            "linecolor": "white",
            "ticks": ""
           },
           "baxis": {
            "gridcolor": "white",
            "linecolor": "white",
            "ticks": ""
           },
           "bgcolor": "#E5ECF6",
           "caxis": {
            "gridcolor": "white",
            "linecolor": "white",
            "ticks": ""
           }
          },
          "title": {
           "x": 0.05
          },
          "xaxis": {
           "automargin": true,
           "gridcolor": "white",
           "linecolor": "white",
           "ticks": "",
           "title": {
            "standoff": 15
           },
           "zerolinecolor": "white",
           "zerolinewidth": 2
          },
          "yaxis": {
           "automargin": true,
           "gridcolor": "white",
           "linecolor": "white",
           "ticks": "",
           "title": {
            "standoff": 15
           },
           "zerolinecolor": "white",
           "zerolinewidth": 2
          }
         }
        },
        "title": {
         "text": "<b>Exercice Power flow 1 : Problème 1 - results<b>",
         "x": 0.5,
         "xanchor": "center",
         "y": 0.97,
         "yanchor": "top"
        },
        "width": 770,
        "xaxis": {
         "showgrid": false,
         "showticklabels": false,
         "tickfont": {
          "family": "Arial Black",
          "size": 12
         },
         "title": {
          "font": {
           "size": 12
          }
         },
         "zeroline": false
        },
        "yaxis": {
         "showgrid": false,
         "showticklabels": false,
         "tickfont": {
          "family": "Arial Black",
          "size": 12
         },
         "title": {
          "font": {
           "size": 12
          }
         },
         "zeroline": false
        }
       }
      },
      "text/html": [
       "<div>                            <div id=\"46e14310-b57a-437a-9917-d0889d0a4167\" class=\"plotly-graph-div\" style=\"height:400px; width:770px;\"></div>            <script type=\"text/javascript\">                require([\"plotly\"], function(Plotly) {                    window.PLOTLYENV=window.PLOTLYENV || {};                                    if (document.getElementById(\"46e14310-b57a-437a-9917-d0889d0a4167\")) {                    Plotly.newPlot(                        \"46e14310-b57a-437a-9917-d0889d0a4167\",                        [{\"hoverinfo\":\"text\",\"legendgroup\":\"Transformers\",\"line\":{\"color\":\"rgb(134.6774193548387,255.0,112.09677419354838)\",\"width\":7},\"mode\":\"lines\",\"name\":\"Transformers\",\"showlegend\":true,\"text\":\"Transfo T1\\u003cbr\\u003eLoading: 51.6 %\",\"x\":[0.04411484319830219,-0.18465400447251362,-0.4134228521433294],\"y\":[0.2929668050525229,0.5963570023987358,0.8997471997449487],\"type\":\"scatter\"},{\"hoverinfo\":\"text\",\"legendgroup\":\"Transformers\",\"marker\":{\"color\":\"rgb(134.6774193548387,255.0,112.09677419354838)\",\"size\":1,\"symbol\":\"circle\"},\"mode\":\"markers\",\"name\":\"edge_center\",\"showlegend\":false,\"text\":[\"Transfo T1\\u003cbr\\u003eLoading: 51.6 %\"],\"x\":[-0.18465400447251362],\"y\":[0.5963570023987358],\"type\":\"scatter\"},{\"hoverinfo\":\"text\",\"legendgroup\":\"lines\",\"line\":{\"color\":\"rgb(0.0,0.0,232.04545454545453)\",\"width\":3},\"mode\":\"lines\",\"name\":\"lines\",\"showlegend\":true,\"text\":\"line_a\\u003cbr\\u003eLoading: 9.3 %\",\"x\":[0.864732143824462,0.8037953996404956,0.7428586554565294],\"y\":[-0.7953249239893944,-0.4149081565426613,-0.03449138909592816],\"type\":\"scatter\"},{\"hoverinfo\":\"text\",\"legendgroup\":\"lines\",\"line\":{\"color\":\"rgb(0.0,0.0,255.0)\",\"width\":3},\"mode\":\"lines\",\"name\":\"lines\",\"showlegend\":false,\"text\":\"line_b\\u003cbr\\u003eLoading: 12.1 %\",\"x\":[0.7428586554565294,0.4548102095195367,0.16676176358254402],\"y\":[-0.03449138909592816,-0.251691917085301,-0.4688924450746738],\"type\":\"scatter\"},{\"hoverinfo\":\"text\",\"legendgroup\":\"lines\",\"line\":{\"color\":\"rgb(0.0,0.0,236.59090909090907)\",\"width\":3},\"mode\":\"lines\",\"name\":\"lines\",\"showlegend\":false,\"text\":\"line_c\\u003cbr\\u003eLoading: 9.4 %\",\"x\":[0.864732143824462,0.515746953703503,0.16676176358254402],\"y\":[-0.7953249239893944,-0.6321086845320341,-0.4688924450746738],\"type\":\"scatter\"},{\"hoverinfo\":\"text\",\"legendgroup\":\"lines\",\"line\":{\"color\":\"rgb(0.0,0.0,255.0)\",\"width\":3},\"mode\":\"lines\",\"name\":\"lines\",\"showlegend\":false,\"text\":\"line_d\\u003cbr\\u003eLoading: 12.0 %\",\"x\":[0.16676176358254402,0.10543830339042311,0.04411484319830219],\"y\":[-0.4688924450746738,-0.08796282001107544,0.2929668050525229],\"type\":\"scatter\"},{\"hoverinfo\":\"text\",\"legendgroup\":\"lines\",\"line\":{\"color\":\"rgb(0.0,0.0,186.5909090909091)\",\"width\":3},\"mode\":\"lines\",\"name\":\"lines\",\"showlegend\":false,\"text\":\"line_e\\u003cbr\\u003eLoading: 5.2 %\",\"x\":[0.7428586554565294,0.3934867493274158,0.04411484319830219],\"y\":[-0.03449138909592816,0.1292377079782974,0.2929668050525229],\"type\":\"scatter\"},{\"marker\":{\"cmax\":100,\"cmin\":0,\"color\":\"rgb(255,255,255)\",\"colorbar\":{\"thickness\":10,\"title\":{\"side\":\"right\",\"text\":\"Equipment loading [%]\"},\"x\":1.15},\"colorscale\":[[0.0,\"rgb(0,0,131)\"],[0.2,\"rgb(0,60,170)\"],[0.4,\"rgb(5,255,255)\"],[0.6,\"rgb(255,255,0)\"],[0.8,\"rgb(250,0,0)\"],[1.0,\"rgb(128,0,0)\"]],\"opacity\":0,\"size\":0},\"mode\":\"markers\",\"x\":[0.864732143824462],\"y\":[-0.7953249239893944],\"type\":\"scatter\"},{\"hoverinfo\":\"text\",\"legendgroup\":\"lines\",\"marker\":{\"color\":\"rgb(128, 128, 128)\",\"size\":1,\"symbol\":\"circle\"},\"mode\":\"markers\",\"name\":\"edge_center\",\"showlegend\":false,\"text\":[\"line_a\\u003cbr\\u003eLoading: 9.3 %\",\"line_b\\u003cbr\\u003eLoading: 12.1 %\",\"line_c\\u003cbr\\u003eLoading: 9.4 %\",\"line_d\\u003cbr\\u003eLoading: 12.0 %\",\"line_e\\u003cbr\\u003eLoading: 5.2 %\"],\"x\":[0.8037953996404956],\"y\":[-0.4149081565426613],\"type\":\"scatter\"},{\"hoverinfo\":\"text\",\"marker\":{\"color\":\"rgb(191, 191, 0)\",\"size\":30,\"symbol\":\"square\"},\"mode\":\"markers\",\"name\":\"Ext grid\",\"text\":[\"Gen 1\"],\"x\":[0.864732143824462],\"y\":[-0.7953249239893944],\"type\":\"scatter\"},{\"hoverinfo\":\"text\",\"marker\":{\"cmax\":1.15,\"cmin\":0.85,\"color\":[1.0,1.05,0.9511741848561814,1.013825161421516,0.9999999999999998],\"colorbar\":{\"thickness\":10,\"title\":{\"side\":\"right\",\"text\":\"Bus voltage [pu]\"},\"x\":1.0},\"colorscale\":[[0.0,\"rgb(0,0,131)\"],[0.2,\"rgb(0,60,170)\"],[0.4,\"rgb(5,255,255)\"],[0.6,\"rgb(255,255,0)\"],[0.8,\"rgb(250,0,0)\"],[1.0,\"rgb(128,0,0)\"]],\"size\":20,\"symbol\":\"circle\"},\"mode\":\"markers\",\"name\":\"buses\",\"text\":[\"bus_1\\u003cbr\\u003eV: 1.0 pu\",\"bus_2\\u003cbr\\u003eV: 1.05 pu\",\"bus_3\\u003cbr\\u003eV: 0.951 pu\",\"bus_4\\u003cbr\\u003eV: 1.014 pu\",\"bus_5\\u003cbr\\u003eV: 1.0 pu\"],\"x\":[0.864732143824462,0.7428586554565294,0.16676176358254402,0.04411484319830219,-0.4134228521433294],\"y\":[-0.7953249239893944,-0.03449138909592816,-0.4688924450746738,0.2929668050525229,0.8997471997449487],\"type\":\"scatter\"}],                        {\"hovermode\":\"closest\",\"legend\":{\"itemsizing\":\"constant\",\"font\":{\"size\":12}},\"margin\":{\"b\":5,\"l\":5,\"r\":5,\"t\":30},\"showlegend\":false,\"xaxis\":{\"showgrid\":false,\"showticklabels\":false,\"zeroline\":false,\"tickfont\":{\"size\":12,\"family\":\"Arial Black\"},\"title\":{\"font\":{\"size\":12}}},\"yaxis\":{\"showgrid\":false,\"showticklabels\":false,\"zeroline\":false,\"tickfont\":{\"size\":12,\"family\":\"Arial Black\"},\"title\":{\"font\":{\"size\":12}}},\"template\":{\"data\":{\"histogram2dcontour\":[{\"type\":\"histogram2dcontour\",\"colorbar\":{\"outlinewidth\":0,\"ticks\":\"\"},\"colorscale\":[[0.0,\"#0d0887\"],[0.1111111111111111,\"#46039f\"],[0.2222222222222222,\"#7201a8\"],[0.3333333333333333,\"#9c179e\"],[0.4444444444444444,\"#bd3786\"],[0.5555555555555556,\"#d8576b\"],[0.6666666666666666,\"#ed7953\"],[0.7777777777777778,\"#fb9f3a\"],[0.8888888888888888,\"#fdca26\"],[1.0,\"#f0f921\"]]}],\"choropleth\":[{\"type\":\"choropleth\",\"colorbar\":{\"outlinewidth\":0,\"ticks\":\"\"}}],\"histogram2d\":[{\"type\":\"histogram2d\",\"colorbar\":{\"outlinewidth\":0,\"ticks\":\"\"},\"colorscale\":[[0.0,\"#0d0887\"],[0.1111111111111111,\"#46039f\"],[0.2222222222222222,\"#7201a8\"],[0.3333333333333333,\"#9c179e\"],[0.4444444444444444,\"#bd3786\"],[0.5555555555555556,\"#d8576b\"],[0.6666666666666666,\"#ed7953\"],[0.7777777777777778,\"#fb9f3a\"],[0.8888888888888888,\"#fdca26\"],[1.0,\"#f0f921\"]]}],\"heatmap\":[{\"type\":\"heatmap\",\"colorbar\":{\"outlinewidth\":0,\"ticks\":\"\"},\"colorscale\":[[0.0,\"#0d0887\"],[0.1111111111111111,\"#46039f\"],[0.2222222222222222,\"#7201a8\"],[0.3333333333333333,\"#9c179e\"],[0.4444444444444444,\"#bd3786\"],[0.5555555555555556,\"#d8576b\"],[0.6666666666666666,\"#ed7953\"],[0.7777777777777778,\"#fb9f3a\"],[0.8888888888888888,\"#fdca26\"],[1.0,\"#f0f921\"]]}],\"heatmapgl\":[{\"type\":\"heatmapgl\",\"colorbar\":{\"outlinewidth\":0,\"ticks\":\"\"},\"colorscale\":[[0.0,\"#0d0887\"],[0.1111111111111111,\"#46039f\"],[0.2222222222222222,\"#7201a8\"],[0.3333333333333333,\"#9c179e\"],[0.4444444444444444,\"#bd3786\"],[0.5555555555555556,\"#d8576b\"],[0.6666666666666666,\"#ed7953\"],[0.7777777777777778,\"#fb9f3a\"],[0.8888888888888888,\"#fdca26\"],[1.0,\"#f0f921\"]]}],\"contourcarpet\":[{\"type\":\"contourcarpet\",\"colorbar\":{\"outlinewidth\":0,\"ticks\":\"\"}}],\"contour\":[{\"type\":\"contour\",\"colorbar\":{\"outlinewidth\":0,\"ticks\":\"\"},\"colorscale\":[[0.0,\"#0d0887\"],[0.1111111111111111,\"#46039f\"],[0.2222222222222222,\"#7201a8\"],[0.3333333333333333,\"#9c179e\"],[0.4444444444444444,\"#bd3786\"],[0.5555555555555556,\"#d8576b\"],[0.6666666666666666,\"#ed7953\"],[0.7777777777777778,\"#fb9f3a\"],[0.8888888888888888,\"#fdca26\"],[1.0,\"#f0f921\"]]}],\"surface\":[{\"type\":\"surface\",\"colorbar\":{\"outlinewidth\":0,\"ticks\":\"\"},\"colorscale\":[[0.0,\"#0d0887\"],[0.1111111111111111,\"#46039f\"],[0.2222222222222222,\"#7201a8\"],[0.3333333333333333,\"#9c179e\"],[0.4444444444444444,\"#bd3786\"],[0.5555555555555556,\"#d8576b\"],[0.6666666666666666,\"#ed7953\"],[0.7777777777777778,\"#fb9f3a\"],[0.8888888888888888,\"#fdca26\"],[1.0,\"#f0f921\"]]}],\"mesh3d\":[{\"type\":\"mesh3d\",\"colorbar\":{\"outlinewidth\":0,\"ticks\":\"\"}}],\"scatter\":[{\"fillpattern\":{\"fillmode\":\"overlay\",\"size\":10,\"solidity\":0.2},\"type\":\"scatter\"}],\"parcoords\":[{\"type\":\"parcoords\",\"line\":{\"colorbar\":{\"outlinewidth\":0,\"ticks\":\"\"}}}],\"scatterpolargl\":[{\"type\":\"scatterpolargl\",\"marker\":{\"colorbar\":{\"outlinewidth\":0,\"ticks\":\"\"}}}],\"bar\":[{\"error_x\":{\"color\":\"#2a3f5f\"},\"error_y\":{\"color\":\"#2a3f5f\"},\"marker\":{\"line\":{\"color\":\"#E5ECF6\",\"width\":0.5},\"pattern\":{\"fillmode\":\"overlay\",\"size\":10,\"solidity\":0.2}},\"type\":\"bar\"}],\"scattergeo\":[{\"type\":\"scattergeo\",\"marker\":{\"colorbar\":{\"outlinewidth\":0,\"ticks\":\"\"}}}],\"scatterpolar\":[{\"type\":\"scatterpolar\",\"marker\":{\"colorbar\":{\"outlinewidth\":0,\"ticks\":\"\"}}}],\"histogram\":[{\"marker\":{\"pattern\":{\"fillmode\":\"overlay\",\"size\":10,\"solidity\":0.2}},\"type\":\"histogram\"}],\"scattergl\":[{\"type\":\"scattergl\",\"marker\":{\"colorbar\":{\"outlinewidth\":0,\"ticks\":\"\"}}}],\"scatter3d\":[{\"type\":\"scatter3d\",\"line\":{\"colorbar\":{\"outlinewidth\":0,\"ticks\":\"\"}},\"marker\":{\"colorbar\":{\"outlinewidth\":0,\"ticks\":\"\"}}}],\"scattermapbox\":[{\"type\":\"scattermapbox\",\"marker\":{\"colorbar\":{\"outlinewidth\":0,\"ticks\":\"\"}}}],\"scatterternary\":[{\"type\":\"scatterternary\",\"marker\":{\"colorbar\":{\"outlinewidth\":0,\"ticks\":\"\"}}}],\"scattercarpet\":[{\"type\":\"scattercarpet\",\"marker\":{\"colorbar\":{\"outlinewidth\":0,\"ticks\":\"\"}}}],\"carpet\":[{\"aaxis\":{\"endlinecolor\":\"#2a3f5f\",\"gridcolor\":\"white\",\"linecolor\":\"white\",\"minorgridcolor\":\"white\",\"startlinecolor\":\"#2a3f5f\"},\"baxis\":{\"endlinecolor\":\"#2a3f5f\",\"gridcolor\":\"white\",\"linecolor\":\"white\",\"minorgridcolor\":\"white\",\"startlinecolor\":\"#2a3f5f\"},\"type\":\"carpet\"}],\"table\":[{\"cells\":{\"fill\":{\"color\":\"#EBF0F8\"},\"line\":{\"color\":\"white\"}},\"header\":{\"fill\":{\"color\":\"#C8D4E3\"},\"line\":{\"color\":\"white\"}},\"type\":\"table\"}],\"barpolar\":[{\"marker\":{\"line\":{\"color\":\"#E5ECF6\",\"width\":0.5},\"pattern\":{\"fillmode\":\"overlay\",\"size\":10,\"solidity\":0.2}},\"type\":\"barpolar\"}],\"pie\":[{\"automargin\":true,\"type\":\"pie\"}]},\"layout\":{\"autotypenumbers\":\"strict\",\"colorway\":[\"#636efa\",\"#EF553B\",\"#00cc96\",\"#ab63fa\",\"#FFA15A\",\"#19d3f3\",\"#FF6692\",\"#B6E880\",\"#FF97FF\",\"#FECB52\"],\"font\":{\"color\":\"#2a3f5f\"},\"hovermode\":\"closest\",\"hoverlabel\":{\"align\":\"left\"},\"paper_bgcolor\":\"white\",\"plot_bgcolor\":\"#E5ECF6\",\"polar\":{\"bgcolor\":\"#E5ECF6\",\"angularaxis\":{\"gridcolor\":\"white\",\"linecolor\":\"white\",\"ticks\":\"\"},\"radialaxis\":{\"gridcolor\":\"white\",\"linecolor\":\"white\",\"ticks\":\"\"}},\"ternary\":{\"bgcolor\":\"#E5ECF6\",\"aaxis\":{\"gridcolor\":\"white\",\"linecolor\":\"white\",\"ticks\":\"\"},\"baxis\":{\"gridcolor\":\"white\",\"linecolor\":\"white\",\"ticks\":\"\"},\"caxis\":{\"gridcolor\":\"white\",\"linecolor\":\"white\",\"ticks\":\"\"}},\"coloraxis\":{\"colorbar\":{\"outlinewidth\":0,\"ticks\":\"\"}},\"colorscale\":{\"sequential\":[[0.0,\"#0d0887\"],[0.1111111111111111,\"#46039f\"],[0.2222222222222222,\"#7201a8\"],[0.3333333333333333,\"#9c179e\"],[0.4444444444444444,\"#bd3786\"],[0.5555555555555556,\"#d8576b\"],[0.6666666666666666,\"#ed7953\"],[0.7777777777777778,\"#fb9f3a\"],[0.8888888888888888,\"#fdca26\"],[1.0,\"#f0f921\"]],\"sequentialminus\":[[0.0,\"#0d0887\"],[0.1111111111111111,\"#46039f\"],[0.2222222222222222,\"#7201a8\"],[0.3333333333333333,\"#9c179e\"],[0.4444444444444444,\"#bd3786\"],[0.5555555555555556,\"#d8576b\"],[0.6666666666666666,\"#ed7953\"],[0.7777777777777778,\"#fb9f3a\"],[0.8888888888888888,\"#fdca26\"],[1.0,\"#f0f921\"]],\"diverging\":[[0,\"#8e0152\"],[0.1,\"#c51b7d\"],[0.2,\"#de77ae\"],[0.3,\"#f1b6da\"],[0.4,\"#fde0ef\"],[0.5,\"#f7f7f7\"],[0.6,\"#e6f5d0\"],[0.7,\"#b8e186\"],[0.8,\"#7fbc41\"],[0.9,\"#4d9221\"],[1,\"#276419\"]]},\"xaxis\":{\"gridcolor\":\"white\",\"linecolor\":\"white\",\"ticks\":\"\",\"title\":{\"standoff\":15},\"zerolinecolor\":\"white\",\"automargin\":true,\"zerolinewidth\":2},\"yaxis\":{\"gridcolor\":\"white\",\"linecolor\":\"white\",\"ticks\":\"\",\"title\":{\"standoff\":15},\"zerolinecolor\":\"white\",\"automargin\":true,\"zerolinewidth\":2},\"scene\":{\"xaxis\":{\"backgroundcolor\":\"#E5ECF6\",\"gridcolor\":\"white\",\"linecolor\":\"white\",\"showbackground\":true,\"ticks\":\"\",\"zerolinecolor\":\"white\",\"gridwidth\":2},\"yaxis\":{\"backgroundcolor\":\"#E5ECF6\",\"gridcolor\":\"white\",\"linecolor\":\"white\",\"showbackground\":true,\"ticks\":\"\",\"zerolinecolor\":\"white\",\"gridwidth\":2},\"zaxis\":{\"backgroundcolor\":\"#E5ECF6\",\"gridcolor\":\"white\",\"linecolor\":\"white\",\"showbackground\":true,\"ticks\":\"\",\"zerolinecolor\":\"white\",\"gridwidth\":2}},\"shapedefaults\":{\"line\":{\"color\":\"#2a3f5f\"}},\"annotationdefaults\":{\"arrowcolor\":\"#2a3f5f\",\"arrowhead\":0,\"arrowwidth\":1},\"geo\":{\"bgcolor\":\"white\",\"landcolor\":\"#E5ECF6\",\"subunitcolor\":\"white\",\"showland\":true,\"showlakes\":true,\"lakecolor\":\"white\"},\"title\":{\"x\":0.05},\"mapbox\":{\"style\":\"light\"}}},\"font\":{\"size\":15},\"paper_bgcolor\":\"white\",\"plot_bgcolor\":\"white\",\"width\":770,\"height\":400,\"title\":{\"text\":\"\\u003cb\\u003eExercice Power flow 1 : Problème 1 - results\\u003cb\\u003e\",\"y\":0.97,\"x\":0.5,\"xanchor\":\"center\",\"yanchor\":\"top\"}},                        {\"responsive\": true}                    ).then(function(){\n",
       "                            \n",
       "var gd = document.getElementById('46e14310-b57a-437a-9917-d0889d0a4167');\n",
       "var x = new MutationObserver(function (mutations, observer) {{\n",
       "        var display = window.getComputedStyle(gd).display;\n",
       "        if (!display || display === 'none') {{\n",
       "            console.log([gd, 'removed!']);\n",
       "            Plotly.purge(gd);\n",
       "            observer.disconnect();\n",
       "        }}\n",
       "}});\n",
       "\n",
       "// Listen for the removal of the full notebook cells\n",
       "var notebookContainer = gd.closest('#notebook-container');\n",
       "if (notebookContainer) {{\n",
       "    x.observe(notebookContainer, {childList: true});\n",
       "}}\n",
       "\n",
       "// Listen for the clearing of the current output cell\n",
       "var outputEl = gd.closest('.output');\n",
       "if (outputEl) {{\n",
       "    x.observe(outputEl, {childList: true});\n",
       "}}\n",
       "\n",
       "                        })                };                });            </script>        </div>"
      ]
     },
     "metadata": {},
     "output_type": "display_data"
    },
    {
     "data": {
      "text/html": [
       "<div>\n",
       "<style scoped>\n",
       "    .dataframe tbody tr th:only-of-type {\n",
       "        vertical-align: middle;\n",
       "    }\n",
       "\n",
       "    .dataframe tbody tr th {\n",
       "        vertical-align: top;\n",
       "    }\n",
       "\n",
       "    .dataframe thead th {\n",
       "        text-align: right;\n",
       "    }\n",
       "</style>\n",
       "<table border=\"1\" class=\"dataframe\">\n",
       "  <thead>\n",
       "    <tr style=\"text-align: right;\">\n",
       "      <th></th>\n",
       "      <th>vm_pu</th>\n",
       "      <th>va_degree</th>\n",
       "      <th>p_mw</th>\n",
       "      <th>q_mvar</th>\n",
       "    </tr>\n",
       "  </thead>\n",
       "  <tbody>\n",
       "    <tr>\n",
       "      <th>0</th>\n",
       "      <td>1.000000</td>\n",
       "      <td>0.000000</td>\n",
       "      <td>-54.693687</td>\n",
       "      <td>67.913996</td>\n",
       "    </tr>\n",
       "    <tr>\n",
       "      <th>1</th>\n",
       "      <td>1.050000</td>\n",
       "      <td>0.263137</td>\n",
       "      <td>-50.000000</td>\n",
       "      <td>41.529496</td>\n",
       "    </tr>\n",
       "    <tr>\n",
       "      <th>2</th>\n",
       "      <td>0.951174</td>\n",
       "      <td>-14.297797</td>\n",
       "      <td>200.000000</td>\n",
       "      <td>80.000000</td>\n",
       "    </tr>\n",
       "    <tr>\n",
       "      <th>3</th>\n",
       "      <td>1.013825</td>\n",
       "      <td>4.685040</td>\n",
       "      <td>0.000000</td>\n",
       "      <td>0.000000</td>\n",
       "    </tr>\n",
       "    <tr>\n",
       "      <th>4</th>\n",
       "      <td>1.000000</td>\n",
       "      <td>7.511909</td>\n",
       "      <td>-100.000000</td>\n",
       "      <td>25.182913</td>\n",
       "    </tr>\n",
       "  </tbody>\n",
       "</table>\n",
       "</div>"
      ],
      "text/plain": [
       "      vm_pu  va_degree        p_mw     q_mvar\n",
       "0  1.000000   0.000000  -54.693687  67.913996\n",
       "1  1.050000   0.263137  -50.000000  41.529496\n",
       "2  0.951174 -14.297797  200.000000  80.000000\n",
       "3  1.013825   4.685040    0.000000   0.000000\n",
       "4  1.000000   7.511909 -100.000000  25.182913"
      ]
     },
     "execution_count": 227,
     "metadata": {},
     "output_type": "execute_result"
    }
   ],
   "source": [
    "pp_plot.plot_powerflow_result(\n",
    "    net=net_ExPF1_Pb1_heig,\n",
    "    plot_title=\"Exercice Power flow 1 : Problème 1 - results\",\n",
    "    filename=\"net_ex_pf_1_pb_1_grid_pp_result\",\n",
    ")\n",
    "net_ExPF1_Pb1_heig.res_bus"
   ]
  },
  {
   "cell_type": "markdown",
   "metadata": {},
   "source": [
    "### Timeseries"
   ]
  },
  {
   "cell_type": "code",
   "execution_count": 228,
   "metadata": {},
   "outputs": [],
   "source": [
    "profile_file_path = \"data/power_profile_pb1.xlsx\"\n",
    "output_folder = \"\"\n",
    "output_filename = \"simulation_results\""
   ]
  },
  {
   "cell_type": "markdown",
   "metadata": {},
   "source": [
    "Charge excel file with powerprofile (power already scaled)"
   ]
  },
  {
   "cell_type": "code",
   "execution_count": 229,
   "metadata": {},
   "outputs": [],
   "source": [
    "time_series: dict = pp_sim.load_power_profile_form_xlsx(file_path=profile_file_path)\n"
   ]
  },
  {
   "cell_type": "markdown",
   "metadata": {},
   "source": [
    "Apply the powerprofile to the equipement"
   ]
  },
  {
   "cell_type": "code",
   "execution_count": 230,
   "metadata": {},
   "outputs": [],
   "source": [
    "# for eq in [\"load\",\"sgen\"]:\n",
    "#     apply_power_profile(net=net_ExPF1_Pb1_heig, equipment=eq, power_profiles=time_series[eq])\n",
    "pp_sim.apply_power_profile(net=net_ExPF1_Pb1_heig, equipment=\"load\", power_profiles=time_series[\"load\"])\n",
    "pp_sim.create_output_writer(net=net_ExPF1_Pb1_heig)"
   ]
  },
  {
   "cell_type": "code",
   "execution_count": 231,
   "metadata": {},
   "outputs": [
    {
     "name": "stderr",
     "output_type": "stream",
     "text": [
      "/home/thierryfra/miniforge3/lib/python3.12/site-packages/pandapower/timeseries/output_writer.py:177: FutureWarning:\n",
      "\n",
      "Setting an item of incompatible dtype is deprecated and will raise in a future error of pandas. Value 'range(0, 96)' has dtype incompatible with bool, please explicitly cast to a compatible dtype first.\n",
      "\n"
     ]
    }
   ],
   "source": [
    "result_df = pp_sim.run_time_simulation(net=net_ExPF1_Pb1_heig, output_filename=output_filename)"
   ]
  },
  {
   "cell_type": "code",
   "execution_count": 232,
   "metadata": {},
   "outputs": [
    {
     "data": {
      "application/vnd.plotly.v1+json": {
       "config": {
        "plotlyServerURL": "https://plot.ly"
       },
       "data": [
        {
         "hovertemplate": "<b>bus_1<br>V [pu]: %{y:.2f}<br>Time: %{text}<b><extra></extra>",
         "mode": "lines",
         "name": "<b>bus_1<b>",
         "text": [
          "00h00",
          "00h15",
          "00h30",
          "00h45",
          "01h00",
          "01h15",
          "01h30",
          "01h45",
          "02h00",
          "02h15",
          "02h30",
          "02h45",
          "03h00",
          "03h15",
          "03h30",
          "03h45",
          "04h00",
          "04h15",
          "04h30",
          "04h45",
          "05h00",
          "05h15",
          "05h30",
          "05h45",
          "06h00",
          "06h15",
          "06h30",
          "06h45",
          "07h00",
          "07h15",
          "07h30",
          "07h45",
          "08h00",
          "08h15",
          "08h30",
          "08h45",
          "09h00",
          "09h15",
          "09h30",
          "09h45",
          "10h00",
          "10h15",
          "10h30",
          "10h45",
          "11h00",
          "11h15",
          "11h30",
          "11h45",
          "12h00",
          "12h15",
          "12h30",
          "12h45",
          "13h00",
          "13h15",
          "13h30",
          "13h45",
          "14h00",
          "14h15",
          "14h30",
          "14h45",
          "15h00",
          "15h15",
          "15h30",
          "15h45",
          "16h00",
          "16h15",
          "16h30",
          "16h45",
          "17h00",
          "17h15",
          "17h30",
          "17h45",
          "18h00",
          "18h15",
          "18h30",
          "18h45",
          "19h00",
          "19h15",
          "19h30",
          "19h45",
          "20h00",
          "20h15",
          "20h30",
          "20h45",
          "21h00",
          "21h15",
          "21h30",
          "21h45",
          "22h00",
          "22h15",
          "22h30",
          "22h45",
          "23h00",
          "23h15",
          "23h30",
          "23h45"
         ],
         "type": "scatter",
         "x": [
          0,
          1,
          2,
          3,
          4,
          5,
          6,
          7,
          8,
          9,
          10,
          11,
          12,
          13,
          14,
          15,
          16,
          17,
          18,
          19,
          20,
          21,
          22,
          23,
          24,
          25,
          26,
          27,
          28,
          29,
          30,
          31,
          32,
          33,
          34,
          35,
          36,
          37,
          38,
          39,
          40,
          41,
          42,
          43,
          44,
          45,
          46,
          47,
          48,
          49,
          50,
          51,
          52,
          53,
          54,
          55,
          56,
          57,
          58,
          59,
          60,
          61,
          62,
          63,
          64,
          65,
          66,
          67,
          68,
          69,
          70,
          71,
          72,
          73,
          74,
          75,
          76,
          77,
          78,
          79,
          80,
          81,
          82,
          83,
          84,
          85,
          86,
          87,
          88,
          89,
          90,
          91,
          92,
          93,
          94,
          95
         ],
         "y": [
          1,
          1,
          1,
          1,
          1,
          1,
          1,
          1,
          1,
          1,
          1,
          1,
          1,
          1,
          1,
          1,
          1,
          1,
          1,
          1,
          1,
          1,
          1,
          1,
          1,
          1,
          1,
          1,
          1,
          1,
          1,
          1,
          1,
          1,
          1,
          1,
          1,
          1,
          1,
          1,
          1,
          1,
          1,
          1,
          1,
          1,
          1,
          1,
          1,
          1,
          1,
          1,
          1,
          1,
          1,
          1,
          1,
          1,
          1,
          1,
          1,
          1,
          1,
          1,
          1,
          1,
          1,
          1,
          1,
          1,
          1,
          1,
          1,
          1,
          1,
          1,
          1,
          1,
          1,
          1,
          1,
          1,
          1,
          1,
          1,
          1,
          1,
          1,
          1,
          1,
          1,
          1,
          1,
          1,
          1,
          1
         ]
        },
        {
         "hovertemplate": "<b>bus_2<br>V [pu]: %{y:.2f}<br>Time: %{text}<b><extra></extra>",
         "mode": "lines",
         "name": "<b>bus_2<b>",
         "text": [
          "00h00",
          "00h15",
          "00h30",
          "00h45",
          "01h00",
          "01h15",
          "01h30",
          "01h45",
          "02h00",
          "02h15",
          "02h30",
          "02h45",
          "03h00",
          "03h15",
          "03h30",
          "03h45",
          "04h00",
          "04h15",
          "04h30",
          "04h45",
          "05h00",
          "05h15",
          "05h30",
          "05h45",
          "06h00",
          "06h15",
          "06h30",
          "06h45",
          "07h00",
          "07h15",
          "07h30",
          "07h45",
          "08h00",
          "08h15",
          "08h30",
          "08h45",
          "09h00",
          "09h15",
          "09h30",
          "09h45",
          "10h00",
          "10h15",
          "10h30",
          "10h45",
          "11h00",
          "11h15",
          "11h30",
          "11h45",
          "12h00",
          "12h15",
          "12h30",
          "12h45",
          "13h00",
          "13h15",
          "13h30",
          "13h45",
          "14h00",
          "14h15",
          "14h30",
          "14h45",
          "15h00",
          "15h15",
          "15h30",
          "15h45",
          "16h00",
          "16h15",
          "16h30",
          "16h45",
          "17h00",
          "17h15",
          "17h30",
          "17h45",
          "18h00",
          "18h15",
          "18h30",
          "18h45",
          "19h00",
          "19h15",
          "19h30",
          "19h45",
          "20h00",
          "20h15",
          "20h30",
          "20h45",
          "21h00",
          "21h15",
          "21h30",
          "21h45",
          "22h00",
          "22h15",
          "22h30",
          "22h45",
          "23h00",
          "23h15",
          "23h30",
          "23h45"
         ],
         "type": "scatter",
         "x": [
          0,
          1,
          2,
          3,
          4,
          5,
          6,
          7,
          8,
          9,
          10,
          11,
          12,
          13,
          14,
          15,
          16,
          17,
          18,
          19,
          20,
          21,
          22,
          23,
          24,
          25,
          26,
          27,
          28,
          29,
          30,
          31,
          32,
          33,
          34,
          35,
          36,
          37,
          38,
          39,
          40,
          41,
          42,
          43,
          44,
          45,
          46,
          47,
          48,
          49,
          50,
          51,
          52,
          53,
          54,
          55,
          56,
          57,
          58,
          59,
          60,
          61,
          62,
          63,
          64,
          65,
          66,
          67,
          68,
          69,
          70,
          71,
          72,
          73,
          74,
          75,
          76,
          77,
          78,
          79,
          80,
          81,
          82,
          83,
          84,
          85,
          86,
          87,
          88,
          89,
          90,
          91,
          92,
          93,
          94,
          95
         ],
         "y": [
          1.0500000000000007,
          1.05,
          1.05,
          1.05,
          1.05,
          1.05,
          1.05,
          1.0499999999999998,
          1.0500000000000003,
          1.05,
          1.0500000000000003,
          1.05,
          1.05,
          1.05,
          1.0499999999999998,
          1.05,
          1.0499999999999998,
          1.0499999999999998,
          1.0499999999999996,
          1.0500000000000003,
          1.05,
          1.0499999999999998,
          1.05,
          1.05,
          1.05,
          1.05,
          1.05,
          1.0499999999999998,
          1.0500000000000003,
          1.0499999999999998,
          1.0499999999999998,
          1.0499999999999996,
          1.0499999999999998,
          1.05,
          1.0499999999999998,
          1.0500000000000003,
          1.0500000000000003,
          1.0499999999999998,
          1.0499999999999998,
          1.0500000000000003,
          1.0499999999999998,
          1.0499999999999998,
          1.05,
          1.05,
          1.0499999999999998,
          1.0500000000000003,
          1.0500000000000005,
          1.0499999999999998,
          1.05,
          1.05,
          1.05,
          1.05,
          1.0500000000000003,
          1.0499999999999998,
          1.05,
          1.0499999999999998,
          1.0500000000000003,
          1.0499999999999998,
          1.0500000000000003,
          1.0500000000000003,
          1.0500000000000003,
          1.05,
          1.05,
          1.0500000000000003,
          1.0499999999999998,
          1.05,
          1.05,
          1.05,
          1.05,
          1.0499999999999998,
          1.05,
          1.05,
          1.0499999999999998,
          1.05,
          1.0500000000000003,
          1.05,
          1.05,
          1.05,
          1.0499999999999998,
          1.0499999999999998,
          1.05,
          1.0499999999999998,
          1.05,
          1.0499999999999998,
          1.05,
          1.05,
          1.05,
          1.0500000000000003,
          1.05,
          1.0500000000000005,
          1.05,
          1.0500000000000003,
          1.0499999999999998,
          1.05,
          1.0500000000000003,
          1.05
         ]
        },
        {
         "hovertemplate": "<b>bus_3<br>V [pu]: %{y:.2f}<br>Time: %{text}<b><extra></extra>",
         "mode": "lines",
         "name": "<b>bus_3<b>",
         "text": [
          "00h00",
          "00h15",
          "00h30",
          "00h45",
          "01h00",
          "01h15",
          "01h30",
          "01h45",
          "02h00",
          "02h15",
          "02h30",
          "02h45",
          "03h00",
          "03h15",
          "03h30",
          "03h45",
          "04h00",
          "04h15",
          "04h30",
          "04h45",
          "05h00",
          "05h15",
          "05h30",
          "05h45",
          "06h00",
          "06h15",
          "06h30",
          "06h45",
          "07h00",
          "07h15",
          "07h30",
          "07h45",
          "08h00",
          "08h15",
          "08h30",
          "08h45",
          "09h00",
          "09h15",
          "09h30",
          "09h45",
          "10h00",
          "10h15",
          "10h30",
          "10h45",
          "11h00",
          "11h15",
          "11h30",
          "11h45",
          "12h00",
          "12h15",
          "12h30",
          "12h45",
          "13h00",
          "13h15",
          "13h30",
          "13h45",
          "14h00",
          "14h15",
          "14h30",
          "14h45",
          "15h00",
          "15h15",
          "15h30",
          "15h45",
          "16h00",
          "16h15",
          "16h30",
          "16h45",
          "17h00",
          "17h15",
          "17h30",
          "17h45",
          "18h00",
          "18h15",
          "18h30",
          "18h45",
          "19h00",
          "19h15",
          "19h30",
          "19h45",
          "20h00",
          "20h15",
          "20h30",
          "20h45",
          "21h00",
          "21h15",
          "21h30",
          "21h45",
          "22h00",
          "22h15",
          "22h30",
          "22h45",
          "23h00",
          "23h15",
          "23h30",
          "23h45"
         ],
         "type": "scatter",
         "x": [
          0,
          1,
          2,
          3,
          4,
          5,
          6,
          7,
          8,
          9,
          10,
          11,
          12,
          13,
          14,
          15,
          16,
          17,
          18,
          19,
          20,
          21,
          22,
          23,
          24,
          25,
          26,
          27,
          28,
          29,
          30,
          31,
          32,
          33,
          34,
          35,
          36,
          37,
          38,
          39,
          40,
          41,
          42,
          43,
          44,
          45,
          46,
          47,
          48,
          49,
          50,
          51,
          52,
          53,
          54,
          55,
          56,
          57,
          58,
          59,
          60,
          61,
          62,
          63,
          64,
          65,
          66,
          67,
          68,
          69,
          70,
          71,
          72,
          73,
          74,
          75,
          76,
          77,
          78,
          79,
          80,
          81,
          82,
          83,
          84,
          85,
          86,
          87,
          88,
          89,
          90,
          91,
          92,
          93,
          94,
          95
         ],
         "y": [
          1.091703668046319,
          1.09568848723859,
          1.0990035469398325,
          1.1017118751719255,
          1.1036574751091555,
          1.1049952643696848,
          1.105856980204843,
          1.1064091204845017,
          1.106758265507201,
          1.1070066017949376,
          1.1071056909832167,
          1.107254062202158,
          1.1074021186180152,
          1.1075006481559213,
          1.10764818057972,
          1.10764818057972,
          1.107599038007838,
          1.1074021186180667,
          1.1071551830534556,
          1.1068080029042362,
          1.1063591020176473,
          1.1052497728146833,
          1.1028746684172244,
          1.09850626857997,
          1.091463690466983,
          1.0821336021638015,
          1.0715876236057784,
          1.061330384131532,
          1.0530596869966606,
          1.0470930025781358,
          1.0433280827825149,
          1.0414064498525515,
          1.0408525182932307,
          1.041406449854237,
          1.0429640977163703,
          1.0451337767775806,
          1.0477985241300016,
          1.0504981236236126,
          1.0531442234942816,
          1.05524009390513,
          1.0566462278031858,
          1.0575479678330264,
          1.057955760124145,
          1.0579557601241452,
          1.057629630446072,
          1.0568927857902595,
          1.0554893482471472,
          1.0531442234942818,
          1.0498066283192322,
          1.0461168992438588,
          1.0430551835214554,
          1.0414064498525517,
          1.0419581968834328,
          1.0442338826870765,
          1.0475343830537582,
          1.051014405924328,
          1.0542382709791842,
          1.0570568953442085,
          1.0595739852712693,
          1.0619630054839746,
          1.0641520360326442,
          1.065997645715138,
          1.0675143558277842,
          1.0683403938904452,
          1.0684899655082725,
          1.0677402098231539,
          1.0659213045833853,
          1.0625924190020333,
          1.0577112409504723,
          1.051271798615502,
          1.043418929991434,
          1.034321391365175,
          1.024196722396328,
          1.0136704956948688,
          1.0033254108138616,
          0.993900453224627,
          0.9864147031170266,
          0.9817231723173754,
          0.980768312087039,
          0.984152966541978,
          0.9916144242157855,
          1.0015327956782747,
          1.0117684141751657,
          1.0208392683495895,
          1.0277846268160755,
          1.0332520984133142,
          1.0380496781773723,
          1.0428729521320355,
          1.0482376180244137,
          1.0539866083089664,
          1.0598951625972928,
          1.065844915060176,
          1.0715876236056765,
          1.077126373387167,
          1.0823316631983062,
          1.087224414943371
         ]
        },
        {
         "hovertemplate": "<b>bus_4<br>V [pu]: %{y:.2f}<br>Time: %{text}<b><extra></extra>",
         "mode": "lines",
         "name": "<b>bus_4<b>",
         "text": [
          "00h00",
          "00h15",
          "00h30",
          "00h45",
          "01h00",
          "01h15",
          "01h30",
          "01h45",
          "02h00",
          "02h15",
          "02h30",
          "02h45",
          "03h00",
          "03h15",
          "03h30",
          "03h45",
          "04h00",
          "04h15",
          "04h30",
          "04h45",
          "05h00",
          "05h15",
          "05h30",
          "05h45",
          "06h00",
          "06h15",
          "06h30",
          "06h45",
          "07h00",
          "07h15",
          "07h30",
          "07h45",
          "08h00",
          "08h15",
          "08h30",
          "08h45",
          "09h00",
          "09h15",
          "09h30",
          "09h45",
          "10h00",
          "10h15",
          "10h30",
          "10h45",
          "11h00",
          "11h15",
          "11h30",
          "11h45",
          "12h00",
          "12h15",
          "12h30",
          "12h45",
          "13h00",
          "13h15",
          "13h30",
          "13h45",
          "14h00",
          "14h15",
          "14h30",
          "14h45",
          "15h00",
          "15h15",
          "15h30",
          "15h45",
          "16h00",
          "16h15",
          "16h30",
          "16h45",
          "17h00",
          "17h15",
          "17h30",
          "17h45",
          "18h00",
          "18h15",
          "18h30",
          "18h45",
          "19h00",
          "19h15",
          "19h30",
          "19h45",
          "20h00",
          "20h15",
          "20h30",
          "20h45",
          "21h00",
          "21h15",
          "21h30",
          "21h45",
          "22h00",
          "22h15",
          "22h30",
          "22h45",
          "23h00",
          "23h15",
          "23h30",
          "23h45"
         ],
         "type": "scatter",
         "x": [
          0,
          1,
          2,
          3,
          4,
          5,
          6,
          7,
          8,
          9,
          10,
          11,
          12,
          13,
          14,
          15,
          16,
          17,
          18,
          19,
          20,
          21,
          22,
          23,
          24,
          25,
          26,
          27,
          28,
          29,
          30,
          31,
          32,
          33,
          34,
          35,
          36,
          37,
          38,
          39,
          40,
          41,
          42,
          43,
          44,
          45,
          46,
          47,
          48,
          49,
          50,
          51,
          52,
          53,
          54,
          55,
          56,
          57,
          58,
          59,
          60,
          61,
          62,
          63,
          64,
          65,
          66,
          67,
          68,
          69,
          70,
          71,
          72,
          73,
          74,
          75,
          76,
          77,
          78,
          79,
          80,
          81,
          82,
          83,
          84,
          85,
          86,
          87,
          88,
          89,
          90,
          91,
          92,
          93,
          94,
          95
         ],
         "y": [
          1.0294926725618336,
          1.029937781949261,
          1.030307630837175,
          1.0306094693290948,
          1.0308261162452812,
          1.030974987490208,
          1.0310708384206675,
          1.031132236701655,
          1.0311710545488302,
          1.031198661052946,
          1.0312096755760025,
          1.0312261673106273,
          1.031242623017924,
          1.031253573492343,
          1.0312699692352905,
          1.0312699692352905,
          1.0312645079816711,
          1.0312426230179297,
          1.031215176826198,
          1.0311765838776148,
          1.0311266751999002,
          1.0310033006163521,
          1.0307389682579997,
          1.0302521782504133,
          1.029465848739268,
          1.0284214712091342,
          1.0272377287406607,
          1.0260833466326347,
          1.0251504750765175,
          1.0244763798272267,
          1.0240505694250992,
          1.023833097555738,
          1.023770391946039,
          1.0238330975559355,
          1.0240093841445237,
          1.0242548367234072,
          1.024556134339673,
          1.0248611897082978,
          1.025160019174884,
          1.0253965820826618,
          1.0255552297887263,
          1.025656941809973,
          1.0257029318445332,
          1.0257029318445332,
          1.0256661519134698,
          1.025583042484163,
          1.0254247080780305,
          1.0251600191748844,
          1.0247830682160526,
          1.024366017174447,
          1.0240196909050734,
          1.023833097555738,
          1.0238955483304317,
          1.0241530472889693,
          1.0245262764209684,
          1.0249195086074394,
          1.0252835195572125,
          1.0256015537943062,
          1.0258853889341615,
          1.0261546270248143,
          1.026401192094868,
          1.0266089742358036,
          1.0267796582402227,
          1.0268725902011548,
          1.0268894154622699,
          1.026805069430796,
          1.0266003814590294,
          1.0262255353066347,
          1.0256753559649052,
          1.0249485809672179,
          1.0240608483653277,
          1.0230304937863461,
          1.0218814514069838,
          1.020684261472191,
          1.019505165338765,
          1.0184288122712566,
          1.0175724929678,
          1.0170351748718027,
          1.0169257553855182,
          1.0173135188700728,
          1.0181674394111746,
          1.0193005997841635,
          1.0204676541906084,
          1.0214998772098345,
          1.022288921041866,
          1.0229092567344558,
          1.0234529917255701,
          1.0239990704132957,
          1.0246057646346,
          1.0252551136253707,
          1.0259215938676831,
          1.0265917830752205,
          1.027237728740648,
          1.027859842582715,
          1.0284436706321436,
          1.028991673497071
         ]
        },
        {
         "hovertemplate": "<b>bus_5<br>V [pu]: %{y:.2f}<br>Time: %{text}<b><extra></extra>",
         "mode": "lines",
         "name": "<b>bus_5<b>",
         "text": [
          "00h00",
          "00h15",
          "00h30",
          "00h45",
          "01h00",
          "01h15",
          "01h30",
          "01h45",
          "02h00",
          "02h15",
          "02h30",
          "02h45",
          "03h00",
          "03h15",
          "03h30",
          "03h45",
          "04h00",
          "04h15",
          "04h30",
          "04h45",
          "05h00",
          "05h15",
          "05h30",
          "05h45",
          "06h00",
          "06h15",
          "06h30",
          "06h45",
          "07h00",
          "07h15",
          "07h30",
          "07h45",
          "08h00",
          "08h15",
          "08h30",
          "08h45",
          "09h00",
          "09h15",
          "09h30",
          "09h45",
          "10h00",
          "10h15",
          "10h30",
          "10h45",
          "11h00",
          "11h15",
          "11h30",
          "11h45",
          "12h00",
          "12h15",
          "12h30",
          "12h45",
          "13h00",
          "13h15",
          "13h30",
          "13h45",
          "14h00",
          "14h15",
          "14h30",
          "14h45",
          "15h00",
          "15h15",
          "15h30",
          "15h45",
          "16h00",
          "16h15",
          "16h30",
          "16h45",
          "17h00",
          "17h15",
          "17h30",
          "17h45",
          "18h00",
          "18h15",
          "18h30",
          "18h45",
          "19h00",
          "19h15",
          "19h30",
          "19h45",
          "20h00",
          "20h15",
          "20h30",
          "20h45",
          "21h00",
          "21h15",
          "21h30",
          "21h45",
          "22h00",
          "22h15",
          "22h30",
          "22h45",
          "23h00",
          "23h15",
          "23h30",
          "23h45"
         ],
         "type": "scatter",
         "x": [
          0,
          1,
          2,
          3,
          4,
          5,
          6,
          7,
          8,
          9,
          10,
          11,
          12,
          13,
          14,
          15,
          16,
          17,
          18,
          19,
          20,
          21,
          22,
          23,
          24,
          25,
          26,
          27,
          28,
          29,
          30,
          31,
          32,
          33,
          34,
          35,
          36,
          37,
          38,
          39,
          40,
          41,
          42,
          43,
          44,
          45,
          46,
          47,
          48,
          49,
          50,
          51,
          52,
          53,
          54,
          55,
          56,
          57,
          58,
          59,
          60,
          61,
          62,
          63,
          64,
          65,
          66,
          67,
          68,
          69,
          70,
          71,
          72,
          73,
          74,
          75,
          76,
          77,
          78,
          79,
          80,
          81,
          82,
          83,
          84,
          85,
          86,
          87,
          88,
          89,
          90,
          91,
          92,
          93,
          94,
          95
         ],
         "y": [
          1.0000000000000004,
          0.9999999999999999,
          1,
          1.0000000000000002,
          1,
          1,
          1.0000000000000002,
          0.9999999999999999,
          1,
          1.0000000000000002,
          0.9999999999999998,
          1.0000000000000002,
          1,
          1,
          0.9999999999999998,
          1.0000000000000002,
          1,
          1,
          1,
          1.0000000000000002,
          0.9999999999999998,
          1.0000000000000002,
          1.0000000000000002,
          1,
          1.0000000000000002,
          0.9999999999999998,
          1,
          1.0000000000000004,
          1.0000000000000002,
          0.9999999999999999,
          1.0000000000000002,
          0.9999999999999999,
          1.0000000000000002,
          0.9999999999999998,
          1.0000000000000002,
          1,
          0.9999999999999999,
          1.0000000000000002,
          0.9999999999999998,
          0.9999999999999998,
          1.0000000000000004,
          1,
          0.9999999999999999,
          1,
          1,
          1,
          1,
          1,
          1.0000000000000002,
          0.9999999999999999,
          1,
          0.9999999999999999,
          1.0000000000000002,
          1,
          1,
          1.0000000000000002,
          1,
          0.9999999999999999,
          0.9999999999999999,
          1.0000000000000002,
          1.0000000000000002,
          1.0000000000000002,
          1,
          0.9999999999999999,
          0.9999999999999999,
          1,
          0.9999999999999998,
          0.9999999999999999,
          0.9999999999999997,
          0.9999999999999998,
          1,
          0.9999999999999999,
          1,
          0.9999999999999999,
          1,
          1,
          0.9999999999999999,
          1.0000000000000002,
          1,
          1,
          1.0000000000000002,
          0.9999999999999997,
          1,
          1,
          1.0000000000000002,
          0.9999999999999999,
          1,
          1,
          1,
          0.9999999999999998,
          1.0000000000000002,
          0.9999999999999999,
          0.9999999999999998,
          1.0000000000000004,
          1.0000000000000002,
          0.9999999999999999
         ]
        }
       ],
       "layout": {
        "font": {
         "size": 15
        },
        "height": 400,
        "legend": {
         "font": {
          "size": 12
         }
        },
        "margin": {
         "t": 30
        },
        "paper_bgcolor": "white",
        "plot_bgcolor": "white",
        "template": {
         "data": {
          "bar": [
           {
            "error_x": {
             "color": "#2a3f5f"
            },
            "error_y": {
             "color": "#2a3f5f"
            },
            "marker": {
             "line": {
              "color": "#E5ECF6",
              "width": 0.5
             },
             "pattern": {
              "fillmode": "overlay",
              "size": 10,
              "solidity": 0.2
             }
            },
            "type": "bar"
           }
          ],
          "barpolar": [
           {
            "marker": {
             "line": {
              "color": "#E5ECF6",
              "width": 0.5
             },
             "pattern": {
              "fillmode": "overlay",
              "size": 10,
              "solidity": 0.2
             }
            },
            "type": "barpolar"
           }
          ],
          "carpet": [
           {
            "aaxis": {
             "endlinecolor": "#2a3f5f",
             "gridcolor": "white",
             "linecolor": "white",
             "minorgridcolor": "white",
             "startlinecolor": "#2a3f5f"
            },
            "baxis": {
             "endlinecolor": "#2a3f5f",
             "gridcolor": "white",
             "linecolor": "white",
             "minorgridcolor": "white",
             "startlinecolor": "#2a3f5f"
            },
            "type": "carpet"
           }
          ],
          "choropleth": [
           {
            "colorbar": {
             "outlinewidth": 0,
             "ticks": ""
            },
            "type": "choropleth"
           }
          ],
          "contour": [
           {
            "colorbar": {
             "outlinewidth": 0,
             "ticks": ""
            },
            "colorscale": [
             [
              0,
              "#0d0887"
             ],
             [
              0.1111111111111111,
              "#46039f"
             ],
             [
              0.2222222222222222,
              "#7201a8"
             ],
             [
              0.3333333333333333,
              "#9c179e"
             ],
             [
              0.4444444444444444,
              "#bd3786"
             ],
             [
              0.5555555555555556,
              "#d8576b"
             ],
             [
              0.6666666666666666,
              "#ed7953"
             ],
             [
              0.7777777777777778,
              "#fb9f3a"
             ],
             [
              0.8888888888888888,
              "#fdca26"
             ],
             [
              1,
              "#f0f921"
             ]
            ],
            "type": "contour"
           }
          ],
          "contourcarpet": [
           {
            "colorbar": {
             "outlinewidth": 0,
             "ticks": ""
            },
            "type": "contourcarpet"
           }
          ],
          "heatmap": [
           {
            "colorbar": {
             "outlinewidth": 0,
             "ticks": ""
            },
            "colorscale": [
             [
              0,
              "#0d0887"
             ],
             [
              0.1111111111111111,
              "#46039f"
             ],
             [
              0.2222222222222222,
              "#7201a8"
             ],
             [
              0.3333333333333333,
              "#9c179e"
             ],
             [
              0.4444444444444444,
              "#bd3786"
             ],
             [
              0.5555555555555556,
              "#d8576b"
             ],
             [
              0.6666666666666666,
              "#ed7953"
             ],
             [
              0.7777777777777778,
              "#fb9f3a"
             ],
             [
              0.8888888888888888,
              "#fdca26"
             ],
             [
              1,
              "#f0f921"
             ]
            ],
            "type": "heatmap"
           }
          ],
          "heatmapgl": [
           {
            "colorbar": {
             "outlinewidth": 0,
             "ticks": ""
            },
            "colorscale": [
             [
              0,
              "#0d0887"
             ],
             [
              0.1111111111111111,
              "#46039f"
             ],
             [
              0.2222222222222222,
              "#7201a8"
             ],
             [
              0.3333333333333333,
              "#9c179e"
             ],
             [
              0.4444444444444444,
              "#bd3786"
             ],
             [
              0.5555555555555556,
              "#d8576b"
             ],
             [
              0.6666666666666666,
              "#ed7953"
             ],
             [
              0.7777777777777778,
              "#fb9f3a"
             ],
             [
              0.8888888888888888,
              "#fdca26"
             ],
             [
              1,
              "#f0f921"
             ]
            ],
            "type": "heatmapgl"
           }
          ],
          "histogram": [
           {
            "marker": {
             "pattern": {
              "fillmode": "overlay",
              "size": 10,
              "solidity": 0.2
             }
            },
            "type": "histogram"
           }
          ],
          "histogram2d": [
           {
            "colorbar": {
             "outlinewidth": 0,
             "ticks": ""
            },
            "colorscale": [
             [
              0,
              "#0d0887"
             ],
             [
              0.1111111111111111,
              "#46039f"
             ],
             [
              0.2222222222222222,
              "#7201a8"
             ],
             [
              0.3333333333333333,
              "#9c179e"
             ],
             [
              0.4444444444444444,
              "#bd3786"
             ],
             [
              0.5555555555555556,
              "#d8576b"
             ],
             [
              0.6666666666666666,
              "#ed7953"
             ],
             [
              0.7777777777777778,
              "#fb9f3a"
             ],
             [
              0.8888888888888888,
              "#fdca26"
             ],
             [
              1,
              "#f0f921"
             ]
            ],
            "type": "histogram2d"
           }
          ],
          "histogram2dcontour": [
           {
            "colorbar": {
             "outlinewidth": 0,
             "ticks": ""
            },
            "colorscale": [
             [
              0,
              "#0d0887"
             ],
             [
              0.1111111111111111,
              "#46039f"
             ],
             [
              0.2222222222222222,
              "#7201a8"
             ],
             [
              0.3333333333333333,
              "#9c179e"
             ],
             [
              0.4444444444444444,
              "#bd3786"
             ],
             [
              0.5555555555555556,
              "#d8576b"
             ],
             [
              0.6666666666666666,
              "#ed7953"
             ],
             [
              0.7777777777777778,
              "#fb9f3a"
             ],
             [
              0.8888888888888888,
              "#fdca26"
             ],
             [
              1,
              "#f0f921"
             ]
            ],
            "type": "histogram2dcontour"
           }
          ],
          "mesh3d": [
           {
            "colorbar": {
             "outlinewidth": 0,
             "ticks": ""
            },
            "type": "mesh3d"
           }
          ],
          "parcoords": [
           {
            "line": {
             "colorbar": {
              "outlinewidth": 0,
              "ticks": ""
             }
            },
            "type": "parcoords"
           }
          ],
          "pie": [
           {
            "automargin": true,
            "type": "pie"
           }
          ],
          "scatter": [
           {
            "fillpattern": {
             "fillmode": "overlay",
             "size": 10,
             "solidity": 0.2
            },
            "type": "scatter"
           }
          ],
          "scatter3d": [
           {
            "line": {
             "colorbar": {
              "outlinewidth": 0,
              "ticks": ""
             }
            },
            "marker": {
             "colorbar": {
              "outlinewidth": 0,
              "ticks": ""
             }
            },
            "type": "scatter3d"
           }
          ],
          "scattercarpet": [
           {
            "marker": {
             "colorbar": {
              "outlinewidth": 0,
              "ticks": ""
             }
            },
            "type": "scattercarpet"
           }
          ],
          "scattergeo": [
           {
            "marker": {
             "colorbar": {
              "outlinewidth": 0,
              "ticks": ""
             }
            },
            "type": "scattergeo"
           }
          ],
          "scattergl": [
           {
            "marker": {
             "colorbar": {
              "outlinewidth": 0,
              "ticks": ""
             }
            },
            "type": "scattergl"
           }
          ],
          "scattermapbox": [
           {
            "marker": {
             "colorbar": {
              "outlinewidth": 0,
              "ticks": ""
             }
            },
            "type": "scattermapbox"
           }
          ],
          "scatterpolar": [
           {
            "marker": {
             "colorbar": {
              "outlinewidth": 0,
              "ticks": ""
             }
            },
            "type": "scatterpolar"
           }
          ],
          "scatterpolargl": [
           {
            "marker": {
             "colorbar": {
              "outlinewidth": 0,
              "ticks": ""
             }
            },
            "type": "scatterpolargl"
           }
          ],
          "scatterternary": [
           {
            "marker": {
             "colorbar": {
              "outlinewidth": 0,
              "ticks": ""
             }
            },
            "type": "scatterternary"
           }
          ],
          "surface": [
           {
            "colorbar": {
             "outlinewidth": 0,
             "ticks": ""
            },
            "colorscale": [
             [
              0,
              "#0d0887"
             ],
             [
              0.1111111111111111,
              "#46039f"
             ],
             [
              0.2222222222222222,
              "#7201a8"
             ],
             [
              0.3333333333333333,
              "#9c179e"
             ],
             [
              0.4444444444444444,
              "#bd3786"
             ],
             [
              0.5555555555555556,
              "#d8576b"
             ],
             [
              0.6666666666666666,
              "#ed7953"
             ],
             [
              0.7777777777777778,
              "#fb9f3a"
             ],
             [
              0.8888888888888888,
              "#fdca26"
             ],
             [
              1,
              "#f0f921"
             ]
            ],
            "type": "surface"
           }
          ],
          "table": [
           {
            "cells": {
             "fill": {
              "color": "#EBF0F8"
             },
             "line": {
              "color": "white"
             }
            },
            "header": {
             "fill": {
              "color": "#C8D4E3"
             },
             "line": {
              "color": "white"
             }
            },
            "type": "table"
           }
          ]
         },
         "layout": {
          "annotationdefaults": {
           "arrowcolor": "#2a3f5f",
           "arrowhead": 0,
           "arrowwidth": 1
          },
          "autotypenumbers": "strict",
          "coloraxis": {
           "colorbar": {
            "outlinewidth": 0,
            "ticks": ""
           }
          },
          "colorscale": {
           "diverging": [
            [
             0,
             "#8e0152"
            ],
            [
             0.1,
             "#c51b7d"
            ],
            [
             0.2,
             "#de77ae"
            ],
            [
             0.3,
             "#f1b6da"
            ],
            [
             0.4,
             "#fde0ef"
            ],
            [
             0.5,
             "#f7f7f7"
            ],
            [
             0.6,
             "#e6f5d0"
            ],
            [
             0.7,
             "#b8e186"
            ],
            [
             0.8,
             "#7fbc41"
            ],
            [
             0.9,
             "#4d9221"
            ],
            [
             1,
             "#276419"
            ]
           ],
           "sequential": [
            [
             0,
             "#0d0887"
            ],
            [
             0.1111111111111111,
             "#46039f"
            ],
            [
             0.2222222222222222,
             "#7201a8"
            ],
            [
             0.3333333333333333,
             "#9c179e"
            ],
            [
             0.4444444444444444,
             "#bd3786"
            ],
            [
             0.5555555555555556,
             "#d8576b"
            ],
            [
             0.6666666666666666,
             "#ed7953"
            ],
            [
             0.7777777777777778,
             "#fb9f3a"
            ],
            [
             0.8888888888888888,
             "#fdca26"
            ],
            [
             1,
             "#f0f921"
            ]
           ],
           "sequentialminus": [
            [
             0,
             "#0d0887"
            ],
            [
             0.1111111111111111,
             "#46039f"
            ],
            [
             0.2222222222222222,
             "#7201a8"
            ],
            [
             0.3333333333333333,
             "#9c179e"
            ],
            [
             0.4444444444444444,
             "#bd3786"
            ],
            [
             0.5555555555555556,
             "#d8576b"
            ],
            [
             0.6666666666666666,
             "#ed7953"
            ],
            [
             0.7777777777777778,
             "#fb9f3a"
            ],
            [
             0.8888888888888888,
             "#fdca26"
            ],
            [
             1,
             "#f0f921"
            ]
           ]
          },
          "colorway": [
           "#636efa",
           "#EF553B",
           "#00cc96",
           "#ab63fa",
           "#FFA15A",
           "#19d3f3",
           "#FF6692",
           "#B6E880",
           "#FF97FF",
           "#FECB52"
          ],
          "font": {
           "color": "#2a3f5f"
          },
          "geo": {
           "bgcolor": "white",
           "lakecolor": "white",
           "landcolor": "#E5ECF6",
           "showlakes": true,
           "showland": true,
           "subunitcolor": "white"
          },
          "hoverlabel": {
           "align": "left"
          },
          "hovermode": "closest",
          "mapbox": {
           "style": "light"
          },
          "paper_bgcolor": "white",
          "plot_bgcolor": "#E5ECF6",
          "polar": {
           "angularaxis": {
            "gridcolor": "white",
            "linecolor": "white",
            "ticks": ""
           },
           "bgcolor": "#E5ECF6",
           "radialaxis": {
            "gridcolor": "white",
            "linecolor": "white",
            "ticks": ""
           }
          },
          "scene": {
           "xaxis": {
            "backgroundcolor": "#E5ECF6",
            "gridcolor": "white",
            "gridwidth": 2,
            "linecolor": "white",
            "showbackground": true,
            "ticks": "",
            "zerolinecolor": "white"
           },
           "yaxis": {
            "backgroundcolor": "#E5ECF6",
            "gridcolor": "white",
            "gridwidth": 2,
            "linecolor": "white",
            "showbackground": true,
            "ticks": "",
            "zerolinecolor": "white"
           },
           "zaxis": {
            "backgroundcolor": "#E5ECF6",
            "gridcolor": "white",
            "gridwidth": 2,
            "linecolor": "white",
            "showbackground": true,
            "ticks": "",
            "zerolinecolor": "white"
           }
          },
          "shapedefaults": {
           "line": {
            "color": "#2a3f5f"
           }
          },
          "ternary": {
           "aaxis": {
            "gridcolor": "white",
            "linecolor": "white",
            "ticks": ""
           },
           "baxis": {
            "gridcolor": "white",
            "linecolor": "white",
            "ticks": ""
           },
           "bgcolor": "#E5ECF6",
           "caxis": {
            "gridcolor": "white",
            "linecolor": "white",
            "ticks": ""
           }
          },
          "title": {
           "x": 0.05
          },
          "xaxis": {
           "automargin": true,
           "gridcolor": "white",
           "linecolor": "white",
           "ticks": "",
           "title": {
            "standoff": 15
           },
           "zerolinecolor": "white",
           "zerolinewidth": 2
          },
          "yaxis": {
           "automargin": true,
           "gridcolor": "white",
           "linecolor": "white",
           "ticks": "",
           "title": {
            "standoff": 15
           },
           "zerolinecolor": "white",
           "zerolinewidth": 2
          }
         }
        },
        "title": {
         "text": "<b>Bus voltage<b>",
         "x": 0.5,
         "xanchor": "center",
         "y": 0.97,
         "yanchor": "top"
        },
        "width": 680,
        "xaxis": {
         "gridcolor": "black",
         "gridwidth": 1,
         "linecolor": "black",
         "linewidth": 2,
         "showgrid": true,
         "showline": true,
         "tickfont": {
          "family": "Arial Black",
          "size": 12
         },
         "tickmode": "array",
         "ticktext": [
          "00h00",
          "04h00",
          "08h00",
          "12h00",
          "16h00",
          "20h00"
         ],
         "tickvals": [
          0,
          16,
          32,
          48,
          64,
          80
         ],
         "title": {
          "font": {
           "size": 12
          },
          "text": "<b>Time<b>"
         },
         "zeroline": false
        },
        "yaxis": {
         "gridcolor": "black",
         "gridwidth": 1,
         "linecolor": "black",
         "linewidth": 2,
         "showgrid": true,
         "showline": true,
         "tickfont": {
          "family": "Arial Black",
          "size": 12
         },
         "title": {
          "font": {
           "size": 12
          },
          "text": "<b>V [pu]<b>"
         },
         "zeroline": false
        }
       }
      },
      "text/html": [
       "<div>                            <div id=\"7e580e76-531d-43a0-9a7a-1e14d9be9bd8\" class=\"plotly-graph-div\" style=\"height:400px; width:680px;\"></div>            <script type=\"text/javascript\">                require([\"plotly\"], function(Plotly) {                    window.PLOTLYENV=window.PLOTLYENV || {};                                    if (document.getElementById(\"7e580e76-531d-43a0-9a7a-1e14d9be9bd8\")) {                    Plotly.newPlot(                        \"7e580e76-531d-43a0-9a7a-1e14d9be9bd8\",                        [{\"hovertemplate\":\"\\u003cb\\u003ebus_1\\u003cbr\\u003eV [pu]: %{y:.2f}\\u003cbr\\u003eTime: %{text}\\u003cb\\u003e\\u003cextra\\u003e\\u003c\\u002fextra\\u003e\",\"mode\":\"lines\",\"name\":\"\\u003cb\\u003ebus_1\\u003cb\\u003e\",\"text\":[\"00h00\",\"00h15\",\"00h30\",\"00h45\",\"01h00\",\"01h15\",\"01h30\",\"01h45\",\"02h00\",\"02h15\",\"02h30\",\"02h45\",\"03h00\",\"03h15\",\"03h30\",\"03h45\",\"04h00\",\"04h15\",\"04h30\",\"04h45\",\"05h00\",\"05h15\",\"05h30\",\"05h45\",\"06h00\",\"06h15\",\"06h30\",\"06h45\",\"07h00\",\"07h15\",\"07h30\",\"07h45\",\"08h00\",\"08h15\",\"08h30\",\"08h45\",\"09h00\",\"09h15\",\"09h30\",\"09h45\",\"10h00\",\"10h15\",\"10h30\",\"10h45\",\"11h00\",\"11h15\",\"11h30\",\"11h45\",\"12h00\",\"12h15\",\"12h30\",\"12h45\",\"13h00\",\"13h15\",\"13h30\",\"13h45\",\"14h00\",\"14h15\",\"14h30\",\"14h45\",\"15h00\",\"15h15\",\"15h30\",\"15h45\",\"16h00\",\"16h15\",\"16h30\",\"16h45\",\"17h00\",\"17h15\",\"17h30\",\"17h45\",\"18h00\",\"18h15\",\"18h30\",\"18h45\",\"19h00\",\"19h15\",\"19h30\",\"19h45\",\"20h00\",\"20h15\",\"20h30\",\"20h45\",\"21h00\",\"21h15\",\"21h30\",\"21h45\",\"22h00\",\"22h15\",\"22h30\",\"22h45\",\"23h00\",\"23h15\",\"23h30\",\"23h45\"],\"x\":[0,1,2,3,4,5,6,7,8,9,10,11,12,13,14,15,16,17,18,19,20,21,22,23,24,25,26,27,28,29,30,31,32,33,34,35,36,37,38,39,40,41,42,43,44,45,46,47,48,49,50,51,52,53,54,55,56,57,58,59,60,61,62,63,64,65,66,67,68,69,70,71,72,73,74,75,76,77,78,79,80,81,82,83,84,85,86,87,88,89,90,91,92,93,94,95],\"y\":[1.0,1.0,1.0,1.0,1.0,1.0,1.0,1.0,1.0,1.0,1.0,1.0,1.0,1.0,1.0,1.0,1.0,1.0,1.0,1.0,1.0,1.0,1.0,1.0,1.0,1.0,1.0,1.0,1.0,1.0,1.0,1.0,1.0,1.0,1.0,1.0,1.0,1.0,1.0,1.0,1.0,1.0,1.0,1.0,1.0,1.0,1.0,1.0,1.0,1.0,1.0,1.0,1.0,1.0,1.0,1.0,1.0,1.0,1.0,1.0,1.0,1.0,1.0,1.0,1.0,1.0,1.0,1.0,1.0,1.0,1.0,1.0,1.0,1.0,1.0,1.0,1.0,1.0,1.0,1.0,1.0,1.0,1.0,1.0,1.0,1.0,1.0,1.0,1.0,1.0,1.0,1.0,1.0,1.0,1.0,1.0],\"type\":\"scatter\"},{\"hovertemplate\":\"\\u003cb\\u003ebus_2\\u003cbr\\u003eV [pu]: %{y:.2f}\\u003cbr\\u003eTime: %{text}\\u003cb\\u003e\\u003cextra\\u003e\\u003c\\u002fextra\\u003e\",\"mode\":\"lines\",\"name\":\"\\u003cb\\u003ebus_2\\u003cb\\u003e\",\"text\":[\"00h00\",\"00h15\",\"00h30\",\"00h45\",\"01h00\",\"01h15\",\"01h30\",\"01h45\",\"02h00\",\"02h15\",\"02h30\",\"02h45\",\"03h00\",\"03h15\",\"03h30\",\"03h45\",\"04h00\",\"04h15\",\"04h30\",\"04h45\",\"05h00\",\"05h15\",\"05h30\",\"05h45\",\"06h00\",\"06h15\",\"06h30\",\"06h45\",\"07h00\",\"07h15\",\"07h30\",\"07h45\",\"08h00\",\"08h15\",\"08h30\",\"08h45\",\"09h00\",\"09h15\",\"09h30\",\"09h45\",\"10h00\",\"10h15\",\"10h30\",\"10h45\",\"11h00\",\"11h15\",\"11h30\",\"11h45\",\"12h00\",\"12h15\",\"12h30\",\"12h45\",\"13h00\",\"13h15\",\"13h30\",\"13h45\",\"14h00\",\"14h15\",\"14h30\",\"14h45\",\"15h00\",\"15h15\",\"15h30\",\"15h45\",\"16h00\",\"16h15\",\"16h30\",\"16h45\",\"17h00\",\"17h15\",\"17h30\",\"17h45\",\"18h00\",\"18h15\",\"18h30\",\"18h45\",\"19h00\",\"19h15\",\"19h30\",\"19h45\",\"20h00\",\"20h15\",\"20h30\",\"20h45\",\"21h00\",\"21h15\",\"21h30\",\"21h45\",\"22h00\",\"22h15\",\"22h30\",\"22h45\",\"23h00\",\"23h15\",\"23h30\",\"23h45\"],\"x\":[0,1,2,3,4,5,6,7,8,9,10,11,12,13,14,15,16,17,18,19,20,21,22,23,24,25,26,27,28,29,30,31,32,33,34,35,36,37,38,39,40,41,42,43,44,45,46,47,48,49,50,51,52,53,54,55,56,57,58,59,60,61,62,63,64,65,66,67,68,69,70,71,72,73,74,75,76,77,78,79,80,81,82,83,84,85,86,87,88,89,90,91,92,93,94,95],\"y\":[1.0500000000000007,1.05,1.05,1.05,1.05,1.05,1.05,1.0499999999999998,1.0500000000000003,1.05,1.0500000000000003,1.05,1.05,1.05,1.0499999999999998,1.05,1.0499999999999998,1.0499999999999998,1.0499999999999996,1.0500000000000003,1.05,1.0499999999999998,1.05,1.05,1.05,1.05,1.05,1.0499999999999998,1.0500000000000003,1.0499999999999998,1.0499999999999998,1.0499999999999996,1.0499999999999998,1.05,1.0499999999999998,1.0500000000000003,1.0500000000000003,1.0499999999999998,1.0499999999999998,1.0500000000000003,1.0499999999999998,1.0499999999999998,1.05,1.05,1.0499999999999998,1.0500000000000003,1.0500000000000005,1.0499999999999998,1.05,1.05,1.05,1.05,1.0500000000000003,1.0499999999999998,1.05,1.0499999999999998,1.0500000000000003,1.0499999999999998,1.0500000000000003,1.0500000000000003,1.0500000000000003,1.05,1.05,1.0500000000000003,1.0499999999999998,1.05,1.05,1.05,1.05,1.0499999999999998,1.05,1.05,1.0499999999999998,1.05,1.0500000000000003,1.05,1.05,1.05,1.0499999999999998,1.0499999999999998,1.05,1.0499999999999998,1.05,1.0499999999999998,1.05,1.05,1.05,1.0500000000000003,1.05,1.0500000000000005,1.05,1.0500000000000003,1.0499999999999998,1.05,1.0500000000000003,1.05],\"type\":\"scatter\"},{\"hovertemplate\":\"\\u003cb\\u003ebus_3\\u003cbr\\u003eV [pu]: %{y:.2f}\\u003cbr\\u003eTime: %{text}\\u003cb\\u003e\\u003cextra\\u003e\\u003c\\u002fextra\\u003e\",\"mode\":\"lines\",\"name\":\"\\u003cb\\u003ebus_3\\u003cb\\u003e\",\"text\":[\"00h00\",\"00h15\",\"00h30\",\"00h45\",\"01h00\",\"01h15\",\"01h30\",\"01h45\",\"02h00\",\"02h15\",\"02h30\",\"02h45\",\"03h00\",\"03h15\",\"03h30\",\"03h45\",\"04h00\",\"04h15\",\"04h30\",\"04h45\",\"05h00\",\"05h15\",\"05h30\",\"05h45\",\"06h00\",\"06h15\",\"06h30\",\"06h45\",\"07h00\",\"07h15\",\"07h30\",\"07h45\",\"08h00\",\"08h15\",\"08h30\",\"08h45\",\"09h00\",\"09h15\",\"09h30\",\"09h45\",\"10h00\",\"10h15\",\"10h30\",\"10h45\",\"11h00\",\"11h15\",\"11h30\",\"11h45\",\"12h00\",\"12h15\",\"12h30\",\"12h45\",\"13h00\",\"13h15\",\"13h30\",\"13h45\",\"14h00\",\"14h15\",\"14h30\",\"14h45\",\"15h00\",\"15h15\",\"15h30\",\"15h45\",\"16h00\",\"16h15\",\"16h30\",\"16h45\",\"17h00\",\"17h15\",\"17h30\",\"17h45\",\"18h00\",\"18h15\",\"18h30\",\"18h45\",\"19h00\",\"19h15\",\"19h30\",\"19h45\",\"20h00\",\"20h15\",\"20h30\",\"20h45\",\"21h00\",\"21h15\",\"21h30\",\"21h45\",\"22h00\",\"22h15\",\"22h30\",\"22h45\",\"23h00\",\"23h15\",\"23h30\",\"23h45\"],\"x\":[0,1,2,3,4,5,6,7,8,9,10,11,12,13,14,15,16,17,18,19,20,21,22,23,24,25,26,27,28,29,30,31,32,33,34,35,36,37,38,39,40,41,42,43,44,45,46,47,48,49,50,51,52,53,54,55,56,57,58,59,60,61,62,63,64,65,66,67,68,69,70,71,72,73,74,75,76,77,78,79,80,81,82,83,84,85,86,87,88,89,90,91,92,93,94,95],\"y\":[1.091703668046319,1.09568848723859,1.0990035469398325,1.1017118751719255,1.1036574751091555,1.1049952643696848,1.105856980204843,1.1064091204845017,1.106758265507201,1.1070066017949376,1.1071056909832167,1.107254062202158,1.1074021186180152,1.1075006481559213,1.10764818057972,1.10764818057972,1.107599038007838,1.1074021186180667,1.1071551830534556,1.1068080029042362,1.1063591020176473,1.1052497728146833,1.1028746684172244,1.09850626857997,1.091463690466983,1.0821336021638015,1.0715876236057784,1.061330384131532,1.0530596869966606,1.0470930025781358,1.0433280827825149,1.0414064498525515,1.0408525182932307,1.041406449854237,1.0429640977163703,1.0451337767775806,1.0477985241300016,1.0504981236236126,1.0531442234942816,1.05524009390513,1.0566462278031858,1.0575479678330264,1.057955760124145,1.0579557601241452,1.057629630446072,1.0568927857902595,1.0554893482471472,1.0531442234942818,1.0498066283192322,1.0461168992438588,1.0430551835214554,1.0414064498525517,1.0419581968834328,1.0442338826870765,1.0475343830537582,1.051014405924328,1.0542382709791842,1.0570568953442085,1.0595739852712693,1.0619630054839746,1.0641520360326442,1.065997645715138,1.0675143558277842,1.0683403938904452,1.0684899655082725,1.0677402098231539,1.0659213045833853,1.0625924190020333,1.0577112409504723,1.051271798615502,1.043418929991434,1.034321391365175,1.024196722396328,1.0136704956948688,1.0033254108138616,0.993900453224627,0.9864147031170266,0.9817231723173754,0.980768312087039,0.984152966541978,0.9916144242157855,1.0015327956782747,1.0117684141751657,1.0208392683495895,1.0277846268160755,1.0332520984133142,1.0380496781773723,1.0428729521320355,1.0482376180244137,1.0539866083089664,1.0598951625972928,1.065844915060176,1.0715876236056765,1.077126373387167,1.0823316631983062,1.087224414943371],\"type\":\"scatter\"},{\"hovertemplate\":\"\\u003cb\\u003ebus_4\\u003cbr\\u003eV [pu]: %{y:.2f}\\u003cbr\\u003eTime: %{text}\\u003cb\\u003e\\u003cextra\\u003e\\u003c\\u002fextra\\u003e\",\"mode\":\"lines\",\"name\":\"\\u003cb\\u003ebus_4\\u003cb\\u003e\",\"text\":[\"00h00\",\"00h15\",\"00h30\",\"00h45\",\"01h00\",\"01h15\",\"01h30\",\"01h45\",\"02h00\",\"02h15\",\"02h30\",\"02h45\",\"03h00\",\"03h15\",\"03h30\",\"03h45\",\"04h00\",\"04h15\",\"04h30\",\"04h45\",\"05h00\",\"05h15\",\"05h30\",\"05h45\",\"06h00\",\"06h15\",\"06h30\",\"06h45\",\"07h00\",\"07h15\",\"07h30\",\"07h45\",\"08h00\",\"08h15\",\"08h30\",\"08h45\",\"09h00\",\"09h15\",\"09h30\",\"09h45\",\"10h00\",\"10h15\",\"10h30\",\"10h45\",\"11h00\",\"11h15\",\"11h30\",\"11h45\",\"12h00\",\"12h15\",\"12h30\",\"12h45\",\"13h00\",\"13h15\",\"13h30\",\"13h45\",\"14h00\",\"14h15\",\"14h30\",\"14h45\",\"15h00\",\"15h15\",\"15h30\",\"15h45\",\"16h00\",\"16h15\",\"16h30\",\"16h45\",\"17h00\",\"17h15\",\"17h30\",\"17h45\",\"18h00\",\"18h15\",\"18h30\",\"18h45\",\"19h00\",\"19h15\",\"19h30\",\"19h45\",\"20h00\",\"20h15\",\"20h30\",\"20h45\",\"21h00\",\"21h15\",\"21h30\",\"21h45\",\"22h00\",\"22h15\",\"22h30\",\"22h45\",\"23h00\",\"23h15\",\"23h30\",\"23h45\"],\"x\":[0,1,2,3,4,5,6,7,8,9,10,11,12,13,14,15,16,17,18,19,20,21,22,23,24,25,26,27,28,29,30,31,32,33,34,35,36,37,38,39,40,41,42,43,44,45,46,47,48,49,50,51,52,53,54,55,56,57,58,59,60,61,62,63,64,65,66,67,68,69,70,71,72,73,74,75,76,77,78,79,80,81,82,83,84,85,86,87,88,89,90,91,92,93,94,95],\"y\":[1.0294926725618336,1.029937781949261,1.030307630837175,1.0306094693290948,1.0308261162452812,1.030974987490208,1.0310708384206675,1.031132236701655,1.0311710545488302,1.031198661052946,1.0312096755760025,1.0312261673106273,1.031242623017924,1.031253573492343,1.0312699692352905,1.0312699692352905,1.0312645079816711,1.0312426230179297,1.031215176826198,1.0311765838776148,1.0311266751999002,1.0310033006163521,1.0307389682579997,1.0302521782504133,1.029465848739268,1.0284214712091342,1.0272377287406607,1.0260833466326347,1.0251504750765175,1.0244763798272267,1.0240505694250992,1.023833097555738,1.023770391946039,1.0238330975559355,1.0240093841445237,1.0242548367234072,1.024556134339673,1.0248611897082978,1.025160019174884,1.0253965820826618,1.0255552297887263,1.025656941809973,1.0257029318445332,1.0257029318445332,1.0256661519134698,1.025583042484163,1.0254247080780305,1.0251600191748844,1.0247830682160526,1.024366017174447,1.0240196909050734,1.023833097555738,1.0238955483304317,1.0241530472889693,1.0245262764209684,1.0249195086074394,1.0252835195572125,1.0256015537943062,1.0258853889341615,1.0261546270248143,1.026401192094868,1.0266089742358036,1.0267796582402227,1.0268725902011548,1.0268894154622699,1.026805069430796,1.0266003814590294,1.0262255353066347,1.0256753559649052,1.0249485809672179,1.0240608483653277,1.0230304937863461,1.0218814514069838,1.020684261472191,1.019505165338765,1.0184288122712566,1.0175724929678,1.0170351748718027,1.0169257553855182,1.0173135188700728,1.0181674394111746,1.0193005997841635,1.0204676541906084,1.0214998772098345,1.022288921041866,1.0229092567344558,1.0234529917255701,1.0239990704132957,1.0246057646346,1.0252551136253707,1.0259215938676831,1.0265917830752205,1.027237728740648,1.027859842582715,1.0284436706321436,1.028991673497071],\"type\":\"scatter\"},{\"hovertemplate\":\"\\u003cb\\u003ebus_5\\u003cbr\\u003eV [pu]: %{y:.2f}\\u003cbr\\u003eTime: %{text}\\u003cb\\u003e\\u003cextra\\u003e\\u003c\\u002fextra\\u003e\",\"mode\":\"lines\",\"name\":\"\\u003cb\\u003ebus_5\\u003cb\\u003e\",\"text\":[\"00h00\",\"00h15\",\"00h30\",\"00h45\",\"01h00\",\"01h15\",\"01h30\",\"01h45\",\"02h00\",\"02h15\",\"02h30\",\"02h45\",\"03h00\",\"03h15\",\"03h30\",\"03h45\",\"04h00\",\"04h15\",\"04h30\",\"04h45\",\"05h00\",\"05h15\",\"05h30\",\"05h45\",\"06h00\",\"06h15\",\"06h30\",\"06h45\",\"07h00\",\"07h15\",\"07h30\",\"07h45\",\"08h00\",\"08h15\",\"08h30\",\"08h45\",\"09h00\",\"09h15\",\"09h30\",\"09h45\",\"10h00\",\"10h15\",\"10h30\",\"10h45\",\"11h00\",\"11h15\",\"11h30\",\"11h45\",\"12h00\",\"12h15\",\"12h30\",\"12h45\",\"13h00\",\"13h15\",\"13h30\",\"13h45\",\"14h00\",\"14h15\",\"14h30\",\"14h45\",\"15h00\",\"15h15\",\"15h30\",\"15h45\",\"16h00\",\"16h15\",\"16h30\",\"16h45\",\"17h00\",\"17h15\",\"17h30\",\"17h45\",\"18h00\",\"18h15\",\"18h30\",\"18h45\",\"19h00\",\"19h15\",\"19h30\",\"19h45\",\"20h00\",\"20h15\",\"20h30\",\"20h45\",\"21h00\",\"21h15\",\"21h30\",\"21h45\",\"22h00\",\"22h15\",\"22h30\",\"22h45\",\"23h00\",\"23h15\",\"23h30\",\"23h45\"],\"x\":[0,1,2,3,4,5,6,7,8,9,10,11,12,13,14,15,16,17,18,19,20,21,22,23,24,25,26,27,28,29,30,31,32,33,34,35,36,37,38,39,40,41,42,43,44,45,46,47,48,49,50,51,52,53,54,55,56,57,58,59,60,61,62,63,64,65,66,67,68,69,70,71,72,73,74,75,76,77,78,79,80,81,82,83,84,85,86,87,88,89,90,91,92,93,94,95],\"y\":[1.0000000000000004,0.9999999999999999,1.0,1.0000000000000002,1.0,1.0,1.0000000000000002,0.9999999999999999,1.0,1.0000000000000002,0.9999999999999998,1.0000000000000002,1.0,1.0,0.9999999999999998,1.0000000000000002,1.0,1.0,1.0,1.0000000000000002,0.9999999999999998,1.0000000000000002,1.0000000000000002,1.0,1.0000000000000002,0.9999999999999998,1.0,1.0000000000000004,1.0000000000000002,0.9999999999999999,1.0000000000000002,0.9999999999999999,1.0000000000000002,0.9999999999999998,1.0000000000000002,1.0,0.9999999999999999,1.0000000000000002,0.9999999999999998,0.9999999999999998,1.0000000000000004,1.0,0.9999999999999999,1.0,1.0,1.0,1.0,1.0,1.0000000000000002,0.9999999999999999,1.0,0.9999999999999999,1.0000000000000002,1.0,1.0,1.0000000000000002,1.0,0.9999999999999999,0.9999999999999999,1.0000000000000002,1.0000000000000002,1.0000000000000002,1.0,0.9999999999999999,0.9999999999999999,1.0,0.9999999999999998,0.9999999999999999,0.9999999999999997,0.9999999999999998,1.0,0.9999999999999999,1.0,0.9999999999999999,1.0,1.0,0.9999999999999999,1.0000000000000002,1.0,1.0,1.0000000000000002,0.9999999999999997,1.0,1.0,1.0000000000000002,0.9999999999999999,1.0,1.0,1.0,0.9999999999999998,1.0000000000000002,0.9999999999999999,0.9999999999999998,1.0000000000000004,1.0000000000000002,0.9999999999999999],\"type\":\"scatter\"}],                        {\"template\":{\"data\":{\"histogram2dcontour\":[{\"type\":\"histogram2dcontour\",\"colorbar\":{\"outlinewidth\":0,\"ticks\":\"\"},\"colorscale\":[[0.0,\"#0d0887\"],[0.1111111111111111,\"#46039f\"],[0.2222222222222222,\"#7201a8\"],[0.3333333333333333,\"#9c179e\"],[0.4444444444444444,\"#bd3786\"],[0.5555555555555556,\"#d8576b\"],[0.6666666666666666,\"#ed7953\"],[0.7777777777777778,\"#fb9f3a\"],[0.8888888888888888,\"#fdca26\"],[1.0,\"#f0f921\"]]}],\"choropleth\":[{\"type\":\"choropleth\",\"colorbar\":{\"outlinewidth\":0,\"ticks\":\"\"}}],\"histogram2d\":[{\"type\":\"histogram2d\",\"colorbar\":{\"outlinewidth\":0,\"ticks\":\"\"},\"colorscale\":[[0.0,\"#0d0887\"],[0.1111111111111111,\"#46039f\"],[0.2222222222222222,\"#7201a8\"],[0.3333333333333333,\"#9c179e\"],[0.4444444444444444,\"#bd3786\"],[0.5555555555555556,\"#d8576b\"],[0.6666666666666666,\"#ed7953\"],[0.7777777777777778,\"#fb9f3a\"],[0.8888888888888888,\"#fdca26\"],[1.0,\"#f0f921\"]]}],\"heatmap\":[{\"type\":\"heatmap\",\"colorbar\":{\"outlinewidth\":0,\"ticks\":\"\"},\"colorscale\":[[0.0,\"#0d0887\"],[0.1111111111111111,\"#46039f\"],[0.2222222222222222,\"#7201a8\"],[0.3333333333333333,\"#9c179e\"],[0.4444444444444444,\"#bd3786\"],[0.5555555555555556,\"#d8576b\"],[0.6666666666666666,\"#ed7953\"],[0.7777777777777778,\"#fb9f3a\"],[0.8888888888888888,\"#fdca26\"],[1.0,\"#f0f921\"]]}],\"heatmapgl\":[{\"type\":\"heatmapgl\",\"colorbar\":{\"outlinewidth\":0,\"ticks\":\"\"},\"colorscale\":[[0.0,\"#0d0887\"],[0.1111111111111111,\"#46039f\"],[0.2222222222222222,\"#7201a8\"],[0.3333333333333333,\"#9c179e\"],[0.4444444444444444,\"#bd3786\"],[0.5555555555555556,\"#d8576b\"],[0.6666666666666666,\"#ed7953\"],[0.7777777777777778,\"#fb9f3a\"],[0.8888888888888888,\"#fdca26\"],[1.0,\"#f0f921\"]]}],\"contourcarpet\":[{\"type\":\"contourcarpet\",\"colorbar\":{\"outlinewidth\":0,\"ticks\":\"\"}}],\"contour\":[{\"type\":\"contour\",\"colorbar\":{\"outlinewidth\":0,\"ticks\":\"\"},\"colorscale\":[[0.0,\"#0d0887\"],[0.1111111111111111,\"#46039f\"],[0.2222222222222222,\"#7201a8\"],[0.3333333333333333,\"#9c179e\"],[0.4444444444444444,\"#bd3786\"],[0.5555555555555556,\"#d8576b\"],[0.6666666666666666,\"#ed7953\"],[0.7777777777777778,\"#fb9f3a\"],[0.8888888888888888,\"#fdca26\"],[1.0,\"#f0f921\"]]}],\"surface\":[{\"type\":\"surface\",\"colorbar\":{\"outlinewidth\":0,\"ticks\":\"\"},\"colorscale\":[[0.0,\"#0d0887\"],[0.1111111111111111,\"#46039f\"],[0.2222222222222222,\"#7201a8\"],[0.3333333333333333,\"#9c179e\"],[0.4444444444444444,\"#bd3786\"],[0.5555555555555556,\"#d8576b\"],[0.6666666666666666,\"#ed7953\"],[0.7777777777777778,\"#fb9f3a\"],[0.8888888888888888,\"#fdca26\"],[1.0,\"#f0f921\"]]}],\"mesh3d\":[{\"type\":\"mesh3d\",\"colorbar\":{\"outlinewidth\":0,\"ticks\":\"\"}}],\"scatter\":[{\"fillpattern\":{\"fillmode\":\"overlay\",\"size\":10,\"solidity\":0.2},\"type\":\"scatter\"}],\"parcoords\":[{\"type\":\"parcoords\",\"line\":{\"colorbar\":{\"outlinewidth\":0,\"ticks\":\"\"}}}],\"scatterpolargl\":[{\"type\":\"scatterpolargl\",\"marker\":{\"colorbar\":{\"outlinewidth\":0,\"ticks\":\"\"}}}],\"bar\":[{\"error_x\":{\"color\":\"#2a3f5f\"},\"error_y\":{\"color\":\"#2a3f5f\"},\"marker\":{\"line\":{\"color\":\"#E5ECF6\",\"width\":0.5},\"pattern\":{\"fillmode\":\"overlay\",\"size\":10,\"solidity\":0.2}},\"type\":\"bar\"}],\"scattergeo\":[{\"type\":\"scattergeo\",\"marker\":{\"colorbar\":{\"outlinewidth\":0,\"ticks\":\"\"}}}],\"scatterpolar\":[{\"type\":\"scatterpolar\",\"marker\":{\"colorbar\":{\"outlinewidth\":0,\"ticks\":\"\"}}}],\"histogram\":[{\"marker\":{\"pattern\":{\"fillmode\":\"overlay\",\"size\":10,\"solidity\":0.2}},\"type\":\"histogram\"}],\"scattergl\":[{\"type\":\"scattergl\",\"marker\":{\"colorbar\":{\"outlinewidth\":0,\"ticks\":\"\"}}}],\"scatter3d\":[{\"type\":\"scatter3d\",\"line\":{\"colorbar\":{\"outlinewidth\":0,\"ticks\":\"\"}},\"marker\":{\"colorbar\":{\"outlinewidth\":0,\"ticks\":\"\"}}}],\"scattermapbox\":[{\"type\":\"scattermapbox\",\"marker\":{\"colorbar\":{\"outlinewidth\":0,\"ticks\":\"\"}}}],\"scatterternary\":[{\"type\":\"scatterternary\",\"marker\":{\"colorbar\":{\"outlinewidth\":0,\"ticks\":\"\"}}}],\"scattercarpet\":[{\"type\":\"scattercarpet\",\"marker\":{\"colorbar\":{\"outlinewidth\":0,\"ticks\":\"\"}}}],\"carpet\":[{\"aaxis\":{\"endlinecolor\":\"#2a3f5f\",\"gridcolor\":\"white\",\"linecolor\":\"white\",\"minorgridcolor\":\"white\",\"startlinecolor\":\"#2a3f5f\"},\"baxis\":{\"endlinecolor\":\"#2a3f5f\",\"gridcolor\":\"white\",\"linecolor\":\"white\",\"minorgridcolor\":\"white\",\"startlinecolor\":\"#2a3f5f\"},\"type\":\"carpet\"}],\"table\":[{\"cells\":{\"fill\":{\"color\":\"#EBF0F8\"},\"line\":{\"color\":\"white\"}},\"header\":{\"fill\":{\"color\":\"#C8D4E3\"},\"line\":{\"color\":\"white\"}},\"type\":\"table\"}],\"barpolar\":[{\"marker\":{\"line\":{\"color\":\"#E5ECF6\",\"width\":0.5},\"pattern\":{\"fillmode\":\"overlay\",\"size\":10,\"solidity\":0.2}},\"type\":\"barpolar\"}],\"pie\":[{\"automargin\":true,\"type\":\"pie\"}]},\"layout\":{\"autotypenumbers\":\"strict\",\"colorway\":[\"#636efa\",\"#EF553B\",\"#00cc96\",\"#ab63fa\",\"#FFA15A\",\"#19d3f3\",\"#FF6692\",\"#B6E880\",\"#FF97FF\",\"#FECB52\"],\"font\":{\"color\":\"#2a3f5f\"},\"hovermode\":\"closest\",\"hoverlabel\":{\"align\":\"left\"},\"paper_bgcolor\":\"white\",\"plot_bgcolor\":\"#E5ECF6\",\"polar\":{\"bgcolor\":\"#E5ECF6\",\"angularaxis\":{\"gridcolor\":\"white\",\"linecolor\":\"white\",\"ticks\":\"\"},\"radialaxis\":{\"gridcolor\":\"white\",\"linecolor\":\"white\",\"ticks\":\"\"}},\"ternary\":{\"bgcolor\":\"#E5ECF6\",\"aaxis\":{\"gridcolor\":\"white\",\"linecolor\":\"white\",\"ticks\":\"\"},\"baxis\":{\"gridcolor\":\"white\",\"linecolor\":\"white\",\"ticks\":\"\"},\"caxis\":{\"gridcolor\":\"white\",\"linecolor\":\"white\",\"ticks\":\"\"}},\"coloraxis\":{\"colorbar\":{\"outlinewidth\":0,\"ticks\":\"\"}},\"colorscale\":{\"sequential\":[[0.0,\"#0d0887\"],[0.1111111111111111,\"#46039f\"],[0.2222222222222222,\"#7201a8\"],[0.3333333333333333,\"#9c179e\"],[0.4444444444444444,\"#bd3786\"],[0.5555555555555556,\"#d8576b\"],[0.6666666666666666,\"#ed7953\"],[0.7777777777777778,\"#fb9f3a\"],[0.8888888888888888,\"#fdca26\"],[1.0,\"#f0f921\"]],\"sequentialminus\":[[0.0,\"#0d0887\"],[0.1111111111111111,\"#46039f\"],[0.2222222222222222,\"#7201a8\"],[0.3333333333333333,\"#9c179e\"],[0.4444444444444444,\"#bd3786\"],[0.5555555555555556,\"#d8576b\"],[0.6666666666666666,\"#ed7953\"],[0.7777777777777778,\"#fb9f3a\"],[0.8888888888888888,\"#fdca26\"],[1.0,\"#f0f921\"]],\"diverging\":[[0,\"#8e0152\"],[0.1,\"#c51b7d\"],[0.2,\"#de77ae\"],[0.3,\"#f1b6da\"],[0.4,\"#fde0ef\"],[0.5,\"#f7f7f7\"],[0.6,\"#e6f5d0\"],[0.7,\"#b8e186\"],[0.8,\"#7fbc41\"],[0.9,\"#4d9221\"],[1,\"#276419\"]]},\"xaxis\":{\"gridcolor\":\"white\",\"linecolor\":\"white\",\"ticks\":\"\",\"title\":{\"standoff\":15},\"zerolinecolor\":\"white\",\"automargin\":true,\"zerolinewidth\":2},\"yaxis\":{\"gridcolor\":\"white\",\"linecolor\":\"white\",\"ticks\":\"\",\"title\":{\"standoff\":15},\"zerolinecolor\":\"white\",\"automargin\":true,\"zerolinewidth\":2},\"scene\":{\"xaxis\":{\"backgroundcolor\":\"#E5ECF6\",\"gridcolor\":\"white\",\"linecolor\":\"white\",\"showbackground\":true,\"ticks\":\"\",\"zerolinecolor\":\"white\",\"gridwidth\":2},\"yaxis\":{\"backgroundcolor\":\"#E5ECF6\",\"gridcolor\":\"white\",\"linecolor\":\"white\",\"showbackground\":true,\"ticks\":\"\",\"zerolinecolor\":\"white\",\"gridwidth\":2},\"zaxis\":{\"backgroundcolor\":\"#E5ECF6\",\"gridcolor\":\"white\",\"linecolor\":\"white\",\"showbackground\":true,\"ticks\":\"\",\"zerolinecolor\":\"white\",\"gridwidth\":2}},\"shapedefaults\":{\"line\":{\"color\":\"#2a3f5f\"}},\"annotationdefaults\":{\"arrowcolor\":\"#2a3f5f\",\"arrowhead\":0,\"arrowwidth\":1},\"geo\":{\"bgcolor\":\"white\",\"landcolor\":\"#E5ECF6\",\"subunitcolor\":\"white\",\"showland\":true,\"showlakes\":true,\"lakecolor\":\"white\"},\"title\":{\"x\":0.05},\"mapbox\":{\"style\":\"light\"}}},\"font\":{\"size\":15},\"xaxis\":{\"tickfont\":{\"size\":12,\"family\":\"Arial Black\"},\"title\":{\"text\":\"\\u003cb\\u003eTime\\u003cb\\u003e\",\"font\":{\"size\":12}},\"zeroline\":false,\"tickmode\":\"array\",\"tickvals\":[0,16,32,48,64,80],\"ticktext\":[\"00h00\",\"04h00\",\"08h00\",\"12h00\",\"16h00\",\"20h00\"],\"showline\":true,\"showgrid\":true,\"gridwidth\":1,\"linewidth\":2,\"linecolor\":\"black\",\"gridcolor\":\"black\"},\"yaxis\":{\"tickfont\":{\"size\":12,\"family\":\"Arial Black\"},\"title\":{\"text\":\"\\u003cb\\u003eV [pu]\\u003cb\\u003e\",\"font\":{\"size\":12}},\"zeroline\":false,\"showline\":true,\"showgrid\":true,\"gridwidth\":1,\"linewidth\":2,\"linecolor\":\"black\",\"gridcolor\":\"black\"},\"margin\":{\"t\":30},\"legend\":{\"font\":{\"size\":12}},\"paper_bgcolor\":\"white\",\"plot_bgcolor\":\"white\",\"width\":680,\"height\":400,\"title\":{\"text\":\"\\u003cb\\u003eBus voltage\\u003cb\\u003e\",\"y\":0.97,\"x\":0.5,\"xanchor\":\"center\",\"yanchor\":\"top\"}},                        {\"responsive\": true}                    ).then(function(){\n",
       "                            \n",
       "var gd = document.getElementById('7e580e76-531d-43a0-9a7a-1e14d9be9bd8');\n",
       "var x = new MutationObserver(function (mutations, observer) {{\n",
       "        var display = window.getComputedStyle(gd).display;\n",
       "        if (!display || display === 'none') {{\n",
       "            console.log([gd, 'removed!']);\n",
       "            Plotly.purge(gd);\n",
       "            observer.disconnect();\n",
       "        }}\n",
       "}});\n",
       "\n",
       "// Listen for the removal of the full notebook cells\n",
       "var notebookContainer = gd.closest('#notebook-container');\n",
       "if (notebookContainer) {{\n",
       "    x.observe(notebookContainer, {childList: true});\n",
       "}}\n",
       "\n",
       "// Listen for the clearing of the current output cell\n",
       "var outputEl = gd.closest('.output');\n",
       "if (outputEl) {{\n",
       "    x.observe(outputEl, {childList: true});\n",
       "}}\n",
       "\n",
       "                        })                };                });            </script>        </div>"
      ]
     },
     "metadata": {},
     "output_type": "display_data"
    }
   ],
   "source": [
    "pp_plot.plot_timeseries_result(data_df=result_df[\"res_bus.vm_pu\"], ylabel=\"V [pu]\",\n",
    "                       plot_title=\"Bus voltage\", filename= \"voltage_result\")"
   ]
  },
  {
   "cell_type": "code",
   "execution_count": 233,
   "metadata": {},
   "outputs": [
    {
     "data": {
      "application/vnd.plotly.v1+json": {
       "config": {
        "plotlyServerURL": "https://plot.ly"
       },
       "data": [
        {
         "hovertemplate": "<b>line_a<br>[%]: %{y:.2f}<br>Time: %{text}<b><extra></extra>",
         "mode": "lines",
         "name": "<b>line_a<b>",
         "text": [
          "00h00",
          "00h15",
          "00h30",
          "00h45",
          "01h00",
          "01h15",
          "01h30",
          "01h45",
          "02h00",
          "02h15",
          "02h30",
          "02h45",
          "03h00",
          "03h15",
          "03h30",
          "03h45",
          "04h00",
          "04h15",
          "04h30",
          "04h45",
          "05h00",
          "05h15",
          "05h30",
          "05h45",
          "06h00",
          "06h15",
          "06h30",
          "06h45",
          "07h00",
          "07h15",
          "07h30",
          "07h45",
          "08h00",
          "08h15",
          "08h30",
          "08h45",
          "09h00",
          "09h15",
          "09h30",
          "09h45",
          "10h00",
          "10h15",
          "10h30",
          "10h45",
          "11h00",
          "11h15",
          "11h30",
          "11h45",
          "12h00",
          "12h15",
          "12h30",
          "12h45",
          "13h00",
          "13h15",
          "13h30",
          "13h45",
          "14h00",
          "14h15",
          "14h30",
          "14h45",
          "15h00",
          "15h15",
          "15h30",
          "15h45",
          "16h00",
          "16h15",
          "16h30",
          "16h45",
          "17h00",
          "17h15",
          "17h30",
          "17h45",
          "18h00",
          "18h15",
          "18h30",
          "18h45",
          "19h00",
          "19h15",
          "19h30",
          "19h45",
          "20h00",
          "20h15",
          "20h30",
          "20h45",
          "21h00",
          "21h15",
          "21h30",
          "21h45",
          "22h00",
          "22h15",
          "22h30",
          "22h45",
          "23h00",
          "23h15",
          "23h30",
          "23h45"
         ],
         "type": "scatter",
         "x": [
          0,
          1,
          2,
          3,
          4,
          5,
          6,
          7,
          8,
          9,
          10,
          11,
          12,
          13,
          14,
          15,
          16,
          17,
          18,
          19,
          20,
          21,
          22,
          23,
          24,
          25,
          26,
          27,
          28,
          29,
          30,
          31,
          32,
          33,
          34,
          35,
          36,
          37,
          38,
          39,
          40,
          41,
          42,
          43,
          44,
          45,
          46,
          47,
          48,
          49,
          50,
          51,
          52,
          53,
          54,
          55,
          56,
          57,
          58,
          59,
          60,
          61,
          62,
          63,
          64,
          65,
          66,
          67,
          68,
          69,
          70,
          71,
          72,
          73,
          74,
          75,
          76,
          77,
          78,
          79,
          80,
          81,
          82,
          83,
          84,
          85,
          86,
          87,
          88,
          89,
          90,
          91,
          92,
          93,
          94,
          95
         ],
         "y": [
          17.141524272235298,
          17.819829230201517,
          18.416278527458722,
          18.927047503776844,
          19.307955788361983,
          19.57704895676381,
          19.75361213732752,
          19.868113911397188,
          19.941081670226573,
          19.993250138158135,
          20.01412881828951,
          20.04545889542002,
          20.07680340028913,
          20.097707729892086,
          20.129076180512765,
          20.12907618051277,
          20.118618438353966,
          20.076803400288934,
          20.024570571438126,
          19.951512130383055,
          19.857696461475413,
          19.628929202072698,
          19.153241128175242,
          18.324845214167617,
          17.10194848759718,
          15.666153043963552,
          14.260607303521164,
          13.089027299752445,
          12.273386980973463,
          11.752935786367095,
          11.453001434167957,
          11.308262559931348,
          11.267578890905295,
          11.308262559933995,
          11.425155056683428,
          11.594136128860143,
          11.811572857872942,
          12.04310160460248,
          12.281164222003177,
          12.477634614589892,
          12.613409921959818,
          12.702169502502478,
          12.742744577431,
          12.742744577431,
          12.710273120826699,
          12.637547523624884,
          12.501469437825593,
          12.281164222003177,
          11.982710026370102,
          11.673080565573255,
          11.432104574173783,
          11.308262559931377,
          11.349247113447404,
          11.523176083207952,
          11.789529237616794,
          12.088681151141502,
          12.382844051800312,
          12.653668358651327,
          12.906446435098065,
          13.156050201908865,
          13.39317418488862,
          13.59944860770487,
          13.773376801296951,
          13.869796723738245,
          13.88738426901116,
          13.799620505625967,
          13.590799966262582,
          13.223400482881445,
          12.718382449146581,
          12.111561747689285,
          11.459983102820836,
          10.822540212813413,
          10.255984353890678,
          9.819468048486456,
          9.532807841954858,
          9.384621055043302,
          9.336424820385215,
          9.334696113055617,
          9.336857881094044,
          9.332983003477665,
          9.363694177565256,
          9.496654582379321,
          9.756487802847154,
          10.10026055868121,
          10.439915367687851,
          10.75569632068846,
          11.06880156336318,
          11.418213617439756,
          11.848456857747392,
          12.359285292326168,
          12.939450645258017,
          13.582155940971663,
          14.260607303521198,
          14.971936544423867,
          15.694658253135252,
          16.425371890322477
         ]
        },
        {
         "hovertemplate": "<b>line_b<br>[%]: %{y:.2f}<br>Time: %{text}<b><extra></extra>",
         "mode": "lines",
         "name": "<b>line_b<b>",
         "text": [
          "00h00",
          "00h15",
          "00h30",
          "00h45",
          "01h00",
          "01h15",
          "01h30",
          "01h45",
          "02h00",
          "02h15",
          "02h30",
          "02h45",
          "03h00",
          "03h15",
          "03h30",
          "03h45",
          "04h00",
          "04h15",
          "04h30",
          "04h45",
          "05h00",
          "05h15",
          "05h30",
          "05h45",
          "06h00",
          "06h15",
          "06h30",
          "06h45",
          "07h00",
          "07h15",
          "07h30",
          "07h45",
          "08h00",
          "08h15",
          "08h30",
          "08h45",
          "09h00",
          "09h15",
          "09h30",
          "09h45",
          "10h00",
          "10h15",
          "10h30",
          "10h45",
          "11h00",
          "11h15",
          "11h30",
          "11h45",
          "12h00",
          "12h15",
          "12h30",
          "12h45",
          "13h00",
          "13h15",
          "13h30",
          "13h45",
          "14h00",
          "14h15",
          "14h30",
          "14h45",
          "15h00",
          "15h15",
          "15h30",
          "15h45",
          "16h00",
          "16h15",
          "16h30",
          "16h45",
          "17h00",
          "17h15",
          "17h30",
          "17h45",
          "18h00",
          "18h15",
          "18h30",
          "18h45",
          "19h00",
          "19h15",
          "19h30",
          "19h45",
          "20h00",
          "20h15",
          "20h30",
          "20h45",
          "21h00",
          "21h15",
          "21h30",
          "21h45",
          "22h00",
          "22h15",
          "22h30",
          "22h45",
          "23h00",
          "23h15",
          "23h30",
          "23h45"
         ],
         "type": "scatter",
         "x": [
          0,
          1,
          2,
          3,
          4,
          5,
          6,
          7,
          8,
          9,
          10,
          11,
          12,
          13,
          14,
          15,
          16,
          17,
          18,
          19,
          20,
          21,
          22,
          23,
          24,
          25,
          26,
          27,
          28,
          29,
          30,
          31,
          32,
          33,
          34,
          35,
          36,
          37,
          38,
          39,
          40,
          41,
          42,
          43,
          44,
          45,
          46,
          47,
          48,
          49,
          50,
          51,
          52,
          53,
          54,
          55,
          56,
          57,
          58,
          59,
          60,
          61,
          62,
          63,
          64,
          65,
          66,
          67,
          68,
          69,
          70,
          71,
          72,
          73,
          74,
          75,
          76,
          77,
          78,
          79,
          80,
          81,
          82,
          83,
          84,
          85,
          86,
          87,
          88,
          89,
          90,
          91,
          92,
          93,
          94,
          95
         ],
         "y": [
          8.819297640346232,
          8.842336269869316,
          8.863802828739665,
          8.882911883917833,
          8.897522778912888,
          8.90800255829251,
          8.914941577343471,
          8.919465904504355,
          8.92235850596773,
          8.924430892696572,
          8.925261278909217,
          8.926508372887106,
          8.927757266166966,
          8.928590851177692,
          8.929842697805423,
          8.929842697805414,
          8.929425220720436,
          8.92775726616848,
          8.925676775716367,
          8.922772571242227,
          8.919053521403928,
          8.910036567595137,
          8.891554700338851,
          8.860448384060266,
          8.818005730661794,
          8.776088628254152,
          8.74794069368288,
          8.739792700652549,
          8.746809766909678,
          8.759294307046712,
          8.770334952522228,
          8.77690558122668,
          8.778916465265732,
          8.776905581241962,
          8.771531142351986,
          8.764736053856248,
          8.757496636840179,
          8.751412744332205,
          8.746677346249863,
          8.743793619747292,
          8.742290162466276,
          8.74150876396837,
          8.741202365856372,
          8.741202365856376,
          8.741445061925578,
          8.742062308745275,
          8.743501823236828,
          8.74667734624987,
          8.752850847131752,
          8.761922886321495,
          8.771229676718919,
          8.776905581226679,
          8.774954546219305,
          8.767456522488825,
          8.758159610698058,
          8.750393158223204,
          8.745076193299466,
          8.741916571163074,
          8.74027538940851,
          8.739752625251116,
          8.740162125195544,
          8.741169969004064,
          8.742453381065832,
          8.743325483719998,
          8.743496468322839,
          8.742679691721458,
          8.741116235944988,
          8.739783187482395,
          8.741382573295763,
          8.74990214601306,
          8.770039926497788,
          9.026841705847472,
          9.489599116561122,
          9.961097286758076,
          10.415954736995232,
          10.823723206397464,
          11.14346671220785,
          11.342116853122247,
          11.382389700623612,
          11.2393965710694,
          10.921741153136903,
          10.49397937154623,
          10.045335496983585,
          9.640999661651433,
          9.326703789549066,
          9.076175822203231,
          8.853929614985736,
          8.771834224541552,
          8.756421205744305,
          8.74542598158406,
          8.740146370097609,
          8.741063510228834,
          8.747940693681047,
          8.760202609154755,
          8.776811330817752,
          8.796958636988606
         ]
        },
        {
         "hovertemplate": "<b>line_c<br>[%]: %{y:.2f}<br>Time: %{text}<b><extra></extra>",
         "mode": "lines",
         "name": "<b>line_c<b>",
         "text": [
          "00h00",
          "00h15",
          "00h30",
          "00h45",
          "01h00",
          "01h15",
          "01h30",
          "01h45",
          "02h00",
          "02h15",
          "02h30",
          "02h45",
          "03h00",
          "03h15",
          "03h30",
          "03h45",
          "04h00",
          "04h15",
          "04h30",
          "04h45",
          "05h00",
          "05h15",
          "05h30",
          "05h45",
          "06h00",
          "06h15",
          "06h30",
          "06h45",
          "07h00",
          "07h15",
          "07h30",
          "07h45",
          "08h00",
          "08h15",
          "08h30",
          "08h45",
          "09h00",
          "09h15",
          "09h30",
          "09h45",
          "10h00",
          "10h15",
          "10h30",
          "10h45",
          "11h00",
          "11h15",
          "11h30",
          "11h45",
          "12h00",
          "12h15",
          "12h30",
          "12h45",
          "13h00",
          "13h15",
          "13h30",
          "13h45",
          "14h00",
          "14h15",
          "14h30",
          "14h45",
          "15h00",
          "15h15",
          "15h30",
          "15h45",
          "16h00",
          "16h15",
          "16h30",
          "16h45",
          "17h00",
          "17h15",
          "17h30",
          "17h45",
          "18h00",
          "18h15",
          "18h30",
          "18h45",
          "19h00",
          "19h15",
          "19h30",
          "19h45",
          "20h00",
          "20h15",
          "20h30",
          "20h45",
          "21h00",
          "21h15",
          "21h30",
          "21h45",
          "22h00",
          "22h15",
          "22h30",
          "22h45",
          "23h00",
          "23h15",
          "23h30",
          "23h45"
         ],
         "type": "scatter",
         "x": [
          0,
          1,
          2,
          3,
          4,
          5,
          6,
          7,
          8,
          9,
          10,
          11,
          12,
          13,
          14,
          15,
          16,
          17,
          18,
          19,
          20,
          21,
          22,
          23,
          24,
          25,
          26,
          27,
          28,
          29,
          30,
          31,
          32,
          33,
          34,
          35,
          36,
          37,
          38,
          39,
          40,
          41,
          42,
          43,
          44,
          45,
          46,
          47,
          48,
          49,
          50,
          51,
          52,
          53,
          54,
          55,
          56,
          57,
          58,
          59,
          60,
          61,
          62,
          63,
          64,
          65,
          66,
          67,
          68,
          69,
          70,
          71,
          72,
          73,
          74,
          75,
          76,
          77,
          78,
          79,
          80,
          81,
          82,
          83,
          84,
          85,
          86,
          87,
          88,
          89,
          90,
          91,
          92,
          93,
          94,
          95
         ],
         "y": [
          6.976515080737486,
          7.412504901554584,
          7.810156555522643,
          8.159055396832853,
          8.423375844932457,
          8.611929140996057,
          8.736382742091404,
          8.817380930614737,
          8.869111438930839,
          8.906148710747427,
          8.920983653078036,
          8.943257346180868,
          8.965556399094933,
          8.980436426334636,
          9.002777311210357,
          9.002777311210357,
          8.995327579923329,
          8.965556399096725,
          8.928405387523048,
          8.87651313959666,
          8.810002577358558,
          8.648439837432642,
          8.315630690977969,
          7.748460176282693,
          6.951710738066898,
          6.115394376050894,
          5.4761296122319125,
          5.170279743286266,
          5.138332998508231,
          5.219554828439481,
          5.309351995867576,
          5.365336011886433,
          5.3826571019720015,
          5.365336011913697,
          5.319454396627011,
          5.2628574885848804,
          5.20587200266586,
          5.16337659355065,
          5.13777197791097,
          5.129490107058517,
          5.130154388257852,
          5.133286772839414,
          5.135409300638005,
          5.135409300638013,
          5.133676410985302,
          5.130798632548875,
          5.1292377344074875,
          5.137771977910979,
          5.1727330740987005,
          5.240170515849535,
          5.31690387745238,
          5.365336011886438,
          5.348600756895722,
          5.2852639892343936,
          5.210873288207161,
          5.157097803868652,
          5.132087415271323,
          5.131315723742842,
          5.148237656449632,
          5.180326975932288,
          5.223862417733885,
          5.2712983661910915,
          5.3177344034919605,
          5.345875967556264,
          5.351187416630999,
          5.325228542476049,
          5.269139510980153,
          5.191444813740155,
          5.134083492187869,
          5.1541962049638235,
          5.3068679843125866,
          5.622514905583916,
          6.0969367591633326,
          6.6765275110990565,
          7.294539803291646,
          7.8785172838208295,
          8.391597325750642,
          8.779259633580141,
          8.857225605261664,
          8.579445581475548,
          8.021653896809253,
          7.404547420370208,
          6.787437476732936,
          6.27436567258519,
          5.917192186278291,
          5.667388452243842,
          5.477899640584489,
          5.322021499685226,
          5.197883508153945,
          5.133134103877754,
          5.151631073007358,
          5.26699634755081,
          5.476129612228096,
          5.770796525850406,
          6.130536303277444,
          6.540691197556922
         ]
        },
        {
         "hovertemplate": "<b>line_d<br>[%]: %{y:.2f}<br>Time: %{text}<b><extra></extra>",
         "mode": "lines",
         "name": "<b>line_d<b>",
         "text": [
          "00h00",
          "00h15",
          "00h30",
          "00h45",
          "01h00",
          "01h15",
          "01h30",
          "01h45",
          "02h00",
          "02h15",
          "02h30",
          "02h45",
          "03h00",
          "03h15",
          "03h30",
          "03h45",
          "04h00",
          "04h15",
          "04h30",
          "04h45",
          "05h00",
          "05h15",
          "05h30",
          "05h45",
          "06h00",
          "06h15",
          "06h30",
          "06h45",
          "07h00",
          "07h15",
          "07h30",
          "07h45",
          "08h00",
          "08h15",
          "08h30",
          "08h45",
          "09h00",
          "09h15",
          "09h30",
          "09h45",
          "10h00",
          "10h15",
          "10h30",
          "10h45",
          "11h00",
          "11h15",
          "11h30",
          "11h45",
          "12h00",
          "12h15",
          "12h30",
          "12h45",
          "13h00",
          "13h15",
          "13h30",
          "13h45",
          "14h00",
          "14h15",
          "14h30",
          "14h45",
          "15h00",
          "15h15",
          "15h30",
          "15h45",
          "16h00",
          "16h15",
          "16h30",
          "16h45",
          "17h00",
          "17h15",
          "17h30",
          "17h45",
          "18h00",
          "18h15",
          "18h30",
          "18h45",
          "19h00",
          "19h15",
          "19h30",
          "19h45",
          "20h00",
          "20h15",
          "20h30",
          "20h45",
          "21h00",
          "21h15",
          "21h30",
          "21h45",
          "22h00",
          "22h15",
          "22h30",
          "22h45",
          "23h00",
          "23h15",
          "23h30",
          "23h45"
         ],
         "type": "scatter",
         "x": [
          0,
          1,
          2,
          3,
          4,
          5,
          6,
          7,
          8,
          9,
          10,
          11,
          12,
          13,
          14,
          15,
          16,
          17,
          18,
          19,
          20,
          21,
          22,
          23,
          24,
          25,
          26,
          27,
          28,
          29,
          30,
          31,
          32,
          33,
          34,
          35,
          36,
          37,
          38,
          39,
          40,
          41,
          42,
          43,
          44,
          45,
          46,
          47,
          48,
          49,
          50,
          51,
          52,
          53,
          54,
          55,
          56,
          57,
          58,
          59,
          60,
          61,
          62,
          63,
          64,
          65,
          66,
          67,
          68,
          69,
          70,
          71,
          72,
          73,
          74,
          75,
          76,
          77,
          78,
          79,
          80,
          81,
          82,
          83,
          84,
          85,
          86,
          87,
          88,
          89,
          90,
          91,
          92,
          93,
          94,
          95
         ],
         "y": [
          10.596237896597794,
          10.57246839098795,
          10.552169146100654,
          10.535085841268826,
          10.522460684853614,
          10.51357682370162,
          10.507756420084974,
          10.503983573444296,
          10.501579466873052,
          10.49986057871093,
          10.499172613690403,
          10.498140211670599,
          10.497107249448032,
          10.4964182885286,
          10.495384355698057,
          10.495384355698052,
          10.495729066320283,
          10.497107249448508,
          10.498828540902064,
          10.501235803835723,
          10.504326805442982,
          10.511866100714853,
          10.527579957654224,
          10.555252660081088,
          10.597653317125319,
          10.652036312940155,
          10.71403496418484,
          10.777174182293104,
          10.83122434635958,
          10.872332474554584,
          10.89927634377672,
          10.913343480362824,
          10.917438911299577,
          10.913343480352689,
          10.901924272204075,
          10.886253314364126,
          10.867371961101762,
          10.848641255624516,
          10.830655297888354,
          10.816661268455285,
          10.807392760388298,
          10.80149825592565,
          10.798844999155564,
          10.79884499915557,
          10.80096631275495,
          10.805777275431444,
          10.81501138309656,
          10.830655297888352,
          10.853401776539721,
          10.879241012362472,
          10.901260915640899,
          10.913343480362832,
          10.909282270513332,
          10.892720117818856,
          10.869225917467224,
          10.845103450873735,
          10.823323225893855,
          10.80470358841672,
          10.788390658522742,
          10.773166348572614,
          10.759423841077954,
          10.747981338042285,
          10.738670248517417,
          10.73363228901193,
          10.732722465368697,
          10.737290517878217,
          10.748452147271074,
          10.76919524754678,
          10.80043501687735,
          10.84334490093636,
          10.89861664640724,
          10.967130199187967,
          11.04951657309609,
          11.142450804527869,
          11.241315774338524,
          11.338043547717009,
          11.419444877950854,
          11.511999340389723,
          11.536668601921289,
          11.449270320499766,
          11.362471297352792,
          11.259221208193543,
          11.160061483880808,
          11.078335716382739,
          11.019554296748993,
          10.975518228166575,
          10.938443674104514,
          10.902588548090085,
          10.864298518628555,
          10.825004519330864,
          10.786329616137838,
          10.748923465867398,
          10.714034964185066,
          10.68123865787208,
          10.650885791250497,
          10.622464271208164
         ]
        },
        {
         "hovertemplate": "<b>line_e<br>[%]: %{y:.2f}<br>Time: %{text}<b><extra></extra>",
         "mode": "lines",
         "name": "<b>line_e<b>",
         "text": [
          "00h00",
          "00h15",
          "00h30",
          "00h45",
          "01h00",
          "01h15",
          "01h30",
          "01h45",
          "02h00",
          "02h15",
          "02h30",
          "02h45",
          "03h00",
          "03h15",
          "03h30",
          "03h45",
          "04h00",
          "04h15",
          "04h30",
          "04h45",
          "05h00",
          "05h15",
          "05h30",
          "05h45",
          "06h00",
          "06h15",
          "06h30",
          "06h45",
          "07h00",
          "07h15",
          "07h30",
          "07h45",
          "08h00",
          "08h15",
          "08h30",
          "08h45",
          "09h00",
          "09h15",
          "09h30",
          "09h45",
          "10h00",
          "10h15",
          "10h30",
          "10h45",
          "11h00",
          "11h15",
          "11h30",
          "11h45",
          "12h00",
          "12h15",
          "12h30",
          "12h45",
          "13h00",
          "13h15",
          "13h30",
          "13h45",
          "14h00",
          "14h15",
          "14h30",
          "14h45",
          "15h00",
          "15h15",
          "15h30",
          "15h45",
          "16h00",
          "16h15",
          "16h30",
          "16h45",
          "17h00",
          "17h15",
          "17h30",
          "17h45",
          "18h00",
          "18h15",
          "18h30",
          "18h45",
          "19h00",
          "19h15",
          "19h30",
          "19h45",
          "20h00",
          "20h15",
          "20h30",
          "20h45",
          "21h00",
          "21h15",
          "21h30",
          "21h45",
          "22h00",
          "22h15",
          "22h30",
          "22h45",
          "23h00",
          "23h15",
          "23h30",
          "23h45"
         ],
         "type": "scatter",
         "x": [
          0,
          1,
          2,
          3,
          4,
          5,
          6,
          7,
          8,
          9,
          10,
          11,
          12,
          13,
          14,
          15,
          16,
          17,
          18,
          19,
          20,
          21,
          22,
          23,
          24,
          25,
          26,
          27,
          28,
          29,
          30,
          31,
          32,
          33,
          34,
          35,
          36,
          37,
          38,
          39,
          40,
          41,
          42,
          43,
          44,
          45,
          46,
          47,
          48,
          49,
          50,
          51,
          52,
          53,
          54,
          55,
          56,
          57,
          58,
          59,
          60,
          61,
          62,
          63,
          64,
          65,
          66,
          67,
          68,
          69,
          70,
          71,
          72,
          73,
          74,
          75,
          76,
          77,
          78,
          79,
          80,
          81,
          82,
          83,
          84,
          85,
          86,
          87,
          88,
          89,
          90,
          91,
          92,
          93,
          94,
          95
         ],
         "y": [
          6.066804413260799,
          6.133078940324143,
          6.191391304433109,
          6.241391380755401,
          6.278733553628683,
          6.3051474868121185,
          6.322495423791108,
          6.33375309648416,
          6.340930375168918,
          6.346063337230628,
          6.348117999935218,
          6.351201577331868,
          6.3542870546529615,
          6.356345095005511,
          6.359433738688057,
          6.35943373868806,
          6.358403979709953,
          6.354287054652702,
          6.3491456479582205,
          6.341956545311566,
          6.332728615656692,
          6.310243480836693,
          6.2635598464400575,
          6.182447936370178,
          6.062937311273054,
          5.922356655594349,
          5.783235445562738,
          5.664448715651107,
          5.5787459485226485,
          5.52186848385618,
          5.487949245079652,
          5.471196201986941,
          5.466435421299119,
          5.471196201982466,
          5.4847474310630115,
          5.504033361569157,
          5.5283905064577,
          5.553844299854388,
          5.579580486551744,
          5.600536617770993,
          5.614887520898009,
          5.624216298775832,
          5.62846770810464,
          5.62846770810464,
          5.62506602944441,
          5.617428406154723,
          5.603063245019584,
          5.579580486551734,
          5.547248267242072,
          5.512932411826466,
          5.4855474124219095,
          5.471196201986954,
          5.475968501187518,
          5.495975731250132,
          5.5259424821929235,
          5.558803671136672,
          5.5904555088645695,
          5.619123717857094,
          5.645541866205192,
          5.671356109995495,
          5.695665434968177,
          5.716665137240672,
          5.734278237086361,
          5.744008887582601,
          5.745781388236715,
          5.73692900676063,
          5.715787174649479,
          5.67828052247703,
          5.625916035884006,
          5.561287307805917,
          5.4887504845838935,
          5.412534913057769,
          5.336615032815782,
          5.2666570771258625,
          5.205991675746437,
          5.157120756222088,
          5.122346437863691,
          5.102278875113043,
          5.098352313674629,
          5.112509961190744,
          5.146133112456582,
          5.196242213006025,
          5.2549234363509045,
          5.313350878797386,
          5.362505214955601,
          5.404090250772638,
          5.442806478320751,
          5.483947764923306,
          5.532476567641366,
          5.587941609796248,
          5.648969766414391,
          5.714909469601862,
          5.783235445563211,
          5.8539407113339745,
          5.925157105377501,
          5.996785565766782
         ]
        }
       ],
       "layout": {
        "font": {
         "size": 15
        },
        "height": 400,
        "legend": {
         "font": {
          "size": 12
         }
        },
        "margin": {
         "t": 30
        },
        "paper_bgcolor": "white",
        "plot_bgcolor": "white",
        "template": {
         "data": {
          "bar": [
           {
            "error_x": {
             "color": "#2a3f5f"
            },
            "error_y": {
             "color": "#2a3f5f"
            },
            "marker": {
             "line": {
              "color": "#E5ECF6",
              "width": 0.5
             },
             "pattern": {
              "fillmode": "overlay",
              "size": 10,
              "solidity": 0.2
             }
            },
            "type": "bar"
           }
          ],
          "barpolar": [
           {
            "marker": {
             "line": {
              "color": "#E5ECF6",
              "width": 0.5
             },
             "pattern": {
              "fillmode": "overlay",
              "size": 10,
              "solidity": 0.2
             }
            },
            "type": "barpolar"
           }
          ],
          "carpet": [
           {
            "aaxis": {
             "endlinecolor": "#2a3f5f",
             "gridcolor": "white",
             "linecolor": "white",
             "minorgridcolor": "white",
             "startlinecolor": "#2a3f5f"
            },
            "baxis": {
             "endlinecolor": "#2a3f5f",
             "gridcolor": "white",
             "linecolor": "white",
             "minorgridcolor": "white",
             "startlinecolor": "#2a3f5f"
            },
            "type": "carpet"
           }
          ],
          "choropleth": [
           {
            "colorbar": {
             "outlinewidth": 0,
             "ticks": ""
            },
            "type": "choropleth"
           }
          ],
          "contour": [
           {
            "colorbar": {
             "outlinewidth": 0,
             "ticks": ""
            },
            "colorscale": [
             [
              0,
              "#0d0887"
             ],
             [
              0.1111111111111111,
              "#46039f"
             ],
             [
              0.2222222222222222,
              "#7201a8"
             ],
             [
              0.3333333333333333,
              "#9c179e"
             ],
             [
              0.4444444444444444,
              "#bd3786"
             ],
             [
              0.5555555555555556,
              "#d8576b"
             ],
             [
              0.6666666666666666,
              "#ed7953"
             ],
             [
              0.7777777777777778,
              "#fb9f3a"
             ],
             [
              0.8888888888888888,
              "#fdca26"
             ],
             [
              1,
              "#f0f921"
             ]
            ],
            "type": "contour"
           }
          ],
          "contourcarpet": [
           {
            "colorbar": {
             "outlinewidth": 0,
             "ticks": ""
            },
            "type": "contourcarpet"
           }
          ],
          "heatmap": [
           {
            "colorbar": {
             "outlinewidth": 0,
             "ticks": ""
            },
            "colorscale": [
             [
              0,
              "#0d0887"
             ],
             [
              0.1111111111111111,
              "#46039f"
             ],
             [
              0.2222222222222222,
              "#7201a8"
             ],
             [
              0.3333333333333333,
              "#9c179e"
             ],
             [
              0.4444444444444444,
              "#bd3786"
             ],
             [
              0.5555555555555556,
              "#d8576b"
             ],
             [
              0.6666666666666666,
              "#ed7953"
             ],
             [
              0.7777777777777778,
              "#fb9f3a"
             ],
             [
              0.8888888888888888,
              "#fdca26"
             ],
             [
              1,
              "#f0f921"
             ]
            ],
            "type": "heatmap"
           }
          ],
          "heatmapgl": [
           {
            "colorbar": {
             "outlinewidth": 0,
             "ticks": ""
            },
            "colorscale": [
             [
              0,
              "#0d0887"
             ],
             [
              0.1111111111111111,
              "#46039f"
             ],
             [
              0.2222222222222222,
              "#7201a8"
             ],
             [
              0.3333333333333333,
              "#9c179e"
             ],
             [
              0.4444444444444444,
              "#bd3786"
             ],
             [
              0.5555555555555556,
              "#d8576b"
             ],
             [
              0.6666666666666666,
              "#ed7953"
             ],
             [
              0.7777777777777778,
              "#fb9f3a"
             ],
             [
              0.8888888888888888,
              "#fdca26"
             ],
             [
              1,
              "#f0f921"
             ]
            ],
            "type": "heatmapgl"
           }
          ],
          "histogram": [
           {
            "marker": {
             "pattern": {
              "fillmode": "overlay",
              "size": 10,
              "solidity": 0.2
             }
            },
            "type": "histogram"
           }
          ],
          "histogram2d": [
           {
            "colorbar": {
             "outlinewidth": 0,
             "ticks": ""
            },
            "colorscale": [
             [
              0,
              "#0d0887"
             ],
             [
              0.1111111111111111,
              "#46039f"
             ],
             [
              0.2222222222222222,
              "#7201a8"
             ],
             [
              0.3333333333333333,
              "#9c179e"
             ],
             [
              0.4444444444444444,
              "#bd3786"
             ],
             [
              0.5555555555555556,
              "#d8576b"
             ],
             [
              0.6666666666666666,
              "#ed7953"
             ],
             [
              0.7777777777777778,
              "#fb9f3a"
             ],
             [
              0.8888888888888888,
              "#fdca26"
             ],
             [
              1,
              "#f0f921"
             ]
            ],
            "type": "histogram2d"
           }
          ],
          "histogram2dcontour": [
           {
            "colorbar": {
             "outlinewidth": 0,
             "ticks": ""
            },
            "colorscale": [
             [
              0,
              "#0d0887"
             ],
             [
              0.1111111111111111,
              "#46039f"
             ],
             [
              0.2222222222222222,
              "#7201a8"
             ],
             [
              0.3333333333333333,
              "#9c179e"
             ],
             [
              0.4444444444444444,
              "#bd3786"
             ],
             [
              0.5555555555555556,
              "#d8576b"
             ],
             [
              0.6666666666666666,
              "#ed7953"
             ],
             [
              0.7777777777777778,
              "#fb9f3a"
             ],
             [
              0.8888888888888888,
              "#fdca26"
             ],
             [
              1,
              "#f0f921"
             ]
            ],
            "type": "histogram2dcontour"
           }
          ],
          "mesh3d": [
           {
            "colorbar": {
             "outlinewidth": 0,
             "ticks": ""
            },
            "type": "mesh3d"
           }
          ],
          "parcoords": [
           {
            "line": {
             "colorbar": {
              "outlinewidth": 0,
              "ticks": ""
             }
            },
            "type": "parcoords"
           }
          ],
          "pie": [
           {
            "automargin": true,
            "type": "pie"
           }
          ],
          "scatter": [
           {
            "fillpattern": {
             "fillmode": "overlay",
             "size": 10,
             "solidity": 0.2
            },
            "type": "scatter"
           }
          ],
          "scatter3d": [
           {
            "line": {
             "colorbar": {
              "outlinewidth": 0,
              "ticks": ""
             }
            },
            "marker": {
             "colorbar": {
              "outlinewidth": 0,
              "ticks": ""
             }
            },
            "type": "scatter3d"
           }
          ],
          "scattercarpet": [
           {
            "marker": {
             "colorbar": {
              "outlinewidth": 0,
              "ticks": ""
             }
            },
            "type": "scattercarpet"
           }
          ],
          "scattergeo": [
           {
            "marker": {
             "colorbar": {
              "outlinewidth": 0,
              "ticks": ""
             }
            },
            "type": "scattergeo"
           }
          ],
          "scattergl": [
           {
            "marker": {
             "colorbar": {
              "outlinewidth": 0,
              "ticks": ""
             }
            },
            "type": "scattergl"
           }
          ],
          "scattermapbox": [
           {
            "marker": {
             "colorbar": {
              "outlinewidth": 0,
              "ticks": ""
             }
            },
            "type": "scattermapbox"
           }
          ],
          "scatterpolar": [
           {
            "marker": {
             "colorbar": {
              "outlinewidth": 0,
              "ticks": ""
             }
            },
            "type": "scatterpolar"
           }
          ],
          "scatterpolargl": [
           {
            "marker": {
             "colorbar": {
              "outlinewidth": 0,
              "ticks": ""
             }
            },
            "type": "scatterpolargl"
           }
          ],
          "scatterternary": [
           {
            "marker": {
             "colorbar": {
              "outlinewidth": 0,
              "ticks": ""
             }
            },
            "type": "scatterternary"
           }
          ],
          "surface": [
           {
            "colorbar": {
             "outlinewidth": 0,
             "ticks": ""
            },
            "colorscale": [
             [
              0,
              "#0d0887"
             ],
             [
              0.1111111111111111,
              "#46039f"
             ],
             [
              0.2222222222222222,
              "#7201a8"
             ],
             [
              0.3333333333333333,
              "#9c179e"
             ],
             [
              0.4444444444444444,
              "#bd3786"
             ],
             [
              0.5555555555555556,
              "#d8576b"
             ],
             [
              0.6666666666666666,
              "#ed7953"
             ],
             [
              0.7777777777777778,
              "#fb9f3a"
             ],
             [
              0.8888888888888888,
              "#fdca26"
             ],
             [
              1,
              "#f0f921"
             ]
            ],
            "type": "surface"
           }
          ],
          "table": [
           {
            "cells": {
             "fill": {
              "color": "#EBF0F8"
             },
             "line": {
              "color": "white"
             }
            },
            "header": {
             "fill": {
              "color": "#C8D4E3"
             },
             "line": {
              "color": "white"
             }
            },
            "type": "table"
           }
          ]
         },
         "layout": {
          "annotationdefaults": {
           "arrowcolor": "#2a3f5f",
           "arrowhead": 0,
           "arrowwidth": 1
          },
          "autotypenumbers": "strict",
          "coloraxis": {
           "colorbar": {
            "outlinewidth": 0,
            "ticks": ""
           }
          },
          "colorscale": {
           "diverging": [
            [
             0,
             "#8e0152"
            ],
            [
             0.1,
             "#c51b7d"
            ],
            [
             0.2,
             "#de77ae"
            ],
            [
             0.3,
             "#f1b6da"
            ],
            [
             0.4,
             "#fde0ef"
            ],
            [
             0.5,
             "#f7f7f7"
            ],
            [
             0.6,
             "#e6f5d0"
            ],
            [
             0.7,
             "#b8e186"
            ],
            [
             0.8,
             "#7fbc41"
            ],
            [
             0.9,
             "#4d9221"
            ],
            [
             1,
             "#276419"
            ]
           ],
           "sequential": [
            [
             0,
             "#0d0887"
            ],
            [
             0.1111111111111111,
             "#46039f"
            ],
            [
             0.2222222222222222,
             "#7201a8"
            ],
            [
             0.3333333333333333,
             "#9c179e"
            ],
            [
             0.4444444444444444,
             "#bd3786"
            ],
            [
             0.5555555555555556,
             "#d8576b"
            ],
            [
             0.6666666666666666,
             "#ed7953"
            ],
            [
             0.7777777777777778,
             "#fb9f3a"
            ],
            [
             0.8888888888888888,
             "#fdca26"
            ],
            [
             1,
             "#f0f921"
            ]
           ],
           "sequentialminus": [
            [
             0,
             "#0d0887"
            ],
            [
             0.1111111111111111,
             "#46039f"
            ],
            [
             0.2222222222222222,
             "#7201a8"
            ],
            [
             0.3333333333333333,
             "#9c179e"
            ],
            [
             0.4444444444444444,
             "#bd3786"
            ],
            [
             0.5555555555555556,
             "#d8576b"
            ],
            [
             0.6666666666666666,
             "#ed7953"
            ],
            [
             0.7777777777777778,
             "#fb9f3a"
            ],
            [
             0.8888888888888888,
             "#fdca26"
            ],
            [
             1,
             "#f0f921"
            ]
           ]
          },
          "colorway": [
           "#636efa",
           "#EF553B",
           "#00cc96",
           "#ab63fa",
           "#FFA15A",
           "#19d3f3",
           "#FF6692",
           "#B6E880",
           "#FF97FF",
           "#FECB52"
          ],
          "font": {
           "color": "#2a3f5f"
          },
          "geo": {
           "bgcolor": "white",
           "lakecolor": "white",
           "landcolor": "#E5ECF6",
           "showlakes": true,
           "showland": true,
           "subunitcolor": "white"
          },
          "hoverlabel": {
           "align": "left"
          },
          "hovermode": "closest",
          "mapbox": {
           "style": "light"
          },
          "paper_bgcolor": "white",
          "plot_bgcolor": "#E5ECF6",
          "polar": {
           "angularaxis": {
            "gridcolor": "white",
            "linecolor": "white",
            "ticks": ""
           },
           "bgcolor": "#E5ECF6",
           "radialaxis": {
            "gridcolor": "white",
            "linecolor": "white",
            "ticks": ""
           }
          },
          "scene": {
           "xaxis": {
            "backgroundcolor": "#E5ECF6",
            "gridcolor": "white",
            "gridwidth": 2,
            "linecolor": "white",
            "showbackground": true,
            "ticks": "",
            "zerolinecolor": "white"
           },
           "yaxis": {
            "backgroundcolor": "#E5ECF6",
            "gridcolor": "white",
            "gridwidth": 2,
            "linecolor": "white",
            "showbackground": true,
            "ticks": "",
            "zerolinecolor": "white"
           },
           "zaxis": {
            "backgroundcolor": "#E5ECF6",
            "gridcolor": "white",
            "gridwidth": 2,
            "linecolor": "white",
            "showbackground": true,
            "ticks": "",
            "zerolinecolor": "white"
           }
          },
          "shapedefaults": {
           "line": {
            "color": "#2a3f5f"
           }
          },
          "ternary": {
           "aaxis": {
            "gridcolor": "white",
            "linecolor": "white",
            "ticks": ""
           },
           "baxis": {
            "gridcolor": "white",
            "linecolor": "white",
            "ticks": ""
           },
           "bgcolor": "#E5ECF6",
           "caxis": {
            "gridcolor": "white",
            "linecolor": "white",
            "ticks": ""
           }
          },
          "title": {
           "x": 0.05
          },
          "xaxis": {
           "automargin": true,
           "gridcolor": "white",
           "linecolor": "white",
           "ticks": "",
           "title": {
            "standoff": 15
           },
           "zerolinecolor": "white",
           "zerolinewidth": 2
          },
          "yaxis": {
           "automargin": true,
           "gridcolor": "white",
           "linecolor": "white",
           "ticks": "",
           "title": {
            "standoff": 15
           },
           "zerolinecolor": "white",
           "zerolinewidth": 2
          }
         }
        },
        "title": {
         "text": "<b>Line loading<b>",
         "x": 0.5,
         "xanchor": "center",
         "y": 0.97,
         "yanchor": "top"
        },
        "width": 680,
        "xaxis": {
         "gridcolor": "black",
         "gridwidth": 1,
         "linecolor": "black",
         "linewidth": 2,
         "showgrid": true,
         "showline": true,
         "tickfont": {
          "family": "Arial Black",
          "size": 12
         },
         "tickmode": "array",
         "ticktext": [
          "00h00",
          "04h00",
          "08h00",
          "12h00",
          "16h00",
          "20h00"
         ],
         "tickvals": [
          0,
          16,
          32,
          48,
          64,
          80
         ],
         "title": {
          "font": {
           "size": 12
          },
          "text": "<b>Time<b>"
         },
         "zeroline": false
        },
        "yaxis": {
         "gridcolor": "black",
         "gridwidth": 1,
         "linecolor": "black",
         "linewidth": 2,
         "showgrid": true,
         "showline": true,
         "tickfont": {
          "family": "Arial Black",
          "size": 12
         },
         "title": {
          "font": {
           "size": 12
          },
          "text": "<b>[%]<b>"
         },
         "zeroline": false
        }
       }
      },
      "text/html": [
       "<div>                            <div id=\"c6f78ad6-9fa1-4c7d-b485-46cd22a18b4c\" class=\"plotly-graph-div\" style=\"height:400px; width:680px;\"></div>            <script type=\"text/javascript\">                require([\"plotly\"], function(Plotly) {                    window.PLOTLYENV=window.PLOTLYENV || {};                                    if (document.getElementById(\"c6f78ad6-9fa1-4c7d-b485-46cd22a18b4c\")) {                    Plotly.newPlot(                        \"c6f78ad6-9fa1-4c7d-b485-46cd22a18b4c\",                        [{\"hovertemplate\":\"\\u003cb\\u003eline_a\\u003cbr\\u003e[%]: %{y:.2f}\\u003cbr\\u003eTime: %{text}\\u003cb\\u003e\\u003cextra\\u003e\\u003c\\u002fextra\\u003e\",\"mode\":\"lines\",\"name\":\"\\u003cb\\u003eline_a\\u003cb\\u003e\",\"text\":[\"00h00\",\"00h15\",\"00h30\",\"00h45\",\"01h00\",\"01h15\",\"01h30\",\"01h45\",\"02h00\",\"02h15\",\"02h30\",\"02h45\",\"03h00\",\"03h15\",\"03h30\",\"03h45\",\"04h00\",\"04h15\",\"04h30\",\"04h45\",\"05h00\",\"05h15\",\"05h30\",\"05h45\",\"06h00\",\"06h15\",\"06h30\",\"06h45\",\"07h00\",\"07h15\",\"07h30\",\"07h45\",\"08h00\",\"08h15\",\"08h30\",\"08h45\",\"09h00\",\"09h15\",\"09h30\",\"09h45\",\"10h00\",\"10h15\",\"10h30\",\"10h45\",\"11h00\",\"11h15\",\"11h30\",\"11h45\",\"12h00\",\"12h15\",\"12h30\",\"12h45\",\"13h00\",\"13h15\",\"13h30\",\"13h45\",\"14h00\",\"14h15\",\"14h30\",\"14h45\",\"15h00\",\"15h15\",\"15h30\",\"15h45\",\"16h00\",\"16h15\",\"16h30\",\"16h45\",\"17h00\",\"17h15\",\"17h30\",\"17h45\",\"18h00\",\"18h15\",\"18h30\",\"18h45\",\"19h00\",\"19h15\",\"19h30\",\"19h45\",\"20h00\",\"20h15\",\"20h30\",\"20h45\",\"21h00\",\"21h15\",\"21h30\",\"21h45\",\"22h00\",\"22h15\",\"22h30\",\"22h45\",\"23h00\",\"23h15\",\"23h30\",\"23h45\"],\"x\":[0,1,2,3,4,5,6,7,8,9,10,11,12,13,14,15,16,17,18,19,20,21,22,23,24,25,26,27,28,29,30,31,32,33,34,35,36,37,38,39,40,41,42,43,44,45,46,47,48,49,50,51,52,53,54,55,56,57,58,59,60,61,62,63,64,65,66,67,68,69,70,71,72,73,74,75,76,77,78,79,80,81,82,83,84,85,86,87,88,89,90,91,92,93,94,95],\"y\":[17.141524272235298,17.819829230201517,18.416278527458722,18.927047503776844,19.307955788361983,19.57704895676381,19.75361213732752,19.868113911397188,19.941081670226573,19.993250138158135,20.01412881828951,20.04545889542002,20.07680340028913,20.097707729892086,20.129076180512765,20.12907618051277,20.118618438353966,20.076803400288934,20.024570571438126,19.951512130383055,19.857696461475413,19.628929202072698,19.153241128175242,18.324845214167617,17.10194848759718,15.666153043963552,14.260607303521164,13.089027299752445,12.273386980973463,11.752935786367095,11.453001434167957,11.308262559931348,11.267578890905295,11.308262559933995,11.425155056683428,11.594136128860143,11.811572857872942,12.04310160460248,12.281164222003177,12.477634614589892,12.613409921959818,12.702169502502478,12.742744577431,12.742744577431,12.710273120826699,12.637547523624884,12.501469437825593,12.281164222003177,11.982710026370102,11.673080565573255,11.432104574173783,11.308262559931377,11.349247113447404,11.523176083207952,11.789529237616794,12.088681151141502,12.382844051800312,12.653668358651327,12.906446435098065,13.156050201908865,13.39317418488862,13.59944860770487,13.773376801296951,13.869796723738245,13.88738426901116,13.799620505625967,13.590799966262582,13.223400482881445,12.718382449146581,12.111561747689285,11.459983102820836,10.822540212813413,10.255984353890678,9.819468048486456,9.532807841954858,9.384621055043302,9.336424820385215,9.334696113055617,9.336857881094044,9.332983003477665,9.363694177565256,9.496654582379321,9.756487802847154,10.10026055868121,10.439915367687851,10.75569632068846,11.06880156336318,11.418213617439756,11.848456857747392,12.359285292326168,12.939450645258017,13.582155940971663,14.260607303521198,14.971936544423867,15.694658253135252,16.425371890322477],\"type\":\"scatter\"},{\"hovertemplate\":\"\\u003cb\\u003eline_b\\u003cbr\\u003e[%]: %{y:.2f}\\u003cbr\\u003eTime: %{text}\\u003cb\\u003e\\u003cextra\\u003e\\u003c\\u002fextra\\u003e\",\"mode\":\"lines\",\"name\":\"\\u003cb\\u003eline_b\\u003cb\\u003e\",\"text\":[\"00h00\",\"00h15\",\"00h30\",\"00h45\",\"01h00\",\"01h15\",\"01h30\",\"01h45\",\"02h00\",\"02h15\",\"02h30\",\"02h45\",\"03h00\",\"03h15\",\"03h30\",\"03h45\",\"04h00\",\"04h15\",\"04h30\",\"04h45\",\"05h00\",\"05h15\",\"05h30\",\"05h45\",\"06h00\",\"06h15\",\"06h30\",\"06h45\",\"07h00\",\"07h15\",\"07h30\",\"07h45\",\"08h00\",\"08h15\",\"08h30\",\"08h45\",\"09h00\",\"09h15\",\"09h30\",\"09h45\",\"10h00\",\"10h15\",\"10h30\",\"10h45\",\"11h00\",\"11h15\",\"11h30\",\"11h45\",\"12h00\",\"12h15\",\"12h30\",\"12h45\",\"13h00\",\"13h15\",\"13h30\",\"13h45\",\"14h00\",\"14h15\",\"14h30\",\"14h45\",\"15h00\",\"15h15\",\"15h30\",\"15h45\",\"16h00\",\"16h15\",\"16h30\",\"16h45\",\"17h00\",\"17h15\",\"17h30\",\"17h45\",\"18h00\",\"18h15\",\"18h30\",\"18h45\",\"19h00\",\"19h15\",\"19h30\",\"19h45\",\"20h00\",\"20h15\",\"20h30\",\"20h45\",\"21h00\",\"21h15\",\"21h30\",\"21h45\",\"22h00\",\"22h15\",\"22h30\",\"22h45\",\"23h00\",\"23h15\",\"23h30\",\"23h45\"],\"x\":[0,1,2,3,4,5,6,7,8,9,10,11,12,13,14,15,16,17,18,19,20,21,22,23,24,25,26,27,28,29,30,31,32,33,34,35,36,37,38,39,40,41,42,43,44,45,46,47,48,49,50,51,52,53,54,55,56,57,58,59,60,61,62,63,64,65,66,67,68,69,70,71,72,73,74,75,76,77,78,79,80,81,82,83,84,85,86,87,88,89,90,91,92,93,94,95],\"y\":[8.819297640346232,8.842336269869316,8.863802828739665,8.882911883917833,8.897522778912888,8.90800255829251,8.914941577343471,8.919465904504355,8.92235850596773,8.924430892696572,8.925261278909217,8.926508372887106,8.927757266166966,8.928590851177692,8.929842697805423,8.929842697805414,8.929425220720436,8.92775726616848,8.925676775716367,8.922772571242227,8.919053521403928,8.910036567595137,8.891554700338851,8.860448384060266,8.818005730661794,8.776088628254152,8.74794069368288,8.739792700652549,8.746809766909678,8.759294307046712,8.770334952522228,8.77690558122668,8.778916465265732,8.776905581241962,8.771531142351986,8.764736053856248,8.757496636840179,8.751412744332205,8.746677346249863,8.743793619747292,8.742290162466276,8.74150876396837,8.741202365856372,8.741202365856376,8.741445061925578,8.742062308745275,8.743501823236828,8.74667734624987,8.752850847131752,8.761922886321495,8.771229676718919,8.776905581226679,8.774954546219305,8.767456522488825,8.758159610698058,8.750393158223204,8.745076193299466,8.741916571163074,8.74027538940851,8.739752625251116,8.740162125195544,8.741169969004064,8.742453381065832,8.743325483719998,8.743496468322839,8.742679691721458,8.741116235944988,8.739783187482395,8.741382573295763,8.74990214601306,8.770039926497788,9.026841705847472,9.489599116561122,9.961097286758076,10.415954736995232,10.823723206397464,11.14346671220785,11.342116853122247,11.382389700623612,11.2393965710694,10.921741153136903,10.49397937154623,10.045335496983585,9.640999661651433,9.326703789549066,9.076175822203231,8.853929614985736,8.771834224541552,8.756421205744305,8.74542598158406,8.740146370097609,8.741063510228834,8.747940693681047,8.760202609154755,8.776811330817752,8.796958636988606],\"type\":\"scatter\"},{\"hovertemplate\":\"\\u003cb\\u003eline_c\\u003cbr\\u003e[%]: %{y:.2f}\\u003cbr\\u003eTime: %{text}\\u003cb\\u003e\\u003cextra\\u003e\\u003c\\u002fextra\\u003e\",\"mode\":\"lines\",\"name\":\"\\u003cb\\u003eline_c\\u003cb\\u003e\",\"text\":[\"00h00\",\"00h15\",\"00h30\",\"00h45\",\"01h00\",\"01h15\",\"01h30\",\"01h45\",\"02h00\",\"02h15\",\"02h30\",\"02h45\",\"03h00\",\"03h15\",\"03h30\",\"03h45\",\"04h00\",\"04h15\",\"04h30\",\"04h45\",\"05h00\",\"05h15\",\"05h30\",\"05h45\",\"06h00\",\"06h15\",\"06h30\",\"06h45\",\"07h00\",\"07h15\",\"07h30\",\"07h45\",\"08h00\",\"08h15\",\"08h30\",\"08h45\",\"09h00\",\"09h15\",\"09h30\",\"09h45\",\"10h00\",\"10h15\",\"10h30\",\"10h45\",\"11h00\",\"11h15\",\"11h30\",\"11h45\",\"12h00\",\"12h15\",\"12h30\",\"12h45\",\"13h00\",\"13h15\",\"13h30\",\"13h45\",\"14h00\",\"14h15\",\"14h30\",\"14h45\",\"15h00\",\"15h15\",\"15h30\",\"15h45\",\"16h00\",\"16h15\",\"16h30\",\"16h45\",\"17h00\",\"17h15\",\"17h30\",\"17h45\",\"18h00\",\"18h15\",\"18h30\",\"18h45\",\"19h00\",\"19h15\",\"19h30\",\"19h45\",\"20h00\",\"20h15\",\"20h30\",\"20h45\",\"21h00\",\"21h15\",\"21h30\",\"21h45\",\"22h00\",\"22h15\",\"22h30\",\"22h45\",\"23h00\",\"23h15\",\"23h30\",\"23h45\"],\"x\":[0,1,2,3,4,5,6,7,8,9,10,11,12,13,14,15,16,17,18,19,20,21,22,23,24,25,26,27,28,29,30,31,32,33,34,35,36,37,38,39,40,41,42,43,44,45,46,47,48,49,50,51,52,53,54,55,56,57,58,59,60,61,62,63,64,65,66,67,68,69,70,71,72,73,74,75,76,77,78,79,80,81,82,83,84,85,86,87,88,89,90,91,92,93,94,95],\"y\":[6.976515080737486,7.412504901554584,7.810156555522643,8.159055396832853,8.423375844932457,8.611929140996057,8.736382742091404,8.817380930614737,8.869111438930839,8.906148710747427,8.920983653078036,8.943257346180868,8.965556399094933,8.980436426334636,9.002777311210357,9.002777311210357,8.995327579923329,8.965556399096725,8.928405387523048,8.87651313959666,8.810002577358558,8.648439837432642,8.315630690977969,7.748460176282693,6.951710738066898,6.115394376050894,5.4761296122319125,5.170279743286266,5.138332998508231,5.219554828439481,5.309351995867576,5.365336011886433,5.3826571019720015,5.365336011913697,5.319454396627011,5.2628574885848804,5.20587200266586,5.16337659355065,5.13777197791097,5.129490107058517,5.130154388257852,5.133286772839414,5.135409300638005,5.135409300638013,5.133676410985302,5.130798632548875,5.1292377344074875,5.137771977910979,5.1727330740987005,5.240170515849535,5.31690387745238,5.365336011886438,5.348600756895722,5.2852639892343936,5.210873288207161,5.157097803868652,5.132087415271323,5.131315723742842,5.148237656449632,5.180326975932288,5.223862417733885,5.2712983661910915,5.3177344034919605,5.345875967556264,5.351187416630999,5.325228542476049,5.269139510980153,5.191444813740155,5.134083492187869,5.1541962049638235,5.3068679843125866,5.622514905583916,6.0969367591633326,6.6765275110990565,7.294539803291646,7.8785172838208295,8.391597325750642,8.779259633580141,8.857225605261664,8.579445581475548,8.021653896809253,7.404547420370208,6.787437476732936,6.27436567258519,5.917192186278291,5.667388452243842,5.477899640584489,5.322021499685226,5.197883508153945,5.133134103877754,5.151631073007358,5.26699634755081,5.476129612228096,5.770796525850406,6.130536303277444,6.540691197556922],\"type\":\"scatter\"},{\"hovertemplate\":\"\\u003cb\\u003eline_d\\u003cbr\\u003e[%]: %{y:.2f}\\u003cbr\\u003eTime: %{text}\\u003cb\\u003e\\u003cextra\\u003e\\u003c\\u002fextra\\u003e\",\"mode\":\"lines\",\"name\":\"\\u003cb\\u003eline_d\\u003cb\\u003e\",\"text\":[\"00h00\",\"00h15\",\"00h30\",\"00h45\",\"01h00\",\"01h15\",\"01h30\",\"01h45\",\"02h00\",\"02h15\",\"02h30\",\"02h45\",\"03h00\",\"03h15\",\"03h30\",\"03h45\",\"04h00\",\"04h15\",\"04h30\",\"04h45\",\"05h00\",\"05h15\",\"05h30\",\"05h45\",\"06h00\",\"06h15\",\"06h30\",\"06h45\",\"07h00\",\"07h15\",\"07h30\",\"07h45\",\"08h00\",\"08h15\",\"08h30\",\"08h45\",\"09h00\",\"09h15\",\"09h30\",\"09h45\",\"10h00\",\"10h15\",\"10h30\",\"10h45\",\"11h00\",\"11h15\",\"11h30\",\"11h45\",\"12h00\",\"12h15\",\"12h30\",\"12h45\",\"13h00\",\"13h15\",\"13h30\",\"13h45\",\"14h00\",\"14h15\",\"14h30\",\"14h45\",\"15h00\",\"15h15\",\"15h30\",\"15h45\",\"16h00\",\"16h15\",\"16h30\",\"16h45\",\"17h00\",\"17h15\",\"17h30\",\"17h45\",\"18h00\",\"18h15\",\"18h30\",\"18h45\",\"19h00\",\"19h15\",\"19h30\",\"19h45\",\"20h00\",\"20h15\",\"20h30\",\"20h45\",\"21h00\",\"21h15\",\"21h30\",\"21h45\",\"22h00\",\"22h15\",\"22h30\",\"22h45\",\"23h00\",\"23h15\",\"23h30\",\"23h45\"],\"x\":[0,1,2,3,4,5,6,7,8,9,10,11,12,13,14,15,16,17,18,19,20,21,22,23,24,25,26,27,28,29,30,31,32,33,34,35,36,37,38,39,40,41,42,43,44,45,46,47,48,49,50,51,52,53,54,55,56,57,58,59,60,61,62,63,64,65,66,67,68,69,70,71,72,73,74,75,76,77,78,79,80,81,82,83,84,85,86,87,88,89,90,91,92,93,94,95],\"y\":[10.596237896597794,10.57246839098795,10.552169146100654,10.535085841268826,10.522460684853614,10.51357682370162,10.507756420084974,10.503983573444296,10.501579466873052,10.49986057871093,10.499172613690403,10.498140211670599,10.497107249448032,10.4964182885286,10.495384355698057,10.495384355698052,10.495729066320283,10.497107249448508,10.498828540902064,10.501235803835723,10.504326805442982,10.511866100714853,10.527579957654224,10.555252660081088,10.597653317125319,10.652036312940155,10.71403496418484,10.777174182293104,10.83122434635958,10.872332474554584,10.89927634377672,10.913343480362824,10.917438911299577,10.913343480352689,10.901924272204075,10.886253314364126,10.867371961101762,10.848641255624516,10.830655297888354,10.816661268455285,10.807392760388298,10.80149825592565,10.798844999155564,10.79884499915557,10.80096631275495,10.805777275431444,10.81501138309656,10.830655297888352,10.853401776539721,10.879241012362472,10.901260915640899,10.913343480362832,10.909282270513332,10.892720117818856,10.869225917467224,10.845103450873735,10.823323225893855,10.80470358841672,10.788390658522742,10.773166348572614,10.759423841077954,10.747981338042285,10.738670248517417,10.73363228901193,10.732722465368697,10.737290517878217,10.748452147271074,10.76919524754678,10.80043501687735,10.84334490093636,10.89861664640724,10.967130199187967,11.04951657309609,11.142450804527869,11.241315774338524,11.338043547717009,11.419444877950854,11.511999340389723,11.536668601921289,11.449270320499766,11.362471297352792,11.259221208193543,11.160061483880808,11.078335716382739,11.019554296748993,10.975518228166575,10.938443674104514,10.902588548090085,10.864298518628555,10.825004519330864,10.786329616137838,10.748923465867398,10.714034964185066,10.68123865787208,10.650885791250497,10.622464271208164],\"type\":\"scatter\"},{\"hovertemplate\":\"\\u003cb\\u003eline_e\\u003cbr\\u003e[%]: %{y:.2f}\\u003cbr\\u003eTime: %{text}\\u003cb\\u003e\\u003cextra\\u003e\\u003c\\u002fextra\\u003e\",\"mode\":\"lines\",\"name\":\"\\u003cb\\u003eline_e\\u003cb\\u003e\",\"text\":[\"00h00\",\"00h15\",\"00h30\",\"00h45\",\"01h00\",\"01h15\",\"01h30\",\"01h45\",\"02h00\",\"02h15\",\"02h30\",\"02h45\",\"03h00\",\"03h15\",\"03h30\",\"03h45\",\"04h00\",\"04h15\",\"04h30\",\"04h45\",\"05h00\",\"05h15\",\"05h30\",\"05h45\",\"06h00\",\"06h15\",\"06h30\",\"06h45\",\"07h00\",\"07h15\",\"07h30\",\"07h45\",\"08h00\",\"08h15\",\"08h30\",\"08h45\",\"09h00\",\"09h15\",\"09h30\",\"09h45\",\"10h00\",\"10h15\",\"10h30\",\"10h45\",\"11h00\",\"11h15\",\"11h30\",\"11h45\",\"12h00\",\"12h15\",\"12h30\",\"12h45\",\"13h00\",\"13h15\",\"13h30\",\"13h45\",\"14h00\",\"14h15\",\"14h30\",\"14h45\",\"15h00\",\"15h15\",\"15h30\",\"15h45\",\"16h00\",\"16h15\",\"16h30\",\"16h45\",\"17h00\",\"17h15\",\"17h30\",\"17h45\",\"18h00\",\"18h15\",\"18h30\",\"18h45\",\"19h00\",\"19h15\",\"19h30\",\"19h45\",\"20h00\",\"20h15\",\"20h30\",\"20h45\",\"21h00\",\"21h15\",\"21h30\",\"21h45\",\"22h00\",\"22h15\",\"22h30\",\"22h45\",\"23h00\",\"23h15\",\"23h30\",\"23h45\"],\"x\":[0,1,2,3,4,5,6,7,8,9,10,11,12,13,14,15,16,17,18,19,20,21,22,23,24,25,26,27,28,29,30,31,32,33,34,35,36,37,38,39,40,41,42,43,44,45,46,47,48,49,50,51,52,53,54,55,56,57,58,59,60,61,62,63,64,65,66,67,68,69,70,71,72,73,74,75,76,77,78,79,80,81,82,83,84,85,86,87,88,89,90,91,92,93,94,95],\"y\":[6.066804413260799,6.133078940324143,6.191391304433109,6.241391380755401,6.278733553628683,6.3051474868121185,6.322495423791108,6.33375309648416,6.340930375168918,6.346063337230628,6.348117999935218,6.351201577331868,6.3542870546529615,6.356345095005511,6.359433738688057,6.35943373868806,6.358403979709953,6.354287054652702,6.3491456479582205,6.341956545311566,6.332728615656692,6.310243480836693,6.2635598464400575,6.182447936370178,6.062937311273054,5.922356655594349,5.783235445562738,5.664448715651107,5.5787459485226485,5.52186848385618,5.487949245079652,5.471196201986941,5.466435421299119,5.471196201982466,5.4847474310630115,5.504033361569157,5.5283905064577,5.553844299854388,5.579580486551744,5.600536617770993,5.614887520898009,5.624216298775832,5.62846770810464,5.62846770810464,5.62506602944441,5.617428406154723,5.603063245019584,5.579580486551734,5.547248267242072,5.512932411826466,5.4855474124219095,5.471196201986954,5.475968501187518,5.495975731250132,5.5259424821929235,5.558803671136672,5.5904555088645695,5.619123717857094,5.645541866205192,5.671356109995495,5.695665434968177,5.716665137240672,5.734278237086361,5.744008887582601,5.745781388236715,5.73692900676063,5.715787174649479,5.67828052247703,5.625916035884006,5.561287307805917,5.4887504845838935,5.412534913057769,5.336615032815782,5.2666570771258625,5.205991675746437,5.157120756222088,5.122346437863691,5.102278875113043,5.098352313674629,5.112509961190744,5.146133112456582,5.196242213006025,5.2549234363509045,5.313350878797386,5.362505214955601,5.404090250772638,5.442806478320751,5.483947764923306,5.532476567641366,5.587941609796248,5.648969766414391,5.714909469601862,5.783235445563211,5.8539407113339745,5.925157105377501,5.996785565766782],\"type\":\"scatter\"}],                        {\"template\":{\"data\":{\"histogram2dcontour\":[{\"type\":\"histogram2dcontour\",\"colorbar\":{\"outlinewidth\":0,\"ticks\":\"\"},\"colorscale\":[[0.0,\"#0d0887\"],[0.1111111111111111,\"#46039f\"],[0.2222222222222222,\"#7201a8\"],[0.3333333333333333,\"#9c179e\"],[0.4444444444444444,\"#bd3786\"],[0.5555555555555556,\"#d8576b\"],[0.6666666666666666,\"#ed7953\"],[0.7777777777777778,\"#fb9f3a\"],[0.8888888888888888,\"#fdca26\"],[1.0,\"#f0f921\"]]}],\"choropleth\":[{\"type\":\"choropleth\",\"colorbar\":{\"outlinewidth\":0,\"ticks\":\"\"}}],\"histogram2d\":[{\"type\":\"histogram2d\",\"colorbar\":{\"outlinewidth\":0,\"ticks\":\"\"},\"colorscale\":[[0.0,\"#0d0887\"],[0.1111111111111111,\"#46039f\"],[0.2222222222222222,\"#7201a8\"],[0.3333333333333333,\"#9c179e\"],[0.4444444444444444,\"#bd3786\"],[0.5555555555555556,\"#d8576b\"],[0.6666666666666666,\"#ed7953\"],[0.7777777777777778,\"#fb9f3a\"],[0.8888888888888888,\"#fdca26\"],[1.0,\"#f0f921\"]]}],\"heatmap\":[{\"type\":\"heatmap\",\"colorbar\":{\"outlinewidth\":0,\"ticks\":\"\"},\"colorscale\":[[0.0,\"#0d0887\"],[0.1111111111111111,\"#46039f\"],[0.2222222222222222,\"#7201a8\"],[0.3333333333333333,\"#9c179e\"],[0.4444444444444444,\"#bd3786\"],[0.5555555555555556,\"#d8576b\"],[0.6666666666666666,\"#ed7953\"],[0.7777777777777778,\"#fb9f3a\"],[0.8888888888888888,\"#fdca26\"],[1.0,\"#f0f921\"]]}],\"heatmapgl\":[{\"type\":\"heatmapgl\",\"colorbar\":{\"outlinewidth\":0,\"ticks\":\"\"},\"colorscale\":[[0.0,\"#0d0887\"],[0.1111111111111111,\"#46039f\"],[0.2222222222222222,\"#7201a8\"],[0.3333333333333333,\"#9c179e\"],[0.4444444444444444,\"#bd3786\"],[0.5555555555555556,\"#d8576b\"],[0.6666666666666666,\"#ed7953\"],[0.7777777777777778,\"#fb9f3a\"],[0.8888888888888888,\"#fdca26\"],[1.0,\"#f0f921\"]]}],\"contourcarpet\":[{\"type\":\"contourcarpet\",\"colorbar\":{\"outlinewidth\":0,\"ticks\":\"\"}}],\"contour\":[{\"type\":\"contour\",\"colorbar\":{\"outlinewidth\":0,\"ticks\":\"\"},\"colorscale\":[[0.0,\"#0d0887\"],[0.1111111111111111,\"#46039f\"],[0.2222222222222222,\"#7201a8\"],[0.3333333333333333,\"#9c179e\"],[0.4444444444444444,\"#bd3786\"],[0.5555555555555556,\"#d8576b\"],[0.6666666666666666,\"#ed7953\"],[0.7777777777777778,\"#fb9f3a\"],[0.8888888888888888,\"#fdca26\"],[1.0,\"#f0f921\"]]}],\"surface\":[{\"type\":\"surface\",\"colorbar\":{\"outlinewidth\":0,\"ticks\":\"\"},\"colorscale\":[[0.0,\"#0d0887\"],[0.1111111111111111,\"#46039f\"],[0.2222222222222222,\"#7201a8\"],[0.3333333333333333,\"#9c179e\"],[0.4444444444444444,\"#bd3786\"],[0.5555555555555556,\"#d8576b\"],[0.6666666666666666,\"#ed7953\"],[0.7777777777777778,\"#fb9f3a\"],[0.8888888888888888,\"#fdca26\"],[1.0,\"#f0f921\"]]}],\"mesh3d\":[{\"type\":\"mesh3d\",\"colorbar\":{\"outlinewidth\":0,\"ticks\":\"\"}}],\"scatter\":[{\"fillpattern\":{\"fillmode\":\"overlay\",\"size\":10,\"solidity\":0.2},\"type\":\"scatter\"}],\"parcoords\":[{\"type\":\"parcoords\",\"line\":{\"colorbar\":{\"outlinewidth\":0,\"ticks\":\"\"}}}],\"scatterpolargl\":[{\"type\":\"scatterpolargl\",\"marker\":{\"colorbar\":{\"outlinewidth\":0,\"ticks\":\"\"}}}],\"bar\":[{\"error_x\":{\"color\":\"#2a3f5f\"},\"error_y\":{\"color\":\"#2a3f5f\"},\"marker\":{\"line\":{\"color\":\"#E5ECF6\",\"width\":0.5},\"pattern\":{\"fillmode\":\"overlay\",\"size\":10,\"solidity\":0.2}},\"type\":\"bar\"}],\"scattergeo\":[{\"type\":\"scattergeo\",\"marker\":{\"colorbar\":{\"outlinewidth\":0,\"ticks\":\"\"}}}],\"scatterpolar\":[{\"type\":\"scatterpolar\",\"marker\":{\"colorbar\":{\"outlinewidth\":0,\"ticks\":\"\"}}}],\"histogram\":[{\"marker\":{\"pattern\":{\"fillmode\":\"overlay\",\"size\":10,\"solidity\":0.2}},\"type\":\"histogram\"}],\"scattergl\":[{\"type\":\"scattergl\",\"marker\":{\"colorbar\":{\"outlinewidth\":0,\"ticks\":\"\"}}}],\"scatter3d\":[{\"type\":\"scatter3d\",\"line\":{\"colorbar\":{\"outlinewidth\":0,\"ticks\":\"\"}},\"marker\":{\"colorbar\":{\"outlinewidth\":0,\"ticks\":\"\"}}}],\"scattermapbox\":[{\"type\":\"scattermapbox\",\"marker\":{\"colorbar\":{\"outlinewidth\":0,\"ticks\":\"\"}}}],\"scatterternary\":[{\"type\":\"scatterternary\",\"marker\":{\"colorbar\":{\"outlinewidth\":0,\"ticks\":\"\"}}}],\"scattercarpet\":[{\"type\":\"scattercarpet\",\"marker\":{\"colorbar\":{\"outlinewidth\":0,\"ticks\":\"\"}}}],\"carpet\":[{\"aaxis\":{\"endlinecolor\":\"#2a3f5f\",\"gridcolor\":\"white\",\"linecolor\":\"white\",\"minorgridcolor\":\"white\",\"startlinecolor\":\"#2a3f5f\"},\"baxis\":{\"endlinecolor\":\"#2a3f5f\",\"gridcolor\":\"white\",\"linecolor\":\"white\",\"minorgridcolor\":\"white\",\"startlinecolor\":\"#2a3f5f\"},\"type\":\"carpet\"}],\"table\":[{\"cells\":{\"fill\":{\"color\":\"#EBF0F8\"},\"line\":{\"color\":\"white\"}},\"header\":{\"fill\":{\"color\":\"#C8D4E3\"},\"line\":{\"color\":\"white\"}},\"type\":\"table\"}],\"barpolar\":[{\"marker\":{\"line\":{\"color\":\"#E5ECF6\",\"width\":0.5},\"pattern\":{\"fillmode\":\"overlay\",\"size\":10,\"solidity\":0.2}},\"type\":\"barpolar\"}],\"pie\":[{\"automargin\":true,\"type\":\"pie\"}]},\"layout\":{\"autotypenumbers\":\"strict\",\"colorway\":[\"#636efa\",\"#EF553B\",\"#00cc96\",\"#ab63fa\",\"#FFA15A\",\"#19d3f3\",\"#FF6692\",\"#B6E880\",\"#FF97FF\",\"#FECB52\"],\"font\":{\"color\":\"#2a3f5f\"},\"hovermode\":\"closest\",\"hoverlabel\":{\"align\":\"left\"},\"paper_bgcolor\":\"white\",\"plot_bgcolor\":\"#E5ECF6\",\"polar\":{\"bgcolor\":\"#E5ECF6\",\"angularaxis\":{\"gridcolor\":\"white\",\"linecolor\":\"white\",\"ticks\":\"\"},\"radialaxis\":{\"gridcolor\":\"white\",\"linecolor\":\"white\",\"ticks\":\"\"}},\"ternary\":{\"bgcolor\":\"#E5ECF6\",\"aaxis\":{\"gridcolor\":\"white\",\"linecolor\":\"white\",\"ticks\":\"\"},\"baxis\":{\"gridcolor\":\"white\",\"linecolor\":\"white\",\"ticks\":\"\"},\"caxis\":{\"gridcolor\":\"white\",\"linecolor\":\"white\",\"ticks\":\"\"}},\"coloraxis\":{\"colorbar\":{\"outlinewidth\":0,\"ticks\":\"\"}},\"colorscale\":{\"sequential\":[[0.0,\"#0d0887\"],[0.1111111111111111,\"#46039f\"],[0.2222222222222222,\"#7201a8\"],[0.3333333333333333,\"#9c179e\"],[0.4444444444444444,\"#bd3786\"],[0.5555555555555556,\"#d8576b\"],[0.6666666666666666,\"#ed7953\"],[0.7777777777777778,\"#fb9f3a\"],[0.8888888888888888,\"#fdca26\"],[1.0,\"#f0f921\"]],\"sequentialminus\":[[0.0,\"#0d0887\"],[0.1111111111111111,\"#46039f\"],[0.2222222222222222,\"#7201a8\"],[0.3333333333333333,\"#9c179e\"],[0.4444444444444444,\"#bd3786\"],[0.5555555555555556,\"#d8576b\"],[0.6666666666666666,\"#ed7953\"],[0.7777777777777778,\"#fb9f3a\"],[0.8888888888888888,\"#fdca26\"],[1.0,\"#f0f921\"]],\"diverging\":[[0,\"#8e0152\"],[0.1,\"#c51b7d\"],[0.2,\"#de77ae\"],[0.3,\"#f1b6da\"],[0.4,\"#fde0ef\"],[0.5,\"#f7f7f7\"],[0.6,\"#e6f5d0\"],[0.7,\"#b8e186\"],[0.8,\"#7fbc41\"],[0.9,\"#4d9221\"],[1,\"#276419\"]]},\"xaxis\":{\"gridcolor\":\"white\",\"linecolor\":\"white\",\"ticks\":\"\",\"title\":{\"standoff\":15},\"zerolinecolor\":\"white\",\"automargin\":true,\"zerolinewidth\":2},\"yaxis\":{\"gridcolor\":\"white\",\"linecolor\":\"white\",\"ticks\":\"\",\"title\":{\"standoff\":15},\"zerolinecolor\":\"white\",\"automargin\":true,\"zerolinewidth\":2},\"scene\":{\"xaxis\":{\"backgroundcolor\":\"#E5ECF6\",\"gridcolor\":\"white\",\"linecolor\":\"white\",\"showbackground\":true,\"ticks\":\"\",\"zerolinecolor\":\"white\",\"gridwidth\":2},\"yaxis\":{\"backgroundcolor\":\"#E5ECF6\",\"gridcolor\":\"white\",\"linecolor\":\"white\",\"showbackground\":true,\"ticks\":\"\",\"zerolinecolor\":\"white\",\"gridwidth\":2},\"zaxis\":{\"backgroundcolor\":\"#E5ECF6\",\"gridcolor\":\"white\",\"linecolor\":\"white\",\"showbackground\":true,\"ticks\":\"\",\"zerolinecolor\":\"white\",\"gridwidth\":2}},\"shapedefaults\":{\"line\":{\"color\":\"#2a3f5f\"}},\"annotationdefaults\":{\"arrowcolor\":\"#2a3f5f\",\"arrowhead\":0,\"arrowwidth\":1},\"geo\":{\"bgcolor\":\"white\",\"landcolor\":\"#E5ECF6\",\"subunitcolor\":\"white\",\"showland\":true,\"showlakes\":true,\"lakecolor\":\"white\"},\"title\":{\"x\":0.05},\"mapbox\":{\"style\":\"light\"}}},\"font\":{\"size\":15},\"xaxis\":{\"tickfont\":{\"size\":12,\"family\":\"Arial Black\"},\"title\":{\"text\":\"\\u003cb\\u003eTime\\u003cb\\u003e\",\"font\":{\"size\":12}},\"zeroline\":false,\"tickmode\":\"array\",\"tickvals\":[0,16,32,48,64,80],\"ticktext\":[\"00h00\",\"04h00\",\"08h00\",\"12h00\",\"16h00\",\"20h00\"],\"showline\":true,\"showgrid\":true,\"gridwidth\":1,\"linewidth\":2,\"linecolor\":\"black\",\"gridcolor\":\"black\"},\"yaxis\":{\"tickfont\":{\"size\":12,\"family\":\"Arial Black\"},\"title\":{\"text\":\"\\u003cb\\u003e[%]\\u003cb\\u003e\",\"font\":{\"size\":12}},\"zeroline\":false,\"showline\":true,\"showgrid\":true,\"gridwidth\":1,\"linewidth\":2,\"linecolor\":\"black\",\"gridcolor\":\"black\"},\"margin\":{\"t\":30},\"legend\":{\"font\":{\"size\":12}},\"paper_bgcolor\":\"white\",\"plot_bgcolor\":\"white\",\"width\":680,\"height\":400,\"title\":{\"text\":\"\\u003cb\\u003eLine loading\\u003cb\\u003e\",\"y\":0.97,\"x\":0.5,\"xanchor\":\"center\",\"yanchor\":\"top\"}},                        {\"responsive\": true}                    ).then(function(){\n",
       "                            \n",
       "var gd = document.getElementById('c6f78ad6-9fa1-4c7d-b485-46cd22a18b4c');\n",
       "var x = new MutationObserver(function (mutations, observer) {{\n",
       "        var display = window.getComputedStyle(gd).display;\n",
       "        if (!display || display === 'none') {{\n",
       "            console.log([gd, 'removed!']);\n",
       "            Plotly.purge(gd);\n",
       "            observer.disconnect();\n",
       "        }}\n",
       "}});\n",
       "\n",
       "// Listen for the removal of the full notebook cells\n",
       "var notebookContainer = gd.closest('#notebook-container');\n",
       "if (notebookContainer) {{\n",
       "    x.observe(notebookContainer, {childList: true});\n",
       "}}\n",
       "\n",
       "// Listen for the clearing of the current output cell\n",
       "var outputEl = gd.closest('.output');\n",
       "if (outputEl) {{\n",
       "    x.observe(outputEl, {childList: true});\n",
       "}}\n",
       "\n",
       "                        })                };                });            </script>        </div>"
      ]
     },
     "metadata": {},
     "output_type": "display_data"
    }
   ],
   "source": [
    "pp_plot.plot_timeseries_result(data_df=result_df[\"res_line.loading_percent\"], ylabel=\"[%]\", plot_title=\"Line loading\",\n",
    "                       filename= \"line_loading_result\")"
   ]
  },
  {
   "cell_type": "code",
   "execution_count": 234,
   "metadata": {},
   "outputs": [
    {
     "data": {
      "application/vnd.plotly.v1+json": {
       "config": {
        "plotlyServerURL": "https://plot.ly"
       },
       "data": [
        {
         "hoverinfo": "text",
         "legendgroup": "Transformers",
         "line": {
          "color": "rgb(166.93548387096772,255.0,79.83870967741936)",
          "width": 7
         },
         "mode": "lines",
         "name": "Transformers",
         "showlegend": true,
         "text": "Transfo T1<br>Loading: 55.3 %",
         "type": "scatter",
         "x": [
          0.04411484319830219,
          -0.18465400447251362,
          -0.4134228521433294
         ],
         "y": [
          0.2929668050525229,
          0.5963570023987358,
          0.8997471997449487
         ]
        },
        {
         "hoverinfo": "text",
         "legendgroup": "Transformers",
         "marker": {
          "color": "rgb(166.93548387096772,255.0,79.83870967741936)",
          "size": 1,
          "symbol": "circle"
         },
         "mode": "markers",
         "name": "edge_center",
         "showlegend": false,
         "text": [
          "Transfo T1<br>Loading: 55.3 %"
         ],
         "type": "scatter",
         "x": [
          -0.18465400447251362
         ],
         "y": [
          0.5963570023987358
         ]
        },
        {
         "hoverinfo": "text",
         "legendgroup": "lines",
         "line": {
          "color": "rgb(0.0,0.0,255.0)",
          "width": 3
         },
         "mode": "lines",
         "name": "lines",
         "showlegend": true,
         "text": "line_a<br>Loading: 12.0 %",
         "type": "scatter",
         "x": [
          0.864732143824462,
          0.8037953996404956,
          0.7428586554565294
         ],
         "y": [
          -0.7953249239893944,
          -0.4149081565426613,
          -0.03449138909592816
         ]
        },
        {
         "hoverinfo": "text",
         "legendgroup": "lines",
         "line": {
          "color": "rgb(0.0,0.0,227.49999999999997)",
          "width": 3
         },
         "mode": "lines",
         "name": "lines",
         "showlegend": false,
         "text": "line_b<br>Loading: 8.8 %",
         "type": "scatter",
         "x": [
          0.7428586554565294,
          0.4548102095195367,
          0.16676176358254402
         ],
         "y": [
          -0.03449138909592816,
          -0.251691917085301,
          -0.4688924450746738
         ]
        },
        {
         "hoverinfo": "text",
         "legendgroup": "lines",
         "line": {
          "color": "rgb(0.0,0.0,186.5909090909091)",
          "width": 3
         },
         "mode": "lines",
         "name": "lines",
         "showlegend": false,
         "text": "line_c<br>Loading: 5.2 %",
         "type": "scatter",
         "x": [
          0.864732143824462,
          0.515746953703503,
          0.16676176358254402
         ],
         "y": [
          -0.7953249239893944,
          -0.6321086845320341,
          -0.4688924450746738
         ]
        },
        {
         "hoverinfo": "text",
         "legendgroup": "lines",
         "line": {
          "color": "rgb(0.0,0.0,250.22727272727272)",
          "width": 3
         },
         "mode": "lines",
         "name": "lines",
         "showlegend": false,
         "text": "line_d<br>Loading: 10.9 %",
         "type": "scatter",
         "x": [
          0.16676176358254402,
          0.10543830339042311,
          0.04411484319830219
         ],
         "y": [
          -0.4688924450746738,
          -0.08796282001107544,
          0.2929668050525229
         ]
        },
        {
         "hoverinfo": "text",
         "legendgroup": "lines",
         "line": {
          "color": "rgb(0.0,0.0,191.13636363636363)",
          "width": 3
         },
         "mode": "lines",
         "name": "lines",
         "showlegend": false,
         "text": "line_e<br>Loading: 5.5 %",
         "type": "scatter",
         "x": [
          0.7428586554565294,
          0.3934867493274158,
          0.04411484319830219
         ],
         "y": [
          -0.03449138909592816,
          0.1292377079782974,
          0.2929668050525229
         ]
        },
        {
         "marker": {
          "cmax": 100,
          "cmin": 0,
          "color": "rgb(255,255,255)",
          "colorbar": {
           "thickness": 10,
           "title": {
            "side": "right",
            "text": "Equipment loading [%]"
           },
           "x": 1.15
          },
          "colorscale": [
           [
            0,
            "rgb(0,0,131)"
           ],
           [
            0.2,
            "rgb(0,60,170)"
           ],
           [
            0.4,
            "rgb(5,255,255)"
           ],
           [
            0.6,
            "rgb(255,255,0)"
           ],
           [
            0.8,
            "rgb(250,0,0)"
           ],
           [
            1,
            "rgb(128,0,0)"
           ]
          ],
          "opacity": 0,
          "size": 0
         },
         "mode": "markers",
         "type": "scatter",
         "x": [
          0.864732143824462
         ],
         "y": [
          -0.7953249239893944
         ]
        },
        {
         "hoverinfo": "text",
         "legendgroup": "lines",
         "marker": {
          "color": "rgb(128, 128, 128)",
          "size": 1,
          "symbol": "circle"
         },
         "mode": "markers",
         "name": "edge_center",
         "showlegend": false,
         "text": [
          "line_a<br>Loading: 12.0 %",
          "line_b<br>Loading: 8.8 %",
          "line_c<br>Loading: 5.2 %",
          "line_d<br>Loading: 10.9 %",
          "line_e<br>Loading: 5.5 %"
         ],
         "type": "scatter",
         "x": [
          0.8037953996404956
         ],
         "y": [
          -0.4149081565426613
         ]
        },
        {
         "hoverinfo": "text",
         "marker": {
          "color": "rgb(191, 191, 0)",
          "size": 30,
          "symbol": "square"
         },
         "mode": "markers",
         "name": "Ext grid",
         "text": [
          "Gen 1"
         ],
         "type": "scatter",
         "x": [
          0.864732143824462
         ],
         "y": [
          -0.7953249239893944
         ]
        },
        {
         "hoverinfo": "text",
         "marker": {
          "cmax": 1.15,
          "cmin": 0.85,
          "color": [
           1,
           1.05,
           1.0498066283192322,
           1.0247830682160526,
           1.0000000000000002
          ],
          "colorbar": {
           "thickness": 10,
           "title": {
            "side": "right",
            "text": "Bus voltage [pu]"
           },
           "x": 1
          },
          "colorscale": [
           [
            0,
            "rgb(0,0,131)"
           ],
           [
            0.2,
            "rgb(0,60,170)"
           ],
           [
            0.4,
            "rgb(5,255,255)"
           ],
           [
            0.6,
            "rgb(255,255,0)"
           ],
           [
            0.8,
            "rgb(250,0,0)"
           ],
           [
            1,
            "rgb(128,0,0)"
           ]
          ],
          "size": 20,
          "symbol": "circle"
         },
         "mode": "markers",
         "name": "buses",
         "text": [
          "bus_1<br>V: 1.0 pu",
          "bus_2<br>V: 1.05 pu",
          "bus_3<br>V: 1.05 pu",
          "bus_4<br>V: 1.025 pu",
          "bus_5<br>V: 1.0 pu"
         ],
         "type": "scatter",
         "x": [
          0.864732143824462,
          0.7428586554565294,
          0.16676176358254402,
          0.04411484319830219,
          -0.4134228521433294
         ],
         "y": [
          -0.7953249239893944,
          -0.03449138909592816,
          -0.4688924450746738,
          0.2929668050525229,
          0.8997471997449487
         ]
        }
       ],
       "layout": {
        "font": {
         "size": 15
        },
        "height": 400,
        "hovermode": "closest",
        "legend": {
         "font": {
          "size": 12
         },
         "itemsizing": "constant"
        },
        "margin": {
         "b": 5,
         "l": 5,
         "r": 5,
         "t": 30
        },
        "paper_bgcolor": "white",
        "plot_bgcolor": "white",
        "showlegend": false,
        "template": {
         "data": {
          "bar": [
           {
            "error_x": {
             "color": "#2a3f5f"
            },
            "error_y": {
             "color": "#2a3f5f"
            },
            "marker": {
             "line": {
              "color": "#E5ECF6",
              "width": 0.5
             },
             "pattern": {
              "fillmode": "overlay",
              "size": 10,
              "solidity": 0.2
             }
            },
            "type": "bar"
           }
          ],
          "barpolar": [
           {
            "marker": {
             "line": {
              "color": "#E5ECF6",
              "width": 0.5
             },
             "pattern": {
              "fillmode": "overlay",
              "size": 10,
              "solidity": 0.2
             }
            },
            "type": "barpolar"
           }
          ],
          "carpet": [
           {
            "aaxis": {
             "endlinecolor": "#2a3f5f",
             "gridcolor": "white",
             "linecolor": "white",
             "minorgridcolor": "white",
             "startlinecolor": "#2a3f5f"
            },
            "baxis": {
             "endlinecolor": "#2a3f5f",
             "gridcolor": "white",
             "linecolor": "white",
             "minorgridcolor": "white",
             "startlinecolor": "#2a3f5f"
            },
            "type": "carpet"
           }
          ],
          "choropleth": [
           {
            "colorbar": {
             "outlinewidth": 0,
             "ticks": ""
            },
            "type": "choropleth"
           }
          ],
          "contour": [
           {
            "colorbar": {
             "outlinewidth": 0,
             "ticks": ""
            },
            "colorscale": [
             [
              0,
              "#0d0887"
             ],
             [
              0.1111111111111111,
              "#46039f"
             ],
             [
              0.2222222222222222,
              "#7201a8"
             ],
             [
              0.3333333333333333,
              "#9c179e"
             ],
             [
              0.4444444444444444,
              "#bd3786"
             ],
             [
              0.5555555555555556,
              "#d8576b"
             ],
             [
              0.6666666666666666,
              "#ed7953"
             ],
             [
              0.7777777777777778,
              "#fb9f3a"
             ],
             [
              0.8888888888888888,
              "#fdca26"
             ],
             [
              1,
              "#f0f921"
             ]
            ],
            "type": "contour"
           }
          ],
          "contourcarpet": [
           {
            "colorbar": {
             "outlinewidth": 0,
             "ticks": ""
            },
            "type": "contourcarpet"
           }
          ],
          "heatmap": [
           {
            "colorbar": {
             "outlinewidth": 0,
             "ticks": ""
            },
            "colorscale": [
             [
              0,
              "#0d0887"
             ],
             [
              0.1111111111111111,
              "#46039f"
             ],
             [
              0.2222222222222222,
              "#7201a8"
             ],
             [
              0.3333333333333333,
              "#9c179e"
             ],
             [
              0.4444444444444444,
              "#bd3786"
             ],
             [
              0.5555555555555556,
              "#d8576b"
             ],
             [
              0.6666666666666666,
              "#ed7953"
             ],
             [
              0.7777777777777778,
              "#fb9f3a"
             ],
             [
              0.8888888888888888,
              "#fdca26"
             ],
             [
              1,
              "#f0f921"
             ]
            ],
            "type": "heatmap"
           }
          ],
          "heatmapgl": [
           {
            "colorbar": {
             "outlinewidth": 0,
             "ticks": ""
            },
            "colorscale": [
             [
              0,
              "#0d0887"
             ],
             [
              0.1111111111111111,
              "#46039f"
             ],
             [
              0.2222222222222222,
              "#7201a8"
             ],
             [
              0.3333333333333333,
              "#9c179e"
             ],
             [
              0.4444444444444444,
              "#bd3786"
             ],
             [
              0.5555555555555556,
              "#d8576b"
             ],
             [
              0.6666666666666666,
              "#ed7953"
             ],
             [
              0.7777777777777778,
              "#fb9f3a"
             ],
             [
              0.8888888888888888,
              "#fdca26"
             ],
             [
              1,
              "#f0f921"
             ]
            ],
            "type": "heatmapgl"
           }
          ],
          "histogram": [
           {
            "marker": {
             "pattern": {
              "fillmode": "overlay",
              "size": 10,
              "solidity": 0.2
             }
            },
            "type": "histogram"
           }
          ],
          "histogram2d": [
           {
            "colorbar": {
             "outlinewidth": 0,
             "ticks": ""
            },
            "colorscale": [
             [
              0,
              "#0d0887"
             ],
             [
              0.1111111111111111,
              "#46039f"
             ],
             [
              0.2222222222222222,
              "#7201a8"
             ],
             [
              0.3333333333333333,
              "#9c179e"
             ],
             [
              0.4444444444444444,
              "#bd3786"
             ],
             [
              0.5555555555555556,
              "#d8576b"
             ],
             [
              0.6666666666666666,
              "#ed7953"
             ],
             [
              0.7777777777777778,
              "#fb9f3a"
             ],
             [
              0.8888888888888888,
              "#fdca26"
             ],
             [
              1,
              "#f0f921"
             ]
            ],
            "type": "histogram2d"
           }
          ],
          "histogram2dcontour": [
           {
            "colorbar": {
             "outlinewidth": 0,
             "ticks": ""
            },
            "colorscale": [
             [
              0,
              "#0d0887"
             ],
             [
              0.1111111111111111,
              "#46039f"
             ],
             [
              0.2222222222222222,
              "#7201a8"
             ],
             [
              0.3333333333333333,
              "#9c179e"
             ],
             [
              0.4444444444444444,
              "#bd3786"
             ],
             [
              0.5555555555555556,
              "#d8576b"
             ],
             [
              0.6666666666666666,
              "#ed7953"
             ],
             [
              0.7777777777777778,
              "#fb9f3a"
             ],
             [
              0.8888888888888888,
              "#fdca26"
             ],
             [
              1,
              "#f0f921"
             ]
            ],
            "type": "histogram2dcontour"
           }
          ],
          "mesh3d": [
           {
            "colorbar": {
             "outlinewidth": 0,
             "ticks": ""
            },
            "type": "mesh3d"
           }
          ],
          "parcoords": [
           {
            "line": {
             "colorbar": {
              "outlinewidth": 0,
              "ticks": ""
             }
            },
            "type": "parcoords"
           }
          ],
          "pie": [
           {
            "automargin": true,
            "type": "pie"
           }
          ],
          "scatter": [
           {
            "fillpattern": {
             "fillmode": "overlay",
             "size": 10,
             "solidity": 0.2
            },
            "type": "scatter"
           }
          ],
          "scatter3d": [
           {
            "line": {
             "colorbar": {
              "outlinewidth": 0,
              "ticks": ""
             }
            },
            "marker": {
             "colorbar": {
              "outlinewidth": 0,
              "ticks": ""
             }
            },
            "type": "scatter3d"
           }
          ],
          "scattercarpet": [
           {
            "marker": {
             "colorbar": {
              "outlinewidth": 0,
              "ticks": ""
             }
            },
            "type": "scattercarpet"
           }
          ],
          "scattergeo": [
           {
            "marker": {
             "colorbar": {
              "outlinewidth": 0,
              "ticks": ""
             }
            },
            "type": "scattergeo"
           }
          ],
          "scattergl": [
           {
            "marker": {
             "colorbar": {
              "outlinewidth": 0,
              "ticks": ""
             }
            },
            "type": "scattergl"
           }
          ],
          "scattermapbox": [
           {
            "marker": {
             "colorbar": {
              "outlinewidth": 0,
              "ticks": ""
             }
            },
            "type": "scattermapbox"
           }
          ],
          "scatterpolar": [
           {
            "marker": {
             "colorbar": {
              "outlinewidth": 0,
              "ticks": ""
             }
            },
            "type": "scatterpolar"
           }
          ],
          "scatterpolargl": [
           {
            "marker": {
             "colorbar": {
              "outlinewidth": 0,
              "ticks": ""
             }
            },
            "type": "scatterpolargl"
           }
          ],
          "scatterternary": [
           {
            "marker": {
             "colorbar": {
              "outlinewidth": 0,
              "ticks": ""
             }
            },
            "type": "scatterternary"
           }
          ],
          "surface": [
           {
            "colorbar": {
             "outlinewidth": 0,
             "ticks": ""
            },
            "colorscale": [
             [
              0,
              "#0d0887"
             ],
             [
              0.1111111111111111,
              "#46039f"
             ],
             [
              0.2222222222222222,
              "#7201a8"
             ],
             [
              0.3333333333333333,
              "#9c179e"
             ],
             [
              0.4444444444444444,
              "#bd3786"
             ],
             [
              0.5555555555555556,
              "#d8576b"
             ],
             [
              0.6666666666666666,
              "#ed7953"
             ],
             [
              0.7777777777777778,
              "#fb9f3a"
             ],
             [
              0.8888888888888888,
              "#fdca26"
             ],
             [
              1,
              "#f0f921"
             ]
            ],
            "type": "surface"
           }
          ],
          "table": [
           {
            "cells": {
             "fill": {
              "color": "#EBF0F8"
             },
             "line": {
              "color": "white"
             }
            },
            "header": {
             "fill": {
              "color": "#C8D4E3"
             },
             "line": {
              "color": "white"
             }
            },
            "type": "table"
           }
          ]
         },
         "layout": {
          "annotationdefaults": {
           "arrowcolor": "#2a3f5f",
           "arrowhead": 0,
           "arrowwidth": 1
          },
          "autotypenumbers": "strict",
          "coloraxis": {
           "colorbar": {
            "outlinewidth": 0,
            "ticks": ""
           }
          },
          "colorscale": {
           "diverging": [
            [
             0,
             "#8e0152"
            ],
            [
             0.1,
             "#c51b7d"
            ],
            [
             0.2,
             "#de77ae"
            ],
            [
             0.3,
             "#f1b6da"
            ],
            [
             0.4,
             "#fde0ef"
            ],
            [
             0.5,
             "#f7f7f7"
            ],
            [
             0.6,
             "#e6f5d0"
            ],
            [
             0.7,
             "#b8e186"
            ],
            [
             0.8,
             "#7fbc41"
            ],
            [
             0.9,
             "#4d9221"
            ],
            [
             1,
             "#276419"
            ]
           ],
           "sequential": [
            [
             0,
             "#0d0887"
            ],
            [
             0.1111111111111111,
             "#46039f"
            ],
            [
             0.2222222222222222,
             "#7201a8"
            ],
            [
             0.3333333333333333,
             "#9c179e"
            ],
            [
             0.4444444444444444,
             "#bd3786"
            ],
            [
             0.5555555555555556,
             "#d8576b"
            ],
            [
             0.6666666666666666,
             "#ed7953"
            ],
            [
             0.7777777777777778,
             "#fb9f3a"
            ],
            [
             0.8888888888888888,
             "#fdca26"
            ],
            [
             1,
             "#f0f921"
            ]
           ],
           "sequentialminus": [
            [
             0,
             "#0d0887"
            ],
            [
             0.1111111111111111,
             "#46039f"
            ],
            [
             0.2222222222222222,
             "#7201a8"
            ],
            [
             0.3333333333333333,
             "#9c179e"
            ],
            [
             0.4444444444444444,
             "#bd3786"
            ],
            [
             0.5555555555555556,
             "#d8576b"
            ],
            [
             0.6666666666666666,
             "#ed7953"
            ],
            [
             0.7777777777777778,
             "#fb9f3a"
            ],
            [
             0.8888888888888888,
             "#fdca26"
            ],
            [
             1,
             "#f0f921"
            ]
           ]
          },
          "colorway": [
           "#636efa",
           "#EF553B",
           "#00cc96",
           "#ab63fa",
           "#FFA15A",
           "#19d3f3",
           "#FF6692",
           "#B6E880",
           "#FF97FF",
           "#FECB52"
          ],
          "font": {
           "color": "#2a3f5f"
          },
          "geo": {
           "bgcolor": "white",
           "lakecolor": "white",
           "landcolor": "#E5ECF6",
           "showlakes": true,
           "showland": true,
           "subunitcolor": "white"
          },
          "hoverlabel": {
           "align": "left"
          },
          "hovermode": "closest",
          "mapbox": {
           "style": "light"
          },
          "paper_bgcolor": "white",
          "plot_bgcolor": "#E5ECF6",
          "polar": {
           "angularaxis": {
            "gridcolor": "white",
            "linecolor": "white",
            "ticks": ""
           },
           "bgcolor": "#E5ECF6",
           "radialaxis": {
            "gridcolor": "white",
            "linecolor": "white",
            "ticks": ""
           }
          },
          "scene": {
           "xaxis": {
            "backgroundcolor": "#E5ECF6",
            "gridcolor": "white",
            "gridwidth": 2,
            "linecolor": "white",
            "showbackground": true,
            "ticks": "",
            "zerolinecolor": "white"
           },
           "yaxis": {
            "backgroundcolor": "#E5ECF6",
            "gridcolor": "white",
            "gridwidth": 2,
            "linecolor": "white",
            "showbackground": true,
            "ticks": "",
            "zerolinecolor": "white"
           },
           "zaxis": {
            "backgroundcolor": "#E5ECF6",
            "gridcolor": "white",
            "gridwidth": 2,
            "linecolor": "white",
            "showbackground": true,
            "ticks": "",
            "zerolinecolor": "white"
           }
          },
          "shapedefaults": {
           "line": {
            "color": "#2a3f5f"
           }
          },
          "ternary": {
           "aaxis": {
            "gridcolor": "white",
            "linecolor": "white",
            "ticks": ""
           },
           "baxis": {
            "gridcolor": "white",
            "linecolor": "white",
            "ticks": ""
           },
           "bgcolor": "#E5ECF6",
           "caxis": {
            "gridcolor": "white",
            "linecolor": "white",
            "ticks": ""
           }
          },
          "title": {
           "x": 0.05
          },
          "xaxis": {
           "automargin": true,
           "gridcolor": "white",
           "linecolor": "white",
           "ticks": "",
           "title": {
            "standoff": 15
           },
           "zerolinecolor": "white",
           "zerolinewidth": 2
          },
          "yaxis": {
           "automargin": true,
           "gridcolor": "white",
           "linecolor": "white",
           "ticks": "",
           "title": {
            "standoff": 15
           },
           "zerolinecolor": "white",
           "zerolinewidth": 2
          }
         }
        },
        "title": {
         "text": "<b>Powerflow results at 12h00<b>",
         "x": 0.5,
         "xanchor": "center",
         "y": 0.97,
         "yanchor": "top"
        },
        "width": 770,
        "xaxis": {
         "showgrid": false,
         "showticklabels": false,
         "tickfont": {
          "family": "Arial Black",
          "size": 12
         },
         "title": {
          "font": {
           "size": 12
          }
         },
         "zeroline": false
        },
        "yaxis": {
         "showgrid": false,
         "showticklabels": false,
         "tickfont": {
          "family": "Arial Black",
          "size": 12
         },
         "title": {
          "font": {
           "size": 12
          }
         },
         "zeroline": false
        }
       }
      },
      "text/html": [
       "<div>                            <div id=\"51b0db54-e2c5-4726-bd1b-ec40d75fbf18\" class=\"plotly-graph-div\" style=\"height:400px; width:770px;\"></div>            <script type=\"text/javascript\">                require([\"plotly\"], function(Plotly) {                    window.PLOTLYENV=window.PLOTLYENV || {};                                    if (document.getElementById(\"51b0db54-e2c5-4726-bd1b-ec40d75fbf18\")) {                    Plotly.newPlot(                        \"51b0db54-e2c5-4726-bd1b-ec40d75fbf18\",                        [{\"hoverinfo\":\"text\",\"legendgroup\":\"Transformers\",\"line\":{\"color\":\"rgb(166.93548387096772,255.0,79.83870967741936)\",\"width\":7},\"mode\":\"lines\",\"name\":\"Transformers\",\"showlegend\":true,\"text\":\"Transfo T1\\u003cbr\\u003eLoading: 55.3 %\",\"x\":[0.04411484319830219,-0.18465400447251362,-0.4134228521433294],\"y\":[0.2929668050525229,0.5963570023987358,0.8997471997449487],\"type\":\"scatter\"},{\"hoverinfo\":\"text\",\"legendgroup\":\"Transformers\",\"marker\":{\"color\":\"rgb(166.93548387096772,255.0,79.83870967741936)\",\"size\":1,\"symbol\":\"circle\"},\"mode\":\"markers\",\"name\":\"edge_center\",\"showlegend\":false,\"text\":[\"Transfo T1\\u003cbr\\u003eLoading: 55.3 %\"],\"x\":[-0.18465400447251362],\"y\":[0.5963570023987358],\"type\":\"scatter\"},{\"hoverinfo\":\"text\",\"legendgroup\":\"lines\",\"line\":{\"color\":\"rgb(0.0,0.0,255.0)\",\"width\":3},\"mode\":\"lines\",\"name\":\"lines\",\"showlegend\":true,\"text\":\"line_a\\u003cbr\\u003eLoading: 12.0 %\",\"x\":[0.864732143824462,0.8037953996404956,0.7428586554565294],\"y\":[-0.7953249239893944,-0.4149081565426613,-0.03449138909592816],\"type\":\"scatter\"},{\"hoverinfo\":\"text\",\"legendgroup\":\"lines\",\"line\":{\"color\":\"rgb(0.0,0.0,227.49999999999997)\",\"width\":3},\"mode\":\"lines\",\"name\":\"lines\",\"showlegend\":false,\"text\":\"line_b\\u003cbr\\u003eLoading: 8.8 %\",\"x\":[0.7428586554565294,0.4548102095195367,0.16676176358254402],\"y\":[-0.03449138909592816,-0.251691917085301,-0.4688924450746738],\"type\":\"scatter\"},{\"hoverinfo\":\"text\",\"legendgroup\":\"lines\",\"line\":{\"color\":\"rgb(0.0,0.0,186.5909090909091)\",\"width\":3},\"mode\":\"lines\",\"name\":\"lines\",\"showlegend\":false,\"text\":\"line_c\\u003cbr\\u003eLoading: 5.2 %\",\"x\":[0.864732143824462,0.515746953703503,0.16676176358254402],\"y\":[-0.7953249239893944,-0.6321086845320341,-0.4688924450746738],\"type\":\"scatter\"},{\"hoverinfo\":\"text\",\"legendgroup\":\"lines\",\"line\":{\"color\":\"rgb(0.0,0.0,250.22727272727272)\",\"width\":3},\"mode\":\"lines\",\"name\":\"lines\",\"showlegend\":false,\"text\":\"line_d\\u003cbr\\u003eLoading: 10.9 %\",\"x\":[0.16676176358254402,0.10543830339042311,0.04411484319830219],\"y\":[-0.4688924450746738,-0.08796282001107544,0.2929668050525229],\"type\":\"scatter\"},{\"hoverinfo\":\"text\",\"legendgroup\":\"lines\",\"line\":{\"color\":\"rgb(0.0,0.0,191.13636363636363)\",\"width\":3},\"mode\":\"lines\",\"name\":\"lines\",\"showlegend\":false,\"text\":\"line_e\\u003cbr\\u003eLoading: 5.5 %\",\"x\":[0.7428586554565294,0.3934867493274158,0.04411484319830219],\"y\":[-0.03449138909592816,0.1292377079782974,0.2929668050525229],\"type\":\"scatter\"},{\"marker\":{\"cmax\":100,\"cmin\":0,\"color\":\"rgb(255,255,255)\",\"colorbar\":{\"thickness\":10,\"title\":{\"side\":\"right\",\"text\":\"Equipment loading [%]\"},\"x\":1.15},\"colorscale\":[[0.0,\"rgb(0,0,131)\"],[0.2,\"rgb(0,60,170)\"],[0.4,\"rgb(5,255,255)\"],[0.6,\"rgb(255,255,0)\"],[0.8,\"rgb(250,0,0)\"],[1.0,\"rgb(128,0,0)\"]],\"opacity\":0,\"size\":0},\"mode\":\"markers\",\"x\":[0.864732143824462],\"y\":[-0.7953249239893944],\"type\":\"scatter\"},{\"hoverinfo\":\"text\",\"legendgroup\":\"lines\",\"marker\":{\"color\":\"rgb(128, 128, 128)\",\"size\":1,\"symbol\":\"circle\"},\"mode\":\"markers\",\"name\":\"edge_center\",\"showlegend\":false,\"text\":[\"line_a\\u003cbr\\u003eLoading: 12.0 %\",\"line_b\\u003cbr\\u003eLoading: 8.8 %\",\"line_c\\u003cbr\\u003eLoading: 5.2 %\",\"line_d\\u003cbr\\u003eLoading: 10.9 %\",\"line_e\\u003cbr\\u003eLoading: 5.5 %\"],\"x\":[0.8037953996404956],\"y\":[-0.4149081565426613],\"type\":\"scatter\"},{\"hoverinfo\":\"text\",\"marker\":{\"color\":\"rgb(191, 191, 0)\",\"size\":30,\"symbol\":\"square\"},\"mode\":\"markers\",\"name\":\"Ext grid\",\"text\":[\"Gen 1\"],\"x\":[0.864732143824462],\"y\":[-0.7953249239893944],\"type\":\"scatter\"},{\"hoverinfo\":\"text\",\"marker\":{\"cmax\":1.15,\"cmin\":0.85,\"color\":[1.0,1.05,1.0498066283192322,1.0247830682160526,1.0000000000000002],\"colorbar\":{\"thickness\":10,\"title\":{\"side\":\"right\",\"text\":\"Bus voltage [pu]\"},\"x\":1.0},\"colorscale\":[[0.0,\"rgb(0,0,131)\"],[0.2,\"rgb(0,60,170)\"],[0.4,\"rgb(5,255,255)\"],[0.6,\"rgb(255,255,0)\"],[0.8,\"rgb(250,0,0)\"],[1.0,\"rgb(128,0,0)\"]],\"size\":20,\"symbol\":\"circle\"},\"mode\":\"markers\",\"name\":\"buses\",\"text\":[\"bus_1\\u003cbr\\u003eV: 1.0 pu\",\"bus_2\\u003cbr\\u003eV: 1.05 pu\",\"bus_3\\u003cbr\\u003eV: 1.05 pu\",\"bus_4\\u003cbr\\u003eV: 1.025 pu\",\"bus_5\\u003cbr\\u003eV: 1.0 pu\"],\"x\":[0.864732143824462,0.7428586554565294,0.16676176358254402,0.04411484319830219,-0.4134228521433294],\"y\":[-0.7953249239893944,-0.03449138909592816,-0.4688924450746738,0.2929668050525229,0.8997471997449487],\"type\":\"scatter\"}],                        {\"hovermode\":\"closest\",\"legend\":{\"itemsizing\":\"constant\",\"font\":{\"size\":12}},\"margin\":{\"b\":5,\"l\":5,\"r\":5,\"t\":30},\"showlegend\":false,\"xaxis\":{\"showgrid\":false,\"showticklabels\":false,\"zeroline\":false,\"tickfont\":{\"size\":12,\"family\":\"Arial Black\"},\"title\":{\"font\":{\"size\":12}}},\"yaxis\":{\"showgrid\":false,\"showticklabels\":false,\"zeroline\":false,\"tickfont\":{\"size\":12,\"family\":\"Arial Black\"},\"title\":{\"font\":{\"size\":12}}},\"template\":{\"data\":{\"histogram2dcontour\":[{\"type\":\"histogram2dcontour\",\"colorbar\":{\"outlinewidth\":0,\"ticks\":\"\"},\"colorscale\":[[0.0,\"#0d0887\"],[0.1111111111111111,\"#46039f\"],[0.2222222222222222,\"#7201a8\"],[0.3333333333333333,\"#9c179e\"],[0.4444444444444444,\"#bd3786\"],[0.5555555555555556,\"#d8576b\"],[0.6666666666666666,\"#ed7953\"],[0.7777777777777778,\"#fb9f3a\"],[0.8888888888888888,\"#fdca26\"],[1.0,\"#f0f921\"]]}],\"choropleth\":[{\"type\":\"choropleth\",\"colorbar\":{\"outlinewidth\":0,\"ticks\":\"\"}}],\"histogram2d\":[{\"type\":\"histogram2d\",\"colorbar\":{\"outlinewidth\":0,\"ticks\":\"\"},\"colorscale\":[[0.0,\"#0d0887\"],[0.1111111111111111,\"#46039f\"],[0.2222222222222222,\"#7201a8\"],[0.3333333333333333,\"#9c179e\"],[0.4444444444444444,\"#bd3786\"],[0.5555555555555556,\"#d8576b\"],[0.6666666666666666,\"#ed7953\"],[0.7777777777777778,\"#fb9f3a\"],[0.8888888888888888,\"#fdca26\"],[1.0,\"#f0f921\"]]}],\"heatmap\":[{\"type\":\"heatmap\",\"colorbar\":{\"outlinewidth\":0,\"ticks\":\"\"},\"colorscale\":[[0.0,\"#0d0887\"],[0.1111111111111111,\"#46039f\"],[0.2222222222222222,\"#7201a8\"],[0.3333333333333333,\"#9c179e\"],[0.4444444444444444,\"#bd3786\"],[0.5555555555555556,\"#d8576b\"],[0.6666666666666666,\"#ed7953\"],[0.7777777777777778,\"#fb9f3a\"],[0.8888888888888888,\"#fdca26\"],[1.0,\"#f0f921\"]]}],\"heatmapgl\":[{\"type\":\"heatmapgl\",\"colorbar\":{\"outlinewidth\":0,\"ticks\":\"\"},\"colorscale\":[[0.0,\"#0d0887\"],[0.1111111111111111,\"#46039f\"],[0.2222222222222222,\"#7201a8\"],[0.3333333333333333,\"#9c179e\"],[0.4444444444444444,\"#bd3786\"],[0.5555555555555556,\"#d8576b\"],[0.6666666666666666,\"#ed7953\"],[0.7777777777777778,\"#fb9f3a\"],[0.8888888888888888,\"#fdca26\"],[1.0,\"#f0f921\"]]}],\"contourcarpet\":[{\"type\":\"contourcarpet\",\"colorbar\":{\"outlinewidth\":0,\"ticks\":\"\"}}],\"contour\":[{\"type\":\"contour\",\"colorbar\":{\"outlinewidth\":0,\"ticks\":\"\"},\"colorscale\":[[0.0,\"#0d0887\"],[0.1111111111111111,\"#46039f\"],[0.2222222222222222,\"#7201a8\"],[0.3333333333333333,\"#9c179e\"],[0.4444444444444444,\"#bd3786\"],[0.5555555555555556,\"#d8576b\"],[0.6666666666666666,\"#ed7953\"],[0.7777777777777778,\"#fb9f3a\"],[0.8888888888888888,\"#fdca26\"],[1.0,\"#f0f921\"]]}],\"surface\":[{\"type\":\"surface\",\"colorbar\":{\"outlinewidth\":0,\"ticks\":\"\"},\"colorscale\":[[0.0,\"#0d0887\"],[0.1111111111111111,\"#46039f\"],[0.2222222222222222,\"#7201a8\"],[0.3333333333333333,\"#9c179e\"],[0.4444444444444444,\"#bd3786\"],[0.5555555555555556,\"#d8576b\"],[0.6666666666666666,\"#ed7953\"],[0.7777777777777778,\"#fb9f3a\"],[0.8888888888888888,\"#fdca26\"],[1.0,\"#f0f921\"]]}],\"mesh3d\":[{\"type\":\"mesh3d\",\"colorbar\":{\"outlinewidth\":0,\"ticks\":\"\"}}],\"scatter\":[{\"fillpattern\":{\"fillmode\":\"overlay\",\"size\":10,\"solidity\":0.2},\"type\":\"scatter\"}],\"parcoords\":[{\"type\":\"parcoords\",\"line\":{\"colorbar\":{\"outlinewidth\":0,\"ticks\":\"\"}}}],\"scatterpolargl\":[{\"type\":\"scatterpolargl\",\"marker\":{\"colorbar\":{\"outlinewidth\":0,\"ticks\":\"\"}}}],\"bar\":[{\"error_x\":{\"color\":\"#2a3f5f\"},\"error_y\":{\"color\":\"#2a3f5f\"},\"marker\":{\"line\":{\"color\":\"#E5ECF6\",\"width\":0.5},\"pattern\":{\"fillmode\":\"overlay\",\"size\":10,\"solidity\":0.2}},\"type\":\"bar\"}],\"scattergeo\":[{\"type\":\"scattergeo\",\"marker\":{\"colorbar\":{\"outlinewidth\":0,\"ticks\":\"\"}}}],\"scatterpolar\":[{\"type\":\"scatterpolar\",\"marker\":{\"colorbar\":{\"outlinewidth\":0,\"ticks\":\"\"}}}],\"histogram\":[{\"marker\":{\"pattern\":{\"fillmode\":\"overlay\",\"size\":10,\"solidity\":0.2}},\"type\":\"histogram\"}],\"scattergl\":[{\"type\":\"scattergl\",\"marker\":{\"colorbar\":{\"outlinewidth\":0,\"ticks\":\"\"}}}],\"scatter3d\":[{\"type\":\"scatter3d\",\"line\":{\"colorbar\":{\"outlinewidth\":0,\"ticks\":\"\"}},\"marker\":{\"colorbar\":{\"outlinewidth\":0,\"ticks\":\"\"}}}],\"scattermapbox\":[{\"type\":\"scattermapbox\",\"marker\":{\"colorbar\":{\"outlinewidth\":0,\"ticks\":\"\"}}}],\"scatterternary\":[{\"type\":\"scatterternary\",\"marker\":{\"colorbar\":{\"outlinewidth\":0,\"ticks\":\"\"}}}],\"scattercarpet\":[{\"type\":\"scattercarpet\",\"marker\":{\"colorbar\":{\"outlinewidth\":0,\"ticks\":\"\"}}}],\"carpet\":[{\"aaxis\":{\"endlinecolor\":\"#2a3f5f\",\"gridcolor\":\"white\",\"linecolor\":\"white\",\"minorgridcolor\":\"white\",\"startlinecolor\":\"#2a3f5f\"},\"baxis\":{\"endlinecolor\":\"#2a3f5f\",\"gridcolor\":\"white\",\"linecolor\":\"white\",\"minorgridcolor\":\"white\",\"startlinecolor\":\"#2a3f5f\"},\"type\":\"carpet\"}],\"table\":[{\"cells\":{\"fill\":{\"color\":\"#EBF0F8\"},\"line\":{\"color\":\"white\"}},\"header\":{\"fill\":{\"color\":\"#C8D4E3\"},\"line\":{\"color\":\"white\"}},\"type\":\"table\"}],\"barpolar\":[{\"marker\":{\"line\":{\"color\":\"#E5ECF6\",\"width\":0.5},\"pattern\":{\"fillmode\":\"overlay\",\"size\":10,\"solidity\":0.2}},\"type\":\"barpolar\"}],\"pie\":[{\"automargin\":true,\"type\":\"pie\"}]},\"layout\":{\"autotypenumbers\":\"strict\",\"colorway\":[\"#636efa\",\"#EF553B\",\"#00cc96\",\"#ab63fa\",\"#FFA15A\",\"#19d3f3\",\"#FF6692\",\"#B6E880\",\"#FF97FF\",\"#FECB52\"],\"font\":{\"color\":\"#2a3f5f\"},\"hovermode\":\"closest\",\"hoverlabel\":{\"align\":\"left\"},\"paper_bgcolor\":\"white\",\"plot_bgcolor\":\"#E5ECF6\",\"polar\":{\"bgcolor\":\"#E5ECF6\",\"angularaxis\":{\"gridcolor\":\"white\",\"linecolor\":\"white\",\"ticks\":\"\"},\"radialaxis\":{\"gridcolor\":\"white\",\"linecolor\":\"white\",\"ticks\":\"\"}},\"ternary\":{\"bgcolor\":\"#E5ECF6\",\"aaxis\":{\"gridcolor\":\"white\",\"linecolor\":\"white\",\"ticks\":\"\"},\"baxis\":{\"gridcolor\":\"white\",\"linecolor\":\"white\",\"ticks\":\"\"},\"caxis\":{\"gridcolor\":\"white\",\"linecolor\":\"white\",\"ticks\":\"\"}},\"coloraxis\":{\"colorbar\":{\"outlinewidth\":0,\"ticks\":\"\"}},\"colorscale\":{\"sequential\":[[0.0,\"#0d0887\"],[0.1111111111111111,\"#46039f\"],[0.2222222222222222,\"#7201a8\"],[0.3333333333333333,\"#9c179e\"],[0.4444444444444444,\"#bd3786\"],[0.5555555555555556,\"#d8576b\"],[0.6666666666666666,\"#ed7953\"],[0.7777777777777778,\"#fb9f3a\"],[0.8888888888888888,\"#fdca26\"],[1.0,\"#f0f921\"]],\"sequentialminus\":[[0.0,\"#0d0887\"],[0.1111111111111111,\"#46039f\"],[0.2222222222222222,\"#7201a8\"],[0.3333333333333333,\"#9c179e\"],[0.4444444444444444,\"#bd3786\"],[0.5555555555555556,\"#d8576b\"],[0.6666666666666666,\"#ed7953\"],[0.7777777777777778,\"#fb9f3a\"],[0.8888888888888888,\"#fdca26\"],[1.0,\"#f0f921\"]],\"diverging\":[[0,\"#8e0152\"],[0.1,\"#c51b7d\"],[0.2,\"#de77ae\"],[0.3,\"#f1b6da\"],[0.4,\"#fde0ef\"],[0.5,\"#f7f7f7\"],[0.6,\"#e6f5d0\"],[0.7,\"#b8e186\"],[0.8,\"#7fbc41\"],[0.9,\"#4d9221\"],[1,\"#276419\"]]},\"xaxis\":{\"gridcolor\":\"white\",\"linecolor\":\"white\",\"ticks\":\"\",\"title\":{\"standoff\":15},\"zerolinecolor\":\"white\",\"automargin\":true,\"zerolinewidth\":2},\"yaxis\":{\"gridcolor\":\"white\",\"linecolor\":\"white\",\"ticks\":\"\",\"title\":{\"standoff\":15},\"zerolinecolor\":\"white\",\"automargin\":true,\"zerolinewidth\":2},\"scene\":{\"xaxis\":{\"backgroundcolor\":\"#E5ECF6\",\"gridcolor\":\"white\",\"linecolor\":\"white\",\"showbackground\":true,\"ticks\":\"\",\"zerolinecolor\":\"white\",\"gridwidth\":2},\"yaxis\":{\"backgroundcolor\":\"#E5ECF6\",\"gridcolor\":\"white\",\"linecolor\":\"white\",\"showbackground\":true,\"ticks\":\"\",\"zerolinecolor\":\"white\",\"gridwidth\":2},\"zaxis\":{\"backgroundcolor\":\"#E5ECF6\",\"gridcolor\":\"white\",\"linecolor\":\"white\",\"showbackground\":true,\"ticks\":\"\",\"zerolinecolor\":\"white\",\"gridwidth\":2}},\"shapedefaults\":{\"line\":{\"color\":\"#2a3f5f\"}},\"annotationdefaults\":{\"arrowcolor\":\"#2a3f5f\",\"arrowhead\":0,\"arrowwidth\":1},\"geo\":{\"bgcolor\":\"white\",\"landcolor\":\"#E5ECF6\",\"subunitcolor\":\"white\",\"showland\":true,\"showlakes\":true,\"lakecolor\":\"white\"},\"title\":{\"x\":0.05},\"mapbox\":{\"style\":\"light\"}}},\"font\":{\"size\":15},\"paper_bgcolor\":\"white\",\"plot_bgcolor\":\"white\",\"width\":770,\"height\":400,\"title\":{\"text\":\"\\u003cb\\u003ePowerflow results at 12h00\\u003cb\\u003e\",\"y\":0.97,\"x\":0.5,\"xanchor\":\"center\",\"yanchor\":\"top\"}},                        {\"responsive\": true}                    ).then(function(){\n",
       "                            \n",
       "var gd = document.getElementById('51b0db54-e2c5-4726-bd1b-ec40d75fbf18');\n",
       "var x = new MutationObserver(function (mutations, observer) {{\n",
       "        var display = window.getComputedStyle(gd).display;\n",
       "        if (!display || display === 'none') {{\n",
       "            console.log([gd, 'removed!']);\n",
       "            Plotly.purge(gd);\n",
       "            observer.disconnect();\n",
       "        }}\n",
       "}});\n",
       "\n",
       "// Listen for the removal of the full notebook cells\n",
       "var notebookContainer = gd.closest('#notebook-container');\n",
       "if (notebookContainer) {{\n",
       "    x.observe(notebookContainer, {childList: true});\n",
       "}}\n",
       "\n",
       "// Listen for the clearing of the current output cell\n",
       "var outputEl = gd.closest('.output');\n",
       "if (outputEl) {{\n",
       "    x.observe(outputEl, {childList: true});\n",
       "}}\n",
       "\n",
       "                        })                };                });            </script>        </div>"
      ]
     },
     "metadata": {},
     "output_type": "display_data"
    },
    {
     "name": "stdout",
     "output_type": "stream",
     "text": [
      "\n"
     ]
    },
    {
     "data": {
      "application/vnd.plotly.v1+json": {
       "config": {
        "plotlyServerURL": "https://plot.ly"
       },
       "data": [
        {
         "hoverinfo": "text",
         "legendgroup": "Transformers",
         "line": {
          "color": "rgb(147.58064516129028,255.0,99.19354838709678)",
          "width": 7
         },
         "mode": "lines",
         "name": "Transformers",
         "showlegend": true,
         "text": "Transfo T1<br>Loading: 52.8 %",
         "type": "scatter",
         "x": [
          0.04411484319830219,
          -0.18465400447251362,
          -0.4134228521433294
         ],
         "y": [
          0.2929668050525229,
          0.5963570023987358,
          0.8997471997449487
         ]
        },
        {
         "hoverinfo": "text",
         "legendgroup": "Transformers",
         "marker": {
          "color": "rgb(147.58064516129028,255.0,99.19354838709678)",
          "size": 1,
          "symbol": "circle"
         },
         "mode": "markers",
         "name": "edge_center",
         "showlegend": false,
         "text": [
          "Transfo T1<br>Loading: 52.8 %"
         ],
         "type": "scatter",
         "x": [
          -0.18465400447251362
         ],
         "y": [
          0.5963570023987358
         ]
        },
        {
         "hoverinfo": "text",
         "legendgroup": "lines",
         "line": {
          "color": "rgb(0.0,0.0,232.04545454545453)",
          "width": 3
         },
         "mode": "lines",
         "name": "lines",
         "showlegend": true,
         "text": "line_a<br>Loading: 9.4 %",
         "type": "scatter",
         "x": [
          0.864732143824462,
          0.8037953996404956,
          0.7428586554565294
         ],
         "y": [
          -0.7953249239893944,
          -0.4149081565426613,
          -0.03449138909592816
         ]
        },
        {
         "hoverinfo": "text",
         "legendgroup": "lines",
         "line": {
          "color": "rgb(0.0,0.0,250.22727272727272)",
          "width": 3
         },
         "mode": "lines",
         "name": "lines",
         "showlegend": false,
         "text": "line_b<br>Loading: 10.9 %",
         "type": "scatter",
         "x": [
          0.7428586554565294,
          0.4548102095195367,
          0.16676176358254402
         ],
         "y": [
          -0.03449138909592816,
          -0.251691917085301,
          -0.4688924450746738
         ]
        },
        {
         "hoverinfo": "text",
         "legendgroup": "lines",
         "line": {
          "color": "rgb(0.0,0.0,218.4090909090909)",
          "width": 3
         },
         "mode": "lines",
         "name": "lines",
         "showlegend": false,
         "text": "line_c<br>Loading: 8.0 %",
         "type": "scatter",
         "x": [
          0.864732143824462,
          0.515746953703503,
          0.16676176358254402
         ],
         "y": [
          -0.7953249239893944,
          -0.6321086845320341,
          -0.4688924450746738
         ]
        },
        {
         "hoverinfo": "text",
         "legendgroup": "lines",
         "line": {
          "color": "rgb(0.0,0.0,255.0)",
          "width": 3
         },
         "mode": "lines",
         "name": "lines",
         "showlegend": false,
         "text": "line_d<br>Loading: 11.4 %",
         "type": "scatter",
         "x": [
          0.16676176358254402,
          0.10543830339042311,
          0.04411484319830219
         ],
         "y": [
          -0.4688924450746738,
          -0.08796282001107544,
          0.2929668050525229
         ]
        },
        {
         "hoverinfo": "text",
         "legendgroup": "lines",
         "line": {
          "color": "rgb(0.0,0.0,186.5909090909091)",
          "width": 3
         },
         "mode": "lines",
         "name": "lines",
         "showlegend": false,
         "text": "line_e<br>Loading: 5.1 %",
         "type": "scatter",
         "x": [
          0.7428586554565294,
          0.3934867493274158,
          0.04411484319830219
         ],
         "y": [
          -0.03449138909592816,
          0.1292377079782974,
          0.2929668050525229
         ]
        },
        {
         "marker": {
          "cmax": 100,
          "cmin": 0,
          "color": "rgb(255,255,255)",
          "colorbar": {
           "thickness": 10,
           "title": {
            "side": "right",
            "text": "Equipment loading [%]"
           },
           "x": 1.15
          },
          "colorscale": [
           [
            0,
            "rgb(0,0,131)"
           ],
           [
            0.2,
            "rgb(0,60,170)"
           ],
           [
            0.4,
            "rgb(5,255,255)"
           ],
           [
            0.6,
            "rgb(255,255,0)"
           ],
           [
            0.8,
            "rgb(250,0,0)"
           ],
           [
            1,
            "rgb(128,0,0)"
           ]
          ],
          "opacity": 0,
          "size": 0
         },
         "mode": "markers",
         "type": "scatter",
         "x": [
          0.864732143824462
         ],
         "y": [
          -0.7953249239893944
         ]
        },
        {
         "hoverinfo": "text",
         "legendgroup": "lines",
         "marker": {
          "color": "rgb(128, 128, 128)",
          "size": 1,
          "symbol": "circle"
         },
         "mode": "markers",
         "name": "edge_center",
         "showlegend": false,
         "text": [
          "line_a<br>Loading: 9.4 %",
          "line_b<br>Loading: 10.9 %",
          "line_c<br>Loading: 8.0 %",
          "line_d<br>Loading: 11.4 %",
          "line_e<br>Loading: 5.1 %"
         ],
         "type": "scatter",
         "x": [
          0.8037953996404956
         ],
         "y": [
          -0.4149081565426613
         ]
        },
        {
         "hoverinfo": "text",
         "marker": {
          "color": "rgb(191, 191, 0)",
          "size": 30,
          "symbol": "square"
         },
         "mode": "markers",
         "name": "Ext grid",
         "text": [
          "Gen 1"
         ],
         "type": "scatter",
         "x": [
          0.864732143824462
         ],
         "y": [
          -0.7953249239893944
         ]
        },
        {
         "hoverinfo": "text",
         "marker": {
          "cmax": 1.15,
          "cmin": 0.85,
          "color": [
           1,
           1.05,
           0.9916144242157855,
           1.0181674394111746,
           1.0000000000000002
          ],
          "colorbar": {
           "thickness": 10,
           "title": {
            "side": "right",
            "text": "Bus voltage [pu]"
           },
           "x": 1
          },
          "colorscale": [
           [
            0,
            "rgb(0,0,131)"
           ],
           [
            0.2,
            "rgb(0,60,170)"
           ],
           [
            0.4,
            "rgb(5,255,255)"
           ],
           [
            0.6,
            "rgb(255,255,0)"
           ],
           [
            0.8,
            "rgb(250,0,0)"
           ],
           [
            1,
            "rgb(128,0,0)"
           ]
          ],
          "size": 20,
          "symbol": "circle"
         },
         "mode": "markers",
         "name": "buses",
         "text": [
          "bus_1<br>V: 1.0 pu",
          "bus_2<br>V: 1.05 pu",
          "bus_3<br>V: 0.992 pu",
          "bus_4<br>V: 1.018 pu",
          "bus_5<br>V: 1.0 pu"
         ],
         "type": "scatter",
         "x": [
          0.864732143824462,
          0.7428586554565294,
          0.16676176358254402,
          0.04411484319830219,
          -0.4134228521433294
         ],
         "y": [
          -0.7953249239893944,
          -0.03449138909592816,
          -0.4688924450746738,
          0.2929668050525229,
          0.8997471997449487
         ]
        }
       ],
       "layout": {
        "font": {
         "size": 15
        },
        "height": 400,
        "hovermode": "closest",
        "legend": {
         "font": {
          "size": 12
         },
         "itemsizing": "constant"
        },
        "margin": {
         "b": 5,
         "l": 5,
         "r": 5,
         "t": 30
        },
        "paper_bgcolor": "white",
        "plot_bgcolor": "white",
        "showlegend": false,
        "template": {
         "data": {
          "bar": [
           {
            "error_x": {
             "color": "#2a3f5f"
            },
            "error_y": {
             "color": "#2a3f5f"
            },
            "marker": {
             "line": {
              "color": "#E5ECF6",
              "width": 0.5
             },
             "pattern": {
              "fillmode": "overlay",
              "size": 10,
              "solidity": 0.2
             }
            },
            "type": "bar"
           }
          ],
          "barpolar": [
           {
            "marker": {
             "line": {
              "color": "#E5ECF6",
              "width": 0.5
             },
             "pattern": {
              "fillmode": "overlay",
              "size": 10,
              "solidity": 0.2
             }
            },
            "type": "barpolar"
           }
          ],
          "carpet": [
           {
            "aaxis": {
             "endlinecolor": "#2a3f5f",
             "gridcolor": "white",
             "linecolor": "white",
             "minorgridcolor": "white",
             "startlinecolor": "#2a3f5f"
            },
            "baxis": {
             "endlinecolor": "#2a3f5f",
             "gridcolor": "white",
             "linecolor": "white",
             "minorgridcolor": "white",
             "startlinecolor": "#2a3f5f"
            },
            "type": "carpet"
           }
          ],
          "choropleth": [
           {
            "colorbar": {
             "outlinewidth": 0,
             "ticks": ""
            },
            "type": "choropleth"
           }
          ],
          "contour": [
           {
            "colorbar": {
             "outlinewidth": 0,
             "ticks": ""
            },
            "colorscale": [
             [
              0,
              "#0d0887"
             ],
             [
              0.1111111111111111,
              "#46039f"
             ],
             [
              0.2222222222222222,
              "#7201a8"
             ],
             [
              0.3333333333333333,
              "#9c179e"
             ],
             [
              0.4444444444444444,
              "#bd3786"
             ],
             [
              0.5555555555555556,
              "#d8576b"
             ],
             [
              0.6666666666666666,
              "#ed7953"
             ],
             [
              0.7777777777777778,
              "#fb9f3a"
             ],
             [
              0.8888888888888888,
              "#fdca26"
             ],
             [
              1,
              "#f0f921"
             ]
            ],
            "type": "contour"
           }
          ],
          "contourcarpet": [
           {
            "colorbar": {
             "outlinewidth": 0,
             "ticks": ""
            },
            "type": "contourcarpet"
           }
          ],
          "heatmap": [
           {
            "colorbar": {
             "outlinewidth": 0,
             "ticks": ""
            },
            "colorscale": [
             [
              0,
              "#0d0887"
             ],
             [
              0.1111111111111111,
              "#46039f"
             ],
             [
              0.2222222222222222,
              "#7201a8"
             ],
             [
              0.3333333333333333,
              "#9c179e"
             ],
             [
              0.4444444444444444,
              "#bd3786"
             ],
             [
              0.5555555555555556,
              "#d8576b"
             ],
             [
              0.6666666666666666,
              "#ed7953"
             ],
             [
              0.7777777777777778,
              "#fb9f3a"
             ],
             [
              0.8888888888888888,
              "#fdca26"
             ],
             [
              1,
              "#f0f921"
             ]
            ],
            "type": "heatmap"
           }
          ],
          "heatmapgl": [
           {
            "colorbar": {
             "outlinewidth": 0,
             "ticks": ""
            },
            "colorscale": [
             [
              0,
              "#0d0887"
             ],
             [
              0.1111111111111111,
              "#46039f"
             ],
             [
              0.2222222222222222,
              "#7201a8"
             ],
             [
              0.3333333333333333,
              "#9c179e"
             ],
             [
              0.4444444444444444,
              "#bd3786"
             ],
             [
              0.5555555555555556,
              "#d8576b"
             ],
             [
              0.6666666666666666,
              "#ed7953"
             ],
             [
              0.7777777777777778,
              "#fb9f3a"
             ],
             [
              0.8888888888888888,
              "#fdca26"
             ],
             [
              1,
              "#f0f921"
             ]
            ],
            "type": "heatmapgl"
           }
          ],
          "histogram": [
           {
            "marker": {
             "pattern": {
              "fillmode": "overlay",
              "size": 10,
              "solidity": 0.2
             }
            },
            "type": "histogram"
           }
          ],
          "histogram2d": [
           {
            "colorbar": {
             "outlinewidth": 0,
             "ticks": ""
            },
            "colorscale": [
             [
              0,
              "#0d0887"
             ],
             [
              0.1111111111111111,
              "#46039f"
             ],
             [
              0.2222222222222222,
              "#7201a8"
             ],
             [
              0.3333333333333333,
              "#9c179e"
             ],
             [
              0.4444444444444444,
              "#bd3786"
             ],
             [
              0.5555555555555556,
              "#d8576b"
             ],
             [
              0.6666666666666666,
              "#ed7953"
             ],
             [
              0.7777777777777778,
              "#fb9f3a"
             ],
             [
              0.8888888888888888,
              "#fdca26"
             ],
             [
              1,
              "#f0f921"
             ]
            ],
            "type": "histogram2d"
           }
          ],
          "histogram2dcontour": [
           {
            "colorbar": {
             "outlinewidth": 0,
             "ticks": ""
            },
            "colorscale": [
             [
              0,
              "#0d0887"
             ],
             [
              0.1111111111111111,
              "#46039f"
             ],
             [
              0.2222222222222222,
              "#7201a8"
             ],
             [
              0.3333333333333333,
              "#9c179e"
             ],
             [
              0.4444444444444444,
              "#bd3786"
             ],
             [
              0.5555555555555556,
              "#d8576b"
             ],
             [
              0.6666666666666666,
              "#ed7953"
             ],
             [
              0.7777777777777778,
              "#fb9f3a"
             ],
             [
              0.8888888888888888,
              "#fdca26"
             ],
             [
              1,
              "#f0f921"
             ]
            ],
            "type": "histogram2dcontour"
           }
          ],
          "mesh3d": [
           {
            "colorbar": {
             "outlinewidth": 0,
             "ticks": ""
            },
            "type": "mesh3d"
           }
          ],
          "parcoords": [
           {
            "line": {
             "colorbar": {
              "outlinewidth": 0,
              "ticks": ""
             }
            },
            "type": "parcoords"
           }
          ],
          "pie": [
           {
            "automargin": true,
            "type": "pie"
           }
          ],
          "scatter": [
           {
            "fillpattern": {
             "fillmode": "overlay",
             "size": 10,
             "solidity": 0.2
            },
            "type": "scatter"
           }
          ],
          "scatter3d": [
           {
            "line": {
             "colorbar": {
              "outlinewidth": 0,
              "ticks": ""
             }
            },
            "marker": {
             "colorbar": {
              "outlinewidth": 0,
              "ticks": ""
             }
            },
            "type": "scatter3d"
           }
          ],
          "scattercarpet": [
           {
            "marker": {
             "colorbar": {
              "outlinewidth": 0,
              "ticks": ""
             }
            },
            "type": "scattercarpet"
           }
          ],
          "scattergeo": [
           {
            "marker": {
             "colorbar": {
              "outlinewidth": 0,
              "ticks": ""
             }
            },
            "type": "scattergeo"
           }
          ],
          "scattergl": [
           {
            "marker": {
             "colorbar": {
              "outlinewidth": 0,
              "ticks": ""
             }
            },
            "type": "scattergl"
           }
          ],
          "scattermapbox": [
           {
            "marker": {
             "colorbar": {
              "outlinewidth": 0,
              "ticks": ""
             }
            },
            "type": "scattermapbox"
           }
          ],
          "scatterpolar": [
           {
            "marker": {
             "colorbar": {
              "outlinewidth": 0,
              "ticks": ""
             }
            },
            "type": "scatterpolar"
           }
          ],
          "scatterpolargl": [
           {
            "marker": {
             "colorbar": {
              "outlinewidth": 0,
              "ticks": ""
             }
            },
            "type": "scatterpolargl"
           }
          ],
          "scatterternary": [
           {
            "marker": {
             "colorbar": {
              "outlinewidth": 0,
              "ticks": ""
             }
            },
            "type": "scatterternary"
           }
          ],
          "surface": [
           {
            "colorbar": {
             "outlinewidth": 0,
             "ticks": ""
            },
            "colorscale": [
             [
              0,
              "#0d0887"
             ],
             [
              0.1111111111111111,
              "#46039f"
             ],
             [
              0.2222222222222222,
              "#7201a8"
             ],
             [
              0.3333333333333333,
              "#9c179e"
             ],
             [
              0.4444444444444444,
              "#bd3786"
             ],
             [
              0.5555555555555556,
              "#d8576b"
             ],
             [
              0.6666666666666666,
              "#ed7953"
             ],
             [
              0.7777777777777778,
              "#fb9f3a"
             ],
             [
              0.8888888888888888,
              "#fdca26"
             ],
             [
              1,
              "#f0f921"
             ]
            ],
            "type": "surface"
           }
          ],
          "table": [
           {
            "cells": {
             "fill": {
              "color": "#EBF0F8"
             },
             "line": {
              "color": "white"
             }
            },
            "header": {
             "fill": {
              "color": "#C8D4E3"
             },
             "line": {
              "color": "white"
             }
            },
            "type": "table"
           }
          ]
         },
         "layout": {
          "annotationdefaults": {
           "arrowcolor": "#2a3f5f",
           "arrowhead": 0,
           "arrowwidth": 1
          },
          "autotypenumbers": "strict",
          "coloraxis": {
           "colorbar": {
            "outlinewidth": 0,
            "ticks": ""
           }
          },
          "colorscale": {
           "diverging": [
            [
             0,
             "#8e0152"
            ],
            [
             0.1,
             "#c51b7d"
            ],
            [
             0.2,
             "#de77ae"
            ],
            [
             0.3,
             "#f1b6da"
            ],
            [
             0.4,
             "#fde0ef"
            ],
            [
             0.5,
             "#f7f7f7"
            ],
            [
             0.6,
             "#e6f5d0"
            ],
            [
             0.7,
             "#b8e186"
            ],
            [
             0.8,
             "#7fbc41"
            ],
            [
             0.9,
             "#4d9221"
            ],
            [
             1,
             "#276419"
            ]
           ],
           "sequential": [
            [
             0,
             "#0d0887"
            ],
            [
             0.1111111111111111,
             "#46039f"
            ],
            [
             0.2222222222222222,
             "#7201a8"
            ],
            [
             0.3333333333333333,
             "#9c179e"
            ],
            [
             0.4444444444444444,
             "#bd3786"
            ],
            [
             0.5555555555555556,
             "#d8576b"
            ],
            [
             0.6666666666666666,
             "#ed7953"
            ],
            [
             0.7777777777777778,
             "#fb9f3a"
            ],
            [
             0.8888888888888888,
             "#fdca26"
            ],
            [
             1,
             "#f0f921"
            ]
           ],
           "sequentialminus": [
            [
             0,
             "#0d0887"
            ],
            [
             0.1111111111111111,
             "#46039f"
            ],
            [
             0.2222222222222222,
             "#7201a8"
            ],
            [
             0.3333333333333333,
             "#9c179e"
            ],
            [
             0.4444444444444444,
             "#bd3786"
            ],
            [
             0.5555555555555556,
             "#d8576b"
            ],
            [
             0.6666666666666666,
             "#ed7953"
            ],
            [
             0.7777777777777778,
             "#fb9f3a"
            ],
            [
             0.8888888888888888,
             "#fdca26"
            ],
            [
             1,
             "#f0f921"
            ]
           ]
          },
          "colorway": [
           "#636efa",
           "#EF553B",
           "#00cc96",
           "#ab63fa",
           "#FFA15A",
           "#19d3f3",
           "#FF6692",
           "#B6E880",
           "#FF97FF",
           "#FECB52"
          ],
          "font": {
           "color": "#2a3f5f"
          },
          "geo": {
           "bgcolor": "white",
           "lakecolor": "white",
           "landcolor": "#E5ECF6",
           "showlakes": true,
           "showland": true,
           "subunitcolor": "white"
          },
          "hoverlabel": {
           "align": "left"
          },
          "hovermode": "closest",
          "mapbox": {
           "style": "light"
          },
          "paper_bgcolor": "white",
          "plot_bgcolor": "#E5ECF6",
          "polar": {
           "angularaxis": {
            "gridcolor": "white",
            "linecolor": "white",
            "ticks": ""
           },
           "bgcolor": "#E5ECF6",
           "radialaxis": {
            "gridcolor": "white",
            "linecolor": "white",
            "ticks": ""
           }
          },
          "scene": {
           "xaxis": {
            "backgroundcolor": "#E5ECF6",
            "gridcolor": "white",
            "gridwidth": 2,
            "linecolor": "white",
            "showbackground": true,
            "ticks": "",
            "zerolinecolor": "white"
           },
           "yaxis": {
            "backgroundcolor": "#E5ECF6",
            "gridcolor": "white",
            "gridwidth": 2,
            "linecolor": "white",
            "showbackground": true,
            "ticks": "",
            "zerolinecolor": "white"
           },
           "zaxis": {
            "backgroundcolor": "#E5ECF6",
            "gridcolor": "white",
            "gridwidth": 2,
            "linecolor": "white",
            "showbackground": true,
            "ticks": "",
            "zerolinecolor": "white"
           }
          },
          "shapedefaults": {
           "line": {
            "color": "#2a3f5f"
           }
          },
          "ternary": {
           "aaxis": {
            "gridcolor": "white",
            "linecolor": "white",
            "ticks": ""
           },
           "baxis": {
            "gridcolor": "white",
            "linecolor": "white",
            "ticks": ""
           },
           "bgcolor": "#E5ECF6",
           "caxis": {
            "gridcolor": "white",
            "linecolor": "white",
            "ticks": ""
           }
          },
          "title": {
           "x": 0.05
          },
          "xaxis": {
           "automargin": true,
           "gridcolor": "white",
           "linecolor": "white",
           "ticks": "",
           "title": {
            "standoff": 15
           },
           "zerolinecolor": "white",
           "zerolinewidth": 2
          },
          "yaxis": {
           "automargin": true,
           "gridcolor": "white",
           "linecolor": "white",
           "ticks": "",
           "title": {
            "standoff": 15
           },
           "zerolinecolor": "white",
           "zerolinewidth": 2
          }
         }
        },
        "title": {
         "text": "<b>Powerflow results at 20h00<b>",
         "x": 0.5,
         "xanchor": "center",
         "y": 0.97,
         "yanchor": "top"
        },
        "width": 770,
        "xaxis": {
         "showgrid": false,
         "showticklabels": false,
         "tickfont": {
          "family": "Arial Black",
          "size": 12
         },
         "title": {
          "font": {
           "size": 12
          }
         },
         "zeroline": false
        },
        "yaxis": {
         "showgrid": false,
         "showticklabels": false,
         "tickfont": {
          "family": "Arial Black",
          "size": 12
         },
         "title": {
          "font": {
           "size": 12
          }
         },
         "zeroline": false
        }
       }
      },
      "text/html": [
       "<div>                            <div id=\"32309951-5235-45e4-a7d9-0348aac22743\" class=\"plotly-graph-div\" style=\"height:400px; width:770px;\"></div>            <script type=\"text/javascript\">                require([\"plotly\"], function(Plotly) {                    window.PLOTLYENV=window.PLOTLYENV || {};                                    if (document.getElementById(\"32309951-5235-45e4-a7d9-0348aac22743\")) {                    Plotly.newPlot(                        \"32309951-5235-45e4-a7d9-0348aac22743\",                        [{\"hoverinfo\":\"text\",\"legendgroup\":\"Transformers\",\"line\":{\"color\":\"rgb(147.58064516129028,255.0,99.19354838709678)\",\"width\":7},\"mode\":\"lines\",\"name\":\"Transformers\",\"showlegend\":true,\"text\":\"Transfo T1\\u003cbr\\u003eLoading: 52.8 %\",\"x\":[0.04411484319830219,-0.18465400447251362,-0.4134228521433294],\"y\":[0.2929668050525229,0.5963570023987358,0.8997471997449487],\"type\":\"scatter\"},{\"hoverinfo\":\"text\",\"legendgroup\":\"Transformers\",\"marker\":{\"color\":\"rgb(147.58064516129028,255.0,99.19354838709678)\",\"size\":1,\"symbol\":\"circle\"},\"mode\":\"markers\",\"name\":\"edge_center\",\"showlegend\":false,\"text\":[\"Transfo T1\\u003cbr\\u003eLoading: 52.8 %\"],\"x\":[-0.18465400447251362],\"y\":[0.5963570023987358],\"type\":\"scatter\"},{\"hoverinfo\":\"text\",\"legendgroup\":\"lines\",\"line\":{\"color\":\"rgb(0.0,0.0,232.04545454545453)\",\"width\":3},\"mode\":\"lines\",\"name\":\"lines\",\"showlegend\":true,\"text\":\"line_a\\u003cbr\\u003eLoading: 9.4 %\",\"x\":[0.864732143824462,0.8037953996404956,0.7428586554565294],\"y\":[-0.7953249239893944,-0.4149081565426613,-0.03449138909592816],\"type\":\"scatter\"},{\"hoverinfo\":\"text\",\"legendgroup\":\"lines\",\"line\":{\"color\":\"rgb(0.0,0.0,250.22727272727272)\",\"width\":3},\"mode\":\"lines\",\"name\":\"lines\",\"showlegend\":false,\"text\":\"line_b\\u003cbr\\u003eLoading: 10.9 %\",\"x\":[0.7428586554565294,0.4548102095195367,0.16676176358254402],\"y\":[-0.03449138909592816,-0.251691917085301,-0.4688924450746738],\"type\":\"scatter\"},{\"hoverinfo\":\"text\",\"legendgroup\":\"lines\",\"line\":{\"color\":\"rgb(0.0,0.0,218.4090909090909)\",\"width\":3},\"mode\":\"lines\",\"name\":\"lines\",\"showlegend\":false,\"text\":\"line_c\\u003cbr\\u003eLoading: 8.0 %\",\"x\":[0.864732143824462,0.515746953703503,0.16676176358254402],\"y\":[-0.7953249239893944,-0.6321086845320341,-0.4688924450746738],\"type\":\"scatter\"},{\"hoverinfo\":\"text\",\"legendgroup\":\"lines\",\"line\":{\"color\":\"rgb(0.0,0.0,255.0)\",\"width\":3},\"mode\":\"lines\",\"name\":\"lines\",\"showlegend\":false,\"text\":\"line_d\\u003cbr\\u003eLoading: 11.4 %\",\"x\":[0.16676176358254402,0.10543830339042311,0.04411484319830219],\"y\":[-0.4688924450746738,-0.08796282001107544,0.2929668050525229],\"type\":\"scatter\"},{\"hoverinfo\":\"text\",\"legendgroup\":\"lines\",\"line\":{\"color\":\"rgb(0.0,0.0,186.5909090909091)\",\"width\":3},\"mode\":\"lines\",\"name\":\"lines\",\"showlegend\":false,\"text\":\"line_e\\u003cbr\\u003eLoading: 5.1 %\",\"x\":[0.7428586554565294,0.3934867493274158,0.04411484319830219],\"y\":[-0.03449138909592816,0.1292377079782974,0.2929668050525229],\"type\":\"scatter\"},{\"marker\":{\"cmax\":100,\"cmin\":0,\"color\":\"rgb(255,255,255)\",\"colorbar\":{\"thickness\":10,\"title\":{\"side\":\"right\",\"text\":\"Equipment loading [%]\"},\"x\":1.15},\"colorscale\":[[0.0,\"rgb(0,0,131)\"],[0.2,\"rgb(0,60,170)\"],[0.4,\"rgb(5,255,255)\"],[0.6,\"rgb(255,255,0)\"],[0.8,\"rgb(250,0,0)\"],[1.0,\"rgb(128,0,0)\"]],\"opacity\":0,\"size\":0},\"mode\":\"markers\",\"x\":[0.864732143824462],\"y\":[-0.7953249239893944],\"type\":\"scatter\"},{\"hoverinfo\":\"text\",\"legendgroup\":\"lines\",\"marker\":{\"color\":\"rgb(128, 128, 128)\",\"size\":1,\"symbol\":\"circle\"},\"mode\":\"markers\",\"name\":\"edge_center\",\"showlegend\":false,\"text\":[\"line_a\\u003cbr\\u003eLoading: 9.4 %\",\"line_b\\u003cbr\\u003eLoading: 10.9 %\",\"line_c\\u003cbr\\u003eLoading: 8.0 %\",\"line_d\\u003cbr\\u003eLoading: 11.4 %\",\"line_e\\u003cbr\\u003eLoading: 5.1 %\"],\"x\":[0.8037953996404956],\"y\":[-0.4149081565426613],\"type\":\"scatter\"},{\"hoverinfo\":\"text\",\"marker\":{\"color\":\"rgb(191, 191, 0)\",\"size\":30,\"symbol\":\"square\"},\"mode\":\"markers\",\"name\":\"Ext grid\",\"text\":[\"Gen 1\"],\"x\":[0.864732143824462],\"y\":[-0.7953249239893944],\"type\":\"scatter\"},{\"hoverinfo\":\"text\",\"marker\":{\"cmax\":1.15,\"cmin\":0.85,\"color\":[1.0,1.05,0.9916144242157855,1.0181674394111746,1.0000000000000002],\"colorbar\":{\"thickness\":10,\"title\":{\"side\":\"right\",\"text\":\"Bus voltage [pu]\"},\"x\":1.0},\"colorscale\":[[0.0,\"rgb(0,0,131)\"],[0.2,\"rgb(0,60,170)\"],[0.4,\"rgb(5,255,255)\"],[0.6,\"rgb(255,255,0)\"],[0.8,\"rgb(250,0,0)\"],[1.0,\"rgb(128,0,0)\"]],\"size\":20,\"symbol\":\"circle\"},\"mode\":\"markers\",\"name\":\"buses\",\"text\":[\"bus_1\\u003cbr\\u003eV: 1.0 pu\",\"bus_2\\u003cbr\\u003eV: 1.05 pu\",\"bus_3\\u003cbr\\u003eV: 0.992 pu\",\"bus_4\\u003cbr\\u003eV: 1.018 pu\",\"bus_5\\u003cbr\\u003eV: 1.0 pu\"],\"x\":[0.864732143824462,0.7428586554565294,0.16676176358254402,0.04411484319830219,-0.4134228521433294],\"y\":[-0.7953249239893944,-0.03449138909592816,-0.4688924450746738,0.2929668050525229,0.8997471997449487],\"type\":\"scatter\"}],                        {\"hovermode\":\"closest\",\"legend\":{\"itemsizing\":\"constant\",\"font\":{\"size\":12}},\"margin\":{\"b\":5,\"l\":5,\"r\":5,\"t\":30},\"showlegend\":false,\"xaxis\":{\"showgrid\":false,\"showticklabels\":false,\"zeroline\":false,\"tickfont\":{\"size\":12,\"family\":\"Arial Black\"},\"title\":{\"font\":{\"size\":12}}},\"yaxis\":{\"showgrid\":false,\"showticklabels\":false,\"zeroline\":false,\"tickfont\":{\"size\":12,\"family\":\"Arial Black\"},\"title\":{\"font\":{\"size\":12}}},\"template\":{\"data\":{\"histogram2dcontour\":[{\"type\":\"histogram2dcontour\",\"colorbar\":{\"outlinewidth\":0,\"ticks\":\"\"},\"colorscale\":[[0.0,\"#0d0887\"],[0.1111111111111111,\"#46039f\"],[0.2222222222222222,\"#7201a8\"],[0.3333333333333333,\"#9c179e\"],[0.4444444444444444,\"#bd3786\"],[0.5555555555555556,\"#d8576b\"],[0.6666666666666666,\"#ed7953\"],[0.7777777777777778,\"#fb9f3a\"],[0.8888888888888888,\"#fdca26\"],[1.0,\"#f0f921\"]]}],\"choropleth\":[{\"type\":\"choropleth\",\"colorbar\":{\"outlinewidth\":0,\"ticks\":\"\"}}],\"histogram2d\":[{\"type\":\"histogram2d\",\"colorbar\":{\"outlinewidth\":0,\"ticks\":\"\"},\"colorscale\":[[0.0,\"#0d0887\"],[0.1111111111111111,\"#46039f\"],[0.2222222222222222,\"#7201a8\"],[0.3333333333333333,\"#9c179e\"],[0.4444444444444444,\"#bd3786\"],[0.5555555555555556,\"#d8576b\"],[0.6666666666666666,\"#ed7953\"],[0.7777777777777778,\"#fb9f3a\"],[0.8888888888888888,\"#fdca26\"],[1.0,\"#f0f921\"]]}],\"heatmap\":[{\"type\":\"heatmap\",\"colorbar\":{\"outlinewidth\":0,\"ticks\":\"\"},\"colorscale\":[[0.0,\"#0d0887\"],[0.1111111111111111,\"#46039f\"],[0.2222222222222222,\"#7201a8\"],[0.3333333333333333,\"#9c179e\"],[0.4444444444444444,\"#bd3786\"],[0.5555555555555556,\"#d8576b\"],[0.6666666666666666,\"#ed7953\"],[0.7777777777777778,\"#fb9f3a\"],[0.8888888888888888,\"#fdca26\"],[1.0,\"#f0f921\"]]}],\"heatmapgl\":[{\"type\":\"heatmapgl\",\"colorbar\":{\"outlinewidth\":0,\"ticks\":\"\"},\"colorscale\":[[0.0,\"#0d0887\"],[0.1111111111111111,\"#46039f\"],[0.2222222222222222,\"#7201a8\"],[0.3333333333333333,\"#9c179e\"],[0.4444444444444444,\"#bd3786\"],[0.5555555555555556,\"#d8576b\"],[0.6666666666666666,\"#ed7953\"],[0.7777777777777778,\"#fb9f3a\"],[0.8888888888888888,\"#fdca26\"],[1.0,\"#f0f921\"]]}],\"contourcarpet\":[{\"type\":\"contourcarpet\",\"colorbar\":{\"outlinewidth\":0,\"ticks\":\"\"}}],\"contour\":[{\"type\":\"contour\",\"colorbar\":{\"outlinewidth\":0,\"ticks\":\"\"},\"colorscale\":[[0.0,\"#0d0887\"],[0.1111111111111111,\"#46039f\"],[0.2222222222222222,\"#7201a8\"],[0.3333333333333333,\"#9c179e\"],[0.4444444444444444,\"#bd3786\"],[0.5555555555555556,\"#d8576b\"],[0.6666666666666666,\"#ed7953\"],[0.7777777777777778,\"#fb9f3a\"],[0.8888888888888888,\"#fdca26\"],[1.0,\"#f0f921\"]]}],\"surface\":[{\"type\":\"surface\",\"colorbar\":{\"outlinewidth\":0,\"ticks\":\"\"},\"colorscale\":[[0.0,\"#0d0887\"],[0.1111111111111111,\"#46039f\"],[0.2222222222222222,\"#7201a8\"],[0.3333333333333333,\"#9c179e\"],[0.4444444444444444,\"#bd3786\"],[0.5555555555555556,\"#d8576b\"],[0.6666666666666666,\"#ed7953\"],[0.7777777777777778,\"#fb9f3a\"],[0.8888888888888888,\"#fdca26\"],[1.0,\"#f0f921\"]]}],\"mesh3d\":[{\"type\":\"mesh3d\",\"colorbar\":{\"outlinewidth\":0,\"ticks\":\"\"}}],\"scatter\":[{\"fillpattern\":{\"fillmode\":\"overlay\",\"size\":10,\"solidity\":0.2},\"type\":\"scatter\"}],\"parcoords\":[{\"type\":\"parcoords\",\"line\":{\"colorbar\":{\"outlinewidth\":0,\"ticks\":\"\"}}}],\"scatterpolargl\":[{\"type\":\"scatterpolargl\",\"marker\":{\"colorbar\":{\"outlinewidth\":0,\"ticks\":\"\"}}}],\"bar\":[{\"error_x\":{\"color\":\"#2a3f5f\"},\"error_y\":{\"color\":\"#2a3f5f\"},\"marker\":{\"line\":{\"color\":\"#E5ECF6\",\"width\":0.5},\"pattern\":{\"fillmode\":\"overlay\",\"size\":10,\"solidity\":0.2}},\"type\":\"bar\"}],\"scattergeo\":[{\"type\":\"scattergeo\",\"marker\":{\"colorbar\":{\"outlinewidth\":0,\"ticks\":\"\"}}}],\"scatterpolar\":[{\"type\":\"scatterpolar\",\"marker\":{\"colorbar\":{\"outlinewidth\":0,\"ticks\":\"\"}}}],\"histogram\":[{\"marker\":{\"pattern\":{\"fillmode\":\"overlay\",\"size\":10,\"solidity\":0.2}},\"type\":\"histogram\"}],\"scattergl\":[{\"type\":\"scattergl\",\"marker\":{\"colorbar\":{\"outlinewidth\":0,\"ticks\":\"\"}}}],\"scatter3d\":[{\"type\":\"scatter3d\",\"line\":{\"colorbar\":{\"outlinewidth\":0,\"ticks\":\"\"}},\"marker\":{\"colorbar\":{\"outlinewidth\":0,\"ticks\":\"\"}}}],\"scattermapbox\":[{\"type\":\"scattermapbox\",\"marker\":{\"colorbar\":{\"outlinewidth\":0,\"ticks\":\"\"}}}],\"scatterternary\":[{\"type\":\"scatterternary\",\"marker\":{\"colorbar\":{\"outlinewidth\":0,\"ticks\":\"\"}}}],\"scattercarpet\":[{\"type\":\"scattercarpet\",\"marker\":{\"colorbar\":{\"outlinewidth\":0,\"ticks\":\"\"}}}],\"carpet\":[{\"aaxis\":{\"endlinecolor\":\"#2a3f5f\",\"gridcolor\":\"white\",\"linecolor\":\"white\",\"minorgridcolor\":\"white\",\"startlinecolor\":\"#2a3f5f\"},\"baxis\":{\"endlinecolor\":\"#2a3f5f\",\"gridcolor\":\"white\",\"linecolor\":\"white\",\"minorgridcolor\":\"white\",\"startlinecolor\":\"#2a3f5f\"},\"type\":\"carpet\"}],\"table\":[{\"cells\":{\"fill\":{\"color\":\"#EBF0F8\"},\"line\":{\"color\":\"white\"}},\"header\":{\"fill\":{\"color\":\"#C8D4E3\"},\"line\":{\"color\":\"white\"}},\"type\":\"table\"}],\"barpolar\":[{\"marker\":{\"line\":{\"color\":\"#E5ECF6\",\"width\":0.5},\"pattern\":{\"fillmode\":\"overlay\",\"size\":10,\"solidity\":0.2}},\"type\":\"barpolar\"}],\"pie\":[{\"automargin\":true,\"type\":\"pie\"}]},\"layout\":{\"autotypenumbers\":\"strict\",\"colorway\":[\"#636efa\",\"#EF553B\",\"#00cc96\",\"#ab63fa\",\"#FFA15A\",\"#19d3f3\",\"#FF6692\",\"#B6E880\",\"#FF97FF\",\"#FECB52\"],\"font\":{\"color\":\"#2a3f5f\"},\"hovermode\":\"closest\",\"hoverlabel\":{\"align\":\"left\"},\"paper_bgcolor\":\"white\",\"plot_bgcolor\":\"#E5ECF6\",\"polar\":{\"bgcolor\":\"#E5ECF6\",\"angularaxis\":{\"gridcolor\":\"white\",\"linecolor\":\"white\",\"ticks\":\"\"},\"radialaxis\":{\"gridcolor\":\"white\",\"linecolor\":\"white\",\"ticks\":\"\"}},\"ternary\":{\"bgcolor\":\"#E5ECF6\",\"aaxis\":{\"gridcolor\":\"white\",\"linecolor\":\"white\",\"ticks\":\"\"},\"baxis\":{\"gridcolor\":\"white\",\"linecolor\":\"white\",\"ticks\":\"\"},\"caxis\":{\"gridcolor\":\"white\",\"linecolor\":\"white\",\"ticks\":\"\"}},\"coloraxis\":{\"colorbar\":{\"outlinewidth\":0,\"ticks\":\"\"}},\"colorscale\":{\"sequential\":[[0.0,\"#0d0887\"],[0.1111111111111111,\"#46039f\"],[0.2222222222222222,\"#7201a8\"],[0.3333333333333333,\"#9c179e\"],[0.4444444444444444,\"#bd3786\"],[0.5555555555555556,\"#d8576b\"],[0.6666666666666666,\"#ed7953\"],[0.7777777777777778,\"#fb9f3a\"],[0.8888888888888888,\"#fdca26\"],[1.0,\"#f0f921\"]],\"sequentialminus\":[[0.0,\"#0d0887\"],[0.1111111111111111,\"#46039f\"],[0.2222222222222222,\"#7201a8\"],[0.3333333333333333,\"#9c179e\"],[0.4444444444444444,\"#bd3786\"],[0.5555555555555556,\"#d8576b\"],[0.6666666666666666,\"#ed7953\"],[0.7777777777777778,\"#fb9f3a\"],[0.8888888888888888,\"#fdca26\"],[1.0,\"#f0f921\"]],\"diverging\":[[0,\"#8e0152\"],[0.1,\"#c51b7d\"],[0.2,\"#de77ae\"],[0.3,\"#f1b6da\"],[0.4,\"#fde0ef\"],[0.5,\"#f7f7f7\"],[0.6,\"#e6f5d0\"],[0.7,\"#b8e186\"],[0.8,\"#7fbc41\"],[0.9,\"#4d9221\"],[1,\"#276419\"]]},\"xaxis\":{\"gridcolor\":\"white\",\"linecolor\":\"white\",\"ticks\":\"\",\"title\":{\"standoff\":15},\"zerolinecolor\":\"white\",\"automargin\":true,\"zerolinewidth\":2},\"yaxis\":{\"gridcolor\":\"white\",\"linecolor\":\"white\",\"ticks\":\"\",\"title\":{\"standoff\":15},\"zerolinecolor\":\"white\",\"automargin\":true,\"zerolinewidth\":2},\"scene\":{\"xaxis\":{\"backgroundcolor\":\"#E5ECF6\",\"gridcolor\":\"white\",\"linecolor\":\"white\",\"showbackground\":true,\"ticks\":\"\",\"zerolinecolor\":\"white\",\"gridwidth\":2},\"yaxis\":{\"backgroundcolor\":\"#E5ECF6\",\"gridcolor\":\"white\",\"linecolor\":\"white\",\"showbackground\":true,\"ticks\":\"\",\"zerolinecolor\":\"white\",\"gridwidth\":2},\"zaxis\":{\"backgroundcolor\":\"#E5ECF6\",\"gridcolor\":\"white\",\"linecolor\":\"white\",\"showbackground\":true,\"ticks\":\"\",\"zerolinecolor\":\"white\",\"gridwidth\":2}},\"shapedefaults\":{\"line\":{\"color\":\"#2a3f5f\"}},\"annotationdefaults\":{\"arrowcolor\":\"#2a3f5f\",\"arrowhead\":0,\"arrowwidth\":1},\"geo\":{\"bgcolor\":\"white\",\"landcolor\":\"#E5ECF6\",\"subunitcolor\":\"white\",\"showland\":true,\"showlakes\":true,\"lakecolor\":\"white\"},\"title\":{\"x\":0.05},\"mapbox\":{\"style\":\"light\"}}},\"font\":{\"size\":15},\"paper_bgcolor\":\"white\",\"plot_bgcolor\":\"white\",\"width\":770,\"height\":400,\"title\":{\"text\":\"\\u003cb\\u003ePowerflow results at 20h00\\u003cb\\u003e\",\"y\":0.97,\"x\":0.5,\"xanchor\":\"center\",\"yanchor\":\"top\"}},                        {\"responsive\": true}                    ).then(function(){\n",
       "                            \n",
       "var gd = document.getElementById('32309951-5235-45e4-a7d9-0348aac22743');\n",
       "var x = new MutationObserver(function (mutations, observer) {{\n",
       "        var display = window.getComputedStyle(gd).display;\n",
       "        if (!display || display === 'none') {{\n",
       "            console.log([gd, 'removed!']);\n",
       "            Plotly.purge(gd);\n",
       "            observer.disconnect();\n",
       "        }}\n",
       "}});\n",
       "\n",
       "// Listen for the removal of the full notebook cells\n",
       "var notebookContainer = gd.closest('#notebook-container');\n",
       "if (notebookContainer) {{\n",
       "    x.observe(notebookContainer, {childList: true});\n",
       "}}\n",
       "\n",
       "// Listen for the clearing of the current output cell\n",
       "var outputEl = gd.closest('.output');\n",
       "if (outputEl) {{\n",
       "    x.observe(outputEl, {childList: true});\n",
       "}}\n",
       "\n",
       "                        })                };                });            </script>        </div>"
      ]
     },
     "metadata": {},
     "output_type": "display_data"
    },
    {
     "name": "stdout",
     "output_type": "stream",
     "text": [
      "\n"
     ]
    }
   ],
   "source": [
    "for plot_time in [time(hour=12), time(hour=20)]:\n",
    "    \n",
    "    pp_plot.plot_timestamps_powerflow_result(net=net_ExPF1_Pb1_heig, filename=\"sim_result_\" + pp_plot._time_to_str(plot_time) ,\n",
    "                                    plot_time=plot_time)\n",
    "    print()\n"
   ]
  },
  {
   "cell_type": "markdown",
   "metadata": {},
   "source": [
    "# Annexe"
   ]
  },
  {
   "cell_type": "markdown",
   "metadata": {},
   "source": [
    "### Tuto for _Compute admitance matrix_ part"
   ]
  },
  {
   "cell_type": "code",
   "execution_count": 235,
   "metadata": {},
   "outputs": [
    {
     "name": "stdout",
     "output_type": "stream",
     "text": [
      "   Resistance  line\n",
      "0          10     0\n",
      "1          20     1\n",
      "2          30     2\n",
      "3          40     3\n",
      "4          50     4\n",
      "5          60     5\n",
      "6          70     6\n",
      "7          80     7\n",
      "8          90     8\n",
      "9         100     9\n",
      "   Resistance  line\n",
      "6          70     6\n",
      "7          80     7\n",
      "1          20     1\n",
      "4          50     4\n",
      "2          30     2\n",
      "9         100     9\n",
      "3          40     3\n",
      "8          90     8\n",
      "5          60     5\n",
      "0          10     0\n",
      "    Current\n",
      "0  0.500000\n",
      "1  0.250000\n",
      "2  0.166667\n",
      "3  0.125000\n",
      "4  0.100000\n",
      "5  0.083333\n",
      "6  0.071429\n",
      "7  0.062500\n",
      "8  0.055556\n",
      "9  0.050000\n"
     ]
    }
   ],
   "source": [
    "# Create dictionnary with values\n",
    "data = {\"Resistance\": range(10, 101, 10), \"line\": range(0, 10, 1)}\n",
    "\n",
    "# Create dataframe with the dict\n",
    "resistance_DF = pd.DataFrame(data)\n",
    "print(resistance_DF)\n",
    "tension = 5\n",
    "\n",
    "# Randomize order of the row\n",
    "resistance_DF_rand = resistance_DF.sample(frac=1)\n",
    "print(resistance_DF_rand)\n",
    "nb_line = resistance_DF.shape[0]\n",
    "\n",
    "current = np.zeros(nb_line)\n",
    "for i in range(nb_line):\n",
    "    line_number = resistance_DF_rand.at[i, \"line\"]\n",
    "    current[line_number] = tension / resistance_DF_rand.at[line_number, \"Resistance\"]\n",
    "current_DataFrame = pd.DataFrame({\"Current\": current})\n",
    "print(current_DataFrame)"
   ]
  },
  {
   "cell_type": "code",
   "execution_count": null,
   "metadata": {},
   "outputs": [],
   "source": []
  }
 ],
 "metadata": {
  "kernelspec": {
   "display_name": "base",
   "language": "python",
   "name": "python3"
  },
  "language_info": {
   "codemirror_mode": {
    "name": "ipython",
    "version": 3
   },
   "file_extension": ".py",
   "mimetype": "text/x-python",
   "name": "python",
   "nbconvert_exporter": "python",
   "pygments_lexer": "ipython3",
   "version": "3.12.4"
  }
 },
 "nbformat": 4,
 "nbformat_minor": 2
}
