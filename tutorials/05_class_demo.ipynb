{
 "cells": [
  {
   "cell_type": "markdown",
   "id": "67f34205-b7c7-4f05-bb5e-ef464ebc8e57",
   "metadata": {},
   "source": [
    "**My First Class Demo Notebook – A Simple Tutorial**\n",
    "\n",
    "It is important to mention that we have just made a new selection for this course. You don't have to do everything, but it's highly recommended that you go through these fundamental concepts and learn how to master them. This course is not a programming course, but we will give you the essential content so that you can draw on it for your future engineering projects."
   ]
  },
  {
   "cell_type": "markdown",
   "id": "879ab900-6d56-45ee-a136-3f58b9b9df6b",
   "metadata": {},
   "source": [
    "# Create or open a Jupyter Notebook"
   ]
  },
  {
   "cell_type": "markdown",
   "id": "caa61ed4-b4ad-4ca6-aa4e-4509a70f9e67",
   "metadata": {},
   "source": [
    "# Coding capabilities"
   ]
  },
  {
   "cell_type": "markdown",
   "id": "576168d1-34a5-4e36-87aa-e550a0c62fdb",
   "metadata": {},
   "source": [
    "## A first computation and plot"
   ]
  },
  {
   "cell_type": "code",
   "execution_count": 31,
   "id": "47e841b9-8f80-4d0e-ad44-598a73005939",
   "metadata": {
    "tags": []
   },
   "outputs": [],
   "source": [
    "import matplotlib.pyplot as plt"
   ]
  },
  {
   "cell_type": "code",
   "execution_count": null,
   "id": "78e634d7-7405-4d83-b5d3-9c743a664b28",
   "metadata": {},
   "outputs": [],
   "source": []
  },
  {
   "cell_type": "code",
   "execution_count": null,
   "id": "612f8f99-aab4-421c-8185-b9ebdc415a1d",
   "metadata": {},
   "outputs": [],
   "source": []
  },
  {
   "cell_type": "markdown",
   "id": "22cdff6b-4d50-4da0-a6a5-1b49c421c016",
   "metadata": {},
   "source": [
    "## Python basics to learn today's list"
   ]
  },
  {
   "cell_type": "markdown",
   "id": "0e5632ab-fe2e-4ce8-86f6-1936bc3491a1",
   "metadata": {},
   "source": [
    "Basics:\n",
    "- [ ] Integer\n",
    "- [ ] Float \n",
    "- [ ] Boolean\n",
    "- [ ] String\n",
    "- [ ] Basic operations\n",
    "\n",
    "Lists:\n",
    "- [ ] Indexing and slicing\n",
    "- [ ] List concatenation and mutation\n",
    "- [ ] Nested list\n",
    "\n",
    "Dictionnary\n",
    "- [ ] Data access\n",
    "- [ ] Dictionnary concatenation and mutation\n",
    "- [ ] Nested dictionnary\n",
    "\n",
    "Loop and conditions\n",
    "- [ ] `if` statements\n",
    "- [ ] `while` statements\n",
    "- [ ] `for` statements\n",
    "- [ ] `range()` function\n",
    "\n",
    "Packages\n",
    "- [ ] NumPy\n",
    "- [ ] Pandas\n",
    "- [ ] Pandapower"
   ]
  },
  {
   "cell_type": "markdown",
   "id": "e2b378e5-ef9d-4bc5-82c7-32f6876704a0",
   "metadata": {
    "tags": []
   },
   "source": [
    "### 3.1 `if` statements\n",
    "Perhaps the most well-known statement type is the [`if`](https://docs.python.org/3.10/reference/compound_stmts.html#if) statement. For example:\\\n",
    "**Pay attention to the systax: there is not end to if statements, every lines bellow an if and containing a tab are within the if statement**"
   ]
  },
  {
   "cell_type": "code",
   "execution_count": null,
   "id": "346605b3-c769-4c68-a2c7-d09a9abeb536",
   "metadata": {},
   "outputs": [],
   "source": []
  },
  {
   "cell_type": "markdown",
   "id": "0bef025b-7c61-428e-87a1-d75a7125e956",
   "metadata": {},
   "source": [
    "There can be zero or more [`elif`](https://docs.python.org/3.10/reference/compound_stmts.html#elif) parts, and the [else](https://docs.python.org/3.10/reference/compound_stmts.html#else) part is optional. The keyword '`elif`' is short for 'else if', and is useful to avoid excessive indentation. An `if` ... `elif` ... `elif` ... sequence is a substitute for the `switch` or `case` statements found in other languages.\n"
   ]
  },
  {
   "cell_type": "markdown",
   "id": "4fee3dec-1ef6-49c6-80fc-6725527a983a",
   "metadata": {
    "tags": []
   },
   "source": [
    "### 3.2 `while` statements"
   ]
  },
  {
   "cell_type": "markdown",
   "id": "e97e5e82-545b-464a-b1c0-d84898c46e8e",
   "metadata": {},
   "source": [
    "With the while statement, we can execute a set of statements as long as a condition is true.\n",
    "For instance, we can write an initial sub-sequence of the [Fibonacci series](https://en.wikipedia.org/wiki/Fibonacci_number) as follows"
   ]
  },
  {
   "cell_type": "code",
   "execution_count": null,
   "id": "1d641329-3ce0-4cee-a75b-237922a44e32",
   "metadata": {},
   "outputs": [],
   "source": []
  },
  {
   "cell_type": "markdown",
   "id": "f6e33de2-33df-42f7-85cd-5730b816f0db",
   "metadata": {},
   "source": [
    "The keyword argument _end_ can be used to avoid the newline after the output, or end the output with a different string:"
   ]
  },
  {
   "cell_type": "code",
   "execution_count": null,
   "id": "fb527805-4c76-44f7-8156-6799d117d7bd",
   "metadata": {},
   "outputs": [],
   "source": []
  },
  {
   "cell_type": "markdown",
   "id": "c19d140c-1d04-4f06-9c49-d16bc117f828",
   "metadata": {},
   "source": [
    "### 3.3 `for` statements"
   ]
  },
  {
   "cell_type": "markdown",
   "id": "f98e8a7f-050e-4079-9131-c6c1810e842f",
   "metadata": {},
   "source": [
    "The [`for`](https://docs.python.org/3.10/reference/compound_stmts.html#for) statement in Python iterates over the items of any sequence (list, dictionnary, string, ...), in the order that they appear in the sequence. This differs from what you may be used to in C or Pascal where you always iterate over an arithmetic progression of numbers (like in Pascal), or give the user the ability to define both the iteration step and halting condition (as C)."
   ]
  },
  {
   "cell_type": "code",
   "execution_count": null,
   "id": "0125ca72-b929-446a-b000-ef36206af0dd",
   "metadata": {},
   "outputs": [],
   "source": []
  },
  {
   "cell_type": "markdown",
   "id": "c5e20fb4-3784-4abf-ae79-900438418d53",
   "metadata": {},
   "source": [
    "You get the colection elements number using `enumerate()`:"
   ]
  },
  {
   "cell_type": "code",
   "execution_count": null,
   "id": "c67c7337-033e-4f22-b491-09578d5525b3",
   "metadata": {},
   "outputs": [],
   "source": []
  },
  {
   "cell_type": "code",
   "execution_count": null,
   "id": "0eeed913-ba7d-41ea-97e4-8b6afb3d26bc",
   "metadata": {},
   "outputs": [],
   "source": []
  },
  {
   "cell_type": "markdown",
   "id": "aa13b371-14ac-4906-83b6-775221a191ee",
   "metadata": {},
   "source": [
    "Be carfull in code that modifies a collection while iterating over that same collection, it is safer to create a new collection:"
   ]
  },
  {
   "cell_type": "code",
   "execution_count": null,
   "id": "917ad96a-b752-4e25-ae3a-71db341b15e8",
   "metadata": {},
   "outputs": [],
   "source": []
  },
  {
   "cell_type": "markdown",
   "id": "cc8f0fa9-b9a8-4800-a82e-0412cdece28c",
   "metadata": {},
   "source": [
    "To go further, You can find other [Looping Techniques](https://docs.python.org/3.10/tutorial/datastructures.html#tut-loopidioms)."
   ]
  },
  {
   "cell_type": "markdown",
   "id": "4fab1410-db1e-4c43-9797-62c97e4b7872",
   "metadata": {},
   "source": [
    "### 3.4 `range()` function"
   ]
  },
  {
   "cell_type": "markdown",
   "id": "8852b882-1633-411b-b989-0c626997d1fe",
   "metadata": {},
   "source": [
    "If you need to iterate over a sequence of numbers, the built-in function `range()` will come in handy. It generates arithmetic progressions:"
   ]
  },
  {
   "cell_type": "code",
   "execution_count": null,
   "id": "7637a8fc-7b3b-4e73-86fd-0dec55fda096",
   "metadata": {},
   "outputs": [],
   "source": []
  },
  {
   "cell_type": "code",
   "execution_count": null,
   "id": "35c60f84-f823-478d-87cd-105650bc76f2",
   "metadata": {},
   "outputs": [],
   "source": []
  },
  {
   "cell_type": "markdown",
   "id": "900fe3f1-83c0-4c4d-9d50-48a4029453cc",
   "metadata": {},
   "source": [
    "The given end point is never part of the generated sequence; `range(10)` generates 10 values, the legal indices for items of a sequence of length 10. It is possible to let the range start at another number, or to specify a different increment (even negative; sometimes this is called the 'step'):"
   ]
  },
  {
   "cell_type": "code",
   "execution_count": null,
   "id": "e5f13d08-b5a5-4964-8431-244c326d38d9",
   "metadata": {},
   "outputs": [],
   "source": []
  },
  {
   "cell_type": "markdown",
   "id": "56c3604a-0542-488c-b7c1-01f8fb5a6608",
   "metadata": {},
   "source": [
    "To iterate over the indices of a sequence, you can combine [`range()`](https://docs.python.org/3.10/library/stdtypes.html#range) and [`len()`](https://docs.python.org/3.10/library/functions.html#len) as follows:"
   ]
  },
  {
   "cell_type": "code",
   "execution_count": null,
   "id": "3c4e3b15-1ef5-4e27-b59d-e8057b3cc758",
   "metadata": {},
   "outputs": [],
   "source": []
  },
  {
   "cell_type": "markdown",
   "id": "f36366dd-c489-41c6-88c8-cf7c11ed68b5",
   "metadata": {},
   "source": [
    "In many ways the object returned by `range()` behaves as if it is a list, but in fact it isn’t. It is an object which returns the successive items of the desired sequence when you iterate over it, but it doesn’t really make the list, thus saving space.\n",
    "\n",
    "We say that such an object is [iterable](https://docs.python.org/3.10/glossary.html#term-iterable), meaning that it is suitable as a target for functions and constructs that expect something from which they can obtain successive elements until the supply is exhausted. We've seen that the [`for`](https://docs.python.org/3.10/reference/compound_stmts.html#for) statement is such a construct, while an example of a function that takes an iterable object is [`sum()`](https://docs.python.org/3.10/library/functions.html#sum):"
   ]
  },
  {
   "cell_type": "code",
   "execution_count": null,
   "id": "14b72dfc-1125-4b0d-900f-cabedd4e10ad",
   "metadata": {},
   "outputs": [],
   "source": []
  },
  {
   "cell_type": "markdown",
   "id": "0b6d3919-a580-451d-bd42-72567d7f4c63",
   "metadata": {},
   "source": [
    "Later we will see more functions that return iterables and take iterables as arguments. In chapter [Data Structures](https://docs.python.org/3.10/tutorial/datastructures.html#tut-structures), we will discuss in more detail about [`list()`](https://docs.python.org/3.10/library/stdtypes.html#list).\n",
    "\n",
    "Coming soon ..."
   ]
  },
  {
   "cell_type": "markdown",
   "id": "f04107a4-b732-45d0-92e2-81379d3021b6",
   "metadata": {},
   "source": [
    "## References for Python's basics"
   ]
  },
  {
   "cell_type": "markdown",
   "id": "368c237c-3c2f-4e92-89b5-d6cdf6531276",
   "metadata": {},
   "source": [
    "If you want to get more insights and learn the basics in Python, please visit the following two very good references:\n",
    "\n",
    "- [Learn X in Y minutes](https://learnxinyminutes.com/docs/python/)\n",
    "- [The Python Tutorial](https://docs.python.org/3/tutorial/)"
   ]
  },
  {
   "cell_type": "markdown",
   "id": "0e7d1439",
   "metadata": {},
   "source": [
    "# **Panda**power\n",
    "\n",
    "This tutorial explains **panda**power library basis used in RHT laboratories. **panda**power is an easy to use tool for loadflow and short-circuit calculations in power systems. To go further, we recommend you take a look at these two\n",
    "- [**panda**power's documentation](https://pandapower.readthedocs.io/en/v2.13.1/elements/trafo.html).\n",
    "- [**panda**power's tutorials](https://www.pandapower.org/start/#interactive-tutorials-).\n",
    "- [**panda**power_heig_ui's documentation](https://heig-vd-iese.github.io/pandapower-heig-ui/)."
   ]
  },
  {
   "cell_type": "markdown",
   "id": "e6eed5d5",
   "metadata": {},
   "source": [
    "## Create a small power network\n",
    "\n",
    "We consider the following simple 3-bus example network from [**panda**power's tutorial](https://github.com/e2nIEE/pandapower/blob/master/tutorials/minimal_example.ipynb).\n",
    "\n",
    "<img alt=\"pandapower with 2-bus minimal example\" width =\"600\" caption=\"Figure 1 – A minimal example with a 2-bus power system including PQ-load\" src=\"https://github.com/e2nIEE/pandapower/raw/develop/tutorials/pics/3bus-system.png\" id=\"pandapower_simple\"/>\n",
    "\n",
    "The above network can be created in pandapower as follows:"
   ]
  },
  {
   "cell_type": "code",
   "execution_count": 32,
   "id": "141c5225",
   "metadata": {},
   "outputs": [],
   "source": [
    "import pandapower as pp"
   ]
  },
  {
   "cell_type": "markdown",
   "id": "bf18c262",
   "metadata": {},
   "source": [
    "### Create a **panda**power empty power network object"
   ]
  },
  {
   "cell_type": "markdown",
   "id": "85e8f6e7",
   "metadata": {},
   "source": [
    "In order to create an empty network object, we can run the following **panda**power command:"
   ]
  },
  {
   "cell_type": "code",
   "execution_count": 33,
   "id": "71b5d135",
   "metadata": {},
   "outputs": [
    {
     "data": {
      "text/plain": [
       "This pandapower network is empty"
      ]
     },
     "execution_count": 33,
     "metadata": {},
     "output_type": "execute_result"
    }
   ],
   "source": [
    "# Create an empty network\n",
    "net = pp.create_empty_network()\n",
    "net"
   ]
  },
  {
   "cell_type": "markdown",
   "id": "a8db7a42",
   "metadata": {},
   "source": [
    "The empty network object is composed by a dictionary of pandas DataFrame."
   ]
  },
  {
   "cell_type": "markdown",
   "id": "e16068d6",
   "metadata": {},
   "source": [
    "### Create three buses with different voltage levels"
   ]
  },
  {
   "cell_type": "markdown",
   "id": "8b49e1ad",
   "metadata": {},
   "source": [
    "We need three buses with different voltage levels and names, buses are the elements which connect equipments together:"
   ]
  },
  {
   "cell_type": "code",
   "execution_count": 34,
   "id": "12b473f5",
   "metadata": {},
   "outputs": [],
   "source": [
    "# Create buses\n",
    "bus1 = pp.create_bus(net, vn_kv=20., name=\"Bus 1\")\n",
    "bus2 = pp.create_bus(net, vn_kv=0.4, name=\"Bus 2\")\n",
    "bus3 = pp.create_bus(net, vn_kv=0.4, name=\"Bus 3\")"
   ]
  },
  {
   "cell_type": "markdown",
   "id": "d19a2924",
   "metadata": {},
   "source": [
    "**Remark**: We need to pay attention that voltage levels are express in kV and correspond to line voltages."
   ]
  },
  {
   "cell_type": "markdown",
   "id": "0fbc271e",
   "metadata": {},
   "source": [
    "### Creating a transformer and connecting it to the network"
   ]
  },
  {
   "cell_type": "markdown",
   "id": "964e7e10",
   "metadata": {},
   "source": [
    "For a full understanding of the parameters to be applied, please read the [documentation](https://pandapower.readthedocs.io/en/v2.13.1/elements/trafo.html) carefully. \n",
    "\n",
    "In order to create the transformer object that will be connection to the network previously created, we can proceed as follows:"
   ]
  },
  {
   "cell_type": "code",
   "execution_count": 35,
   "id": "5f83ddce",
   "metadata": {},
   "outputs": [],
   "source": [
    "# Create transformer\n",
    "trafo = pp.create_transformer_from_parameters(\n",
    "    net, hv_bus=bus1, lv_bus=bus2, sn_mva=0.4, vn_hv_kv=20.0, vn_lv_kv=0.4, vk_percent=6.0, vkr_percent=1.425, pfe_kw=1.35, i0_percent=0.3375, name=\"Trafo\")\n",
    "\n",
    "# trafo = pp.create_transformer(net, hv_bus=bus1, lv_bus=bus2, std_type=\"0.4 MVA 20/0.4 kV\", name=\"Trafo\")"
   ]
  },
  {
   "cell_type": "markdown",
   "id": "040859e3",
   "metadata": {},
   "source": [
    "**Remark**: pay attention in parameters units and in voltage levels matchs."
   ]
  },
  {
   "cell_type": "markdown",
   "id": "8aa326a4",
   "metadata": {},
   "source": [
    "### Create a transmission line and connect it to the network"
   ]
  },
  {
   "cell_type": "code",
   "execution_count": 36,
   "id": "8d57d9bf",
   "metadata": {},
   "outputs": [],
   "source": [
    "line = pp.create_line_from_parameters(net, from_bus=bus2, to_bus=bus3, length_km=0.1, r_ohm_per_km=0.642, x_ohm_per_km=0.083, c_nf_per_km=210, max_i_ka=0.142, name=\"Line\")"
   ]
  },
  {
   "cell_type": "markdown",
   "id": "a40ac8cc",
   "metadata": {},
   "source": [
    "### Create a load connect it to the network"
   ]
  },
  {
   "cell_type": "code",
   "execution_count": 37,
   "id": "4a4e2e92",
   "metadata": {},
   "outputs": [],
   "source": [
    "# Create bus elements\n",
    "load = pp.create_load(net, bus=bus3, p_mw=0.100, q_mvar=0.05, name=\"Load\")"
   ]
  },
  {
   "cell_type": "markdown",
   "id": "778abd4c",
   "metadata": {},
   "source": [
    "### Create an external grid connection"
   ]
  },
  {
   "cell_type": "markdown",
   "id": "0f35e4d1",
   "metadata": {},
   "source": [
    "This element is mandatory to be able to perform powerflow simulations. It insures to keep powers balanced within the power network:"
   ]
  },
  {
   "cell_type": "code",
   "execution_count": 38,
   "id": "656ae7cf",
   "metadata": {},
   "outputs": [],
   "source": [
    "ext_grid = pp.create_ext_grid(net, bus=bus1, vm_pu=1.20, name=\"Grid Connection\")"
   ]
  },
  {
   "cell_type": "markdown",
   "id": "e103d3c8",
   "metadata": {},
   "source": [
    "## Data structure and data access\n",
    "\n",
    "A **panda**power network object is structured as a dictionary:\n",
    "\n",
    "- Keys are the type names of power network equipments names such as line, load transformer, etc. (string).\n",
    "- Values are tables which contains all the information needed about their corresponding equipments (pandas DataFrame).\n",
    " \n",
    "By calling the network have a quick overview of it and the number of element for each equipment."
   ]
  },
  {
   "cell_type": "code",
   "execution_count": 39,
   "id": "3318d23f",
   "metadata": {},
   "outputs": [
    {
     "data": {
      "text/plain": [
       "This pandapower network includes the following parameter tables:\n",
       "   - bus (3 element)\n",
       "   - load (1 elements)\n",
       "   - ext_grid (1 elements)\n",
       "   - line (1 elements)\n",
       "   - trafo (1 elements)"
      ]
     },
     "execution_count": 39,
     "metadata": {},
     "output_type": "execute_result"
    }
   ],
   "source": [
    "net"
   ]
  },
  {
   "cell_type": "markdown",
   "id": "551feb16",
   "metadata": {},
   "source": [
    "There are two ways to get the one equipment type table:\n",
    "\n",
    "- By using the dictionary way to call values.\n",
    "- By using the pandapower object."
   ]
  },
  {
   "cell_type": "code",
   "execution_count": 40,
   "id": "1e284db3",
   "metadata": {},
   "outputs": [
    {
     "data": {
      "text/html": [
       "<div>\n",
       "<style scoped>\n",
       "    .dataframe tbody tr th:only-of-type {\n",
       "        vertical-align: middle;\n",
       "    }\n",
       "\n",
       "    .dataframe tbody tr th {\n",
       "        vertical-align: top;\n",
       "    }\n",
       "\n",
       "    .dataframe thead th {\n",
       "        text-align: right;\n",
       "    }\n",
       "</style>\n",
       "<table border=\"1\" class=\"dataframe\">\n",
       "  <thead>\n",
       "    <tr style=\"text-align: right;\">\n",
       "      <th></th>\n",
       "      <th>name</th>\n",
       "      <th>vn_kv</th>\n",
       "      <th>type</th>\n",
       "      <th>zone</th>\n",
       "      <th>in_service</th>\n",
       "    </tr>\n",
       "  </thead>\n",
       "  <tbody>\n",
       "    <tr>\n",
       "      <th>0</th>\n",
       "      <td>Bus 1</td>\n",
       "      <td>20.0</td>\n",
       "      <td>b</td>\n",
       "      <td>None</td>\n",
       "      <td>True</td>\n",
       "    </tr>\n",
       "    <tr>\n",
       "      <th>1</th>\n",
       "      <td>Bus 2</td>\n",
       "      <td>0.4</td>\n",
       "      <td>b</td>\n",
       "      <td>None</td>\n",
       "      <td>True</td>\n",
       "    </tr>\n",
       "    <tr>\n",
       "      <th>2</th>\n",
       "      <td>Bus 3</td>\n",
       "      <td>0.4</td>\n",
       "      <td>b</td>\n",
       "      <td>None</td>\n",
       "      <td>True</td>\n",
       "    </tr>\n",
       "  </tbody>\n",
       "</table>\n",
       "</div>"
      ],
      "text/plain": [
       "    name  vn_kv type  zone  in_service\n",
       "0  Bus 1   20.0    b  None        True\n",
       "1  Bus 2    0.4    b  None        True\n",
       "2  Bus 3    0.4    b  None        True"
      ]
     },
     "execution_count": 40,
     "metadata": {},
     "output_type": "execute_result"
    }
   ],
   "source": [
    "net[\"bus\"]"
   ]
  },
  {
   "cell_type": "code",
   "execution_count": 41,
   "id": "033aa5c5",
   "metadata": {},
   "outputs": [
    {
     "data": {
      "text/plain": [
       "pandas.core.frame.DataFrame"
      ]
     },
     "execution_count": 41,
     "metadata": {},
     "output_type": "execute_result"
    }
   ],
   "source": [
    "type(net[\"bus\"])"
   ]
  },
  {
   "cell_type": "code",
   "execution_count": 42,
   "id": "ea6af304",
   "metadata": {},
   "outputs": [
    {
     "data": {
      "text/html": [
       "<div>\n",
       "<style scoped>\n",
       "    .dataframe tbody tr th:only-of-type {\n",
       "        vertical-align: middle;\n",
       "    }\n",
       "\n",
       "    .dataframe tbody tr th {\n",
       "        vertical-align: top;\n",
       "    }\n",
       "\n",
       "    .dataframe thead th {\n",
       "        text-align: right;\n",
       "    }\n",
       "</style>\n",
       "<table border=\"1\" class=\"dataframe\">\n",
       "  <thead>\n",
       "    <tr style=\"text-align: right;\">\n",
       "      <th></th>\n",
       "      <th>name</th>\n",
       "      <th>vn_kv</th>\n",
       "      <th>type</th>\n",
       "      <th>zone</th>\n",
       "      <th>in_service</th>\n",
       "    </tr>\n",
       "  </thead>\n",
       "  <tbody>\n",
       "    <tr>\n",
       "      <th>0</th>\n",
       "      <td>Bus 1</td>\n",
       "      <td>20.0</td>\n",
       "      <td>b</td>\n",
       "      <td>None</td>\n",
       "      <td>True</td>\n",
       "    </tr>\n",
       "    <tr>\n",
       "      <th>1</th>\n",
       "      <td>Bus 2</td>\n",
       "      <td>0.4</td>\n",
       "      <td>b</td>\n",
       "      <td>None</td>\n",
       "      <td>True</td>\n",
       "    </tr>\n",
       "    <tr>\n",
       "      <th>2</th>\n",
       "      <td>Bus 3</td>\n",
       "      <td>0.4</td>\n",
       "      <td>b</td>\n",
       "      <td>None</td>\n",
       "      <td>True</td>\n",
       "    </tr>\n",
       "  </tbody>\n",
       "</table>\n",
       "</div>"
      ],
      "text/plain": [
       "    name  vn_kv type  zone  in_service\n",
       "0  Bus 1   20.0    b  None        True\n",
       "1  Bus 2    0.4    b  None        True\n",
       "2  Bus 3    0.4    b  None        True"
      ]
     },
     "execution_count": 42,
     "metadata": {},
     "output_type": "execute_result"
    }
   ],
   "source": [
    "net.bus"
   ]
  },
  {
   "cell_type": "code",
   "execution_count": 43,
   "id": "6b45c33c",
   "metadata": {},
   "outputs": [
    {
     "data": {
      "text/html": [
       "<div>\n",
       "<style scoped>\n",
       "    .dataframe tbody tr th:only-of-type {\n",
       "        vertical-align: middle;\n",
       "    }\n",
       "\n",
       "    .dataframe tbody tr th {\n",
       "        vertical-align: top;\n",
       "    }\n",
       "\n",
       "    .dataframe thead th {\n",
       "        text-align: right;\n",
       "    }\n",
       "</style>\n",
       "<table border=\"1\" class=\"dataframe\">\n",
       "  <thead>\n",
       "    <tr style=\"text-align: right;\">\n",
       "      <th></th>\n",
       "      <th>name</th>\n",
       "      <th>std_type</th>\n",
       "      <th>hv_bus</th>\n",
       "      <th>lv_bus</th>\n",
       "      <th>sn_mva</th>\n",
       "      <th>vn_hv_kv</th>\n",
       "      <th>vn_lv_kv</th>\n",
       "      <th>vk_percent</th>\n",
       "      <th>vkr_percent</th>\n",
       "      <th>pfe_kw</th>\n",
       "      <th>i0_percent</th>\n",
       "      <th>shift_degree</th>\n",
       "      <th>tap_side</th>\n",
       "      <th>tap_neutral</th>\n",
       "      <th>tap_min</th>\n",
       "      <th>tap_max</th>\n",
       "      <th>tap_step_percent</th>\n",
       "      <th>tap_step_degree</th>\n",
       "      <th>tap_pos</th>\n",
       "      <th>tap_phase_shifter</th>\n",
       "      <th>parallel</th>\n",
       "      <th>df</th>\n",
       "      <th>in_service</th>\n",
       "    </tr>\n",
       "  </thead>\n",
       "  <tbody>\n",
       "    <tr>\n",
       "      <th>0</th>\n",
       "      <td>Trafo</td>\n",
       "      <td>None</td>\n",
       "      <td>0</td>\n",
       "      <td>1</td>\n",
       "      <td>0.4</td>\n",
       "      <td>20.0</td>\n",
       "      <td>0.4</td>\n",
       "      <td>6.0</td>\n",
       "      <td>1.425</td>\n",
       "      <td>1.35</td>\n",
       "      <td>0.3375</td>\n",
       "      <td>0.0</td>\n",
       "      <td>None</td>\n",
       "      <td>NaN</td>\n",
       "      <td>NaN</td>\n",
       "      <td>NaN</td>\n",
       "      <td>NaN</td>\n",
       "      <td>NaN</td>\n",
       "      <td>NaN</td>\n",
       "      <td>False</td>\n",
       "      <td>1</td>\n",
       "      <td>1.0</td>\n",
       "      <td>True</td>\n",
       "    </tr>\n",
       "  </tbody>\n",
       "</table>\n",
       "</div>"
      ],
      "text/plain": [
       "    name std_type  hv_bus  lv_bus  sn_mva  vn_hv_kv  vn_lv_kv  vk_percent  \\\n",
       "0  Trafo     None       0       1     0.4      20.0       0.4         6.0   \n",
       "\n",
       "   vkr_percent  pfe_kw  i0_percent  shift_degree tap_side  tap_neutral  \\\n",
       "0        1.425    1.35      0.3375           0.0     None          NaN   \n",
       "\n",
       "   tap_min  tap_max  tap_step_percent  tap_step_degree  tap_pos  \\\n",
       "0      NaN      NaN               NaN              NaN      NaN   \n",
       "\n",
       "   tap_phase_shifter  parallel   df  in_service  \n",
       "0              False         1  1.0        True  "
      ]
     },
     "execution_count": 43,
     "metadata": {},
     "output_type": "execute_result"
    }
   ],
   "source": [
    "net.trafo"
   ]
  },
  {
   "cell_type": "code",
   "execution_count": 44,
   "id": "d6c286ee",
   "metadata": {},
   "outputs": [
    {
     "data": {
      "text/html": [
       "<div>\n",
       "<style scoped>\n",
       "    .dataframe tbody tr th:only-of-type {\n",
       "        vertical-align: middle;\n",
       "    }\n",
       "\n",
       "    .dataframe tbody tr th {\n",
       "        vertical-align: top;\n",
       "    }\n",
       "\n",
       "    .dataframe thead th {\n",
       "        text-align: right;\n",
       "    }\n",
       "</style>\n",
       "<table border=\"1\" class=\"dataframe\">\n",
       "  <thead>\n",
       "    <tr style=\"text-align: right;\">\n",
       "      <th></th>\n",
       "      <th>name</th>\n",
       "      <th>std_type</th>\n",
       "      <th>from_bus</th>\n",
       "      <th>to_bus</th>\n",
       "      <th>length_km</th>\n",
       "      <th>r_ohm_per_km</th>\n",
       "      <th>x_ohm_per_km</th>\n",
       "      <th>c_nf_per_km</th>\n",
       "      <th>g_us_per_km</th>\n",
       "      <th>max_i_ka</th>\n",
       "      <th>df</th>\n",
       "      <th>parallel</th>\n",
       "      <th>type</th>\n",
       "      <th>in_service</th>\n",
       "    </tr>\n",
       "  </thead>\n",
       "  <tbody>\n",
       "    <tr>\n",
       "      <th>0</th>\n",
       "      <td>Line</td>\n",
       "      <td>None</td>\n",
       "      <td>1</td>\n",
       "      <td>2</td>\n",
       "      <td>0.1</td>\n",
       "      <td>0.642</td>\n",
       "      <td>0.083</td>\n",
       "      <td>210.0</td>\n",
       "      <td>0.0</td>\n",
       "      <td>0.142</td>\n",
       "      <td>1.0</td>\n",
       "      <td>1</td>\n",
       "      <td>None</td>\n",
       "      <td>True</td>\n",
       "    </tr>\n",
       "  </tbody>\n",
       "</table>\n",
       "</div>"
      ],
      "text/plain": [
       "   name std_type  from_bus  to_bus  length_km  r_ohm_per_km  x_ohm_per_km  \\\n",
       "0  Line     None         1       2        0.1         0.642         0.083   \n",
       "\n",
       "   c_nf_per_km  g_us_per_km  max_i_ka   df  parallel  type  in_service  \n",
       "0        210.0          0.0     0.142  1.0         1  None        True  "
      ]
     },
     "execution_count": 44,
     "metadata": {},
     "output_type": "execute_result"
    }
   ],
   "source": [
    "net.line"
   ]
  },
  {
   "cell_type": "code",
   "execution_count": 45,
   "id": "29bd3c3a",
   "metadata": {},
   "outputs": [
    {
     "data": {
      "text/html": [
       "<div>\n",
       "<style scoped>\n",
       "    .dataframe tbody tr th:only-of-type {\n",
       "        vertical-align: middle;\n",
       "    }\n",
       "\n",
       "    .dataframe tbody tr th {\n",
       "        vertical-align: top;\n",
       "    }\n",
       "\n",
       "    .dataframe thead th {\n",
       "        text-align: right;\n",
       "    }\n",
       "</style>\n",
       "<table border=\"1\" class=\"dataframe\">\n",
       "  <thead>\n",
       "    <tr style=\"text-align: right;\">\n",
       "      <th></th>\n",
       "      <th>name</th>\n",
       "      <th>bus</th>\n",
       "      <th>p_mw</th>\n",
       "      <th>q_mvar</th>\n",
       "      <th>const_z_percent</th>\n",
       "      <th>const_i_percent</th>\n",
       "      <th>sn_mva</th>\n",
       "      <th>scaling</th>\n",
       "      <th>in_service</th>\n",
       "      <th>type</th>\n",
       "    </tr>\n",
       "  </thead>\n",
       "  <tbody>\n",
       "    <tr>\n",
       "      <th>0</th>\n",
       "      <td>Load</td>\n",
       "      <td>2</td>\n",
       "      <td>0.1</td>\n",
       "      <td>0.05</td>\n",
       "      <td>0.0</td>\n",
       "      <td>0.0</td>\n",
       "      <td>NaN</td>\n",
       "      <td>1.0</td>\n",
       "      <td>True</td>\n",
       "      <td>wye</td>\n",
       "    </tr>\n",
       "  </tbody>\n",
       "</table>\n",
       "</div>"
      ],
      "text/plain": [
       "   name  bus  p_mw  q_mvar  const_z_percent  const_i_percent  sn_mva  scaling  \\\n",
       "0  Load    2   0.1    0.05              0.0              0.0     NaN      1.0   \n",
       "\n",
       "   in_service type  \n",
       "0        True  wye  "
      ]
     },
     "execution_count": 45,
     "metadata": {},
     "output_type": "execute_result"
    }
   ],
   "source": [
    "net.load"
   ]
  },
  {
   "cell_type": "markdown",
   "id": "f7fdf139",
   "metadata": {},
   "source": [
    "To have access to one specific element or value of a table, use Pandas functions:"
   ]
  },
  {
   "cell_type": "code",
   "execution_count": 46,
   "id": "11a3617a",
   "metadata": {},
   "outputs": [
    {
     "data": {
      "text/plain": [
       "name          Bus 1\n",
       "vn_kv          20.0\n",
       "type              b\n",
       "zone           None\n",
       "in_service     True\n",
       "Name: 0, dtype: object"
      ]
     },
     "execution_count": 46,
     "metadata": {},
     "output_type": "execute_result"
    }
   ],
   "source": [
    "net.bus.loc[0,:]"
   ]
  },
  {
   "cell_type": "code",
   "execution_count": 47,
   "id": "4549117e",
   "metadata": {},
   "outputs": [
    {
     "data": {
      "text/plain": [
       "pandas.core.series.Series"
      ]
     },
     "execution_count": 47,
     "metadata": {},
     "output_type": "execute_result"
    }
   ],
   "source": [
    "type(net.bus.loc[0, :])"
   ]
  },
  {
   "cell_type": "code",
   "execution_count": 48,
   "id": "fede928e",
   "metadata": {},
   "outputs": [
    {
     "data": {
      "text/plain": [
       "'Bus 1'"
      ]
     },
     "execution_count": 48,
     "metadata": {},
     "output_type": "execute_result"
    }
   ],
   "source": [
    "net.bus.at[0, \"name\"]"
   ]
  },
  {
   "cell_type": "markdown",
   "id": "b0643d1c",
   "metadata": {},
   "source": [
    "We can also modify the data using Pandas function:"
   ]
  },
  {
   "cell_type": "code",
   "execution_count": 49,
   "id": "b100bb5f",
   "metadata": {},
   "outputs": [
    {
     "data": {
      "text/html": [
       "<div>\n",
       "<style scoped>\n",
       "    .dataframe tbody tr th:only-of-type {\n",
       "        vertical-align: middle;\n",
       "    }\n",
       "\n",
       "    .dataframe tbody tr th {\n",
       "        vertical-align: top;\n",
       "    }\n",
       "\n",
       "    .dataframe thead th {\n",
       "        text-align: right;\n",
       "    }\n",
       "</style>\n",
       "<table border=\"1\" class=\"dataframe\">\n",
       "  <thead>\n",
       "    <tr style=\"text-align: right;\">\n",
       "      <th></th>\n",
       "      <th>name</th>\n",
       "      <th>vn_kv</th>\n",
       "      <th>type</th>\n",
       "      <th>zone</th>\n",
       "      <th>in_service</th>\n",
       "    </tr>\n",
       "  </thead>\n",
       "  <tbody>\n",
       "    <tr>\n",
       "      <th>0</th>\n",
       "      <td>hv_bus</td>\n",
       "      <td>20.0</td>\n",
       "      <td>b</td>\n",
       "      <td>None</td>\n",
       "      <td>True</td>\n",
       "    </tr>\n",
       "    <tr>\n",
       "      <th>1</th>\n",
       "      <td>Bus 2</td>\n",
       "      <td>0.4</td>\n",
       "      <td>b</td>\n",
       "      <td>None</td>\n",
       "      <td>True</td>\n",
       "    </tr>\n",
       "    <tr>\n",
       "      <th>2</th>\n",
       "      <td>Bus 3</td>\n",
       "      <td>0.4</td>\n",
       "      <td>b</td>\n",
       "      <td>None</td>\n",
       "      <td>True</td>\n",
       "    </tr>\n",
       "  </tbody>\n",
       "</table>\n",
       "</div>"
      ],
      "text/plain": [
       "     name  vn_kv type  zone  in_service\n",
       "0  hv_bus   20.0    b  None        True\n",
       "1   Bus 2    0.4    b  None        True\n",
       "2   Bus 3    0.4    b  None        True"
      ]
     },
     "execution_count": 49,
     "metadata": {},
     "output_type": "execute_result"
    }
   ],
   "source": [
    "net.bus.loc[0, \"name\"] = \"hv_bus\"\n",
    "net.bus"
   ]
  },
  {
   "cell_type": "markdown",
   "id": "ee443c0a",
   "metadata": {},
   "source": [
    "## Run power flow\n",
    "\n",
    "Now we can run a balanced power flow calculation using the following command:"
   ]
  },
  {
   "cell_type": "code",
   "execution_count": 50,
   "id": "629287f7",
   "metadata": {},
   "outputs": [
    {
     "data": {
      "text/plain": [
       "This pandapower network includes the following parameter tables:\n",
       "   - bus (3 element)\n",
       "   - load (1 elements)\n",
       "   - ext_grid (1 elements)\n",
       "   - line (1 elements)\n",
       "   - trafo (1 elements)\n",
       " and the following results tables:\n",
       "   - res_bus (3 element)\n",
       "   - res_line (1 elements)\n",
       "   - res_trafo (1 elements)\n",
       "   - res_ext_grid (1 elements)\n",
       "   - res_load (1 elements)"
      ]
     },
     "execution_count": 50,
     "metadata": {},
     "output_type": "execute_result"
    }
   ],
   "source": [
    "pp.runpp(net)\n",
    "net"
   ]
  },
  {
   "cell_type": "markdown",
   "id": "58601648",
   "metadata": {},
   "source": [
    "Then if you check you **panda**power object you will see that powerflow results tables have been added.\n",
    "\n",
    "It may also be interesting to consult the results for buses, lines and transformers:"
   ]
  },
  {
   "cell_type": "code",
   "execution_count": 51,
   "id": "11a23450",
   "metadata": {},
   "outputs": [
    {
     "data": {
      "text/html": [
       "<div>\n",
       "<style scoped>\n",
       "    .dataframe tbody tr th:only-of-type {\n",
       "        vertical-align: middle;\n",
       "    }\n",
       "\n",
       "    .dataframe tbody tr th {\n",
       "        vertical-align: top;\n",
       "    }\n",
       "\n",
       "    .dataframe thead th {\n",
       "        text-align: right;\n",
       "    }\n",
       "</style>\n",
       "<table border=\"1\" class=\"dataframe\">\n",
       "  <thead>\n",
       "    <tr style=\"text-align: right;\">\n",
       "      <th></th>\n",
       "      <th>vm_pu</th>\n",
       "      <th>va_degree</th>\n",
       "      <th>p_mw</th>\n",
       "      <th>q_mvar</th>\n",
       "    </tr>\n",
       "  </thead>\n",
       "  <tbody>\n",
       "    <tr>\n",
       "      <th>0</th>\n",
       "      <td>1.200000</td>\n",
       "      <td>0.000000</td>\n",
       "      <td>-0.106038</td>\n",
       "      <td>-0.051875</td>\n",
       "    </tr>\n",
       "    <tr>\n",
       "      <th>1</th>\n",
       "      <td>1.190635</td>\n",
       "      <td>-0.539841</td>\n",
       "      <td>0.000000</td>\n",
       "      <td>0.000000</td>\n",
       "    </tr>\n",
       "    <tr>\n",
       "      <th>2</th>\n",
       "      <td>1.153532</td>\n",
       "      <td>0.080701</td>\n",
       "      <td>0.100000</td>\n",
       "      <td>0.050000</td>\n",
       "    </tr>\n",
       "  </tbody>\n",
       "</table>\n",
       "</div>"
      ],
      "text/plain": [
       "      vm_pu  va_degree      p_mw    q_mvar\n",
       "0  1.200000   0.000000 -0.106038 -0.051875\n",
       "1  1.190635  -0.539841  0.000000  0.000000\n",
       "2  1.153532   0.080701  0.100000  0.050000"
      ]
     },
     "execution_count": 51,
     "metadata": {},
     "output_type": "execute_result"
    }
   ],
   "source": [
    "net.res_bus"
   ]
  },
  {
   "cell_type": "code",
   "execution_count": 52,
   "id": "7abdca28",
   "metadata": {},
   "outputs": [
    {
     "data": {
      "text/html": [
       "<div>\n",
       "<style scoped>\n",
       "    .dataframe tbody tr th:only-of-type {\n",
       "        vertical-align: middle;\n",
       "    }\n",
       "\n",
       "    .dataframe tbody tr th {\n",
       "        vertical-align: top;\n",
       "    }\n",
       "\n",
       "    .dataframe thead th {\n",
       "        text-align: right;\n",
       "    }\n",
       "</style>\n",
       "<table border=\"1\" class=\"dataframe\">\n",
       "  <thead>\n",
       "    <tr style=\"text-align: right;\">\n",
       "      <th></th>\n",
       "      <th>p_from_mw</th>\n",
       "      <th>q_from_mvar</th>\n",
       "      <th>p_to_mw</th>\n",
       "      <th>q_to_mvar</th>\n",
       "      <th>pl_mw</th>\n",
       "      <th>ql_mvar</th>\n",
       "      <th>i_from_ka</th>\n",
       "      <th>i_to_ka</th>\n",
       "      <th>i_ka</th>\n",
       "      <th>vm_from_pu</th>\n",
       "      <th>va_from_degree</th>\n",
       "      <th>vm_to_pu</th>\n",
       "      <th>va_to_degree</th>\n",
       "      <th>loading_percent</th>\n",
       "    </tr>\n",
       "  </thead>\n",
       "  <tbody>\n",
       "    <tr>\n",
       "      <th>0</th>\n",
       "      <td>0.103769</td>\n",
       "      <td>0.050486</td>\n",
       "      <td>-0.1</td>\n",
       "      <td>-0.05</td>\n",
       "      <td>0.003769</td>\n",
       "      <td>0.000486</td>\n",
       "      <td>0.139895</td>\n",
       "      <td>0.139896</td>\n",
       "      <td>0.139896</td>\n",
       "      <td>1.190635</td>\n",
       "      <td>-0.539841</td>\n",
       "      <td>1.153532</td>\n",
       "      <td>0.080701</td>\n",
       "      <td>98.518141</td>\n",
       "    </tr>\n",
       "  </tbody>\n",
       "</table>\n",
       "</div>"
      ],
      "text/plain": [
       "   p_from_mw  q_from_mvar  p_to_mw  q_to_mvar     pl_mw   ql_mvar  i_from_ka  \\\n",
       "0   0.103769     0.050486     -0.1      -0.05  0.003769  0.000486   0.139895   \n",
       "\n",
       "    i_to_ka      i_ka  vm_from_pu  va_from_degree  vm_to_pu  va_to_degree  \\\n",
       "0  0.139896  0.139896    1.190635       -0.539841  1.153532      0.080701   \n",
       "\n",
       "   loading_percent  \n",
       "0        98.518141  "
      ]
     },
     "execution_count": 52,
     "metadata": {},
     "output_type": "execute_result"
    }
   ],
   "source": [
    "net.res_line"
   ]
  },
  {
   "cell_type": "code",
   "execution_count": 53,
   "id": "1091b336",
   "metadata": {},
   "outputs": [
    {
     "data": {
      "text/html": [
       "<div>\n",
       "<style scoped>\n",
       "    .dataframe tbody tr th:only-of-type {\n",
       "        vertical-align: middle;\n",
       "    }\n",
       "\n",
       "    .dataframe tbody tr th {\n",
       "        vertical-align: top;\n",
       "    }\n",
       "\n",
       "    .dataframe thead th {\n",
       "        text-align: right;\n",
       "    }\n",
       "</style>\n",
       "<table border=\"1\" class=\"dataframe\">\n",
       "  <thead>\n",
       "    <tr style=\"text-align: right;\">\n",
       "      <th></th>\n",
       "      <th>p_hv_mw</th>\n",
       "      <th>q_hv_mvar</th>\n",
       "      <th>p_lv_mw</th>\n",
       "      <th>q_lv_mvar</th>\n",
       "      <th>pl_mw</th>\n",
       "      <th>ql_mvar</th>\n",
       "      <th>i_hv_ka</th>\n",
       "      <th>i_lv_ka</th>\n",
       "      <th>vm_hv_pu</th>\n",
       "      <th>va_hv_degree</th>\n",
       "      <th>vm_lv_pu</th>\n",
       "      <th>va_lv_degree</th>\n",
       "      <th>loading_percent</th>\n",
       "    </tr>\n",
       "  </thead>\n",
       "  <tbody>\n",
       "    <tr>\n",
       "      <th>0</th>\n",
       "      <td>0.106038</td>\n",
       "      <td>0.051875</td>\n",
       "      <td>-0.103769</td>\n",
       "      <td>-0.050486</td>\n",
       "      <td>0.002268</td>\n",
       "      <td>0.001389</td>\n",
       "      <td>0.00284</td>\n",
       "      <td>0.139895</td>\n",
       "      <td>1.2</td>\n",
       "      <td>0.0</td>\n",
       "      <td>1.190635</td>\n",
       "      <td>-0.539841</td>\n",
       "      <td>24.593091</td>\n",
       "    </tr>\n",
       "  </tbody>\n",
       "</table>\n",
       "</div>"
      ],
      "text/plain": [
       "    p_hv_mw  q_hv_mvar   p_lv_mw  q_lv_mvar     pl_mw   ql_mvar  i_hv_ka  \\\n",
       "0  0.106038   0.051875 -0.103769  -0.050486  0.002268  0.001389  0.00284   \n",
       "\n",
       "    i_lv_ka  vm_hv_pu  va_hv_degree  vm_lv_pu  va_lv_degree  loading_percent  \n",
       "0  0.139895       1.2           0.0  1.190635     -0.539841        24.593091  "
      ]
     },
     "execution_count": 53,
     "metadata": {},
     "output_type": "execute_result"
    }
   ],
   "source": [
    "net.res_trafo"
   ]
  },
  {
   "cell_type": "markdown",
   "id": "c05c0d48",
   "metadata": {},
   "source": [
    "All other pandapower elements and power grid analysis functionality (e.g. optimal power flow, state estimation or short-circuit calculation) are also fully integrated into pandapower's tabular data structure. This concludes a short walkthrough of some pandapower features. More in-depth tutorials can be found under this [link](https://www.pandapower.org/start/#interactive-tutorials-.)"
   ]
  },
  {
   "cell_type": "markdown",
   "id": "65d75db7",
   "metadata": {},
   "source": [
    "## Create small power network using excel files"
   ]
  },
  {
   "cell_type": "markdown",
   "id": "daaad153",
   "metadata": {},
   "source": [
    "A package has been created in order to simplify network generation, timeseries simulation and data visualisation. We can generate **panda**power object from data stored in excels files through the following function."
   ]
  },
  {
   "cell_type": "code",
   "execution_count": 54,
   "id": "fd6559b7",
   "metadata": {},
   "outputs": [],
   "source": [
    "import pp_heig_plot as pp_plot\n",
    "import pp_heig_simulation as pp_sim\n",
    "from datetime import time"
   ]
  },
  {
   "cell_type": "code",
   "execution_count": 55,
   "id": "2794d407",
   "metadata": {},
   "outputs": [
    {
     "name": "stdout",
     "output_type": "stream",
     "text": [
      "/home/agiraldi/git/rht\n"
     ]
    }
   ],
   "source": [
    "!pwd"
   ]
  },
  {
   "cell_type": "code",
   "execution_count": 56,
   "id": "d74357e9",
   "metadata": {},
   "outputs": [
    {
     "data": {
      "text/plain": [
       "This pandapower network includes the following parameter tables:\n",
       "   - bus (3 element)\n",
       "   - load (1 elements)\n",
       "   - ext_grid (1 elements)\n",
       "   - line (1 elements)\n",
       "   - trafo (1 elements)"
      ]
     },
     "execution_count": 56,
     "metadata": {},
     "output_type": "execute_result"
    }
   ],
   "source": [
    "net_file_path = \"./tutorials/data/3_bus_example.xlsx\"\n",
    "net = pp_sim.load_net_from_xlsx(file_path=net_file_path)\n",
    "net"
   ]
  },
  {
   "cell_type": "markdown",
   "id": "204828b3",
   "metadata": {},
   "source": [
    "We can plot a simplified diagram of our network using the following function:\n",
    "\n",
    "- By adding a filename, the plot will be saved in a png format in the default folder _plot_.\n",
    "- We can change the folder name using the folder parameter.\n",
    "- We can view the equipment parameters in the plot by moving the mouse over them.\n",
    "- The network is well traced when it is tree-like. In the case of a mesh grid, a coordinate parameter must be added to the buses."
   ]
  },
  {
   "cell_type": "code",
   "execution_count": 57,
   "id": "25c8b85b",
   "metadata": {},
   "outputs": [
    {
     "data": {
      "application/vnd.plotly.v1+json": {
       "config": {
        "plotlyServerURL": "https://plot.ly"
       },
       "data": [
        {
         "hoverinfo": "text",
         "legendgroup": "lines",
         "line": {
          "color": "rgb(0, 0, 0)",
          "width": 3
         },
         "mode": "lines",
         "name": "Lines",
         "showlegend": true,
         "text": "Line",
         "type": "scatter",
         "x": [
          0,
          0,
          0
         ],
         "y": [
          -1,
          -1.5,
          -2
         ]
        },
        {
         "hoverinfo": "text",
         "legendgroup": "lines",
         "marker": {
          "color": "rgb(0, 0, 0)",
          "size": 1,
          "symbol": "circle"
         },
         "mode": "markers",
         "name": "edge_center",
         "showlegend": false,
         "type": "scatter",
         "x": [
          0
         ],
         "y": [
          -1.5
         ]
        },
        {
         "hoverinfo": "text",
         "legendgroup": "Transformers",
         "line": {
          "color": "rgb(0, 128, 0)",
          "width": 7
         },
         "mode": "lines",
         "name": "Transformers",
         "showlegend": true,
         "text": "Trafo<br>0.4 MVA",
         "type": "scatter",
         "x": [
          0,
          0,
          0
         ],
         "y": [
          0,
          -0.5,
          -1
         ]
        },
        {
         "hoverinfo": "text",
         "legendgroup": "Transformers",
         "marker": {
          "color": "rgb(0, 128, 0)",
          "size": 1,
          "symbol": "circle"
         },
         "mode": "markers",
         "name": "edge_center",
         "showlegend": false,
         "text": [
          "Trafo<br>0.4 MVA"
         ],
         "type": "scatter",
         "x": [
          0
         ],
         "y": [
          -0.5
         ]
        },
        {
         "hoverinfo": "text",
         "marker": {
          "color": "rgb(191, 191, 0)",
          "size": 30,
          "symbol": "square"
         },
         "mode": "markers",
         "name": "Ext grid",
         "text": [
          "ext_grid"
         ],
         "type": "scatter",
         "x": [
          0
         ],
         "y": [
          0
         ]
        },
        {
         "hoverinfo": "text",
         "marker": {
          "color": "rgb(0, 0, 255)",
          "size": 20,
          "symbol": "circle"
         },
         "mode": "markers",
         "name": "Zone 1.0",
         "text": [
          "Bus 1<br>20.0 kV"
         ],
         "type": "scatter",
         "x": [
          0
         ],
         "y": [
          0
         ]
        },
        {
         "hoverinfo": "text",
         "marker": {
          "color": "rgb(0, 128, 0)",
          "size": 20,
          "symbol": "circle"
         },
         "mode": "markers",
         "name": "Zone 2.0",
         "text": [
          "Bus 2<br>0.4 kV",
          "Bus 3<br>0.4 kV"
         ],
         "type": "scatter",
         "x": [
          0,
          0
         ],
         "y": [
          -1,
          -2
         ]
        }
       ],
       "layout": {
        "font": {
         "size": 15
        },
        "height": 400,
        "hovermode": "closest",
        "legend": {
         "font": {
          "size": 12
         },
         "itemsizing": "constant"
        },
        "margin": {
         "b": 5,
         "l": 5,
         "r": 5,
         "t": 30
        },
        "paper_bgcolor": "white",
        "plot_bgcolor": "white",
        "showlegend": true,
        "template": {
         "data": {
          "bar": [
           {
            "error_x": {
             "color": "#2a3f5f"
            },
            "error_y": {
             "color": "#2a3f5f"
            },
            "marker": {
             "line": {
              "color": "#E5ECF6",
              "width": 0.5
             },
             "pattern": {
              "fillmode": "overlay",
              "size": 10,
              "solidity": 0.2
             }
            },
            "type": "bar"
           }
          ],
          "barpolar": [
           {
            "marker": {
             "line": {
              "color": "#E5ECF6",
              "width": 0.5
             },
             "pattern": {
              "fillmode": "overlay",
              "size": 10,
              "solidity": 0.2
             }
            },
            "type": "barpolar"
           }
          ],
          "carpet": [
           {
            "aaxis": {
             "endlinecolor": "#2a3f5f",
             "gridcolor": "white",
             "linecolor": "white",
             "minorgridcolor": "white",
             "startlinecolor": "#2a3f5f"
            },
            "baxis": {
             "endlinecolor": "#2a3f5f",
             "gridcolor": "white",
             "linecolor": "white",
             "minorgridcolor": "white",
             "startlinecolor": "#2a3f5f"
            },
            "type": "carpet"
           }
          ],
          "choropleth": [
           {
            "colorbar": {
             "outlinewidth": 0,
             "ticks": ""
            },
            "type": "choropleth"
           }
          ],
          "contour": [
           {
            "colorbar": {
             "outlinewidth": 0,
             "ticks": ""
            },
            "colorscale": [
             [
              0,
              "#0d0887"
             ],
             [
              0.1111111111111111,
              "#46039f"
             ],
             [
              0.2222222222222222,
              "#7201a8"
             ],
             [
              0.3333333333333333,
              "#9c179e"
             ],
             [
              0.4444444444444444,
              "#bd3786"
             ],
             [
              0.5555555555555556,
              "#d8576b"
             ],
             [
              0.6666666666666666,
              "#ed7953"
             ],
             [
              0.7777777777777778,
              "#fb9f3a"
             ],
             [
              0.8888888888888888,
              "#fdca26"
             ],
             [
              1,
              "#f0f921"
             ]
            ],
            "type": "contour"
           }
          ],
          "contourcarpet": [
           {
            "colorbar": {
             "outlinewidth": 0,
             "ticks": ""
            },
            "type": "contourcarpet"
           }
          ],
          "heatmap": [
           {
            "colorbar": {
             "outlinewidth": 0,
             "ticks": ""
            },
            "colorscale": [
             [
              0,
              "#0d0887"
             ],
             [
              0.1111111111111111,
              "#46039f"
             ],
             [
              0.2222222222222222,
              "#7201a8"
             ],
             [
              0.3333333333333333,
              "#9c179e"
             ],
             [
              0.4444444444444444,
              "#bd3786"
             ],
             [
              0.5555555555555556,
              "#d8576b"
             ],
             [
              0.6666666666666666,
              "#ed7953"
             ],
             [
              0.7777777777777778,
              "#fb9f3a"
             ],
             [
              0.8888888888888888,
              "#fdca26"
             ],
             [
              1,
              "#f0f921"
             ]
            ],
            "type": "heatmap"
           }
          ],
          "heatmapgl": [
           {
            "colorbar": {
             "outlinewidth": 0,
             "ticks": ""
            },
            "colorscale": [
             [
              0,
              "#0d0887"
             ],
             [
              0.1111111111111111,
              "#46039f"
             ],
             [
              0.2222222222222222,
              "#7201a8"
             ],
             [
              0.3333333333333333,
              "#9c179e"
             ],
             [
              0.4444444444444444,
              "#bd3786"
             ],
             [
              0.5555555555555556,
              "#d8576b"
             ],
             [
              0.6666666666666666,
              "#ed7953"
             ],
             [
              0.7777777777777778,
              "#fb9f3a"
             ],
             [
              0.8888888888888888,
              "#fdca26"
             ],
             [
              1,
              "#f0f921"
             ]
            ],
            "type": "heatmapgl"
           }
          ],
          "histogram": [
           {
            "marker": {
             "pattern": {
              "fillmode": "overlay",
              "size": 10,
              "solidity": 0.2
             }
            },
            "type": "histogram"
           }
          ],
          "histogram2d": [
           {
            "colorbar": {
             "outlinewidth": 0,
             "ticks": ""
            },
            "colorscale": [
             [
              0,
              "#0d0887"
             ],
             [
              0.1111111111111111,
              "#46039f"
             ],
             [
              0.2222222222222222,
              "#7201a8"
             ],
             [
              0.3333333333333333,
              "#9c179e"
             ],
             [
              0.4444444444444444,
              "#bd3786"
             ],
             [
              0.5555555555555556,
              "#d8576b"
             ],
             [
              0.6666666666666666,
              "#ed7953"
             ],
             [
              0.7777777777777778,
              "#fb9f3a"
             ],
             [
              0.8888888888888888,
              "#fdca26"
             ],
             [
              1,
              "#f0f921"
             ]
            ],
            "type": "histogram2d"
           }
          ],
          "histogram2dcontour": [
           {
            "colorbar": {
             "outlinewidth": 0,
             "ticks": ""
            },
            "colorscale": [
             [
              0,
              "#0d0887"
             ],
             [
              0.1111111111111111,
              "#46039f"
             ],
             [
              0.2222222222222222,
              "#7201a8"
             ],
             [
              0.3333333333333333,
              "#9c179e"
             ],
             [
              0.4444444444444444,
              "#bd3786"
             ],
             [
              0.5555555555555556,
              "#d8576b"
             ],
             [
              0.6666666666666666,
              "#ed7953"
             ],
             [
              0.7777777777777778,
              "#fb9f3a"
             ],
             [
              0.8888888888888888,
              "#fdca26"
             ],
             [
              1,
              "#f0f921"
             ]
            ],
            "type": "histogram2dcontour"
           }
          ],
          "mesh3d": [
           {
            "colorbar": {
             "outlinewidth": 0,
             "ticks": ""
            },
            "type": "mesh3d"
           }
          ],
          "parcoords": [
           {
            "line": {
             "colorbar": {
              "outlinewidth": 0,
              "ticks": ""
             }
            },
            "type": "parcoords"
           }
          ],
          "pie": [
           {
            "automargin": true,
            "type": "pie"
           }
          ],
          "scatter": [
           {
            "fillpattern": {
             "fillmode": "overlay",
             "size": 10,
             "solidity": 0.2
            },
            "type": "scatter"
           }
          ],
          "scatter3d": [
           {
            "line": {
             "colorbar": {
              "outlinewidth": 0,
              "ticks": ""
             }
            },
            "marker": {
             "colorbar": {
              "outlinewidth": 0,
              "ticks": ""
             }
            },
            "type": "scatter3d"
           }
          ],
          "scattercarpet": [
           {
            "marker": {
             "colorbar": {
              "outlinewidth": 0,
              "ticks": ""
             }
            },
            "type": "scattercarpet"
           }
          ],
          "scattergeo": [
           {
            "marker": {
             "colorbar": {
              "outlinewidth": 0,
              "ticks": ""
             }
            },
            "type": "scattergeo"
           }
          ],
          "scattergl": [
           {
            "marker": {
             "colorbar": {
              "outlinewidth": 0,
              "ticks": ""
             }
            },
            "type": "scattergl"
           }
          ],
          "scattermapbox": [
           {
            "marker": {
             "colorbar": {
              "outlinewidth": 0,
              "ticks": ""
             }
            },
            "type": "scattermapbox"
           }
          ],
          "scatterpolar": [
           {
            "marker": {
             "colorbar": {
              "outlinewidth": 0,
              "ticks": ""
             }
            },
            "type": "scatterpolar"
           }
          ],
          "scatterpolargl": [
           {
            "marker": {
             "colorbar": {
              "outlinewidth": 0,
              "ticks": ""
             }
            },
            "type": "scatterpolargl"
           }
          ],
          "scatterternary": [
           {
            "marker": {
             "colorbar": {
              "outlinewidth": 0,
              "ticks": ""
             }
            },
            "type": "scatterternary"
           }
          ],
          "surface": [
           {
            "colorbar": {
             "outlinewidth": 0,
             "ticks": ""
            },
            "colorscale": [
             [
              0,
              "#0d0887"
             ],
             [
              0.1111111111111111,
              "#46039f"
             ],
             [
              0.2222222222222222,
              "#7201a8"
             ],
             [
              0.3333333333333333,
              "#9c179e"
             ],
             [
              0.4444444444444444,
              "#bd3786"
             ],
             [
              0.5555555555555556,
              "#d8576b"
             ],
             [
              0.6666666666666666,
              "#ed7953"
             ],
             [
              0.7777777777777778,
              "#fb9f3a"
             ],
             [
              0.8888888888888888,
              "#fdca26"
             ],
             [
              1,
              "#f0f921"
             ]
            ],
            "type": "surface"
           }
          ],
          "table": [
           {
            "cells": {
             "fill": {
              "color": "#EBF0F8"
             },
             "line": {
              "color": "white"
             }
            },
            "header": {
             "fill": {
              "color": "#C8D4E3"
             },
             "line": {
              "color": "white"
             }
            },
            "type": "table"
           }
          ]
         },
         "layout": {
          "annotationdefaults": {
           "arrowcolor": "#2a3f5f",
           "arrowhead": 0,
           "arrowwidth": 1
          },
          "autotypenumbers": "strict",
          "coloraxis": {
           "colorbar": {
            "outlinewidth": 0,
            "ticks": ""
           }
          },
          "colorscale": {
           "diverging": [
            [
             0,
             "#8e0152"
            ],
            [
             0.1,
             "#c51b7d"
            ],
            [
             0.2,
             "#de77ae"
            ],
            [
             0.3,
             "#f1b6da"
            ],
            [
             0.4,
             "#fde0ef"
            ],
            [
             0.5,
             "#f7f7f7"
            ],
            [
             0.6,
             "#e6f5d0"
            ],
            [
             0.7,
             "#b8e186"
            ],
            [
             0.8,
             "#7fbc41"
            ],
            [
             0.9,
             "#4d9221"
            ],
            [
             1,
             "#276419"
            ]
           ],
           "sequential": [
            [
             0,
             "#0d0887"
            ],
            [
             0.1111111111111111,
             "#46039f"
            ],
            [
             0.2222222222222222,
             "#7201a8"
            ],
            [
             0.3333333333333333,
             "#9c179e"
            ],
            [
             0.4444444444444444,
             "#bd3786"
            ],
            [
             0.5555555555555556,
             "#d8576b"
            ],
            [
             0.6666666666666666,
             "#ed7953"
            ],
            [
             0.7777777777777778,
             "#fb9f3a"
            ],
            [
             0.8888888888888888,
             "#fdca26"
            ],
            [
             1,
             "#f0f921"
            ]
           ],
           "sequentialminus": [
            [
             0,
             "#0d0887"
            ],
            [
             0.1111111111111111,
             "#46039f"
            ],
            [
             0.2222222222222222,
             "#7201a8"
            ],
            [
             0.3333333333333333,
             "#9c179e"
            ],
            [
             0.4444444444444444,
             "#bd3786"
            ],
            [
             0.5555555555555556,
             "#d8576b"
            ],
            [
             0.6666666666666666,
             "#ed7953"
            ],
            [
             0.7777777777777778,
             "#fb9f3a"
            ],
            [
             0.8888888888888888,
             "#fdca26"
            ],
            [
             1,
             "#f0f921"
            ]
           ]
          },
          "colorway": [
           "#636efa",
           "#EF553B",
           "#00cc96",
           "#ab63fa",
           "#FFA15A",
           "#19d3f3",
           "#FF6692",
           "#B6E880",
           "#FF97FF",
           "#FECB52"
          ],
          "font": {
           "color": "#2a3f5f"
          },
          "geo": {
           "bgcolor": "white",
           "lakecolor": "white",
           "landcolor": "#E5ECF6",
           "showlakes": true,
           "showland": true,
           "subunitcolor": "white"
          },
          "hoverlabel": {
           "align": "left"
          },
          "hovermode": "closest",
          "mapbox": {
           "style": "light"
          },
          "paper_bgcolor": "white",
          "plot_bgcolor": "#E5ECF6",
          "polar": {
           "angularaxis": {
            "gridcolor": "white",
            "linecolor": "white",
            "ticks": ""
           },
           "bgcolor": "#E5ECF6",
           "radialaxis": {
            "gridcolor": "white",
            "linecolor": "white",
            "ticks": ""
           }
          },
          "scene": {
           "xaxis": {
            "backgroundcolor": "#E5ECF6",
            "gridcolor": "white",
            "gridwidth": 2,
            "linecolor": "white",
            "showbackground": true,
            "ticks": "",
            "zerolinecolor": "white"
           },
           "yaxis": {
            "backgroundcolor": "#E5ECF6",
            "gridcolor": "white",
            "gridwidth": 2,
            "linecolor": "white",
            "showbackground": true,
            "ticks": "",
            "zerolinecolor": "white"
           },
           "zaxis": {
            "backgroundcolor": "#E5ECF6",
            "gridcolor": "white",
            "gridwidth": 2,
            "linecolor": "white",
            "showbackground": true,
            "ticks": "",
            "zerolinecolor": "white"
           }
          },
          "shapedefaults": {
           "line": {
            "color": "#2a3f5f"
           }
          },
          "ternary": {
           "aaxis": {
            "gridcolor": "white",
            "linecolor": "white",
            "ticks": ""
           },
           "baxis": {
            "gridcolor": "white",
            "linecolor": "white",
            "ticks": ""
           },
           "bgcolor": "#E5ECF6",
           "caxis": {
            "gridcolor": "white",
            "linecolor": "white",
            "ticks": ""
           }
          },
          "title": {
           "x": 0.05
          },
          "xaxis": {
           "automargin": true,
           "gridcolor": "white",
           "linecolor": "white",
           "ticks": "",
           "title": {
            "standoff": 15
           },
           "zerolinecolor": "white",
           "zerolinewidth": 2
          },
          "yaxis": {
           "automargin": true,
           "gridcolor": "white",
           "linecolor": "white",
           "ticks": "",
           "title": {
            "standoff": 15
           },
           "zerolinecolor": "white",
           "zerolinewidth": 2
          }
         }
        },
        "title": {
         "text": "<b>3-bus example<b>",
         "x": 0.5,
         "xanchor": "center",
         "y": 0.97,
         "yanchor": "top"
        },
        "width": 680,
        "xaxis": {
         "showgrid": false,
         "showticklabels": false,
         "tickfont": {
          "family": "Arial Black",
          "size": 12
         },
         "title": {
          "font": {
           "size": 12
          }
         },
         "zeroline": false
        },
        "yaxis": {
         "showgrid": false,
         "showticklabels": false,
         "tickfont": {
          "family": "Arial Black",
          "size": 12
         },
         "title": {
          "font": {
           "size": 12
          }
         },
         "zeroline": false
        }
       }
      },
      "text/html": [
       "<div>                            <div id=\"5148b32d-c5fc-4eda-9589-45cf346937fe\" class=\"plotly-graph-div\" style=\"height:400px; width:680px;\"></div>            <script type=\"text/javascript\">                require([\"plotly\"], function(Plotly) {                    window.PLOTLYENV=window.PLOTLYENV || {};                                    if (document.getElementById(\"5148b32d-c5fc-4eda-9589-45cf346937fe\")) {                    Plotly.newPlot(                        \"5148b32d-c5fc-4eda-9589-45cf346937fe\",                        [{\"hoverinfo\":\"text\",\"legendgroup\":\"lines\",\"line\":{\"color\":\"rgb(0, 0, 0)\",\"width\":3},\"mode\":\"lines\",\"name\":\"Lines\",\"showlegend\":true,\"text\":\"Line\",\"x\":[0.0,0.0,0.0],\"y\":[-1.0,-1.5,-2.0],\"type\":\"scatter\"},{\"hoverinfo\":\"text\",\"legendgroup\":\"lines\",\"marker\":{\"color\":\"rgb(0, 0, 0)\",\"size\":1,\"symbol\":\"circle\"},\"mode\":\"markers\",\"name\":\"edge_center\",\"showlegend\":false,\"x\":[0.0],\"y\":[-1.5],\"type\":\"scatter\"},{\"hoverinfo\":\"text\",\"legendgroup\":\"Transformers\",\"line\":{\"color\":\"rgb(0, 128, 0)\",\"width\":7},\"mode\":\"lines\",\"name\":\"Transformers\",\"showlegend\":true,\"text\":\"Trafo\\u003cbr\\u003e0.4 MVA\",\"x\":[0.0,0.0,0.0],\"y\":[-0.0,-0.5,-1.0],\"type\":\"scatter\"},{\"hoverinfo\":\"text\",\"legendgroup\":\"Transformers\",\"marker\":{\"color\":\"rgb(0, 128, 0)\",\"size\":1,\"symbol\":\"circle\"},\"mode\":\"markers\",\"name\":\"edge_center\",\"showlegend\":false,\"text\":[\"Trafo\\u003cbr\\u003e0.4 MVA\"],\"x\":[0.0],\"y\":[-0.5],\"type\":\"scatter\"},{\"hoverinfo\":\"text\",\"marker\":{\"color\":\"rgb(191, 191, 0)\",\"size\":30,\"symbol\":\"square\"},\"mode\":\"markers\",\"name\":\"Ext grid\",\"text\":[\"ext_grid\"],\"x\":[0.0],\"y\":[-0.0],\"type\":\"scatter\"},{\"hoverinfo\":\"text\",\"marker\":{\"color\":\"rgb(0, 0, 255)\",\"size\":20,\"symbol\":\"circle\"},\"mode\":\"markers\",\"name\":\"Zone 1.0\",\"text\":[\"Bus 1\\u003cbr\\u003e20.0 kV\"],\"x\":[0.0],\"y\":[-0.0],\"type\":\"scatter\"},{\"hoverinfo\":\"text\",\"marker\":{\"color\":\"rgb(0, 128, 0)\",\"size\":20,\"symbol\":\"circle\"},\"mode\":\"markers\",\"name\":\"Zone 2.0\",\"text\":[\"Bus 2\\u003cbr\\u003e0.4 kV\",\"Bus 3\\u003cbr\\u003e0.4 kV\"],\"x\":[0.0,0.0],\"y\":[-1.0,-2.0],\"type\":\"scatter\"}],                        {\"hovermode\":\"closest\",\"legend\":{\"itemsizing\":\"constant\",\"font\":{\"size\":12}},\"margin\":{\"b\":5,\"l\":5,\"r\":5,\"t\":30},\"showlegend\":true,\"xaxis\":{\"showgrid\":false,\"showticklabels\":false,\"zeroline\":false,\"tickfont\":{\"size\":12,\"family\":\"Arial Black\"},\"title\":{\"font\":{\"size\":12}}},\"yaxis\":{\"showgrid\":false,\"showticklabels\":false,\"zeroline\":false,\"tickfont\":{\"size\":12,\"family\":\"Arial Black\"},\"title\":{\"font\":{\"size\":12}}},\"template\":{\"data\":{\"histogram2dcontour\":[{\"type\":\"histogram2dcontour\",\"colorbar\":{\"outlinewidth\":0,\"ticks\":\"\"},\"colorscale\":[[0.0,\"#0d0887\"],[0.1111111111111111,\"#46039f\"],[0.2222222222222222,\"#7201a8\"],[0.3333333333333333,\"#9c179e\"],[0.4444444444444444,\"#bd3786\"],[0.5555555555555556,\"#d8576b\"],[0.6666666666666666,\"#ed7953\"],[0.7777777777777778,\"#fb9f3a\"],[0.8888888888888888,\"#fdca26\"],[1.0,\"#f0f921\"]]}],\"choropleth\":[{\"type\":\"choropleth\",\"colorbar\":{\"outlinewidth\":0,\"ticks\":\"\"}}],\"histogram2d\":[{\"type\":\"histogram2d\",\"colorbar\":{\"outlinewidth\":0,\"ticks\":\"\"},\"colorscale\":[[0.0,\"#0d0887\"],[0.1111111111111111,\"#46039f\"],[0.2222222222222222,\"#7201a8\"],[0.3333333333333333,\"#9c179e\"],[0.4444444444444444,\"#bd3786\"],[0.5555555555555556,\"#d8576b\"],[0.6666666666666666,\"#ed7953\"],[0.7777777777777778,\"#fb9f3a\"],[0.8888888888888888,\"#fdca26\"],[1.0,\"#f0f921\"]]}],\"heatmap\":[{\"type\":\"heatmap\",\"colorbar\":{\"outlinewidth\":0,\"ticks\":\"\"},\"colorscale\":[[0.0,\"#0d0887\"],[0.1111111111111111,\"#46039f\"],[0.2222222222222222,\"#7201a8\"],[0.3333333333333333,\"#9c179e\"],[0.4444444444444444,\"#bd3786\"],[0.5555555555555556,\"#d8576b\"],[0.6666666666666666,\"#ed7953\"],[0.7777777777777778,\"#fb9f3a\"],[0.8888888888888888,\"#fdca26\"],[1.0,\"#f0f921\"]]}],\"heatmapgl\":[{\"type\":\"heatmapgl\",\"colorbar\":{\"outlinewidth\":0,\"ticks\":\"\"},\"colorscale\":[[0.0,\"#0d0887\"],[0.1111111111111111,\"#46039f\"],[0.2222222222222222,\"#7201a8\"],[0.3333333333333333,\"#9c179e\"],[0.4444444444444444,\"#bd3786\"],[0.5555555555555556,\"#d8576b\"],[0.6666666666666666,\"#ed7953\"],[0.7777777777777778,\"#fb9f3a\"],[0.8888888888888888,\"#fdca26\"],[1.0,\"#f0f921\"]]}],\"contourcarpet\":[{\"type\":\"contourcarpet\",\"colorbar\":{\"outlinewidth\":0,\"ticks\":\"\"}}],\"contour\":[{\"type\":\"contour\",\"colorbar\":{\"outlinewidth\":0,\"ticks\":\"\"},\"colorscale\":[[0.0,\"#0d0887\"],[0.1111111111111111,\"#46039f\"],[0.2222222222222222,\"#7201a8\"],[0.3333333333333333,\"#9c179e\"],[0.4444444444444444,\"#bd3786\"],[0.5555555555555556,\"#d8576b\"],[0.6666666666666666,\"#ed7953\"],[0.7777777777777778,\"#fb9f3a\"],[0.8888888888888888,\"#fdca26\"],[1.0,\"#f0f921\"]]}],\"surface\":[{\"type\":\"surface\",\"colorbar\":{\"outlinewidth\":0,\"ticks\":\"\"},\"colorscale\":[[0.0,\"#0d0887\"],[0.1111111111111111,\"#46039f\"],[0.2222222222222222,\"#7201a8\"],[0.3333333333333333,\"#9c179e\"],[0.4444444444444444,\"#bd3786\"],[0.5555555555555556,\"#d8576b\"],[0.6666666666666666,\"#ed7953\"],[0.7777777777777778,\"#fb9f3a\"],[0.8888888888888888,\"#fdca26\"],[1.0,\"#f0f921\"]]}],\"mesh3d\":[{\"type\":\"mesh3d\",\"colorbar\":{\"outlinewidth\":0,\"ticks\":\"\"}}],\"scatter\":[{\"fillpattern\":{\"fillmode\":\"overlay\",\"size\":10,\"solidity\":0.2},\"type\":\"scatter\"}],\"parcoords\":[{\"type\":\"parcoords\",\"line\":{\"colorbar\":{\"outlinewidth\":0,\"ticks\":\"\"}}}],\"scatterpolargl\":[{\"type\":\"scatterpolargl\",\"marker\":{\"colorbar\":{\"outlinewidth\":0,\"ticks\":\"\"}}}],\"bar\":[{\"error_x\":{\"color\":\"#2a3f5f\"},\"error_y\":{\"color\":\"#2a3f5f\"},\"marker\":{\"line\":{\"color\":\"#E5ECF6\",\"width\":0.5},\"pattern\":{\"fillmode\":\"overlay\",\"size\":10,\"solidity\":0.2}},\"type\":\"bar\"}],\"scattergeo\":[{\"type\":\"scattergeo\",\"marker\":{\"colorbar\":{\"outlinewidth\":0,\"ticks\":\"\"}}}],\"scatterpolar\":[{\"type\":\"scatterpolar\",\"marker\":{\"colorbar\":{\"outlinewidth\":0,\"ticks\":\"\"}}}],\"histogram\":[{\"marker\":{\"pattern\":{\"fillmode\":\"overlay\",\"size\":10,\"solidity\":0.2}},\"type\":\"histogram\"}],\"scattergl\":[{\"type\":\"scattergl\",\"marker\":{\"colorbar\":{\"outlinewidth\":0,\"ticks\":\"\"}}}],\"scatter3d\":[{\"type\":\"scatter3d\",\"line\":{\"colorbar\":{\"outlinewidth\":0,\"ticks\":\"\"}},\"marker\":{\"colorbar\":{\"outlinewidth\":0,\"ticks\":\"\"}}}],\"scattermapbox\":[{\"type\":\"scattermapbox\",\"marker\":{\"colorbar\":{\"outlinewidth\":0,\"ticks\":\"\"}}}],\"scatterternary\":[{\"type\":\"scatterternary\",\"marker\":{\"colorbar\":{\"outlinewidth\":0,\"ticks\":\"\"}}}],\"scattercarpet\":[{\"type\":\"scattercarpet\",\"marker\":{\"colorbar\":{\"outlinewidth\":0,\"ticks\":\"\"}}}],\"carpet\":[{\"aaxis\":{\"endlinecolor\":\"#2a3f5f\",\"gridcolor\":\"white\",\"linecolor\":\"white\",\"minorgridcolor\":\"white\",\"startlinecolor\":\"#2a3f5f\"},\"baxis\":{\"endlinecolor\":\"#2a3f5f\",\"gridcolor\":\"white\",\"linecolor\":\"white\",\"minorgridcolor\":\"white\",\"startlinecolor\":\"#2a3f5f\"},\"type\":\"carpet\"}],\"table\":[{\"cells\":{\"fill\":{\"color\":\"#EBF0F8\"},\"line\":{\"color\":\"white\"}},\"header\":{\"fill\":{\"color\":\"#C8D4E3\"},\"line\":{\"color\":\"white\"}},\"type\":\"table\"}],\"barpolar\":[{\"marker\":{\"line\":{\"color\":\"#E5ECF6\",\"width\":0.5},\"pattern\":{\"fillmode\":\"overlay\",\"size\":10,\"solidity\":0.2}},\"type\":\"barpolar\"}],\"pie\":[{\"automargin\":true,\"type\":\"pie\"}]},\"layout\":{\"autotypenumbers\":\"strict\",\"colorway\":[\"#636efa\",\"#EF553B\",\"#00cc96\",\"#ab63fa\",\"#FFA15A\",\"#19d3f3\",\"#FF6692\",\"#B6E880\",\"#FF97FF\",\"#FECB52\"],\"font\":{\"color\":\"#2a3f5f\"},\"hovermode\":\"closest\",\"hoverlabel\":{\"align\":\"left\"},\"paper_bgcolor\":\"white\",\"plot_bgcolor\":\"#E5ECF6\",\"polar\":{\"bgcolor\":\"#E5ECF6\",\"angularaxis\":{\"gridcolor\":\"white\",\"linecolor\":\"white\",\"ticks\":\"\"},\"radialaxis\":{\"gridcolor\":\"white\",\"linecolor\":\"white\",\"ticks\":\"\"}},\"ternary\":{\"bgcolor\":\"#E5ECF6\",\"aaxis\":{\"gridcolor\":\"white\",\"linecolor\":\"white\",\"ticks\":\"\"},\"baxis\":{\"gridcolor\":\"white\",\"linecolor\":\"white\",\"ticks\":\"\"},\"caxis\":{\"gridcolor\":\"white\",\"linecolor\":\"white\",\"ticks\":\"\"}},\"coloraxis\":{\"colorbar\":{\"outlinewidth\":0,\"ticks\":\"\"}},\"colorscale\":{\"sequential\":[[0.0,\"#0d0887\"],[0.1111111111111111,\"#46039f\"],[0.2222222222222222,\"#7201a8\"],[0.3333333333333333,\"#9c179e\"],[0.4444444444444444,\"#bd3786\"],[0.5555555555555556,\"#d8576b\"],[0.6666666666666666,\"#ed7953\"],[0.7777777777777778,\"#fb9f3a\"],[0.8888888888888888,\"#fdca26\"],[1.0,\"#f0f921\"]],\"sequentialminus\":[[0.0,\"#0d0887\"],[0.1111111111111111,\"#46039f\"],[0.2222222222222222,\"#7201a8\"],[0.3333333333333333,\"#9c179e\"],[0.4444444444444444,\"#bd3786\"],[0.5555555555555556,\"#d8576b\"],[0.6666666666666666,\"#ed7953\"],[0.7777777777777778,\"#fb9f3a\"],[0.8888888888888888,\"#fdca26\"],[1.0,\"#f0f921\"]],\"diverging\":[[0,\"#8e0152\"],[0.1,\"#c51b7d\"],[0.2,\"#de77ae\"],[0.3,\"#f1b6da\"],[0.4,\"#fde0ef\"],[0.5,\"#f7f7f7\"],[0.6,\"#e6f5d0\"],[0.7,\"#b8e186\"],[0.8,\"#7fbc41\"],[0.9,\"#4d9221\"],[1,\"#276419\"]]},\"xaxis\":{\"gridcolor\":\"white\",\"linecolor\":\"white\",\"ticks\":\"\",\"title\":{\"standoff\":15},\"zerolinecolor\":\"white\",\"automargin\":true,\"zerolinewidth\":2},\"yaxis\":{\"gridcolor\":\"white\",\"linecolor\":\"white\",\"ticks\":\"\",\"title\":{\"standoff\":15},\"zerolinecolor\":\"white\",\"automargin\":true,\"zerolinewidth\":2},\"scene\":{\"xaxis\":{\"backgroundcolor\":\"#E5ECF6\",\"gridcolor\":\"white\",\"linecolor\":\"white\",\"showbackground\":true,\"ticks\":\"\",\"zerolinecolor\":\"white\",\"gridwidth\":2},\"yaxis\":{\"backgroundcolor\":\"#E5ECF6\",\"gridcolor\":\"white\",\"linecolor\":\"white\",\"showbackground\":true,\"ticks\":\"\",\"zerolinecolor\":\"white\",\"gridwidth\":2},\"zaxis\":{\"backgroundcolor\":\"#E5ECF6\",\"gridcolor\":\"white\",\"linecolor\":\"white\",\"showbackground\":true,\"ticks\":\"\",\"zerolinecolor\":\"white\",\"gridwidth\":2}},\"shapedefaults\":{\"line\":{\"color\":\"#2a3f5f\"}},\"annotationdefaults\":{\"arrowcolor\":\"#2a3f5f\",\"arrowhead\":0,\"arrowwidth\":1},\"geo\":{\"bgcolor\":\"white\",\"landcolor\":\"#E5ECF6\",\"subunitcolor\":\"white\",\"showland\":true,\"showlakes\":true,\"lakecolor\":\"white\"},\"title\":{\"x\":0.05},\"mapbox\":{\"style\":\"light\"}}},\"font\":{\"size\":15},\"paper_bgcolor\":\"white\",\"plot_bgcolor\":\"white\",\"width\":680,\"height\":400,\"title\":{\"text\":\"\\u003cb\\u003e3-bus example\\u003cb\\u003e\",\"y\":0.97,\"x\":0.5,\"xanchor\":\"center\",\"yanchor\":\"top\"}},                        {\"responsive\": true}                    ).then(function(){\n",
       "                            \n",
       "var gd = document.getElementById('5148b32d-c5fc-4eda-9589-45cf346937fe');\n",
       "var x = new MutationObserver(function (mutations, observer) {{\n",
       "        var display = window.getComputedStyle(gd).display;\n",
       "        if (!display || display === 'none') {{\n",
       "            console.log([gd, 'removed!']);\n",
       "            Plotly.purge(gd);\n",
       "            observer.disconnect();\n",
       "        }}\n",
       "}});\n",
       "\n",
       "// Listen for the removal of the full notebook cells\n",
       "var notebookContainer = gd.closest('#notebook-container');\n",
       "if (notebookContainer) {{\n",
       "    x.observe(notebookContainer, {childList: true});\n",
       "}}\n",
       "\n",
       "// Listen for the clearing of the current output cell\n",
       "var outputEl = gd.closest('.output');\n",
       "if (outputEl) {{\n",
       "    x.observe(outputEl, {childList: true});\n",
       "}}\n",
       "\n",
       "                        })                };                });            </script>        </div>"
      ]
     },
     "metadata": {},
     "output_type": "display_data"
    }
   ],
   "source": [
    "pp_plot.plot_power_network(net=net, plot_title=\"3-bus example\", filename=\"3_bus_example\")"
   ]
  },
  {
   "cell_type": "markdown",
   "id": "b8cec215",
   "metadata": {},
   "source": [
    "We can run a simple power flow and visualise result using the following functions:"
   ]
  },
  {
   "cell_type": "code",
   "execution_count": 58,
   "id": "87b4a293",
   "metadata": {},
   "outputs": [
    {
     "data": {
      "application/vnd.plotly.v1+json": {
       "config": {
        "plotlyServerURL": "https://plot.ly"
       },
       "data": [
        {
         "hoverinfo": "text",
         "legendgroup": "Transformers",
         "line": {
          "color": "rgb(0.0,120.5,255.0)",
          "width": 7
         },
         "mode": "lines",
         "name": "Transformers",
         "showlegend": true,
         "text": "Trafo<br>Loading: 24.6 %",
         "type": "scatter",
         "x": [
          0,
          0,
          0
         ],
         "y": [
          0,
          -0.5,
          -1
         ]
        },
        {
         "hoverinfo": "text",
         "legendgroup": "Transformers",
         "marker": {
          "color": "rgb(0.0,120.5,255.0)",
          "size": 1,
          "symbol": "circle"
         },
         "mode": "markers",
         "name": "edge_center",
         "showlegend": false,
         "text": [
          "Trafo<br>Loading: 24.6 %"
         ],
         "type": "scatter",
         "x": [
          0
         ],
         "y": [
          -0.5
         ]
        },
        {
         "hoverinfo": "text",
         "legendgroup": "lines",
         "line": {
          "color": "rgb(141.13636363636363,0.0,0.0)",
          "width": 3
         },
         "mode": "lines",
         "name": "lines",
         "showlegend": true,
         "text": "Line<br>Loading: 98.5 %",
         "type": "scatter",
         "x": [
          0,
          0,
          0
         ],
         "y": [
          -1,
          -1.5,
          -2
         ]
        },
        {
         "marker": {
          "cmax": 100,
          "cmin": 0,
          "color": "rgb(255,255,255)",
          "colorbar": {
           "thickness": 10,
           "title": {
            "side": "right",
            "text": "Equipment loading [%]"
           },
           "x": 1.15
          },
          "colorscale": [
           [
            0,
            "rgb(0,0,131)"
           ],
           [
            0.2,
            "rgb(0,60,170)"
           ],
           [
            0.4,
            "rgb(5,255,255)"
           ],
           [
            0.6,
            "rgb(255,255,0)"
           ],
           [
            0.8,
            "rgb(250,0,0)"
           ],
           [
            1,
            "rgb(128,0,0)"
           ]
          ],
          "opacity": 0,
          "size": 0
         },
         "mode": "markers",
         "type": "scatter",
         "x": [
          0
         ],
         "y": [
          -1
         ]
        },
        {
         "hoverinfo": "text",
         "legendgroup": "lines",
         "marker": {
          "color": "rgb(128, 128, 128)",
          "size": 1,
          "symbol": "circle"
         },
         "mode": "markers",
         "name": "edge_center",
         "showlegend": false,
         "text": [
          "Line<br>Loading: 98.5 %"
         ],
         "type": "scatter",
         "x": [
          0
         ],
         "y": [
          -1.5
         ]
        },
        {
         "hoverinfo": "text",
         "marker": {
          "color": "rgb(191, 191, 0)",
          "size": 30,
          "symbol": "square"
         },
         "mode": "markers",
         "name": "Ext grid",
         "text": [
          "ext_grid"
         ],
         "type": "scatter",
         "x": [
          0
         ],
         "y": [
          0
         ]
        },
        {
         "hoverinfo": "text",
         "marker": {
          "cmax": 1.15,
          "cmin": 0.85,
          "color": [
           1.2,
           1.1906352788356607,
           1.153532496895785
          ],
          "colorbar": {
           "thickness": 10,
           "title": {
            "side": "right",
            "text": "Bus voltage [pu]"
           },
           "x": 1
          },
          "colorscale": [
           [
            0,
            "rgb(0,0,131)"
           ],
           [
            0.2,
            "rgb(0,60,170)"
           ],
           [
            0.4,
            "rgb(5,255,255)"
           ],
           [
            0.6,
            "rgb(255,255,0)"
           ],
           [
            0.8,
            "rgb(250,0,0)"
           ],
           [
            1,
            "rgb(128,0,0)"
           ]
          ],
          "size": 20,
          "symbol": "circle"
         },
         "mode": "markers",
         "name": "buses",
         "text": [
          "Bus 1<br>V: 1.2 pu",
          "Bus 2<br>V: 1.191 pu",
          "Bus 3<br>V: 1.154 pu"
         ],
         "type": "scatter",
         "x": [
          0,
          0,
          0
         ],
         "y": [
          0,
          -1,
          -2
         ]
        }
       ],
       "layout": {
        "font": {
         "size": 15
        },
        "height": 400,
        "hovermode": "closest",
        "legend": {
         "font": {
          "size": 12
         },
         "itemsizing": "constant"
        },
        "margin": {
         "b": 5,
         "l": 5,
         "r": 5,
         "t": 30
        },
        "paper_bgcolor": "white",
        "plot_bgcolor": "white",
        "showlegend": false,
        "template": {
         "data": {
          "bar": [
           {
            "error_x": {
             "color": "#2a3f5f"
            },
            "error_y": {
             "color": "#2a3f5f"
            },
            "marker": {
             "line": {
              "color": "#E5ECF6",
              "width": 0.5
             },
             "pattern": {
              "fillmode": "overlay",
              "size": 10,
              "solidity": 0.2
             }
            },
            "type": "bar"
           }
          ],
          "barpolar": [
           {
            "marker": {
             "line": {
              "color": "#E5ECF6",
              "width": 0.5
             },
             "pattern": {
              "fillmode": "overlay",
              "size": 10,
              "solidity": 0.2
             }
            },
            "type": "barpolar"
           }
          ],
          "carpet": [
           {
            "aaxis": {
             "endlinecolor": "#2a3f5f",
             "gridcolor": "white",
             "linecolor": "white",
             "minorgridcolor": "white",
             "startlinecolor": "#2a3f5f"
            },
            "baxis": {
             "endlinecolor": "#2a3f5f",
             "gridcolor": "white",
             "linecolor": "white",
             "minorgridcolor": "white",
             "startlinecolor": "#2a3f5f"
            },
            "type": "carpet"
           }
          ],
          "choropleth": [
           {
            "colorbar": {
             "outlinewidth": 0,
             "ticks": ""
            },
            "type": "choropleth"
           }
          ],
          "contour": [
           {
            "colorbar": {
             "outlinewidth": 0,
             "ticks": ""
            },
            "colorscale": [
             [
              0,
              "#0d0887"
             ],
             [
              0.1111111111111111,
              "#46039f"
             ],
             [
              0.2222222222222222,
              "#7201a8"
             ],
             [
              0.3333333333333333,
              "#9c179e"
             ],
             [
              0.4444444444444444,
              "#bd3786"
             ],
             [
              0.5555555555555556,
              "#d8576b"
             ],
             [
              0.6666666666666666,
              "#ed7953"
             ],
             [
              0.7777777777777778,
              "#fb9f3a"
             ],
             [
              0.8888888888888888,
              "#fdca26"
             ],
             [
              1,
              "#f0f921"
             ]
            ],
            "type": "contour"
           }
          ],
          "contourcarpet": [
           {
            "colorbar": {
             "outlinewidth": 0,
             "ticks": ""
            },
            "type": "contourcarpet"
           }
          ],
          "heatmap": [
           {
            "colorbar": {
             "outlinewidth": 0,
             "ticks": ""
            },
            "colorscale": [
             [
              0,
              "#0d0887"
             ],
             [
              0.1111111111111111,
              "#46039f"
             ],
             [
              0.2222222222222222,
              "#7201a8"
             ],
             [
              0.3333333333333333,
              "#9c179e"
             ],
             [
              0.4444444444444444,
              "#bd3786"
             ],
             [
              0.5555555555555556,
              "#d8576b"
             ],
             [
              0.6666666666666666,
              "#ed7953"
             ],
             [
              0.7777777777777778,
              "#fb9f3a"
             ],
             [
              0.8888888888888888,
              "#fdca26"
             ],
             [
              1,
              "#f0f921"
             ]
            ],
            "type": "heatmap"
           }
          ],
          "heatmapgl": [
           {
            "colorbar": {
             "outlinewidth": 0,
             "ticks": ""
            },
            "colorscale": [
             [
              0,
              "#0d0887"
             ],
             [
              0.1111111111111111,
              "#46039f"
             ],
             [
              0.2222222222222222,
              "#7201a8"
             ],
             [
              0.3333333333333333,
              "#9c179e"
             ],
             [
              0.4444444444444444,
              "#bd3786"
             ],
             [
              0.5555555555555556,
              "#d8576b"
             ],
             [
              0.6666666666666666,
              "#ed7953"
             ],
             [
              0.7777777777777778,
              "#fb9f3a"
             ],
             [
              0.8888888888888888,
              "#fdca26"
             ],
             [
              1,
              "#f0f921"
             ]
            ],
            "type": "heatmapgl"
           }
          ],
          "histogram": [
           {
            "marker": {
             "pattern": {
              "fillmode": "overlay",
              "size": 10,
              "solidity": 0.2
             }
            },
            "type": "histogram"
           }
          ],
          "histogram2d": [
           {
            "colorbar": {
             "outlinewidth": 0,
             "ticks": ""
            },
            "colorscale": [
             [
              0,
              "#0d0887"
             ],
             [
              0.1111111111111111,
              "#46039f"
             ],
             [
              0.2222222222222222,
              "#7201a8"
             ],
             [
              0.3333333333333333,
              "#9c179e"
             ],
             [
              0.4444444444444444,
              "#bd3786"
             ],
             [
              0.5555555555555556,
              "#d8576b"
             ],
             [
              0.6666666666666666,
              "#ed7953"
             ],
             [
              0.7777777777777778,
              "#fb9f3a"
             ],
             [
              0.8888888888888888,
              "#fdca26"
             ],
             [
              1,
              "#f0f921"
             ]
            ],
            "type": "histogram2d"
           }
          ],
          "histogram2dcontour": [
           {
            "colorbar": {
             "outlinewidth": 0,
             "ticks": ""
            },
            "colorscale": [
             [
              0,
              "#0d0887"
             ],
             [
              0.1111111111111111,
              "#46039f"
             ],
             [
              0.2222222222222222,
              "#7201a8"
             ],
             [
              0.3333333333333333,
              "#9c179e"
             ],
             [
              0.4444444444444444,
              "#bd3786"
             ],
             [
              0.5555555555555556,
              "#d8576b"
             ],
             [
              0.6666666666666666,
              "#ed7953"
             ],
             [
              0.7777777777777778,
              "#fb9f3a"
             ],
             [
              0.8888888888888888,
              "#fdca26"
             ],
             [
              1,
              "#f0f921"
             ]
            ],
            "type": "histogram2dcontour"
           }
          ],
          "mesh3d": [
           {
            "colorbar": {
             "outlinewidth": 0,
             "ticks": ""
            },
            "type": "mesh3d"
           }
          ],
          "parcoords": [
           {
            "line": {
             "colorbar": {
              "outlinewidth": 0,
              "ticks": ""
             }
            },
            "type": "parcoords"
           }
          ],
          "pie": [
           {
            "automargin": true,
            "type": "pie"
           }
          ],
          "scatter": [
           {
            "fillpattern": {
             "fillmode": "overlay",
             "size": 10,
             "solidity": 0.2
            },
            "type": "scatter"
           }
          ],
          "scatter3d": [
           {
            "line": {
             "colorbar": {
              "outlinewidth": 0,
              "ticks": ""
             }
            },
            "marker": {
             "colorbar": {
              "outlinewidth": 0,
              "ticks": ""
             }
            },
            "type": "scatter3d"
           }
          ],
          "scattercarpet": [
           {
            "marker": {
             "colorbar": {
              "outlinewidth": 0,
              "ticks": ""
             }
            },
            "type": "scattercarpet"
           }
          ],
          "scattergeo": [
           {
            "marker": {
             "colorbar": {
              "outlinewidth": 0,
              "ticks": ""
             }
            },
            "type": "scattergeo"
           }
          ],
          "scattergl": [
           {
            "marker": {
             "colorbar": {
              "outlinewidth": 0,
              "ticks": ""
             }
            },
            "type": "scattergl"
           }
          ],
          "scattermapbox": [
           {
            "marker": {
             "colorbar": {
              "outlinewidth": 0,
              "ticks": ""
             }
            },
            "type": "scattermapbox"
           }
          ],
          "scatterpolar": [
           {
            "marker": {
             "colorbar": {
              "outlinewidth": 0,
              "ticks": ""
             }
            },
            "type": "scatterpolar"
           }
          ],
          "scatterpolargl": [
           {
            "marker": {
             "colorbar": {
              "outlinewidth": 0,
              "ticks": ""
             }
            },
            "type": "scatterpolargl"
           }
          ],
          "scatterternary": [
           {
            "marker": {
             "colorbar": {
              "outlinewidth": 0,
              "ticks": ""
             }
            },
            "type": "scatterternary"
           }
          ],
          "surface": [
           {
            "colorbar": {
             "outlinewidth": 0,
             "ticks": ""
            },
            "colorscale": [
             [
              0,
              "#0d0887"
             ],
             [
              0.1111111111111111,
              "#46039f"
             ],
             [
              0.2222222222222222,
              "#7201a8"
             ],
             [
              0.3333333333333333,
              "#9c179e"
             ],
             [
              0.4444444444444444,
              "#bd3786"
             ],
             [
              0.5555555555555556,
              "#d8576b"
             ],
             [
              0.6666666666666666,
              "#ed7953"
             ],
             [
              0.7777777777777778,
              "#fb9f3a"
             ],
             [
              0.8888888888888888,
              "#fdca26"
             ],
             [
              1,
              "#f0f921"
             ]
            ],
            "type": "surface"
           }
          ],
          "table": [
           {
            "cells": {
             "fill": {
              "color": "#EBF0F8"
             },
             "line": {
              "color": "white"
             }
            },
            "header": {
             "fill": {
              "color": "#C8D4E3"
             },
             "line": {
              "color": "white"
             }
            },
            "type": "table"
           }
          ]
         },
         "layout": {
          "annotationdefaults": {
           "arrowcolor": "#2a3f5f",
           "arrowhead": 0,
           "arrowwidth": 1
          },
          "autotypenumbers": "strict",
          "coloraxis": {
           "colorbar": {
            "outlinewidth": 0,
            "ticks": ""
           }
          },
          "colorscale": {
           "diverging": [
            [
             0,
             "#8e0152"
            ],
            [
             0.1,
             "#c51b7d"
            ],
            [
             0.2,
             "#de77ae"
            ],
            [
             0.3,
             "#f1b6da"
            ],
            [
             0.4,
             "#fde0ef"
            ],
            [
             0.5,
             "#f7f7f7"
            ],
            [
             0.6,
             "#e6f5d0"
            ],
            [
             0.7,
             "#b8e186"
            ],
            [
             0.8,
             "#7fbc41"
            ],
            [
             0.9,
             "#4d9221"
            ],
            [
             1,
             "#276419"
            ]
           ],
           "sequential": [
            [
             0,
             "#0d0887"
            ],
            [
             0.1111111111111111,
             "#46039f"
            ],
            [
             0.2222222222222222,
             "#7201a8"
            ],
            [
             0.3333333333333333,
             "#9c179e"
            ],
            [
             0.4444444444444444,
             "#bd3786"
            ],
            [
             0.5555555555555556,
             "#d8576b"
            ],
            [
             0.6666666666666666,
             "#ed7953"
            ],
            [
             0.7777777777777778,
             "#fb9f3a"
            ],
            [
             0.8888888888888888,
             "#fdca26"
            ],
            [
             1,
             "#f0f921"
            ]
           ],
           "sequentialminus": [
            [
             0,
             "#0d0887"
            ],
            [
             0.1111111111111111,
             "#46039f"
            ],
            [
             0.2222222222222222,
             "#7201a8"
            ],
            [
             0.3333333333333333,
             "#9c179e"
            ],
            [
             0.4444444444444444,
             "#bd3786"
            ],
            [
             0.5555555555555556,
             "#d8576b"
            ],
            [
             0.6666666666666666,
             "#ed7953"
            ],
            [
             0.7777777777777778,
             "#fb9f3a"
            ],
            [
             0.8888888888888888,
             "#fdca26"
            ],
            [
             1,
             "#f0f921"
            ]
           ]
          },
          "colorway": [
           "#636efa",
           "#EF553B",
           "#00cc96",
           "#ab63fa",
           "#FFA15A",
           "#19d3f3",
           "#FF6692",
           "#B6E880",
           "#FF97FF",
           "#FECB52"
          ],
          "font": {
           "color": "#2a3f5f"
          },
          "geo": {
           "bgcolor": "white",
           "lakecolor": "white",
           "landcolor": "#E5ECF6",
           "showlakes": true,
           "showland": true,
           "subunitcolor": "white"
          },
          "hoverlabel": {
           "align": "left"
          },
          "hovermode": "closest",
          "mapbox": {
           "style": "light"
          },
          "paper_bgcolor": "white",
          "plot_bgcolor": "#E5ECF6",
          "polar": {
           "angularaxis": {
            "gridcolor": "white",
            "linecolor": "white",
            "ticks": ""
           },
           "bgcolor": "#E5ECF6",
           "radialaxis": {
            "gridcolor": "white",
            "linecolor": "white",
            "ticks": ""
           }
          },
          "scene": {
           "xaxis": {
            "backgroundcolor": "#E5ECF6",
            "gridcolor": "white",
            "gridwidth": 2,
            "linecolor": "white",
            "showbackground": true,
            "ticks": "",
            "zerolinecolor": "white"
           },
           "yaxis": {
            "backgroundcolor": "#E5ECF6",
            "gridcolor": "white",
            "gridwidth": 2,
            "linecolor": "white",
            "showbackground": true,
            "ticks": "",
            "zerolinecolor": "white"
           },
           "zaxis": {
            "backgroundcolor": "#E5ECF6",
            "gridcolor": "white",
            "gridwidth": 2,
            "linecolor": "white",
            "showbackground": true,
            "ticks": "",
            "zerolinecolor": "white"
           }
          },
          "shapedefaults": {
           "line": {
            "color": "#2a3f5f"
           }
          },
          "ternary": {
           "aaxis": {
            "gridcolor": "white",
            "linecolor": "white",
            "ticks": ""
           },
           "baxis": {
            "gridcolor": "white",
            "linecolor": "white",
            "ticks": ""
           },
           "bgcolor": "#E5ECF6",
           "caxis": {
            "gridcolor": "white",
            "linecolor": "white",
            "ticks": ""
           }
          },
          "title": {
           "x": 0.05
          },
          "xaxis": {
           "automargin": true,
           "gridcolor": "white",
           "linecolor": "white",
           "ticks": "",
           "title": {
            "standoff": 15
           },
           "zerolinecolor": "white",
           "zerolinewidth": 2
          },
          "yaxis": {
           "automargin": true,
           "gridcolor": "white",
           "linecolor": "white",
           "ticks": "",
           "title": {
            "standoff": 15
           },
           "zerolinecolor": "white",
           "zerolinewidth": 2
          }
         }
        },
        "title": {
         "text": "<b>3-bus powerflow results<b>",
         "x": 0.5,
         "xanchor": "center",
         "y": 0.97,
         "yanchor": "top"
        },
        "width": 770,
        "xaxis": {
         "showgrid": false,
         "showticklabels": false,
         "tickfont": {
          "family": "Arial Black",
          "size": 12
         },
         "title": {
          "font": {
           "size": 12
          }
         },
         "zeroline": false
        },
        "yaxis": {
         "showgrid": false,
         "showticklabels": false,
         "tickfont": {
          "family": "Arial Black",
          "size": 12
         },
         "title": {
          "font": {
           "size": 12
          }
         },
         "zeroline": false
        }
       }
      },
      "text/html": [
       "<div>                            <div id=\"136a66c7-4161-4a79-8731-0bd831dc3b9f\" class=\"plotly-graph-div\" style=\"height:400px; width:770px;\"></div>            <script type=\"text/javascript\">                require([\"plotly\"], function(Plotly) {                    window.PLOTLYENV=window.PLOTLYENV || {};                                    if (document.getElementById(\"136a66c7-4161-4a79-8731-0bd831dc3b9f\")) {                    Plotly.newPlot(                        \"136a66c7-4161-4a79-8731-0bd831dc3b9f\",                        [{\"hoverinfo\":\"text\",\"legendgroup\":\"Transformers\",\"line\":{\"color\":\"rgb(0.0,120.5,255.0)\",\"width\":7},\"mode\":\"lines\",\"name\":\"Transformers\",\"showlegend\":true,\"text\":\"Trafo\\u003cbr\\u003eLoading: 24.6 %\",\"x\":[0.0,0.0,0.0],\"y\":[-0.0,-0.5,-1.0],\"type\":\"scatter\"},{\"hoverinfo\":\"text\",\"legendgroup\":\"Transformers\",\"marker\":{\"color\":\"rgb(0.0,120.5,255.0)\",\"size\":1,\"symbol\":\"circle\"},\"mode\":\"markers\",\"name\":\"edge_center\",\"showlegend\":false,\"text\":[\"Trafo\\u003cbr\\u003eLoading: 24.6 %\"],\"x\":[0.0],\"y\":[-0.5],\"type\":\"scatter\"},{\"hoverinfo\":\"text\",\"legendgroup\":\"lines\",\"line\":{\"color\":\"rgb(141.13636363636363,0.0,0.0)\",\"width\":3},\"mode\":\"lines\",\"name\":\"lines\",\"showlegend\":true,\"text\":\"Line\\u003cbr\\u003eLoading: 98.5 %\",\"x\":[0.0,0.0,0.0],\"y\":[-1.0,-1.5,-2.0],\"type\":\"scatter\"},{\"marker\":{\"cmax\":100,\"cmin\":0,\"color\":\"rgb(255,255,255)\",\"colorbar\":{\"thickness\":10,\"title\":{\"side\":\"right\",\"text\":\"Equipment loading [%]\"},\"x\":1.15},\"colorscale\":[[0.0,\"rgb(0,0,131)\"],[0.2,\"rgb(0,60,170)\"],[0.4,\"rgb(5,255,255)\"],[0.6,\"rgb(255,255,0)\"],[0.8,\"rgb(250,0,0)\"],[1.0,\"rgb(128,0,0)\"]],\"opacity\":0,\"size\":0},\"mode\":\"markers\",\"x\":[0.0],\"y\":[-1.0],\"type\":\"scatter\"},{\"hoverinfo\":\"text\",\"legendgroup\":\"lines\",\"marker\":{\"color\":\"rgb(128, 128, 128)\",\"size\":1,\"symbol\":\"circle\"},\"mode\":\"markers\",\"name\":\"edge_center\",\"showlegend\":false,\"text\":[\"Line\\u003cbr\\u003eLoading: 98.5 %\"],\"x\":[0.0],\"y\":[-1.5],\"type\":\"scatter\"},{\"hoverinfo\":\"text\",\"marker\":{\"color\":\"rgb(191, 191, 0)\",\"size\":30,\"symbol\":\"square\"},\"mode\":\"markers\",\"name\":\"Ext grid\",\"text\":[\"ext_grid\"],\"x\":[0.0],\"y\":[-0.0],\"type\":\"scatter\"},{\"hoverinfo\":\"text\",\"marker\":{\"cmax\":1.15,\"cmin\":0.85,\"color\":[1.2,1.1906352788356607,1.153532496895785],\"colorbar\":{\"thickness\":10,\"title\":{\"side\":\"right\",\"text\":\"Bus voltage [pu]\"},\"x\":1.0},\"colorscale\":[[0.0,\"rgb(0,0,131)\"],[0.2,\"rgb(0,60,170)\"],[0.4,\"rgb(5,255,255)\"],[0.6,\"rgb(255,255,0)\"],[0.8,\"rgb(250,0,0)\"],[1.0,\"rgb(128,0,0)\"]],\"size\":20,\"symbol\":\"circle\"},\"mode\":\"markers\",\"name\":\"buses\",\"text\":[\"Bus 1\\u003cbr\\u003eV: 1.2 pu\",\"Bus 2\\u003cbr\\u003eV: 1.191 pu\",\"Bus 3\\u003cbr\\u003eV: 1.154 pu\"],\"x\":[0.0,0.0,0.0],\"y\":[-0.0,-1.0,-2.0],\"type\":\"scatter\"}],                        {\"hovermode\":\"closest\",\"legend\":{\"itemsizing\":\"constant\",\"font\":{\"size\":12}},\"margin\":{\"b\":5,\"l\":5,\"r\":5,\"t\":30},\"showlegend\":false,\"xaxis\":{\"showgrid\":false,\"showticklabels\":false,\"zeroline\":false,\"tickfont\":{\"size\":12,\"family\":\"Arial Black\"},\"title\":{\"font\":{\"size\":12}}},\"yaxis\":{\"showgrid\":false,\"showticklabels\":false,\"zeroline\":false,\"tickfont\":{\"size\":12,\"family\":\"Arial Black\"},\"title\":{\"font\":{\"size\":12}}},\"template\":{\"data\":{\"histogram2dcontour\":[{\"type\":\"histogram2dcontour\",\"colorbar\":{\"outlinewidth\":0,\"ticks\":\"\"},\"colorscale\":[[0.0,\"#0d0887\"],[0.1111111111111111,\"#46039f\"],[0.2222222222222222,\"#7201a8\"],[0.3333333333333333,\"#9c179e\"],[0.4444444444444444,\"#bd3786\"],[0.5555555555555556,\"#d8576b\"],[0.6666666666666666,\"#ed7953\"],[0.7777777777777778,\"#fb9f3a\"],[0.8888888888888888,\"#fdca26\"],[1.0,\"#f0f921\"]]}],\"choropleth\":[{\"type\":\"choropleth\",\"colorbar\":{\"outlinewidth\":0,\"ticks\":\"\"}}],\"histogram2d\":[{\"type\":\"histogram2d\",\"colorbar\":{\"outlinewidth\":0,\"ticks\":\"\"},\"colorscale\":[[0.0,\"#0d0887\"],[0.1111111111111111,\"#46039f\"],[0.2222222222222222,\"#7201a8\"],[0.3333333333333333,\"#9c179e\"],[0.4444444444444444,\"#bd3786\"],[0.5555555555555556,\"#d8576b\"],[0.6666666666666666,\"#ed7953\"],[0.7777777777777778,\"#fb9f3a\"],[0.8888888888888888,\"#fdca26\"],[1.0,\"#f0f921\"]]}],\"heatmap\":[{\"type\":\"heatmap\",\"colorbar\":{\"outlinewidth\":0,\"ticks\":\"\"},\"colorscale\":[[0.0,\"#0d0887\"],[0.1111111111111111,\"#46039f\"],[0.2222222222222222,\"#7201a8\"],[0.3333333333333333,\"#9c179e\"],[0.4444444444444444,\"#bd3786\"],[0.5555555555555556,\"#d8576b\"],[0.6666666666666666,\"#ed7953\"],[0.7777777777777778,\"#fb9f3a\"],[0.8888888888888888,\"#fdca26\"],[1.0,\"#f0f921\"]]}],\"heatmapgl\":[{\"type\":\"heatmapgl\",\"colorbar\":{\"outlinewidth\":0,\"ticks\":\"\"},\"colorscale\":[[0.0,\"#0d0887\"],[0.1111111111111111,\"#46039f\"],[0.2222222222222222,\"#7201a8\"],[0.3333333333333333,\"#9c179e\"],[0.4444444444444444,\"#bd3786\"],[0.5555555555555556,\"#d8576b\"],[0.6666666666666666,\"#ed7953\"],[0.7777777777777778,\"#fb9f3a\"],[0.8888888888888888,\"#fdca26\"],[1.0,\"#f0f921\"]]}],\"contourcarpet\":[{\"type\":\"contourcarpet\",\"colorbar\":{\"outlinewidth\":0,\"ticks\":\"\"}}],\"contour\":[{\"type\":\"contour\",\"colorbar\":{\"outlinewidth\":0,\"ticks\":\"\"},\"colorscale\":[[0.0,\"#0d0887\"],[0.1111111111111111,\"#46039f\"],[0.2222222222222222,\"#7201a8\"],[0.3333333333333333,\"#9c179e\"],[0.4444444444444444,\"#bd3786\"],[0.5555555555555556,\"#d8576b\"],[0.6666666666666666,\"#ed7953\"],[0.7777777777777778,\"#fb9f3a\"],[0.8888888888888888,\"#fdca26\"],[1.0,\"#f0f921\"]]}],\"surface\":[{\"type\":\"surface\",\"colorbar\":{\"outlinewidth\":0,\"ticks\":\"\"},\"colorscale\":[[0.0,\"#0d0887\"],[0.1111111111111111,\"#46039f\"],[0.2222222222222222,\"#7201a8\"],[0.3333333333333333,\"#9c179e\"],[0.4444444444444444,\"#bd3786\"],[0.5555555555555556,\"#d8576b\"],[0.6666666666666666,\"#ed7953\"],[0.7777777777777778,\"#fb9f3a\"],[0.8888888888888888,\"#fdca26\"],[1.0,\"#f0f921\"]]}],\"mesh3d\":[{\"type\":\"mesh3d\",\"colorbar\":{\"outlinewidth\":0,\"ticks\":\"\"}}],\"scatter\":[{\"fillpattern\":{\"fillmode\":\"overlay\",\"size\":10,\"solidity\":0.2},\"type\":\"scatter\"}],\"parcoords\":[{\"type\":\"parcoords\",\"line\":{\"colorbar\":{\"outlinewidth\":0,\"ticks\":\"\"}}}],\"scatterpolargl\":[{\"type\":\"scatterpolargl\",\"marker\":{\"colorbar\":{\"outlinewidth\":0,\"ticks\":\"\"}}}],\"bar\":[{\"error_x\":{\"color\":\"#2a3f5f\"},\"error_y\":{\"color\":\"#2a3f5f\"},\"marker\":{\"line\":{\"color\":\"#E5ECF6\",\"width\":0.5},\"pattern\":{\"fillmode\":\"overlay\",\"size\":10,\"solidity\":0.2}},\"type\":\"bar\"}],\"scattergeo\":[{\"type\":\"scattergeo\",\"marker\":{\"colorbar\":{\"outlinewidth\":0,\"ticks\":\"\"}}}],\"scatterpolar\":[{\"type\":\"scatterpolar\",\"marker\":{\"colorbar\":{\"outlinewidth\":0,\"ticks\":\"\"}}}],\"histogram\":[{\"marker\":{\"pattern\":{\"fillmode\":\"overlay\",\"size\":10,\"solidity\":0.2}},\"type\":\"histogram\"}],\"scattergl\":[{\"type\":\"scattergl\",\"marker\":{\"colorbar\":{\"outlinewidth\":0,\"ticks\":\"\"}}}],\"scatter3d\":[{\"type\":\"scatter3d\",\"line\":{\"colorbar\":{\"outlinewidth\":0,\"ticks\":\"\"}},\"marker\":{\"colorbar\":{\"outlinewidth\":0,\"ticks\":\"\"}}}],\"scattermapbox\":[{\"type\":\"scattermapbox\",\"marker\":{\"colorbar\":{\"outlinewidth\":0,\"ticks\":\"\"}}}],\"scatterternary\":[{\"type\":\"scatterternary\",\"marker\":{\"colorbar\":{\"outlinewidth\":0,\"ticks\":\"\"}}}],\"scattercarpet\":[{\"type\":\"scattercarpet\",\"marker\":{\"colorbar\":{\"outlinewidth\":0,\"ticks\":\"\"}}}],\"carpet\":[{\"aaxis\":{\"endlinecolor\":\"#2a3f5f\",\"gridcolor\":\"white\",\"linecolor\":\"white\",\"minorgridcolor\":\"white\",\"startlinecolor\":\"#2a3f5f\"},\"baxis\":{\"endlinecolor\":\"#2a3f5f\",\"gridcolor\":\"white\",\"linecolor\":\"white\",\"minorgridcolor\":\"white\",\"startlinecolor\":\"#2a3f5f\"},\"type\":\"carpet\"}],\"table\":[{\"cells\":{\"fill\":{\"color\":\"#EBF0F8\"},\"line\":{\"color\":\"white\"}},\"header\":{\"fill\":{\"color\":\"#C8D4E3\"},\"line\":{\"color\":\"white\"}},\"type\":\"table\"}],\"barpolar\":[{\"marker\":{\"line\":{\"color\":\"#E5ECF6\",\"width\":0.5},\"pattern\":{\"fillmode\":\"overlay\",\"size\":10,\"solidity\":0.2}},\"type\":\"barpolar\"}],\"pie\":[{\"automargin\":true,\"type\":\"pie\"}]},\"layout\":{\"autotypenumbers\":\"strict\",\"colorway\":[\"#636efa\",\"#EF553B\",\"#00cc96\",\"#ab63fa\",\"#FFA15A\",\"#19d3f3\",\"#FF6692\",\"#B6E880\",\"#FF97FF\",\"#FECB52\"],\"font\":{\"color\":\"#2a3f5f\"},\"hovermode\":\"closest\",\"hoverlabel\":{\"align\":\"left\"},\"paper_bgcolor\":\"white\",\"plot_bgcolor\":\"#E5ECF6\",\"polar\":{\"bgcolor\":\"#E5ECF6\",\"angularaxis\":{\"gridcolor\":\"white\",\"linecolor\":\"white\",\"ticks\":\"\"},\"radialaxis\":{\"gridcolor\":\"white\",\"linecolor\":\"white\",\"ticks\":\"\"}},\"ternary\":{\"bgcolor\":\"#E5ECF6\",\"aaxis\":{\"gridcolor\":\"white\",\"linecolor\":\"white\",\"ticks\":\"\"},\"baxis\":{\"gridcolor\":\"white\",\"linecolor\":\"white\",\"ticks\":\"\"},\"caxis\":{\"gridcolor\":\"white\",\"linecolor\":\"white\",\"ticks\":\"\"}},\"coloraxis\":{\"colorbar\":{\"outlinewidth\":0,\"ticks\":\"\"}},\"colorscale\":{\"sequential\":[[0.0,\"#0d0887\"],[0.1111111111111111,\"#46039f\"],[0.2222222222222222,\"#7201a8\"],[0.3333333333333333,\"#9c179e\"],[0.4444444444444444,\"#bd3786\"],[0.5555555555555556,\"#d8576b\"],[0.6666666666666666,\"#ed7953\"],[0.7777777777777778,\"#fb9f3a\"],[0.8888888888888888,\"#fdca26\"],[1.0,\"#f0f921\"]],\"sequentialminus\":[[0.0,\"#0d0887\"],[0.1111111111111111,\"#46039f\"],[0.2222222222222222,\"#7201a8\"],[0.3333333333333333,\"#9c179e\"],[0.4444444444444444,\"#bd3786\"],[0.5555555555555556,\"#d8576b\"],[0.6666666666666666,\"#ed7953\"],[0.7777777777777778,\"#fb9f3a\"],[0.8888888888888888,\"#fdca26\"],[1.0,\"#f0f921\"]],\"diverging\":[[0,\"#8e0152\"],[0.1,\"#c51b7d\"],[0.2,\"#de77ae\"],[0.3,\"#f1b6da\"],[0.4,\"#fde0ef\"],[0.5,\"#f7f7f7\"],[0.6,\"#e6f5d0\"],[0.7,\"#b8e186\"],[0.8,\"#7fbc41\"],[0.9,\"#4d9221\"],[1,\"#276419\"]]},\"xaxis\":{\"gridcolor\":\"white\",\"linecolor\":\"white\",\"ticks\":\"\",\"title\":{\"standoff\":15},\"zerolinecolor\":\"white\",\"automargin\":true,\"zerolinewidth\":2},\"yaxis\":{\"gridcolor\":\"white\",\"linecolor\":\"white\",\"ticks\":\"\",\"title\":{\"standoff\":15},\"zerolinecolor\":\"white\",\"automargin\":true,\"zerolinewidth\":2},\"scene\":{\"xaxis\":{\"backgroundcolor\":\"#E5ECF6\",\"gridcolor\":\"white\",\"linecolor\":\"white\",\"showbackground\":true,\"ticks\":\"\",\"zerolinecolor\":\"white\",\"gridwidth\":2},\"yaxis\":{\"backgroundcolor\":\"#E5ECF6\",\"gridcolor\":\"white\",\"linecolor\":\"white\",\"showbackground\":true,\"ticks\":\"\",\"zerolinecolor\":\"white\",\"gridwidth\":2},\"zaxis\":{\"backgroundcolor\":\"#E5ECF6\",\"gridcolor\":\"white\",\"linecolor\":\"white\",\"showbackground\":true,\"ticks\":\"\",\"zerolinecolor\":\"white\",\"gridwidth\":2}},\"shapedefaults\":{\"line\":{\"color\":\"#2a3f5f\"}},\"annotationdefaults\":{\"arrowcolor\":\"#2a3f5f\",\"arrowhead\":0,\"arrowwidth\":1},\"geo\":{\"bgcolor\":\"white\",\"landcolor\":\"#E5ECF6\",\"subunitcolor\":\"white\",\"showland\":true,\"showlakes\":true,\"lakecolor\":\"white\"},\"title\":{\"x\":0.05},\"mapbox\":{\"style\":\"light\"}}},\"font\":{\"size\":15},\"paper_bgcolor\":\"white\",\"plot_bgcolor\":\"white\",\"width\":770,\"height\":400,\"title\":{\"text\":\"\\u003cb\\u003e3-bus powerflow results\\u003cb\\u003e\",\"y\":0.97,\"x\":0.5,\"xanchor\":\"center\",\"yanchor\":\"top\"}},                        {\"responsive\": true}                    ).then(function(){\n",
       "                            \n",
       "var gd = document.getElementById('136a66c7-4161-4a79-8731-0bd831dc3b9f');\n",
       "var x = new MutationObserver(function (mutations, observer) {{\n",
       "        var display = window.getComputedStyle(gd).display;\n",
       "        if (!display || display === 'none') {{\n",
       "            console.log([gd, 'removed!']);\n",
       "            Plotly.purge(gd);\n",
       "            observer.disconnect();\n",
       "        }}\n",
       "}});\n",
       "\n",
       "// Listen for the removal of the full notebook cells\n",
       "var notebookContainer = gd.closest('#notebook-container');\n",
       "if (notebookContainer) {{\n",
       "    x.observe(notebookContainer, {childList: true});\n",
       "}}\n",
       "\n",
       "// Listen for the clearing of the current output cell\n",
       "var outputEl = gd.closest('.output');\n",
       "if (outputEl) {{\n",
       "    x.observe(outputEl, {childList: true});\n",
       "}}\n",
       "\n",
       "                        })                };                });            </script>        </div>"
      ]
     },
     "metadata": {},
     "output_type": "display_data"
    },
    {
     "data": {
      "text/html": [
       "<div>\n",
       "<style scoped>\n",
       "    .dataframe tbody tr th:only-of-type {\n",
       "        vertical-align: middle;\n",
       "    }\n",
       "\n",
       "    .dataframe tbody tr th {\n",
       "        vertical-align: top;\n",
       "    }\n",
       "\n",
       "    .dataframe thead th {\n",
       "        text-align: right;\n",
       "    }\n",
       "</style>\n",
       "<table border=\"1\" class=\"dataframe\">\n",
       "  <thead>\n",
       "    <tr style=\"text-align: right;\">\n",
       "      <th></th>\n",
       "      <th>vm_pu</th>\n",
       "      <th>va_degree</th>\n",
       "      <th>p_mw</th>\n",
       "      <th>q_mvar</th>\n",
       "    </tr>\n",
       "  </thead>\n",
       "  <tbody>\n",
       "    <tr>\n",
       "      <th>0</th>\n",
       "      <td>1.200000</td>\n",
       "      <td>0.000000</td>\n",
       "      <td>-0.106038</td>\n",
       "      <td>-0.051875</td>\n",
       "    </tr>\n",
       "    <tr>\n",
       "      <th>1</th>\n",
       "      <td>1.190635</td>\n",
       "      <td>-0.539841</td>\n",
       "      <td>0.000000</td>\n",
       "      <td>0.000000</td>\n",
       "    </tr>\n",
       "    <tr>\n",
       "      <th>2</th>\n",
       "      <td>1.153532</td>\n",
       "      <td>0.080701</td>\n",
       "      <td>0.100000</td>\n",
       "      <td>0.050000</td>\n",
       "    </tr>\n",
       "  </tbody>\n",
       "</table>\n",
       "</div>"
      ],
      "text/plain": [
       "      vm_pu  va_degree      p_mw    q_mvar\n",
       "0  1.200000   0.000000 -0.106038 -0.051875\n",
       "1  1.190635  -0.539841  0.000000  0.000000\n",
       "2  1.153532   0.080701  0.100000  0.050000"
      ]
     },
     "execution_count": 58,
     "metadata": {},
     "output_type": "execute_result"
    }
   ],
   "source": [
    "pp.runpp(net)\n",
    "pp_plot.plot_powerflow_result(net=net, plot_title=\"3-bus powerflow results\", filename=\"3_bus_pp_result\")\n",
    "net.res_bus"
   ]
  },
  {
   "cell_type": "markdown",
   "id": "61ca990a",
   "metadata": {},
   "source": [
    "### Timeseries powerflow simulation"
   ]
  },
  {
   "cell_type": "markdown",
   "id": "89070238",
   "metadata": {},
   "source": [
    "\n",
    "We can create power profiles from excel files to perform timeseries powerflow simulations. After having been loaded, the resulting object is a dictionary of dataframe:\n",
    "\n",
    "- Keys is the equipment name where profile are related to.\n",
    "- Values can be active and reactive power profile table."
   ]
  },
  {
   "cell_type": "code",
   "execution_count": 59,
   "id": "0849b89d",
   "metadata": {},
   "outputs": [
    {
     "name": "stdout",
     "output_type": "stream",
     "text": [
      "dict_keys(['load'])\n",
      "dict_keys(['p_mw', 'q_mvar'])\n"
     ]
    },
    {
     "data": {
      "text/html": [
       "<div>\n",
       "<style scoped>\n",
       "    .dataframe tbody tr th:only-of-type {\n",
       "        vertical-align: middle;\n",
       "    }\n",
       "\n",
       "    .dataframe tbody tr th {\n",
       "        vertical-align: top;\n",
       "    }\n",
       "\n",
       "    .dataframe thead th {\n",
       "        text-align: right;\n",
       "    }\n",
       "</style>\n",
       "<table border=\"1\" class=\"dataframe\">\n",
       "  <thead>\n",
       "    <tr style=\"text-align: right;\">\n",
       "      <th>profile</th>\n",
       "      <th>0</th>\n",
       "      <th>1</th>\n",
       "    </tr>\n",
       "  </thead>\n",
       "  <tbody>\n",
       "    <tr>\n",
       "      <th>00:00:00</th>\n",
       "      <td>0.02301</td>\n",
       "      <td>0.08414</td>\n",
       "    </tr>\n",
       "    <tr>\n",
       "      <th>01:00:00</th>\n",
       "      <td>0.01743</td>\n",
       "      <td>0.08866</td>\n",
       "    </tr>\n",
       "    <tr>\n",
       "      <th>02:00:00</th>\n",
       "      <td>0.01592</td>\n",
       "      <td>0.08950</td>\n",
       "    </tr>\n",
       "    <tr>\n",
       "      <th>03:00:00</th>\n",
       "      <td>0.02022</td>\n",
       "      <td>0.08509</td>\n",
       "    </tr>\n",
       "    <tr>\n",
       "      <th>04:00:00</th>\n",
       "      <td>0.03131</td>\n",
       "      <td>0.07463</td>\n",
       "    </tr>\n",
       "    <tr>\n",
       "      <th>05:00:00</th>\n",
       "      <td>0.03377</td>\n",
       "      <td>0.07337</td>\n",
       "    </tr>\n",
       "    <tr>\n",
       "      <th>06:00:00</th>\n",
       "      <td>0.03829</td>\n",
       "      <td>0.06886</td>\n",
       "    </tr>\n",
       "    <tr>\n",
       "      <th>07:00:00</th>\n",
       "      <td>0.05299</td>\n",
       "      <td>0.05567</td>\n",
       "    </tr>\n",
       "    <tr>\n",
       "      <th>08:00:00</th>\n",
       "      <td>0.07359</td>\n",
       "      <td>0.04019</td>\n",
       "    </tr>\n",
       "    <tr>\n",
       "      <th>09:00:00</th>\n",
       "      <td>0.08708</td>\n",
       "      <td>0.03242</td>\n",
       "    </tr>\n",
       "    <tr>\n",
       "      <th>10:00:00</th>\n",
       "      <td>0.08454</td>\n",
       "      <td>0.03552</td>\n",
       "    </tr>\n",
       "    <tr>\n",
       "      <th>11:00:00</th>\n",
       "      <td>0.08326</td>\n",
       "      <td>0.03750</td>\n",
       "    </tr>\n",
       "    <tr>\n",
       "      <th>12:00:00</th>\n",
       "      <td>0.07909</td>\n",
       "      <td>0.04142</td>\n",
       "    </tr>\n",
       "    <tr>\n",
       "      <th>13:00:00</th>\n",
       "      <td>0.06846</td>\n",
       "      <td>0.04953</td>\n",
       "    </tr>\n",
       "    <tr>\n",
       "      <th>14:00:00</th>\n",
       "      <td>0.06324</td>\n",
       "      <td>0.05306</td>\n",
       "    </tr>\n",
       "    <tr>\n",
       "      <th>15:00:00</th>\n",
       "      <td>0.06635</td>\n",
       "      <td>0.05080</td>\n",
       "    </tr>\n",
       "    <tr>\n",
       "      <th>16:00:00</th>\n",
       "      <td>0.05867</td>\n",
       "      <td>0.05915</td>\n",
       "    </tr>\n",
       "    <tr>\n",
       "      <th>17:00:00</th>\n",
       "      <td>0.05251</td>\n",
       "      <td>0.06481</td>\n",
       "    </tr>\n",
       "    <tr>\n",
       "      <th>18:00:00</th>\n",
       "      <td>0.04749</td>\n",
       "      <td>0.06822</td>\n",
       "    </tr>\n",
       "    <tr>\n",
       "      <th>19:00:00</th>\n",
       "      <td>0.04147</td>\n",
       "      <td>0.06954</td>\n",
       "    </tr>\n",
       "    <tr>\n",
       "      <th>20:00:00</th>\n",
       "      <td>0.03622</td>\n",
       "      <td>0.07252</td>\n",
       "    </tr>\n",
       "    <tr>\n",
       "      <th>21:00:00</th>\n",
       "      <td>0.03267</td>\n",
       "      <td>0.07635</td>\n",
       "    </tr>\n",
       "    <tr>\n",
       "      <th>22:00:00</th>\n",
       "      <td>0.02918</td>\n",
       "      <td>0.07906</td>\n",
       "    </tr>\n",
       "    <tr>\n",
       "      <th>23:00:00</th>\n",
       "      <td>0.02701</td>\n",
       "      <td>0.08083</td>\n",
       "    </tr>\n",
       "  </tbody>\n",
       "</table>\n",
       "</div>"
      ],
      "text/plain": [
       "profile         0        1\n",
       "00:00:00  0.02301  0.08414\n",
       "01:00:00  0.01743  0.08866\n",
       "02:00:00  0.01592  0.08950\n",
       "03:00:00  0.02022  0.08509\n",
       "04:00:00  0.03131  0.07463\n",
       "05:00:00  0.03377  0.07337\n",
       "06:00:00  0.03829  0.06886\n",
       "07:00:00  0.05299  0.05567\n",
       "08:00:00  0.07359  0.04019\n",
       "09:00:00  0.08708  0.03242\n",
       "10:00:00  0.08454  0.03552\n",
       "11:00:00  0.08326  0.03750\n",
       "12:00:00  0.07909  0.04142\n",
       "13:00:00  0.06846  0.04953\n",
       "14:00:00  0.06324  0.05306\n",
       "15:00:00  0.06635  0.05080\n",
       "16:00:00  0.05867  0.05915\n",
       "17:00:00  0.05251  0.06481\n",
       "18:00:00  0.04749  0.06822\n",
       "19:00:00  0.04147  0.06954\n",
       "20:00:00  0.03622  0.07252\n",
       "21:00:00  0.03267  0.07635\n",
       "22:00:00  0.02918  0.07906\n",
       "23:00:00  0.02701  0.08083"
      ]
     },
     "execution_count": 59,
     "metadata": {},
     "output_type": "execute_result"
    }
   ],
   "source": [
    "profile_file_path = \"./tutorials/data/3_bus_power_profile.xlsx\"\n",
    "time_series = pp_sim.load_power_profile_form_xlsx(file_path=profile_file_path)\n",
    "print(time_series.keys())\n",
    "print(time_series[\"load\"].keys())\n",
    "time_series[\"load\"][\"p_mw\"]"
   ]
  },
  {
   "cell_type": "markdown",
   "id": "8b0da5fc",
   "metadata": {},
   "source": [
    "In this example, the file loaded contains two different profiles for loads. If we take a look in the load **panda**power table we can see that the `profile_mapping` parameter of the load is set to 0. It means that power profiles applied to this load will be the 0."
   ]
  },
  {
   "cell_type": "code",
   "execution_count": 60,
   "id": "1f40f153",
   "metadata": {},
   "outputs": [
    {
     "data": {
      "text/html": [
       "<div>\n",
       "<style scoped>\n",
       "    .dataframe tbody tr th:only-of-type {\n",
       "        vertical-align: middle;\n",
       "    }\n",
       "\n",
       "    .dataframe tbody tr th {\n",
       "        vertical-align: top;\n",
       "    }\n",
       "\n",
       "    .dataframe thead th {\n",
       "        text-align: right;\n",
       "    }\n",
       "</style>\n",
       "<table border=\"1\" class=\"dataframe\">\n",
       "  <thead>\n",
       "    <tr style=\"text-align: right;\">\n",
       "      <th></th>\n",
       "      <th>name</th>\n",
       "      <th>bus</th>\n",
       "      <th>p_mw</th>\n",
       "      <th>q_mvar</th>\n",
       "      <th>scaling</th>\n",
       "      <th>const_z_percent</th>\n",
       "      <th>const_i_percent</th>\n",
       "      <th>sn_mva</th>\n",
       "      <th>in_service</th>\n",
       "      <th>type</th>\n",
       "      <th>profile_mapping</th>\n",
       "    </tr>\n",
       "  </thead>\n",
       "  <tbody>\n",
       "    <tr>\n",
       "      <th>0</th>\n",
       "      <td>load_0</td>\n",
       "      <td>2</td>\n",
       "      <td>0.1</td>\n",
       "      <td>0.05</td>\n",
       "      <td>1.0</td>\n",
       "      <td>0.0</td>\n",
       "      <td>0.0</td>\n",
       "      <td>None</td>\n",
       "      <td>True</td>\n",
       "      <td>wye</td>\n",
       "      <td>0</td>\n",
       "    </tr>\n",
       "  </tbody>\n",
       "</table>\n",
       "</div>"
      ],
      "text/plain": [
       "     name  bus  p_mw  q_mvar  scaling  const_z_percent  const_i_percent  \\\n",
       "0  load_0    2   0.1    0.05      1.0              0.0              0.0   \n",
       "\n",
       "  sn_mva  in_service type  profile_mapping  \n",
       "0   None        True  wye                0  "
      ]
     },
     "execution_count": 60,
     "metadata": {},
     "output_type": "execute_result"
    }
   ],
   "source": [
    "net.load"
   ]
  },
  {
   "cell_type": "code",
   "execution_count": 61,
   "id": "9fac448f",
   "metadata": {},
   "outputs": [],
   "source": [
    "pp_sim.apply_power_profile(net=net, equipment=\"load\", power_profiles=time_series[\"load\"])"
   ]
  },
  {
   "cell_type": "markdown",
   "id": "b7c13830",
   "metadata": {},
   "source": [
    "Then we need to create an output writer which will store simulation results:\n",
    "\n",
    "- Default results stored are `res_bus.vm_pu`, `res_line.loading_percent`, `res_trafo.loading_percent`.\n",
    "- We can add other results using `add_results` parameters."
   ]
  },
  {
   "cell_type": "code",
   "execution_count": 62,
   "id": "f9382852",
   "metadata": {},
   "outputs": [],
   "source": [
    "pp_sim.create_output_writer(net=net, add_results=[\"res_line.p_from_mw\"])"
   ]
  },
  {
   "cell_type": "markdown",
   "id": "c224e559",
   "metadata": {},
   "source": [
    "Finally, we can run times series simulation and plot results – as follows:"
   ]
  },
  {
   "cell_type": "code",
   "execution_count": 63,
   "id": "432a6ea9",
   "metadata": {},
   "outputs": [
    {
     "name": "stdout",
     "output_type": "stream",
     "text": [
      "\n"
     ]
    },
    {
     "data": {
      "application/vnd.plotly.v1+json": {
       "config": {
        "plotlyServerURL": "https://plot.ly"
       },
       "data": [
        {
         "hovertemplate": "<b>Bus 1<br>V [pu]: %{y:.2f}<br>Time: %{text}<b><extra></extra>",
         "mode": "lines",
         "name": "<b>Bus 1<b>",
         "text": [
          "00h00",
          "01h00",
          "02h00",
          "03h00",
          "04h00",
          "05h00",
          "06h00",
          "07h00",
          "08h00",
          "09h00",
          "10h00",
          "11h00",
          "12h00",
          "13h00",
          "14h00",
          "15h00",
          "16h00",
          "17h00",
          "18h00",
          "19h00",
          "20h00",
          "21h00",
          "22h00",
          "23h00"
         ],
         "type": "scatter",
         "x": [
          0,
          1,
          2,
          3,
          4,
          5,
          6,
          7,
          8,
          9,
          10,
          11,
          12,
          13,
          14,
          15,
          16,
          17,
          18,
          19,
          20,
          21,
          22,
          23
         ],
         "y": [
          1.2,
          1.2,
          1.2,
          1.2,
          1.2,
          1.2,
          1.2,
          1.2,
          1.2,
          1.2,
          1.2,
          1.2,
          1.2,
          1.2,
          1.2,
          1.2,
          1.2,
          1.2,
          1.2,
          1.2,
          1.2,
          1.2,
          1.2,
          1.2
         ]
        },
        {
         "hovertemplate": "<b>Bus 2<br>V [pu]: %{y:.2f}<br>Time: %{text}<b><extra></extra>",
         "mode": "lines",
         "name": "<b>Bus 2<b>",
         "text": [
          "00h00",
          "01h00",
          "02h00",
          "03h00",
          "04h00",
          "05h00",
          "06h00",
          "07h00",
          "08h00",
          "09h00",
          "10h00",
          "11h00",
          "12h00",
          "13h00",
          "14h00",
          "15h00",
          "16h00",
          "17h00",
          "18h00",
          "19h00",
          "20h00",
          "21h00",
          "22h00",
          "23h00"
         ],
         "type": "scatter",
         "x": [
          0,
          1,
          2,
          3,
          4,
          5,
          6,
          7,
          8,
          9,
          10,
          11,
          12,
          13,
          14,
          15,
          16,
          17,
          18,
          19,
          20,
          21,
          22,
          23
         ],
         "y": [
          1.1978763594872395,
          1.198387136019915,
          1.1985250516142274,
          1.198131970439514,
          1.197113278917145,
          1.1968863396747873,
          1.196468429733148,
          1.1951008079477081,
          1.1931617273256774,
          1.1918770820117734,
          1.1921198849605659,
          1.1922420793644237,
          1.1926394128015811,
          1.1936471354574634,
          1.1941393292789453,
          1.193846296222933,
          1.1945688191364083,
          1.195145672882014,
          1.1956140398299613,
          1.1961736842223616,
          1.196659968121849,
          1.1969878605568554,
          1.1973094880695405,
          1.1975091095670962
         ]
        },
        {
         "hovertemplate": "<b>Bus 3<br>V [pu]: %{y:.2f}<br>Time: %{text}<b><extra></extra>",
         "mode": "lines",
         "name": "<b>Bus 3<b>",
         "text": [
          "00h00",
          "01h00",
          "02h00",
          "03h00",
          "04h00",
          "05h00",
          "06h00",
          "07h00",
          "08h00",
          "09h00",
          "10h00",
          "11h00",
          "12h00",
          "13h00",
          "14h00",
          "15h00",
          "16h00",
          "17h00",
          "18h00",
          "19h00",
          "20h00",
          "21h00",
          "22h00",
          "23h00"
         ],
         "type": "scatter",
         "x": [
          0,
          1,
          2,
          3,
          4,
          5,
          6,
          7,
          8,
          9,
          10,
          11,
          12,
          13,
          14,
          15,
          16,
          17,
          18,
          19,
          20,
          21,
          22,
          23
         ],
         "y": [
          1.1896100748626603,
          1.192139383971172,
          1.1928219819487607,
          1.190876083772822,
          1.1858276245136667,
          1.1847018561467644,
          1.1826276976543706,
          1.1758303999588957,
          1.1661675373650757,
          1.1597493296321342,
          1.160963413297634,
          1.16157424027514,
          1.163559605063605,
          1.168589238139519,
          1.1710428746862327,
          1.1695823071061788,
          1.1731823532380368,
          1.176053618825941,
          1.1783829653354443,
          1.1811640053296502,
          1.1835785044864013,
          1.185205516197204,
          1.1868006285121864,
          1.187790247785613
         ]
        }
       ],
       "layout": {
        "font": {
         "size": 15
        },
        "height": 400,
        "legend": {
         "font": {
          "size": 12
         }
        },
        "margin": {
         "t": 30
        },
        "paper_bgcolor": "white",
        "plot_bgcolor": "white",
        "template": {
         "data": {
          "bar": [
           {
            "error_x": {
             "color": "#2a3f5f"
            },
            "error_y": {
             "color": "#2a3f5f"
            },
            "marker": {
             "line": {
              "color": "#E5ECF6",
              "width": 0.5
             },
             "pattern": {
              "fillmode": "overlay",
              "size": 10,
              "solidity": 0.2
             }
            },
            "type": "bar"
           }
          ],
          "barpolar": [
           {
            "marker": {
             "line": {
              "color": "#E5ECF6",
              "width": 0.5
             },
             "pattern": {
              "fillmode": "overlay",
              "size": 10,
              "solidity": 0.2
             }
            },
            "type": "barpolar"
           }
          ],
          "carpet": [
           {
            "aaxis": {
             "endlinecolor": "#2a3f5f",
             "gridcolor": "white",
             "linecolor": "white",
             "minorgridcolor": "white",
             "startlinecolor": "#2a3f5f"
            },
            "baxis": {
             "endlinecolor": "#2a3f5f",
             "gridcolor": "white",
             "linecolor": "white",
             "minorgridcolor": "white",
             "startlinecolor": "#2a3f5f"
            },
            "type": "carpet"
           }
          ],
          "choropleth": [
           {
            "colorbar": {
             "outlinewidth": 0,
             "ticks": ""
            },
            "type": "choropleth"
           }
          ],
          "contour": [
           {
            "colorbar": {
             "outlinewidth": 0,
             "ticks": ""
            },
            "colorscale": [
             [
              0,
              "#0d0887"
             ],
             [
              0.1111111111111111,
              "#46039f"
             ],
             [
              0.2222222222222222,
              "#7201a8"
             ],
             [
              0.3333333333333333,
              "#9c179e"
             ],
             [
              0.4444444444444444,
              "#bd3786"
             ],
             [
              0.5555555555555556,
              "#d8576b"
             ],
             [
              0.6666666666666666,
              "#ed7953"
             ],
             [
              0.7777777777777778,
              "#fb9f3a"
             ],
             [
              0.8888888888888888,
              "#fdca26"
             ],
             [
              1,
              "#f0f921"
             ]
            ],
            "type": "contour"
           }
          ],
          "contourcarpet": [
           {
            "colorbar": {
             "outlinewidth": 0,
             "ticks": ""
            },
            "type": "contourcarpet"
           }
          ],
          "heatmap": [
           {
            "colorbar": {
             "outlinewidth": 0,
             "ticks": ""
            },
            "colorscale": [
             [
              0,
              "#0d0887"
             ],
             [
              0.1111111111111111,
              "#46039f"
             ],
             [
              0.2222222222222222,
              "#7201a8"
             ],
             [
              0.3333333333333333,
              "#9c179e"
             ],
             [
              0.4444444444444444,
              "#bd3786"
             ],
             [
              0.5555555555555556,
              "#d8576b"
             ],
             [
              0.6666666666666666,
              "#ed7953"
             ],
             [
              0.7777777777777778,
              "#fb9f3a"
             ],
             [
              0.8888888888888888,
              "#fdca26"
             ],
             [
              1,
              "#f0f921"
             ]
            ],
            "type": "heatmap"
           }
          ],
          "heatmapgl": [
           {
            "colorbar": {
             "outlinewidth": 0,
             "ticks": ""
            },
            "colorscale": [
             [
              0,
              "#0d0887"
             ],
             [
              0.1111111111111111,
              "#46039f"
             ],
             [
              0.2222222222222222,
              "#7201a8"
             ],
             [
              0.3333333333333333,
              "#9c179e"
             ],
             [
              0.4444444444444444,
              "#bd3786"
             ],
             [
              0.5555555555555556,
              "#d8576b"
             ],
             [
              0.6666666666666666,
              "#ed7953"
             ],
             [
              0.7777777777777778,
              "#fb9f3a"
             ],
             [
              0.8888888888888888,
              "#fdca26"
             ],
             [
              1,
              "#f0f921"
             ]
            ],
            "type": "heatmapgl"
           }
          ],
          "histogram": [
           {
            "marker": {
             "pattern": {
              "fillmode": "overlay",
              "size": 10,
              "solidity": 0.2
             }
            },
            "type": "histogram"
           }
          ],
          "histogram2d": [
           {
            "colorbar": {
             "outlinewidth": 0,
             "ticks": ""
            },
            "colorscale": [
             [
              0,
              "#0d0887"
             ],
             [
              0.1111111111111111,
              "#46039f"
             ],
             [
              0.2222222222222222,
              "#7201a8"
             ],
             [
              0.3333333333333333,
              "#9c179e"
             ],
             [
              0.4444444444444444,
              "#bd3786"
             ],
             [
              0.5555555555555556,
              "#d8576b"
             ],
             [
              0.6666666666666666,
              "#ed7953"
             ],
             [
              0.7777777777777778,
              "#fb9f3a"
             ],
             [
              0.8888888888888888,
              "#fdca26"
             ],
             [
              1,
              "#f0f921"
             ]
            ],
            "type": "histogram2d"
           }
          ],
          "histogram2dcontour": [
           {
            "colorbar": {
             "outlinewidth": 0,
             "ticks": ""
            },
            "colorscale": [
             [
              0,
              "#0d0887"
             ],
             [
              0.1111111111111111,
              "#46039f"
             ],
             [
              0.2222222222222222,
              "#7201a8"
             ],
             [
              0.3333333333333333,
              "#9c179e"
             ],
             [
              0.4444444444444444,
              "#bd3786"
             ],
             [
              0.5555555555555556,
              "#d8576b"
             ],
             [
              0.6666666666666666,
              "#ed7953"
             ],
             [
              0.7777777777777778,
              "#fb9f3a"
             ],
             [
              0.8888888888888888,
              "#fdca26"
             ],
             [
              1,
              "#f0f921"
             ]
            ],
            "type": "histogram2dcontour"
           }
          ],
          "mesh3d": [
           {
            "colorbar": {
             "outlinewidth": 0,
             "ticks": ""
            },
            "type": "mesh3d"
           }
          ],
          "parcoords": [
           {
            "line": {
             "colorbar": {
              "outlinewidth": 0,
              "ticks": ""
             }
            },
            "type": "parcoords"
           }
          ],
          "pie": [
           {
            "automargin": true,
            "type": "pie"
           }
          ],
          "scatter": [
           {
            "fillpattern": {
             "fillmode": "overlay",
             "size": 10,
             "solidity": 0.2
            },
            "type": "scatter"
           }
          ],
          "scatter3d": [
           {
            "line": {
             "colorbar": {
              "outlinewidth": 0,
              "ticks": ""
             }
            },
            "marker": {
             "colorbar": {
              "outlinewidth": 0,
              "ticks": ""
             }
            },
            "type": "scatter3d"
           }
          ],
          "scattercarpet": [
           {
            "marker": {
             "colorbar": {
              "outlinewidth": 0,
              "ticks": ""
             }
            },
            "type": "scattercarpet"
           }
          ],
          "scattergeo": [
           {
            "marker": {
             "colorbar": {
              "outlinewidth": 0,
              "ticks": ""
             }
            },
            "type": "scattergeo"
           }
          ],
          "scattergl": [
           {
            "marker": {
             "colorbar": {
              "outlinewidth": 0,
              "ticks": ""
             }
            },
            "type": "scattergl"
           }
          ],
          "scattermapbox": [
           {
            "marker": {
             "colorbar": {
              "outlinewidth": 0,
              "ticks": ""
             }
            },
            "type": "scattermapbox"
           }
          ],
          "scatterpolar": [
           {
            "marker": {
             "colorbar": {
              "outlinewidth": 0,
              "ticks": ""
             }
            },
            "type": "scatterpolar"
           }
          ],
          "scatterpolargl": [
           {
            "marker": {
             "colorbar": {
              "outlinewidth": 0,
              "ticks": ""
             }
            },
            "type": "scatterpolargl"
           }
          ],
          "scatterternary": [
           {
            "marker": {
             "colorbar": {
              "outlinewidth": 0,
              "ticks": ""
             }
            },
            "type": "scatterternary"
           }
          ],
          "surface": [
           {
            "colorbar": {
             "outlinewidth": 0,
             "ticks": ""
            },
            "colorscale": [
             [
              0,
              "#0d0887"
             ],
             [
              0.1111111111111111,
              "#46039f"
             ],
             [
              0.2222222222222222,
              "#7201a8"
             ],
             [
              0.3333333333333333,
              "#9c179e"
             ],
             [
              0.4444444444444444,
              "#bd3786"
             ],
             [
              0.5555555555555556,
              "#d8576b"
             ],
             [
              0.6666666666666666,
              "#ed7953"
             ],
             [
              0.7777777777777778,
              "#fb9f3a"
             ],
             [
              0.8888888888888888,
              "#fdca26"
             ],
             [
              1,
              "#f0f921"
             ]
            ],
            "type": "surface"
           }
          ],
          "table": [
           {
            "cells": {
             "fill": {
              "color": "#EBF0F8"
             },
             "line": {
              "color": "white"
             }
            },
            "header": {
             "fill": {
              "color": "#C8D4E3"
             },
             "line": {
              "color": "white"
             }
            },
            "type": "table"
           }
          ]
         },
         "layout": {
          "annotationdefaults": {
           "arrowcolor": "#2a3f5f",
           "arrowhead": 0,
           "arrowwidth": 1
          },
          "autotypenumbers": "strict",
          "coloraxis": {
           "colorbar": {
            "outlinewidth": 0,
            "ticks": ""
           }
          },
          "colorscale": {
           "diverging": [
            [
             0,
             "#8e0152"
            ],
            [
             0.1,
             "#c51b7d"
            ],
            [
             0.2,
             "#de77ae"
            ],
            [
             0.3,
             "#f1b6da"
            ],
            [
             0.4,
             "#fde0ef"
            ],
            [
             0.5,
             "#f7f7f7"
            ],
            [
             0.6,
             "#e6f5d0"
            ],
            [
             0.7,
             "#b8e186"
            ],
            [
             0.8,
             "#7fbc41"
            ],
            [
             0.9,
             "#4d9221"
            ],
            [
             1,
             "#276419"
            ]
           ],
           "sequential": [
            [
             0,
             "#0d0887"
            ],
            [
             0.1111111111111111,
             "#46039f"
            ],
            [
             0.2222222222222222,
             "#7201a8"
            ],
            [
             0.3333333333333333,
             "#9c179e"
            ],
            [
             0.4444444444444444,
             "#bd3786"
            ],
            [
             0.5555555555555556,
             "#d8576b"
            ],
            [
             0.6666666666666666,
             "#ed7953"
            ],
            [
             0.7777777777777778,
             "#fb9f3a"
            ],
            [
             0.8888888888888888,
             "#fdca26"
            ],
            [
             1,
             "#f0f921"
            ]
           ],
           "sequentialminus": [
            [
             0,
             "#0d0887"
            ],
            [
             0.1111111111111111,
             "#46039f"
            ],
            [
             0.2222222222222222,
             "#7201a8"
            ],
            [
             0.3333333333333333,
             "#9c179e"
            ],
            [
             0.4444444444444444,
             "#bd3786"
            ],
            [
             0.5555555555555556,
             "#d8576b"
            ],
            [
             0.6666666666666666,
             "#ed7953"
            ],
            [
             0.7777777777777778,
             "#fb9f3a"
            ],
            [
             0.8888888888888888,
             "#fdca26"
            ],
            [
             1,
             "#f0f921"
            ]
           ]
          },
          "colorway": [
           "#636efa",
           "#EF553B",
           "#00cc96",
           "#ab63fa",
           "#FFA15A",
           "#19d3f3",
           "#FF6692",
           "#B6E880",
           "#FF97FF",
           "#FECB52"
          ],
          "font": {
           "color": "#2a3f5f"
          },
          "geo": {
           "bgcolor": "white",
           "lakecolor": "white",
           "landcolor": "#E5ECF6",
           "showlakes": true,
           "showland": true,
           "subunitcolor": "white"
          },
          "hoverlabel": {
           "align": "left"
          },
          "hovermode": "closest",
          "mapbox": {
           "style": "light"
          },
          "paper_bgcolor": "white",
          "plot_bgcolor": "#E5ECF6",
          "polar": {
           "angularaxis": {
            "gridcolor": "white",
            "linecolor": "white",
            "ticks": ""
           },
           "bgcolor": "#E5ECF6",
           "radialaxis": {
            "gridcolor": "white",
            "linecolor": "white",
            "ticks": ""
           }
          },
          "scene": {
           "xaxis": {
            "backgroundcolor": "#E5ECF6",
            "gridcolor": "white",
            "gridwidth": 2,
            "linecolor": "white",
            "showbackground": true,
            "ticks": "",
            "zerolinecolor": "white"
           },
           "yaxis": {
            "backgroundcolor": "#E5ECF6",
            "gridcolor": "white",
            "gridwidth": 2,
            "linecolor": "white",
            "showbackground": true,
            "ticks": "",
            "zerolinecolor": "white"
           },
           "zaxis": {
            "backgroundcolor": "#E5ECF6",
            "gridcolor": "white",
            "gridwidth": 2,
            "linecolor": "white",
            "showbackground": true,
            "ticks": "",
            "zerolinecolor": "white"
           }
          },
          "shapedefaults": {
           "line": {
            "color": "#2a3f5f"
           }
          },
          "ternary": {
           "aaxis": {
            "gridcolor": "white",
            "linecolor": "white",
            "ticks": ""
           },
           "baxis": {
            "gridcolor": "white",
            "linecolor": "white",
            "ticks": ""
           },
           "bgcolor": "#E5ECF6",
           "caxis": {
            "gridcolor": "white",
            "linecolor": "white",
            "ticks": ""
           }
          },
          "title": {
           "x": 0.05
          },
          "xaxis": {
           "automargin": true,
           "gridcolor": "white",
           "linecolor": "white",
           "ticks": "",
           "title": {
            "standoff": 15
           },
           "zerolinecolor": "white",
           "zerolinewidth": 2
          },
          "yaxis": {
           "automargin": true,
           "gridcolor": "white",
           "linecolor": "white",
           "ticks": "",
           "title": {
            "standoff": 15
           },
           "zerolinecolor": "white",
           "zerolinewidth": 2
          }
         }
        },
        "title": {
         "text": "<b>Bus voltage<b>",
         "x": 0.5,
         "xanchor": "center",
         "y": 0.97,
         "yanchor": "top"
        },
        "width": 680,
        "xaxis": {
         "gridcolor": "black",
         "gridwidth": 1,
         "linecolor": "black",
         "linewidth": 2,
         "showgrid": true,
         "showline": true,
         "tickfont": {
          "family": "Arial Black",
          "size": 12
         },
         "tickmode": "array",
         "ticktext": [
          "00h00",
          "04h00",
          "08h00",
          "12h00",
          "16h00",
          "20h00"
         ],
         "tickvals": [
          0,
          4,
          8,
          12,
          16,
          20
         ],
         "title": {
          "font": {
           "size": 12
          },
          "text": "<b>Time<b>"
         },
         "zeroline": false
        },
        "yaxis": {
         "gridcolor": "black",
         "gridwidth": 1,
         "linecolor": "black",
         "linewidth": 2,
         "showgrid": true,
         "showline": true,
         "tickfont": {
          "family": "Arial Black",
          "size": 12
         },
         "title": {
          "font": {
           "size": 12
          },
          "text": "<b>V [pu]<b>"
         },
         "zeroline": false
        }
       }
      },
      "text/html": [
       "<div>                            <div id=\"354fc980-128b-4b2b-8cb8-cfe3acc0a31c\" class=\"plotly-graph-div\" style=\"height:400px; width:680px;\"></div>            <script type=\"text/javascript\">                require([\"plotly\"], function(Plotly) {                    window.PLOTLYENV=window.PLOTLYENV || {};                                    if (document.getElementById(\"354fc980-128b-4b2b-8cb8-cfe3acc0a31c\")) {                    Plotly.newPlot(                        \"354fc980-128b-4b2b-8cb8-cfe3acc0a31c\",                        [{\"hovertemplate\":\"\\u003cb\\u003eBus 1\\u003cbr\\u003eV [pu]: %{y:.2f}\\u003cbr\\u003eTime: %{text}\\u003cb\\u003e\\u003cextra\\u003e\\u003c\\u002fextra\\u003e\",\"mode\":\"lines\",\"name\":\"\\u003cb\\u003eBus 1\\u003cb\\u003e\",\"text\":[\"00h00\",\"01h00\",\"02h00\",\"03h00\",\"04h00\",\"05h00\",\"06h00\",\"07h00\",\"08h00\",\"09h00\",\"10h00\",\"11h00\",\"12h00\",\"13h00\",\"14h00\",\"15h00\",\"16h00\",\"17h00\",\"18h00\",\"19h00\",\"20h00\",\"21h00\",\"22h00\",\"23h00\"],\"x\":[0,1,2,3,4,5,6,7,8,9,10,11,12,13,14,15,16,17,18,19,20,21,22,23],\"y\":[1.2,1.2,1.2,1.2,1.2,1.2,1.2,1.2,1.2,1.2,1.2,1.2,1.2,1.2,1.2,1.2,1.2,1.2,1.2,1.2,1.2,1.2,1.2,1.2],\"type\":\"scatter\"},{\"hovertemplate\":\"\\u003cb\\u003eBus 2\\u003cbr\\u003eV [pu]: %{y:.2f}\\u003cbr\\u003eTime: %{text}\\u003cb\\u003e\\u003cextra\\u003e\\u003c\\u002fextra\\u003e\",\"mode\":\"lines\",\"name\":\"\\u003cb\\u003eBus 2\\u003cb\\u003e\",\"text\":[\"00h00\",\"01h00\",\"02h00\",\"03h00\",\"04h00\",\"05h00\",\"06h00\",\"07h00\",\"08h00\",\"09h00\",\"10h00\",\"11h00\",\"12h00\",\"13h00\",\"14h00\",\"15h00\",\"16h00\",\"17h00\",\"18h00\",\"19h00\",\"20h00\",\"21h00\",\"22h00\",\"23h00\"],\"x\":[0,1,2,3,4,5,6,7,8,9,10,11,12,13,14,15,16,17,18,19,20,21,22,23],\"y\":[1.1978763594872395,1.198387136019915,1.1985250516142274,1.198131970439514,1.197113278917145,1.1968863396747873,1.196468429733148,1.1951008079477081,1.1931617273256774,1.1918770820117734,1.1921198849605659,1.1922420793644237,1.1926394128015811,1.1936471354574634,1.1941393292789453,1.193846296222933,1.1945688191364083,1.195145672882014,1.1956140398299613,1.1961736842223616,1.196659968121849,1.1969878605568554,1.1973094880695405,1.1975091095670962],\"type\":\"scatter\"},{\"hovertemplate\":\"\\u003cb\\u003eBus 3\\u003cbr\\u003eV [pu]: %{y:.2f}\\u003cbr\\u003eTime: %{text}\\u003cb\\u003e\\u003cextra\\u003e\\u003c\\u002fextra\\u003e\",\"mode\":\"lines\",\"name\":\"\\u003cb\\u003eBus 3\\u003cb\\u003e\",\"text\":[\"00h00\",\"01h00\",\"02h00\",\"03h00\",\"04h00\",\"05h00\",\"06h00\",\"07h00\",\"08h00\",\"09h00\",\"10h00\",\"11h00\",\"12h00\",\"13h00\",\"14h00\",\"15h00\",\"16h00\",\"17h00\",\"18h00\",\"19h00\",\"20h00\",\"21h00\",\"22h00\",\"23h00\"],\"x\":[0,1,2,3,4,5,6,7,8,9,10,11,12,13,14,15,16,17,18,19,20,21,22,23],\"y\":[1.1896100748626603,1.192139383971172,1.1928219819487607,1.190876083772822,1.1858276245136667,1.1847018561467644,1.1826276976543706,1.1758303999588957,1.1661675373650757,1.1597493296321342,1.160963413297634,1.16157424027514,1.163559605063605,1.168589238139519,1.1710428746862327,1.1695823071061788,1.1731823532380368,1.176053618825941,1.1783829653354443,1.1811640053296502,1.1835785044864013,1.185205516197204,1.1868006285121864,1.187790247785613],\"type\":\"scatter\"}],                        {\"template\":{\"data\":{\"histogram2dcontour\":[{\"type\":\"histogram2dcontour\",\"colorbar\":{\"outlinewidth\":0,\"ticks\":\"\"},\"colorscale\":[[0.0,\"#0d0887\"],[0.1111111111111111,\"#46039f\"],[0.2222222222222222,\"#7201a8\"],[0.3333333333333333,\"#9c179e\"],[0.4444444444444444,\"#bd3786\"],[0.5555555555555556,\"#d8576b\"],[0.6666666666666666,\"#ed7953\"],[0.7777777777777778,\"#fb9f3a\"],[0.8888888888888888,\"#fdca26\"],[1.0,\"#f0f921\"]]}],\"choropleth\":[{\"type\":\"choropleth\",\"colorbar\":{\"outlinewidth\":0,\"ticks\":\"\"}}],\"histogram2d\":[{\"type\":\"histogram2d\",\"colorbar\":{\"outlinewidth\":0,\"ticks\":\"\"},\"colorscale\":[[0.0,\"#0d0887\"],[0.1111111111111111,\"#46039f\"],[0.2222222222222222,\"#7201a8\"],[0.3333333333333333,\"#9c179e\"],[0.4444444444444444,\"#bd3786\"],[0.5555555555555556,\"#d8576b\"],[0.6666666666666666,\"#ed7953\"],[0.7777777777777778,\"#fb9f3a\"],[0.8888888888888888,\"#fdca26\"],[1.0,\"#f0f921\"]]}],\"heatmap\":[{\"type\":\"heatmap\",\"colorbar\":{\"outlinewidth\":0,\"ticks\":\"\"},\"colorscale\":[[0.0,\"#0d0887\"],[0.1111111111111111,\"#46039f\"],[0.2222222222222222,\"#7201a8\"],[0.3333333333333333,\"#9c179e\"],[0.4444444444444444,\"#bd3786\"],[0.5555555555555556,\"#d8576b\"],[0.6666666666666666,\"#ed7953\"],[0.7777777777777778,\"#fb9f3a\"],[0.8888888888888888,\"#fdca26\"],[1.0,\"#f0f921\"]]}],\"heatmapgl\":[{\"type\":\"heatmapgl\",\"colorbar\":{\"outlinewidth\":0,\"ticks\":\"\"},\"colorscale\":[[0.0,\"#0d0887\"],[0.1111111111111111,\"#46039f\"],[0.2222222222222222,\"#7201a8\"],[0.3333333333333333,\"#9c179e\"],[0.4444444444444444,\"#bd3786\"],[0.5555555555555556,\"#d8576b\"],[0.6666666666666666,\"#ed7953\"],[0.7777777777777778,\"#fb9f3a\"],[0.8888888888888888,\"#fdca26\"],[1.0,\"#f0f921\"]]}],\"contourcarpet\":[{\"type\":\"contourcarpet\",\"colorbar\":{\"outlinewidth\":0,\"ticks\":\"\"}}],\"contour\":[{\"type\":\"contour\",\"colorbar\":{\"outlinewidth\":0,\"ticks\":\"\"},\"colorscale\":[[0.0,\"#0d0887\"],[0.1111111111111111,\"#46039f\"],[0.2222222222222222,\"#7201a8\"],[0.3333333333333333,\"#9c179e\"],[0.4444444444444444,\"#bd3786\"],[0.5555555555555556,\"#d8576b\"],[0.6666666666666666,\"#ed7953\"],[0.7777777777777778,\"#fb9f3a\"],[0.8888888888888888,\"#fdca26\"],[1.0,\"#f0f921\"]]}],\"surface\":[{\"type\":\"surface\",\"colorbar\":{\"outlinewidth\":0,\"ticks\":\"\"},\"colorscale\":[[0.0,\"#0d0887\"],[0.1111111111111111,\"#46039f\"],[0.2222222222222222,\"#7201a8\"],[0.3333333333333333,\"#9c179e\"],[0.4444444444444444,\"#bd3786\"],[0.5555555555555556,\"#d8576b\"],[0.6666666666666666,\"#ed7953\"],[0.7777777777777778,\"#fb9f3a\"],[0.8888888888888888,\"#fdca26\"],[1.0,\"#f0f921\"]]}],\"mesh3d\":[{\"type\":\"mesh3d\",\"colorbar\":{\"outlinewidth\":0,\"ticks\":\"\"}}],\"scatter\":[{\"fillpattern\":{\"fillmode\":\"overlay\",\"size\":10,\"solidity\":0.2},\"type\":\"scatter\"}],\"parcoords\":[{\"type\":\"parcoords\",\"line\":{\"colorbar\":{\"outlinewidth\":0,\"ticks\":\"\"}}}],\"scatterpolargl\":[{\"type\":\"scatterpolargl\",\"marker\":{\"colorbar\":{\"outlinewidth\":0,\"ticks\":\"\"}}}],\"bar\":[{\"error_x\":{\"color\":\"#2a3f5f\"},\"error_y\":{\"color\":\"#2a3f5f\"},\"marker\":{\"line\":{\"color\":\"#E5ECF6\",\"width\":0.5},\"pattern\":{\"fillmode\":\"overlay\",\"size\":10,\"solidity\":0.2}},\"type\":\"bar\"}],\"scattergeo\":[{\"type\":\"scattergeo\",\"marker\":{\"colorbar\":{\"outlinewidth\":0,\"ticks\":\"\"}}}],\"scatterpolar\":[{\"type\":\"scatterpolar\",\"marker\":{\"colorbar\":{\"outlinewidth\":0,\"ticks\":\"\"}}}],\"histogram\":[{\"marker\":{\"pattern\":{\"fillmode\":\"overlay\",\"size\":10,\"solidity\":0.2}},\"type\":\"histogram\"}],\"scattergl\":[{\"type\":\"scattergl\",\"marker\":{\"colorbar\":{\"outlinewidth\":0,\"ticks\":\"\"}}}],\"scatter3d\":[{\"type\":\"scatter3d\",\"line\":{\"colorbar\":{\"outlinewidth\":0,\"ticks\":\"\"}},\"marker\":{\"colorbar\":{\"outlinewidth\":0,\"ticks\":\"\"}}}],\"scattermapbox\":[{\"type\":\"scattermapbox\",\"marker\":{\"colorbar\":{\"outlinewidth\":0,\"ticks\":\"\"}}}],\"scatterternary\":[{\"type\":\"scatterternary\",\"marker\":{\"colorbar\":{\"outlinewidth\":0,\"ticks\":\"\"}}}],\"scattercarpet\":[{\"type\":\"scattercarpet\",\"marker\":{\"colorbar\":{\"outlinewidth\":0,\"ticks\":\"\"}}}],\"carpet\":[{\"aaxis\":{\"endlinecolor\":\"#2a3f5f\",\"gridcolor\":\"white\",\"linecolor\":\"white\",\"minorgridcolor\":\"white\",\"startlinecolor\":\"#2a3f5f\"},\"baxis\":{\"endlinecolor\":\"#2a3f5f\",\"gridcolor\":\"white\",\"linecolor\":\"white\",\"minorgridcolor\":\"white\",\"startlinecolor\":\"#2a3f5f\"},\"type\":\"carpet\"}],\"table\":[{\"cells\":{\"fill\":{\"color\":\"#EBF0F8\"},\"line\":{\"color\":\"white\"}},\"header\":{\"fill\":{\"color\":\"#C8D4E3\"},\"line\":{\"color\":\"white\"}},\"type\":\"table\"}],\"barpolar\":[{\"marker\":{\"line\":{\"color\":\"#E5ECF6\",\"width\":0.5},\"pattern\":{\"fillmode\":\"overlay\",\"size\":10,\"solidity\":0.2}},\"type\":\"barpolar\"}],\"pie\":[{\"automargin\":true,\"type\":\"pie\"}]},\"layout\":{\"autotypenumbers\":\"strict\",\"colorway\":[\"#636efa\",\"#EF553B\",\"#00cc96\",\"#ab63fa\",\"#FFA15A\",\"#19d3f3\",\"#FF6692\",\"#B6E880\",\"#FF97FF\",\"#FECB52\"],\"font\":{\"color\":\"#2a3f5f\"},\"hovermode\":\"closest\",\"hoverlabel\":{\"align\":\"left\"},\"paper_bgcolor\":\"white\",\"plot_bgcolor\":\"#E5ECF6\",\"polar\":{\"bgcolor\":\"#E5ECF6\",\"angularaxis\":{\"gridcolor\":\"white\",\"linecolor\":\"white\",\"ticks\":\"\"},\"radialaxis\":{\"gridcolor\":\"white\",\"linecolor\":\"white\",\"ticks\":\"\"}},\"ternary\":{\"bgcolor\":\"#E5ECF6\",\"aaxis\":{\"gridcolor\":\"white\",\"linecolor\":\"white\",\"ticks\":\"\"},\"baxis\":{\"gridcolor\":\"white\",\"linecolor\":\"white\",\"ticks\":\"\"},\"caxis\":{\"gridcolor\":\"white\",\"linecolor\":\"white\",\"ticks\":\"\"}},\"coloraxis\":{\"colorbar\":{\"outlinewidth\":0,\"ticks\":\"\"}},\"colorscale\":{\"sequential\":[[0.0,\"#0d0887\"],[0.1111111111111111,\"#46039f\"],[0.2222222222222222,\"#7201a8\"],[0.3333333333333333,\"#9c179e\"],[0.4444444444444444,\"#bd3786\"],[0.5555555555555556,\"#d8576b\"],[0.6666666666666666,\"#ed7953\"],[0.7777777777777778,\"#fb9f3a\"],[0.8888888888888888,\"#fdca26\"],[1.0,\"#f0f921\"]],\"sequentialminus\":[[0.0,\"#0d0887\"],[0.1111111111111111,\"#46039f\"],[0.2222222222222222,\"#7201a8\"],[0.3333333333333333,\"#9c179e\"],[0.4444444444444444,\"#bd3786\"],[0.5555555555555556,\"#d8576b\"],[0.6666666666666666,\"#ed7953\"],[0.7777777777777778,\"#fb9f3a\"],[0.8888888888888888,\"#fdca26\"],[1.0,\"#f0f921\"]],\"diverging\":[[0,\"#8e0152\"],[0.1,\"#c51b7d\"],[0.2,\"#de77ae\"],[0.3,\"#f1b6da\"],[0.4,\"#fde0ef\"],[0.5,\"#f7f7f7\"],[0.6,\"#e6f5d0\"],[0.7,\"#b8e186\"],[0.8,\"#7fbc41\"],[0.9,\"#4d9221\"],[1,\"#276419\"]]},\"xaxis\":{\"gridcolor\":\"white\",\"linecolor\":\"white\",\"ticks\":\"\",\"title\":{\"standoff\":15},\"zerolinecolor\":\"white\",\"automargin\":true,\"zerolinewidth\":2},\"yaxis\":{\"gridcolor\":\"white\",\"linecolor\":\"white\",\"ticks\":\"\",\"title\":{\"standoff\":15},\"zerolinecolor\":\"white\",\"automargin\":true,\"zerolinewidth\":2},\"scene\":{\"xaxis\":{\"backgroundcolor\":\"#E5ECF6\",\"gridcolor\":\"white\",\"linecolor\":\"white\",\"showbackground\":true,\"ticks\":\"\",\"zerolinecolor\":\"white\",\"gridwidth\":2},\"yaxis\":{\"backgroundcolor\":\"#E5ECF6\",\"gridcolor\":\"white\",\"linecolor\":\"white\",\"showbackground\":true,\"ticks\":\"\",\"zerolinecolor\":\"white\",\"gridwidth\":2},\"zaxis\":{\"backgroundcolor\":\"#E5ECF6\",\"gridcolor\":\"white\",\"linecolor\":\"white\",\"showbackground\":true,\"ticks\":\"\",\"zerolinecolor\":\"white\",\"gridwidth\":2}},\"shapedefaults\":{\"line\":{\"color\":\"#2a3f5f\"}},\"annotationdefaults\":{\"arrowcolor\":\"#2a3f5f\",\"arrowhead\":0,\"arrowwidth\":1},\"geo\":{\"bgcolor\":\"white\",\"landcolor\":\"#E5ECF6\",\"subunitcolor\":\"white\",\"showland\":true,\"showlakes\":true,\"lakecolor\":\"white\"},\"title\":{\"x\":0.05},\"mapbox\":{\"style\":\"light\"}}},\"font\":{\"size\":15},\"xaxis\":{\"tickfont\":{\"size\":12,\"family\":\"Arial Black\"},\"title\":{\"text\":\"\\u003cb\\u003eTime\\u003cb\\u003e\",\"font\":{\"size\":12}},\"zeroline\":false,\"tickmode\":\"array\",\"tickvals\":[0,4,8,12,16,20],\"ticktext\":[\"00h00\",\"04h00\",\"08h00\",\"12h00\",\"16h00\",\"20h00\"],\"showline\":true,\"showgrid\":true,\"gridwidth\":1,\"linewidth\":2,\"linecolor\":\"black\",\"gridcolor\":\"black\"},\"yaxis\":{\"tickfont\":{\"size\":12,\"family\":\"Arial Black\"},\"title\":{\"text\":\"\\u003cb\\u003eV [pu]\\u003cb\\u003e\",\"font\":{\"size\":12}},\"zeroline\":false,\"showline\":true,\"showgrid\":true,\"gridwidth\":1,\"linewidth\":2,\"linecolor\":\"black\",\"gridcolor\":\"black\"},\"margin\":{\"t\":30},\"legend\":{\"font\":{\"size\":12}},\"paper_bgcolor\":\"white\",\"plot_bgcolor\":\"white\",\"width\":680,\"height\":400,\"title\":{\"text\":\"\\u003cb\\u003eBus voltage\\u003cb\\u003e\",\"y\":0.97,\"x\":0.5,\"xanchor\":\"center\",\"yanchor\":\"top\"}},                        {\"responsive\": true}                    ).then(function(){\n",
       "                            \n",
       "var gd = document.getElementById('354fc980-128b-4b2b-8cb8-cfe3acc0a31c');\n",
       "var x = new MutationObserver(function (mutations, observer) {{\n",
       "        var display = window.getComputedStyle(gd).display;\n",
       "        if (!display || display === 'none') {{\n",
       "            console.log([gd, 'removed!']);\n",
       "            Plotly.purge(gd);\n",
       "            observer.disconnect();\n",
       "        }}\n",
       "}});\n",
       "\n",
       "// Listen for the removal of the full notebook cells\n",
       "var notebookContainer = gd.closest('#notebook-container');\n",
       "if (notebookContainer) {{\n",
       "    x.observe(notebookContainer, {childList: true});\n",
       "}}\n",
       "\n",
       "// Listen for the clearing of the current output cell\n",
       "var outputEl = gd.closest('.output');\n",
       "if (outputEl) {{\n",
       "    x.observe(outputEl, {childList: true});\n",
       "}}\n",
       "\n",
       "                        })                };                });            </script>        </div>"
      ]
     },
     "metadata": {},
     "output_type": "display_data"
    },
    {
     "name": "stdout",
     "output_type": "stream",
     "text": [
      "\n"
     ]
    },
    {
     "data": {
      "application/vnd.plotly.v1+json": {
       "config": {
        "plotlyServerURL": "https://plot.ly"
       },
       "data": [
        {
         "hovertemplate": "<b>Line<br>P [MW]: %{y:.2f}<br>Time: %{text}<b><extra></extra>",
         "mode": "lines",
         "name": "<b>Line<b>",
         "text": [
          "00h00",
          "01h00",
          "02h00",
          "03h00",
          "04h00",
          "05h00",
          "06h00",
          "07h00",
          "08h00",
          "09h00",
          "10h00",
          "11h00",
          "12h00",
          "13h00",
          "14h00",
          "15h00",
          "16h00",
          "17h00",
          "18h00",
          "19h00",
          "20h00",
          "21h00",
          "22h00",
          "23h00"
         ],
         "type": "scatter",
         "x": [
          0,
          1,
          2,
          3,
          4,
          5,
          6,
          7,
          8,
          9,
          10,
          11,
          12,
          13,
          14,
          15,
          16,
          17,
          18,
          19,
          20,
          21,
          22,
          23
         ],
         "y": [
          0.023197645325905795,
          0.01753721376835476,
          0.016009339502080795,
          0.02036459100916977,
          0.03165965409096987,
          0.03417753172071837,
          0.03881576658026967,
          0.05400863198865756,
          0.07558727276512156,
          0.08990768065737281,
          0.0871995585403366,
          0.08583692011342743,
          0.0814073295216301,
          0.07018135779445857,
          0.06470271324777276,
          0.06796414130329624,
          0.05992435883543379,
          0.0535098848123668,
          0.04830461255497908,
          0.04208825336070297,
          0.0366897001196503,
          0.03305109048229151,
          0.029483201421388907,
          0.027269349333203574
         ]
        }
       ],
       "layout": {
        "font": {
         "size": 15
        },
        "height": 400,
        "legend": {
         "font": {
          "size": 12
         }
        },
        "margin": {
         "t": 30
        },
        "paper_bgcolor": "white",
        "plot_bgcolor": "white",
        "template": {
         "data": {
          "bar": [
           {
            "error_x": {
             "color": "#2a3f5f"
            },
            "error_y": {
             "color": "#2a3f5f"
            },
            "marker": {
             "line": {
              "color": "#E5ECF6",
              "width": 0.5
             },
             "pattern": {
              "fillmode": "overlay",
              "size": 10,
              "solidity": 0.2
             }
            },
            "type": "bar"
           }
          ],
          "barpolar": [
           {
            "marker": {
             "line": {
              "color": "#E5ECF6",
              "width": 0.5
             },
             "pattern": {
              "fillmode": "overlay",
              "size": 10,
              "solidity": 0.2
             }
            },
            "type": "barpolar"
           }
          ],
          "carpet": [
           {
            "aaxis": {
             "endlinecolor": "#2a3f5f",
             "gridcolor": "white",
             "linecolor": "white",
             "minorgridcolor": "white",
             "startlinecolor": "#2a3f5f"
            },
            "baxis": {
             "endlinecolor": "#2a3f5f",
             "gridcolor": "white",
             "linecolor": "white",
             "minorgridcolor": "white",
             "startlinecolor": "#2a3f5f"
            },
            "type": "carpet"
           }
          ],
          "choropleth": [
           {
            "colorbar": {
             "outlinewidth": 0,
             "ticks": ""
            },
            "type": "choropleth"
           }
          ],
          "contour": [
           {
            "colorbar": {
             "outlinewidth": 0,
             "ticks": ""
            },
            "colorscale": [
             [
              0,
              "#0d0887"
             ],
             [
              0.1111111111111111,
              "#46039f"
             ],
             [
              0.2222222222222222,
              "#7201a8"
             ],
             [
              0.3333333333333333,
              "#9c179e"
             ],
             [
              0.4444444444444444,
              "#bd3786"
             ],
             [
              0.5555555555555556,
              "#d8576b"
             ],
             [
              0.6666666666666666,
              "#ed7953"
             ],
             [
              0.7777777777777778,
              "#fb9f3a"
             ],
             [
              0.8888888888888888,
              "#fdca26"
             ],
             [
              1,
              "#f0f921"
             ]
            ],
            "type": "contour"
           }
          ],
          "contourcarpet": [
           {
            "colorbar": {
             "outlinewidth": 0,
             "ticks": ""
            },
            "type": "contourcarpet"
           }
          ],
          "heatmap": [
           {
            "colorbar": {
             "outlinewidth": 0,
             "ticks": ""
            },
            "colorscale": [
             [
              0,
              "#0d0887"
             ],
             [
              0.1111111111111111,
              "#46039f"
             ],
             [
              0.2222222222222222,
              "#7201a8"
             ],
             [
              0.3333333333333333,
              "#9c179e"
             ],
             [
              0.4444444444444444,
              "#bd3786"
             ],
             [
              0.5555555555555556,
              "#d8576b"
             ],
             [
              0.6666666666666666,
              "#ed7953"
             ],
             [
              0.7777777777777778,
              "#fb9f3a"
             ],
             [
              0.8888888888888888,
              "#fdca26"
             ],
             [
              1,
              "#f0f921"
             ]
            ],
            "type": "heatmap"
           }
          ],
          "heatmapgl": [
           {
            "colorbar": {
             "outlinewidth": 0,
             "ticks": ""
            },
            "colorscale": [
             [
              0,
              "#0d0887"
             ],
             [
              0.1111111111111111,
              "#46039f"
             ],
             [
              0.2222222222222222,
              "#7201a8"
             ],
             [
              0.3333333333333333,
              "#9c179e"
             ],
             [
              0.4444444444444444,
              "#bd3786"
             ],
             [
              0.5555555555555556,
              "#d8576b"
             ],
             [
              0.6666666666666666,
              "#ed7953"
             ],
             [
              0.7777777777777778,
              "#fb9f3a"
             ],
             [
              0.8888888888888888,
              "#fdca26"
             ],
             [
              1,
              "#f0f921"
             ]
            ],
            "type": "heatmapgl"
           }
          ],
          "histogram": [
           {
            "marker": {
             "pattern": {
              "fillmode": "overlay",
              "size": 10,
              "solidity": 0.2
             }
            },
            "type": "histogram"
           }
          ],
          "histogram2d": [
           {
            "colorbar": {
             "outlinewidth": 0,
             "ticks": ""
            },
            "colorscale": [
             [
              0,
              "#0d0887"
             ],
             [
              0.1111111111111111,
              "#46039f"
             ],
             [
              0.2222222222222222,
              "#7201a8"
             ],
             [
              0.3333333333333333,
              "#9c179e"
             ],
             [
              0.4444444444444444,
              "#bd3786"
             ],
             [
              0.5555555555555556,
              "#d8576b"
             ],
             [
              0.6666666666666666,
              "#ed7953"
             ],
             [
              0.7777777777777778,
              "#fb9f3a"
             ],
             [
              0.8888888888888888,
              "#fdca26"
             ],
             [
              1,
              "#f0f921"
             ]
            ],
            "type": "histogram2d"
           }
          ],
          "histogram2dcontour": [
           {
            "colorbar": {
             "outlinewidth": 0,
             "ticks": ""
            },
            "colorscale": [
             [
              0,
              "#0d0887"
             ],
             [
              0.1111111111111111,
              "#46039f"
             ],
             [
              0.2222222222222222,
              "#7201a8"
             ],
             [
              0.3333333333333333,
              "#9c179e"
             ],
             [
              0.4444444444444444,
              "#bd3786"
             ],
             [
              0.5555555555555556,
              "#d8576b"
             ],
             [
              0.6666666666666666,
              "#ed7953"
             ],
             [
              0.7777777777777778,
              "#fb9f3a"
             ],
             [
              0.8888888888888888,
              "#fdca26"
             ],
             [
              1,
              "#f0f921"
             ]
            ],
            "type": "histogram2dcontour"
           }
          ],
          "mesh3d": [
           {
            "colorbar": {
             "outlinewidth": 0,
             "ticks": ""
            },
            "type": "mesh3d"
           }
          ],
          "parcoords": [
           {
            "line": {
             "colorbar": {
              "outlinewidth": 0,
              "ticks": ""
             }
            },
            "type": "parcoords"
           }
          ],
          "pie": [
           {
            "automargin": true,
            "type": "pie"
           }
          ],
          "scatter": [
           {
            "fillpattern": {
             "fillmode": "overlay",
             "size": 10,
             "solidity": 0.2
            },
            "type": "scatter"
           }
          ],
          "scatter3d": [
           {
            "line": {
             "colorbar": {
              "outlinewidth": 0,
              "ticks": ""
             }
            },
            "marker": {
             "colorbar": {
              "outlinewidth": 0,
              "ticks": ""
             }
            },
            "type": "scatter3d"
           }
          ],
          "scattercarpet": [
           {
            "marker": {
             "colorbar": {
              "outlinewidth": 0,
              "ticks": ""
             }
            },
            "type": "scattercarpet"
           }
          ],
          "scattergeo": [
           {
            "marker": {
             "colorbar": {
              "outlinewidth": 0,
              "ticks": ""
             }
            },
            "type": "scattergeo"
           }
          ],
          "scattergl": [
           {
            "marker": {
             "colorbar": {
              "outlinewidth": 0,
              "ticks": ""
             }
            },
            "type": "scattergl"
           }
          ],
          "scattermapbox": [
           {
            "marker": {
             "colorbar": {
              "outlinewidth": 0,
              "ticks": ""
             }
            },
            "type": "scattermapbox"
           }
          ],
          "scatterpolar": [
           {
            "marker": {
             "colorbar": {
              "outlinewidth": 0,
              "ticks": ""
             }
            },
            "type": "scatterpolar"
           }
          ],
          "scatterpolargl": [
           {
            "marker": {
             "colorbar": {
              "outlinewidth": 0,
              "ticks": ""
             }
            },
            "type": "scatterpolargl"
           }
          ],
          "scatterternary": [
           {
            "marker": {
             "colorbar": {
              "outlinewidth": 0,
              "ticks": ""
             }
            },
            "type": "scatterternary"
           }
          ],
          "surface": [
           {
            "colorbar": {
             "outlinewidth": 0,
             "ticks": ""
            },
            "colorscale": [
             [
              0,
              "#0d0887"
             ],
             [
              0.1111111111111111,
              "#46039f"
             ],
             [
              0.2222222222222222,
              "#7201a8"
             ],
             [
              0.3333333333333333,
              "#9c179e"
             ],
             [
              0.4444444444444444,
              "#bd3786"
             ],
             [
              0.5555555555555556,
              "#d8576b"
             ],
             [
              0.6666666666666666,
              "#ed7953"
             ],
             [
              0.7777777777777778,
              "#fb9f3a"
             ],
             [
              0.8888888888888888,
              "#fdca26"
             ],
             [
              1,
              "#f0f921"
             ]
            ],
            "type": "surface"
           }
          ],
          "table": [
           {
            "cells": {
             "fill": {
              "color": "#EBF0F8"
             },
             "line": {
              "color": "white"
             }
            },
            "header": {
             "fill": {
              "color": "#C8D4E3"
             },
             "line": {
              "color": "white"
             }
            },
            "type": "table"
           }
          ]
         },
         "layout": {
          "annotationdefaults": {
           "arrowcolor": "#2a3f5f",
           "arrowhead": 0,
           "arrowwidth": 1
          },
          "autotypenumbers": "strict",
          "coloraxis": {
           "colorbar": {
            "outlinewidth": 0,
            "ticks": ""
           }
          },
          "colorscale": {
           "diverging": [
            [
             0,
             "#8e0152"
            ],
            [
             0.1,
             "#c51b7d"
            ],
            [
             0.2,
             "#de77ae"
            ],
            [
             0.3,
             "#f1b6da"
            ],
            [
             0.4,
             "#fde0ef"
            ],
            [
             0.5,
             "#f7f7f7"
            ],
            [
             0.6,
             "#e6f5d0"
            ],
            [
             0.7,
             "#b8e186"
            ],
            [
             0.8,
             "#7fbc41"
            ],
            [
             0.9,
             "#4d9221"
            ],
            [
             1,
             "#276419"
            ]
           ],
           "sequential": [
            [
             0,
             "#0d0887"
            ],
            [
             0.1111111111111111,
             "#46039f"
            ],
            [
             0.2222222222222222,
             "#7201a8"
            ],
            [
             0.3333333333333333,
             "#9c179e"
            ],
            [
             0.4444444444444444,
             "#bd3786"
            ],
            [
             0.5555555555555556,
             "#d8576b"
            ],
            [
             0.6666666666666666,
             "#ed7953"
            ],
            [
             0.7777777777777778,
             "#fb9f3a"
            ],
            [
             0.8888888888888888,
             "#fdca26"
            ],
            [
             1,
             "#f0f921"
            ]
           ],
           "sequentialminus": [
            [
             0,
             "#0d0887"
            ],
            [
             0.1111111111111111,
             "#46039f"
            ],
            [
             0.2222222222222222,
             "#7201a8"
            ],
            [
             0.3333333333333333,
             "#9c179e"
            ],
            [
             0.4444444444444444,
             "#bd3786"
            ],
            [
             0.5555555555555556,
             "#d8576b"
            ],
            [
             0.6666666666666666,
             "#ed7953"
            ],
            [
             0.7777777777777778,
             "#fb9f3a"
            ],
            [
             0.8888888888888888,
             "#fdca26"
            ],
            [
             1,
             "#f0f921"
            ]
           ]
          },
          "colorway": [
           "#636efa",
           "#EF553B",
           "#00cc96",
           "#ab63fa",
           "#FFA15A",
           "#19d3f3",
           "#FF6692",
           "#B6E880",
           "#FF97FF",
           "#FECB52"
          ],
          "font": {
           "color": "#2a3f5f"
          },
          "geo": {
           "bgcolor": "white",
           "lakecolor": "white",
           "landcolor": "#E5ECF6",
           "showlakes": true,
           "showland": true,
           "subunitcolor": "white"
          },
          "hoverlabel": {
           "align": "left"
          },
          "hovermode": "closest",
          "mapbox": {
           "style": "light"
          },
          "paper_bgcolor": "white",
          "plot_bgcolor": "#E5ECF6",
          "polar": {
           "angularaxis": {
            "gridcolor": "white",
            "linecolor": "white",
            "ticks": ""
           },
           "bgcolor": "#E5ECF6",
           "radialaxis": {
            "gridcolor": "white",
            "linecolor": "white",
            "ticks": ""
           }
          },
          "scene": {
           "xaxis": {
            "backgroundcolor": "#E5ECF6",
            "gridcolor": "white",
            "gridwidth": 2,
            "linecolor": "white",
            "showbackground": true,
            "ticks": "",
            "zerolinecolor": "white"
           },
           "yaxis": {
            "backgroundcolor": "#E5ECF6",
            "gridcolor": "white",
            "gridwidth": 2,
            "linecolor": "white",
            "showbackground": true,
            "ticks": "",
            "zerolinecolor": "white"
           },
           "zaxis": {
            "backgroundcolor": "#E5ECF6",
            "gridcolor": "white",
            "gridwidth": 2,
            "linecolor": "white",
            "showbackground": true,
            "ticks": "",
            "zerolinecolor": "white"
           }
          },
          "shapedefaults": {
           "line": {
            "color": "#2a3f5f"
           }
          },
          "ternary": {
           "aaxis": {
            "gridcolor": "white",
            "linecolor": "white",
            "ticks": ""
           },
           "baxis": {
            "gridcolor": "white",
            "linecolor": "white",
            "ticks": ""
           },
           "bgcolor": "#E5ECF6",
           "caxis": {
            "gridcolor": "white",
            "linecolor": "white",
            "ticks": ""
           }
          },
          "title": {
           "x": 0.05
          },
          "xaxis": {
           "automargin": true,
           "gridcolor": "white",
           "linecolor": "white",
           "ticks": "",
           "title": {
            "standoff": 15
           },
           "zerolinecolor": "white",
           "zerolinewidth": 2
          },
          "yaxis": {
           "automargin": true,
           "gridcolor": "white",
           "linecolor": "white",
           "ticks": "",
           "title": {
            "standoff": 15
           },
           "zerolinecolor": "white",
           "zerolinewidth": 2
          }
         }
        },
        "title": {
         "text": "<b>line power<b>",
         "x": 0.5,
         "xanchor": "center",
         "y": 0.97,
         "yanchor": "top"
        },
        "width": 680,
        "xaxis": {
         "gridcolor": "black",
         "gridwidth": 1,
         "linecolor": "black",
         "linewidth": 2,
         "showgrid": true,
         "showline": true,
         "tickfont": {
          "family": "Arial Black",
          "size": 12
         },
         "tickmode": "array",
         "ticktext": [
          "00h00",
          "04h00",
          "08h00",
          "12h00",
          "16h00",
          "20h00"
         ],
         "tickvals": [
          0,
          4,
          8,
          12,
          16,
          20
         ],
         "title": {
          "font": {
           "size": 12
          },
          "text": "<b>Time<b>"
         },
         "zeroline": false
        },
        "yaxis": {
         "gridcolor": "black",
         "gridwidth": 1,
         "linecolor": "black",
         "linewidth": 2,
         "showgrid": true,
         "showline": true,
         "tickfont": {
          "family": "Arial Black",
          "size": 12
         },
         "title": {
          "font": {
           "size": 12
          },
          "text": "<b>P [MW]<b>"
         },
         "zeroline": false
        }
       }
      },
      "text/html": [
       "<div>                            <div id=\"73e629e4-6c1e-4f7d-bfca-f804cc826edf\" class=\"plotly-graph-div\" style=\"height:400px; width:680px;\"></div>            <script type=\"text/javascript\">                require([\"plotly\"], function(Plotly) {                    window.PLOTLYENV=window.PLOTLYENV || {};                                    if (document.getElementById(\"73e629e4-6c1e-4f7d-bfca-f804cc826edf\")) {                    Plotly.newPlot(                        \"73e629e4-6c1e-4f7d-bfca-f804cc826edf\",                        [{\"hovertemplate\":\"\\u003cb\\u003eLine\\u003cbr\\u003eP [MW]: %{y:.2f}\\u003cbr\\u003eTime: %{text}\\u003cb\\u003e\\u003cextra\\u003e\\u003c\\u002fextra\\u003e\",\"mode\":\"lines\",\"name\":\"\\u003cb\\u003eLine\\u003cb\\u003e\",\"text\":[\"00h00\",\"01h00\",\"02h00\",\"03h00\",\"04h00\",\"05h00\",\"06h00\",\"07h00\",\"08h00\",\"09h00\",\"10h00\",\"11h00\",\"12h00\",\"13h00\",\"14h00\",\"15h00\",\"16h00\",\"17h00\",\"18h00\",\"19h00\",\"20h00\",\"21h00\",\"22h00\",\"23h00\"],\"x\":[0,1,2,3,4,5,6,7,8,9,10,11,12,13,14,15,16,17,18,19,20,21,22,23],\"y\":[0.023197645325905795,0.01753721376835476,0.016009339502080795,0.02036459100916977,0.03165965409096987,0.03417753172071837,0.03881576658026967,0.05400863198865756,0.07558727276512156,0.08990768065737281,0.0871995585403366,0.08583692011342743,0.0814073295216301,0.07018135779445857,0.06470271324777276,0.06796414130329624,0.05992435883543379,0.0535098848123668,0.04830461255497908,0.04208825336070297,0.0366897001196503,0.03305109048229151,0.029483201421388907,0.027269349333203574],\"type\":\"scatter\"}],                        {\"template\":{\"data\":{\"histogram2dcontour\":[{\"type\":\"histogram2dcontour\",\"colorbar\":{\"outlinewidth\":0,\"ticks\":\"\"},\"colorscale\":[[0.0,\"#0d0887\"],[0.1111111111111111,\"#46039f\"],[0.2222222222222222,\"#7201a8\"],[0.3333333333333333,\"#9c179e\"],[0.4444444444444444,\"#bd3786\"],[0.5555555555555556,\"#d8576b\"],[0.6666666666666666,\"#ed7953\"],[0.7777777777777778,\"#fb9f3a\"],[0.8888888888888888,\"#fdca26\"],[1.0,\"#f0f921\"]]}],\"choropleth\":[{\"type\":\"choropleth\",\"colorbar\":{\"outlinewidth\":0,\"ticks\":\"\"}}],\"histogram2d\":[{\"type\":\"histogram2d\",\"colorbar\":{\"outlinewidth\":0,\"ticks\":\"\"},\"colorscale\":[[0.0,\"#0d0887\"],[0.1111111111111111,\"#46039f\"],[0.2222222222222222,\"#7201a8\"],[0.3333333333333333,\"#9c179e\"],[0.4444444444444444,\"#bd3786\"],[0.5555555555555556,\"#d8576b\"],[0.6666666666666666,\"#ed7953\"],[0.7777777777777778,\"#fb9f3a\"],[0.8888888888888888,\"#fdca26\"],[1.0,\"#f0f921\"]]}],\"heatmap\":[{\"type\":\"heatmap\",\"colorbar\":{\"outlinewidth\":0,\"ticks\":\"\"},\"colorscale\":[[0.0,\"#0d0887\"],[0.1111111111111111,\"#46039f\"],[0.2222222222222222,\"#7201a8\"],[0.3333333333333333,\"#9c179e\"],[0.4444444444444444,\"#bd3786\"],[0.5555555555555556,\"#d8576b\"],[0.6666666666666666,\"#ed7953\"],[0.7777777777777778,\"#fb9f3a\"],[0.8888888888888888,\"#fdca26\"],[1.0,\"#f0f921\"]]}],\"heatmapgl\":[{\"type\":\"heatmapgl\",\"colorbar\":{\"outlinewidth\":0,\"ticks\":\"\"},\"colorscale\":[[0.0,\"#0d0887\"],[0.1111111111111111,\"#46039f\"],[0.2222222222222222,\"#7201a8\"],[0.3333333333333333,\"#9c179e\"],[0.4444444444444444,\"#bd3786\"],[0.5555555555555556,\"#d8576b\"],[0.6666666666666666,\"#ed7953\"],[0.7777777777777778,\"#fb9f3a\"],[0.8888888888888888,\"#fdca26\"],[1.0,\"#f0f921\"]]}],\"contourcarpet\":[{\"type\":\"contourcarpet\",\"colorbar\":{\"outlinewidth\":0,\"ticks\":\"\"}}],\"contour\":[{\"type\":\"contour\",\"colorbar\":{\"outlinewidth\":0,\"ticks\":\"\"},\"colorscale\":[[0.0,\"#0d0887\"],[0.1111111111111111,\"#46039f\"],[0.2222222222222222,\"#7201a8\"],[0.3333333333333333,\"#9c179e\"],[0.4444444444444444,\"#bd3786\"],[0.5555555555555556,\"#d8576b\"],[0.6666666666666666,\"#ed7953\"],[0.7777777777777778,\"#fb9f3a\"],[0.8888888888888888,\"#fdca26\"],[1.0,\"#f0f921\"]]}],\"surface\":[{\"type\":\"surface\",\"colorbar\":{\"outlinewidth\":0,\"ticks\":\"\"},\"colorscale\":[[0.0,\"#0d0887\"],[0.1111111111111111,\"#46039f\"],[0.2222222222222222,\"#7201a8\"],[0.3333333333333333,\"#9c179e\"],[0.4444444444444444,\"#bd3786\"],[0.5555555555555556,\"#d8576b\"],[0.6666666666666666,\"#ed7953\"],[0.7777777777777778,\"#fb9f3a\"],[0.8888888888888888,\"#fdca26\"],[1.0,\"#f0f921\"]]}],\"mesh3d\":[{\"type\":\"mesh3d\",\"colorbar\":{\"outlinewidth\":0,\"ticks\":\"\"}}],\"scatter\":[{\"fillpattern\":{\"fillmode\":\"overlay\",\"size\":10,\"solidity\":0.2},\"type\":\"scatter\"}],\"parcoords\":[{\"type\":\"parcoords\",\"line\":{\"colorbar\":{\"outlinewidth\":0,\"ticks\":\"\"}}}],\"scatterpolargl\":[{\"type\":\"scatterpolargl\",\"marker\":{\"colorbar\":{\"outlinewidth\":0,\"ticks\":\"\"}}}],\"bar\":[{\"error_x\":{\"color\":\"#2a3f5f\"},\"error_y\":{\"color\":\"#2a3f5f\"},\"marker\":{\"line\":{\"color\":\"#E5ECF6\",\"width\":0.5},\"pattern\":{\"fillmode\":\"overlay\",\"size\":10,\"solidity\":0.2}},\"type\":\"bar\"}],\"scattergeo\":[{\"type\":\"scattergeo\",\"marker\":{\"colorbar\":{\"outlinewidth\":0,\"ticks\":\"\"}}}],\"scatterpolar\":[{\"type\":\"scatterpolar\",\"marker\":{\"colorbar\":{\"outlinewidth\":0,\"ticks\":\"\"}}}],\"histogram\":[{\"marker\":{\"pattern\":{\"fillmode\":\"overlay\",\"size\":10,\"solidity\":0.2}},\"type\":\"histogram\"}],\"scattergl\":[{\"type\":\"scattergl\",\"marker\":{\"colorbar\":{\"outlinewidth\":0,\"ticks\":\"\"}}}],\"scatter3d\":[{\"type\":\"scatter3d\",\"line\":{\"colorbar\":{\"outlinewidth\":0,\"ticks\":\"\"}},\"marker\":{\"colorbar\":{\"outlinewidth\":0,\"ticks\":\"\"}}}],\"scattermapbox\":[{\"type\":\"scattermapbox\",\"marker\":{\"colorbar\":{\"outlinewidth\":0,\"ticks\":\"\"}}}],\"scatterternary\":[{\"type\":\"scatterternary\",\"marker\":{\"colorbar\":{\"outlinewidth\":0,\"ticks\":\"\"}}}],\"scattercarpet\":[{\"type\":\"scattercarpet\",\"marker\":{\"colorbar\":{\"outlinewidth\":0,\"ticks\":\"\"}}}],\"carpet\":[{\"aaxis\":{\"endlinecolor\":\"#2a3f5f\",\"gridcolor\":\"white\",\"linecolor\":\"white\",\"minorgridcolor\":\"white\",\"startlinecolor\":\"#2a3f5f\"},\"baxis\":{\"endlinecolor\":\"#2a3f5f\",\"gridcolor\":\"white\",\"linecolor\":\"white\",\"minorgridcolor\":\"white\",\"startlinecolor\":\"#2a3f5f\"},\"type\":\"carpet\"}],\"table\":[{\"cells\":{\"fill\":{\"color\":\"#EBF0F8\"},\"line\":{\"color\":\"white\"}},\"header\":{\"fill\":{\"color\":\"#C8D4E3\"},\"line\":{\"color\":\"white\"}},\"type\":\"table\"}],\"barpolar\":[{\"marker\":{\"line\":{\"color\":\"#E5ECF6\",\"width\":0.5},\"pattern\":{\"fillmode\":\"overlay\",\"size\":10,\"solidity\":0.2}},\"type\":\"barpolar\"}],\"pie\":[{\"automargin\":true,\"type\":\"pie\"}]},\"layout\":{\"autotypenumbers\":\"strict\",\"colorway\":[\"#636efa\",\"#EF553B\",\"#00cc96\",\"#ab63fa\",\"#FFA15A\",\"#19d3f3\",\"#FF6692\",\"#B6E880\",\"#FF97FF\",\"#FECB52\"],\"font\":{\"color\":\"#2a3f5f\"},\"hovermode\":\"closest\",\"hoverlabel\":{\"align\":\"left\"},\"paper_bgcolor\":\"white\",\"plot_bgcolor\":\"#E5ECF6\",\"polar\":{\"bgcolor\":\"#E5ECF6\",\"angularaxis\":{\"gridcolor\":\"white\",\"linecolor\":\"white\",\"ticks\":\"\"},\"radialaxis\":{\"gridcolor\":\"white\",\"linecolor\":\"white\",\"ticks\":\"\"}},\"ternary\":{\"bgcolor\":\"#E5ECF6\",\"aaxis\":{\"gridcolor\":\"white\",\"linecolor\":\"white\",\"ticks\":\"\"},\"baxis\":{\"gridcolor\":\"white\",\"linecolor\":\"white\",\"ticks\":\"\"},\"caxis\":{\"gridcolor\":\"white\",\"linecolor\":\"white\",\"ticks\":\"\"}},\"coloraxis\":{\"colorbar\":{\"outlinewidth\":0,\"ticks\":\"\"}},\"colorscale\":{\"sequential\":[[0.0,\"#0d0887\"],[0.1111111111111111,\"#46039f\"],[0.2222222222222222,\"#7201a8\"],[0.3333333333333333,\"#9c179e\"],[0.4444444444444444,\"#bd3786\"],[0.5555555555555556,\"#d8576b\"],[0.6666666666666666,\"#ed7953\"],[0.7777777777777778,\"#fb9f3a\"],[0.8888888888888888,\"#fdca26\"],[1.0,\"#f0f921\"]],\"sequentialminus\":[[0.0,\"#0d0887\"],[0.1111111111111111,\"#46039f\"],[0.2222222222222222,\"#7201a8\"],[0.3333333333333333,\"#9c179e\"],[0.4444444444444444,\"#bd3786\"],[0.5555555555555556,\"#d8576b\"],[0.6666666666666666,\"#ed7953\"],[0.7777777777777778,\"#fb9f3a\"],[0.8888888888888888,\"#fdca26\"],[1.0,\"#f0f921\"]],\"diverging\":[[0,\"#8e0152\"],[0.1,\"#c51b7d\"],[0.2,\"#de77ae\"],[0.3,\"#f1b6da\"],[0.4,\"#fde0ef\"],[0.5,\"#f7f7f7\"],[0.6,\"#e6f5d0\"],[0.7,\"#b8e186\"],[0.8,\"#7fbc41\"],[0.9,\"#4d9221\"],[1,\"#276419\"]]},\"xaxis\":{\"gridcolor\":\"white\",\"linecolor\":\"white\",\"ticks\":\"\",\"title\":{\"standoff\":15},\"zerolinecolor\":\"white\",\"automargin\":true,\"zerolinewidth\":2},\"yaxis\":{\"gridcolor\":\"white\",\"linecolor\":\"white\",\"ticks\":\"\",\"title\":{\"standoff\":15},\"zerolinecolor\":\"white\",\"automargin\":true,\"zerolinewidth\":2},\"scene\":{\"xaxis\":{\"backgroundcolor\":\"#E5ECF6\",\"gridcolor\":\"white\",\"linecolor\":\"white\",\"showbackground\":true,\"ticks\":\"\",\"zerolinecolor\":\"white\",\"gridwidth\":2},\"yaxis\":{\"backgroundcolor\":\"#E5ECF6\",\"gridcolor\":\"white\",\"linecolor\":\"white\",\"showbackground\":true,\"ticks\":\"\",\"zerolinecolor\":\"white\",\"gridwidth\":2},\"zaxis\":{\"backgroundcolor\":\"#E5ECF6\",\"gridcolor\":\"white\",\"linecolor\":\"white\",\"showbackground\":true,\"ticks\":\"\",\"zerolinecolor\":\"white\",\"gridwidth\":2}},\"shapedefaults\":{\"line\":{\"color\":\"#2a3f5f\"}},\"annotationdefaults\":{\"arrowcolor\":\"#2a3f5f\",\"arrowhead\":0,\"arrowwidth\":1},\"geo\":{\"bgcolor\":\"white\",\"landcolor\":\"#E5ECF6\",\"subunitcolor\":\"white\",\"showland\":true,\"showlakes\":true,\"lakecolor\":\"white\"},\"title\":{\"x\":0.05},\"mapbox\":{\"style\":\"light\"}}},\"font\":{\"size\":15},\"xaxis\":{\"tickfont\":{\"size\":12,\"family\":\"Arial Black\"},\"title\":{\"text\":\"\\u003cb\\u003eTime\\u003cb\\u003e\",\"font\":{\"size\":12}},\"zeroline\":false,\"tickmode\":\"array\",\"tickvals\":[0,4,8,12,16,20],\"ticktext\":[\"00h00\",\"04h00\",\"08h00\",\"12h00\",\"16h00\",\"20h00\"],\"showline\":true,\"showgrid\":true,\"gridwidth\":1,\"linewidth\":2,\"linecolor\":\"black\",\"gridcolor\":\"black\"},\"yaxis\":{\"tickfont\":{\"size\":12,\"family\":\"Arial Black\"},\"title\":{\"text\":\"\\u003cb\\u003eP [MW]\\u003cb\\u003e\",\"font\":{\"size\":12}},\"zeroline\":false,\"showline\":true,\"showgrid\":true,\"gridwidth\":1,\"linewidth\":2,\"linecolor\":\"black\",\"gridcolor\":\"black\"},\"margin\":{\"t\":30},\"legend\":{\"font\":{\"size\":12}},\"paper_bgcolor\":\"white\",\"plot_bgcolor\":\"white\",\"width\":680,\"height\":400,\"title\":{\"text\":\"\\u003cb\\u003eline power\\u003cb\\u003e\",\"y\":0.97,\"x\":0.5,\"xanchor\":\"center\",\"yanchor\":\"top\"}},                        {\"responsive\": true}                    ).then(function(){\n",
       "                            \n",
       "var gd = document.getElementById('73e629e4-6c1e-4f7d-bfca-f804cc826edf');\n",
       "var x = new MutationObserver(function (mutations, observer) {{\n",
       "        var display = window.getComputedStyle(gd).display;\n",
       "        if (!display || display === 'none') {{\n",
       "            console.log([gd, 'removed!']);\n",
       "            Plotly.purge(gd);\n",
       "            observer.disconnect();\n",
       "        }}\n",
       "}});\n",
       "\n",
       "// Listen for the removal of the full notebook cells\n",
       "var notebookContainer = gd.closest('#notebook-container');\n",
       "if (notebookContainer) {{\n",
       "    x.observe(notebookContainer, {childList: true});\n",
       "}}\n",
       "\n",
       "// Listen for the clearing of the current output cell\n",
       "var outputEl = gd.closest('.output');\n",
       "if (outputEl) {{\n",
       "    x.observe(outputEl, {childList: true});\n",
       "}}\n",
       "\n",
       "                        })                };                });            </script>        </div>"
      ]
     },
     "metadata": {},
     "output_type": "display_data"
    },
    {
     "name": "stdout",
     "output_type": "stream",
     "text": [
      "\n"
     ]
    },
    {
     "data": {
      "application/vnd.plotly.v1+json": {
       "config": {
        "plotlyServerURL": "https://plot.ly"
       },
       "data": [
        {
         "hoverinfo": "text",
         "legendgroup": "Transformers",
         "line": {
          "color": "rgb(0.0,68.49999999999997,255.0)",
          "width": 7
         },
         "mode": "lines",
         "name": "Transformers",
         "showlegend": true,
         "text": "Trafo<br>Loading: 19.4 %",
         "type": "scatter",
         "x": [
          0,
          0,
          0
         ],
         "y": [
          0,
          -0.5,
          -1
         ]
        },
        {
         "hoverinfo": "text",
         "legendgroup": "Transformers",
         "marker": {
          "color": "rgb(0.0,68.49999999999997,255.0)",
          "size": 1,
          "symbol": "circle"
         },
         "mode": "markers",
         "name": "edge_center",
         "showlegend": false,
         "text": [
          "Trafo<br>Loading: 19.4 %"
         ],
         "type": "scatter",
         "x": [
          0
         ],
         "y": [
          -0.5
         ]
        },
        {
         "hoverinfo": "text",
         "legendgroup": "lines",
         "line": {
          "color": "rgb(255.0,129.8148148148149,0.0)",
          "width": 3
         },
         "mode": "lines",
         "name": "lines",
         "showlegend": true,
         "text": "Line<br>Loading: 77.2 %",
         "type": "scatter",
         "x": [
          0,
          0,
          0
         ],
         "y": [
          -1,
          -1.5,
          -2
         ]
        },
        {
         "marker": {
          "cmax": 100,
          "cmin": 0,
          "color": "rgb(255,255,255)",
          "colorbar": {
           "thickness": 10,
           "title": {
            "side": "right",
            "text": "Equipment loading [%]"
           },
           "x": 1.15
          },
          "colorscale": [
           [
            0,
            "rgb(0,0,131)"
           ],
           [
            0.2,
            "rgb(0,60,170)"
           ],
           [
            0.4,
            "rgb(5,255,255)"
           ],
           [
            0.6,
            "rgb(255,255,0)"
           ],
           [
            0.8,
            "rgb(250,0,0)"
           ],
           [
            1,
            "rgb(128,0,0)"
           ]
          ],
          "opacity": 0,
          "size": 0
         },
         "mode": "markers",
         "type": "scatter",
         "x": [
          0
         ],
         "y": [
          -1
         ]
        },
        {
         "hoverinfo": "text",
         "legendgroup": "lines",
         "marker": {
          "color": "rgb(128, 128, 128)",
          "size": 1,
          "symbol": "circle"
         },
         "mode": "markers",
         "name": "edge_center",
         "showlegend": false,
         "text": [
          "Line<br>Loading: 77.2 %"
         ],
         "type": "scatter",
         "x": [
          0
         ],
         "y": [
          -1.5
         ]
        },
        {
         "hoverinfo": "text",
         "marker": {
          "color": "rgb(191, 191, 0)",
          "size": 30,
          "symbol": "square"
         },
         "mode": "markers",
         "name": "Ext grid",
         "text": [
          "ext_grid"
         ],
         "type": "scatter",
         "x": [
          0
         ],
         "y": [
          0
         ]
        },
        {
         "hoverinfo": "text",
         "marker": {
          "cmax": 1.15,
          "cmin": 0.85,
          "color": [
           1.2,
           1.1926394128015811,
           1.163559605063605
          ],
          "colorbar": {
           "thickness": 10,
           "title": {
            "side": "right",
            "text": "Bus voltage [pu]"
           },
           "x": 1
          },
          "colorscale": [
           [
            0,
            "rgb(0,0,131)"
           ],
           [
            0.2,
            "rgb(0,60,170)"
           ],
           [
            0.4,
            "rgb(5,255,255)"
           ],
           [
            0.6,
            "rgb(255,255,0)"
           ],
           [
            0.8,
            "rgb(250,0,0)"
           ],
           [
            1,
            "rgb(128,0,0)"
           ]
          ],
          "size": 20,
          "symbol": "circle"
         },
         "mode": "markers",
         "name": "buses",
         "text": [
          "Bus 1<br>V: 1.2 pu",
          "Bus 2<br>V: 1.193 pu",
          "Bus 3<br>V: 1.164 pu"
         ],
         "type": "scatter",
         "x": [
          0,
          0,
          0
         ],
         "y": [
          0,
          -1,
          -2
         ]
        }
       ],
       "layout": {
        "font": {
         "size": 15
        },
        "height": 400,
        "hovermode": "closest",
        "legend": {
         "font": {
          "size": 12
         },
         "itemsizing": "constant"
        },
        "margin": {
         "b": 5,
         "l": 5,
         "r": 5,
         "t": 30
        },
        "paper_bgcolor": "white",
        "plot_bgcolor": "white",
        "showlegend": false,
        "template": {
         "data": {
          "bar": [
           {
            "error_x": {
             "color": "#2a3f5f"
            },
            "error_y": {
             "color": "#2a3f5f"
            },
            "marker": {
             "line": {
              "color": "#E5ECF6",
              "width": 0.5
             },
             "pattern": {
              "fillmode": "overlay",
              "size": 10,
              "solidity": 0.2
             }
            },
            "type": "bar"
           }
          ],
          "barpolar": [
           {
            "marker": {
             "line": {
              "color": "#E5ECF6",
              "width": 0.5
             },
             "pattern": {
              "fillmode": "overlay",
              "size": 10,
              "solidity": 0.2
             }
            },
            "type": "barpolar"
           }
          ],
          "carpet": [
           {
            "aaxis": {
             "endlinecolor": "#2a3f5f",
             "gridcolor": "white",
             "linecolor": "white",
             "minorgridcolor": "white",
             "startlinecolor": "#2a3f5f"
            },
            "baxis": {
             "endlinecolor": "#2a3f5f",
             "gridcolor": "white",
             "linecolor": "white",
             "minorgridcolor": "white",
             "startlinecolor": "#2a3f5f"
            },
            "type": "carpet"
           }
          ],
          "choropleth": [
           {
            "colorbar": {
             "outlinewidth": 0,
             "ticks": ""
            },
            "type": "choropleth"
           }
          ],
          "contour": [
           {
            "colorbar": {
             "outlinewidth": 0,
             "ticks": ""
            },
            "colorscale": [
             [
              0,
              "#0d0887"
             ],
             [
              0.1111111111111111,
              "#46039f"
             ],
             [
              0.2222222222222222,
              "#7201a8"
             ],
             [
              0.3333333333333333,
              "#9c179e"
             ],
             [
              0.4444444444444444,
              "#bd3786"
             ],
             [
              0.5555555555555556,
              "#d8576b"
             ],
             [
              0.6666666666666666,
              "#ed7953"
             ],
             [
              0.7777777777777778,
              "#fb9f3a"
             ],
             [
              0.8888888888888888,
              "#fdca26"
             ],
             [
              1,
              "#f0f921"
             ]
            ],
            "type": "contour"
           }
          ],
          "contourcarpet": [
           {
            "colorbar": {
             "outlinewidth": 0,
             "ticks": ""
            },
            "type": "contourcarpet"
           }
          ],
          "heatmap": [
           {
            "colorbar": {
             "outlinewidth": 0,
             "ticks": ""
            },
            "colorscale": [
             [
              0,
              "#0d0887"
             ],
             [
              0.1111111111111111,
              "#46039f"
             ],
             [
              0.2222222222222222,
              "#7201a8"
             ],
             [
              0.3333333333333333,
              "#9c179e"
             ],
             [
              0.4444444444444444,
              "#bd3786"
             ],
             [
              0.5555555555555556,
              "#d8576b"
             ],
             [
              0.6666666666666666,
              "#ed7953"
             ],
             [
              0.7777777777777778,
              "#fb9f3a"
             ],
             [
              0.8888888888888888,
              "#fdca26"
             ],
             [
              1,
              "#f0f921"
             ]
            ],
            "type": "heatmap"
           }
          ],
          "heatmapgl": [
           {
            "colorbar": {
             "outlinewidth": 0,
             "ticks": ""
            },
            "colorscale": [
             [
              0,
              "#0d0887"
             ],
             [
              0.1111111111111111,
              "#46039f"
             ],
             [
              0.2222222222222222,
              "#7201a8"
             ],
             [
              0.3333333333333333,
              "#9c179e"
             ],
             [
              0.4444444444444444,
              "#bd3786"
             ],
             [
              0.5555555555555556,
              "#d8576b"
             ],
             [
              0.6666666666666666,
              "#ed7953"
             ],
             [
              0.7777777777777778,
              "#fb9f3a"
             ],
             [
              0.8888888888888888,
              "#fdca26"
             ],
             [
              1,
              "#f0f921"
             ]
            ],
            "type": "heatmapgl"
           }
          ],
          "histogram": [
           {
            "marker": {
             "pattern": {
              "fillmode": "overlay",
              "size": 10,
              "solidity": 0.2
             }
            },
            "type": "histogram"
           }
          ],
          "histogram2d": [
           {
            "colorbar": {
             "outlinewidth": 0,
             "ticks": ""
            },
            "colorscale": [
             [
              0,
              "#0d0887"
             ],
             [
              0.1111111111111111,
              "#46039f"
             ],
             [
              0.2222222222222222,
              "#7201a8"
             ],
             [
              0.3333333333333333,
              "#9c179e"
             ],
             [
              0.4444444444444444,
              "#bd3786"
             ],
             [
              0.5555555555555556,
              "#d8576b"
             ],
             [
              0.6666666666666666,
              "#ed7953"
             ],
             [
              0.7777777777777778,
              "#fb9f3a"
             ],
             [
              0.8888888888888888,
              "#fdca26"
             ],
             [
              1,
              "#f0f921"
             ]
            ],
            "type": "histogram2d"
           }
          ],
          "histogram2dcontour": [
           {
            "colorbar": {
             "outlinewidth": 0,
             "ticks": ""
            },
            "colorscale": [
             [
              0,
              "#0d0887"
             ],
             [
              0.1111111111111111,
              "#46039f"
             ],
             [
              0.2222222222222222,
              "#7201a8"
             ],
             [
              0.3333333333333333,
              "#9c179e"
             ],
             [
              0.4444444444444444,
              "#bd3786"
             ],
             [
              0.5555555555555556,
              "#d8576b"
             ],
             [
              0.6666666666666666,
              "#ed7953"
             ],
             [
              0.7777777777777778,
              "#fb9f3a"
             ],
             [
              0.8888888888888888,
              "#fdca26"
             ],
             [
              1,
              "#f0f921"
             ]
            ],
            "type": "histogram2dcontour"
           }
          ],
          "mesh3d": [
           {
            "colorbar": {
             "outlinewidth": 0,
             "ticks": ""
            },
            "type": "mesh3d"
           }
          ],
          "parcoords": [
           {
            "line": {
             "colorbar": {
              "outlinewidth": 0,
              "ticks": ""
             }
            },
            "type": "parcoords"
           }
          ],
          "pie": [
           {
            "automargin": true,
            "type": "pie"
           }
          ],
          "scatter": [
           {
            "fillpattern": {
             "fillmode": "overlay",
             "size": 10,
             "solidity": 0.2
            },
            "type": "scatter"
           }
          ],
          "scatter3d": [
           {
            "line": {
             "colorbar": {
              "outlinewidth": 0,
              "ticks": ""
             }
            },
            "marker": {
             "colorbar": {
              "outlinewidth": 0,
              "ticks": ""
             }
            },
            "type": "scatter3d"
           }
          ],
          "scattercarpet": [
           {
            "marker": {
             "colorbar": {
              "outlinewidth": 0,
              "ticks": ""
             }
            },
            "type": "scattercarpet"
           }
          ],
          "scattergeo": [
           {
            "marker": {
             "colorbar": {
              "outlinewidth": 0,
              "ticks": ""
             }
            },
            "type": "scattergeo"
           }
          ],
          "scattergl": [
           {
            "marker": {
             "colorbar": {
              "outlinewidth": 0,
              "ticks": ""
             }
            },
            "type": "scattergl"
           }
          ],
          "scattermapbox": [
           {
            "marker": {
             "colorbar": {
              "outlinewidth": 0,
              "ticks": ""
             }
            },
            "type": "scattermapbox"
           }
          ],
          "scatterpolar": [
           {
            "marker": {
             "colorbar": {
              "outlinewidth": 0,
              "ticks": ""
             }
            },
            "type": "scatterpolar"
           }
          ],
          "scatterpolargl": [
           {
            "marker": {
             "colorbar": {
              "outlinewidth": 0,
              "ticks": ""
             }
            },
            "type": "scatterpolargl"
           }
          ],
          "scatterternary": [
           {
            "marker": {
             "colorbar": {
              "outlinewidth": 0,
              "ticks": ""
             }
            },
            "type": "scatterternary"
           }
          ],
          "surface": [
           {
            "colorbar": {
             "outlinewidth": 0,
             "ticks": ""
            },
            "colorscale": [
             [
              0,
              "#0d0887"
             ],
             [
              0.1111111111111111,
              "#46039f"
             ],
             [
              0.2222222222222222,
              "#7201a8"
             ],
             [
              0.3333333333333333,
              "#9c179e"
             ],
             [
              0.4444444444444444,
              "#bd3786"
             ],
             [
              0.5555555555555556,
              "#d8576b"
             ],
             [
              0.6666666666666666,
              "#ed7953"
             ],
             [
              0.7777777777777778,
              "#fb9f3a"
             ],
             [
              0.8888888888888888,
              "#fdca26"
             ],
             [
              1,
              "#f0f921"
             ]
            ],
            "type": "surface"
           }
          ],
          "table": [
           {
            "cells": {
             "fill": {
              "color": "#EBF0F8"
             },
             "line": {
              "color": "white"
             }
            },
            "header": {
             "fill": {
              "color": "#C8D4E3"
             },
             "line": {
              "color": "white"
             }
            },
            "type": "table"
           }
          ]
         },
         "layout": {
          "annotationdefaults": {
           "arrowcolor": "#2a3f5f",
           "arrowhead": 0,
           "arrowwidth": 1
          },
          "autotypenumbers": "strict",
          "coloraxis": {
           "colorbar": {
            "outlinewidth": 0,
            "ticks": ""
           }
          },
          "colorscale": {
           "diverging": [
            [
             0,
             "#8e0152"
            ],
            [
             0.1,
             "#c51b7d"
            ],
            [
             0.2,
             "#de77ae"
            ],
            [
             0.3,
             "#f1b6da"
            ],
            [
             0.4,
             "#fde0ef"
            ],
            [
             0.5,
             "#f7f7f7"
            ],
            [
             0.6,
             "#e6f5d0"
            ],
            [
             0.7,
             "#b8e186"
            ],
            [
             0.8,
             "#7fbc41"
            ],
            [
             0.9,
             "#4d9221"
            ],
            [
             1,
             "#276419"
            ]
           ],
           "sequential": [
            [
             0,
             "#0d0887"
            ],
            [
             0.1111111111111111,
             "#46039f"
            ],
            [
             0.2222222222222222,
             "#7201a8"
            ],
            [
             0.3333333333333333,
             "#9c179e"
            ],
            [
             0.4444444444444444,
             "#bd3786"
            ],
            [
             0.5555555555555556,
             "#d8576b"
            ],
            [
             0.6666666666666666,
             "#ed7953"
            ],
            [
             0.7777777777777778,
             "#fb9f3a"
            ],
            [
             0.8888888888888888,
             "#fdca26"
            ],
            [
             1,
             "#f0f921"
            ]
           ],
           "sequentialminus": [
            [
             0,
             "#0d0887"
            ],
            [
             0.1111111111111111,
             "#46039f"
            ],
            [
             0.2222222222222222,
             "#7201a8"
            ],
            [
             0.3333333333333333,
             "#9c179e"
            ],
            [
             0.4444444444444444,
             "#bd3786"
            ],
            [
             0.5555555555555556,
             "#d8576b"
            ],
            [
             0.6666666666666666,
             "#ed7953"
            ],
            [
             0.7777777777777778,
             "#fb9f3a"
            ],
            [
             0.8888888888888888,
             "#fdca26"
            ],
            [
             1,
             "#f0f921"
            ]
           ]
          },
          "colorway": [
           "#636efa",
           "#EF553B",
           "#00cc96",
           "#ab63fa",
           "#FFA15A",
           "#19d3f3",
           "#FF6692",
           "#B6E880",
           "#FF97FF",
           "#FECB52"
          ],
          "font": {
           "color": "#2a3f5f"
          },
          "geo": {
           "bgcolor": "white",
           "lakecolor": "white",
           "landcolor": "#E5ECF6",
           "showlakes": true,
           "showland": true,
           "subunitcolor": "white"
          },
          "hoverlabel": {
           "align": "left"
          },
          "hovermode": "closest",
          "mapbox": {
           "style": "light"
          },
          "paper_bgcolor": "white",
          "plot_bgcolor": "#E5ECF6",
          "polar": {
           "angularaxis": {
            "gridcolor": "white",
            "linecolor": "white",
            "ticks": ""
           },
           "bgcolor": "#E5ECF6",
           "radialaxis": {
            "gridcolor": "white",
            "linecolor": "white",
            "ticks": ""
           }
          },
          "scene": {
           "xaxis": {
            "backgroundcolor": "#E5ECF6",
            "gridcolor": "white",
            "gridwidth": 2,
            "linecolor": "white",
            "showbackground": true,
            "ticks": "",
            "zerolinecolor": "white"
           },
           "yaxis": {
            "backgroundcolor": "#E5ECF6",
            "gridcolor": "white",
            "gridwidth": 2,
            "linecolor": "white",
            "showbackground": true,
            "ticks": "",
            "zerolinecolor": "white"
           },
           "zaxis": {
            "backgroundcolor": "#E5ECF6",
            "gridcolor": "white",
            "gridwidth": 2,
            "linecolor": "white",
            "showbackground": true,
            "ticks": "",
            "zerolinecolor": "white"
           }
          },
          "shapedefaults": {
           "line": {
            "color": "#2a3f5f"
           }
          },
          "ternary": {
           "aaxis": {
            "gridcolor": "white",
            "linecolor": "white",
            "ticks": ""
           },
           "baxis": {
            "gridcolor": "white",
            "linecolor": "white",
            "ticks": ""
           },
           "bgcolor": "#E5ECF6",
           "caxis": {
            "gridcolor": "white",
            "linecolor": "white",
            "ticks": ""
           }
          },
          "title": {
           "x": 0.05
          },
          "xaxis": {
           "automargin": true,
           "gridcolor": "white",
           "linecolor": "white",
           "ticks": "",
           "title": {
            "standoff": 15
           },
           "zerolinecolor": "white",
           "zerolinewidth": 2
          },
          "yaxis": {
           "automargin": true,
           "gridcolor": "white",
           "linecolor": "white",
           "ticks": "",
           "title": {
            "standoff": 15
           },
           "zerolinecolor": "white",
           "zerolinewidth": 2
          }
         }
        },
        "title": {
         "text": "<b>Powerflow results at 12h00<b>",
         "x": 0.5,
         "xanchor": "center",
         "y": 0.97,
         "yanchor": "top"
        },
        "width": 770,
        "xaxis": {
         "showgrid": false,
         "showticklabels": false,
         "tickfont": {
          "family": "Arial Black",
          "size": 12
         },
         "title": {
          "font": {
           "size": 12
          }
         },
         "zeroline": false
        },
        "yaxis": {
         "showgrid": false,
         "showticklabels": false,
         "tickfont": {
          "family": "Arial Black",
          "size": 12
         },
         "title": {
          "font": {
           "size": 12
          }
         },
         "zeroline": false
        }
       }
      },
      "text/html": [
       "<div>                            <div id=\"8bf484ad-0cb4-40d6-ac7a-6ae787d2577c\" class=\"plotly-graph-div\" style=\"height:400px; width:770px;\"></div>            <script type=\"text/javascript\">                require([\"plotly\"], function(Plotly) {                    window.PLOTLYENV=window.PLOTLYENV || {};                                    if (document.getElementById(\"8bf484ad-0cb4-40d6-ac7a-6ae787d2577c\")) {                    Plotly.newPlot(                        \"8bf484ad-0cb4-40d6-ac7a-6ae787d2577c\",                        [{\"hoverinfo\":\"text\",\"legendgroup\":\"Transformers\",\"line\":{\"color\":\"rgb(0.0,68.49999999999997,255.0)\",\"width\":7},\"mode\":\"lines\",\"name\":\"Transformers\",\"showlegend\":true,\"text\":\"Trafo\\u003cbr\\u003eLoading: 19.4 %\",\"x\":[0.0,0.0,0.0],\"y\":[-0.0,-0.5,-1.0],\"type\":\"scatter\"},{\"hoverinfo\":\"text\",\"legendgroup\":\"Transformers\",\"marker\":{\"color\":\"rgb(0.0,68.49999999999997,255.0)\",\"size\":1,\"symbol\":\"circle\"},\"mode\":\"markers\",\"name\":\"edge_center\",\"showlegend\":false,\"text\":[\"Trafo\\u003cbr\\u003eLoading: 19.4 %\"],\"x\":[0.0],\"y\":[-0.5],\"type\":\"scatter\"},{\"hoverinfo\":\"text\",\"legendgroup\":\"lines\",\"line\":{\"color\":\"rgb(255.0,129.8148148148149,0.0)\",\"width\":3},\"mode\":\"lines\",\"name\":\"lines\",\"showlegend\":true,\"text\":\"Line\\u003cbr\\u003eLoading: 77.2 %\",\"x\":[0.0,0.0,0.0],\"y\":[-1.0,-1.5,-2.0],\"type\":\"scatter\"},{\"marker\":{\"cmax\":100,\"cmin\":0,\"color\":\"rgb(255,255,255)\",\"colorbar\":{\"thickness\":10,\"title\":{\"side\":\"right\",\"text\":\"Equipment loading [%]\"},\"x\":1.15},\"colorscale\":[[0.0,\"rgb(0,0,131)\"],[0.2,\"rgb(0,60,170)\"],[0.4,\"rgb(5,255,255)\"],[0.6,\"rgb(255,255,0)\"],[0.8,\"rgb(250,0,0)\"],[1.0,\"rgb(128,0,0)\"]],\"opacity\":0,\"size\":0},\"mode\":\"markers\",\"x\":[0.0],\"y\":[-1.0],\"type\":\"scatter\"},{\"hoverinfo\":\"text\",\"legendgroup\":\"lines\",\"marker\":{\"color\":\"rgb(128, 128, 128)\",\"size\":1,\"symbol\":\"circle\"},\"mode\":\"markers\",\"name\":\"edge_center\",\"showlegend\":false,\"text\":[\"Line\\u003cbr\\u003eLoading: 77.2 %\"],\"x\":[0.0],\"y\":[-1.5],\"type\":\"scatter\"},{\"hoverinfo\":\"text\",\"marker\":{\"color\":\"rgb(191, 191, 0)\",\"size\":30,\"symbol\":\"square\"},\"mode\":\"markers\",\"name\":\"Ext grid\",\"text\":[\"ext_grid\"],\"x\":[0.0],\"y\":[-0.0],\"type\":\"scatter\"},{\"hoverinfo\":\"text\",\"marker\":{\"cmax\":1.15,\"cmin\":0.85,\"color\":[1.2,1.1926394128015811,1.163559605063605],\"colorbar\":{\"thickness\":10,\"title\":{\"side\":\"right\",\"text\":\"Bus voltage [pu]\"},\"x\":1.0},\"colorscale\":[[0.0,\"rgb(0,0,131)\"],[0.2,\"rgb(0,60,170)\"],[0.4,\"rgb(5,255,255)\"],[0.6,\"rgb(255,255,0)\"],[0.8,\"rgb(250,0,0)\"],[1.0,\"rgb(128,0,0)\"]],\"size\":20,\"symbol\":\"circle\"},\"mode\":\"markers\",\"name\":\"buses\",\"text\":[\"Bus 1\\u003cbr\\u003eV: 1.2 pu\",\"Bus 2\\u003cbr\\u003eV: 1.193 pu\",\"Bus 3\\u003cbr\\u003eV: 1.164 pu\"],\"x\":[0.0,0.0,0.0],\"y\":[-0.0,-1.0,-2.0],\"type\":\"scatter\"}],                        {\"hovermode\":\"closest\",\"legend\":{\"itemsizing\":\"constant\",\"font\":{\"size\":12}},\"margin\":{\"b\":5,\"l\":5,\"r\":5,\"t\":30},\"showlegend\":false,\"xaxis\":{\"showgrid\":false,\"showticklabels\":false,\"zeroline\":false,\"tickfont\":{\"size\":12,\"family\":\"Arial Black\"},\"title\":{\"font\":{\"size\":12}}},\"yaxis\":{\"showgrid\":false,\"showticklabels\":false,\"zeroline\":false,\"tickfont\":{\"size\":12,\"family\":\"Arial Black\"},\"title\":{\"font\":{\"size\":12}}},\"template\":{\"data\":{\"histogram2dcontour\":[{\"type\":\"histogram2dcontour\",\"colorbar\":{\"outlinewidth\":0,\"ticks\":\"\"},\"colorscale\":[[0.0,\"#0d0887\"],[0.1111111111111111,\"#46039f\"],[0.2222222222222222,\"#7201a8\"],[0.3333333333333333,\"#9c179e\"],[0.4444444444444444,\"#bd3786\"],[0.5555555555555556,\"#d8576b\"],[0.6666666666666666,\"#ed7953\"],[0.7777777777777778,\"#fb9f3a\"],[0.8888888888888888,\"#fdca26\"],[1.0,\"#f0f921\"]]}],\"choropleth\":[{\"type\":\"choropleth\",\"colorbar\":{\"outlinewidth\":0,\"ticks\":\"\"}}],\"histogram2d\":[{\"type\":\"histogram2d\",\"colorbar\":{\"outlinewidth\":0,\"ticks\":\"\"},\"colorscale\":[[0.0,\"#0d0887\"],[0.1111111111111111,\"#46039f\"],[0.2222222222222222,\"#7201a8\"],[0.3333333333333333,\"#9c179e\"],[0.4444444444444444,\"#bd3786\"],[0.5555555555555556,\"#d8576b\"],[0.6666666666666666,\"#ed7953\"],[0.7777777777777778,\"#fb9f3a\"],[0.8888888888888888,\"#fdca26\"],[1.0,\"#f0f921\"]]}],\"heatmap\":[{\"type\":\"heatmap\",\"colorbar\":{\"outlinewidth\":0,\"ticks\":\"\"},\"colorscale\":[[0.0,\"#0d0887\"],[0.1111111111111111,\"#46039f\"],[0.2222222222222222,\"#7201a8\"],[0.3333333333333333,\"#9c179e\"],[0.4444444444444444,\"#bd3786\"],[0.5555555555555556,\"#d8576b\"],[0.6666666666666666,\"#ed7953\"],[0.7777777777777778,\"#fb9f3a\"],[0.8888888888888888,\"#fdca26\"],[1.0,\"#f0f921\"]]}],\"heatmapgl\":[{\"type\":\"heatmapgl\",\"colorbar\":{\"outlinewidth\":0,\"ticks\":\"\"},\"colorscale\":[[0.0,\"#0d0887\"],[0.1111111111111111,\"#46039f\"],[0.2222222222222222,\"#7201a8\"],[0.3333333333333333,\"#9c179e\"],[0.4444444444444444,\"#bd3786\"],[0.5555555555555556,\"#d8576b\"],[0.6666666666666666,\"#ed7953\"],[0.7777777777777778,\"#fb9f3a\"],[0.8888888888888888,\"#fdca26\"],[1.0,\"#f0f921\"]]}],\"contourcarpet\":[{\"type\":\"contourcarpet\",\"colorbar\":{\"outlinewidth\":0,\"ticks\":\"\"}}],\"contour\":[{\"type\":\"contour\",\"colorbar\":{\"outlinewidth\":0,\"ticks\":\"\"},\"colorscale\":[[0.0,\"#0d0887\"],[0.1111111111111111,\"#46039f\"],[0.2222222222222222,\"#7201a8\"],[0.3333333333333333,\"#9c179e\"],[0.4444444444444444,\"#bd3786\"],[0.5555555555555556,\"#d8576b\"],[0.6666666666666666,\"#ed7953\"],[0.7777777777777778,\"#fb9f3a\"],[0.8888888888888888,\"#fdca26\"],[1.0,\"#f0f921\"]]}],\"surface\":[{\"type\":\"surface\",\"colorbar\":{\"outlinewidth\":0,\"ticks\":\"\"},\"colorscale\":[[0.0,\"#0d0887\"],[0.1111111111111111,\"#46039f\"],[0.2222222222222222,\"#7201a8\"],[0.3333333333333333,\"#9c179e\"],[0.4444444444444444,\"#bd3786\"],[0.5555555555555556,\"#d8576b\"],[0.6666666666666666,\"#ed7953\"],[0.7777777777777778,\"#fb9f3a\"],[0.8888888888888888,\"#fdca26\"],[1.0,\"#f0f921\"]]}],\"mesh3d\":[{\"type\":\"mesh3d\",\"colorbar\":{\"outlinewidth\":0,\"ticks\":\"\"}}],\"scatter\":[{\"fillpattern\":{\"fillmode\":\"overlay\",\"size\":10,\"solidity\":0.2},\"type\":\"scatter\"}],\"parcoords\":[{\"type\":\"parcoords\",\"line\":{\"colorbar\":{\"outlinewidth\":0,\"ticks\":\"\"}}}],\"scatterpolargl\":[{\"type\":\"scatterpolargl\",\"marker\":{\"colorbar\":{\"outlinewidth\":0,\"ticks\":\"\"}}}],\"bar\":[{\"error_x\":{\"color\":\"#2a3f5f\"},\"error_y\":{\"color\":\"#2a3f5f\"},\"marker\":{\"line\":{\"color\":\"#E5ECF6\",\"width\":0.5},\"pattern\":{\"fillmode\":\"overlay\",\"size\":10,\"solidity\":0.2}},\"type\":\"bar\"}],\"scattergeo\":[{\"type\":\"scattergeo\",\"marker\":{\"colorbar\":{\"outlinewidth\":0,\"ticks\":\"\"}}}],\"scatterpolar\":[{\"type\":\"scatterpolar\",\"marker\":{\"colorbar\":{\"outlinewidth\":0,\"ticks\":\"\"}}}],\"histogram\":[{\"marker\":{\"pattern\":{\"fillmode\":\"overlay\",\"size\":10,\"solidity\":0.2}},\"type\":\"histogram\"}],\"scattergl\":[{\"type\":\"scattergl\",\"marker\":{\"colorbar\":{\"outlinewidth\":0,\"ticks\":\"\"}}}],\"scatter3d\":[{\"type\":\"scatter3d\",\"line\":{\"colorbar\":{\"outlinewidth\":0,\"ticks\":\"\"}},\"marker\":{\"colorbar\":{\"outlinewidth\":0,\"ticks\":\"\"}}}],\"scattermapbox\":[{\"type\":\"scattermapbox\",\"marker\":{\"colorbar\":{\"outlinewidth\":0,\"ticks\":\"\"}}}],\"scatterternary\":[{\"type\":\"scatterternary\",\"marker\":{\"colorbar\":{\"outlinewidth\":0,\"ticks\":\"\"}}}],\"scattercarpet\":[{\"type\":\"scattercarpet\",\"marker\":{\"colorbar\":{\"outlinewidth\":0,\"ticks\":\"\"}}}],\"carpet\":[{\"aaxis\":{\"endlinecolor\":\"#2a3f5f\",\"gridcolor\":\"white\",\"linecolor\":\"white\",\"minorgridcolor\":\"white\",\"startlinecolor\":\"#2a3f5f\"},\"baxis\":{\"endlinecolor\":\"#2a3f5f\",\"gridcolor\":\"white\",\"linecolor\":\"white\",\"minorgridcolor\":\"white\",\"startlinecolor\":\"#2a3f5f\"},\"type\":\"carpet\"}],\"table\":[{\"cells\":{\"fill\":{\"color\":\"#EBF0F8\"},\"line\":{\"color\":\"white\"}},\"header\":{\"fill\":{\"color\":\"#C8D4E3\"},\"line\":{\"color\":\"white\"}},\"type\":\"table\"}],\"barpolar\":[{\"marker\":{\"line\":{\"color\":\"#E5ECF6\",\"width\":0.5},\"pattern\":{\"fillmode\":\"overlay\",\"size\":10,\"solidity\":0.2}},\"type\":\"barpolar\"}],\"pie\":[{\"automargin\":true,\"type\":\"pie\"}]},\"layout\":{\"autotypenumbers\":\"strict\",\"colorway\":[\"#636efa\",\"#EF553B\",\"#00cc96\",\"#ab63fa\",\"#FFA15A\",\"#19d3f3\",\"#FF6692\",\"#B6E880\",\"#FF97FF\",\"#FECB52\"],\"font\":{\"color\":\"#2a3f5f\"},\"hovermode\":\"closest\",\"hoverlabel\":{\"align\":\"left\"},\"paper_bgcolor\":\"white\",\"plot_bgcolor\":\"#E5ECF6\",\"polar\":{\"bgcolor\":\"#E5ECF6\",\"angularaxis\":{\"gridcolor\":\"white\",\"linecolor\":\"white\",\"ticks\":\"\"},\"radialaxis\":{\"gridcolor\":\"white\",\"linecolor\":\"white\",\"ticks\":\"\"}},\"ternary\":{\"bgcolor\":\"#E5ECF6\",\"aaxis\":{\"gridcolor\":\"white\",\"linecolor\":\"white\",\"ticks\":\"\"},\"baxis\":{\"gridcolor\":\"white\",\"linecolor\":\"white\",\"ticks\":\"\"},\"caxis\":{\"gridcolor\":\"white\",\"linecolor\":\"white\",\"ticks\":\"\"}},\"coloraxis\":{\"colorbar\":{\"outlinewidth\":0,\"ticks\":\"\"}},\"colorscale\":{\"sequential\":[[0.0,\"#0d0887\"],[0.1111111111111111,\"#46039f\"],[0.2222222222222222,\"#7201a8\"],[0.3333333333333333,\"#9c179e\"],[0.4444444444444444,\"#bd3786\"],[0.5555555555555556,\"#d8576b\"],[0.6666666666666666,\"#ed7953\"],[0.7777777777777778,\"#fb9f3a\"],[0.8888888888888888,\"#fdca26\"],[1.0,\"#f0f921\"]],\"sequentialminus\":[[0.0,\"#0d0887\"],[0.1111111111111111,\"#46039f\"],[0.2222222222222222,\"#7201a8\"],[0.3333333333333333,\"#9c179e\"],[0.4444444444444444,\"#bd3786\"],[0.5555555555555556,\"#d8576b\"],[0.6666666666666666,\"#ed7953\"],[0.7777777777777778,\"#fb9f3a\"],[0.8888888888888888,\"#fdca26\"],[1.0,\"#f0f921\"]],\"diverging\":[[0,\"#8e0152\"],[0.1,\"#c51b7d\"],[0.2,\"#de77ae\"],[0.3,\"#f1b6da\"],[0.4,\"#fde0ef\"],[0.5,\"#f7f7f7\"],[0.6,\"#e6f5d0\"],[0.7,\"#b8e186\"],[0.8,\"#7fbc41\"],[0.9,\"#4d9221\"],[1,\"#276419\"]]},\"xaxis\":{\"gridcolor\":\"white\",\"linecolor\":\"white\",\"ticks\":\"\",\"title\":{\"standoff\":15},\"zerolinecolor\":\"white\",\"automargin\":true,\"zerolinewidth\":2},\"yaxis\":{\"gridcolor\":\"white\",\"linecolor\":\"white\",\"ticks\":\"\",\"title\":{\"standoff\":15},\"zerolinecolor\":\"white\",\"automargin\":true,\"zerolinewidth\":2},\"scene\":{\"xaxis\":{\"backgroundcolor\":\"#E5ECF6\",\"gridcolor\":\"white\",\"linecolor\":\"white\",\"showbackground\":true,\"ticks\":\"\",\"zerolinecolor\":\"white\",\"gridwidth\":2},\"yaxis\":{\"backgroundcolor\":\"#E5ECF6\",\"gridcolor\":\"white\",\"linecolor\":\"white\",\"showbackground\":true,\"ticks\":\"\",\"zerolinecolor\":\"white\",\"gridwidth\":2},\"zaxis\":{\"backgroundcolor\":\"#E5ECF6\",\"gridcolor\":\"white\",\"linecolor\":\"white\",\"showbackground\":true,\"ticks\":\"\",\"zerolinecolor\":\"white\",\"gridwidth\":2}},\"shapedefaults\":{\"line\":{\"color\":\"#2a3f5f\"}},\"annotationdefaults\":{\"arrowcolor\":\"#2a3f5f\",\"arrowhead\":0,\"arrowwidth\":1},\"geo\":{\"bgcolor\":\"white\",\"landcolor\":\"#E5ECF6\",\"subunitcolor\":\"white\",\"showland\":true,\"showlakes\":true,\"lakecolor\":\"white\"},\"title\":{\"x\":0.05},\"mapbox\":{\"style\":\"light\"}}},\"font\":{\"size\":15},\"paper_bgcolor\":\"white\",\"plot_bgcolor\":\"white\",\"width\":770,\"height\":400,\"title\":{\"text\":\"\\u003cb\\u003ePowerflow results at 12h00\\u003cb\\u003e\",\"y\":0.97,\"x\":0.5,\"xanchor\":\"center\",\"yanchor\":\"top\"}},                        {\"responsive\": true}                    ).then(function(){\n",
       "                            \n",
       "var gd = document.getElementById('8bf484ad-0cb4-40d6-ac7a-6ae787d2577c');\n",
       "var x = new MutationObserver(function (mutations, observer) {{\n",
       "        var display = window.getComputedStyle(gd).display;\n",
       "        if (!display || display === 'none') {{\n",
       "            console.log([gd, 'removed!']);\n",
       "            Plotly.purge(gd);\n",
       "            observer.disconnect();\n",
       "        }}\n",
       "}});\n",
       "\n",
       "// Listen for the removal of the full notebook cells\n",
       "var notebookContainer = gd.closest('#notebook-container');\n",
       "if (notebookContainer) {{\n",
       "    x.observe(notebookContainer, {childList: true});\n",
       "}}\n",
       "\n",
       "// Listen for the clearing of the current output cell\n",
       "var outputEl = gd.closest('.output');\n",
       "if (outputEl) {{\n",
       "    x.observe(outputEl, {childList: true});\n",
       "}}\n",
       "\n",
       "                        })                };                });            </script>        </div>"
      ]
     },
     "metadata": {},
     "output_type": "display_data"
    }
   ],
   "source": [
    "result_df = pp_sim.run_time_simulation(net=net)\n",
    "print()\n",
    "pp_plot.plot_timeseries_result(data_df=result_df[\"res_bus.vm_pu\"], ylabel=\"V [pu]\",\n",
    "                               plot_title=\"Bus voltage\", filename=\"voltage_result\")\n",
    "print()\n",
    "pp_plot.plot_timeseries_result(data_df=result_df[\"res_line.p_from_mw\"], ylabel=\"P [MW]\",\n",
    "                               plot_title=\"line power\", filename=\"line_result\")\n",
    "print()\n",
    "pp_plot.plot_timestamps_powerflow_result(net=net, filename=\"net_result_12h\", plot_time=time(hour=12))"
   ]
  },
  {
   "cell_type": "markdown",
   "id": "53d932cb",
   "metadata": {},
   "source": [
    "We can use the second power profile loaded for the excel file. To do this, we just need to modify the `profile_mapping` parameter before applying once again the power profile:"
   ]
  },
  {
   "cell_type": "code",
   "execution_count": 64,
   "id": "8691ba18",
   "metadata": {},
   "outputs": [
    {
     "name": "stdout",
     "output_type": "stream",
     "text": [
      "\n"
     ]
    },
    {
     "data": {
      "application/vnd.plotly.v1+json": {
       "config": {
        "plotlyServerURL": "https://plot.ly"
       },
       "data": [
        {
         "hovertemplate": "<b>Bus 1<br>V [pu]: %{y:.2f}<br>Time: %{text}<b><extra></extra>",
         "mode": "lines",
         "name": "<b>Bus 1<b>",
         "text": [
          "00h00",
          "01h00",
          "02h00",
          "03h00",
          "04h00",
          "05h00",
          "06h00",
          "07h00",
          "08h00",
          "09h00",
          "10h00",
          "11h00",
          "12h00",
          "13h00",
          "14h00",
          "15h00",
          "16h00",
          "17h00",
          "18h00",
          "19h00",
          "20h00",
          "21h00",
          "22h00",
          "23h00"
         ],
         "type": "scatter",
         "x": [
          0,
          1,
          2,
          3,
          4,
          5,
          6,
          7,
          8,
          9,
          10,
          11,
          12,
          13,
          14,
          15,
          16,
          17,
          18,
          19,
          20,
          21,
          22,
          23
         ],
         "y": [
          1.2,
          1.2,
          1.2,
          1.2,
          1.2,
          1.2,
          1.2,
          1.2,
          1.2,
          1.2,
          1.2,
          1.2,
          1.2,
          1.2,
          1.2,
          1.2,
          1.2,
          1.2,
          1.2,
          1.2,
          1.2,
          1.2,
          1.2,
          1.2
         ]
        },
        {
         "hovertemplate": "<b>Bus 2<br>V [pu]: %{y:.2f}<br>Time: %{text}<b><extra></extra>",
         "mode": "lines",
         "name": "<b>Bus 2<b>",
         "text": [
          "00h00",
          "01h00",
          "02h00",
          "03h00",
          "04h00",
          "05h00",
          "06h00",
          "07h00",
          "08h00",
          "09h00",
          "10h00",
          "11h00",
          "12h00",
          "13h00",
          "14h00",
          "15h00",
          "16h00",
          "17h00",
          "18h00",
          "19h00",
          "20h00",
          "21h00",
          "22h00",
          "23h00"
         ],
         "type": "scatter",
         "x": [
          0,
          1,
          2,
          3,
          4,
          5,
          6,
          7,
          8,
          9,
          10,
          11,
          12,
          13,
          14,
          15,
          16,
          17,
          18,
          19,
          20,
          21,
          22,
          23
         ],
         "y": [
          1.1921580824241444,
          1.1917258286601906,
          1.1916453471987696,
          1.1920673460386855,
          1.1930631136979615,
          1.193182578921796,
          1.1936093476633087,
          1.194850048914393,
          1.1962923970140809,
          1.1970109235633541,
          1.1967246819635202,
          1.1965415590017017,
          1.1961783232685397,
          1.1954238936542478,
          1.1950942636811435,
          1.1953053897280497,
          1.194523770263461,
          1.193991476155853,
          1.1936698030909,
          1.1935450849932627,
          1.1932631124448219,
          1.1928998673045073,
          1.1926422671579404,
          1.1924737586588512
         ]
        },
        {
         "hovertemplate": "<b>Bus 3<br>V [pu]: %{y:.2f}<br>Time: %{text}<b><extra></extra>",
         "mode": "lines",
         "name": "<b>Bus 3<b>",
         "text": [
          "00h00",
          "01h00",
          "02h00",
          "03h00",
          "04h00",
          "05h00",
          "06h00",
          "07h00",
          "08h00",
          "09h00",
          "10h00",
          "11h00",
          "12h00",
          "13h00",
          "14h00",
          "15h00",
          "16h00",
          "17h00",
          "18h00",
          "19h00",
          "20h00",
          "21h00",
          "22h00",
          "23h00"
         ],
         "type": "scatter",
         "x": [
          0,
          1,
          2,
          3,
          4,
          5,
          6,
          7,
          8,
          9,
          10,
          11,
          12,
          13,
          14,
          15,
          16,
          17,
          18,
          19,
          20,
          21,
          22,
          23
         ],
         "y": [
          1.161154368204186,
          1.1589927789665015,
          1.1585901453185765,
          1.1607007440541113,
          1.1656753239918762,
          1.1662716046579595,
          1.1684007822994606,
          1.1745824914253733,
          1.1817536094680907,
          1.1853199240081933,
          1.1838996827790504,
          1.1829907490525606,
          1.181187047871245,
          1.1774375125989605,
          1.1757978383130006,
          1.17684813851974,
          1.1729580135722244,
          1.1703060142382147,
          1.1687022809031948,
          1.1680802645529336,
          1.1666735031440738,
          1.1648603356610119,
          1.1635738628963255,
          1.1627320316607166
         ]
        }
       ],
       "layout": {
        "font": {
         "size": 15
        },
        "height": 400,
        "legend": {
         "font": {
          "size": 12
         }
        },
        "margin": {
         "t": 30
        },
        "paper_bgcolor": "white",
        "plot_bgcolor": "white",
        "template": {
         "data": {
          "bar": [
           {
            "error_x": {
             "color": "#2a3f5f"
            },
            "error_y": {
             "color": "#2a3f5f"
            },
            "marker": {
             "line": {
              "color": "#E5ECF6",
              "width": 0.5
             },
             "pattern": {
              "fillmode": "overlay",
              "size": 10,
              "solidity": 0.2
             }
            },
            "type": "bar"
           }
          ],
          "barpolar": [
           {
            "marker": {
             "line": {
              "color": "#E5ECF6",
              "width": 0.5
             },
             "pattern": {
              "fillmode": "overlay",
              "size": 10,
              "solidity": 0.2
             }
            },
            "type": "barpolar"
           }
          ],
          "carpet": [
           {
            "aaxis": {
             "endlinecolor": "#2a3f5f",
             "gridcolor": "white",
             "linecolor": "white",
             "minorgridcolor": "white",
             "startlinecolor": "#2a3f5f"
            },
            "baxis": {
             "endlinecolor": "#2a3f5f",
             "gridcolor": "white",
             "linecolor": "white",
             "minorgridcolor": "white",
             "startlinecolor": "#2a3f5f"
            },
            "type": "carpet"
           }
          ],
          "choropleth": [
           {
            "colorbar": {
             "outlinewidth": 0,
             "ticks": ""
            },
            "type": "choropleth"
           }
          ],
          "contour": [
           {
            "colorbar": {
             "outlinewidth": 0,
             "ticks": ""
            },
            "colorscale": [
             [
              0,
              "#0d0887"
             ],
             [
              0.1111111111111111,
              "#46039f"
             ],
             [
              0.2222222222222222,
              "#7201a8"
             ],
             [
              0.3333333333333333,
              "#9c179e"
             ],
             [
              0.4444444444444444,
              "#bd3786"
             ],
             [
              0.5555555555555556,
              "#d8576b"
             ],
             [
              0.6666666666666666,
              "#ed7953"
             ],
             [
              0.7777777777777778,
              "#fb9f3a"
             ],
             [
              0.8888888888888888,
              "#fdca26"
             ],
             [
              1,
              "#f0f921"
             ]
            ],
            "type": "contour"
           }
          ],
          "contourcarpet": [
           {
            "colorbar": {
             "outlinewidth": 0,
             "ticks": ""
            },
            "type": "contourcarpet"
           }
          ],
          "heatmap": [
           {
            "colorbar": {
             "outlinewidth": 0,
             "ticks": ""
            },
            "colorscale": [
             [
              0,
              "#0d0887"
             ],
             [
              0.1111111111111111,
              "#46039f"
             ],
             [
              0.2222222222222222,
              "#7201a8"
             ],
             [
              0.3333333333333333,
              "#9c179e"
             ],
             [
              0.4444444444444444,
              "#bd3786"
             ],
             [
              0.5555555555555556,
              "#d8576b"
             ],
             [
              0.6666666666666666,
              "#ed7953"
             ],
             [
              0.7777777777777778,
              "#fb9f3a"
             ],
             [
              0.8888888888888888,
              "#fdca26"
             ],
             [
              1,
              "#f0f921"
             ]
            ],
            "type": "heatmap"
           }
          ],
          "heatmapgl": [
           {
            "colorbar": {
             "outlinewidth": 0,
             "ticks": ""
            },
            "colorscale": [
             [
              0,
              "#0d0887"
             ],
             [
              0.1111111111111111,
              "#46039f"
             ],
             [
              0.2222222222222222,
              "#7201a8"
             ],
             [
              0.3333333333333333,
              "#9c179e"
             ],
             [
              0.4444444444444444,
              "#bd3786"
             ],
             [
              0.5555555555555556,
              "#d8576b"
             ],
             [
              0.6666666666666666,
              "#ed7953"
             ],
             [
              0.7777777777777778,
              "#fb9f3a"
             ],
             [
              0.8888888888888888,
              "#fdca26"
             ],
             [
              1,
              "#f0f921"
             ]
            ],
            "type": "heatmapgl"
           }
          ],
          "histogram": [
           {
            "marker": {
             "pattern": {
              "fillmode": "overlay",
              "size": 10,
              "solidity": 0.2
             }
            },
            "type": "histogram"
           }
          ],
          "histogram2d": [
           {
            "colorbar": {
             "outlinewidth": 0,
             "ticks": ""
            },
            "colorscale": [
             [
              0,
              "#0d0887"
             ],
             [
              0.1111111111111111,
              "#46039f"
             ],
             [
              0.2222222222222222,
              "#7201a8"
             ],
             [
              0.3333333333333333,
              "#9c179e"
             ],
             [
              0.4444444444444444,
              "#bd3786"
             ],
             [
              0.5555555555555556,
              "#d8576b"
             ],
             [
              0.6666666666666666,
              "#ed7953"
             ],
             [
              0.7777777777777778,
              "#fb9f3a"
             ],
             [
              0.8888888888888888,
              "#fdca26"
             ],
             [
              1,
              "#f0f921"
             ]
            ],
            "type": "histogram2d"
           }
          ],
          "histogram2dcontour": [
           {
            "colorbar": {
             "outlinewidth": 0,
             "ticks": ""
            },
            "colorscale": [
             [
              0,
              "#0d0887"
             ],
             [
              0.1111111111111111,
              "#46039f"
             ],
             [
              0.2222222222222222,
              "#7201a8"
             ],
             [
              0.3333333333333333,
              "#9c179e"
             ],
             [
              0.4444444444444444,
              "#bd3786"
             ],
             [
              0.5555555555555556,
              "#d8576b"
             ],
             [
              0.6666666666666666,
              "#ed7953"
             ],
             [
              0.7777777777777778,
              "#fb9f3a"
             ],
             [
              0.8888888888888888,
              "#fdca26"
             ],
             [
              1,
              "#f0f921"
             ]
            ],
            "type": "histogram2dcontour"
           }
          ],
          "mesh3d": [
           {
            "colorbar": {
             "outlinewidth": 0,
             "ticks": ""
            },
            "type": "mesh3d"
           }
          ],
          "parcoords": [
           {
            "line": {
             "colorbar": {
              "outlinewidth": 0,
              "ticks": ""
             }
            },
            "type": "parcoords"
           }
          ],
          "pie": [
           {
            "automargin": true,
            "type": "pie"
           }
          ],
          "scatter": [
           {
            "fillpattern": {
             "fillmode": "overlay",
             "size": 10,
             "solidity": 0.2
            },
            "type": "scatter"
           }
          ],
          "scatter3d": [
           {
            "line": {
             "colorbar": {
              "outlinewidth": 0,
              "ticks": ""
             }
            },
            "marker": {
             "colorbar": {
              "outlinewidth": 0,
              "ticks": ""
             }
            },
            "type": "scatter3d"
           }
          ],
          "scattercarpet": [
           {
            "marker": {
             "colorbar": {
              "outlinewidth": 0,
              "ticks": ""
             }
            },
            "type": "scattercarpet"
           }
          ],
          "scattergeo": [
           {
            "marker": {
             "colorbar": {
              "outlinewidth": 0,
              "ticks": ""
             }
            },
            "type": "scattergeo"
           }
          ],
          "scattergl": [
           {
            "marker": {
             "colorbar": {
              "outlinewidth": 0,
              "ticks": ""
             }
            },
            "type": "scattergl"
           }
          ],
          "scattermapbox": [
           {
            "marker": {
             "colorbar": {
              "outlinewidth": 0,
              "ticks": ""
             }
            },
            "type": "scattermapbox"
           }
          ],
          "scatterpolar": [
           {
            "marker": {
             "colorbar": {
              "outlinewidth": 0,
              "ticks": ""
             }
            },
            "type": "scatterpolar"
           }
          ],
          "scatterpolargl": [
           {
            "marker": {
             "colorbar": {
              "outlinewidth": 0,
              "ticks": ""
             }
            },
            "type": "scatterpolargl"
           }
          ],
          "scatterternary": [
           {
            "marker": {
             "colorbar": {
              "outlinewidth": 0,
              "ticks": ""
             }
            },
            "type": "scatterternary"
           }
          ],
          "surface": [
           {
            "colorbar": {
             "outlinewidth": 0,
             "ticks": ""
            },
            "colorscale": [
             [
              0,
              "#0d0887"
             ],
             [
              0.1111111111111111,
              "#46039f"
             ],
             [
              0.2222222222222222,
              "#7201a8"
             ],
             [
              0.3333333333333333,
              "#9c179e"
             ],
             [
              0.4444444444444444,
              "#bd3786"
             ],
             [
              0.5555555555555556,
              "#d8576b"
             ],
             [
              0.6666666666666666,
              "#ed7953"
             ],
             [
              0.7777777777777778,
              "#fb9f3a"
             ],
             [
              0.8888888888888888,
              "#fdca26"
             ],
             [
              1,
              "#f0f921"
             ]
            ],
            "type": "surface"
           }
          ],
          "table": [
           {
            "cells": {
             "fill": {
              "color": "#EBF0F8"
             },
             "line": {
              "color": "white"
             }
            },
            "header": {
             "fill": {
              "color": "#C8D4E3"
             },
             "line": {
              "color": "white"
             }
            },
            "type": "table"
           }
          ]
         },
         "layout": {
          "annotationdefaults": {
           "arrowcolor": "#2a3f5f",
           "arrowhead": 0,
           "arrowwidth": 1
          },
          "autotypenumbers": "strict",
          "coloraxis": {
           "colorbar": {
            "outlinewidth": 0,
            "ticks": ""
           }
          },
          "colorscale": {
           "diverging": [
            [
             0,
             "#8e0152"
            ],
            [
             0.1,
             "#c51b7d"
            ],
            [
             0.2,
             "#de77ae"
            ],
            [
             0.3,
             "#f1b6da"
            ],
            [
             0.4,
             "#fde0ef"
            ],
            [
             0.5,
             "#f7f7f7"
            ],
            [
             0.6,
             "#e6f5d0"
            ],
            [
             0.7,
             "#b8e186"
            ],
            [
             0.8,
             "#7fbc41"
            ],
            [
             0.9,
             "#4d9221"
            ],
            [
             1,
             "#276419"
            ]
           ],
           "sequential": [
            [
             0,
             "#0d0887"
            ],
            [
             0.1111111111111111,
             "#46039f"
            ],
            [
             0.2222222222222222,
             "#7201a8"
            ],
            [
             0.3333333333333333,
             "#9c179e"
            ],
            [
             0.4444444444444444,
             "#bd3786"
            ],
            [
             0.5555555555555556,
             "#d8576b"
            ],
            [
             0.6666666666666666,
             "#ed7953"
            ],
            [
             0.7777777777777778,
             "#fb9f3a"
            ],
            [
             0.8888888888888888,
             "#fdca26"
            ],
            [
             1,
             "#f0f921"
            ]
           ],
           "sequentialminus": [
            [
             0,
             "#0d0887"
            ],
            [
             0.1111111111111111,
             "#46039f"
            ],
            [
             0.2222222222222222,
             "#7201a8"
            ],
            [
             0.3333333333333333,
             "#9c179e"
            ],
            [
             0.4444444444444444,
             "#bd3786"
            ],
            [
             0.5555555555555556,
             "#d8576b"
            ],
            [
             0.6666666666666666,
             "#ed7953"
            ],
            [
             0.7777777777777778,
             "#fb9f3a"
            ],
            [
             0.8888888888888888,
             "#fdca26"
            ],
            [
             1,
             "#f0f921"
            ]
           ]
          },
          "colorway": [
           "#636efa",
           "#EF553B",
           "#00cc96",
           "#ab63fa",
           "#FFA15A",
           "#19d3f3",
           "#FF6692",
           "#B6E880",
           "#FF97FF",
           "#FECB52"
          ],
          "font": {
           "color": "#2a3f5f"
          },
          "geo": {
           "bgcolor": "white",
           "lakecolor": "white",
           "landcolor": "#E5ECF6",
           "showlakes": true,
           "showland": true,
           "subunitcolor": "white"
          },
          "hoverlabel": {
           "align": "left"
          },
          "hovermode": "closest",
          "mapbox": {
           "style": "light"
          },
          "paper_bgcolor": "white",
          "plot_bgcolor": "#E5ECF6",
          "polar": {
           "angularaxis": {
            "gridcolor": "white",
            "linecolor": "white",
            "ticks": ""
           },
           "bgcolor": "#E5ECF6",
           "radialaxis": {
            "gridcolor": "white",
            "linecolor": "white",
            "ticks": ""
           }
          },
          "scene": {
           "xaxis": {
            "backgroundcolor": "#E5ECF6",
            "gridcolor": "white",
            "gridwidth": 2,
            "linecolor": "white",
            "showbackground": true,
            "ticks": "",
            "zerolinecolor": "white"
           },
           "yaxis": {
            "backgroundcolor": "#E5ECF6",
            "gridcolor": "white",
            "gridwidth": 2,
            "linecolor": "white",
            "showbackground": true,
            "ticks": "",
            "zerolinecolor": "white"
           },
           "zaxis": {
            "backgroundcolor": "#E5ECF6",
            "gridcolor": "white",
            "gridwidth": 2,
            "linecolor": "white",
            "showbackground": true,
            "ticks": "",
            "zerolinecolor": "white"
           }
          },
          "shapedefaults": {
           "line": {
            "color": "#2a3f5f"
           }
          },
          "ternary": {
           "aaxis": {
            "gridcolor": "white",
            "linecolor": "white",
            "ticks": ""
           },
           "baxis": {
            "gridcolor": "white",
            "linecolor": "white",
            "ticks": ""
           },
           "bgcolor": "#E5ECF6",
           "caxis": {
            "gridcolor": "white",
            "linecolor": "white",
            "ticks": ""
           }
          },
          "title": {
           "x": 0.05
          },
          "xaxis": {
           "automargin": true,
           "gridcolor": "white",
           "linecolor": "white",
           "ticks": "",
           "title": {
            "standoff": 15
           },
           "zerolinecolor": "white",
           "zerolinewidth": 2
          },
          "yaxis": {
           "automargin": true,
           "gridcolor": "white",
           "linecolor": "white",
           "ticks": "",
           "title": {
            "standoff": 15
           },
           "zerolinecolor": "white",
           "zerolinewidth": 2
          }
         }
        },
        "title": {
         "text": "<b>Bus voltage<b>",
         "x": 0.5,
         "xanchor": "center",
         "y": 0.97,
         "yanchor": "top"
        },
        "width": 680,
        "xaxis": {
         "gridcolor": "black",
         "gridwidth": 1,
         "linecolor": "black",
         "linewidth": 2,
         "showgrid": true,
         "showline": true,
         "tickfont": {
          "family": "Arial Black",
          "size": 12
         },
         "tickmode": "array",
         "ticktext": [
          "00h00",
          "04h00",
          "08h00",
          "12h00",
          "16h00",
          "20h00"
         ],
         "tickvals": [
          0,
          4,
          8,
          12,
          16,
          20
         ],
         "title": {
          "font": {
           "size": 12
          },
          "text": "<b>Time<b>"
         },
         "zeroline": false
        },
        "yaxis": {
         "gridcolor": "black",
         "gridwidth": 1,
         "linecolor": "black",
         "linewidth": 2,
         "showgrid": true,
         "showline": true,
         "tickfont": {
          "family": "Arial Black",
          "size": 12
         },
         "title": {
          "font": {
           "size": 12
          },
          "text": "<b>V [pu]<b>"
         },
         "zeroline": false
        }
       }
      },
      "text/html": [
       "<div>                            <div id=\"6714358f-59de-40fe-8091-49e5e42f5075\" class=\"plotly-graph-div\" style=\"height:400px; width:680px;\"></div>            <script type=\"text/javascript\">                require([\"plotly\"], function(Plotly) {                    window.PLOTLYENV=window.PLOTLYENV || {};                                    if (document.getElementById(\"6714358f-59de-40fe-8091-49e5e42f5075\")) {                    Plotly.newPlot(                        \"6714358f-59de-40fe-8091-49e5e42f5075\",                        [{\"hovertemplate\":\"\\u003cb\\u003eBus 1\\u003cbr\\u003eV [pu]: %{y:.2f}\\u003cbr\\u003eTime: %{text}\\u003cb\\u003e\\u003cextra\\u003e\\u003c\\u002fextra\\u003e\",\"mode\":\"lines\",\"name\":\"\\u003cb\\u003eBus 1\\u003cb\\u003e\",\"text\":[\"00h00\",\"01h00\",\"02h00\",\"03h00\",\"04h00\",\"05h00\",\"06h00\",\"07h00\",\"08h00\",\"09h00\",\"10h00\",\"11h00\",\"12h00\",\"13h00\",\"14h00\",\"15h00\",\"16h00\",\"17h00\",\"18h00\",\"19h00\",\"20h00\",\"21h00\",\"22h00\",\"23h00\"],\"x\":[0,1,2,3,4,5,6,7,8,9,10,11,12,13,14,15,16,17,18,19,20,21,22,23],\"y\":[1.2,1.2,1.2,1.2,1.2,1.2,1.2,1.2,1.2,1.2,1.2,1.2,1.2,1.2,1.2,1.2,1.2,1.2,1.2,1.2,1.2,1.2,1.2,1.2],\"type\":\"scatter\"},{\"hovertemplate\":\"\\u003cb\\u003eBus 2\\u003cbr\\u003eV [pu]: %{y:.2f}\\u003cbr\\u003eTime: %{text}\\u003cb\\u003e\\u003cextra\\u003e\\u003c\\u002fextra\\u003e\",\"mode\":\"lines\",\"name\":\"\\u003cb\\u003eBus 2\\u003cb\\u003e\",\"text\":[\"00h00\",\"01h00\",\"02h00\",\"03h00\",\"04h00\",\"05h00\",\"06h00\",\"07h00\",\"08h00\",\"09h00\",\"10h00\",\"11h00\",\"12h00\",\"13h00\",\"14h00\",\"15h00\",\"16h00\",\"17h00\",\"18h00\",\"19h00\",\"20h00\",\"21h00\",\"22h00\",\"23h00\"],\"x\":[0,1,2,3,4,5,6,7,8,9,10,11,12,13,14,15,16,17,18,19,20,21,22,23],\"y\":[1.1921580824241444,1.1917258286601906,1.1916453471987696,1.1920673460386855,1.1930631136979615,1.193182578921796,1.1936093476633087,1.194850048914393,1.1962923970140809,1.1970109235633541,1.1967246819635202,1.1965415590017017,1.1961783232685397,1.1954238936542478,1.1950942636811435,1.1953053897280497,1.194523770263461,1.193991476155853,1.1936698030909,1.1935450849932627,1.1932631124448219,1.1928998673045073,1.1926422671579404,1.1924737586588512],\"type\":\"scatter\"},{\"hovertemplate\":\"\\u003cb\\u003eBus 3\\u003cbr\\u003eV [pu]: %{y:.2f}\\u003cbr\\u003eTime: %{text}\\u003cb\\u003e\\u003cextra\\u003e\\u003c\\u002fextra\\u003e\",\"mode\":\"lines\",\"name\":\"\\u003cb\\u003eBus 3\\u003cb\\u003e\",\"text\":[\"00h00\",\"01h00\",\"02h00\",\"03h00\",\"04h00\",\"05h00\",\"06h00\",\"07h00\",\"08h00\",\"09h00\",\"10h00\",\"11h00\",\"12h00\",\"13h00\",\"14h00\",\"15h00\",\"16h00\",\"17h00\",\"18h00\",\"19h00\",\"20h00\",\"21h00\",\"22h00\",\"23h00\"],\"x\":[0,1,2,3,4,5,6,7,8,9,10,11,12,13,14,15,16,17,18,19,20,21,22,23],\"y\":[1.161154368204186,1.1589927789665015,1.1585901453185765,1.1607007440541113,1.1656753239918762,1.1662716046579595,1.1684007822994606,1.1745824914253733,1.1817536094680907,1.1853199240081933,1.1838996827790504,1.1829907490525606,1.181187047871245,1.1774375125989605,1.1757978383130006,1.17684813851974,1.1729580135722244,1.1703060142382147,1.1687022809031948,1.1680802645529336,1.1666735031440738,1.1648603356610119,1.1635738628963255,1.1627320316607166],\"type\":\"scatter\"}],                        {\"template\":{\"data\":{\"histogram2dcontour\":[{\"type\":\"histogram2dcontour\",\"colorbar\":{\"outlinewidth\":0,\"ticks\":\"\"},\"colorscale\":[[0.0,\"#0d0887\"],[0.1111111111111111,\"#46039f\"],[0.2222222222222222,\"#7201a8\"],[0.3333333333333333,\"#9c179e\"],[0.4444444444444444,\"#bd3786\"],[0.5555555555555556,\"#d8576b\"],[0.6666666666666666,\"#ed7953\"],[0.7777777777777778,\"#fb9f3a\"],[0.8888888888888888,\"#fdca26\"],[1.0,\"#f0f921\"]]}],\"choropleth\":[{\"type\":\"choropleth\",\"colorbar\":{\"outlinewidth\":0,\"ticks\":\"\"}}],\"histogram2d\":[{\"type\":\"histogram2d\",\"colorbar\":{\"outlinewidth\":0,\"ticks\":\"\"},\"colorscale\":[[0.0,\"#0d0887\"],[0.1111111111111111,\"#46039f\"],[0.2222222222222222,\"#7201a8\"],[0.3333333333333333,\"#9c179e\"],[0.4444444444444444,\"#bd3786\"],[0.5555555555555556,\"#d8576b\"],[0.6666666666666666,\"#ed7953\"],[0.7777777777777778,\"#fb9f3a\"],[0.8888888888888888,\"#fdca26\"],[1.0,\"#f0f921\"]]}],\"heatmap\":[{\"type\":\"heatmap\",\"colorbar\":{\"outlinewidth\":0,\"ticks\":\"\"},\"colorscale\":[[0.0,\"#0d0887\"],[0.1111111111111111,\"#46039f\"],[0.2222222222222222,\"#7201a8\"],[0.3333333333333333,\"#9c179e\"],[0.4444444444444444,\"#bd3786\"],[0.5555555555555556,\"#d8576b\"],[0.6666666666666666,\"#ed7953\"],[0.7777777777777778,\"#fb9f3a\"],[0.8888888888888888,\"#fdca26\"],[1.0,\"#f0f921\"]]}],\"heatmapgl\":[{\"type\":\"heatmapgl\",\"colorbar\":{\"outlinewidth\":0,\"ticks\":\"\"},\"colorscale\":[[0.0,\"#0d0887\"],[0.1111111111111111,\"#46039f\"],[0.2222222222222222,\"#7201a8\"],[0.3333333333333333,\"#9c179e\"],[0.4444444444444444,\"#bd3786\"],[0.5555555555555556,\"#d8576b\"],[0.6666666666666666,\"#ed7953\"],[0.7777777777777778,\"#fb9f3a\"],[0.8888888888888888,\"#fdca26\"],[1.0,\"#f0f921\"]]}],\"contourcarpet\":[{\"type\":\"contourcarpet\",\"colorbar\":{\"outlinewidth\":0,\"ticks\":\"\"}}],\"contour\":[{\"type\":\"contour\",\"colorbar\":{\"outlinewidth\":0,\"ticks\":\"\"},\"colorscale\":[[0.0,\"#0d0887\"],[0.1111111111111111,\"#46039f\"],[0.2222222222222222,\"#7201a8\"],[0.3333333333333333,\"#9c179e\"],[0.4444444444444444,\"#bd3786\"],[0.5555555555555556,\"#d8576b\"],[0.6666666666666666,\"#ed7953\"],[0.7777777777777778,\"#fb9f3a\"],[0.8888888888888888,\"#fdca26\"],[1.0,\"#f0f921\"]]}],\"surface\":[{\"type\":\"surface\",\"colorbar\":{\"outlinewidth\":0,\"ticks\":\"\"},\"colorscale\":[[0.0,\"#0d0887\"],[0.1111111111111111,\"#46039f\"],[0.2222222222222222,\"#7201a8\"],[0.3333333333333333,\"#9c179e\"],[0.4444444444444444,\"#bd3786\"],[0.5555555555555556,\"#d8576b\"],[0.6666666666666666,\"#ed7953\"],[0.7777777777777778,\"#fb9f3a\"],[0.8888888888888888,\"#fdca26\"],[1.0,\"#f0f921\"]]}],\"mesh3d\":[{\"type\":\"mesh3d\",\"colorbar\":{\"outlinewidth\":0,\"ticks\":\"\"}}],\"scatter\":[{\"fillpattern\":{\"fillmode\":\"overlay\",\"size\":10,\"solidity\":0.2},\"type\":\"scatter\"}],\"parcoords\":[{\"type\":\"parcoords\",\"line\":{\"colorbar\":{\"outlinewidth\":0,\"ticks\":\"\"}}}],\"scatterpolargl\":[{\"type\":\"scatterpolargl\",\"marker\":{\"colorbar\":{\"outlinewidth\":0,\"ticks\":\"\"}}}],\"bar\":[{\"error_x\":{\"color\":\"#2a3f5f\"},\"error_y\":{\"color\":\"#2a3f5f\"},\"marker\":{\"line\":{\"color\":\"#E5ECF6\",\"width\":0.5},\"pattern\":{\"fillmode\":\"overlay\",\"size\":10,\"solidity\":0.2}},\"type\":\"bar\"}],\"scattergeo\":[{\"type\":\"scattergeo\",\"marker\":{\"colorbar\":{\"outlinewidth\":0,\"ticks\":\"\"}}}],\"scatterpolar\":[{\"type\":\"scatterpolar\",\"marker\":{\"colorbar\":{\"outlinewidth\":0,\"ticks\":\"\"}}}],\"histogram\":[{\"marker\":{\"pattern\":{\"fillmode\":\"overlay\",\"size\":10,\"solidity\":0.2}},\"type\":\"histogram\"}],\"scattergl\":[{\"type\":\"scattergl\",\"marker\":{\"colorbar\":{\"outlinewidth\":0,\"ticks\":\"\"}}}],\"scatter3d\":[{\"type\":\"scatter3d\",\"line\":{\"colorbar\":{\"outlinewidth\":0,\"ticks\":\"\"}},\"marker\":{\"colorbar\":{\"outlinewidth\":0,\"ticks\":\"\"}}}],\"scattermapbox\":[{\"type\":\"scattermapbox\",\"marker\":{\"colorbar\":{\"outlinewidth\":0,\"ticks\":\"\"}}}],\"scatterternary\":[{\"type\":\"scatterternary\",\"marker\":{\"colorbar\":{\"outlinewidth\":0,\"ticks\":\"\"}}}],\"scattercarpet\":[{\"type\":\"scattercarpet\",\"marker\":{\"colorbar\":{\"outlinewidth\":0,\"ticks\":\"\"}}}],\"carpet\":[{\"aaxis\":{\"endlinecolor\":\"#2a3f5f\",\"gridcolor\":\"white\",\"linecolor\":\"white\",\"minorgridcolor\":\"white\",\"startlinecolor\":\"#2a3f5f\"},\"baxis\":{\"endlinecolor\":\"#2a3f5f\",\"gridcolor\":\"white\",\"linecolor\":\"white\",\"minorgridcolor\":\"white\",\"startlinecolor\":\"#2a3f5f\"},\"type\":\"carpet\"}],\"table\":[{\"cells\":{\"fill\":{\"color\":\"#EBF0F8\"},\"line\":{\"color\":\"white\"}},\"header\":{\"fill\":{\"color\":\"#C8D4E3\"},\"line\":{\"color\":\"white\"}},\"type\":\"table\"}],\"barpolar\":[{\"marker\":{\"line\":{\"color\":\"#E5ECF6\",\"width\":0.5},\"pattern\":{\"fillmode\":\"overlay\",\"size\":10,\"solidity\":0.2}},\"type\":\"barpolar\"}],\"pie\":[{\"automargin\":true,\"type\":\"pie\"}]},\"layout\":{\"autotypenumbers\":\"strict\",\"colorway\":[\"#636efa\",\"#EF553B\",\"#00cc96\",\"#ab63fa\",\"#FFA15A\",\"#19d3f3\",\"#FF6692\",\"#B6E880\",\"#FF97FF\",\"#FECB52\"],\"font\":{\"color\":\"#2a3f5f\"},\"hovermode\":\"closest\",\"hoverlabel\":{\"align\":\"left\"},\"paper_bgcolor\":\"white\",\"plot_bgcolor\":\"#E5ECF6\",\"polar\":{\"bgcolor\":\"#E5ECF6\",\"angularaxis\":{\"gridcolor\":\"white\",\"linecolor\":\"white\",\"ticks\":\"\"},\"radialaxis\":{\"gridcolor\":\"white\",\"linecolor\":\"white\",\"ticks\":\"\"}},\"ternary\":{\"bgcolor\":\"#E5ECF6\",\"aaxis\":{\"gridcolor\":\"white\",\"linecolor\":\"white\",\"ticks\":\"\"},\"baxis\":{\"gridcolor\":\"white\",\"linecolor\":\"white\",\"ticks\":\"\"},\"caxis\":{\"gridcolor\":\"white\",\"linecolor\":\"white\",\"ticks\":\"\"}},\"coloraxis\":{\"colorbar\":{\"outlinewidth\":0,\"ticks\":\"\"}},\"colorscale\":{\"sequential\":[[0.0,\"#0d0887\"],[0.1111111111111111,\"#46039f\"],[0.2222222222222222,\"#7201a8\"],[0.3333333333333333,\"#9c179e\"],[0.4444444444444444,\"#bd3786\"],[0.5555555555555556,\"#d8576b\"],[0.6666666666666666,\"#ed7953\"],[0.7777777777777778,\"#fb9f3a\"],[0.8888888888888888,\"#fdca26\"],[1.0,\"#f0f921\"]],\"sequentialminus\":[[0.0,\"#0d0887\"],[0.1111111111111111,\"#46039f\"],[0.2222222222222222,\"#7201a8\"],[0.3333333333333333,\"#9c179e\"],[0.4444444444444444,\"#bd3786\"],[0.5555555555555556,\"#d8576b\"],[0.6666666666666666,\"#ed7953\"],[0.7777777777777778,\"#fb9f3a\"],[0.8888888888888888,\"#fdca26\"],[1.0,\"#f0f921\"]],\"diverging\":[[0,\"#8e0152\"],[0.1,\"#c51b7d\"],[0.2,\"#de77ae\"],[0.3,\"#f1b6da\"],[0.4,\"#fde0ef\"],[0.5,\"#f7f7f7\"],[0.6,\"#e6f5d0\"],[0.7,\"#b8e186\"],[0.8,\"#7fbc41\"],[0.9,\"#4d9221\"],[1,\"#276419\"]]},\"xaxis\":{\"gridcolor\":\"white\",\"linecolor\":\"white\",\"ticks\":\"\",\"title\":{\"standoff\":15},\"zerolinecolor\":\"white\",\"automargin\":true,\"zerolinewidth\":2},\"yaxis\":{\"gridcolor\":\"white\",\"linecolor\":\"white\",\"ticks\":\"\",\"title\":{\"standoff\":15},\"zerolinecolor\":\"white\",\"automargin\":true,\"zerolinewidth\":2},\"scene\":{\"xaxis\":{\"backgroundcolor\":\"#E5ECF6\",\"gridcolor\":\"white\",\"linecolor\":\"white\",\"showbackground\":true,\"ticks\":\"\",\"zerolinecolor\":\"white\",\"gridwidth\":2},\"yaxis\":{\"backgroundcolor\":\"#E5ECF6\",\"gridcolor\":\"white\",\"linecolor\":\"white\",\"showbackground\":true,\"ticks\":\"\",\"zerolinecolor\":\"white\",\"gridwidth\":2},\"zaxis\":{\"backgroundcolor\":\"#E5ECF6\",\"gridcolor\":\"white\",\"linecolor\":\"white\",\"showbackground\":true,\"ticks\":\"\",\"zerolinecolor\":\"white\",\"gridwidth\":2}},\"shapedefaults\":{\"line\":{\"color\":\"#2a3f5f\"}},\"annotationdefaults\":{\"arrowcolor\":\"#2a3f5f\",\"arrowhead\":0,\"arrowwidth\":1},\"geo\":{\"bgcolor\":\"white\",\"landcolor\":\"#E5ECF6\",\"subunitcolor\":\"white\",\"showland\":true,\"showlakes\":true,\"lakecolor\":\"white\"},\"title\":{\"x\":0.05},\"mapbox\":{\"style\":\"light\"}}},\"font\":{\"size\":15},\"xaxis\":{\"tickfont\":{\"size\":12,\"family\":\"Arial Black\"},\"title\":{\"text\":\"\\u003cb\\u003eTime\\u003cb\\u003e\",\"font\":{\"size\":12}},\"zeroline\":false,\"tickmode\":\"array\",\"tickvals\":[0,4,8,12,16,20],\"ticktext\":[\"00h00\",\"04h00\",\"08h00\",\"12h00\",\"16h00\",\"20h00\"],\"showline\":true,\"showgrid\":true,\"gridwidth\":1,\"linewidth\":2,\"linecolor\":\"black\",\"gridcolor\":\"black\"},\"yaxis\":{\"tickfont\":{\"size\":12,\"family\":\"Arial Black\"},\"title\":{\"text\":\"\\u003cb\\u003eV [pu]\\u003cb\\u003e\",\"font\":{\"size\":12}},\"zeroline\":false,\"showline\":true,\"showgrid\":true,\"gridwidth\":1,\"linewidth\":2,\"linecolor\":\"black\",\"gridcolor\":\"black\"},\"margin\":{\"t\":30},\"legend\":{\"font\":{\"size\":12}},\"paper_bgcolor\":\"white\",\"plot_bgcolor\":\"white\",\"width\":680,\"height\":400,\"title\":{\"text\":\"\\u003cb\\u003eBus voltage\\u003cb\\u003e\",\"y\":0.97,\"x\":0.5,\"xanchor\":\"center\",\"yanchor\":\"top\"}},                        {\"responsive\": true}                    ).then(function(){\n",
       "                            \n",
       "var gd = document.getElementById('6714358f-59de-40fe-8091-49e5e42f5075');\n",
       "var x = new MutationObserver(function (mutations, observer) {{\n",
       "        var display = window.getComputedStyle(gd).display;\n",
       "        if (!display || display === 'none') {{\n",
       "            console.log([gd, 'removed!']);\n",
       "            Plotly.purge(gd);\n",
       "            observer.disconnect();\n",
       "        }}\n",
       "}});\n",
       "\n",
       "// Listen for the removal of the full notebook cells\n",
       "var notebookContainer = gd.closest('#notebook-container');\n",
       "if (notebookContainer) {{\n",
       "    x.observe(notebookContainer, {childList: true});\n",
       "}}\n",
       "\n",
       "// Listen for the clearing of the current output cell\n",
       "var outputEl = gd.closest('.output');\n",
       "if (outputEl) {{\n",
       "    x.observe(outputEl, {childList: true});\n",
       "}}\n",
       "\n",
       "                        })                };                });            </script>        </div>"
      ]
     },
     "metadata": {},
     "output_type": "display_data"
    },
    {
     "name": "stdout",
     "output_type": "stream",
     "text": [
      "\n"
     ]
    },
    {
     "data": {
      "application/vnd.plotly.v1+json": {
       "config": {
        "plotlyServerURL": "https://plot.ly"
       },
       "data": [
        {
         "hovertemplate": "<b>Line<br>P [MW]: %{y:.2f}<br>Time: %{text}<b><extra></extra>",
         "mode": "lines",
         "name": "<b>Line<b>",
         "text": [
          "00h00",
          "01h00",
          "02h00",
          "03h00",
          "04h00",
          "05h00",
          "06h00",
          "07h00",
          "08h00",
          "09h00",
          "10h00",
          "11h00",
          "12h00",
          "13h00",
          "14h00",
          "15h00",
          "16h00",
          "17h00",
          "18h00",
          "19h00",
          "20h00",
          "21h00",
          "22h00",
          "23h00"
         ],
         "type": "scatter",
         "x": [
          0,
          1,
          2,
          3,
          4,
          5,
          6,
          7,
          8,
          9,
          10,
          11,
          12,
          13,
          14,
          15,
          16,
          17,
          18,
          19,
          20,
          21,
          22,
          23
         ],
         "y": [
          0.08677358423605966,
          0.0915950551645695,
          0.09249301379452411,
          0.08778549587242981,
          0.07668585827998013,
          0.07535499443330472,
          0.07060209475413717,
          0.05679666545126366,
          0.040770093025551596,
          0.03279520763914731,
          0.03597147522430322,
          0.0380039855129122,
          0.04203673941847791,
          0.05041752519937548,
          0.05408138494501466,
          0.05173455880450365,
          0.06042545526798018,
          0.0663481770577219,
          0.06992898020026503,
          0.07131764673939267,
          0.07445793201348407,
          0.07850472655355213,
          0.08137551512881154,
          0.08325386191652608
         ]
        }
       ],
       "layout": {
        "font": {
         "size": 15
        },
        "height": 400,
        "legend": {
         "font": {
          "size": 12
         }
        },
        "margin": {
         "t": 30
        },
        "paper_bgcolor": "white",
        "plot_bgcolor": "white",
        "template": {
         "data": {
          "bar": [
           {
            "error_x": {
             "color": "#2a3f5f"
            },
            "error_y": {
             "color": "#2a3f5f"
            },
            "marker": {
             "line": {
              "color": "#E5ECF6",
              "width": 0.5
             },
             "pattern": {
              "fillmode": "overlay",
              "size": 10,
              "solidity": 0.2
             }
            },
            "type": "bar"
           }
          ],
          "barpolar": [
           {
            "marker": {
             "line": {
              "color": "#E5ECF6",
              "width": 0.5
             },
             "pattern": {
              "fillmode": "overlay",
              "size": 10,
              "solidity": 0.2
             }
            },
            "type": "barpolar"
           }
          ],
          "carpet": [
           {
            "aaxis": {
             "endlinecolor": "#2a3f5f",
             "gridcolor": "white",
             "linecolor": "white",
             "minorgridcolor": "white",
             "startlinecolor": "#2a3f5f"
            },
            "baxis": {
             "endlinecolor": "#2a3f5f",
             "gridcolor": "white",
             "linecolor": "white",
             "minorgridcolor": "white",
             "startlinecolor": "#2a3f5f"
            },
            "type": "carpet"
           }
          ],
          "choropleth": [
           {
            "colorbar": {
             "outlinewidth": 0,
             "ticks": ""
            },
            "type": "choropleth"
           }
          ],
          "contour": [
           {
            "colorbar": {
             "outlinewidth": 0,
             "ticks": ""
            },
            "colorscale": [
             [
              0,
              "#0d0887"
             ],
             [
              0.1111111111111111,
              "#46039f"
             ],
             [
              0.2222222222222222,
              "#7201a8"
             ],
             [
              0.3333333333333333,
              "#9c179e"
             ],
             [
              0.4444444444444444,
              "#bd3786"
             ],
             [
              0.5555555555555556,
              "#d8576b"
             ],
             [
              0.6666666666666666,
              "#ed7953"
             ],
             [
              0.7777777777777778,
              "#fb9f3a"
             ],
             [
              0.8888888888888888,
              "#fdca26"
             ],
             [
              1,
              "#f0f921"
             ]
            ],
            "type": "contour"
           }
          ],
          "contourcarpet": [
           {
            "colorbar": {
             "outlinewidth": 0,
             "ticks": ""
            },
            "type": "contourcarpet"
           }
          ],
          "heatmap": [
           {
            "colorbar": {
             "outlinewidth": 0,
             "ticks": ""
            },
            "colorscale": [
             [
              0,
              "#0d0887"
             ],
             [
              0.1111111111111111,
              "#46039f"
             ],
             [
              0.2222222222222222,
              "#7201a8"
             ],
             [
              0.3333333333333333,
              "#9c179e"
             ],
             [
              0.4444444444444444,
              "#bd3786"
             ],
             [
              0.5555555555555556,
              "#d8576b"
             ],
             [
              0.6666666666666666,
              "#ed7953"
             ],
             [
              0.7777777777777778,
              "#fb9f3a"
             ],
             [
              0.8888888888888888,
              "#fdca26"
             ],
             [
              1,
              "#f0f921"
             ]
            ],
            "type": "heatmap"
           }
          ],
          "heatmapgl": [
           {
            "colorbar": {
             "outlinewidth": 0,
             "ticks": ""
            },
            "colorscale": [
             [
              0,
              "#0d0887"
             ],
             [
              0.1111111111111111,
              "#46039f"
             ],
             [
              0.2222222222222222,
              "#7201a8"
             ],
             [
              0.3333333333333333,
              "#9c179e"
             ],
             [
              0.4444444444444444,
              "#bd3786"
             ],
             [
              0.5555555555555556,
              "#d8576b"
             ],
             [
              0.6666666666666666,
              "#ed7953"
             ],
             [
              0.7777777777777778,
              "#fb9f3a"
             ],
             [
              0.8888888888888888,
              "#fdca26"
             ],
             [
              1,
              "#f0f921"
             ]
            ],
            "type": "heatmapgl"
           }
          ],
          "histogram": [
           {
            "marker": {
             "pattern": {
              "fillmode": "overlay",
              "size": 10,
              "solidity": 0.2
             }
            },
            "type": "histogram"
           }
          ],
          "histogram2d": [
           {
            "colorbar": {
             "outlinewidth": 0,
             "ticks": ""
            },
            "colorscale": [
             [
              0,
              "#0d0887"
             ],
             [
              0.1111111111111111,
              "#46039f"
             ],
             [
              0.2222222222222222,
              "#7201a8"
             ],
             [
              0.3333333333333333,
              "#9c179e"
             ],
             [
              0.4444444444444444,
              "#bd3786"
             ],
             [
              0.5555555555555556,
              "#d8576b"
             ],
             [
              0.6666666666666666,
              "#ed7953"
             ],
             [
              0.7777777777777778,
              "#fb9f3a"
             ],
             [
              0.8888888888888888,
              "#fdca26"
             ],
             [
              1,
              "#f0f921"
             ]
            ],
            "type": "histogram2d"
           }
          ],
          "histogram2dcontour": [
           {
            "colorbar": {
             "outlinewidth": 0,
             "ticks": ""
            },
            "colorscale": [
             [
              0,
              "#0d0887"
             ],
             [
              0.1111111111111111,
              "#46039f"
             ],
             [
              0.2222222222222222,
              "#7201a8"
             ],
             [
              0.3333333333333333,
              "#9c179e"
             ],
             [
              0.4444444444444444,
              "#bd3786"
             ],
             [
              0.5555555555555556,
              "#d8576b"
             ],
             [
              0.6666666666666666,
              "#ed7953"
             ],
             [
              0.7777777777777778,
              "#fb9f3a"
             ],
             [
              0.8888888888888888,
              "#fdca26"
             ],
             [
              1,
              "#f0f921"
             ]
            ],
            "type": "histogram2dcontour"
           }
          ],
          "mesh3d": [
           {
            "colorbar": {
             "outlinewidth": 0,
             "ticks": ""
            },
            "type": "mesh3d"
           }
          ],
          "parcoords": [
           {
            "line": {
             "colorbar": {
              "outlinewidth": 0,
              "ticks": ""
             }
            },
            "type": "parcoords"
           }
          ],
          "pie": [
           {
            "automargin": true,
            "type": "pie"
           }
          ],
          "scatter": [
           {
            "fillpattern": {
             "fillmode": "overlay",
             "size": 10,
             "solidity": 0.2
            },
            "type": "scatter"
           }
          ],
          "scatter3d": [
           {
            "line": {
             "colorbar": {
              "outlinewidth": 0,
              "ticks": ""
             }
            },
            "marker": {
             "colorbar": {
              "outlinewidth": 0,
              "ticks": ""
             }
            },
            "type": "scatter3d"
           }
          ],
          "scattercarpet": [
           {
            "marker": {
             "colorbar": {
              "outlinewidth": 0,
              "ticks": ""
             }
            },
            "type": "scattercarpet"
           }
          ],
          "scattergeo": [
           {
            "marker": {
             "colorbar": {
              "outlinewidth": 0,
              "ticks": ""
             }
            },
            "type": "scattergeo"
           }
          ],
          "scattergl": [
           {
            "marker": {
             "colorbar": {
              "outlinewidth": 0,
              "ticks": ""
             }
            },
            "type": "scattergl"
           }
          ],
          "scattermapbox": [
           {
            "marker": {
             "colorbar": {
              "outlinewidth": 0,
              "ticks": ""
             }
            },
            "type": "scattermapbox"
           }
          ],
          "scatterpolar": [
           {
            "marker": {
             "colorbar": {
              "outlinewidth": 0,
              "ticks": ""
             }
            },
            "type": "scatterpolar"
           }
          ],
          "scatterpolargl": [
           {
            "marker": {
             "colorbar": {
              "outlinewidth": 0,
              "ticks": ""
             }
            },
            "type": "scatterpolargl"
           }
          ],
          "scatterternary": [
           {
            "marker": {
             "colorbar": {
              "outlinewidth": 0,
              "ticks": ""
             }
            },
            "type": "scatterternary"
           }
          ],
          "surface": [
           {
            "colorbar": {
             "outlinewidth": 0,
             "ticks": ""
            },
            "colorscale": [
             [
              0,
              "#0d0887"
             ],
             [
              0.1111111111111111,
              "#46039f"
             ],
             [
              0.2222222222222222,
              "#7201a8"
             ],
             [
              0.3333333333333333,
              "#9c179e"
             ],
             [
              0.4444444444444444,
              "#bd3786"
             ],
             [
              0.5555555555555556,
              "#d8576b"
             ],
             [
              0.6666666666666666,
              "#ed7953"
             ],
             [
              0.7777777777777778,
              "#fb9f3a"
             ],
             [
              0.8888888888888888,
              "#fdca26"
             ],
             [
              1,
              "#f0f921"
             ]
            ],
            "type": "surface"
           }
          ],
          "table": [
           {
            "cells": {
             "fill": {
              "color": "#EBF0F8"
             },
             "line": {
              "color": "white"
             }
            },
            "header": {
             "fill": {
              "color": "#C8D4E3"
             },
             "line": {
              "color": "white"
             }
            },
            "type": "table"
           }
          ]
         },
         "layout": {
          "annotationdefaults": {
           "arrowcolor": "#2a3f5f",
           "arrowhead": 0,
           "arrowwidth": 1
          },
          "autotypenumbers": "strict",
          "coloraxis": {
           "colorbar": {
            "outlinewidth": 0,
            "ticks": ""
           }
          },
          "colorscale": {
           "diverging": [
            [
             0,
             "#8e0152"
            ],
            [
             0.1,
             "#c51b7d"
            ],
            [
             0.2,
             "#de77ae"
            ],
            [
             0.3,
             "#f1b6da"
            ],
            [
             0.4,
             "#fde0ef"
            ],
            [
             0.5,
             "#f7f7f7"
            ],
            [
             0.6,
             "#e6f5d0"
            ],
            [
             0.7,
             "#b8e186"
            ],
            [
             0.8,
             "#7fbc41"
            ],
            [
             0.9,
             "#4d9221"
            ],
            [
             1,
             "#276419"
            ]
           ],
           "sequential": [
            [
             0,
             "#0d0887"
            ],
            [
             0.1111111111111111,
             "#46039f"
            ],
            [
             0.2222222222222222,
             "#7201a8"
            ],
            [
             0.3333333333333333,
             "#9c179e"
            ],
            [
             0.4444444444444444,
             "#bd3786"
            ],
            [
             0.5555555555555556,
             "#d8576b"
            ],
            [
             0.6666666666666666,
             "#ed7953"
            ],
            [
             0.7777777777777778,
             "#fb9f3a"
            ],
            [
             0.8888888888888888,
             "#fdca26"
            ],
            [
             1,
             "#f0f921"
            ]
           ],
           "sequentialminus": [
            [
             0,
             "#0d0887"
            ],
            [
             0.1111111111111111,
             "#46039f"
            ],
            [
             0.2222222222222222,
             "#7201a8"
            ],
            [
             0.3333333333333333,
             "#9c179e"
            ],
            [
             0.4444444444444444,
             "#bd3786"
            ],
            [
             0.5555555555555556,
             "#d8576b"
            ],
            [
             0.6666666666666666,
             "#ed7953"
            ],
            [
             0.7777777777777778,
             "#fb9f3a"
            ],
            [
             0.8888888888888888,
             "#fdca26"
            ],
            [
             1,
             "#f0f921"
            ]
           ]
          },
          "colorway": [
           "#636efa",
           "#EF553B",
           "#00cc96",
           "#ab63fa",
           "#FFA15A",
           "#19d3f3",
           "#FF6692",
           "#B6E880",
           "#FF97FF",
           "#FECB52"
          ],
          "font": {
           "color": "#2a3f5f"
          },
          "geo": {
           "bgcolor": "white",
           "lakecolor": "white",
           "landcolor": "#E5ECF6",
           "showlakes": true,
           "showland": true,
           "subunitcolor": "white"
          },
          "hoverlabel": {
           "align": "left"
          },
          "hovermode": "closest",
          "mapbox": {
           "style": "light"
          },
          "paper_bgcolor": "white",
          "plot_bgcolor": "#E5ECF6",
          "polar": {
           "angularaxis": {
            "gridcolor": "white",
            "linecolor": "white",
            "ticks": ""
           },
           "bgcolor": "#E5ECF6",
           "radialaxis": {
            "gridcolor": "white",
            "linecolor": "white",
            "ticks": ""
           }
          },
          "scene": {
           "xaxis": {
            "backgroundcolor": "#E5ECF6",
            "gridcolor": "white",
            "gridwidth": 2,
            "linecolor": "white",
            "showbackground": true,
            "ticks": "",
            "zerolinecolor": "white"
           },
           "yaxis": {
            "backgroundcolor": "#E5ECF6",
            "gridcolor": "white",
            "gridwidth": 2,
            "linecolor": "white",
            "showbackground": true,
            "ticks": "",
            "zerolinecolor": "white"
           },
           "zaxis": {
            "backgroundcolor": "#E5ECF6",
            "gridcolor": "white",
            "gridwidth": 2,
            "linecolor": "white",
            "showbackground": true,
            "ticks": "",
            "zerolinecolor": "white"
           }
          },
          "shapedefaults": {
           "line": {
            "color": "#2a3f5f"
           }
          },
          "ternary": {
           "aaxis": {
            "gridcolor": "white",
            "linecolor": "white",
            "ticks": ""
           },
           "baxis": {
            "gridcolor": "white",
            "linecolor": "white",
            "ticks": ""
           },
           "bgcolor": "#E5ECF6",
           "caxis": {
            "gridcolor": "white",
            "linecolor": "white",
            "ticks": ""
           }
          },
          "title": {
           "x": 0.05
          },
          "xaxis": {
           "automargin": true,
           "gridcolor": "white",
           "linecolor": "white",
           "ticks": "",
           "title": {
            "standoff": 15
           },
           "zerolinecolor": "white",
           "zerolinewidth": 2
          },
          "yaxis": {
           "automargin": true,
           "gridcolor": "white",
           "linecolor": "white",
           "ticks": "",
           "title": {
            "standoff": 15
           },
           "zerolinecolor": "white",
           "zerolinewidth": 2
          }
         }
        },
        "title": {
         "text": "<b>line power<b>",
         "x": 0.5,
         "xanchor": "center",
         "y": 0.97,
         "yanchor": "top"
        },
        "width": 680,
        "xaxis": {
         "gridcolor": "black",
         "gridwidth": 1,
         "linecolor": "black",
         "linewidth": 2,
         "showgrid": true,
         "showline": true,
         "tickfont": {
          "family": "Arial Black",
          "size": 12
         },
         "tickmode": "array",
         "ticktext": [
          "00h00",
          "04h00",
          "08h00",
          "12h00",
          "16h00",
          "20h00"
         ],
         "tickvals": [
          0,
          4,
          8,
          12,
          16,
          20
         ],
         "title": {
          "font": {
           "size": 12
          },
          "text": "<b>Time<b>"
         },
         "zeroline": false
        },
        "yaxis": {
         "gridcolor": "black",
         "gridwidth": 1,
         "linecolor": "black",
         "linewidth": 2,
         "showgrid": true,
         "showline": true,
         "tickfont": {
          "family": "Arial Black",
          "size": 12
         },
         "title": {
          "font": {
           "size": 12
          },
          "text": "<b>P [MW]<b>"
         },
         "zeroline": false
        }
       }
      },
      "text/html": [
       "<div>                            <div id=\"a3b1318a-fd8b-4ab7-81fc-28498a1c84f2\" class=\"plotly-graph-div\" style=\"height:400px; width:680px;\"></div>            <script type=\"text/javascript\">                require([\"plotly\"], function(Plotly) {                    window.PLOTLYENV=window.PLOTLYENV || {};                                    if (document.getElementById(\"a3b1318a-fd8b-4ab7-81fc-28498a1c84f2\")) {                    Plotly.newPlot(                        \"a3b1318a-fd8b-4ab7-81fc-28498a1c84f2\",                        [{\"hovertemplate\":\"\\u003cb\\u003eLine\\u003cbr\\u003eP [MW]: %{y:.2f}\\u003cbr\\u003eTime: %{text}\\u003cb\\u003e\\u003cextra\\u003e\\u003c\\u002fextra\\u003e\",\"mode\":\"lines\",\"name\":\"\\u003cb\\u003eLine\\u003cb\\u003e\",\"text\":[\"00h00\",\"01h00\",\"02h00\",\"03h00\",\"04h00\",\"05h00\",\"06h00\",\"07h00\",\"08h00\",\"09h00\",\"10h00\",\"11h00\",\"12h00\",\"13h00\",\"14h00\",\"15h00\",\"16h00\",\"17h00\",\"18h00\",\"19h00\",\"20h00\",\"21h00\",\"22h00\",\"23h00\"],\"x\":[0,1,2,3,4,5,6,7,8,9,10,11,12,13,14,15,16,17,18,19,20,21,22,23],\"y\":[0.08677358423605966,0.0915950551645695,0.09249301379452411,0.08778549587242981,0.07668585827998013,0.07535499443330472,0.07060209475413717,0.05679666545126366,0.040770093025551596,0.03279520763914731,0.03597147522430322,0.0380039855129122,0.04203673941847791,0.05041752519937548,0.05408138494501466,0.05173455880450365,0.06042545526798018,0.0663481770577219,0.06992898020026503,0.07131764673939267,0.07445793201348407,0.07850472655355213,0.08137551512881154,0.08325386191652608],\"type\":\"scatter\"}],                        {\"template\":{\"data\":{\"histogram2dcontour\":[{\"type\":\"histogram2dcontour\",\"colorbar\":{\"outlinewidth\":0,\"ticks\":\"\"},\"colorscale\":[[0.0,\"#0d0887\"],[0.1111111111111111,\"#46039f\"],[0.2222222222222222,\"#7201a8\"],[0.3333333333333333,\"#9c179e\"],[0.4444444444444444,\"#bd3786\"],[0.5555555555555556,\"#d8576b\"],[0.6666666666666666,\"#ed7953\"],[0.7777777777777778,\"#fb9f3a\"],[0.8888888888888888,\"#fdca26\"],[1.0,\"#f0f921\"]]}],\"choropleth\":[{\"type\":\"choropleth\",\"colorbar\":{\"outlinewidth\":0,\"ticks\":\"\"}}],\"histogram2d\":[{\"type\":\"histogram2d\",\"colorbar\":{\"outlinewidth\":0,\"ticks\":\"\"},\"colorscale\":[[0.0,\"#0d0887\"],[0.1111111111111111,\"#46039f\"],[0.2222222222222222,\"#7201a8\"],[0.3333333333333333,\"#9c179e\"],[0.4444444444444444,\"#bd3786\"],[0.5555555555555556,\"#d8576b\"],[0.6666666666666666,\"#ed7953\"],[0.7777777777777778,\"#fb9f3a\"],[0.8888888888888888,\"#fdca26\"],[1.0,\"#f0f921\"]]}],\"heatmap\":[{\"type\":\"heatmap\",\"colorbar\":{\"outlinewidth\":0,\"ticks\":\"\"},\"colorscale\":[[0.0,\"#0d0887\"],[0.1111111111111111,\"#46039f\"],[0.2222222222222222,\"#7201a8\"],[0.3333333333333333,\"#9c179e\"],[0.4444444444444444,\"#bd3786\"],[0.5555555555555556,\"#d8576b\"],[0.6666666666666666,\"#ed7953\"],[0.7777777777777778,\"#fb9f3a\"],[0.8888888888888888,\"#fdca26\"],[1.0,\"#f0f921\"]]}],\"heatmapgl\":[{\"type\":\"heatmapgl\",\"colorbar\":{\"outlinewidth\":0,\"ticks\":\"\"},\"colorscale\":[[0.0,\"#0d0887\"],[0.1111111111111111,\"#46039f\"],[0.2222222222222222,\"#7201a8\"],[0.3333333333333333,\"#9c179e\"],[0.4444444444444444,\"#bd3786\"],[0.5555555555555556,\"#d8576b\"],[0.6666666666666666,\"#ed7953\"],[0.7777777777777778,\"#fb9f3a\"],[0.8888888888888888,\"#fdca26\"],[1.0,\"#f0f921\"]]}],\"contourcarpet\":[{\"type\":\"contourcarpet\",\"colorbar\":{\"outlinewidth\":0,\"ticks\":\"\"}}],\"contour\":[{\"type\":\"contour\",\"colorbar\":{\"outlinewidth\":0,\"ticks\":\"\"},\"colorscale\":[[0.0,\"#0d0887\"],[0.1111111111111111,\"#46039f\"],[0.2222222222222222,\"#7201a8\"],[0.3333333333333333,\"#9c179e\"],[0.4444444444444444,\"#bd3786\"],[0.5555555555555556,\"#d8576b\"],[0.6666666666666666,\"#ed7953\"],[0.7777777777777778,\"#fb9f3a\"],[0.8888888888888888,\"#fdca26\"],[1.0,\"#f0f921\"]]}],\"surface\":[{\"type\":\"surface\",\"colorbar\":{\"outlinewidth\":0,\"ticks\":\"\"},\"colorscale\":[[0.0,\"#0d0887\"],[0.1111111111111111,\"#46039f\"],[0.2222222222222222,\"#7201a8\"],[0.3333333333333333,\"#9c179e\"],[0.4444444444444444,\"#bd3786\"],[0.5555555555555556,\"#d8576b\"],[0.6666666666666666,\"#ed7953\"],[0.7777777777777778,\"#fb9f3a\"],[0.8888888888888888,\"#fdca26\"],[1.0,\"#f0f921\"]]}],\"mesh3d\":[{\"type\":\"mesh3d\",\"colorbar\":{\"outlinewidth\":0,\"ticks\":\"\"}}],\"scatter\":[{\"fillpattern\":{\"fillmode\":\"overlay\",\"size\":10,\"solidity\":0.2},\"type\":\"scatter\"}],\"parcoords\":[{\"type\":\"parcoords\",\"line\":{\"colorbar\":{\"outlinewidth\":0,\"ticks\":\"\"}}}],\"scatterpolargl\":[{\"type\":\"scatterpolargl\",\"marker\":{\"colorbar\":{\"outlinewidth\":0,\"ticks\":\"\"}}}],\"bar\":[{\"error_x\":{\"color\":\"#2a3f5f\"},\"error_y\":{\"color\":\"#2a3f5f\"},\"marker\":{\"line\":{\"color\":\"#E5ECF6\",\"width\":0.5},\"pattern\":{\"fillmode\":\"overlay\",\"size\":10,\"solidity\":0.2}},\"type\":\"bar\"}],\"scattergeo\":[{\"type\":\"scattergeo\",\"marker\":{\"colorbar\":{\"outlinewidth\":0,\"ticks\":\"\"}}}],\"scatterpolar\":[{\"type\":\"scatterpolar\",\"marker\":{\"colorbar\":{\"outlinewidth\":0,\"ticks\":\"\"}}}],\"histogram\":[{\"marker\":{\"pattern\":{\"fillmode\":\"overlay\",\"size\":10,\"solidity\":0.2}},\"type\":\"histogram\"}],\"scattergl\":[{\"type\":\"scattergl\",\"marker\":{\"colorbar\":{\"outlinewidth\":0,\"ticks\":\"\"}}}],\"scatter3d\":[{\"type\":\"scatter3d\",\"line\":{\"colorbar\":{\"outlinewidth\":0,\"ticks\":\"\"}},\"marker\":{\"colorbar\":{\"outlinewidth\":0,\"ticks\":\"\"}}}],\"scattermapbox\":[{\"type\":\"scattermapbox\",\"marker\":{\"colorbar\":{\"outlinewidth\":0,\"ticks\":\"\"}}}],\"scatterternary\":[{\"type\":\"scatterternary\",\"marker\":{\"colorbar\":{\"outlinewidth\":0,\"ticks\":\"\"}}}],\"scattercarpet\":[{\"type\":\"scattercarpet\",\"marker\":{\"colorbar\":{\"outlinewidth\":0,\"ticks\":\"\"}}}],\"carpet\":[{\"aaxis\":{\"endlinecolor\":\"#2a3f5f\",\"gridcolor\":\"white\",\"linecolor\":\"white\",\"minorgridcolor\":\"white\",\"startlinecolor\":\"#2a3f5f\"},\"baxis\":{\"endlinecolor\":\"#2a3f5f\",\"gridcolor\":\"white\",\"linecolor\":\"white\",\"minorgridcolor\":\"white\",\"startlinecolor\":\"#2a3f5f\"},\"type\":\"carpet\"}],\"table\":[{\"cells\":{\"fill\":{\"color\":\"#EBF0F8\"},\"line\":{\"color\":\"white\"}},\"header\":{\"fill\":{\"color\":\"#C8D4E3\"},\"line\":{\"color\":\"white\"}},\"type\":\"table\"}],\"barpolar\":[{\"marker\":{\"line\":{\"color\":\"#E5ECF6\",\"width\":0.5},\"pattern\":{\"fillmode\":\"overlay\",\"size\":10,\"solidity\":0.2}},\"type\":\"barpolar\"}],\"pie\":[{\"automargin\":true,\"type\":\"pie\"}]},\"layout\":{\"autotypenumbers\":\"strict\",\"colorway\":[\"#636efa\",\"#EF553B\",\"#00cc96\",\"#ab63fa\",\"#FFA15A\",\"#19d3f3\",\"#FF6692\",\"#B6E880\",\"#FF97FF\",\"#FECB52\"],\"font\":{\"color\":\"#2a3f5f\"},\"hovermode\":\"closest\",\"hoverlabel\":{\"align\":\"left\"},\"paper_bgcolor\":\"white\",\"plot_bgcolor\":\"#E5ECF6\",\"polar\":{\"bgcolor\":\"#E5ECF6\",\"angularaxis\":{\"gridcolor\":\"white\",\"linecolor\":\"white\",\"ticks\":\"\"},\"radialaxis\":{\"gridcolor\":\"white\",\"linecolor\":\"white\",\"ticks\":\"\"}},\"ternary\":{\"bgcolor\":\"#E5ECF6\",\"aaxis\":{\"gridcolor\":\"white\",\"linecolor\":\"white\",\"ticks\":\"\"},\"baxis\":{\"gridcolor\":\"white\",\"linecolor\":\"white\",\"ticks\":\"\"},\"caxis\":{\"gridcolor\":\"white\",\"linecolor\":\"white\",\"ticks\":\"\"}},\"coloraxis\":{\"colorbar\":{\"outlinewidth\":0,\"ticks\":\"\"}},\"colorscale\":{\"sequential\":[[0.0,\"#0d0887\"],[0.1111111111111111,\"#46039f\"],[0.2222222222222222,\"#7201a8\"],[0.3333333333333333,\"#9c179e\"],[0.4444444444444444,\"#bd3786\"],[0.5555555555555556,\"#d8576b\"],[0.6666666666666666,\"#ed7953\"],[0.7777777777777778,\"#fb9f3a\"],[0.8888888888888888,\"#fdca26\"],[1.0,\"#f0f921\"]],\"sequentialminus\":[[0.0,\"#0d0887\"],[0.1111111111111111,\"#46039f\"],[0.2222222222222222,\"#7201a8\"],[0.3333333333333333,\"#9c179e\"],[0.4444444444444444,\"#bd3786\"],[0.5555555555555556,\"#d8576b\"],[0.6666666666666666,\"#ed7953\"],[0.7777777777777778,\"#fb9f3a\"],[0.8888888888888888,\"#fdca26\"],[1.0,\"#f0f921\"]],\"diverging\":[[0,\"#8e0152\"],[0.1,\"#c51b7d\"],[0.2,\"#de77ae\"],[0.3,\"#f1b6da\"],[0.4,\"#fde0ef\"],[0.5,\"#f7f7f7\"],[0.6,\"#e6f5d0\"],[0.7,\"#b8e186\"],[0.8,\"#7fbc41\"],[0.9,\"#4d9221\"],[1,\"#276419\"]]},\"xaxis\":{\"gridcolor\":\"white\",\"linecolor\":\"white\",\"ticks\":\"\",\"title\":{\"standoff\":15},\"zerolinecolor\":\"white\",\"automargin\":true,\"zerolinewidth\":2},\"yaxis\":{\"gridcolor\":\"white\",\"linecolor\":\"white\",\"ticks\":\"\",\"title\":{\"standoff\":15},\"zerolinecolor\":\"white\",\"automargin\":true,\"zerolinewidth\":2},\"scene\":{\"xaxis\":{\"backgroundcolor\":\"#E5ECF6\",\"gridcolor\":\"white\",\"linecolor\":\"white\",\"showbackground\":true,\"ticks\":\"\",\"zerolinecolor\":\"white\",\"gridwidth\":2},\"yaxis\":{\"backgroundcolor\":\"#E5ECF6\",\"gridcolor\":\"white\",\"linecolor\":\"white\",\"showbackground\":true,\"ticks\":\"\",\"zerolinecolor\":\"white\",\"gridwidth\":2},\"zaxis\":{\"backgroundcolor\":\"#E5ECF6\",\"gridcolor\":\"white\",\"linecolor\":\"white\",\"showbackground\":true,\"ticks\":\"\",\"zerolinecolor\":\"white\",\"gridwidth\":2}},\"shapedefaults\":{\"line\":{\"color\":\"#2a3f5f\"}},\"annotationdefaults\":{\"arrowcolor\":\"#2a3f5f\",\"arrowhead\":0,\"arrowwidth\":1},\"geo\":{\"bgcolor\":\"white\",\"landcolor\":\"#E5ECF6\",\"subunitcolor\":\"white\",\"showland\":true,\"showlakes\":true,\"lakecolor\":\"white\"},\"title\":{\"x\":0.05},\"mapbox\":{\"style\":\"light\"}}},\"font\":{\"size\":15},\"xaxis\":{\"tickfont\":{\"size\":12,\"family\":\"Arial Black\"},\"title\":{\"text\":\"\\u003cb\\u003eTime\\u003cb\\u003e\",\"font\":{\"size\":12}},\"zeroline\":false,\"tickmode\":\"array\",\"tickvals\":[0,4,8,12,16,20],\"ticktext\":[\"00h00\",\"04h00\",\"08h00\",\"12h00\",\"16h00\",\"20h00\"],\"showline\":true,\"showgrid\":true,\"gridwidth\":1,\"linewidth\":2,\"linecolor\":\"black\",\"gridcolor\":\"black\"},\"yaxis\":{\"tickfont\":{\"size\":12,\"family\":\"Arial Black\"},\"title\":{\"text\":\"\\u003cb\\u003eP [MW]\\u003cb\\u003e\",\"font\":{\"size\":12}},\"zeroline\":false,\"showline\":true,\"showgrid\":true,\"gridwidth\":1,\"linewidth\":2,\"linecolor\":\"black\",\"gridcolor\":\"black\"},\"margin\":{\"t\":30},\"legend\":{\"font\":{\"size\":12}},\"paper_bgcolor\":\"white\",\"plot_bgcolor\":\"white\",\"width\":680,\"height\":400,\"title\":{\"text\":\"\\u003cb\\u003eline power\\u003cb\\u003e\",\"y\":0.97,\"x\":0.5,\"xanchor\":\"center\",\"yanchor\":\"top\"}},                        {\"responsive\": true}                    ).then(function(){\n",
       "                            \n",
       "var gd = document.getElementById('a3b1318a-fd8b-4ab7-81fc-28498a1c84f2');\n",
       "var x = new MutationObserver(function (mutations, observer) {{\n",
       "        var display = window.getComputedStyle(gd).display;\n",
       "        if (!display || display === 'none') {{\n",
       "            console.log([gd, 'removed!']);\n",
       "            Plotly.purge(gd);\n",
       "            observer.disconnect();\n",
       "        }}\n",
       "}});\n",
       "\n",
       "// Listen for the removal of the full notebook cells\n",
       "var notebookContainer = gd.closest('#notebook-container');\n",
       "if (notebookContainer) {{\n",
       "    x.observe(notebookContainer, {childList: true});\n",
       "}}\n",
       "\n",
       "// Listen for the clearing of the current output cell\n",
       "var outputEl = gd.closest('.output');\n",
       "if (outputEl) {{\n",
       "    x.observe(outputEl, {childList: true});\n",
       "}}\n",
       "\n",
       "                        })                };                });            </script>        </div>"
      ]
     },
     "metadata": {},
     "output_type": "display_data"
    }
   ],
   "source": [
    "net.load.loc[0, \"profile_mapping\"] = 1\n",
    "pp_sim.apply_power_profile(net=net, equipment=\"load\", power_profiles=time_series[\"load\"])\n",
    "result_df = pp_sim.run_time_simulation(net=net)\n",
    "print()\n",
    "pp_plot.plot_timeseries_result(data_df=result_df[\"res_bus.vm_pu\"], ylabel=\"V [pu]\",\n",
    "                       plot_title=\"Bus voltage\", filename= \"voltage_result\")\n",
    "print()\n",
    "pp_plot.plot_timeseries_result(data_df=result_df[\"res_line.p_from_mw\"], ylabel=\"P [MW]\",\n",
    "                       plot_title=\"line power\", filename= \"line_result\")"
   ]
  },
  {
   "cell_type": "markdown",
   "id": "6135a3bf",
   "metadata": {},
   "source": [
    "We can also scale our power profiles modifying `scaling` parameters:"
   ]
  },
  {
   "cell_type": "code",
   "execution_count": 65,
   "id": "e629d683",
   "metadata": {},
   "outputs": [
    {
     "data": {
      "application/vnd.plotly.v1+json": {
       "config": {
        "plotlyServerURL": "https://plot.ly"
       },
       "data": [
        {
         "hovertemplate": "<b>Bus 1<br>V [pu]: %{y:.2f}<br>Time: %{text}<b><extra></extra>",
         "mode": "lines",
         "name": "<b>Bus 1<b>",
         "text": [
          "00h00",
          "01h00",
          "02h00",
          "03h00",
          "04h00",
          "05h00",
          "06h00",
          "07h00",
          "08h00",
          "09h00",
          "10h00",
          "11h00",
          "12h00",
          "13h00",
          "14h00",
          "15h00",
          "16h00",
          "17h00",
          "18h00",
          "19h00",
          "20h00",
          "21h00",
          "22h00",
          "23h00"
         ],
         "type": "scatter",
         "x": [
          0,
          1,
          2,
          3,
          4,
          5,
          6,
          7,
          8,
          9,
          10,
          11,
          12,
          13,
          14,
          15,
          16,
          17,
          18,
          19,
          20,
          21,
          22,
          23
         ],
         "y": [
          1.2,
          1.2,
          1.2,
          1.2,
          1.2,
          1.2,
          1.2,
          1.2,
          1.2,
          1.2,
          1.2,
          1.2,
          1.2,
          1.2,
          1.2,
          1.2,
          1.2,
          1.2,
          1.2,
          1.2,
          1.2,
          1.2,
          1.2,
          1.2
         ]
        },
        {
         "hovertemplate": "<b>Bus 2<br>V [pu]: %{y:.2f}<br>Time: %{text}<b><extra></extra>",
         "mode": "lines",
         "name": "<b>Bus 2<b>",
         "text": [
          "00h00",
          "01h00",
          "02h00",
          "03h00",
          "04h00",
          "05h00",
          "06h00",
          "07h00",
          "08h00",
          "09h00",
          "10h00",
          "11h00",
          "12h00",
          "13h00",
          "14h00",
          "15h00",
          "16h00",
          "17h00",
          "18h00",
          "19h00",
          "20h00",
          "21h00",
          "22h00",
          "23h00"
         ],
         "type": "scatter",
         "x": [
          0,
          1,
          2,
          3,
          4,
          5,
          6,
          7,
          8,
          9,
          10,
          11,
          12,
          13,
          14,
          15,
          16,
          17,
          18,
          19,
          20,
          21,
          22,
          23
         ],
         "y": [
          1.154548780218172,
          1.1514018793596874,
          1.1508024779304638,
          1.1538978598320433,
          1.160795907234781,
          1.1615905923019294,
          1.164379455206872,
          1.1721016461845504,
          1.1805002958622213,
          1.1844977941122505,
          1.1829185836538305,
          1.1818991844799522,
          1.1798551374824084,
          1.1755088111279837,
          1.1735630968076838,
          1.1748127666061168,
          1.1701210031803555,
          1.1668151799315947,
          1.1647685166620623,
          1.1639643070391976,
          1.1621227449491527,
          1.1596994657818063,
          1.1579433377967507,
          1.1567764080111136
         ]
        },
        {
         "hovertemplate": "<b>Bus 3<br>V [pu]: %{y:.2f}<br>Time: %{text}<b><extra></extra>",
         "mode": "lines",
         "name": "<b>Bus 3<b>",
         "text": [
          "00h00",
          "01h00",
          "02h00",
          "03h00",
          "04h00",
          "05h00",
          "06h00",
          "07h00",
          "08h00",
          "09h00",
          "10h00",
          "11h00",
          "12h00",
          "13h00",
          "14h00",
          "15h00",
          "16h00",
          "17h00",
          "18h00",
          "19h00",
          "20h00",
          "21h00",
          "22h00",
          "23h00"
         ],
         "type": "scatter",
         "x": [
          0,
          1,
          2,
          3,
          4,
          5,
          6,
          7,
          8,
          9,
          10,
          11,
          12,
          13,
          14,
          15,
          16,
          17,
          18,
          19,
          20,
          21,
          22,
          23
         ],
         "y": [
          0.9668542809395793,
          0.9499600705852242,
          0.9467296906118515,
          0.963368747091402,
          1.0000752982710523,
          1.0042719419348791,
          1.0189486614776928,
          1.0591864577515981,
          1.1023132211998754,
          1.1226195854410113,
          1.1146140955136765,
          1.109435028912639,
          1.0990228973266236,
          1.0767596397438302,
          1.066737400621129,
          1.0731783715460241,
          1.048920877421152,
          1.031703144998014,
          1.020989908870895,
          1.016768875440579,
          1.0070785580686084,
          0.9942744008881556,
          0.9849571791913481,
          0.9787479678409221
         ]
        }
       ],
       "layout": {
        "font": {
         "size": 15
        },
        "height": 400,
        "legend": {
         "font": {
          "size": 12
         }
        },
        "margin": {
         "t": 30
        },
        "paper_bgcolor": "white",
        "plot_bgcolor": "white",
        "template": {
         "data": {
          "bar": [
           {
            "error_x": {
             "color": "#2a3f5f"
            },
            "error_y": {
             "color": "#2a3f5f"
            },
            "marker": {
             "line": {
              "color": "#E5ECF6",
              "width": 0.5
             },
             "pattern": {
              "fillmode": "overlay",
              "size": 10,
              "solidity": 0.2
             }
            },
            "type": "bar"
           }
          ],
          "barpolar": [
           {
            "marker": {
             "line": {
              "color": "#E5ECF6",
              "width": 0.5
             },
             "pattern": {
              "fillmode": "overlay",
              "size": 10,
              "solidity": 0.2
             }
            },
            "type": "barpolar"
           }
          ],
          "carpet": [
           {
            "aaxis": {
             "endlinecolor": "#2a3f5f",
             "gridcolor": "white",
             "linecolor": "white",
             "minorgridcolor": "white",
             "startlinecolor": "#2a3f5f"
            },
            "baxis": {
             "endlinecolor": "#2a3f5f",
             "gridcolor": "white",
             "linecolor": "white",
             "minorgridcolor": "white",
             "startlinecolor": "#2a3f5f"
            },
            "type": "carpet"
           }
          ],
          "choropleth": [
           {
            "colorbar": {
             "outlinewidth": 0,
             "ticks": ""
            },
            "type": "choropleth"
           }
          ],
          "contour": [
           {
            "colorbar": {
             "outlinewidth": 0,
             "ticks": ""
            },
            "colorscale": [
             [
              0,
              "#0d0887"
             ],
             [
              0.1111111111111111,
              "#46039f"
             ],
             [
              0.2222222222222222,
              "#7201a8"
             ],
             [
              0.3333333333333333,
              "#9c179e"
             ],
             [
              0.4444444444444444,
              "#bd3786"
             ],
             [
              0.5555555555555556,
              "#d8576b"
             ],
             [
              0.6666666666666666,
              "#ed7953"
             ],
             [
              0.7777777777777778,
              "#fb9f3a"
             ],
             [
              0.8888888888888888,
              "#fdca26"
             ],
             [
              1,
              "#f0f921"
             ]
            ],
            "type": "contour"
           }
          ],
          "contourcarpet": [
           {
            "colorbar": {
             "outlinewidth": 0,
             "ticks": ""
            },
            "type": "contourcarpet"
           }
          ],
          "heatmap": [
           {
            "colorbar": {
             "outlinewidth": 0,
             "ticks": ""
            },
            "colorscale": [
             [
              0,
              "#0d0887"
             ],
             [
              0.1111111111111111,
              "#46039f"
             ],
             [
              0.2222222222222222,
              "#7201a8"
             ],
             [
              0.3333333333333333,
              "#9c179e"
             ],
             [
              0.4444444444444444,
              "#bd3786"
             ],
             [
              0.5555555555555556,
              "#d8576b"
             ],
             [
              0.6666666666666666,
              "#ed7953"
             ],
             [
              0.7777777777777778,
              "#fb9f3a"
             ],
             [
              0.8888888888888888,
              "#fdca26"
             ],
             [
              1,
              "#f0f921"
             ]
            ],
            "type": "heatmap"
           }
          ],
          "heatmapgl": [
           {
            "colorbar": {
             "outlinewidth": 0,
             "ticks": ""
            },
            "colorscale": [
             [
              0,
              "#0d0887"
             ],
             [
              0.1111111111111111,
              "#46039f"
             ],
             [
              0.2222222222222222,
              "#7201a8"
             ],
             [
              0.3333333333333333,
              "#9c179e"
             ],
             [
              0.4444444444444444,
              "#bd3786"
             ],
             [
              0.5555555555555556,
              "#d8576b"
             ],
             [
              0.6666666666666666,
              "#ed7953"
             ],
             [
              0.7777777777777778,
              "#fb9f3a"
             ],
             [
              0.8888888888888888,
              "#fdca26"
             ],
             [
              1,
              "#f0f921"
             ]
            ],
            "type": "heatmapgl"
           }
          ],
          "histogram": [
           {
            "marker": {
             "pattern": {
              "fillmode": "overlay",
              "size": 10,
              "solidity": 0.2
             }
            },
            "type": "histogram"
           }
          ],
          "histogram2d": [
           {
            "colorbar": {
             "outlinewidth": 0,
             "ticks": ""
            },
            "colorscale": [
             [
              0,
              "#0d0887"
             ],
             [
              0.1111111111111111,
              "#46039f"
             ],
             [
              0.2222222222222222,
              "#7201a8"
             ],
             [
              0.3333333333333333,
              "#9c179e"
             ],
             [
              0.4444444444444444,
              "#bd3786"
             ],
             [
              0.5555555555555556,
              "#d8576b"
             ],
             [
              0.6666666666666666,
              "#ed7953"
             ],
             [
              0.7777777777777778,
              "#fb9f3a"
             ],
             [
              0.8888888888888888,
              "#fdca26"
             ],
             [
              1,
              "#f0f921"
             ]
            ],
            "type": "histogram2d"
           }
          ],
          "histogram2dcontour": [
           {
            "colorbar": {
             "outlinewidth": 0,
             "ticks": ""
            },
            "colorscale": [
             [
              0,
              "#0d0887"
             ],
             [
              0.1111111111111111,
              "#46039f"
             ],
             [
              0.2222222222222222,
              "#7201a8"
             ],
             [
              0.3333333333333333,
              "#9c179e"
             ],
             [
              0.4444444444444444,
              "#bd3786"
             ],
             [
              0.5555555555555556,
              "#d8576b"
             ],
             [
              0.6666666666666666,
              "#ed7953"
             ],
             [
              0.7777777777777778,
              "#fb9f3a"
             ],
             [
              0.8888888888888888,
              "#fdca26"
             ],
             [
              1,
              "#f0f921"
             ]
            ],
            "type": "histogram2dcontour"
           }
          ],
          "mesh3d": [
           {
            "colorbar": {
             "outlinewidth": 0,
             "ticks": ""
            },
            "type": "mesh3d"
           }
          ],
          "parcoords": [
           {
            "line": {
             "colorbar": {
              "outlinewidth": 0,
              "ticks": ""
             }
            },
            "type": "parcoords"
           }
          ],
          "pie": [
           {
            "automargin": true,
            "type": "pie"
           }
          ],
          "scatter": [
           {
            "fillpattern": {
             "fillmode": "overlay",
             "size": 10,
             "solidity": 0.2
            },
            "type": "scatter"
           }
          ],
          "scatter3d": [
           {
            "line": {
             "colorbar": {
              "outlinewidth": 0,
              "ticks": ""
             }
            },
            "marker": {
             "colorbar": {
              "outlinewidth": 0,
              "ticks": ""
             }
            },
            "type": "scatter3d"
           }
          ],
          "scattercarpet": [
           {
            "marker": {
             "colorbar": {
              "outlinewidth": 0,
              "ticks": ""
             }
            },
            "type": "scattercarpet"
           }
          ],
          "scattergeo": [
           {
            "marker": {
             "colorbar": {
              "outlinewidth": 0,
              "ticks": ""
             }
            },
            "type": "scattergeo"
           }
          ],
          "scattergl": [
           {
            "marker": {
             "colorbar": {
              "outlinewidth": 0,
              "ticks": ""
             }
            },
            "type": "scattergl"
           }
          ],
          "scattermapbox": [
           {
            "marker": {
             "colorbar": {
              "outlinewidth": 0,
              "ticks": ""
             }
            },
            "type": "scattermapbox"
           }
          ],
          "scatterpolar": [
           {
            "marker": {
             "colorbar": {
              "outlinewidth": 0,
              "ticks": ""
             }
            },
            "type": "scatterpolar"
           }
          ],
          "scatterpolargl": [
           {
            "marker": {
             "colorbar": {
              "outlinewidth": 0,
              "ticks": ""
             }
            },
            "type": "scatterpolargl"
           }
          ],
          "scatterternary": [
           {
            "marker": {
             "colorbar": {
              "outlinewidth": 0,
              "ticks": ""
             }
            },
            "type": "scatterternary"
           }
          ],
          "surface": [
           {
            "colorbar": {
             "outlinewidth": 0,
             "ticks": ""
            },
            "colorscale": [
             [
              0,
              "#0d0887"
             ],
             [
              0.1111111111111111,
              "#46039f"
             ],
             [
              0.2222222222222222,
              "#7201a8"
             ],
             [
              0.3333333333333333,
              "#9c179e"
             ],
             [
              0.4444444444444444,
              "#bd3786"
             ],
             [
              0.5555555555555556,
              "#d8576b"
             ],
             [
              0.6666666666666666,
              "#ed7953"
             ],
             [
              0.7777777777777778,
              "#fb9f3a"
             ],
             [
              0.8888888888888888,
              "#fdca26"
             ],
             [
              1,
              "#f0f921"
             ]
            ],
            "type": "surface"
           }
          ],
          "table": [
           {
            "cells": {
             "fill": {
              "color": "#EBF0F8"
             },
             "line": {
              "color": "white"
             }
            },
            "header": {
             "fill": {
              "color": "#C8D4E3"
             },
             "line": {
              "color": "white"
             }
            },
            "type": "table"
           }
          ]
         },
         "layout": {
          "annotationdefaults": {
           "arrowcolor": "#2a3f5f",
           "arrowhead": 0,
           "arrowwidth": 1
          },
          "autotypenumbers": "strict",
          "coloraxis": {
           "colorbar": {
            "outlinewidth": 0,
            "ticks": ""
           }
          },
          "colorscale": {
           "diverging": [
            [
             0,
             "#8e0152"
            ],
            [
             0.1,
             "#c51b7d"
            ],
            [
             0.2,
             "#de77ae"
            ],
            [
             0.3,
             "#f1b6da"
            ],
            [
             0.4,
             "#fde0ef"
            ],
            [
             0.5,
             "#f7f7f7"
            ],
            [
             0.6,
             "#e6f5d0"
            ],
            [
             0.7,
             "#b8e186"
            ],
            [
             0.8,
             "#7fbc41"
            ],
            [
             0.9,
             "#4d9221"
            ],
            [
             1,
             "#276419"
            ]
           ],
           "sequential": [
            [
             0,
             "#0d0887"
            ],
            [
             0.1111111111111111,
             "#46039f"
            ],
            [
             0.2222222222222222,
             "#7201a8"
            ],
            [
             0.3333333333333333,
             "#9c179e"
            ],
            [
             0.4444444444444444,
             "#bd3786"
            ],
            [
             0.5555555555555556,
             "#d8576b"
            ],
            [
             0.6666666666666666,
             "#ed7953"
            ],
            [
             0.7777777777777778,
             "#fb9f3a"
            ],
            [
             0.8888888888888888,
             "#fdca26"
            ],
            [
             1,
             "#f0f921"
            ]
           ],
           "sequentialminus": [
            [
             0,
             "#0d0887"
            ],
            [
             0.1111111111111111,
             "#46039f"
            ],
            [
             0.2222222222222222,
             "#7201a8"
            ],
            [
             0.3333333333333333,
             "#9c179e"
            ],
            [
             0.4444444444444444,
             "#bd3786"
            ],
            [
             0.5555555555555556,
             "#d8576b"
            ],
            [
             0.6666666666666666,
             "#ed7953"
            ],
            [
             0.7777777777777778,
             "#fb9f3a"
            ],
            [
             0.8888888888888888,
             "#fdca26"
            ],
            [
             1,
             "#f0f921"
            ]
           ]
          },
          "colorway": [
           "#636efa",
           "#EF553B",
           "#00cc96",
           "#ab63fa",
           "#FFA15A",
           "#19d3f3",
           "#FF6692",
           "#B6E880",
           "#FF97FF",
           "#FECB52"
          ],
          "font": {
           "color": "#2a3f5f"
          },
          "geo": {
           "bgcolor": "white",
           "lakecolor": "white",
           "landcolor": "#E5ECF6",
           "showlakes": true,
           "showland": true,
           "subunitcolor": "white"
          },
          "hoverlabel": {
           "align": "left"
          },
          "hovermode": "closest",
          "mapbox": {
           "style": "light"
          },
          "paper_bgcolor": "white",
          "plot_bgcolor": "#E5ECF6",
          "polar": {
           "angularaxis": {
            "gridcolor": "white",
            "linecolor": "white",
            "ticks": ""
           },
           "bgcolor": "#E5ECF6",
           "radialaxis": {
            "gridcolor": "white",
            "linecolor": "white",
            "ticks": ""
           }
          },
          "scene": {
           "xaxis": {
            "backgroundcolor": "#E5ECF6",
            "gridcolor": "white",
            "gridwidth": 2,
            "linecolor": "white",
            "showbackground": true,
            "ticks": "",
            "zerolinecolor": "white"
           },
           "yaxis": {
            "backgroundcolor": "#E5ECF6",
            "gridcolor": "white",
            "gridwidth": 2,
            "linecolor": "white",
            "showbackground": true,
            "ticks": "",
            "zerolinecolor": "white"
           },
           "zaxis": {
            "backgroundcolor": "#E5ECF6",
            "gridcolor": "white",
            "gridwidth": 2,
            "linecolor": "white",
            "showbackground": true,
            "ticks": "",
            "zerolinecolor": "white"
           }
          },
          "shapedefaults": {
           "line": {
            "color": "#2a3f5f"
           }
          },
          "ternary": {
           "aaxis": {
            "gridcolor": "white",
            "linecolor": "white",
            "ticks": ""
           },
           "baxis": {
            "gridcolor": "white",
            "linecolor": "white",
            "ticks": ""
           },
           "bgcolor": "#E5ECF6",
           "caxis": {
            "gridcolor": "white",
            "linecolor": "white",
            "ticks": ""
           }
          },
          "title": {
           "x": 0.05
          },
          "xaxis": {
           "automargin": true,
           "gridcolor": "white",
           "linecolor": "white",
           "ticks": "",
           "title": {
            "standoff": 15
           },
           "zerolinecolor": "white",
           "zerolinewidth": 2
          },
          "yaxis": {
           "automargin": true,
           "gridcolor": "white",
           "linecolor": "white",
           "ticks": "",
           "title": {
            "standoff": 15
           },
           "zerolinecolor": "white",
           "zerolinewidth": 2
          }
         }
        },
        "title": {
         "text": "<b>Bus voltage<b>",
         "x": 0.5,
         "xanchor": "center",
         "y": 0.97,
         "yanchor": "top"
        },
        "width": 680,
        "xaxis": {
         "gridcolor": "black",
         "gridwidth": 1,
         "linecolor": "black",
         "linewidth": 2,
         "showgrid": true,
         "showline": true,
         "tickfont": {
          "family": "Arial Black",
          "size": 12
         },
         "tickmode": "array",
         "ticktext": [
          "00h00",
          "04h00",
          "08h00",
          "12h00",
          "16h00",
          "20h00"
         ],
         "tickvals": [
          0,
          4,
          8,
          12,
          16,
          20
         ],
         "title": {
          "font": {
           "size": 12
          },
          "text": "<b>Time<b>"
         },
         "zeroline": false
        },
        "yaxis": {
         "gridcolor": "black",
         "gridwidth": 1,
         "linecolor": "black",
         "linewidth": 2,
         "showgrid": true,
         "showline": true,
         "tickfont": {
          "family": "Arial Black",
          "size": 12
         },
         "title": {
          "font": {
           "size": 12
          },
          "text": "<b>V [pu]<b>"
         },
         "zeroline": false
        }
       }
      },
      "text/html": [
       "<div>                            <div id=\"4e1f61b6-9881-4ff2-94ec-6d1c6d61dc9c\" class=\"plotly-graph-div\" style=\"height:400px; width:680px;\"></div>            <script type=\"text/javascript\">                require([\"plotly\"], function(Plotly) {                    window.PLOTLYENV=window.PLOTLYENV || {};                                    if (document.getElementById(\"4e1f61b6-9881-4ff2-94ec-6d1c6d61dc9c\")) {                    Plotly.newPlot(                        \"4e1f61b6-9881-4ff2-94ec-6d1c6d61dc9c\",                        [{\"hovertemplate\":\"\\u003cb\\u003eBus 1\\u003cbr\\u003eV [pu]: %{y:.2f}\\u003cbr\\u003eTime: %{text}\\u003cb\\u003e\\u003cextra\\u003e\\u003c\\u002fextra\\u003e\",\"mode\":\"lines\",\"name\":\"\\u003cb\\u003eBus 1\\u003cb\\u003e\",\"text\":[\"00h00\",\"01h00\",\"02h00\",\"03h00\",\"04h00\",\"05h00\",\"06h00\",\"07h00\",\"08h00\",\"09h00\",\"10h00\",\"11h00\",\"12h00\",\"13h00\",\"14h00\",\"15h00\",\"16h00\",\"17h00\",\"18h00\",\"19h00\",\"20h00\",\"21h00\",\"22h00\",\"23h00\"],\"x\":[0,1,2,3,4,5,6,7,8,9,10,11,12,13,14,15,16,17,18,19,20,21,22,23],\"y\":[1.2,1.2,1.2,1.2,1.2,1.2,1.2,1.2,1.2,1.2,1.2,1.2,1.2,1.2,1.2,1.2,1.2,1.2,1.2,1.2,1.2,1.2,1.2,1.2],\"type\":\"scatter\"},{\"hovertemplate\":\"\\u003cb\\u003eBus 2\\u003cbr\\u003eV [pu]: %{y:.2f}\\u003cbr\\u003eTime: %{text}\\u003cb\\u003e\\u003cextra\\u003e\\u003c\\u002fextra\\u003e\",\"mode\":\"lines\",\"name\":\"\\u003cb\\u003eBus 2\\u003cb\\u003e\",\"text\":[\"00h00\",\"01h00\",\"02h00\",\"03h00\",\"04h00\",\"05h00\",\"06h00\",\"07h00\",\"08h00\",\"09h00\",\"10h00\",\"11h00\",\"12h00\",\"13h00\",\"14h00\",\"15h00\",\"16h00\",\"17h00\",\"18h00\",\"19h00\",\"20h00\",\"21h00\",\"22h00\",\"23h00\"],\"x\":[0,1,2,3,4,5,6,7,8,9,10,11,12,13,14,15,16,17,18,19,20,21,22,23],\"y\":[1.154548780218172,1.1514018793596874,1.1508024779304638,1.1538978598320433,1.160795907234781,1.1615905923019294,1.164379455206872,1.1721016461845504,1.1805002958622213,1.1844977941122505,1.1829185836538305,1.1818991844799522,1.1798551374824084,1.1755088111279837,1.1735630968076838,1.1748127666061168,1.1701210031803555,1.1668151799315947,1.1647685166620623,1.1639643070391976,1.1621227449491527,1.1596994657818063,1.1579433377967507,1.1567764080111136],\"type\":\"scatter\"},{\"hovertemplate\":\"\\u003cb\\u003eBus 3\\u003cbr\\u003eV [pu]: %{y:.2f}\\u003cbr\\u003eTime: %{text}\\u003cb\\u003e\\u003cextra\\u003e\\u003c\\u002fextra\\u003e\",\"mode\":\"lines\",\"name\":\"\\u003cb\\u003eBus 3\\u003cb\\u003e\",\"text\":[\"00h00\",\"01h00\",\"02h00\",\"03h00\",\"04h00\",\"05h00\",\"06h00\",\"07h00\",\"08h00\",\"09h00\",\"10h00\",\"11h00\",\"12h00\",\"13h00\",\"14h00\",\"15h00\",\"16h00\",\"17h00\",\"18h00\",\"19h00\",\"20h00\",\"21h00\",\"22h00\",\"23h00\"],\"x\":[0,1,2,3,4,5,6,7,8,9,10,11,12,13,14,15,16,17,18,19,20,21,22,23],\"y\":[0.9668542809395793,0.9499600705852242,0.9467296906118515,0.963368747091402,1.0000752982710523,1.0042719419348791,1.0189486614776928,1.0591864577515981,1.1023132211998754,1.1226195854410113,1.1146140955136765,1.109435028912639,1.0990228973266236,1.0767596397438302,1.066737400621129,1.0731783715460241,1.048920877421152,1.031703144998014,1.020989908870895,1.016768875440579,1.0070785580686084,0.9942744008881556,0.9849571791913481,0.9787479678409221],\"type\":\"scatter\"}],                        {\"template\":{\"data\":{\"histogram2dcontour\":[{\"type\":\"histogram2dcontour\",\"colorbar\":{\"outlinewidth\":0,\"ticks\":\"\"},\"colorscale\":[[0.0,\"#0d0887\"],[0.1111111111111111,\"#46039f\"],[0.2222222222222222,\"#7201a8\"],[0.3333333333333333,\"#9c179e\"],[0.4444444444444444,\"#bd3786\"],[0.5555555555555556,\"#d8576b\"],[0.6666666666666666,\"#ed7953\"],[0.7777777777777778,\"#fb9f3a\"],[0.8888888888888888,\"#fdca26\"],[1.0,\"#f0f921\"]]}],\"choropleth\":[{\"type\":\"choropleth\",\"colorbar\":{\"outlinewidth\":0,\"ticks\":\"\"}}],\"histogram2d\":[{\"type\":\"histogram2d\",\"colorbar\":{\"outlinewidth\":0,\"ticks\":\"\"},\"colorscale\":[[0.0,\"#0d0887\"],[0.1111111111111111,\"#46039f\"],[0.2222222222222222,\"#7201a8\"],[0.3333333333333333,\"#9c179e\"],[0.4444444444444444,\"#bd3786\"],[0.5555555555555556,\"#d8576b\"],[0.6666666666666666,\"#ed7953\"],[0.7777777777777778,\"#fb9f3a\"],[0.8888888888888888,\"#fdca26\"],[1.0,\"#f0f921\"]]}],\"heatmap\":[{\"type\":\"heatmap\",\"colorbar\":{\"outlinewidth\":0,\"ticks\":\"\"},\"colorscale\":[[0.0,\"#0d0887\"],[0.1111111111111111,\"#46039f\"],[0.2222222222222222,\"#7201a8\"],[0.3333333333333333,\"#9c179e\"],[0.4444444444444444,\"#bd3786\"],[0.5555555555555556,\"#d8576b\"],[0.6666666666666666,\"#ed7953\"],[0.7777777777777778,\"#fb9f3a\"],[0.8888888888888888,\"#fdca26\"],[1.0,\"#f0f921\"]]}],\"heatmapgl\":[{\"type\":\"heatmapgl\",\"colorbar\":{\"outlinewidth\":0,\"ticks\":\"\"},\"colorscale\":[[0.0,\"#0d0887\"],[0.1111111111111111,\"#46039f\"],[0.2222222222222222,\"#7201a8\"],[0.3333333333333333,\"#9c179e\"],[0.4444444444444444,\"#bd3786\"],[0.5555555555555556,\"#d8576b\"],[0.6666666666666666,\"#ed7953\"],[0.7777777777777778,\"#fb9f3a\"],[0.8888888888888888,\"#fdca26\"],[1.0,\"#f0f921\"]]}],\"contourcarpet\":[{\"type\":\"contourcarpet\",\"colorbar\":{\"outlinewidth\":0,\"ticks\":\"\"}}],\"contour\":[{\"type\":\"contour\",\"colorbar\":{\"outlinewidth\":0,\"ticks\":\"\"},\"colorscale\":[[0.0,\"#0d0887\"],[0.1111111111111111,\"#46039f\"],[0.2222222222222222,\"#7201a8\"],[0.3333333333333333,\"#9c179e\"],[0.4444444444444444,\"#bd3786\"],[0.5555555555555556,\"#d8576b\"],[0.6666666666666666,\"#ed7953\"],[0.7777777777777778,\"#fb9f3a\"],[0.8888888888888888,\"#fdca26\"],[1.0,\"#f0f921\"]]}],\"surface\":[{\"type\":\"surface\",\"colorbar\":{\"outlinewidth\":0,\"ticks\":\"\"},\"colorscale\":[[0.0,\"#0d0887\"],[0.1111111111111111,\"#46039f\"],[0.2222222222222222,\"#7201a8\"],[0.3333333333333333,\"#9c179e\"],[0.4444444444444444,\"#bd3786\"],[0.5555555555555556,\"#d8576b\"],[0.6666666666666666,\"#ed7953\"],[0.7777777777777778,\"#fb9f3a\"],[0.8888888888888888,\"#fdca26\"],[1.0,\"#f0f921\"]]}],\"mesh3d\":[{\"type\":\"mesh3d\",\"colorbar\":{\"outlinewidth\":0,\"ticks\":\"\"}}],\"scatter\":[{\"fillpattern\":{\"fillmode\":\"overlay\",\"size\":10,\"solidity\":0.2},\"type\":\"scatter\"}],\"parcoords\":[{\"type\":\"parcoords\",\"line\":{\"colorbar\":{\"outlinewidth\":0,\"ticks\":\"\"}}}],\"scatterpolargl\":[{\"type\":\"scatterpolargl\",\"marker\":{\"colorbar\":{\"outlinewidth\":0,\"ticks\":\"\"}}}],\"bar\":[{\"error_x\":{\"color\":\"#2a3f5f\"},\"error_y\":{\"color\":\"#2a3f5f\"},\"marker\":{\"line\":{\"color\":\"#E5ECF6\",\"width\":0.5},\"pattern\":{\"fillmode\":\"overlay\",\"size\":10,\"solidity\":0.2}},\"type\":\"bar\"}],\"scattergeo\":[{\"type\":\"scattergeo\",\"marker\":{\"colorbar\":{\"outlinewidth\":0,\"ticks\":\"\"}}}],\"scatterpolar\":[{\"type\":\"scatterpolar\",\"marker\":{\"colorbar\":{\"outlinewidth\":0,\"ticks\":\"\"}}}],\"histogram\":[{\"marker\":{\"pattern\":{\"fillmode\":\"overlay\",\"size\":10,\"solidity\":0.2}},\"type\":\"histogram\"}],\"scattergl\":[{\"type\":\"scattergl\",\"marker\":{\"colorbar\":{\"outlinewidth\":0,\"ticks\":\"\"}}}],\"scatter3d\":[{\"type\":\"scatter3d\",\"line\":{\"colorbar\":{\"outlinewidth\":0,\"ticks\":\"\"}},\"marker\":{\"colorbar\":{\"outlinewidth\":0,\"ticks\":\"\"}}}],\"scattermapbox\":[{\"type\":\"scattermapbox\",\"marker\":{\"colorbar\":{\"outlinewidth\":0,\"ticks\":\"\"}}}],\"scatterternary\":[{\"type\":\"scatterternary\",\"marker\":{\"colorbar\":{\"outlinewidth\":0,\"ticks\":\"\"}}}],\"scattercarpet\":[{\"type\":\"scattercarpet\",\"marker\":{\"colorbar\":{\"outlinewidth\":0,\"ticks\":\"\"}}}],\"carpet\":[{\"aaxis\":{\"endlinecolor\":\"#2a3f5f\",\"gridcolor\":\"white\",\"linecolor\":\"white\",\"minorgridcolor\":\"white\",\"startlinecolor\":\"#2a3f5f\"},\"baxis\":{\"endlinecolor\":\"#2a3f5f\",\"gridcolor\":\"white\",\"linecolor\":\"white\",\"minorgridcolor\":\"white\",\"startlinecolor\":\"#2a3f5f\"},\"type\":\"carpet\"}],\"table\":[{\"cells\":{\"fill\":{\"color\":\"#EBF0F8\"},\"line\":{\"color\":\"white\"}},\"header\":{\"fill\":{\"color\":\"#C8D4E3\"},\"line\":{\"color\":\"white\"}},\"type\":\"table\"}],\"barpolar\":[{\"marker\":{\"line\":{\"color\":\"#E5ECF6\",\"width\":0.5},\"pattern\":{\"fillmode\":\"overlay\",\"size\":10,\"solidity\":0.2}},\"type\":\"barpolar\"}],\"pie\":[{\"automargin\":true,\"type\":\"pie\"}]},\"layout\":{\"autotypenumbers\":\"strict\",\"colorway\":[\"#636efa\",\"#EF553B\",\"#00cc96\",\"#ab63fa\",\"#FFA15A\",\"#19d3f3\",\"#FF6692\",\"#B6E880\",\"#FF97FF\",\"#FECB52\"],\"font\":{\"color\":\"#2a3f5f\"},\"hovermode\":\"closest\",\"hoverlabel\":{\"align\":\"left\"},\"paper_bgcolor\":\"white\",\"plot_bgcolor\":\"#E5ECF6\",\"polar\":{\"bgcolor\":\"#E5ECF6\",\"angularaxis\":{\"gridcolor\":\"white\",\"linecolor\":\"white\",\"ticks\":\"\"},\"radialaxis\":{\"gridcolor\":\"white\",\"linecolor\":\"white\",\"ticks\":\"\"}},\"ternary\":{\"bgcolor\":\"#E5ECF6\",\"aaxis\":{\"gridcolor\":\"white\",\"linecolor\":\"white\",\"ticks\":\"\"},\"baxis\":{\"gridcolor\":\"white\",\"linecolor\":\"white\",\"ticks\":\"\"},\"caxis\":{\"gridcolor\":\"white\",\"linecolor\":\"white\",\"ticks\":\"\"}},\"coloraxis\":{\"colorbar\":{\"outlinewidth\":0,\"ticks\":\"\"}},\"colorscale\":{\"sequential\":[[0.0,\"#0d0887\"],[0.1111111111111111,\"#46039f\"],[0.2222222222222222,\"#7201a8\"],[0.3333333333333333,\"#9c179e\"],[0.4444444444444444,\"#bd3786\"],[0.5555555555555556,\"#d8576b\"],[0.6666666666666666,\"#ed7953\"],[0.7777777777777778,\"#fb9f3a\"],[0.8888888888888888,\"#fdca26\"],[1.0,\"#f0f921\"]],\"sequentialminus\":[[0.0,\"#0d0887\"],[0.1111111111111111,\"#46039f\"],[0.2222222222222222,\"#7201a8\"],[0.3333333333333333,\"#9c179e\"],[0.4444444444444444,\"#bd3786\"],[0.5555555555555556,\"#d8576b\"],[0.6666666666666666,\"#ed7953\"],[0.7777777777777778,\"#fb9f3a\"],[0.8888888888888888,\"#fdca26\"],[1.0,\"#f0f921\"]],\"diverging\":[[0,\"#8e0152\"],[0.1,\"#c51b7d\"],[0.2,\"#de77ae\"],[0.3,\"#f1b6da\"],[0.4,\"#fde0ef\"],[0.5,\"#f7f7f7\"],[0.6,\"#e6f5d0\"],[0.7,\"#b8e186\"],[0.8,\"#7fbc41\"],[0.9,\"#4d9221\"],[1,\"#276419\"]]},\"xaxis\":{\"gridcolor\":\"white\",\"linecolor\":\"white\",\"ticks\":\"\",\"title\":{\"standoff\":15},\"zerolinecolor\":\"white\",\"automargin\":true,\"zerolinewidth\":2},\"yaxis\":{\"gridcolor\":\"white\",\"linecolor\":\"white\",\"ticks\":\"\",\"title\":{\"standoff\":15},\"zerolinecolor\":\"white\",\"automargin\":true,\"zerolinewidth\":2},\"scene\":{\"xaxis\":{\"backgroundcolor\":\"#E5ECF6\",\"gridcolor\":\"white\",\"linecolor\":\"white\",\"showbackground\":true,\"ticks\":\"\",\"zerolinecolor\":\"white\",\"gridwidth\":2},\"yaxis\":{\"backgroundcolor\":\"#E5ECF6\",\"gridcolor\":\"white\",\"linecolor\":\"white\",\"showbackground\":true,\"ticks\":\"\",\"zerolinecolor\":\"white\",\"gridwidth\":2},\"zaxis\":{\"backgroundcolor\":\"#E5ECF6\",\"gridcolor\":\"white\",\"linecolor\":\"white\",\"showbackground\":true,\"ticks\":\"\",\"zerolinecolor\":\"white\",\"gridwidth\":2}},\"shapedefaults\":{\"line\":{\"color\":\"#2a3f5f\"}},\"annotationdefaults\":{\"arrowcolor\":\"#2a3f5f\",\"arrowhead\":0,\"arrowwidth\":1},\"geo\":{\"bgcolor\":\"white\",\"landcolor\":\"#E5ECF6\",\"subunitcolor\":\"white\",\"showland\":true,\"showlakes\":true,\"lakecolor\":\"white\"},\"title\":{\"x\":0.05},\"mapbox\":{\"style\":\"light\"}}},\"font\":{\"size\":15},\"xaxis\":{\"tickfont\":{\"size\":12,\"family\":\"Arial Black\"},\"title\":{\"text\":\"\\u003cb\\u003eTime\\u003cb\\u003e\",\"font\":{\"size\":12}},\"zeroline\":false,\"tickmode\":\"array\",\"tickvals\":[0,4,8,12,16,20],\"ticktext\":[\"00h00\",\"04h00\",\"08h00\",\"12h00\",\"16h00\",\"20h00\"],\"showline\":true,\"showgrid\":true,\"gridwidth\":1,\"linewidth\":2,\"linecolor\":\"black\",\"gridcolor\":\"black\"},\"yaxis\":{\"tickfont\":{\"size\":12,\"family\":\"Arial Black\"},\"title\":{\"text\":\"\\u003cb\\u003eV [pu]\\u003cb\\u003e\",\"font\":{\"size\":12}},\"zeroline\":false,\"showline\":true,\"showgrid\":true,\"gridwidth\":1,\"linewidth\":2,\"linecolor\":\"black\",\"gridcolor\":\"black\"},\"margin\":{\"t\":30},\"legend\":{\"font\":{\"size\":12}},\"paper_bgcolor\":\"white\",\"plot_bgcolor\":\"white\",\"width\":680,\"height\":400,\"title\":{\"text\":\"\\u003cb\\u003eBus voltage\\u003cb\\u003e\",\"y\":0.97,\"x\":0.5,\"xanchor\":\"center\",\"yanchor\":\"top\"}},                        {\"responsive\": true}                    ).then(function(){\n",
       "                            \n",
       "var gd = document.getElementById('4e1f61b6-9881-4ff2-94ec-6d1c6d61dc9c');\n",
       "var x = new MutationObserver(function (mutations, observer) {{\n",
       "        var display = window.getComputedStyle(gd).display;\n",
       "        if (!display || display === 'none') {{\n",
       "            console.log([gd, 'removed!']);\n",
       "            Plotly.purge(gd);\n",
       "            observer.disconnect();\n",
       "        }}\n",
       "}});\n",
       "\n",
       "// Listen for the removal of the full notebook cells\n",
       "var notebookContainer = gd.closest('#notebook-container');\n",
       "if (notebookContainer) {{\n",
       "    x.observe(notebookContainer, {childList: true});\n",
       "}}\n",
       "\n",
       "// Listen for the clearing of the current output cell\n",
       "var outputEl = gd.closest('.output');\n",
       "if (outputEl) {{\n",
       "    x.observe(outputEl, {childList: true});\n",
       "}}\n",
       "\n",
       "                        })                };                });            </script>        </div>"
      ]
     },
     "metadata": {},
     "output_type": "display_data"
    },
    {
     "name": "stdout",
     "output_type": "stream",
     "text": [
      "\n"
     ]
    },
    {
     "data": {
      "application/vnd.plotly.v1+json": {
       "config": {
        "plotlyServerURL": "https://plot.ly"
       },
       "data": [
        {
         "hovertemplate": "<b>Line<br>P [MW]: %{y:.2f}<br>Time: %{text}<b><extra></extra>",
         "mode": "lines",
         "name": "<b>Line<b>",
         "text": [
          "00h00",
          "01h00",
          "02h00",
          "03h00",
          "04h00",
          "05h00",
          "06h00",
          "07h00",
          "08h00",
          "09h00",
          "10h00",
          "11h00",
          "12h00",
          "13h00",
          "14h00",
          "15h00",
          "16h00",
          "17h00",
          "18h00",
          "19h00",
          "20h00",
          "21h00",
          "22h00",
          "23h00"
         ],
         "type": "scatter",
         "x": [
          0,
          1,
          2,
          3,
          4,
          5,
          6,
          7,
          8,
          9,
          10,
          11,
          12,
          13,
          14,
          15,
          16,
          17,
          18,
          19,
          20,
          21,
          22,
          23
         ],
         "y": [
          0.5156615128387717,
          0.5525218291780096,
          0.5595621042420896,
          0.5232720158252491,
          0.4429774299342574,
          0.43377662640759146,
          0.40156561703304633,
          0.31298872765145475,
          0.21761824735526641,
          0.17255741716119818,
          0.1903338677823852,
          0.20182592265551733,
          0.22491027828291574,
          0.27418159306532564,
          0.29632299535074313,
          0.28209621134375645,
          0.33562387322177295,
          0.37353106047386514,
          0.3970815652831254,
          0.4063528876638282,
          0.4276209703143062,
          0.45568841884377,
          0.4760873824456752,
          0.4896700619241477
         ]
        }
       ],
       "layout": {
        "font": {
         "size": 15
        },
        "height": 400,
        "legend": {
         "font": {
          "size": 12
         }
        },
        "margin": {
         "t": 30
        },
        "paper_bgcolor": "white",
        "plot_bgcolor": "white",
        "template": {
         "data": {
          "bar": [
           {
            "error_x": {
             "color": "#2a3f5f"
            },
            "error_y": {
             "color": "#2a3f5f"
            },
            "marker": {
             "line": {
              "color": "#E5ECF6",
              "width": 0.5
             },
             "pattern": {
              "fillmode": "overlay",
              "size": 10,
              "solidity": 0.2
             }
            },
            "type": "bar"
           }
          ],
          "barpolar": [
           {
            "marker": {
             "line": {
              "color": "#E5ECF6",
              "width": 0.5
             },
             "pattern": {
              "fillmode": "overlay",
              "size": 10,
              "solidity": 0.2
             }
            },
            "type": "barpolar"
           }
          ],
          "carpet": [
           {
            "aaxis": {
             "endlinecolor": "#2a3f5f",
             "gridcolor": "white",
             "linecolor": "white",
             "minorgridcolor": "white",
             "startlinecolor": "#2a3f5f"
            },
            "baxis": {
             "endlinecolor": "#2a3f5f",
             "gridcolor": "white",
             "linecolor": "white",
             "minorgridcolor": "white",
             "startlinecolor": "#2a3f5f"
            },
            "type": "carpet"
           }
          ],
          "choropleth": [
           {
            "colorbar": {
             "outlinewidth": 0,
             "ticks": ""
            },
            "type": "choropleth"
           }
          ],
          "contour": [
           {
            "colorbar": {
             "outlinewidth": 0,
             "ticks": ""
            },
            "colorscale": [
             [
              0,
              "#0d0887"
             ],
             [
              0.1111111111111111,
              "#46039f"
             ],
             [
              0.2222222222222222,
              "#7201a8"
             ],
             [
              0.3333333333333333,
              "#9c179e"
             ],
             [
              0.4444444444444444,
              "#bd3786"
             ],
             [
              0.5555555555555556,
              "#d8576b"
             ],
             [
              0.6666666666666666,
              "#ed7953"
             ],
             [
              0.7777777777777778,
              "#fb9f3a"
             ],
             [
              0.8888888888888888,
              "#fdca26"
             ],
             [
              1,
              "#f0f921"
             ]
            ],
            "type": "contour"
           }
          ],
          "contourcarpet": [
           {
            "colorbar": {
             "outlinewidth": 0,
             "ticks": ""
            },
            "type": "contourcarpet"
           }
          ],
          "heatmap": [
           {
            "colorbar": {
             "outlinewidth": 0,
             "ticks": ""
            },
            "colorscale": [
             [
              0,
              "#0d0887"
             ],
             [
              0.1111111111111111,
              "#46039f"
             ],
             [
              0.2222222222222222,
              "#7201a8"
             ],
             [
              0.3333333333333333,
              "#9c179e"
             ],
             [
              0.4444444444444444,
              "#bd3786"
             ],
             [
              0.5555555555555556,
              "#d8576b"
             ],
             [
              0.6666666666666666,
              "#ed7953"
             ],
             [
              0.7777777777777778,
              "#fb9f3a"
             ],
             [
              0.8888888888888888,
              "#fdca26"
             ],
             [
              1,
              "#f0f921"
             ]
            ],
            "type": "heatmap"
           }
          ],
          "heatmapgl": [
           {
            "colorbar": {
             "outlinewidth": 0,
             "ticks": ""
            },
            "colorscale": [
             [
              0,
              "#0d0887"
             ],
             [
              0.1111111111111111,
              "#46039f"
             ],
             [
              0.2222222222222222,
              "#7201a8"
             ],
             [
              0.3333333333333333,
              "#9c179e"
             ],
             [
              0.4444444444444444,
              "#bd3786"
             ],
             [
              0.5555555555555556,
              "#d8576b"
             ],
             [
              0.6666666666666666,
              "#ed7953"
             ],
             [
              0.7777777777777778,
              "#fb9f3a"
             ],
             [
              0.8888888888888888,
              "#fdca26"
             ],
             [
              1,
              "#f0f921"
             ]
            ],
            "type": "heatmapgl"
           }
          ],
          "histogram": [
           {
            "marker": {
             "pattern": {
              "fillmode": "overlay",
              "size": 10,
              "solidity": 0.2
             }
            },
            "type": "histogram"
           }
          ],
          "histogram2d": [
           {
            "colorbar": {
             "outlinewidth": 0,
             "ticks": ""
            },
            "colorscale": [
             [
              0,
              "#0d0887"
             ],
             [
              0.1111111111111111,
              "#46039f"
             ],
             [
              0.2222222222222222,
              "#7201a8"
             ],
             [
              0.3333333333333333,
              "#9c179e"
             ],
             [
              0.4444444444444444,
              "#bd3786"
             ],
             [
              0.5555555555555556,
              "#d8576b"
             ],
             [
              0.6666666666666666,
              "#ed7953"
             ],
             [
              0.7777777777777778,
              "#fb9f3a"
             ],
             [
              0.8888888888888888,
              "#fdca26"
             ],
             [
              1,
              "#f0f921"
             ]
            ],
            "type": "histogram2d"
           }
          ],
          "histogram2dcontour": [
           {
            "colorbar": {
             "outlinewidth": 0,
             "ticks": ""
            },
            "colorscale": [
             [
              0,
              "#0d0887"
             ],
             [
              0.1111111111111111,
              "#46039f"
             ],
             [
              0.2222222222222222,
              "#7201a8"
             ],
             [
              0.3333333333333333,
              "#9c179e"
             ],
             [
              0.4444444444444444,
              "#bd3786"
             ],
             [
              0.5555555555555556,
              "#d8576b"
             ],
             [
              0.6666666666666666,
              "#ed7953"
             ],
             [
              0.7777777777777778,
              "#fb9f3a"
             ],
             [
              0.8888888888888888,
              "#fdca26"
             ],
             [
              1,
              "#f0f921"
             ]
            ],
            "type": "histogram2dcontour"
           }
          ],
          "mesh3d": [
           {
            "colorbar": {
             "outlinewidth": 0,
             "ticks": ""
            },
            "type": "mesh3d"
           }
          ],
          "parcoords": [
           {
            "line": {
             "colorbar": {
              "outlinewidth": 0,
              "ticks": ""
             }
            },
            "type": "parcoords"
           }
          ],
          "pie": [
           {
            "automargin": true,
            "type": "pie"
           }
          ],
          "scatter": [
           {
            "fillpattern": {
             "fillmode": "overlay",
             "size": 10,
             "solidity": 0.2
            },
            "type": "scatter"
           }
          ],
          "scatter3d": [
           {
            "line": {
             "colorbar": {
              "outlinewidth": 0,
              "ticks": ""
             }
            },
            "marker": {
             "colorbar": {
              "outlinewidth": 0,
              "ticks": ""
             }
            },
            "type": "scatter3d"
           }
          ],
          "scattercarpet": [
           {
            "marker": {
             "colorbar": {
              "outlinewidth": 0,
              "ticks": ""
             }
            },
            "type": "scattercarpet"
           }
          ],
          "scattergeo": [
           {
            "marker": {
             "colorbar": {
              "outlinewidth": 0,
              "ticks": ""
             }
            },
            "type": "scattergeo"
           }
          ],
          "scattergl": [
           {
            "marker": {
             "colorbar": {
              "outlinewidth": 0,
              "ticks": ""
             }
            },
            "type": "scattergl"
           }
          ],
          "scattermapbox": [
           {
            "marker": {
             "colorbar": {
              "outlinewidth": 0,
              "ticks": ""
             }
            },
            "type": "scattermapbox"
           }
          ],
          "scatterpolar": [
           {
            "marker": {
             "colorbar": {
              "outlinewidth": 0,
              "ticks": ""
             }
            },
            "type": "scatterpolar"
           }
          ],
          "scatterpolargl": [
           {
            "marker": {
             "colorbar": {
              "outlinewidth": 0,
              "ticks": ""
             }
            },
            "type": "scatterpolargl"
           }
          ],
          "scatterternary": [
           {
            "marker": {
             "colorbar": {
              "outlinewidth": 0,
              "ticks": ""
             }
            },
            "type": "scatterternary"
           }
          ],
          "surface": [
           {
            "colorbar": {
             "outlinewidth": 0,
             "ticks": ""
            },
            "colorscale": [
             [
              0,
              "#0d0887"
             ],
             [
              0.1111111111111111,
              "#46039f"
             ],
             [
              0.2222222222222222,
              "#7201a8"
             ],
             [
              0.3333333333333333,
              "#9c179e"
             ],
             [
              0.4444444444444444,
              "#bd3786"
             ],
             [
              0.5555555555555556,
              "#d8576b"
             ],
             [
              0.6666666666666666,
              "#ed7953"
             ],
             [
              0.7777777777777778,
              "#fb9f3a"
             ],
             [
              0.8888888888888888,
              "#fdca26"
             ],
             [
              1,
              "#f0f921"
             ]
            ],
            "type": "surface"
           }
          ],
          "table": [
           {
            "cells": {
             "fill": {
              "color": "#EBF0F8"
             },
             "line": {
              "color": "white"
             }
            },
            "header": {
             "fill": {
              "color": "#C8D4E3"
             },
             "line": {
              "color": "white"
             }
            },
            "type": "table"
           }
          ]
         },
         "layout": {
          "annotationdefaults": {
           "arrowcolor": "#2a3f5f",
           "arrowhead": 0,
           "arrowwidth": 1
          },
          "autotypenumbers": "strict",
          "coloraxis": {
           "colorbar": {
            "outlinewidth": 0,
            "ticks": ""
           }
          },
          "colorscale": {
           "diverging": [
            [
             0,
             "#8e0152"
            ],
            [
             0.1,
             "#c51b7d"
            ],
            [
             0.2,
             "#de77ae"
            ],
            [
             0.3,
             "#f1b6da"
            ],
            [
             0.4,
             "#fde0ef"
            ],
            [
             0.5,
             "#f7f7f7"
            ],
            [
             0.6,
             "#e6f5d0"
            ],
            [
             0.7,
             "#b8e186"
            ],
            [
             0.8,
             "#7fbc41"
            ],
            [
             0.9,
             "#4d9221"
            ],
            [
             1,
             "#276419"
            ]
           ],
           "sequential": [
            [
             0,
             "#0d0887"
            ],
            [
             0.1111111111111111,
             "#46039f"
            ],
            [
             0.2222222222222222,
             "#7201a8"
            ],
            [
             0.3333333333333333,
             "#9c179e"
            ],
            [
             0.4444444444444444,
             "#bd3786"
            ],
            [
             0.5555555555555556,
             "#d8576b"
            ],
            [
             0.6666666666666666,
             "#ed7953"
            ],
            [
             0.7777777777777778,
             "#fb9f3a"
            ],
            [
             0.8888888888888888,
             "#fdca26"
            ],
            [
             1,
             "#f0f921"
            ]
           ],
           "sequentialminus": [
            [
             0,
             "#0d0887"
            ],
            [
             0.1111111111111111,
             "#46039f"
            ],
            [
             0.2222222222222222,
             "#7201a8"
            ],
            [
             0.3333333333333333,
             "#9c179e"
            ],
            [
             0.4444444444444444,
             "#bd3786"
            ],
            [
             0.5555555555555556,
             "#d8576b"
            ],
            [
             0.6666666666666666,
             "#ed7953"
            ],
            [
             0.7777777777777778,
             "#fb9f3a"
            ],
            [
             0.8888888888888888,
             "#fdca26"
            ],
            [
             1,
             "#f0f921"
            ]
           ]
          },
          "colorway": [
           "#636efa",
           "#EF553B",
           "#00cc96",
           "#ab63fa",
           "#FFA15A",
           "#19d3f3",
           "#FF6692",
           "#B6E880",
           "#FF97FF",
           "#FECB52"
          ],
          "font": {
           "color": "#2a3f5f"
          },
          "geo": {
           "bgcolor": "white",
           "lakecolor": "white",
           "landcolor": "#E5ECF6",
           "showlakes": true,
           "showland": true,
           "subunitcolor": "white"
          },
          "hoverlabel": {
           "align": "left"
          },
          "hovermode": "closest",
          "mapbox": {
           "style": "light"
          },
          "paper_bgcolor": "white",
          "plot_bgcolor": "#E5ECF6",
          "polar": {
           "angularaxis": {
            "gridcolor": "white",
            "linecolor": "white",
            "ticks": ""
           },
           "bgcolor": "#E5ECF6",
           "radialaxis": {
            "gridcolor": "white",
            "linecolor": "white",
            "ticks": ""
           }
          },
          "scene": {
           "xaxis": {
            "backgroundcolor": "#E5ECF6",
            "gridcolor": "white",
            "gridwidth": 2,
            "linecolor": "white",
            "showbackground": true,
            "ticks": "",
            "zerolinecolor": "white"
           },
           "yaxis": {
            "backgroundcolor": "#E5ECF6",
            "gridcolor": "white",
            "gridwidth": 2,
            "linecolor": "white",
            "showbackground": true,
            "ticks": "",
            "zerolinecolor": "white"
           },
           "zaxis": {
            "backgroundcolor": "#E5ECF6",
            "gridcolor": "white",
            "gridwidth": 2,
            "linecolor": "white",
            "showbackground": true,
            "ticks": "",
            "zerolinecolor": "white"
           }
          },
          "shapedefaults": {
           "line": {
            "color": "#2a3f5f"
           }
          },
          "ternary": {
           "aaxis": {
            "gridcolor": "white",
            "linecolor": "white",
            "ticks": ""
           },
           "baxis": {
            "gridcolor": "white",
            "linecolor": "white",
            "ticks": ""
           },
           "bgcolor": "#E5ECF6",
           "caxis": {
            "gridcolor": "white",
            "linecolor": "white",
            "ticks": ""
           }
          },
          "title": {
           "x": 0.05
          },
          "xaxis": {
           "automargin": true,
           "gridcolor": "white",
           "linecolor": "white",
           "ticks": "",
           "title": {
            "standoff": 15
           },
           "zerolinecolor": "white",
           "zerolinewidth": 2
          },
          "yaxis": {
           "automargin": true,
           "gridcolor": "white",
           "linecolor": "white",
           "ticks": "",
           "title": {
            "standoff": 15
           },
           "zerolinecolor": "white",
           "zerolinewidth": 2
          }
         }
        },
        "title": {
         "text": "<b>line power<b>",
         "x": 0.5,
         "xanchor": "center",
         "y": 0.97,
         "yanchor": "top"
        },
        "width": 680,
        "xaxis": {
         "gridcolor": "black",
         "gridwidth": 1,
         "linecolor": "black",
         "linewidth": 2,
         "showgrid": true,
         "showline": true,
         "tickfont": {
          "family": "Arial Black",
          "size": 12
         },
         "tickmode": "array",
         "ticktext": [
          "00h00",
          "04h00",
          "08h00",
          "12h00",
          "16h00",
          "20h00"
         ],
         "tickvals": [
          0,
          4,
          8,
          12,
          16,
          20
         ],
         "title": {
          "font": {
           "size": 12
          },
          "text": "<b>Time<b>"
         },
         "zeroline": false
        },
        "yaxis": {
         "gridcolor": "black",
         "gridwidth": 1,
         "linecolor": "black",
         "linewidth": 2,
         "showgrid": true,
         "showline": true,
         "tickfont": {
          "family": "Arial Black",
          "size": 12
         },
         "title": {
          "font": {
           "size": 12
          },
          "text": "<b>P [MW]<b>"
         },
         "zeroline": false
        }
       }
      },
      "text/html": [
       "<div>                            <div id=\"d619ee83-5ddf-4170-81fb-51efa05a6d58\" class=\"plotly-graph-div\" style=\"height:400px; width:680px;\"></div>            <script type=\"text/javascript\">                require([\"plotly\"], function(Plotly) {                    window.PLOTLYENV=window.PLOTLYENV || {};                                    if (document.getElementById(\"d619ee83-5ddf-4170-81fb-51efa05a6d58\")) {                    Plotly.newPlot(                        \"d619ee83-5ddf-4170-81fb-51efa05a6d58\",                        [{\"hovertemplate\":\"\\u003cb\\u003eLine\\u003cbr\\u003eP [MW]: %{y:.2f}\\u003cbr\\u003eTime: %{text}\\u003cb\\u003e\\u003cextra\\u003e\\u003c\\u002fextra\\u003e\",\"mode\":\"lines\",\"name\":\"\\u003cb\\u003eLine\\u003cb\\u003e\",\"text\":[\"00h00\",\"01h00\",\"02h00\",\"03h00\",\"04h00\",\"05h00\",\"06h00\",\"07h00\",\"08h00\",\"09h00\",\"10h00\",\"11h00\",\"12h00\",\"13h00\",\"14h00\",\"15h00\",\"16h00\",\"17h00\",\"18h00\",\"19h00\",\"20h00\",\"21h00\",\"22h00\",\"23h00\"],\"x\":[0,1,2,3,4,5,6,7,8,9,10,11,12,13,14,15,16,17,18,19,20,21,22,23],\"y\":[0.5156615128387717,0.5525218291780096,0.5595621042420896,0.5232720158252491,0.4429774299342574,0.43377662640759146,0.40156561703304633,0.31298872765145475,0.21761824735526641,0.17255741716119818,0.1903338677823852,0.20182592265551733,0.22491027828291574,0.27418159306532564,0.29632299535074313,0.28209621134375645,0.33562387322177295,0.37353106047386514,0.3970815652831254,0.4063528876638282,0.4276209703143062,0.45568841884377,0.4760873824456752,0.4896700619241477],\"type\":\"scatter\"}],                        {\"template\":{\"data\":{\"histogram2dcontour\":[{\"type\":\"histogram2dcontour\",\"colorbar\":{\"outlinewidth\":0,\"ticks\":\"\"},\"colorscale\":[[0.0,\"#0d0887\"],[0.1111111111111111,\"#46039f\"],[0.2222222222222222,\"#7201a8\"],[0.3333333333333333,\"#9c179e\"],[0.4444444444444444,\"#bd3786\"],[0.5555555555555556,\"#d8576b\"],[0.6666666666666666,\"#ed7953\"],[0.7777777777777778,\"#fb9f3a\"],[0.8888888888888888,\"#fdca26\"],[1.0,\"#f0f921\"]]}],\"choropleth\":[{\"type\":\"choropleth\",\"colorbar\":{\"outlinewidth\":0,\"ticks\":\"\"}}],\"histogram2d\":[{\"type\":\"histogram2d\",\"colorbar\":{\"outlinewidth\":0,\"ticks\":\"\"},\"colorscale\":[[0.0,\"#0d0887\"],[0.1111111111111111,\"#46039f\"],[0.2222222222222222,\"#7201a8\"],[0.3333333333333333,\"#9c179e\"],[0.4444444444444444,\"#bd3786\"],[0.5555555555555556,\"#d8576b\"],[0.6666666666666666,\"#ed7953\"],[0.7777777777777778,\"#fb9f3a\"],[0.8888888888888888,\"#fdca26\"],[1.0,\"#f0f921\"]]}],\"heatmap\":[{\"type\":\"heatmap\",\"colorbar\":{\"outlinewidth\":0,\"ticks\":\"\"},\"colorscale\":[[0.0,\"#0d0887\"],[0.1111111111111111,\"#46039f\"],[0.2222222222222222,\"#7201a8\"],[0.3333333333333333,\"#9c179e\"],[0.4444444444444444,\"#bd3786\"],[0.5555555555555556,\"#d8576b\"],[0.6666666666666666,\"#ed7953\"],[0.7777777777777778,\"#fb9f3a\"],[0.8888888888888888,\"#fdca26\"],[1.0,\"#f0f921\"]]}],\"heatmapgl\":[{\"type\":\"heatmapgl\",\"colorbar\":{\"outlinewidth\":0,\"ticks\":\"\"},\"colorscale\":[[0.0,\"#0d0887\"],[0.1111111111111111,\"#46039f\"],[0.2222222222222222,\"#7201a8\"],[0.3333333333333333,\"#9c179e\"],[0.4444444444444444,\"#bd3786\"],[0.5555555555555556,\"#d8576b\"],[0.6666666666666666,\"#ed7953\"],[0.7777777777777778,\"#fb9f3a\"],[0.8888888888888888,\"#fdca26\"],[1.0,\"#f0f921\"]]}],\"contourcarpet\":[{\"type\":\"contourcarpet\",\"colorbar\":{\"outlinewidth\":0,\"ticks\":\"\"}}],\"contour\":[{\"type\":\"contour\",\"colorbar\":{\"outlinewidth\":0,\"ticks\":\"\"},\"colorscale\":[[0.0,\"#0d0887\"],[0.1111111111111111,\"#46039f\"],[0.2222222222222222,\"#7201a8\"],[0.3333333333333333,\"#9c179e\"],[0.4444444444444444,\"#bd3786\"],[0.5555555555555556,\"#d8576b\"],[0.6666666666666666,\"#ed7953\"],[0.7777777777777778,\"#fb9f3a\"],[0.8888888888888888,\"#fdca26\"],[1.0,\"#f0f921\"]]}],\"surface\":[{\"type\":\"surface\",\"colorbar\":{\"outlinewidth\":0,\"ticks\":\"\"},\"colorscale\":[[0.0,\"#0d0887\"],[0.1111111111111111,\"#46039f\"],[0.2222222222222222,\"#7201a8\"],[0.3333333333333333,\"#9c179e\"],[0.4444444444444444,\"#bd3786\"],[0.5555555555555556,\"#d8576b\"],[0.6666666666666666,\"#ed7953\"],[0.7777777777777778,\"#fb9f3a\"],[0.8888888888888888,\"#fdca26\"],[1.0,\"#f0f921\"]]}],\"mesh3d\":[{\"type\":\"mesh3d\",\"colorbar\":{\"outlinewidth\":0,\"ticks\":\"\"}}],\"scatter\":[{\"fillpattern\":{\"fillmode\":\"overlay\",\"size\":10,\"solidity\":0.2},\"type\":\"scatter\"}],\"parcoords\":[{\"type\":\"parcoords\",\"line\":{\"colorbar\":{\"outlinewidth\":0,\"ticks\":\"\"}}}],\"scatterpolargl\":[{\"type\":\"scatterpolargl\",\"marker\":{\"colorbar\":{\"outlinewidth\":0,\"ticks\":\"\"}}}],\"bar\":[{\"error_x\":{\"color\":\"#2a3f5f\"},\"error_y\":{\"color\":\"#2a3f5f\"},\"marker\":{\"line\":{\"color\":\"#E5ECF6\",\"width\":0.5},\"pattern\":{\"fillmode\":\"overlay\",\"size\":10,\"solidity\":0.2}},\"type\":\"bar\"}],\"scattergeo\":[{\"type\":\"scattergeo\",\"marker\":{\"colorbar\":{\"outlinewidth\":0,\"ticks\":\"\"}}}],\"scatterpolar\":[{\"type\":\"scatterpolar\",\"marker\":{\"colorbar\":{\"outlinewidth\":0,\"ticks\":\"\"}}}],\"histogram\":[{\"marker\":{\"pattern\":{\"fillmode\":\"overlay\",\"size\":10,\"solidity\":0.2}},\"type\":\"histogram\"}],\"scattergl\":[{\"type\":\"scattergl\",\"marker\":{\"colorbar\":{\"outlinewidth\":0,\"ticks\":\"\"}}}],\"scatter3d\":[{\"type\":\"scatter3d\",\"line\":{\"colorbar\":{\"outlinewidth\":0,\"ticks\":\"\"}},\"marker\":{\"colorbar\":{\"outlinewidth\":0,\"ticks\":\"\"}}}],\"scattermapbox\":[{\"type\":\"scattermapbox\",\"marker\":{\"colorbar\":{\"outlinewidth\":0,\"ticks\":\"\"}}}],\"scatterternary\":[{\"type\":\"scatterternary\",\"marker\":{\"colorbar\":{\"outlinewidth\":0,\"ticks\":\"\"}}}],\"scattercarpet\":[{\"type\":\"scattercarpet\",\"marker\":{\"colorbar\":{\"outlinewidth\":0,\"ticks\":\"\"}}}],\"carpet\":[{\"aaxis\":{\"endlinecolor\":\"#2a3f5f\",\"gridcolor\":\"white\",\"linecolor\":\"white\",\"minorgridcolor\":\"white\",\"startlinecolor\":\"#2a3f5f\"},\"baxis\":{\"endlinecolor\":\"#2a3f5f\",\"gridcolor\":\"white\",\"linecolor\":\"white\",\"minorgridcolor\":\"white\",\"startlinecolor\":\"#2a3f5f\"},\"type\":\"carpet\"}],\"table\":[{\"cells\":{\"fill\":{\"color\":\"#EBF0F8\"},\"line\":{\"color\":\"white\"}},\"header\":{\"fill\":{\"color\":\"#C8D4E3\"},\"line\":{\"color\":\"white\"}},\"type\":\"table\"}],\"barpolar\":[{\"marker\":{\"line\":{\"color\":\"#E5ECF6\",\"width\":0.5},\"pattern\":{\"fillmode\":\"overlay\",\"size\":10,\"solidity\":0.2}},\"type\":\"barpolar\"}],\"pie\":[{\"automargin\":true,\"type\":\"pie\"}]},\"layout\":{\"autotypenumbers\":\"strict\",\"colorway\":[\"#636efa\",\"#EF553B\",\"#00cc96\",\"#ab63fa\",\"#FFA15A\",\"#19d3f3\",\"#FF6692\",\"#B6E880\",\"#FF97FF\",\"#FECB52\"],\"font\":{\"color\":\"#2a3f5f\"},\"hovermode\":\"closest\",\"hoverlabel\":{\"align\":\"left\"},\"paper_bgcolor\":\"white\",\"plot_bgcolor\":\"#E5ECF6\",\"polar\":{\"bgcolor\":\"#E5ECF6\",\"angularaxis\":{\"gridcolor\":\"white\",\"linecolor\":\"white\",\"ticks\":\"\"},\"radialaxis\":{\"gridcolor\":\"white\",\"linecolor\":\"white\",\"ticks\":\"\"}},\"ternary\":{\"bgcolor\":\"#E5ECF6\",\"aaxis\":{\"gridcolor\":\"white\",\"linecolor\":\"white\",\"ticks\":\"\"},\"baxis\":{\"gridcolor\":\"white\",\"linecolor\":\"white\",\"ticks\":\"\"},\"caxis\":{\"gridcolor\":\"white\",\"linecolor\":\"white\",\"ticks\":\"\"}},\"coloraxis\":{\"colorbar\":{\"outlinewidth\":0,\"ticks\":\"\"}},\"colorscale\":{\"sequential\":[[0.0,\"#0d0887\"],[0.1111111111111111,\"#46039f\"],[0.2222222222222222,\"#7201a8\"],[0.3333333333333333,\"#9c179e\"],[0.4444444444444444,\"#bd3786\"],[0.5555555555555556,\"#d8576b\"],[0.6666666666666666,\"#ed7953\"],[0.7777777777777778,\"#fb9f3a\"],[0.8888888888888888,\"#fdca26\"],[1.0,\"#f0f921\"]],\"sequentialminus\":[[0.0,\"#0d0887\"],[0.1111111111111111,\"#46039f\"],[0.2222222222222222,\"#7201a8\"],[0.3333333333333333,\"#9c179e\"],[0.4444444444444444,\"#bd3786\"],[0.5555555555555556,\"#d8576b\"],[0.6666666666666666,\"#ed7953\"],[0.7777777777777778,\"#fb9f3a\"],[0.8888888888888888,\"#fdca26\"],[1.0,\"#f0f921\"]],\"diverging\":[[0,\"#8e0152\"],[0.1,\"#c51b7d\"],[0.2,\"#de77ae\"],[0.3,\"#f1b6da\"],[0.4,\"#fde0ef\"],[0.5,\"#f7f7f7\"],[0.6,\"#e6f5d0\"],[0.7,\"#b8e186\"],[0.8,\"#7fbc41\"],[0.9,\"#4d9221\"],[1,\"#276419\"]]},\"xaxis\":{\"gridcolor\":\"white\",\"linecolor\":\"white\",\"ticks\":\"\",\"title\":{\"standoff\":15},\"zerolinecolor\":\"white\",\"automargin\":true,\"zerolinewidth\":2},\"yaxis\":{\"gridcolor\":\"white\",\"linecolor\":\"white\",\"ticks\":\"\",\"title\":{\"standoff\":15},\"zerolinecolor\":\"white\",\"automargin\":true,\"zerolinewidth\":2},\"scene\":{\"xaxis\":{\"backgroundcolor\":\"#E5ECF6\",\"gridcolor\":\"white\",\"linecolor\":\"white\",\"showbackground\":true,\"ticks\":\"\",\"zerolinecolor\":\"white\",\"gridwidth\":2},\"yaxis\":{\"backgroundcolor\":\"#E5ECF6\",\"gridcolor\":\"white\",\"linecolor\":\"white\",\"showbackground\":true,\"ticks\":\"\",\"zerolinecolor\":\"white\",\"gridwidth\":2},\"zaxis\":{\"backgroundcolor\":\"#E5ECF6\",\"gridcolor\":\"white\",\"linecolor\":\"white\",\"showbackground\":true,\"ticks\":\"\",\"zerolinecolor\":\"white\",\"gridwidth\":2}},\"shapedefaults\":{\"line\":{\"color\":\"#2a3f5f\"}},\"annotationdefaults\":{\"arrowcolor\":\"#2a3f5f\",\"arrowhead\":0,\"arrowwidth\":1},\"geo\":{\"bgcolor\":\"white\",\"landcolor\":\"#E5ECF6\",\"subunitcolor\":\"white\",\"showland\":true,\"showlakes\":true,\"lakecolor\":\"white\"},\"title\":{\"x\":0.05},\"mapbox\":{\"style\":\"light\"}}},\"font\":{\"size\":15},\"xaxis\":{\"tickfont\":{\"size\":12,\"family\":\"Arial Black\"},\"title\":{\"text\":\"\\u003cb\\u003eTime\\u003cb\\u003e\",\"font\":{\"size\":12}},\"zeroline\":false,\"tickmode\":\"array\",\"tickvals\":[0,4,8,12,16,20],\"ticktext\":[\"00h00\",\"04h00\",\"08h00\",\"12h00\",\"16h00\",\"20h00\"],\"showline\":true,\"showgrid\":true,\"gridwidth\":1,\"linewidth\":2,\"linecolor\":\"black\",\"gridcolor\":\"black\"},\"yaxis\":{\"tickfont\":{\"size\":12,\"family\":\"Arial Black\"},\"title\":{\"text\":\"\\u003cb\\u003eP [MW]\\u003cb\\u003e\",\"font\":{\"size\":12}},\"zeroline\":false,\"showline\":true,\"showgrid\":true,\"gridwidth\":1,\"linewidth\":2,\"linecolor\":\"black\",\"gridcolor\":\"black\"},\"margin\":{\"t\":30},\"legend\":{\"font\":{\"size\":12}},\"paper_bgcolor\":\"white\",\"plot_bgcolor\":\"white\",\"width\":680,\"height\":400,\"title\":{\"text\":\"\\u003cb\\u003eline power\\u003cb\\u003e\",\"y\":0.97,\"x\":0.5,\"xanchor\":\"center\",\"yanchor\":\"top\"}},                        {\"responsive\": true}                    ).then(function(){\n",
       "                            \n",
       "var gd = document.getElementById('d619ee83-5ddf-4170-81fb-51efa05a6d58');\n",
       "var x = new MutationObserver(function (mutations, observer) {{\n",
       "        var display = window.getComputedStyle(gd).display;\n",
       "        if (!display || display === 'none') {{\n",
       "            console.log([gd, 'removed!']);\n",
       "            Plotly.purge(gd);\n",
       "            observer.disconnect();\n",
       "        }}\n",
       "}});\n",
       "\n",
       "// Listen for the removal of the full notebook cells\n",
       "var notebookContainer = gd.closest('#notebook-container');\n",
       "if (notebookContainer) {{\n",
       "    x.observe(notebookContainer, {childList: true});\n",
       "}}\n",
       "\n",
       "// Listen for the clearing of the current output cell\n",
       "var outputEl = gd.closest('.output');\n",
       "if (outputEl) {{\n",
       "    x.observe(outputEl, {childList: true});\n",
       "}}\n",
       "\n",
       "                        })                };                });            </script>        </div>"
      ]
     },
     "metadata": {},
     "output_type": "display_data"
    }
   ],
   "source": [
    "net.load.loc[0, \"scaling\"] = 5\n",
    "result_df = pp_sim.run_time_simulation(net=net)\n",
    "pp_plot.plot_timeseries_result(data_df=result_df[\"res_bus.vm_pu\"], ylabel=\"V [pu]\",\n",
    "                       plot_title=\"Bus voltage\", filename= \"voltage_result\")\n",
    "print()\n",
    "pp_plot.plot_timeseries_result(data_df=result_df[\"res_line.p_from_mw\"], ylabel=\"P [MW]\",\n",
    "                       plot_title=\"line power\", filename= \"line_result\")"
   ]
  },
  {
   "cell_type": "markdown",
   "id": "b071d902",
   "metadata": {},
   "source": [
    "## References\n",
    "\n",
    "- [Pandapower 'Getting started'](http://www.pandapower.org/start/)\n",
    "- [Pandapower's documentation](https://pandapower.readthedocs.io/en/v2.13.1/index.html)\n",
    "- [Pandapower's tutorials on GitHub](https://github.com/e2nIEE/pandapower/tree/v2.13.1/tutorials)"
   ]
  },
  {
   "cell_type": "markdown",
   "id": "5be1be2d",
   "metadata": {},
   "source": [
    "### Citing pandapower"
   ]
  },
  {
   "cell_type": "markdown",
   "id": "bd42e4a2",
   "metadata": {},
   "source": [
    " &copy; Copyright 2016-2023 by Fraunhofer IEE and University of Kassel. Revision 2feba868."
   ]
  },
  {
   "cell_type": "markdown",
   "id": "10667077",
   "metadata": {},
   "source": [
    "```latex\n",
    "@article{pandapower.2018,\n",
    "author={L. Thurner and A. Scheidler and F. Schafer and J. H. Menke and J. Dollichon and F. Meier and S. Meinecke and M. Braun},\n",
    "journal={IEEE Transactions on Power Systems},\n",
    "title={pandapower - an Open Source Python Tool for Convenient Modeling, Analysis and Optimization of Electric Power Systems},\n",
    "year={2018},\n",
    "doi={10.1109/TPWRS.2018.2829021},\n",
    "url={https://arxiv.org/abs/1709.06743},\n",
    "ISSN={0885-8950}\n",
    "}\n",
    "```"
   ]
  },
  {
   "cell_type": "markdown",
   "id": "67351c5e-abee-4549-8e2f-b08425204054",
   "metadata": {
    "jp-MarkdownHeadingCollapsed": true,
    "tags": []
   },
   "source": [
    "# NumPy\n",
    "\n",
    "**Note**: This tutorial was greatly inspired by [Aurélien Géron's NumPy notebook](https://github.com/ageron/handson-ml3/blob/main/tools_numpy.ipynb), all his interactive notebooks can also be found on [Google Colab](https://colab.research.google.com/github/ageron/handson-ml3/blob/main/index.ipynb). \n",
    "\n",
    "It is also important to mention that we have just made a new selection for this course. You don't have to do everything, but it's highly recommended that you go through these fundamental concepts and learn how to master them. This course is not a programming course, but we will give you the essential content so that you can draw on it for your future engineering projects.\n",
    "\n",
    "A comparison with MATLAB was done [at the end of the NumPy tuto](#key-differences-with-matlab).\n",
    "\n",
    "NumPy is the fundamental library for scientific computing with Python. NumPy is centered around a powerful N-dimensional array object, and it also contains useful linear algebra, Fourier transform, and random number functions.\n",
    "\n",
    "**Every element of a numpy object schould have the same type**"
   ]
  },
  {
   "cell_type": "markdown",
   "id": "eb979ffe-d7cf-4c55-8554-c02a6cf40de7",
   "metadata": {
    "tags": []
   },
   "source": [
    "## Import package\n",
    "\n",
    "As `numpy` is not a basic package, it first need to be imported. Most people import it as `np`:"
   ]
  },
  {
   "cell_type": "code",
   "execution_count": null,
   "id": "96db034a-f9be-4377-8c25-f2539e03ec3f",
   "metadata": {},
   "outputs": [],
   "source": []
  },
  {
   "cell_type": "markdown",
   "id": "e8000db7-361b-4f10-846d-dcf3c91eb021",
   "metadata": {
    "jp-MarkdownHeadingCollapsed": true,
    "tags": []
   },
   "source": [
    "## Creating arrays\n"
   ]
  },
  {
   "cell_type": "code",
   "execution_count": null,
   "id": "f2daee46-801c-413e-b6fa-67eb286e6cf8",
   "metadata": {},
   "outputs": [],
   "source": []
  },
  {
   "cell_type": "code",
   "execution_count": null,
   "id": "65986e48-81ed-439e-a9ed-cc1ad290dd4c",
   "metadata": {},
   "outputs": [],
   "source": []
  },
  {
   "cell_type": "markdown",
   "id": "f4d496d5-cd45-425b-89d0-1cd81528a10b",
   "metadata": {
    "jp-MarkdownHeadingCollapsed": true,
    "tags": []
   },
   "source": [
    "### `np.zeros()`"
   ]
  },
  {
   "cell_type": "markdown",
   "id": "7c5fb9d5-0db1-45b4-a542-5115b1e53990",
   "metadata": {
    "tags": []
   },
   "source": [
    "The `zeros` function creates an array containing any number of zeros:"
   ]
  },
  {
   "cell_type": "markdown",
   "id": "076c6240-65b6-4078-8009-aa62c6595520",
   "metadata": {},
   "source": [
    "It's just as easy to create a 2D array (i.e. a matrix) by providing a tuple with the desired number of rows and columns. For example, here's a 3x4 matrix:"
   ]
  },
  {
   "cell_type": "markdown",
   "id": "978944d8-0f29-460d-a593-482c3b050cf2",
   "metadata": {
    "jp-MarkdownHeadingCollapsed": true,
    "tags": []
   },
   "source": [
    "### `np.ones()`\n",
    "\n",
    "The `ones` function creates an array containing any number of ones:"
   ]
  },
  {
   "cell_type": "code",
   "execution_count": null,
   "id": "0bae7299-9fe2-4b13-8c49-dbf1a843872f",
   "metadata": {
    "ExecuteTime": {
     "end_time": "2023-07-21T12:17:09.557762600Z",
     "start_time": "2023-07-21T12:17:09.554234600Z"
    },
    "tags": []
   },
   "outputs": [],
   "source": []
  },
  {
   "cell_type": "markdown",
   "id": "77b2c75c-2636-4647-8e7d-8722640f27b2",
   "metadata": {
    "jp-MarkdownHeadingCollapsed": true,
    "tags": []
   },
   "source": [
    "### `np.arange()`\n",
    "\n",
    "The `arange` function returns an array containing every points between two values at a given step (note that the maximum value is not _included_)."
   ]
  },
  {
   "cell_type": "code",
   "execution_count": null,
   "id": "cdc5b8d8-ab0c-4d9b-bab0-8e674e3e1c8c",
   "metadata": {},
   "outputs": [],
   "source": []
  },
  {
   "cell_type": "code",
   "execution_count": null,
   "id": "e6620e7a-d876-42af-b47d-73f0223922d2",
   "metadata": {},
   "outputs": [],
   "source": []
  },
  {
   "cell_type": "markdown",
   "id": "adfa46fb-bd0a-4486-a167-fdb551cc8d2f",
   "metadata": {
    "jp-MarkdownHeadingCollapsed": true,
    "tags": []
   },
   "source": [
    "### `np.linspace()`\n",
    "\n",
    "The `linspace` function returns an array containing a specific number of points evenly distributed between two values (note that the maximum value is _included_)."
   ]
  },
  {
   "cell_type": "code",
   "execution_count": null,
   "id": "8a1538f6-fba4-4f1c-9db6-4b90a1285384",
   "metadata": {
    "ExecuteTime": {
     "end_time": "2023-07-21T12:17:09.562335Z",
     "start_time": "2023-07-21T12:17:09.557762600Z"
    },
    "tags": []
   },
   "outputs": [],
   "source": []
  },
  {
   "cell_type": "markdown",
   "id": "6c9b3a21-a36a-4b58-9dcb-5b992841ba9d",
   "metadata": {
    "jp-MarkdownHeadingCollapsed": true,
    "tags": []
   },
   "source": [
    "### `np.rand()`\n",
    "\n",
    "A number of functions are available in NumPy's `random` module to create `ndarray`s initialized with random values. For example, here is a 3x4 matrix initialized with random floats between 0 and 1 (uniform distribution):"
   ]
  },
  {
   "cell_type": "code",
   "execution_count": null,
   "id": "14a1a017-fe96-4840-9e0c-a56a29594030",
   "metadata": {
    "ExecuteTime": {
     "end_time": "2023-07-21T12:17:09.570304900Z",
     "start_time": "2023-07-21T12:17:09.562335Z"
    },
    "tags": []
   },
   "outputs": [],
   "source": []
  },
  {
   "cell_type": "markdown",
   "id": "3ea5b7f9-7bcb-46d5-8890-6fa0bde72e47",
   "metadata": {
    "jp-MarkdownHeadingCollapsed": true,
    "tags": []
   },
   "source": [
    "### `np.eye()`\n",
    "\n",
    "The `eye` function returns an NxN shape identity matrix"
   ]
  },
  {
   "cell_type": "code",
   "execution_count": null,
   "id": "bb4a75ea-3156-4678-bb2e-1068e56a034c",
   "metadata": {
    "ExecuteTime": {
     "end_time": "2023-07-21T12:17:09.822384800Z",
     "start_time": "2023-07-21T12:17:09.802300100Z"
    }
   },
   "outputs": [],
   "source": []
  },
  {
   "cell_type": "markdown",
   "id": "2487fdc9-7914-460e-868d-ded837656d5d",
   "metadata": {
    "jp-MarkdownHeadingCollapsed": true,
    "tags": []
   },
   "source": [
    "### `np.reshape()`\n",
    "\n",
    "The `reshape` function returns a new `ndarray` object pointing at the _same_ data. This means that modifying one array will also modify the other."
   ]
  },
  {
   "cell_type": "code",
   "execution_count": null,
   "id": "1b371a39-0227-415b-9e81-ce6df3775621",
   "metadata": {
    "ExecuteTime": {
     "end_time": "2023-07-21T12:17:09.822384800Z",
     "start_time": "2023-07-21T12:17:09.802300100Z"
    }
   },
   "outputs": [],
   "source": []
  },
  {
   "cell_type": "markdown",
   "id": "4f83916b-8a18-4780-ab41-0fbb9074866d",
   "metadata": {},
   "source": [
    "1.6 Some vocabulary"
   ]
  },
  {
   "cell_type": "markdown",
   "id": "a34a190f-8bea-490c-aad3-525ee94f28e7",
   "metadata": {},
   "source": [
    "In NumPy, each dimension is called an **axis**.\n",
    "\n",
    "The number of axes is called the **rank**:\n",
    "* The above 3x4 matrix is an array of rank 2 (it is 2-dimensional).\n",
    "\n",
    "An array's list of axis lengths is called the **shape** of the array:\n",
    "* The above matrix's shape is `(3, 4)`.\n",
    "\n",
    "The **size** of an array is the total number of elements, which is the product of all axis lengths\n",
    "*  The above matrix's size is $3\\times4=12$."
   ]
  },
  {
   "cell_type": "code",
   "execution_count": null,
   "id": "073ac796-d7fc-42b9-af9c-2dfffa2e27cc",
   "metadata": {
    "ExecuteTime": {
     "end_time": "2023-07-21T12:17:09.545675700Z",
     "start_time": "2023-07-21T12:17:09.524813Z"
    }
   },
   "outputs": [],
   "source": []
  },
  {
   "cell_type": "markdown",
   "id": "686891f8-2606-4cda-bb3c-e6bce0aec405",
   "metadata": {
    "jp-MarkdownHeadingCollapsed": true,
    "tags": []
   },
   "source": [
    "## Indexing and slicing\n",
    "\n",
    "Data access are pretty similar to list"
   ]
  },
  {
   "cell_type": "code",
   "execution_count": null,
   "id": "e7d42a34-e686-403f-8426-b3cb9a3b9bae",
   "metadata": {},
   "outputs": [],
   "source": []
  },
  {
   "cell_type": "code",
   "execution_count": null,
   "id": "5f0b84fb-8053-4068-9319-169635fd1493",
   "metadata": {},
   "outputs": [],
   "source": []
  },
  {
   "cell_type": "markdown",
   "id": "b228c673-6b82-461c-becf-815d267f168d",
   "metadata": {
    "jp-MarkdownHeadingCollapsed": true,
    "tags": []
   },
   "source": [
    "## Arrays concatenation and setting\n",
    "\n",
    "You can use `np.concatenate()` to merge arrays together. Unlike list you can perform if in any axis wanted\n",
    "\n",
    "**Note**: Pay attention the arrays must have the same shape, except in the dimension corresponding to axis in whitch the concatenation occures."
   ]
  },
  {
   "cell_type": "code",
   "execution_count": null,
   "id": "b41c2f53-30f0-44b8-a2e4-05c2eb0a0640",
   "metadata": {},
   "outputs": [],
   "source": []
  },
  {
   "cell_type": "code",
   "execution_count": null,
   "id": "839fd6eb-1598-4ab3-bde6-e47e21822bc8",
   "metadata": {},
   "outputs": [],
   "source": []
  },
  {
   "cell_type": "markdown",
   "id": "5b811380-682f-4206-aee1-69ebaaa97126",
   "metadata": {},
   "source": [
    "Modifying element in arrays are quite similare to list:"
   ]
  },
  {
   "cell_type": "code",
   "execution_count": null,
   "id": "23896b25-0645-498c-817a-9d581f021c6b",
   "metadata": {},
   "outputs": [],
   "source": []
  },
  {
   "cell_type": "markdown",
   "id": "8d9d497d-81f6-496e-8e16-a53b3848275f",
   "metadata": {
    "jp-MarkdownHeadingCollapsed": true,
    "tags": []
   },
   "source": [
    "## `dtype`\n",
    "\n",
    "NumPy's `ndarray`s are also efficient in part because all their elements must have the same type (usually numbers). We can check what the data type is by looking at the `dtype` attribute:"
   ]
  },
  {
   "cell_type": "code",
   "execution_count": null,
   "id": "32c5c9a1-a938-4b14-b932-aceac3b57bd1",
   "metadata": {
    "ExecuteTime": {
     "end_time": "2023-07-21T12:17:09.752578200Z",
     "start_time": "2023-07-21T12:17:09.752578200Z"
    }
   },
   "outputs": [],
   "source": []
  },
  {
   "cell_type": "markdown",
   "id": "0b2ee6ec-3eda-4622-b82a-865ff645d44a",
   "metadata": {},
   "source": [
    "Available data types include signed `int8`, `int16`, `int32`, `int64`, unsigned `uint8|16|32|64` and `complex64|128`. Check out the documentation for the [basic types](https://numpy.org/doc/stable/user/basics.types.html) and [sized aliases](https://numpy.org/doc/stable/reference/arrays.scalars.html#sized-aliases) for the full list.\n",
    "\n",
    "The number included in the type refers to the number of bits each element will be stored\n",
    "\n",
    "Instead of letting NumPy guess what data type to use, we can set it explicitly when creating an array by setting the `dtype` parameter"
   ]
  },
  {
   "cell_type": "code",
   "execution_count": null,
   "id": "7665b5ed-63be-495f-b9db-7be3b33d0443",
   "metadata": {
    "ExecuteTime": {
     "end_time": "2023-07-21T12:17:09.764428800Z",
     "start_time": "2023-07-21T12:17:09.752578200Z"
    }
   },
   "outputs": [],
   "source": []
  },
  {
   "cell_type": "markdown",
   "id": "4c8b313e-6d99-4b99-8fd0-05871949f69c",
   "metadata": {
    "jp-MarkdownHeadingCollapsed": true,
    "tags": []
   },
   "source": [
    "### `complex`"
   ]
  },
  {
   "cell_type": "markdown",
   "id": "b0e15b90-7b99-40d8-a21e-e1f5d90d2ad6",
   "metadata": {},
   "source": [
    "NumPy also handle complex numbers, you can create complex arrays by setting the `dtype` parameter"
   ]
  },
  {
   "cell_type": "code",
   "execution_count": null,
   "id": "ce627e70-cce5-480b-acf5-212437d5c541",
   "metadata": {
    "ExecuteTime": {
     "end_time": "2023-07-21T12:17:09.822384800Z",
     "start_time": "2023-07-21T12:17:09.764428800Z"
    }
   },
   "outputs": [],
   "source": []
  },
  {
   "cell_type": "markdown",
   "id": "bc3ee561-42d2-4dd4-bfdd-530c4baf6dc2",
   "metadata": {},
   "source": [
    "You can also create complex arrays using `complex` notation (i.e. r+ij)\n",
    "\n",
    "Note that you you want to create `complex` array using `arange` function, it is safer to create arrays of reals you and add or multiply it by the need `complex` number"
   ]
  },
  {
   "cell_type": "code",
   "execution_count": null,
   "id": "9a87a35c-fde8-450e-9f8a-54fc2243a5f5",
   "metadata": {},
   "outputs": [],
   "source": []
  },
  {
   "cell_type": "code",
   "execution_count": null,
   "id": "44124435-a614-4a3a-b769-912e064951fe",
   "metadata": {},
   "outputs": [],
   "source": []
  },
  {
   "cell_type": "markdown",
   "id": "7e3bc8e6-7ccb-4bb6-b815-98033c1c6d1b",
   "metadata": {
    "jp-MarkdownHeadingCollapsed": true,
    "tags": []
   },
   "source": [
    "## Arithmetic operations\n",
    "\n",
    "All the usual arithmetic operators (`+`, `-`, `*`, `/`, `//`, `**`, etc.) can be used with `ndarray`s. They apply `elementwise`:"
   ]
  },
  {
   "cell_type": "code",
   "execution_count": null,
   "id": "7705f82f-4c77-47e3-b4bb-9182c309e7b7",
   "metadata": {
    "ExecuteTime": {
     "end_time": "2023-07-21T12:17:09.837142Z",
     "start_time": "2023-07-21T12:17:09.833600400Z"
    }
   },
   "outputs": [],
   "source": []
  },
  {
   "cell_type": "markdown",
   "id": "bf0267f2-de30-46c9-ab9c-5086eae01b70",
   "metadata": {
    "tags": []
   },
   "source": [
    "In general, when NumPy expects arrays of the same shape but finds that this is not the case, it applies the so-called _broadcasting_ rules:"
   ]
  },
  {
   "cell_type": "markdown",
   "id": "a8fd9b96-c50c-4fbb-a137-f43a20ca48d9",
   "metadata": {
    "jp-MarkdownHeadingCollapsed": true,
    "tags": []
   },
   "source": [
    "### First rule broadcasting"
   ]
  },
  {
   "cell_type": "markdown",
   "id": "b819e5c3-7516-45f9-a4ff-e9f31d953f53",
   "metadata": {},
   "source": [
    "1. If the arrays do not have the same rank, then a 1 will be prepended to the smaller ranking arrays until their ranks match."
   ]
  },
  {
   "cell_type": "code",
   "execution_count": null,
   "id": "26843425-81ce-4cc6-8310-26c04f545ffb",
   "metadata": {
    "ExecuteTime": {
     "end_time": "2023-07-21T12:17:09.842184600Z",
     "start_time": "2023-07-21T12:17:09.837142Z"
    }
   },
   "outputs": [],
   "source": []
  },
  {
   "cell_type": "markdown",
   "id": "82d29db0-b828-425e-8a5d-5a54ae0a6a44",
   "metadata": {},
   "source": [
    "Now let's try to add a 1D array of shape `(5,)` to this 3D array of shape `(1,1,5)`. Applying the first rule of broadcasting!"
   ]
  },
  {
   "cell_type": "code",
   "execution_count": null,
   "id": "40eba9a7-c03e-46be-a4cd-7243120f4a33",
   "metadata": {
    "ExecuteTime": {
     "end_time": "2023-07-21T12:17:09.842184600Z",
     "start_time": "2023-07-21T12:17:09.842184600Z"
    }
   },
   "outputs": [],
   "source": []
  },
  {
   "cell_type": "markdown",
   "id": "5d9ca14b-77ec-4143-ad84-b34de253cbec",
   "metadata": {
    "jp-MarkdownHeadingCollapsed": true,
    "tags": []
   },
   "source": [
    "### Second rule broadcasting"
   ]
  },
  {
   "cell_type": "code",
   "execution_count": null,
   "id": "517ba50f-e5cc-4fcb-9a3e-e719643c3007",
   "metadata": {},
   "outputs": [],
   "source": []
  },
  {
   "cell_type": "code",
   "execution_count": null,
   "id": "2a678d67-770b-4c78-85ef-443423612636",
   "metadata": {
    "ExecuteTime": {
     "end_time": "2023-07-21T12:17:09.946485300Z",
     "start_time": "2023-07-21T12:17:09.852672Z"
    }
   },
   "outputs": [],
   "source": []
  },
  {
   "cell_type": "markdown",
   "id": "0f434fc7-bb17-4f13-a766-809bde86e38d",
   "metadata": {},
   "source": [
    "Let's try to add a 2D array of shape `(2,1)` to this 2D `ndarray` of shape `(2, 3)`. NumPy will apply the second rule of broadcasting:"
   ]
  },
  {
   "cell_type": "code",
   "execution_count": null,
   "id": "7326ce8b-a542-4002-ad65-0178217759b2",
   "metadata": {
    "ExecuteTime": {
     "end_time": "2023-07-21T12:17:09.946485300Z",
     "start_time": "2023-07-21T12:17:09.859737800Z"
    }
   },
   "outputs": [],
   "source": []
  },
  {
   "cell_type": "markdown",
   "id": "9bc3ff58-8513-4126-a3d1-13301d1cdc80",
   "metadata": {},
   "source": [
    "Combining rules 1 & 2, we can do this:"
   ]
  },
  {
   "cell_type": "code",
   "execution_count": null,
   "id": "cf889c0c-6a9f-48da-96e5-cc02e2ada88d",
   "metadata": {
    "ExecuteTime": {
     "end_time": "2023-07-21T12:17:09.946485300Z",
     "start_time": "2023-07-21T12:17:09.864991700Z"
    }
   },
   "outputs": [],
   "source": []
  },
  {
   "cell_type": "markdown",
   "id": "c6de3e25-3e38-4609-aadf-3377dc22744b",
   "metadata": {},
   "source": [
    "And also, very simply:"
   ]
  },
  {
   "cell_type": "code",
   "execution_count": null,
   "id": "261659f8-982f-475a-a0be-a58dac00dba0",
   "metadata": {
    "ExecuteTime": {
     "end_time": "2023-07-21T12:17:09.946485300Z",
     "start_time": "2023-07-21T12:17:09.864991700Z"
    }
   },
   "outputs": [],
   "source": []
  },
  {
   "cell_type": "markdown",
   "id": "60d9f5d3-0b44-45f8-8ac1-6c8e31f17d5b",
   "metadata": {
    "jp-MarkdownHeadingCollapsed": true,
    "tags": []
   },
   "source": [
    "### Third rule broadcasting"
   ]
  },
  {
   "cell_type": "markdown",
   "id": "acf5bd68-dd76-4714-ae14-1fbdbbd52c61",
   "metadata": {
    "ExecuteTime": {
     "end_time": "2023-07-21T12:17:09.946485300Z",
     "start_time": "2023-07-21T12:17:09.877774900Z"
    }
   },
   "source": [
    "After rules 1 & 2, the sizes of all arrays must match."
   ]
  },
  {
   "cell_type": "code",
   "execution_count": null,
   "id": "4ef33b65-add2-4cf0-a8e6-745516b57df5",
   "metadata": {},
   "outputs": [],
   "source": []
  },
  {
   "cell_type": "code",
   "execution_count": null,
   "id": "90f1a358-87af-4e92-9052-491a49942695",
   "metadata": {},
   "outputs": [],
   "source": []
  },
  {
   "cell_type": "markdown",
   "id": "2f27c9d7-b1fa-462a-9b26-d963556b77af",
   "metadata": {},
   "source": [
    "Broadcasting rules are used in many NumPy operations, not just arithmetic operations, as we will see below. For more details about broadcasting, check out [the documentation](https://numpy.org/doc/stable/user/basics.broadcasting.html)."
   ]
  },
  {
   "cell_type": "markdown",
   "id": "112deb33-88dc-4b8a-9df4-f3968718e6a5",
   "metadata": {
    "jp-MarkdownHeadingCollapsed": true,
    "tags": []
   },
   "source": [
    "### Upcasting rule"
   ]
  },
  {
   "cell_type": "markdown",
   "id": "6606171a-c858-4c3f-b978-d83c9a9b2a23",
   "metadata": {},
   "source": [
    "When trying to combine arrays with different `dtype`s, NumPy will `upcast` to a type capable of handling all possible values (regardless of what the _actual_ values are)."
   ]
  },
  {
   "cell_type": "code",
   "execution_count": null,
   "id": "6a78c32a-ff50-4922-bf29-1d27bf2a7b21",
   "metadata": {
    "ExecuteTime": {
     "end_time": "2023-07-21T12:17:09.946485300Z",
     "start_time": "2023-07-21T12:17:09.882314400Z"
    }
   },
   "outputs": [],
   "source": []
  },
  {
   "cell_type": "code",
   "execution_count": null,
   "id": "3b0b70fd-7655-4319-9f11-d3a86e47c027",
   "metadata": {
    "ExecuteTime": {
     "end_time": "2023-07-21T12:17:09.946485300Z",
     "start_time": "2023-07-21T12:17:09.882314400Z"
    }
   },
   "outputs": [],
   "source": []
  },
  {
   "cell_type": "markdown",
   "id": "a80e88fd-d174-49c2-9923-a7694c57b28b",
   "metadata": {},
   "source": [
    "**Note**: `int16` is required to represent all _possible_ `int8` and `uint8` values (from -128 to 255), even though in this case a `uint8` would have sufficed."
   ]
  },
  {
   "cell_type": "markdown",
   "id": "b39bd155-3073-456f-a986-0bc409fa4206",
   "metadata": {
    "jp-MarkdownHeadingCollapsed": true,
    "tags": []
   },
   "source": [
    "## Conditional operators\n",
    "\n",
    "The conditional operators also apply elementwise:"
   ]
  },
  {
   "cell_type": "code",
   "execution_count": null,
   "id": "55b08a63-3091-497a-a5ba-2f93f45aaeae",
   "metadata": {
    "ExecuteTime": {
     "end_time": "2023-07-21T12:17:09.946485300Z",
     "start_time": "2023-07-21T12:17:09.899345800Z"
    }
   },
   "outputs": [],
   "source": []
  },
  {
   "cell_type": "markdown",
   "id": "7c6d0038-b39d-4c07-a4bc-989919ccaa85",
   "metadata": {},
   "source": [
    "And using broadcasting:"
   ]
  },
  {
   "cell_type": "code",
   "execution_count": null,
   "id": "aac605ac-4454-42bb-8ce3-11d079c3a7ba",
   "metadata": {
    "ExecuteTime": {
     "end_time": "2023-07-21T12:17:09.946485300Z",
     "start_time": "2023-07-21T12:17:09.902375200Z"
    }
   },
   "outputs": [],
   "source": []
  },
  {
   "cell_type": "markdown",
   "id": "c742883e-fa8c-4486-ad7f-61e294aae786",
   "metadata": {
    "jp-MarkdownHeadingCollapsed": true,
    "tags": []
   },
   "source": [
    "### Indexing using conditional operators"
   ]
  },
  {
   "cell_type": "markdown",
   "id": "dba2211f-3da7-400a-88e6-5d6d94c8ab73",
   "metadata": {},
   "source": [
    "This is most useful in conjunction with boolean indexing (discussed below)."
   ]
  },
  {
   "cell_type": "code",
   "execution_count": null,
   "id": "7344e87c-a82e-4b59-ae14-137ef95c23ce",
   "metadata": {
    "ExecuteTime": {
     "end_time": "2023-07-21T12:17:09.953580500Z",
     "start_time": "2023-07-21T12:17:09.910376500Z"
    }
   },
   "outputs": [],
   "source": []
  },
  {
   "cell_type": "markdown",
   "id": "947303dc-49ca-48b3-9744-6bd571ed0fe6",
   "metadata": {
    "jp-MarkdownHeadingCollapsed": true,
    "tags": []
   },
   "source": [
    "## Commonly used functions\n",
    "\n",
    "Many mathematical and statistical functions are available for `ndarray`s."
   ]
  },
  {
   "cell_type": "markdown",
   "id": "bb3ce01c-79c0-4ccc-9056-ad48e16a2c0c",
   "metadata": {
    "jp-MarkdownHeadingCollapsed": true,
    "tags": []
   },
   "source": [
    "### Mathematical operators"
   ]
  },
  {
   "cell_type": "code",
   "execution_count": null,
   "id": "a453e84a-e196-4a8d-8138-51258ede38ae",
   "metadata": {},
   "outputs": [],
   "source": []
  },
  {
   "cell_type": "markdown",
   "id": "cdf65e48-5e5a-46bc-97b0-98a7953aba56",
   "metadata": {},
   "source": [
    "The two warnings are due to the fact that `sqrt()` and `log()` are undefined for negative numbers, which is why there is a `np.nan` value in the first cell of the output of these two functions."
   ]
  },
  {
   "cell_type": "markdown",
   "id": "03084bdf-53f8-4e52-85b0-f8b033517504",
   "metadata": {
    "jp-MarkdownHeadingCollapsed": true,
    "tags": []
   },
   "source": [
    "### Statistical operators"
   ]
  },
  {
   "cell_type": "code",
   "execution_count": null,
   "id": "96213a04-9c35-4724-857c-d234234f9b63",
   "metadata": {
    "ExecuteTime": {
     "end_time": "2023-07-21T12:17:09.953580500Z",
     "start_time": "2023-07-21T12:17:09.915332200Z"
    }
   },
   "outputs": [],
   "source": []
  },
  {
   "cell_type": "markdown",
   "id": "5c22dfd0-c952-412b-aa7a-c563a8986bcc",
   "metadata": {},
   "source": [
    "**Note**: This computes the mean of all elements in the `ndarray`, regardless of its shape.\n",
    "\n",
    "These functions accept an optional argument `axis` which lets you ask for the operation to be performed on elements along the given axis. For example:"
   ]
  },
  {
   "cell_type": "code",
   "execution_count": null,
   "id": "3e5290e3-8efd-468e-ba22-0680953a2d20",
   "metadata": {
    "ExecuteTime": {
     "end_time": "2023-07-21T12:17:09.953580500Z",
     "start_time": "2023-07-21T12:17:09.925025600Z"
    }
   },
   "outputs": [],
   "source": []
  },
  {
   "cell_type": "markdown",
   "id": "4abb05cd-b23b-444b-97c4-f1004d9edf79",
   "metadata": {},
   "source": [
    "Sum each element across matrices"
   ]
  },
  {
   "cell_type": "code",
   "execution_count": null,
   "id": "6ce1c552-4227-4d1e-afe9-9e26e32f483d",
   "metadata": {
    "ExecuteTime": {
     "end_time": "2023-07-21T12:17:09.953580500Z",
     "start_time": "2023-07-21T12:17:09.953580500Z"
    }
   },
   "outputs": [],
   "source": []
  },
  {
   "cell_type": "markdown",
   "id": "2307e581-2405-4ac3-871f-f0a14cac70a4",
   "metadata": {},
   "source": [
    "Sum each rows in matrices"
   ]
  },
  {
   "cell_type": "code",
   "execution_count": null,
   "id": "2d8abe11-6f05-4393-83ab-8717cc610044",
   "metadata": {
    "ExecuteTime": {
     "end_time": "2023-07-21T12:17:09.962602300Z",
     "start_time": "2023-07-21T12:17:09.953580500Z"
    }
   },
   "outputs": [],
   "source": []
  },
  {
   "cell_type": "markdown",
   "id": "c20de1e2-dcb4-4f9b-8119-f3462d1b95fd",
   "metadata": {},
   "source": [
    "Sum each columns in matrices"
   ]
  },
  {
   "cell_type": "code",
   "execution_count": null,
   "id": "80260edc-9082-46d0-ab76-478e925f8e56",
   "metadata": {},
   "outputs": [],
   "source": []
  },
  {
   "cell_type": "markdown",
   "id": "390f1ff6-8701-4490-b12a-a03b47303593",
   "metadata": {},
   "source": [
    "We can also sum over multiple axes:"
   ]
  },
  {
   "cell_type": "code",
   "execution_count": null,
   "id": "2ee9621b-e3ae-44d4-b956-ad3536e4d227",
   "metadata": {
    "ExecuteTime": {
     "end_time": "2023-07-21T12:17:10.063523800Z",
     "start_time": "2023-07-21T12:17:09.962602300Z"
    }
   },
   "outputs": [],
   "source": []
  },
  {
   "cell_type": "markdown",
   "id": "771c2ee1-4c4f-4707-af29-a85fb6d0e39a",
   "metadata": {
    "jp-MarkdownHeadingCollapsed": true,
    "tags": []
   },
   "source": [
    "### Binary functions"
   ]
  },
  {
   "cell_type": "markdown",
   "id": "c33c5480-9e76-4d4a-b5dd-04d17651f592",
   "metadata": {},
   "source": [
    "There are also many binary ufuncs, that apply elementwise on two `ndarray`s. Broadcasting rules are applied if the arrays do not have the same shape:"
   ]
  },
  {
   "cell_type": "code",
   "execution_count": null,
   "id": "e1bda200-8545-4e54-af12-335c78378b91",
   "metadata": {
    "ExecuteTime": {
     "end_time": "2023-07-21T12:17:10.065763200Z",
     "start_time": "2023-07-21T12:17:09.989128400Z"
    }
   },
   "outputs": [],
   "source": []
  },
  {
   "cell_type": "code",
   "execution_count": null,
   "id": "801852e2-168f-4b91-b81c-61a63cd899ee",
   "metadata": {
    "ExecuteTime": {
     "end_time": "2023-07-21T12:17:10.065763200Z",
     "start_time": "2023-07-21T12:17:09.995228900Z"
    }
   },
   "outputs": [],
   "source": []
  },
  {
   "cell_type": "code",
   "execution_count": null,
   "id": "3388fc16-b949-4bb7-8afd-e6e235c38829",
   "metadata": {
    "ExecuteTime": {
     "end_time": "2023-07-21T12:17:10.065763200Z",
     "start_time": "2023-07-21T12:17:10.002255300Z"
    }
   },
   "outputs": [],
   "source": []
  },
  {
   "cell_type": "code",
   "execution_count": null,
   "id": "817bac8a-a9fe-4bf2-a37d-c796ae4870ce",
   "metadata": {
    "ExecuteTime": {
     "end_time": "2023-07-21T12:17:10.065763200Z",
     "start_time": "2023-07-21T12:17:10.002255300Z"
    }
   },
   "outputs": [],
   "source": []
  },
  {
   "cell_type": "markdown",
   "id": "2212dc95-a613-42aa-88ee-9432d75c774b",
   "metadata": {
    "jp-MarkdownHeadingCollapsed": true,
    "tags": []
   },
   "source": [
    "## Interpolation\n",
    "\n",
    "Starting with a small example:"
   ]
  },
  {
   "cell_type": "code",
   "execution_count": null,
   "id": "1d2ca36d-1c13-4058-90b1-e8fd407d7bf2",
   "metadata": {
    "ExecuteTime": {
     "end_time": "2023-07-21T12:17:10.192161900Z",
     "start_time": "2023-07-21T12:17:10.143073Z"
    }
   },
   "outputs": [],
   "source": []
  },
  {
   "cell_type": "code",
   "execution_count": null,
   "id": "9cfdd115-8d0b-40f7-8491-6c4a0d9bf873",
   "metadata": {
    "ExecuteTime": {
     "end_time": "2023-07-21T12:17:10.192161900Z",
     "start_time": "2023-07-21T12:17:10.149576200Z"
    }
   },
   "outputs": [],
   "source": []
  },
  {
   "cell_type": "code",
   "execution_count": null,
   "id": "40018d32-37f9-4fc8-852a-2070b2ba8a05",
   "metadata": {
    "ExecuteTime": {
     "end_time": "2023-07-21T12:17:10.192161900Z",
     "start_time": "2023-07-21T12:17:10.154763400Z"
    }
   },
   "outputs": [],
   "source": []
  },
  {
   "cell_type": "markdown",
   "id": "04381ffa-feab-40b9-aa57-6c2060dcbcea",
   "metadata": {},
   "source": [
    "We can plot an interpolant to the sine function:"
   ]
  },
  {
   "cell_type": "code",
   "execution_count": null,
   "id": "ae1a7bd0-8af1-445c-944b-4969fdb0bb87",
   "metadata": {
    "ExecuteTime": {
     "end_time": "2023-07-21T12:17:10.303191600Z",
     "start_time": "2023-07-21T12:17:10.158107600Z"
    }
   },
   "outputs": [],
   "source": []
  },
  {
   "cell_type": "markdown",
   "id": "6a5fc355-4f3c-40c5-a09d-8f4b3e39c250",
   "metadata": {},
   "source": [
    "Interpolation with periodic x-coordinates:"
   ]
  },
  {
   "cell_type": "code",
   "execution_count": null,
   "id": "611f3ffc-3522-4d36-8435-be0dda7eca52",
   "metadata": {
    "ExecuteTime": {
     "end_time": "2023-07-21T12:17:10.313911700Z",
     "start_time": "2023-07-21T12:17:10.303191600Z"
    }
   },
   "outputs": [],
   "source": []
  },
  {
   "cell_type": "markdown",
   "id": "ea17f822-adc4-4cdf-b3c4-63bdffe978bc",
   "metadata": {},
   "source": [
    "Complex interpolation:"
   ]
  },
  {
   "cell_type": "code",
   "execution_count": null,
   "id": "4d8233d3-74c3-4ada-b4eb-5ea05094d4d0",
   "metadata": {
    "ExecuteTime": {
     "end_time": "2023-07-21T12:17:10.321176700Z",
     "start_time": "2023-07-21T12:17:10.313911700Z"
    }
   },
   "outputs": [],
   "source": []
  },
  {
   "cell_type": "markdown",
   "id": "b46494c2-346e-4ebc-a05a-3502489ee628",
   "metadata": {
    "jp-MarkdownHeadingCollapsed": true,
    "tags": []
   },
   "source": [
    "## Key differences with MATLAB\n",
    "\n",
    "NumPy and MATLAB are quite similar, they have a lot in common. NumPy was created to work with Python, not to be a pure MATLAB clone. This guide will help MATLAB users get started with NumPy."
   ]
  },
  {
   "cell_type": "markdown",
   "id": "037c4e92-2637-4405-87a4-ea34dd06bc8e",
   "metadata": {},
   "source": [
    "It is important to mention some key differences:\n",
    "\n",
    "| MATLAB                                                                      | NumPy                                                                      |\n",
    "| :-------------------------------------------------------------------------- | :------------------------------------------------------------------------- |\n",
    "| <ul><li>It uses multidimensional arrays as the basic type.</li><li>Scalars are also multidimensional arrays with one elements.</li><li>Array assignments are 2D double precision floats by default.</li><li>You can specify the number of dimensions and type of an array.</li><li>2D array operations follow matrix operations in linear algebra.</li></ul> | <ul><li>NumPy's basic type: multidimensional `array`.</li><li>Specify dimensions and type: optional.</li><li>Element-by-element operations: multiplying 2D arrays with `*` is not a matrix multiplication -- it's an element-by-element multiplication.</li><li>Matrix multiplication use `@` operator.</li></ul> | <!-- Line 1 end -->\n",
    "| <ul><li>MATLAB numbers indices from 1; `a(1)` is the first element.</li></ul> | <ul><li>NumPy, like Python, numbers indices from 0; `a[0]` is the first element.</li> | <!-- Line 2 end -->\n",
    "| <ul><li>MATLAB scripting language was created for linear algebra so the syntax for some array manipulations is more compact than NumPy's.</li><li>The API for adding GUIs and creating full-fledged applications is more or less an afterhought.</li></ul> | <ul><li>NumPy is based on Python, a general-purpose language. The advantage to NumPy is access to Python libraries including: SciPy, Matplotlib, Pandas, OpenCV, and more.</li><li>Python is often embedded as a scripting language in other software, allowing NumPy to be used there too.</li></ul> | <!-- Line 3 end -->\n",
    "| <ul><li>MATLAB array slicing uses pass-by-value semantics, with a lazy copy-on-write scheme to prevent creating copies until they are needed.</li></ul> | <ul><li>NumPy array slicing uses pass-by-reference, that does not copy the arguments.</li><li>Slicing operations are views into an array.</li></ul> |"
   ]
  },
  {
   "cell_type": "markdown",
   "id": "ea3cd43c-7264-4547-a2f6-d18cd647c131",
   "metadata": {
    "tags": []
   },
   "source": [
    "## References to go further with NumPy\n",
    "\n",
    "- [NumPy for MATLAB users](https://numpy.org/doc/stable/user/numpy-for-matlab-users.html)\n",
    "- [NumPy's documentation](https://numpy.org/doc/stable/reference/index.html#reference)\n",
    "- [SciPy's documentation](https://scipy.org/)"
   ]
  },
  {
   "cell_type": "markdown",
   "id": "8214733d-c46e-4a8e-8af6-9c8af3bc746e",
   "metadata": {},
   "source": [
    "# Pandas\n",
    "\n",
    "The `pandas` library provides high-performance, easy-to-use data structures and data analysis tools. The main data structure is the `DataFrame`, which we can think of as an in-memory 2D table (like a spreadsheet, with column names and row labels). Many features available in Excel are available programmatically, such as creating pivot tables, computing columns based on other columns, plotting graphs, etc. We can also group rows by column value, or join tables much like in SQL. Pandas is also great at handling time series.\n",
    "\n",
    "This tutorial explains some difference and key features with spreadsheet programs like Excel, Google Sheets, LibreOffice Calc, Apple Numbers and other Excel-compatible spreadsheet software. In this tutorial we will go through the main concept of the pandas library. If one needed, the different references are available at the end of this section.\n",
    "\n",
    "To get started, we need the following important packages:"
   ]
  },
  {
   "cell_type": "markdown",
   "id": "75423656-2e91-4766-a2c0-c2a423e4d9db",
   "metadata": {
    "jp-MarkdownHeadingCollapsed": true,
    "tags": []
   },
   "source": [
    "## Object creation\n",
    "\n",
    "Creating a `Series` by passing a list of values, letting pandas create a default integer index:"
   ]
  },
  {
   "cell_type": "code",
   "execution_count": null,
   "id": "1fe80170-cc66-48de-bd8d-19fd3b92953d",
   "metadata": {},
   "outputs": [],
   "source": []
  },
  {
   "cell_type": "markdown",
   "id": "4c8a842c-d853-44ea-a09e-7a9eb707df5f",
   "metadata": {},
   "source": [
    "Creating a `DataFrame` by passing a NumPy array, with datetime index and labeled columns:"
   ]
  },
  {
   "cell_type": "code",
   "execution_count": null,
   "id": "e9b64ccc-06e1-4dba-825b-9a9c7e56e65b",
   "metadata": {},
   "outputs": [],
   "source": []
  },
  {
   "cell_type": "markdown",
   "id": "90b0a7eb-f8d0-4ec2-bf6a-7f77a84f33a6",
   "metadata": {},
   "source": [
    "Creating a `DataFrame` by passing a dictionary of objects that can be converted into a series-like structure:"
   ]
  },
  {
   "cell_type": "markdown",
   "id": "254ab826-92de-4011-a939-9c14e646a10c",
   "metadata": {},
   "source": [
    "df2.dtypes\n",
    "\n",
    "If you're using IPython, tab completion for column names (as well as public attributes) is automatically enabled. Just type `df2.<TAB>` to see them."
   ]
  },
  {
   "cell_type": "code",
   "execution_count": null,
   "id": "2b94a57e-3a34-40c1-a091-0fedc98d6575",
   "metadata": {
    "tags": []
   },
   "outputs": [],
   "source": []
  },
  {
   "cell_type": "markdown",
   "id": "08050b97-75af-4503-85bb-fd2847493a04",
   "metadata": {
    "jp-MarkdownHeadingCollapsed": true,
    "tags": []
   },
   "source": [
    "## Data viewing\n",
    "\n",
    "See the [Basics section](https://pandas.pydata.org/docs/user_guide/basics.html#basics).\n",
    "\n",
    "The columns of resulting `DataFrame` have different `dtypes`:"
   ]
  },
  {
   "cell_type": "code",
   "execution_count": null,
   "id": "b7e6ef93-c35c-48cc-aa01-e7653d7ca35b",
   "metadata": {},
   "outputs": [],
   "source": []
  },
  {
   "cell_type": "markdown",
   "id": "4744eae4-19aa-4bf1-aec2-1c1c0ee760c7",
   "metadata": {},
   "source": [
    "`info()` shows a quick statistic summary of your data:"
   ]
  },
  {
   "cell_type": "code",
   "execution_count": null,
   "id": "47dcb837-30b5-486a-8a29-bca1d29b48ba",
   "metadata": {
    "tags": []
   },
   "outputs": [],
   "source": []
  },
  {
   "cell_type": "markdown",
   "id": "510b0f7b-095f-43f3-86fd-6789e38022d7",
   "metadata": {},
   "source": [
    "`describe()` shows a quick statistic summary of your data:"
   ]
  },
  {
   "cell_type": "code",
   "execution_count": null,
   "id": "f52b6ee8-b0ff-4fc8-b9f1-e35d76dc5a30",
   "metadata": {},
   "outputs": [],
   "source": []
  },
  {
   "cell_type": "markdown",
   "id": "121f3b11-b38d-4496-9ac7-35532e557186",
   "metadata": {},
   "source": [
    "Here is how to view the top and bottom rows of the frame:"
   ]
  },
  {
   "cell_type": "code",
   "execution_count": null,
   "id": "6f2806b7-a2b7-41bc-9d9f-208bbe273181",
   "metadata": {},
   "outputs": [],
   "source": []
  },
  {
   "cell_type": "code",
   "execution_count": null,
   "id": "e8fc636c-39d7-4d68-95be-f3a4fecb3171",
   "metadata": {},
   "outputs": [],
   "source": []
  },
  {
   "cell_type": "markdown",
   "id": "eafbdc03-3eb6-4b35-abdb-8bebcff9f475",
   "metadata": {},
   "source": [
    "Display the index, columns:"
   ]
  },
  {
   "cell_type": "code",
   "execution_count": null,
   "id": "4796fa00-4fd4-4158-b572-31bda31951ad",
   "metadata": {},
   "outputs": [],
   "source": []
  },
  {
   "cell_type": "markdown",
   "id": "5ea63348-28a8-4fac-b4ca-089426f013ef",
   "metadata": {},
   "source": [
    "## Data selection\n",
    "\n",
    "Pandas get optimized pandas data access methods, `.at`, `.iat`, `.loc` and `.iloc`. To go further, see the indexing documentation [Indexing and Selecting Data](https://pandas.pydata.org/docs/user_guide/indexing.html#indexing) and [MultiIndex / Advanced Indexing](https://pandas.pydata.org/docs/user_guide/advanced.html#advanced)."
   ]
  },
  {
   "cell_type": "markdown",
   "id": "feab91e3-ea20-45bb-92e3-c72633da49b6",
   "metadata": {
    "jp-MarkdownHeadingCollapsed": true,
    "tags": []
   },
   "source": [
    "### Selecting columns\n",
    "\n",
    "Selecting a single column or a group of columns using `[]`:"
   ]
  },
  {
   "cell_type": "code",
   "execution_count": null,
   "id": "3deda49b-be14-4543-9f42-b02ebe25f3e9",
   "metadata": {},
   "outputs": [],
   "source": []
  },
  {
   "cell_type": "code",
   "execution_count": null,
   "id": "a13e4777-e813-4506-ab7b-1a3e4bd13387",
   "metadata": {},
   "outputs": [],
   "source": []
  },
  {
   "cell_type": "markdown",
   "id": "b9bdd548-0752-483d-a638-188da8d520d7",
   "metadata": {
    "jp-MarkdownHeadingCollapsed": true,
    "tags": []
   },
   "source": [
    "### Selection by label using `.loc`  and `.at` methods\n",
    "\n",
    "See more in [Selection by Label](https://pandas.pydata.org/docs/user_guide/indexing.html#indexing-label).\n",
    "\n",
    "For getting a row using its label:"
   ]
  },
  {
   "cell_type": "code",
   "execution_count": null,
   "id": "3308b16a-3352-4975-9057-4bae2f454670",
   "metadata": {},
   "outputs": [],
   "source": []
  },
  {
   "cell_type": "markdown",
   "id": "06a6b322-d08f-4a74-82ea-b2f7a900407a",
   "metadata": {},
   "source": [
    "Selecting on a multi-axis by label:"
   ]
  },
  {
   "cell_type": "code",
   "execution_count": null,
   "id": "c473c67f-5623-4b60-b921-080791d160d7",
   "metadata": {},
   "outputs": [],
   "source": []
  },
  {
   "cell_type": "markdown",
   "id": "592e29cb-e168-468c-9d0d-f1f4ee039e07",
   "metadata": {},
   "source": [
    "You can slice ofer data using lablel, both endpoints are _included_:"
   ]
  },
  {
   "cell_type": "code",
   "execution_count": null,
   "id": "14380294-1be3-400e-9f15-cef2103456a0",
   "metadata": {},
   "outputs": [],
   "source": []
  },
  {
   "cell_type": "markdown",
   "id": "0fa0b176-0fff-4612-acb4-c58d4fcc9b5d",
   "metadata": {},
   "source": [
    "For getting fast access to a scalar (equivalent to the prior method):"
   ]
  },
  {
   "cell_type": "code",
   "execution_count": null,
   "id": "7bc6bd58-ba26-4869-a7f8-6be848679631",
   "metadata": {},
   "outputs": [],
   "source": []
  },
  {
   "cell_type": "markdown",
   "id": "fe03b997-52b8-4684-a80d-b6f13c406e1f",
   "metadata": {
    "jp-MarkdownHeadingCollapsed": true,
    "tags": []
   },
   "source": [
    "### Selection by position using `.iloc`  and `.iat` methods\n",
    "\n",
    "See more in [Selection by Position](https://pandas.pydata.org/docs/user_guide/indexing.html#indexing-integer).\n",
    "\n",
    "Select via the position of the passed integers:"
   ]
  },
  {
   "cell_type": "code",
   "execution_count": null,
   "id": "27d7ac2c-5d56-4197-bc13-762c52690847",
   "metadata": {},
   "outputs": [],
   "source": []
  },
  {
   "cell_type": "markdown",
   "id": "da567cfa-e3c3-4b61-acab-0f4e4be22ea7",
   "metadata": {},
   "source": [
    "By lists of integer position locations, similar to the NumPy/Python style:"
   ]
  },
  {
   "cell_type": "code",
   "execution_count": null,
   "id": "5e23f3a5-5fff-445e-9127-036c4b85f3f8",
   "metadata": {},
   "outputs": [],
   "source": []
  },
  {
   "cell_type": "markdown",
   "id": "c08af212-ddd7-4c5b-af64-27046a7d7188",
   "metadata": {},
   "source": [
    "By integer slices, acting similar to NumPy/Python:"
   ]
  },
  {
   "cell_type": "code",
   "execution_count": null,
   "id": "0f0bc20a-4b18-47dd-8bfd-35d8d5f957b4",
   "metadata": {},
   "outputs": [],
   "source": []
  },
  {
   "cell_type": "markdown",
   "id": "acd698a0-97d7-4b27-a8f2-bc6676057e44",
   "metadata": {},
   "source": [
    "For getting fast access to a scalar (equivalent to the prior method):"
   ]
  },
  {
   "cell_type": "code",
   "execution_count": null,
   "id": "a473da32-cde7-44c8-b393-88c4ec344866",
   "metadata": {},
   "outputs": [],
   "source": []
  },
  {
   "cell_type": "markdown",
   "id": "25d03c69-6f3e-4158-82a8-ebf804c9e8ab",
   "metadata": {},
   "source": [
    "### Conditional indexing\n",
    "\n",
    "Selecting values from a DataFrame where a boolean condition is met:"
   ]
  },
  {
   "cell_type": "code",
   "execution_count": null,
   "id": "263e35c1-f2d7-4984-bc86-34f59ba9b9cc",
   "metadata": {},
   "outputs": [],
   "source": []
  },
  {
   "cell_type": "markdown",
   "id": "5ec89c71-7b72-44e2-a34d-63c751cae33f",
   "metadata": {},
   "source": [
    "Using the `isin()` method for filtering:"
   ]
  },
  {
   "cell_type": "code",
   "execution_count": null,
   "id": "141a897b-1014-41b4-b14e-5f847f068e87",
   "metadata": {},
   "outputs": [],
   "source": []
  },
  {
   "cell_type": "markdown",
   "id": "11db2bac-2c81-4390-9e91-a2c3186154d7",
   "metadata": {},
   "source": [
    "By integer slices, acting similar to NumPy/Python:"
   ]
  },
  {
   "cell_type": "markdown",
   "id": "abd4dbd3-2e7e-4364-9446-01e16c319167",
   "metadata": {
    "tags": []
   },
   "source": [
    "## Data setting\n",
    "\n",
    "You can modify values of elements using `.at`, `.iat`, `.loc` and `.iloc` methode in the same way presented in chapter 2.."
   ]
  },
  {
   "cell_type": "code",
   "execution_count": null,
   "id": "c97dfb4b-a7a3-4346-995e-4a40a2c379dc",
   "metadata": {},
   "outputs": [],
   "source": []
  },
  {
   "cell_type": "markdown",
   "id": "2d81a064-8d3c-4445-b2e2-4ba02cd23dd4",
   "metadata": {},
   "source": [
    "You can modify an entire columns with the following:\n",
    "\n",
    "- A unique value which will be assigned to the whole column\n",
    "- A list to assigne different values through the columns. **size must be the same**\n",
    "- A series which will only assigne values in matched index (nan values is assigned when a index from the dataframe is not included in the serie)."
   ]
  },
  {
   "cell_type": "code",
   "execution_count": null,
   "id": "839ab71c-4f44-4af0-970a-78fcc3757442",
   "metadata": {},
   "outputs": [],
   "source": []
  },
  {
   "cell_type": "markdown",
   "id": "a2aa0d42-231c-46f4-a0f9-03f37977f397",
   "metadata": {},
   "source": [
    "If you assigne a column which is not icluded to the dataFrame, it will be added"
   ]
  },
  {
   "cell_type": "code",
   "execution_count": null,
   "id": "341cf55a-90e6-4042-ae19-652fa37bfb1d",
   "metadata": {},
   "outputs": [],
   "source": []
  },
  {
   "cell_type": "markdown",
   "id": "e44f8df9-c800-4080-8349-f0a3cf81d2bc",
   "metadata": {},
   "source": [
    "### Set and reset index"
   ]
  },
  {
   "cell_type": "code",
   "execution_count": null,
   "id": "6cc890d2-7ddf-4847-984c-9394b9b88822",
   "metadata": {},
   "outputs": [],
   "source": []
  },
  {
   "cell_type": "code",
   "execution_count": null,
   "id": "937fdf00-a350-4aa1-9089-228763e43caa",
   "metadata": {},
   "outputs": [],
   "source": []
  },
  {
   "cell_type": "code",
   "execution_count": null,
   "id": "5c15b4f8-57fe-429c-9f9b-2ae86b6fcc28",
   "metadata": {},
   "outputs": [],
   "source": []
  },
  {
   "cell_type": "markdown",
   "id": "0819b87b-0cdc-4eeb-ba5b-2731928af592",
   "metadata": {},
   "source": [
    "## Data processing"
   ]
  },
  {
   "cell_type": "markdown",
   "id": "d078ee2e-2cd8-4447-b4c1-613283d5e743",
   "metadata": {},
   "source": [
    "### Missing data\n",
    "\n",
    "pandas primarily uses the value `NaN` to represent missing data. It is by default not included in computations.\n",
    "\n",
    "See the [Missing Data section](https://pandas.pydata.org/docs/user_guide/missing_data.html#missing-data).\n",
    "\n",
    "Reindexing allows you to change/add/delete the index on a specified axis. This returns a copy of the data:"
   ]
  },
  {
   "cell_type": "markdown",
   "id": "88e1ebfe-eb2b-441e-b1fb-5f75f781dbf3",
   "metadata": {
    "tags": []
   },
   "source": []
  },
  {
   "cell_type": "code",
   "execution_count": null,
   "id": "95b11277-9037-4a1e-991a-8aed162fafb6",
   "metadata": {},
   "outputs": [],
   "source": []
  },
  {
   "cell_type": "markdown",
   "id": "3932c535-d8db-43ae-9934-aca0bee81177",
   "metadata": {
    "tags": []
   },
   "source": [
    "To drop any rows that have missing data:"
   ]
  },
  {
   "cell_type": "code",
   "execution_count": null,
   "id": "2be84b9f-265e-48d8-86f2-0e0b2e9d4165",
   "metadata": {},
   "outputs": [],
   "source": []
  },
  {
   "cell_type": "markdown",
   "id": "6759dea1-1ba4-41b7-b105-710138488667",
   "metadata": {},
   "source": [
    "To drop any column that have missing data:"
   ]
  },
  {
   "cell_type": "code",
   "execution_count": null,
   "id": "dc9e6d88-276d-4d80-9346-a47defe7e5dc",
   "metadata": {},
   "outputs": [],
   "source": []
  },
  {
   "cell_type": "markdown",
   "id": "dfb8fff4-bfbb-4b42-94c0-d1edc6e7f946",
   "metadata": {},
   "source": [
    "To drop any rows that have only missing data:"
   ]
  },
  {
   "cell_type": "code",
   "execution_count": null,
   "id": "6b62aedd-8711-4804-9afa-7f0c367efab9",
   "metadata": {},
   "outputs": [],
   "source": []
  },
  {
   "cell_type": "markdown",
   "id": "30b7323e-b184-4ccc-a0f4-f6443088bd0b",
   "metadata": {},
   "source": [
    "Filling missing data:"
   ]
  },
  {
   "cell_type": "code",
   "execution_count": null,
   "id": "6aa706da-03fe-49dc-8784-8306b9f481f3",
   "metadata": {},
   "outputs": [],
   "source": []
  },
  {
   "cell_type": "code",
   "execution_count": null,
   "id": "e16af577-c1ec-471a-a3d0-d7f04638f946",
   "metadata": {},
   "outputs": [],
   "source": []
  },
  {
   "cell_type": "markdown",
   "id": "17ba43aa-febf-4abb-960e-52c76d23e9d9",
   "metadata": {},
   "source": [
    "To get the boolean mask where values are `nan`:"
   ]
  },
  {
   "cell_type": "code",
   "execution_count": null,
   "id": "c4ecf1ec-baf7-4517-a69b-cd02a7e575c7",
   "metadata": {},
   "outputs": [],
   "source": []
  },
  {
   "cell_type": "markdown",
   "id": "f9b45c5c-1b88-4d51-b933-0c2ffc31a44d",
   "metadata": {},
   "source": [
    "### Duplicate data"
   ]
  },
  {
   "cell_type": "code",
   "execution_count": null,
   "id": "67d87fe9-4b5c-487f-92c8-60509e674f47",
   "metadata": {},
   "outputs": [],
   "source": []
  },
  {
   "cell_type": "markdown",
   "id": "b94c5381-adaf-4c15-a38a-e24aef107067",
   "metadata": {},
   "source": [
    "You can find duplicate data using [`duplicated()`](https://pandas.pydata.org/docs/reference/api/pandas.DataFrame.duplicated.html).\n",
    "\n",
    "This methode will decect every duplicated rows, by default the first occurrence is set on False and all others on True."
   ]
  },
  {
   "cell_type": "code",
   "execution_count": null,
   "id": "71017506-d34b-4795-9578-7fede44dbc68",
   "metadata": {},
   "outputs": [],
   "source": []
  },
  {
   "cell_type": "markdown",
   "id": "86bda0ef-b302-4f65-8ee8-81c28128cb95",
   "metadata": {},
   "source": [
    "By setting keep='last, the last occurrence of each set of duplicated values is set on False and all others on True."
   ]
  },
  {
   "cell_type": "code",
   "execution_count": null,
   "id": "b78a94d0-2743-4650-817e-6a93db6cc539",
   "metadata": {},
   "outputs": [],
   "source": []
  },
  {
   "cell_type": "markdown",
   "id": "4a4517e2-9e47-4271-88d5-995558b7489b",
   "metadata": {},
   "source": [
    "By setting keep=False, all duplicates are True."
   ]
  },
  {
   "cell_type": "code",
   "execution_count": null,
   "id": "da53dfd2-229c-4954-8b5b-3039348709c5",
   "metadata": {},
   "outputs": [],
   "source": []
  },
  {
   "cell_type": "markdown",
   "id": "3cf191ad-ec24-46c8-8d65-54d8ac3bd012",
   "metadata": {},
   "source": [
    "To find duplicates on specific subset ofcolumn(s), use subset."
   ]
  },
  {
   "cell_type": "markdown",
   "id": "df6f1af6-469e-46b4-b0af-70c735f2ebb9",
   "metadata": {},
   "source": [
    "df.duplicated(subset=['brand'])"
   ]
  },
  {
   "cell_type": "markdown",
   "id": "920d94b4-bb6e-4bf6-b07f-1fe7f16d731a",
   "metadata": {},
   "source": [
    "You drop duplicates data you can use [`drop_duplicates()`](https://pandas.pydata.org/docs/reference/api/pandas.DataFrame.drop_duplicates.html?highlight=drop_duplicat#pandas.DataFrame.drop_duplicates)\n",
    "\n",
    "This methode has quitly the same behaviour than `duplicated()`"
   ]
  },
  {
   "cell_type": "code",
   "execution_count": null,
   "id": "1a4f0ed8-a7c6-4f5f-9dc1-96193f111c9d",
   "metadata": {},
   "outputs": [],
   "source": []
  },
  {
   "cell_type": "markdown",
   "id": "985dfc01-aa2f-4871-9e50-2fed27695403",
   "metadata": {},
   "source": [
    "### Concatenate dataframe\n",
    "\n",
    " [`pd.concat()`](https://pandas.pydata.org/docs/reference/api/pandas.concat.html) allows to combine several dataframe together using their commun column or index label.\n",
    " \n",
    " Unlike numpy, pandas concatenation could be performed to unmatched size dataFrame, `NaN` values are added in order to keep built dataFrame integrity."
   ]
  },
  {
   "cell_type": "code",
   "execution_count": null,
   "id": "772035a6-352e-43dc-8ea6-1cad72ce1c71",
   "metadata": {},
   "outputs": [],
   "source": []
  },
  {
   "cell_type": "code",
   "execution_count": null,
   "id": "1c680745-18ee-4941-a4da-4340281cba19",
   "metadata": {},
   "outputs": [],
   "source": []
  },
  {
   "cell_type": "markdown",
   "id": "98fb8f92-3089-4215-b516-139cc65fd403",
   "metadata": {},
   "source": [
    "Combine two dataframe using their commun columns:"
   ]
  },
  {
   "cell_type": "code",
   "execution_count": null,
   "id": "b48ed14e-166f-4552-be01-edc7a366b879",
   "metadata": {},
   "outputs": [],
   "source": []
  },
  {
   "cell_type": "markdown",
   "id": "081864e1-16b5-4d9d-86c8-848b3ecf89c6",
   "metadata": {},
   "source": [
    "The two last columns of the resulting dataFrame contain `NaN` values\n",
    "\n",
    "Resulting dataframe will keep source dataframe indexes. If you want to create a new index just set  `ignore_index=True`\n",
    "\n",
    "Coincatenate two dataframe using their commun rows by setting axis = 1:"
   ]
  },
  {
   "cell_type": "code",
   "execution_count": null,
   "id": "b1fdc635-5e24-4076-8b68-e40f51e81ae3",
   "metadata": {},
   "outputs": [],
   "source": []
  },
  {
   "cell_type": "markdown",
   "id": "033cbb2a-ed1a-44fa-9d9e-a30d50c74d71",
   "metadata": {},
   "source": [
    "Fannaly iy you want to only keep common row or column (depending of which axis is set) you can set  `join=\"inner\"` "
   ]
  },
  {
   "cell_type": "code",
   "execution_count": null,
   "id": "594e5a69-8014-40a3-b96e-838c8670483a",
   "metadata": {},
   "outputs": [],
   "source": []
  },
  {
   "cell_type": "markdown",
   "id": "f7a05953-c7dd-42c0-a4c0-9d01b68eaa6b",
   "metadata": {},
   "source": [
    "It is also possible to combine dataframe through the commun values from one of their columns using [`merge()` methode](https://pandas.pydata.org/docs/reference/api/pandas.DataFrame.merge.html])."
   ]
  },
  {
   "cell_type": "code",
   "execution_count": null,
   "id": "d03ec65b-55e0-44bf-af0c-0c42e9f43814",
   "metadata": {},
   "outputs": [],
   "source": []
  },
  {
   "cell_type": "markdown",
   "id": "b121ca9b-5a89-49dc-a618-62ea89d84709",
   "metadata": {},
   "source": [
    "**Pay attention, if both key merging columns have duplicate values, it will create duplicate rows**"
   ]
  },
  {
   "cell_type": "code",
   "execution_count": null,
   "id": "da015be1-34d0-4d71-b19a-78da2d76bc58",
   "metadata": {},
   "outputs": [],
   "source": []
  },
  {
   "cell_type": "markdown",
   "id": "c328a53b-7bdc-4881-afe0-ce2c2b27c954",
   "metadata": {},
   "source": [
    "## Statistics operators\n",
    "\n",
    "Every statistics operators available on Numpy are also on Pandas. Operations in general _exclude_ missing data."
   ]
  },
  {
   "cell_type": "code",
   "execution_count": null,
   "id": "0079c298-bb68-46c5-8e84-6d20e0947aaa",
   "metadata": {},
   "outputs": [],
   "source": []
  },
  {
   "cell_type": "code",
   "execution_count": null,
   "id": "b151f87b-7dea-4f58-9c91-105cf90b484e",
   "metadata": {},
   "outputs": [],
   "source": []
  },
  {
   "cell_type": "markdown",
   "id": "61f4703e-e90b-45d8-9700-1c318a8f7103",
   "metadata": {},
   "source": [
    "## [`apply()` function](https://pandas.pydata.org/docs/reference/api/pandas.DataFrame.apply.html)\n",
    "\n",
    "Pandas DataFrame apply() function is used to efficently apply a function along an axis of the DataFrame. It returns a new DataFrame object after applying the function to its elements."
   ]
  },
  {
   "cell_type": "markdown",
   "id": "e43be253-1406-47dc-9d87-1f858b5ebe40",
   "metadata": {},
   "source": [
    " The for loop iterates through the numbers list and calls the `square()` function on each element. The `apply()` function is not defined for lists. It is a method of DataFrames and Series in Pandas.\n",
    "\n",
    "The `apply()` function can be more efficient than a `for` loop in some cases, because it does not have to create a new list to store the results. However, the `for` loop is more readable and easier to understand.\n",
    "\n",
    "- [ ] Check with LTI"
   ]
  },
  {
   "cell_type": "code",
   "execution_count": null,
   "id": "11c65f5a-00a6-445b-bb2a-ac00f52121b0",
   "metadata": {},
   "outputs": [],
   "source": []
  },
  {
   "cell_type": "markdown",
   "id": "3ec2a47c-583e-4bd7-b67e-bec6f0809eea",
   "metadata": {},
   "source": [
    "Using a `for` loop:"
   ]
  },
  {
   "cell_type": "code",
   "execution_count": null,
   "id": "6025d7fe-9421-4093-bcbd-91fc2df80b64",
   "metadata": {},
   "outputs": [],
   "source": []
  },
  {
   "cell_type": "markdown",
   "id": "1b5eed96-d9c5-46f7-ac65-373ea6697aff",
   "metadata": {},
   "source": [
    "Using the `apply()` function:"
   ]
  },
  {
   "cell_type": "code",
   "execution_count": null,
   "id": "79c84ced-5de3-4320-adc2-7a72a60a3f16",
   "metadata": {},
   "outputs": [],
   "source": []
  },
  {
   "cell_type": "markdown",
   "id": "ef94d1f9-54df-4d1f-9fb5-b619765e977b",
   "metadata": {},
   "source": [
    "The `apply()` function can be a powerful tool for applying functions to data structures in Python. It is important to choose the right tool for the application, and to understand the trade-offs between performance and readability."
   ]
  },
  {
   "cell_type": "markdown",
   "id": "ca352d20-6535-4b67-8364-e614b1ccb3ad",
   "metadata": {},
   "source": [
    "First we define the function we need to make it work:"
   ]
  },
  {
   "cell_type": "code",
   "execution_count": null,
   "id": "d507bd07-ac37-43d8-9296-e5679a7322ac",
   "metadata": {},
   "outputs": [],
   "source": []
  },
  {
   "cell_type": "markdown",
   "id": "9d1f4f06-b1f7-4030-8ce8-561510d00e92",
   "metadata": {},
   "source": [
    "Then we create a DataFrame to compare the different methods and apply the functions:"
   ]
  },
  {
   "cell_type": "code",
   "execution_count": null,
   "id": "4235a9fe-bb55-4401-afe7-34ffe9151738",
   "metadata": {},
   "outputs": [],
   "source": []
  },
  {
   "cell_type": "markdown",
   "id": "8425fd90-39ac-4c1a-8db5-3a8de8015917",
   "metadata": {
    "tags": []
   },
   "source": [
    "### `lambda` function\n",
    "\n",
    "A `lambda` function is a small, anonymous function that can be used as an argument to other functions. Lambda functions are often used in Python to perform simple tasks that would otherwise require a more complex function.\n",
    "\n",
    "The `arguments` are the input values to the function, and the `expression` is the code that is executed when the function is called."
   ]
  },
  {
   "cell_type": "code",
   "execution_count": null,
   "id": "edbaf287-e7e8-4993-8540-f6780e09abdf",
   "metadata": {},
   "outputs": [],
   "source": []
  },
  {
   "cell_type": "markdown",
   "id": "ffa5bceb-beff-4c7c-b6c8-b9d7c59d892f",
   "metadata": {},
   "source": [
    "TODO:\n",
    "\n",
    "- [ ] Build a short tutorial (coming soon...)"
   ]
  },
  {
   "cell_type": "markdown",
   "id": "c52b8d2a-c86a-4c29-9d0c-90f9a7720e05",
   "metadata": {},
   "source": [
    "## References for Pandas\n",
    "\n",
    "If you want to get more insights and learn more about Matplotlib, please visit the following two very good references:\n",
    "\n",
    "- [10 minutes to pandas](https://pandas.pydata.org/docs/user_guide/10min.html)\n",
    "- [Comparison with spreadsheets](https://pandas.pydata.org/docs/getting_started/comparison/comparison_with_spreadsheets.html)\n",
    "- [Pandas cheatsheet](https://github.com/pandas-dev/pandas/blob/main/doc/cheatsheet/Pandas_Cheat_Sheet.pdf)"
   ]
  },
  {
   "cell_type": "markdown",
   "id": "592340a6aad3cdb5",
   "metadata": {},
   "source": [
    "# Acknowledgments for this tutorial preparation\n",
    "\n",
    "**Note**: These tutorials was greatly inspired by [Aurélien Géron's NumPy notebook](https://colab.research.google.com/github/ageron/handson-ml3/blob/main/index.ipynb), all his interactive notebooks. Do not hesistate to go through them when you have time during the semester."
   ]
  },
  {
   "cell_type": "markdown",
   "id": "4ca497e24492b9a1",
   "metadata": {},
   "source": [
    "## References\n",
    "\n",
    "- Hands-On Machine Learning with Scikit-Learn, Keras, and TensorFlow by Aurélien Géron. Copyright 2023 Aurélien Géron, 978-1-098-12597-4.\n",
    "```latex\n",
    "@book{geron2022hands,\n",
    "  title={Hands-on machine learning with Scikit-Learn, Keras, and TensorFlow},\n",
    "  author={G{\\'e}ron, Aur{\\'e}lien},\n",
    "  year={2022},\n",
    "  publisher={\" O'Reilly Media, Inc.\"}\n",
    "}\n",
    "```\n",
    "- [Code examples](https://github.com/ageron/handson-ml3)"
   ]
  },
  {
   "cell_type": "markdown",
   "id": "1c0f65e874ad5fe2",
   "metadata": {},
   "source": [
    "## Notebook tutorials to go further\n",
    "\n",
    "- [Power System Notebooks](./index.ipynb)"
   ]
  }
 ],
 "metadata": {
  "kernelspec": {
   "display_name": "Python 3 (ipykernel)",
   "language": "python",
   "name": "python3"
  },
  "language_info": {
   "codemirror_mode": {
    "name": "ipython",
    "version": 3
   },
   "file_extension": ".py",
   "mimetype": "text/x-python",
   "name": "python",
   "nbconvert_exporter": "python",
   "pygments_lexer": "ipython3",
   "version": "3.10.12"
  }
 },
 "nbformat": 4,
 "nbformat_minor": 5
}
