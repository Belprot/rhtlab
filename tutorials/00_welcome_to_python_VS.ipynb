{
 "cells": [
  {
   "cell_type": "markdown",
   "metadata": {},
   "source": [
    "**My First Python Demo Notebook – A Simple Tutorial**\n",
    "<details>\n",
    "\n",
    "<summary>Table of content</summary>\n",
    "\n",
    "# Notebook content\n",
    "- I : Visual Studio code\n",
    "- II : JupyterNotebook\n",
    "- III : Python\n",
    "- IV : Variable type\n",
    "- V : NumPy and Pandas\n",
    "- VI : Data from csv\n",
    "- VII : Manipulation of dataframe\n",
    "- VIII : Plot of dataframe\n",
    "- IX : Pandapower\n",
    "\n",
    "</details>"
   ]
  },
  {
   "cell_type": "markdown",
   "metadata": {},
   "source": [
    "# VS code\n"
   ]
  },
  {
   "cell_type": "markdown",
   "metadata": {},
   "source": [
    "\n",
    "File -> Activate Autosave\n",
    "\n",
    "Launch via terminal, nice to open project.\n",
    "\n",
    "Some features : \n",
    "- Dark mode or other\n",
    "- Friendly git command\n",
    "  - Git [nomenclature](https://www.conventionalcommits.org/en/v1.0.0/)\n",
    "- Github Copilot\n",
    "- Extension"
   ]
  },
  {
   "cell_type": "markdown",
   "metadata": {},
   "source": [
    "# JupyterNotebook"
   ]
  },
  {
   "cell_type": "markdown",
   "metadata": {},
   "source": [
    "All the [basics](00_welcome_to_jupyter.ipynb) about JupyterNotebook.\n",
    "- What is it ?\n",
    "- Step by step execution\n",
    "- How memory work\n",
    "- Variable explorer\n",
    "- Export"
   ]
  },
  {
   "cell_type": "markdown",
   "metadata": {},
   "source": [
    "\n",
    "Here you have the [Basic writing and formatting syntax](https://docs.github.com/en/get-started/writing-on-github/getting-started-with-writing-and-formatting-on-github/basic-writing-and-formatting-syntax) for markdown.\n",
    "\n",
    "Few usefull shortcut :\n",
    "- `y` and `m` to toggle between markdown and python cells.\n",
    "- `Ctrl+Enter` to run cells\n",
    "- `Shift+Enter` to run and advance in next cells\n",
    "\n",
    "And text higligh : \n",
    " - ``---`` - Line througth the page\n",
    " - `>` - Text box\n",
    " - \\`Text\\` - Quoting code like ``this``\n",
    " - And triple for multiple line \\`\\`\\` ``code`` \\`\\`\\`"
   ]
  },
  {
   "cell_type": "markdown",
   "metadata": {},
   "source": [
    "# Some basics to get ready\n"
   ]
  },
  {
   "cell_type": "markdown",
   "metadata": {},
   "source": [
    "At the first, we are not informatician, the hygiene is important for your code : commenting, good variable name,...\n",
    "\n",
    "But if that works... ;)\n",
    "\n",
    "Here a complete guide about hygiene coding tips : [hygiene_tips](https://testdriven.io/blog/clean-code-python/), I recommend you to read the _PEP 8_ part.\n",
    "\n",
    "For solving a problem, you have many solution and that the same with Python, so we will give you one solution (sometimes more) and that can be the best solution, or not. \n",
    "\n",
    "So be free as a bird and make your own experience. :bird:"
   ]
  },
  {
   "cell_type": "markdown",
   "metadata": {},
   "source": [
    "### Python\n"
   ]
  },
  {
   "cell_type": "markdown",
   "metadata": {},
   "source": [
    "\n",
    "Python is an object oriented programming language and this mean that almost everything is an object with own properties and methods.\n",
    "\n",
    "And we create object with the constructure (like blueprint) called Class.\n",
    "\n",
    "And each object can have function inside, thats called method."
   ]
  },
  {
   "cell_type": "markdown",
   "metadata": {},
   "source": [
    "## Help once the package has been imported\n"
   ]
  },
  {
   "cell_type": "markdown",
   "metadata": {},
   "source": [
    "Python works with package, this is all the code already developped that we can use, we don't want (and can't) recode anything every times.\n",
    "\n",
    "Package exit to do lots of thinks : statistical analysis, data visualization, etc.\n",
    "\n",
    "In this tuto we'll import the following packages :\n",
    "- *numpy* and *pandas* for data analysis and manipulation\n",
    "- *plotly* for data visualization\n",
    "- (*os* is used to change working directories, but you don't need it)"
   ]
  },
  {
   "cell_type": "code",
   "execution_count": 55,
   "metadata": {},
   "outputs": [],
   "source": [
    "import os\n",
    "import numpy as np\n",
    "import pandas as pd\n",
    "import plotly.express as px\n",
    "from plotly.subplots import make_subplots"
   ]
  },
  {
   "cell_type": "markdown",
   "metadata": {},
   "source": [
    "For needed information on a function tape : _?function_name_"
   ]
  },
  {
   "cell_type": "code",
   "execution_count": 56,
   "metadata": {},
   "outputs": [
    {
     "name": "stdout",
     "output_type": "stream",
     "text": [
      "\u001b[0;31mSignature:\u001b[0m \u001b[0mprint\u001b[0m\u001b[0;34m(\u001b[0m\u001b[0;34m*\u001b[0m\u001b[0margs\u001b[0m\u001b[0;34m,\u001b[0m \u001b[0msep\u001b[0m\u001b[0;34m=\u001b[0m\u001b[0;34m' '\u001b[0m\u001b[0;34m,\u001b[0m \u001b[0mend\u001b[0m\u001b[0;34m=\u001b[0m\u001b[0;34m'\\n'\u001b[0m\u001b[0;34m,\u001b[0m \u001b[0mfile\u001b[0m\u001b[0;34m=\u001b[0m\u001b[0;32mNone\u001b[0m\u001b[0;34m,\u001b[0m \u001b[0mflush\u001b[0m\u001b[0;34m=\u001b[0m\u001b[0;32mFalse\u001b[0m\u001b[0;34m)\u001b[0m\u001b[0;34m\u001b[0m\u001b[0;34m\u001b[0m\u001b[0m\n",
      "\u001b[0;31mDocstring:\u001b[0m\n",
      "Prints the values to a stream, or to sys.stdout by default.\n",
      "\n",
      "sep\n",
      "  string inserted between values, default a space.\n",
      "end\n",
      "  string appended after the last value, default a newline.\n",
      "file\n",
      "  a file-like object (stream); defaults to the current sys.stdout.\n",
      "flush\n",
      "  whether to forcibly flush the stream.\n",
      "\u001b[0;31mType:\u001b[0m      builtin_function_or_method"
     ]
    }
   ],
   "source": [
    "?print"
   ]
  },
  {
   "cell_type": "markdown",
   "metadata": {},
   "source": [
    "## Basics Data Structures and Sequences : Variable type"
   ]
  },
  {
   "cell_type": "markdown",
   "metadata": {},
   "source": [
    "The information is stocked in variable, the information can take multiple forms, numeric, string, etc., the next table resume the data type and how to construct it.\n",
    "|                  | Data Type  | Example                                              |\n",
    "|------------------|------------|------------------------------------------------------|\n",
    "| _Text Type_      | str        | `\"Hello World\"`                                      |\n",
    "| _Numeric Types_  | int        | 50                                                   |\n",
    "|                  | float      | 50.5                                                 |\n",
    "|                  | complex    | 10j                                                  |\n",
    "| _Sequence Types_ | list       | `[\"resistance\", \"admittance\", \"impedance\"]`          |\n",
    "|                  | tuple      | `(\"resistance\", \"admittance\",\"impedance\")`           |\n",
    "|                  | range      | `range(8)`                                           |\n",
    "| _Mapping Type_   | dict       | `{\"Element\": \"Generator\", \"Power\" : 100}`            |\n",
    "| _Boolean Type_   | bool       | True, False                                          |\n",
    "\n",
    "On this [link](https://wesmckinney.com/book/python-builtin#tut_data_structures), you have more information about the datastructure."
   ]
  },
  {
   "cell_type": "markdown",
   "metadata": {},
   "source": [
    "<details>\n",
    "<summary>Details on variable type</summary>\n",
    "\n",
    "- **Integers** are whole numbers, negative and positive.\n",
    "- **Floats** are real numbers or numbers with a decimal point.\n",
    "- **Strings** are sequences of characters.\n",
    "- **Booleans** are True or False  (1 or 0).\n",
    "- **Tuples** are ordered, immutable collections of values.\n",
    "- **dictionaries** is unordered collection of data in a key: value pair form\n",
    "- **Lists** are ordered, mutable collections of values.\n",
    "\n",
    "\n",
    "</details>"
   ]
  },
  {
   "cell_type": "markdown",
   "metadata": {},
   "source": [
    "\n",
    "The program auto define the variable type when we create it.  It's possible to manually specify it (for changing size p.ex.)."
   ]
  },
  {
   "cell_type": "code",
   "execution_count": 57,
   "metadata": {},
   "outputs": [
    {
     "name": "stdout",
     "output_type": "stream",
     "text": [
      "Classe of list_Test:\n",
      " <class 'tuple'>\n",
      "list_Test contains:\n",
      " (9, 1, 2, 3, 4, 'z', 'x', 'y', 'x')\n"
     ]
    }
   ],
   "source": [
    "# List exemple\n",
    "list_test = (9, 1, 2, 3, 4, \"z\", \"x\", \"y\", \"x\")\n",
    "print(\"Classe of list_Test:\\n\", type(list_test))\n",
    "print(\"list_Test contains:\\n\", list_test)"
   ]
  },
  {
   "cell_type": "markdown",
   "metadata": {},
   "source": [
    "In a sequence, the elements can be accessed with `[]`.\n",
    "\n",
    "Like C or most of the common programming language, Python index begin at 0, unlike Matlab, who start at 1."
   ]
  },
  {
   "cell_type": "code",
   "execution_count": 58,
   "metadata": {},
   "outputs": [
    {
     "name": "stdout",
     "output_type": "stream",
     "text": [
      "Element 3 in list_Test = 1\n"
     ]
    }
   ],
   "source": [
    "print(\"Element 3 in list_Test =\", list_test[1])"
   ]
  },
  {
   "cell_type": "markdown",
   "metadata": {},
   "source": [
    "List and Tuple are similar, but Tuple is immutable."
   ]
  },
  {
   "cell_type": "code",
   "execution_count": 59,
   "metadata": {},
   "outputs": [],
   "source": [
    "list_exemple = [\"foo\", 1, [1, 2, 4], True]"
   ]
  },
  {
   "cell_type": "code",
   "execution_count": 60,
   "metadata": {},
   "outputs": [
    {
     "name": "stdout",
     "output_type": "stream",
     "text": [
      "Type of list : <class 'str'>\n"
     ]
    }
   ],
   "source": [
    "print(\"Type of list :\", type(list_exemple[0]))"
   ]
  },
  {
   "cell_type": "code",
   "execution_count": 61,
   "metadata": {},
   "outputs": [],
   "source": [
    "# tup[2] = False"
   ]
  },
  {
   "cell_type": "markdown",
   "metadata": {},
   "source": [
    "To access value inside, the procedure is the same :"
   ]
  },
  {
   "cell_type": "code",
   "execution_count": 62,
   "metadata": {},
   "outputs": [
    {
     "data": {
      "text/plain": [
       "1"
      ]
     },
     "execution_count": 62,
     "metadata": {},
     "output_type": "execute_result"
    }
   ],
   "source": [
    "list_exemple[2][0]"
   ]
  },
  {
   "cell_type": "markdown",
   "metadata": {},
   "source": [
    "To access sub-element :"
   ]
  },
  {
   "cell_type": "code",
   "execution_count": null,
   "metadata": {},
   "outputs": [],
   "source": []
  },
  {
   "cell_type": "markdown",
   "metadata": {},
   "source": [
    "### Complex number\n",
    "A complex value can be expressed in polar coordinates or rectangular coordinates :\n",
    "\n",
    "![Impedance](plot/impedance.png)"
   ]
  },
  {
   "cell_type": "code",
   "execution_count": 63,
   "metadata": {},
   "outputs": [],
   "source": [
    "# Rectangular\n",
    "R_real = 10\n",
    "X_imag = 5\n",
    "Z = R_real + 1j * X_imag\n",
    "# Polar\n",
    "Tension_Module = 10\n",
    "Phase_Angle = 45\n",
    "U = Tension_Module * np.exp(1j * Phase_Angle)"
   ]
  },
  {
   "cell_type": "markdown",
   "metadata": {},
   "source": [
    "But Python express complex number in rectangular coordinates :"
   ]
  },
  {
   "cell_type": "code",
   "execution_count": 64,
   "metadata": {},
   "outputs": [
    {
     "name": "stdout",
     "output_type": "stream",
     "text": [
      "(5.253219888177298+8.509035245341185j)\n"
     ]
    }
   ],
   "source": [
    "print(U)"
   ]
  },
  {
   "cell_type": "markdown",
   "metadata": {},
   "source": [
    "## Manipulating NumPy array and Pandas dataframe"
   ]
  },
  {
   "cell_type": "markdown",
   "metadata": {},
   "source": [
    "For manipulating data, we can use two packages, they are similar but not exactly the same, here a small explanation of the differences [pd/np](https://www.geeksforgeeks.org/difference-between-pandas-vs-numpy/#:~:text=Difference%20between%20Pandas%20and%20Numpy)\n",
    "\n",
    "Pandas is based on NumPy and is usefull to manipulate data-structures (Tabular data) : numeric data (or not) and time series\n",
    "\n",
    "Numpy is the fundamental library of Python, it provides high-performance multidimensional arrays and tools to work with them, usefull to matrix and vector calculation."
   ]
  },
  {
   "cell_type": "markdown",
   "metadata": {},
   "source": [
    "### Numpy\n",
    "_array_ is like _list_ but faster, from NumPy library (continuous place in memory unlike _list_)\n",
    "\n",
    "Use _list_, _tuple_ or any _array-like_ to construct NumPy array"
   ]
  },
  {
   "cell_type": "code",
   "execution_count": 65,
   "metadata": {},
   "outputs": [
    {
     "name": "stdout",
     "output_type": "stream",
     "text": [
      "[[[ 1  2  3]\n",
      "  [ 4  5  6]]\n",
      "\n",
      " [[ 7  8  9]\n",
      "  [10 11 12]]\n",
      "\n",
      " [[13 14 15]\n",
      "  [16 17 18]]]\n"
     ]
    }
   ],
   "source": [
    "# Create narray with list and multiple dimension 3*2\n",
    "liste_array = np.array(\n",
    "    [\n",
    "        [[1, 2, 3], [4, 5, 6]],\n",
    "        [[7, 8, 9], [10, 11, 12]],\n",
    "        [[13, 14, 15], [16, 17, 18]],\n",
    "    ]\n",
    ")\n",
    "print(liste_array)"
   ]
  },
  {
   "cell_type": "code",
   "execution_count": 66,
   "metadata": {},
   "outputs": [
    {
     "name": "stdout",
     "output_type": "stream",
     "text": [
      "8\n"
     ]
    }
   ],
   "source": [
    "# Access element in array\n",
    "print(liste_array[1][0][1])"
   ]
  },
  {
   "cell_type": "code",
   "execution_count": 67,
   "metadata": {},
   "outputs": [
    {
     "name": "stdout",
     "output_type": "stream",
     "text": [
      "[1900 1910 1920 1930 1940 1950 1960 1970 1980 1990 2000 2010 2020]\n"
     ]
    }
   ],
   "source": [
    "# Time interval [1900 to 2020] with step 10 with numpy arange\n",
    "years = np.arange(1900, 2021, 10)\n",
    "print(years)\n",
    "\n",
    "# Population array data for Switzerland : 3297641,3708897,3870407,4042131,4233223,4692642,5327776,6180925,6319848,6713167,7184003,7825751,8640582,\n",
    "pop = np.array(\n",
    "    [\n",
    "        3297641,\n",
    "        3708897,\n",
    "        3870407,\n",
    "        4042131,\n",
    "        4233223,\n",
    "        4692642,\n",
    "        5327776,\n",
    "        6180925,\n",
    "        6319848,\n",
    "        6713167,\n",
    "        7184003,\n",
    "        7825751,\n",
    "        8640582,\n",
    "    ]\n",
    ")"
   ]
  },
  {
   "cell_type": "markdown",
   "metadata": {},
   "source": [
    "Now I would like to visualize the population evolution that will change over time:"
   ]
  },
  {
   "cell_type": "code",
   "execution_count": 68,
   "metadata": {},
   "outputs": [
    {
     "data": {
      "application/vnd.plotly.v1+json": {
       "config": {
        "plotlyServerURL": "https://plot.ly"
       },
       "data": [
        {
         "hovertemplate": "Year=%{x}<br>Population=%{y}<extra></extra>",
         "legendgroup": "",
         "line": {
          "color": "#636efa",
          "dash": "solid"
         },
         "marker": {
          "symbol": "circle"
         },
         "mode": "lines",
         "name": "",
         "orientation": "v",
         "showlegend": false,
         "type": "scatter",
         "x": [
          1900,
          1910,
          1920,
          1930,
          1940,
          1950,
          1960,
          1970,
          1980,
          1990,
          2000,
          2010,
          2020
         ],
         "xaxis": "x",
         "y": [
          3297641,
          3708897,
          3870407,
          4042131,
          4233223,
          4692642,
          5327776,
          6180925,
          6319848,
          6713167,
          7184003,
          7825751,
          8640582
         ],
         "yaxis": "y"
        }
       ],
       "layout": {
        "coloraxis": {
         "showscale": false
        },
        "height": 500,
        "legend": {
         "tracegroupgap": 0
        },
        "margin": {
         "b": 60,
         "l": 60,
         "r": 60,
         "t": 60
        },
        "template": {
         "data": {
          "bar": [
           {
            "error_x": {
             "color": "#2a3f5f"
            },
            "error_y": {
             "color": "#2a3f5f"
            },
            "marker": {
             "line": {
              "color": "#E5ECF6",
              "width": 0.5
             },
             "pattern": {
              "fillmode": "overlay",
              "size": 10,
              "solidity": 0.2
             }
            },
            "type": "bar"
           }
          ],
          "barpolar": [
           {
            "marker": {
             "line": {
              "color": "#E5ECF6",
              "width": 0.5
             },
             "pattern": {
              "fillmode": "overlay",
              "size": 10,
              "solidity": 0.2
             }
            },
            "type": "barpolar"
           }
          ],
          "carpet": [
           {
            "aaxis": {
             "endlinecolor": "#2a3f5f",
             "gridcolor": "white",
             "linecolor": "white",
             "minorgridcolor": "white",
             "startlinecolor": "#2a3f5f"
            },
            "baxis": {
             "endlinecolor": "#2a3f5f",
             "gridcolor": "white",
             "linecolor": "white",
             "minorgridcolor": "white",
             "startlinecolor": "#2a3f5f"
            },
            "type": "carpet"
           }
          ],
          "choropleth": [
           {
            "colorbar": {
             "outlinewidth": 0,
             "ticks": ""
            },
            "type": "choropleth"
           }
          ],
          "contour": [
           {
            "colorbar": {
             "outlinewidth": 0,
             "ticks": ""
            },
            "colorscale": [
             [
              0,
              "#0d0887"
             ],
             [
              0.1111111111111111,
              "#46039f"
             ],
             [
              0.2222222222222222,
              "#7201a8"
             ],
             [
              0.3333333333333333,
              "#9c179e"
             ],
             [
              0.4444444444444444,
              "#bd3786"
             ],
             [
              0.5555555555555556,
              "#d8576b"
             ],
             [
              0.6666666666666666,
              "#ed7953"
             ],
             [
              0.7777777777777778,
              "#fb9f3a"
             ],
             [
              0.8888888888888888,
              "#fdca26"
             ],
             [
              1,
              "#f0f921"
             ]
            ],
            "type": "contour"
           }
          ],
          "contourcarpet": [
           {
            "colorbar": {
             "outlinewidth": 0,
             "ticks": ""
            },
            "type": "contourcarpet"
           }
          ],
          "heatmap": [
           {
            "colorbar": {
             "outlinewidth": 0,
             "ticks": ""
            },
            "colorscale": [
             [
              0,
              "#0d0887"
             ],
             [
              0.1111111111111111,
              "#46039f"
             ],
             [
              0.2222222222222222,
              "#7201a8"
             ],
             [
              0.3333333333333333,
              "#9c179e"
             ],
             [
              0.4444444444444444,
              "#bd3786"
             ],
             [
              0.5555555555555556,
              "#d8576b"
             ],
             [
              0.6666666666666666,
              "#ed7953"
             ],
             [
              0.7777777777777778,
              "#fb9f3a"
             ],
             [
              0.8888888888888888,
              "#fdca26"
             ],
             [
              1,
              "#f0f921"
             ]
            ],
            "type": "heatmap"
           }
          ],
          "heatmapgl": [
           {
            "colorbar": {
             "outlinewidth": 0,
             "ticks": ""
            },
            "colorscale": [
             [
              0,
              "#0d0887"
             ],
             [
              0.1111111111111111,
              "#46039f"
             ],
             [
              0.2222222222222222,
              "#7201a8"
             ],
             [
              0.3333333333333333,
              "#9c179e"
             ],
             [
              0.4444444444444444,
              "#bd3786"
             ],
             [
              0.5555555555555556,
              "#d8576b"
             ],
             [
              0.6666666666666666,
              "#ed7953"
             ],
             [
              0.7777777777777778,
              "#fb9f3a"
             ],
             [
              0.8888888888888888,
              "#fdca26"
             ],
             [
              1,
              "#f0f921"
             ]
            ],
            "type": "heatmapgl"
           }
          ],
          "histogram": [
           {
            "marker": {
             "pattern": {
              "fillmode": "overlay",
              "size": 10,
              "solidity": 0.2
             }
            },
            "type": "histogram"
           }
          ],
          "histogram2d": [
           {
            "colorbar": {
             "outlinewidth": 0,
             "ticks": ""
            },
            "colorscale": [
             [
              0,
              "#0d0887"
             ],
             [
              0.1111111111111111,
              "#46039f"
             ],
             [
              0.2222222222222222,
              "#7201a8"
             ],
             [
              0.3333333333333333,
              "#9c179e"
             ],
             [
              0.4444444444444444,
              "#bd3786"
             ],
             [
              0.5555555555555556,
              "#d8576b"
             ],
             [
              0.6666666666666666,
              "#ed7953"
             ],
             [
              0.7777777777777778,
              "#fb9f3a"
             ],
             [
              0.8888888888888888,
              "#fdca26"
             ],
             [
              1,
              "#f0f921"
             ]
            ],
            "type": "histogram2d"
           }
          ],
          "histogram2dcontour": [
           {
            "colorbar": {
             "outlinewidth": 0,
             "ticks": ""
            },
            "colorscale": [
             [
              0,
              "#0d0887"
             ],
             [
              0.1111111111111111,
              "#46039f"
             ],
             [
              0.2222222222222222,
              "#7201a8"
             ],
             [
              0.3333333333333333,
              "#9c179e"
             ],
             [
              0.4444444444444444,
              "#bd3786"
             ],
             [
              0.5555555555555556,
              "#d8576b"
             ],
             [
              0.6666666666666666,
              "#ed7953"
             ],
             [
              0.7777777777777778,
              "#fb9f3a"
             ],
             [
              0.8888888888888888,
              "#fdca26"
             ],
             [
              1,
              "#f0f921"
             ]
            ],
            "type": "histogram2dcontour"
           }
          ],
          "mesh3d": [
           {
            "colorbar": {
             "outlinewidth": 0,
             "ticks": ""
            },
            "type": "mesh3d"
           }
          ],
          "parcoords": [
           {
            "line": {
             "colorbar": {
              "outlinewidth": 0,
              "ticks": ""
             }
            },
            "type": "parcoords"
           }
          ],
          "pie": [
           {
            "automargin": true,
            "type": "pie"
           }
          ],
          "scatter": [
           {
            "fillpattern": {
             "fillmode": "overlay",
             "size": 10,
             "solidity": 0.2
            },
            "type": "scatter"
           }
          ],
          "scatter3d": [
           {
            "line": {
             "colorbar": {
              "outlinewidth": 0,
              "ticks": ""
             }
            },
            "marker": {
             "colorbar": {
              "outlinewidth": 0,
              "ticks": ""
             }
            },
            "type": "scatter3d"
           }
          ],
          "scattercarpet": [
           {
            "marker": {
             "colorbar": {
              "outlinewidth": 0,
              "ticks": ""
             }
            },
            "type": "scattercarpet"
           }
          ],
          "scattergeo": [
           {
            "marker": {
             "colorbar": {
              "outlinewidth": 0,
              "ticks": ""
             }
            },
            "type": "scattergeo"
           }
          ],
          "scattergl": [
           {
            "marker": {
             "colorbar": {
              "outlinewidth": 0,
              "ticks": ""
             }
            },
            "type": "scattergl"
           }
          ],
          "scattermapbox": [
           {
            "marker": {
             "colorbar": {
              "outlinewidth": 0,
              "ticks": ""
             }
            },
            "type": "scattermapbox"
           }
          ],
          "scatterpolar": [
           {
            "marker": {
             "colorbar": {
              "outlinewidth": 0,
              "ticks": ""
             }
            },
            "type": "scatterpolar"
           }
          ],
          "scatterpolargl": [
           {
            "marker": {
             "colorbar": {
              "outlinewidth": 0,
              "ticks": ""
             }
            },
            "type": "scatterpolargl"
           }
          ],
          "scatterternary": [
           {
            "marker": {
             "colorbar": {
              "outlinewidth": 0,
              "ticks": ""
             }
            },
            "type": "scatterternary"
           }
          ],
          "surface": [
           {
            "colorbar": {
             "outlinewidth": 0,
             "ticks": ""
            },
            "colorscale": [
             [
              0,
              "#0d0887"
             ],
             [
              0.1111111111111111,
              "#46039f"
             ],
             [
              0.2222222222222222,
              "#7201a8"
             ],
             [
              0.3333333333333333,
              "#9c179e"
             ],
             [
              0.4444444444444444,
              "#bd3786"
             ],
             [
              0.5555555555555556,
              "#d8576b"
             ],
             [
              0.6666666666666666,
              "#ed7953"
             ],
             [
              0.7777777777777778,
              "#fb9f3a"
             ],
             [
              0.8888888888888888,
              "#fdca26"
             ],
             [
              1,
              "#f0f921"
             ]
            ],
            "type": "surface"
           }
          ],
          "table": [
           {
            "cells": {
             "fill": {
              "color": "#EBF0F8"
             },
             "line": {
              "color": "white"
             }
            },
            "header": {
             "fill": {
              "color": "#C8D4E3"
             },
             "line": {
              "color": "white"
             }
            },
            "type": "table"
           }
          ]
         },
         "layout": {
          "annotationdefaults": {
           "arrowcolor": "#2a3f5f",
           "arrowhead": 0,
           "arrowwidth": 1
          },
          "autotypenumbers": "strict",
          "coloraxis": {
           "colorbar": {
            "outlinewidth": 0,
            "ticks": ""
           }
          },
          "colorscale": {
           "diverging": [
            [
             0,
             "#8e0152"
            ],
            [
             0.1,
             "#c51b7d"
            ],
            [
             0.2,
             "#de77ae"
            ],
            [
             0.3,
             "#f1b6da"
            ],
            [
             0.4,
             "#fde0ef"
            ],
            [
             0.5,
             "#f7f7f7"
            ],
            [
             0.6,
             "#e6f5d0"
            ],
            [
             0.7,
             "#b8e186"
            ],
            [
             0.8,
             "#7fbc41"
            ],
            [
             0.9,
             "#4d9221"
            ],
            [
             1,
             "#276419"
            ]
           ],
           "sequential": [
            [
             0,
             "#0d0887"
            ],
            [
             0.1111111111111111,
             "#46039f"
            ],
            [
             0.2222222222222222,
             "#7201a8"
            ],
            [
             0.3333333333333333,
             "#9c179e"
            ],
            [
             0.4444444444444444,
             "#bd3786"
            ],
            [
             0.5555555555555556,
             "#d8576b"
            ],
            [
             0.6666666666666666,
             "#ed7953"
            ],
            [
             0.7777777777777778,
             "#fb9f3a"
            ],
            [
             0.8888888888888888,
             "#fdca26"
            ],
            [
             1,
             "#f0f921"
            ]
           ],
           "sequentialminus": [
            [
             0,
             "#0d0887"
            ],
            [
             0.1111111111111111,
             "#46039f"
            ],
            [
             0.2222222222222222,
             "#7201a8"
            ],
            [
             0.3333333333333333,
             "#9c179e"
            ],
            [
             0.4444444444444444,
             "#bd3786"
            ],
            [
             0.5555555555555556,
             "#d8576b"
            ],
            [
             0.6666666666666666,
             "#ed7953"
            ],
            [
             0.7777777777777778,
             "#fb9f3a"
            ],
            [
             0.8888888888888888,
             "#fdca26"
            ],
            [
             1,
             "#f0f921"
            ]
           ]
          },
          "colorway": [
           "#636efa",
           "#EF553B",
           "#00cc96",
           "#ab63fa",
           "#FFA15A",
           "#19d3f3",
           "#FF6692",
           "#B6E880",
           "#FF97FF",
           "#FECB52"
          ],
          "font": {
           "color": "#2a3f5f"
          },
          "geo": {
           "bgcolor": "white",
           "lakecolor": "white",
           "landcolor": "#E5ECF6",
           "showlakes": true,
           "showland": true,
           "subunitcolor": "white"
          },
          "hoverlabel": {
           "align": "left"
          },
          "hovermode": "closest",
          "mapbox": {
           "style": "light"
          },
          "paper_bgcolor": "white",
          "plot_bgcolor": "#E5ECF6",
          "polar": {
           "angularaxis": {
            "gridcolor": "white",
            "linecolor": "white",
            "ticks": ""
           },
           "bgcolor": "#E5ECF6",
           "radialaxis": {
            "gridcolor": "white",
            "linecolor": "white",
            "ticks": ""
           }
          },
          "scene": {
           "xaxis": {
            "backgroundcolor": "#E5ECF6",
            "gridcolor": "white",
            "gridwidth": 2,
            "linecolor": "white",
            "showbackground": true,
            "ticks": "",
            "zerolinecolor": "white"
           },
           "yaxis": {
            "backgroundcolor": "#E5ECF6",
            "gridcolor": "white",
            "gridwidth": 2,
            "linecolor": "white",
            "showbackground": true,
            "ticks": "",
            "zerolinecolor": "white"
           },
           "zaxis": {
            "backgroundcolor": "#E5ECF6",
            "gridcolor": "white",
            "gridwidth": 2,
            "linecolor": "white",
            "showbackground": true,
            "ticks": "",
            "zerolinecolor": "white"
           }
          },
          "shapedefaults": {
           "line": {
            "color": "#2a3f5f"
           }
          },
          "ternary": {
           "aaxis": {
            "gridcolor": "white",
            "linecolor": "white",
            "ticks": ""
           },
           "baxis": {
            "gridcolor": "white",
            "linecolor": "white",
            "ticks": ""
           },
           "bgcolor": "#E5ECF6",
           "caxis": {
            "gridcolor": "white",
            "linecolor": "white",
            "ticks": ""
           }
          },
          "title": {
           "x": 0.05
          },
          "xaxis": {
           "automargin": true,
           "gridcolor": "white",
           "linecolor": "white",
           "ticks": "",
           "title": {
            "standoff": 15
           },
           "zerolinecolor": "white",
           "zerolinewidth": 2
          },
          "yaxis": {
           "automargin": true,
           "gridcolor": "white",
           "linecolor": "white",
           "ticks": "",
           "title": {
            "standoff": 15
           },
           "zerolinecolor": "white",
           "zerolinewidth": 2
          }
         }
        },
        "title": {
         "text": "Population Evolution of Switzerland"
        },
        "width": 800,
        "xaxis": {
         "anchor": "y",
         "domain": [
          0,
          1
         ],
         "title": {
          "text": "Year"
         }
        },
        "yaxis": {
         "anchor": "x",
         "domain": [
          0,
          1
         ],
         "title": {
          "text": "Population"
         }
        }
       }
      },
      "text/html": [
       "<div>                            <div id=\"5509170a-7514-4f80-924b-8f42f32689cc\" class=\"plotly-graph-div\" style=\"height:500px; width:800px;\"></div>            <script type=\"text/javascript\">                require([\"plotly\"], function(Plotly) {                    window.PLOTLYENV=window.PLOTLYENV || {};                                    if (document.getElementById(\"5509170a-7514-4f80-924b-8f42f32689cc\")) {                    Plotly.newPlot(                        \"5509170a-7514-4f80-924b-8f42f32689cc\",                        [{\"hovertemplate\":\"Year=%{x}\\u003cbr\\u003ePopulation=%{y}\\u003cextra\\u003e\\u003c\\u002fextra\\u003e\",\"legendgroup\":\"\",\"line\":{\"color\":\"#636efa\",\"dash\":\"solid\"},\"marker\":{\"symbol\":\"circle\"},\"mode\":\"lines\",\"name\":\"\",\"orientation\":\"v\",\"showlegend\":false,\"x\":[1900,1910,1920,1930,1940,1950,1960,1970,1980,1990,2000,2010,2020],\"xaxis\":\"x\",\"y\":[3297641,3708897,3870407,4042131,4233223,4692642,5327776,6180925,6319848,6713167,7184003,7825751,8640582],\"yaxis\":\"y\",\"type\":\"scatter\"}],                        {\"template\":{\"data\":{\"histogram2dcontour\":[{\"type\":\"histogram2dcontour\",\"colorbar\":{\"outlinewidth\":0,\"ticks\":\"\"},\"colorscale\":[[0.0,\"#0d0887\"],[0.1111111111111111,\"#46039f\"],[0.2222222222222222,\"#7201a8\"],[0.3333333333333333,\"#9c179e\"],[0.4444444444444444,\"#bd3786\"],[0.5555555555555556,\"#d8576b\"],[0.6666666666666666,\"#ed7953\"],[0.7777777777777778,\"#fb9f3a\"],[0.8888888888888888,\"#fdca26\"],[1.0,\"#f0f921\"]]}],\"choropleth\":[{\"type\":\"choropleth\",\"colorbar\":{\"outlinewidth\":0,\"ticks\":\"\"}}],\"histogram2d\":[{\"type\":\"histogram2d\",\"colorbar\":{\"outlinewidth\":0,\"ticks\":\"\"},\"colorscale\":[[0.0,\"#0d0887\"],[0.1111111111111111,\"#46039f\"],[0.2222222222222222,\"#7201a8\"],[0.3333333333333333,\"#9c179e\"],[0.4444444444444444,\"#bd3786\"],[0.5555555555555556,\"#d8576b\"],[0.6666666666666666,\"#ed7953\"],[0.7777777777777778,\"#fb9f3a\"],[0.8888888888888888,\"#fdca26\"],[1.0,\"#f0f921\"]]}],\"heatmap\":[{\"type\":\"heatmap\",\"colorbar\":{\"outlinewidth\":0,\"ticks\":\"\"},\"colorscale\":[[0.0,\"#0d0887\"],[0.1111111111111111,\"#46039f\"],[0.2222222222222222,\"#7201a8\"],[0.3333333333333333,\"#9c179e\"],[0.4444444444444444,\"#bd3786\"],[0.5555555555555556,\"#d8576b\"],[0.6666666666666666,\"#ed7953\"],[0.7777777777777778,\"#fb9f3a\"],[0.8888888888888888,\"#fdca26\"],[1.0,\"#f0f921\"]]}],\"heatmapgl\":[{\"type\":\"heatmapgl\",\"colorbar\":{\"outlinewidth\":0,\"ticks\":\"\"},\"colorscale\":[[0.0,\"#0d0887\"],[0.1111111111111111,\"#46039f\"],[0.2222222222222222,\"#7201a8\"],[0.3333333333333333,\"#9c179e\"],[0.4444444444444444,\"#bd3786\"],[0.5555555555555556,\"#d8576b\"],[0.6666666666666666,\"#ed7953\"],[0.7777777777777778,\"#fb9f3a\"],[0.8888888888888888,\"#fdca26\"],[1.0,\"#f0f921\"]]}],\"contourcarpet\":[{\"type\":\"contourcarpet\",\"colorbar\":{\"outlinewidth\":0,\"ticks\":\"\"}}],\"contour\":[{\"type\":\"contour\",\"colorbar\":{\"outlinewidth\":0,\"ticks\":\"\"},\"colorscale\":[[0.0,\"#0d0887\"],[0.1111111111111111,\"#46039f\"],[0.2222222222222222,\"#7201a8\"],[0.3333333333333333,\"#9c179e\"],[0.4444444444444444,\"#bd3786\"],[0.5555555555555556,\"#d8576b\"],[0.6666666666666666,\"#ed7953\"],[0.7777777777777778,\"#fb9f3a\"],[0.8888888888888888,\"#fdca26\"],[1.0,\"#f0f921\"]]}],\"surface\":[{\"type\":\"surface\",\"colorbar\":{\"outlinewidth\":0,\"ticks\":\"\"},\"colorscale\":[[0.0,\"#0d0887\"],[0.1111111111111111,\"#46039f\"],[0.2222222222222222,\"#7201a8\"],[0.3333333333333333,\"#9c179e\"],[0.4444444444444444,\"#bd3786\"],[0.5555555555555556,\"#d8576b\"],[0.6666666666666666,\"#ed7953\"],[0.7777777777777778,\"#fb9f3a\"],[0.8888888888888888,\"#fdca26\"],[1.0,\"#f0f921\"]]}],\"mesh3d\":[{\"type\":\"mesh3d\",\"colorbar\":{\"outlinewidth\":0,\"ticks\":\"\"}}],\"scatter\":[{\"fillpattern\":{\"fillmode\":\"overlay\",\"size\":10,\"solidity\":0.2},\"type\":\"scatter\"}],\"parcoords\":[{\"type\":\"parcoords\",\"line\":{\"colorbar\":{\"outlinewidth\":0,\"ticks\":\"\"}}}],\"scatterpolargl\":[{\"type\":\"scatterpolargl\",\"marker\":{\"colorbar\":{\"outlinewidth\":0,\"ticks\":\"\"}}}],\"bar\":[{\"error_x\":{\"color\":\"#2a3f5f\"},\"error_y\":{\"color\":\"#2a3f5f\"},\"marker\":{\"line\":{\"color\":\"#E5ECF6\",\"width\":0.5},\"pattern\":{\"fillmode\":\"overlay\",\"size\":10,\"solidity\":0.2}},\"type\":\"bar\"}],\"scattergeo\":[{\"type\":\"scattergeo\",\"marker\":{\"colorbar\":{\"outlinewidth\":0,\"ticks\":\"\"}}}],\"scatterpolar\":[{\"type\":\"scatterpolar\",\"marker\":{\"colorbar\":{\"outlinewidth\":0,\"ticks\":\"\"}}}],\"histogram\":[{\"marker\":{\"pattern\":{\"fillmode\":\"overlay\",\"size\":10,\"solidity\":0.2}},\"type\":\"histogram\"}],\"scattergl\":[{\"type\":\"scattergl\",\"marker\":{\"colorbar\":{\"outlinewidth\":0,\"ticks\":\"\"}}}],\"scatter3d\":[{\"type\":\"scatter3d\",\"line\":{\"colorbar\":{\"outlinewidth\":0,\"ticks\":\"\"}},\"marker\":{\"colorbar\":{\"outlinewidth\":0,\"ticks\":\"\"}}}],\"scattermapbox\":[{\"type\":\"scattermapbox\",\"marker\":{\"colorbar\":{\"outlinewidth\":0,\"ticks\":\"\"}}}],\"scatterternary\":[{\"type\":\"scatterternary\",\"marker\":{\"colorbar\":{\"outlinewidth\":0,\"ticks\":\"\"}}}],\"scattercarpet\":[{\"type\":\"scattercarpet\",\"marker\":{\"colorbar\":{\"outlinewidth\":0,\"ticks\":\"\"}}}],\"carpet\":[{\"aaxis\":{\"endlinecolor\":\"#2a3f5f\",\"gridcolor\":\"white\",\"linecolor\":\"white\",\"minorgridcolor\":\"white\",\"startlinecolor\":\"#2a3f5f\"},\"baxis\":{\"endlinecolor\":\"#2a3f5f\",\"gridcolor\":\"white\",\"linecolor\":\"white\",\"minorgridcolor\":\"white\",\"startlinecolor\":\"#2a3f5f\"},\"type\":\"carpet\"}],\"table\":[{\"cells\":{\"fill\":{\"color\":\"#EBF0F8\"},\"line\":{\"color\":\"white\"}},\"header\":{\"fill\":{\"color\":\"#C8D4E3\"},\"line\":{\"color\":\"white\"}},\"type\":\"table\"}],\"barpolar\":[{\"marker\":{\"line\":{\"color\":\"#E5ECF6\",\"width\":0.5},\"pattern\":{\"fillmode\":\"overlay\",\"size\":10,\"solidity\":0.2}},\"type\":\"barpolar\"}],\"pie\":[{\"automargin\":true,\"type\":\"pie\"}]},\"layout\":{\"autotypenumbers\":\"strict\",\"colorway\":[\"#636efa\",\"#EF553B\",\"#00cc96\",\"#ab63fa\",\"#FFA15A\",\"#19d3f3\",\"#FF6692\",\"#B6E880\",\"#FF97FF\",\"#FECB52\"],\"font\":{\"color\":\"#2a3f5f\"},\"hovermode\":\"closest\",\"hoverlabel\":{\"align\":\"left\"},\"paper_bgcolor\":\"white\",\"plot_bgcolor\":\"#E5ECF6\",\"polar\":{\"bgcolor\":\"#E5ECF6\",\"angularaxis\":{\"gridcolor\":\"white\",\"linecolor\":\"white\",\"ticks\":\"\"},\"radialaxis\":{\"gridcolor\":\"white\",\"linecolor\":\"white\",\"ticks\":\"\"}},\"ternary\":{\"bgcolor\":\"#E5ECF6\",\"aaxis\":{\"gridcolor\":\"white\",\"linecolor\":\"white\",\"ticks\":\"\"},\"baxis\":{\"gridcolor\":\"white\",\"linecolor\":\"white\",\"ticks\":\"\"},\"caxis\":{\"gridcolor\":\"white\",\"linecolor\":\"white\",\"ticks\":\"\"}},\"coloraxis\":{\"colorbar\":{\"outlinewidth\":0,\"ticks\":\"\"}},\"colorscale\":{\"sequential\":[[0.0,\"#0d0887\"],[0.1111111111111111,\"#46039f\"],[0.2222222222222222,\"#7201a8\"],[0.3333333333333333,\"#9c179e\"],[0.4444444444444444,\"#bd3786\"],[0.5555555555555556,\"#d8576b\"],[0.6666666666666666,\"#ed7953\"],[0.7777777777777778,\"#fb9f3a\"],[0.8888888888888888,\"#fdca26\"],[1.0,\"#f0f921\"]],\"sequentialminus\":[[0.0,\"#0d0887\"],[0.1111111111111111,\"#46039f\"],[0.2222222222222222,\"#7201a8\"],[0.3333333333333333,\"#9c179e\"],[0.4444444444444444,\"#bd3786\"],[0.5555555555555556,\"#d8576b\"],[0.6666666666666666,\"#ed7953\"],[0.7777777777777778,\"#fb9f3a\"],[0.8888888888888888,\"#fdca26\"],[1.0,\"#f0f921\"]],\"diverging\":[[0,\"#8e0152\"],[0.1,\"#c51b7d\"],[0.2,\"#de77ae\"],[0.3,\"#f1b6da\"],[0.4,\"#fde0ef\"],[0.5,\"#f7f7f7\"],[0.6,\"#e6f5d0\"],[0.7,\"#b8e186\"],[0.8,\"#7fbc41\"],[0.9,\"#4d9221\"],[1,\"#276419\"]]},\"xaxis\":{\"gridcolor\":\"white\",\"linecolor\":\"white\",\"ticks\":\"\",\"title\":{\"standoff\":15},\"zerolinecolor\":\"white\",\"automargin\":true,\"zerolinewidth\":2},\"yaxis\":{\"gridcolor\":\"white\",\"linecolor\":\"white\",\"ticks\":\"\",\"title\":{\"standoff\":15},\"zerolinecolor\":\"white\",\"automargin\":true,\"zerolinewidth\":2},\"scene\":{\"xaxis\":{\"backgroundcolor\":\"#E5ECF6\",\"gridcolor\":\"white\",\"linecolor\":\"white\",\"showbackground\":true,\"ticks\":\"\",\"zerolinecolor\":\"white\",\"gridwidth\":2},\"yaxis\":{\"backgroundcolor\":\"#E5ECF6\",\"gridcolor\":\"white\",\"linecolor\":\"white\",\"showbackground\":true,\"ticks\":\"\",\"zerolinecolor\":\"white\",\"gridwidth\":2},\"zaxis\":{\"backgroundcolor\":\"#E5ECF6\",\"gridcolor\":\"white\",\"linecolor\":\"white\",\"showbackground\":true,\"ticks\":\"\",\"zerolinecolor\":\"white\",\"gridwidth\":2}},\"shapedefaults\":{\"line\":{\"color\":\"#2a3f5f\"}},\"annotationdefaults\":{\"arrowcolor\":\"#2a3f5f\",\"arrowhead\":0,\"arrowwidth\":1},\"geo\":{\"bgcolor\":\"white\",\"landcolor\":\"#E5ECF6\",\"subunitcolor\":\"white\",\"showland\":true,\"showlakes\":true,\"lakecolor\":\"white\"},\"title\":{\"x\":0.05},\"mapbox\":{\"style\":\"light\"}}},\"xaxis\":{\"anchor\":\"y\",\"domain\":[0.0,1.0],\"title\":{\"text\":\"Year\"}},\"yaxis\":{\"anchor\":\"x\",\"domain\":[0.0,1.0],\"title\":{\"text\":\"Population\"}},\"legend\":{\"tracegroupgap\":0},\"title\":{\"text\":\"Population Evolution of Switzerland\"},\"margin\":{\"l\":60,\"r\":60,\"t\":60,\"b\":60},\"coloraxis\":{\"showscale\":false},\"width\":800,\"height\":500},                        {\"responsive\": true}                    ).then(function(){\n",
       "                            \n",
       "var gd = document.getElementById('5509170a-7514-4f80-924b-8f42f32689cc');\n",
       "var x = new MutationObserver(function (mutations, observer) {{\n",
       "        var display = window.getComputedStyle(gd).display;\n",
       "        if (!display || display === 'none') {{\n",
       "            console.log([gd, 'removed!']);\n",
       "            Plotly.purge(gd);\n",
       "            observer.disconnect();\n",
       "        }}\n",
       "}});\n",
       "\n",
       "// Listen for the removal of the full notebook cells\n",
       "var notebookContainer = gd.closest('#notebook-container');\n",
       "if (notebookContainer) {{\n",
       "    x.observe(notebookContainer, {childList: true});\n",
       "}}\n",
       "\n",
       "// Listen for the clearing of the current output cell\n",
       "var outputEl = gd.closest('.output');\n",
       "if (outputEl) {{\n",
       "    x.observe(outputEl, {childList: true});\n",
       "}}\n",
       "\n",
       "                        })                };                });            </script>        </div>"
      ]
     },
     "metadata": {},
     "output_type": "display_data"
    }
   ],
   "source": [
    "# Create a DataFrame\n",
    "df = pd.DataFrame({\"Year\": years, \"Population\": pop})\n",
    "\n",
    "# Create a line plot\n",
    "fig = px.line(\n",
    "    df,\n",
    "    x=\"Year\",\n",
    "    y=\"Population\",\n",
    "    title=\"Population Evolution of Switzerland\",\n",
    "    labels={\"Population\": \"Population\", \"Year\": \"Year\"},\n",
    ")\n",
    "\n",
    "# To format and save figures\n",
    "fig.update_layout(\n",
    "    margin=dict(l=60, r=60, t=60, b=60),\n",
    "    coloraxis_showscale=False,  # Remove the color bar\n",
    "    width=800,  # Width of the figure in pixels\n",
    "    height=500,  # Height of the figure in pixels\n",
    ")\n",
    "\n",
    "# Show the plot\n",
    "fig.show()"
   ]
  },
  {
   "cell_type": "markdown",
   "metadata": {},
   "source": [
    "### Dataframe\n",
    "A dataframe (df) contain a dictionary, it's a list of values linked to keys. The size of the df is define by the number of values (row) and keys (columns).\n",
    "\n",
    "When a df is created, an index is autocreate if we don't specify one, it contain a list from 0 to n-1 (n = number of values)."
   ]
  },
  {
   "cell_type": "code",
   "execution_count": 69,
   "metadata": {},
   "outputs": [],
   "source": [
    "# Dictionnary value : \"key 1\": [1, 2, 3, 4, 5],\"key 2\": [1, 2, 3, 4, 5],\"key 3\": 3,\"key 4\": [\"a\", \"b\", \"c\", \"D\", \"E\"],\n",
    "exemple_of_dictionnary = {\n",
    "    \"key 1\": [1, 2, 3, 4, 5],\n",
    "    \"key 2\": [1, 2, 3, 4, 5],\n",
    "    \"key 3\": 3,\n",
    "    \"key 4\": [\"a\", \"b\", \"c\", \"D\", \"E\"],\n",
    "}\n",
    "pd_exemple = pd.DataFrame(exemple_of_dictionnary)\n",
    "##Add a column year : 2010, 2011, 2012, 2013, 2014\n",
    "pd_exemple[\"year\"] = [2010, 2011, 2012, 2013, 2014]\n",
    "pd_exemple_2 = pd_exemple.set_index(\"year\")\n",
    "##Change a column to index year with set_index"
   ]
  },
  {
   "cell_type": "code",
   "execution_count": 70,
   "metadata": {},
   "outputs": [
    {
     "name": "stdout",
     "output_type": "stream",
     "text": [
      "Base index :\n",
      "    key 1  key 2  key 3 key 4  year\n",
      "0      1      1      3     a  2010\n",
      "1      2      2      3     b  2011\n",
      "2      3      3      3     c  2012\n",
      "3      4      4      3     D  2013\n",
      "4      5      5      3     E  2014\n",
      "Custom index :\n",
      "       key 1  key 2  key 3 key 4\n",
      "year                           \n",
      "2010      1      1      3     a\n",
      "2011      2      2      3     b\n",
      "2012      3      3      3     c\n",
      "2013      4      4      3     D\n",
      "2014      5      5      3     E\n"
     ]
    }
   ],
   "source": [
    "print(\"Base index :\\n\", pd_exemple)\n",
    "print(\"Custom index :\\n\", pd_exemple_2)"
   ]
  },
  {
   "cell_type": "markdown",
   "metadata": {},
   "source": [
    "> **Note** In a df, each column is a series. A series is a one-dimensional array containing data of any type."
   ]
  },
  {
   "cell_type": "code",
   "execution_count": 71,
   "metadata": {},
   "outputs": [],
   "source": [
    "# type"
   ]
  },
  {
   "cell_type": "markdown",
   "metadata": {},
   "source": [
    "#### Access to values "
   ]
  },
  {
   "cell_type": "markdown",
   "metadata": {},
   "source": [
    "Access the row value(s) with `loc`:"
   ]
  },
  {
   "cell_type": "code",
   "execution_count": 72,
   "metadata": {},
   "outputs": [
    {
     "name": "stdout",
     "output_type": "stream",
     "text": [
      "Index access to row 0:\n",
      " key 1       2\n",
      "key 2       2\n",
      "key 3       3\n",
      "key 4       b\n",
      "year     2011\n",
      "Name: 1, dtype: object\n",
      "Index access to row 2010:\n",
      " key 1    4\n",
      "key 2    4\n",
      "key 3    3\n",
      "key 4    D\n",
      "Name: 2013, dtype: object\n",
      "Index access to multiple row 2010 to 2012 :\n",
      "       key 1  key 2  key 3 key 4\n",
      "year                           \n",
      "2011      2      2      3     b\n",
      "2010      1      1      3     a\n"
     ]
    }
   ],
   "source": [
    "print(\"Index access to row 0:\\n\", pd_exemple.loc[1])\n",
    "print(\"Index access to row 2010:\\n\", pd_exemple_2.loc[2013])\n",
    "print(\"Index access to multiple row 2010 to 2012 :\\n\", pd_exemple_2.loc[2011::-1])"
   ]
  },
  {
   "cell_type": "markdown",
   "metadata": {},
   "source": [
    "Access to the column value(s) :"
   ]
  },
  {
   "cell_type": "code",
   "execution_count": 73,
   "metadata": {},
   "outputs": [
    {
     "name": "stdout",
     "output_type": "stream",
     "text": [
      "Access to column key 1:\n",
      " 0    1\n",
      "1    2\n",
      "2    3\n",
      "3    4\n",
      "4    5\n",
      "Name: key 1, dtype: int64\n",
      "Access to column year with other methode:\n",
      " 0    2010\n",
      "1    2011\n",
      "2    2012\n",
      "3    2013\n",
      "4    2014\n",
      "Name: year, dtype: int64\n",
      "Access to multiple columns with list:\n",
      "    key 1  key 3\n",
      "0      1      3\n",
      "1      2      3\n",
      "2      3      3\n",
      "3      4      3\n",
      "4      5      3\n"
     ]
    }
   ],
   "source": [
    "print(\"Access to column key 1:\\n\", pd_exemple[\"key 1\"])\n",
    "print(\"Access to column year with other methode:\\n\", pd_exemple.year)\n",
    "print(\"Access to multiple columns with list:\\n\", pd_exemple[[\"key 1\", \"key 3\"]])"
   ]
  },
  {
   "cell_type": "markdown",
   "metadata": {},
   "source": [
    "<details>\n",
    "<summary>Name column problem</summary>\n",
    "\n",
    "The method to access a column can the name of the column, and some times the name contain space, in this case. The second method can't work, this [link](https://saturncloud.io/blog/how-to-access-pandas-columns-with-spaces-in-column-names/) explain the problem.\n",
    "\n",
    "</details>"
   ]
  },
  {
   "cell_type": "markdown",
   "metadata": {},
   "source": [
    "## Use external data files like csv"
   ]
  },
  {
   "cell_type": "markdown",
   "metadata": {},
   "source": [
    "Now I would like to use the same value but from a csv file, and only save the value from Switzerland, not for all the countries. Also charging the electricity values."
   ]
  },
  {
   "cell_type": "code",
   "execution_count": 74,
   "metadata": {},
   "outputs": [
    {
     "name": "stdout",
     "output_type": "stream",
     "text": [
      "We are here /home/thierryfra/github/pro/rhtlab\n",
      "We are here /home/thierryfra/github/pro/rhtlab/tutorials\n"
     ]
    }
   ],
   "source": [
    "# Go to the good workplace folder\n",
    "# os.chdir(\"..\")\n",
    "os.chdir(os.getcwd().replace(\"/tutorials\", \"\"))\n",
    "print(\"We are here\", os.getcwd())\n",
    "os.chdir(\"tutorials\")\n",
    "print(\"We are here\", os.getcwd())"
   ]
  },
  {
   "cell_type": "code",
   "execution_count": 75,
   "metadata": {},
   "outputs": [
    {
     "name": "stdout",
     "output_type": "stream",
     "text": [
      "<class 'pandas.core.frame.DataFrame'>\n",
      "RangeIndex: 18944 entries, 0 to 18943\n",
      "Data columns (total 4 columns):\n",
      " #   Column                                                 Non-Null Count  Dtype \n",
      "---  ------                                                 --------------  ----- \n",
      " 0   Entity                                                 18944 non-null  object\n",
      " 1   Code                                                   17612 non-null  object\n",
      " 2   Year                                                   18944 non-null  int64 \n",
      " 3   Population - Sex: all - Age: all - Variant: estimates  18944 non-null  int64 \n",
      "dtypes: int64(2), object(2)\n",
      "memory usage: 592.1+ KB\n"
     ]
    },
    {
     "data": {
      "text/html": [
       "<div>\n",
       "<style scoped>\n",
       "    .dataframe tbody tr th:only-of-type {\n",
       "        vertical-align: middle;\n",
       "    }\n",
       "\n",
       "    .dataframe tbody tr th {\n",
       "        vertical-align: top;\n",
       "    }\n",
       "\n",
       "    .dataframe thead th {\n",
       "        text-align: right;\n",
       "    }\n",
       "</style>\n",
       "<table border=\"1\" class=\"dataframe\">\n",
       "  <thead>\n",
       "    <tr style=\"text-align: right;\">\n",
       "      <th></th>\n",
       "      <th>Entity</th>\n",
       "      <th>Code</th>\n",
       "      <th>Year</th>\n",
       "      <th>Population - Sex: all - Age: all - Variant: estimates</th>\n",
       "    </tr>\n",
       "  </thead>\n",
       "  <tbody>\n",
       "    <tr>\n",
       "      <th>0</th>\n",
       "      <td>Afghanistan</td>\n",
       "      <td>AFG</td>\n",
       "      <td>1950</td>\n",
       "      <td>7776182</td>\n",
       "    </tr>\n",
       "    <tr>\n",
       "      <th>1</th>\n",
       "      <td>Afghanistan</td>\n",
       "      <td>AFG</td>\n",
       "      <td>1951</td>\n",
       "      <td>7879343</td>\n",
       "    </tr>\n",
       "    <tr>\n",
       "      <th>2</th>\n",
       "      <td>Afghanistan</td>\n",
       "      <td>AFG</td>\n",
       "      <td>1952</td>\n",
       "      <td>7987783</td>\n",
       "    </tr>\n",
       "    <tr>\n",
       "      <th>3</th>\n",
       "      <td>Afghanistan</td>\n",
       "      <td>AFG</td>\n",
       "      <td>1953</td>\n",
       "      <td>8096703</td>\n",
       "    </tr>\n",
       "    <tr>\n",
       "      <th>4</th>\n",
       "      <td>Afghanistan</td>\n",
       "      <td>AFG</td>\n",
       "      <td>1954</td>\n",
       "      <td>8207953</td>\n",
       "    </tr>\n",
       "    <tr>\n",
       "      <th>...</th>\n",
       "      <td>...</td>\n",
       "      <td>...</td>\n",
       "      <td>...</td>\n",
       "      <td>...</td>\n",
       "    </tr>\n",
       "    <tr>\n",
       "      <th>18939</th>\n",
       "      <td>Zimbabwe</td>\n",
       "      <td>ZWE</td>\n",
       "      <td>2019</td>\n",
       "      <td>15271377</td>\n",
       "    </tr>\n",
       "    <tr>\n",
       "      <th>18940</th>\n",
       "      <td>Zimbabwe</td>\n",
       "      <td>ZWE</td>\n",
       "      <td>2020</td>\n",
       "      <td>15526888</td>\n",
       "    </tr>\n",
       "    <tr>\n",
       "      <th>18941</th>\n",
       "      <td>Zimbabwe</td>\n",
       "      <td>ZWE</td>\n",
       "      <td>2021</td>\n",
       "      <td>15797220</td>\n",
       "    </tr>\n",
       "    <tr>\n",
       "      <th>18942</th>\n",
       "      <td>Zimbabwe</td>\n",
       "      <td>ZWE</td>\n",
       "      <td>2022</td>\n",
       "      <td>16069061</td>\n",
       "    </tr>\n",
       "    <tr>\n",
       "      <th>18943</th>\n",
       "      <td>Zimbabwe</td>\n",
       "      <td>ZWE</td>\n",
       "      <td>2023</td>\n",
       "      <td>16340829</td>\n",
       "    </tr>\n",
       "  </tbody>\n",
       "</table>\n",
       "<p>18944 rows × 4 columns</p>\n",
       "</div>"
      ],
      "text/plain": [
       "            Entity Code  Year  \\\n",
       "0      Afghanistan  AFG  1950   \n",
       "1      Afghanistan  AFG  1951   \n",
       "2      Afghanistan  AFG  1952   \n",
       "3      Afghanistan  AFG  1953   \n",
       "4      Afghanistan  AFG  1954   \n",
       "...            ...  ...   ...   \n",
       "18939     Zimbabwe  ZWE  2019   \n",
       "18940     Zimbabwe  ZWE  2020   \n",
       "18941     Zimbabwe  ZWE  2021   \n",
       "18942     Zimbabwe  ZWE  2022   \n",
       "18943     Zimbabwe  ZWE  2023   \n",
       "\n",
       "       Population - Sex: all - Age: all - Variant: estimates  \n",
       "0                                                7776182      \n",
       "1                                                7879343      \n",
       "2                                                7987783      \n",
       "3                                                8096703      \n",
       "4                                                8207953      \n",
       "...                                                  ...      \n",
       "18939                                           15271377      \n",
       "18940                                           15526888      \n",
       "18941                                           15797220      \n",
       "18942                                           16069061      \n",
       "18943                                           16340829      \n",
       "\n",
       "[18944 rows x 4 columns]"
      ]
     },
     "execution_count": 75,
     "metadata": {},
     "output_type": "execute_result"
    }
   ],
   "source": [
    "# Load data from our world in data\n",
    "# with read_csv method from pandas : data/population-and-demography.csv and separate with \",\"\n",
    "df_population = pd.read_csv(\"data/population-and-demography.csv\", sep=\",\")\n",
    "# csv : data/electricity-generation.csv\n",
    "df_electricity_generation = pd.read_csv(\"data/electricity-generation.csv\", sep=\",\")\n",
    "df_population.info()\n",
    "df_population"
   ]
  },
  {
   "cell_type": "code",
   "execution_count": 76,
   "metadata": {},
   "outputs": [],
   "source": [
    "# Take only swiss data = row selection\n",
    "## Switzerland in Entity column in df_population\n",
    "df_swiss_population = df_population.loc[df_population[\"Entity\"] == \"Switzerland\"]\n",
    "## Switzerland in Entity column in df_electricity_generation\n",
    "df_swiss_electricity_generation = df_electricity_generation.loc[\n",
    "    df_electricity_generation[\"Entity\"] == \"Switzerland\"\n",
    "]"
   ]
  },
  {
   "cell_type": "markdown",
   "metadata": {},
   "source": [
    "The first thing when we create a dataframe from csv file or other sources, is to check the data with `info` in `df_swiss_population`:"
   ]
  },
  {
   "cell_type": "code",
   "execution_count": 77,
   "metadata": {},
   "outputs": [
    {
     "data": {
      "text/html": [
       "<div>\n",
       "<style scoped>\n",
       "    .dataframe tbody tr th:only-of-type {\n",
       "        vertical-align: middle;\n",
       "    }\n",
       "\n",
       "    .dataframe tbody tr th {\n",
       "        vertical-align: top;\n",
       "    }\n",
       "\n",
       "    .dataframe thead th {\n",
       "        text-align: right;\n",
       "    }\n",
       "</style>\n",
       "<table border=\"1\" class=\"dataframe\">\n",
       "  <thead>\n",
       "    <tr style=\"text-align: right;\">\n",
       "      <th></th>\n",
       "      <th>Entity</th>\n",
       "      <th>Code</th>\n",
       "      <th>Year</th>\n",
       "      <th>Population - Sex: all - Age: all - Variant: estimates</th>\n",
       "    </tr>\n",
       "  </thead>\n",
       "  <tbody>\n",
       "    <tr>\n",
       "      <th>16428</th>\n",
       "      <td>Switzerland</td>\n",
       "      <td>CHE</td>\n",
       "      <td>1950</td>\n",
       "      <td>4692642</td>\n",
       "    </tr>\n",
       "    <tr>\n",
       "      <th>16429</th>\n",
       "      <td>Switzerland</td>\n",
       "      <td>CHE</td>\n",
       "      <td>1951</td>\n",
       "      <td>4748088</td>\n",
       "    </tr>\n",
       "    <tr>\n",
       "      <th>16430</th>\n",
       "      <td>Switzerland</td>\n",
       "      <td>CHE</td>\n",
       "      <td>1952</td>\n",
       "      <td>4811614</td>\n",
       "    </tr>\n",
       "    <tr>\n",
       "      <th>16431</th>\n",
       "      <td>Switzerland</td>\n",
       "      <td>CHE</td>\n",
       "      <td>1953</td>\n",
       "      <td>4875655</td>\n",
       "    </tr>\n",
       "    <tr>\n",
       "      <th>16432</th>\n",
       "      <td>Switzerland</td>\n",
       "      <td>CHE</td>\n",
       "      <td>1954</td>\n",
       "      <td>4938751</td>\n",
       "    </tr>\n",
       "    <tr>\n",
       "      <th>...</th>\n",
       "      <td>...</td>\n",
       "      <td>...</td>\n",
       "      <td>...</td>\n",
       "      <td>...</td>\n",
       "    </tr>\n",
       "    <tr>\n",
       "      <th>16497</th>\n",
       "      <td>Switzerland</td>\n",
       "      <td>CHE</td>\n",
       "      <td>2019</td>\n",
       "      <td>8577526</td>\n",
       "    </tr>\n",
       "    <tr>\n",
       "      <th>16498</th>\n",
       "      <td>Switzerland</td>\n",
       "      <td>CHE</td>\n",
       "      <td>2020</td>\n",
       "      <td>8640582</td>\n",
       "    </tr>\n",
       "    <tr>\n",
       "      <th>16499</th>\n",
       "      <td>Switzerland</td>\n",
       "      <td>CHE</td>\n",
       "      <td>2021</td>\n",
       "      <td>8707018</td>\n",
       "    </tr>\n",
       "    <tr>\n",
       "      <th>16500</th>\n",
       "      <td>Switzerland</td>\n",
       "      <td>CHE</td>\n",
       "      <td>2022</td>\n",
       "      <td>8792180</td>\n",
       "    </tr>\n",
       "    <tr>\n",
       "      <th>16501</th>\n",
       "      <td>Switzerland</td>\n",
       "      <td>CHE</td>\n",
       "      <td>2023</td>\n",
       "      <td>8870564</td>\n",
       "    </tr>\n",
       "  </tbody>\n",
       "</table>\n",
       "<p>74 rows × 4 columns</p>\n",
       "</div>"
      ],
      "text/plain": [
       "            Entity Code  Year  \\\n",
       "16428  Switzerland  CHE  1950   \n",
       "16429  Switzerland  CHE  1951   \n",
       "16430  Switzerland  CHE  1952   \n",
       "16431  Switzerland  CHE  1953   \n",
       "16432  Switzerland  CHE  1954   \n",
       "...            ...  ...   ...   \n",
       "16497  Switzerland  CHE  2019   \n",
       "16498  Switzerland  CHE  2020   \n",
       "16499  Switzerland  CHE  2021   \n",
       "16500  Switzerland  CHE  2022   \n",
       "16501  Switzerland  CHE  2023   \n",
       "\n",
       "       Population - Sex: all - Age: all - Variant: estimates  \n",
       "16428                                            4692642      \n",
       "16429                                            4748088      \n",
       "16430                                            4811614      \n",
       "16431                                            4875655      \n",
       "16432                                            4938751      \n",
       "...                                                  ...      \n",
       "16497                                            8577526      \n",
       "16498                                            8640582      \n",
       "16499                                            8707018      \n",
       "16500                                            8792180      \n",
       "16501                                            8870564      \n",
       "\n",
       "[74 rows x 4 columns]"
      ]
     },
     "execution_count": 77,
     "metadata": {},
     "output_type": "execute_result"
    }
   ],
   "source": [
    "df_swiss_population"
   ]
  },
  {
   "cell_type": "markdown",
   "metadata": {},
   "source": [
    "After we can look the df `df_swiss_population`"
   ]
  },
  {
   "cell_type": "code",
   "execution_count": 78,
   "metadata": {},
   "outputs": [
    {
     "data": {
      "text/html": [
       "<div>\n",
       "<style scoped>\n",
       "    .dataframe tbody tr th:only-of-type {\n",
       "        vertical-align: middle;\n",
       "    }\n",
       "\n",
       "    .dataframe tbody tr th {\n",
       "        vertical-align: top;\n",
       "    }\n",
       "\n",
       "    .dataframe thead th {\n",
       "        text-align: right;\n",
       "    }\n",
       "</style>\n",
       "<table border=\"1\" class=\"dataframe\">\n",
       "  <thead>\n",
       "    <tr style=\"text-align: right;\">\n",
       "      <th></th>\n",
       "      <th>Entity</th>\n",
       "      <th>Code</th>\n",
       "      <th>Year</th>\n",
       "      <th>Electricity generation - TWh</th>\n",
       "    </tr>\n",
       "  </thead>\n",
       "  <tbody>\n",
       "    <tr>\n",
       "      <th>6454</th>\n",
       "      <td>Switzerland</td>\n",
       "      <td>CHE</td>\n",
       "      <td>1985</td>\n",
       "      <td>56.338123</td>\n",
       "    </tr>\n",
       "    <tr>\n",
       "      <th>6455</th>\n",
       "      <td>Switzerland</td>\n",
       "      <td>CHE</td>\n",
       "      <td>1986</td>\n",
       "      <td>57.410492</td>\n",
       "    </tr>\n",
       "    <tr>\n",
       "      <th>6456</th>\n",
       "      <td>Switzerland</td>\n",
       "      <td>CHE</td>\n",
       "      <td>1987</td>\n",
       "      <td>59.733856</td>\n",
       "    </tr>\n",
       "    <tr>\n",
       "      <th>6457</th>\n",
       "      <td>Switzerland</td>\n",
       "      <td>CHE</td>\n",
       "      <td>1988</td>\n",
       "      <td>60.535755</td>\n",
       "    </tr>\n",
       "    <tr>\n",
       "      <th>6458</th>\n",
       "      <td>Switzerland</td>\n",
       "      <td>CHE</td>\n",
       "      <td>1989</td>\n",
       "      <td>54.610770</td>\n",
       "    </tr>\n",
       "    <tr>\n",
       "      <th>6459</th>\n",
       "      <td>Switzerland</td>\n",
       "      <td>CHE</td>\n",
       "      <td>1990</td>\n",
       "      <td>56.015427</td>\n",
       "    </tr>\n",
       "    <tr>\n",
       "      <th>6460</th>\n",
       "      <td>Switzerland</td>\n",
       "      <td>CHE</td>\n",
       "      <td>1991</td>\n",
       "      <td>58.061848</td>\n",
       "    </tr>\n",
       "    <tr>\n",
       "      <th>6461</th>\n",
       "      <td>Switzerland</td>\n",
       "      <td>CHE</td>\n",
       "      <td>1992</td>\n",
       "      <td>59.517920</td>\n",
       "    </tr>\n",
       "    <tr>\n",
       "      <th>6462</th>\n",
       "      <td>Switzerland</td>\n",
       "      <td>CHE</td>\n",
       "      <td>1993</td>\n",
       "      <td>61.555614</td>\n",
       "    </tr>\n",
       "    <tr>\n",
       "      <th>6463</th>\n",
       "      <td>Switzerland</td>\n",
       "      <td>CHE</td>\n",
       "      <td>1994</td>\n",
       "      <td>66.134240</td>\n",
       "    </tr>\n",
       "    <tr>\n",
       "      <th>6464</th>\n",
       "      <td>Switzerland</td>\n",
       "      <td>CHE</td>\n",
       "      <td>1995</td>\n",
       "      <td>62.862670</td>\n",
       "    </tr>\n",
       "    <tr>\n",
       "      <th>6465</th>\n",
       "      <td>Switzerland</td>\n",
       "      <td>CHE</td>\n",
       "      <td>1996</td>\n",
       "      <td>57.328350</td>\n",
       "    </tr>\n",
       "    <tr>\n",
       "      <th>6466</th>\n",
       "      <td>Switzerland</td>\n",
       "      <td>CHE</td>\n",
       "      <td>1997</td>\n",
       "      <td>62.902084</td>\n",
       "    </tr>\n",
       "    <tr>\n",
       "      <th>6467</th>\n",
       "      <td>Switzerland</td>\n",
       "      <td>CHE</td>\n",
       "      <td>1998</td>\n",
       "      <td>63.287940</td>\n",
       "    </tr>\n",
       "    <tr>\n",
       "      <th>6468</th>\n",
       "      <td>Switzerland</td>\n",
       "      <td>CHE</td>\n",
       "      <td>1999</td>\n",
       "      <td>68.617320</td>\n",
       "    </tr>\n",
       "    <tr>\n",
       "      <th>6469</th>\n",
       "      <td>Switzerland</td>\n",
       "      <td>CHE</td>\n",
       "      <td>2000</td>\n",
       "      <td>66.120000</td>\n",
       "    </tr>\n",
       "    <tr>\n",
       "      <th>6470</th>\n",
       "      <td>Switzerland</td>\n",
       "      <td>CHE</td>\n",
       "      <td>2001</td>\n",
       "      <td>71.050000</td>\n",
       "    </tr>\n",
       "    <tr>\n",
       "      <th>6471</th>\n",
       "      <td>Switzerland</td>\n",
       "      <td>CHE</td>\n",
       "      <td>2002</td>\n",
       "      <td>65.410000</td>\n",
       "    </tr>\n",
       "    <tr>\n",
       "      <th>6472</th>\n",
       "      <td>Switzerland</td>\n",
       "      <td>CHE</td>\n",
       "      <td>2003</td>\n",
       "      <td>65.340000</td>\n",
       "    </tr>\n",
       "    <tr>\n",
       "      <th>6473</th>\n",
       "      <td>Switzerland</td>\n",
       "      <td>CHE</td>\n",
       "      <td>2004</td>\n",
       "      <td>63.870000</td>\n",
       "    </tr>\n",
       "    <tr>\n",
       "      <th>6474</th>\n",
       "      <td>Switzerland</td>\n",
       "      <td>CHE</td>\n",
       "      <td>2005</td>\n",
       "      <td>57.800000</td>\n",
       "    </tr>\n",
       "    <tr>\n",
       "      <th>6475</th>\n",
       "      <td>Switzerland</td>\n",
       "      <td>CHE</td>\n",
       "      <td>2006</td>\n",
       "      <td>62.130000</td>\n",
       "    </tr>\n",
       "    <tr>\n",
       "      <th>6476</th>\n",
       "      <td>Switzerland</td>\n",
       "      <td>CHE</td>\n",
       "      <td>2007</td>\n",
       "      <td>66.430000</td>\n",
       "    </tr>\n",
       "    <tr>\n",
       "      <th>6477</th>\n",
       "      <td>Switzerland</td>\n",
       "      <td>CHE</td>\n",
       "      <td>2008</td>\n",
       "      <td>67.040000</td>\n",
       "    </tr>\n",
       "    <tr>\n",
       "      <th>6478</th>\n",
       "      <td>Switzerland</td>\n",
       "      <td>CHE</td>\n",
       "      <td>2009</td>\n",
       "      <td>66.670000</td>\n",
       "    </tr>\n",
       "    <tr>\n",
       "      <th>6479</th>\n",
       "      <td>Switzerland</td>\n",
       "      <td>CHE</td>\n",
       "      <td>2010</td>\n",
       "      <td>66.050000</td>\n",
       "    </tr>\n",
       "    <tr>\n",
       "      <th>6480</th>\n",
       "      <td>Switzerland</td>\n",
       "      <td>CHE</td>\n",
       "      <td>2011</td>\n",
       "      <td>62.880000</td>\n",
       "    </tr>\n",
       "    <tr>\n",
       "      <th>6481</th>\n",
       "      <td>Switzerland</td>\n",
       "      <td>CHE</td>\n",
       "      <td>2012</td>\n",
       "      <td>68.130000</td>\n",
       "    </tr>\n",
       "    <tr>\n",
       "      <th>6482</th>\n",
       "      <td>Switzerland</td>\n",
       "      <td>CHE</td>\n",
       "      <td>2013</td>\n",
       "      <td>68.690000</td>\n",
       "    </tr>\n",
       "    <tr>\n",
       "      <th>6483</th>\n",
       "      <td>Switzerland</td>\n",
       "      <td>CHE</td>\n",
       "      <td>2014</td>\n",
       "      <td>70.080000</td>\n",
       "    </tr>\n",
       "    <tr>\n",
       "      <th>6484</th>\n",
       "      <td>Switzerland</td>\n",
       "      <td>CHE</td>\n",
       "      <td>2015</td>\n",
       "      <td>66.070000</td>\n",
       "    </tr>\n",
       "    <tr>\n",
       "      <th>6485</th>\n",
       "      <td>Switzerland</td>\n",
       "      <td>CHE</td>\n",
       "      <td>2016</td>\n",
       "      <td>61.100000</td>\n",
       "    </tr>\n",
       "    <tr>\n",
       "      <th>6486</th>\n",
       "      <td>Switzerland</td>\n",
       "      <td>CHE</td>\n",
       "      <td>2017</td>\n",
       "      <td>60.150000</td>\n",
       "    </tr>\n",
       "    <tr>\n",
       "      <th>6487</th>\n",
       "      <td>Switzerland</td>\n",
       "      <td>CHE</td>\n",
       "      <td>2018</td>\n",
       "      <td>66.290000</td>\n",
       "    </tr>\n",
       "    <tr>\n",
       "      <th>6488</th>\n",
       "      <td>Switzerland</td>\n",
       "      <td>CHE</td>\n",
       "      <td>2019</td>\n",
       "      <td>70.570000</td>\n",
       "    </tr>\n",
       "    <tr>\n",
       "      <th>6489</th>\n",
       "      <td>Switzerland</td>\n",
       "      <td>CHE</td>\n",
       "      <td>2020</td>\n",
       "      <td>68.490000</td>\n",
       "    </tr>\n",
       "    <tr>\n",
       "      <th>6490</th>\n",
       "      <td>Switzerland</td>\n",
       "      <td>CHE</td>\n",
       "      <td>2021</td>\n",
       "      <td>63.100000</td>\n",
       "    </tr>\n",
       "    <tr>\n",
       "      <th>6491</th>\n",
       "      <td>Switzerland</td>\n",
       "      <td>CHE</td>\n",
       "      <td>2022</td>\n",
       "      <td>62.270000</td>\n",
       "    </tr>\n",
       "    <tr>\n",
       "      <th>6492</th>\n",
       "      <td>Switzerland</td>\n",
       "      <td>CHE</td>\n",
       "      <td>2023</td>\n",
       "      <td>70.890000</td>\n",
       "    </tr>\n",
       "  </tbody>\n",
       "</table>\n",
       "</div>"
      ],
      "text/plain": [
       "           Entity Code  Year  Electricity generation - TWh\n",
       "6454  Switzerland  CHE  1985                     56.338123\n",
       "6455  Switzerland  CHE  1986                     57.410492\n",
       "6456  Switzerland  CHE  1987                     59.733856\n",
       "6457  Switzerland  CHE  1988                     60.535755\n",
       "6458  Switzerland  CHE  1989                     54.610770\n",
       "6459  Switzerland  CHE  1990                     56.015427\n",
       "6460  Switzerland  CHE  1991                     58.061848\n",
       "6461  Switzerland  CHE  1992                     59.517920\n",
       "6462  Switzerland  CHE  1993                     61.555614\n",
       "6463  Switzerland  CHE  1994                     66.134240\n",
       "6464  Switzerland  CHE  1995                     62.862670\n",
       "6465  Switzerland  CHE  1996                     57.328350\n",
       "6466  Switzerland  CHE  1997                     62.902084\n",
       "6467  Switzerland  CHE  1998                     63.287940\n",
       "6468  Switzerland  CHE  1999                     68.617320\n",
       "6469  Switzerland  CHE  2000                     66.120000\n",
       "6470  Switzerland  CHE  2001                     71.050000\n",
       "6471  Switzerland  CHE  2002                     65.410000\n",
       "6472  Switzerland  CHE  2003                     65.340000\n",
       "6473  Switzerland  CHE  2004                     63.870000\n",
       "6474  Switzerland  CHE  2005                     57.800000\n",
       "6475  Switzerland  CHE  2006                     62.130000\n",
       "6476  Switzerland  CHE  2007                     66.430000\n",
       "6477  Switzerland  CHE  2008                     67.040000\n",
       "6478  Switzerland  CHE  2009                     66.670000\n",
       "6479  Switzerland  CHE  2010                     66.050000\n",
       "6480  Switzerland  CHE  2011                     62.880000\n",
       "6481  Switzerland  CHE  2012                     68.130000\n",
       "6482  Switzerland  CHE  2013                     68.690000\n",
       "6483  Switzerland  CHE  2014                     70.080000\n",
       "6484  Switzerland  CHE  2015                     66.070000\n",
       "6485  Switzerland  CHE  2016                     61.100000\n",
       "6486  Switzerland  CHE  2017                     60.150000\n",
       "6487  Switzerland  CHE  2018                     66.290000\n",
       "6488  Switzerland  CHE  2019                     70.570000\n",
       "6489  Switzerland  CHE  2020                     68.490000\n",
       "6490  Switzerland  CHE  2021                     63.100000\n",
       "6491  Switzerland  CHE  2022                     62.270000\n",
       "6492  Switzerland  CHE  2023                     70.890000"
      ]
     },
     "execution_count": 78,
     "metadata": {},
     "output_type": "execute_result"
    }
   ],
   "source": [
    "df_swiss_electricity_generation"
   ]
  },
  {
   "cell_type": "markdown",
   "metadata": {},
   "source": [
    "Change the name of a column with `rename` method (use `dict`) :"
   ]
  },
  {
   "cell_type": "code",
   "execution_count": 79,
   "metadata": {},
   "outputs": [
    {
     "data": {
      "text/html": [
       "<div>\n",
       "<style scoped>\n",
       "    .dataframe tbody tr th:only-of-type {\n",
       "        vertical-align: middle;\n",
       "    }\n",
       "\n",
       "    .dataframe tbody tr th {\n",
       "        vertical-align: top;\n",
       "    }\n",
       "\n",
       "    .dataframe thead th {\n",
       "        text-align: right;\n",
       "    }\n",
       "</style>\n",
       "<table border=\"1\" class=\"dataframe\">\n",
       "  <thead>\n",
       "    <tr style=\"text-align: right;\">\n",
       "      <th></th>\n",
       "      <th>Entity</th>\n",
       "      <th>Code</th>\n",
       "      <th>Year</th>\n",
       "      <th>Population</th>\n",
       "    </tr>\n",
       "  </thead>\n",
       "  <tbody>\n",
       "    <tr>\n",
       "      <th>16428</th>\n",
       "      <td>Switzerland</td>\n",
       "      <td>CHE</td>\n",
       "      <td>1950</td>\n",
       "      <td>4692642</td>\n",
       "    </tr>\n",
       "    <tr>\n",
       "      <th>16429</th>\n",
       "      <td>Switzerland</td>\n",
       "      <td>CHE</td>\n",
       "      <td>1951</td>\n",
       "      <td>4748088</td>\n",
       "    </tr>\n",
       "    <tr>\n",
       "      <th>16430</th>\n",
       "      <td>Switzerland</td>\n",
       "      <td>CHE</td>\n",
       "      <td>1952</td>\n",
       "      <td>4811614</td>\n",
       "    </tr>\n",
       "    <tr>\n",
       "      <th>16431</th>\n",
       "      <td>Switzerland</td>\n",
       "      <td>CHE</td>\n",
       "      <td>1953</td>\n",
       "      <td>4875655</td>\n",
       "    </tr>\n",
       "    <tr>\n",
       "      <th>16432</th>\n",
       "      <td>Switzerland</td>\n",
       "      <td>CHE</td>\n",
       "      <td>1954</td>\n",
       "      <td>4938751</td>\n",
       "    </tr>\n",
       "    <tr>\n",
       "      <th>...</th>\n",
       "      <td>...</td>\n",
       "      <td>...</td>\n",
       "      <td>...</td>\n",
       "      <td>...</td>\n",
       "    </tr>\n",
       "    <tr>\n",
       "      <th>16497</th>\n",
       "      <td>Switzerland</td>\n",
       "      <td>CHE</td>\n",
       "      <td>2019</td>\n",
       "      <td>8577526</td>\n",
       "    </tr>\n",
       "    <tr>\n",
       "      <th>16498</th>\n",
       "      <td>Switzerland</td>\n",
       "      <td>CHE</td>\n",
       "      <td>2020</td>\n",
       "      <td>8640582</td>\n",
       "    </tr>\n",
       "    <tr>\n",
       "      <th>16499</th>\n",
       "      <td>Switzerland</td>\n",
       "      <td>CHE</td>\n",
       "      <td>2021</td>\n",
       "      <td>8707018</td>\n",
       "    </tr>\n",
       "    <tr>\n",
       "      <th>16500</th>\n",
       "      <td>Switzerland</td>\n",
       "      <td>CHE</td>\n",
       "      <td>2022</td>\n",
       "      <td>8792180</td>\n",
       "    </tr>\n",
       "    <tr>\n",
       "      <th>16501</th>\n",
       "      <td>Switzerland</td>\n",
       "      <td>CHE</td>\n",
       "      <td>2023</td>\n",
       "      <td>8870564</td>\n",
       "    </tr>\n",
       "  </tbody>\n",
       "</table>\n",
       "<p>74 rows × 4 columns</p>\n",
       "</div>"
      ],
      "text/plain": [
       "            Entity Code  Year  Population\n",
       "16428  Switzerland  CHE  1950     4692642\n",
       "16429  Switzerland  CHE  1951     4748088\n",
       "16430  Switzerland  CHE  1952     4811614\n",
       "16431  Switzerland  CHE  1953     4875655\n",
       "16432  Switzerland  CHE  1954     4938751\n",
       "...            ...  ...   ...         ...\n",
       "16497  Switzerland  CHE  2019     8577526\n",
       "16498  Switzerland  CHE  2020     8640582\n",
       "16499  Switzerland  CHE  2021     8707018\n",
       "16500  Switzerland  CHE  2022     8792180\n",
       "16501  Switzerland  CHE  2023     8870564\n",
       "\n",
       "[74 rows x 4 columns]"
      ]
     },
     "execution_count": 79,
     "metadata": {},
     "output_type": "execute_result"
    }
   ],
   "source": [
    "# Give a friendly name (\"Population\") to the population column of df_swiss_population\n",
    "df_swiss_population = df_swiss_population.rename(\n",
    "    columns={\"Population - Sex: all - Age: all - Variant: estimates\": \"Population\"}\n",
    ")\n",
    "df_swiss_population"
   ]
  },
  {
   "cell_type": "markdown",
   "metadata": {},
   "source": [
    "## Manipulate dataframe"
   ]
  },
  {
   "cell_type": "markdown",
   "metadata": {},
   "source": [
    "Then I want to merge the two dataframe :\n",
    "\n",
    "\n",
    "> **_Note_** : This manipulation reset index, but it possible manually (after .loc p.ex.)by using : ``df_data = df_data.reset_index()``"
   ]
  },
  {
   "cell_type": "code",
   "execution_count": 80,
   "metadata": {},
   "outputs": [
    {
     "data": {
      "text/html": [
       "<div>\n",
       "<style scoped>\n",
       "    .dataframe tbody tr th:only-of-type {\n",
       "        vertical-align: middle;\n",
       "    }\n",
       "\n",
       "    .dataframe tbody tr th {\n",
       "        vertical-align: top;\n",
       "    }\n",
       "\n",
       "    .dataframe thead th {\n",
       "        text-align: right;\n",
       "    }\n",
       "</style>\n",
       "<table border=\"1\" class=\"dataframe\">\n",
       "  <thead>\n",
       "    <tr style=\"text-align: right;\">\n",
       "      <th></th>\n",
       "      <th>Entity</th>\n",
       "      <th>Code</th>\n",
       "      <th>Year</th>\n",
       "      <th>Population</th>\n",
       "      <th>Electricity generation - TWh</th>\n",
       "    </tr>\n",
       "  </thead>\n",
       "  <tbody>\n",
       "    <tr>\n",
       "      <th>0</th>\n",
       "      <td>Switzerland</td>\n",
       "      <td>CHE</td>\n",
       "      <td>1985</td>\n",
       "      <td>6470959</td>\n",
       "      <td>56.338123</td>\n",
       "    </tr>\n",
       "    <tr>\n",
       "      <th>1</th>\n",
       "      <td>Switzerland</td>\n",
       "      <td>CHE</td>\n",
       "      <td>1986</td>\n",
       "      <td>6504748</td>\n",
       "      <td>57.410492</td>\n",
       "    </tr>\n",
       "    <tr>\n",
       "      <th>2</th>\n",
       "      <td>Switzerland</td>\n",
       "      <td>CHE</td>\n",
       "      <td>1987</td>\n",
       "      <td>6545771</td>\n",
       "      <td>59.733856</td>\n",
       "    </tr>\n",
       "    <tr>\n",
       "      <th>3</th>\n",
       "      <td>Switzerland</td>\n",
       "      <td>CHE</td>\n",
       "      <td>1988</td>\n",
       "      <td>6594145</td>\n",
       "      <td>60.535755</td>\n",
       "    </tr>\n",
       "    <tr>\n",
       "      <th>4</th>\n",
       "      <td>Switzerland</td>\n",
       "      <td>CHE</td>\n",
       "      <td>1989</td>\n",
       "      <td>6647786</td>\n",
       "      <td>54.610770</td>\n",
       "    </tr>\n",
       "    <tr>\n",
       "      <th>5</th>\n",
       "      <td>Switzerland</td>\n",
       "      <td>CHE</td>\n",
       "      <td>1990</td>\n",
       "      <td>6713167</td>\n",
       "      <td>56.015427</td>\n",
       "    </tr>\n",
       "    <tr>\n",
       "      <th>6</th>\n",
       "      <td>Switzerland</td>\n",
       "      <td>CHE</td>\n",
       "      <td>1991</td>\n",
       "      <td>6796942</td>\n",
       "      <td>58.061848</td>\n",
       "    </tr>\n",
       "    <tr>\n",
       "      <th>7</th>\n",
       "      <td>Switzerland</td>\n",
       "      <td>CHE</td>\n",
       "      <td>1992</td>\n",
       "      <td>6875049</td>\n",
       "      <td>59.517920</td>\n",
       "    </tr>\n",
       "    <tr>\n",
       "      <th>8</th>\n",
       "      <td>Switzerland</td>\n",
       "      <td>CHE</td>\n",
       "      <td>1993</td>\n",
       "      <td>6938107</td>\n",
       "      <td>61.555614</td>\n",
       "    </tr>\n",
       "    <tr>\n",
       "      <th>9</th>\n",
       "      <td>Switzerland</td>\n",
       "      <td>CHE</td>\n",
       "      <td>1994</td>\n",
       "      <td>6993594</td>\n",
       "      <td>66.134240</td>\n",
       "    </tr>\n",
       "    <tr>\n",
       "      <th>10</th>\n",
       "      <td>Switzerland</td>\n",
       "      <td>CHE</td>\n",
       "      <td>1995</td>\n",
       "      <td>7040481</td>\n",
       "      <td>62.862670</td>\n",
       "    </tr>\n",
       "    <tr>\n",
       "      <th>11</th>\n",
       "      <td>Switzerland</td>\n",
       "      <td>CHE</td>\n",
       "      <td>1996</td>\n",
       "      <td>7071884</td>\n",
       "      <td>57.328350</td>\n",
       "    </tr>\n",
       "    <tr>\n",
       "      <th>12</th>\n",
       "      <td>Switzerland</td>\n",
       "      <td>CHE</td>\n",
       "      <td>1997</td>\n",
       "      <td>7089163</td>\n",
       "      <td>62.902084</td>\n",
       "    </tr>\n",
       "    <tr>\n",
       "      <th>13</th>\n",
       "      <td>Switzerland</td>\n",
       "      <td>CHE</td>\n",
       "      <td>1998</td>\n",
       "      <td>7110294</td>\n",
       "      <td>63.287940</td>\n",
       "    </tr>\n",
       "    <tr>\n",
       "      <th>14</th>\n",
       "      <td>Switzerland</td>\n",
       "      <td>CHE</td>\n",
       "      <td>1999</td>\n",
       "      <td>7144118</td>\n",
       "      <td>68.617320</td>\n",
       "    </tr>\n",
       "    <tr>\n",
       "      <th>15</th>\n",
       "      <td>Switzerland</td>\n",
       "      <td>CHE</td>\n",
       "      <td>2000</td>\n",
       "      <td>7184003</td>\n",
       "      <td>66.120000</td>\n",
       "    </tr>\n",
       "    <tr>\n",
       "      <th>16</th>\n",
       "      <td>Switzerland</td>\n",
       "      <td>CHE</td>\n",
       "      <td>2001</td>\n",
       "      <td>7226391</td>\n",
       "      <td>71.050000</td>\n",
       "    </tr>\n",
       "    <tr>\n",
       "      <th>17</th>\n",
       "      <td>Switzerland</td>\n",
       "      <td>CHE</td>\n",
       "      <td>2002</td>\n",
       "      <td>7278744</td>\n",
       "      <td>65.410000</td>\n",
       "    </tr>\n",
       "    <tr>\n",
       "      <th>18</th>\n",
       "      <td>Switzerland</td>\n",
       "      <td>CHE</td>\n",
       "      <td>2003</td>\n",
       "      <td>7333450</td>\n",
       "      <td>65.340000</td>\n",
       "    </tr>\n",
       "    <tr>\n",
       "      <th>19</th>\n",
       "      <td>Switzerland</td>\n",
       "      <td>CHE</td>\n",
       "      <td>2004</td>\n",
       "      <td>7384196</td>\n",
       "      <td>63.870000</td>\n",
       "    </tr>\n",
       "    <tr>\n",
       "      <th>20</th>\n",
       "      <td>Switzerland</td>\n",
       "      <td>CHE</td>\n",
       "      <td>2005</td>\n",
       "      <td>7431824</td>\n",
       "      <td>57.800000</td>\n",
       "    </tr>\n",
       "    <tr>\n",
       "      <th>21</th>\n",
       "      <td>Switzerland</td>\n",
       "      <td>CHE</td>\n",
       "      <td>2006</td>\n",
       "      <td>7478514</td>\n",
       "      <td>62.130000</td>\n",
       "    </tr>\n",
       "    <tr>\n",
       "      <th>22</th>\n",
       "      <td>Switzerland</td>\n",
       "      <td>CHE</td>\n",
       "      <td>2007</td>\n",
       "      <td>7545386</td>\n",
       "      <td>66.430000</td>\n",
       "    </tr>\n",
       "    <tr>\n",
       "      <th>23</th>\n",
       "      <td>Switzerland</td>\n",
       "      <td>CHE</td>\n",
       "      <td>2008</td>\n",
       "      <td>7641729</td>\n",
       "      <td>67.040000</td>\n",
       "    </tr>\n",
       "    <tr>\n",
       "      <th>24</th>\n",
       "      <td>Switzerland</td>\n",
       "      <td>CHE</td>\n",
       "      <td>2009</td>\n",
       "      <td>7737642</td>\n",
       "      <td>66.670000</td>\n",
       "    </tr>\n",
       "    <tr>\n",
       "      <th>25</th>\n",
       "      <td>Switzerland</td>\n",
       "      <td>CHE</td>\n",
       "      <td>2010</td>\n",
       "      <td>7825751</td>\n",
       "      <td>66.050000</td>\n",
       "    </tr>\n",
       "    <tr>\n",
       "      <th>26</th>\n",
       "      <td>Switzerland</td>\n",
       "      <td>CHE</td>\n",
       "      <td>2011</td>\n",
       "      <td>7914378</td>\n",
       "      <td>62.880000</td>\n",
       "    </tr>\n",
       "    <tr>\n",
       "      <th>27</th>\n",
       "      <td>Switzerland</td>\n",
       "      <td>CHE</td>\n",
       "      <td>2012</td>\n",
       "      <td>7998927</td>\n",
       "      <td>68.130000</td>\n",
       "    </tr>\n",
       "    <tr>\n",
       "      <th>28</th>\n",
       "      <td>Switzerland</td>\n",
       "      <td>CHE</td>\n",
       "      <td>2013</td>\n",
       "      <td>8091197</td>\n",
       "      <td>68.690000</td>\n",
       "    </tr>\n",
       "    <tr>\n",
       "      <th>29</th>\n",
       "      <td>Switzerland</td>\n",
       "      <td>CHE</td>\n",
       "      <td>2014</td>\n",
       "      <td>8190238</td>\n",
       "      <td>70.080000</td>\n",
       "    </tr>\n",
       "    <tr>\n",
       "      <th>30</th>\n",
       "      <td>Switzerland</td>\n",
       "      <td>CHE</td>\n",
       "      <td>2015</td>\n",
       "      <td>8283940</td>\n",
       "      <td>66.070000</td>\n",
       "    </tr>\n",
       "    <tr>\n",
       "      <th>31</th>\n",
       "      <td>Switzerland</td>\n",
       "      <td>CHE</td>\n",
       "      <td>2016</td>\n",
       "      <td>8374902</td>\n",
       "      <td>61.100000</td>\n",
       "    </tr>\n",
       "    <tr>\n",
       "      <th>32</th>\n",
       "      <td>Switzerland</td>\n",
       "      <td>CHE</td>\n",
       "      <td>2017</td>\n",
       "      <td>8453628</td>\n",
       "      <td>60.150000</td>\n",
       "    </tr>\n",
       "    <tr>\n",
       "      <th>33</th>\n",
       "      <td>Switzerland</td>\n",
       "      <td>CHE</td>\n",
       "      <td>2018</td>\n",
       "      <td>8516339</td>\n",
       "      <td>66.290000</td>\n",
       "    </tr>\n",
       "    <tr>\n",
       "      <th>34</th>\n",
       "      <td>Switzerland</td>\n",
       "      <td>CHE</td>\n",
       "      <td>2019</td>\n",
       "      <td>8577526</td>\n",
       "      <td>70.570000</td>\n",
       "    </tr>\n",
       "    <tr>\n",
       "      <th>35</th>\n",
       "      <td>Switzerland</td>\n",
       "      <td>CHE</td>\n",
       "      <td>2020</td>\n",
       "      <td>8640582</td>\n",
       "      <td>68.490000</td>\n",
       "    </tr>\n",
       "    <tr>\n",
       "      <th>36</th>\n",
       "      <td>Switzerland</td>\n",
       "      <td>CHE</td>\n",
       "      <td>2021</td>\n",
       "      <td>8707018</td>\n",
       "      <td>63.100000</td>\n",
       "    </tr>\n",
       "    <tr>\n",
       "      <th>37</th>\n",
       "      <td>Switzerland</td>\n",
       "      <td>CHE</td>\n",
       "      <td>2022</td>\n",
       "      <td>8792180</td>\n",
       "      <td>62.270000</td>\n",
       "    </tr>\n",
       "    <tr>\n",
       "      <th>38</th>\n",
       "      <td>Switzerland</td>\n",
       "      <td>CHE</td>\n",
       "      <td>2023</td>\n",
       "      <td>8870564</td>\n",
       "      <td>70.890000</td>\n",
       "    </tr>\n",
       "  </tbody>\n",
       "</table>\n",
       "</div>"
      ],
      "text/plain": [
       "         Entity Code  Year  Population  Electricity generation - TWh\n",
       "0   Switzerland  CHE  1985     6470959                     56.338123\n",
       "1   Switzerland  CHE  1986     6504748                     57.410492\n",
       "2   Switzerland  CHE  1987     6545771                     59.733856\n",
       "3   Switzerland  CHE  1988     6594145                     60.535755\n",
       "4   Switzerland  CHE  1989     6647786                     54.610770\n",
       "5   Switzerland  CHE  1990     6713167                     56.015427\n",
       "6   Switzerland  CHE  1991     6796942                     58.061848\n",
       "7   Switzerland  CHE  1992     6875049                     59.517920\n",
       "8   Switzerland  CHE  1993     6938107                     61.555614\n",
       "9   Switzerland  CHE  1994     6993594                     66.134240\n",
       "10  Switzerland  CHE  1995     7040481                     62.862670\n",
       "11  Switzerland  CHE  1996     7071884                     57.328350\n",
       "12  Switzerland  CHE  1997     7089163                     62.902084\n",
       "13  Switzerland  CHE  1998     7110294                     63.287940\n",
       "14  Switzerland  CHE  1999     7144118                     68.617320\n",
       "15  Switzerland  CHE  2000     7184003                     66.120000\n",
       "16  Switzerland  CHE  2001     7226391                     71.050000\n",
       "17  Switzerland  CHE  2002     7278744                     65.410000\n",
       "18  Switzerland  CHE  2003     7333450                     65.340000\n",
       "19  Switzerland  CHE  2004     7384196                     63.870000\n",
       "20  Switzerland  CHE  2005     7431824                     57.800000\n",
       "21  Switzerland  CHE  2006     7478514                     62.130000\n",
       "22  Switzerland  CHE  2007     7545386                     66.430000\n",
       "23  Switzerland  CHE  2008     7641729                     67.040000\n",
       "24  Switzerland  CHE  2009     7737642                     66.670000\n",
       "25  Switzerland  CHE  2010     7825751                     66.050000\n",
       "26  Switzerland  CHE  2011     7914378                     62.880000\n",
       "27  Switzerland  CHE  2012     7998927                     68.130000\n",
       "28  Switzerland  CHE  2013     8091197                     68.690000\n",
       "29  Switzerland  CHE  2014     8190238                     70.080000\n",
       "30  Switzerland  CHE  2015     8283940                     66.070000\n",
       "31  Switzerland  CHE  2016     8374902                     61.100000\n",
       "32  Switzerland  CHE  2017     8453628                     60.150000\n",
       "33  Switzerland  CHE  2018     8516339                     66.290000\n",
       "34  Switzerland  CHE  2019     8577526                     70.570000\n",
       "35  Switzerland  CHE  2020     8640582                     68.490000\n",
       "36  Switzerland  CHE  2021     8707018                     63.100000\n",
       "37  Switzerland  CHE  2022     8792180                     62.270000\n",
       "38  Switzerland  CHE  2023     8870564                     70.890000"
      ]
     },
     "execution_count": 80,
     "metadata": {},
     "output_type": "execute_result"
    }
   ],
   "source": [
    "# Join the data from the two table, only the values present in the two column !\n",
    "## With function of pandas\n",
    "df_swiss_data_inner_join = pd.merge(\n",
    "    df_swiss_population,\n",
    "    df_swiss_electricity_generation,\n",
    "    on=[\"Year\", \"Entity\", \"Code\"],\n",
    "    how=\"inner\",\n",
    ")\n",
    "## With methode of the df (linked to variable/object)\n",
    "df_swiss_data_inner_join\n",
    "# df_inner_join_simpler ="
   ]
  },
  {
   "cell_type": "markdown",
   "metadata": {},
   "source": [
    "#### Other important part to manipulate"
   ]
  },
  {
   "cell_type": "markdown",
   "metadata": {},
   "source": [
    "To merge two df, we need a key, this is a column name present on the two df, exactly the same !\n",
    "- `on` = Define on wich **column** the dfs where merge (exactly same column's name need to be present on both), if parameter `on` is None this use the intersection of the two df\n",
    "- `how` = Define on wich **row** the dfs where merge (find the same key)\n",
    "  - `inner` = Default join, only save the key present in both df\n",
    "  - `left` = Save all the key of **left**'s df, and complete with right information (when it's possible, be carefull, you will have some `NaN` value)\n",
    "  - `outer` = Save all the key of both df, also have `NaN` value"
   ]
  },
  {
   "cell_type": "markdown",
   "metadata": {},
   "source": [
    "If the structure between the df is **exactly** the same, you can use `concat` function :"
   ]
  },
  {
   "cell_type": "code",
   "execution_count": 81,
   "metadata": {},
   "outputs": [],
   "source": [
    "## df_inner_join_simpler, df_swiss_data_inner_join"
   ]
  },
  {
   "cell_type": "markdown",
   "metadata": {},
   "source": [
    "To add information after, use the `append` method : `df1.append(df2)`"
   ]
  },
  {
   "cell_type": "markdown",
   "metadata": {},
   "source": [
    "##### NaN (NaT,...) value"
   ]
  },
  {
   "cell_type": "markdown",
   "metadata": {},
   "source": [
    "This value is a problem when you manipulate data.\n",
    "\n",
    "It's possible to solve the problem with various method :\n",
    "- Complete with constant value - `df=df.fillna(1)` \n",
    "  - Replace by the integer 1 if you have time series, that doesn't work, use `df[\"time\"].fillna(pd.Timestamp(\"20221225\"))`\n",
    "- Remove value - `df.dropna()`\n",
    "  - Remove row (parameter `axis = 0`) or column (parameter `axis = 1`) with `NaN`, by default `axis = o`\n",
    "- Interpolate value - `df=df.interpolate()`\n",
    "  - Fill with midpoint between the two cells"
   ]
  },
  {
   "cell_type": "markdown",
   "metadata": {},
   "source": [
    "## Visualisation of the data"
   ]
  },
  {
   "cell_type": "markdown",
   "metadata": {},
   "source": [
    "Now I would like to visualize the evolution of the electricity generation per capita over the time :\n",
    "    \"Electricity generation - TWh\" / \"Population\" * 1e9"
   ]
  },
  {
   "cell_type": "code",
   "execution_count": 82,
   "metadata": {},
   "outputs": [],
   "source": [
    "# The basic ways to do that\n",
    "\n",
    "# Before need to create the empty column\n",
    "nb_line = df_swiss_data_inner_join.shape[0]\n",
    "df_swiss_data_inner_join[\"Production per capita - kWh\"] = np.zeros(nb_line)\n",
    "# Range because int is not iterable (create a sequence of number)\n",
    "for i in range(df_swiss_data_inner_join.shape[0]):\n",
    "    df_swiss_data_inner_join.loc[i, \"Production per capita - kWh\"] = (\n",
    "        df_swiss_data_inner_join.loc[i, \"Electricity generation - TWh\"]\n",
    "        / df_swiss_data_inner_join.loc[i, \"Population\"]\n",
    "        * 1e9\n",
    "    )"
   ]
  },
  {
   "cell_type": "markdown",
   "metadata": {},
   "source": [
    "The second method *__and simply__* method to do that"
   ]
  },
  {
   "cell_type": "code",
   "execution_count": 83,
   "metadata": {},
   "outputs": [],
   "source": [
    "df_swiss_data_inner_join[\"Production per capita 2e method - kWh\"] = (\n",
    "    df_swiss_data_inner_join[\"Electricity generation - TWh\"]\n",
    "    / df_swiss_data_inner_join[\"Population\"]\n",
    "    * 1e9\n",
    ")"
   ]
  },
  {
   "cell_type": "markdown",
   "metadata": {},
   "source": [
    "#### Another ways to do that"
   ]
  },
  {
   "cell_type": "markdown",
   "metadata": {},
   "source": [
    "The power of apply plus lambda function is his simplicity, we can apply a function (lambda) to multiple row in one line of code. (Small comparison of using or not [lambda](https://www.geeksforgeeks.org/python-lambda-anonymous-functions-filter-map-reduce/#:~:text=With%20lambda%20function,Without%20lambda%20function) function)\n",
    "\n"
   ]
  },
  {
   "cell_type": "code",
   "execution_count": 84,
   "metadata": {},
   "outputs": [
    {
     "data": {
      "text/html": [
       "<div>\n",
       "<style scoped>\n",
       "    .dataframe tbody tr th:only-of-type {\n",
       "        vertical-align: middle;\n",
       "    }\n",
       "\n",
       "    .dataframe tbody tr th {\n",
       "        vertical-align: top;\n",
       "    }\n",
       "\n",
       "    .dataframe thead th {\n",
       "        text-align: right;\n",
       "    }\n",
       "</style>\n",
       "<table border=\"1\" class=\"dataframe\">\n",
       "  <thead>\n",
       "    <tr style=\"text-align: right;\">\n",
       "      <th></th>\n",
       "      <th>Entity</th>\n",
       "      <th>Code</th>\n",
       "      <th>Year</th>\n",
       "      <th>Population</th>\n",
       "      <th>Electricity generation - TWh</th>\n",
       "      <th>Production per capita - kWh</th>\n",
       "      <th>Production per capita 2e method - kWh</th>\n",
       "      <th>Production per capita 3e method - kWh</th>\n",
       "    </tr>\n",
       "  </thead>\n",
       "  <tbody>\n",
       "    <tr>\n",
       "      <th>0</th>\n",
       "      <td>Switzerland</td>\n",
       "      <td>CHE</td>\n",
       "      <td>1985</td>\n",
       "      <td>6470959</td>\n",
       "      <td>56.338123</td>\n",
       "      <td>8706.301956</td>\n",
       "      <td>8706.301956</td>\n",
       "      <td>8706.301956</td>\n",
       "    </tr>\n",
       "    <tr>\n",
       "      <th>1</th>\n",
       "      <td>Switzerland</td>\n",
       "      <td>CHE</td>\n",
       "      <td>1986</td>\n",
       "      <td>6504748</td>\n",
       "      <td>57.410492</td>\n",
       "      <td>8825.936378</td>\n",
       "      <td>8825.936378</td>\n",
       "      <td>8825.936378</td>\n",
       "    </tr>\n",
       "    <tr>\n",
       "      <th>2</th>\n",
       "      <td>Switzerland</td>\n",
       "      <td>CHE</td>\n",
       "      <td>1987</td>\n",
       "      <td>6545771</td>\n",
       "      <td>59.733856</td>\n",
       "      <td>9125.564582</td>\n",
       "      <td>9125.564582</td>\n",
       "      <td>9125.564582</td>\n",
       "    </tr>\n",
       "    <tr>\n",
       "      <th>3</th>\n",
       "      <td>Switzerland</td>\n",
       "      <td>CHE</td>\n",
       "      <td>1988</td>\n",
       "      <td>6594145</td>\n",
       "      <td>60.535755</td>\n",
       "      <td>9180.228066</td>\n",
       "      <td>9180.228066</td>\n",
       "      <td>9180.228066</td>\n",
       "    </tr>\n",
       "    <tr>\n",
       "      <th>4</th>\n",
       "      <td>Switzerland</td>\n",
       "      <td>CHE</td>\n",
       "      <td>1989</td>\n",
       "      <td>6647786</td>\n",
       "      <td>54.610770</td>\n",
       "      <td>8214.880864</td>\n",
       "      <td>8214.880864</td>\n",
       "      <td>8214.880864</td>\n",
       "    </tr>\n",
       "    <tr>\n",
       "      <th>5</th>\n",
       "      <td>Switzerland</td>\n",
       "      <td>CHE</td>\n",
       "      <td>1990</td>\n",
       "      <td>6713167</td>\n",
       "      <td>56.015427</td>\n",
       "      <td>8344.113442</td>\n",
       "      <td>8344.113442</td>\n",
       "      <td>8344.113442</td>\n",
       "    </tr>\n",
       "    <tr>\n",
       "      <th>6</th>\n",
       "      <td>Switzerland</td>\n",
       "      <td>CHE</td>\n",
       "      <td>1991</td>\n",
       "      <td>6796942</td>\n",
       "      <td>58.061848</td>\n",
       "      <td>8542.348603</td>\n",
       "      <td>8542.348603</td>\n",
       "      <td>8542.348603</td>\n",
       "    </tr>\n",
       "    <tr>\n",
       "      <th>7</th>\n",
       "      <td>Switzerland</td>\n",
       "      <td>CHE</td>\n",
       "      <td>1992</td>\n",
       "      <td>6875049</td>\n",
       "      <td>59.517920</td>\n",
       "      <td>8657.090299</td>\n",
       "      <td>8657.090299</td>\n",
       "      <td>8657.090299</td>\n",
       "    </tr>\n",
       "    <tr>\n",
       "      <th>8</th>\n",
       "      <td>Switzerland</td>\n",
       "      <td>CHE</td>\n",
       "      <td>1993</td>\n",
       "      <td>6938107</td>\n",
       "      <td>61.555614</td>\n",
       "      <td>8872.105028</td>\n",
       "      <td>8872.105028</td>\n",
       "      <td>8872.105028</td>\n",
       "    </tr>\n",
       "    <tr>\n",
       "      <th>9</th>\n",
       "      <td>Switzerland</td>\n",
       "      <td>CHE</td>\n",
       "      <td>1994</td>\n",
       "      <td>6993594</td>\n",
       "      <td>66.134240</td>\n",
       "      <td>9456.402531</td>\n",
       "      <td>9456.402531</td>\n",
       "      <td>9456.402531</td>\n",
       "    </tr>\n",
       "    <tr>\n",
       "      <th>10</th>\n",
       "      <td>Switzerland</td>\n",
       "      <td>CHE</td>\n",
       "      <td>1995</td>\n",
       "      <td>7040481</td>\n",
       "      <td>62.862670</td>\n",
       "      <td>8928.746488</td>\n",
       "      <td>8928.746488</td>\n",
       "      <td>8928.746488</td>\n",
       "    </tr>\n",
       "    <tr>\n",
       "      <th>11</th>\n",
       "      <td>Switzerland</td>\n",
       "      <td>CHE</td>\n",
       "      <td>1996</td>\n",
       "      <td>7071884</td>\n",
       "      <td>57.328350</td>\n",
       "      <td>8106.517301</td>\n",
       "      <td>8106.517301</td>\n",
       "      <td>8106.517301</td>\n",
       "    </tr>\n",
       "    <tr>\n",
       "      <th>12</th>\n",
       "      <td>Switzerland</td>\n",
       "      <td>CHE</td>\n",
       "      <td>1997</td>\n",
       "      <td>7089163</td>\n",
       "      <td>62.902084</td>\n",
       "      <td>8872.991635</td>\n",
       "      <td>8872.991635</td>\n",
       "      <td>8872.991635</td>\n",
       "    </tr>\n",
       "    <tr>\n",
       "      <th>13</th>\n",
       "      <td>Switzerland</td>\n",
       "      <td>CHE</td>\n",
       "      <td>1998</td>\n",
       "      <td>7110294</td>\n",
       "      <td>63.287940</td>\n",
       "      <td>8900.889330</td>\n",
       "      <td>8900.889330</td>\n",
       "      <td>8900.889330</td>\n",
       "    </tr>\n",
       "    <tr>\n",
       "      <th>14</th>\n",
       "      <td>Switzerland</td>\n",
       "      <td>CHE</td>\n",
       "      <td>1999</td>\n",
       "      <td>7144118</td>\n",
       "      <td>68.617320</td>\n",
       "      <td>9604.729373</td>\n",
       "      <td>9604.729373</td>\n",
       "      <td>9604.729373</td>\n",
       "    </tr>\n",
       "    <tr>\n",
       "      <th>15</th>\n",
       "      <td>Switzerland</td>\n",
       "      <td>CHE</td>\n",
       "      <td>2000</td>\n",
       "      <td>7184003</td>\n",
       "      <td>66.120000</td>\n",
       "      <td>9203.782348</td>\n",
       "      <td>9203.782348</td>\n",
       "      <td>9203.782348</td>\n",
       "    </tr>\n",
       "    <tr>\n",
       "      <th>16</th>\n",
       "      <td>Switzerland</td>\n",
       "      <td>CHE</td>\n",
       "      <td>2001</td>\n",
       "      <td>7226391</td>\n",
       "      <td>71.050000</td>\n",
       "      <td>9832.017116</td>\n",
       "      <td>9832.017116</td>\n",
       "      <td>9832.017116</td>\n",
       "    </tr>\n",
       "    <tr>\n",
       "      <th>17</th>\n",
       "      <td>Switzerland</td>\n",
       "      <td>CHE</td>\n",
       "      <td>2002</td>\n",
       "      <td>7278744</td>\n",
       "      <td>65.410000</td>\n",
       "      <td>8986.440518</td>\n",
       "      <td>8986.440518</td>\n",
       "      <td>8986.440518</td>\n",
       "    </tr>\n",
       "    <tr>\n",
       "      <th>18</th>\n",
       "      <td>Switzerland</td>\n",
       "      <td>CHE</td>\n",
       "      <td>2003</td>\n",
       "      <td>7333450</td>\n",
       "      <td>65.340000</td>\n",
       "      <td>8909.858252</td>\n",
       "      <td>8909.858252</td>\n",
       "      <td>8909.858252</td>\n",
       "    </tr>\n",
       "    <tr>\n",
       "      <th>19</th>\n",
       "      <td>Switzerland</td>\n",
       "      <td>CHE</td>\n",
       "      <td>2004</td>\n",
       "      <td>7384196</td>\n",
       "      <td>63.870000</td>\n",
       "      <td>8649.553723</td>\n",
       "      <td>8649.553723</td>\n",
       "      <td>8649.553723</td>\n",
       "    </tr>\n",
       "    <tr>\n",
       "      <th>20</th>\n",
       "      <td>Switzerland</td>\n",
       "      <td>CHE</td>\n",
       "      <td>2005</td>\n",
       "      <td>7431824</td>\n",
       "      <td>57.800000</td>\n",
       "      <td>7777.363942</td>\n",
       "      <td>7777.363942</td>\n",
       "      <td>7777.363942</td>\n",
       "    </tr>\n",
       "    <tr>\n",
       "      <th>21</th>\n",
       "      <td>Switzerland</td>\n",
       "      <td>CHE</td>\n",
       "      <td>2006</td>\n",
       "      <td>7478514</td>\n",
       "      <td>62.130000</td>\n",
       "      <td>8307.800186</td>\n",
       "      <td>8307.800186</td>\n",
       "      <td>8307.800186</td>\n",
       "    </tr>\n",
       "    <tr>\n",
       "      <th>22</th>\n",
       "      <td>Switzerland</td>\n",
       "      <td>CHE</td>\n",
       "      <td>2007</td>\n",
       "      <td>7545386</td>\n",
       "      <td>66.430000</td>\n",
       "      <td>8804.055883</td>\n",
       "      <td>8804.055883</td>\n",
       "      <td>8804.055883</td>\n",
       "    </tr>\n",
       "    <tr>\n",
       "      <th>23</th>\n",
       "      <td>Switzerland</td>\n",
       "      <td>CHE</td>\n",
       "      <td>2008</td>\n",
       "      <td>7641729</td>\n",
       "      <td>67.040000</td>\n",
       "      <td>8772.883728</td>\n",
       "      <td>8772.883728</td>\n",
       "      <td>8772.883728</td>\n",
       "    </tr>\n",
       "    <tr>\n",
       "      <th>24</th>\n",
       "      <td>Switzerland</td>\n",
       "      <td>CHE</td>\n",
       "      <td>2009</td>\n",
       "      <td>7737642</td>\n",
       "      <td>66.670000</td>\n",
       "      <td>8616.320062</td>\n",
       "      <td>8616.320062</td>\n",
       "      <td>8616.320062</td>\n",
       "    </tr>\n",
       "    <tr>\n",
       "      <th>25</th>\n",
       "      <td>Switzerland</td>\n",
       "      <td>CHE</td>\n",
       "      <td>2010</td>\n",
       "      <td>7825751</td>\n",
       "      <td>66.050000</td>\n",
       "      <td>8440.084536</td>\n",
       "      <td>8440.084536</td>\n",
       "      <td>8440.084536</td>\n",
       "    </tr>\n",
       "    <tr>\n",
       "      <th>26</th>\n",
       "      <td>Switzerland</td>\n",
       "      <td>CHE</td>\n",
       "      <td>2011</td>\n",
       "      <td>7914378</td>\n",
       "      <td>62.880000</td>\n",
       "      <td>7945.033710</td>\n",
       "      <td>7945.033710</td>\n",
       "      <td>7945.033710</td>\n",
       "    </tr>\n",
       "    <tr>\n",
       "      <th>27</th>\n",
       "      <td>Switzerland</td>\n",
       "      <td>CHE</td>\n",
       "      <td>2012</td>\n",
       "      <td>7998927</td>\n",
       "      <td>68.130000</td>\n",
       "      <td>8517.392395</td>\n",
       "      <td>8517.392395</td>\n",
       "      <td>8517.392395</td>\n",
       "    </tr>\n",
       "    <tr>\n",
       "      <th>28</th>\n",
       "      <td>Switzerland</td>\n",
       "      <td>CHE</td>\n",
       "      <td>2013</td>\n",
       "      <td>8091197</td>\n",
       "      <td>68.690000</td>\n",
       "      <td>8489.473189</td>\n",
       "      <td>8489.473189</td>\n",
       "      <td>8489.473189</td>\n",
       "    </tr>\n",
       "    <tr>\n",
       "      <th>29</th>\n",
       "      <td>Switzerland</td>\n",
       "      <td>CHE</td>\n",
       "      <td>2014</td>\n",
       "      <td>8190238</td>\n",
       "      <td>70.080000</td>\n",
       "      <td>8556.527906</td>\n",
       "      <td>8556.527906</td>\n",
       "      <td>8556.527906</td>\n",
       "    </tr>\n",
       "    <tr>\n",
       "      <th>30</th>\n",
       "      <td>Switzerland</td>\n",
       "      <td>CHE</td>\n",
       "      <td>2015</td>\n",
       "      <td>8283940</td>\n",
       "      <td>66.070000</td>\n",
       "      <td>7975.673411</td>\n",
       "      <td>7975.673411</td>\n",
       "      <td>7975.673411</td>\n",
       "    </tr>\n",
       "    <tr>\n",
       "      <th>31</th>\n",
       "      <td>Switzerland</td>\n",
       "      <td>CHE</td>\n",
       "      <td>2016</td>\n",
       "      <td>8374902</td>\n",
       "      <td>61.100000</td>\n",
       "      <td>7295.607758</td>\n",
       "      <td>7295.607758</td>\n",
       "      <td>7295.607758</td>\n",
       "    </tr>\n",
       "    <tr>\n",
       "      <th>32</th>\n",
       "      <td>Switzerland</td>\n",
       "      <td>CHE</td>\n",
       "      <td>2017</td>\n",
       "      <td>8453628</td>\n",
       "      <td>60.150000</td>\n",
       "      <td>7115.288253</td>\n",
       "      <td>7115.288253</td>\n",
       "      <td>7115.288253</td>\n",
       "    </tr>\n",
       "    <tr>\n",
       "      <th>33</th>\n",
       "      <td>Switzerland</td>\n",
       "      <td>CHE</td>\n",
       "      <td>2018</td>\n",
       "      <td>8516339</td>\n",
       "      <td>66.290000</td>\n",
       "      <td>7783.861117</td>\n",
       "      <td>7783.861117</td>\n",
       "      <td>7783.861117</td>\n",
       "    </tr>\n",
       "    <tr>\n",
       "      <th>34</th>\n",
       "      <td>Switzerland</td>\n",
       "      <td>CHE</td>\n",
       "      <td>2019</td>\n",
       "      <td>8577526</td>\n",
       "      <td>70.570000</td>\n",
       "      <td>8227.314030</td>\n",
       "      <td>8227.314030</td>\n",
       "      <td>8227.314030</td>\n",
       "    </tr>\n",
       "    <tr>\n",
       "      <th>35</th>\n",
       "      <td>Switzerland</td>\n",
       "      <td>CHE</td>\n",
       "      <td>2020</td>\n",
       "      <td>8640582</td>\n",
       "      <td>68.490000</td>\n",
       "      <td>7926.549392</td>\n",
       "      <td>7926.549392</td>\n",
       "      <td>7926.549392</td>\n",
       "    </tr>\n",
       "    <tr>\n",
       "      <th>36</th>\n",
       "      <td>Switzerland</td>\n",
       "      <td>CHE</td>\n",
       "      <td>2021</td>\n",
       "      <td>8707018</td>\n",
       "      <td>63.100000</td>\n",
       "      <td>7247.027628</td>\n",
       "      <td>7247.027628</td>\n",
       "      <td>7247.027628</td>\n",
       "    </tr>\n",
       "    <tr>\n",
       "      <th>37</th>\n",
       "      <td>Switzerland</td>\n",
       "      <td>CHE</td>\n",
       "      <td>2022</td>\n",
       "      <td>8792180</td>\n",
       "      <td>62.270000</td>\n",
       "      <td>7082.430069</td>\n",
       "      <td>7082.430069</td>\n",
       "      <td>7082.430069</td>\n",
       "    </tr>\n",
       "    <tr>\n",
       "      <th>38</th>\n",
       "      <td>Switzerland</td>\n",
       "      <td>CHE</td>\n",
       "      <td>2023</td>\n",
       "      <td>8870564</td>\n",
       "      <td>70.890000</td>\n",
       "      <td>7991.600083</td>\n",
       "      <td>7991.600083</td>\n",
       "      <td>7991.600083</td>\n",
       "    </tr>\n",
       "  </tbody>\n",
       "</table>\n",
       "</div>"
      ],
      "text/plain": [
       "         Entity Code  Year  Population  Electricity generation - TWh  \\\n",
       "0   Switzerland  CHE  1985     6470959                     56.338123   \n",
       "1   Switzerland  CHE  1986     6504748                     57.410492   \n",
       "2   Switzerland  CHE  1987     6545771                     59.733856   \n",
       "3   Switzerland  CHE  1988     6594145                     60.535755   \n",
       "4   Switzerland  CHE  1989     6647786                     54.610770   \n",
       "5   Switzerland  CHE  1990     6713167                     56.015427   \n",
       "6   Switzerland  CHE  1991     6796942                     58.061848   \n",
       "7   Switzerland  CHE  1992     6875049                     59.517920   \n",
       "8   Switzerland  CHE  1993     6938107                     61.555614   \n",
       "9   Switzerland  CHE  1994     6993594                     66.134240   \n",
       "10  Switzerland  CHE  1995     7040481                     62.862670   \n",
       "11  Switzerland  CHE  1996     7071884                     57.328350   \n",
       "12  Switzerland  CHE  1997     7089163                     62.902084   \n",
       "13  Switzerland  CHE  1998     7110294                     63.287940   \n",
       "14  Switzerland  CHE  1999     7144118                     68.617320   \n",
       "15  Switzerland  CHE  2000     7184003                     66.120000   \n",
       "16  Switzerland  CHE  2001     7226391                     71.050000   \n",
       "17  Switzerland  CHE  2002     7278744                     65.410000   \n",
       "18  Switzerland  CHE  2003     7333450                     65.340000   \n",
       "19  Switzerland  CHE  2004     7384196                     63.870000   \n",
       "20  Switzerland  CHE  2005     7431824                     57.800000   \n",
       "21  Switzerland  CHE  2006     7478514                     62.130000   \n",
       "22  Switzerland  CHE  2007     7545386                     66.430000   \n",
       "23  Switzerland  CHE  2008     7641729                     67.040000   \n",
       "24  Switzerland  CHE  2009     7737642                     66.670000   \n",
       "25  Switzerland  CHE  2010     7825751                     66.050000   \n",
       "26  Switzerland  CHE  2011     7914378                     62.880000   \n",
       "27  Switzerland  CHE  2012     7998927                     68.130000   \n",
       "28  Switzerland  CHE  2013     8091197                     68.690000   \n",
       "29  Switzerland  CHE  2014     8190238                     70.080000   \n",
       "30  Switzerland  CHE  2015     8283940                     66.070000   \n",
       "31  Switzerland  CHE  2016     8374902                     61.100000   \n",
       "32  Switzerland  CHE  2017     8453628                     60.150000   \n",
       "33  Switzerland  CHE  2018     8516339                     66.290000   \n",
       "34  Switzerland  CHE  2019     8577526                     70.570000   \n",
       "35  Switzerland  CHE  2020     8640582                     68.490000   \n",
       "36  Switzerland  CHE  2021     8707018                     63.100000   \n",
       "37  Switzerland  CHE  2022     8792180                     62.270000   \n",
       "38  Switzerland  CHE  2023     8870564                     70.890000   \n",
       "\n",
       "    Production per capita - kWh  Production per capita 2e method - kWh  \\\n",
       "0                   8706.301956                            8706.301956   \n",
       "1                   8825.936378                            8825.936378   \n",
       "2                   9125.564582                            9125.564582   \n",
       "3                   9180.228066                            9180.228066   \n",
       "4                   8214.880864                            8214.880864   \n",
       "5                   8344.113442                            8344.113442   \n",
       "6                   8542.348603                            8542.348603   \n",
       "7                   8657.090299                            8657.090299   \n",
       "8                   8872.105028                            8872.105028   \n",
       "9                   9456.402531                            9456.402531   \n",
       "10                  8928.746488                            8928.746488   \n",
       "11                  8106.517301                            8106.517301   \n",
       "12                  8872.991635                            8872.991635   \n",
       "13                  8900.889330                            8900.889330   \n",
       "14                  9604.729373                            9604.729373   \n",
       "15                  9203.782348                            9203.782348   \n",
       "16                  9832.017116                            9832.017116   \n",
       "17                  8986.440518                            8986.440518   \n",
       "18                  8909.858252                            8909.858252   \n",
       "19                  8649.553723                            8649.553723   \n",
       "20                  7777.363942                            7777.363942   \n",
       "21                  8307.800186                            8307.800186   \n",
       "22                  8804.055883                            8804.055883   \n",
       "23                  8772.883728                            8772.883728   \n",
       "24                  8616.320062                            8616.320062   \n",
       "25                  8440.084536                            8440.084536   \n",
       "26                  7945.033710                            7945.033710   \n",
       "27                  8517.392395                            8517.392395   \n",
       "28                  8489.473189                            8489.473189   \n",
       "29                  8556.527906                            8556.527906   \n",
       "30                  7975.673411                            7975.673411   \n",
       "31                  7295.607758                            7295.607758   \n",
       "32                  7115.288253                            7115.288253   \n",
       "33                  7783.861117                            7783.861117   \n",
       "34                  8227.314030                            8227.314030   \n",
       "35                  7926.549392                            7926.549392   \n",
       "36                  7247.027628                            7247.027628   \n",
       "37                  7082.430069                            7082.430069   \n",
       "38                  7991.600083                            7991.600083   \n",
       "\n",
       "    Production per capita 3e method - kWh  \n",
       "0                             8706.301956  \n",
       "1                             8825.936378  \n",
       "2                             9125.564582  \n",
       "3                             9180.228066  \n",
       "4                             8214.880864  \n",
       "5                             8344.113442  \n",
       "6                             8542.348603  \n",
       "7                             8657.090299  \n",
       "8                             8872.105028  \n",
       "9                             9456.402531  \n",
       "10                            8928.746488  \n",
       "11                            8106.517301  \n",
       "12                            8872.991635  \n",
       "13                            8900.889330  \n",
       "14                            9604.729373  \n",
       "15                            9203.782348  \n",
       "16                            9832.017116  \n",
       "17                            8986.440518  \n",
       "18                            8909.858252  \n",
       "19                            8649.553723  \n",
       "20                            7777.363942  \n",
       "21                            8307.800186  \n",
       "22                            8804.055883  \n",
       "23                            8772.883728  \n",
       "24                            8616.320062  \n",
       "25                            8440.084536  \n",
       "26                            7945.033710  \n",
       "27                            8517.392395  \n",
       "28                            8489.473189  \n",
       "29                            8556.527906  \n",
       "30                            7975.673411  \n",
       "31                            7295.607758  \n",
       "32                            7115.288253  \n",
       "33                            7783.861117  \n",
       "34                            8227.314030  \n",
       "35                            7926.549392  \n",
       "36                            7247.027628  \n",
       "37                            7082.430069  \n",
       "38                            7991.600083  "
      ]
     },
     "execution_count": 84,
     "metadata": {},
     "output_type": "execute_result"
    }
   ],
   "source": [
    "df_swiss_data_inner_join[\"Production per capita 3e method - kWh\"] = (\n",
    "    df_swiss_data_inner_join.apply(\n",
    "        lambda row: row[\"Electricity generation - TWh\"] / row[\"Population\"] * 1e9,\n",
    "        axis=1,\n",
    "    )\n",
    ")\n",
    "df_swiss_data_inner_join"
   ]
  },
  {
   "cell_type": "markdown",
   "metadata": {},
   "source": [
    "It also possible to add a condition with an if function.\n",
    "I would like to know if the production per capita of this year is upper than the global average."
   ]
  },
  {
   "cell_type": "code",
   "execution_count": 85,
   "metadata": {},
   "outputs": [
    {
     "data": {
      "text/html": [
       "<div>\n",
       "<style scoped>\n",
       "    .dataframe tbody tr th:only-of-type {\n",
       "        vertical-align: middle;\n",
       "    }\n",
       "\n",
       "    .dataframe tbody tr th {\n",
       "        vertical-align: top;\n",
       "    }\n",
       "\n",
       "    .dataframe thead th {\n",
       "        text-align: right;\n",
       "    }\n",
       "</style>\n",
       "<table border=\"1\" class=\"dataframe\">\n",
       "  <thead>\n",
       "    <tr style=\"text-align: right;\">\n",
       "      <th></th>\n",
       "      <th>Entity</th>\n",
       "      <th>Code</th>\n",
       "      <th>Year</th>\n",
       "      <th>Population</th>\n",
       "      <th>Electricity generation - TWh</th>\n",
       "      <th>Production per capita - kWh</th>\n",
       "      <th>Production per capita 2e method - kWh</th>\n",
       "      <th>Production per capita 3e method - kWh</th>\n",
       "      <th>Per Capita Up than mean</th>\n",
       "    </tr>\n",
       "  </thead>\n",
       "  <tbody>\n",
       "    <tr>\n",
       "      <th>0</th>\n",
       "      <td>Switzerland</td>\n",
       "      <td>CHE</td>\n",
       "      <td>1985</td>\n",
       "      <td>6470959</td>\n",
       "      <td>56.338123</td>\n",
       "      <td>8706.301956</td>\n",
       "      <td>8706.301956</td>\n",
       "      <td>8706.301956</td>\n",
       "      <td>Yes</td>\n",
       "    </tr>\n",
       "    <tr>\n",
       "      <th>1</th>\n",
       "      <td>Switzerland</td>\n",
       "      <td>CHE</td>\n",
       "      <td>1986</td>\n",
       "      <td>6504748</td>\n",
       "      <td>57.410492</td>\n",
       "      <td>8825.936378</td>\n",
       "      <td>8825.936378</td>\n",
       "      <td>8825.936378</td>\n",
       "      <td>Yes</td>\n",
       "    </tr>\n",
       "    <tr>\n",
       "      <th>2</th>\n",
       "      <td>Switzerland</td>\n",
       "      <td>CHE</td>\n",
       "      <td>1987</td>\n",
       "      <td>6545771</td>\n",
       "      <td>59.733856</td>\n",
       "      <td>9125.564582</td>\n",
       "      <td>9125.564582</td>\n",
       "      <td>9125.564582</td>\n",
       "      <td>Yes</td>\n",
       "    </tr>\n",
       "    <tr>\n",
       "      <th>3</th>\n",
       "      <td>Switzerland</td>\n",
       "      <td>CHE</td>\n",
       "      <td>1988</td>\n",
       "      <td>6594145</td>\n",
       "      <td>60.535755</td>\n",
       "      <td>9180.228066</td>\n",
       "      <td>9180.228066</td>\n",
       "      <td>9180.228066</td>\n",
       "      <td>Yes</td>\n",
       "    </tr>\n",
       "    <tr>\n",
       "      <th>4</th>\n",
       "      <td>Switzerland</td>\n",
       "      <td>CHE</td>\n",
       "      <td>1989</td>\n",
       "      <td>6647786</td>\n",
       "      <td>54.610770</td>\n",
       "      <td>8214.880864</td>\n",
       "      <td>8214.880864</td>\n",
       "      <td>8214.880864</td>\n",
       "      <td>No</td>\n",
       "    </tr>\n",
       "    <tr>\n",
       "      <th>5</th>\n",
       "      <td>Switzerland</td>\n",
       "      <td>CHE</td>\n",
       "      <td>1990</td>\n",
       "      <td>6713167</td>\n",
       "      <td>56.015427</td>\n",
       "      <td>8344.113442</td>\n",
       "      <td>8344.113442</td>\n",
       "      <td>8344.113442</td>\n",
       "      <td>No</td>\n",
       "    </tr>\n",
       "    <tr>\n",
       "      <th>6</th>\n",
       "      <td>Switzerland</td>\n",
       "      <td>CHE</td>\n",
       "      <td>1991</td>\n",
       "      <td>6796942</td>\n",
       "      <td>58.061848</td>\n",
       "      <td>8542.348603</td>\n",
       "      <td>8542.348603</td>\n",
       "      <td>8542.348603</td>\n",
       "      <td>Yes</td>\n",
       "    </tr>\n",
       "    <tr>\n",
       "      <th>7</th>\n",
       "      <td>Switzerland</td>\n",
       "      <td>CHE</td>\n",
       "      <td>1992</td>\n",
       "      <td>6875049</td>\n",
       "      <td>59.517920</td>\n",
       "      <td>8657.090299</td>\n",
       "      <td>8657.090299</td>\n",
       "      <td>8657.090299</td>\n",
       "      <td>Yes</td>\n",
       "    </tr>\n",
       "    <tr>\n",
       "      <th>8</th>\n",
       "      <td>Switzerland</td>\n",
       "      <td>CHE</td>\n",
       "      <td>1993</td>\n",
       "      <td>6938107</td>\n",
       "      <td>61.555614</td>\n",
       "      <td>8872.105028</td>\n",
       "      <td>8872.105028</td>\n",
       "      <td>8872.105028</td>\n",
       "      <td>Yes</td>\n",
       "    </tr>\n",
       "    <tr>\n",
       "      <th>9</th>\n",
       "      <td>Switzerland</td>\n",
       "      <td>CHE</td>\n",
       "      <td>1994</td>\n",
       "      <td>6993594</td>\n",
       "      <td>66.134240</td>\n",
       "      <td>9456.402531</td>\n",
       "      <td>9456.402531</td>\n",
       "      <td>9456.402531</td>\n",
       "      <td>Yes</td>\n",
       "    </tr>\n",
       "    <tr>\n",
       "      <th>10</th>\n",
       "      <td>Switzerland</td>\n",
       "      <td>CHE</td>\n",
       "      <td>1995</td>\n",
       "      <td>7040481</td>\n",
       "      <td>62.862670</td>\n",
       "      <td>8928.746488</td>\n",
       "      <td>8928.746488</td>\n",
       "      <td>8928.746488</td>\n",
       "      <td>Yes</td>\n",
       "    </tr>\n",
       "    <tr>\n",
       "      <th>11</th>\n",
       "      <td>Switzerland</td>\n",
       "      <td>CHE</td>\n",
       "      <td>1996</td>\n",
       "      <td>7071884</td>\n",
       "      <td>57.328350</td>\n",
       "      <td>8106.517301</td>\n",
       "      <td>8106.517301</td>\n",
       "      <td>8106.517301</td>\n",
       "      <td>No</td>\n",
       "    </tr>\n",
       "    <tr>\n",
       "      <th>12</th>\n",
       "      <td>Switzerland</td>\n",
       "      <td>CHE</td>\n",
       "      <td>1997</td>\n",
       "      <td>7089163</td>\n",
       "      <td>62.902084</td>\n",
       "      <td>8872.991635</td>\n",
       "      <td>8872.991635</td>\n",
       "      <td>8872.991635</td>\n",
       "      <td>Yes</td>\n",
       "    </tr>\n",
       "    <tr>\n",
       "      <th>13</th>\n",
       "      <td>Switzerland</td>\n",
       "      <td>CHE</td>\n",
       "      <td>1998</td>\n",
       "      <td>7110294</td>\n",
       "      <td>63.287940</td>\n",
       "      <td>8900.889330</td>\n",
       "      <td>8900.889330</td>\n",
       "      <td>8900.889330</td>\n",
       "      <td>Yes</td>\n",
       "    </tr>\n",
       "    <tr>\n",
       "      <th>14</th>\n",
       "      <td>Switzerland</td>\n",
       "      <td>CHE</td>\n",
       "      <td>1999</td>\n",
       "      <td>7144118</td>\n",
       "      <td>68.617320</td>\n",
       "      <td>9604.729373</td>\n",
       "      <td>9604.729373</td>\n",
       "      <td>9604.729373</td>\n",
       "      <td>Yes</td>\n",
       "    </tr>\n",
       "    <tr>\n",
       "      <th>15</th>\n",
       "      <td>Switzerland</td>\n",
       "      <td>CHE</td>\n",
       "      <td>2000</td>\n",
       "      <td>7184003</td>\n",
       "      <td>66.120000</td>\n",
       "      <td>9203.782348</td>\n",
       "      <td>9203.782348</td>\n",
       "      <td>9203.782348</td>\n",
       "      <td>Yes</td>\n",
       "    </tr>\n",
       "    <tr>\n",
       "      <th>16</th>\n",
       "      <td>Switzerland</td>\n",
       "      <td>CHE</td>\n",
       "      <td>2001</td>\n",
       "      <td>7226391</td>\n",
       "      <td>71.050000</td>\n",
       "      <td>9832.017116</td>\n",
       "      <td>9832.017116</td>\n",
       "      <td>9832.017116</td>\n",
       "      <td>Yes</td>\n",
       "    </tr>\n",
       "    <tr>\n",
       "      <th>17</th>\n",
       "      <td>Switzerland</td>\n",
       "      <td>CHE</td>\n",
       "      <td>2002</td>\n",
       "      <td>7278744</td>\n",
       "      <td>65.410000</td>\n",
       "      <td>8986.440518</td>\n",
       "      <td>8986.440518</td>\n",
       "      <td>8986.440518</td>\n",
       "      <td>Yes</td>\n",
       "    </tr>\n",
       "    <tr>\n",
       "      <th>18</th>\n",
       "      <td>Switzerland</td>\n",
       "      <td>CHE</td>\n",
       "      <td>2003</td>\n",
       "      <td>7333450</td>\n",
       "      <td>65.340000</td>\n",
       "      <td>8909.858252</td>\n",
       "      <td>8909.858252</td>\n",
       "      <td>8909.858252</td>\n",
       "      <td>Yes</td>\n",
       "    </tr>\n",
       "    <tr>\n",
       "      <th>19</th>\n",
       "      <td>Switzerland</td>\n",
       "      <td>CHE</td>\n",
       "      <td>2004</td>\n",
       "      <td>7384196</td>\n",
       "      <td>63.870000</td>\n",
       "      <td>8649.553723</td>\n",
       "      <td>8649.553723</td>\n",
       "      <td>8649.553723</td>\n",
       "      <td>Yes</td>\n",
       "    </tr>\n",
       "    <tr>\n",
       "      <th>20</th>\n",
       "      <td>Switzerland</td>\n",
       "      <td>CHE</td>\n",
       "      <td>2005</td>\n",
       "      <td>7431824</td>\n",
       "      <td>57.800000</td>\n",
       "      <td>7777.363942</td>\n",
       "      <td>7777.363942</td>\n",
       "      <td>7777.363942</td>\n",
       "      <td>No</td>\n",
       "    </tr>\n",
       "    <tr>\n",
       "      <th>21</th>\n",
       "      <td>Switzerland</td>\n",
       "      <td>CHE</td>\n",
       "      <td>2006</td>\n",
       "      <td>7478514</td>\n",
       "      <td>62.130000</td>\n",
       "      <td>8307.800186</td>\n",
       "      <td>8307.800186</td>\n",
       "      <td>8307.800186</td>\n",
       "      <td>No</td>\n",
       "    </tr>\n",
       "    <tr>\n",
       "      <th>22</th>\n",
       "      <td>Switzerland</td>\n",
       "      <td>CHE</td>\n",
       "      <td>2007</td>\n",
       "      <td>7545386</td>\n",
       "      <td>66.430000</td>\n",
       "      <td>8804.055883</td>\n",
       "      <td>8804.055883</td>\n",
       "      <td>8804.055883</td>\n",
       "      <td>Yes</td>\n",
       "    </tr>\n",
       "    <tr>\n",
       "      <th>23</th>\n",
       "      <td>Switzerland</td>\n",
       "      <td>CHE</td>\n",
       "      <td>2008</td>\n",
       "      <td>7641729</td>\n",
       "      <td>67.040000</td>\n",
       "      <td>8772.883728</td>\n",
       "      <td>8772.883728</td>\n",
       "      <td>8772.883728</td>\n",
       "      <td>Yes</td>\n",
       "    </tr>\n",
       "    <tr>\n",
       "      <th>24</th>\n",
       "      <td>Switzerland</td>\n",
       "      <td>CHE</td>\n",
       "      <td>2009</td>\n",
       "      <td>7737642</td>\n",
       "      <td>66.670000</td>\n",
       "      <td>8616.320062</td>\n",
       "      <td>8616.320062</td>\n",
       "      <td>8616.320062</td>\n",
       "      <td>Yes</td>\n",
       "    </tr>\n",
       "    <tr>\n",
       "      <th>25</th>\n",
       "      <td>Switzerland</td>\n",
       "      <td>CHE</td>\n",
       "      <td>2010</td>\n",
       "      <td>7825751</td>\n",
       "      <td>66.050000</td>\n",
       "      <td>8440.084536</td>\n",
       "      <td>8440.084536</td>\n",
       "      <td>8440.084536</td>\n",
       "      <td>No</td>\n",
       "    </tr>\n",
       "    <tr>\n",
       "      <th>26</th>\n",
       "      <td>Switzerland</td>\n",
       "      <td>CHE</td>\n",
       "      <td>2011</td>\n",
       "      <td>7914378</td>\n",
       "      <td>62.880000</td>\n",
       "      <td>7945.033710</td>\n",
       "      <td>7945.033710</td>\n",
       "      <td>7945.033710</td>\n",
       "      <td>No</td>\n",
       "    </tr>\n",
       "    <tr>\n",
       "      <th>27</th>\n",
       "      <td>Switzerland</td>\n",
       "      <td>CHE</td>\n",
       "      <td>2012</td>\n",
       "      <td>7998927</td>\n",
       "      <td>68.130000</td>\n",
       "      <td>8517.392395</td>\n",
       "      <td>8517.392395</td>\n",
       "      <td>8517.392395</td>\n",
       "      <td>Yes</td>\n",
       "    </tr>\n",
       "    <tr>\n",
       "      <th>28</th>\n",
       "      <td>Switzerland</td>\n",
       "      <td>CHE</td>\n",
       "      <td>2013</td>\n",
       "      <td>8091197</td>\n",
       "      <td>68.690000</td>\n",
       "      <td>8489.473189</td>\n",
       "      <td>8489.473189</td>\n",
       "      <td>8489.473189</td>\n",
       "      <td>Yes</td>\n",
       "    </tr>\n",
       "    <tr>\n",
       "      <th>29</th>\n",
       "      <td>Switzerland</td>\n",
       "      <td>CHE</td>\n",
       "      <td>2014</td>\n",
       "      <td>8190238</td>\n",
       "      <td>70.080000</td>\n",
       "      <td>8556.527906</td>\n",
       "      <td>8556.527906</td>\n",
       "      <td>8556.527906</td>\n",
       "      <td>Yes</td>\n",
       "    </tr>\n",
       "    <tr>\n",
       "      <th>30</th>\n",
       "      <td>Switzerland</td>\n",
       "      <td>CHE</td>\n",
       "      <td>2015</td>\n",
       "      <td>8283940</td>\n",
       "      <td>66.070000</td>\n",
       "      <td>7975.673411</td>\n",
       "      <td>7975.673411</td>\n",
       "      <td>7975.673411</td>\n",
       "      <td>No</td>\n",
       "    </tr>\n",
       "    <tr>\n",
       "      <th>31</th>\n",
       "      <td>Switzerland</td>\n",
       "      <td>CHE</td>\n",
       "      <td>2016</td>\n",
       "      <td>8374902</td>\n",
       "      <td>61.100000</td>\n",
       "      <td>7295.607758</td>\n",
       "      <td>7295.607758</td>\n",
       "      <td>7295.607758</td>\n",
       "      <td>No</td>\n",
       "    </tr>\n",
       "    <tr>\n",
       "      <th>32</th>\n",
       "      <td>Switzerland</td>\n",
       "      <td>CHE</td>\n",
       "      <td>2017</td>\n",
       "      <td>8453628</td>\n",
       "      <td>60.150000</td>\n",
       "      <td>7115.288253</td>\n",
       "      <td>7115.288253</td>\n",
       "      <td>7115.288253</td>\n",
       "      <td>No</td>\n",
       "    </tr>\n",
       "    <tr>\n",
       "      <th>33</th>\n",
       "      <td>Switzerland</td>\n",
       "      <td>CHE</td>\n",
       "      <td>2018</td>\n",
       "      <td>8516339</td>\n",
       "      <td>66.290000</td>\n",
       "      <td>7783.861117</td>\n",
       "      <td>7783.861117</td>\n",
       "      <td>7783.861117</td>\n",
       "      <td>No</td>\n",
       "    </tr>\n",
       "    <tr>\n",
       "      <th>34</th>\n",
       "      <td>Switzerland</td>\n",
       "      <td>CHE</td>\n",
       "      <td>2019</td>\n",
       "      <td>8577526</td>\n",
       "      <td>70.570000</td>\n",
       "      <td>8227.314030</td>\n",
       "      <td>8227.314030</td>\n",
       "      <td>8227.314030</td>\n",
       "      <td>No</td>\n",
       "    </tr>\n",
       "    <tr>\n",
       "      <th>35</th>\n",
       "      <td>Switzerland</td>\n",
       "      <td>CHE</td>\n",
       "      <td>2020</td>\n",
       "      <td>8640582</td>\n",
       "      <td>68.490000</td>\n",
       "      <td>7926.549392</td>\n",
       "      <td>7926.549392</td>\n",
       "      <td>7926.549392</td>\n",
       "      <td>No</td>\n",
       "    </tr>\n",
       "    <tr>\n",
       "      <th>36</th>\n",
       "      <td>Switzerland</td>\n",
       "      <td>CHE</td>\n",
       "      <td>2021</td>\n",
       "      <td>8707018</td>\n",
       "      <td>63.100000</td>\n",
       "      <td>7247.027628</td>\n",
       "      <td>7247.027628</td>\n",
       "      <td>7247.027628</td>\n",
       "      <td>No</td>\n",
       "    </tr>\n",
       "    <tr>\n",
       "      <th>37</th>\n",
       "      <td>Switzerland</td>\n",
       "      <td>CHE</td>\n",
       "      <td>2022</td>\n",
       "      <td>8792180</td>\n",
       "      <td>62.270000</td>\n",
       "      <td>7082.430069</td>\n",
       "      <td>7082.430069</td>\n",
       "      <td>7082.430069</td>\n",
       "      <td>No</td>\n",
       "    </tr>\n",
       "    <tr>\n",
       "      <th>38</th>\n",
       "      <td>Switzerland</td>\n",
       "      <td>CHE</td>\n",
       "      <td>2023</td>\n",
       "      <td>8870564</td>\n",
       "      <td>70.890000</td>\n",
       "      <td>7991.600083</td>\n",
       "      <td>7991.600083</td>\n",
       "      <td>7991.600083</td>\n",
       "      <td>No</td>\n",
       "    </tr>\n",
       "  </tbody>\n",
       "</table>\n",
       "</div>"
      ],
      "text/plain": [
       "         Entity Code  Year  Population  Electricity generation - TWh  \\\n",
       "0   Switzerland  CHE  1985     6470959                     56.338123   \n",
       "1   Switzerland  CHE  1986     6504748                     57.410492   \n",
       "2   Switzerland  CHE  1987     6545771                     59.733856   \n",
       "3   Switzerland  CHE  1988     6594145                     60.535755   \n",
       "4   Switzerland  CHE  1989     6647786                     54.610770   \n",
       "5   Switzerland  CHE  1990     6713167                     56.015427   \n",
       "6   Switzerland  CHE  1991     6796942                     58.061848   \n",
       "7   Switzerland  CHE  1992     6875049                     59.517920   \n",
       "8   Switzerland  CHE  1993     6938107                     61.555614   \n",
       "9   Switzerland  CHE  1994     6993594                     66.134240   \n",
       "10  Switzerland  CHE  1995     7040481                     62.862670   \n",
       "11  Switzerland  CHE  1996     7071884                     57.328350   \n",
       "12  Switzerland  CHE  1997     7089163                     62.902084   \n",
       "13  Switzerland  CHE  1998     7110294                     63.287940   \n",
       "14  Switzerland  CHE  1999     7144118                     68.617320   \n",
       "15  Switzerland  CHE  2000     7184003                     66.120000   \n",
       "16  Switzerland  CHE  2001     7226391                     71.050000   \n",
       "17  Switzerland  CHE  2002     7278744                     65.410000   \n",
       "18  Switzerland  CHE  2003     7333450                     65.340000   \n",
       "19  Switzerland  CHE  2004     7384196                     63.870000   \n",
       "20  Switzerland  CHE  2005     7431824                     57.800000   \n",
       "21  Switzerland  CHE  2006     7478514                     62.130000   \n",
       "22  Switzerland  CHE  2007     7545386                     66.430000   \n",
       "23  Switzerland  CHE  2008     7641729                     67.040000   \n",
       "24  Switzerland  CHE  2009     7737642                     66.670000   \n",
       "25  Switzerland  CHE  2010     7825751                     66.050000   \n",
       "26  Switzerland  CHE  2011     7914378                     62.880000   \n",
       "27  Switzerland  CHE  2012     7998927                     68.130000   \n",
       "28  Switzerland  CHE  2013     8091197                     68.690000   \n",
       "29  Switzerland  CHE  2014     8190238                     70.080000   \n",
       "30  Switzerland  CHE  2015     8283940                     66.070000   \n",
       "31  Switzerland  CHE  2016     8374902                     61.100000   \n",
       "32  Switzerland  CHE  2017     8453628                     60.150000   \n",
       "33  Switzerland  CHE  2018     8516339                     66.290000   \n",
       "34  Switzerland  CHE  2019     8577526                     70.570000   \n",
       "35  Switzerland  CHE  2020     8640582                     68.490000   \n",
       "36  Switzerland  CHE  2021     8707018                     63.100000   \n",
       "37  Switzerland  CHE  2022     8792180                     62.270000   \n",
       "38  Switzerland  CHE  2023     8870564                     70.890000   \n",
       "\n",
       "    Production per capita - kWh  Production per capita 2e method - kWh  \\\n",
       "0                   8706.301956                            8706.301956   \n",
       "1                   8825.936378                            8825.936378   \n",
       "2                   9125.564582                            9125.564582   \n",
       "3                   9180.228066                            9180.228066   \n",
       "4                   8214.880864                            8214.880864   \n",
       "5                   8344.113442                            8344.113442   \n",
       "6                   8542.348603                            8542.348603   \n",
       "7                   8657.090299                            8657.090299   \n",
       "8                   8872.105028                            8872.105028   \n",
       "9                   9456.402531                            9456.402531   \n",
       "10                  8928.746488                            8928.746488   \n",
       "11                  8106.517301                            8106.517301   \n",
       "12                  8872.991635                            8872.991635   \n",
       "13                  8900.889330                            8900.889330   \n",
       "14                  9604.729373                            9604.729373   \n",
       "15                  9203.782348                            9203.782348   \n",
       "16                  9832.017116                            9832.017116   \n",
       "17                  8986.440518                            8986.440518   \n",
       "18                  8909.858252                            8909.858252   \n",
       "19                  8649.553723                            8649.553723   \n",
       "20                  7777.363942                            7777.363942   \n",
       "21                  8307.800186                            8307.800186   \n",
       "22                  8804.055883                            8804.055883   \n",
       "23                  8772.883728                            8772.883728   \n",
       "24                  8616.320062                            8616.320062   \n",
       "25                  8440.084536                            8440.084536   \n",
       "26                  7945.033710                            7945.033710   \n",
       "27                  8517.392395                            8517.392395   \n",
       "28                  8489.473189                            8489.473189   \n",
       "29                  8556.527906                            8556.527906   \n",
       "30                  7975.673411                            7975.673411   \n",
       "31                  7295.607758                            7295.607758   \n",
       "32                  7115.288253                            7115.288253   \n",
       "33                  7783.861117                            7783.861117   \n",
       "34                  8227.314030                            8227.314030   \n",
       "35                  7926.549392                            7926.549392   \n",
       "36                  7247.027628                            7247.027628   \n",
       "37                  7082.430069                            7082.430069   \n",
       "38                  7991.600083                            7991.600083   \n",
       "\n",
       "    Production per capita 3e method - kWh Per Capita Up than mean  \n",
       "0                             8706.301956                     Yes  \n",
       "1                             8825.936378                     Yes  \n",
       "2                             9125.564582                     Yes  \n",
       "3                             9180.228066                     Yes  \n",
       "4                             8214.880864                      No  \n",
       "5                             8344.113442                      No  \n",
       "6                             8542.348603                     Yes  \n",
       "7                             8657.090299                     Yes  \n",
       "8                             8872.105028                     Yes  \n",
       "9                             9456.402531                     Yes  \n",
       "10                            8928.746488                     Yes  \n",
       "11                            8106.517301                      No  \n",
       "12                            8872.991635                     Yes  \n",
       "13                            8900.889330                     Yes  \n",
       "14                            9604.729373                     Yes  \n",
       "15                            9203.782348                     Yes  \n",
       "16                            9832.017116                     Yes  \n",
       "17                            8986.440518                     Yes  \n",
       "18                            8909.858252                     Yes  \n",
       "19                            8649.553723                     Yes  \n",
       "20                            7777.363942                      No  \n",
       "21                            8307.800186                      No  \n",
       "22                            8804.055883                     Yes  \n",
       "23                            8772.883728                     Yes  \n",
       "24                            8616.320062                     Yes  \n",
       "25                            8440.084536                      No  \n",
       "26                            7945.033710                      No  \n",
       "27                            8517.392395                     Yes  \n",
       "28                            8489.473189                     Yes  \n",
       "29                            8556.527906                     Yes  \n",
       "30                            7975.673411                      No  \n",
       "31                            7295.607758                      No  \n",
       "32                            7115.288253                      No  \n",
       "33                            7783.861117                      No  \n",
       "34                            8227.314030                      No  \n",
       "35                            7926.549392                      No  \n",
       "36                            7247.027628                      No  \n",
       "37                            7082.430069                      No  \n",
       "38                            7991.600083                      No  "
      ]
     },
     "execution_count": 85,
     "metadata": {},
     "output_type": "execute_result"
    }
   ],
   "source": [
    "mean_production_per_capita = df_swiss_data_inner_join[\n",
    "    \"Production per capita - kWh\"\n",
    "].mean()\n",
    "df_swiss_data_inner_join[\"Per Capita Up than mean\"] = df_swiss_data_inner_join.apply(\n",
    "    lambda row: (\n",
    "        \"Yes\"\n",
    "        if row[\"Production per capita - kWh\"] > mean_production_per_capita\n",
    "        else \"No\"\n",
    "    ),\n",
    "    axis=1,\n",
    ")\n",
    "df_swiss_data_inner_join"
   ]
  },
  {
   "cell_type": "markdown",
   "metadata": {},
   "source": [
    "#### Compare the three methods"
   ]
  },
  {
   "cell_type": "markdown",
   "metadata": {},
   "source": [
    "If we only multiply column, the second method is the simplest."
   ]
  },
  {
   "cell_type": "code",
   "execution_count": 86,
   "metadata": {},
   "outputs": [
    {
     "data": {
      "text/html": [
       "<div>\n",
       "<style scoped>\n",
       "    .dataframe tbody tr th:only-of-type {\n",
       "        vertical-align: middle;\n",
       "    }\n",
       "\n",
       "    .dataframe tbody tr th {\n",
       "        vertical-align: top;\n",
       "    }\n",
       "\n",
       "    .dataframe thead th {\n",
       "        text-align: right;\n",
       "    }\n",
       "</style>\n",
       "<table border=\"1\" class=\"dataframe\">\n",
       "  <thead>\n",
       "    <tr style=\"text-align: right;\">\n",
       "      <th></th>\n",
       "      <th>Year</th>\n",
       "      <th>Production per capita - kWh</th>\n",
       "      <th>Production per capita 2e method - kWh</th>\n",
       "      <th>Production per capita 3e method - kWh</th>\n",
       "    </tr>\n",
       "  </thead>\n",
       "  <tbody>\n",
       "    <tr>\n",
       "      <th>0</th>\n",
       "      <td>1985</td>\n",
       "      <td>8706.301956</td>\n",
       "      <td>8706.301956</td>\n",
       "      <td>8706.301956</td>\n",
       "    </tr>\n",
       "    <tr>\n",
       "      <th>1</th>\n",
       "      <td>1986</td>\n",
       "      <td>8825.936378</td>\n",
       "      <td>8825.936378</td>\n",
       "      <td>8825.936378</td>\n",
       "    </tr>\n",
       "    <tr>\n",
       "      <th>2</th>\n",
       "      <td>1987</td>\n",
       "      <td>9125.564582</td>\n",
       "      <td>9125.564582</td>\n",
       "      <td>9125.564582</td>\n",
       "    </tr>\n",
       "    <tr>\n",
       "      <th>3</th>\n",
       "      <td>1988</td>\n",
       "      <td>9180.228066</td>\n",
       "      <td>9180.228066</td>\n",
       "      <td>9180.228066</td>\n",
       "    </tr>\n",
       "    <tr>\n",
       "      <th>4</th>\n",
       "      <td>1989</td>\n",
       "      <td>8214.880864</td>\n",
       "      <td>8214.880864</td>\n",
       "      <td>8214.880864</td>\n",
       "    </tr>\n",
       "  </tbody>\n",
       "</table>\n",
       "</div>"
      ],
      "text/plain": [
       "   Year  Production per capita - kWh  Production per capita 2e method - kWh  \\\n",
       "0  1985                  8706.301956                            8706.301956   \n",
       "1  1986                  8825.936378                            8825.936378   \n",
       "2  1987                  9125.564582                            9125.564582   \n",
       "3  1988                  9180.228066                            9180.228066   \n",
       "4  1989                  8214.880864                            8214.880864   \n",
       "\n",
       "   Production per capita 3e method - kWh  \n",
       "0                            8706.301956  \n",
       "1                            8825.936378  \n",
       "2                            9125.564582  \n",
       "3                            9180.228066  \n",
       "4                            8214.880864  "
      ]
     },
     "execution_count": 86,
     "metadata": {},
     "output_type": "execute_result"
    }
   ],
   "source": [
    "df_swiss_data_inner_join[\n",
    "    [\n",
    "        \"Year\",\n",
    "        \"Production per capita - kWh\",\n",
    "        \"Production per capita 2e method - kWh\",\n",
    "        \"Production per capita 3e method - kWh\",\n",
    "    ]\n",
    "].loc[0:4]"
   ]
  },
  {
   "cell_type": "markdown",
   "metadata": {},
   "source": [
    "#### Clean dataframe\n"
   ]
  },
  {
   "cell_type": "markdown",
   "metadata": {},
   "source": [
    "Like we can see, the dataframe can have a lots informations inside, it's possible to remove certain column, or just print the part you want.\n",
    "With ``drop`` method"
   ]
  },
  {
   "cell_type": "code",
   "execution_count": 87,
   "metadata": {},
   "outputs": [
    {
     "data": {
      "text/html": [
       "<div>\n",
       "<style scoped>\n",
       "    .dataframe tbody tr th:only-of-type {\n",
       "        vertical-align: middle;\n",
       "    }\n",
       "\n",
       "    .dataframe tbody tr th {\n",
       "        vertical-align: top;\n",
       "    }\n",
       "\n",
       "    .dataframe thead th {\n",
       "        text-align: right;\n",
       "    }\n",
       "</style>\n",
       "<table border=\"1\" class=\"dataframe\">\n",
       "  <thead>\n",
       "    <tr style=\"text-align: right;\">\n",
       "      <th></th>\n",
       "      <th>Year</th>\n",
       "      <th>Population</th>\n",
       "      <th>Electricity generation - TWh</th>\n",
       "      <th>Production per capita - kWh</th>\n",
       "      <th>Production per capita 2e method - kWh</th>\n",
       "      <th>Production per capita 3e method - kWh</th>\n",
       "      <th>Per Capita Up than mean</th>\n",
       "    </tr>\n",
       "  </thead>\n",
       "  <tbody>\n",
       "    <tr>\n",
       "      <th>0</th>\n",
       "      <td>1985</td>\n",
       "      <td>6470959</td>\n",
       "      <td>56.338123</td>\n",
       "      <td>8706.301956</td>\n",
       "      <td>8706.301956</td>\n",
       "      <td>8706.301956</td>\n",
       "      <td>Yes</td>\n",
       "    </tr>\n",
       "    <tr>\n",
       "      <th>1</th>\n",
       "      <td>1986</td>\n",
       "      <td>6504748</td>\n",
       "      <td>57.410492</td>\n",
       "      <td>8825.936378</td>\n",
       "      <td>8825.936378</td>\n",
       "      <td>8825.936378</td>\n",
       "      <td>Yes</td>\n",
       "    </tr>\n",
       "    <tr>\n",
       "      <th>2</th>\n",
       "      <td>1987</td>\n",
       "      <td>6545771</td>\n",
       "      <td>59.733856</td>\n",
       "      <td>9125.564582</td>\n",
       "      <td>9125.564582</td>\n",
       "      <td>9125.564582</td>\n",
       "      <td>Yes</td>\n",
       "    </tr>\n",
       "    <tr>\n",
       "      <th>3</th>\n",
       "      <td>1988</td>\n",
       "      <td>6594145</td>\n",
       "      <td>60.535755</td>\n",
       "      <td>9180.228066</td>\n",
       "      <td>9180.228066</td>\n",
       "      <td>9180.228066</td>\n",
       "      <td>Yes</td>\n",
       "    </tr>\n",
       "    <tr>\n",
       "      <th>4</th>\n",
       "      <td>1989</td>\n",
       "      <td>6647786</td>\n",
       "      <td>54.610770</td>\n",
       "      <td>8214.880864</td>\n",
       "      <td>8214.880864</td>\n",
       "      <td>8214.880864</td>\n",
       "      <td>No</td>\n",
       "    </tr>\n",
       "  </tbody>\n",
       "</table>\n",
       "</div>"
      ],
      "text/plain": [
       "   Year  Population  Electricity generation - TWh  \\\n",
       "0  1985     6470959                     56.338123   \n",
       "1  1986     6504748                     57.410492   \n",
       "2  1987     6545771                     59.733856   \n",
       "3  1988     6594145                     60.535755   \n",
       "4  1989     6647786                     54.610770   \n",
       "\n",
       "   Production per capita - kWh  Production per capita 2e method - kWh  \\\n",
       "0                  8706.301956                            8706.301956   \n",
       "1                  8825.936378                            8825.936378   \n",
       "2                  9125.564582                            9125.564582   \n",
       "3                  9180.228066                            9180.228066   \n",
       "4                  8214.880864                            8214.880864   \n",
       "\n",
       "   Production per capita 3e method - kWh Per Capita Up than mean  \n",
       "0                            8706.301956                     Yes  \n",
       "1                            8825.936378                     Yes  \n",
       "2                            9125.564582                     Yes  \n",
       "3                            9180.228066                     Yes  \n",
       "4                            8214.880864                      No  "
      ]
     },
     "execution_count": 87,
     "metadata": {},
     "output_type": "execute_result"
    }
   ],
   "source": [
    "# One way to remove unwanted column\n",
    "df_swiss_data_clean = df_swiss_data_inner_join.drop(columns=[\"Entity\", \"Code\"])  ###\n",
    "df_swiss_data_clean.loc[0:4]"
   ]
  },
  {
   "cell_type": "markdown",
   "metadata": {},
   "source": [
    "### Plot information"
   ]
  },
  {
   "cell_type": "markdown",
   "metadata": {},
   "source": [
    "Now I would like to visualize the Population and the production per capita over time"
   ]
  },
  {
   "cell_type": "code",
   "execution_count": 88,
   "metadata": {},
   "outputs": [
    {
     "data": {
      "application/vnd.plotly.v1+json": {
       "config": {
        "plotlyServerURL": "https://plot.ly"
       },
       "data": [
        {
         "hovertemplate": "Year=%{x}<br>Production per capita - kWh=%{y}<extra></extra>",
         "legendgroup": "",
         "line": {
          "dash": "solid"
         },
         "marker": {
          "symbol": "circle"
         },
         "mode": "lines",
         "name": "",
         "orientation": "v",
         "showlegend": false,
         "type": "scatter",
         "x": [
          1985,
          1986,
          1987,
          1988,
          1989,
          1990,
          1991,
          1992,
          1993,
          1994,
          1995,
          1996,
          1997,
          1998,
          1999,
          2000,
          2001,
          2002,
          2003,
          2004,
          2005,
          2006,
          2007,
          2008,
          2009,
          2010,
          2011,
          2012,
          2013,
          2014,
          2015,
          2016,
          2017,
          2018,
          2019,
          2020,
          2021,
          2022,
          2023
         ],
         "xaxis": "x",
         "y": [
          8706.30195617064,
          8825.936377550675,
          9125.564582079025,
          9180.228065958514,
          8214.880864095205,
          8344.113441539588,
          8542.348603239516,
          8657.090298556417,
          8872.105028071777,
          9456.402530658772,
          8928.746487633445,
          8106.517301471575,
          8872.991635260749,
          8900.88933031461,
          9604.729373171049,
          9203.782348086437,
          9832.017116151063,
          8986.440517759656,
          8909.858252255079,
          8649.553722571827,
          7777.363941880217,
          8307.800185972776,
          8804.05588262814,
          8772.883728276676,
          8616.320062365252,
          8440.08453629562,
          7945.033709534724,
          8517.392395255014,
          8489.473189195616,
          8556.527905538276,
          7975.673411444311,
          7295.607757559432,
          7115.288252570375,
          7783.8611168484495,
          8227.31402970973,
          7926.5493921590005,
          7247.027627598794,
          7082.430068538179,
          7991.60008315142
         ],
         "yaxis": "y"
        },
        {
         "hovertemplate": "Year=%{x}<br>Population=%{y}<extra></extra>",
         "legendgroup": "",
         "line": {
          "dash": "solid"
         },
         "marker": {
          "symbol": "circle"
         },
         "mode": "lines",
         "name": "",
         "orientation": "v",
         "showlegend": false,
         "type": "scatter",
         "x": [
          1985,
          1986,
          1987,
          1988,
          1989,
          1990,
          1991,
          1992,
          1993,
          1994,
          1995,
          1996,
          1997,
          1998,
          1999,
          2000,
          2001,
          2002,
          2003,
          2004,
          2005,
          2006,
          2007,
          2008,
          2009,
          2010,
          2011,
          2012,
          2013,
          2014,
          2015,
          2016,
          2017,
          2018,
          2019,
          2020,
          2021,
          2022,
          2023
         ],
         "xaxis": "x",
         "y": [
          6470959,
          6504748,
          6545771,
          6594145,
          6647786,
          6713167,
          6796942,
          6875049,
          6938107,
          6993594,
          7040481,
          7071884,
          7089163,
          7110294,
          7144118,
          7184003,
          7226391,
          7278744,
          7333450,
          7384196,
          7431824,
          7478514,
          7545386,
          7641729,
          7737642,
          7825751,
          7914378,
          7998927,
          8091197,
          8190238,
          8283940,
          8374902,
          8453628,
          8516339,
          8577526,
          8640582,
          8707018,
          8792180,
          8870564
         ],
         "yaxis": "y2"
        }
       ],
       "layout": {
        "height": 500,
        "margin": {
         "b": 60,
         "l": 60,
         "r": 60,
         "t": 60
        },
        "template": {
         "data": {
          "bar": [
           {
            "error_x": {
             "color": "#2a3f5f"
            },
            "error_y": {
             "color": "#2a3f5f"
            },
            "marker": {
             "line": {
              "color": "#E5ECF6",
              "width": 0.5
             },
             "pattern": {
              "fillmode": "overlay",
              "size": 10,
              "solidity": 0.2
             }
            },
            "type": "bar"
           }
          ],
          "barpolar": [
           {
            "marker": {
             "line": {
              "color": "#E5ECF6",
              "width": 0.5
             },
             "pattern": {
              "fillmode": "overlay",
              "size": 10,
              "solidity": 0.2
             }
            },
            "type": "barpolar"
           }
          ],
          "carpet": [
           {
            "aaxis": {
             "endlinecolor": "#2a3f5f",
             "gridcolor": "white",
             "linecolor": "white",
             "minorgridcolor": "white",
             "startlinecolor": "#2a3f5f"
            },
            "baxis": {
             "endlinecolor": "#2a3f5f",
             "gridcolor": "white",
             "linecolor": "white",
             "minorgridcolor": "white",
             "startlinecolor": "#2a3f5f"
            },
            "type": "carpet"
           }
          ],
          "choropleth": [
           {
            "colorbar": {
             "outlinewidth": 0,
             "ticks": ""
            },
            "type": "choropleth"
           }
          ],
          "contour": [
           {
            "colorbar": {
             "outlinewidth": 0,
             "ticks": ""
            },
            "colorscale": [
             [
              0,
              "#0d0887"
             ],
             [
              0.1111111111111111,
              "#46039f"
             ],
             [
              0.2222222222222222,
              "#7201a8"
             ],
             [
              0.3333333333333333,
              "#9c179e"
             ],
             [
              0.4444444444444444,
              "#bd3786"
             ],
             [
              0.5555555555555556,
              "#d8576b"
             ],
             [
              0.6666666666666666,
              "#ed7953"
             ],
             [
              0.7777777777777778,
              "#fb9f3a"
             ],
             [
              0.8888888888888888,
              "#fdca26"
             ],
             [
              1,
              "#f0f921"
             ]
            ],
            "type": "contour"
           }
          ],
          "contourcarpet": [
           {
            "colorbar": {
             "outlinewidth": 0,
             "ticks": ""
            },
            "type": "contourcarpet"
           }
          ],
          "heatmap": [
           {
            "colorbar": {
             "outlinewidth": 0,
             "ticks": ""
            },
            "colorscale": [
             [
              0,
              "#0d0887"
             ],
             [
              0.1111111111111111,
              "#46039f"
             ],
             [
              0.2222222222222222,
              "#7201a8"
             ],
             [
              0.3333333333333333,
              "#9c179e"
             ],
             [
              0.4444444444444444,
              "#bd3786"
             ],
             [
              0.5555555555555556,
              "#d8576b"
             ],
             [
              0.6666666666666666,
              "#ed7953"
             ],
             [
              0.7777777777777778,
              "#fb9f3a"
             ],
             [
              0.8888888888888888,
              "#fdca26"
             ],
             [
              1,
              "#f0f921"
             ]
            ],
            "type": "heatmap"
           }
          ],
          "heatmapgl": [
           {
            "colorbar": {
             "outlinewidth": 0,
             "ticks": ""
            },
            "colorscale": [
             [
              0,
              "#0d0887"
             ],
             [
              0.1111111111111111,
              "#46039f"
             ],
             [
              0.2222222222222222,
              "#7201a8"
             ],
             [
              0.3333333333333333,
              "#9c179e"
             ],
             [
              0.4444444444444444,
              "#bd3786"
             ],
             [
              0.5555555555555556,
              "#d8576b"
             ],
             [
              0.6666666666666666,
              "#ed7953"
             ],
             [
              0.7777777777777778,
              "#fb9f3a"
             ],
             [
              0.8888888888888888,
              "#fdca26"
             ],
             [
              1,
              "#f0f921"
             ]
            ],
            "type": "heatmapgl"
           }
          ],
          "histogram": [
           {
            "marker": {
             "pattern": {
              "fillmode": "overlay",
              "size": 10,
              "solidity": 0.2
             }
            },
            "type": "histogram"
           }
          ],
          "histogram2d": [
           {
            "colorbar": {
             "outlinewidth": 0,
             "ticks": ""
            },
            "colorscale": [
             [
              0,
              "#0d0887"
             ],
             [
              0.1111111111111111,
              "#46039f"
             ],
             [
              0.2222222222222222,
              "#7201a8"
             ],
             [
              0.3333333333333333,
              "#9c179e"
             ],
             [
              0.4444444444444444,
              "#bd3786"
             ],
             [
              0.5555555555555556,
              "#d8576b"
             ],
             [
              0.6666666666666666,
              "#ed7953"
             ],
             [
              0.7777777777777778,
              "#fb9f3a"
             ],
             [
              0.8888888888888888,
              "#fdca26"
             ],
             [
              1,
              "#f0f921"
             ]
            ],
            "type": "histogram2d"
           }
          ],
          "histogram2dcontour": [
           {
            "colorbar": {
             "outlinewidth": 0,
             "ticks": ""
            },
            "colorscale": [
             [
              0,
              "#0d0887"
             ],
             [
              0.1111111111111111,
              "#46039f"
             ],
             [
              0.2222222222222222,
              "#7201a8"
             ],
             [
              0.3333333333333333,
              "#9c179e"
             ],
             [
              0.4444444444444444,
              "#bd3786"
             ],
             [
              0.5555555555555556,
              "#d8576b"
             ],
             [
              0.6666666666666666,
              "#ed7953"
             ],
             [
              0.7777777777777778,
              "#fb9f3a"
             ],
             [
              0.8888888888888888,
              "#fdca26"
             ],
             [
              1,
              "#f0f921"
             ]
            ],
            "type": "histogram2dcontour"
           }
          ],
          "mesh3d": [
           {
            "colorbar": {
             "outlinewidth": 0,
             "ticks": ""
            },
            "type": "mesh3d"
           }
          ],
          "parcoords": [
           {
            "line": {
             "colorbar": {
              "outlinewidth": 0,
              "ticks": ""
             }
            },
            "type": "parcoords"
           }
          ],
          "pie": [
           {
            "automargin": true,
            "type": "pie"
           }
          ],
          "scatter": [
           {
            "fillpattern": {
             "fillmode": "overlay",
             "size": 10,
             "solidity": 0.2
            },
            "type": "scatter"
           }
          ],
          "scatter3d": [
           {
            "line": {
             "colorbar": {
              "outlinewidth": 0,
              "ticks": ""
             }
            },
            "marker": {
             "colorbar": {
              "outlinewidth": 0,
              "ticks": ""
             }
            },
            "type": "scatter3d"
           }
          ],
          "scattercarpet": [
           {
            "marker": {
             "colorbar": {
              "outlinewidth": 0,
              "ticks": ""
             }
            },
            "type": "scattercarpet"
           }
          ],
          "scattergeo": [
           {
            "marker": {
             "colorbar": {
              "outlinewidth": 0,
              "ticks": ""
             }
            },
            "type": "scattergeo"
           }
          ],
          "scattergl": [
           {
            "marker": {
             "colorbar": {
              "outlinewidth": 0,
              "ticks": ""
             }
            },
            "type": "scattergl"
           }
          ],
          "scattermapbox": [
           {
            "marker": {
             "colorbar": {
              "outlinewidth": 0,
              "ticks": ""
             }
            },
            "type": "scattermapbox"
           }
          ],
          "scatterpolar": [
           {
            "marker": {
             "colorbar": {
              "outlinewidth": 0,
              "ticks": ""
             }
            },
            "type": "scatterpolar"
           }
          ],
          "scatterpolargl": [
           {
            "marker": {
             "colorbar": {
              "outlinewidth": 0,
              "ticks": ""
             }
            },
            "type": "scatterpolargl"
           }
          ],
          "scatterternary": [
           {
            "marker": {
             "colorbar": {
              "outlinewidth": 0,
              "ticks": ""
             }
            },
            "type": "scatterternary"
           }
          ],
          "surface": [
           {
            "colorbar": {
             "outlinewidth": 0,
             "ticks": ""
            },
            "colorscale": [
             [
              0,
              "#0d0887"
             ],
             [
              0.1111111111111111,
              "#46039f"
             ],
             [
              0.2222222222222222,
              "#7201a8"
             ],
             [
              0.3333333333333333,
              "#9c179e"
             ],
             [
              0.4444444444444444,
              "#bd3786"
             ],
             [
              0.5555555555555556,
              "#d8576b"
             ],
             [
              0.6666666666666666,
              "#ed7953"
             ],
             [
              0.7777777777777778,
              "#fb9f3a"
             ],
             [
              0.8888888888888888,
              "#fdca26"
             ],
             [
              1,
              "#f0f921"
             ]
            ],
            "type": "surface"
           }
          ],
          "table": [
           {
            "cells": {
             "fill": {
              "color": "#EBF0F8"
             },
             "line": {
              "color": "white"
             }
            },
            "header": {
             "fill": {
              "color": "#C8D4E3"
             },
             "line": {
              "color": "white"
             }
            },
            "type": "table"
           }
          ]
         },
         "layout": {
          "annotationdefaults": {
           "arrowcolor": "#2a3f5f",
           "arrowhead": 0,
           "arrowwidth": 1
          },
          "autotypenumbers": "strict",
          "coloraxis": {
           "colorbar": {
            "outlinewidth": 0,
            "ticks": ""
           }
          },
          "colorscale": {
           "diverging": [
            [
             0,
             "#8e0152"
            ],
            [
             0.1,
             "#c51b7d"
            ],
            [
             0.2,
             "#de77ae"
            ],
            [
             0.3,
             "#f1b6da"
            ],
            [
             0.4,
             "#fde0ef"
            ],
            [
             0.5,
             "#f7f7f7"
            ],
            [
             0.6,
             "#e6f5d0"
            ],
            [
             0.7,
             "#b8e186"
            ],
            [
             0.8,
             "#7fbc41"
            ],
            [
             0.9,
             "#4d9221"
            ],
            [
             1,
             "#276419"
            ]
           ],
           "sequential": [
            [
             0,
             "#0d0887"
            ],
            [
             0.1111111111111111,
             "#46039f"
            ],
            [
             0.2222222222222222,
             "#7201a8"
            ],
            [
             0.3333333333333333,
             "#9c179e"
            ],
            [
             0.4444444444444444,
             "#bd3786"
            ],
            [
             0.5555555555555556,
             "#d8576b"
            ],
            [
             0.6666666666666666,
             "#ed7953"
            ],
            [
             0.7777777777777778,
             "#fb9f3a"
            ],
            [
             0.8888888888888888,
             "#fdca26"
            ],
            [
             1,
             "#f0f921"
            ]
           ],
           "sequentialminus": [
            [
             0,
             "#0d0887"
            ],
            [
             0.1111111111111111,
             "#46039f"
            ],
            [
             0.2222222222222222,
             "#7201a8"
            ],
            [
             0.3333333333333333,
             "#9c179e"
            ],
            [
             0.4444444444444444,
             "#bd3786"
            ],
            [
             0.5555555555555556,
             "#d8576b"
            ],
            [
             0.6666666666666666,
             "#ed7953"
            ],
            [
             0.7777777777777778,
             "#fb9f3a"
            ],
            [
             0.8888888888888888,
             "#fdca26"
            ],
            [
             1,
             "#f0f921"
            ]
           ]
          },
          "colorway": [
           "#636efa",
           "#EF553B",
           "#00cc96",
           "#ab63fa",
           "#FFA15A",
           "#19d3f3",
           "#FF6692",
           "#B6E880",
           "#FF97FF",
           "#FECB52"
          ],
          "font": {
           "color": "#2a3f5f"
          },
          "geo": {
           "bgcolor": "white",
           "lakecolor": "white",
           "landcolor": "#E5ECF6",
           "showlakes": true,
           "showland": true,
           "subunitcolor": "white"
          },
          "hoverlabel": {
           "align": "left"
          },
          "hovermode": "closest",
          "mapbox": {
           "style": "light"
          },
          "paper_bgcolor": "white",
          "plot_bgcolor": "#E5ECF6",
          "polar": {
           "angularaxis": {
            "gridcolor": "white",
            "linecolor": "white",
            "ticks": ""
           },
           "bgcolor": "#E5ECF6",
           "radialaxis": {
            "gridcolor": "white",
            "linecolor": "white",
            "ticks": ""
           }
          },
          "scene": {
           "xaxis": {
            "backgroundcolor": "#E5ECF6",
            "gridcolor": "white",
            "gridwidth": 2,
            "linecolor": "white",
            "showbackground": true,
            "ticks": "",
            "zerolinecolor": "white"
           },
           "yaxis": {
            "backgroundcolor": "#E5ECF6",
            "gridcolor": "white",
            "gridwidth": 2,
            "linecolor": "white",
            "showbackground": true,
            "ticks": "",
            "zerolinecolor": "white"
           },
           "zaxis": {
            "backgroundcolor": "#E5ECF6",
            "gridcolor": "white",
            "gridwidth": 2,
            "linecolor": "white",
            "showbackground": true,
            "ticks": "",
            "zerolinecolor": "white"
           }
          },
          "shapedefaults": {
           "line": {
            "color": "#2a3f5f"
           }
          },
          "ternary": {
           "aaxis": {
            "gridcolor": "white",
            "linecolor": "white",
            "ticks": ""
           },
           "baxis": {
            "gridcolor": "white",
            "linecolor": "white",
            "ticks": ""
           },
           "bgcolor": "#E5ECF6",
           "caxis": {
            "gridcolor": "white",
            "linecolor": "white",
            "ticks": ""
           }
          },
          "title": {
           "x": 0.05
          },
          "xaxis": {
           "automargin": true,
           "gridcolor": "white",
           "linecolor": "white",
           "ticks": "",
           "title": {
            "standoff": 15
           },
           "zerolinecolor": "white",
           "zerolinewidth": 2
          },
          "yaxis": {
           "automargin": true,
           "gridcolor": "white",
           "linecolor": "white",
           "ticks": "",
           "title": {
            "standoff": 15
           },
           "zerolinecolor": "white",
           "zerolinewidth": 2
          }
         }
        },
        "width": 800,
        "xaxis": {
         "anchor": "y",
         "domain": [
          0,
          0.94
         ],
         "title": {
          "text": "Time"
         }
        },
        "yaxis": {
         "anchor": "x",
         "domain": [
          0,
          1
         ],
         "title": {
          "text": "Production per capita - kWh"
         }
        },
        "yaxis2": {
         "anchor": "x",
         "overlaying": "y",
         "side": "right",
         "title": {
          "text": "Population"
         }
        }
       }
      },
      "text/html": [
       "<div>                            <div id=\"2993ac2a-9601-4f35-bac4-12d0df18a655\" class=\"plotly-graph-div\" style=\"height:500px; width:800px;\"></div>            <script type=\"text/javascript\">                require([\"plotly\"], function(Plotly) {                    window.PLOTLYENV=window.PLOTLYENV || {};                                    if (document.getElementById(\"2993ac2a-9601-4f35-bac4-12d0df18a655\")) {                    Plotly.newPlot(                        \"2993ac2a-9601-4f35-bac4-12d0df18a655\",                        [{\"hovertemplate\":\"Year=%{x}\\u003cbr\\u003eProduction per capita - kWh=%{y}\\u003cextra\\u003e\\u003c\\u002fextra\\u003e\",\"legendgroup\":\"\",\"line\":{\"dash\":\"solid\"},\"marker\":{\"symbol\":\"circle\"},\"mode\":\"lines\",\"name\":\"\",\"orientation\":\"v\",\"showlegend\":false,\"x\":[1985,1986,1987,1988,1989,1990,1991,1992,1993,1994,1995,1996,1997,1998,1999,2000,2001,2002,2003,2004,2005,2006,2007,2008,2009,2010,2011,2012,2013,2014,2015,2016,2017,2018,2019,2020,2021,2022,2023],\"xaxis\":\"x\",\"y\":[8706.30195617064,8825.936377550675,9125.564582079025,9180.228065958514,8214.880864095205,8344.113441539588,8542.348603239516,8657.090298556417,8872.105028071777,9456.402530658772,8928.746487633445,8106.517301471575,8872.991635260749,8900.88933031461,9604.729373171049,9203.782348086437,9832.017116151063,8986.440517759656,8909.858252255079,8649.553722571827,7777.363941880217,8307.800185972776,8804.05588262814,8772.883728276676,8616.320062365252,8440.08453629562,7945.033709534724,8517.392395255014,8489.473189195616,8556.527905538276,7975.673411444311,7295.607757559432,7115.288252570375,7783.8611168484495,8227.31402970973,7926.5493921590005,7247.027627598794,7082.430068538179,7991.60008315142],\"yaxis\":\"y\",\"type\":\"scatter\"},{\"hovertemplate\":\"Year=%{x}\\u003cbr\\u003ePopulation=%{y}\\u003cextra\\u003e\\u003c\\u002fextra\\u003e\",\"legendgroup\":\"\",\"line\":{\"dash\":\"solid\"},\"marker\":{\"symbol\":\"circle\"},\"mode\":\"lines\",\"name\":\"\",\"orientation\":\"v\",\"showlegend\":false,\"x\":[1985,1986,1987,1988,1989,1990,1991,1992,1993,1994,1995,1996,1997,1998,1999,2000,2001,2002,2003,2004,2005,2006,2007,2008,2009,2010,2011,2012,2013,2014,2015,2016,2017,2018,2019,2020,2021,2022,2023],\"xaxis\":\"x\",\"y\":[6470959,6504748,6545771,6594145,6647786,6713167,6796942,6875049,6938107,6993594,7040481,7071884,7089163,7110294,7144118,7184003,7226391,7278744,7333450,7384196,7431824,7478514,7545386,7641729,7737642,7825751,7914378,7998927,8091197,8190238,8283940,8374902,8453628,8516339,8577526,8640582,8707018,8792180,8870564],\"yaxis\":\"y2\",\"type\":\"scatter\"}],                        {\"template\":{\"data\":{\"histogram2dcontour\":[{\"type\":\"histogram2dcontour\",\"colorbar\":{\"outlinewidth\":0,\"ticks\":\"\"},\"colorscale\":[[0.0,\"#0d0887\"],[0.1111111111111111,\"#46039f\"],[0.2222222222222222,\"#7201a8\"],[0.3333333333333333,\"#9c179e\"],[0.4444444444444444,\"#bd3786\"],[0.5555555555555556,\"#d8576b\"],[0.6666666666666666,\"#ed7953\"],[0.7777777777777778,\"#fb9f3a\"],[0.8888888888888888,\"#fdca26\"],[1.0,\"#f0f921\"]]}],\"choropleth\":[{\"type\":\"choropleth\",\"colorbar\":{\"outlinewidth\":0,\"ticks\":\"\"}}],\"histogram2d\":[{\"type\":\"histogram2d\",\"colorbar\":{\"outlinewidth\":0,\"ticks\":\"\"},\"colorscale\":[[0.0,\"#0d0887\"],[0.1111111111111111,\"#46039f\"],[0.2222222222222222,\"#7201a8\"],[0.3333333333333333,\"#9c179e\"],[0.4444444444444444,\"#bd3786\"],[0.5555555555555556,\"#d8576b\"],[0.6666666666666666,\"#ed7953\"],[0.7777777777777778,\"#fb9f3a\"],[0.8888888888888888,\"#fdca26\"],[1.0,\"#f0f921\"]]}],\"heatmap\":[{\"type\":\"heatmap\",\"colorbar\":{\"outlinewidth\":0,\"ticks\":\"\"},\"colorscale\":[[0.0,\"#0d0887\"],[0.1111111111111111,\"#46039f\"],[0.2222222222222222,\"#7201a8\"],[0.3333333333333333,\"#9c179e\"],[0.4444444444444444,\"#bd3786\"],[0.5555555555555556,\"#d8576b\"],[0.6666666666666666,\"#ed7953\"],[0.7777777777777778,\"#fb9f3a\"],[0.8888888888888888,\"#fdca26\"],[1.0,\"#f0f921\"]]}],\"heatmapgl\":[{\"type\":\"heatmapgl\",\"colorbar\":{\"outlinewidth\":0,\"ticks\":\"\"},\"colorscale\":[[0.0,\"#0d0887\"],[0.1111111111111111,\"#46039f\"],[0.2222222222222222,\"#7201a8\"],[0.3333333333333333,\"#9c179e\"],[0.4444444444444444,\"#bd3786\"],[0.5555555555555556,\"#d8576b\"],[0.6666666666666666,\"#ed7953\"],[0.7777777777777778,\"#fb9f3a\"],[0.8888888888888888,\"#fdca26\"],[1.0,\"#f0f921\"]]}],\"contourcarpet\":[{\"type\":\"contourcarpet\",\"colorbar\":{\"outlinewidth\":0,\"ticks\":\"\"}}],\"contour\":[{\"type\":\"contour\",\"colorbar\":{\"outlinewidth\":0,\"ticks\":\"\"},\"colorscale\":[[0.0,\"#0d0887\"],[0.1111111111111111,\"#46039f\"],[0.2222222222222222,\"#7201a8\"],[0.3333333333333333,\"#9c179e\"],[0.4444444444444444,\"#bd3786\"],[0.5555555555555556,\"#d8576b\"],[0.6666666666666666,\"#ed7953\"],[0.7777777777777778,\"#fb9f3a\"],[0.8888888888888888,\"#fdca26\"],[1.0,\"#f0f921\"]]}],\"surface\":[{\"type\":\"surface\",\"colorbar\":{\"outlinewidth\":0,\"ticks\":\"\"},\"colorscale\":[[0.0,\"#0d0887\"],[0.1111111111111111,\"#46039f\"],[0.2222222222222222,\"#7201a8\"],[0.3333333333333333,\"#9c179e\"],[0.4444444444444444,\"#bd3786\"],[0.5555555555555556,\"#d8576b\"],[0.6666666666666666,\"#ed7953\"],[0.7777777777777778,\"#fb9f3a\"],[0.8888888888888888,\"#fdca26\"],[1.0,\"#f0f921\"]]}],\"mesh3d\":[{\"type\":\"mesh3d\",\"colorbar\":{\"outlinewidth\":0,\"ticks\":\"\"}}],\"scatter\":[{\"fillpattern\":{\"fillmode\":\"overlay\",\"size\":10,\"solidity\":0.2},\"type\":\"scatter\"}],\"parcoords\":[{\"type\":\"parcoords\",\"line\":{\"colorbar\":{\"outlinewidth\":0,\"ticks\":\"\"}}}],\"scatterpolargl\":[{\"type\":\"scatterpolargl\",\"marker\":{\"colorbar\":{\"outlinewidth\":0,\"ticks\":\"\"}}}],\"bar\":[{\"error_x\":{\"color\":\"#2a3f5f\"},\"error_y\":{\"color\":\"#2a3f5f\"},\"marker\":{\"line\":{\"color\":\"#E5ECF6\",\"width\":0.5},\"pattern\":{\"fillmode\":\"overlay\",\"size\":10,\"solidity\":0.2}},\"type\":\"bar\"}],\"scattergeo\":[{\"type\":\"scattergeo\",\"marker\":{\"colorbar\":{\"outlinewidth\":0,\"ticks\":\"\"}}}],\"scatterpolar\":[{\"type\":\"scatterpolar\",\"marker\":{\"colorbar\":{\"outlinewidth\":0,\"ticks\":\"\"}}}],\"histogram\":[{\"marker\":{\"pattern\":{\"fillmode\":\"overlay\",\"size\":10,\"solidity\":0.2}},\"type\":\"histogram\"}],\"scattergl\":[{\"type\":\"scattergl\",\"marker\":{\"colorbar\":{\"outlinewidth\":0,\"ticks\":\"\"}}}],\"scatter3d\":[{\"type\":\"scatter3d\",\"line\":{\"colorbar\":{\"outlinewidth\":0,\"ticks\":\"\"}},\"marker\":{\"colorbar\":{\"outlinewidth\":0,\"ticks\":\"\"}}}],\"scattermapbox\":[{\"type\":\"scattermapbox\",\"marker\":{\"colorbar\":{\"outlinewidth\":0,\"ticks\":\"\"}}}],\"scatterternary\":[{\"type\":\"scatterternary\",\"marker\":{\"colorbar\":{\"outlinewidth\":0,\"ticks\":\"\"}}}],\"scattercarpet\":[{\"type\":\"scattercarpet\",\"marker\":{\"colorbar\":{\"outlinewidth\":0,\"ticks\":\"\"}}}],\"carpet\":[{\"aaxis\":{\"endlinecolor\":\"#2a3f5f\",\"gridcolor\":\"white\",\"linecolor\":\"white\",\"minorgridcolor\":\"white\",\"startlinecolor\":\"#2a3f5f\"},\"baxis\":{\"endlinecolor\":\"#2a3f5f\",\"gridcolor\":\"white\",\"linecolor\":\"white\",\"minorgridcolor\":\"white\",\"startlinecolor\":\"#2a3f5f\"},\"type\":\"carpet\"}],\"table\":[{\"cells\":{\"fill\":{\"color\":\"#EBF0F8\"},\"line\":{\"color\":\"white\"}},\"header\":{\"fill\":{\"color\":\"#C8D4E3\"},\"line\":{\"color\":\"white\"}},\"type\":\"table\"}],\"barpolar\":[{\"marker\":{\"line\":{\"color\":\"#E5ECF6\",\"width\":0.5},\"pattern\":{\"fillmode\":\"overlay\",\"size\":10,\"solidity\":0.2}},\"type\":\"barpolar\"}],\"pie\":[{\"automargin\":true,\"type\":\"pie\"}]},\"layout\":{\"autotypenumbers\":\"strict\",\"colorway\":[\"#636efa\",\"#EF553B\",\"#00cc96\",\"#ab63fa\",\"#FFA15A\",\"#19d3f3\",\"#FF6692\",\"#B6E880\",\"#FF97FF\",\"#FECB52\"],\"font\":{\"color\":\"#2a3f5f\"},\"hovermode\":\"closest\",\"hoverlabel\":{\"align\":\"left\"},\"paper_bgcolor\":\"white\",\"plot_bgcolor\":\"#E5ECF6\",\"polar\":{\"bgcolor\":\"#E5ECF6\",\"angularaxis\":{\"gridcolor\":\"white\",\"linecolor\":\"white\",\"ticks\":\"\"},\"radialaxis\":{\"gridcolor\":\"white\",\"linecolor\":\"white\",\"ticks\":\"\"}},\"ternary\":{\"bgcolor\":\"#E5ECF6\",\"aaxis\":{\"gridcolor\":\"white\",\"linecolor\":\"white\",\"ticks\":\"\"},\"baxis\":{\"gridcolor\":\"white\",\"linecolor\":\"white\",\"ticks\":\"\"},\"caxis\":{\"gridcolor\":\"white\",\"linecolor\":\"white\",\"ticks\":\"\"}},\"coloraxis\":{\"colorbar\":{\"outlinewidth\":0,\"ticks\":\"\"}},\"colorscale\":{\"sequential\":[[0.0,\"#0d0887\"],[0.1111111111111111,\"#46039f\"],[0.2222222222222222,\"#7201a8\"],[0.3333333333333333,\"#9c179e\"],[0.4444444444444444,\"#bd3786\"],[0.5555555555555556,\"#d8576b\"],[0.6666666666666666,\"#ed7953\"],[0.7777777777777778,\"#fb9f3a\"],[0.8888888888888888,\"#fdca26\"],[1.0,\"#f0f921\"]],\"sequentialminus\":[[0.0,\"#0d0887\"],[0.1111111111111111,\"#46039f\"],[0.2222222222222222,\"#7201a8\"],[0.3333333333333333,\"#9c179e\"],[0.4444444444444444,\"#bd3786\"],[0.5555555555555556,\"#d8576b\"],[0.6666666666666666,\"#ed7953\"],[0.7777777777777778,\"#fb9f3a\"],[0.8888888888888888,\"#fdca26\"],[1.0,\"#f0f921\"]],\"diverging\":[[0,\"#8e0152\"],[0.1,\"#c51b7d\"],[0.2,\"#de77ae\"],[0.3,\"#f1b6da\"],[0.4,\"#fde0ef\"],[0.5,\"#f7f7f7\"],[0.6,\"#e6f5d0\"],[0.7,\"#b8e186\"],[0.8,\"#7fbc41\"],[0.9,\"#4d9221\"],[1,\"#276419\"]]},\"xaxis\":{\"gridcolor\":\"white\",\"linecolor\":\"white\",\"ticks\":\"\",\"title\":{\"standoff\":15},\"zerolinecolor\":\"white\",\"automargin\":true,\"zerolinewidth\":2},\"yaxis\":{\"gridcolor\":\"white\",\"linecolor\":\"white\",\"ticks\":\"\",\"title\":{\"standoff\":15},\"zerolinecolor\":\"white\",\"automargin\":true,\"zerolinewidth\":2},\"scene\":{\"xaxis\":{\"backgroundcolor\":\"#E5ECF6\",\"gridcolor\":\"white\",\"linecolor\":\"white\",\"showbackground\":true,\"ticks\":\"\",\"zerolinecolor\":\"white\",\"gridwidth\":2},\"yaxis\":{\"backgroundcolor\":\"#E5ECF6\",\"gridcolor\":\"white\",\"linecolor\":\"white\",\"showbackground\":true,\"ticks\":\"\",\"zerolinecolor\":\"white\",\"gridwidth\":2},\"zaxis\":{\"backgroundcolor\":\"#E5ECF6\",\"gridcolor\":\"white\",\"linecolor\":\"white\",\"showbackground\":true,\"ticks\":\"\",\"zerolinecolor\":\"white\",\"gridwidth\":2}},\"shapedefaults\":{\"line\":{\"color\":\"#2a3f5f\"}},\"annotationdefaults\":{\"arrowcolor\":\"#2a3f5f\",\"arrowhead\":0,\"arrowwidth\":1},\"geo\":{\"bgcolor\":\"white\",\"landcolor\":\"#E5ECF6\",\"subunitcolor\":\"white\",\"showland\":true,\"showlakes\":true,\"lakecolor\":\"white\"},\"title\":{\"x\":0.05},\"mapbox\":{\"style\":\"light\"}}},\"xaxis\":{\"anchor\":\"y\",\"domain\":[0.0,0.94],\"title\":{\"text\":\"Time\"}},\"yaxis\":{\"anchor\":\"x\",\"domain\":[0.0,1.0],\"title\":{\"text\":\"Production per capita - kWh\"}},\"yaxis2\":{\"anchor\":\"x\",\"overlaying\":\"y\",\"side\":\"right\",\"title\":{\"text\":\"Population\"}},\"margin\":{\"l\":60,\"r\":60,\"t\":60,\"b\":60},\"width\":800,\"height\":500},                        {\"responsive\": true}                    ).then(function(){\n",
       "                            \n",
       "var gd = document.getElementById('2993ac2a-9601-4f35-bac4-12d0df18a655');\n",
       "var x = new MutationObserver(function (mutations, observer) {{\n",
       "        var display = window.getComputedStyle(gd).display;\n",
       "        if (!display || display === 'none') {{\n",
       "            console.log([gd, 'removed!']);\n",
       "            Plotly.purge(gd);\n",
       "            observer.disconnect();\n",
       "        }}\n",
       "}});\n",
       "\n",
       "// Listen for the removal of the full notebook cells\n",
       "var notebookContainer = gd.closest('#notebook-container');\n",
       "if (notebookContainer) {{\n",
       "    x.observe(notebookContainer, {childList: true});\n",
       "}}\n",
       "\n",
       "// Listen for the clearing of the current output cell\n",
       "var outputEl = gd.closest('.output');\n",
       "if (outputEl) {{\n",
       "    x.observe(outputEl, {childList: true});\n",
       "}}\n",
       "\n",
       "                        })                };                });            </script>        </div>"
      ]
     },
     "metadata": {},
     "output_type": "display_data"
    }
   ],
   "source": [
    "# Create a subplot to add a secondary Y axis\n",
    "subfig = make_subplots(specs=[[{\"secondary_y\": True}]])\n",
    "# Create the line plot\n",
    "# fig=px.line(df_swiss_data_clean, x=\"Year\",y=[\"Population\",\"Production per capita - kWh\"], title=\"Production per capita and population evolution in Switzerland\", labels={\"Population\":\"Population\",\"Year\":\"Year\"})\n",
    "fig = px.line(\n",
    "    df_swiss_data_clean,\n",
    "    x=\"Year\",\n",
    "    y=\"Production per capita - kWh\",\n",
    "    title=\"Production per capita and population evolution in Switzerland\",\n",
    "    labels={\"Population\": \"Population\", \"Year\": \"Year\"},\n",
    ")\n",
    "fig2 = px.line(\n",
    "    df_swiss_data_clean,\n",
    "    x=\"Year\",\n",
    "    y=\"Population\",\n",
    "    title=\"Production per capita and population evolution in Switzerland\",\n",
    "    labels={\"Population\": \"Population\", \"Year\": \"Year\"},\n",
    ")\n",
    "fig2.update_traces(yaxis=\"y2\")\n",
    "subfig.add_traces(fig.data + fig2.data)\n",
    "# To format figure\n",
    "subfig.update_layout(margin=dict(l=60, r=60, t=60, b=60), width=800, height=500)\n",
    "\n",
    "subfig.layout.xaxis.title = \"Time\"\n",
    "subfig.layout.yaxis.title = \"Production per capita - kWh\"\n",
    "subfig.layout.yaxis2.title = \"Population\"\n",
    "# Show plot\n",
    "subfig.for_each_trace(\n",
    "    lambda t: t.update(line=dict(color=t.marker.color))\n",
    ")  # Change color of each line on the plot\n",
    "subfig.show()"
   ]
  },
  {
   "cell_type": "markdown",
   "metadata": {},
   "source": [
    "#### Chat GPT solution"
   ]
  },
  {
   "cell_type": "code",
   "execution_count": 89,
   "metadata": {},
   "outputs": [
    {
     "data": {
      "application/vnd.plotly.v1+json": {
       "config": {
        "plotlyServerURL": "https://plot.ly"
       },
       "data": [
        {
         "hovertemplate": "Year=%{x}<br>Population=%{y}<extra></extra>",
         "legendgroup": "",
         "line": {
          "color": "#636efa",
          "dash": "solid"
         },
         "marker": {
          "symbol": "circle"
         },
         "mode": "lines",
         "name": "",
         "orientation": "v",
         "showlegend": false,
         "type": "scatter",
         "x": [
          1985,
          1986,
          1987,
          1988,
          1989,
          1990,
          1991,
          1992,
          1993,
          1994,
          1995,
          1996,
          1997,
          1998,
          1999,
          2000,
          2001,
          2002,
          2003,
          2004,
          2005,
          2006,
          2007,
          2008,
          2009,
          2010,
          2011,
          2012,
          2013,
          2014,
          2015,
          2016,
          2017,
          2018,
          2019,
          2020,
          2021,
          2022,
          2023
         ],
         "xaxis": "x",
         "y": [
          6470959,
          6504748,
          6545771,
          6594145,
          6647786,
          6713167,
          6796942,
          6875049,
          6938107,
          6993594,
          7040481,
          7071884,
          7089163,
          7110294,
          7144118,
          7184003,
          7226391,
          7278744,
          7333450,
          7384196,
          7431824,
          7478514,
          7545386,
          7641729,
          7737642,
          7825751,
          7914378,
          7998927,
          8091197,
          8190238,
          8283940,
          8374902,
          8453628,
          8516339,
          8577526,
          8640582,
          8707018,
          8792180,
          8870564
         ],
         "yaxis": "y"
        },
        {
         "mode": "lines",
         "name": "Production per capita - kWh",
         "type": "scatter",
         "x": [
          1985,
          1986,
          1987,
          1988,
          1989,
          1990,
          1991,
          1992,
          1993,
          1994,
          1995,
          1996,
          1997,
          1998,
          1999,
          2000,
          2001,
          2002,
          2003,
          2004,
          2005,
          2006,
          2007,
          2008,
          2009,
          2010,
          2011,
          2012,
          2013,
          2014,
          2015,
          2016,
          2017,
          2018,
          2019,
          2020,
          2021,
          2022,
          2023
         ],
         "y": [
          8706.30195617064,
          8825.936377550675,
          9125.564582079025,
          9180.228065958514,
          8214.880864095205,
          8344.113441539588,
          8542.348603239516,
          8657.090298556417,
          8872.105028071777,
          9456.402530658772,
          8928.746487633445,
          8106.517301471575,
          8872.991635260749,
          8900.88933031461,
          9604.729373171049,
          9203.782348086437,
          9832.017116151063,
          8986.440517759656,
          8909.858252255079,
          8649.553722571827,
          7777.363941880217,
          8307.800185972776,
          8804.05588262814,
          8772.883728276676,
          8616.320062365252,
          8440.08453629562,
          7945.033709534724,
          8517.392395255014,
          8489.473189195616,
          8556.527905538276,
          7975.673411444311,
          7295.607757559432,
          7115.288252570375,
          7783.8611168484495,
          8227.31402970973,
          7926.5493921590005,
          7247.027627598794,
          7082.430068538179,
          7991.60008315142
         ],
         "yaxis": "y2"
        }
       ],
       "layout": {
        "height": 500,
        "legend": {
         "tracegroupgap": 0,
         "x": 0.1,
         "y": 0.9
        },
        "margin": {
         "b": 60,
         "l": 60,
         "r": 60,
         "t": 60
        },
        "template": {
         "data": {
          "bar": [
           {
            "error_x": {
             "color": "#2a3f5f"
            },
            "error_y": {
             "color": "#2a3f5f"
            },
            "marker": {
             "line": {
              "color": "#E5ECF6",
              "width": 0.5
             },
             "pattern": {
              "fillmode": "overlay",
              "size": 10,
              "solidity": 0.2
             }
            },
            "type": "bar"
           }
          ],
          "barpolar": [
           {
            "marker": {
             "line": {
              "color": "#E5ECF6",
              "width": 0.5
             },
             "pattern": {
              "fillmode": "overlay",
              "size": 10,
              "solidity": 0.2
             }
            },
            "type": "barpolar"
           }
          ],
          "carpet": [
           {
            "aaxis": {
             "endlinecolor": "#2a3f5f",
             "gridcolor": "white",
             "linecolor": "white",
             "minorgridcolor": "white",
             "startlinecolor": "#2a3f5f"
            },
            "baxis": {
             "endlinecolor": "#2a3f5f",
             "gridcolor": "white",
             "linecolor": "white",
             "minorgridcolor": "white",
             "startlinecolor": "#2a3f5f"
            },
            "type": "carpet"
           }
          ],
          "choropleth": [
           {
            "colorbar": {
             "outlinewidth": 0,
             "ticks": ""
            },
            "type": "choropleth"
           }
          ],
          "contour": [
           {
            "colorbar": {
             "outlinewidth": 0,
             "ticks": ""
            },
            "colorscale": [
             [
              0,
              "#0d0887"
             ],
             [
              0.1111111111111111,
              "#46039f"
             ],
             [
              0.2222222222222222,
              "#7201a8"
             ],
             [
              0.3333333333333333,
              "#9c179e"
             ],
             [
              0.4444444444444444,
              "#bd3786"
             ],
             [
              0.5555555555555556,
              "#d8576b"
             ],
             [
              0.6666666666666666,
              "#ed7953"
             ],
             [
              0.7777777777777778,
              "#fb9f3a"
             ],
             [
              0.8888888888888888,
              "#fdca26"
             ],
             [
              1,
              "#f0f921"
             ]
            ],
            "type": "contour"
           }
          ],
          "contourcarpet": [
           {
            "colorbar": {
             "outlinewidth": 0,
             "ticks": ""
            },
            "type": "contourcarpet"
           }
          ],
          "heatmap": [
           {
            "colorbar": {
             "outlinewidth": 0,
             "ticks": ""
            },
            "colorscale": [
             [
              0,
              "#0d0887"
             ],
             [
              0.1111111111111111,
              "#46039f"
             ],
             [
              0.2222222222222222,
              "#7201a8"
             ],
             [
              0.3333333333333333,
              "#9c179e"
             ],
             [
              0.4444444444444444,
              "#bd3786"
             ],
             [
              0.5555555555555556,
              "#d8576b"
             ],
             [
              0.6666666666666666,
              "#ed7953"
             ],
             [
              0.7777777777777778,
              "#fb9f3a"
             ],
             [
              0.8888888888888888,
              "#fdca26"
             ],
             [
              1,
              "#f0f921"
             ]
            ],
            "type": "heatmap"
           }
          ],
          "heatmapgl": [
           {
            "colorbar": {
             "outlinewidth": 0,
             "ticks": ""
            },
            "colorscale": [
             [
              0,
              "#0d0887"
             ],
             [
              0.1111111111111111,
              "#46039f"
             ],
             [
              0.2222222222222222,
              "#7201a8"
             ],
             [
              0.3333333333333333,
              "#9c179e"
             ],
             [
              0.4444444444444444,
              "#bd3786"
             ],
             [
              0.5555555555555556,
              "#d8576b"
             ],
             [
              0.6666666666666666,
              "#ed7953"
             ],
             [
              0.7777777777777778,
              "#fb9f3a"
             ],
             [
              0.8888888888888888,
              "#fdca26"
             ],
             [
              1,
              "#f0f921"
             ]
            ],
            "type": "heatmapgl"
           }
          ],
          "histogram": [
           {
            "marker": {
             "pattern": {
              "fillmode": "overlay",
              "size": 10,
              "solidity": 0.2
             }
            },
            "type": "histogram"
           }
          ],
          "histogram2d": [
           {
            "colorbar": {
             "outlinewidth": 0,
             "ticks": ""
            },
            "colorscale": [
             [
              0,
              "#0d0887"
             ],
             [
              0.1111111111111111,
              "#46039f"
             ],
             [
              0.2222222222222222,
              "#7201a8"
             ],
             [
              0.3333333333333333,
              "#9c179e"
             ],
             [
              0.4444444444444444,
              "#bd3786"
             ],
             [
              0.5555555555555556,
              "#d8576b"
             ],
             [
              0.6666666666666666,
              "#ed7953"
             ],
             [
              0.7777777777777778,
              "#fb9f3a"
             ],
             [
              0.8888888888888888,
              "#fdca26"
             ],
             [
              1,
              "#f0f921"
             ]
            ],
            "type": "histogram2d"
           }
          ],
          "histogram2dcontour": [
           {
            "colorbar": {
             "outlinewidth": 0,
             "ticks": ""
            },
            "colorscale": [
             [
              0,
              "#0d0887"
             ],
             [
              0.1111111111111111,
              "#46039f"
             ],
             [
              0.2222222222222222,
              "#7201a8"
             ],
             [
              0.3333333333333333,
              "#9c179e"
             ],
             [
              0.4444444444444444,
              "#bd3786"
             ],
             [
              0.5555555555555556,
              "#d8576b"
             ],
             [
              0.6666666666666666,
              "#ed7953"
             ],
             [
              0.7777777777777778,
              "#fb9f3a"
             ],
             [
              0.8888888888888888,
              "#fdca26"
             ],
             [
              1,
              "#f0f921"
             ]
            ],
            "type": "histogram2dcontour"
           }
          ],
          "mesh3d": [
           {
            "colorbar": {
             "outlinewidth": 0,
             "ticks": ""
            },
            "type": "mesh3d"
           }
          ],
          "parcoords": [
           {
            "line": {
             "colorbar": {
              "outlinewidth": 0,
              "ticks": ""
             }
            },
            "type": "parcoords"
           }
          ],
          "pie": [
           {
            "automargin": true,
            "type": "pie"
           }
          ],
          "scatter": [
           {
            "fillpattern": {
             "fillmode": "overlay",
             "size": 10,
             "solidity": 0.2
            },
            "type": "scatter"
           }
          ],
          "scatter3d": [
           {
            "line": {
             "colorbar": {
              "outlinewidth": 0,
              "ticks": ""
             }
            },
            "marker": {
             "colorbar": {
              "outlinewidth": 0,
              "ticks": ""
             }
            },
            "type": "scatter3d"
           }
          ],
          "scattercarpet": [
           {
            "marker": {
             "colorbar": {
              "outlinewidth": 0,
              "ticks": ""
             }
            },
            "type": "scattercarpet"
           }
          ],
          "scattergeo": [
           {
            "marker": {
             "colorbar": {
              "outlinewidth": 0,
              "ticks": ""
             }
            },
            "type": "scattergeo"
           }
          ],
          "scattergl": [
           {
            "marker": {
             "colorbar": {
              "outlinewidth": 0,
              "ticks": ""
             }
            },
            "type": "scattergl"
           }
          ],
          "scattermapbox": [
           {
            "marker": {
             "colorbar": {
              "outlinewidth": 0,
              "ticks": ""
             }
            },
            "type": "scattermapbox"
           }
          ],
          "scatterpolar": [
           {
            "marker": {
             "colorbar": {
              "outlinewidth": 0,
              "ticks": ""
             }
            },
            "type": "scatterpolar"
           }
          ],
          "scatterpolargl": [
           {
            "marker": {
             "colorbar": {
              "outlinewidth": 0,
              "ticks": ""
             }
            },
            "type": "scatterpolargl"
           }
          ],
          "scatterternary": [
           {
            "marker": {
             "colorbar": {
              "outlinewidth": 0,
              "ticks": ""
             }
            },
            "type": "scatterternary"
           }
          ],
          "surface": [
           {
            "colorbar": {
             "outlinewidth": 0,
             "ticks": ""
            },
            "colorscale": [
             [
              0,
              "#0d0887"
             ],
             [
              0.1111111111111111,
              "#46039f"
             ],
             [
              0.2222222222222222,
              "#7201a8"
             ],
             [
              0.3333333333333333,
              "#9c179e"
             ],
             [
              0.4444444444444444,
              "#bd3786"
             ],
             [
              0.5555555555555556,
              "#d8576b"
             ],
             [
              0.6666666666666666,
              "#ed7953"
             ],
             [
              0.7777777777777778,
              "#fb9f3a"
             ],
             [
              0.8888888888888888,
              "#fdca26"
             ],
             [
              1,
              "#f0f921"
             ]
            ],
            "type": "surface"
           }
          ],
          "table": [
           {
            "cells": {
             "fill": {
              "color": "#EBF0F8"
             },
             "line": {
              "color": "white"
             }
            },
            "header": {
             "fill": {
              "color": "#C8D4E3"
             },
             "line": {
              "color": "white"
             }
            },
            "type": "table"
           }
          ]
         },
         "layout": {
          "annotationdefaults": {
           "arrowcolor": "#2a3f5f",
           "arrowhead": 0,
           "arrowwidth": 1
          },
          "autotypenumbers": "strict",
          "coloraxis": {
           "colorbar": {
            "outlinewidth": 0,
            "ticks": ""
           }
          },
          "colorscale": {
           "diverging": [
            [
             0,
             "#8e0152"
            ],
            [
             0.1,
             "#c51b7d"
            ],
            [
             0.2,
             "#de77ae"
            ],
            [
             0.3,
             "#f1b6da"
            ],
            [
             0.4,
             "#fde0ef"
            ],
            [
             0.5,
             "#f7f7f7"
            ],
            [
             0.6,
             "#e6f5d0"
            ],
            [
             0.7,
             "#b8e186"
            ],
            [
             0.8,
             "#7fbc41"
            ],
            [
             0.9,
             "#4d9221"
            ],
            [
             1,
             "#276419"
            ]
           ],
           "sequential": [
            [
             0,
             "#0d0887"
            ],
            [
             0.1111111111111111,
             "#46039f"
            ],
            [
             0.2222222222222222,
             "#7201a8"
            ],
            [
             0.3333333333333333,
             "#9c179e"
            ],
            [
             0.4444444444444444,
             "#bd3786"
            ],
            [
             0.5555555555555556,
             "#d8576b"
            ],
            [
             0.6666666666666666,
             "#ed7953"
            ],
            [
             0.7777777777777778,
             "#fb9f3a"
            ],
            [
             0.8888888888888888,
             "#fdca26"
            ],
            [
             1,
             "#f0f921"
            ]
           ],
           "sequentialminus": [
            [
             0,
             "#0d0887"
            ],
            [
             0.1111111111111111,
             "#46039f"
            ],
            [
             0.2222222222222222,
             "#7201a8"
            ],
            [
             0.3333333333333333,
             "#9c179e"
            ],
            [
             0.4444444444444444,
             "#bd3786"
            ],
            [
             0.5555555555555556,
             "#d8576b"
            ],
            [
             0.6666666666666666,
             "#ed7953"
            ],
            [
             0.7777777777777778,
             "#fb9f3a"
            ],
            [
             0.8888888888888888,
             "#fdca26"
            ],
            [
             1,
             "#f0f921"
            ]
           ]
          },
          "colorway": [
           "#636efa",
           "#EF553B",
           "#00cc96",
           "#ab63fa",
           "#FFA15A",
           "#19d3f3",
           "#FF6692",
           "#B6E880",
           "#FF97FF",
           "#FECB52"
          ],
          "font": {
           "color": "#2a3f5f"
          },
          "geo": {
           "bgcolor": "white",
           "lakecolor": "white",
           "landcolor": "#E5ECF6",
           "showlakes": true,
           "showland": true,
           "subunitcolor": "white"
          },
          "hoverlabel": {
           "align": "left"
          },
          "hovermode": "closest",
          "mapbox": {
           "style": "light"
          },
          "paper_bgcolor": "white",
          "plot_bgcolor": "#E5ECF6",
          "polar": {
           "angularaxis": {
            "gridcolor": "white",
            "linecolor": "white",
            "ticks": ""
           },
           "bgcolor": "#E5ECF6",
           "radialaxis": {
            "gridcolor": "white",
            "linecolor": "white",
            "ticks": ""
           }
          },
          "scene": {
           "xaxis": {
            "backgroundcolor": "#E5ECF6",
            "gridcolor": "white",
            "gridwidth": 2,
            "linecolor": "white",
            "showbackground": true,
            "ticks": "",
            "zerolinecolor": "white"
           },
           "yaxis": {
            "backgroundcolor": "#E5ECF6",
            "gridcolor": "white",
            "gridwidth": 2,
            "linecolor": "white",
            "showbackground": true,
            "ticks": "",
            "zerolinecolor": "white"
           },
           "zaxis": {
            "backgroundcolor": "#E5ECF6",
            "gridcolor": "white",
            "gridwidth": 2,
            "linecolor": "white",
            "showbackground": true,
            "ticks": "",
            "zerolinecolor": "white"
           }
          },
          "shapedefaults": {
           "line": {
            "color": "#2a3f5f"
           }
          },
          "ternary": {
           "aaxis": {
            "gridcolor": "white",
            "linecolor": "white",
            "ticks": ""
           },
           "baxis": {
            "gridcolor": "white",
            "linecolor": "white",
            "ticks": ""
           },
           "bgcolor": "#E5ECF6",
           "caxis": {
            "gridcolor": "white",
            "linecolor": "white",
            "ticks": ""
           }
          },
          "title": {
           "x": 0.05
          },
          "xaxis": {
           "automargin": true,
           "gridcolor": "white",
           "linecolor": "white",
           "ticks": "",
           "title": {
            "standoff": 15
           },
           "zerolinecolor": "white",
           "zerolinewidth": 2
          },
          "yaxis": {
           "automargin": true,
           "gridcolor": "white",
           "linecolor": "white",
           "ticks": "",
           "title": {
            "standoff": 15
           },
           "zerolinecolor": "white",
           "zerolinewidth": 2
          }
         }
        },
        "title": {
         "text": "Population and Production per Capita Over Time"
        },
        "width": 800,
        "xaxis": {
         "anchor": "y",
         "domain": [
          0,
          1
         ],
         "title": {
          "text": "Year"
         }
        },
        "yaxis": {
         "anchor": "x",
         "domain": [
          0,
          1
         ],
         "title": {
          "text": "Population"
         }
        },
        "yaxis2": {
         "overlaying": "y",
         "side": "right",
         "title": {
          "text": "Production per capita - kWh"
         }
        }
       }
      },
      "text/html": [
       "<div>                            <div id=\"5caf7de4-c5bc-467e-9b79-77371fbf4124\" class=\"plotly-graph-div\" style=\"height:500px; width:800px;\"></div>            <script type=\"text/javascript\">                require([\"plotly\"], function(Plotly) {                    window.PLOTLYENV=window.PLOTLYENV || {};                                    if (document.getElementById(\"5caf7de4-c5bc-467e-9b79-77371fbf4124\")) {                    Plotly.newPlot(                        \"5caf7de4-c5bc-467e-9b79-77371fbf4124\",                        [{\"hovertemplate\":\"Year=%{x}\\u003cbr\\u003ePopulation=%{y}\\u003cextra\\u003e\\u003c\\u002fextra\\u003e\",\"legendgroup\":\"\",\"line\":{\"color\":\"#636efa\",\"dash\":\"solid\"},\"marker\":{\"symbol\":\"circle\"},\"mode\":\"lines\",\"name\":\"\",\"orientation\":\"v\",\"showlegend\":false,\"x\":[1985,1986,1987,1988,1989,1990,1991,1992,1993,1994,1995,1996,1997,1998,1999,2000,2001,2002,2003,2004,2005,2006,2007,2008,2009,2010,2011,2012,2013,2014,2015,2016,2017,2018,2019,2020,2021,2022,2023],\"xaxis\":\"x\",\"y\":[6470959,6504748,6545771,6594145,6647786,6713167,6796942,6875049,6938107,6993594,7040481,7071884,7089163,7110294,7144118,7184003,7226391,7278744,7333450,7384196,7431824,7478514,7545386,7641729,7737642,7825751,7914378,7998927,8091197,8190238,8283940,8374902,8453628,8516339,8577526,8640582,8707018,8792180,8870564],\"yaxis\":\"y\",\"type\":\"scatter\"},{\"mode\":\"lines\",\"name\":\"Production per capita - kWh\",\"x\":[1985,1986,1987,1988,1989,1990,1991,1992,1993,1994,1995,1996,1997,1998,1999,2000,2001,2002,2003,2004,2005,2006,2007,2008,2009,2010,2011,2012,2013,2014,2015,2016,2017,2018,2019,2020,2021,2022,2023],\"y\":[8706.30195617064,8825.936377550675,9125.564582079025,9180.228065958514,8214.880864095205,8344.113441539588,8542.348603239516,8657.090298556417,8872.105028071777,9456.402530658772,8928.746487633445,8106.517301471575,8872.991635260749,8900.88933031461,9604.729373171049,9203.782348086437,9832.017116151063,8986.440517759656,8909.858252255079,8649.553722571827,7777.363941880217,8307.800185972776,8804.05588262814,8772.883728276676,8616.320062365252,8440.08453629562,7945.033709534724,8517.392395255014,8489.473189195616,8556.527905538276,7975.673411444311,7295.607757559432,7115.288252570375,7783.8611168484495,8227.31402970973,7926.5493921590005,7247.027627598794,7082.430068538179,7991.60008315142],\"yaxis\":\"y2\",\"type\":\"scatter\"}],                        {\"template\":{\"data\":{\"histogram2dcontour\":[{\"type\":\"histogram2dcontour\",\"colorbar\":{\"outlinewidth\":0,\"ticks\":\"\"},\"colorscale\":[[0.0,\"#0d0887\"],[0.1111111111111111,\"#46039f\"],[0.2222222222222222,\"#7201a8\"],[0.3333333333333333,\"#9c179e\"],[0.4444444444444444,\"#bd3786\"],[0.5555555555555556,\"#d8576b\"],[0.6666666666666666,\"#ed7953\"],[0.7777777777777778,\"#fb9f3a\"],[0.8888888888888888,\"#fdca26\"],[1.0,\"#f0f921\"]]}],\"choropleth\":[{\"type\":\"choropleth\",\"colorbar\":{\"outlinewidth\":0,\"ticks\":\"\"}}],\"histogram2d\":[{\"type\":\"histogram2d\",\"colorbar\":{\"outlinewidth\":0,\"ticks\":\"\"},\"colorscale\":[[0.0,\"#0d0887\"],[0.1111111111111111,\"#46039f\"],[0.2222222222222222,\"#7201a8\"],[0.3333333333333333,\"#9c179e\"],[0.4444444444444444,\"#bd3786\"],[0.5555555555555556,\"#d8576b\"],[0.6666666666666666,\"#ed7953\"],[0.7777777777777778,\"#fb9f3a\"],[0.8888888888888888,\"#fdca26\"],[1.0,\"#f0f921\"]]}],\"heatmap\":[{\"type\":\"heatmap\",\"colorbar\":{\"outlinewidth\":0,\"ticks\":\"\"},\"colorscale\":[[0.0,\"#0d0887\"],[0.1111111111111111,\"#46039f\"],[0.2222222222222222,\"#7201a8\"],[0.3333333333333333,\"#9c179e\"],[0.4444444444444444,\"#bd3786\"],[0.5555555555555556,\"#d8576b\"],[0.6666666666666666,\"#ed7953\"],[0.7777777777777778,\"#fb9f3a\"],[0.8888888888888888,\"#fdca26\"],[1.0,\"#f0f921\"]]}],\"heatmapgl\":[{\"type\":\"heatmapgl\",\"colorbar\":{\"outlinewidth\":0,\"ticks\":\"\"},\"colorscale\":[[0.0,\"#0d0887\"],[0.1111111111111111,\"#46039f\"],[0.2222222222222222,\"#7201a8\"],[0.3333333333333333,\"#9c179e\"],[0.4444444444444444,\"#bd3786\"],[0.5555555555555556,\"#d8576b\"],[0.6666666666666666,\"#ed7953\"],[0.7777777777777778,\"#fb9f3a\"],[0.8888888888888888,\"#fdca26\"],[1.0,\"#f0f921\"]]}],\"contourcarpet\":[{\"type\":\"contourcarpet\",\"colorbar\":{\"outlinewidth\":0,\"ticks\":\"\"}}],\"contour\":[{\"type\":\"contour\",\"colorbar\":{\"outlinewidth\":0,\"ticks\":\"\"},\"colorscale\":[[0.0,\"#0d0887\"],[0.1111111111111111,\"#46039f\"],[0.2222222222222222,\"#7201a8\"],[0.3333333333333333,\"#9c179e\"],[0.4444444444444444,\"#bd3786\"],[0.5555555555555556,\"#d8576b\"],[0.6666666666666666,\"#ed7953\"],[0.7777777777777778,\"#fb9f3a\"],[0.8888888888888888,\"#fdca26\"],[1.0,\"#f0f921\"]]}],\"surface\":[{\"type\":\"surface\",\"colorbar\":{\"outlinewidth\":0,\"ticks\":\"\"},\"colorscale\":[[0.0,\"#0d0887\"],[0.1111111111111111,\"#46039f\"],[0.2222222222222222,\"#7201a8\"],[0.3333333333333333,\"#9c179e\"],[0.4444444444444444,\"#bd3786\"],[0.5555555555555556,\"#d8576b\"],[0.6666666666666666,\"#ed7953\"],[0.7777777777777778,\"#fb9f3a\"],[0.8888888888888888,\"#fdca26\"],[1.0,\"#f0f921\"]]}],\"mesh3d\":[{\"type\":\"mesh3d\",\"colorbar\":{\"outlinewidth\":0,\"ticks\":\"\"}}],\"scatter\":[{\"fillpattern\":{\"fillmode\":\"overlay\",\"size\":10,\"solidity\":0.2},\"type\":\"scatter\"}],\"parcoords\":[{\"type\":\"parcoords\",\"line\":{\"colorbar\":{\"outlinewidth\":0,\"ticks\":\"\"}}}],\"scatterpolargl\":[{\"type\":\"scatterpolargl\",\"marker\":{\"colorbar\":{\"outlinewidth\":0,\"ticks\":\"\"}}}],\"bar\":[{\"error_x\":{\"color\":\"#2a3f5f\"},\"error_y\":{\"color\":\"#2a3f5f\"},\"marker\":{\"line\":{\"color\":\"#E5ECF6\",\"width\":0.5},\"pattern\":{\"fillmode\":\"overlay\",\"size\":10,\"solidity\":0.2}},\"type\":\"bar\"}],\"scattergeo\":[{\"type\":\"scattergeo\",\"marker\":{\"colorbar\":{\"outlinewidth\":0,\"ticks\":\"\"}}}],\"scatterpolar\":[{\"type\":\"scatterpolar\",\"marker\":{\"colorbar\":{\"outlinewidth\":0,\"ticks\":\"\"}}}],\"histogram\":[{\"marker\":{\"pattern\":{\"fillmode\":\"overlay\",\"size\":10,\"solidity\":0.2}},\"type\":\"histogram\"}],\"scattergl\":[{\"type\":\"scattergl\",\"marker\":{\"colorbar\":{\"outlinewidth\":0,\"ticks\":\"\"}}}],\"scatter3d\":[{\"type\":\"scatter3d\",\"line\":{\"colorbar\":{\"outlinewidth\":0,\"ticks\":\"\"}},\"marker\":{\"colorbar\":{\"outlinewidth\":0,\"ticks\":\"\"}}}],\"scattermapbox\":[{\"type\":\"scattermapbox\",\"marker\":{\"colorbar\":{\"outlinewidth\":0,\"ticks\":\"\"}}}],\"scatterternary\":[{\"type\":\"scatterternary\",\"marker\":{\"colorbar\":{\"outlinewidth\":0,\"ticks\":\"\"}}}],\"scattercarpet\":[{\"type\":\"scattercarpet\",\"marker\":{\"colorbar\":{\"outlinewidth\":0,\"ticks\":\"\"}}}],\"carpet\":[{\"aaxis\":{\"endlinecolor\":\"#2a3f5f\",\"gridcolor\":\"white\",\"linecolor\":\"white\",\"minorgridcolor\":\"white\",\"startlinecolor\":\"#2a3f5f\"},\"baxis\":{\"endlinecolor\":\"#2a3f5f\",\"gridcolor\":\"white\",\"linecolor\":\"white\",\"minorgridcolor\":\"white\",\"startlinecolor\":\"#2a3f5f\"},\"type\":\"carpet\"}],\"table\":[{\"cells\":{\"fill\":{\"color\":\"#EBF0F8\"},\"line\":{\"color\":\"white\"}},\"header\":{\"fill\":{\"color\":\"#C8D4E3\"},\"line\":{\"color\":\"white\"}},\"type\":\"table\"}],\"barpolar\":[{\"marker\":{\"line\":{\"color\":\"#E5ECF6\",\"width\":0.5},\"pattern\":{\"fillmode\":\"overlay\",\"size\":10,\"solidity\":0.2}},\"type\":\"barpolar\"}],\"pie\":[{\"automargin\":true,\"type\":\"pie\"}]},\"layout\":{\"autotypenumbers\":\"strict\",\"colorway\":[\"#636efa\",\"#EF553B\",\"#00cc96\",\"#ab63fa\",\"#FFA15A\",\"#19d3f3\",\"#FF6692\",\"#B6E880\",\"#FF97FF\",\"#FECB52\"],\"font\":{\"color\":\"#2a3f5f\"},\"hovermode\":\"closest\",\"hoverlabel\":{\"align\":\"left\"},\"paper_bgcolor\":\"white\",\"plot_bgcolor\":\"#E5ECF6\",\"polar\":{\"bgcolor\":\"#E5ECF6\",\"angularaxis\":{\"gridcolor\":\"white\",\"linecolor\":\"white\",\"ticks\":\"\"},\"radialaxis\":{\"gridcolor\":\"white\",\"linecolor\":\"white\",\"ticks\":\"\"}},\"ternary\":{\"bgcolor\":\"#E5ECF6\",\"aaxis\":{\"gridcolor\":\"white\",\"linecolor\":\"white\",\"ticks\":\"\"},\"baxis\":{\"gridcolor\":\"white\",\"linecolor\":\"white\",\"ticks\":\"\"},\"caxis\":{\"gridcolor\":\"white\",\"linecolor\":\"white\",\"ticks\":\"\"}},\"coloraxis\":{\"colorbar\":{\"outlinewidth\":0,\"ticks\":\"\"}},\"colorscale\":{\"sequential\":[[0.0,\"#0d0887\"],[0.1111111111111111,\"#46039f\"],[0.2222222222222222,\"#7201a8\"],[0.3333333333333333,\"#9c179e\"],[0.4444444444444444,\"#bd3786\"],[0.5555555555555556,\"#d8576b\"],[0.6666666666666666,\"#ed7953\"],[0.7777777777777778,\"#fb9f3a\"],[0.8888888888888888,\"#fdca26\"],[1.0,\"#f0f921\"]],\"sequentialminus\":[[0.0,\"#0d0887\"],[0.1111111111111111,\"#46039f\"],[0.2222222222222222,\"#7201a8\"],[0.3333333333333333,\"#9c179e\"],[0.4444444444444444,\"#bd3786\"],[0.5555555555555556,\"#d8576b\"],[0.6666666666666666,\"#ed7953\"],[0.7777777777777778,\"#fb9f3a\"],[0.8888888888888888,\"#fdca26\"],[1.0,\"#f0f921\"]],\"diverging\":[[0,\"#8e0152\"],[0.1,\"#c51b7d\"],[0.2,\"#de77ae\"],[0.3,\"#f1b6da\"],[0.4,\"#fde0ef\"],[0.5,\"#f7f7f7\"],[0.6,\"#e6f5d0\"],[0.7,\"#b8e186\"],[0.8,\"#7fbc41\"],[0.9,\"#4d9221\"],[1,\"#276419\"]]},\"xaxis\":{\"gridcolor\":\"white\",\"linecolor\":\"white\",\"ticks\":\"\",\"title\":{\"standoff\":15},\"zerolinecolor\":\"white\",\"automargin\":true,\"zerolinewidth\":2},\"yaxis\":{\"gridcolor\":\"white\",\"linecolor\":\"white\",\"ticks\":\"\",\"title\":{\"standoff\":15},\"zerolinecolor\":\"white\",\"automargin\":true,\"zerolinewidth\":2},\"scene\":{\"xaxis\":{\"backgroundcolor\":\"#E5ECF6\",\"gridcolor\":\"white\",\"linecolor\":\"white\",\"showbackground\":true,\"ticks\":\"\",\"zerolinecolor\":\"white\",\"gridwidth\":2},\"yaxis\":{\"backgroundcolor\":\"#E5ECF6\",\"gridcolor\":\"white\",\"linecolor\":\"white\",\"showbackground\":true,\"ticks\":\"\",\"zerolinecolor\":\"white\",\"gridwidth\":2},\"zaxis\":{\"backgroundcolor\":\"#E5ECF6\",\"gridcolor\":\"white\",\"linecolor\":\"white\",\"showbackground\":true,\"ticks\":\"\",\"zerolinecolor\":\"white\",\"gridwidth\":2}},\"shapedefaults\":{\"line\":{\"color\":\"#2a3f5f\"}},\"annotationdefaults\":{\"arrowcolor\":\"#2a3f5f\",\"arrowhead\":0,\"arrowwidth\":1},\"geo\":{\"bgcolor\":\"white\",\"landcolor\":\"#E5ECF6\",\"subunitcolor\":\"white\",\"showland\":true,\"showlakes\":true,\"lakecolor\":\"white\"},\"title\":{\"x\":0.05},\"mapbox\":{\"style\":\"light\"}}},\"xaxis\":{\"anchor\":\"y\",\"domain\":[0.0,1.0],\"title\":{\"text\":\"Year\"}},\"yaxis\":{\"anchor\":\"x\",\"domain\":[0.0,1.0],\"title\":{\"text\":\"Population\"}},\"legend\":{\"tracegroupgap\":0,\"x\":0.1,\"y\":0.9},\"title\":{\"text\":\"Population and Production per Capita Over Time\"},\"yaxis2\":{\"title\":{\"text\":\"Production per capita - kWh\"},\"overlaying\":\"y\",\"side\":\"right\"},\"margin\":{\"l\":60,\"r\":60,\"t\":60,\"b\":60},\"width\":800,\"height\":500},                        {\"responsive\": true}                    ).then(function(){\n",
       "                            \n",
       "var gd = document.getElementById('5caf7de4-c5bc-467e-9b79-77371fbf4124');\n",
       "var x = new MutationObserver(function (mutations, observer) {{\n",
       "        var display = window.getComputedStyle(gd).display;\n",
       "        if (!display || display === 'none') {{\n",
       "            console.log([gd, 'removed!']);\n",
       "            Plotly.purge(gd);\n",
       "            observer.disconnect();\n",
       "        }}\n",
       "}});\n",
       "\n",
       "// Listen for the removal of the full notebook cells\n",
       "var notebookContainer = gd.closest('#notebook-container');\n",
       "if (notebookContainer) {{\n",
       "    x.observe(notebookContainer, {childList: true});\n",
       "}}\n",
       "\n",
       "// Listen for the clearing of the current output cell\n",
       "var outputEl = gd.closest('.output');\n",
       "if (outputEl) {{\n",
       "    x.observe(outputEl, {childList: true});\n",
       "}}\n",
       "\n",
       "                        })                };                });            </script>        </div>"
      ]
     },
     "metadata": {},
     "output_type": "display_data"
    }
   ],
   "source": [
    "import plotly.express as px\n",
    "import plotly.graph_objects as go\n",
    "\n",
    "# Assuming your dataframe is named df_swiss_data_inner_join\n",
    "fig = px.line(\n",
    "    df_swiss_data_inner_join,\n",
    "    x=\"Year\",\n",
    "    y=\"Population\",\n",
    "    title=\"Population and Production per Capita Over Time\",\n",
    ")\n",
    "\n",
    "# Add the secondary y-axis\n",
    "fig.add_trace(\n",
    "    go.Scatter(\n",
    "        x=df_swiss_data_inner_join[\"Year\"],\n",
    "        y=df_swiss_data_inner_join[\"Production per capita - kWh\"],\n",
    "        mode=\"lines\",\n",
    "        name=\"Production per capita - kWh\",\n",
    "        yaxis=\"y2\",\n",
    "    )\n",
    ")\n",
    "\n",
    "# Update layout to add a second y-axis\n",
    "fig.update_layout(\n",
    "    yaxis2=dict(title=\"Production per capita - kWh\", overlaying=\"y\", side=\"right\"),\n",
    "    yaxis=dict(title=\"Population\"),\n",
    "    xaxis=dict(title=\"Year\"),\n",
    "    legend=dict(x=0.1, y=0.9),\n",
    "    margin=dict(l=60, r=60, t=60, b=60),\n",
    "    width=800,\n",
    "    height=500,\n",
    ")\n",
    "\n",
    "# Display the plot\n",
    "fig.show()"
   ]
  },
  {
   "cell_type": "markdown",
   "metadata": {},
   "source": [
    "### Dictionnary of dataframe\n",
    "Pandapower make dictionnary of dataframe, here an exemple of that:"
   ]
  },
  {
   "cell_type": "code",
   "execution_count": 90,
   "metadata": {},
   "outputs": [
    {
     "name": "stdout",
     "output_type": "stream",
     "text": [
      "key:  0\n",
      "      Name  Age\n",
      "0  Shahroz   22\n",
      "1    Samad   35\n",
      "2    Usama   58 \n",
      "\n",
      "key:  1\n",
      "       Class  Students\n",
      "0  Chemistry        30\n",
      "1    Physics        35\n",
      "2    Biology        40 \n",
      "\n",
      "Accessing the dataframe against key 0 \n",
      "      Name  Age\n",
      "0  Shahroz   22\n",
      "1    Samad   35\n",
      "2    Usama   58\n",
      "\n",
      "Accessing the first column of dataframe against key 1\n",
      "0    Chemistry\n",
      "1      Physics\n",
      "2      Biology\n",
      "Name: Class, dtype: object\n"
     ]
    }
   ],
   "source": [
    "df1 = pd.DataFrame({\"Name\": [\"Shahroz\", \"Samad\", \"Usama\"], \"Age\": [22, 35, 58]})\n",
    "\n",
    "df2 = pd.DataFrame(\n",
    "    {\"Class\": [\"Chemistry\", \"Physics\", \"Biology\"], \"Students\": [30, 35, 40]}\n",
    ")\n",
    "\n",
    "# list of data frames\n",
    "dataframes = [df1, df2]\n",
    "\n",
    "# dictionary to save data frames\n",
    "frames = {}\n",
    "\n",
    "for key, value in enumerate(dataframes):\n",
    "    frames[key] = value  # assigning data frame from list to key in dictionary\n",
    "    print(\"key: \", key)\n",
    "    print(frames[key], \"\\n\")\n",
    "\n",
    "# access to one data frame by key\n",
    "print(\"Accessing the dataframe against key 0 \\n\", end=\"\")\n",
    "print(frames[0])\n",
    "\n",
    "# access to only column of specific data frame through dictionary\n",
    "print(\"\\nAccessing the first column of dataframe against key 1\\n\", end=\"\")\n",
    "print(frames[1][\"Class\"])"
   ]
  },
  {
   "cell_type": "markdown",
   "metadata": {},
   "source": [
    "# Pandapower"
   ]
  },
  {
   "cell_type": "code",
   "execution_count": 91,
   "metadata": {},
   "outputs": [],
   "source": [
    "import pandapower as pp"
   ]
  },
  {
   "cell_type": "markdown",
   "metadata": {},
   "source": [
    "Tuto on _Exercice Power flow 1 : Problème 1_\n",
    "\n",
    "We use the librarie pandapower : [doc_pandapower](https://pandapower.readthedocs.io/en/v2.9.0/about.html)\n",
    "\n",
    "![Problem base](plot/Ex_PF1_Pb1_Info_p.png)"
   ]
  },
  {
   "cell_type": "markdown",
   "metadata": {},
   "source": [
    "Initialize the network by creating an empty network. : ExPF1_Pb1"
   ]
  },
  {
   "cell_type": "code",
   "execution_count": 92,
   "metadata": {},
   "outputs": [
    {
     "data": {
      "text/plain": [
       "This pandapower network is empty"
      ]
     },
     "execution_count": 92,
     "metadata": {},
     "output_type": "execute_result"
    }
   ],
   "source": [
    "net_ExPF1_Pb1 = pp.create_empty_network(\n",
    "    name=\"ExPF1_Pb1\", f_hz=50, sn_mva=100, add_stdtypes=True\n",
    ")\n",
    "net_ExPF1_Pb1"
   ]
  },
  {
   "cell_type": "markdown",
   "metadata": {},
   "source": [
    "Create all the bus"
   ]
  },
  {
   "cell_type": "code",
   "execution_count": 93,
   "metadata": {},
   "outputs": [
    {
     "data": {
      "text/html": [
       "<div>\n",
       "<style scoped>\n",
       "    .dataframe tbody tr th:only-of-type {\n",
       "        vertical-align: middle;\n",
       "    }\n",
       "\n",
       "    .dataframe tbody tr th {\n",
       "        vertical-align: top;\n",
       "    }\n",
       "\n",
       "    .dataframe thead th {\n",
       "        text-align: right;\n",
       "    }\n",
       "</style>\n",
       "<table border=\"1\" class=\"dataframe\">\n",
       "  <thead>\n",
       "    <tr style=\"text-align: right;\">\n",
       "      <th></th>\n",
       "      <th>name</th>\n",
       "      <th>vn_kv</th>\n",
       "      <th>type</th>\n",
       "      <th>zone</th>\n",
       "      <th>in_service</th>\n",
       "    </tr>\n",
       "  </thead>\n",
       "  <tbody>\n",
       "    <tr>\n",
       "      <th>0</th>\n",
       "      <td>Bus 1</td>\n",
       "      <td>400.0</td>\n",
       "      <td>b</td>\n",
       "      <td>None</td>\n",
       "      <td>True</td>\n",
       "    </tr>\n",
       "    <tr>\n",
       "      <th>1</th>\n",
       "      <td>Bus 2</td>\n",
       "      <td>400.0</td>\n",
       "      <td>b</td>\n",
       "      <td>None</td>\n",
       "      <td>True</td>\n",
       "    </tr>\n",
       "    <tr>\n",
       "      <th>2</th>\n",
       "      <td>Bus 3</td>\n",
       "      <td>400.0</td>\n",
       "      <td>b</td>\n",
       "      <td>None</td>\n",
       "      <td>True</td>\n",
       "    </tr>\n",
       "    <tr>\n",
       "      <th>3</th>\n",
       "      <td>Bus 4</td>\n",
       "      <td>400.0</td>\n",
       "      <td>b</td>\n",
       "      <td>None</td>\n",
       "      <td>True</td>\n",
       "    </tr>\n",
       "    <tr>\n",
       "      <th>4</th>\n",
       "      <td>Bus 5</td>\n",
       "      <td>20.0</td>\n",
       "      <td>b</td>\n",
       "      <td>None</td>\n",
       "      <td>True</td>\n",
       "    </tr>\n",
       "  </tbody>\n",
       "</table>\n",
       "</div>"
      ],
      "text/plain": [
       "    name  vn_kv type  zone  in_service\n",
       "0  Bus 1  400.0    b  None        True\n",
       "1  Bus 2  400.0    b  None        True\n",
       "2  Bus 3  400.0    b  None        True\n",
       "3  Bus 4  400.0    b  None        True\n",
       "4  Bus 5   20.0    b  None        True"
      ]
     },
     "execution_count": 93,
     "metadata": {},
     "output_type": "execute_result"
    }
   ],
   "source": [
    "# create buses\n",
    "b1 = pp.create_bus(net_ExPF1_Pb1, vn_kv=400, name=\"Bus 1\")\n",
    "b2 = pp.create_bus(net_ExPF1_Pb1, vn_kv=400, name=\"Bus 2\")\n",
    "b3 = pp.create_bus(net_ExPF1_Pb1, vn_kv=400, name=\"Bus 3\")\n",
    "b4 = pp.create_bus(net_ExPF1_Pb1, vn_kv=400, name=\"Bus 4\")\n",
    "b5 = pp.create_bus(net_ExPF1_Pb1, vn_kv=20, name=\"Bus 5\")\n",
    "net_ExPF1_Pb1.bus"
   ]
  },
  {
   "cell_type": "markdown",
   "metadata": {},
   "source": [
    "Create all the loads"
   ]
  },
  {
   "cell_type": "code",
   "execution_count": 95,
   "metadata": {},
   "outputs": [],
   "source": [
    "# create load\n",
    "load_2 = pp.create_load(net_ExPF1_Pb1, bus=b2, p_mw=100, q_mvar=20, name=\"Load 2\")\n",
    "load_3 = pp.create_load(net_ExPF1_Pb1, bus=b3, p_mw=200, q_mvar=80, name=\"Load 3\")"
   ]
  },
  {
   "cell_type": "markdown",
   "metadata": {},
   "source": [
    "Create all the generator and the slack bus"
   ]
  },
  {
   "cell_type": "code",
   "execution_count": 94,
   "metadata": {},
   "outputs": [],
   "source": [
    "# create generator (external grid as generator to slack bus)\n",
    "gen_1 = pp.create_ext_grid(net_ExPF1_Pb1, bus=b1, vm_pu=1, min_q_mvar = -100, max_q_mavar =100, name=\"Gen 1\")\n",
    "# pp.create_gen(net,bus=b1,p_mw=0,vm_pu=1,min_q_mvar=-100,max_q_mvar=100,name=\"Gen 1\",slack=True)  # Generator on slack bus ??\n",
    "gen_2 = pp.create_gen(net_ExPF1_Pb1, bus=b2, vm_pu=1.05,p_mw=150, min_q_mvar = -100, max_q_mavar =100, name=\"Gen 2\")\n",
    "gen_5 = "
   ]
  },
  {
   "cell_type": "markdown",
   "metadata": {},
   "source": [
    "Create custom transformer, pure inductor."
   ]
  },
  {
   "cell_type": "code",
   "execution_count": 95,
   "metadata": {},
   "outputs": [],
   "source": [
    "# create transformer\n",
    "trafo = "
   ]
  },
  {
   "cell_type": "markdown",
   "metadata": {},
   "source": [
    "Calcul line parameter in correct units, transform from pu.\n",
    "\n",
    "Define the base"
   ]
  },
  {
   "cell_type": "code",
   "execution_count": null,
   "metadata": {},
   "outputs": [],
   "source": [
    "S_base = 100e6\n",
    "U_base = 400e3\n",
    "Z_base = U_base**2 / S_base\n",
    "Y_base = 1 / Z_base\n",
    "Ligne_value = {\n",
    "    \"R_pu\": [0.02, 0.02, 0.02, 0.04, 0.04],\n",
    "    \"X_pu\": [0.2, 0.4, 0.4, 0.4, 0.4],\n",
    "    \"B_pu\": [0.8, 0.8, 0.4, 0.4, 0.4],\n",
    "    \"Un\": [400, 400, 400, 400, 400],\n",
    "}\n",
    "DF_Ligne = pd.DataFrame(Ligne_value, index=[\"A\", \"B\", \"C\", \"D\", \"E\"])\n",
    "Z_base"
   ]
  },
  {
   "cell_type": "markdown",
   "metadata": {},
   "source": [
    "Calcul the parameters"
   ]
  },
  {
   "cell_type": "code",
   "execution_count": null,
   "metadata": {},
   "outputs": [],
   "source": [
    "rl_ohm_per_km = \n",
    "xl_ohm_per_km = \n",
    "cl_nF_per_km = \n"
   ]
  },
  {
   "cell_type": "markdown",
   "metadata": {},
   "source": [
    "Create the lines with parameters"
   ]
  },
  {
   "cell_type": "code",
   "execution_count": 98,
   "metadata": {},
   "outputs": [],
   "source": [
    "# create line\n",
    "line_a = \n",
    "line_b = \n",
    "line_c = \n",
    "line_d = \n",
    "line_e = "
   ]
  },
  {
   "cell_type": "markdown",
   "metadata": {},
   "source": [
    "Check line"
   ]
  },
  {
   "cell_type": "code",
   "execution_count": null,
   "metadata": {},
   "outputs": [],
   "source": []
  },
  {
   "cell_type": "markdown",
   "metadata": {},
   "source": [
    "Check problem"
   ]
  },
  {
   "cell_type": "code",
   "execution_count": null,
   "metadata": {},
   "outputs": [],
   "source": []
  },
  {
   "cell_type": "markdown",
   "metadata": {},
   "source": [
    "By default, we run a powerflow with NR :\n",
    "- `nr` Newton-Raphson (pypower implementation with numba accelerations)\n",
    "- `gs` gauss-seidel (pypower implementation)\n",
    "- `fdbx` fast-decoupled (pypower implementation)"
   ]
  },
  {
   "cell_type": "code",
   "execution_count": null,
   "metadata": {},
   "outputs": [],
   "source": []
  },
  {
   "cell_type": "markdown",
   "metadata": {},
   "source": [
    "Check result"
   ]
  },
  {
   "cell_type": "code",
   "execution_count": null,
   "metadata": {},
   "outputs": [],
   "source": []
  },
  {
   "cell_type": "code",
   "execution_count": null,
   "metadata": {},
   "outputs": [],
   "source": []
  },
  {
   "cell_type": "code",
   "execution_count": null,
   "metadata": {},
   "outputs": [],
   "source": []
  },
  {
   "cell_type": "code",
   "execution_count": null,
   "metadata": {},
   "outputs": [],
   "source": []
  }
 ],
 "metadata": {
  "kernelspec": {
   "display_name": "nbdev",
   "language": "python",
   "name": "python3"
  },
  "language_info": {
   "codemirror_mode": {
    "name": "ipython",
    "version": 3
   },
   "file_extension": ".py",
   "mimetype": "text/x-python",
   "name": "python",
   "nbconvert_exporter": "python",
   "pygments_lexer": "ipython3",
   "version": "3.12.4"
  }
 },
 "nbformat": 4,
 "nbformat_minor": 2
}
