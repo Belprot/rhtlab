{
 "cells": [
  {
   "cell_type": "markdown",
   "metadata": {},
   "source": [
    "**My First Python Demo Notebook – A Simple Tutorial**\n",
    "<details>\n",
    "\n",
    "<summary>Table of content</summary>\n",
    "\n",
    "# Notebook content\n",
    "- I : Visual Studio code\n",
    "- II : JupyterNotebook\n",
    "- III : Python\n",
    "- IV : Variable type\n",
    "- V : NumPy and Pandas\n",
    "- VI : Data from csv\n",
    "- VII : Manipulation of dataframe\n",
    "- VIII : Plot of dataframe\n",
    "- IX : Pandapower\n",
    "\n",
    "</details>"
   ]
  },
  {
   "cell_type": "markdown",
   "metadata": {},
   "source": [
    "# VS code\n"
   ]
  },
  {
   "cell_type": "markdown",
   "metadata": {},
   "source": [
    "\n",
    "File -> Activate Autosave\n",
    "\n",
    "Launch via terminal, nice to open project.\n",
    "\n",
    "Some features : \n",
    "- Dark mode or other\n",
    "- Friendly git command\n",
    "  - Git [nomenclature](https://www.conventionalcommits.org/en/v1.0.0/)\n",
    "- Github Copilot\n",
    "- Extension"
   ]
  },
  {
   "cell_type": "markdown",
   "metadata": {},
   "source": [
    "# JupyterNotebook"
   ]
  },
  {
   "cell_type": "markdown",
   "metadata": {},
   "source": [
    "All the [basics](00_welcome_to_jupyter.ipynb) about JupyterNotebook.\n",
    "- What is it ?\n",
    "- Step by step execution\n",
    "- How memory work\n",
    "- Variable explorer\n",
    "- Export"
   ]
  },
  {
   "cell_type": "markdown",
   "metadata": {},
   "source": [
    "\n",
    "Here you have the [Basic writing and formatting syntax](https://docs.github.com/en/get-started/writing-on-github/getting-started-with-writing-and-formatting-on-github/basic-writing-and-formatting-syntax) for markdown.\n",
    "\n",
    "Few usefull shortcut :\n",
    "- `y` and `m` to toggle between markdown and python cells.\n",
    "- `Ctrl+Enter` to run cells\n",
    "- `Shift+Enter` to run and advance in next cells\n",
    "\n",
    "And text higligh : \n",
    " - ``---`` - Line througth the page\n",
    " - `>` - Text box\n",
    " - \\`Text\\` - Quoting code like ``this``\n",
    " - And triple for multiple line \\`\\`\\` ``code`` \\`\\`\\`"
   ]
  },
  {
   "cell_type": "markdown",
   "metadata": {},
   "source": [
    "# Some basics to get ready\n"
   ]
  },
  {
   "cell_type": "markdown",
   "metadata": {},
   "source": [
    "At the first, we are not informatician, the hygiene is important for your code : commenting, good variable name,...\n",
    "\n",
    "But if that works... ;)\n",
    "\n",
    "Here a complete guide about hygiene coding tips : [hygiene_tips](https://testdriven.io/blog/clean-code-python/), I recommend you to read the _PEP 8_ part.\n",
    "\n",
    "For solving a problem, you have many solution and that the same with Python, so we will give you one solution (sometimes more) and that can be the best solution, or not. \n",
    "\n",
    "So be free as a bird and make your own experience. :bird:"
   ]
  },
  {
   "cell_type": "markdown",
   "metadata": {},
   "source": [
    "### Python\n"
   ]
  },
  {
   "cell_type": "markdown",
   "metadata": {},
   "source": [
    "\n",
    "Python is an object oriented programming language and this mean that almost everything is an object with own properties and methods.\n",
    "\n",
    "And we create object with the constructure (like blueprint) called Class.\n",
    "\n",
    "And each object can have function inside, thats called method."
   ]
  },
  {
   "cell_type": "markdown",
   "metadata": {},
   "source": [
    "## Help once the package has been imported\n"
   ]
  },
  {
   "cell_type": "markdown",
   "metadata": {},
   "source": [
    "Python works with package, this is all the code already developped that we can use, we don't want (and can't) recode anything every times.\n",
    "\n",
    "Package exit to do lots of thinks : statistical analysis, data visualization, etc.\n",
    "\n",
    "In this tuto we'll import the following packages :\n",
    "- *numpy* and *pandas* for data analysis and manipulation\n",
    "- *plotly* for data visualization\n",
    "- (*os* is used to change working directories, but you don't need it)"
   ]
  },
  {
   "cell_type": "code",
   "execution_count": 1,
   "metadata": {},
   "outputs": [],
   "source": [
    "import os\n",
    "import numpy as np\n",
    "import pandas as pd\n",
    "import plotly.express as px\n",
    "from plotly.subplots import make_subplots"
   ]
  },
  {
   "cell_type": "markdown",
   "metadata": {},
   "source": [
    "For needed information on a function tape : _?function_name_"
   ]
  },
  {
   "cell_type": "code",
   "execution_count": 6,
   "metadata": {},
   "outputs": [
    {
     "name": "stdout",
     "output_type": "stream",
     "text": [
      "\u001b[0;31mSignature:\u001b[0m \u001b[0mprint\u001b[0m\u001b[0;34m(\u001b[0m\u001b[0;34m*\u001b[0m\u001b[0margs\u001b[0m\u001b[0;34m,\u001b[0m \u001b[0msep\u001b[0m\u001b[0;34m=\u001b[0m\u001b[0;34m' '\u001b[0m\u001b[0;34m,\u001b[0m \u001b[0mend\u001b[0m\u001b[0;34m=\u001b[0m\u001b[0;34m'\\n'\u001b[0m\u001b[0;34m,\u001b[0m \u001b[0mfile\u001b[0m\u001b[0;34m=\u001b[0m\u001b[0;32mNone\u001b[0m\u001b[0;34m,\u001b[0m \u001b[0mflush\u001b[0m\u001b[0;34m=\u001b[0m\u001b[0;32mFalse\u001b[0m\u001b[0;34m)\u001b[0m\u001b[0;34m\u001b[0m\u001b[0;34m\u001b[0m\u001b[0m\n",
      "\u001b[0;31mDocstring:\u001b[0m\n",
      "Prints the values to a stream, or to sys.stdout by default.\n",
      "\n",
      "sep\n",
      "  string inserted between values, default a space.\n",
      "end\n",
      "  string appended after the last value, default a newline.\n",
      "file\n",
      "  a file-like object (stream); defaults to the current sys.stdout.\n",
      "flush\n",
      "  whether to forcibly flush the stream.\n",
      "\u001b[0;31mType:\u001b[0m      builtin_function_or_method"
     ]
    }
   ],
   "source": [
    "?print"
   ]
  },
  {
   "cell_type": "markdown",
   "metadata": {},
   "source": [
    "## Basics Data Structures and Sequences : Variable type"
   ]
  },
  {
   "cell_type": "markdown",
   "metadata": {},
   "source": [
    "The information is stocked in variable, the information can take multiple forms, numeric, string, etc., the next table resume the data type and how to construct it.\n",
    "|                  | Data Type  | Example                                              |\n",
    "|------------------|------------|------------------------------------------------------|\n",
    "| _Text Type_      | str        | `\"Hello World\"`                                      |\n",
    "| _Numeric Types_  | int        | 50                                                   |\n",
    "|                  | float      | 50.5                                                 |\n",
    "|                  | complex    | 10j                                                  |\n",
    "| _Sequence Types_ | list       | `[\"resistance\", \"admittance\", \"impedance\"]`          |\n",
    "|                  | tuple      | `(\"resistance\", \"admittance\",\"impedance\")`           |\n",
    "|                  | range      | `range(8)`                                           |\n",
    "| _Mapping Type_   | dict       | `{\"Element\": \"Generator\", \"Power\" : 100}`            |\n",
    "| _Boolean Type_   | bool       | True, False                                          |\n",
    "\n",
    "On this [link](https://wesmckinney.com/book/python-builtin#tut_data_structures), you have more information about the datastructure."
   ]
  },
  {
   "cell_type": "markdown",
   "metadata": {},
   "source": [
    "<details>\n",
    "<summary>Details on variable type</summary>\n",
    "\n",
    "- **Integers** are whole numbers, negative and positive.\n",
    "- **Floats** are real numbers or numbers with a decimal point.\n",
    "- **Strings** are sequences of characters.\n",
    "- **Booleans** are True or False  (1 or 0).\n",
    "- **Tuples** are ordered, immutable collections of values.\n",
    "- **dictionaries** is unordered collection of data in a key: value pair form\n",
    "- **Lists** are ordered, mutable collections of values.\n",
    "\n",
    "\n",
    "</details>"
   ]
  },
  {
   "cell_type": "markdown",
   "metadata": {},
   "source": [
    "\n",
    "The program auto define the variable type when we create it.  It's possible to manually specify it (for changing size p.ex.)."
   ]
  },
  {
   "cell_type": "code",
   "execution_count": 10,
   "metadata": {},
   "outputs": [
    {
     "name": "stdout",
     "output_type": "stream",
     "text": [
      "Classe of list_Test:\n",
      " <class 'tuple'>\n",
      "list_Test contains:\n",
      " (9, 1, 2, 3, 4, 'z', 'x', 'y', 'x')\n"
     ]
    }
   ],
   "source": [
    "# List exemple\n",
    "list_test = (9, 1, 2, 3, 4, \"z\", \"x\", \"y\", \"x\")\n",
    "print(\"Classe of list_Test:\\n\", type(list_test))\n",
    "print(\"list_Test contains:\\n\", list_test)"
   ]
  },
  {
   "cell_type": "markdown",
   "metadata": {},
   "source": [
    "In a sequence, the elements can be accessed with `[]`.\n",
    "\n",
    "Like C or most of the common programming language, Python index begin at 0, unlike Matlab, who start at 1."
   ]
  },
  {
   "cell_type": "code",
   "execution_count": 11,
   "metadata": {},
   "outputs": [
    {
     "name": "stdout",
     "output_type": "stream",
     "text": [
      "Element 3 in list_Test = 1\n"
     ]
    }
   ],
   "source": [
    "print(\"Element 3 in list_Test =\", list_test[1])"
   ]
  },
  {
   "cell_type": "markdown",
   "metadata": {},
   "source": [
    "List and Tuple are similar, but Tuple is immutable."
   ]
  },
  {
   "cell_type": "code",
   "execution_count": 12,
   "metadata": {},
   "outputs": [],
   "source": [
    "list_exemple = [\"foo\", 1, [1, 2, 4], True]"
   ]
  },
  {
   "cell_type": "code",
   "execution_count": 14,
   "metadata": {},
   "outputs": [
    {
     "name": "stdout",
     "output_type": "stream",
     "text": [
      "Type of list : <class 'str'>\n"
     ]
    }
   ],
   "source": [
    "print(\"Type of list :\", type(list_exemple[0]))"
   ]
  },
  {
   "cell_type": "code",
   "execution_count": 121,
   "metadata": {},
   "outputs": [],
   "source": [
    "# tup[2] = False"
   ]
  },
  {
   "cell_type": "markdown",
   "metadata": {},
   "source": [
    "To access value inside, the procedure is the same :"
   ]
  },
  {
   "cell_type": "code",
   "execution_count": 17,
   "metadata": {},
   "outputs": [
    {
     "data": {
      "text/plain": [
       "1"
      ]
     },
     "execution_count": 17,
     "metadata": {},
     "output_type": "execute_result"
    }
   ],
   "source": [
    "list_exemple[2][0]"
   ]
  },
  {
   "cell_type": "markdown",
   "metadata": {},
   "source": [
    "To access sub-element :"
   ]
  },
  {
   "cell_type": "code",
   "execution_count": null,
   "metadata": {},
   "outputs": [],
   "source": []
  },
  {
   "cell_type": "markdown",
   "metadata": {},
   "source": [
    "### Complex number\n",
    "A complex value can be expressed in polar coordinates or rectangular coordinates :\n",
    "\n",
    "![Impedance](plot/impedance.png)"
   ]
  },
  {
   "cell_type": "code",
   "execution_count": 25,
   "metadata": {},
   "outputs": [],
   "source": [
    "# Rectangular\n",
    "R_real = 10\n",
    "X_imag = 5\n",
    "Z = R_real + 1j * X_imag\n",
    "# Polar\n",
    "Tension_Module = 10\n",
    "Phase_Angle = 45\n",
    "U = Tension_Module * np.exp(1j * Phase_Angle)"
   ]
  },
  {
   "cell_type": "markdown",
   "metadata": {},
   "source": [
    "But Python express complex number in rectangular coordinates :"
   ]
  },
  {
   "cell_type": "code",
   "execution_count": 28,
   "metadata": {},
   "outputs": [
    {
     "name": "stdout",
     "output_type": "stream",
     "text": [
      "(5.253219888177298+8.509035245341185j)\n"
     ]
    }
   ],
   "source": [
    "print(U)"
   ]
  },
  {
   "cell_type": "markdown",
   "metadata": {},
   "source": [
    "## Manipulating NumPy array and Pandas dataframe"
   ]
  },
  {
   "cell_type": "markdown",
   "metadata": {},
   "source": [
    "For manipulating data, we can use two packages, they are similar but not exactly the same, here a small explanation of the differences [pd/np](https://www.geeksforgeeks.org/difference-between-pandas-vs-numpy/#:~:text=Difference%20between%20Pandas%20and%20Numpy)\n",
    "\n",
    "Pandas is based on NumPy and is usefull to manipulate data-structures (Tabular data) : numeric data (or not) and time series\n",
    "\n",
    "Numpy is the fundamental library of Python, it provides high-performance multidimensional arrays and tools to work with them, usefull to matrix and vector calculation."
   ]
  },
  {
   "cell_type": "markdown",
   "metadata": {},
   "source": [
    "### Numpy\n",
    "_array_ is like _list_ but faster, from NumPy library (continuous place in memory unlike _list_)\n",
    "\n",
    "Use _list_, _tuple_ or any _array-like_ to construct NumPy array"
   ]
  },
  {
   "cell_type": "code",
   "execution_count": null,
   "metadata": {},
   "outputs": [],
   "source": [
    "# Create narray with list and multiple dimension 3*2\n",
    "\n",
    "array_list = np.array(\n",
    "    [[[1,2,3],[4,5,6]],[[7,8,9],[10,11,12]],[[13,14,15],[16,17,18]]]\n",
    ")\n",
    "\n",
    "np.array(\n",
    "\n",
    "    [\n",
    "        [[1, 2, 3], [4, 5, 6]],\n",
    "        [[7, 8, 9], [10, 11, 12]],\n",
    "        [[13, 14, 15], [16, 17, 18]],\n",
    "    ]\n",
    ")\n",
    "print(#ndim)\n",
    "print(#array)"
   ]
  },
  {
   "cell_type": "code",
   "execution_count": null,
   "metadata": {},
   "outputs": [],
   "source": [
    "# Access element in array"
   ]
  },
  {
   "cell_type": "code",
   "execution_count": null,
   "metadata": {},
   "outputs": [],
   "source": [
    "# Time interval [1900 to 2020] with step 10 with numpy arange\n",
    "years = np.arange(1900, 2021, 10)\n",
    "print(years)\n",
    "\n",
    "# Population array data for Switzerland : 3297641,3708897,3870407,4042131,4233223,4692642,5327776,6180925,6319848,6713167,7184003,7825751,8640582,\n",
    "pop = "
   ]
  },
  {
   "cell_type": "markdown",
   "metadata": {},
   "source": [
    "Now I would like to visualize the population evolution that will change over time:"
   ]
  },
  {
   "cell_type": "code",
   "execution_count": null,
   "metadata": {},
   "outputs": [],
   "source": [
    "# Create a DataFrame\n",
    "df = pd.DataFrame({\"Year\": years, \"Population\": pop})\n",
    "\n",
    "# Create a line plot\n",
    "fig = px.line(\n",
    "    df,\n",
    "    x=\"Year\",\n",
    "    y=\"Population\",\n",
    "    title=\"Population Evolution of Switzerland\",\n",
    "    labels={\"Population\": \"Population\", \"Year\": \"Year\"},\n",
    ")\n",
    "\n",
    "# To format and save figures\n",
    "fig.update_layout(\n",
    "    margin=dict(l=60, r=60, t=60, b=60),\n",
    "    coloraxis_showscale=False,  # Remove the color bar\n",
    "    width=800,  # Width of the figure in pixels\n",
    "    height=500,  # Height of the figure in pixels\n",
    ")\n",
    "\n",
    "# Show the plot\n",
    "fig.show()"
   ]
  },
  {
   "cell_type": "markdown",
   "metadata": {},
   "source": [
    "### Dataframe\n",
    "A dataframe (df) contain a dictionary, it's a list of values linked to keys. The size of the df is define by the number of values (row) and keys (columns).\n",
    "\n",
    "When a df is created, an index is autocreate if we don't specify one, it contain a list from 0 to n-1 (n = number of values)."
   ]
  },
  {
   "cell_type": "code",
   "execution_count": 131,
   "metadata": {},
   "outputs": [],
   "source": [
    "# Dictionnary value : \"key 1\": [1, 2, 3, 4, 5],\"key 2\": [1, 2, 3, 4, 5],\"key 3\": 3,\"key 4\": [\"a\", \"b\", \"c\", \"D\", \"E\"],\n",
    "exemple_of_dictionnary = \n",
    "pd_exemple = pd.DataFrame(exemple_of_dictionnary)\n",
    "##Add a column year : 2010, 2011, 2012, 2013, 2014\n",
    "pd_exemple\n",
    "\n",
    "##Change a column to index year with set_index\n",
    "pd_exemple_2"
   ]
  },
  {
   "cell_type": "code",
   "execution_count": null,
   "metadata": {},
   "outputs": [],
   "source": [
    "print(\"Base index :\\n\", pd_exemple)\n",
    "print(\"Custom index :\\n\", pd_exemple_2)"
   ]
  },
  {
   "cell_type": "markdown",
   "metadata": {},
   "source": [
    "> **Note** In a df, each column is a series. A series is a one-dimensional array containing data of any type."
   ]
  },
  {
   "cell_type": "code",
   "execution_count": null,
   "metadata": {},
   "outputs": [],
   "source": [
    "# type"
   ]
  },
  {
   "cell_type": "markdown",
   "metadata": {},
   "source": [
    "#### Access to values "
   ]
  },
  {
   "cell_type": "markdown",
   "metadata": {},
   "source": [
    "Access the row value(s) with `loc`:"
   ]
  },
  {
   "cell_type": "code",
   "execution_count": null,
   "metadata": {},
   "outputs": [],
   "source": [
    "print(\"Index access to row 0:\\n\", pd_exemple)\n",
    "print(\"Index access to row 2010:\\n\", pd_exemple_2)\n",
    "print(\"Index access to multiple row 2010 to 2012 :\\n\", pd_exemple_2)"
   ]
  },
  {
   "cell_type": "markdown",
   "metadata": {},
   "source": [
    "Access to the column value(s) :"
   ]
  },
  {
   "cell_type": "code",
   "execution_count": null,
   "metadata": {},
   "outputs": [],
   "source": [
    "print(\"Access to column key 1:\\n\", pd_exemple)\n",
    "print(\"Access to column key 1:\\n\", pd_exemple_2)\n",
    "print(\"Access to column year with other methode:\\n\", pd_exemple)\n",
    "print(\"Access to multiple columns with list:\\n\", pd_exemple)"
   ]
  },
  {
   "cell_type": "markdown",
   "metadata": {},
   "source": [
    "<details>\n",
    "<summary>Name column problem</summary>\n",
    "\n",
    "The method to access a column can the name of the column, and some times the name contain space, in this case. The second method can't work, this [link](https://saturncloud.io/blog/how-to-access-pandas-columns-with-spaces-in-column-names/) explain the problem.\n",
    "\n",
    "</details>"
   ]
  },
  {
   "cell_type": "markdown",
   "metadata": {},
   "source": [
    "## Use external data files like csv"
   ]
  },
  {
   "cell_type": "markdown",
   "metadata": {},
   "source": [
    "Now I would like to use the same value but from a csv file, and only save the value from Switzerland, not for all the countries. Also charging the electricity values."
   ]
  },
  {
   "cell_type": "code",
   "execution_count": null,
   "metadata": {},
   "outputs": [],
   "source": [
    "# Go to the good workplace folder\n",
    "# os.chdir(\"..\")\n",
    "os.chdir(os.getcwd().replace(\"/tutorials\", \"\"))\n",
    "print(\"We are here\", os.getcwd())\n",
    "os.chdir(\"tutorials\")\n",
    "print(\"We are here\", os.getcwd())"
   ]
  },
  {
   "cell_type": "code",
   "execution_count": 76,
   "metadata": {},
   "outputs": [],
   "source": [
    "# Load data from our world in data\n",
    "# with read_csv method from pandas : data/population-and-demography.csv and separate with \",\"\n",
    "df_population = \n",
    "# csv : data/electricity-generation.csv\n",
    "df_electricity_generation = \n",
    "\n",
    "# Take only swiss data = row selection\n",
    "## Switzerland in Entity column in df_population\n",
    "df_swiss_population = \n",
    "## Switzerland in Entity column in df_electricity_generation\n",
    "df_swiss_electricity_generation ="
   ]
  },
  {
   "cell_type": "markdown",
   "metadata": {},
   "source": [
    "The first thing when we create a dataframe from csv file or other sources, is to check the data with `info` in `df_swiss_population`:"
   ]
  },
  {
   "cell_type": "code",
   "execution_count": null,
   "metadata": {},
   "outputs": [],
   "source": []
  },
  {
   "cell_type": "markdown",
   "metadata": {},
   "source": [
    "After we can look the df `df_swiss_population`"
   ]
  },
  {
   "cell_type": "code",
   "execution_count": null,
   "metadata": {},
   "outputs": [],
   "source": []
  },
  {
   "cell_type": "markdown",
   "metadata": {},
   "source": [
    "Change the name of a column with `rename` method (use `dict`) :"
   ]
  },
  {
   "cell_type": "code",
   "execution_count": null,
   "metadata": {},
   "outputs": [],
   "source": [
    "# Give a friendly name (\"Population\") to the population column of df_swiss_population\n",
    "df_swiss_population =\n",
    "df_swiss_population"
   ]
  },
  {
   "cell_type": "markdown",
   "metadata": {},
   "source": [
    "## Manipulate dataframe"
   ]
  },
  {
   "cell_type": "markdown",
   "metadata": {},
   "source": [
    "Then I want to merge the two dataframe :\n",
    "\n",
    "\n",
    "> **_Note_** : This manipulation reset index, but it possible manually (after .loc p.ex.)by using : ``df_data = df_data.reset_index()``"
   ]
  },
  {
   "cell_type": "code",
   "execution_count": null,
   "metadata": {},
   "outputs": [],
   "source": [
    "# Join the data from the two table, only the values present in the two column !\n",
    "## With function of pandas\n",
    "df_swiss_data_inner_join = \n",
    "## With methode of the df (linked to variable/object)\n",
    "df_inner_join_simpler = "
   ]
  },
  {
   "cell_type": "markdown",
   "metadata": {},
   "source": [
    "#### Other important part to manipulate"
   ]
  },
  {
   "cell_type": "markdown",
   "metadata": {},
   "source": [
    "To merge two df, we need a key, this is a column name present on the two df, exactly the same !\n",
    "- `on` = Define on wich **column** the dfs where merge (exactly same column's name need to be present on both), if parameter `on` is None this use the intersection of the two df\n",
    "- `how` = Define on wich **row** the dfs where merge (find the same key)\n",
    "  - `inner` = Default join, only save the key present in both df\n",
    "  - `left` = Save all the key of **left**'s df, and complete with right information (when it's possible, be carefull, you will have some `NaN` value)\n",
    "  - `outer` = Save all the key of both df, also have `NaN` value"
   ]
  },
  {
   "cell_type": "markdown",
   "metadata": {},
   "source": [
    "If the structure between the df is **exactly** the same, you can use `concat` function :"
   ]
  },
  {
   "cell_type": "code",
   "execution_count": null,
   "metadata": {},
   "outputs": [],
   "source": [
    "## df_inner_join_simpler, df_swiss_data_inner_join\n",
    "df_concat =\n",
    "df_concat"
   ]
  },
  {
   "cell_type": "markdown",
   "metadata": {},
   "source": [
    "To add information after, use the `append` method : `df1.append(df2)`"
   ]
  },
  {
   "cell_type": "markdown",
   "metadata": {},
   "source": [
    "##### NaN (NaT,...) value"
   ]
  },
  {
   "cell_type": "markdown",
   "metadata": {},
   "source": [
    "This value is a problem when you manipulate data.\n",
    "\n",
    "It's possible to solve the problem with various method :\n",
    "- Complete with constant value - `df=df.fillna(1)` \n",
    "  - Replace by the integer 1 if you have time series, that doesn't work, use `df[\"time\"].fillna(pd.Timestamp(\"20221225\"))`\n",
    "- Remove value - `df.dropna()`\n",
    "  - Remove row (parameter `axis = 0`) or column (parameter `axis = 1`) with `NaN`, by default `axis = o`\n",
    "- Interpolate value - `df=df.interpolate()`\n",
    "  - Fill with midpoint between the two cells"
   ]
  },
  {
   "cell_type": "markdown",
   "metadata": {},
   "source": [
    "## Visualisation of the data"
   ]
  },
  {
   "cell_type": "markdown",
   "metadata": {},
   "source": [
    "Now I would like to visualize the evolution of the electricity generation per capita over the time :\n",
    "    \"Electricity generation - TWh\" / \"Population\" * 1e9"
   ]
  },
  {
   "cell_type": "code",
   "execution_count": 108,
   "metadata": {},
   "outputs": [],
   "source": [
    "# The basic ways to do that\n",
    "\n",
    "# Before need to create the empty column\n",
    "nb_line = df_swiss_data_inner_join.shape[0]\n",
    "df_swiss_data_inner_join[\"Production per capita - kWh\"] = np.zeros(nb_line)\n",
    "# Range because int is not iterable (create a sequence of number)\n",
    "for i in range(df_swiss_data_inner_join.shape[0]):\n",
    "    df_swiss_data_inner_join.loc[i, \"Production per capita - kWh\"] = (\n",
    "        df_swiss_data_inner_join.loc[i, \"Electricity generation - TWh\"]\n",
    "        / df_swiss_data_inner_join.loc[i, \"Population\"]\n",
    "        * 1e9\n",
    "    )"
   ]
  },
  {
   "cell_type": "markdown",
   "metadata": {},
   "source": [
    "The second method *__and simply__* method to do that"
   ]
  },
  {
   "cell_type": "code",
   "execution_count": 83,
   "metadata": {},
   "outputs": [],
   "source": [
    "df_swiss_data_inner_join[\"Production per capita 2e method - kWh\"] ="
   ]
  },
  {
   "cell_type": "markdown",
   "metadata": {},
   "source": [
    "#### Another ways to do that"
   ]
  },
  {
   "cell_type": "markdown",
   "metadata": {},
   "source": [
    "The power of apply plus lambda function is his simplicity, we can apply a function (lambda) to multiple row in one line of code. (Small comparison of using or not [lambda](https://www.geeksforgeeks.org/python-lambda-anonymous-functions-filter-map-reduce/#:~:text=With%20lambda%20function,Without%20lambda%20function) function)\n",
    "\n"
   ]
  },
  {
   "cell_type": "code",
   "execution_count": 84,
   "metadata": {},
   "outputs": [],
   "source": [
    "df_swiss_data_inner_join[\"Production per capita 3e method - kWh\"] = (\n",
    "    df_swiss_data_inner_join.apply(\n",
    "        lambda row: row[\"Electricity generation - TWh\"] / row[\"Population\"] * 1e9,\n",
    "        axis=1,\n",
    "    )\n",
    ")"
   ]
  },
  {
   "cell_type": "markdown",
   "metadata": {},
   "source": [
    "It also possible to add a condition with an if function.\n",
    "I would like to know if the production per capita of this year is upper than the global average."
   ]
  },
  {
   "cell_type": "code",
   "execution_count": 109,
   "metadata": {},
   "outputs": [],
   "source": [
    "mean_production_per_capita = df_swiss_data_inner_join[\n",
    "    \"Production per capita - kWh\"\n",
    "].mean()\n",
    "df_swiss_data_inner_join[\"Per Capita Up than mean\"] = df_swiss_data_inner_join.apply(\n",
    "    lambda row: (\n",
    "        \"Yes\"\n",
    "        if row[\"Production per capita - kWh\"] > mean_production_per_capita\n",
    "        else \"No\"\n",
    "    ),\n",
    "    axis=1,\n",
    ")"
   ]
  },
  {
   "cell_type": "markdown",
   "metadata": {},
   "source": [
    "#### Compare the three methods"
   ]
  },
  {
   "cell_type": "markdown",
   "metadata": {},
   "source": [
    "If we only multiply column, the second method is the simplest."
   ]
  },
  {
   "cell_type": "code",
   "execution_count": null,
   "metadata": {},
   "outputs": [],
   "source": [
    "df_swiss_data_inner_join[\n",
    "    [\n",
    "        \"Year\",\n",
    "        \"Production per capita - kWh\",\n",
    "        \"Production per capita 2e method - kWh\",\n",
    "        \"Production per capita 3e method - kWh\",\n",
    "    ]\n",
    "].loc[0:4]"
   ]
  },
  {
   "cell_type": "markdown",
   "metadata": {},
   "source": [
    "#### Clean dataframe\n"
   ]
  },
  {
   "cell_type": "markdown",
   "metadata": {},
   "source": [
    "Like we can see, the dataframe can have a lots informations inside, it's possible to remove certain column, or just print the part you want.\n",
    "With ``drop`` method"
   ]
  },
  {
   "cell_type": "code",
   "execution_count": 86,
   "metadata": {},
   "outputs": [],
   "source": [
    "# One way to remove unwanted column\n",
    "df_swiss_data_clean = df_swiss_data_inner_join  ###"
   ]
  },
  {
   "cell_type": "markdown",
   "metadata": {},
   "source": [
    "### Plot information"
   ]
  },
  {
   "cell_type": "markdown",
   "metadata": {},
   "source": [
    "Now I would like to visualize the Population and the production per capita over time"
   ]
  },
  {
   "cell_type": "code",
   "execution_count": null,
   "metadata": {},
   "outputs": [],
   "source": [
    "# Create a subplot to add a secondary Y axis\n",
    "subfig = make_subplots(specs=[[{\"secondary_y\": True}]])\n",
    "# Create the line plot\n",
    "# fig=px.line(df_swiss_data_clean, x=\"Year\",y=[\"Population\",\"Production per capita - kWh\"], title=\"Production per capita and population evolution in Switzerland\", labels={\"Population\":\"Population\",\"Year\":\"Year\"})\n",
    "fig = px.line(\n",
    "    df_swiss_data_clean,\n",
    "    x=\"Year\",\n",
    "    y=\"Production per capita - kWh\",\n",
    "    title=\"Production per capita and population evolution in Switzerland\",\n",
    "    labels={\"Population\": \"Population\", \"Year\": \"Year\"},\n",
    ")\n",
    "fig2 = px.line(\n",
    "    df_swiss_data_clean,\n",
    "    x=\"Year\",\n",
    "    y=\"Population\",\n",
    "    title=\"Production per capita and population evolution in Switzerland\",\n",
    "    labels={\"Population\": \"Population\", \"Year\": \"Year\"},\n",
    ")\n",
    "fig2.update_traces(yaxis=\"y2\")\n",
    "subfig.add_traces(fig.data + fig2.data)\n",
    "# To format figure\n",
    "subfig.update_layout(margin=dict(l=60, r=60, t=60, b=60), width=800, height=500)\n",
    "\n",
    "subfig.layout.xaxis.title = \"Time\"\n",
    "subfig.layout.yaxis.title = \"Production per capita - kWh\"\n",
    "subfig.layout.yaxis2.title = \"Population\"\n",
    "# Show plot\n",
    "subfig.for_each_trace(\n",
    "    lambda t: t.update(line=dict(color=t.marker.color))\n",
    ")  # Change color of each line on the plot\n",
    "subfig.show()"
   ]
  },
  {
   "cell_type": "markdown",
   "metadata": {},
   "source": [
    "#### Chat GPT solution"
   ]
  },
  {
   "cell_type": "code",
   "execution_count": null,
   "metadata": {},
   "outputs": [],
   "source": [
    "import plotly.express as px\n",
    "import plotly.graph_objects as go\n",
    "\n",
    "# Assuming your dataframe is named df_swiss_data_inner_join\n",
    "fig = px.line(\n",
    "    df_swiss_data_inner_join,\n",
    "    x=\"Year\",\n",
    "    y=\"Population\",\n",
    "    title=\"Population and Production per Capita Over Time\",\n",
    ")\n",
    "\n",
    "# Add the secondary y-axis\n",
    "fig.add_trace(\n",
    "    go.Scatter(\n",
    "        x=df_swiss_data_inner_join[\"Year\"],\n",
    "        y=df_swiss_data_inner_join[\"Production per capita - kWh\"],\n",
    "        mode=\"lines\",\n",
    "        name=\"Production per capita - kWh\",\n",
    "        yaxis=\"y2\",\n",
    "    )\n",
    ")\n",
    "\n",
    "# Update layout to add a second y-axis\n",
    "fig.update_layout(\n",
    "    yaxis2=dict(title=\"Production per capita - kWh\", overlaying=\"y\", side=\"right\"),\n",
    "    yaxis=dict(title=\"Population\"),\n",
    "    xaxis=dict(title=\"Year\"),\n",
    "    legend=dict(x=0.1, y=0.9),\n",
    "    margin=dict(l=60, r=60, t=60, b=60),\n",
    "    width=800,\n",
    "    height=500,\n",
    ")\n",
    "\n",
    "# Display the plot\n",
    "fig.show()"
   ]
  },
  {
   "cell_type": "markdown",
   "metadata": {},
   "source": [
    "### Dictionnary of dataframe\n",
    "Pandapower make dictionnary of dataframe, here an exemple of that:"
   ]
  },
  {
   "cell_type": "code",
   "execution_count": null,
   "metadata": {},
   "outputs": [],
   "source": [
    "df1 = pd.DataFrame({\"Name\": [\"Shahroz\", \"Samad\", \"Usama\"], \"Age\": [22, 35, 58]})\n",
    "\n",
    "df2 = pd.DataFrame(\n",
    "    {\"Class\": [\"Chemistry\", \"Physics\", \"Biology\"], \"Students\": [30, 35, 40]}\n",
    ")\n",
    "\n",
    "# list of data frames\n",
    "dataframes = [df1, df2]\n",
    "\n",
    "# dictionary to save data frames\n",
    "frames = {}\n",
    "\n",
    "for key, value in enumerate(dataframes):\n",
    "    frames[key] = value  # assigning data frame from list to key in dictionary\n",
    "    print(\"key: \", key)\n",
    "    print(frames[key], \"\\n\")\n",
    "\n",
    "# access to one data frame by key\n",
    "print(\"Accessing the dataframe against key 0 \\n\", end=\"\")\n",
    "print(frames[0])\n",
    "\n",
    "# access to only column of specific data frame through dictionary\n",
    "print(\"\\nAccessing the first column of dataframe against key 1\\n\", end=\"\")\n",
    "print(frames[1][\"Class\"])"
   ]
  },
  {
   "cell_type": "markdown",
   "metadata": {},
   "source": [
    "# Pandapower"
   ]
  },
  {
   "cell_type": "code",
   "execution_count": 90,
   "metadata": {},
   "outputs": [],
   "source": [
    "import pandapower as pp"
   ]
  },
  {
   "cell_type": "markdown",
   "metadata": {},
   "source": [
    "Tuto on _Exercice Power flow 1 : Problème 1_\n",
    "\n",
    "We use the librarie pandapower : [doc_pandapower](https://pandapower.readthedocs.io/en/v2.9.0/about.html)\n",
    "\n",
    "![Problem base](plot/Ex_PF1_Pb1_Info_p.png)"
   ]
  },
  {
   "cell_type": "markdown",
   "metadata": {},
   "source": [
    "Initialize the network by creating an empty network. : ExPF1_Pb1"
   ]
  },
  {
   "cell_type": "code",
   "execution_count": 91,
   "metadata": {},
   "outputs": [],
   "source": [
    "net_ExPF1_Pb1 = "
   ]
  },
  {
   "cell_type": "markdown",
   "metadata": {},
   "source": [
    "Create all the bus"
   ]
  },
  {
   "cell_type": "code",
   "execution_count": 92,
   "metadata": {},
   "outputs": [],
   "source": [
    "# create buses\n",
    "b1 = \n",
    "b2 = \n",
    "b3 = \n",
    "b4 = \n",
    "b5 = "
   ]
  },
  {
   "cell_type": "markdown",
   "metadata": {},
   "source": [
    "Create all the loads"
   ]
  },
  {
   "cell_type": "code",
   "execution_count": 93,
   "metadata": {},
   "outputs": [],
   "source": [
    "# create load\n",
    "load_2 = \n",
    "load_3 = "
   ]
  },
  {
   "cell_type": "markdown",
   "metadata": {},
   "source": [
    "Create all the generator and the slack bus"
   ]
  },
  {
   "cell_type": "code",
   "execution_count": 94,
   "metadata": {},
   "outputs": [],
   "source": [
    "# create generator (external grid as generator to slack bus)\n",
    "gen_1 = \n",
    "# pp.create_gen(net,bus=b1,p_mw=0,vm_pu=1,min_q_mvar=-100,max_q_mvar=100,name=\"Gen 1\",slack=True)  # Generator on slack bus ??\n",
    "gen_2 = \n",
    "gen_5 = "
   ]
  },
  {
   "cell_type": "markdown",
   "metadata": {},
   "source": [
    "Create custom transformer, pure inductor."
   ]
  },
  {
   "cell_type": "code",
   "execution_count": 95,
   "metadata": {},
   "outputs": [],
   "source": [
    "# create transformer\n",
    "trafo = "
   ]
  },
  {
   "cell_type": "markdown",
   "metadata": {},
   "source": [
    "Calcul line parameter in correct units, transform from pu.\n",
    "\n",
    "Define the base"
   ]
  },
  {
   "cell_type": "code",
   "execution_count": null,
   "metadata": {},
   "outputs": [],
   "source": [
    "S_base = 100e6\n",
    "U_base = 400e3\n",
    "Z_base = U_base**2 / S_base\n",
    "Y_base = 1 / Z_base\n",
    "Ligne_value = {\n",
    "    \"R_pu\": [0.02, 0.02, 0.02, 0.04, 0.04],\n",
    "    \"X_pu\": [0.2, 0.4, 0.4, 0.4, 0.4],\n",
    "    \"B_pu\": [0.8, 0.8, 0.4, 0.4, 0.4],\n",
    "    \"Un\": [400, 400, 400, 400, 400],\n",
    "}\n",
    "DF_Ligne = pd.DataFrame(Ligne_value, index=[\"A\", \"B\", \"C\", \"D\", \"E\"])\n",
    "Z_base"
   ]
  },
  {
   "cell_type": "markdown",
   "metadata": {},
   "source": [
    "Calcul the parameters"
   ]
  },
  {
   "cell_type": "code",
   "execution_count": null,
   "metadata": {},
   "outputs": [],
   "source": [
    "rl_ohm_per_km = \n",
    "xl_ohm_per_km = \n",
    "cl_nF_per_km = \n"
   ]
  },
  {
   "cell_type": "markdown",
   "metadata": {},
   "source": [
    "Create the lines with parameters"
   ]
  },
  {
   "cell_type": "code",
   "execution_count": 98,
   "metadata": {},
   "outputs": [],
   "source": [
    "# create line\n",
    "line_a = \n",
    "line_b = \n",
    "line_c = \n",
    "line_d = \n",
    "line_e = "
   ]
  },
  {
   "cell_type": "markdown",
   "metadata": {},
   "source": [
    "Check line"
   ]
  },
  {
   "cell_type": "code",
   "execution_count": null,
   "metadata": {},
   "outputs": [],
   "source": []
  },
  {
   "cell_type": "markdown",
   "metadata": {},
   "source": [
    "Check problem"
   ]
  },
  {
   "cell_type": "code",
   "execution_count": null,
   "metadata": {},
   "outputs": [],
   "source": []
  },
  {
   "cell_type": "markdown",
   "metadata": {},
   "source": [
    "By default, we run a powerflow with NR :\n",
    "- `nr` Newton-Raphson (pypower implementation with numba accelerations)\n",
    "- `gs` gauss-seidel (pypower implementation)\n",
    "- `fdbx` fast-decoupled (pypower implementation)"
   ]
  },
  {
   "cell_type": "code",
   "execution_count": null,
   "metadata": {},
   "outputs": [],
   "source": []
  },
  {
   "cell_type": "markdown",
   "metadata": {},
   "source": [
    "Check result"
   ]
  },
  {
   "cell_type": "code",
   "execution_count": null,
   "metadata": {},
   "outputs": [],
   "source": []
  },
  {
   "cell_type": "code",
   "execution_count": null,
   "metadata": {},
   "outputs": [],
   "source": []
  },
  {
   "cell_type": "code",
   "execution_count": null,
   "metadata": {},
   "outputs": [],
   "source": []
  },
  {
   "cell_type": "code",
   "execution_count": null,
   "metadata": {},
   "outputs": [],
   "source": []
  }
 ],
 "metadata": {
  "kernelspec": {
   "display_name": "nbdev",
   "language": "python",
   "name": "python3"
  },
  "language_info": {
   "codemirror_mode": {
    "name": "ipython",
    "version": 3
   },
   "file_extension": ".py",
   "mimetype": "text/x-python",
   "name": "python",
   "nbconvert_exporter": "python",
   "pygments_lexer": "ipython3",
   "version": "3.12.4"
  }
 },
 "nbformat": 4,
 "nbformat_minor": 2
}
